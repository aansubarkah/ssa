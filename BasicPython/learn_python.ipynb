{
 "cells": [
  {
   "cell_type": "markdown",
   "metadata": {},
   "source": [
    "# Expression"
   ]
  },
  {
   "cell_type": "markdown",
   "metadata": {},
   "source": [
    "## Value and Operator"
   ]
  },
  {
   "cell_type": "code",
   "execution_count": 26,
   "metadata": {
    "execution": {
     "iopub.execute_input": "2024-09-21T04:36:16.735839Z",
     "iopub.status.busy": "2024-09-21T04:36:16.734843Z",
     "iopub.status.idle": "2024-09-21T04:36:16.757094Z",
     "shell.execute_reply": "2024-09-21T04:36:16.755086Z",
     "shell.execute_reply.started": "2024-09-21T04:36:16.735839Z"
    }
   },
   "outputs": [
    {
     "data": {
      "text/plain": [
       "10"
      ]
     },
     "execution_count": 26,
     "metadata": {},
     "output_type": "execute_result"
    }
   ],
   "source": [
    "5 + 5"
   ]
  },
  {
   "cell_type": "code",
   "execution_count": 27,
   "metadata": {
    "execution": {
     "iopub.execute_input": "2024-09-21T04:36:16.763070Z",
     "iopub.status.busy": "2024-09-21T04:36:16.762072Z",
     "iopub.status.idle": "2024-09-21T04:36:16.787910Z",
     "shell.execute_reply": "2024-09-21T04:36:16.785911Z",
     "shell.execute_reply.started": "2024-09-21T04:36:16.763070Z"
    }
   },
   "outputs": [
    {
     "data": {
      "text/plain": [
       "0"
      ]
     },
     "execution_count": 27,
     "metadata": {},
     "output_type": "execute_result"
    }
   ],
   "source": [
    "5 - 5"
   ]
  },
  {
   "cell_type": "code",
   "execution_count": 28,
   "metadata": {
    "execution": {
     "iopub.execute_input": "2024-09-21T04:36:16.789901Z",
     "iopub.status.busy": "2024-09-21T04:36:16.788904Z",
     "iopub.status.idle": "2024-09-21T04:36:16.802739Z",
     "shell.execute_reply": "2024-09-21T04:36:16.800746Z",
     "shell.execute_reply.started": "2024-09-21T04:36:16.789901Z"
    }
   },
   "outputs": [
    {
     "data": {
      "text/plain": [
       "25"
      ]
     },
     "execution_count": 28,
     "metadata": {},
     "output_type": "execute_result"
    }
   ],
   "source": [
    "5 * 5"
   ]
  },
  {
   "cell_type": "code",
   "execution_count": 29,
   "metadata": {
    "execution": {
     "iopub.execute_input": "2024-09-21T04:36:16.806104Z",
     "iopub.status.busy": "2024-09-21T04:36:16.806104Z",
     "iopub.status.idle": "2024-09-21T04:36:16.818442Z",
     "shell.execute_reply": "2024-09-21T04:36:16.816444Z",
     "shell.execute_reply.started": "2024-09-21T04:36:16.806104Z"
    }
   },
   "outputs": [
    {
     "data": {
      "text/plain": [
       "1.0"
      ]
     },
     "execution_count": 29,
     "metadata": {},
     "output_type": "execute_result"
    }
   ],
   "source": [
    "5 / 5"
   ]
  },
  {
   "cell_type": "code",
   "execution_count": 30,
   "metadata": {
    "execution": {
     "iopub.execute_input": "2024-09-21T04:36:16.824056Z",
     "iopub.status.busy": "2024-09-21T04:36:16.821434Z",
     "iopub.status.idle": "2024-09-21T04:36:16.849196Z",
     "shell.execute_reply": "2024-09-21T04:36:16.847201Z",
     "shell.execute_reply.started": "2024-09-21T04:36:16.824056Z"
    }
   },
   "outputs": [
    {
     "data": {
      "text/plain": [
       "5.0"
      ]
     },
     "execution_count": 30,
     "metadata": {},
     "output_type": "execute_result"
    }
   ],
   "source": [
    "5 * 5 / 5 + 5 - 5"
   ]
  },
  {
   "cell_type": "markdown",
   "metadata": {},
   "source": [
    "## KurKaBaTaKu"
   ]
  },
  {
   "cell_type": "code",
   "execution_count": 31,
   "metadata": {
    "execution": {
     "iopub.execute_input": "2024-09-21T04:36:16.854741Z",
     "iopub.status.busy": "2024-09-21T04:36:16.853738Z",
     "iopub.status.idle": "2024-09-21T04:36:16.880234Z",
     "shell.execute_reply": "2024-09-21T04:36:16.878242Z",
     "shell.execute_reply.started": "2024-09-21T04:36:16.854741Z"
    }
   },
   "outputs": [
    {
     "data": {
      "text/plain": [
       "-2.5"
      ]
     },
     "execution_count": 31,
     "metadata": {},
     "output_type": "execute_result"
    }
   ],
   "source": [
    "5 * 5 / (5 + 5) - 5"
   ]
  },
  {
   "cell_type": "code",
   "execution_count": 32,
   "metadata": {
    "execution": {
     "iopub.execute_input": "2024-09-21T04:36:16.883767Z",
     "iopub.status.busy": "2024-09-21T04:36:16.882741Z",
     "iopub.status.idle": "2024-09-21T04:36:16.895896Z",
     "shell.execute_reply": "2024-09-21T04:36:16.893898Z",
     "shell.execute_reply.started": "2024-09-21T04:36:16.883767Z"
    }
   },
   "outputs": [
    {
     "data": {
      "text/plain": [
       "3125"
      ]
     },
     "execution_count": 32,
     "metadata": {},
     "output_type": "execute_result"
    }
   ],
   "source": [
    "5 ** 5"
   ]
  },
  {
   "cell_type": "code",
   "execution_count": 33,
   "metadata": {
    "execution": {
     "iopub.execute_input": "2024-09-21T04:36:16.899882Z",
     "iopub.status.busy": "2024-09-21T04:36:16.898885Z",
     "iopub.status.idle": "2024-09-21T04:36:16.925274Z",
     "shell.execute_reply": "2024-09-21T04:36:16.924271Z",
     "shell.execute_reply.started": "2024-09-21T04:36:16.899882Z"
    }
   },
   "outputs": [
    {
     "data": {
      "text/plain": [
       "1"
      ]
     },
     "execution_count": 33,
     "metadata": {},
     "output_type": "execute_result"
    }
   ],
   "source": [
    "5 // 3"
   ]
  },
  {
   "cell_type": "code",
   "execution_count": 34,
   "metadata": {
    "execution": {
     "iopub.execute_input": "2024-09-21T04:36:16.929264Z",
     "iopub.status.busy": "2024-09-21T04:36:16.928266Z",
     "iopub.status.idle": "2024-09-21T04:36:16.956813Z",
     "shell.execute_reply": "2024-09-21T04:36:16.954817Z",
     "shell.execute_reply.started": "2024-09-21T04:36:16.929264Z"
    }
   },
   "outputs": [
    {
     "data": {
      "text/plain": [
       "2"
      ]
     },
     "execution_count": 34,
     "metadata": {},
     "output_type": "execute_result"
    }
   ],
   "source": [
    "12 % 5"
   ]
  },
  {
   "cell_type": "markdown",
   "metadata": {},
   "source": [
    "## Single value"
   ]
  },
  {
   "cell_type": "code",
   "execution_count": 35,
   "metadata": {
    "execution": {
     "iopub.execute_input": "2024-09-21T04:36:16.968326Z",
     "iopub.status.busy": "2024-09-21T04:36:16.966330Z",
     "iopub.status.idle": "2024-09-21T04:36:16.988350Z",
     "shell.execute_reply": "2024-09-21T04:36:16.986355Z",
     "shell.execute_reply.started": "2024-09-21T04:36:16.967328Z"
    }
   },
   "outputs": [
    {
     "data": {
      "text/plain": [
       "5"
      ]
     },
     "execution_count": 35,
     "metadata": {},
     "output_type": "execute_result"
    }
   ],
   "source": [
    "5"
   ]
  },
  {
   "cell_type": "markdown",
   "metadata": {},
   "source": [
    "# Data Type"
   ]
  },
  {
   "cell_type": "code",
   "execution_count": 36,
   "metadata": {
    "execution": {
     "iopub.execute_input": "2024-09-21T04:36:16.991345Z",
     "iopub.status.busy": "2024-09-21T04:36:16.991345Z",
     "iopub.status.idle": "2024-09-21T04:36:17.021355Z",
     "shell.execute_reply": "2024-09-21T04:36:17.017366Z",
     "shell.execute_reply.started": "2024-09-21T04:36:16.991345Z"
    }
   },
   "outputs": [
    {
     "data": {
      "text/plain": [
       "int"
      ]
     },
     "execution_count": 36,
     "metadata": {},
     "output_type": "execute_result"
    }
   ],
   "source": [
    "type(1)"
   ]
  },
  {
   "cell_type": "code",
   "execution_count": 37,
   "metadata": {
    "execution": {
     "iopub.execute_input": "2024-09-21T04:36:17.025901Z",
     "iopub.status.busy": "2024-09-21T04:36:17.024904Z",
     "iopub.status.idle": "2024-09-21T04:36:17.049919Z",
     "shell.execute_reply": "2024-09-21T04:36:17.047926Z",
     "shell.execute_reply.started": "2024-09-21T04:36:17.025901Z"
    }
   },
   "outputs": [
    {
     "data": {
      "text/plain": [
       "float"
      ]
     },
     "execution_count": 37,
     "metadata": {},
     "output_type": "execute_result"
    }
   ],
   "source": [
    "type(1.0)"
   ]
  },
  {
   "cell_type": "code",
   "execution_count": 38,
   "metadata": {
    "execution": {
     "iopub.execute_input": "2024-09-21T04:36:17.054425Z",
     "iopub.status.busy": "2024-09-21T04:36:17.053421Z",
     "iopub.status.idle": "2024-09-21T04:36:17.081080Z",
     "shell.execute_reply": "2024-09-21T04:36:17.079092Z",
     "shell.execute_reply.started": "2024-09-21T04:36:17.054425Z"
    }
   },
   "outputs": [
    {
     "data": {
      "text/plain": [
       "str"
      ]
     },
     "execution_count": 38,
     "metadata": {},
     "output_type": "execute_result"
    }
   ],
   "source": [
    "type('1')"
   ]
  },
  {
   "cell_type": "code",
   "execution_count": 39,
   "metadata": {
    "execution": {
     "iopub.execute_input": "2024-09-21T04:36:17.084642Z",
     "iopub.status.busy": "2024-09-21T04:36:17.083640Z",
     "iopub.status.idle": "2024-09-21T04:36:17.113295Z",
     "shell.execute_reply": "2024-09-21T04:36:17.110793Z",
     "shell.execute_reply.started": "2024-09-21T04:36:17.084642Z"
    }
   },
   "outputs": [
    {
     "data": {
      "text/plain": [
       "'string1string2'"
      ]
     },
     "execution_count": 39,
     "metadata": {},
     "output_type": "execute_result"
    }
   ],
   "source": [
    "'string1' + \"string2\""
   ]
  },
  {
   "cell_type": "code",
   "execution_count": 40,
   "metadata": {
    "execution": {
     "iopub.execute_input": "2024-09-21T04:36:17.116628Z",
     "iopub.status.busy": "2024-09-21T04:36:17.115629Z",
     "iopub.status.idle": "2024-09-21T04:36:17.147184Z",
     "shell.execute_reply": "2024-09-21T04:36:17.141645Z",
     "shell.execute_reply.started": "2024-09-21T04:36:17.116628Z"
    }
   },
   "outputs": [
    {
     "data": {
      "text/plain": [
       "'string15'"
      ]
     },
     "execution_count": 40,
     "metadata": {},
     "output_type": "execute_result"
    }
   ],
   "source": [
    "'string1' + '5'"
   ]
  },
  {
   "cell_type": "code",
   "execution_count": 41,
   "metadata": {
    "execution": {
     "iopub.execute_input": "2024-09-21T04:36:17.152688Z",
     "iopub.status.busy": "2024-09-21T04:36:17.150180Z",
     "iopub.status.idle": "2024-09-21T04:36:17.175262Z",
     "shell.execute_reply": "2024-09-21T04:36:17.172749Z",
     "shell.execute_reply.started": "2024-09-21T04:36:17.152688Z"
    }
   },
   "outputs": [
    {
     "data": {
      "text/plain": [
       "'string15'"
      ]
     },
     "execution_count": 41,
     "metadata": {},
     "output_type": "execute_result"
    }
   ],
   "source": [
    "'string1' + str(5)"
   ]
  },
  {
   "cell_type": "code",
   "execution_count": 42,
   "metadata": {
    "execution": {
     "iopub.execute_input": "2024-09-21T04:36:17.179255Z",
     "iopub.status.busy": "2024-09-21T04:36:17.178255Z",
     "iopub.status.idle": "2024-09-21T04:36:17.259060Z",
     "shell.execute_reply": "2024-09-21T04:36:17.250152Z",
     "shell.execute_reply.started": "2024-09-21T04:36:17.178255Z"
    }
   },
   "outputs": [
    {
     "ename": "TypeError",
     "evalue": "can only concatenate str (not \"int\") to str",
     "output_type": "error",
     "traceback": [
      "\u001b[1;31m---------------------------------------------------------------------------\u001b[0m",
      "\u001b[1;31mTypeError\u001b[0m                                 Traceback (most recent call last)",
      "Cell \u001b[1;32mIn[42], line 1\u001b[0m\n\u001b[1;32m----> 1\u001b[0m \u001b[38;5;124;43m'\u001b[39;49m\u001b[38;5;124;43mstring1\u001b[39;49m\u001b[38;5;124;43m'\u001b[39;49m\u001b[43m \u001b[49m\u001b[38;5;241;43m+\u001b[39;49m\u001b[43m \u001b[49m\u001b[38;5;241;43m5\u001b[39;49m\n",
      "\u001b[1;31mTypeError\u001b[0m: can only concatenate str (not \"int\") to str"
     ]
    }
   ],
   "source": [
    "'string1' + 5"
   ]
  },
  {
   "cell_type": "code",
   "execution_count": null,
   "metadata": {
    "execution": {
     "iopub.status.busy": "2024-09-21T04:36:17.261054Z",
     "iopub.status.idle": "2024-09-21T04:36:17.262052Z",
     "shell.execute_reply": "2024-09-21T04:36:17.261054Z",
     "shell.execute_reply.started": "2024-09-21T04:36:17.261054Z"
    }
   },
   "outputs": [],
   "source": [
    "'string1' - 5"
   ]
  },
  {
   "cell_type": "code",
   "execution_count": null,
   "metadata": {
    "execution": {
     "iopub.status.busy": "2024-09-21T04:36:17.264835Z",
     "iopub.status.idle": "2024-09-21T04:36:17.267834Z",
     "shell.execute_reply": "2024-09-21T04:36:17.266836Z",
     "shell.execute_reply.started": "2024-09-21T04:36:17.266836Z"
    }
   },
   "outputs": [],
   "source": [
    "'string1' / 5"
   ]
  },
  {
   "cell_type": "code",
   "execution_count": null,
   "metadata": {
    "execution": {
     "iopub.status.busy": "2024-09-21T04:36:17.270825Z",
     "iopub.status.idle": "2024-09-21T04:36:17.272820Z",
     "shell.execute_reply": "2024-09-21T04:36:17.272820Z",
     "shell.execute_reply.started": "2024-09-21T04:36:17.271823Z"
    }
   },
   "outputs": [],
   "source": [
    "'string1' * 5"
   ]
  },
  {
   "cell_type": "markdown",
   "metadata": {},
   "source": [
    "# Variable"
   ]
  },
  {
   "cell_type": "code",
   "execution_count": null,
   "metadata": {
    "execution": {
     "iopub.status.busy": "2024-09-21T04:36:17.275339Z",
     "iopub.status.idle": "2024-09-21T04:36:17.277331Z",
     "shell.execute_reply": "2024-09-21T04:36:17.276333Z",
     "shell.execute_reply.started": "2024-09-21T04:36:17.276333Z"
    }
   },
   "outputs": [],
   "source": [
    "rumah = 12"
   ]
  },
  {
   "cell_type": "code",
   "execution_count": null,
   "metadata": {
    "execution": {
     "iopub.status.busy": "2024-09-21T04:36:17.280336Z",
     "iopub.status.idle": "2024-09-21T04:36:17.282834Z",
     "shell.execute_reply": "2024-09-21T04:36:17.281321Z",
     "shell.execute_reply.started": "2024-09-21T04:36:17.281321Z"
    }
   },
   "outputs": [],
   "source": [
    "rumah"
   ]
  },
  {
   "cell_type": "code",
   "execution_count": null,
   "metadata": {
    "execution": {
     "iopub.status.busy": "2024-09-21T04:36:17.285878Z",
     "iopub.status.idle": "2024-09-21T04:36:17.287871Z",
     "shell.execute_reply": "2024-09-21T04:36:17.286875Z",
     "shell.execute_reply.started": "2024-09-21T04:36:17.286875Z"
    }
   },
   "outputs": [],
   "source": [
    "rumah = 12\n",
    "Rumah = 22"
   ]
  },
  {
   "cell_type": "code",
   "execution_count": null,
   "metadata": {
    "execution": {
     "iopub.status.busy": "2024-09-21T04:36:17.291861Z",
     "iopub.status.idle": "2024-09-21T04:36:17.292856Z",
     "shell.execute_reply": "2024-09-21T04:36:17.292856Z",
     "shell.execute_reply.started": "2024-09-21T04:36:17.292856Z"
    }
   },
   "outputs": [],
   "source": [
    "rumah"
   ]
  },
  {
   "cell_type": "code",
   "execution_count": null,
   "metadata": {
    "execution": {
     "iopub.status.busy": "2024-09-21T04:36:17.295983Z",
     "iopub.status.idle": "2024-09-21T04:36:17.296980Z",
     "shell.execute_reply": "2024-09-21T04:36:17.296980Z",
     "shell.execute_reply.started": "2024-09-21T04:36:17.296980Z"
    }
   },
   "outputs": [],
   "source": [
    "Rumah"
   ]
  },
  {
   "cell_type": "code",
   "execution_count": null,
   "metadata": {
    "execution": {
     "iopub.status.busy": "2024-09-21T04:36:17.299972Z",
     "iopub.status.idle": "2024-09-21T04:36:17.301967Z",
     "shell.execute_reply": "2024-09-21T04:36:17.300969Z",
     "shell.execute_reply.started": "2024-09-21T04:36:17.300969Z"
    }
   },
   "outputs": [],
   "source": [
    "rumah = 12\n",
    "rumah = 21"
   ]
  },
  {
   "cell_type": "code",
   "execution_count": null,
   "metadata": {
    "execution": {
     "iopub.status.busy": "2024-09-21T04:36:17.304417Z",
     "iopub.status.idle": "2024-09-21T04:36:17.305421Z",
     "shell.execute_reply": "2024-09-21T04:36:17.305421Z",
     "shell.execute_reply.started": "2024-09-21T04:36:17.305421Z"
    }
   },
   "outputs": [],
   "source": [
    "rumah"
   ]
  },
  {
   "cell_type": "code",
   "execution_count": null,
   "metadata": {
    "execution": {
     "iopub.status.busy": "2024-09-21T04:36:17.308414Z",
     "iopub.status.idle": "2024-09-21T04:36:17.309412Z",
     "shell.execute_reply": "2024-09-21T04:36:17.309412Z",
     "shell.execute_reply.started": "2024-09-21T04:36:17.309412Z"
    }
   },
   "outputs": [],
   "source": [
    "rumah = 12\n",
    "baru = 21"
   ]
  },
  {
   "cell_type": "code",
   "execution_count": null,
   "metadata": {
    "execution": {
     "iopub.status.busy": "2024-09-21T04:36:17.315009Z",
     "iopub.status.idle": "2024-09-21T04:36:17.316017Z",
     "shell.execute_reply": "2024-09-21T04:36:17.316017Z",
     "shell.execute_reply.started": "2024-09-21T04:36:17.316017Z"
    }
   },
   "outputs": [],
   "source": [
    "rumah + baru"
   ]
  },
  {
   "cell_type": "code",
   "execution_count": null,
   "metadata": {
    "execution": {
     "iopub.status.busy": "2024-09-21T04:36:17.321000Z",
     "iopub.status.idle": "2024-09-21T04:36:17.321996Z",
     "shell.execute_reply": "2024-09-21T04:36:17.321996Z",
     "shell.execute_reply.started": "2024-09-21T04:36:17.321996Z"
    }
   },
   "outputs": [],
   "source": [
    "rumah - baru"
   ]
  },
  {
   "cell_type": "code",
   "execution_count": null,
   "metadata": {
    "execution": {
     "iopub.status.busy": "2024-09-21T04:36:17.325510Z",
     "iopub.status.idle": "2024-09-21T04:36:17.327504Z",
     "shell.execute_reply": "2024-09-21T04:36:17.326507Z",
     "shell.execute_reply.started": "2024-09-21T04:36:17.326507Z"
    }
   },
   "outputs": [],
   "source": [
    "rumah * baru"
   ]
  },
  {
   "cell_type": "code",
   "execution_count": null,
   "metadata": {
    "execution": {
     "iopub.status.busy": "2024-09-21T04:36:17.331494Z",
     "iopub.status.idle": "2024-09-21T04:36:17.333006Z",
     "shell.execute_reply": "2024-09-21T04:36:17.331494Z",
     "shell.execute_reply.started": "2024-09-21T04:36:17.331494Z"
    }
   },
   "outputs": [],
   "source": [
    "rumah / baru"
   ]
  },
  {
   "cell_type": "code",
   "execution_count": null,
   "metadata": {
    "execution": {
     "iopub.status.busy": "2024-09-21T04:36:17.335045Z",
     "iopub.status.idle": "2024-09-21T04:36:17.337041Z",
     "shell.execute_reply": "2024-09-21T04:36:17.337041Z",
     "shell.execute_reply.started": "2024-09-21T04:36:17.337041Z"
    }
   },
   "outputs": [],
   "source": [
    "rumah, baru"
   ]
  },
  {
   "cell_type": "code",
   "execution_count": null,
   "metadata": {
    "execution": {
     "iopub.status.busy": "2024-09-21T04:36:17.342027Z",
     "iopub.status.idle": "2024-09-21T04:36:17.343534Z",
     "shell.execute_reply": "2024-09-21T04:36:17.343025Z",
     "shell.execute_reply.started": "2024-09-21T04:36:17.343025Z"
    }
   },
   "outputs": [],
   "source": [
    "rumah_lagi = rumah + baru"
   ]
  },
  {
   "cell_type": "code",
   "execution_count": null,
   "metadata": {
    "execution": {
     "iopub.status.busy": "2024-09-21T04:36:17.348534Z",
     "iopub.status.idle": "2024-09-21T04:36:17.349531Z",
     "shell.execute_reply": "2024-09-21T04:36:17.349531Z",
     "shell.execute_reply.started": "2024-09-21T04:36:17.349531Z"
    }
   },
   "outputs": [],
   "source": [
    "rumah_lagi"
   ]
  },
  {
   "cell_type": "code",
   "execution_count": null,
   "metadata": {
    "execution": {
     "iopub.status.busy": "2024-09-21T04:36:17.353035Z",
     "iopub.status.idle": "2024-09-21T04:36:17.355072Z",
     "shell.execute_reply": "2024-09-21T04:36:17.354068Z",
     "shell.execute_reply.started": "2024-09-21T04:36:17.354068Z"
    }
   },
   "outputs": [],
   "source": [
    "rumah = 11"
   ]
  },
  {
   "cell_type": "code",
   "execution_count": null,
   "metadata": {
    "execution": {
     "iopub.status.busy": "2024-09-21T04:36:17.358066Z",
     "iopub.status.idle": "2024-09-21T04:36:17.361059Z",
     "shell.execute_reply": "2024-09-21T04:36:17.360060Z",
     "shell.execute_reply.started": "2024-09-21T04:36:17.360060Z"
    }
   },
   "outputs": [],
   "source": [
    "rumah_lagi"
   ]
  },
  {
   "cell_type": "markdown",
   "metadata": {},
   "source": [
    "## Tipe Data"
   ]
  },
  {
   "cell_type": "code",
   "execution_count": null,
   "metadata": {
    "execution": {
     "iopub.status.busy": "2024-09-21T04:36:17.364601Z",
     "iopub.status.idle": "2024-09-21T04:36:17.365596Z",
     "shell.execute_reply": "2024-09-21T04:36:17.365596Z",
     "shell.execute_reply.started": "2024-09-21T04:36:17.365596Z"
    }
   },
   "outputs": [],
   "source": [
    "lorem = 1"
   ]
  },
  {
   "cell_type": "code",
   "execution_count": null,
   "metadata": {
    "execution": {
     "iopub.status.busy": "2024-09-21T04:36:17.368588Z",
     "iopub.status.idle": "2024-09-21T04:36:17.370583Z",
     "shell.execute_reply": "2024-09-21T04:36:17.369585Z",
     "shell.execute_reply.started": "2024-09-21T04:36:17.369585Z"
    }
   },
   "outputs": [],
   "source": [
    "lorem"
   ]
  },
  {
   "cell_type": "code",
   "execution_count": null,
   "metadata": {
    "execution": {
     "iopub.status.busy": "2024-09-21T04:36:17.375145Z",
     "iopub.status.idle": "2024-09-21T04:36:17.376144Z",
     "shell.execute_reply": "2024-09-21T04:36:17.376144Z",
     "shell.execute_reply.started": "2024-09-21T04:36:17.376144Z"
    }
   },
   "outputs": [],
   "source": [
    "ipsum = 1.3"
   ]
  },
  {
   "cell_type": "code",
   "execution_count": null,
   "metadata": {
    "execution": {
     "iopub.status.busy": "2024-09-21T04:36:17.379133Z",
     "iopub.status.idle": "2024-09-21T04:36:17.380130Z",
     "shell.execute_reply": "2024-09-21T04:36:17.380130Z",
     "shell.execute_reply.started": "2024-09-21T04:36:17.379133Z"
    }
   },
   "outputs": [],
   "source": [
    "ipsum"
   ]
  },
  {
   "cell_type": "code",
   "execution_count": null,
   "metadata": {
    "execution": {
     "iopub.status.busy": "2024-09-21T04:36:17.382641Z",
     "iopub.status.idle": "2024-09-21T04:36:17.384891Z",
     "shell.execute_reply": "2024-09-21T04:36:17.383679Z",
     "shell.execute_reply.started": "2024-09-21T04:36:17.383679Z"
    }
   },
   "outputs": [],
   "source": [
    "dolor = 'lorem ipsum dolor'"
   ]
  },
  {
   "cell_type": "code",
   "execution_count": null,
   "metadata": {
    "execution": {
     "iopub.status.busy": "2024-09-21T04:36:17.387889Z",
     "iopub.status.idle": "2024-09-21T04:36:17.390882Z",
     "shell.execute_reply": "2024-09-21T04:36:17.389885Z",
     "shell.execute_reply.started": "2024-09-21T04:36:17.389885Z"
    }
   },
   "outputs": [],
   "source": [
    "dolor"
   ]
  },
  {
   "cell_type": "code",
   "execution_count": null,
   "metadata": {
    "execution": {
     "iopub.status.busy": "2024-09-21T04:36:17.395365Z",
     "iopub.status.idle": "2024-09-21T04:36:17.396364Z",
     "shell.execute_reply": "2024-09-21T04:36:17.395365Z",
     "shell.execute_reply.started": "2024-09-21T04:36:17.395365Z"
    }
   },
   "outputs": [],
   "source": [
    "li = [1, 2, 3, 4, 5]"
   ]
  },
  {
   "cell_type": "code",
   "execution_count": null,
   "metadata": {
    "execution": {
     "iopub.status.busy": "2024-09-21T04:36:17.400352Z",
     "iopub.status.idle": "2024-09-21T04:36:17.401350Z",
     "shell.execute_reply": "2024-09-21T04:36:17.401350Z",
     "shell.execute_reply.started": "2024-09-21T04:36:17.400352Z"
    }
   },
   "outputs": [],
   "source": [
    "li"
   ]
  },
  {
   "cell_type": "code",
   "execution_count": null,
   "metadata": {
    "execution": {
     "iopub.status.busy": "2024-09-21T04:36:17.405892Z",
     "iopub.status.idle": "2024-09-21T04:36:17.407885Z",
     "shell.execute_reply": "2024-09-21T04:36:17.406889Z",
     "shell.execute_reply.started": "2024-09-21T04:36:17.406889Z"
    }
   },
   "outputs": [],
   "source": [
    "li[0]"
   ]
  },
  {
   "cell_type": "code",
   "execution_count": null,
   "metadata": {
    "execution": {
     "iopub.status.busy": "2024-09-21T04:36:17.411875Z",
     "iopub.status.idle": "2024-09-21T04:36:17.413380Z",
     "shell.execute_reply": "2024-09-21T04:36:17.413380Z",
     "shell.execute_reply.started": "2024-09-21T04:36:17.412873Z"
    }
   },
   "outputs": [],
   "source": [
    "di = {'nama': 'Andi', 'umur': 21}"
   ]
  },
  {
   "cell_type": "code",
   "execution_count": null,
   "metadata": {
    "execution": {
     "iopub.status.busy": "2024-09-21T04:36:17.417381Z",
     "iopub.status.idle": "2024-09-21T04:36:17.418379Z",
     "shell.execute_reply": "2024-09-21T04:36:17.418379Z",
     "shell.execute_reply.started": "2024-09-21T04:36:17.417381Z"
    }
   },
   "outputs": [],
   "source": [
    "di"
   ]
  },
  {
   "cell_type": "code",
   "execution_count": null,
   "metadata": {
    "execution": {
     "iopub.status.busy": "2024-09-21T04:36:17.422883Z",
     "iopub.status.idle": "2024-09-21T04:36:17.424928Z",
     "shell.execute_reply": "2024-09-21T04:36:17.423925Z",
     "shell.execute_reply.started": "2024-09-21T04:36:17.423925Z"
    }
   },
   "outputs": [],
   "source": [
    "di['nama']"
   ]
  },
  {
   "cell_type": "code",
   "execution_count": null,
   "metadata": {
    "execution": {
     "iopub.status.busy": "2024-09-21T04:36:17.428918Z",
     "iopub.status.idle": "2024-09-21T04:36:17.431910Z",
     "shell.execute_reply": "2024-09-21T04:36:17.430915Z",
     "shell.execute_reply.started": "2024-09-21T04:36:17.430915Z"
    }
   },
   "outputs": [],
   "source": [
    "di['umur']"
   ]
  },
  {
   "cell_type": "markdown",
   "metadata": {},
   "source": [
    "# Conditional"
   ]
  },
  {
   "cell_type": "markdown",
   "metadata": {},
   "source": [
    "## IF"
   ]
  },
  {
   "cell_type": "markdown",
   "metadata": {},
   "source": [
    "## ELSE"
   ]
  },
  {
   "cell_type": "markdown",
   "metadata": {},
   "source": [
    "## ELIF"
   ]
  },
  {
   "cell_type": "markdown",
   "metadata": {},
   "source": [
    "# Iteration"
   ]
  },
  {
   "cell_type": "markdown",
   "metadata": {},
   "source": [
    "## FOR"
   ]
  },
  {
   "cell_type": "markdown",
   "metadata": {},
   "source": [
    "## WHILE"
   ]
  },
  {
   "cell_type": "markdown",
   "metadata": {},
   "source": [
    "# Exception"
   ]
  },
  {
   "cell_type": "code",
   "execution_count": null,
   "metadata": {},
   "outputs": [],
   "source": []
  },
  {
   "cell_type": "markdown",
   "metadata": {},
   "source": [
    "# LIST/Array"
   ]
  },
  {
   "cell_type": "markdown",
   "metadata": {},
   "source": [
    "## Buat List"
   ]
  },
  {
   "cell_type": "markdown",
   "metadata": {},
   "source": [
    "## Subset/Slicing"
   ]
  },
  {
   "cell_type": "markdown",
   "metadata": {},
   "source": [
    "# Dictionaries"
   ]
  },
  {
   "cell_type": "markdown",
   "metadata": {},
   "source": [
    "## Buat Dict"
   ]
  },
  {
   "cell_type": "markdown",
   "metadata": {},
   "source": [
    "## Jadikan Tabel"
   ]
  },
  {
   "cell_type": "markdown",
   "metadata": {},
   "source": [
    "### IMPORT"
   ]
  },
  {
   "cell_type": "markdown",
   "metadata": {},
   "source": [
    "# Baca/Tulis File"
   ]
  },
  {
   "cell_type": "markdown",
   "metadata": {},
   "source": [
    "## Static Path"
   ]
  },
  {
   "cell_type": "markdown",
   "metadata": {},
   "source": [
    "## Dynamic Path"
   ]
  },
  {
   "cell_type": "markdown",
   "metadata": {},
   "source": [
    "## os.path.join"
   ]
  },
  {
   "cell_type": "markdown",
   "metadata": {},
   "source": [
    "# Function"
   ]
  },
  {
   "cell_type": "markdown",
   "metadata": {},
   "source": [
    "## Fungsi sederhana"
   ]
  },
  {
   "cell_type": "markdown",
   "metadata": {},
   "source": [
    "## Return"
   ]
  },
  {
   "cell_type": "markdown",
   "metadata": {},
   "source": [
    "## Parameter"
   ]
  },
  {
   "cell_type": "markdown",
   "metadata": {},
   "source": [
    "# Class"
   ]
  },
  {
   "cell_type": "code",
   "execution_count": null,
   "metadata": {},
   "outputs": [],
   "source": []
  },
  {
   "cell_type": "code",
   "execution_count": null,
   "metadata": {},
   "outputs": [],
   "source": []
  },
  {
   "cell_type": "code",
   "execution_count": null,
   "metadata": {},
   "outputs": [],
   "source": []
  },
  {
   "cell_type": "code",
   "execution_count": null,
   "metadata": {},
   "outputs": [],
   "source": []
  },
  {
   "cell_type": "code",
   "execution_count": null,
   "metadata": {},
   "outputs": [],
   "source": []
  },
  {
   "cell_type": "code",
   "execution_count": null,
   "metadata": {},
   "outputs": [],
   "source": []
  },
  {
   "cell_type": "code",
   "execution_count": null,
   "metadata": {},
   "outputs": [],
   "source": []
  },
  {
   "cell_type": "code",
   "execution_count": null,
   "metadata": {},
   "outputs": [],
   "source": []
  },
  {
   "cell_type": "code",
   "execution_count": null,
   "metadata": {},
   "outputs": [],
   "source": []
  }
 ],
 "metadata": {
  "kernelspec": {
   "display_name": "basangdata12",
   "language": "python",
   "name": "python3"
  },
  "language_info": {
   "codemirror_mode": {
    "name": "ipython",
    "version": 3
   },
   "file_extension": ".py",
   "mimetype": "text/x-python",
   "name": "python",
   "nbconvert_exporter": "python",
   "pygments_lexer": "ipython3",
   "version": "3.12.2"
  }
 },
 "nbformat": 4,
 "nbformat_minor": 4
}
