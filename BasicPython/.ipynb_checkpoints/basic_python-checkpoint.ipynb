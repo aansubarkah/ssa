{
 "cells": [
  {
   "cell_type": "code",
   "execution_count": 6,
   "id": "9a06080f-c347-459d-8a57-dc2b8ceeaf21",
   "metadata": {
    "execution": {
     "iopub.execute_input": "2024-09-21T02:31:00.325122Z",
     "iopub.status.busy": "2024-09-21T02:31:00.324138Z",
     "iopub.status.idle": "2024-09-21T02:31:00.345866Z",
     "shell.execute_reply": "2024-09-21T02:31:00.344868Z",
     "shell.execute_reply.started": "2024-09-21T02:31:00.325122Z"
    }
   },
   "outputs": [
    {
     "data": {
      "text/plain": [
       "10"
      ]
     },
     "execution_count": 6,
     "metadata": {},
     "output_type": "execute_result"
    }
   ],
   "source": [
    "5+5"
   ]
  },
  {
   "cell_type": "code",
   "execution_count": 4,
   "id": "84ec363c-9584-429e-81bc-85778770404a",
   "metadata": {
    "execution": {
     "iopub.execute_input": "2024-09-21T02:27:13.585309Z",
     "iopub.status.busy": "2024-09-21T02:27:13.584312Z",
     "iopub.status.idle": "2024-09-21T02:27:13.594855Z",
     "shell.execute_reply": "2024-09-21T02:27:13.593857Z",
     "shell.execute_reply.started": "2024-09-21T02:27:13.585309Z"
    }
   },
   "outputs": [
    {
     "name": "stdout",
     "output_type": "stream",
     "text": [
      "halo\n"
     ]
    }
   ],
   "source": [
    "5-9\n",
    "\n",
    "print('halo')"
   ]
  },
  {
   "cell_type": "code",
   "execution_count": 2,
   "id": "41e5afde-3aaa-4247-bfb1-54c1c061892a",
   "metadata": {
    "execution": {
     "iopub.execute_input": "2024-09-21T02:26:47.334370Z",
     "iopub.status.busy": "2024-09-21T02:26:47.333374Z",
     "iopub.status.idle": "2024-09-21T02:26:47.358989Z",
     "shell.execute_reply": "2024-09-21T02:26:47.357477Z",
     "shell.execute_reply.started": "2024-09-21T02:26:47.334370Z"
    }
   },
   "outputs": [
    {
     "data": {
      "text/plain": [
       "14"
      ]
     },
     "execution_count": 2,
     "metadata": {},
     "output_type": "execute_result"
    }
   ],
   "source": [
    "5+9"
   ]
  },
  {
   "cell_type": "markdown",
   "id": "f4505878-2875-4abe-ab56-7decb29886e3",
   "metadata": {},
   "source": [
    "# ini adalah hasil 5 + 9"
   ]
  },
  {
   "cell_type": "markdown",
   "id": "c8c8a158-f610-49b3-b15a-e0883d56d048",
   "metadata": {},
   "source": [
    "# Gunakan hanya tahun 2024"
   ]
  },
  {
   "cell_type": "markdown",
   "id": "e542726e-a30d-46b1-bff5-d2b7acbd2756",
   "metadata": {},
   "source": [
    "# Ini judul"
   ]
  },
  {
   "cell_type": "markdown",
   "id": "d865cd28-c048-46de-90ff-0a0f80a9e717",
   "metadata": {},
   "source": [
    "## _Ini sub judul_"
   ]
  },
  {
   "cell_type": "markdown",
   "id": "d3dbadf7-fd97-4cf1-b808-7c95fdf386ce",
   "metadata": {},
   "source": [
    "# Variable"
   ]
  },
  {
   "cell_type": "code",
   "execution_count": 7,
   "id": "3169158e-2115-4096-935a-2895a743a9d5",
   "metadata": {
    "execution": {
     "iopub.execute_input": "2024-09-21T02:31:18.971083Z",
     "iopub.status.busy": "2024-09-21T02:31:18.970103Z",
     "iopub.status.idle": "2024-09-21T02:31:18.980448Z",
     "shell.execute_reply": "2024-09-21T02:31:18.979061Z",
     "shell.execute_reply.started": "2024-09-21T02:31:18.971083Z"
    }
   },
   "outputs": [],
   "source": [
    "ini_adalah_variable = 5"
   ]
  },
  {
   "cell_type": "code",
   "execution_count": 8,
   "id": "46444b72-be47-4ea5-89a5-e95fd74dc63d",
   "metadata": {
    "execution": {
     "iopub.execute_input": "2024-09-21T02:31:56.870782Z",
     "iopub.status.busy": "2024-09-21T02:31:56.869784Z",
     "iopub.status.idle": "2024-09-21T02:31:56.893801Z",
     "shell.execute_reply": "2024-09-21T02:31:56.891807Z",
     "shell.execute_reply.started": "2024-09-21T02:31:56.869784Z"
    }
   },
   "outputs": [
    {
     "data": {
      "text/plain": [
       "5"
      ]
     },
     "execution_count": 8,
     "metadata": {},
     "output_type": "execute_result"
    }
   ],
   "source": [
    "ini_adalah_variable"
   ]
  },
  {
   "cell_type": "code",
   "execution_count": 9,
   "id": "1bae9734-be72-4757-b711-9346c3a3df64",
   "metadata": {
    "execution": {
     "iopub.execute_input": "2024-09-21T02:32:20.397358Z",
     "iopub.status.busy": "2024-09-21T02:32:20.396360Z",
     "iopub.status.idle": "2024-09-21T02:32:20.406915Z",
     "shell.execute_reply": "2024-09-21T02:32:20.405918Z",
     "shell.execute_reply.started": "2024-09-21T02:32:20.397358Z"
    }
   },
   "outputs": [],
   "source": [
    "ini_var2 = 10"
   ]
  },
  {
   "cell_type": "code",
   "execution_count": 10,
   "id": "21cb7523-641c-4a73-841b-aebf92da34f1",
   "metadata": {
    "execution": {
     "iopub.execute_input": "2024-09-21T02:32:28.811758Z",
     "iopub.status.busy": "2024-09-21T02:32:28.810761Z",
     "iopub.status.idle": "2024-09-21T02:32:28.822164Z",
     "shell.execute_reply": "2024-09-21T02:32:28.821169Z",
     "shell.execute_reply.started": "2024-09-21T02:32:28.811758Z"
    }
   },
   "outputs": [
    {
     "data": {
      "text/plain": [
       "15"
      ]
     },
     "execution_count": 10,
     "metadata": {},
     "output_type": "execute_result"
    }
   ],
   "source": [
    "ini_adalah_variable + ini_var2"
   ]
  },
  {
   "cell_type": "code",
   "execution_count": 11,
   "id": "a1ba6120-fea8-4ddd-8dc6-74385bd4da9d",
   "metadata": {
    "execution": {
     "iopub.execute_input": "2024-09-21T02:33:38.301604Z",
     "iopub.status.busy": "2024-09-21T02:33:38.300607Z",
     "iopub.status.idle": "2024-09-21T02:33:38.312090Z",
     "shell.execute_reply": "2024-09-21T02:33:38.310092Z",
     "shell.execute_reply.started": "2024-09-21T02:33:38.301604Z"
    }
   },
   "outputs": [],
   "source": [
    "ini_var1 = 5\n",
    "ini_var1 = 10"
   ]
  },
  {
   "cell_type": "code",
   "execution_count": 12,
   "id": "bb4f6442-eab3-4485-a846-066ac04468d2",
   "metadata": {
    "execution": {
     "iopub.execute_input": "2024-09-21T02:33:43.886019Z",
     "iopub.status.busy": "2024-09-21T02:33:43.886019Z",
     "iopub.status.idle": "2024-09-21T02:33:43.895536Z",
     "shell.execute_reply": "2024-09-21T02:33:43.894538Z",
     "shell.execute_reply.started": "2024-09-21T02:33:43.886019Z"
    }
   },
   "outputs": [
    {
     "data": {
      "text/plain": [
       "10"
      ]
     },
     "execution_count": 12,
     "metadata": {},
     "output_type": "execute_result"
    }
   ],
   "source": [
    "ini_var1"
   ]
  },
  {
   "cell_type": "code",
   "execution_count": 14,
   "id": "7122b83f-8b57-4777-9a97-541832c7d8ee",
   "metadata": {
    "execution": {
     "iopub.execute_input": "2024-09-21T02:34:45.678557Z",
     "iopub.status.busy": "2024-09-21T02:34:45.677563Z",
     "iopub.status.idle": "2024-09-21T02:34:45.686637Z",
     "shell.execute_reply": "2024-09-21T02:34:45.685672Z",
     "shell.execute_reply.started": "2024-09-21T02:34:45.678557Z"
    }
   },
   "outputs": [
    {
     "data": {
      "text/plain": [
       "True"
      ]
     },
     "execution_count": 14,
     "metadata": {},
     "output_type": "execute_result"
    }
   ],
   "source": [
    "5 == 5"
   ]
  },
  {
   "cell_type": "code",
   "execution_count": 15,
   "id": "cc87729c-4a23-4f36-a808-61a0c5ca8876",
   "metadata": {
    "execution": {
     "iopub.execute_input": "2024-09-21T02:35:17.979459Z",
     "iopub.status.busy": "2024-09-21T02:35:17.978440Z",
     "iopub.status.idle": "2024-09-21T02:35:17.986927Z",
     "shell.execute_reply": "2024-09-21T02:35:17.985930Z",
     "shell.execute_reply.started": "2024-09-21T02:35:17.979459Z"
    }
   },
   "outputs": [
    {
     "ename": "SyntaxError",
     "evalue": "invalid syntax (403379890.py, line 1)",
     "output_type": "error",
     "traceback": [
      "\u001b[1;36m  Cell \u001b[1;32mIn[15], line 1\u001b[1;36m\u001b[0m\n\u001b[1;33m    var 1 = 5\u001b[0m\n\u001b[1;37m        ^\u001b[0m\n\u001b[1;31mSyntaxError\u001b[0m\u001b[1;31m:\u001b[0m invalid syntax\n"
     ]
    }
   ],
   "source": [
    "var 1 = 5"
   ]
  },
  {
   "cell_type": "code",
   "execution_count": 16,
   "id": "459977e6-9ef6-4aee-b60b-b0efa113e19e",
   "metadata": {
    "execution": {
     "iopub.execute_input": "2024-09-21T02:35:26.384862Z",
     "iopub.status.busy": "2024-09-21T02:35:26.383866Z",
     "iopub.status.idle": "2024-09-21T02:35:26.393398Z",
     "shell.execute_reply": "2024-09-21T02:35:26.392402Z",
     "shell.execute_reply.started": "2024-09-21T02:35:26.384862Z"
    }
   },
   "outputs": [],
   "source": [
    "var1 = 5"
   ]
  },
  {
   "cell_type": "code",
   "execution_count": 17,
   "id": "8d6a2d79-26a7-46d8-8918-1506c7cf352b",
   "metadata": {
    "execution": {
     "iopub.execute_input": "2024-09-21T02:35:29.037013Z",
     "iopub.status.busy": "2024-09-21T02:35:29.036019Z",
     "iopub.status.idle": "2024-09-21T02:35:29.059179Z",
     "shell.execute_reply": "2024-09-21T02:35:29.057675Z",
     "shell.execute_reply.started": "2024-09-21T02:35:29.037013Z"
    }
   },
   "outputs": [
    {
     "data": {
      "text/plain": [
       "5"
      ]
     },
     "execution_count": 17,
     "metadata": {},
     "output_type": "execute_result"
    }
   ],
   "source": [
    "var1"
   ]
  },
  {
   "cell_type": "code",
   "execution_count": 18,
   "id": "db14e86c-28af-48fe-9491-0c9b04da8d70",
   "metadata": {
    "execution": {
     "iopub.execute_input": "2024-09-21T02:35:39.366663Z",
     "iopub.status.busy": "2024-09-21T02:35:39.365665Z",
     "iopub.status.idle": "2024-09-21T02:35:39.375162Z",
     "shell.execute_reply": "2024-09-21T02:35:39.374197Z",
     "shell.execute_reply.started": "2024-09-21T02:35:39.366663Z"
    }
   },
   "outputs": [
    {
     "ename": "SyntaxError",
     "evalue": "invalid syntax (4231524775.py, line 1)",
     "output_type": "error",
     "traceback": [
      "\u001b[1;36m  Cell \u001b[1;32mIn[18], line 1\u001b[1;36m\u001b[0m\n\u001b[1;33m    1var = 5\u001b[0m\n\u001b[1;37m     ^\u001b[0m\n\u001b[1;31mSyntaxError\u001b[0m\u001b[1;31m:\u001b[0m invalid syntax\n"
     ]
    }
   ],
   "source": [
    "1var = 5"
   ]
  },
  {
   "cell_type": "markdown",
   "id": "9498da85-76da-45b4-a258-509035bc2c91",
   "metadata": {},
   "source": [
    "## String"
   ]
  },
  {
   "cell_type": "code",
   "execution_count": 19,
   "id": "c3af4998-5012-40ea-936e-541eb88a8542",
   "metadata": {
    "execution": {
     "iopub.execute_input": "2024-09-21T02:36:41.434662Z",
     "iopub.status.busy": "2024-09-21T02:36:41.433666Z",
     "iopub.status.idle": "2024-09-21T02:36:41.442508Z",
     "shell.execute_reply": "2024-09-21T02:36:41.441510Z",
     "shell.execute_reply.started": "2024-09-21T02:36:41.434662Z"
    }
   },
   "outputs": [],
   "source": [
    "var1 = 'ini adalah variabel 1'"
   ]
  },
  {
   "cell_type": "code",
   "execution_count": 20,
   "id": "e52ae475-2b80-4780-99ba-b9d1ec2d852a",
   "metadata": {
    "execution": {
     "iopub.execute_input": "2024-09-21T02:36:44.067276Z",
     "iopub.status.busy": "2024-09-21T02:36:44.066279Z",
     "iopub.status.idle": "2024-09-21T02:36:44.075780Z",
     "shell.execute_reply": "2024-09-21T02:36:44.074815Z",
     "shell.execute_reply.started": "2024-09-21T02:36:44.067276Z"
    }
   },
   "outputs": [
    {
     "data": {
      "text/plain": [
       "'ini adalah variabel 1'"
      ]
     },
     "execution_count": 20,
     "metadata": {},
     "output_type": "execute_result"
    }
   ],
   "source": [
    "var1"
   ]
  },
  {
   "cell_type": "code",
   "execution_count": 23,
   "id": "272a7ed7-08be-47a9-971e-4bda24ebc660",
   "metadata": {
    "execution": {
     "iopub.execute_input": "2024-09-21T02:37:45.588391Z",
     "iopub.status.busy": "2024-09-21T02:37:45.588391Z",
     "iopub.status.idle": "2024-09-21T02:37:45.600392Z",
     "shell.execute_reply": "2024-09-21T02:37:45.598391Z",
     "shell.execute_reply.started": "2024-09-21T02:37:45.588391Z"
    }
   },
   "outputs": [
    {
     "data": {
      "text/plain": [
       "'INI ADALAH VARIABEL 1'"
      ]
     },
     "execution_count": 23,
     "metadata": {},
     "output_type": "execute_result"
    }
   ],
   "source": [
    "var1.upper()"
   ]
  },
  {
   "cell_type": "code",
   "execution_count": 22,
   "id": "875bdbe6-309a-4bbb-b66b-095049260eba",
   "metadata": {
    "execution": {
     "iopub.execute_input": "2024-09-21T02:37:33.949747Z",
     "iopub.status.busy": "2024-09-21T02:37:33.948744Z",
     "iopub.status.idle": "2024-09-21T02:37:36.437448Z",
     "shell.execute_reply": "2024-09-21T02:37:36.433454Z",
     "shell.execute_reply.started": "2024-09-21T02:37:33.949747Z"
    }
   },
   "outputs": [
    {
     "ename": "AttributeError",
     "evalue": "'str' object has no attribute 'UPPER'",
     "output_type": "error",
     "traceback": [
      "\u001b[1;31m---------------------------------------------------------------------------\u001b[0m",
      "\u001b[1;31mAttributeError\u001b[0m                            Traceback (most recent call last)",
      "Cell \u001b[1;32mIn[22], line 1\u001b[0m\n\u001b[1;32m----> 1\u001b[0m \u001b[43mvar1\u001b[49m\u001b[38;5;241;43m.\u001b[39;49m\u001b[43mUPPER\u001b[49m()\n",
      "\u001b[1;31mAttributeError\u001b[0m: 'str' object has no attribute 'UPPER'"
     ]
    }
   ],
   "source": [
    "var1.UPPER()"
   ]
  },
  {
   "cell_type": "code",
   "execution_count": 24,
   "id": "389035b6-69eb-4a68-a57c-cee23a8316d3",
   "metadata": {
    "execution": {
     "iopub.execute_input": "2024-09-21T02:37:59.780124Z",
     "iopub.status.busy": "2024-09-21T02:37:59.778618Z",
     "iopub.status.idle": "2024-09-21T02:37:59.788621Z",
     "shell.execute_reply": "2024-09-21T02:37:59.787110Z",
     "shell.execute_reply.started": "2024-09-21T02:37:59.779122Z"
    }
   },
   "outputs": [],
   "source": [
    "var2 = 'INI ADALAH VAR 2'"
   ]
  },
  {
   "cell_type": "code",
   "execution_count": 25,
   "id": "f9ee566d-990e-4037-8a11-847ea22344d8",
   "metadata": {
    "execution": {
     "iopub.execute_input": "2024-09-21T02:38:07.792699Z",
     "iopub.status.busy": "2024-09-21T02:38:07.791703Z",
     "iopub.status.idle": "2024-09-21T02:38:07.800982Z",
     "shell.execute_reply": "2024-09-21T02:38:07.799988Z",
     "shell.execute_reply.started": "2024-09-21T02:38:07.792699Z"
    }
   },
   "outputs": [
    {
     "data": {
      "text/plain": [
       "'ini adalah var 2'"
      ]
     },
     "execution_count": 25,
     "metadata": {},
     "output_type": "execute_result"
    }
   ],
   "source": [
    "var2.lower()"
   ]
  },
  {
   "cell_type": "code",
   "execution_count": 27,
   "id": "fd445185-b10d-4e96-9228-78727ef213ca",
   "metadata": {
    "execution": {
     "iopub.execute_input": "2024-09-21T02:38:36.055451Z",
     "iopub.status.busy": "2024-09-21T02:38:36.054454Z",
     "iopub.status.idle": "2024-09-21T02:38:36.078445Z",
     "shell.execute_reply": "2024-09-21T02:38:36.077446Z",
     "shell.execute_reply.started": "2024-09-21T02:38:36.055451Z"
    }
   },
   "outputs": [
    {
     "data": {
      "text/plain": [
       "'ini adalah variabel 1 INI ADALAH VAR 2'"
      ]
     },
     "execution_count": 27,
     "metadata": {},
     "output_type": "execute_result"
    }
   ],
   "source": [
    "var1 + ' ' + var2"
   ]
  },
  {
   "cell_type": "code",
   "execution_count": 28,
   "id": "bc63214b-94ae-4eb6-965e-e892a9d24c22",
   "metadata": {
    "execution": {
     "iopub.execute_input": "2024-09-21T02:38:51.702026Z",
     "iopub.status.busy": "2024-09-21T02:38:51.701026Z",
     "iopub.status.idle": "2024-09-21T02:38:51.711778Z",
     "shell.execute_reply": "2024-09-21T02:38:51.710780Z",
     "shell.execute_reply.started": "2024-09-21T02:38:51.702026Z"
    }
   },
   "outputs": [],
   "source": [
    "var3 = var1 + ' ' + var2"
   ]
  },
  {
   "cell_type": "code",
   "execution_count": 29,
   "id": "0d0fd734-7fc6-4c84-bca9-363d3f766c31",
   "metadata": {
    "execution": {
     "iopub.execute_input": "2024-09-21T02:38:54.975671Z",
     "iopub.status.busy": "2024-09-21T02:38:54.975671Z",
     "iopub.status.idle": "2024-09-21T02:38:54.985197Z",
     "shell.execute_reply": "2024-09-21T02:38:54.983238Z",
     "shell.execute_reply.started": "2024-09-21T02:38:54.975671Z"
    }
   },
   "outputs": [
    {
     "data": {
      "text/plain": [
       "'ini adalah variabel 1 INI ADALAH VAR 2'"
      ]
     },
     "execution_count": 29,
     "metadata": {},
     "output_type": "execute_result"
    }
   ],
   "source": [
    "var3"
   ]
  },
  {
   "cell_type": "markdown",
   "id": "336251b7-a7d3-4dbb-9f6d-69d846dc4a1e",
   "metadata": {},
   "source": [
    "## in"
   ]
  },
  {
   "cell_type": "code",
   "execution_count": 30,
   "id": "fdb54db1-8153-4bbc-b11f-d57d9b176bca",
   "metadata": {
    "execution": {
     "iopub.execute_input": "2024-09-21T02:39:33.716240Z",
     "iopub.status.busy": "2024-09-21T02:39:33.716240Z",
     "iopub.status.idle": "2024-09-21T02:39:33.725436Z",
     "shell.execute_reply": "2024-09-21T02:39:33.724439Z",
     "shell.execute_reply.started": "2024-09-21T02:39:33.716240Z"
    }
   },
   "outputs": [
    {
     "data": {
      "text/plain": [
       "True"
      ]
     },
     "execution_count": 30,
     "metadata": {},
     "output_type": "execute_result"
    }
   ],
   "source": [
    "'adalah' in var3"
   ]
  },
  {
   "cell_type": "code",
   "execution_count": 31,
   "id": "8c97c54e-2640-43e0-944a-b7311e9cafe9",
   "metadata": {
    "execution": {
     "iopub.execute_input": "2024-09-21T02:40:32.609955Z",
     "iopub.status.busy": "2024-09-21T02:40:32.609955Z",
     "iopub.status.idle": "2024-09-21T02:40:32.619505Z",
     "shell.execute_reply": "2024-09-21T02:40:32.618502Z",
     "shell.execute_reply.started": "2024-09-21T02:40:32.609955Z"
    }
   },
   "outputs": [
    {
     "data": {
      "text/plain": [
       "['ini', 'adalah', 'variabel', '1', 'INI', 'ADALAH', 'VAR', '2']"
      ]
     },
     "execution_count": 31,
     "metadata": {},
     "output_type": "execute_result"
    }
   ],
   "source": [
    "var3.split()"
   ]
  },
  {
   "cell_type": "code",
   "execution_count": 32,
   "id": "265a859e-6e68-40ca-b784-d19b0ea32ff6",
   "metadata": {
    "execution": {
     "iopub.execute_input": "2024-09-21T02:41:02.662446Z",
     "iopub.status.busy": "2024-09-21T02:41:02.661452Z",
     "iopub.status.idle": "2024-09-21T02:41:02.671652Z",
     "shell.execute_reply": "2024-09-21T02:41:02.669654Z",
     "shell.execute_reply.started": "2024-09-21T02:41:02.662446Z"
    }
   },
   "outputs": [],
   "source": [
    "var4 = 'ini     adalah variabel 4    '"
   ]
  },
  {
   "cell_type": "code",
   "execution_count": 33,
   "id": "da2527b9-ca07-4ba9-8e50-e175c9acaa2a",
   "metadata": {
    "execution": {
     "iopub.execute_input": "2024-09-21T02:41:04.708651Z",
     "iopub.status.busy": "2024-09-21T02:41:04.708144Z",
     "iopub.status.idle": "2024-09-21T02:41:04.733674Z",
     "shell.execute_reply": "2024-09-21T02:41:04.731678Z",
     "shell.execute_reply.started": "2024-09-21T02:41:04.708651Z"
    }
   },
   "outputs": [
    {
     "data": {
      "text/plain": [
       "'ini     adalah variabel 4    '"
      ]
     },
     "execution_count": 33,
     "metadata": {},
     "output_type": "execute_result"
    }
   ],
   "source": [
    "var4"
   ]
  },
  {
   "cell_type": "code",
   "execution_count": 35,
   "id": "45544c65-7835-4715-ac95-860d7a44dc0d",
   "metadata": {
    "execution": {
     "iopub.execute_input": "2024-09-21T02:41:56.746624Z",
     "iopub.status.busy": "2024-09-21T02:41:56.746624Z",
     "iopub.status.idle": "2024-09-21T02:41:56.769572Z",
     "shell.execute_reply": "2024-09-21T02:41:56.768062Z",
     "shell.execute_reply.started": "2024-09-21T02:41:56.746624Z"
    }
   },
   "outputs": [],
   "source": [
    "var5 = var4.split()"
   ]
  },
  {
   "cell_type": "code",
   "execution_count": 36,
   "id": "2f789257-ebf5-4512-a0d2-7ef2c1c048ae",
   "metadata": {
    "execution": {
     "iopub.execute_input": "2024-09-21T02:41:58.568067Z",
     "iopub.status.busy": "2024-09-21T02:41:58.566554Z",
     "iopub.status.idle": "2024-09-21T02:41:58.590836Z",
     "shell.execute_reply": "2024-09-21T02:41:58.589835Z",
     "shell.execute_reply.started": "2024-09-21T02:41:58.568067Z"
    }
   },
   "outputs": [
    {
     "data": {
      "text/plain": [
       "['ini', 'adalah', 'variabel', '4']"
      ]
     },
     "execution_count": 36,
     "metadata": {},
     "output_type": "execute_result"
    }
   ],
   "source": [
    "var5"
   ]
  },
  {
   "cell_type": "code",
   "execution_count": 39,
   "id": "daa04d99-b21e-4b93-b0b6-15c74a3e8e94",
   "metadata": {
    "execution": {
     "iopub.execute_input": "2024-09-21T02:42:50.922460Z",
     "iopub.status.busy": "2024-09-21T02:42:50.922460Z",
     "iopub.status.idle": "2024-09-21T02:42:50.945612Z",
     "shell.execute_reply": "2024-09-21T02:42:50.944614Z",
     "shell.execute_reply.started": "2024-09-21T02:42:50.922460Z"
    }
   },
   "outputs": [
    {
     "data": {
      "text/plain": [
       "'ini-adalah-variabel-4'"
      ]
     },
     "execution_count": 39,
     "metadata": {},
     "output_type": "execute_result"
    }
   ],
   "source": [
    "'-'.join(var5)"
   ]
  },
  {
   "cell_type": "code",
   "execution_count": 40,
   "id": "2ca7b1ee-a067-4384-a2ad-5ed1a9b92b80",
   "metadata": {
    "execution": {
     "iopub.execute_input": "2024-09-21T02:43:21.941690Z",
     "iopub.status.busy": "2024-09-21T02:43:21.941690Z",
     "iopub.status.idle": "2024-09-21T02:43:21.952591Z",
     "shell.execute_reply": "2024-09-21T02:43:21.951592Z",
     "shell.execute_reply.started": "2024-09-21T02:43:21.941690Z"
    }
   },
   "outputs": [
    {
     "data": {
      "text/plain": [
       "'ini     adalah variabel 4    '"
      ]
     },
     "execution_count": 40,
     "metadata": {},
     "output_type": "execute_result"
    }
   ],
   "source": [
    "var4"
   ]
  },
  {
   "cell_type": "code",
   "execution_count": 45,
   "id": "7d2b7e52-133a-42f1-8922-3bbeb7796e43",
   "metadata": {
    "execution": {
     "iopub.execute_input": "2024-09-21T02:44:46.760988Z",
     "iopub.status.busy": "2024-09-21T02:44:46.759969Z",
     "iopub.status.idle": "2024-09-21T02:44:46.769007Z",
     "shell.execute_reply": "2024-09-21T02:44:46.768499Z",
     "shell.execute_reply.started": "2024-09-21T02:44:46.760988Z"
    }
   },
   "outputs": [
    {
     "data": {
      "text/plain": [
       "'n'"
      ]
     },
     "execution_count": 45,
     "metadata": {},
     "output_type": "execute_result"
    }
   ],
   "source": [
    "var4[1]"
   ]
  },
  {
   "cell_type": "markdown",
   "id": "3d4479a5-8519-41fa-bd44-d446fbd88841",
   "metadata": {},
   "source": [
    "# Conditional"
   ]
  },
  {
   "cell_type": "code",
   "execution_count": 49,
   "id": "4b21ab6b-425a-4e75-ba32-25bac476a928",
   "metadata": {
    "execution": {
     "iopub.execute_input": "2024-09-21T02:47:20.899916Z",
     "iopub.status.busy": "2024-09-21T02:47:20.899916Z",
     "iopub.status.idle": "2024-09-21T02:47:20.908465Z",
     "shell.execute_reply": "2024-09-21T02:47:20.907928Z",
     "shell.execute_reply.started": "2024-09-21T02:47:20.899916Z"
    }
   },
   "outputs": [],
   "source": [
    "var1 = 5\n",
    "var2 = 6\n",
    "\n",
    "if var1 == var2:\n",
    "    print('ini teks')\n",
    "    \n",
    "    "
   ]
  },
  {
   "cell_type": "code",
   "execution_count": 52,
   "id": "283d5742-ca73-4b25-b8c0-051a0b9174f9",
   "metadata": {
    "execution": {
     "iopub.execute_input": "2024-09-21T02:48:34.510285Z",
     "iopub.status.busy": "2024-09-21T02:48:34.510285Z",
     "iopub.status.idle": "2024-09-21T02:48:34.523832Z",
     "shell.execute_reply": "2024-09-21T02:48:34.521838Z",
     "shell.execute_reply.started": "2024-09-21T02:48:34.510285Z"
    }
   },
   "outputs": [
    {
     "name": "stdout",
     "output_type": "stream",
     "text": [
      "ini hal lain\n",
      "halo\n"
     ]
    }
   ],
   "source": [
    "var1 = 5\n",
    "var2 = 6\n",
    "\n",
    "if var1 == var2:\n",
    "    print('ini teks')\n",
    "else:\n",
    "    print('ini hal lain')\n",
    "    print('halo')"
   ]
  },
  {
   "cell_type": "code",
   "execution_count": 56,
   "id": "873a4bf9-6d06-4b56-88c5-701e82497273",
   "metadata": {
    "execution": {
     "iopub.execute_input": "2024-09-21T02:50:45.536874Z",
     "iopub.status.busy": "2024-09-21T02:50:45.536874Z",
     "iopub.status.idle": "2024-09-21T02:50:45.555518Z",
     "shell.execute_reply": "2024-09-21T02:50:45.554525Z",
     "shell.execute_reply.started": "2024-09-21T02:50:45.536874Z"
    }
   },
   "outputs": [
    {
     "name": "stdout",
     "output_type": "stream",
     "text": [
      "ini hal lain lagi\n"
     ]
    }
   ],
   "source": [
    "var1 = 5\n",
    "var2 = 6\n",
    "\n",
    "if var1 == var2:\n",
    "    print('ini teks')\n",
    "else:\n",
    "    if var2 < 6:\n",
    "        print('var2 = 6')\n",
    "    else:\n",
    "        print('ini hal lain lagi')"
   ]
  },
  {
   "cell_type": "code",
   "execution_count": 57,
   "id": "b2258907-bef7-449b-ac59-c4ba57640e05",
   "metadata": {
    "execution": {
     "iopub.execute_input": "2024-09-21T02:51:46.670659Z",
     "iopub.status.busy": "2024-09-21T02:51:46.669659Z",
     "iopub.status.idle": "2024-09-21T02:51:46.678144Z",
     "shell.execute_reply": "2024-09-21T02:51:46.676640Z",
     "shell.execute_reply.started": "2024-09-21T02:51:46.669659Z"
    }
   },
   "outputs": [
    {
     "name": "stdout",
     "output_type": "stream",
     "text": [
      "var1 < var2\n"
     ]
    }
   ],
   "source": [
    "if var1 == var2:\n",
    "    print('ini teks')\n",
    "elif var1 < var2:\n",
    "    print('var1 < var2')\n",
    "else:\n",
    "    print('ini hal lain')"
   ]
  },
  {
   "cell_type": "code",
   "execution_count": 60,
   "id": "0e05b2a7-74a1-4eae-8016-1450caf238e9",
   "metadata": {
    "execution": {
     "iopub.execute_input": "2024-09-21T02:53:29.956943Z",
     "iopub.status.busy": "2024-09-21T02:53:29.956943Z",
     "iopub.status.idle": "2024-09-21T02:53:29.965977Z",
     "shell.execute_reply": "2024-09-21T02:53:29.964977Z",
     "shell.execute_reply.started": "2024-09-21T02:53:29.956943Z"
    }
   },
   "outputs": [
    {
     "data": {
      "text/plain": [
       "True"
      ]
     },
     "execution_count": 60,
     "metadata": {},
     "output_type": "execute_result"
    }
   ],
   "source": [
    "var1 < var2"
   ]
  },
  {
   "cell_type": "code",
   "execution_count": 61,
   "id": "a330418a-e93d-418f-af8e-a493fe0993ac",
   "metadata": {
    "execution": {
     "iopub.execute_input": "2024-09-21T02:55:03.442923Z",
     "iopub.status.busy": "2024-09-21T02:55:03.441896Z",
     "iopub.status.idle": "2024-09-21T02:55:03.452234Z",
     "shell.execute_reply": "2024-09-21T02:55:03.451235Z",
     "shell.execute_reply.started": "2024-09-21T02:55:03.442923Z"
    }
   },
   "outputs": [
    {
     "data": {
      "text/plain": [
       "int"
      ]
     },
     "execution_count": 61,
     "metadata": {},
     "output_type": "execute_result"
    }
   ],
   "source": [
    "type(var1)"
   ]
  },
  {
   "cell_type": "code",
   "execution_count": 62,
   "id": "ab423d9f-54a4-425c-a6dc-f2a7431cda42",
   "metadata": {
    "execution": {
     "iopub.execute_input": "2024-09-21T02:55:08.164028Z",
     "iopub.status.busy": "2024-09-21T02:55:08.164028Z",
     "iopub.status.idle": "2024-09-21T02:55:08.186647Z",
     "shell.execute_reply": "2024-09-21T02:55:08.185651Z",
     "shell.execute_reply.started": "2024-09-21T02:55:08.164028Z"
    }
   },
   "outputs": [
    {
     "data": {
      "text/plain": [
       "5"
      ]
     },
     "execution_count": 62,
     "metadata": {},
     "output_type": "execute_result"
    }
   ],
   "source": [
    "var1"
   ]
  },
  {
   "cell_type": "code",
   "execution_count": 63,
   "id": "d29ff49e-ab85-4dbf-a767-73367450d11c",
   "metadata": {
    "execution": {
     "iopub.execute_input": "2024-09-21T02:55:19.455246Z",
     "iopub.status.busy": "2024-09-21T02:55:19.454249Z",
     "iopub.status.idle": "2024-09-21T02:55:19.480793Z",
     "shell.execute_reply": "2024-09-21T02:55:19.478793Z",
     "shell.execute_reply.started": "2024-09-21T02:55:19.455246Z"
    }
   },
   "outputs": [
    {
     "data": {
      "text/plain": [
       "str"
      ]
     },
     "execution_count": 63,
     "metadata": {},
     "output_type": "execute_result"
    }
   ],
   "source": [
    "type('ini teks')"
   ]
  },
  {
   "cell_type": "code",
   "execution_count": 64,
   "id": "11a58afe-fc35-4907-bd56-ad6faeb1ded4",
   "metadata": {
    "execution": {
     "iopub.execute_input": "2024-09-21T02:55:32.412058Z",
     "iopub.status.busy": "2024-09-21T02:55:32.412058Z",
     "iopub.status.idle": "2024-09-21T02:55:32.420928Z",
     "shell.execute_reply": "2024-09-21T02:55:32.419932Z",
     "shell.execute_reply.started": "2024-09-21T02:55:32.412058Z"
    }
   },
   "outputs": [
    {
     "data": {
      "text/plain": [
       "float"
      ]
     },
     "execution_count": 64,
     "metadata": {},
     "output_type": "execute_result"
    }
   ],
   "source": [
    "type(1.5)"
   ]
  },
  {
   "cell_type": "code",
   "execution_count": 65,
   "id": "5a41d3d0-1a39-49f1-b029-e039e26e2044",
   "metadata": {
    "execution": {
     "iopub.execute_input": "2024-09-21T02:56:19.098543Z",
     "iopub.status.busy": "2024-09-21T02:56:19.097507Z",
     "iopub.status.idle": "2024-09-21T02:56:19.108551Z",
     "shell.execute_reply": "2024-09-21T02:56:19.107501Z",
     "shell.execute_reply.started": "2024-09-21T02:56:19.098543Z"
    }
   },
   "outputs": [],
   "source": [
    "var_teks = 'ini adalah teks'"
   ]
  },
  {
   "cell_type": "code",
   "execution_count": 66,
   "id": "60afeb21-5466-4fe9-9a17-601fb371c3e0",
   "metadata": {
    "execution": {
     "iopub.execute_input": "2024-09-21T02:56:21.068008Z",
     "iopub.status.busy": "2024-09-21T02:56:21.068008Z",
     "iopub.status.idle": "2024-09-21T02:56:21.078658Z",
     "shell.execute_reply": "2024-09-21T02:56:21.077658Z",
     "shell.execute_reply.started": "2024-09-21T02:56:21.068008Z"
    }
   },
   "outputs": [
    {
     "data": {
      "text/plain": [
       "5"
      ]
     },
     "execution_count": 66,
     "metadata": {},
     "output_type": "execute_result"
    }
   ],
   "source": [
    "var1"
   ]
  },
  {
   "cell_type": "code",
   "execution_count": 67,
   "id": "23ac3a12-6e28-4e00-93f1-353f7382caf2",
   "metadata": {
    "execution": {
     "iopub.execute_input": "2024-09-21T02:56:25.836832Z",
     "iopub.status.busy": "2024-09-21T02:56:25.835836Z",
     "iopub.status.idle": "2024-09-21T02:56:25.875915Z",
     "shell.execute_reply": "2024-09-21T02:56:25.873918Z",
     "shell.execute_reply.started": "2024-09-21T02:56:25.836832Z"
    }
   },
   "outputs": [
    {
     "ename": "TypeError",
     "evalue": "unsupported operand type(s) for +: 'int' and 'str'",
     "output_type": "error",
     "traceback": [
      "\u001b[1;31m---------------------------------------------------------------------------\u001b[0m",
      "\u001b[1;31mTypeError\u001b[0m                                 Traceback (most recent call last)",
      "Cell \u001b[1;32mIn[67], line 1\u001b[0m\n\u001b[1;32m----> 1\u001b[0m \u001b[43mvar1\u001b[49m\u001b[43m \u001b[49m\u001b[38;5;241;43m+\u001b[39;49m\u001b[43m \u001b[49m\u001b[43mvar_teks\u001b[49m\n",
      "\u001b[1;31mTypeError\u001b[0m: unsupported operand type(s) for +: 'int' and 'str'"
     ]
    }
   ],
   "source": [
    "var1 + var_teks"
   ]
  },
  {
   "cell_type": "code",
   "execution_count": 68,
   "id": "34d29e50-5f34-43b8-b383-fc14fbc8f9d3",
   "metadata": {
    "execution": {
     "iopub.execute_input": "2024-09-21T02:56:51.059993Z",
     "iopub.status.busy": "2024-09-21T02:56:51.058995Z",
     "iopub.status.idle": "2024-09-21T02:56:51.068591Z",
     "shell.execute_reply": "2024-09-21T02:56:51.067590Z",
     "shell.execute_reply.started": "2024-09-21T02:56:51.059993Z"
    }
   },
   "outputs": [
    {
     "data": {
      "text/plain": [
       "'5'"
      ]
     },
     "execution_count": 68,
     "metadata": {},
     "output_type": "execute_result"
    }
   ],
   "source": [
    "str(var1)"
   ]
  },
  {
   "cell_type": "code",
   "execution_count": 69,
   "id": "f8303d71-061f-467d-b50c-848b3c645d18",
   "metadata": {
    "execution": {
     "iopub.execute_input": "2024-09-21T02:57:02.661628Z",
     "iopub.status.busy": "2024-09-21T02:57:02.661628Z",
     "iopub.status.idle": "2024-09-21T02:57:02.670783Z",
     "shell.execute_reply": "2024-09-21T02:57:02.669811Z",
     "shell.execute_reply.started": "2024-09-21T02:57:02.661628Z"
    }
   },
   "outputs": [
    {
     "data": {
      "text/plain": [
       "'5ini adalah teks'"
      ]
     },
     "execution_count": 69,
     "metadata": {},
     "output_type": "execute_result"
    }
   ],
   "source": [
    "str(var1) + var_teks"
   ]
  },
  {
   "cell_type": "code",
   "execution_count": 70,
   "id": "26d5f867-8b48-4172-b285-44e8a0ff624d",
   "metadata": {
    "execution": {
     "iopub.execute_input": "2024-09-21T02:57:48.850498Z",
     "iopub.status.busy": "2024-09-21T02:57:48.849501Z",
     "iopub.status.idle": "2024-09-21T02:57:48.870644Z",
     "shell.execute_reply": "2024-09-21T02:57:48.869679Z",
     "shell.execute_reply.started": "2024-09-21T02:57:48.850498Z"
    }
   },
   "outputs": [],
   "source": [
    "url = 'https://google.com'\n",
    "var1 = 5"
   ]
  },
  {
   "cell_type": "code",
   "execution_count": 71,
   "id": "2f460429-62e1-4f61-810f-95e06d2023d5",
   "metadata": {
    "execution": {
     "iopub.execute_input": "2024-09-21T02:57:52.201821Z",
     "iopub.status.busy": "2024-09-21T02:57:52.200796Z",
     "iopub.status.idle": "2024-09-21T02:57:52.238850Z",
     "shell.execute_reply": "2024-09-21T02:57:52.237845Z",
     "shell.execute_reply.started": "2024-09-21T02:57:52.201821Z"
    }
   },
   "outputs": [
    {
     "ename": "TypeError",
     "evalue": "can only concatenate str (not \"int\") to str",
     "output_type": "error",
     "traceback": [
      "\u001b[1;31m---------------------------------------------------------------------------\u001b[0m",
      "\u001b[1;31mTypeError\u001b[0m                                 Traceback (most recent call last)",
      "Cell \u001b[1;32mIn[71], line 1\u001b[0m\n\u001b[1;32m----> 1\u001b[0m \u001b[43murl\u001b[49m\u001b[38;5;241;43m+\u001b[39;49m\u001b[43mvar1\u001b[49m\n",
      "\u001b[1;31mTypeError\u001b[0m: can only concatenate str (not \"int\") to str"
     ]
    }
   ],
   "source": [
    "url+var1"
   ]
  },
  {
   "cell_type": "code",
   "execution_count": 72,
   "id": "8871b07b-e00e-469e-969e-71b21d7a6f4b",
   "metadata": {
    "execution": {
     "iopub.execute_input": "2024-09-21T02:57:58.997513Z",
     "iopub.status.busy": "2024-09-21T02:57:58.996484Z",
     "iopub.status.idle": "2024-09-21T02:57:59.006140Z",
     "shell.execute_reply": "2024-09-21T02:57:59.005142Z",
     "shell.execute_reply.started": "2024-09-21T02:57:58.997513Z"
    }
   },
   "outputs": [
    {
     "data": {
      "text/plain": [
       "'https://google.com5'"
      ]
     },
     "execution_count": 72,
     "metadata": {},
     "output_type": "execute_result"
    }
   ],
   "source": [
    "url+str(var1)"
   ]
  },
  {
   "cell_type": "code",
   "execution_count": 73,
   "id": "fc6960d5-c8ed-4ca9-a38b-b48d55ad25a2",
   "metadata": {
    "execution": {
     "iopub.execute_input": "2024-09-21T02:58:26.797536Z",
     "iopub.status.busy": "2024-09-21T02:58:26.796026Z",
     "iopub.status.idle": "2024-09-21T02:58:26.806731Z",
     "shell.execute_reply": "2024-09-21T02:58:26.805716Z",
     "shell.execute_reply.started": "2024-09-21T02:58:26.797536Z"
    }
   },
   "outputs": [],
   "source": [
    "url='https://google.com/5'"
   ]
  },
  {
   "cell_type": "code",
   "execution_count": 74,
   "id": "d6479b94-e97a-4094-b2a4-10c6f1993bfc",
   "metadata": {
    "execution": {
     "iopub.execute_input": "2024-09-21T02:58:27.890556Z",
     "iopub.status.busy": "2024-09-21T02:58:27.889555Z",
     "iopub.status.idle": "2024-09-21T02:58:27.915417Z",
     "shell.execute_reply": "2024-09-21T02:58:27.913424Z",
     "shell.execute_reply.started": "2024-09-21T02:58:27.890556Z"
    }
   },
   "outputs": [
    {
     "data": {
      "text/plain": [
       "'https://google.com/5'"
      ]
     },
     "execution_count": 74,
     "metadata": {},
     "output_type": "execute_result"
    }
   ],
   "source": [
    "url"
   ]
  },
  {
   "cell_type": "code",
   "execution_count": 79,
   "id": "0489056b-bc2f-48d1-807a-490d27727a8e",
   "metadata": {
    "execution": {
     "iopub.execute_input": "2024-09-21T02:59:06.186301Z",
     "iopub.status.busy": "2024-09-21T02:59:06.185304Z",
     "iopub.status.idle": "2024-09-21T02:59:06.195227Z",
     "shell.execute_reply": "2024-09-21T02:59:06.194261Z",
     "shell.execute_reply.started": "2024-09-21T02:59:06.186301Z"
    }
   },
   "outputs": [
    {
     "data": {
      "text/plain": [
       "'5'"
      ]
     },
     "execution_count": 79,
     "metadata": {},
     "output_type": "execute_result"
    }
   ],
   "source": [
    "url[-1]"
   ]
  },
  {
   "cell_type": "code",
   "execution_count": 80,
   "id": "f8e9fa6b-0b3c-48da-938e-ce48b3176d8b",
   "metadata": {
    "execution": {
     "iopub.execute_input": "2024-09-21T02:59:15.102506Z",
     "iopub.status.busy": "2024-09-21T02:59:15.102506Z",
     "iopub.status.idle": "2024-09-21T02:59:15.111783Z",
     "shell.execute_reply": "2024-09-21T02:59:15.110787Z",
     "shell.execute_reply.started": "2024-09-21T02:59:15.102506Z"
    }
   },
   "outputs": [
    {
     "data": {
      "text/plain": [
       "str"
      ]
     },
     "execution_count": 80,
     "metadata": {},
     "output_type": "execute_result"
    }
   ],
   "source": [
    "type(url[-1])"
   ]
  },
  {
   "cell_type": "code",
   "execution_count": 81,
   "id": "2aabb450-b2e5-4eeb-a20c-8c4ec0b533d8",
   "metadata": {
    "execution": {
     "iopub.execute_input": "2024-09-21T02:59:34.403224Z",
     "iopub.status.busy": "2024-09-21T02:59:34.403224Z",
     "iopub.status.idle": "2024-09-21T02:59:34.410006Z",
     "shell.execute_reply": "2024-09-21T02:59:34.409005Z",
     "shell.execute_reply.started": "2024-09-21T02:59:34.403224Z"
    }
   },
   "outputs": [],
   "source": [
    "var_konversi = int(url[-1])"
   ]
  },
  {
   "cell_type": "code",
   "execution_count": 82,
   "id": "b8679f5b-fe00-4965-b9f6-2ab628f4547c",
   "metadata": {
    "execution": {
     "iopub.execute_input": "2024-09-21T02:59:37.610555Z",
     "iopub.status.busy": "2024-09-21T02:59:37.609552Z",
     "iopub.status.idle": "2024-09-21T02:59:37.632024Z",
     "shell.execute_reply": "2024-09-21T02:59:37.631029Z",
     "shell.execute_reply.started": "2024-09-21T02:59:37.610555Z"
    }
   },
   "outputs": [
    {
     "data": {
      "text/plain": [
       "5"
      ]
     },
     "execution_count": 82,
     "metadata": {},
     "output_type": "execute_result"
    }
   ],
   "source": [
    "var_konversi"
   ]
  },
  {
   "cell_type": "code",
   "execution_count": 83,
   "id": "c2a29140-27ad-4e06-816f-f81bdeea314d",
   "metadata": {
    "execution": {
     "iopub.execute_input": "2024-09-21T02:59:51.307215Z",
     "iopub.status.busy": "2024-09-21T02:59:51.307215Z",
     "iopub.status.idle": "2024-09-21T02:59:51.316569Z",
     "shell.execute_reply": "2024-09-21T02:59:51.315578Z",
     "shell.execute_reply.started": "2024-09-21T02:59:51.307215Z"
    }
   },
   "outputs": [
    {
     "data": {
      "text/plain": [
       "10"
      ]
     },
     "execution_count": 83,
     "metadata": {},
     "output_type": "execute_result"
    }
   ],
   "source": [
    "var_konversi + var1"
   ]
  },
  {
   "cell_type": "code",
   "execution_count": 84,
   "id": "2146bdf8-8373-461b-b47c-3d98e21c0614",
   "metadata": {
    "execution": {
     "iopub.execute_input": "2024-09-21T02:59:57.455627Z",
     "iopub.status.busy": "2024-09-21T02:59:57.454630Z",
     "iopub.status.idle": "2024-09-21T02:59:57.480508Z",
     "shell.execute_reply": "2024-09-21T02:59:57.479506Z",
     "shell.execute_reply.started": "2024-09-21T02:59:57.455627Z"
    }
   },
   "outputs": [
    {
     "data": {
      "text/plain": [
       "(5, 5)"
      ]
     },
     "execution_count": 84,
     "metadata": {},
     "output_type": "execute_result"
    }
   ],
   "source": [
    "var_konversi, var1"
   ]
  },
  {
   "cell_type": "markdown",
   "id": "98ddc378-1543-4882-9187-b6075e04c37c",
   "metadata": {},
   "source": [
    "# Iteration"
   ]
  },
  {
   "cell_type": "markdown",
   "id": "e97b1d94-5931-4387-8643-ef2ed07fa26e",
   "metadata": {},
   "source": [
    "## FOR"
   ]
  },
  {
   "cell_type": "code",
   "execution_count": 97,
   "id": "ff014132-6192-4120-b773-00b35cdb7bb3",
   "metadata": {
    "execution": {
     "iopub.execute_input": "2024-09-21T03:05:33.682600Z",
     "iopub.status.busy": "2024-09-21T03:05:33.682600Z",
     "iopub.status.idle": "2024-09-21T03:05:33.690127Z",
     "shell.execute_reply": "2024-09-21T03:05:33.689125Z",
     "shell.execute_reply.started": "2024-09-21T03:05:33.682600Z"
    }
   },
   "outputs": [
    {
     "name": "stdout",
     "output_type": "stream",
     "text": [
      "https://google.com/1\n",
      "https://google.com/2\n",
      "https://google.com/3\n",
      "ini langkah ke-3\n",
      "https://google.com/4\n",
      "ini langkah ke-4\n",
      "https://google.com/5\n",
      "ini langkah ke-5\n"
     ]
    }
   ],
   "source": [
    "url = 'https://google.com/'\n",
    "for ini_var in range(1, 6):\n",
    "    url_baru = url + str(ini_var)\n",
    "    print(url_baru)\n",
    "\n",
    "    if ini_var > 2:\n",
    "        print('ini langkah ke-' + str(ini_var))"
   ]
  },
  {
   "cell_type": "markdown",
   "id": "7ec51e0a-9583-42a7-9fb9-28cdcc30920d",
   "metadata": {},
   "source": [
    "## Modulus"
   ]
  },
  {
   "cell_type": "code",
   "execution_count": 103,
   "id": "5a483ea1-38fc-4b1f-9951-32e297fff78e",
   "metadata": {
    "execution": {
     "iopub.execute_input": "2024-09-21T03:07:26.562059Z",
     "iopub.status.busy": "2024-09-21T03:07:26.561062Z",
     "iopub.status.idle": "2024-09-21T03:07:26.583400Z",
     "shell.execute_reply": "2024-09-21T03:07:26.582402Z",
     "shell.execute_reply.started": "2024-09-21T03:07:26.562059Z"
    }
   },
   "outputs": [
    {
     "data": {
      "text/plain": [
       "0"
      ]
     },
     "execution_count": 103,
     "metadata": {},
     "output_type": "execute_result"
    }
   ],
   "source": [
    "10%2"
   ]
  },
  {
   "cell_type": "code",
   "execution_count": 107,
   "id": "f2f927f0-72f1-4e04-8d64-bfd661cd258b",
   "metadata": {
    "execution": {
     "iopub.execute_input": "2024-09-21T03:09:04.692161Z",
     "iopub.status.busy": "2024-09-21T03:09:04.692161Z",
     "iopub.status.idle": "2024-09-21T03:09:04.702634Z",
     "shell.execute_reply": "2024-09-21T03:09:04.700647Z",
     "shell.execute_reply.started": "2024-09-21T03:09:04.692161Z"
    }
   },
   "outputs": [
    {
     "name": "stdout",
     "output_type": "stream",
     "text": [
      "https://google.com/1\n",
      "https://google.com/2\n",
      "https://google.com/3\n",
      "https://google.com/4\n",
      "https://google.com/5\n",
      "ini langkah kelipatan lima\n",
      "https://google.com/6\n",
      "https://google.com/7\n",
      "https://google.com/8\n",
      "https://google.com/9\n",
      "https://google.com/10\n",
      "ini langkah kelipatan lima\n",
      "https://google.com/11\n",
      "https://google.com/12\n",
      "https://google.com/13\n",
      "https://google.com/14\n",
      "https://google.com/15\n",
      "ini langkah kelipatan lima\n"
     ]
    }
   ],
   "source": [
    "url = 'https://google.com/'\n",
    "for ini_var in range(1, 16):\n",
    "    url_baru = url + str(ini_var)\n",
    "    print(url_baru)\n",
    "\n",
    "    if ini_var%5 == 0:\n",
    "        print('ini langkah kelipatan lima')"
   ]
  },
  {
   "cell_type": "code",
   "execution_count": 89,
   "id": "af2206fc-9296-41c6-8b82-b6aab649179d",
   "metadata": {
    "execution": {
     "iopub.execute_input": "2024-09-21T03:02:19.164834Z",
     "iopub.status.busy": "2024-09-21T03:02:19.164834Z",
     "iopub.status.idle": "2024-09-21T03:02:19.170800Z",
     "shell.execute_reply": "2024-09-21T03:02:19.169803Z",
     "shell.execute_reply.started": "2024-09-21T03:02:19.164834Z"
    }
   },
   "outputs": [
    {
     "name": "stdout",
     "output_type": "stream",
     "text": [
      "range(1, 6)\n"
     ]
    }
   ],
   "source": [
    "print(range(1,6))"
   ]
  },
  {
   "cell_type": "markdown",
   "id": "2dfcbe2d-d1c2-4b5a-a55f-552d6904b1bf",
   "metadata": {},
   "source": [
    "## WHILE"
   ]
  },
  {
   "cell_type": "code",
   "execution_count": 1,
   "id": "dafc7deb-37b7-4080-a527-fc90977bf89e",
   "metadata": {
    "execution": {
     "iopub.execute_input": "2024-09-21T03:12:21.874822Z",
     "iopub.status.busy": "2024-09-21T03:12:21.874822Z",
     "iopub.status.idle": "2024-09-21T03:12:21.901368Z",
     "shell.execute_reply": "2024-09-21T03:12:21.899377Z",
     "shell.execute_reply.started": "2024-09-21T03:12:21.874822Z"
    }
   },
   "outputs": [
    {
     "name": "stdout",
     "output_type": "stream",
     "text": [
      "1\n",
      "2\n",
      "3\n",
      "4\n"
     ]
    }
   ],
   "source": [
    "var1 = 1\n",
    "var2 = 5\n",
    "\n",
    "while var1 < var2:\n",
    "    print(var1)\n",
    "    var1 = var1 + 1"
   ]
  },
  {
   "cell_type": "code",
   "execution_count": 2,
   "id": "c5db7d0b-ebd4-46c8-a993-9c2b144ae27c",
   "metadata": {
    "execution": {
     "iopub.execute_input": "2024-09-21T03:12:42.445851Z",
     "iopub.status.busy": "2024-09-21T03:12:42.445851Z",
     "iopub.status.idle": "2024-09-21T03:12:42.456914Z",
     "shell.execute_reply": "2024-09-21T03:12:42.455916Z",
     "shell.execute_reply.started": "2024-09-21T03:12:42.445851Z"
    }
   },
   "outputs": [],
   "source": [
    "var1 = True"
   ]
  },
  {
   "cell_type": "code",
   "execution_count": 6,
   "id": "0ed726a4-c485-4ab1-a67c-7095f2bfb021",
   "metadata": {
    "execution": {
     "iopub.execute_input": "2024-09-21T03:13:18.707730Z",
     "iopub.status.busy": "2024-09-21T03:13:18.706708Z",
     "iopub.status.idle": "2024-09-21T03:13:18.717788Z",
     "shell.execute_reply": "2024-09-21T03:13:18.716783Z",
     "shell.execute_reply.started": "2024-09-21T03:13:18.707730Z"
    }
   },
   "outputs": [
    {
     "ename": "SyntaxError",
     "evalue": "cannot assign to function call (3575275571.py, line 1)",
     "output_type": "error",
     "traceback": [
      "\u001b[1;36m  Cell \u001b[1;32mIn[6], line 1\u001b[1;36m\u001b[0m\n\u001b[1;33m    print() = 1\u001b[0m\n\u001b[1;37m    ^\u001b[0m\n\u001b[1;31mSyntaxError\u001b[0m\u001b[1;31m:\u001b[0m cannot assign to function call\n"
     ]
    }
   ],
   "source": [
    "print() = 1"
   ]
  },
  {
   "cell_type": "code",
   "execution_count": 7,
   "id": "2b6f8359-15e8-4d7b-b672-48bf67b2424d",
   "metadata": {
    "execution": {
     "iopub.execute_input": "2024-09-21T03:13:25.044651Z",
     "iopub.status.busy": "2024-09-21T03:13:25.044651Z",
     "iopub.status.idle": "2024-09-21T03:13:25.931397Z",
     "shell.execute_reply": "2024-09-21T03:13:25.929403Z",
     "shell.execute_reply.started": "2024-09-21T03:13:25.044651Z"
    }
   },
   "outputs": [
    {
     "ename": "TypeError",
     "evalue": "'int' object is not callable",
     "output_type": "error",
     "traceback": [
      "\u001b[1;31m---------------------------------------------------------------------------\u001b[0m",
      "\u001b[1;31mTypeError\u001b[0m                                 Traceback (most recent call last)",
      "Cell \u001b[1;32mIn[7], line 1\u001b[0m\n\u001b[1;32m----> 1\u001b[0m \u001b[38;5;28;43mprint\u001b[39;49m\u001b[43m(\u001b[49m\u001b[38;5;124;43m'\u001b[39;49m\u001b[38;5;124;43mhalo\u001b[39;49m\u001b[38;5;124;43m'\u001b[39;49m\u001b[43m)\u001b[49m\n",
      "\u001b[1;31mTypeError\u001b[0m: 'int' object is not callable"
     ]
    }
   ],
   "source": [
    "print('halo')"
   ]
  },
  {
   "cell_type": "code",
   "execution_count": 8,
   "id": "9841c8e7-33cd-4a9b-aa97-025cbd2c145f",
   "metadata": {
    "execution": {
     "iopub.execute_input": "2024-09-21T03:13:41.056862Z",
     "iopub.status.busy": "2024-09-21T03:13:41.056862Z",
     "iopub.status.idle": "2024-09-21T03:13:41.068068Z",
     "shell.execute_reply": "2024-09-21T03:13:41.066783Z",
     "shell.execute_reply.started": "2024-09-21T03:13:41.056862Z"
    }
   },
   "outputs": [
    {
     "ename": "SyntaxError",
     "evalue": "invalid syntax (544408828.py, line 1)",
     "output_type": "error",
     "traceback": [
      "\u001b[1;36m  Cell \u001b[1;32mIn[8], line 1\u001b[1;36m\u001b[0m\n\u001b[1;33m    while = 1\u001b[0m\n\u001b[1;37m          ^\u001b[0m\n\u001b[1;31mSyntaxError\u001b[0m\u001b[1;31m:\u001b[0m invalid syntax\n"
     ]
    }
   ],
   "source": [
    "while = 1"
   ]
  },
  {
   "cell_type": "code",
   "execution_count": 1,
   "id": "1e8f8983-ec96-480b-a025-710fd79cd6fe",
   "metadata": {
    "execution": {
     "iopub.execute_input": "2024-09-21T03:15:01.510052Z",
     "iopub.status.busy": "2024-09-21T03:15:01.509053Z",
     "iopub.status.idle": "2024-09-21T03:15:01.537124Z",
     "shell.execute_reply": "2024-09-21T03:15:01.534615Z",
     "shell.execute_reply.started": "2024-09-21T03:15:01.510052Z"
    }
   },
   "outputs": [
    {
     "name": "stdout",
     "output_type": "stream",
     "text": [
      "6\n",
      "7\n",
      "8\n",
      "9\n",
      "10\n",
      "11\n"
     ]
    }
   ],
   "source": [
    "var1 = True\n",
    "var2 = 5\n",
    "while var1 == True:\n",
    "    var2 = var2 + 1\n",
    "    print(var2)\n",
    "    if var2 > 10:\n",
    "        var1 = False"
   ]
  },
  {
   "cell_type": "code",
   "execution_count": 6,
   "id": "ab0ff2a3-029a-4d2b-ae81-ddf736ab40dd",
   "metadata": {
    "execution": {
     "iopub.execute_input": "2024-09-21T03:17:31.411785Z",
     "iopub.status.busy": "2024-09-21T03:17:31.411785Z",
     "iopub.status.idle": "2024-09-21T03:17:31.433468Z",
     "shell.execute_reply": "2024-09-21T03:17:31.432469Z",
     "shell.execute_reply.started": "2024-09-21T03:17:31.411785Z"
    }
   },
   "outputs": [
    {
     "name": "stdout",
     "output_type": "stream",
     "text": [
      "6\n",
      "7\n",
      "8\n",
      "9\n",
      "10\n",
      "11\n"
     ]
    }
   ],
   "source": [
    "var1 = True\n",
    "var2 = 5\n",
    "while var1: # ini sama dengan while var1 == True\n",
    "    var2 += 1 #ini sama dengan var2 = var2 + 1\n",
    "    print(var2)\n",
    "    if var2 > 10:\n",
    "        var1 = False"
   ]
  },
  {
   "cell_type": "code",
   "execution_count": null,
   "id": "e777216a-3368-4451-975f-549abee610d5",
   "metadata": {},
   "outputs": [],
   "source": []
  },
  {
   "cell_type": "code",
   "execution_count": 24,
   "id": "ae7280f3-a3bc-425c-9727-75f3bea1e3a3",
   "metadata": {
    "execution": {
     "iopub.execute_input": "2024-09-21T03:27:25.787876Z",
     "iopub.status.busy": "2024-09-21T03:27:25.786873Z",
     "iopub.status.idle": "2024-09-21T03:27:25.808066Z",
     "shell.execute_reply": "2024-09-21T03:27:25.806066Z",
     "shell.execute_reply.started": "2024-09-21T03:27:25.786873Z"
    }
   },
   "outputs": [],
   "source": [
    "var1 = 1\n",
    "\n",
    "var2 = [1, '2', 3, 4, '6', 7]"
   ]
  },
  {
   "cell_type": "code",
   "execution_count": 25,
   "id": "30b2c689-3a20-4d4b-a854-3044bcef165c",
   "metadata": {
    "execution": {
     "iopub.execute_input": "2024-09-21T03:27:26.284577Z",
     "iopub.status.busy": "2024-09-21T03:27:26.283066Z",
     "iopub.status.idle": "2024-09-21T03:27:26.310232Z",
     "shell.execute_reply": "2024-09-21T03:27:26.307238Z",
     "shell.execute_reply.started": "2024-09-21T03:27:26.284577Z"
    }
   },
   "outputs": [
    {
     "data": {
      "text/plain": [
       "[1, '2', 3, 4, '6', 7]"
      ]
     },
     "execution_count": 25,
     "metadata": {},
     "output_type": "execute_result"
    }
   ],
   "source": [
    "var2"
   ]
  },
  {
   "cell_type": "code",
   "execution_count": 26,
   "id": "0a62f8c5-d4a8-4af7-bdd9-6fb8ba7eeb58",
   "metadata": {
    "execution": {
     "iopub.execute_input": "2024-09-21T03:27:26.643255Z",
     "iopub.status.busy": "2024-09-21T03:27:26.642258Z",
     "iopub.status.idle": "2024-09-21T03:27:26.714548Z",
     "shell.execute_reply": "2024-09-21T03:27:26.711556Z",
     "shell.execute_reply.started": "2024-09-21T03:27:26.643255Z"
    }
   },
   "outputs": [
    {
     "name": "stdout",
     "output_type": "stream",
     "text": [
      "2\n"
     ]
    },
    {
     "ename": "TypeError",
     "evalue": "can only concatenate str (not \"int\") to str",
     "output_type": "error",
     "traceback": [
      "\u001b[1;31m---------------------------------------------------------------------------\u001b[0m",
      "\u001b[1;31mTypeError\u001b[0m                                 Traceback (most recent call last)",
      "Cell \u001b[1;32mIn[26], line 2\u001b[0m\n\u001b[0;32m      1\u001b[0m \u001b[38;5;28;01mfor\u001b[39;00m i \u001b[38;5;129;01min\u001b[39;00m var2:\n\u001b[1;32m----> 2\u001b[0m     \u001b[38;5;28mprint\u001b[39m(\u001b[43mi\u001b[49m\u001b[43m \u001b[49m\u001b[38;5;241;43m+\u001b[39;49m\u001b[43m \u001b[49m\u001b[43mvar1\u001b[49m)\n",
      "\u001b[1;31mTypeError\u001b[0m: can only concatenate str (not \"int\") to str"
     ]
    }
   ],
   "source": [
    "for i in var2:\n",
    "    print(i + var1)"
   ]
  },
  {
   "cell_type": "code",
   "execution_count": 27,
   "id": "43efd5fb-f55d-4a57-8634-101381a040eb",
   "metadata": {
    "execution": {
     "iopub.execute_input": "2024-09-21T03:27:33.236356Z",
     "iopub.status.busy": "2024-09-21T03:27:33.236356Z",
     "iopub.status.idle": "2024-09-21T03:27:33.261117Z",
     "shell.execute_reply": "2024-09-21T03:27:33.260119Z",
     "shell.execute_reply.started": "2024-09-21T03:27:33.236356Z"
    }
   },
   "outputs": [
    {
     "name": "stdout",
     "output_type": "stream",
     "text": [
      "2\n",
      "gagal halaman 2\n",
      "4\n",
      "5\n",
      "gagal halaman 6\n",
      "8\n"
     ]
    }
   ],
   "source": [
    "for i in var2:\n",
    "    try:\n",
    "        print(i + var1)\n",
    "    except:\n",
    "        print('gagal halaman', i)"
   ]
  },
  {
   "cell_type": "code",
   "execution_count": 28,
   "id": "af537fbc-ebe0-46f4-8cbf-9e1fd0a600ac",
   "metadata": {
    "execution": {
     "iopub.execute_input": "2024-09-21T03:27:33.592309Z",
     "iopub.status.busy": "2024-09-21T03:27:33.591264Z",
     "iopub.status.idle": "2024-09-21T03:27:33.601791Z",
     "shell.execute_reply": "2024-09-21T03:27:33.600796Z",
     "shell.execute_reply.started": "2024-09-21T03:27:33.592309Z"
    }
   },
   "outputs": [
    {
     "name": "stdout",
     "output_type": "stream",
     "text": [
      "2\n",
      "3\n",
      "4\n",
      "5\n",
      "7\n",
      "8\n"
     ]
    }
   ],
   "source": [
    "for i in var2:\n",
    "    try:\n",
    "        print(int(i) + var1)\n",
    "    except:\n",
    "        print('gagal halaman', i)"
   ]
  },
  {
   "cell_type": "markdown",
   "id": "fb9cfca9-35b2-4f17-8914-5577e48a74c1",
   "metadata": {},
   "source": [
    "# List"
   ]
  },
  {
   "cell_type": "code",
   "execution_count": 29,
   "id": "7b929f60-2af1-483f-81f2-85cf035d6ee3",
   "metadata": {
    "execution": {
     "iopub.execute_input": "2024-09-21T03:28:14.480073Z",
     "iopub.status.busy": "2024-09-21T03:28:14.479076Z",
     "iopub.status.idle": "2024-09-21T03:28:14.491287Z",
     "shell.execute_reply": "2024-09-21T03:28:14.487291Z",
     "shell.execute_reply.started": "2024-09-21T03:28:14.480073Z"
    }
   },
   "outputs": [],
   "source": [
    "ini_list = [1, 2, 3, 5, 0, 0.5, 'teks']"
   ]
  },
  {
   "cell_type": "code",
   "execution_count": 30,
   "id": "93a6eefd-8ba7-4475-8858-9e83c2dd7d02",
   "metadata": {
    "execution": {
     "iopub.execute_input": "2024-09-21T03:28:31.469053Z",
     "iopub.status.busy": "2024-09-21T03:28:31.468055Z",
     "iopub.status.idle": "2024-09-21T03:28:31.481531Z",
     "shell.execute_reply": "2024-09-21T03:28:31.479537Z",
     "shell.execute_reply.started": "2024-09-21T03:28:31.469053Z"
    }
   },
   "outputs": [
    {
     "data": {
      "text/plain": [
       "1"
      ]
     },
     "execution_count": 30,
     "metadata": {},
     "output_type": "execute_result"
    }
   ],
   "source": [
    "ini_list[0]"
   ]
  },
  {
   "cell_type": "code",
   "execution_count": 31,
   "id": "1f72af32-21a9-4bb0-9ad2-25aee314041a",
   "metadata": {
    "execution": {
     "iopub.execute_input": "2024-09-21T03:28:36.969017Z",
     "iopub.status.busy": "2024-09-21T03:28:36.969017Z",
     "iopub.status.idle": "2024-09-21T03:28:36.979535Z",
     "shell.execute_reply": "2024-09-21T03:28:36.978536Z",
     "shell.execute_reply.started": "2024-09-21T03:28:36.969017Z"
    }
   },
   "outputs": [
    {
     "data": {
      "text/plain": [
       "2"
      ]
     },
     "execution_count": 31,
     "metadata": {},
     "output_type": "execute_result"
    }
   ],
   "source": [
    "ini_list[1]"
   ]
  },
  {
   "cell_type": "code",
   "execution_count": 33,
   "id": "5f49f678-7a3f-429c-8669-93262ff740b9",
   "metadata": {
    "execution": {
     "iopub.execute_input": "2024-09-21T03:28:52.037635Z",
     "iopub.status.busy": "2024-09-21T03:28:52.036633Z",
     "iopub.status.idle": "2024-09-21T03:28:52.060946Z",
     "shell.execute_reply": "2024-09-21T03:28:52.059943Z",
     "shell.execute_reply.started": "2024-09-21T03:28:52.037635Z"
    }
   },
   "outputs": [
    {
     "data": {
      "text/plain": [
       "[1, 2]"
      ]
     },
     "execution_count": 33,
     "metadata": {},
     "output_type": "execute_result"
    }
   ],
   "source": [
    "ini_list[0:2]"
   ]
  },
  {
   "cell_type": "code",
   "execution_count": 37,
   "id": "0a116f95-02d1-4346-a9c8-02aa672405ef",
   "metadata": {
    "execution": {
     "iopub.execute_input": "2024-09-21T03:29:49.044978Z",
     "iopub.status.busy": "2024-09-21T03:29:49.043982Z",
     "iopub.status.idle": "2024-09-21T03:29:49.066680Z",
     "shell.execute_reply": "2024-09-21T03:29:49.065177Z",
     "shell.execute_reply.started": "2024-09-21T03:29:49.044978Z"
    }
   },
   "outputs": [
    {
     "data": {
      "text/plain": [
       "[1, 2, 3, 5]"
      ]
     },
     "execution_count": 37,
     "metadata": {},
     "output_type": "execute_result"
    }
   ],
   "source": [
    "ini_list[:4] # ini mirip LEFT di Excel"
   ]
  },
  {
   "cell_type": "code",
   "execution_count": 29,
   "id": "08d070c8-0c6f-4edc-a926-44372d457e79",
   "metadata": {
    "execution": {
     "iopub.execute_input": "2024-09-21T03:28:14.480073Z",
     "iopub.status.busy": "2024-09-21T03:28:14.479076Z",
     "iopub.status.idle": "2024-09-21T03:28:14.491287Z",
     "shell.execute_reply": "2024-09-21T03:28:14.487291Z",
     "shell.execute_reply.started": "2024-09-21T03:28:14.480073Z"
    }
   },
   "outputs": [],
   "source": [
    "ini_list = [1, 2, 3, 5, 0, 0.5, 'teks']"
   ]
  },
  {
   "cell_type": "code",
   "execution_count": 39,
   "id": "11710519-b245-4be4-812c-9033973c4298",
   "metadata": {
    "execution": {
     "iopub.execute_input": "2024-09-21T03:30:49.983182Z",
     "iopub.status.busy": "2024-09-21T03:30:49.982187Z",
     "iopub.status.idle": "2024-09-21T03:30:50.006812Z",
     "shell.execute_reply": "2024-09-21T03:30:50.005253Z",
     "shell.execute_reply.started": "2024-09-21T03:30:49.983182Z"
    }
   },
   "outputs": [
    {
     "data": {
      "text/plain": [
       "[3, 5]"
      ]
     },
     "execution_count": 39,
     "metadata": {},
     "output_type": "execute_result"
    }
   ],
   "source": [
    "ini_list[2:4] # ini mirip MID"
   ]
  },
  {
   "cell_type": "markdown",
   "id": "8108d161-c209-4e71-b4b5-b94d1801be8c",
   "metadata": {},
   "source": [
    "## Panjang List"
   ]
  },
  {
   "cell_type": "code",
   "execution_count": 40,
   "id": "96be0ad4-b578-4d8d-bff0-5cea96ef42a7",
   "metadata": {
    "execution": {
     "iopub.execute_input": "2024-09-21T03:31:17.740101Z",
     "iopub.status.busy": "2024-09-21T03:31:17.740101Z",
     "iopub.status.idle": "2024-09-21T03:31:17.749601Z",
     "shell.execute_reply": "2024-09-21T03:31:17.748603Z",
     "shell.execute_reply.started": "2024-09-21T03:31:17.740101Z"
    }
   },
   "outputs": [
    {
     "data": {
      "text/plain": [
       "7"
      ]
     },
     "execution_count": 40,
     "metadata": {},
     "output_type": "execute_result"
    }
   ],
   "source": [
    "len(ini_list)"
   ]
  },
  {
   "cell_type": "code",
   "execution_count": 41,
   "id": "a7873faa-c025-42b4-8462-dc0b6dc3fadd",
   "metadata": {
    "execution": {
     "iopub.execute_input": "2024-09-21T03:31:57.138796Z",
     "iopub.status.busy": "2024-09-21T03:31:57.137799Z",
     "iopub.status.idle": "2024-09-21T03:31:57.147949Z",
     "shell.execute_reply": "2024-09-21T03:31:57.146955Z",
     "shell.execute_reply.started": "2024-09-21T03:31:57.138796Z"
    }
   },
   "outputs": [],
   "source": [
    "len_list = len(ini_list)"
   ]
  },
  {
   "cell_type": "code",
   "execution_count": 42,
   "id": "c3c7aafb-3149-4b81-83e5-4dab8bd1befd",
   "metadata": {
    "execution": {
     "iopub.execute_input": "2024-09-21T03:32:01.208533Z",
     "iopub.status.busy": "2024-09-21T03:32:01.208533Z",
     "iopub.status.idle": "2024-09-21T03:32:01.218046Z",
     "shell.execute_reply": "2024-09-21T03:32:01.217050Z",
     "shell.execute_reply.started": "2024-09-21T03:32:01.208533Z"
    }
   },
   "outputs": [
    {
     "data": {
      "text/plain": [
       "7"
      ]
     },
     "execution_count": 42,
     "metadata": {},
     "output_type": "execute_result"
    }
   ],
   "source": [
    "len_list"
   ]
  },
  {
   "cell_type": "code",
   "execution_count": 44,
   "id": "2bf6a0c7-a991-406c-8f86-5b7e2b9f0ed1",
   "metadata": {
    "execution": {
     "iopub.execute_input": "2024-09-21T03:32:33.154107Z",
     "iopub.status.busy": "2024-09-21T03:32:33.154107Z",
     "iopub.status.idle": "2024-09-21T03:32:33.164589Z",
     "shell.execute_reply": "2024-09-21T03:32:33.163592Z",
     "shell.execute_reply.started": "2024-09-21T03:32:33.154107Z"
    }
   },
   "outputs": [
    {
     "data": {
      "text/plain": [
       "'teks'"
      ]
     },
     "execution_count": 44,
     "metadata": {},
     "output_type": "execute_result"
    }
   ],
   "source": [
    "ini_list[len_list-1]"
   ]
  },
  {
   "cell_type": "code",
   "execution_count": 46,
   "id": "17b51679-8045-4027-8ab8-5242fa3eea05",
   "metadata": {
    "execution": {
     "iopub.execute_input": "2024-09-21T03:33:23.963143Z",
     "iopub.status.busy": "2024-09-21T03:33:23.963143Z",
     "iopub.status.idle": "2024-09-21T03:33:23.985639Z",
     "shell.execute_reply": "2024-09-21T03:33:23.984128Z",
     "shell.execute_reply.started": "2024-09-21T03:33:23.963143Z"
    }
   },
   "outputs": [
    {
     "data": {
      "text/plain": [
       "'teks'"
      ]
     },
     "execution_count": 46,
     "metadata": {},
     "output_type": "execute_result"
    }
   ],
   "source": [
    "ini_list[-1] # ini seperti RIGHT di Excel"
   ]
  },
  {
   "cell_type": "markdown",
   "id": "6cf73887-a254-4440-a603-52a36dce5e2e",
   "metadata": {},
   "source": [
    "## Teks = List"
   ]
  },
  {
   "cell_type": "code",
   "execution_count": 47,
   "id": "942787c9-9bf0-4127-9229-9b6039e42d4f",
   "metadata": {
    "execution": {
     "iopub.execute_input": "2024-09-21T03:33:47.297093Z",
     "iopub.status.busy": "2024-09-21T03:33:47.296067Z",
     "iopub.status.idle": "2024-09-21T03:33:47.306675Z",
     "shell.execute_reply": "2024-09-21T03:33:47.305672Z",
     "shell.execute_reply.started": "2024-09-21T03:33:47.297093Z"
    }
   },
   "outputs": [],
   "source": [
    "var_teks = 'ini adalah teks python'"
   ]
  },
  {
   "cell_type": "code",
   "execution_count": 48,
   "id": "b66a9f7d-da89-471e-9b46-8ded17804378",
   "metadata": {
    "execution": {
     "iopub.execute_input": "2024-09-21T03:33:49.800949Z",
     "iopub.status.busy": "2024-09-21T03:33:49.800949Z",
     "iopub.status.idle": "2024-09-21T03:33:49.826052Z",
     "shell.execute_reply": "2024-09-21T03:33:49.824543Z",
     "shell.execute_reply.started": "2024-09-21T03:33:49.800949Z"
    }
   },
   "outputs": [
    {
     "data": {
      "text/plain": [
       "'ini adalah teks python'"
      ]
     },
     "execution_count": 48,
     "metadata": {},
     "output_type": "execute_result"
    }
   ],
   "source": [
    "var_teks"
   ]
  },
  {
   "cell_type": "code",
   "execution_count": 49,
   "id": "42cbd1cf-c1a5-4e6b-9a77-2e523994efb2",
   "metadata": {
    "execution": {
     "iopub.execute_input": "2024-09-21T03:34:02.613015Z",
     "iopub.status.busy": "2024-09-21T03:34:02.612017Z",
     "iopub.status.idle": "2024-09-21T03:34:02.622508Z",
     "shell.execute_reply": "2024-09-21T03:34:02.621545Z",
     "shell.execute_reply.started": "2024-09-21T03:34:02.613015Z"
    }
   },
   "outputs": [
    {
     "data": {
      "text/plain": [
       "'i'"
      ]
     },
     "execution_count": 49,
     "metadata": {},
     "output_type": "execute_result"
    }
   ],
   "source": [
    "var_teks[0]"
   ]
  },
  {
   "cell_type": "code",
   "execution_count": 50,
   "id": "56438310-c139-4d8d-b50b-befc07bc2909",
   "metadata": {
    "execution": {
     "iopub.execute_input": "2024-09-21T03:34:09.054560Z",
     "iopub.status.busy": "2024-09-21T03:34:09.054560Z",
     "iopub.status.idle": "2024-09-21T03:34:09.064600Z",
     "shell.execute_reply": "2024-09-21T03:34:09.063605Z",
     "shell.execute_reply.started": "2024-09-21T03:34:09.054560Z"
    }
   },
   "outputs": [
    {
     "data": {
      "text/plain": [
       "'n'"
      ]
     },
     "execution_count": 50,
     "metadata": {},
     "output_type": "execute_result"
    }
   ],
   "source": [
    "var_teks[-1]"
   ]
  },
  {
   "cell_type": "code",
   "execution_count": 52,
   "id": "fb180385-0767-410c-88d3-6674a5583ac1",
   "metadata": {
    "execution": {
     "iopub.execute_input": "2024-09-21T03:34:35.784211Z",
     "iopub.status.busy": "2024-09-21T03:34:35.784211Z",
     "iopub.status.idle": "2024-09-21T03:34:35.794266Z",
     "shell.execute_reply": "2024-09-21T03:34:35.793268Z",
     "shell.execute_reply.started": "2024-09-21T03:34:35.784211Z"
    }
   },
   "outputs": [
    {
     "data": {
      "text/plain": [
       "'ini '"
      ]
     },
     "execution_count": 52,
     "metadata": {},
     "output_type": "execute_result"
    }
   ],
   "source": [
    "var_teks[0:4] # LEFT"
   ]
  },
  {
   "cell_type": "code",
   "execution_count": 53,
   "id": "cd79e0d6-fffb-4d67-ada3-749901020fde",
   "metadata": {
    "execution": {
     "iopub.execute_input": "2024-09-21T03:34:49.169979Z",
     "iopub.status.busy": "2024-09-21T03:34:49.168983Z",
     "iopub.status.idle": "2024-09-21T03:34:49.196060Z",
     "shell.execute_reply": "2024-09-21T03:34:49.194067Z",
     "shell.execute_reply.started": "2024-09-21T03:34:49.169979Z"
    }
   },
   "outputs": [
    {
     "data": {
      "text/plain": [
       "'da'"
      ]
     },
     "execution_count": 53,
     "metadata": {},
     "output_type": "execute_result"
    }
   ],
   "source": [
    "var_teks[5: 7] # MID"
   ]
  },
  {
   "cell_type": "code",
   "execution_count": 55,
   "id": "4757d88f-43b7-4032-856f-c41831ec3343",
   "metadata": {
    "execution": {
     "iopub.execute_input": "2024-09-21T03:35:42.034519Z",
     "iopub.status.busy": "2024-09-21T03:35:42.034519Z",
     "iopub.status.idle": "2024-09-21T03:35:42.044038Z",
     "shell.execute_reply": "2024-09-21T03:35:42.043086Z",
     "shell.execute_reply.started": "2024-09-21T03:35:42.034519Z"
    }
   },
   "outputs": [
    {
     "data": {
      "text/plain": [
       "'ini adalah t'"
      ]
     },
     "execution_count": 55,
     "metadata": {},
     "output_type": "execute_result"
    }
   ],
   "source": [
    "var_teks[:-10]"
   ]
  },
  {
   "cell_type": "code",
   "execution_count": 56,
   "id": "75e4cc96-5667-45c4-a19b-e3db83aa4763",
   "metadata": {
    "execution": {
     "iopub.execute_input": "2024-09-21T03:35:52.048629Z",
     "iopub.status.busy": "2024-09-21T03:35:52.048629Z",
     "iopub.status.idle": "2024-09-21T03:35:52.069640Z",
     "shell.execute_reply": "2024-09-21T03:35:52.067644Z",
     "shell.execute_reply.started": "2024-09-21T03:35:52.048629Z"
    }
   },
   "outputs": [
    {
     "data": {
      "text/plain": [
       "'eks python'"
      ]
     },
     "execution_count": 56,
     "metadata": {},
     "output_type": "execute_result"
    }
   ],
   "source": [
    "var_teks[-10:]"
   ]
  },
  {
   "cell_type": "code",
   "execution_count": null,
   "id": "3ea3c81e-f207-4aab-92be-1b7882539ec5",
   "metadata": {},
   "outputs": [],
   "source": []
  },
  {
   "cell_type": "code",
   "execution_count": 57,
   "id": "2ba2cdec-1135-4f90-a4b8-256d70d155eb",
   "metadata": {
    "execution": {
     "iopub.execute_input": "2024-09-21T03:36:26.700902Z",
     "iopub.status.busy": "2024-09-21T03:36:26.700902Z",
     "iopub.status.idle": "2024-09-21T03:36:26.711014Z",
     "shell.execute_reply": "2024-09-21T03:36:26.710017Z",
     "shell.execute_reply.started": "2024-09-21T03:36:26.700902Z"
    }
   },
   "outputs": [
    {
     "data": {
      "text/plain": [
       "[1, 2, 3, 5, 0, 0.5, 'teks']"
      ]
     },
     "execution_count": 57,
     "metadata": {},
     "output_type": "execute_result"
    }
   ],
   "source": [
    "ini_list"
   ]
  },
  {
   "cell_type": "code",
   "execution_count": 61,
   "id": "b7be21df-faff-49e5-82dc-1037ced2ee08",
   "metadata": {
    "execution": {
     "iopub.execute_input": "2024-09-21T03:38:09.688007Z",
     "iopub.status.busy": "2024-09-21T03:38:09.687006Z",
     "iopub.status.idle": "2024-09-21T03:38:09.696550Z",
     "shell.execute_reply": "2024-09-21T03:38:09.695498Z",
     "shell.execute_reply.started": "2024-09-21T03:38:09.688007Z"
    }
   },
   "outputs": [
    {
     "name": "stdout",
     "output_type": "stream",
     "text": [
      "1\n",
      "2\n",
      "3\n",
      "5\n",
      "0\n",
      "0.5\n",
      "teks\n"
     ]
    }
   ],
   "source": [
    "list_baru = [-5, -1]\n",
    "\n",
    "for li in ini_list:\n",
    "    print(li)\n",
    "    try:\n",
    "        if li < 5:\n",
    "            list_baru.append(li)\n",
    "    except: pass"
   ]
  },
  {
   "cell_type": "code",
   "execution_count": 62,
   "id": "c0331aa8-4d61-4872-bd8f-837d67eb1b2d",
   "metadata": {
    "execution": {
     "iopub.execute_input": "2024-09-21T03:38:18.887894Z",
     "iopub.status.busy": "2024-09-21T03:38:18.887894Z",
     "iopub.status.idle": "2024-09-21T03:38:18.896962Z",
     "shell.execute_reply": "2024-09-21T03:38:18.895960Z",
     "shell.execute_reply.started": "2024-09-21T03:38:18.887894Z"
    }
   },
   "outputs": [
    {
     "data": {
      "text/plain": [
       "[-5, -1, 1, 2, 3, 0, 0.5]"
      ]
     },
     "execution_count": 62,
     "metadata": {},
     "output_type": "execute_result"
    }
   ],
   "source": [
    "list_baru"
   ]
  },
  {
   "cell_type": "markdown",
   "id": "bdb086c1-e03b-457b-976d-ef797cedb58a",
   "metadata": {},
   "source": [
    "# Dictionary"
   ]
  },
  {
   "cell_type": "markdown",
   "id": "be68cf63-b1e9-4ee5-b92f-2c66a5d9ad92",
   "metadata": {
    "execution": {
     "iopub.execute_input": "2024-09-21T03:39:33.863671Z",
     "iopub.status.busy": "2024-09-21T03:39:33.862701Z",
     "iopub.status.idle": "2024-09-21T03:39:33.873716Z",
     "shell.execute_reply": "2024-09-21T03:39:33.872718Z",
     "shell.execute_reply.started": "2024-09-21T03:39:33.863671Z"
    }
   },
   "source": [
    "key: value\n",
    "key -> judul\n",
    "value -> data/baris data"
   ]
  },
  {
   "cell_type": "code",
   "execution_count": 69,
   "id": "237d5116-2c1e-4032-91f9-a267e4ede8c6",
   "metadata": {
    "execution": {
     "iopub.execute_input": "2024-09-21T03:41:27.498357Z",
     "iopub.status.busy": "2024-09-21T03:41:27.498357Z",
     "iopub.status.idle": "2024-09-21T03:41:27.508302Z",
     "shell.execute_reply": "2024-09-21T03:41:27.507299Z",
     "shell.execute_reply.started": "2024-09-21T03:41:27.498357Z"
    }
   },
   "outputs": [],
   "source": [
    "var_dict = {\n",
    "    'col1': 10,\n",
    "    'col2': 'teks'\n",
    "}"
   ]
  },
  {
   "cell_type": "code",
   "execution_count": 70,
   "id": "54958088-6552-455a-9e36-6bdf5be7f97e",
   "metadata": {
    "execution": {
     "iopub.execute_input": "2024-09-21T03:41:27.933890Z",
     "iopub.status.busy": "2024-09-21T03:41:27.932892Z",
     "iopub.status.idle": "2024-09-21T03:41:27.954651Z",
     "shell.execute_reply": "2024-09-21T03:41:27.953654Z",
     "shell.execute_reply.started": "2024-09-21T03:41:27.933890Z"
    }
   },
   "outputs": [
    {
     "data": {
      "text/plain": [
       "{'col1': 10, 'col2': 'teks'}"
      ]
     },
     "execution_count": 70,
     "metadata": {},
     "output_type": "execute_result"
    }
   ],
   "source": [
    "var_dict"
   ]
  },
  {
   "cell_type": "code",
   "execution_count": 71,
   "id": "ae8b2100-d89d-4f65-88b3-583f3257c405",
   "metadata": {
    "execution": {
     "iopub.execute_input": "2024-09-21T03:41:29.006604Z",
     "iopub.status.busy": "2024-09-21T03:41:29.004062Z",
     "iopub.status.idle": "2024-09-21T03:41:29.029702Z",
     "shell.execute_reply": "2024-09-21T03:41:29.028742Z",
     "shell.execute_reply.started": "2024-09-21T03:41:29.006604Z"
    }
   },
   "outputs": [
    {
     "data": {
      "text/plain": [
       "10"
      ]
     },
     "execution_count": 71,
     "metadata": {},
     "output_type": "execute_result"
    }
   ],
   "source": [
    "var_dict['col1']"
   ]
  },
  {
   "cell_type": "code",
   "execution_count": 72,
   "id": "0ad56046-2334-470f-9f76-bd173f6dccd3",
   "metadata": {
    "execution": {
     "iopub.execute_input": "2024-09-21T03:41:40.995657Z",
     "iopub.status.busy": "2024-09-21T03:41:40.995657Z",
     "iopub.status.idle": "2024-09-21T03:41:41.005650Z",
     "shell.execute_reply": "2024-09-21T03:41:41.004652Z",
     "shell.execute_reply.started": "2024-09-21T03:41:40.995657Z"
    }
   },
   "outputs": [
    {
     "data": {
      "text/plain": [
       "'teks'"
      ]
     },
     "execution_count": 72,
     "metadata": {},
     "output_type": "execute_result"
    }
   ],
   "source": [
    "var_dict['col2']"
   ]
  },
  {
   "cell_type": "code",
   "execution_count": 76,
   "id": "2c599c1f-343a-4ee4-9ae0-fdceeedc3702",
   "metadata": {
    "execution": {
     "iopub.execute_input": "2024-09-21T03:43:45.532082Z",
     "iopub.status.busy": "2024-09-21T03:43:45.532082Z",
     "iopub.status.idle": "2024-09-21T03:43:45.553718Z",
     "shell.execute_reply": "2024-09-21T03:43:45.552721Z",
     "shell.execute_reply.started": "2024-09-21T03:43:45.532082Z"
    }
   },
   "outputs": [
    {
     "name": "stdout",
     "output_type": "stream",
     "text": [
      "ini halaman ke 1\n",
      "ini halaman ke 2\n",
      "ini halaman ke 3\n",
      "ini halaman ke 4\n",
      "ini halaman ke 5\n",
      "ini halaman ke 6\n",
      "ini halaman ke 7\n",
      "ini halaman ke 8\n",
      "ini halaman ke 9\n",
      "ini halaman ke 10\n"
     ]
    }
   ],
   "source": [
    "li_baru = []\n",
    "\n",
    "for i in range(1, 11):\n",
    "    print('ini halaman ke', i)\n",
    "    var_dict = {\n",
    "        'col1': i,\n",
    "        'col2': 'ini halaman ke-' + str(i)\n",
    "    }\n",
    "    #print(var_dict)\n",
    "    li_baru.append(var_dict)"
   ]
  },
  {
   "cell_type": "code",
   "execution_count": 77,
   "id": "f53b9a2c-26ed-4eba-b1a0-88b7a2e89175",
   "metadata": {
    "execution": {
     "iopub.execute_input": "2024-09-21T03:43:49.459915Z",
     "iopub.status.busy": "2024-09-21T03:43:49.458917Z",
     "iopub.status.idle": "2024-09-21T03:43:49.489858Z",
     "shell.execute_reply": "2024-09-21T03:43:49.487861Z",
     "shell.execute_reply.started": "2024-09-21T03:43:49.459915Z"
    }
   },
   "outputs": [
    {
     "data": {
      "text/plain": [
       "[{'col1': 1, 'col2': 'ini halaman ke-1'},\n",
       " {'col1': 2, 'col2': 'ini halaman ke-2'},\n",
       " {'col1': 3, 'col2': 'ini halaman ke-3'},\n",
       " {'col1': 4, 'col2': 'ini halaman ke-4'},\n",
       " {'col1': 5, 'col2': 'ini halaman ke-5'},\n",
       " {'col1': 6, 'col2': 'ini halaman ke-6'},\n",
       " {'col1': 7, 'col2': 'ini halaman ke-7'},\n",
       " {'col1': 8, 'col2': 'ini halaman ke-8'},\n",
       " {'col1': 9, 'col2': 'ini halaman ke-9'},\n",
       " {'col1': 10, 'col2': 'ini halaman ke-10'}]"
      ]
     },
     "execution_count": 77,
     "metadata": {},
     "output_type": "execute_result"
    }
   ],
   "source": [
    "li_baru"
   ]
  },
  {
   "cell_type": "code",
   "execution_count": 78,
   "id": "eb8e2cf6-1d2c-41fd-838c-fe09c0efcd62",
   "metadata": {
    "execution": {
     "iopub.execute_input": "2024-09-21T03:44:10.406636Z",
     "iopub.status.busy": "2024-09-21T03:44:10.405611Z",
     "iopub.status.idle": "2024-09-21T03:44:10.418178Z",
     "shell.execute_reply": "2024-09-21T03:44:10.413622Z",
     "shell.execute_reply.started": "2024-09-21T03:44:10.406636Z"
    }
   },
   "outputs": [],
   "source": [
    "import pandas as pd"
   ]
  },
  {
   "cell_type": "code",
   "execution_count": 79,
   "id": "775ae41b-3135-432d-9c16-b93bea201852",
   "metadata": {
    "execution": {
     "iopub.execute_input": "2024-09-21T03:44:31.312612Z",
     "iopub.status.busy": "2024-09-21T03:44:31.311615Z",
     "iopub.status.idle": "2024-09-21T03:44:31.338385Z",
     "shell.execute_reply": "2024-09-21T03:44:31.337389Z",
     "shell.execute_reply.started": "2024-09-21T03:44:31.312612Z"
    }
   },
   "outputs": [],
   "source": [
    "df = pd.DataFrame(li_baru)"
   ]
  },
  {
   "cell_type": "code",
   "execution_count": 80,
   "id": "82dc29da-3ecc-4a42-a51b-fb33ec5d3357",
   "metadata": {
    "execution": {
     "iopub.execute_input": "2024-09-21T03:44:32.737186Z",
     "iopub.status.busy": "2024-09-21T03:44:32.736194Z",
     "iopub.status.idle": "2024-09-21T03:44:32.777821Z",
     "shell.execute_reply": "2024-09-21T03:44:32.776860Z",
     "shell.execute_reply.started": "2024-09-21T03:44:32.737186Z"
    }
   },
   "outputs": [
    {
     "data": {
      "text/html": [
       "<div>\n",
       "<style scoped>\n",
       "    .dataframe tbody tr th:only-of-type {\n",
       "        vertical-align: middle;\n",
       "    }\n",
       "\n",
       "    .dataframe tbody tr th {\n",
       "        vertical-align: top;\n",
       "    }\n",
       "\n",
       "    .dataframe thead th {\n",
       "        text-align: right;\n",
       "    }\n",
       "</style>\n",
       "<table border=\"1\" class=\"dataframe\">\n",
       "  <thead>\n",
       "    <tr style=\"text-align: right;\">\n",
       "      <th></th>\n",
       "      <th>col1</th>\n",
       "      <th>col2</th>\n",
       "    </tr>\n",
       "  </thead>\n",
       "  <tbody>\n",
       "    <tr>\n",
       "      <th>0</th>\n",
       "      <td>1</td>\n",
       "      <td>ini halaman ke-1</td>\n",
       "    </tr>\n",
       "    <tr>\n",
       "      <th>1</th>\n",
       "      <td>2</td>\n",
       "      <td>ini halaman ke-2</td>\n",
       "    </tr>\n",
       "    <tr>\n",
       "      <th>2</th>\n",
       "      <td>3</td>\n",
       "      <td>ini halaman ke-3</td>\n",
       "    </tr>\n",
       "    <tr>\n",
       "      <th>3</th>\n",
       "      <td>4</td>\n",
       "      <td>ini halaman ke-4</td>\n",
       "    </tr>\n",
       "    <tr>\n",
       "      <th>4</th>\n",
       "      <td>5</td>\n",
       "      <td>ini halaman ke-5</td>\n",
       "    </tr>\n",
       "    <tr>\n",
       "      <th>5</th>\n",
       "      <td>6</td>\n",
       "      <td>ini halaman ke-6</td>\n",
       "    </tr>\n",
       "    <tr>\n",
       "      <th>6</th>\n",
       "      <td>7</td>\n",
       "      <td>ini halaman ke-7</td>\n",
       "    </tr>\n",
       "    <tr>\n",
       "      <th>7</th>\n",
       "      <td>8</td>\n",
       "      <td>ini halaman ke-8</td>\n",
       "    </tr>\n",
       "    <tr>\n",
       "      <th>8</th>\n",
       "      <td>9</td>\n",
       "      <td>ini halaman ke-9</td>\n",
       "    </tr>\n",
       "    <tr>\n",
       "      <th>9</th>\n",
       "      <td>10</td>\n",
       "      <td>ini halaman ke-10</td>\n",
       "    </tr>\n",
       "  </tbody>\n",
       "</table>\n",
       "</div>"
      ],
      "text/plain": [
       "   col1               col2\n",
       "0     1   ini halaman ke-1\n",
       "1     2   ini halaman ke-2\n",
       "2     3   ini halaman ke-3\n",
       "3     4   ini halaman ke-4\n",
       "4     5   ini halaman ke-5\n",
       "5     6   ini halaman ke-6\n",
       "6     7   ini halaman ke-7\n",
       "7     8   ini halaman ke-8\n",
       "8     9   ini halaman ke-9\n",
       "9    10  ini halaman ke-10"
      ]
     },
     "execution_count": 80,
     "metadata": {},
     "output_type": "execute_result"
    }
   ],
   "source": [
    "df"
   ]
  },
  {
   "cell_type": "code",
   "execution_count": 81,
   "id": "7dabc49d-480a-42fd-bd08-5f359d1f5817",
   "metadata": {
    "execution": {
     "iopub.execute_input": "2024-09-21T03:46:13.035259Z",
     "iopub.status.busy": "2024-09-21T03:46:13.035259Z",
     "iopub.status.idle": "2024-09-21T03:46:14.287459Z",
     "shell.execute_reply": "2024-09-21T03:46:14.286568Z",
     "shell.execute_reply.started": "2024-09-21T03:46:13.035259Z"
    }
   },
   "outputs": [],
   "source": [
    "df.to_excel('ini_col.xlsx')"
   ]
  },
  {
   "cell_type": "markdown",
   "id": "65f8ba5d-de05-48da-b184-e1105d63a2a4",
   "metadata": {},
   "source": [
    "# Baca Tulis File"
   ]
  },
  {
   "cell_type": "code",
   "execution_count": 82,
   "id": "ae3d534e-7b98-45ca-93dc-e91118de4c32",
   "metadata": {
    "execution": {
     "iopub.execute_input": "2024-09-21T03:47:56.397335Z",
     "iopub.status.busy": "2024-09-21T03:47:56.396339Z",
     "iopub.status.idle": "2024-09-21T03:47:56.451527Z",
     "shell.execute_reply": "2024-09-21T03:47:56.450528Z",
     "shell.execute_reply.started": "2024-09-21T03:47:56.397335Z"
    }
   },
   "outputs": [],
   "source": [
    "df_baru = pd.read_excel('D:\\OneDriveAanSubarkahOutlook\\OneDrive\\SekolahSabtuAuditor\\ssa\\BasicPython\\ini_col.xlsx')"
   ]
  },
  {
   "cell_type": "code",
   "execution_count": 83,
   "id": "5c9a1b52-b9bf-4ce5-9dff-c668b3013d05",
   "metadata": {
    "execution": {
     "iopub.execute_input": "2024-09-21T03:47:58.771290Z",
     "iopub.status.busy": "2024-09-21T03:47:58.770292Z",
     "iopub.status.idle": "2024-09-21T03:47:58.797164Z",
     "shell.execute_reply": "2024-09-21T03:47:58.795164Z",
     "shell.execute_reply.started": "2024-09-21T03:47:58.771290Z"
    }
   },
   "outputs": [
    {
     "data": {
      "text/html": [
       "<div>\n",
       "<style scoped>\n",
       "    .dataframe tbody tr th:only-of-type {\n",
       "        vertical-align: middle;\n",
       "    }\n",
       "\n",
       "    .dataframe tbody tr th {\n",
       "        vertical-align: top;\n",
       "    }\n",
       "\n",
       "    .dataframe thead th {\n",
       "        text-align: right;\n",
       "    }\n",
       "</style>\n",
       "<table border=\"1\" class=\"dataframe\">\n",
       "  <thead>\n",
       "    <tr style=\"text-align: right;\">\n",
       "      <th></th>\n",
       "      <th>Unnamed: 0</th>\n",
       "      <th>col1</th>\n",
       "      <th>col2</th>\n",
       "    </tr>\n",
       "  </thead>\n",
       "  <tbody>\n",
       "    <tr>\n",
       "      <th>0</th>\n",
       "      <td>0</td>\n",
       "      <td>1</td>\n",
       "      <td>ini halaman ke-1</td>\n",
       "    </tr>\n",
       "    <tr>\n",
       "      <th>1</th>\n",
       "      <td>1</td>\n",
       "      <td>2</td>\n",
       "      <td>ini halaman ke-2</td>\n",
       "    </tr>\n",
       "    <tr>\n",
       "      <th>2</th>\n",
       "      <td>2</td>\n",
       "      <td>3</td>\n",
       "      <td>ini halaman ke-3</td>\n",
       "    </tr>\n",
       "    <tr>\n",
       "      <th>3</th>\n",
       "      <td>3</td>\n",
       "      <td>4</td>\n",
       "      <td>ini halaman ke-4</td>\n",
       "    </tr>\n",
       "    <tr>\n",
       "      <th>4</th>\n",
       "      <td>4</td>\n",
       "      <td>5</td>\n",
       "      <td>ini halaman ke-5</td>\n",
       "    </tr>\n",
       "    <tr>\n",
       "      <th>5</th>\n",
       "      <td>5</td>\n",
       "      <td>6</td>\n",
       "      <td>ini halaman ke-6</td>\n",
       "    </tr>\n",
       "    <tr>\n",
       "      <th>6</th>\n",
       "      <td>6</td>\n",
       "      <td>7</td>\n",
       "      <td>ini halaman ke-7</td>\n",
       "    </tr>\n",
       "    <tr>\n",
       "      <th>7</th>\n",
       "      <td>7</td>\n",
       "      <td>8</td>\n",
       "      <td>ini halaman ke-8</td>\n",
       "    </tr>\n",
       "    <tr>\n",
       "      <th>8</th>\n",
       "      <td>8</td>\n",
       "      <td>9</td>\n",
       "      <td>ini halaman ke-9</td>\n",
       "    </tr>\n",
       "    <tr>\n",
       "      <th>9</th>\n",
       "      <td>9</td>\n",
       "      <td>10</td>\n",
       "      <td>ini halaman ke-10</td>\n",
       "    </tr>\n",
       "  </tbody>\n",
       "</table>\n",
       "</div>"
      ],
      "text/plain": [
       "   Unnamed: 0  col1               col2\n",
       "0           0     1   ini halaman ke-1\n",
       "1           1     2   ini halaman ke-2\n",
       "2           2     3   ini halaman ke-3\n",
       "3           3     4   ini halaman ke-4\n",
       "4           4     5   ini halaman ke-5\n",
       "5           5     6   ini halaman ke-6\n",
       "6           6     7   ini halaman ke-7\n",
       "7           7     8   ini halaman ke-8\n",
       "8           8     9   ini halaman ke-9\n",
       "9           9    10  ini halaman ke-10"
      ]
     },
     "execution_count": 83,
     "metadata": {},
     "output_type": "execute_result"
    }
   ],
   "source": [
    "df_baru"
   ]
  },
  {
   "cell_type": "markdown",
   "id": "7950fc71-b25d-48d4-88fe-7e7cf619ebe3",
   "metadata": {},
   "source": [
    "## Alamat Statis"
   ]
  },
  {
   "cell_type": "code",
   "execution_count": 92,
   "id": "b9bb7a8b-074a-4716-aace-f57c34753226",
   "metadata": {
    "execution": {
     "iopub.execute_input": "2024-09-21T03:51:42.979173Z",
     "iopub.status.busy": "2024-09-21T03:51:42.979173Z",
     "iopub.status.idle": "2024-09-21T03:51:43.017340Z",
     "shell.execute_reply": "2024-09-21T03:51:43.015338Z",
     "shell.execute_reply.started": "2024-09-21T03:51:42.979173Z"
    }
   },
   "outputs": [],
   "source": [
    "df_baru1 = pd.read_excel('D:\\\\OneDriveAanSubarkahOutlook\\\\OneDrive\\\\SekolahSabtuAuditor\\\\ssa\\\\BasicPython\\\\excel\\\\ini_col.xlsx')"
   ]
  },
  {
   "cell_type": "code",
   "execution_count": 93,
   "id": "4292e01d-5869-4e19-8aa9-5b53a40d61b6",
   "metadata": {
    "execution": {
     "iopub.execute_input": "2024-09-21T03:51:43.732748Z",
     "iopub.status.busy": "2024-09-21T03:51:43.730755Z",
     "iopub.status.idle": "2024-09-21T03:51:43.764137Z",
     "shell.execute_reply": "2024-09-21T03:51:43.762143Z",
     "shell.execute_reply.started": "2024-09-21T03:51:43.732748Z"
    }
   },
   "outputs": [
    {
     "data": {
      "text/html": [
       "<div>\n",
       "<style scoped>\n",
       "    .dataframe tbody tr th:only-of-type {\n",
       "        vertical-align: middle;\n",
       "    }\n",
       "\n",
       "    .dataframe tbody tr th {\n",
       "        vertical-align: top;\n",
       "    }\n",
       "\n",
       "    .dataframe thead th {\n",
       "        text-align: right;\n",
       "    }\n",
       "</style>\n",
       "<table border=\"1\" class=\"dataframe\">\n",
       "  <thead>\n",
       "    <tr style=\"text-align: right;\">\n",
       "      <th></th>\n",
       "      <th>Unnamed: 0</th>\n",
       "      <th>col1</th>\n",
       "      <th>col2</th>\n",
       "    </tr>\n",
       "  </thead>\n",
       "  <tbody>\n",
       "    <tr>\n",
       "      <th>0</th>\n",
       "      <td>0</td>\n",
       "      <td>1</td>\n",
       "      <td>ini halaman ke-1</td>\n",
       "    </tr>\n",
       "    <tr>\n",
       "      <th>1</th>\n",
       "      <td>1</td>\n",
       "      <td>2</td>\n",
       "      <td>ini halaman ke-2</td>\n",
       "    </tr>\n",
       "    <tr>\n",
       "      <th>2</th>\n",
       "      <td>2</td>\n",
       "      <td>3</td>\n",
       "      <td>ini halaman ke-3</td>\n",
       "    </tr>\n",
       "    <tr>\n",
       "      <th>3</th>\n",
       "      <td>3</td>\n",
       "      <td>4</td>\n",
       "      <td>ini halaman ke-4</td>\n",
       "    </tr>\n",
       "    <tr>\n",
       "      <th>4</th>\n",
       "      <td>4</td>\n",
       "      <td>5</td>\n",
       "      <td>ini halaman ke-5</td>\n",
       "    </tr>\n",
       "    <tr>\n",
       "      <th>5</th>\n",
       "      <td>5</td>\n",
       "      <td>6</td>\n",
       "      <td>ini halaman ke-6</td>\n",
       "    </tr>\n",
       "    <tr>\n",
       "      <th>6</th>\n",
       "      <td>6</td>\n",
       "      <td>7</td>\n",
       "      <td>ini halaman ke-7</td>\n",
       "    </tr>\n",
       "    <tr>\n",
       "      <th>7</th>\n",
       "      <td>7</td>\n",
       "      <td>8</td>\n",
       "      <td>ini halaman ke-8</td>\n",
       "    </tr>\n",
       "    <tr>\n",
       "      <th>8</th>\n",
       "      <td>8</td>\n",
       "      <td>9</td>\n",
       "      <td>ini halaman ke-9</td>\n",
       "    </tr>\n",
       "    <tr>\n",
       "      <th>9</th>\n",
       "      <td>9</td>\n",
       "      <td>10</td>\n",
       "      <td>ini halaman ke-10</td>\n",
       "    </tr>\n",
       "  </tbody>\n",
       "</table>\n",
       "</div>"
      ],
      "text/plain": [
       "   Unnamed: 0  col1               col2\n",
       "0           0     1   ini halaman ke-1\n",
       "1           1     2   ini halaman ke-2\n",
       "2           2     3   ini halaman ke-3\n",
       "3           3     4   ini halaman ke-4\n",
       "4           4     5   ini halaman ke-5\n",
       "5           5     6   ini halaman ke-6\n",
       "6           6     7   ini halaman ke-7\n",
       "7           7     8   ini halaman ke-8\n",
       "8           8     9   ini halaman ke-9\n",
       "9           9    10  ini halaman ke-10"
      ]
     },
     "execution_count": 93,
     "metadata": {},
     "output_type": "execute_result"
    }
   ],
   "source": [
    "df_baru1"
   ]
  },
  {
   "cell_type": "markdown",
   "id": "d2a6e5d4-35fc-4b6a-832d-2e00c3471811",
   "metadata": {},
   "source": [
    "## Alamat Dinamis"
   ]
  },
  {
   "cell_type": "code",
   "execution_count": 94,
   "id": "778678c1-fa74-493f-a55e-f8e067f43a87",
   "metadata": {
    "execution": {
     "iopub.execute_input": "2024-09-21T03:52:10.401051Z",
     "iopub.status.busy": "2024-09-21T03:52:10.400054Z",
     "iopub.status.idle": "2024-09-21T03:52:10.437803Z",
     "shell.execute_reply": "2024-09-21T03:52:10.435803Z",
     "shell.execute_reply.started": "2024-09-21T03:52:10.400054Z"
    }
   },
   "outputs": [],
   "source": [
    "df_baru2 = pd.read_excel('excel\\\\ini_col.xlsx')"
   ]
  },
  {
   "cell_type": "code",
   "execution_count": 90,
   "id": "6eac8908-4d74-40a9-9ae9-2c5774a9a24b",
   "metadata": {
    "execution": {
     "iopub.execute_input": "2024-09-21T03:50:48.302347Z",
     "iopub.status.busy": "2024-09-21T03:50:48.302347Z",
     "iopub.status.idle": "2024-09-21T03:50:48.324946Z",
     "shell.execute_reply": "2024-09-21T03:50:48.323438Z",
     "shell.execute_reply.started": "2024-09-21T03:50:48.302347Z"
    }
   },
   "outputs": [
    {
     "data": {
      "text/html": [
       "<div>\n",
       "<style scoped>\n",
       "    .dataframe tbody tr th:only-of-type {\n",
       "        vertical-align: middle;\n",
       "    }\n",
       "\n",
       "    .dataframe tbody tr th {\n",
       "        vertical-align: top;\n",
       "    }\n",
       "\n",
       "    .dataframe thead th {\n",
       "        text-align: right;\n",
       "    }\n",
       "</style>\n",
       "<table border=\"1\" class=\"dataframe\">\n",
       "  <thead>\n",
       "    <tr style=\"text-align: right;\">\n",
       "      <th></th>\n",
       "      <th>Unnamed: 0</th>\n",
       "      <th>col1</th>\n",
       "      <th>col2</th>\n",
       "    </tr>\n",
       "  </thead>\n",
       "  <tbody>\n",
       "    <tr>\n",
       "      <th>0</th>\n",
       "      <td>0</td>\n",
       "      <td>1</td>\n",
       "      <td>ini halaman ke-1</td>\n",
       "    </tr>\n",
       "    <tr>\n",
       "      <th>1</th>\n",
       "      <td>1</td>\n",
       "      <td>2</td>\n",
       "      <td>ini halaman ke-2</td>\n",
       "    </tr>\n",
       "    <tr>\n",
       "      <th>2</th>\n",
       "      <td>2</td>\n",
       "      <td>3</td>\n",
       "      <td>ini halaman ke-3</td>\n",
       "    </tr>\n",
       "    <tr>\n",
       "      <th>3</th>\n",
       "      <td>3</td>\n",
       "      <td>4</td>\n",
       "      <td>ini halaman ke-4</td>\n",
       "    </tr>\n",
       "    <tr>\n",
       "      <th>4</th>\n",
       "      <td>4</td>\n",
       "      <td>5</td>\n",
       "      <td>ini halaman ke-5</td>\n",
       "    </tr>\n",
       "    <tr>\n",
       "      <th>5</th>\n",
       "      <td>5</td>\n",
       "      <td>6</td>\n",
       "      <td>ini halaman ke-6</td>\n",
       "    </tr>\n",
       "    <tr>\n",
       "      <th>6</th>\n",
       "      <td>6</td>\n",
       "      <td>7</td>\n",
       "      <td>ini halaman ke-7</td>\n",
       "    </tr>\n",
       "    <tr>\n",
       "      <th>7</th>\n",
       "      <td>7</td>\n",
       "      <td>8</td>\n",
       "      <td>ini halaman ke-8</td>\n",
       "    </tr>\n",
       "    <tr>\n",
       "      <th>8</th>\n",
       "      <td>8</td>\n",
       "      <td>9</td>\n",
       "      <td>ini halaman ke-9</td>\n",
       "    </tr>\n",
       "    <tr>\n",
       "      <th>9</th>\n",
       "      <td>9</td>\n",
       "      <td>10</td>\n",
       "      <td>ini halaman ke-10</td>\n",
       "    </tr>\n",
       "  </tbody>\n",
       "</table>\n",
       "</div>"
      ],
      "text/plain": [
       "   Unnamed: 0  col1               col2\n",
       "0           0     1   ini halaman ke-1\n",
       "1           1     2   ini halaman ke-2\n",
       "2           2     3   ini halaman ke-3\n",
       "3           3     4   ini halaman ke-4\n",
       "4           4     5   ini halaman ke-5\n",
       "5           5     6   ini halaman ke-6\n",
       "6           6     7   ini halaman ke-7\n",
       "7           7     8   ini halaman ke-8\n",
       "8           8     9   ini halaman ke-9\n",
       "9           9    10  ini halaman ke-10"
      ]
     },
     "execution_count": 90,
     "metadata": {},
     "output_type": "execute_result"
    }
   ],
   "source": [
    "df_baru2"
   ]
  },
  {
   "cell_type": "code",
   "execution_count": 95,
   "id": "5325c0a2-0324-4dad-b645-840549436b1c",
   "metadata": {
    "execution": {
     "iopub.execute_input": "2024-09-21T03:52:35.233016Z",
     "iopub.status.busy": "2024-09-21T03:52:35.232021Z",
     "iopub.status.idle": "2024-09-21T03:52:35.241473Z",
     "shell.execute_reply": "2024-09-21T03:52:35.240473Z",
     "shell.execute_reply.started": "2024-09-21T03:52:35.233016Z"
    }
   },
   "outputs": [],
   "source": [
    "import os"
   ]
  },
  {
   "cell_type": "code",
   "execution_count": 96,
   "id": "e58f8043-022c-48cb-8afb-163cf9deb283",
   "metadata": {
    "execution": {
     "iopub.execute_input": "2024-09-21T03:53:10.543471Z",
     "iopub.status.busy": "2024-09-21T03:53:10.543471Z",
     "iopub.status.idle": "2024-09-21T03:53:10.567052Z",
     "shell.execute_reply": "2024-09-21T03:53:10.566056Z",
     "shell.execute_reply.started": "2024-09-21T03:53:10.543471Z"
    }
   },
   "outputs": [],
   "source": [
    "df_baru3 = pd.read_excel(os.path.join('excel', 'ini_col.xlsx'))"
   ]
  },
  {
   "cell_type": "code",
   "execution_count": 98,
   "id": "f2ff9b51-9c31-40b6-a3bc-1232fac4ebbb",
   "metadata": {
    "execution": {
     "iopub.execute_input": "2024-09-21T03:53:49.029927Z",
     "iopub.status.busy": "2024-09-21T03:53:49.028928Z",
     "iopub.status.idle": "2024-09-21T03:53:49.038325Z",
     "shell.execute_reply": "2024-09-21T03:53:49.037326Z",
     "shell.execute_reply.started": "2024-09-21T03:53:49.029927Z"
    }
   },
   "outputs": [
    {
     "data": {
      "text/plain": [
       "'excel\\\\ini_col.xlsx'"
      ]
     },
     "execution_count": 98,
     "metadata": {},
     "output_type": "execute_result"
    }
   ],
   "source": [
    "os.path.join('excel', 'ini_col.xlsx')"
   ]
  },
  {
   "cell_type": "code",
   "execution_count": 97,
   "id": "ff9f9022-468e-4d82-8d8d-4e5b2beab420",
   "metadata": {
    "execution": {
     "iopub.execute_input": "2024-09-21T03:53:14.420773Z",
     "iopub.status.busy": "2024-09-21T03:53:14.419776Z",
     "iopub.status.idle": "2024-09-21T03:53:14.446278Z",
     "shell.execute_reply": "2024-09-21T03:53:14.444766Z",
     "shell.execute_reply.started": "2024-09-21T03:53:14.420773Z"
    }
   },
   "outputs": [
    {
     "data": {
      "text/html": [
       "<div>\n",
       "<style scoped>\n",
       "    .dataframe tbody tr th:only-of-type {\n",
       "        vertical-align: middle;\n",
       "    }\n",
       "\n",
       "    .dataframe tbody tr th {\n",
       "        vertical-align: top;\n",
       "    }\n",
       "\n",
       "    .dataframe thead th {\n",
       "        text-align: right;\n",
       "    }\n",
       "</style>\n",
       "<table border=\"1\" class=\"dataframe\">\n",
       "  <thead>\n",
       "    <tr style=\"text-align: right;\">\n",
       "      <th></th>\n",
       "      <th>Unnamed: 0</th>\n",
       "      <th>col1</th>\n",
       "      <th>col2</th>\n",
       "    </tr>\n",
       "  </thead>\n",
       "  <tbody>\n",
       "    <tr>\n",
       "      <th>0</th>\n",
       "      <td>0</td>\n",
       "      <td>1</td>\n",
       "      <td>ini halaman ke-1</td>\n",
       "    </tr>\n",
       "    <tr>\n",
       "      <th>1</th>\n",
       "      <td>1</td>\n",
       "      <td>2</td>\n",
       "      <td>ini halaman ke-2</td>\n",
       "    </tr>\n",
       "    <tr>\n",
       "      <th>2</th>\n",
       "      <td>2</td>\n",
       "      <td>3</td>\n",
       "      <td>ini halaman ke-3</td>\n",
       "    </tr>\n",
       "    <tr>\n",
       "      <th>3</th>\n",
       "      <td>3</td>\n",
       "      <td>4</td>\n",
       "      <td>ini halaman ke-4</td>\n",
       "    </tr>\n",
       "    <tr>\n",
       "      <th>4</th>\n",
       "      <td>4</td>\n",
       "      <td>5</td>\n",
       "      <td>ini halaman ke-5</td>\n",
       "    </tr>\n",
       "    <tr>\n",
       "      <th>5</th>\n",
       "      <td>5</td>\n",
       "      <td>6</td>\n",
       "      <td>ini halaman ke-6</td>\n",
       "    </tr>\n",
       "    <tr>\n",
       "      <th>6</th>\n",
       "      <td>6</td>\n",
       "      <td>7</td>\n",
       "      <td>ini halaman ke-7</td>\n",
       "    </tr>\n",
       "    <tr>\n",
       "      <th>7</th>\n",
       "      <td>7</td>\n",
       "      <td>8</td>\n",
       "      <td>ini halaman ke-8</td>\n",
       "    </tr>\n",
       "    <tr>\n",
       "      <th>8</th>\n",
       "      <td>8</td>\n",
       "      <td>9</td>\n",
       "      <td>ini halaman ke-9</td>\n",
       "    </tr>\n",
       "    <tr>\n",
       "      <th>9</th>\n",
       "      <td>9</td>\n",
       "      <td>10</td>\n",
       "      <td>ini halaman ke-10</td>\n",
       "    </tr>\n",
       "  </tbody>\n",
       "</table>\n",
       "</div>"
      ],
      "text/plain": [
       "   Unnamed: 0  col1               col2\n",
       "0           0     1   ini halaman ke-1\n",
       "1           1     2   ini halaman ke-2\n",
       "2           2     3   ini halaman ke-3\n",
       "3           3     4   ini halaman ke-4\n",
       "4           4     5   ini halaman ke-5\n",
       "5           5     6   ini halaman ke-6\n",
       "6           6     7   ini halaman ke-7\n",
       "7           7     8   ini halaman ke-8\n",
       "8           8     9   ini halaman ke-9\n",
       "9           9    10  ini halaman ke-10"
      ]
     },
     "execution_count": 97,
     "metadata": {},
     "output_type": "execute_result"
    }
   ],
   "source": [
    "df_baru3"
   ]
  },
  {
   "cell_type": "code",
   "execution_count": null,
   "id": "407f0b42-170a-4a4b-9ed6-b7653a902e14",
   "metadata": {},
   "outputs": [],
   "source": []
  },
  {
   "cell_type": "code",
   "execution_count": null,
   "id": "26258276-068f-4dcc-bce1-033ee45fe0e8",
   "metadata": {},
   "outputs": [],
   "source": []
  },
  {
   "cell_type": "markdown",
   "id": "429533e9-0203-425b-a26d-dfd32d3aac99",
   "metadata": {},
   "source": [
    "## buat banyak file"
   ]
  },
  {
   "cell_type": "code",
   "execution_count": 103,
   "id": "571cd311-614c-48ed-93c3-6f319a8a490f",
   "metadata": {
    "execution": {
     "iopub.execute_input": "2024-09-21T03:58:23.531772Z",
     "iopub.status.busy": "2024-09-21T03:58:23.530775Z",
     "iopub.status.idle": "2024-09-21T03:58:23.558326Z",
     "shell.execute_reply": "2024-09-21T03:58:23.556324Z",
     "shell.execute_reply.started": "2024-09-21T03:58:23.531772Z"
    }
   },
   "outputs": [],
   "source": [
    "for i in range(1, 11):\n",
    "    teks = 'ini adalah' + str(i)\n",
    "\n",
    "    nama_file = 'teks' + str(i) + '.txt'\n",
    "    #print(teks)\n",
    "    #print(nama_file)\n",
    "    f = open(nama_file, 'w')\n",
    "    f.write(teks)\n",
    "    f.close()"
   ]
  },
  {
   "cell_type": "markdown",
   "id": "260cd3fb-3267-48e4-86fd-351d7db62300",
   "metadata": {},
   "source": [
    "# Fungsi"
   ]
  },
  {
   "cell_type": "code",
   "execution_count": 104,
   "id": "8dae935f-5265-4ede-8032-a25b9d7c2805",
   "metadata": {
    "execution": {
     "iopub.execute_input": "2024-09-21T03:59:12.868936Z",
     "iopub.status.busy": "2024-09-21T03:59:12.868936Z",
     "iopub.status.idle": "2024-09-21T03:59:12.876463Z",
     "shell.execute_reply": "2024-09-21T03:59:12.875467Z",
     "shell.execute_reply.started": "2024-09-21T03:59:12.868936Z"
    }
   },
   "outputs": [],
   "source": [
    "def nama_fungsi1():\n",
    "    print('halo')"
   ]
  },
  {
   "cell_type": "code",
   "execution_count": 105,
   "id": "a7a85ab5-789f-4673-9583-9b2ca18fc6ef",
   "metadata": {
    "execution": {
     "iopub.execute_input": "2024-09-21T03:59:21.526207Z",
     "iopub.status.busy": "2024-09-21T03:59:21.524806Z",
     "iopub.status.idle": "2024-09-21T03:59:21.534702Z",
     "shell.execute_reply": "2024-09-21T03:59:21.533192Z",
     "shell.execute_reply.started": "2024-09-21T03:59:21.524806Z"
    }
   },
   "outputs": [
    {
     "name": "stdout",
     "output_type": "stream",
     "text": [
      "halo\n"
     ]
    }
   ],
   "source": [
    "nama_fungsi1()"
   ]
  },
  {
   "cell_type": "code",
   "execution_count": null,
   "id": "6ac89d2f-fae2-45e0-ada9-f3f8c3c379b2",
   "metadata": {},
   "outputs": [],
   "source": []
  },
  {
   "cell_type": "code",
   "execution_count": 108,
   "id": "be841612-9d9c-4701-a43a-b99ff82ef650",
   "metadata": {
    "execution": {
     "iopub.execute_input": "2024-09-21T04:00:20.738694Z",
     "iopub.status.busy": "2024-09-21T04:00:20.737730Z",
     "iopub.status.idle": "2024-09-21T04:00:20.749691Z",
     "shell.execute_reply": "2024-09-21T04:00:20.747731Z",
     "shell.execute_reply.started": "2024-09-21T04:00:20.738694Z"
    }
   },
   "outputs": [],
   "source": [
    "def nama_fungsi1():\n",
    "    print('halo')\n",
    "    for i in range(1, 6):\n",
    "        print(i)"
   ]
  },
  {
   "cell_type": "code",
   "execution_count": 110,
   "id": "bfd91e74-4bd3-4782-a527-8d7be044e6f7",
   "metadata": {
    "execution": {
     "iopub.execute_input": "2024-09-21T04:00:45.239151Z",
     "iopub.status.busy": "2024-09-21T04:00:45.238157Z",
     "iopub.status.idle": "2024-09-21T04:00:45.270736Z",
     "shell.execute_reply": "2024-09-21T04:00:45.268737Z",
     "shell.execute_reply.started": "2024-09-21T04:00:45.239151Z"
    }
   },
   "outputs": [],
   "source": [
    "def nama_fungsi2(param1, param2):\n",
    "    print('halo' + param1 + param2)\n",
    "    for i in range(1, 6):\n",
    "        print(i)"
   ]
  },
  {
   "cell_type": "code",
   "execution_count": 112,
   "id": "52460153-6c66-4142-9550-edee3e1df323",
   "metadata": {
    "execution": {
     "iopub.execute_input": "2024-09-21T04:01:06.154585Z",
     "iopub.status.busy": "2024-09-21T04:01:06.153078Z",
     "iopub.status.idle": "2024-09-21T04:01:06.162046Z",
     "shell.execute_reply": "2024-09-21T04:01:06.161046Z",
     "shell.execute_reply.started": "2024-09-21T04:01:06.154585Z"
    }
   },
   "outputs": [
    {
     "name": "stdout",
     "output_type": "stream",
     "text": [
      "haloduniamaya\n",
      "1\n",
      "2\n",
      "3\n",
      "4\n",
      "5\n"
     ]
    }
   ],
   "source": [
    "nama_fungsi2('dunia', 'maya')"
   ]
  },
  {
   "cell_type": "code",
   "execution_count": 113,
   "id": "cffadee3-810a-4ef0-9527-6abb53b9b507",
   "metadata": {
    "execution": {
     "iopub.execute_input": "2024-09-21T04:01:33.191831Z",
     "iopub.status.busy": "2024-09-21T04:01:33.190830Z",
     "iopub.status.idle": "2024-09-21T04:01:33.201342Z",
     "shell.execute_reply": "2024-09-21T04:01:33.200371Z",
     "shell.execute_reply.started": "2024-09-21T04:01:33.191831Z"
    }
   },
   "outputs": [
    {
     "name": "stdout",
     "output_type": "stream",
     "text": [
      "haloindonesiamalaysia\n",
      "1\n",
      "2\n",
      "3\n",
      "4\n",
      "5\n"
     ]
    }
   ],
   "source": [
    "nama_fungsi2('indonesia', 'malaysia')"
   ]
  },
  {
   "cell_type": "code",
   "execution_count": 114,
   "id": "a78988bb-b2c5-40ed-b872-6ee6730a4df7",
   "metadata": {
    "execution": {
     "iopub.execute_input": "2024-09-21T04:02:03.339564Z",
     "iopub.status.busy": "2024-09-21T04:02:03.336567Z",
     "iopub.status.idle": "2024-09-21T04:02:03.356128Z",
     "shell.execute_reply": "2024-09-21T04:02:03.353619Z",
     "shell.execute_reply.started": "2024-09-21T04:02:03.339564Z"
    }
   },
   "outputs": [],
   "source": [
    "def nama_fungsi3(param1='indo', param2='malay'):\n",
    "    print('halo' + param1 + param2)\n",
    "    for i in range(1, 6):\n",
    "        print(i)"
   ]
  },
  {
   "cell_type": "code",
   "execution_count": 115,
   "id": "62ffd043-63a5-421e-9777-672cbb277f3c",
   "metadata": {
    "execution": {
     "iopub.execute_input": "2024-09-21T04:02:10.773280Z",
     "iopub.status.busy": "2024-09-21T04:02:10.773280Z",
     "iopub.status.idle": "2024-09-21T04:02:10.782912Z",
     "shell.execute_reply": "2024-09-21T04:02:10.782912Z",
     "shell.execute_reply.started": "2024-09-21T04:02:10.773280Z"
    }
   },
   "outputs": [
    {
     "name": "stdout",
     "output_type": "stream",
     "text": [
      "haloindomalay\n",
      "1\n",
      "2\n",
      "3\n",
      "4\n",
      "5\n"
     ]
    }
   ],
   "source": [
    "nama_fungsi3()"
   ]
  },
  {
   "cell_type": "code",
   "execution_count": 116,
   "id": "af465fb0-c4aa-4c64-a3c5-32eb155a7850",
   "metadata": {
    "execution": {
     "iopub.execute_input": "2024-09-21T04:02:26.496883Z",
     "iopub.status.busy": "2024-09-21T04:02:26.496883Z",
     "iopub.status.idle": "2024-09-21T04:02:26.518711Z",
     "shell.execute_reply": "2024-09-21T04:02:26.517715Z",
     "shell.execute_reply.started": "2024-09-21T04:02:26.496883Z"
    }
   },
   "outputs": [
    {
     "name": "stdout",
     "output_type": "stream",
     "text": [
      "haloausnz\n",
      "1\n",
      "2\n",
      "3\n",
      "4\n",
      "5\n"
     ]
    }
   ],
   "source": [
    "nama_fungsi3('aus', 'nz')"
   ]
  },
  {
   "cell_type": "code",
   "execution_count": 124,
   "id": "8827afa2-f754-4b15-8880-719a6dc1c605",
   "metadata": {
    "execution": {
     "iopub.execute_input": "2024-09-21T04:04:02.470117Z",
     "iopub.status.busy": "2024-09-21T04:04:02.469115Z",
     "iopub.status.idle": "2024-09-21T04:04:02.476692Z",
     "shell.execute_reply": "2024-09-21T04:04:02.475695Z",
     "shell.execute_reply.started": "2024-09-21T04:04:02.470117Z"
    }
   },
   "outputs": [],
   "source": [
    "def nama_fungsi4(param1=True, param2=1):\n",
    "    print('halo' + str(param2))\n",
    "    i = 1\n",
    "    while param1: # sama dengan while param1 == True\n",
    "        i += 1\n",
    "        print(i)\n",
    "\n",
    "        if i > 10: param1 = False\n",
    "    "
   ]
  },
  {
   "cell_type": "code",
   "execution_count": 125,
   "id": "6a7ebd4a-1305-45c6-bc3c-343807b2954f",
   "metadata": {
    "execution": {
     "iopub.execute_input": "2024-09-21T04:04:03.262438Z",
     "iopub.status.busy": "2024-09-21T04:04:03.261442Z",
     "iopub.status.idle": "2024-09-21T04:04:03.288494Z",
     "shell.execute_reply": "2024-09-21T04:04:03.284468Z",
     "shell.execute_reply.started": "2024-09-21T04:04:03.262438Z"
    }
   },
   "outputs": [
    {
     "name": "stdout",
     "output_type": "stream",
     "text": [
      "halo1\n",
      "2\n",
      "3\n",
      "4\n",
      "5\n",
      "6\n",
      "7\n",
      "8\n",
      "9\n",
      "10\n",
      "11\n"
     ]
    }
   ],
   "source": [
    "nama_fungsi4()"
   ]
  },
  {
   "cell_type": "code",
   "execution_count": 126,
   "id": "c7631509-d1e6-4ac7-aa3c-6bf8d2aa56ff",
   "metadata": {
    "execution": {
     "iopub.execute_input": "2024-09-21T04:04:28.012224Z",
     "iopub.status.busy": "2024-09-21T04:04:28.011227Z",
     "iopub.status.idle": "2024-09-21T04:04:28.036019Z",
     "shell.execute_reply": "2024-09-21T04:04:28.034278Z",
     "shell.execute_reply.started": "2024-09-21T04:04:28.012224Z"
    }
   },
   "outputs": [
    {
     "name": "stdout",
     "output_type": "stream",
     "text": [
      "halo1\n"
     ]
    }
   ],
   "source": [
    "nama_fungsi4(False)"
   ]
  },
  {
   "cell_type": "markdown",
   "id": "31de4d78-5ab7-4e18-a04c-61cc58fbc69d",
   "metadata": {},
   "source": [
    "## Return in function"
   ]
  },
  {
   "cell_type": "code",
   "execution_count": 11,
   "id": "0c9fd3c4-7ca0-4d37-8e82-99272035fc56",
   "metadata": {
    "execution": {
     "iopub.execute_input": "2024-09-21T04:11:37.836779Z",
     "iopub.status.busy": "2024-09-21T04:11:37.835750Z",
     "iopub.status.idle": "2024-09-21T04:11:37.857140Z",
     "shell.execute_reply": "2024-09-21T04:11:37.855171Z",
     "shell.execute_reply.started": "2024-09-21T04:11:37.836779Z"
    }
   },
   "outputs": [],
   "source": [
    "def fungsi5():\n",
    "    var1 = 10\n",
    "    var2 = 5\n",
    "    return var1+var2"
   ]
  },
  {
   "cell_type": "code",
   "execution_count": 13,
   "id": "8684d260-ae1a-4acf-b7fa-fc75430c3be6",
   "metadata": {
    "execution": {
     "iopub.execute_input": "2024-09-21T04:12:05.523274Z",
     "iopub.status.busy": "2024-09-21T04:12:05.523274Z",
     "iopub.status.idle": "2024-09-21T04:12:05.531774Z",
     "shell.execute_reply": "2024-09-21T04:12:05.530775Z",
     "shell.execute_reply.started": "2024-09-21T04:12:05.523274Z"
    }
   },
   "outputs": [],
   "source": [
    "dari_fungsi = fungsi5()"
   ]
  },
  {
   "cell_type": "code",
   "execution_count": 14,
   "id": "d6510298-bb91-4e77-b74a-507bed610338",
   "metadata": {
    "execution": {
     "iopub.execute_input": "2024-09-21T04:12:08.476278Z",
     "iopub.status.busy": "2024-09-21T04:12:08.476278Z",
     "iopub.status.idle": "2024-09-21T04:12:08.485526Z",
     "shell.execute_reply": "2024-09-21T04:12:08.484278Z",
     "shell.execute_reply.started": "2024-09-21T04:12:08.476278Z"
    }
   },
   "outputs": [
    {
     "data": {
      "text/plain": [
       "15"
      ]
     },
     "execution_count": 14,
     "metadata": {},
     "output_type": "execute_result"
    }
   ],
   "source": [
    "dari_fungsi"
   ]
  },
  {
   "cell_type": "code",
   "execution_count": 15,
   "id": "b9533fab-96f9-49b5-9a3a-e48af4654554",
   "metadata": {
    "execution": {
     "iopub.execute_input": "2024-09-21T04:12:44.512076Z",
     "iopub.status.busy": "2024-09-21T04:12:44.512076Z",
     "iopub.status.idle": "2024-09-21T04:12:44.521443Z",
     "shell.execute_reply": "2024-09-21T04:12:44.520462Z",
     "shell.execute_reply.started": "2024-09-21T04:12:44.512076Z"
    }
   },
   "outputs": [],
   "source": [
    "def fungsi6(par1= 10, par2=5):\n",
    "    var1 = par1\n",
    "    var2 = par2\n",
    "    return var1+var2*10"
   ]
  },
  {
   "cell_type": "code",
   "execution_count": 18,
   "id": "09e71d2c-1101-4236-9592-f607ca94434c",
   "metadata": {
    "execution": {
     "iopub.execute_input": "2024-09-21T04:14:00.244159Z",
     "iopub.status.busy": "2024-09-21T04:14:00.242163Z",
     "iopub.status.idle": "2024-09-21T04:14:00.262205Z",
     "shell.execute_reply": "2024-09-21T04:14:00.259214Z",
     "shell.execute_reply.started": "2024-09-21T04:14:00.244159Z"
    }
   },
   "outputs": [],
   "source": [
    "dari_fungsi2 = fungsi6(par1=50, par2=100)"
   ]
  },
  {
   "cell_type": "code",
   "execution_count": 19,
   "id": "a7550f9f-26d6-43e5-aa1e-f81fa878817b",
   "metadata": {
    "execution": {
     "iopub.execute_input": "2024-09-21T04:14:00.852381Z",
     "iopub.status.busy": "2024-09-21T04:14:00.851386Z",
     "iopub.status.idle": "2024-09-21T04:14:00.873008Z",
     "shell.execute_reply": "2024-09-21T04:14:00.870017Z",
     "shell.execute_reply.started": "2024-09-21T04:14:00.852381Z"
    }
   },
   "outputs": [
    {
     "data": {
      "text/plain": [
       "1050"
      ]
     },
     "execution_count": 19,
     "metadata": {},
     "output_type": "execute_result"
    }
   ],
   "source": [
    "dari_fungsi2"
   ]
  },
  {
   "cell_type": "code",
   "execution_count": null,
   "id": "9545324e-42e6-4892-96c7-a2f026f8d7cc",
   "metadata": {},
   "outputs": [],
   "source": []
  },
  {
   "cell_type": "code",
   "execution_count": null,
   "id": "b2de6ae2-d3d4-45f7-babe-2ecfd9cc999b",
   "metadata": {},
   "outputs": [],
   "source": []
  },
  {
   "cell_type": "markdown",
   "id": "7ca9726d-5e24-4382-b088-dd08a93f7efd",
   "metadata": {},
   "source": [
    "\n",
    "# Class"
   ]
  },
  {
   "cell_type": "code",
   "execution_count": 7,
   "id": "f12ee785-62b4-4d64-b4fe-8b35197310ca",
   "metadata": {
    "execution": {
     "iopub.execute_input": "2024-09-21T04:09:03.445490Z",
     "iopub.status.busy": "2024-09-21T04:09:03.444490Z",
     "iopub.status.idle": "2024-09-21T04:09:03.468878Z",
     "shell.execute_reply": "2024-09-21T04:09:03.466884Z",
     "shell.execute_reply.started": "2024-09-21T04:09:03.445490Z"
    }
   },
   "outputs": [],
   "source": [
    "def fungsi_var():\n",
    "    var1 = 10\n",
    "\n",
    "class Halo:\n",
    "    def dunia(param1 = True):\n",
    "        var1 = 20\n",
    "        if param1:\n",
    "            print('halo dunia')\n",
    "            print(var1)\n",
    "        else:\n",
    "            print('param1 false')"
   ]
  },
  {
   "cell_type": "code",
   "execution_count": 8,
   "id": "805838fe-d840-43dc-8207-940d7d5a6a09",
   "metadata": {
    "execution": {
     "iopub.execute_input": "2024-09-21T04:09:04.204644Z",
     "iopub.status.busy": "2024-09-21T04:09:04.201132Z",
     "iopub.status.idle": "2024-09-21T04:09:04.301622Z",
     "shell.execute_reply": "2024-09-21T04:09:04.296640Z",
     "shell.execute_reply.started": "2024-09-21T04:09:04.204132Z"
    }
   },
   "outputs": [
    {
     "ename": "NameError",
     "evalue": "name 'dunia' is not defined",
     "output_type": "error",
     "traceback": [
      "\u001b[1;31m---------------------------------------------------------------------------\u001b[0m",
      "\u001b[1;31mNameError\u001b[0m                                 Traceback (most recent call last)",
      "Cell \u001b[1;32mIn[8], line 1\u001b[0m\n\u001b[1;32m----> 1\u001b[0m \u001b[43mdunia\u001b[49m()\n",
      "\u001b[1;31mNameError\u001b[0m: name 'dunia' is not defined"
     ]
    }
   ],
   "source": [
    "dunia()"
   ]
  },
  {
   "cell_type": "code",
   "execution_count": 10,
   "id": "9f8c0635-6a10-4039-9c36-b13d5cccb3da",
   "metadata": {
    "execution": {
     "iopub.execute_input": "2024-09-21T04:09:12.691312Z",
     "iopub.status.busy": "2024-09-21T04:09:12.690315Z",
     "iopub.status.idle": "2024-09-21T04:09:12.712391Z",
     "shell.execute_reply": "2024-09-21T04:09:12.711395Z",
     "shell.execute_reply.started": "2024-09-21T04:09:12.691312Z"
    }
   },
   "outputs": [
    {
     "name": "stdout",
     "output_type": "stream",
     "text": [
      "param1 false\n"
     ]
    }
   ],
   "source": [
    "Halo.dunia(False)"
   ]
  },
  {
   "cell_type": "markdown",
   "id": "7975e7a3-88c7-40b8-b809-8b910a6c922b",
   "metadata": {},
   "source": [
    "# Pickle"
   ]
  },
  {
   "cell_type": "code",
   "execution_count": 20,
   "id": "fe76cecd-7a85-4528-86b6-11706a1ed238",
   "metadata": {
    "execution": {
     "iopub.execute_input": "2024-09-21T04:24:28.449606Z",
     "iopub.status.busy": "2024-09-21T04:24:28.447611Z",
     "iopub.status.idle": "2024-09-21T04:24:28.462095Z",
     "shell.execute_reply": "2024-09-21T04:24:28.459103Z",
     "shell.execute_reply.started": "2024-09-21T04:24:28.449606Z"
    }
   },
   "outputs": [],
   "source": [
    "var1 = [1,2,3,4,5,6]"
   ]
  },
  {
   "cell_type": "code",
   "execution_count": 21,
   "id": "9d0ef023-4569-48e0-a5fa-282f84b03428",
   "metadata": {
    "execution": {
     "iopub.execute_input": "2024-09-21T04:24:31.442213Z",
     "iopub.status.busy": "2024-09-21T04:24:31.441216Z",
     "iopub.status.idle": "2024-09-21T04:24:31.462236Z",
     "shell.execute_reply": "2024-09-21T04:24:31.460239Z",
     "shell.execute_reply.started": "2024-09-21T04:24:31.442213Z"
    }
   },
   "outputs": [
    {
     "data": {
      "text/plain": [
       "[1, 2, 3, 4, 5, 6]"
      ]
     },
     "execution_count": 21,
     "metadata": {},
     "output_type": "execute_result"
    }
   ],
   "source": [
    "var1"
   ]
  },
  {
   "cell_type": "code",
   "execution_count": 22,
   "id": "849a7c02-ca4d-4ac8-9d66-38633e69a31c",
   "metadata": {
    "execution": {
     "iopub.execute_input": "2024-09-21T04:24:36.723960Z",
     "iopub.status.busy": "2024-09-21T04:24:36.723452Z",
     "iopub.status.idle": "2024-09-21T04:24:36.746562Z",
     "shell.execute_reply": "2024-09-21T04:24:36.744566Z",
     "shell.execute_reply.started": "2024-09-21T04:24:36.723960Z"
    }
   },
   "outputs": [],
   "source": [
    "import pickle"
   ]
  },
  {
   "cell_type": "code",
   "execution_count": 25,
   "id": "859845d8-d0d0-4d47-9484-5eaf7450309e",
   "metadata": {
    "execution": {
     "iopub.execute_input": "2024-09-21T04:27:27.855969Z",
     "iopub.status.busy": "2024-09-21T04:27:27.855969Z",
     "iopub.status.idle": "2024-09-21T04:27:27.861952Z",
     "shell.execute_reply": "2024-09-21T04:27:27.861952Z",
     "shell.execute_reply.started": "2024-09-21T04:27:27.855969Z"
    }
   },
   "outputs": [],
   "source": [
    "with open('file_picke.pkl', 'wb') as f:\n",
    "    pickle.dump(var1, f)"
   ]
  },
  {
   "cell_type": "code",
   "execution_count": null,
   "id": "419ff437-8b89-4b6e-b8ef-6a2317d8294d",
   "metadata": {},
   "outputs": [],
   "source": []
  },
  {
   "cell_type": "code",
   "execution_count": null,
   "id": "1c952e7f-e5c5-40ca-a398-af7310b02fbc",
   "metadata": {},
   "outputs": [],
   "source": []
  },
  {
   "cell_type": "code",
   "execution_count": 27,
   "id": "753a4e71-8f06-4a86-aab1-7dc96671b5e6",
   "metadata": {
    "execution": {
     "iopub.execute_input": "2024-09-21T04:28:43.876387Z",
     "iopub.status.busy": "2024-09-21T04:28:43.875347Z",
     "iopub.status.idle": "2024-09-21T04:28:43.895327Z",
     "shell.execute_reply": "2024-09-21T04:28:43.893288Z",
     "shell.execute_reply.started": "2024-09-21T04:28:43.876387Z"
    }
   },
   "outputs": [],
   "source": [
    "with open('file_picke.pkl', 'rb') as f:\n",
    "    var2 = pickle.load(f)"
   ]
  },
  {
   "cell_type": "code",
   "execution_count": 28,
   "id": "7466c349-28a2-4067-8605-2c35faf2d6a1",
   "metadata": {
    "execution": {
     "iopub.execute_input": "2024-09-21T04:28:46.036465Z",
     "iopub.status.busy": "2024-09-21T04:28:46.034462Z",
     "iopub.status.idle": "2024-09-21T04:28:46.059499Z",
     "shell.execute_reply": "2024-09-21T04:28:46.056506Z",
     "shell.execute_reply.started": "2024-09-21T04:28:46.036465Z"
    }
   },
   "outputs": [
    {
     "data": {
      "text/plain": [
       "[1, 2, 3, 4, 5, 6]"
      ]
     },
     "execution_count": 28,
     "metadata": {},
     "output_type": "execute_result"
    }
   ],
   "source": [
    "var2"
   ]
  },
  {
   "cell_type": "code",
   "execution_count": null,
   "id": "9ce53305-bb0d-40b1-acbd-7c06b1133906",
   "metadata": {},
   "outputs": [],
   "source": []
  }
 ],
 "metadata": {
  "kernelspec": {
   "display_name": "Python 3 (ipykernel)",
   "language": "python",
   "name": "python3"
  },
  "language_info": {
   "codemirror_mode": {
    "name": "ipython",
    "version": 3
   },
   "file_extension": ".py",
   "mimetype": "text/x-python",
   "name": "python",
   "nbconvert_exporter": "python",
   "pygments_lexer": "ipython3",
   "version": "3.9.19"
  }
 },
 "nbformat": 4,
 "nbformat_minor": 5
}
