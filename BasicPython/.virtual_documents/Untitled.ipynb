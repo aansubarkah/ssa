5+5


5-9

print('halo')


5+9

















ini_adalah_variable = 5


ini_adalah_variable


ini_var2 = 10


ini_adalah_variable + ini_var2


ini_var1 = 5
ini_var1 = 10


ini_var1


5 == 5


var 1 = 5


var1 = 5


var1


1var = 5





var1 = 'ini adalah variabel 1'


var1


var1.upper()


var1.UPPER()


var2 = 'INI ADALAH VAR 2'


var2.lower()


var1 + ' ' + var2


var3 = var1 + ' ' + var2


var3





'adalah' in var3


var3.split()


var4 = 'ini     adalah variabel 4    '


var4


var5 = var4.split()


var5


'-'.join(var5)


var4


var4[1]





var1 = 5
var2 = 6

if var1 == var2:
    print('ini teks')
    
    


var1 = 5
var2 = 6

if var1 == var2:
    print('ini teks')
else:
    print('ini hal lain')
    print('halo')


var1 = 5
var2 = 6

if var1 == var2:
    print('ini teks')
else:
    if var2 < 6:
        print('var2 = 6')
    else:
        print('ini hal lain lagi')


if var1 == var2:
    print('ini teks')
elif var1 < var2:
    print('var1 < var2')
else:
    print('ini hal lain')


var1 < var2


type(var1)


var1


type('ini teks')


type(1.5)


var_teks = 'ini adalah teks'


var1


var1 + var_teks


str(var1)


str(var1) + var_teks


url = 'https://google.com'
var1 = 5


url+var1


url+str(var1)


url='https://google.com/5'


url


url[-1]


type(url[-1])


var_konversi = int(url[-1])


var_konversi


var_konversi + var1


var_konversi, var1








url = 'https://google.com/'
for ini_var in range(1, 6):
    url_baru = url + str(ini_var)
    print(url_baru)

    if ini_var > 2:
        print('ini langkah ke-' + str(ini_var))





10%2


url = 'https://google.com/'
for ini_var in range(1, 16):
    url_baru = url + str(ini_var)
    print(url_baru)

    if ini_var%5 == 0:
        print('ini langkah kelipatan lima')


print(range(1,6))





var1 = 1
var2 = 5

while var1 < var2:
    print(var1)
    var1 = var1 + 1


var1 = True


print() = 1


print('halo')


while = 1


var1 = True
var2 = 5
while var1 == True:
    var2 = var2 + 1
    print(var2)
    if var2 > 10:
        var1 = False


var1 = True
var2 = 5
while var1: # ini sama dengan while var1 == True
    var2 += 1 #ini sama dengan var2 = var2 + 1
    print(var2)
    if var2 > 10:
        var1 = False





var1 = 1

var2 = [1, '2', 3, 4, '6', 7]


var2


for i in var2:
    print(i + var1)


for i in var2:
    try:
        print(i + var1)
    except:
        print('gagal halaman', i)


for i in var2:
    try:
        print(int(i) + var1)
    except:
        print('gagal halaman', i)





ini_list = [1, 2, 3, 5, 0, 0.5, 'teks']


ini_list[0]


ini_list[1]


ini_list[0:2]


ini_list[:4] # ini mirip LEFT di Excel


ini_list = [1, 2, 3, 5, 0, 0.5, 'teks']


ini_list[2:4] # ini mirip MID





len(ini_list)


len_list = len(ini_list)


len_list


ini_list[len_list-1]


ini_list[-1] # ini seperti RIGHT di Excel





var_teks = 'ini adalah teks python'


var_teks


var_teks[0]


var_teks[-1]


var_teks[0:4] # LEFT


var_teks[5: 7] # MID


var_teks[:-10]


var_teks[-10:]





ini_list


list_baru = [-5, -1]

for li in ini_list:
    print(li)
    try:
        if li < 5:
            list_baru.append(li)
    except: pass


list_baru








var_dict = {
    'col1': 10,
    'col2': 'teks'
}


var_dict


var_dict['col1']


var_dict['col2']


li_baru = []

for i in range(1, 11):
    print('ini halaman ke', i)
    var_dict = {
        'col1': i,
        'col2': 'ini halaman ke-' + str(i)
    }
    #print(var_dict)
    li_baru.append(var_dict)


li_baru


import pandas as pd


df = pd.DataFrame(li_baru)


df


df.to_excel('ini_col.xlsx')





df_baru = pd.read_excel('D:\OneDriveAanSubarkahOutlook\OneDrive\SekolahSabtuAuditor\ssa\BasicPython\ini_col.xlsx')


df_baru





df_baru1 = pd.read_excel('D:\\OneDriveAanSubarkahOutlook\\OneDrive\\SekolahSabtuAuditor\\ssa\\BasicPython\\excel\\ini_col.xlsx')


df_baru1





df_baru2 = pd.read_excel('excel\\ini_col.xlsx')


df_baru2


import os


df_baru3 = pd.read_excel(os.path.join('excel', 'ini_col.xlsx'))


os.path.join('excel', 'ini_col.xlsx')


df_baru3











for i in range(1, 11):
    teks = 'ini adalah' + str(i)

    nama_file = 'teks' + str(i) + '.txt'
    #print(teks)
    #print(nama_file)
    f = open(nama_file, 'w')
    f.write(teks)
    f.close()





def nama_fungsi1():
    print('halo')


nama_fungsi1()





def nama_fungsi1():
    print('halo')
    for i in range(1, 6):
        print(i)


def nama_fungsi2(param1, param2):
    print('halo' + param1 + param2)
    for i in range(1, 6):
        print(i)


nama_fungsi2('dunia', 'maya')


nama_fungsi2('indonesia', 'malaysia')


def nama_fungsi3(param1='indo', param2='malay'):
    print('halo' + param1 + param2)
    for i in range(1, 6):
        print(i)


nama_fungsi3()


nama_fungsi3('aus', 'nz')


def nama_fungsi4(param1=True, param2=1):
    print('halo' + str(param2))
    i = 1
    while param1: # sama dengan while param1 == True
        i += 1
        print(i)

        if i > 10: param1 = False
    


nama_fungsi4()


nama_fungsi4(False)





class Halo:
    def dunia():
        print('halo dunia')


dunia()


Halo.dunia()



