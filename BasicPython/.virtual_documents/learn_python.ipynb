





5 + 5


5 - 5


5 * 5


5 / 5


5 * 5 / 5 + 5 - 5





5 * 5 / (5 + 5) - 5


5 ** 5


5 // 3


12 % 5





5





type(1)


type(1.0)


type('1')


'string1' + "string2"


'string1' + '5'


'string1' + str(5)


'string1' + 5


'string1' - 5


'string1' / 5


'string1' * 5





rumah = 12


rumah


rumah = 12
Rumah = 22


rumah


Rumah


rumah = 12
rumah = 21


rumah


rumah = 12
baru = 21


rumah + baru


rumah - baru


rumah * baru


rumah / baru


rumah, baru


rumah_lagi = rumah + baru


rumah_lagi


rumah = 11


rumah_lagi





lorem = 1


lorem


ipsum = 1.3


ipsum


dolor = 'lorem ipsum dolor'


dolor


li = [1, 2, 3, 4, 5]


li


li[0]


di = {'nama': 'Andi', 'umur': 21}


di


di['nama']


di['umur']






































































































