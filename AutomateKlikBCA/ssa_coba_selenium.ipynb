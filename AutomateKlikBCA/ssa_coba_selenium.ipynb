{
 "cells": [
  {
   "cell_type": "markdown",
   "id": "ff147b30-5e8c-4933-8808-41223ab629d9",
   "metadata": {},
   "source": [
    "# Import Libraries"
   ]
  },
  {
   "cell_type": "code",
   "execution_count": 10,
   "id": "de21b51f-83b2-45a2-93af-b9766fa08de6",
   "metadata": {
    "execution": {
     "iopub.execute_input": "2024-11-09T03:26:18.252505Z",
     "iopub.status.busy": "2024-11-09T03:26:18.250989Z",
     "iopub.status.idle": "2024-11-09T03:26:18.268409Z",
     "shell.execute_reply": "2024-11-09T03:26:18.264390Z",
     "shell.execute_reply.started": "2024-11-09T03:26:18.252505Z"
    }
   },
   "outputs": [],
   "source": [
    "from selenium import webdriver\n",
    "\n",
    "from selenium.webdriver.chrome.service import Service as ChromeService\n",
    "from webdriver_manager.chrome import ChromeDriverManager\n",
    "from selenium.webdriver.common.by import By"
   ]
  },
  {
   "cell_type": "markdown",
   "id": "8d38547d-c711-4a98-87f2-8cf8d907de40",
   "metadata": {},
   "source": [
    "# Buka Selenium"
   ]
  },
  {
   "cell_type": "code",
   "execution_count": 7,
   "id": "0fc5f333-9067-44fe-bfad-517a11a772a9",
   "metadata": {
    "execution": {
     "iopub.execute_input": "2024-11-09T03:21:36.580699Z",
     "iopub.status.busy": "2024-11-09T03:21:36.579703Z",
     "iopub.status.idle": "2024-11-09T03:21:49.929813Z",
     "shell.execute_reply": "2024-11-09T03:21:49.925793Z",
     "shell.execute_reply.started": "2024-11-09T03:21:36.580699Z"
    }
   },
   "outputs": [],
   "source": [
    "driver = webdriver.Chrome()"
   ]
  },
  {
   "cell_type": "code",
   "execution_count": 28,
   "id": "3a0a3252-68b3-416d-816a-edff407574d0",
   "metadata": {
    "execution": {
     "iopub.execute_input": "2024-11-09T03:41:21.379644Z",
     "iopub.status.busy": "2024-11-09T03:41:21.379644Z",
     "iopub.status.idle": "2024-11-09T03:41:21.587706Z",
     "shell.execute_reply": "2024-11-09T03:41:21.584688Z",
     "shell.execute_reply.started": "2024-11-09T03:41:21.379644Z"
    }
   },
   "outputs": [],
   "source": [
    "driver.get('file:///D:/OneDriveAanSubarkahOutlook/OneDrive/SekolahSabtuAuditor/ssa/AutomateKlikBCA/file_html_baru.html')"
   ]
  },
  {
   "cell_type": "markdown",
   "id": "5492c0c5-403f-4432-80cb-4c6a5f8e8816",
   "metadata": {
    "jupyter": {
     "source_hidden": true
    }
   },
   "source": [
    "# Memilih Elemen"
   ]
  },
  {
   "cell_type": "code",
   "execution_count": 13,
   "id": "eae12bb9-0b5f-4996-b976-a002a264fc4a",
   "metadata": {
    "execution": {
     "iopub.execute_input": "2024-11-09T03:27:08.692538Z",
     "iopub.status.busy": "2024-11-09T03:27:08.690543Z",
     "iopub.status.idle": "2024-11-09T03:27:08.748079Z",
     "shell.execute_reply": "2024-11-09T03:27:08.745030Z",
     "shell.execute_reply.started": "2024-11-09T03:27:08.691540Z"
    }
   },
   "outputs": [],
   "source": [
    "elem_h1 = driver.find_element(By.TAG_NAME, 'h1')"
   ]
  },
  {
   "cell_type": "code",
   "execution_count": 15,
   "id": "77d99ad2-6c65-4857-9388-f9bd8de0bc41",
   "metadata": {
    "execution": {
     "iopub.execute_input": "2024-11-09T03:27:34.366595Z",
     "iopub.status.busy": "2024-11-09T03:27:34.365084Z",
     "iopub.status.idle": "2024-11-09T03:27:34.409716Z",
     "shell.execute_reply": "2024-11-09T03:27:34.407169Z",
     "shell.execute_reply.started": "2024-11-09T03:27:34.366595Z"
    }
   },
   "outputs": [
    {
     "data": {
      "text/plain": [
       "'Ini tulisan besar___'"
      ]
     },
     "execution_count": 15,
     "metadata": {},
     "output_type": "execute_result"
    }
   ],
   "source": [
    "elem_h1.text"
   ]
  },
  {
   "cell_type": "code",
   "execution_count": 20,
   "id": "69e3319c-9179-440f-ba59-25e3d5f66ea6",
   "metadata": {
    "execution": {
     "iopub.execute_input": "2024-11-09T03:29:54.697264Z",
     "iopub.status.busy": "2024-11-09T03:29:54.695243Z",
     "iopub.status.idle": "2024-11-09T03:29:54.864478Z",
     "shell.execute_reply": "2024-11-09T03:29:54.861927Z",
     "shell.execute_reply.started": "2024-11-09T03:29:54.697264Z"
    }
   },
   "outputs": [],
   "source": [
    "elem_input = driver.find_elements(By.TAG_NAME, 'input')"
   ]
  },
  {
   "cell_type": "code",
   "execution_count": 24,
   "id": "7cd211d0-3f7a-4b3b-964f-c47e03334804",
   "metadata": {
    "execution": {
     "iopub.execute_input": "2024-11-09T03:30:35.366957Z",
     "iopub.status.busy": "2024-11-09T03:30:35.366957Z",
     "iopub.status.idle": "2024-11-09T03:30:35.392655Z",
     "shell.execute_reply": "2024-11-09T03:30:35.391633Z",
     "shell.execute_reply.started": "2024-11-09T03:30:35.366957Z"
    }
   },
   "outputs": [
    {
     "data": {
      "text/plain": [
       "'button'"
      ]
     },
     "execution_count": 24,
     "metadata": {},
     "output_type": "execute_result"
    }
   ],
   "source": [
    "elem_input[0].get_attribute('type')"
   ]
  },
  {
   "cell_type": "code",
   "execution_count": null,
   "id": "9358b088-c4f0-4cb4-b802-ee4a17500ec5",
   "metadata": {
    "jupyter": {
     "source_hidden": true
    }
   },
   "outputs": [],
   "source": []
  },
  {
   "cell_type": "code",
   "execution_count": 29,
   "id": "5acf2ab0-d70c-44e3-98aa-ea7a8daa4302",
   "metadata": {
    "execution": {
     "iopub.execute_input": "2024-11-09T03:41:26.589193Z",
     "iopub.status.busy": "2024-11-09T03:41:26.588194Z",
     "iopub.status.idle": "2024-11-09T03:41:26.628024Z",
     "shell.execute_reply": "2024-11-09T03:41:26.626441Z",
     "shell.execute_reply.started": "2024-11-09T03:41:26.589193Z"
    }
   },
   "outputs": [],
   "source": [
    "elem_username = driver.find_element(By.NAME, \"user\")"
   ]
  },
  {
   "cell_type": "code",
   "execution_count": 33,
   "id": "e2ab2174-61ec-442b-bbcd-99dece9eec61",
   "metadata": {
    "execution": {
     "iopub.execute_input": "2024-11-09T03:42:17.930939Z",
     "iopub.status.busy": "2024-11-09T03:42:17.928435Z",
     "iopub.status.idle": "2024-11-09T03:42:18.147830Z",
     "shell.execute_reply": "2024-11-09T03:42:18.143779Z",
     "shell.execute_reply.started": "2024-11-09T03:42:17.930939Z"
    }
   },
   "outputs": [],
   "source": [
    "elem_username.clear()"
   ]
  },
  {
   "cell_type": "code",
   "execution_count": 34,
   "id": "946f5555-90a2-4963-8d9c-3c4f008cf8a7",
   "metadata": {
    "execution": {
     "iopub.execute_input": "2024-11-09T03:42:23.707164Z",
     "iopub.status.busy": "2024-11-09T03:42:23.706166Z",
     "iopub.status.idle": "2024-11-09T03:42:23.972150Z",
     "shell.execute_reply": "2024-11-09T03:42:23.969469Z",
     "shell.execute_reply.started": "2024-11-09T03:42:23.707164Z"
    }
   },
   "outputs": [],
   "source": [
    "elem_username.send_keys('INi COBA')"
   ]
  },
  {
   "cell_type": "code",
   "execution_count": 37,
   "id": "d9f9d980-23da-4038-a801-df1212d9dba5",
   "metadata": {
    "execution": {
     "iopub.execute_input": "2024-11-09T03:43:15.720077Z",
     "iopub.status.busy": "2024-11-09T03:43:15.718569Z",
     "iopub.status.idle": "2024-11-09T03:43:15.992430Z",
     "shell.execute_reply": "2024-11-09T03:43:15.990415Z",
     "shell.execute_reply.started": "2024-11-09T03:43:15.719568Z"
    }
   },
   "outputs": [],
   "source": [
    "driver.find_element(By.NAME, 'user').send_keys('coba lagi')"
   ]
  },
  {
   "cell_type": "code",
   "execution_count": 39,
   "id": "dda90c3d-3076-40bb-beee-dd5d66f836a9",
   "metadata": {
    "execution": {
     "iopub.execute_input": "2024-11-09T03:44:34.717047Z",
     "iopub.status.busy": "2024-11-09T03:44:34.716050Z",
     "iopub.status.idle": "2024-11-09T03:44:34.928305Z",
     "shell.execute_reply": "2024-11-09T03:44:34.924281Z",
     "shell.execute_reply.started": "2024-11-09T03:44:34.717047Z"
    }
   },
   "outputs": [],
   "source": [
    "driver.find_element(By.XPATH, '//input[@value=\"tombol\"]').click()"
   ]
  },
  {
   "cell_type": "code",
   "execution_count": 40,
   "id": "9962007f-b681-44b2-9b65-5c2aca958771",
   "metadata": {
    "execution": {
     "iopub.execute_input": "2024-11-09T03:47:21.297959Z",
     "iopub.status.busy": "2024-11-09T03:47:21.296966Z",
     "iopub.status.idle": "2024-11-09T03:47:21.346525Z",
     "shell.execute_reply": "2024-11-09T03:47:21.344509Z",
     "shell.execute_reply.started": "2024-11-09T03:47:21.297959Z"
    }
   },
   "outputs": [],
   "source": [
    "tombol = driver.find_element(By.XPATH, '//input[@value=\"tombol\"]')"
   ]
  },
  {
   "cell_type": "code",
   "execution_count": 41,
   "id": "220a084d-4397-4320-8819-3e9017805d6e",
   "metadata": {
    "execution": {
     "iopub.execute_input": "2024-11-09T03:47:30.191706Z",
     "iopub.status.busy": "2024-11-09T03:47:30.189710Z",
     "iopub.status.idle": "2024-11-09T03:47:30.421271Z",
     "shell.execute_reply": "2024-11-09T03:47:30.418760Z",
     "shell.execute_reply.started": "2024-11-09T03:47:30.191706Z"
    }
   },
   "outputs": [],
   "source": [
    "tombol.click()"
   ]
  },
  {
   "cell_type": "code",
   "execution_count": 43,
   "id": "7343b593-daac-4b5e-bb7d-d8dc3d4de8ec",
   "metadata": {
    "execution": {
     "iopub.execute_input": "2024-11-09T03:48:21.277662Z",
     "iopub.status.busy": "2024-11-09T03:48:21.275102Z",
     "iopub.status.idle": "2024-11-09T03:48:21.549930Z",
     "shell.execute_reply": "2024-11-09T03:48:21.547399Z",
     "shell.execute_reply.started": "2024-11-09T03:48:21.277662Z"
    }
   },
   "outputs": [],
   "source": [
    "driver.find_element(By.XPATH, '//input[@type=\"submit\"]').click()"
   ]
  },
  {
   "cell_type": "code",
   "execution_count": null,
   "id": "05244142-1d8e-4cf5-b9f9-26b366a870cc",
   "metadata": {},
   "outputs": [],
   "source": []
  },
  {
   "cell_type": "code",
   "execution_count": 44,
   "id": "6360375a-24a9-49c5-959b-7b9291974d83",
   "metadata": {
    "execution": {
     "iopub.execute_input": "2024-11-09T04:02:42.827241Z",
     "iopub.status.busy": "2024-11-09T04:02:42.825236Z",
     "iopub.status.idle": "2024-11-09T04:02:47.182921Z",
     "shell.execute_reply": "2024-11-09T04:02:47.179900Z",
     "shell.execute_reply.started": "2024-11-09T04:02:42.827241Z"
    }
   },
   "outputs": [],
   "source": [
    "driver.get('https://bca.tanpa.download/login.htm')"
   ]
  },
  {
   "cell_type": "code",
   "execution_count": 45,
   "id": "6ad97f99-3d9d-455d-9ffb-1202a90fa92a",
   "metadata": {
    "execution": {
     "iopub.execute_input": "2024-11-09T04:03:49.120710Z",
     "iopub.status.busy": "2024-11-09T04:03:49.119201Z",
     "iopub.status.idle": "2024-11-09T04:03:50.355709Z",
     "shell.execute_reply": "2024-11-09T04:03:50.351044Z",
     "shell.execute_reply.started": "2024-11-09T04:03:49.120710Z"
    }
   },
   "outputs": [],
   "source": [
    "driver.find_element(By.ID, \"txt_user_id\").send_keys('cobacoba')"
   ]
  },
  {
   "cell_type": "code",
   "execution_count": 46,
   "id": "27ba16bd-082b-495b-83a0-477647f59bb4",
   "metadata": {
    "execution": {
     "iopub.execute_input": "2024-11-09T04:04:15.433143Z",
     "iopub.status.busy": "2024-11-09T04:04:15.432147Z",
     "iopub.status.idle": "2024-11-09T04:04:16.377050Z",
     "shell.execute_reply": "2024-11-09T04:04:16.372938Z",
     "shell.execute_reply.started": "2024-11-09T04:04:15.433143Z"
    }
   },
   "outputs": [],
   "source": [
    "driver.find_element(By.ID, \"txt_pswd\").send_keys('123456')"
   ]
  },
  {
   "cell_type": "code",
   "execution_count": 47,
   "id": "ef0b6027-9955-40d8-a69a-81289c493a70",
   "metadata": {
    "execution": {
     "iopub.execute_input": "2024-11-09T04:04:55.620160Z",
     "iopub.status.busy": "2024-11-09T04:04:55.618592Z",
     "iopub.status.idle": "2024-11-09T04:04:56.579599Z",
     "shell.execute_reply": "2024-11-09T04:04:56.577082Z",
     "shell.execute_reply.started": "2024-11-09T04:04:55.620160Z"
    }
   },
   "outputs": [],
   "source": [
    "driver.find_element(By.ID, \"btnSubmit\").click()"
   ]
  },
  {
   "cell_type": "code",
   "execution_count": null,
   "id": "cf1f72e7-bef8-4a99-a2f0-21f02dc82837",
   "metadata": {},
   "outputs": [],
   "source": []
  },
  {
   "cell_type": "code",
   "execution_count": null,
   "id": "f9d558e7-8f38-4fc1-82ef-852767a88ab7",
   "metadata": {},
   "outputs": [],
   "source": []
  },
  {
   "cell_type": "code",
   "execution_count": 48,
   "id": "0d390db7-f778-4ab1-85a1-47c2ac5a1942",
   "metadata": {
    "execution": {
     "iopub.execute_input": "2024-11-09T04:24:08.813132Z",
     "iopub.status.busy": "2024-11-09T04:24:08.809143Z",
     "iopub.status.idle": "2024-11-09T04:24:09.039510Z",
     "shell.execute_reply": "2024-11-09T04:24:09.037483Z",
     "shell.execute_reply.started": "2024-11-09T04:24:08.813132Z"
    }
   },
   "outputs": [],
   "source": [
    "driver.get('https://bca.tanpa.download/login.htm')\n",
    "username = 'cobacoba'\n",
    "password = '123456'"
   ]
  },
  {
   "cell_type": "code",
   "execution_count": 53,
   "id": "efe21600-4c8f-4d17-bfab-18ec20bd4d0b",
   "metadata": {
    "execution": {
     "iopub.execute_input": "2024-11-09T04:24:59.186554Z",
     "iopub.status.busy": "2024-11-09T04:24:59.184553Z",
     "iopub.status.idle": "2024-11-09T04:24:59.771104Z",
     "shell.execute_reply": "2024-11-09T04:24:59.769574Z",
     "shell.execute_reply.started": "2024-11-09T04:24:59.186554Z"
    }
   },
   "outputs": [],
   "source": [
    "driver.find_element(By.ID, \"txt_user_id\").clear()\n",
    "driver.find_element(By.ID, \"txt_user_id\").send_keys(username)"
   ]
  },
  {
   "cell_type": "code",
   "execution_count": 54,
   "id": "982b76bf-c8d8-4459-8b7d-4e1f1cd63f1c",
   "metadata": {
    "execution": {
     "iopub.execute_input": "2024-11-09T04:25:06.420265Z",
     "iopub.status.busy": "2024-11-09T04:25:06.419268Z",
     "iopub.status.idle": "2024-11-09T04:25:06.964046Z",
     "shell.execute_reply": "2024-11-09T04:25:06.962036Z",
     "shell.execute_reply.started": "2024-11-09T04:25:06.420265Z"
    }
   },
   "outputs": [],
   "source": [
    "driver.find_element(By.ID, \"txt_pswd\").send_keys(password)"
   ]
  },
  {
   "cell_type": "code",
   "execution_count": 55,
   "id": "4004af22-3828-44f3-a1bc-35684971db1b",
   "metadata": {
    "execution": {
     "iopub.execute_input": "2024-11-09T04:25:09.920486Z",
     "iopub.status.busy": "2024-11-09T04:25:09.919485Z",
     "iopub.status.idle": "2024-11-09T04:25:10.362837Z",
     "shell.execute_reply": "2024-11-09T04:25:10.360798Z",
     "shell.execute_reply.started": "2024-11-09T04:25:09.920486Z"
    }
   },
   "outputs": [],
   "source": [
    "driver.find_element(By.ID, \"btnSubmit\").click()"
   ]
  },
  {
   "cell_type": "code",
   "execution_count": 68,
   "id": "c720376e-3ed3-4ea0-a03b-b97d9aae6111",
   "metadata": {
    "execution": {
     "iopub.execute_input": "2024-11-09T04:29:41.132507Z",
     "iopub.status.busy": "2024-11-09T04:29:41.129514Z",
     "iopub.status.idle": "2024-11-09T04:29:41.144573Z",
     "shell.execute_reply": "2024-11-09T04:29:41.141436Z",
     "shell.execute_reply.started": "2024-11-09T04:29:41.132507Z"
    }
   },
   "outputs": [],
   "source": [
    "from pwd import USERNAME, PWD"
   ]
  },
  {
   "cell_type": "code",
   "execution_count": 71,
   "id": "37fb3b49-4239-415a-bc86-13181806dfea",
   "metadata": {
    "execution": {
     "iopub.execute_input": "2024-11-09T04:30:25.953650Z",
     "iopub.status.busy": "2024-11-09T04:30:25.951618Z",
     "iopub.status.idle": "2024-11-09T04:30:27.642403Z",
     "shell.execute_reply": "2024-11-09T04:30:27.640257Z",
     "shell.execute_reply.started": "2024-11-09T04:30:25.953650Z"
    }
   },
   "outputs": [],
   "source": [
    "driver.get('https://bca.tanpa.download/login.htm')"
   ]
  },
  {
   "cell_type": "code",
   "execution_count": 72,
   "id": "b158ae7c-32ef-4c17-b395-04ed40f7f32a",
   "metadata": {
    "execution": {
     "iopub.execute_input": "2024-11-09T04:30:29.660558Z",
     "iopub.status.busy": "2024-11-09T04:30:29.658560Z",
     "iopub.status.idle": "2024-11-09T04:30:30.670742Z",
     "shell.execute_reply": "2024-11-09T04:30:30.665724Z",
     "shell.execute_reply.started": "2024-11-09T04:30:29.660558Z"
    }
   },
   "outputs": [],
   "source": [
    "driver.find_element(By.ID, \"txt_user_id\").clear()\n",
    "driver.find_element(By.ID, \"txt_user_id\").send_keys(USERNAME)"
   ]
  },
  {
   "cell_type": "code",
   "execution_count": 73,
   "id": "2652003f-9013-4fe6-8f77-0a8f8aa087db",
   "metadata": {
    "execution": {
     "iopub.execute_input": "2024-11-09T04:30:34.486730Z",
     "iopub.status.busy": "2024-11-09T04:30:34.484211Z",
     "iopub.status.idle": "2024-11-09T04:30:35.526097Z",
     "shell.execute_reply": "2024-11-09T04:30:35.518563Z",
     "shell.execute_reply.started": "2024-11-09T04:30:34.486730Z"
    }
   },
   "outputs": [],
   "source": [
    "driver.find_element(By.ID, \"txt_pswd\").send_keys(PWD)"
   ]
  },
  {
   "cell_type": "code",
   "execution_count": 74,
   "id": "ef91aa8f-3a64-4fd8-ae14-d6f72521af7a",
   "metadata": {
    "execution": {
     "iopub.execute_input": "2024-11-09T04:30:36.544734Z",
     "iopub.status.busy": "2024-11-09T04:30:36.542225Z",
     "iopub.status.idle": "2024-11-09T04:30:37.872651Z",
     "shell.execute_reply": "2024-11-09T04:30:37.869627Z",
     "shell.execute_reply.started": "2024-11-09T04:30:36.544734Z"
    }
   },
   "outputs": [],
   "source": [
    "driver.find_element(By.ID, \"btnSubmit\").click()"
   ]
  },
  {
   "cell_type": "code",
   "execution_count": null,
   "id": "e9e2e349-79f0-4e8a-bd18-45065b6f0b30",
   "metadata": {},
   "outputs": [],
   "source": []
  }
 ],
 "metadata": {
  "kernelspec": {
   "display_name": "Python 3 (ipykernel)",
   "language": "python",
   "name": "python3"
  },
  "language_info": {
   "codemirror_mode": {
    "name": "ipython",
    "version": 3
   },
   "file_extension": ".py",
   "mimetype": "text/x-python",
   "name": "python",
   "nbconvert_exporter": "python",
   "pygments_lexer": "ipython3",
   "version": "3.12.2"
  }
 },
 "nbformat": 4,
 "nbformat_minor": 5
}
