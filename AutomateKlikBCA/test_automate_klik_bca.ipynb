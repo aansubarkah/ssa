{
 "cells": [
  {
   "cell_type": "markdown",
   "metadata": {},
   "source": [
    "# Libraries"
   ]
  },
  {
   "cell_type": "code",
   "execution_count": 1,
   "metadata": {},
   "outputs": [],
   "source": [
    "from credentials import USERID, TOKEN\n",
    "\n",
    "import json, requests, os, time\n",
    "import pandas as pd\n",
    "\n",
    "from io import StringIO\n",
    "from selenium import webdriver\n",
    "from selenium.webdriver.chrome.service import Service as ChromeService\n",
    "from webdriver_manager.chrome import ChromeDriverManager\n",
    "#from selenium.webdriver.common.desired_capabilities import DesiredCapabilities\n",
    "from selenium.webdriver.chrome.options import Options as ChromeOptions\n",
    "from selenium.webdriver.common.by import By\n",
    "from selenium.webdriver.support.ui import Select\n",
    "\n",
    "import undetected_chromedriver as uc\n",
    "#from datetime import datetime, timedelta\n",
    "from tqdm.notebook import tqdm\n",
    "\n",
    "driver = uc.Chrome()\n",
    "initial_url = 'https://ibank.klikbca.com/authentication.do?value(actions)=logout'\n",
    "\n",
    "time.sleep(3)\n",
    "\n",
    "driver.get(initial_url)\n",
    "driver.find_element(By.ID, 'txt_user_id').send_keys(USERID)\n",
    "driver.find_element(By.ID, 'txt_pswd').send_keys(TOKEN)\n",
    "\n",
    "time.sleep(3)\n",
    "\n",
    "driver.find_element(By.ID, 'btnSubmit').click()\n",
    "\n",
    "time.sleep(10)\n",
    "\n",
    "driver.switch_to.frame(driver.find_element(By.NAME, 'menu'))\n",
    "\n",
    "driver.find_element(By.XPATH, '//b[contains(text(), \"Transaction History\")]/parent::font/parent::a').click()\n",
    "\n",
    "time.sleep(3)\n",
    "\n",
    "driver.switch_to.default_content()\n",
    "\n",
    "driver.switch_to.frame(driver.find_element(By.NAME, 'atm'))\n",
    "\n",
    "driver.find_element(By.XPATH, '//input[@id=\"periode\" and @value=\"1\"]').click()\n",
    "\n",
    "time.sleep(3)\n",
    "\n",
    "from_date = driver.find_element(By.ID, 'startMt')\n",
    "select = Select(from_date)\n",
    "select.select_by_value('September')\n",
    "\n",
    "driver.find_element(By.XPATH, '//input[@value=\"Submit\"]').click()\n",
    "\n",
    "time.sleep(10)\n"
   ]
  },
  {
   "cell_type": "code",
   "execution_count": 2,
   "metadata": {},
   "outputs": [],
   "source": [
    "driver.quit()"
   ]
  },
  {
   "cell_type": "code",
   "execution_count": null,
   "metadata": {},
   "outputs": [],
   "source": []
  },
  {
   "cell_type": "code",
   "execution_count": null,
   "metadata": {},
   "outputs": [],
   "source": []
  },
  {
   "cell_type": "code",
   "execution_count": null,
   "metadata": {},
   "outputs": [],
   "source": []
  },
  {
   "cell_type": "code",
   "execution_count": null,
   "metadata": {},
   "outputs": [],
   "source": []
  },
  {
   "cell_type": "code",
   "execution_count": null,
   "metadata": {},
   "outputs": [],
   "source": []
  },
  {
   "cell_type": "markdown",
   "metadata": {},
   "source": [
    "# Open Chrome"
   ]
  },
  {
   "cell_type": "code",
   "execution_count": 26,
   "metadata": {},
   "outputs": [],
   "source": [
    "driver = uc.Chrome()\n",
    "#driver = webdriver.Chrome(service=ChromeService(ChromeDriverManager().install()))"
   ]
  },
  {
   "cell_type": "code",
   "execution_count": 27,
   "metadata": {},
   "outputs": [],
   "source": [
    "initial_url = 'https://ibank.klikbca.com/authentication.do?value(actions)=logout'"
   ]
  },
  {
   "cell_type": "code",
   "execution_count": 28,
   "metadata": {},
   "outputs": [],
   "source": [
    "driver.get(initial_url)"
   ]
  },
  {
   "cell_type": "code",
   "execution_count": 29,
   "metadata": {},
   "outputs": [],
   "source": [
    "driver.find_element(By.ID, 'txt_user_id').send_keys(USERID)\n",
    "driver.find_element(By.ID, 'txt_pswd').send_keys(TOKEN)\n",
    "#driver.execute_script\n",
    "#driver.find_element(By.XPATH, '//input[@name=\"value(user_id)\"]').send_keys(USERID)\n",
    "#driver.find_element(By.XPATH, '//input[@name=\"value(pswd)\"]').send_keys(TOKEN)\n",
    "#driver.execute_script('document.getElementsByName(\"value(user_id)\")[0].value = \"{}\";'.format(USERID))\n",
    "#driver.execute_script('document.getElementsByName(\"value(pswd)\")[0].value = \"{}\";'.format(TOKEN))\n",
    "\n",
    "\n",
    "time.sleep(3)\n",
    "\n",
    "driver.find_element(By.ID, 'btnSubmit').click()\n",
    "\n",
    "time.sleep(10)\n",
    "\n",
    "driver.find_element(By.XPATH, '//b[contains(text(), \"Transaction History\")]/parent::font/parent::a').click()\n",
    "\n",
    "time.sleep(3)\n",
    "\n",
    "driver.find_element(By.XPATH, '//input[@id=\"periode\" and @value=\"1\"]').click()\n",
    "\n",
    "time.sleep(3)\n",
    "\n",
    "from_date = driver.find_element(By.ID, 'startMt')\n",
    "select = Select(from_date)\n",
    "select.select_by_value('September')\n",
    "\n",
    "driver.find_element(By.XPATH, '//input[@value=\"Submit\"]').click()\n",
    "\n",
    "time.sleep(10)"
   ]
  },
  {
   "cell_type": "code",
   "execution_count": null,
   "metadata": {},
   "outputs": [],
   "source": []
  },
  {
   "cell_type": "code",
   "execution_count": null,
   "metadata": {},
   "outputs": [],
   "source": []
  },
  {
   "cell_type": "code",
   "execution_count": null,
   "metadata": {},
   "outputs": [],
   "source": []
  },
  {
   "cell_type": "code",
   "execution_count": null,
   "metadata": {},
   "outputs": [],
   "source": []
  },
  {
   "cell_type": "code",
   "execution_count": 25,
   "metadata": {},
   "outputs": [],
   "source": [
    "driver.quit()"
   ]
  },
  {
   "cell_type": "code",
   "execution_count": 30,
   "metadata": {},
   "outputs": [],
   "source": [
    "# Relogin setelah 5 menit"
   ]
  },
  {
   "cell_type": "code",
   "execution_count": null,
   "metadata": {},
   "outputs": [],
   "source": []
  }
 ],
 "metadata": {
  "kernelspec": {
   "display_name": "basangdata12",
   "language": "python",
   "name": "python3"
  },
  "language_info": {
   "codemirror_mode": {
    "name": "ipython",
    "version": 3
   },
   "file_extension": ".py",
   "mimetype": "text/x-python",
   "name": "python",
   "nbconvert_exporter": "python",
   "pygments_lexer": "ipython3",
   "version": "3.12.2"
  }
 },
 "nbformat": 4,
 "nbformat_minor": 2
}
