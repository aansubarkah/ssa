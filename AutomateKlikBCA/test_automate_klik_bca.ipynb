{
 "cells": [
  {
   "cell_type": "markdown",
   "metadata": {},
   "source": [
    "# Libraries"
   ]
  },
  {
   "cell_type": "code",
   "execution_count": 29,
   "metadata": {
    "execution": {
     "iopub.execute_input": "2024-11-09T04:53:01.061656Z",
     "iopub.status.busy": "2024-11-09T04:53:01.059658Z",
     "iopub.status.idle": "2024-11-09T04:53:11.957060Z",
     "shell.execute_reply": "2024-11-09T04:53:11.954542Z",
     "shell.execute_reply.started": "2024-11-09T04:53:01.061656Z"
    }
   },
   "outputs": [],
   "source": [
    "from credentials import USERID, TOKEN\n",
    "\n",
    "import time\n",
    "\n",
    "from selenium.webdriver.common.by import By\n",
    "from selenium.webdriver.support.ui import WebDriverWait\n",
    "from selenium.webdriver.support import expected_conditions as EC\n",
    "\n",
    "import undetected_chromedriver as uc\n",
    "\n",
    "driver = uc.Chrome()\n"
   ]
  },
  {
   "cell_type": "markdown",
   "metadata": {},
   "source": [
    "# Login"
   ]
  },
  {
   "cell_type": "code",
   "execution_count": 30,
   "metadata": {
    "execution": {
     "iopub.execute_input": "2024-11-09T04:53:27.880882Z",
     "iopub.status.busy": "2024-11-09T04:53:27.877889Z",
     "iopub.status.idle": "2024-11-09T04:53:55.767393Z",
     "shell.execute_reply": "2024-11-09T04:53:55.763867Z",
     "shell.execute_reply.started": "2024-11-09T04:53:27.880882Z"
    }
   },
   "outputs": [],
   "source": [
    "initial_url = 'https://ibank.klikbca.com'\n",
    "\n",
    "driver.get(initial_url)\n",
    "\n",
    "time.sleep(3)\n",
    "driver.find_element(By.ID, 'txt_user_id').send_keys(USERID)\n",
    "elem = driver.find_element(By.XPATH, '//input[@name=\"value(user_id)\"]')\n",
    "driver.execute_script(f'arguments[0].value = arguments[1];', elem, USERID)\n",
    "time.sleep(3)\n",
    "\n",
    "driver.find_element(By.ID, 'txt_pswd').send_keys(TOKEN)\n",
    "elem = driver.find_element(By.XPATH, '//input[@name=\"value(pswd)\"]')\n",
    "driver.execute_script(f'arguments[0].value = arguments[1];', elem, TOKEN)\n",
    "\n",
    "#time.sleep(30)\n",
    "\n",
    "\n",
    "driver.find_element(By.ID, 'btnSubmit').click()"
   ]
  },
  {
   "cell_type": "markdown",
   "metadata": {},
   "source": [
    "# Pilih Menu (Gagal)"
   ]
  },
  {
   "cell_type": "code",
   "execution_count": 19,
   "metadata": {
    "execution": {
     "iopub.execute_input": "2024-11-09T04:48:23.347869Z",
     "iopub.status.busy": "2024-11-09T04:48:23.345867Z",
     "iopub.status.idle": "2024-11-09T04:48:25.794801Z",
     "shell.execute_reply": "2024-11-09T04:48:25.791226Z",
     "shell.execute_reply.started": "2024-11-09T04:48:23.347869Z"
    }
   },
   "outputs": [
    {
     "ename": "NoSuchElementException",
     "evalue": "Message: no such element: Unable to locate element: {\"method\":\"xpath\",\"selector\":\"//b[contains(text(), \"e-Statement\")]/parent::font/parent::a\"}\n  (Session info: chrome=130.0.6723.117); For documentation on this error, please visit: https://www.selenium.dev/documentation/webdriver/troubleshooting/errors#no-such-element-exception\nStacktrace:\n\tGetHandleVerifier [0x00A8EBD3+24307]\n\t(No symbol) [0x00A18D74]\n\t(No symbol) [0x008FC323]\n\t(No symbol) [0x0093DC86]\n\t(No symbol) [0x0093DECB]\n\t(No symbol) [0x0097B9F2]\n\t(No symbol) [0x0095FED4]\n\t(No symbol) [0x00979579]\n\t(No symbol) [0x0095FC26]\n\t(No symbol) [0x0093219C]\n\t(No symbol) [0x0093311D]\n\tGetHandleVerifier [0x00D38D93+2818227]\n\tGetHandleVerifier [0x00D9542E+3196750]\n\tGetHandleVerifier [0x00D8D9D2+3165426]\n\tGetHandleVerifier [0x00B2DA70+675216]\n\t(No symbol) [0x00A21B3D]\n\t(No symbol) [0x00A1EA18]\n\t(No symbol) [0x00A1EBB5]\n\t(No symbol) [0x00A11640]\n\tBaseThreadInitThunk [0x773C7BA9+25]\n\tRtlInitializeExceptionChain [0x77AFC0CB+107]\n\tRtlClearBits [0x77AFC04F+191]\n",
     "output_type": "error",
     "traceback": [
      "\u001b[1;31m---------------------------------------------------------------------------\u001b[0m",
      "\u001b[1;31mNoSuchElementException\u001b[0m                    Traceback (most recent call last)",
      "Cell \u001b[1;32mIn[19], line 1\u001b[0m\n\u001b[1;32m----> 1\u001b[0m \u001b[43mdriver\u001b[49m\u001b[38;5;241;43m.\u001b[39;49m\u001b[43mfind_element\u001b[49m\u001b[43m(\u001b[49m\u001b[43mBy\u001b[49m\u001b[38;5;241;43m.\u001b[39;49m\u001b[43mXPATH\u001b[49m\u001b[43m,\u001b[49m\u001b[43m \u001b[49m\u001b[38;5;124;43m'\u001b[39;49m\u001b[38;5;124;43m//b[contains(text(), \u001b[39;49m\u001b[38;5;124;43m\"\u001b[39;49m\u001b[38;5;124;43me-Statement\u001b[39;49m\u001b[38;5;124;43m\"\u001b[39;49m\u001b[38;5;124;43m)]/parent::font/parent::a\u001b[39;49m\u001b[38;5;124;43m'\u001b[39;49m\u001b[43m)\u001b[49m\u001b[38;5;241m.\u001b[39mclick()\n\u001b[0;32m      2\u001b[0m time\u001b[38;5;241m.\u001b[39msleep(\u001b[38;5;241m3\u001b[39m)\n",
      "File \u001b[1;32m~\\anaconda3\\envs\\basangdata12\\Lib\\site-packages\\selenium\\webdriver\\remote\\webdriver.py:741\u001b[0m, in \u001b[0;36mWebDriver.find_element\u001b[1;34m(self, by, value)\u001b[0m\n\u001b[0;32m    738\u001b[0m     by \u001b[38;5;241m=\u001b[39m By\u001b[38;5;241m.\u001b[39mCSS_SELECTOR\n\u001b[0;32m    739\u001b[0m     value \u001b[38;5;241m=\u001b[39m \u001b[38;5;124mf\u001b[39m\u001b[38;5;124m'\u001b[39m\u001b[38;5;124m[name=\u001b[39m\u001b[38;5;124m\"\u001b[39m\u001b[38;5;132;01m{\u001b[39;00mvalue\u001b[38;5;132;01m}\u001b[39;00m\u001b[38;5;124m\"\u001b[39m\u001b[38;5;124m]\u001b[39m\u001b[38;5;124m'\u001b[39m\n\u001b[1;32m--> 741\u001b[0m \u001b[38;5;28;01mreturn\u001b[39;00m \u001b[38;5;28;43mself\u001b[39;49m\u001b[38;5;241;43m.\u001b[39;49m\u001b[43mexecute\u001b[49m\u001b[43m(\u001b[49m\u001b[43mCommand\u001b[49m\u001b[38;5;241;43m.\u001b[39;49m\u001b[43mFIND_ELEMENT\u001b[49m\u001b[43m,\u001b[49m\u001b[43m \u001b[49m\u001b[43m{\u001b[49m\u001b[38;5;124;43m\"\u001b[39;49m\u001b[38;5;124;43musing\u001b[39;49m\u001b[38;5;124;43m\"\u001b[39;49m\u001b[43m:\u001b[49m\u001b[43m \u001b[49m\u001b[43mby\u001b[49m\u001b[43m,\u001b[49m\u001b[43m \u001b[49m\u001b[38;5;124;43m\"\u001b[39;49m\u001b[38;5;124;43mvalue\u001b[39;49m\u001b[38;5;124;43m\"\u001b[39;49m\u001b[43m:\u001b[49m\u001b[43m \u001b[49m\u001b[43mvalue\u001b[49m\u001b[43m}\u001b[49m\u001b[43m)\u001b[49m[\u001b[38;5;124m\"\u001b[39m\u001b[38;5;124mvalue\u001b[39m\u001b[38;5;124m\"\u001b[39m]\n",
      "File \u001b[1;32m~\\anaconda3\\envs\\basangdata12\\Lib\\site-packages\\selenium\\webdriver\\remote\\webdriver.py:347\u001b[0m, in \u001b[0;36mWebDriver.execute\u001b[1;34m(self, driver_command, params)\u001b[0m\n\u001b[0;32m    345\u001b[0m response \u001b[38;5;241m=\u001b[39m \u001b[38;5;28mself\u001b[39m\u001b[38;5;241m.\u001b[39mcommand_executor\u001b[38;5;241m.\u001b[39mexecute(driver_command, params)\n\u001b[0;32m    346\u001b[0m \u001b[38;5;28;01mif\u001b[39;00m response:\n\u001b[1;32m--> 347\u001b[0m     \u001b[38;5;28;43mself\u001b[39;49m\u001b[38;5;241;43m.\u001b[39;49m\u001b[43merror_handler\u001b[49m\u001b[38;5;241;43m.\u001b[39;49m\u001b[43mcheck_response\u001b[49m\u001b[43m(\u001b[49m\u001b[43mresponse\u001b[49m\u001b[43m)\u001b[49m\n\u001b[0;32m    348\u001b[0m     response[\u001b[38;5;124m\"\u001b[39m\u001b[38;5;124mvalue\u001b[39m\u001b[38;5;124m\"\u001b[39m] \u001b[38;5;241m=\u001b[39m \u001b[38;5;28mself\u001b[39m\u001b[38;5;241m.\u001b[39m_unwrap_value(response\u001b[38;5;241m.\u001b[39mget(\u001b[38;5;124m\"\u001b[39m\u001b[38;5;124mvalue\u001b[39m\u001b[38;5;124m\"\u001b[39m, \u001b[38;5;28;01mNone\u001b[39;00m))\n\u001b[0;32m    349\u001b[0m     \u001b[38;5;28;01mreturn\u001b[39;00m response\n",
      "File \u001b[1;32m~\\anaconda3\\envs\\basangdata12\\Lib\\site-packages\\selenium\\webdriver\\remote\\errorhandler.py:229\u001b[0m, in \u001b[0;36mErrorHandler.check_response\u001b[1;34m(self, response)\u001b[0m\n\u001b[0;32m    227\u001b[0m         alert_text \u001b[38;5;241m=\u001b[39m value[\u001b[38;5;124m\"\u001b[39m\u001b[38;5;124malert\u001b[39m\u001b[38;5;124m\"\u001b[39m]\u001b[38;5;241m.\u001b[39mget(\u001b[38;5;124m\"\u001b[39m\u001b[38;5;124mtext\u001b[39m\u001b[38;5;124m\"\u001b[39m)\n\u001b[0;32m    228\u001b[0m     \u001b[38;5;28;01mraise\u001b[39;00m exception_class(message, screen, stacktrace, alert_text)  \u001b[38;5;66;03m# type: ignore[call-arg]  # mypy is not smart enough here\u001b[39;00m\n\u001b[1;32m--> 229\u001b[0m \u001b[38;5;28;01mraise\u001b[39;00m exception_class(message, screen, stacktrace)\n",
      "\u001b[1;31mNoSuchElementException\u001b[0m: Message: no such element: Unable to locate element: {\"method\":\"xpath\",\"selector\":\"//b[contains(text(), \"e-Statement\")]/parent::font/parent::a\"}\n  (Session info: chrome=130.0.6723.117); For documentation on this error, please visit: https://www.selenium.dev/documentation/webdriver/troubleshooting/errors#no-such-element-exception\nStacktrace:\n\tGetHandleVerifier [0x00A8EBD3+24307]\n\t(No symbol) [0x00A18D74]\n\t(No symbol) [0x008FC323]\n\t(No symbol) [0x0093DC86]\n\t(No symbol) [0x0093DECB]\n\t(No symbol) [0x0097B9F2]\n\t(No symbol) [0x0095FED4]\n\t(No symbol) [0x00979579]\n\t(No symbol) [0x0095FC26]\n\t(No symbol) [0x0093219C]\n\t(No symbol) [0x0093311D]\n\tGetHandleVerifier [0x00D38D93+2818227]\n\tGetHandleVerifier [0x00D9542E+3196750]\n\tGetHandleVerifier [0x00D8D9D2+3165426]\n\tGetHandleVerifier [0x00B2DA70+675216]\n\t(No symbol) [0x00A21B3D]\n\t(No symbol) [0x00A1EA18]\n\t(No symbol) [0x00A1EBB5]\n\t(No symbol) [0x00A11640]\n\tBaseThreadInitThunk [0x773C7BA9+25]\n\tRtlInitializeExceptionChain [0x77AFC0CB+107]\n\tRtlClearBits [0x77AFC04F+191]\n"
     ]
    }
   ],
   "source": [
    "driver.find_element(By.XPATH, '//b[contains(text(), \"e-Statement\")]/parent::font/parent::a').click()\n",
    "time.sleep(3)"
   ]
  },
  {
   "cell_type": "markdown",
   "metadata": {},
   "source": [
    "# Pilih Menu"
   ]
  },
  {
   "cell_type": "code",
   "execution_count": 20,
   "metadata": {
    "execution": {
     "iopub.execute_input": "2024-11-09T04:48:30.790955Z",
     "iopub.status.busy": "2024-11-09T04:48:30.789960Z",
     "iopub.status.idle": "2024-11-09T04:48:35.700767Z",
     "shell.execute_reply": "2024-11-09T04:48:35.692750Z",
     "shell.execute_reply.started": "2024-11-09T04:48:30.790955Z"
    }
   },
   "outputs": [],
   "source": [
    "driver.switch_to.frame(driver.find_element(By.NAME, 'menu'))\n",
    "\n",
    "driver.find_element(By.XPATH, '//b[contains(text(), \"e-Statement\")]/parent::font/parent::a').click()\n",
    "time.sleep(3)"
   ]
  },
  {
   "cell_type": "code",
   "execution_count": 21,
   "metadata": {
    "execution": {
     "iopub.execute_input": "2024-11-09T04:48:35.974590Z",
     "iopub.status.busy": "2024-11-09T04:48:35.973593Z",
     "iopub.status.idle": "2024-11-09T04:48:39.874762Z",
     "shell.execute_reply": "2024-11-09T04:48:39.866729Z",
     "shell.execute_reply.started": "2024-11-09T04:48:35.974590Z"
    }
   },
   "outputs": [],
   "source": [
    "driver.find_element(By.XPATH, '//a[contains(text(), \"Savings and Giro\")]').click()\n",
    "time.sleep(3)"
   ]
  },
  {
   "cell_type": "markdown",
   "metadata": {},
   "source": [
    "# Pilih Bulan (Gagal)"
   ]
  },
  {
   "cell_type": "code",
   "execution_count": 22,
   "metadata": {
    "execution": {
     "iopub.execute_input": "2024-11-09T04:48:46.869975Z",
     "iopub.status.busy": "2024-11-09T04:48:46.867981Z",
     "iopub.status.idle": "2024-11-09T04:48:57.219611Z",
     "shell.execute_reply": "2024-11-09T04:48:57.216599Z",
     "shell.execute_reply.started": "2024-11-09T04:48:46.869975Z"
    }
   },
   "outputs": [
    {
     "ename": "TimeoutException",
     "evalue": "Message: \nStacktrace:\n\tGetHandleVerifier [0x00A8EBD3+24307]\n\t(No symbol) [0x00A18D74]\n\t(No symbol) [0x008FC323]\n\t(No symbol) [0x0093DC86]\n\t(No symbol) [0x0093DECB]\n\t(No symbol) [0x0097B9F2]\n\t(No symbol) [0x0095FED4]\n\t(No symbol) [0x00979579]\n\t(No symbol) [0x0095FC26]\n\t(No symbol) [0x0093219C]\n\t(No symbol) [0x0093311D]\n\tGetHandleVerifier [0x00D38D93+2818227]\n\tGetHandleVerifier [0x00D9542E+3196750]\n\tGetHandleVerifier [0x00D8D9D2+3165426]\n\tGetHandleVerifier [0x00B2DA70+675216]\n\t(No symbol) [0x00A21B3D]\n\t(No symbol) [0x00A1EA18]\n\t(No symbol) [0x00A1EBB5]\n\t(No symbol) [0x00A11640]\n\tBaseThreadInitThunk [0x773C7BA9+25]\n\tRtlInitializeExceptionChain [0x77AFC0CB+107]\n\tRtlClearBits [0x77AFC04F+191]\n",
     "output_type": "error",
     "traceback": [
      "\u001b[1;31m---------------------------------------------------------------------------\u001b[0m",
      "\u001b[1;31mTimeoutException\u001b[0m                          Traceback (most recent call last)",
      "Cell \u001b[1;32mIn[22], line 1\u001b[0m\n\u001b[1;32m----> 1\u001b[0m e_stat \u001b[38;5;241m=\u001b[39m \u001b[43mWebDriverWait\u001b[49m\u001b[43m(\u001b[49m\u001b[43mdriver\u001b[49m\u001b[43m,\u001b[49m\u001b[43m \u001b[49m\u001b[38;5;241;43m10\u001b[39;49m\u001b[43m)\u001b[49m\u001b[38;5;241;43m.\u001b[39;49m\u001b[43muntil\u001b[49m\u001b[43m(\u001b[49m\u001b[43mEC\u001b[49m\u001b[38;5;241;43m.\u001b[39;49m\u001b[43mpresence_of_element_located\u001b[49m\u001b[43m(\u001b[49m\u001b[43m(\u001b[49m\u001b[43mBy\u001b[49m\u001b[38;5;241;43m.\u001b[39;49m\u001b[43mXPATH\u001b[49m\u001b[43m,\u001b[49m\u001b[43m \u001b[49m\u001b[38;5;124;43m'\u001b[39;49m\u001b[38;5;124;43m//input[@id=\u001b[39;49m\u001b[38;5;124;43m\"\u001b[39;49m\u001b[38;5;124;43mhdn-estmt-date-picker\u001b[39;49m\u001b[38;5;124;43m\"\u001b[39;49m\u001b[38;5;124;43m]\u001b[39;49m\u001b[38;5;124;43m'\u001b[39;49m\u001b[43m)\u001b[49m\u001b[43m)\u001b[49m\u001b[43m)\u001b[49m\n\u001b[0;32m      2\u001b[0m value_to_set \u001b[38;5;241m=\u001b[39m \u001b[38;5;124m\"\u001b[39m\u001b[38;5;124m07-2024\u001b[39m\u001b[38;5;124m\"\u001b[39m\n\u001b[0;32m      3\u001b[0m driver\u001b[38;5;241m.\u001b[39mexecute_script(\u001b[38;5;124mf\u001b[39m\u001b[38;5;124m'\u001b[39m\u001b[38;5;124marguments[0].value = arguments[1];\u001b[39m\u001b[38;5;124m'\u001b[39m, e_stat, value_to_set)\n",
      "File \u001b[1;32m~\\anaconda3\\envs\\basangdata12\\Lib\\site-packages\\selenium\\webdriver\\support\\wait.py:105\u001b[0m, in \u001b[0;36mWebDriverWait.until\u001b[1;34m(self, method, message)\u001b[0m\n\u001b[0;32m    103\u001b[0m     \u001b[38;5;28;01mif\u001b[39;00m time\u001b[38;5;241m.\u001b[39mmonotonic() \u001b[38;5;241m>\u001b[39m end_time:\n\u001b[0;32m    104\u001b[0m         \u001b[38;5;28;01mbreak\u001b[39;00m\n\u001b[1;32m--> 105\u001b[0m \u001b[38;5;28;01mraise\u001b[39;00m TimeoutException(message, screen, stacktrace)\n",
      "\u001b[1;31mTimeoutException\u001b[0m: Message: \nStacktrace:\n\tGetHandleVerifier [0x00A8EBD3+24307]\n\t(No symbol) [0x00A18D74]\n\t(No symbol) [0x008FC323]\n\t(No symbol) [0x0093DC86]\n\t(No symbol) [0x0093DECB]\n\t(No symbol) [0x0097B9F2]\n\t(No symbol) [0x0095FED4]\n\t(No symbol) [0x00979579]\n\t(No symbol) [0x0095FC26]\n\t(No symbol) [0x0093219C]\n\t(No symbol) [0x0093311D]\n\tGetHandleVerifier [0x00D38D93+2818227]\n\tGetHandleVerifier [0x00D9542E+3196750]\n\tGetHandleVerifier [0x00D8D9D2+3165426]\n\tGetHandleVerifier [0x00B2DA70+675216]\n\t(No symbol) [0x00A21B3D]\n\t(No symbol) [0x00A1EA18]\n\t(No symbol) [0x00A1EBB5]\n\t(No symbol) [0x00A11640]\n\tBaseThreadInitThunk [0x773C7BA9+25]\n\tRtlInitializeExceptionChain [0x77AFC0CB+107]\n\tRtlClearBits [0x77AFC04F+191]\n"
     ]
    }
   ],
   "source": [
    "e_stat = WebDriverWait(driver, 10).until(EC.presence_of_element_located((By.XPATH, '//input[@id=\"hdn-estmt-date-picker\"]')))\n",
    "value_to_set = \"07-2024\"\n",
    "driver.execute_script(f'arguments[0].value = arguments[1];', e_stat, value_to_set)"
   ]
  },
  {
   "cell_type": "code",
   "execution_count": 23,
   "metadata": {
    "execution": {
     "iopub.execute_input": "2024-11-09T04:49:00.314312Z",
     "iopub.status.busy": "2024-11-09T04:49:00.312316Z",
     "iopub.status.idle": "2024-11-09T04:49:00.921126Z",
     "shell.execute_reply": "2024-11-09T04:49:00.918099Z",
     "shell.execute_reply.started": "2024-11-09T04:49:00.314312Z"
    }
   },
   "outputs": [],
   "source": [
    "driver.switch_to.default_content()\n",
    "\n",
    "driver.switch_to.frame(driver.find_element(By.NAME, 'atm'))\n",
    "\n",
    "e_stat = WebDriverWait(driver, 10).until(EC.presence_of_element_located((By.XPATH, '//input[@id=\"hdn-estmt-date-picker\"]')))\n",
    "value_to_set = \"01-2024\"\n",
    "driver.execute_script(f'arguments[0].value = arguments[1];', e_stat, value_to_set)"
   ]
  },
  {
   "cell_type": "code",
   "execution_count": 24,
   "metadata": {
    "execution": {
     "iopub.execute_input": "2024-11-09T04:49:09.970591Z",
     "iopub.status.busy": "2024-11-09T04:49:09.967062Z",
     "iopub.status.idle": "2024-11-09T04:49:27.319034Z",
     "shell.execute_reply": "2024-11-09T04:49:27.316005Z",
     "shell.execute_reply.started": "2024-11-09T04:49:09.970591Z"
    }
   },
   "outputs": [],
   "source": [
    "time.sleep(3)\n",
    "\n",
    "driver.find_element(By.XPATH, '//input[@name=\"value(submit)\"]').click()\n",
    "\n",
    "time.sleep(10)"
   ]
  },
  {
   "cell_type": "markdown",
   "metadata": {},
   "source": [
    "# Kode Lengkap (Pilih menu s.d. Download)"
   ]
  },
  {
   "cell_type": "code",
   "execution_count": 31,
   "metadata": {
    "execution": {
     "iopub.execute_input": "2024-11-09T04:54:00.847728Z",
     "iopub.status.busy": "2024-11-09T04:54:00.845733Z",
     "iopub.status.idle": "2024-11-09T04:54:31.723060Z",
     "shell.execute_reply": "2024-11-09T04:54:31.721529Z",
     "shell.execute_reply.started": "2024-11-09T04:54:00.846731Z"
    }
   },
   "outputs": [],
   "source": [
    "driver.switch_to.default_content()\n",
    "driver.switch_to.frame(driver.find_element(By.NAME, 'menu'))\n",
    "\n",
    "driver.find_element(By.XPATH, '//b[contains(text(), \"e-Statement\")]/parent::font/parent::a').click()\n",
    "time.sleep(3)\n",
    "\n",
    "driver.find_element(By.XPATH, '//a[contains(text(), \"Savings and Giro\")]').click()\n",
    "time.sleep(3)\n",
    "\n",
    "driver.switch_to.default_content()\n",
    "\n",
    "driver.switch_to.frame(driver.find_element(By.NAME, 'atm'))\n",
    "\n",
    "e_stat = WebDriverWait(driver, 10).until(EC.presence_of_element_located((By.XPATH, '//input[@id=\"hdn-estmt-date-picker\"]')))\n",
    "value_to_set = \"02-2024\"\n",
    "driver.execute_script(f'arguments[0].value = arguments[1];', e_stat, value_to_set)\n",
    "\n",
    "time.sleep(3)\n",
    "\n",
    "driver.find_element(By.XPATH, '//input[@name=\"value(submit)\"]').click()\n",
    "\n",
    "time.sleep(10)\n"
   ]
  },
  {
   "cell_type": "markdown",
   "metadata": {},
   "source": [
    "# Logout"
   ]
  },
  {
   "cell_type": "code",
   "execution_count": 36,
   "metadata": {
    "execution": {
     "iopub.execute_input": "2024-11-09T04:57:11.709041Z",
     "iopub.status.busy": "2024-11-09T04:57:11.707046Z",
     "iopub.status.idle": "2024-11-09T04:57:13.810239Z",
     "shell.execute_reply": "2024-11-09T04:57:13.805204Z",
     "shell.execute_reply.started": "2024-11-09T04:57:11.709041Z"
    }
   },
   "outputs": [],
   "source": [
    "driver.switch_to.default_content()\n",
    "\n",
    "driver.switch_to.frame(driver.find_element(By.NAME, 'header'))\n",
    "\n",
    "driver.find_element(By.XPATH, '//a[contains(text(), \"LOGOUT\")]').click()"
   ]
  },
  {
   "cell_type": "markdown",
   "metadata": {},
   "source": [
    "# Tutup Browser"
   ]
  },
  {
   "cell_type": "code",
   "execution_count": 37,
   "metadata": {
    "execution": {
     "iopub.execute_input": "2024-11-09T04:58:08.481515Z",
     "iopub.status.busy": "2024-11-09T04:58:08.480020Z",
     "iopub.status.idle": "2024-11-09T04:58:09.071281Z",
     "shell.execute_reply": "2024-11-09T04:58:09.067295Z",
     "shell.execute_reply.started": "2024-11-09T04:58:08.481515Z"
    }
   },
   "outputs": [],
   "source": [
    "driver.quit()"
   ]
  },
  {
   "cell_type": "markdown",
   "metadata": {},
   "source": [
    "# Catatan"
   ]
  },
  {
   "cell_type": "markdown",
   "metadata": {},
   "source": [
    "- Aktivitas komputer (IP, Browser, OS) di KlikBCA sepertinya berpengaruh pada kesuksesan scraping/automating.\n",
    "- Jika sebelumnya, dalam waktu kurang dari 30 menit, sudah membuka, klik, melakukan beberapa hal di KlikBCA, scraper akan gagal login.\n",
    "- Setelah jeda beberapa waktu (jam), langsung jalankan scraper, maka akan berhasil.\n",
    "- Yang perlu diperhatikan adalah aktivitas mengakses KlikBCA. Tanpa aktivitas = probabilitas scraper berhasil: TINGGI. Dengan aktivitas = kemungkinan scraper berhasil: RENDAH."
   ]
  },
  {
   "cell_type": "markdown",
   "metadata": {},
   "source": []
  }
 ],
 "metadata": {
  "kernelspec": {
   "display_name": "basangdata12",
   "language": "python",
   "name": "python3"
  },
  "language_info": {
   "codemirror_mode": {
    "name": "ipython",
    "version": 3
   },
   "file_extension": ".py",
   "mimetype": "text/x-python",
   "name": "python",
   "nbconvert_exporter": "python",
   "pygments_lexer": "ipython3",
   "version": "3.12.2"
  }
 },
 "nbformat": 4,
 "nbformat_minor": 4
}
