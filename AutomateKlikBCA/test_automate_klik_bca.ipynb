{
 "cells": [
  {
   "cell_type": "markdown",
   "metadata": {},
   "source": [
    "# Libraries"
   ]
  },
  {
   "cell_type": "code",
   "execution_count": 5,
   "metadata": {},
   "outputs": [],
   "source": [
    "from credentials import USERID, TOKEN\n",
    "\n",
    "import json, requests, os, time\n",
    "import pandas as pd\n",
    "\n",
    "from io import StringIO\n",
    "from selenium import webdriver\n",
    "from selenium.webdriver.chrome.service import Service as ChromeService\n",
    "from webdriver_manager.chrome import ChromeDriverManager\n",
    "#from selenium.webdriver.common.desired_capabilities import DesiredCapabilities\n",
    "from selenium.webdriver.chrome.options import Options as ChromeOptions\n",
    "from selenium.webdriver.common.by import By\n",
    "from selenium.webdriver.support.ui import Select, WebDriverWait\n",
    "from selenium.webdriver.support import expected_conditions as EC\n",
    "\n",
    "import undetected_chromedriver as uc\n",
    "\n",
    "driver = uc.Chrome()\n"
   ]
  },
  {
   "cell_type": "code",
   "execution_count": 6,
   "metadata": {},
   "outputs": [],
   "source": [
    "initial_url = 'https://ibank.klikbca.com'\n",
    "\n",
    "\n",
    "driver.get(initial_url)\n",
    "\n",
    "time.sleep(3)\n",
    "driver.find_element(By.ID, 'txt_user_id').send_keys(USERID)\n",
    "elem = driver.find_element(By.XPATH, '//input[@name=\"value(user_id)\"]')\n",
    "driver.execute_script(f'arguments[0].value = arguments[1];', elem, USERID)\n",
    "time.sleep(3)\n",
    "\n",
    "driver.find_element(By.ID, 'txt_pswd').send_keys(TOKEN)\n",
    "elem = driver.find_element(By.XPATH, '//input[@name=\"value(pswd)\"]')\n",
    "driver.execute_script(f'arguments[0].value = arguments[1];', elem, TOKEN)\n",
    "\n",
    "#time.sleep(30)\n",
    "\n",
    "\n",
    "driver.find_element(By.ID, 'btnSubmit').click()"
   ]
  },
  {
   "cell_type": "code",
   "execution_count": 7,
   "metadata": {},
   "outputs": [],
   "source": [
    "driver.switch_to.frame(driver.find_element(By.NAME, 'menu'))\n",
    "\n",
    "driver.find_element(By.XPATH, '//b[contains(text(), \"e-Statement\")]/parent::font/parent::a').click()\n",
    "time.sleep(3)\n",
    "\n",
    "driver.find_element(By.XPATH, '//a[contains(text(), \"Savings and Giro\")]').click()\n",
    "time.sleep(3)\n",
    "\n",
    "driver.switch_to.default_content()\n",
    "\n",
    "driver.switch_to.frame(driver.find_element(By.NAME, 'atm'))\n",
    "\n",
    "e_stat = WebDriverWait(driver, 10).until(EC.presence_of_element_located((By.XPATH, '//input[@id=\"hdn-estmt-date-picker\"]')))\n",
    "value_to_set = \"06-2024\"\n",
    "driver.execute_script(f'arguments[0].value = arguments[1];', e_stat, value_to_set)\n",
    "\n",
    "time.sleep(3)\n",
    "\n",
    "\n",
    "driver.find_element(By.XPATH, '//input[@name=\"value(submit)\"]').click()\n",
    "\n",
    "time.sleep(10)\n"
   ]
  },
  {
   "cell_type": "code",
   "execution_count": 8,
   "metadata": {},
   "outputs": [],
   "source": [
    "driver.quit()"
   ]
  },
  {
   "cell_type": "markdown",
   "metadata": {},
   "source": [
    "# Catatan"
   ]
  },
  {
   "cell_type": "markdown",
   "metadata": {},
   "source": [
    "- Aktivitas komputer (IP, Browser, OS) di KlikBCA sepertinya berpengaruh pada kesuksesan scraping/automating.\n",
    "- Jika sebelumnya, dalam waktu kurang dari 30 menit, sudah membuka, klik, melakukan beberapa hal di KlikBCA, scraper akan gagal login.\n",
    "- Setelah jeda beberapa waktu (jam), langsung jalankan scraper, maka akan berhasil.\n",
    "- Yang perlu diperhatikan adalah aktivitas mengakses KlikBCA. Tanpa aktivitas = probabilitas scraper berhasil: TINGGI. Dengan aktivitas = kemungkinan scraper berhasil: RENDAH."
   ]
  },
  {
   "cell_type": "markdown",
   "metadata": {},
   "source": []
  }
 ],
 "metadata": {
  "kernelspec": {
   "display_name": "basangdata12",
   "language": "python",
   "name": "python3"
  },
  "language_info": {
   "codemirror_mode": {
    "name": "ipython",
    "version": 3
   },
   "file_extension": ".py",
   "mimetype": "text/x-python",
   "name": "python",
   "nbconvert_exporter": "python",
   "pygments_lexer": "ipython3",
   "version": "3.12.2"
  }
 },
 "nbformat": 4,
 "nbformat_minor": 2
}
