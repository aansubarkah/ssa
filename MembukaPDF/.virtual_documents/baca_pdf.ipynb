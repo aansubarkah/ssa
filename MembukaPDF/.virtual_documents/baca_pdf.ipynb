#!pip install tabula-py


#!pip install pdfplumber


!pip install tabula-py pdfplumber





import tabula
import pdfplumber
import pandas as pd








pdf_tabel = tabula.read_pdf("Store.pdf", pages="all")











#pdf_tabel





pdf_tabel[0]


pdf_tabel[2]











type(pdf_tabel[1])





#pdf_tabel[1].columns = ['BusinessEntityID', 'Name', 'SalesPersonID', 'Demographics', 'rowguid', 'ModifiedDate']


pdf_tabel[1]








tabel_2 = pdf_tabel[1].reset_index().T.reset_index().T

tabel_2 = tabel_2.iloc[:, 1:]

tabel_2.columns = ['BusinessEntityID', 'Name', 'SalesPersonID', 'Demographics', 'rowguid', 'ModifiedDate']


tabel_2











pdf_tabel = tabula.read_pdf("Store.pdf", pages="all")

list_tabel = []

#for i in range(0, 6): # mulai dari halaman 1 sampai halaman akhir pdf, lakukan hal di bawah ini
for i in range(0, len(pdf_tabel)): # mulai dari halaman 1 sampai halaman akhir pdf, lakukan hal di bawah ini     
    if i == 0:
        list_tabel.append(pdf_tabel[i])
    else:
        # tambahkan judul kolom
        tabel_2 = pdf_tabel[i].reset_index().T.reset_index().T
        tabel_2 = tabel_2.iloc[:, 1:]
        tabel_2.columns = ['BusinessEntityID', 'Name', 'SalesPersonID', 'Demographics', 'rowguid', 'ModifiedDate']

        # masukkan dalam ember
        list_tabel.append(tabel_2)

tabel_pdf = pd.concat(list_tabel, ignore_index=True)


#list_tabel[1]


tabel_pdf





tabel_pdf.to_excel('dari_pdf_tabel_baru_lagi_17_agutsut_error.xlsx', index=False)


tabel_pdf.to_csv('dari_pdf_tabel.csv', index=False)








with pdfplumber.open('banyak_pdfs\\STATISTIK PERBANKAN SYARIAH APRIL 2024.pdf') as pdf:
    pages = pdf.pages
    
    for i in range(len(pages)):
        #print(i)
        page = pdf.pages[i]
        #table = page.extract_table()
        #df = pd.DataFrame(table)
        #print(df)
        texts = page.extract_text()

        for line in texts.split('\n'):
            if 'NPF (%)' in line:
                print(line)











#with pdfplumber.open('banyak_pdfs\\STATISTIK PERBANKAN SYARIAH APRIL 2024.pdf') as pdf:
#    pages = pdf.pages
#    for i in range(len(pages)):
#        page = pdf.pages[i]
#        texts = page.extract_text()

        #for line in texts.split('\n'):
            #if 'NPF (%)' in line:
                #print(line.replace(' .', '.'))





npf_belum_ketemu = True # [baru]
#npf_ke = 0
#ini_variable_npf_5 = ''
#print('pertama:', ini_variable_npf_5)

with pdfplumber.open('banyak_pdfs\\STATISTIK PERBANKAN SYARIAH APRIL 2024.pdf') as pdf:
    pages = pdf.pages
    
    for i in range(len(pages)):
        #if npf_belum_ketemu == False:
            #print('tidak lakukan apa2')
        if npf_belum_ketemu == True:
            page = pdf.pages[i]
            texts = page.extract_text()

            for line in texts.split('\n'):
                if 'NPF (%)' in line:
                    print('ketemu')
                    npf_belum_ketemu = False
                    #print(line.replace(' .', '.'))
                    #npf_ke = npf_ke + 1
                    #print(npf_ke)
                    #if npf_ke == 6:
                        #print('ini adalah npf ke-5', line)
                        #ini_variable_npf_5 = line                        
                        # ini bisa diganti/ditambah prosedur/algoritma sesuai kebutuhan                        
                        #npf_belum_ketemu = False # [baru] jika ditemukan teks NPF (%) maka tidak perlu lagi membaca halaman lainnya
                        
                        
#print('kedua:', ini_variable_npf_5)





npf_belum_ketemu = True
with pdfplumber.open('banyak_pdfs\\STATISTIK PERBANKAN SYARIAH APRIL 2024.pdf') as pdf:
    pages = pdf.pages
    
    # [baru] mencari tahun dan bulan di halaman pertama
    page = pdf.pages[0]
    texts = page.extract_text()
    for line in texts.split('\n'):
        if line:
            print(line)
        
    for i in range(len(pages)):
        if npf_belum_ketemu: # [baru]
            page = pdf.pages[i]
            texts = page.extract_text()

            for line in texts.split('\n'):
                if 'NPF (%)' in line:
                    print(line.replace(' .', '.'))
                    npf_belum_ketemu = False # [baru] jika ditemukan teks NPF (%) maka tidak perlu lagi membaca halaman lainnya





npf_belum_ketemu = True
npf_teks = '' # [baru]

bulan_teks = '' # [baru]
with pdfplumber.open('banyak_pdfs\\STATISTIK PERBANKAN SYARIAH MEI 2024.pdf') as pdf:
    pages = pdf.pages
    # mencari tahun dan bulan di halaman pertama
    page = pdf.pages[0]
    texts = page.extract_text()
    for line in texts.split('\n'):
        if line:
            # print(line)
            bulan_teks = line # [baru]
        
    for i in range(len(pages)):
        if npf_belum_ketemu:
            page = pdf.pages[i]
            texts = page.extract_text()

            for line in texts.split('\n'):
                if 'NPF (%)' in line:
                    # print(line.replace(' .', '.'))
                    npf_teks = line.replace(' .', '.') # [baru]
                    npf_belum_ketemu = False # jika ditemukan teks NPF (%) maka tidak perlu lagi membaca halaman lainnya

print(bulan_teks) # [baru]
print(npf_teks) # [baru]








from datetime import datetime, date


date_obj = datetime.strptime(bulan_teks, '%b%Y')





date_obj


npf_belum_ketemu = True
npf_teks = '' # [baru]

bulan_teks = ''
with pdfplumber.open('banyak_pdfs\\STATISTIK PERBANKAN SYARIAH MEI 2024.pdf') as pdf:
    pages = pdf.pages
    # mencari tahun dan bulan di halaman pertama
    page = pdf.pages[0]
    texts = page.extract_text()
    for line in texts.split('\n'):
        if line:
            # print(line)
            bulan_teks = line # [baru]

    for i in range(len(pages)):
        if npf_belum_ketemu:
            page = pdf.pages[i]
            texts = page.extract_text()

            for line in texts.split('\n'):
                if 'NPF (%)' in line:
                    # print(line.replace(' .', '.'))
                    npf_teks = line.replace(' .', '.') # [baru]
                    npf_belum_ketemu = False # jika ditemukan teks NPF (%) maka tidak perlu lagi membaca halaman lainnya

tahun = 0 # [baru]
bulan = 0 # [baru]

bulan_tahun = datetime.strptime(bulan_teks, '%b%Y') # [baru]
tahun = bulan_tahun.year # [baru]
bulan = bulan_tahun.month # [baru]

print(bulan_teks, tahun, bulan) # [baru]
print(npf_teks)





npf_belum_ketemu = True
npf_teks = ''

bulan_teks = ''
with pdfplumber.open('banyak_pdfs\\STATISTIK PERBANKAN SYARIAH MEI 2024.pdf') as pdf:
    pages = pdf.pages
    # mencari tahun dan bulan di halaman pertama
    page = pdf.pages[0]
    texts = page.extract_text()
    for line in texts.split('\n'):
        if line:
            # print(line)
            bulan_teks = line

    for i in range(len(pages)):
        if npf_belum_ketemu:
            page = pdf.pages[i]
            texts = page.extract_text()

            for line in texts.split('\n'):
                if 'NPF (%)' in line:
                    # print(line.replace(' .', '.'))
                    npf_teks = line.replace(' .', '.')
                    npf_belum_ketemu = False # jika ditemukan teks NPF (%) maka tidak perlu lagi membaca halaman lainnya

tahun = 0
bulan = 0

bulan_tahun = datetime.strptime(bulan_teks, '%b%Y')
tahun = bulan_tahun.year
bulan = bulan_tahun.month

print(bulan_teks, tahun, bulan)
print(npf_teks)

# baru
npf_teks_list = npf_teks.split()
print('ini npf_teks_split', npf_teks_list)

tahun_4 = npf_teks_list[2]
tahun_3 = npf_teks_list[3]
tahun_2 = npf_teks_list[4]

print(tahun_4, tahun_3, tahun_2)





npf_belum_ketemu = True
npf_teks = ''

bulan_teks = ''
with pdfplumber.open('banyak_pdfs\\STATISTIK PERBANKAN SYARIAH MEI 2024.pdf') as pdf:
    pages = pdf.pages
    # mencari tahun dan bulan di halaman pertama
    page = pdf.pages[0]
    texts = page.extract_text()
    for line in texts.split('\n'):
        if line:
            # print(line)
            bulan_teks = line

    for i in range(len(pages)):
        if npf_belum_ketemu:
            page = pdf.pages[i]
            texts = page.extract_text()

            for line in texts.split('\n'):
                if 'NPF (%)' in line:
                    # print(line.replace(' .', '.'))
                    npf_teks = line.replace(' .', '.')
                    npf_belum_ketemu = False # jika ditemukan teks NPF (%) maka tidak perlu lagi membaca halaman lainnya

tahun = 0
bulan = 0

bulan_tahun = datetime.strptime(bulan_teks, '%b%Y')
tahun = bulan_tahun.year
bulan = bulan_tahun.month

print(bulan_teks, tahun, bulan)
print(npf_teks)

npf_teks_list = npf_teks.split()
print(npf_teks_list)

tahun_4 = npf_teks_list[2]
tahun_3 = npf_teks_list[3]
tahun_2 = npf_teks_list[4]

print(tahun_4, tahun_3, tahun_2)

# baru
bulan_13 = npf_teks_list[5:]
print('ini, bulan_13', bulan_13)

# buat dictionary/dict/objek semacam kamus
data_dict = {}
# pola dictionary: nama_kolom -> isi (value)
data_dict['tahun_' + str(tahun - 4)] = tahun_4
data_dict['tahun_' + str(tahun - 3)] = tahun_3
data_dict['tahun_' + str(tahun - 2)] = tahun_2

print('ini data_dict', data_dict)

tahun_1_sisa_bulan = 13 - bulan
print('ini sisa bulan tahun n-1', tahun_1_sisa_bulan)

tahun_1_mulai_bulan = 13 - tahun_1_sisa_bulan
print('ini bulan mulai ditampilkan, untuk tahun n-1', tahun_1_mulai_bulan)

idx = 0
for bln in range(tahun_1_mulai_bulan, 13):
    # print(date(tahun-1, bulan, 1).strftime('%b_%Y'))
    # data_dict[date(tahun-1, bln, 1).strftime('%b_%Y')] = bulan_13.pop(0)
    data_dict[date(tahun-1, bln, 1).strftime('%b_%Y')] = bulan_13[idx]
    idx += 1

for bln in range(1, bulan+1):
    # print(date(tahun, bln, 1).strftime('%b_%Y'))
    #data_dict[date(tahun, bln, 1).strftime('%b_%Y')] = bulan_13.pop(0)
    data_dict[date(tahun, bln, 1).strftime('%b_%Y')] = bulan_13[idx]
    idx += 1


print(data_dict)

df = pd.DataFrame([data_dict])


df





import os, glob


for file in glob.glob('banyak_pdfs\\*.pdf'):
    print(file)


df_list = []

for file in glob.glob('banyak_pdfs\\*.pdf'):
    print(file)
    
    npf_belum_ketemu = True
    npf_teks = ''

    bulan_teks = ''
    with pdfplumber.open(file) as pdf:
    #with pdfplumber.open('banyak_pdfs\\STATISTIK PERBANKAN SYARIAH MEI 2024.pdf') as pdf:
        pages = pdf.pages
        # mencari tahun dan bulan di halaman pertama
        page = pdf.pages[0]
        texts = page.extract_text()
        for line in texts.split('\n'):
            if line:
                # print(line)
                bulan_teks = line.replace(' ', '')

        for i in range(len(pages)):
            if npf_belum_ketemu:
                page = pdf.pages[i]
                texts = page.extract_text()

                for line in texts.split('\n'):
                    if 'NPF (%)' in line:
                        # print(line.replace(' .', '.'))
                        npf_teks = line.replace(' .', '.')
                        npf_belum_ketemu = False # jika ditemukan teks NPF (%) maka tidak perlu lagi membaca halaman lainnya

    tahun = 0
    bulan = 0

    bulan_tahun = datetime.strptime(bulan_teks, '%B%Y')
    tahun = bulan_tahun.year
    bulan = bulan_tahun.month

    #print(bulan_teks, tahun, bulan)
    #print(npf_teks)

    npf_teks_list = npf_teks.split()
    #print(npf_teks_list)

    
    if len(npf_teks_list) == 18:
        tahun_4 = npf_teks_list[2]
        tahun_3 = npf_teks_list[3]
        tahun_2 = npf_teks_list[4]
        bulan_13 = npf_teks_list[5:]
        
    if len(npf_teks_list) == 17:
        tahun_4 = 0
        tahun_3 = npf_teks_list[2]
        tahun_2 = npf_teks_list[3]
        bulan_13 = npf_teks_list[3:]
        
    #print(tahun_4)
    #print(npf_teks_list)
    #print(bulan_13)
    
    #print(tahun_4, tahun_3, tahun_2)

    # baru
    #bulan_13 = npf_teks_list[5:]
    #print(bulan_13)

    # buat dictionary/dict/objek semacam kamus
    data_dict = {}
    data_dict['tahun_' + str(tahun-4)] = tahun_4
    data_dict['tahun_' + str(tahun-3)] = tahun_3
    data_dict['tahun_' + str(tahun-2)] = tahun_2

    #print(data_dict)

    tahun_1_sisa_bulan = 13 - bulan
    #print(tahun_1_sisa_bulan)

    tahun_1_mulai_bulan = 13 - tahun_1_sisa_bulan
    #print(tahun_1_mulai_bulan)

    #print(bulan_13)
    idx = 0
    for bln in range(tahun_1_mulai_bulan, 13):
        # print(date(tahun-1, bulan, 1).strftime('%b_%Y'))
        # data_dict[date(tahun-1, bln, 1).strftime('%b_%Y')] = bulan_13.pop(0)
        data_dict[date(tahun-1, bln, 1).strftime('%b_%Y')] = bulan_13[idx]
        idx += 1

    for bln in range(1, bulan+1):
        # print(date(tahun, bln, 1).strftime('%b_%Y'))
        #data_dict[date(tahun, bln, 1).strftime('%b_%Y')] = bulan_13.pop(0)
        data_dict[date(tahun, bln, 1).strftime('%b_%Y')] = bulan_13[idx]
        idx += 1

    #print(data_dict)

    temp_df = pd.DataFrame([data_dict])
    df_list.append(temp_df)


df = pd.concat(df_list, ignore_index=True)


df


df.to_excel('dari_ojk_baru_2023_17_agus_baru.xlsx', index=False)





#pdf1 = tabula.read_pdf("banyak_pdfs\\STATISTIK PERBANKAN SYARIAH APRIL 2024.pdf", pages='all')


#!pip install jpype1















