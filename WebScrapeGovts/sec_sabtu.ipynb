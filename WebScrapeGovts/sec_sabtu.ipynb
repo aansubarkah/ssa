{
 "cells": [
  {
   "cell_type": "code",
   "execution_count": null,
   "id": "68e3a2d4-39ef-40d7-a6a9-fb12361168a9",
   "metadata": {},
   "outputs": [],
   "source": []
  },
  {
   "cell_type": "code",
   "execution_count": 1,
   "id": "4a566566-8d4b-4a01-b018-c73f0337fca4",
   "metadata": {
    "execution": {
     "iopub.execute_input": "2024-10-05T04:31:05.484007Z",
     "iopub.status.busy": "2024-10-05T04:31:05.482016Z",
     "iopub.status.idle": "2024-10-05T04:31:07.793045Z",
     "shell.execute_reply": "2024-10-05T04:31:07.792040Z",
     "shell.execute_reply.started": "2024-10-05T04:31:05.484007Z"
    }
   },
   "outputs": [],
   "source": [
    "import json, requests, os, time, glob\n",
    "#import pandas as pd\n",
    "\n",
    "from io import StringIO\n",
    "from selenium import webdriver\n",
    "from selenium.webdriver.chrome.service import Service as ChromeService\n",
    "from webdriver_manager.chrome import ChromeDriverManager\n",
    "#from selenium.webdriver.common.desired_capabilities import DesiredCapabilities\n",
    "from selenium.webdriver.chrome.options import Options as ChromeOptions\n",
    "from selenium.webdriver.common.by import By\n",
    "from selenium.webdriver.support.ui import WebDriverWait\n",
    "from selenium.webdriver.support import expected_conditions as EC\n",
    "\n",
    "#import undetected_chromedriver as uc\n",
    "#from datetime import datetime, timedelta\n",
    "from tqdm.notebook import tqdm"
   ]
  },
  {
   "cell_type": "code",
   "execution_count": 2,
   "id": "d0f75996-8482-4466-b16a-2eb435ec8a0e",
   "metadata": {
    "execution": {
     "iopub.execute_input": "2024-10-05T04:31:07.797033Z",
     "iopub.status.busy": "2024-10-05T04:31:07.796035Z",
     "iopub.status.idle": "2024-10-05T04:31:07.809555Z",
     "shell.execute_reply": "2024-10-05T04:31:07.807560Z",
     "shell.execute_reply.started": "2024-10-05T04:31:07.797033Z"
    }
   },
   "outputs": [],
   "source": [
    "options = webdriver.ChromeOptions()\n",
    "options.add_argument('w3c')\n",
    "options.add_argument('--disable_gpu')\n",
    "options.add_argument('--no-sandbox')\n",
    "options.add_argument(\"--start-maximized\")\n",
    "#options.add_argument(\"--window-size=1920,1080\")\n",
    "#options.add_argument(\"--headless\")\n",
    "\n"
   ]
  },
  {
   "cell_type": "code",
   "execution_count": 3,
   "id": "44e28633-945e-4cd1-96fe-f6c45bc7b740",
   "metadata": {
    "execution": {
     "iopub.execute_input": "2024-10-05T04:31:07.814065Z",
     "iopub.status.busy": "2024-10-05T04:31:07.813066Z",
     "iopub.status.idle": "2024-10-05T04:31:11.410456Z",
     "shell.execute_reply": "2024-10-05T04:31:11.405952Z",
     "shell.execute_reply.started": "2024-10-05T04:31:07.814065Z"
    }
   },
   "outputs": [],
   "source": [
    "DRIVER = webdriver.Chrome(options=options)"
   ]
  },
  {
   "cell_type": "code",
   "execution_count": 4,
   "id": "a22bde28-9e2e-4aeb-a5ec-bd919c3f3a5a",
   "metadata": {
    "execution": {
     "iopub.execute_input": "2024-10-05T04:31:11.415488Z",
     "iopub.status.busy": "2024-10-05T04:31:11.414492Z",
     "iopub.status.idle": "2024-10-05T04:31:11.439524Z",
     "shell.execute_reply": "2024-10-05T04:31:11.436538Z",
     "shell.execute_reply.started": "2024-10-05T04:31:11.415488Z"
    }
   },
   "outputs": [],
   "source": [
    "initial_url = 'https://www.sec.gov/search-filings/cik-lookup'\n",
    "\n",
    "KEYWORD = 'APPLE'"
   ]
  },
  {
   "cell_type": "code",
   "execution_count": 5,
   "id": "9c266867-618c-4ec7-9e85-5eb6f59b93b5",
   "metadata": {
    "execution": {
     "iopub.execute_input": "2024-10-05T04:31:11.448045Z",
     "iopub.status.busy": "2024-10-05T04:31:11.446051Z",
     "iopub.status.idle": "2024-10-05T04:31:37.205599Z",
     "shell.execute_reply": "2024-10-05T04:31:37.201599Z",
     "shell.execute_reply.started": "2024-10-05T04:31:11.447047Z"
    }
   },
   "outputs": [],
   "source": [
    "DRIVER.get(initial_url)"
   ]
  },
  {
   "cell_type": "code",
   "execution_count": 6,
   "id": "2b65eb52-b8e0-4384-8256-1e08cd87baf0",
   "metadata": {
    "execution": {
     "iopub.execute_input": "2024-10-05T04:31:37.212094Z",
     "iopub.status.busy": "2024-10-05T04:31:37.211090Z",
     "iopub.status.idle": "2024-10-05T04:31:37.326514Z",
     "shell.execute_reply": "2024-10-05T04:31:37.323513Z",
     "shell.execute_reply.started": "2024-10-05T04:31:37.212094Z"
    }
   },
   "outputs": [],
   "source": [
    "try:\n",
    "    DRIVER.find_element(By.XPATH, '//button[@aria-label=\"Close dialog\"]').click()\n",
    "except: pass"
   ]
  },
  {
   "cell_type": "code",
   "execution_count": 7,
   "id": "73cbb260-f803-4d8b-930c-8f3c1fd1062d",
   "metadata": {
    "execution": {
     "iopub.execute_input": "2024-10-05T04:31:37.332017Z",
     "iopub.status.busy": "2024-10-05T04:31:37.329507Z",
     "iopub.status.idle": "2024-10-05T04:31:37.800771Z",
     "shell.execute_reply": "2024-10-05T04:31:37.798262Z",
     "shell.execute_reply.started": "2024-10-05T04:31:37.332017Z"
    }
   },
   "outputs": [],
   "source": [
    "#DRIVER.find_element(By.ID, 'company')\n",
    "DRIVER.find_element(By.XPATH, '//input[@placeholder=\"Name\"]').send_keys(KEYWORD)"
   ]
  },
  {
   "cell_type": "code",
   "execution_count": 8,
   "id": "1f45f226-16a8-4ffa-8e00-4dbafe3ee1d4",
   "metadata": {
    "execution": {
     "iopub.execute_input": "2024-10-05T04:31:37.812340Z",
     "iopub.status.busy": "2024-10-05T04:31:37.807798Z",
     "iopub.status.idle": "2024-10-05T04:31:46.648057Z",
     "shell.execute_reply": "2024-10-05T04:31:46.646064Z",
     "shell.execute_reply.started": "2024-10-05T04:31:37.812340Z"
    }
   },
   "outputs": [],
   "source": [
    "DRIVER.find_element(By.XPATH, '//button[contains(text(), \"Search\")]').click()"
   ]
  },
  {
   "cell_type": "code",
   "execution_count": 9,
   "id": "8ab8a3cf-84e9-44d4-b3d0-d819923d0351",
   "metadata": {
    "execution": {
     "iopub.execute_input": "2024-10-05T04:31:46.652857Z",
     "iopub.status.busy": "2024-10-05T04:31:46.651853Z",
     "iopub.status.idle": "2024-10-05T04:31:46.726183Z",
     "shell.execute_reply": "2024-10-05T04:31:46.724189Z",
     "shell.execute_reply.started": "2024-10-05T04:31:46.652857Z"
    }
   },
   "outputs": [],
   "source": [
    "element = WebDriverWait(DRIVER, 10).until(\n",
    "    EC.presence_of_element_located((By.XPATH, '//strong[contains(text(), \"CIK Code\")]'))\n",
    ")\n",
    "#DRIVER.find_element(By.XPATH, '//strong[contains(text(), \"CIK Code\")]')"
   ]
  },
  {
   "cell_type": "code",
   "execution_count": 10,
   "id": "e752ba71-5ffc-415f-8820-55a5f5353bdc",
   "metadata": {
    "execution": {
     "iopub.execute_input": "2024-10-05T04:31:46.734735Z",
     "iopub.status.busy": "2024-10-05T04:31:46.731723Z",
     "iopub.status.idle": "2024-10-05T04:31:46.837911Z",
     "shell.execute_reply": "2024-10-05T04:31:46.831921Z",
     "shell.execute_reply.started": "2024-10-05T04:31:46.734735Z"
    }
   },
   "outputs": [],
   "source": [
    "ciks = DRIVER.find_elements(By.XPATH, '//a[contains(@href, \"browse-edgar\")]')"
   ]
  },
  {
   "cell_type": "code",
   "execution_count": null,
   "id": "cc71c251-810c-4a82-ac7f-24147e3b3a1e",
   "metadata": {},
   "outputs": [],
   "source": []
  },
  {
   "cell_type": "code",
   "execution_count": null,
   "id": "6d333c42-0c24-429b-add5-cd936c3de398",
   "metadata": {},
   "outputs": [],
   "source": []
  },
  {
   "cell_type": "code",
   "execution_count": 11,
   "id": "c87ca1be-ce6c-449b-9759-fe298e715f99",
   "metadata": {
    "execution": {
     "iopub.execute_input": "2024-10-05T04:31:46.843456Z",
     "iopub.status.busy": "2024-10-05T04:31:46.842452Z",
     "iopub.status.idle": "2024-10-05T04:31:46.866473Z",
     "shell.execute_reply": "2024-10-05T04:31:46.862477Z",
     "shell.execute_reply.started": "2024-10-05T04:31:46.843456Z"
    }
   },
   "outputs": [],
   "source": [
    "S = requests.Session()"
   ]
  },
  {
   "cell_type": "code",
   "execution_count": 12,
   "id": "f9a71ecf-c579-408e-9b75-54ef26c7519a",
   "metadata": {
    "execution": {
     "iopub.execute_input": "2024-10-05T04:31:46.873988Z",
     "iopub.status.busy": "2024-10-05T04:31:46.871984Z",
     "iopub.status.idle": "2024-10-05T04:31:46.904612Z",
     "shell.execute_reply": "2024-10-05T04:31:46.894075Z",
     "shell.execute_reply.started": "2024-10-05T04:31:46.872989Z"
    }
   },
   "outputs": [],
   "source": [
    "headers = {\n",
    "    'Accept': '*/*',\n",
    "    'Accept-Encoding': 'gzip, deflate, br, zstd',\n",
    "    'Accept-Language': 'en-US,en;q=0.5',\n",
    "    'Origin': 'https://www.sec.gov',\n",
    "    'Referer': 'https://www.sec.gov/',\n",
    "    'Sec-Fetch-Dest': 'empty',\n",
    "    'Sec-Fetch-Mode': 'cors',\n",
    "    'Sec-Fetch-Site': 'same-site',\n",
    "    'User-Agent': 'Mozilla/5.0 (Windows NT 10.0; Win64; x64; rv:131.0) Gecko/20100101 Firefox/131.0'\n",
    "}"
   ]
  },
  {
   "cell_type": "code",
   "execution_count": 13,
   "id": "7525d7d5-501f-40ed-9bfa-a3a7699f716a",
   "metadata": {
    "execution": {
     "iopub.execute_input": "2024-10-05T04:31:46.923155Z",
     "iopub.status.busy": "2024-10-05T04:31:46.921652Z",
     "iopub.status.idle": "2024-10-05T04:31:48.555261Z",
     "shell.execute_reply": "2024-10-05T04:31:48.553265Z",
     "shell.execute_reply.started": "2024-10-05T04:31:46.922647Z"
    }
   },
   "outputs": [],
   "source": [
    "r = S.get('https://data.sec.gov/submissions/CIK0001493086.json', headers=headers)"
   ]
  },
  {
   "cell_type": "code",
   "execution_count": 14,
   "id": "43156035-d60e-4db2-ab14-2e5817d285a3",
   "metadata": {
    "execution": {
     "iopub.execute_input": "2024-10-05T04:31:48.561806Z",
     "iopub.status.busy": "2024-10-05T04:31:48.560766Z",
     "iopub.status.idle": "2024-10-05T04:31:48.604108Z",
     "shell.execute_reply": "2024-10-05T04:31:48.599371Z",
     "shell.execute_reply.started": "2024-10-05T04:31:48.561806Z"
    }
   },
   "outputs": [
    {
     "data": {
      "text/plain": [
       "'{\"cik\":\"1493086\",\"entityType\":\"other\",\"sic\":\"\",\"sicDescription\":\"\",\"ownerOrg\":\"\",\"insiderTransactionForOwnerExists\":1,\"insiderTransactionForIssuerExists\":0,\"name\":\"Apple Allan Victor\",\"tickers\":[],\"exchanges\":[],\"ein\":null,\"description\":\"\",\"website\":\"\",\"investorWebsite\":\"\",\"category\":\"\",\"fiscalYearEnd\":null,\"stateOfIncorporation\":\"\",\"stateOfIncorporationDescription\":\"\",\"addresses\":{\"mailing\":{\"street1\":\"25505 WEST TWELVE MILE ROAD\",\"street2\":\"SUITE 4125\",\"city\":\"SOUTHFIELD\",\"stateOrCountry\":\"MI\",\"zipCode\":\"48034\",\"stateOrCountryDescription\":\"MI\"},\"business\":{\"street1\":null,\"street2\":null,\"city\":null,\"stateOrCountry\":\"\",\"zipCode\":null,\"stateOrCountryDescription\":\"\"}},\"phone\":null,\"flags\":\"\",\"formerNames\":[],\"filings\":{\"recent\":{\"accessionNumber\":[\"0001969223-24-000014\",\"0001969223-24-000013\",\"0001209191-16-138837\",\"0001209191-16-129022\",\"0001209191-15-085008\",\"0001209191-10-038126\",\"0001493086-10-000002\",\"0001493086-10-000001\"],\"filingDate\":[\"2024-01-26\",\"2024-01-26\",\"2016-08-26\",\"2016-06-21\",\"2015-12-14\",\"2010-07-12\",\"2010-06-28\",\"2010-06-01\"],\"reportDate\":[\"\",\"\",\"2016-08-24\",\"2016-06-17\",\"2015-12-04\",\"2010-07-09\",\"2010-05-20\",\"2010-05-20\"],\"acceptanceDateTime\":[\"2024-01-26T16:45:53.000Z\",\"2024-01-26T16:07:53.000Z\",\"2016-08-26T18:05:37.000Z\",\"2016-06-21T16:16:23.000Z\",\"2015-12-14T16:22:38.000Z\",\"2010-07-12T16:24:12.000Z\",\"2010-06-28T10:44:04.000Z\",\"2010-06-01T15:39:20.000Z\"],\"act\":[\"\",\"\",\"34\",\"34\",\"34\",\"34\",\"34\",\"34\"],\"form\":[\"144\",\"144\",\"4\",\"4\",\"3\",\"4\",\"3/A\",\"3\"],\"fileNumber\":[\"\",\"\",\"000-20202\",\"000-20202\",\"000-20202\",\"000-20202\",\"000-20202\",\"000-20202\"],\"filmNumber\":[\"\",\"\",\"161855742\",\"161724575\",\"151286219\",\"10948343\",\"10919054\",\"10869486\"],\"items\":[\"\",\"\",\"\",\"\",\"\",\"\",\"\",\"\"],\"core_type\":[\"144\",\"144\",\"4\",\"4\",\"3\",\"4\",\"3/A\",\"3\"],\"size\":[4734,4743,4637,4534,3570,6469,7186,7052],\"isXBRL\":[0,0,0,0,0,0,0,0],\"isInlineXBRL\":[0,0,0,0,0,0,0,0],\"primaryDocument\":[\"xsl144X01/primary_doc.xml\",\"xsl144X01/primary_doc.xml\",\"xslF345X03/doc4.xml\",\"xslF345X03/doc4.xml\",\"xslF345X02/doc3.xml\",\"xslF345X03/doc4.xml\",\"xslF345X02/primary_doc.xml\",\"xslF345X02/primary_doc.xml\"],\"primaryDocDescription\":[\"\",\"\",\"FORM 4 SUBMISSION\",\"FORM 4 SUBMISSION\",\"FORM 3 SUBMISSION\",\"FORM 4 SUBMISSION\",\"PRIMARY DOCUMENT\",\"PRIMARY DOCUMENT\"]},\"files\":[]}}'"
      ]
     },
     "execution_count": 14,
     "metadata": {},
     "output_type": "execute_result"
    }
   ],
   "source": [
    "r.text"
   ]
  },
  {
   "cell_type": "code",
   "execution_count": 19,
   "id": "a4e72bdb-1737-4aab-93c6-61ae8760ec1e",
   "metadata": {
    "execution": {
     "iopub.execute_input": "2024-10-05T04:36:41.287566Z",
     "iopub.status.busy": "2024-10-05T04:36:41.287566Z",
     "iopub.status.idle": "2024-10-05T04:36:41.312658Z",
     "shell.execute_reply": "2024-10-05T04:36:41.311656Z",
     "shell.execute_reply.started": "2024-10-05T04:36:41.287566Z"
    }
   },
   "outputs": [
    {
     "name": "stdout",
     "output_type": "stream",
     "text": [
      "0001493086\n"
     ]
    }
   ],
   "source": [
    "for cik in ciks[:1]:\n",
    "    print(cik.text)"
   ]
  },
  {
   "cell_type": "code",
   "execution_count": 16,
   "id": "5cf8b846-aec7-4b49-a837-20d6219b7866",
   "metadata": {
    "execution": {
     "iopub.execute_input": "2024-10-05T04:33:28.234552Z",
     "iopub.status.busy": "2024-10-05T04:33:28.233554Z",
     "iopub.status.idle": "2024-10-05T04:33:39.095402Z",
     "shell.execute_reply": "2024-10-05T04:33:39.093444Z",
     "shell.execute_reply.started": "2024-10-05T04:33:28.234552Z"
    }
   },
   "outputs": [
    {
     "name": "stdout",
     "output_type": "stream",
     "text": [
      "https://data.sec.gov/submissions/CIK0001493086.json\n",
      "https://data.sec.gov/submissions/CIK0001653690.json\n",
      "https://data.sec.gov/submissions/CIK0001567043.json\n",
      "https://data.sec.gov/submissions/CIK0001412692.json\n",
      "https://data.sec.gov/submissions/CIK0001839531.json\n"
     ]
    }
   ],
   "source": [
    "for cik in ciks[:5]:\n",
    "    #print(cik.text)\n",
    "    #link_baru = 'https://www.sec.gov/cgi-bin/browse-edgar?action=getcompany&CIK=' + cik.text\n",
    "    #print(link_baru)\n",
    "    api_link = 'https://data.sec.gov/submissions/CIK' + cik.text + '.json'\n",
    "    print(api_link)\n",
    "    \n",
    "    r = S.get(api_link, headers=headers) # web scraping hanya di sini\n",
    "\n",
    "    new_filename = 'cik_data_' + cik.text + '.json'\n",
    "    #print(new_filename)\n",
    "    with open(new_filename, 'w') as f:\n",
    "        json.dump(json.loads(r.text), f, indent=4)"
   ]
  },
  {
   "cell_type": "code",
   "execution_count": null,
   "id": "890eaafa-3c6d-4c03-8abc-b8cae98fe004",
   "metadata": {},
   "outputs": [],
   "source": []
  }
 ],
 "metadata": {
  "kernelspec": {
   "display_name": "Python 3 (ipykernel)",
   "language": "python",
   "name": "python3"
  },
  "language_info": {
   "codemirror_mode": {
    "name": "ipython",
    "version": 3
   },
   "file_extension": ".py",
   "mimetype": "text/x-python",
   "name": "python",
   "nbconvert_exporter": "python",
   "pygments_lexer": "ipython3",
   "version": "3.9.19"
  }
 },
 "nbformat": 4,
 "nbformat_minor": 5
}
