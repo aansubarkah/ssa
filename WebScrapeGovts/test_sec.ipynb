{
 "cells": [
  {
   "cell_type": "markdown",
   "metadata": {},
   "source": [
    "# Libraries"
   ]
  },
  {
   "cell_type": "code",
   "execution_count": 36,
   "metadata": {},
   "outputs": [],
   "source": [
    "import json, requests, os, time, glob\n",
    "import pandas as pd\n",
    "\n",
    "from io import StringIO\n",
    "from selenium import webdriver\n",
    "from selenium.webdriver.chrome.service import Service as ChromeService\n",
    "from webdriver_manager.chrome import ChromeDriverManager\n",
    "#from selenium.webdriver.common.desired_capabilities import DesiredCapabilities\n",
    "from selenium.webdriver.chrome.options import Options as ChromeOptions\n",
    "from selenium.webdriver.common.by import By\n",
    "from selenium.webdriver.support.ui import WebDriverWait\n",
    "from selenium.webdriver.support import expected_conditions as EC\n",
    "\n",
    "#import undetected_chromedriver as uc\n",
    "#from datetime import datetime, timedelta\n",
    "from tqdm.notebook import tqdm\n"
   ]
  },
  {
   "cell_type": "markdown",
   "metadata": {},
   "source": [
    "# Open the browser"
   ]
  },
  {
   "cell_type": "code",
   "execution_count": 2,
   "metadata": {},
   "outputs": [],
   "source": [
    "#driver = uc.Chrome()\n",
    "driver = webdriver.Chrome(service=ChromeService(ChromeDriverManager().install()))"
   ]
  },
  {
   "cell_type": "code",
   "execution_count": 3,
   "metadata": {},
   "outputs": [],
   "source": [
    "initial_url = 'https://www.sec.gov/search-filings/cik-lookup'\n",
    "\n",
    "KEYWORD = 'APPLE'"
   ]
  },
  {
   "cell_type": "markdown",
   "metadata": {},
   "source": [
    "# W/O Wait"
   ]
  },
  {
   "cell_type": "code",
   "execution_count": 22,
   "metadata": {},
   "outputs": [],
   "source": [
    "driver.get(initial_url)\n",
    "\n",
    "driver.find_element(By.ID, 'company').send_keys(KEYWORD)\n",
    "driver.find_element(By.XPATH, '//input[@id=\"company\"]/following-sibling::button').click()"
   ]
  },
  {
   "cell_type": "markdown",
   "metadata": {},
   "source": [
    "# Wait"
   ]
  },
  {
   "cell_type": "code",
   "execution_count": null,
   "metadata": {},
   "outputs": [],
   "source": [
    "driver.get(initial_url)"
   ]
  },
  {
   "cell_type": "code",
   "execution_count": null,
   "metadata": {},
   "outputs": [],
   "source": [
    "element = WebDriverWait(driver, 10).until(\n",
    "    EC.presence_of_element_located((By.ID, 'company'))\n",
    ")"
   ]
  },
  {
   "cell_type": "markdown",
   "metadata": {},
   "source": [
    "# Fill the search box"
   ]
  },
  {
   "cell_type": "code",
   "execution_count": 23,
   "metadata": {},
   "outputs": [
    {
     "ename": "NoSuchElementException",
     "evalue": "Message: no such element: Unable to locate element: {\"method\":\"css selector\",\"selector\":\"[id=\"company\"]\"}\n  (Session info: chrome=129.0.6668.90); For documentation on this error, please visit: https://www.selenium.dev/documentation/webdriver/troubleshooting/errors#no-such-element-exception\nStacktrace:\n\tGetHandleVerifier [0x00937143+25587]\n\t(No symbol) [0x008CA2E4]\n\t(No symbol) [0x007C2113]\n\t(No symbol) [0x00806F62]\n\t(No symbol) [0x008071AB]\n\t(No symbol) [0x00847852]\n\t(No symbol) [0x0082ABE4]\n\t(No symbol) [0x00845370]\n\t(No symbol) [0x0082A936]\n\t(No symbol) [0x007FBA73]\n\t(No symbol) [0x007FC4CD]\n\tGetHandleVerifier [0x00C14C63+3030803]\n\tGetHandleVerifier [0x00C66B99+3366473]\n\tGetHandleVerifier [0x009C95F2+624802]\n\tGetHandleVerifier [0x009D0E6C+655644]\n\t(No symbol) [0x008D2C9D]\n\t(No symbol) [0x008CFD68]\n\t(No symbol) [0x008CFF05]\n\t(No symbol) [0x008C2336]\n\tBaseThreadInitThunk [0x764C7BA9+25]\n\tRtlInitializeExceptionChain [0x7796C11B+107]\n\tRtlClearBits [0x7796C09F+191]\n",
     "output_type": "error",
     "traceback": [
      "\u001b[1;31m---------------------------------------------------------------------------\u001b[0m",
      "\u001b[1;31mNoSuchElementException\u001b[0m                    Traceback (most recent call last)",
      "Cell \u001b[1;32mIn[23], line 1\u001b[0m\n\u001b[1;32m----> 1\u001b[0m \u001b[43mdriver\u001b[49m\u001b[38;5;241;43m.\u001b[39;49m\u001b[43mfind_element\u001b[49m\u001b[43m(\u001b[49m\u001b[43mBy\u001b[49m\u001b[38;5;241;43m.\u001b[39;49m\u001b[43mID\u001b[49m\u001b[43m,\u001b[49m\u001b[43m \u001b[49m\u001b[38;5;124;43m'\u001b[39;49m\u001b[38;5;124;43mcompany\u001b[39;49m\u001b[38;5;124;43m'\u001b[39;49m\u001b[43m)\u001b[49m\u001b[38;5;241m.\u001b[39msend_keys(KEYWORD)\n\u001b[0;32m      2\u001b[0m driver\u001b[38;5;241m.\u001b[39mfind_element(By\u001b[38;5;241m.\u001b[39mXPATH, \u001b[38;5;124m'\u001b[39m\u001b[38;5;124m//input[@id=\u001b[39m\u001b[38;5;124m\"\u001b[39m\u001b[38;5;124mcompany\u001b[39m\u001b[38;5;124m\"\u001b[39m\u001b[38;5;124m]/following-sibling::button\u001b[39m\u001b[38;5;124m'\u001b[39m)\u001b[38;5;241m.\u001b[39mclick()\n",
      "File \u001b[1;32mc:\\Users\\aansubarkah\\anaconda3\\envs\\basangdata12\\Lib\\site-packages\\selenium\\webdriver\\remote\\webdriver.py:741\u001b[0m, in \u001b[0;36mWebDriver.find_element\u001b[1;34m(self, by, value)\u001b[0m\n\u001b[0;32m    738\u001b[0m     by \u001b[38;5;241m=\u001b[39m By\u001b[38;5;241m.\u001b[39mCSS_SELECTOR\n\u001b[0;32m    739\u001b[0m     value \u001b[38;5;241m=\u001b[39m \u001b[38;5;124mf\u001b[39m\u001b[38;5;124m'\u001b[39m\u001b[38;5;124m[name=\u001b[39m\u001b[38;5;124m\"\u001b[39m\u001b[38;5;132;01m{\u001b[39;00mvalue\u001b[38;5;132;01m}\u001b[39;00m\u001b[38;5;124m\"\u001b[39m\u001b[38;5;124m]\u001b[39m\u001b[38;5;124m'\u001b[39m\n\u001b[1;32m--> 741\u001b[0m \u001b[38;5;28;01mreturn\u001b[39;00m \u001b[38;5;28;43mself\u001b[39;49m\u001b[38;5;241;43m.\u001b[39;49m\u001b[43mexecute\u001b[49m\u001b[43m(\u001b[49m\u001b[43mCommand\u001b[49m\u001b[38;5;241;43m.\u001b[39;49m\u001b[43mFIND_ELEMENT\u001b[49m\u001b[43m,\u001b[49m\u001b[43m \u001b[49m\u001b[43m{\u001b[49m\u001b[38;5;124;43m\"\u001b[39;49m\u001b[38;5;124;43musing\u001b[39;49m\u001b[38;5;124;43m\"\u001b[39;49m\u001b[43m:\u001b[49m\u001b[43m \u001b[49m\u001b[43mby\u001b[49m\u001b[43m,\u001b[49m\u001b[43m \u001b[49m\u001b[38;5;124;43m\"\u001b[39;49m\u001b[38;5;124;43mvalue\u001b[39;49m\u001b[38;5;124;43m\"\u001b[39;49m\u001b[43m:\u001b[49m\u001b[43m \u001b[49m\u001b[43mvalue\u001b[49m\u001b[43m}\u001b[49m\u001b[43m)\u001b[49m[\u001b[38;5;124m\"\u001b[39m\u001b[38;5;124mvalue\u001b[39m\u001b[38;5;124m\"\u001b[39m]\n",
      "File \u001b[1;32mc:\\Users\\aansubarkah\\anaconda3\\envs\\basangdata12\\Lib\\site-packages\\selenium\\webdriver\\remote\\webdriver.py:347\u001b[0m, in \u001b[0;36mWebDriver.execute\u001b[1;34m(self, driver_command, params)\u001b[0m\n\u001b[0;32m    345\u001b[0m response \u001b[38;5;241m=\u001b[39m \u001b[38;5;28mself\u001b[39m\u001b[38;5;241m.\u001b[39mcommand_executor\u001b[38;5;241m.\u001b[39mexecute(driver_command, params)\n\u001b[0;32m    346\u001b[0m \u001b[38;5;28;01mif\u001b[39;00m response:\n\u001b[1;32m--> 347\u001b[0m     \u001b[38;5;28;43mself\u001b[39;49m\u001b[38;5;241;43m.\u001b[39;49m\u001b[43merror_handler\u001b[49m\u001b[38;5;241;43m.\u001b[39;49m\u001b[43mcheck_response\u001b[49m\u001b[43m(\u001b[49m\u001b[43mresponse\u001b[49m\u001b[43m)\u001b[49m\n\u001b[0;32m    348\u001b[0m     response[\u001b[38;5;124m\"\u001b[39m\u001b[38;5;124mvalue\u001b[39m\u001b[38;5;124m\"\u001b[39m] \u001b[38;5;241m=\u001b[39m \u001b[38;5;28mself\u001b[39m\u001b[38;5;241m.\u001b[39m_unwrap_value(response\u001b[38;5;241m.\u001b[39mget(\u001b[38;5;124m\"\u001b[39m\u001b[38;5;124mvalue\u001b[39m\u001b[38;5;124m\"\u001b[39m, \u001b[38;5;28;01mNone\u001b[39;00m))\n\u001b[0;32m    349\u001b[0m     \u001b[38;5;28;01mreturn\u001b[39;00m response\n",
      "File \u001b[1;32mc:\\Users\\aansubarkah\\anaconda3\\envs\\basangdata12\\Lib\\site-packages\\selenium\\webdriver\\remote\\errorhandler.py:229\u001b[0m, in \u001b[0;36mErrorHandler.check_response\u001b[1;34m(self, response)\u001b[0m\n\u001b[0;32m    227\u001b[0m         alert_text \u001b[38;5;241m=\u001b[39m value[\u001b[38;5;124m\"\u001b[39m\u001b[38;5;124malert\u001b[39m\u001b[38;5;124m\"\u001b[39m]\u001b[38;5;241m.\u001b[39mget(\u001b[38;5;124m\"\u001b[39m\u001b[38;5;124mtext\u001b[39m\u001b[38;5;124m\"\u001b[39m)\n\u001b[0;32m    228\u001b[0m     \u001b[38;5;28;01mraise\u001b[39;00m exception_class(message, screen, stacktrace, alert_text)  \u001b[38;5;66;03m# type: ignore[call-arg]  # mypy is not smart enough here\u001b[39;00m\n\u001b[1;32m--> 229\u001b[0m \u001b[38;5;28;01mraise\u001b[39;00m exception_class(message, screen, stacktrace)\n",
      "\u001b[1;31mNoSuchElementException\u001b[0m: Message: no such element: Unable to locate element: {\"method\":\"css selector\",\"selector\":\"[id=\"company\"]\"}\n  (Session info: chrome=129.0.6668.90); For documentation on this error, please visit: https://www.selenium.dev/documentation/webdriver/troubleshooting/errors#no-such-element-exception\nStacktrace:\n\tGetHandleVerifier [0x00937143+25587]\n\t(No symbol) [0x008CA2E4]\n\t(No symbol) [0x007C2113]\n\t(No symbol) [0x00806F62]\n\t(No symbol) [0x008071AB]\n\t(No symbol) [0x00847852]\n\t(No symbol) [0x0082ABE4]\n\t(No symbol) [0x00845370]\n\t(No symbol) [0x0082A936]\n\t(No symbol) [0x007FBA73]\n\t(No symbol) [0x007FC4CD]\n\tGetHandleVerifier [0x00C14C63+3030803]\n\tGetHandleVerifier [0x00C66B99+3366473]\n\tGetHandleVerifier [0x009C95F2+624802]\n\tGetHandleVerifier [0x009D0E6C+655644]\n\t(No symbol) [0x008D2C9D]\n\t(No symbol) [0x008CFD68]\n\t(No symbol) [0x008CFF05]\n\t(No symbol) [0x008C2336]\n\tBaseThreadInitThunk [0x764C7BA9+25]\n\tRtlInitializeExceptionChain [0x7796C11B+107]\n\tRtlClearBits [0x7796C09F+191]\n"
     ]
    }
   ],
   "source": [
    "driver.find_element(By.ID, 'company').send_keys(KEYWORD)\n",
    "driver.find_element(By.XPATH, '//input[@id=\"company\"]/following-sibling::button').click()"
   ]
  },
  {
   "cell_type": "markdown",
   "metadata": {},
   "source": [
    "# Scrape EDGAR CIK"
   ]
  },
  {
   "cell_type": "code",
   "execution_count": 24,
   "metadata": {},
   "outputs": [],
   "source": [
    "ciks = driver.find_elements(By.XPATH, '//a[contains(@href, \"browse-edgar\")]')\n",
    "#ciks_name = driver.find_elements(By.XPATH, '//pre[2]/text()[1]')\n",
    "#ciks_name = driver.find_elements(By.XPATH, '//a[contains(@href, \"browse-edgar\")]/following-sibling::text[1]')\n",
    "\n",
    "#//a[contains(@href, \"browse-edgar\")]/following-sibling::text()[1]"
   ]
  },
  {
   "cell_type": "code",
   "execution_count": 34,
   "metadata": {},
   "outputs": [
    {
     "data": {
      "text/plain": [
       "100"
      ]
     },
     "execution_count": 34,
     "metadata": {},
     "output_type": "execute_result"
    }
   ],
   "source": [
    "len(ciks)"
   ]
  },
  {
   "cell_type": "code",
   "execution_count": 27,
   "metadata": {},
   "outputs": [],
   "source": [
    "urls = []\n",
    "cik_list = []\n",
    "for cik in ciks:\n",
    "    new_url = 'https://www.sec.gov/edgar/browse/?CIK=' + cik.text\n",
    "    urls.append(new_url)\n",
    "\n",
    "    if cik.text:\n",
    "        cik_list.append(cik.text)\n",
    "    "
   ]
  },
  {
   "cell_type": "code",
   "execution_count": 34,
   "metadata": {},
   "outputs": [],
   "source": [
    "#urls"
   ]
  },
  {
   "cell_type": "code",
   "execution_count": 14,
   "metadata": {},
   "outputs": [],
   "source": [
    "S = requests.session()\n",
    "for cookie in driver.get_cookies(): S.cookies.set(cookie['name'], cookie['value'])"
   ]
  },
  {
   "cell_type": "code",
   "execution_count": 37,
   "metadata": {},
   "outputs": [],
   "source": [
    "new_dir = 'sec_cik_data'\n",
    "\n",
    "if not os.path.exists(new_dir): os.makedirs(new_dir)\n",
    "\n",
    "files = glob.glob(os.path.join(new_dir, '*'))\n",
    "for file in files:\n",
    "    try: os.remove(file)\n",
    "    except: pass"
   ]
  },
  {
   "cell_type": "code",
   "execution_count": 49,
   "metadata": {},
   "outputs": [],
   "source": [
    "new_dir_filing = 'sec_filing_data'\n",
    "\n",
    "if not os.path.exists(new_dir_filing): os.makedirs(new_dir_filing)\n",
    "\n",
    "files = glob.glob(os.path.join(new_dir_filing, '*'))\n",
    "for file in files:\n",
    "    try: os.remove(file)\n",
    "    except: pass"
   ]
  },
  {
   "cell_type": "code",
   "execution_count": null,
   "metadata": {},
   "outputs": [],
   "source": []
  },
  {
   "cell_type": "code",
   "execution_count": 50,
   "metadata": {},
   "outputs": [
    {
     "name": "stdout",
     "output_type": "stream",
     "text": [
      "https://data.sec.gov/submissions/CIK0001493086.json\n"
     ]
    }
   ],
   "source": [
    "headers = {\n",
    "    'Accept': '*/*',\n",
    "    'Accept-Encoding': 'gzip, deflate, br, zstd',\n",
    "    'Accept-Language': 'en-US,en;q=0.5',\n",
    "    'Origin': 'https://www.sec.gov',\n",
    "    'Referer': 'https://www.sec.gov/',\n",
    "    'Sec-Fetch-Dest': 'empty',\n",
    "    'Sec-Fetch-Mode': 'cors',\n",
    "    'Sec-Fetch-Site': 'same-site',\n",
    "    'User-Agent': 'Mozilla/5.0 (Windows NT 10.0; Win64; x64; rv:131.0) Gecko/20100101 Firefox/131.0'\n",
    "}\n",
    "\n",
    "for cik in cik_list[:1]:\n",
    "    api_url = 'https://data.sec.gov/submissions/CIK' + cik + '.json'\n",
    "    print(api_url)\n",
    "    r = S.get(api_url, headers=headers)\n",
    "    #print(r.json())\n",
    "\n",
    "    if r.json():\n",
    "        filename = os.path.join(new_dir, cik + '.json')\n",
    "        with open(filename, 'w') as f:\n",
    "            json.dump(r.json(), f, indent=4)\n",
    "\n",
    "        data = r.json()\n",
    "        document_urls = []\n",
    "        if 'filings' in data and 'recent' in data['filings']:\n",
    "            filings = data['filings']['recent']\n",
    "            accessions = filings['accessionNumber']\n",
    "            documents = filings['primaryDocument']\n",
    "            for _ in range(len(accessions)):\n",
    "                doc_url = 'https://www.sec.gov/Archives/edgar/data/' + cik + '/' + accessions[_].replace('-', '') + '/' + documents[_]\n",
    "                document_urls.append(doc_url)\n",
    "\n",
    "                rr = S.get(doc_url, headers=headers)\n",
    "                doc_filename = os.path.join(new_dir_filing, accessions[_].replace('-', '') + '_' + documents[_].replace('/', '_'))\n",
    "                with open(doc_filename, 'wb') as df:\n",
    "                    df.write(rr.content)\n"
   ]
  },
  {
   "cell_type": "code",
   "execution_count": 12,
   "metadata": {},
   "outputs": [
    {
     "name": "stdout",
     "output_type": "stream",
     "text": [
      "https://www.sec.gov/edgar/browse/?CIK=0001493086\n",
      "https://www.sec.gov/edgar/browse/?CIK=0001653690\n",
      "https://www.sec.gov/edgar/browse/?CIK=0001567043\n",
      "https://www.sec.gov/edgar/browse/?CIK=0001412692\n",
      "https://www.sec.gov/edgar/browse/?CIK=0001839531\n"
     ]
    }
   ],
   "source": [
    "for url in urls[:1]:\n",
    "    print(url)\n",
    "    driver.get(url)\n",
    "\n",
    "    try:\n",
    "        btnFillings = WebDriverWait(driver, 10).until(\n",
    "            EC.presence_of_element_located((By.XPATH, '//button[@id=\"btnViewAllFilings\"]'))\n",
    "        )\n",
    "        driver.find_element(By.XPATH, '//button[@id=\"btnViewAllFilings\"]').click()\n",
    "    except:\n",
    "        pass\n",
    "    time.sleep(5)"
   ]
  },
  {
   "cell_type": "code",
   "execution_count": null,
   "metadata": {},
   "outputs": [],
   "source": []
  },
  {
   "cell_type": "code",
   "execution_count": null,
   "metadata": {},
   "outputs": [],
   "source": []
  },
  {
   "cell_type": "code",
   "execution_count": null,
   "metadata": {},
   "outputs": [],
   "source": []
  },
  {
   "cell_type": "code",
   "execution_count": null,
   "metadata": {},
   "outputs": [],
   "source": []
  },
  {
   "cell_type": "code",
   "execution_count": null,
   "metadata": {},
   "outputs": [],
   "source": []
  },
  {
   "cell_type": "code",
   "execution_count": null,
   "metadata": {},
   "outputs": [],
   "source": []
  }
 ],
 "metadata": {
  "kernelspec": {
   "display_name": "basangdata12",
   "language": "python",
   "name": "python3"
  },
  "language_info": {
   "codemirror_mode": {
    "name": "ipython",
    "version": 3
   },
   "file_extension": ".py",
   "mimetype": "text/x-python",
   "name": "python",
   "nbconvert_exporter": "python",
   "pygments_lexer": "ipython3",
   "version": "3.12.2"
  }
 },
 "nbformat": 4,
 "nbformat_minor": 2
}
