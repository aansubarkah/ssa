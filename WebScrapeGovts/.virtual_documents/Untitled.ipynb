


import json, requests, os, time, glob
#import pandas as pd

from io import StringIO
from selenium import webdriver
from selenium.webdriver.chrome.service import Service as ChromeService
from webdriver_manager.chrome import ChromeDriverManager
#from selenium.webdriver.common.desired_capabilities import DesiredCapabilities
from selenium.webdriver.chrome.options import Options as ChromeOptions
from selenium.webdriver.common.by import By
from selenium.webdriver.support.ui import WebDriverWait
from selenium.webdriver.support import expected_conditions as EC

#import undetected_chromedriver as uc
#from datetime import datetime, timedelta
from tqdm.notebook import tqdm


options = webdriver.ChromeOptions()
options.add_argument('w3c')
options.add_argument('--disable_gpu')
options.add_argument('--no-sandbox')
options.add_argument("--start-maximized")
#options.add_argument("--window-size=1920,1080")
#options.add_argument("--headless")




DRIVER = webdriver.Chrome(options=options)


initial_url = 'https://www.sec.gov/search-filings/cik-lookup'

KEYWORD = 'APPLE'


DRIVER.get(initial_url)


try:
    DRIVER.find_element(By.XPATH, '//button[@aria-label="Close dialog"]').click()
except: pass


#DRIVER.find_element(By.ID, 'company')
DRIVER.find_element(By.XPATH, '//input[@placeholder="Name"]').send_keys(KEYWORD)


DRIVER.find_element(By.XPATH, '//button[contains(text(), "Search")]').click()


element = WebDriverWait(DRIVER, 10).until(
    EC.presence_of_element_located((By.XPATH, '//strong[contains(text(), "CIK Code")]'))
)
#DRIVER.find_element(By.XPATH, '//strong[contains(text(), "CIK Code")]')


ciks = DRIVER.find_elements(By.XPATH, '//a[contains(@href, "browse-edgar")]')








S = requests.Session()





r = S.get('https://data.sec.gov/submissions/CIK0001493086.json')


r.text


for cik in ciks:
    #print(cik.text)
    link_baru = 'https://www.sec.gov/cgi-bin/browse-edgar?action=getcompany&CIK=' + cik.text
    print(link_baru)



