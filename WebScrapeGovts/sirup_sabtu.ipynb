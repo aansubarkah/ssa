{
 "cells": [
  {
   "cell_type": "markdown",
   "id": "a2aae5e9-22b5-49cd-a722-605e58b7d451",
   "metadata": {},
   "source": [
    "# Libraries"
   ]
  },
  {
   "cell_type": "code",
   "execution_count": 85,
   "id": "66e3e869-36c6-42f2-a2a8-170811f61b1d",
   "metadata": {
    "execution": {
     "iopub.execute_input": "2024-10-05T04:00:02.723036Z",
     "iopub.status.busy": "2024-10-05T04:00:02.723036Z",
     "iopub.status.idle": "2024-10-05T04:00:02.735012Z",
     "shell.execute_reply": "2024-10-05T04:00:02.733013Z",
     "shell.execute_reply.started": "2024-10-05T04:00:02.723036Z"
    }
   },
   "outputs": [],
   "source": [
    "#!pip install selenium requests webdriver-manager"
   ]
  },
  {
   "cell_type": "code",
   "execution_count": 86,
   "id": "4d361abc-0188-4ca5-b939-8ac24e78fd94",
   "metadata": {
    "execution": {
     "iopub.execute_input": "2024-10-05T04:00:02.740511Z",
     "iopub.status.busy": "2024-10-05T04:00:02.740511Z",
     "iopub.status.idle": "2024-10-05T04:00:02.766119Z",
     "shell.execute_reply": "2024-10-05T04:00:02.764127Z",
     "shell.execute_reply.started": "2024-10-05T04:00:02.740511Z"
    }
   },
   "outputs": [],
   "source": [
    "import os, json, requests, string, time, glob, aiohttp, asyncio, warnings, math, pickle, datetime\n",
    "warnings.filterwarnings('ignore')\n",
    "#import pandas as pd\n",
    "#import dataframe_image as dfi\n",
    "#import seaborn as sns\n",
    "#import matplotlib as mpl\n",
    "#import matplotlib.pyplot as plt\n",
    "#from matplotlib.pyplot import figure\n",
    "\n",
    "from selenium import webdriver\n",
    "from webdriver_manager.chrome import ChromeDriverManager\n",
    "from selenium.webdriver.common.keys import Keys\n",
    "from selenium.webdriver.chrome.options import Options as ChromeOptions\n",
    "from selenium.webdriver.chrome.service import Service as ChromeService\n",
    "from selenium.webdriver.common.by import By\n",
    "from selenium.webdriver.support.ui import WebDriverWait, Select\n",
    "from selenium.webdriver.support import expected_conditions as EC\n",
    "from selenium.webdriver.common.desired_capabilities import DesiredCapabilities\n",
    "from tqdm import tqdm\n",
    "#from tqdm.asyncio import tqdm as atqdm\n",
    "from tqdm.notebook import tqdm as ntqdm"
   ]
  },
  {
   "cell_type": "markdown",
   "id": "38e28f3e-772f-4a6f-b44b-bb4297af783e",
   "metadata": {},
   "source": [
    "# Buka Chrome dg Head"
   ]
  },
  {
   "cell_type": "code",
   "execution_count": 87,
   "id": "0377a270-0f8b-4c94-9c77-9c05a11fd13b",
   "metadata": {
    "execution": {
     "iopub.execute_input": "2024-10-05T04:00:02.770108Z",
     "iopub.status.busy": "2024-10-05T04:00:02.769111Z",
     "iopub.status.idle": "2024-10-05T04:00:02.782011Z",
     "shell.execute_reply": "2024-10-05T04:00:02.779503Z",
     "shell.execute_reply.started": "2024-10-05T04:00:02.770108Z"
    }
   },
   "outputs": [],
   "source": [
    "options = webdriver.ChromeOptions()\n",
    "options.add_argument('w3c')\n",
    "options.add_argument('--disable_gpu')\n",
    "options.add_argument('--no-sandbox')\n",
    "options.add_argument(\"--start-maximized\")\n",
    "#options.add_argument(\"--window-size=1920,1080\")\n",
    "options.add_argument(\"--headless\")\n",
    "\n"
   ]
  },
  {
   "cell_type": "code",
   "execution_count": 88,
   "id": "83728a39-0fc1-43b8-847b-3672b72fb4d0",
   "metadata": {
    "execution": {
     "iopub.execute_input": "2024-10-05T04:00:02.788033Z",
     "iopub.status.busy": "2024-10-05T04:00:02.787036Z",
     "iopub.status.idle": "2024-10-05T04:00:22.339663Z",
     "shell.execute_reply": "2024-10-05T04:00:22.337667Z",
     "shell.execute_reply.started": "2024-10-05T04:00:02.788033Z"
    }
   },
   "outputs": [],
   "source": [
    "DRIVER = webdriver.Chrome(options=options)"
   ]
  },
  {
   "cell_type": "code",
   "execution_count": null,
   "id": "b9b170bb-d4f7-406e-8e22-c7156dc31dee",
   "metadata": {},
   "outputs": [],
   "source": []
  },
  {
   "cell_type": "code",
   "execution_count": 89,
   "id": "30e8ea5f-cc72-4993-9bfa-40cebcff6f6f",
   "metadata": {
    "execution": {
     "iopub.execute_input": "2024-10-05T04:00:22.343196Z",
     "iopub.status.busy": "2024-10-05T04:00:22.342167Z",
     "iopub.status.idle": "2024-10-05T04:00:22.354683Z",
     "shell.execute_reply": "2024-10-05T04:00:22.352683Z",
     "shell.execute_reply.started": "2024-10-05T04:00:22.343196Z"
    }
   },
   "outputs": [],
   "source": [
    "initial_url = 'https://sirup.lkpp.go.id/sirup/caripaketctr/index'"
   ]
  },
  {
   "cell_type": "code",
   "execution_count": 90,
   "id": "b41a3806-fd82-42c4-a2c4-662719a67c49",
   "metadata": {
    "execution": {
     "iopub.execute_input": "2024-10-05T04:00:22.360186Z",
     "iopub.status.busy": "2024-10-05T04:00:22.358192Z",
     "iopub.status.idle": "2024-10-05T04:00:29.618043Z",
     "shell.execute_reply": "2024-10-05T04:00:29.615052Z",
     "shell.execute_reply.started": "2024-10-05T04:00:22.360186Z"
    }
   },
   "outputs": [],
   "source": [
    "DRIVER.get(initial_url)"
   ]
  },
  {
   "cell_type": "markdown",
   "id": "9889bde2-85ad-4263-a434-119cbbada7b5",
   "metadata": {},
   "source": [
    "# Copy Cookie"
   ]
  },
  {
   "cell_type": "code",
   "execution_count": 91,
   "id": "0cb70d01-7898-42ae-90df-a3be6a506dfc",
   "metadata": {
    "execution": {
     "iopub.execute_input": "2024-10-05T04:00:29.624556Z",
     "iopub.status.busy": "2024-10-05T04:00:29.622542Z",
     "iopub.status.idle": "2024-10-05T04:00:29.647577Z",
     "shell.execute_reply": "2024-10-05T04:00:29.645581Z",
     "shell.execute_reply.started": "2024-10-05T04:00:29.624556Z"
    }
   },
   "outputs": [],
   "source": [
    "S = requests.Session()"
   ]
  },
  {
   "cell_type": "code",
   "execution_count": 92,
   "id": "b19f3a06-9ead-4c37-a753-0714a0627a1b",
   "metadata": {
    "execution": {
     "iopub.execute_input": "2024-10-05T04:00:29.654110Z",
     "iopub.status.busy": "2024-10-05T04:00:29.652081Z",
     "iopub.status.idle": "2024-10-05T04:00:29.710329Z",
     "shell.execute_reply": "2024-10-05T04:00:29.708337Z",
     "shell.execute_reply.started": "2024-10-05T04:00:29.654110Z"
    }
   },
   "outputs": [],
   "source": [
    "for cookie in DRIVER.get_cookies():\n",
    "    S.cookies.set(cookie['name'], cookie['value'])"
   ]
  },
  {
   "cell_type": "code",
   "execution_count": 93,
   "id": "4aa9cea3-edc1-4611-b5f0-17d5325cf41d",
   "metadata": {
    "execution": {
     "iopub.execute_input": "2024-10-05T04:00:29.715832Z",
     "iopub.status.busy": "2024-10-05T04:00:29.714835Z",
     "iopub.status.idle": "2024-10-05T04:00:29.740850Z",
     "shell.execute_reply": "2024-10-05T04:00:29.738852Z",
     "shell.execute_reply.started": "2024-10-05T04:00:29.715832Z"
    }
   },
   "outputs": [],
   "source": [
    "headers = {\n",
    "    'Accept': 'application/json, text/plain, */*; q=0.01',\n",
    "    'Accept-Encoding': 'gzip, deflate, br',\n",
    "    'X-Requested-With': 'XMLHttpRequest',\n",
    "    'User-Agent': 'Mozilla/5.0 (Macintosh; Intel Mac OS X 10_15_7) AppleWebKit/537.36'\n",
    "}"
   ]
  },
  {
   "cell_type": "code",
   "execution_count": 94,
   "id": "bf320c43-932c-44a6-86bb-1f47e201fe1e",
   "metadata": {
    "execution": {
     "iopub.execute_input": "2024-10-05T04:00:29.759453Z",
     "iopub.status.busy": "2024-10-05T04:00:29.756948Z",
     "iopub.status.idle": "2024-10-05T04:00:29.788048Z",
     "shell.execute_reply": "2024-10-05T04:00:29.785056Z",
     "shell.execute_reply.started": "2024-10-05T04:00:29.758944Z"
    }
   },
   "outputs": [],
   "source": [
    "api_url = 'https://sirup.lkpp.go.id/sirup/caripaketctr/search?tahunAnggaran=2025&jenisPengadaan=&metodePengadaan=&minPagu=&maxPagu=&bulan=&lokasi=&kldi=&pdn=&ukm=&draw=5&columns%5B0%5D%5Bdata%5D=&columns%5B0%5D%5Bname%5D=&columns%5B0%5D%5Bsearchable%5D=false&columns%5B0%5D%5Borderable%5D=false&columns%5B0%5D%5Bsearch%5D%5Bvalue%5D=&columns%5B0%5D%5Bsearch%5D%5Bregex%5D=false&columns%5B1%5D%5Bdata%5D=paket&columns%5B1%5D%5Bname%5D=&columns%5B1%5D%5Bsearchable%5D=true&columns%5B1%5D%5Borderable%5D=true&columns%5B1%5D%5Bsearch%5D%5Bvalue%5D=&columns%5B1%5D%5Bsearch%5D%5Bregex%5D=false&columns%5B2%5D%5Bdata%5D=pagu&columns%5B2%5D%5Bname%5D=&columns%5B2%5D%5Bsearchable%5D=true&columns%5B2%5D%5Borderable%5D=true&columns%5B2%5D%5Bsearch%5D%5Bvalue%5D=&columns%5B2%5D%5Bsearch%5D%5Bregex%5D=false&columns%5B3%5D%5Bdata%5D=jenisPengadaan&columns%5B3%5D%5Bname%5D=&columns%5B3%5D%5Bsearchable%5D=true&columns%5B3%5D%5Borderable%5D=true&columns%5B3%5D%5Bsearch%5D%5Bvalue%5D=&columns%5B3%5D%5Bsearch%5D%5Bregex%5D=false&columns%5B4%5D%5Bdata%5D=isPDN&columns%5B4%5D%5Bname%5D=&columns%5B4%5D%5Bsearchable%5D=true&columns%5B4%5D%5Borderable%5D=true&columns%5B4%5D%5Bsearch%5D%5Bvalue%5D=&columns%5B4%5D%5Bsearch%5D%5Bregex%5D=false&columns%5B5%5D%5Bdata%5D=isUMK&columns%5B5%5D%5Bname%5D=&columns%5B5%5D%5Bsearchable%5D=true&columns%5B5%5D%5Borderable%5D=true&columns%5B5%5D%5Bsearch%5D%5Bvalue%5D=&columns%5B5%5D%5Bsearch%5D%5Bregex%5D=false&columns%5B6%5D%5Bdata%5D=metode&columns%5B6%5D%5Bname%5D=&columns%5B6%5D%5Bsearchable%5D=true&columns%5B6%5D%5Borderable%5D=true&columns%5B6%5D%5Bsearch%5D%5Bvalue%5D=&columns%5B6%5D%5Bsearch%5D%5Bregex%5D=false&columns%5B7%5D%5Bdata%5D=pemilihan&columns%5B7%5D%5Bname%5D=&columns%5B7%5D%5Bsearchable%5D=true&columns%5B7%5D%5Borderable%5D=true&columns%5B7%5D%5Bsearch%5D%5Bvalue%5D=&columns%5B7%5D%5Bsearch%5D%5Bregex%5D=false&columns%5B8%5D%5Bdata%5D=kldi&columns%5B8%5D%5Bname%5D=&columns%5B8%5D%5Bsearchable%5D=true&columns%5B8%5D%5Borderable%5D=true&columns%5B8%5D%5Bsearch%5D%5Bvalue%5D=&columns%5B8%5D%5Bsearch%5D%5Bregex%5D=false&columns%5B9%5D%5Bdata%5D=satuanKerja&columns%5B9%5D%5Bname%5D=&columns%5B9%5D%5Bsearchable%5D=true&columns%5B9%5D%5Borderable%5D=true&columns%5B9%5D%5Bsearch%5D%5Bvalue%5D=&columns%5B9%5D%5Bsearch%5D%5Bregex%5D=false&columns%5B10%5D%5Bdata%5D=lokasi&columns%5B10%5D%5Bname%5D=&columns%5B10%5D%5Bsearchable%5D=true&columns%5B10%5D%5Borderable%5D=true&columns%5B10%5D%5Bsearch%5D%5Bvalue%5D=&columns%5B10%5D%5Bsearch%5D%5Bregex%5D=false&columns%5B11%5D%5Bdata%5D=id&columns%5B11%5D%5Bname%5D=&columns%5B11%5D%5Bsearchable%5D=true&columns%5B11%5D%5Borderable%5D=true&columns%5B11%5D%5Bsearch%5D%5Bvalue%5D=&columns%5B11%5D%5Bsearch%5D%5Bregex%5D=false&order%5B0%5D%5Bcolumn%5D=5&order%5B0%5D%5Bdir%5D=DESC&start=60&length=10&search%5Bvalue%5D=&search%5Bregex%5D=false&_=1728095420891'"
   ]
  },
  {
   "cell_type": "code",
   "execution_count": 95,
   "id": "ba5cf339-1b9a-48d6-9f2d-7a1e0ecf6b33",
   "metadata": {
    "execution": {
     "iopub.execute_input": "2024-10-05T04:00:29.795559Z",
     "iopub.status.busy": "2024-10-05T04:00:29.793552Z",
     "iopub.status.idle": "2024-10-05T04:00:29.819579Z",
     "shell.execute_reply": "2024-10-05T04:00:29.816587Z",
     "shell.execute_reply.started": "2024-10-05T04:00:29.794557Z"
    }
   },
   "outputs": [],
   "source": [
    "api_url_baru = api_url.replace('kldi=', 'kldi=726')"
   ]
  },
  {
   "cell_type": "code",
   "execution_count": 96,
   "id": "4044c1f8-50b1-4f27-a7e3-c7e331163b54",
   "metadata": {
    "execution": {
     "iopub.execute_input": "2024-10-05T04:00:29.827135Z",
     "iopub.status.busy": "2024-10-05T04:00:29.823138Z",
     "iopub.status.idle": "2024-10-05T04:00:29.852669Z",
     "shell.execute_reply": "2024-10-05T04:00:29.847174Z",
     "shell.execute_reply.started": "2024-10-05T04:00:29.826139Z"
    }
   },
   "outputs": [],
   "source": [
    "#api_url_baru"
   ]
  },
  {
   "cell_type": "markdown",
   "id": "48e25614-cf7f-4be6-bfd6-a9ffb8073903",
   "metadata": {},
   "source": [
    "# Algo untuk start data"
   ]
  },
  {
   "cell_type": "code",
   "execution_count": 97,
   "id": "4985efe2-5844-45b5-b7a4-3214cc92bc10",
   "metadata": {
    "execution": {
     "iopub.execute_input": "2024-10-05T04:00:29.862742Z",
     "iopub.status.busy": "2024-10-05T04:00:29.861235Z",
     "iopub.status.idle": "2024-10-05T04:00:29.901330Z",
     "shell.execute_reply": "2024-10-05T04:00:29.896343Z",
     "shell.execute_reply.started": "2024-10-05T04:00:29.862742Z"
    }
   },
   "outputs": [],
   "source": [
    "page = 10\n",
    "length = 100\n",
    "start = (page-1)*length"
   ]
  },
  {
   "cell_type": "code",
   "execution_count": 98,
   "id": "1b0117f2-a154-44f7-9618-31405a14b637",
   "metadata": {
    "execution": {
     "iopub.execute_input": "2024-10-05T04:00:29.908828Z",
     "iopub.status.busy": "2024-10-05T04:00:29.906833Z",
     "iopub.status.idle": "2024-10-05T04:00:29.928214Z",
     "shell.execute_reply": "2024-10-05T04:00:29.924219Z",
     "shell.execute_reply.started": "2024-10-05T04:00:29.908828Z"
    }
   },
   "outputs": [
    {
     "data": {
      "text/plain": [
       "900"
      ]
     },
     "execution_count": 98,
     "metadata": {},
     "output_type": "execute_result"
    }
   ],
   "source": [
    "start"
   ]
  },
  {
   "cell_type": "code",
   "execution_count": 99,
   "id": "4944fa53-3e6d-4604-a68d-dc4e80cea553",
   "metadata": {
    "execution": {
     "iopub.execute_input": "2024-10-05T04:00:29.937714Z",
     "iopub.status.busy": "2024-10-05T04:00:29.933717Z",
     "iopub.status.idle": "2024-10-05T04:00:33.373947Z",
     "shell.execute_reply": "2024-10-05T04:00:33.370021Z",
     "shell.execute_reply.started": "2024-10-05T04:00:29.937714Z"
    }
   },
   "outputs": [],
   "source": [
    "r = S.get(api_url, headers=headers)"
   ]
  },
  {
   "cell_type": "code",
   "execution_count": 100,
   "id": "fd1cc6af-343d-402c-a36d-7046a50c900d",
   "metadata": {
    "execution": {
     "iopub.execute_input": "2024-10-05T04:00:33.377945Z",
     "iopub.status.busy": "2024-10-05T04:00:33.376984Z",
     "iopub.status.idle": "2024-10-05T04:00:33.386721Z",
     "shell.execute_reply": "2024-10-05T04:00:33.385728Z",
     "shell.execute_reply.started": "2024-10-05T04:00:33.377945Z"
    }
   },
   "outputs": [],
   "source": [
    "#r.json()"
   ]
  },
  {
   "cell_type": "markdown",
   "id": "e84f6413-c466-43df-b9e1-dcc097e9fb35",
   "metadata": {},
   "source": [
    "# Save ke file"
   ]
  },
  {
   "cell_type": "code",
   "execution_count": 101,
   "id": "33e53d3f-9c95-48da-8618-bb22f169b1ba",
   "metadata": {
    "execution": {
     "iopub.execute_input": "2024-10-05T04:00:33.390713Z",
     "iopub.status.busy": "2024-10-05T04:00:33.389716Z",
     "iopub.status.idle": "2024-10-05T04:00:33.420432Z",
     "shell.execute_reply": "2024-10-05T04:00:33.416458Z",
     "shell.execute_reply.started": "2024-10-05T04:00:33.390713Z"
    }
   },
   "outputs": [],
   "source": [
    "with open('coba_data_3.json', 'w') as f:\n",
    "    json.dump(r.json(), f, indent=4)"
   ]
  },
  {
   "cell_type": "code",
   "execution_count": 102,
   "id": "fe9d1a43-7c47-4c25-9aa5-74ef1a2369e8",
   "metadata": {
    "execution": {
     "iopub.execute_input": "2024-10-05T04:00:33.428012Z",
     "iopub.status.busy": "2024-10-05T04:00:33.427013Z",
     "iopub.status.idle": "2024-10-05T04:00:35.725358Z",
     "shell.execute_reply": "2024-10-05T04:00:35.723369Z",
     "shell.execute_reply.started": "2024-10-05T04:00:33.428012Z"
    }
   },
   "outputs": [],
   "source": [
    "DRIVER.quit()"
   ]
  },
  {
   "cell_type": "code",
   "execution_count": null,
   "id": "51df389c-52bc-41a2-a50c-60c681d43971",
   "metadata": {},
   "outputs": [],
   "source": []
  },
  {
   "cell_type": "markdown",
   "id": "3803e923-a3b4-48eb-bcb3-44fcca44afb9",
   "metadata": {},
   "source": [
    "# KLDI 726"
   ]
  },
  {
   "cell_type": "code",
   "execution_count": 103,
   "id": "e3396259-2b1f-496a-b183-530313031b50",
   "metadata": {
    "execution": {
     "iopub.execute_input": "2024-10-05T04:00:35.728351Z",
     "iopub.status.busy": "2024-10-05T04:00:35.727355Z",
     "iopub.status.idle": "2024-10-05T04:00:36.175176Z",
     "shell.execute_reply": "2024-10-05T04:00:36.172169Z",
     "shell.execute_reply.started": "2024-10-05T04:00:35.728351Z"
    }
   },
   "outputs": [],
   "source": [
    "r = S.get(api_url_baru, headers=headers) # hanya ini kode webscraping dg python"
   ]
  },
  {
   "cell_type": "code",
   "execution_count": 104,
   "id": "5514f8a6-8112-481a-bb98-905cc6fc2c68",
   "metadata": {
    "execution": {
     "iopub.execute_input": "2024-10-05T04:00:36.179167Z",
     "iopub.status.busy": "2024-10-05T04:00:36.178168Z",
     "iopub.status.idle": "2024-10-05T04:00:36.189025Z",
     "shell.execute_reply": "2024-10-05T04:00:36.187027Z",
     "shell.execute_reply.started": "2024-10-05T04:00:36.179167Z"
    }
   },
   "outputs": [],
   "source": [
    "#r.text"
   ]
  },
  {
   "cell_type": "code",
   "execution_count": 105,
   "id": "02964fef-8ee1-424e-858a-616f2b77f211",
   "metadata": {
    "execution": {
     "iopub.execute_input": "2024-10-05T04:00:36.193439Z",
     "iopub.status.busy": "2024-10-05T04:00:36.192013Z",
     "iopub.status.idle": "2024-10-05T04:00:36.219917Z",
     "shell.execute_reply": "2024-10-05T04:00:36.217924Z",
     "shell.execute_reply.started": "2024-10-05T04:00:36.193439Z"
    }
   },
   "outputs": [],
   "source": [
    "with open('coba_data_726.json', 'w') as f:\n",
    "    json.dump(r.json(), f, indent=4)"
   ]
  },
  {
   "cell_type": "code",
   "execution_count": null,
   "id": "ad856c4c-773a-40c0-b44a-4e1b5c22875b",
   "metadata": {},
   "outputs": [],
   "source": []
  },
  {
   "cell_type": "markdown",
   "id": "d4af6d5b-537f-4b15-bc63-d6267552110f",
   "metadata": {},
   "source": [
    "# Jumlah Halaman"
   ]
  },
  {
   "cell_type": "code",
   "execution_count": 106,
   "id": "30bc429a-f1a7-4f65-b0f9-fb9a440933bf",
   "metadata": {
    "execution": {
     "iopub.execute_input": "2024-10-05T04:00:36.223850Z",
     "iopub.status.busy": "2024-10-05T04:00:36.222425Z",
     "iopub.status.idle": "2024-10-05T04:00:36.250902Z",
     "shell.execute_reply": "2024-10-05T04:00:36.248907Z",
     "shell.execute_reply.started": "2024-10-05T04:00:36.223850Z"
    }
   },
   "outputs": [],
   "source": [
    "jumlah_data = r.json()['recordsFiltered']"
   ]
  },
  {
   "cell_type": "code",
   "execution_count": 107,
   "id": "34448ecf-3356-431b-8971-afa25db5efa4",
   "metadata": {
    "execution": {
     "iopub.execute_input": "2024-10-05T04:00:36.255407Z",
     "iopub.status.busy": "2024-10-05T04:00:36.254410Z",
     "iopub.status.idle": "2024-10-05T04:00:36.282457Z",
     "shell.execute_reply": "2024-10-05T04:00:36.279960Z",
     "shell.execute_reply.started": "2024-10-05T04:00:36.255407Z"
    }
   },
   "outputs": [
    {
     "data": {
      "text/plain": [
       "4037"
      ]
     },
     "execution_count": 107,
     "metadata": {},
     "output_type": "execute_result"
    }
   ],
   "source": [
    "jumlah_data"
   ]
  },
  {
   "cell_type": "code",
   "execution_count": 108,
   "id": "a5f4e35e-8d67-4523-bf9c-f65b58102b37",
   "metadata": {
    "execution": {
     "iopub.execute_input": "2024-10-05T04:00:36.286572Z",
     "iopub.status.busy": "2024-10-05T04:00:36.285574Z",
     "iopub.status.idle": "2024-10-05T04:00:36.314395Z",
     "shell.execute_reply": "2024-10-05T04:00:36.310868Z",
     "shell.execute_reply.started": "2024-10-05T04:00:36.286572Z"
    }
   },
   "outputs": [
    {
     "data": {
      "text/plain": [
       "'Dinas Kesehatan'"
      ]
     },
     "execution_count": 108,
     "metadata": {},
     "output_type": "execute_result"
    }
   ],
   "source": [
    "r.json()['data'][0]['satuanKerja']"
   ]
  },
  {
   "cell_type": "code",
   "execution_count": 109,
   "id": "6d804115-9876-4810-addb-e33a3471fcc6",
   "metadata": {
    "execution": {
     "iopub.execute_input": "2024-10-05T04:00:36.318372Z",
     "iopub.status.busy": "2024-10-05T04:00:36.317375Z",
     "iopub.status.idle": "2024-10-05T04:00:36.330906Z",
     "shell.execute_reply": "2024-10-05T04:00:36.325912Z",
     "shell.execute_reply.started": "2024-10-05T04:00:36.318372Z"
    }
   },
   "outputs": [],
   "source": [
    "banyak_data = 1000"
   ]
  },
  {
   "cell_type": "code",
   "execution_count": 110,
   "id": "9d5c9f81-24e3-4ddc-9fce-48e7863aad1e",
   "metadata": {
    "execution": {
     "iopub.execute_input": "2024-10-05T04:00:36.335428Z",
     "iopub.status.busy": "2024-10-05T04:00:36.334428Z",
     "iopub.status.idle": "2024-10-05T04:00:36.359545Z",
     "shell.execute_reply": "2024-10-05T04:00:36.357550Z",
     "shell.execute_reply.started": "2024-10-05T04:00:36.335428Z"
    }
   },
   "outputs": [],
   "source": [
    "banyak_halaman = math.ceil(jumlah_data/banyak_data)"
   ]
  },
  {
   "cell_type": "code",
   "execution_count": 111,
   "id": "eb8a4539-650d-4977-a094-01a42e683588",
   "metadata": {
    "execution": {
     "iopub.execute_input": "2024-10-05T04:00:36.368617Z",
     "iopub.status.busy": "2024-10-05T04:00:36.367609Z",
     "iopub.status.idle": "2024-10-05T04:00:36.408777Z",
     "shell.execute_reply": "2024-10-05T04:00:36.403792Z",
     "shell.execute_reply.started": "2024-10-05T04:00:36.368617Z"
    }
   },
   "outputs": [
    {
     "data": {
      "text/plain": [
       "5"
      ]
     },
     "execution_count": 111,
     "metadata": {},
     "output_type": "execute_result"
    }
   ],
   "source": [
    "banyak_halaman"
   ]
  },
  {
   "cell_type": "code",
   "execution_count": 112,
   "id": "c9f85248-3857-47db-bec8-4d1fdb213ba4",
   "metadata": {
    "execution": {
     "iopub.execute_input": "2024-10-05T04:00:36.434456Z",
     "iopub.status.busy": "2024-10-05T04:00:36.433444Z",
     "iopub.status.idle": "2024-10-05T04:00:39.682978Z",
     "shell.execute_reply": "2024-10-05T04:00:39.681443Z",
     "shell.execute_reply.started": "2024-10-05T04:00:36.434456Z"
    }
   },
   "outputs": [
    {
     "name": "stdout",
     "output_type": "stream",
     "text": [
      "halaman 1\n",
      "halaman 2\n",
      "halaman 3\n",
      "halaman 4\n",
      "halaman 5\n"
     ]
    }
   ],
   "source": [
    "for i in range(1, banyak_halaman+1):\n",
    "    print('halaman', i)\n",
    "    start = (i-1)*banyak_data\n",
    "    #print(start)\n",
    "    # start=60&length=10\n",
    "    api_url_baru_lagi = api_url_baru.replace('start=60', 'start=' + str(start)).replace('length=10', 'length=' + str(banyak_data))\n",
    "    #api_url_baru_lagi = api_url_baru_lagi.replace('length=10', 'length=' + str(banyak_data))\n",
    "    #print(api_url_baru_lagi)\n",
    "\n",
    "    r = S.get(api_url_baru_lagi, headers=headers) # ini saja webscraping\n",
    "\n",
    "    new_filename = 'halaman_baru_' + str(i) + '.json'\n",
    "    #print(new_filename)\n",
    "    with open(new_filename, 'w') as f:\n",
    "        json.dump(r.json(), f, indent=4)"
   ]
  },
  {
   "cell_type": "code",
   "execution_count": null,
   "id": "a7afd0cf-0b2a-468b-b289-44c6bd468636",
   "metadata": {},
   "outputs": [],
   "source": []
  }
 ],
 "metadata": {
  "kernelspec": {
   "display_name": "Python 3 (ipykernel)",
   "language": "python",
   "name": "python3"
  },
  "language_info": {
   "codemirror_mode": {
    "name": "ipython",
    "version": 3
   },
   "file_extension": ".py",
   "mimetype": "text/x-python",
   "name": "python",
   "nbconvert_exporter": "python",
   "pygments_lexer": "ipython3",
   "version": "3.9.19"
  }
 },
 "nbformat": 4,
 "nbformat_minor": 5
}
