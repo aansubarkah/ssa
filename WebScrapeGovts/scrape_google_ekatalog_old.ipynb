{
 "cells": [
  {
   "cell_type": "code",
   "execution_count": null,
   "metadata": {},
   "outputs": [],
   "source": []
  },
  {
   "cell_type": "code",
   "execution_count": 1,
   "metadata": {},
   "outputs": [],
   "source": [
    "import requests\n",
    "import json\n",
    "import pandas as pd\n",
    "import math\n",
    "import os\n",
    "import time\n",
    "import re\n",
    "import undetected_chromedriver as uc\n",
    "\n",
    "from selenium.webdriver.support.ui import WebDriverWait\n",
    "from selenium.webdriver.support import expected_conditions as EC\n",
    "from selenium.webdriver.common.by import By\n",
    "from glob import glob\n",
    "from bs4 import BeautifulSoup\n",
    "from tqdm.notebook import tqdm\n",
    "from lxml import html"
   ]
  },
  {
   "cell_type": "code",
   "execution_count": 7,
   "metadata": {
    "vscode": {
     "languageId": "ruby"
    }
   },
   "outputs": [],
   "source": [
    "driver = uc.Chrome()\n",
    "wait = WebDriverWait(driver, 10)"
   ]
  },
  {
   "cell_type": "code",
   "execution_count": 23,
   "metadata": {},
   "outputs": [],
   "source": [
    "def google_search(query):\n",
    "\t# Initialize the driver and DataFrame\n",
    "\tlinks_df = pd.DataFrame(columns=['title', 'url'])\n",
    "\t\n",
    "\ttry:\n",
    "\t\t# Navigate to Google\n",
    "\t\tdriver.get('https://www.google.com')\n",
    "\t\t\n",
    "\t\t# Find and fill the search box\n",
    "\t\tsearch_box = wait.until(EC.presence_of_element_located((By.NAME, \"q\")))\n",
    "\t\tsearch_box.send_keys(query)\n",
    "\t\tsearch_box.submit()\n",
    "\t\t\n",
    "\t\t# Wait for results and get all result elements\n",
    "\t\t#results = wait.until(EC.presence_of_all_elements_located((By.CSS_SELECTOR, \"div.g\")))\n",
    "\t\tresults = wait.until(EC.presence_of_all_elements_located((By.XPATH, \"//h3\")))\n",
    "\t\t\n",
    "\t\t# Extract titles and URLs\n",
    "\t\tfor result in results:\n",
    "\t\t\ttry:\n",
    "\t\t\t\t#title_element = result.find_element(By.XPATH, \"./h3\")\n",
    "\t\t\t\t#title_element = result.find_element(By.CSS_SELECTOR, \"h3\")\n",
    "\t\t\t\tlink_element = result.find_element(By.XPATH, \".//parent::a\")\n",
    "\t\t\t\t\n",
    "\t\t\t\ttitle = result.text\n",
    "\t\t\t\tprint(title)\n",
    "\t\t\t\turl = link_element.get_attribute('href')\n",
    "\t\t\t\t\n",
    "\t\t\t\t# Append to DataFrame\n",
    "\t\t\t\tlinks_df.loc[len(links_df)] = [title, url]\n",
    "\t\t\t\t\n",
    "\t\t\texcept Exception as e:\n",
    "\t\t\t\tprint(f\"Error extracting link info: {e}\")\n",
    "\t\t\t\tcontinue\n",
    "\t\t\n",
    "\t\t# Visit each URL in the DataFrame\n",
    "\t\tfor url in links_df['url']:\n",
    "\t\t\ttry:\n",
    "\t\t\t\tdriver.execute_script(\"window.open(arguments[0]);\", url)\n",
    "\t\t\t\ttime.sleep(2)  # Small delay between visits\n",
    "\t\t\texcept Exception as e:\n",
    "\t\t\t\tprint(f\"Error visiting URL {url}: {e}\")\n",
    "\t\t\t\tcontinue\n",
    "\t\t\t\t\n",
    "\t\treturn links_df\n",
    "\t\t\t\t\n",
    "\texcept Exception as e:\n",
    "\t\tprint(f\"An error occurred: {e}\")\n",
    "\t\treturn links_df\n",
    "\t\n",
    "\tfinally:\n",
    "\t\ttime.sleep(5)  # Wait before closing"
   ]
  },
  {
   "cell_type": "code",
   "execution_count": null,
   "metadata": {
    "vscode": {
     "languageId": "ruby"
    }
   },
   "outputs": [],
   "source": []
  },
  {
   "cell_type": "code",
   "execution_count": 24,
   "metadata": {},
   "outputs": [],
   "source": [
    "def scrape_links(ekatalog_links):\n",
    "    for url in ekatalog_links['url']:\n",
    "        try:\n",
    "            # Open URL\n",
    "            driver.get(url)\n",
    "            \n",
    "            # Wait for specs link and click\n",
    "            specs_link = wait.until(EC.element_to_be_clickable((By.CSS_SELECTOR, 'a[href=\"#spesifikasi\"]')))\n",
    "            specs_link.click()\n",
    "            \n",
    "            # Scroll to bottom gradually\n",
    "            total_height = int(driver.execute_script(\"return document.body.scrollHeight\"))\n",
    "            for height in range(0, total_height, 100):\n",
    "                driver.execute_script(f\"window.scrollTo(0, {height});\")\n",
    "                time.sleep(0.3)\n",
    "            \n",
    "            # Reset to top\n",
    "            driver.execute_script(\"window.scrollTo(0, 0);\")\n",
    "            \n",
    "            # Wait for specs link and click\n",
    "            ongkir_link = wait.until(EC.element_to_be_clickable((By.CSS_SELECTOR, 'a[href=\"#ongkir\"]')))\n",
    "            ongkir_link.click()\n",
    "            \n",
    "            # Second scroll - to bottom gradually\n",
    "            total_height = int(driver.execute_script(\"return document.body.scrollHeight\"))\n",
    "            for height in range(0, total_height, 100):\n",
    "                driver.execute_script(f\"window.scrollTo(0, {height});\")\n",
    "                time.sleep(0.3)\n",
    "\n",
    "            time.sleep(2)  # Wait for page to settle\n",
    "            \n",
    "        except Exception as e:\n",
    "            print(f\"Error processing {url}: {e}\")\n",
    "            continue"
   ]
  },
  {
   "cell_type": "code",
   "execution_count": 25,
   "metadata": {
    "vscode": {
     "languageId": "ruby"
    }
   },
   "outputs": [
    {
     "name": "stdout",
     "output_type": "stream",
     "text": [
      "UPS Online 100KVA | E-Katalog 5.0 - LKPP\n",
      "YSP LT 100 UPS (100KVA/90KW) - e-Katalog - LKPP\n",
      "UPS KSTAR UID 1000 L (100 KVA) | E-Katalog 5.0 - LKPP\n",
      "UPS 100KVA | E-Katalog 5.0 - LKPP\n",
      "yoshiga ups gpi 33-100 100 kva - e-Katalog\n",
      "UPS 100 KVA / 80 KW | E-Katalog 5.0 - LKPP\n",
      "UPS Online Three Phase ONH-100KVA/33 (Long Run Backup)\n",
      "UPS 100KVA DS3100T | E-Katalog 5.0 - LKPP\n",
      "UPS 100 KVA | E-Katalog 5.0 - LKPP\n",
      "ONLINE UPS SIMA PLUS-100KVA | E-Katalog 5.0 - LKPP\n",
      "Error processing https://e-katalog.lkpp.go.id/katalog/produk/detail/77096845: Message: \n",
      "Stacktrace:\n",
      "\tGetHandleVerifier [0x00DE02D3+25139]\n",
      "\t(No symbol) [0x00D6B284]\n",
      "\t(No symbol) [0x00C404A3]\n",
      "\t(No symbol) [0x00C88338]\n",
      "\t(No symbol) [0x00C8868B]\n",
      "\t(No symbol) [0x00CD0F62]\n",
      "\t(No symbol) [0x00CACF84]\n",
      "\t(No symbol) [0x00CCE6E1]\n",
      "\t(No symbol) [0x00CACD36]\n",
      "\t(No symbol) [0x00C7BD29]\n",
      "\t(No symbol) [0x00C7D064]\n",
      "\tGetHandleVerifier [0x010EB193+3215603]\n",
      "\tGetHandleVerifier [0x0110230A+3310186]\n",
      "\tGetHandleVerifier [0x010FC522+3286146]\n",
      "\tGetHandleVerifier [0x00E79CD0+654384]\n",
      "\t(No symbol) [0x00D7460D]\n",
      "\t(No symbol) [0x00D714F8]\n",
      "\t(No symbol) [0x00D71697]\n",
      "\t(No symbol) [0x00D63D70]\n",
      "\tBaseThreadInitThunk [0x760C5D49+25]\n",
      "\tRtlInitializeExceptionChain [0x7734CDEB+107]\n",
      "\tRtlGetAppContainerNamedObjectPath [0x7734CD71+561]\n",
      "\n"
     ]
    }
   ],
   "source": [
    "# Example usage\n",
    "search_query = \"ups 100 kva inurl:e-katalog.lkpp.go.id\"\n",
    "ekatalog_links = google_search(search_query)\n",
    "\n",
    "scrape_links(ekatalog_links)"
   ]
  },
  {
   "cell_type": "code",
   "execution_count": 26,
   "metadata": {},
   "outputs": [],
   "source": [
    "driver.quit()"
   ]
  },
  {
   "cell_type": "code",
   "execution_count": null,
   "metadata": {},
   "outputs": [],
   "source": []
  },
  {
   "cell_type": "code",
   "execution_count": null,
   "metadata": {},
   "outputs": [],
   "source": []
  }
 ],
 "metadata": {
  "kernelspec": {
   "display_name": "basangdata12",
   "language": "python",
   "name": "python3"
  },
  "language_info": {
   "codemirror_mode": {
    "name": "ipython",
    "version": 3
   },
   "file_extension": ".py",
   "mimetype": "text/x-python",
   "name": "python",
   "nbconvert_exporter": "python",
   "pygments_lexer": "ipython3",
   "version": "3.12.2"
  }
 },
 "nbformat": 4,
 "nbformat_minor": 2
}
