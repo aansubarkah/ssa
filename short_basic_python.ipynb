{
 "cells": [
  {
   "cell_type": "code",
   "execution_count": 1,
   "id": "0d6adf6d-8abb-4c5a-85c9-ad35221c9020",
   "metadata": {
    "execution": {
     "iopub.execute_input": "2024-10-12T05:24:20.749007Z",
     "iopub.status.busy": "2024-10-12T05:24:20.745005Z",
     "iopub.status.idle": "2024-10-12T05:24:20.774922Z",
     "shell.execute_reply": "2024-10-12T05:24:20.771935Z",
     "shell.execute_reply.started": "2024-10-12T05:24:20.748004Z"
    }
   },
   "outputs": [],
   "source": [
    "var1 = 1"
   ]
  },
  {
   "cell_type": "code",
   "execution_count": 2,
   "id": "58fd1d51-7298-4395-960f-6943ce4c5ed6",
   "metadata": {
    "execution": {
     "iopub.execute_input": "2024-10-12T05:24:32.619779Z",
     "iopub.status.busy": "2024-10-12T05:24:32.616789Z",
     "iopub.status.idle": "2024-10-12T05:24:32.651218Z",
     "shell.execute_reply": "2024-10-12T05:24:32.647230Z",
     "shell.execute_reply.started": "2024-10-12T05:24:32.619779Z"
    }
   },
   "outputs": [
    {
     "data": {
      "text/plain": [
       "1"
      ]
     },
     "execution_count": 2,
     "metadata": {},
     "output_type": "execute_result"
    }
   ],
   "source": [
    "var1"
   ]
  },
  {
   "cell_type": "code",
   "execution_count": 3,
   "id": "65b1c782-fc53-44d2-8640-4dafb26ef84e",
   "metadata": {
    "execution": {
     "iopub.execute_input": "2024-10-12T05:24:49.819767Z",
     "iopub.status.busy": "2024-10-12T05:24:49.818775Z",
     "iopub.status.idle": "2024-10-12T05:24:49.836148Z",
     "shell.execute_reply": "2024-10-12T05:24:49.833153Z",
     "shell.execute_reply.started": "2024-10-12T05:24:49.819767Z"
    }
   },
   "outputs": [],
   "source": [
    "var2 = 'ini teks'"
   ]
  },
  {
   "cell_type": "code",
   "execution_count": 4,
   "id": "39ef0a79-415f-4d72-a7da-1a2535fa8a08",
   "metadata": {
    "execution": {
     "iopub.execute_input": "2024-10-12T05:24:53.261603Z",
     "iopub.status.busy": "2024-10-12T05:24:53.261603Z",
     "iopub.status.idle": "2024-10-12T05:24:53.283543Z",
     "shell.execute_reply": "2024-10-12T05:24:53.281579Z",
     "shell.execute_reply.started": "2024-10-12T05:24:53.261603Z"
    }
   },
   "outputs": [
    {
     "data": {
      "text/plain": [
       "'ini teks'"
      ]
     },
     "execution_count": 4,
     "metadata": {},
     "output_type": "execute_result"
    }
   ],
   "source": [
    "var2"
   ]
  },
  {
   "cell_type": "code",
   "execution_count": 5,
   "id": "cadb273f-d3de-48c6-918a-d06b6f9012fc",
   "metadata": {
    "execution": {
     "iopub.execute_input": "2024-10-12T05:25:18.751911Z",
     "iopub.status.busy": "2024-10-12T05:25:18.750904Z",
     "iopub.status.idle": "2024-10-12T05:25:18.769853Z",
     "shell.execute_reply": "2024-10-12T05:25:18.767860Z",
     "shell.execute_reply.started": "2024-10-12T05:25:18.751911Z"
    }
   },
   "outputs": [
    {
     "data": {
      "text/plain": [
       "1"
      ]
     },
     "execution_count": 5,
     "metadata": {},
     "output_type": "execute_result"
    }
   ],
   "source": [
    "var1"
   ]
  },
  {
   "cell_type": "code",
   "execution_count": 6,
   "id": "b3f2ae78-fbc4-4a84-ae57-26c8c5b63444",
   "metadata": {
    "execution": {
     "iopub.execute_input": "2024-10-12T05:25:34.382720Z",
     "iopub.status.busy": "2024-10-12T05:25:34.380723Z",
     "iopub.status.idle": "2024-10-12T05:25:39.782062Z",
     "shell.execute_reply": "2024-10-12T05:25:39.774087Z",
     "shell.execute_reply.started": "2024-10-12T05:25:34.382720Z"
    }
   },
   "outputs": [
    {
     "ename": "TypeError",
     "evalue": "unsupported operand type(s) for +: 'int' and 'str'",
     "output_type": "error",
     "traceback": [
      "\u001b[1;31m---------------------------------------------------------------------------\u001b[0m",
      "\u001b[1;31mTypeError\u001b[0m                                 Traceback (most recent call last)",
      "Cell \u001b[1;32mIn[6], line 1\u001b[0m\n\u001b[1;32m----> 1\u001b[0m var3 \u001b[38;5;241m=\u001b[39m \u001b[43mvar1\u001b[49m\u001b[43m \u001b[49m\u001b[38;5;241;43m+\u001b[39;49m\u001b[43m \u001b[49m\u001b[43mvar2\u001b[49m\n",
      "\u001b[1;31mTypeError\u001b[0m: unsupported operand type(s) for +: 'int' and 'str'"
     ]
    }
   ],
   "source": [
    "var3 = var1 + var2"
   ]
  },
  {
   "cell_type": "code",
   "execution_count": 7,
   "id": "7f7115cc-c011-4115-91a9-db4937fae65d",
   "metadata": {
    "execution": {
     "iopub.execute_input": "2024-10-12T05:25:55.319853Z",
     "iopub.status.busy": "2024-10-12T05:25:55.315871Z",
     "iopub.status.idle": "2024-10-12T05:25:55.352761Z",
     "shell.execute_reply": "2024-10-12T05:25:55.346777Z",
     "shell.execute_reply.started": "2024-10-12T05:25:55.319853Z"
    }
   },
   "outputs": [],
   "source": [
    "var3 = str(var1) + var2"
   ]
  },
  {
   "cell_type": "code",
   "execution_count": 8,
   "id": "db6caca7-83c7-4046-9af8-b582daff6a3f",
   "metadata": {
    "execution": {
     "iopub.execute_input": "2024-10-12T05:25:58.666107Z",
     "iopub.status.busy": "2024-10-12T05:25:58.662120Z",
     "iopub.status.idle": "2024-10-12T05:25:58.707820Z",
     "shell.execute_reply": "2024-10-12T05:25:58.703832Z",
     "shell.execute_reply.started": "2024-10-12T05:25:58.665110Z"
    }
   },
   "outputs": [
    {
     "data": {
      "text/plain": [
       "'1ini teks'"
      ]
     },
     "execution_count": 8,
     "metadata": {},
     "output_type": "execute_result"
    }
   ],
   "source": [
    "var3"
   ]
  },
  {
   "cell_type": "code",
   "execution_count": 9,
   "id": "14589f28-e7af-46aa-9abc-def96e4fb918",
   "metadata": {
    "execution": {
     "iopub.execute_input": "2024-10-12T05:27:35.633864Z",
     "iopub.status.busy": "2024-10-12T05:27:35.632865Z",
     "iopub.status.idle": "2024-10-12T05:27:35.665951Z",
     "shell.execute_reply": "2024-10-12T05:27:35.659955Z",
     "shell.execute_reply.started": "2024-10-12T05:27:35.633864Z"
    }
   },
   "outputs": [
    {
     "data": {
      "text/plain": [
       "9"
      ]
     },
     "execution_count": 9,
     "metadata": {},
     "output_type": "execute_result"
    }
   ],
   "source": [
    "len('ini dunia')"
   ]
  },
  {
   "cell_type": "code",
   "execution_count": 10,
   "id": "db165299-f417-430a-b673-ba771e4ac933",
   "metadata": {
    "execution": {
     "iopub.execute_input": "2024-10-12T05:28:13.892155Z",
     "iopub.status.busy": "2024-10-12T05:28:13.886182Z",
     "iopub.status.idle": "2024-10-12T05:28:13.931054Z",
     "shell.execute_reply": "2024-10-12T05:28:13.927062Z",
     "shell.execute_reply.started": "2024-10-12T05:28:13.892155Z"
    }
   },
   "outputs": [
    {
     "data": {
      "text/plain": [
       "10"
      ]
     },
     "execution_count": 10,
     "metadata": {},
     "output_type": "execute_result"
    }
   ],
   "source": [
    "len('halo dunia')"
   ]
  },
  {
   "cell_type": "code",
   "execution_count": 11,
   "id": "26f536c8-476e-4b48-92b6-81aa159dfea5",
   "metadata": {
    "execution": {
     "iopub.execute_input": "2024-10-12T05:28:34.816825Z",
     "iopub.status.busy": "2024-10-12T05:28:34.812841Z",
     "iopub.status.idle": "2024-10-12T05:28:34.854425Z",
     "shell.execute_reply": "2024-10-12T05:28:34.851380Z",
     "shell.execute_reply.started": "2024-10-12T05:28:34.816825Z"
    }
   },
   "outputs": [
    {
     "name": "stdout",
     "output_type": "stream",
     "text": [
      "halo dunia\n"
     ]
    }
   ],
   "source": [
    "print('halo dunia')"
   ]
  },
  {
   "cell_type": "code",
   "execution_count": 12,
   "id": "c8cced9e-57fd-4b21-9210-5e899a747b7b",
   "metadata": {
    "execution": {
     "iopub.execute_input": "2024-10-12T05:28:46.747974Z",
     "iopub.status.busy": "2024-10-12T05:28:46.745979Z",
     "iopub.status.idle": "2024-10-12T05:28:46.774899Z",
     "shell.execute_reply": "2024-10-12T05:28:46.771904Z",
     "shell.execute_reply.started": "2024-10-12T05:28:46.747974Z"
    }
   },
   "outputs": [],
   "source": [
    "var1 = 10"
   ]
  },
  {
   "cell_type": "code",
   "execution_count": 13,
   "id": "220b39da-692c-4287-a73d-92e39fd19dc1",
   "metadata": {
    "execution": {
     "iopub.execute_input": "2024-10-12T05:28:53.439593Z",
     "iopub.status.busy": "2024-10-12T05:28:53.437593Z",
     "iopub.status.idle": "2024-10-12T05:28:53.480053Z",
     "shell.execute_reply": "2024-10-12T05:28:53.474066Z",
     "shell.execute_reply.started": "2024-10-12T05:28:53.439593Z"
    }
   },
   "outputs": [
    {
     "name": "stdout",
     "output_type": "stream",
     "text": [
      "10\n"
     ]
    }
   ],
   "source": [
    "print(var1)"
   ]
  },
  {
   "cell_type": "code",
   "execution_count": 14,
   "id": "c4015164-2ea6-4588-a14b-2ae016fb9de3",
   "metadata": {
    "execution": {
     "iopub.execute_input": "2024-10-12T05:29:55.977257Z",
     "iopub.status.busy": "2024-10-12T05:29:55.975275Z",
     "iopub.status.idle": "2024-10-12T05:29:56.020686Z",
     "shell.execute_reply": "2024-10-12T05:29:56.014704Z",
     "shell.execute_reply.started": "2024-10-12T05:29:55.977257Z"
    }
   },
   "outputs": [
    {
     "data": {
      "text/plain": [
       "'10'"
      ]
     },
     "execution_count": 14,
     "metadata": {},
     "output_type": "execute_result"
    }
   ],
   "source": [
    "str(10)"
   ]
  },
  {
   "cell_type": "code",
   "execution_count": 15,
   "id": "5f3727f8-cdc8-4a4f-96db-eaa9e6f043c3",
   "metadata": {
    "execution": {
     "iopub.execute_input": "2024-10-12T05:30:14.536290Z",
     "iopub.status.busy": "2024-10-12T05:30:14.534293Z",
     "iopub.status.idle": "2024-10-12T05:30:14.563216Z",
     "shell.execute_reply": "2024-10-12T05:30:14.559227Z",
     "shell.execute_reply.started": "2024-10-12T05:30:14.536290Z"
    }
   },
   "outputs": [],
   "source": [
    "var1= 10\n",
    "var2 = var1*10"
   ]
  },
  {
   "cell_type": "code",
   "execution_count": 16,
   "id": "82b4a042-fa2f-493a-8ae7-0ac37fa91180",
   "metadata": {
    "execution": {
     "iopub.execute_input": "2024-10-12T05:30:16.768550Z",
     "iopub.status.busy": "2024-10-12T05:30:16.765557Z",
     "iopub.status.idle": "2024-10-12T05:30:16.808006Z",
     "shell.execute_reply": "2024-10-12T05:30:16.804012Z",
     "shell.execute_reply.started": "2024-10-12T05:30:16.767551Z"
    }
   },
   "outputs": [
    {
     "data": {
      "text/plain": [
       "100"
      ]
     },
     "execution_count": 16,
     "metadata": {},
     "output_type": "execute_result"
    }
   ],
   "source": [
    "var2"
   ]
  },
  {
   "cell_type": "code",
   "execution_count": 17,
   "id": "5f58bd16-3f2e-4b49-9abf-bce081d1ed35",
   "metadata": {
    "execution": {
     "iopub.execute_input": "2024-10-12T05:30:39.656994Z",
     "iopub.status.busy": "2024-10-12T05:30:39.654997Z",
     "iopub.status.idle": "2024-10-12T05:30:39.693367Z",
     "shell.execute_reply": "2024-10-12T05:30:39.685391Z",
     "shell.execute_reply.started": "2024-10-12T05:30:39.656994Z"
    }
   },
   "outputs": [],
   "source": [
    "var1 = 10\n",
    "var2 = str(10)\n",
    "var3 = var2 * 10"
   ]
  },
  {
   "cell_type": "code",
   "execution_count": 18,
   "id": "a0274372-31b5-440c-8173-3d76a266e996",
   "metadata": {
    "execution": {
     "iopub.execute_input": "2024-10-12T05:30:43.220521Z",
     "iopub.status.busy": "2024-10-12T05:30:43.218528Z",
     "iopub.status.idle": "2024-10-12T05:30:43.257953Z",
     "shell.execute_reply": "2024-10-12T05:30:43.254437Z",
     "shell.execute_reply.started": "2024-10-12T05:30:43.220521Z"
    }
   },
   "outputs": [
    {
     "data": {
      "text/plain": [
       "'10101010101010101010'"
      ]
     },
     "execution_count": 18,
     "metadata": {},
     "output_type": "execute_result"
    }
   ],
   "source": [
    "var3"
   ]
  },
  {
   "cell_type": "code",
   "execution_count": 19,
   "id": "92f4de28-88d0-4f44-9aa1-f7c7fedb1bd4",
   "metadata": {
    "execution": {
     "iopub.execute_input": "2024-10-12T05:31:33.880717Z",
     "iopub.status.busy": "2024-10-12T05:31:33.875728Z",
     "iopub.status.idle": "2024-10-12T05:31:33.915616Z",
     "shell.execute_reply": "2024-10-12T05:31:33.911634Z",
     "shell.execute_reply.started": "2024-10-12T05:31:33.880717Z"
    }
   },
   "outputs": [],
   "source": [
    "var4 = '1000'\n",
    "var5 = var4 + 'halo dunia'"
   ]
  },
  {
   "cell_type": "code",
   "execution_count": 20,
   "id": "30a476ab-879b-4afb-a806-7a14b345ccbe",
   "metadata": {
    "execution": {
     "iopub.execute_input": "2024-10-12T05:31:39.325451Z",
     "iopub.status.busy": "2024-10-12T05:31:39.321449Z",
     "iopub.status.idle": "2024-10-12T05:31:39.369322Z",
     "shell.execute_reply": "2024-10-12T05:31:39.362350Z",
     "shell.execute_reply.started": "2024-10-12T05:31:39.324445Z"
    }
   },
   "outputs": [
    {
     "data": {
      "text/plain": [
       "'1000halo dunia'"
      ]
     },
     "execution_count": 20,
     "metadata": {},
     "output_type": "execute_result"
    }
   ],
   "source": [
    "var5"
   ]
  },
  {
   "cell_type": "code",
   "execution_count": 21,
   "id": "c614602d-3f9f-4665-b081-544a6281288b",
   "metadata": {
    "execution": {
     "iopub.execute_input": "2024-10-12T05:31:58.989732Z",
     "iopub.status.busy": "2024-10-12T05:31:58.986227Z",
     "iopub.status.idle": "2024-10-12T05:31:59.025315Z",
     "shell.execute_reply": "2024-10-12T05:31:59.019322Z",
     "shell.execute_reply.started": "2024-10-12T05:31:58.989732Z"
    }
   },
   "outputs": [],
   "source": [
    "var6 = int(var4)"
   ]
  },
  {
   "cell_type": "code",
   "execution_count": 22,
   "id": "5223b51c-c447-4928-96ff-7168c57f38e5",
   "metadata": {
    "execution": {
     "iopub.execute_input": "2024-10-12T05:32:07.233827Z",
     "iopub.status.busy": "2024-10-12T05:32:07.229825Z",
     "iopub.status.idle": "2024-10-12T05:32:07.275714Z",
     "shell.execute_reply": "2024-10-12T05:32:07.272723Z",
     "shell.execute_reply.started": "2024-10-12T05:32:07.232840Z"
    }
   },
   "outputs": [
    {
     "data": {
      "text/plain": [
       "10000"
      ]
     },
     "execution_count": 22,
     "metadata": {},
     "output_type": "execute_result"
    }
   ],
   "source": [
    "var6*10"
   ]
  },
  {
   "cell_type": "markdown",
   "id": "2035d07f-07a5-435f-8b6b-40184fa18740",
   "metadata": {},
   "source": [
    "# Iterasi"
   ]
  },
  {
   "cell_type": "code",
   "execution_count": 14,
   "id": "fa14ae59",
   "metadata": {},
   "outputs": [
    {
     "name": "stdout",
     "output_type": "stream",
     "text": [
      "Hello World\n",
      "Hello World\n",
      "Hello World\n",
      "Hello World\n",
      "Hello World\n",
      "Hello World\n",
      "Hello World\n",
      "Hello World\n",
      "Hello World\n",
      "Hello World\n"
     ]
    }
   ],
   "source": [
    "for i in range(1, 11):\n",
    "    print('Hello World')"
   ]
  },
  {
   "cell_type": "code",
   "execution_count": 15,
   "id": "1058bde8",
   "metadata": {},
   "outputs": [
    {
     "name": "stdout",
     "output_type": "stream",
     "text": [
      "10\n",
      "20\n",
      "30\n",
      "40\n",
      "50\n",
      "60\n",
      "70\n",
      "80\n",
      "90\n"
     ]
    }
   ],
   "source": [
    "for i in range(1, 10):\n",
    "    var1 = i \n",
    "    print(i*10)"
   ]
  },
  {
   "cell_type": "code",
   "execution_count": 16,
   "id": "799733cb",
   "metadata": {},
   "outputs": [
    {
     "name": "stdout",
     "output_type": "stream",
     "text": [
      "9.0\n",
      "12.0\n",
      "15.0\n",
      "18.0\n",
      "21.0\n",
      "24.0\n",
      "27.0\n",
      "30.0\n",
      "33.0\n"
     ]
    }
   ],
   "source": [
    "for i in range(1, 10):\n",
    "    var2 = 6/2*(i+2)\n",
    "    print(var2)"
   ]
  },
  {
   "cell_type": "code",
   "execution_count": null,
   "id": "8c15b6ca",
   "metadata": {},
   "outputs": [],
   "source": []
  },
  {
   "cell_type": "markdown",
   "id": "33436edc",
   "metadata": {},
   "source": [
    "# While"
   ]
  },
  {
   "cell_type": "code",
   "execution_count": 17,
   "id": "90e1833a",
   "metadata": {},
   "outputs": [
    {
     "name": "stdout",
     "output_type": "stream",
     "text": [
      "Hello World\n"
     ]
    }
   ],
   "source": [
    "while True:\n",
    "    print('Hello World')\n",
    "    break"
   ]
  },
  {
   "cell_type": "code",
   "execution_count": 18,
   "id": "189a481f",
   "metadata": {},
   "outputs": [
    {
     "name": "stdout",
     "output_type": "stream",
     "text": [
      "Hello World\n"
     ]
    }
   ],
   "source": [
    "while 1 < 2:\n",
    "    print('Hello World')\n",
    "    break"
   ]
  },
  {
   "cell_type": "code",
   "execution_count": 19,
   "id": "516430c6",
   "metadata": {},
   "outputs": [],
   "source": [
    "while 1 > 2:\n",
    "    print('Hello World')\n",
    "    break"
   ]
  },
  {
   "cell_type": "code",
   "execution_count": 20,
   "id": "97e3257b",
   "metadata": {},
   "outputs": [
    {
     "name": "stdout",
     "output_type": "stream",
     "text": [
      "Hello World\n"
     ]
    }
   ],
   "source": [
    "tr = True\n",
    "\n",
    "while tr:\n",
    "    print('Hello World')\n",
    "    tr = False"
   ]
  },
  {
   "cell_type": "markdown",
   "id": "871ecc4a",
   "metadata": {},
   "source": [
    "# Conditional"
   ]
  },
  {
   "cell_type": "code",
   "execution_count": 24,
   "id": "f04c9612",
   "metadata": {},
   "outputs": [
    {
     "name": "stdout",
     "output_type": "stream",
     "text": [
      "var1 lebih kecil dari var2\n"
     ]
    }
   ],
   "source": [
    "var1 = 10\n",
    "var2 = 20\n",
    "var3 = 30\n",
    "\n",
    "if var1 < var2:\n",
    "    print('var1 lebih kecil dari var2')"
   ]
  },
  {
   "cell_type": "code",
   "execution_count": 25,
   "id": "0d905b01",
   "metadata": {},
   "outputs": [],
   "source": [
    "var1 = 10\n",
    "var2 = 20\n",
    "var3 = 30\n",
    "\n",
    "if var1 > var2:\n",
    "    print('var1 lebih besar dari var2')"
   ]
  },
  {
   "cell_type": "code",
   "execution_count": 26,
   "id": "5ad50647",
   "metadata": {},
   "outputs": [
    {
     "name": "stdout",
     "output_type": "stream",
     "text": [
      "9.0\n",
      "12.0\n",
      "15.0\n",
      "18.0\n",
      "21.0\n",
      "24.0\n",
      "27.0\n",
      "var2 lebih besar dari 25\n",
      "30.0\n",
      "var2 lebih besar dari 25\n",
      "33.0\n",
      "var2 lebih besar dari 25\n"
     ]
    }
   ],
   "source": [
    "for i in range(1, 10):\n",
    "    var2 = 6/2*(i+2)\n",
    "    \n",
    "    print(var2)\n",
    "    if var2 > 25:\n",
    "        print('var2 lebih besar dari 25')"
   ]
  },
  {
   "cell_type": "markdown",
   "id": "cd85ec1b",
   "metadata": {},
   "source": [
    "# Range"
   ]
  },
  {
   "cell_type": "code",
   "execution_count": 29,
   "id": "3b6e9162",
   "metadata": {},
   "outputs": [],
   "source": [
    "var1 = [range(1, 10)]"
   ]
  },
  {
   "cell_type": "code",
   "execution_count": 31,
   "id": "bc9e1daa",
   "metadata": {},
   "outputs": [
    {
     "name": "stdout",
     "output_type": "stream",
     "text": [
      "1\n",
      "2\n",
      "3\n",
      "4\n",
      "5\n",
      "6\n",
      "7\n",
      "8\n",
      "9\n"
     ]
    }
   ],
   "source": [
    "for i in range(1, 10):\n",
    "    print(i)"
   ]
  },
  {
   "cell_type": "code",
   "execution_count": 33,
   "id": "bfc8dbeb",
   "metadata": {},
   "outputs": [],
   "source": [
    "var1 = [i for i in range(1, 10)]"
   ]
  },
  {
   "cell_type": "code",
   "execution_count": 34,
   "id": "95711a05",
   "metadata": {},
   "outputs": [
    {
     "data": {
      "text/plain": [
       "[1, 2, 3, 4, 5, 6, 7, 8, 9]"
      ]
     },
     "execution_count": 34,
     "metadata": {},
     "output_type": "execute_result"
    }
   ],
   "source": [
    "var1"
   ]
  },
  {
   "cell_type": "code",
   "execution_count": null,
   "id": "c9235ef7",
   "metadata": {},
   "outputs": [],
   "source": []
  },
  {
   "cell_type": "code",
   "execution_count": null,
   "id": "2a727267",
   "metadata": {},
   "outputs": [],
   "source": []
  }
 ],
 "metadata": {
  "kernelspec": {
   "display_name": "basangdata12",
   "language": "python",
   "name": "python3"
  },
  "language_info": {
   "codemirror_mode": {
    "name": "ipython",
    "version": 3
   },
   "file_extension": ".py",
   "mimetype": "text/x-python",
   "name": "python",
   "nbconvert_exporter": "python",
   "pygments_lexer": "ipython3",
   "version": "3.12.2"
  }
 },
 "nbformat": 4,
 "nbformat_minor": 5
}
