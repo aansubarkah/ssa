{
 "cells": [
  {
   "cell_type": "code",
   "execution_count": 16,
   "id": "ebb82a6e-95a3-434c-888a-9e16d7a9b8da",
   "metadata": {
    "execution": {
     "iopub.execute_input": "2024-08-24T03:17:23.539710Z",
     "iopub.status.busy": "2024-08-24T03:17:23.539710Z",
     "iopub.status.idle": "2024-08-24T03:17:23.548219Z",
     "shell.execute_reply": "2024-08-24T03:17:23.547210Z",
     "shell.execute_reply.started": "2024-08-24T03:17:23.539710Z"
    }
   },
   "outputs": [],
   "source": [
    "import json\n",
    "import pandas as pd\n",
    "\n",
    "from selenium import webdriver\n",
    "from selenium.webdriver.chrome.service import Service as ChromeService\n",
    "from webdriver_manager.chrome import ChromeDriverManager\n",
    "from selenium.webdriver.common.by import By\n",
    "from datetime import datetime, timedelta"
   ]
  },
  {
   "cell_type": "code",
   "execution_count": 6,
   "id": "5a266e9a-b933-4d8f-80fb-3ee6ecb9ed29",
   "metadata": {
    "execution": {
     "iopub.execute_input": "2024-08-24T03:12:28.012135Z",
     "iopub.status.busy": "2024-08-24T03:12:28.011104Z",
     "iopub.status.idle": "2024-08-24T03:12:28.047408Z",
     "shell.execute_reply": "2024-08-24T03:12:28.045396Z",
     "shell.execute_reply.started": "2024-08-24T03:12:28.012135Z"
    }
   },
   "outputs": [],
   "source": [
    "#!pip install requests selenium webdriver-manager undetected-chromedriver nodriver\n",
    "#!pip install webdriver-manager --upgrade"
   ]
  },
  {
   "cell_type": "markdown",
   "id": "0d25e9fa-512f-48b7-ad72-2dc6edd5a0f0",
   "metadata": {},
   "source": [
    "# Buka Browser"
   ]
  },
  {
   "cell_type": "code",
   "execution_count": 7,
   "id": "976ea7be-1ba7-4f84-be7d-abae7d785aad",
   "metadata": {
    "execution": {
     "iopub.execute_input": "2024-08-24T03:12:28.052967Z",
     "iopub.status.busy": "2024-08-24T03:12:28.050916Z",
     "iopub.status.idle": "2024-08-24T03:12:44.010664Z",
     "shell.execute_reply": "2024-08-24T03:12:44.008135Z",
     "shell.execute_reply.started": "2024-08-24T03:12:28.052967Z"
    }
   },
   "outputs": [],
   "source": [
    "driver = webdriver.Chrome(service=ChromeService(ChromeDriverManager().install()))\n",
    "#driver = webdriver.Chrome()"
   ]
  },
  {
   "cell_type": "code",
   "execution_count": 8,
   "id": "9a6216ce-23d2-4e33-817a-aa298717899e",
   "metadata": {
    "execution": {
     "iopub.execute_input": "2024-08-24T03:12:44.014696Z",
     "iopub.status.busy": "2024-08-24T03:12:44.013699Z",
     "iopub.status.idle": "2024-08-24T03:12:47.385577Z",
     "shell.execute_reply": "2024-08-24T03:12:47.383563Z",
     "shell.execute_reply.started": "2024-08-24T03:12:44.014696Z"
    }
   },
   "outputs": [],
   "source": [
    "driver.get('https://www.idx.co.id/id/data-pasar/ringkasan-perdagangan/ringkasan-indeks')"
   ]
  },
  {
   "cell_type": "code",
   "execution_count": 9,
   "id": "4f7ed12e-2ac9-4230-b1e6-f928adc92e65",
   "metadata": {
    "execution": {
     "iopub.execute_input": "2024-08-24T03:12:47.393117Z",
     "iopub.status.busy": "2024-08-24T03:12:47.392113Z",
     "iopub.status.idle": "2024-08-24T03:12:47.402635Z",
     "shell.execute_reply": "2024-08-24T03:12:47.400606Z",
     "shell.execute_reply.started": "2024-08-24T03:12:47.393117Z"
    }
   },
   "outputs": [],
   "source": [
    "#driver.quit()"
   ]
  },
  {
   "cell_type": "code",
   "execution_count": 11,
   "id": "d2ceccea-874b-4cda-b062-3aae6d7fcd98",
   "metadata": {
    "execution": {
     "iopub.execute_input": "2024-08-24T03:14:06.930895Z",
     "iopub.status.busy": "2024-08-24T03:14:06.929900Z",
     "iopub.status.idle": "2024-08-24T03:14:07.745917Z",
     "shell.execute_reply": "2024-08-24T03:14:07.743900Z",
     "shell.execute_reply.started": "2024-08-24T03:14:06.930895Z"
    }
   },
   "outputs": [],
   "source": [
    "driver.get('https://www.idx.co.id/primary/TradingSummary/GetIndexSummary?date=20240820&length=9999&start=0')"
   ]
  },
  {
   "cell_type": "code",
   "execution_count": 12,
   "id": "e992bba4-170b-4ff4-bbce-fac0a97b9e60",
   "metadata": {
    "execution": {
     "iopub.execute_input": "2024-08-24T03:16:04.444725Z",
     "iopub.status.busy": "2024-08-24T03:16:04.442722Z",
     "iopub.status.idle": "2024-08-24T03:16:04.483918Z",
     "shell.execute_reply": "2024-08-24T03:16:04.481912Z",
     "shell.execute_reply.started": "2024-08-24T03:16:04.443728Z"
    }
   },
   "outputs": [],
   "source": [
    "teks = driver.find_element(By.TAG_NAME, 'pre')"
   ]
  },
  {
   "cell_type": "code",
   "execution_count": 24,
   "id": "25e08cd9-69bb-4b1a-a756-bad9d033271e",
   "metadata": {
    "execution": {
     "iopub.execute_input": "2024-08-24T03:21:05.813131Z",
     "iopub.status.busy": "2024-08-24T03:21:05.812129Z",
     "iopub.status.idle": "2024-08-24T03:21:05.853713Z",
     "shell.execute_reply": "2024-08-24T03:21:05.851357Z",
     "shell.execute_reply.started": "2024-08-24T03:21:05.813131Z"
    }
   },
   "outputs": [],
   "source": [
    "#teks.text\n",
    "data = json.loads(teks.text)"
   ]
  },
  {
   "cell_type": "code",
   "execution_count": 27,
   "id": "c347b8af-9783-4ad7-a6e8-e96fe4269d98",
   "metadata": {
    "execution": {
     "iopub.execute_input": "2024-08-24T03:21:25.864701Z",
     "iopub.status.busy": "2024-08-24T03:21:25.863739Z",
     "iopub.status.idle": "2024-08-24T03:21:25.869553Z",
     "shell.execute_reply": "2024-08-24T03:21:25.868541Z",
     "shell.execute_reply.started": "2024-08-24T03:21:25.864701Z"
    }
   },
   "outputs": [],
   "source": [
    "#data['data']"
   ]
  },
  {
   "cell_type": "code",
   "execution_count": 29,
   "id": "ebc76877-2aec-400f-ad76-04101cb88af0",
   "metadata": {
    "execution": {
     "iopub.execute_input": "2024-08-24T03:21:47.399769Z",
     "iopub.status.busy": "2024-08-24T03:21:47.399769Z",
     "iopub.status.idle": "2024-08-24T03:21:47.409871Z",
     "shell.execute_reply": "2024-08-24T03:21:47.408862Z",
     "shell.execute_reply.started": "2024-08-24T03:21:47.399769Z"
    }
   },
   "outputs": [],
   "source": [
    "with open('test.json', 'w', encoding='utf-8') as f:\n",
    "    json.dump(data['data'], f, indent=4)"
   ]
  },
  {
   "cell_type": "code",
   "execution_count": null,
   "id": "1331add6-3320-445d-a57d-2445877f6737",
   "metadata": {},
   "outputs": [],
   "source": []
  }
 ],
 "metadata": {
  "kernelspec": {
   "display_name": "Python 3 (ipykernel)",
   "language": "python",
   "name": "python3"
  },
  "language_info": {
   "codemirror_mode": {
    "name": "ipython",
    "version": 3
   },
   "file_extension": ".py",
   "mimetype": "text/x-python",
   "name": "python",
   "nbconvert_exporter": "python",
   "pygments_lexer": "ipython3",
   "version": "3.12.2"
  }
 },
 "nbformat": 4,
 "nbformat_minor": 5
}
