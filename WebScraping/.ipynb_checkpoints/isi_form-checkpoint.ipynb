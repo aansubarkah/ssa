{
 "cells": [
  {
   "cell_type": "markdown",
   "metadata": {},
   "source": [
    "# Import Libraries"
   ]
  },
  {
   "cell_type": "code",
   "execution_count": 1,
   "metadata": {
    "execution": {
     "iopub.execute_input": "2024-09-07T02:52:48.117937Z",
     "iopub.status.busy": "2024-09-07T02:52:48.116942Z",
     "iopub.status.idle": "2024-09-07T02:52:49.150281Z",
     "shell.execute_reply": "2024-09-07T02:52:49.146268Z",
     "shell.execute_reply.started": "2024-09-07T02:52:48.117937Z"
    }
   },
   "outputs": [],
   "source": [
    "import os, time\n",
    "\n",
    "from selenium import webdriver\n",
    "from selenium.webdriver.chrome.service import Service as ChromeService\n",
    "from webdriver_manager.chrome import ChromeDriverManager\n",
    "from selenium.webdriver.common.by import By\n",
    "from selenium.webdriver.support.ui import Select"
   ]
  },
  {
   "cell_type": "markdown",
   "metadata": {},
   "source": [
    "# Buka Browser"
   ]
  },
  {
   "cell_type": "code",
   "execution_count": 2,
   "metadata": {
    "execution": {
     "iopub.execute_input": "2024-09-07T02:53:00.450769Z",
     "iopub.status.busy": "2024-09-07T02:53:00.449688Z",
     "iopub.status.idle": "2024-09-07T02:53:33.581934Z",
     "shell.execute_reply": "2024-09-07T02:53:33.577922Z",
     "shell.execute_reply.started": "2024-09-07T02:53:00.450769Z"
    }
   },
   "outputs": [],
   "source": [
    "#driver = uc.Chrome()\n",
    "driver = webdriver.Chrome(service=ChromeService(ChromeDriverManager().install()))\n",
    "#driver = webdriver.Chrome()"
   ]
  },
  {
   "cell_type": "markdown",
   "metadata": {},
   "source": [
    "# Buka Halaman Target"
   ]
  },
  {
   "cell_type": "code",
   "execution_count": 3,
   "metadata": {
    "execution": {
     "iopub.execute_input": "2024-09-07T02:55:00.735946Z",
     "iopub.status.busy": "2024-09-07T02:55:00.734986Z",
     "iopub.status.idle": "2024-09-07T02:55:00.744723Z",
     "shell.execute_reply": "2024-09-07T02:55:00.742162Z",
     "shell.execute_reply.started": "2024-09-07T02:55:00.735946Z"
    }
   },
   "outputs": [],
   "source": [
    "url = 'https://form.tanpa.download'"
   ]
  },
  {
   "cell_type": "code",
   "execution_count": 4,
   "metadata": {
    "execution": {
     "iopub.execute_input": "2024-09-07T02:55:01.885445Z",
     "iopub.status.busy": "2024-09-07T02:55:01.883890Z",
     "iopub.status.idle": "2024-09-07T02:55:03.693629Z",
     "shell.execute_reply": "2024-09-07T02:55:03.690104Z",
     "shell.execute_reply.started": "2024-09-07T02:55:01.885445Z"
    }
   },
   "outputs": [],
   "source": [
    "driver.get(url)"
   ]
  },
  {
   "cell_type": "markdown",
   "metadata": {},
   "source": [
    "<strong>Kata kunci:</strong> SELENIUM GET"
   ]
  },
  {
   "cell_type": "markdown",
   "metadata": {},
   "source": [
    "# Pilih Elemen"
   ]
  },
  {
   "cell_type": "markdown",
   "metadata": {},
   "source": [
    "## Satu Elemen"
   ]
  },
  {
   "cell_type": "code",
   "execution_count": 6,
   "metadata": {
    "execution": {
     "iopub.execute_input": "2024-09-07T02:56:43.590197Z",
     "iopub.status.busy": "2024-09-07T02:56:43.588202Z",
     "iopub.status.idle": "2024-09-07T02:56:43.632441Z",
     "shell.execute_reply": "2024-09-07T02:56:43.629427Z",
     "shell.execute_reply.started": "2024-09-07T02:56:43.590197Z"
    }
   },
   "outputs": [],
   "source": [
    "satu_input = driver.find_element(By.XPATH, '//input')"
   ]
  },
  {
   "cell_type": "markdown",
   "metadata": {},
   "source": [
    "<strong>Kata kunci:</strong> SELENIUM FIND_ELEMENT, SELENIUM LOCATING ELEMENTS"
   ]
  },
  {
   "cell_type": "code",
   "execution_count": 7,
   "metadata": {
    "execution": {
     "iopub.execute_input": "2024-09-07T02:56:46.017336Z",
     "iopub.status.busy": "2024-09-07T02:56:46.015341Z",
     "iopub.status.idle": "2024-09-07T02:56:46.047260Z",
     "shell.execute_reply": "2024-09-07T02:56:46.044241Z",
     "shell.execute_reply.started": "2024-09-07T02:56:46.017336Z"
    }
   },
   "outputs": [
    {
     "data": {
      "text/plain": [
       "<selenium.webdriver.remote.webelement.WebElement (session=\"a0ac202e380c61bb3de2f0dd43bdf3e3\", element=\"f.75F6E10EFB8F78966249AAE5AA2C7648.d.B0BD8ED8D11FC3D8E94710326FC82ACB.e.2\")>"
      ]
     },
     "execution_count": 7,
     "metadata": {},
     "output_type": "execute_result"
    }
   ],
   "source": [
    "satu_input"
   ]
  },
  {
   "cell_type": "code",
   "execution_count": 8,
   "metadata": {
    "execution": {
     "iopub.execute_input": "2024-09-07T02:56:48.589729Z",
     "iopub.status.busy": "2024-09-07T02:56:48.587735Z",
     "iopub.status.idle": "2024-09-07T02:56:48.640440Z",
     "shell.execute_reply": "2024-09-07T02:56:48.636425Z",
     "shell.execute_reply.started": "2024-09-07T02:56:48.589729Z"
    }
   },
   "outputs": [
    {
     "data": {
      "text/plain": [
       "'name'"
      ]
     },
     "execution_count": 8,
     "metadata": {},
     "output_type": "execute_result"
    }
   ],
   "source": [
    "satu_input.get_attribute('name')"
   ]
  },
  {
   "cell_type": "markdown",
   "metadata": {},
   "source": [
    "<strong>Kata kunci:</strong> SELENIUM GET_ATTRIBUTE"
   ]
  },
  {
   "cell_type": "markdown",
   "metadata": {},
   "source": [
    "## Banyak Elemen"
   ]
  },
  {
   "cell_type": "code",
   "execution_count": 9,
   "metadata": {
    "execution": {
     "iopub.execute_input": "2024-09-07T02:58:10.888206Z",
     "iopub.status.busy": "2024-09-07T02:58:10.888206Z",
     "iopub.status.idle": "2024-09-07T02:58:10.911403Z",
     "shell.execute_reply": "2024-09-07T02:58:10.911403Z",
     "shell.execute_reply.started": "2024-09-07T02:58:10.888206Z"
    }
   },
   "outputs": [],
   "source": [
    "banyak_input = driver.find_elements(By.XPATH, '//input')"
   ]
  },
  {
   "cell_type": "markdown",
   "metadata": {},
   "source": [
    "<strong>Kata kunci:</strong> SELENIUM FIND_ELEMENTS, SELENIUM LOCATING ELEMENTS"
   ]
  },
  {
   "cell_type": "code",
   "execution_count": 10,
   "metadata": {
    "execution": {
     "iopub.execute_input": "2024-09-07T02:58:13.439549Z",
     "iopub.status.busy": "2024-09-07T02:58:13.439549Z",
     "iopub.status.idle": "2024-09-07T02:58:13.446267Z",
     "shell.execute_reply": "2024-09-07T02:58:13.445258Z",
     "shell.execute_reply.started": "2024-09-07T02:58:13.439549Z"
    }
   },
   "outputs": [
    {
     "data": {
      "text/plain": [
       "[<selenium.webdriver.remote.webelement.WebElement (session=\"a0ac202e380c61bb3de2f0dd43bdf3e3\", element=\"f.75F6E10EFB8F78966249AAE5AA2C7648.d.B0BD8ED8D11FC3D8E94710326FC82ACB.e.2\")>,\n",
       " <selenium.webdriver.remote.webelement.WebElement (session=\"a0ac202e380c61bb3de2f0dd43bdf3e3\", element=\"f.75F6E10EFB8F78966249AAE5AA2C7648.d.B0BD8ED8D11FC3D8E94710326FC82ACB.e.4\")>,\n",
       " <selenium.webdriver.remote.webelement.WebElement (session=\"a0ac202e380c61bb3de2f0dd43bdf3e3\", element=\"f.75F6E10EFB8F78966249AAE5AA2C7648.d.B0BD8ED8D11FC3D8E94710326FC82ACB.e.13\")>,\n",
       " <selenium.webdriver.remote.webelement.WebElement (session=\"a0ac202e380c61bb3de2f0dd43bdf3e3\", element=\"f.75F6E10EFB8F78966249AAE5AA2C7648.d.B0BD8ED8D11FC3D8E94710326FC82ACB.e.6\")>,\n",
       " <selenium.webdriver.remote.webelement.WebElement (session=\"a0ac202e380c61bb3de2f0dd43bdf3e3\", element=\"f.75F6E10EFB8F78966249AAE5AA2C7648.d.B0BD8ED8D11FC3D8E94710326FC82ACB.e.7\")>,\n",
       " <selenium.webdriver.remote.webelement.WebElement (session=\"a0ac202e380c61bb3de2f0dd43bdf3e3\", element=\"f.75F6E10EFB8F78966249AAE5AA2C7648.d.B0BD8ED8D11FC3D8E94710326FC82ACB.e.8\")>,\n",
       " <selenium.webdriver.remote.webelement.WebElement (session=\"a0ac202e380c61bb3de2f0dd43bdf3e3\", element=\"f.75F6E10EFB8F78966249AAE5AA2C7648.d.B0BD8ED8D11FC3D8E94710326FC82ACB.e.9\")>,\n",
       " <selenium.webdriver.remote.webelement.WebElement (session=\"a0ac202e380c61bb3de2f0dd43bdf3e3\", element=\"f.75F6E10EFB8F78966249AAE5AA2C7648.d.B0BD8ED8D11FC3D8E94710326FC82ACB.e.10\")>,\n",
       " <selenium.webdriver.remote.webelement.WebElement (session=\"a0ac202e380c61bb3de2f0dd43bdf3e3\", element=\"f.75F6E10EFB8F78966249AAE5AA2C7648.d.B0BD8ED8D11FC3D8E94710326FC82ACB.e.11\")>,\n",
       " <selenium.webdriver.remote.webelement.WebElement (session=\"a0ac202e380c61bb3de2f0dd43bdf3e3\", element=\"f.75F6E10EFB8F78966249AAE5AA2C7648.d.B0BD8ED8D11FC3D8E94710326FC82ACB.e.14\")>,\n",
       " <selenium.webdriver.remote.webelement.WebElement (session=\"a0ac202e380c61bb3de2f0dd43bdf3e3\", element=\"f.75F6E10EFB8F78966249AAE5AA2C7648.d.B0BD8ED8D11FC3D8E94710326FC82ACB.e.15\")>,\n",
       " <selenium.webdriver.remote.webelement.WebElement (session=\"a0ac202e380c61bb3de2f0dd43bdf3e3\", element=\"f.75F6E10EFB8F78966249AAE5AA2C7648.d.B0BD8ED8D11FC3D8E94710326FC82ACB.e.16\")>]"
      ]
     },
     "execution_count": 10,
     "metadata": {},
     "output_type": "execute_result"
    }
   ],
   "source": [
    "banyak_input"
   ]
  },
  {
   "cell_type": "code",
   "execution_count": 11,
   "metadata": {
    "execution": {
     "iopub.execute_input": "2024-09-07T02:58:25.858423Z",
     "iopub.status.busy": "2024-09-07T02:58:25.858423Z",
     "iopub.status.idle": "2024-09-07T02:58:25.989094Z",
     "shell.execute_reply": "2024-09-07T02:58:25.989094Z",
     "shell.execute_reply.started": "2024-09-07T02:58:25.858423Z"
    }
   },
   "outputs": [
    {
     "name": "stdout",
     "output_type": "stream",
     "text": [
      "name\n",
      "password\n",
      "tanggal_lahir\n",
      "gender\n",
      "gender\n",
      "gender\n",
      "hobi[]\n",
      "hobi[]\n",
      "hobi[]\n",
      "foto\n",
      "reset\n",
      "submit\n"
     ]
    }
   ],
   "source": [
    "for inp in banyak_input:\n",
    "    print(inp.get_attribute('name'))"
   ]
  },
  {
   "cell_type": "markdown",
   "metadata": {},
   "source": [
    "## Pilih elemen berdasar"
   ]
  },
  {
   "cell_type": "markdown",
   "metadata": {},
   "source": [
    "### id"
   ]
  },
  {
   "cell_type": "code",
   "execution_count": 13,
   "metadata": {
    "execution": {
     "iopub.execute_input": "2024-09-07T03:00:18.765146Z",
     "iopub.status.busy": "2024-09-07T03:00:18.763791Z",
     "iopub.status.idle": "2024-09-07T03:00:18.811436Z",
     "shell.execute_reply": "2024-09-07T03:00:18.809417Z",
     "shell.execute_reply.started": "2024-09-07T03:00:18.765146Z"
    }
   },
   "outputs": [],
   "source": [
    "element_id = driver.find_element(By.ID, 'tanggal_lahir')"
   ]
  },
  {
   "cell_type": "markdown",
   "metadata": {},
   "source": [
    "<strong>Kata kunci:</strong> SELENIUM LOCATING BY ID"
   ]
  },
  {
   "cell_type": "code",
   "execution_count": 14,
   "metadata": {
    "execution": {
     "iopub.execute_input": "2024-09-07T03:00:20.022886Z",
     "iopub.status.busy": "2024-09-07T03:00:20.021376Z",
     "iopub.status.idle": "2024-09-07T03:00:20.052786Z",
     "shell.execute_reply": "2024-09-07T03:00:20.051267Z",
     "shell.execute_reply.started": "2024-09-07T03:00:20.021376Z"
    }
   },
   "outputs": [
    {
     "data": {
      "text/plain": [
       "'tanggal_lahir'"
      ]
     },
     "execution_count": 14,
     "metadata": {},
     "output_type": "execute_result"
    }
   ],
   "source": [
    "element_id.get_attribute('name')"
   ]
  },
  {
   "cell_type": "markdown",
   "metadata": {},
   "source": [
    "### name"
   ]
  },
  {
   "cell_type": "code",
   "execution_count": 15,
   "metadata": {
    "execution": {
     "iopub.execute_input": "2024-09-07T03:00:55.583370Z",
     "iopub.status.busy": "2024-09-07T03:00:55.583370Z",
     "iopub.status.idle": "2024-09-07T03:00:55.611094Z",
     "shell.execute_reply": "2024-09-07T03:00:55.610082Z",
     "shell.execute_reply.started": "2024-09-07T03:00:55.583370Z"
    }
   },
   "outputs": [],
   "source": [
    "element_name = driver.find_element(By.NAME, 'password')"
   ]
  },
  {
   "cell_type": "markdown",
   "metadata": {},
   "source": [
    "<strong>Kata kunci:</strong> SELENIUM LOCATING BY NAME"
   ]
  },
  {
   "cell_type": "code",
   "execution_count": 16,
   "metadata": {
    "execution": {
     "iopub.execute_input": "2024-09-07T03:00:56.724357Z",
     "iopub.status.busy": "2024-09-07T03:00:56.722850Z",
     "iopub.status.idle": "2024-09-07T03:00:56.750354Z",
     "shell.execute_reply": "2024-09-07T03:00:56.749336Z",
     "shell.execute_reply.started": "2024-09-07T03:00:56.724357Z"
    }
   },
   "outputs": [
    {
     "data": {
      "text/plain": [
       "'password'"
      ]
     },
     "execution_count": 16,
     "metadata": {},
     "output_type": "execute_result"
    }
   ],
   "source": [
    "element_name.get_attribute('type')"
   ]
  },
  {
   "cell_type": "markdown",
   "metadata": {},
   "source": [
    "### Tag Name"
   ]
  },
  {
   "cell_type": "code",
   "execution_count": 17,
   "metadata": {
    "execution": {
     "iopub.execute_input": "2024-09-07T03:01:03.820361Z",
     "iopub.status.busy": "2024-09-07T03:01:03.819369Z",
     "iopub.status.idle": "2024-09-07T03:01:03.856994Z",
     "shell.execute_reply": "2024-09-07T03:01:03.854986Z",
     "shell.execute_reply.started": "2024-09-07T03:01:03.820361Z"
    }
   },
   "outputs": [],
   "source": [
    "element_tag = driver.find_element(By.TAG_NAME, 'h1')"
   ]
  },
  {
   "cell_type": "markdown",
   "metadata": {},
   "source": [
    "<strong>Kata kunci:</strong> SELENIUM LOCATING BY NAME"
   ]
  },
  {
   "cell_type": "code",
   "execution_count": 18,
   "metadata": {
    "execution": {
     "iopub.execute_input": "2024-09-07T03:01:05.171084Z",
     "iopub.status.busy": "2024-09-07T03:01:05.169093Z",
     "iopub.status.idle": "2024-09-07T03:01:05.220700Z",
     "shell.execute_reply": "2024-09-07T03:01:05.219689Z",
     "shell.execute_reply.started": "2024-09-07T03:01:05.170089Z"
    }
   },
   "outputs": [
    {
     "data": {
      "text/plain": [
       "'Contoh Formulir'"
      ]
     },
     "execution_count": 18,
     "metadata": {},
     "output_type": "execute_result"
    }
   ],
   "source": [
    "element_tag.text"
   ]
  },
  {
   "cell_type": "markdown",
   "metadata": {},
   "source": [
    "<strong>Kata kunci:</strong> SELENIUM GET ELEMENTS' TEXT"
   ]
  },
  {
   "cell_type": "markdown",
   "metadata": {},
   "source": [
    "### class"
   ]
  },
  {
   "cell_type": "code",
   "execution_count": 19,
   "metadata": {
    "execution": {
     "iopub.execute_input": "2024-09-07T03:01:39.821464Z",
     "iopub.status.busy": "2024-09-07T03:01:39.820466Z",
     "iopub.status.idle": "2024-09-07T03:01:39.851593Z",
     "shell.execute_reply": "2024-09-07T03:01:39.850585Z",
     "shell.execute_reply.started": "2024-09-07T03:01:39.821464Z"
    }
   },
   "outputs": [],
   "source": [
    "element_class = driver.find_element(By.CLASS_NAME, 'sandi')"
   ]
  },
  {
   "cell_type": "markdown",
   "metadata": {},
   "source": [
    "<strong>Kata kunci:</strong> SELENIUM LOCATING BY CLASS NAME"
   ]
  },
  {
   "cell_type": "code",
   "execution_count": 20,
   "metadata": {
    "execution": {
     "iopub.execute_input": "2024-09-07T03:01:40.771210Z",
     "iopub.status.busy": "2024-09-07T03:01:40.770213Z",
     "iopub.status.idle": "2024-09-07T03:01:40.806977Z",
     "shell.execute_reply": "2024-09-07T03:01:40.805963Z",
     "shell.execute_reply.started": "2024-09-07T03:01:40.771210Z"
    }
   },
   "outputs": [
    {
     "data": {
      "text/plain": [
       "'password'"
      ]
     },
     "execution_count": 20,
     "metadata": {},
     "output_type": "execute_result"
    }
   ],
   "source": [
    "element_class.get_attribute('type')"
   ]
  },
  {
   "cell_type": "markdown",
   "metadata": {},
   "source": [
    "### XPATH"
   ]
  },
  {
   "cell_type": "code",
   "execution_count": 26,
   "metadata": {
    "execution": {
     "iopub.execute_input": "2024-09-07T03:03:44.883185Z",
     "iopub.status.busy": "2024-09-07T03:03:44.882678Z",
     "iopub.status.idle": "2024-09-07T03:03:44.910113Z",
     "shell.execute_reply": "2024-09-07T03:03:44.909103Z",
     "shell.execute_reply.started": "2024-09-07T03:03:44.883185Z"
    }
   },
   "outputs": [],
   "source": [
    "element_xpath = driver.find_element(By.XPATH, '//input[@class=\"sandi\"]/following-sibling::input')"
   ]
  },
  {
   "cell_type": "markdown",
   "metadata": {},
   "source": [
    "<strong>Kata kunci:</strong> SELENIUM LOCATING BY XPATH, XPATH"
   ]
  },
  {
   "cell_type": "code",
   "execution_count": 27,
   "metadata": {
    "execution": {
     "iopub.execute_input": "2024-09-07T03:03:46.172615Z",
     "iopub.status.busy": "2024-09-07T03:03:46.171619Z",
     "iopub.status.idle": "2024-09-07T03:03:46.199429Z",
     "shell.execute_reply": "2024-09-07T03:03:46.198413Z",
     "shell.execute_reply.started": "2024-09-07T03:03:46.172615Z"
    }
   },
   "outputs": [
    {
     "data": {
      "text/plain": [
       "'tanggal_lahir'"
      ]
     },
     "execution_count": 27,
     "metadata": {},
     "output_type": "execute_result"
    }
   ],
   "source": [
    "element_xpath.get_attribute('id')"
   ]
  },
  {
   "cell_type": "markdown",
   "metadata": {},
   "source": [
    "# Interaksi dengan Element"
   ]
  },
  {
   "cell_type": "markdown",
   "metadata": {},
   "source": [
    "<strong>Kata kunci:</strong> SELENIUM INTERACT WITH ELEMENT"
   ]
  },
  {
   "cell_type": "markdown",
   "metadata": {},
   "source": [
    "## Click"
   ]
  },
  {
   "cell_type": "code",
   "execution_count": 29,
   "metadata": {
    "execution": {
     "iopub.execute_input": "2024-09-07T03:06:34.370849Z",
     "iopub.status.busy": "2024-09-07T03:06:34.369853Z",
     "iopub.status.idle": "2024-09-07T03:06:34.614033Z",
     "shell.execute_reply": "2024-09-07T03:06:34.612592Z",
     "shell.execute_reply.started": "2024-09-07T03:06:34.370849Z"
    }
   },
   "outputs": [],
   "source": [
    "driver.find_element(By.XPATH, '//input[@type=\"reset\"]').click()"
   ]
  },
  {
   "cell_type": "markdown",
   "metadata": {},
   "source": [
    "<strong>Kata kunci:</strong> SELENIUM CLICK"
   ]
  },
  {
   "cell_type": "code",
   "execution_count": 30,
   "metadata": {
    "execution": {
     "iopub.execute_input": "2024-09-07T03:07:06.423890Z",
     "iopub.status.busy": "2024-09-07T03:07:06.422817Z",
     "iopub.status.idle": "2024-09-07T03:07:06.546861Z",
     "shell.execute_reply": "2024-09-07T03:07:06.545854Z",
     "shell.execute_reply.started": "2024-09-07T03:07:06.423890Z"
    }
   },
   "outputs": [],
   "source": [
    "driver.find_element(By.XPATH, '//input[@value=\"male\"]').click()"
   ]
  },
  {
   "cell_type": "markdown",
   "metadata": {},
   "source": [
    "<strong>Kata kunci:</strong> SELENIUM SELECT RADIO BUTTON"
   ]
  },
  {
   "cell_type": "code",
   "execution_count": 31,
   "metadata": {
    "execution": {
     "iopub.execute_input": "2024-09-07T03:07:48.151085Z",
     "iopub.status.busy": "2024-09-07T03:07:48.150088Z",
     "iopub.status.idle": "2024-09-07T03:07:48.270843Z",
     "shell.execute_reply": "2024-09-07T03:07:48.270843Z",
     "shell.execute_reply.started": "2024-09-07T03:07:48.151085Z"
    }
   },
   "outputs": [],
   "source": [
    "driver.find_element(By.XPATH, '//input[@type=\"checkbox\" and @value=\"membaca\"]').click()"
   ]
  },
  {
   "cell_type": "code",
   "execution_count": 32,
   "metadata": {
    "execution": {
     "iopub.execute_input": "2024-09-07T03:07:55.314247Z",
     "iopub.status.busy": "2024-09-07T03:07:55.313245Z",
     "iopub.status.idle": "2024-09-07T03:07:55.437046Z",
     "shell.execute_reply": "2024-09-07T03:07:55.435388Z",
     "shell.execute_reply.started": "2024-09-07T03:07:55.314247Z"
    }
   },
   "outputs": [],
   "source": [
    "driver.find_element(By.XPATH, '//input[@type=\"checkbox\" and @value=\"nonton\"]').click()"
   ]
  },
  {
   "cell_type": "markdown",
   "metadata": {},
   "source": [
    "<strong>Kata kunci:</strong> XPATH MULTIPLE CONDITIONS"
   ]
  },
  {
   "cell_type": "markdown",
   "metadata": {},
   "source": [
    "## Send Keys (isi teks)"
   ]
  },
  {
   "cell_type": "code",
   "execution_count": 37,
   "metadata": {
    "execution": {
     "iopub.execute_input": "2024-09-07T03:09:26.455847Z",
     "iopub.status.busy": "2024-09-07T03:09:26.454847Z",
     "iopub.status.idle": "2024-09-07T03:09:26.586916Z",
     "shell.execute_reply": "2024-09-07T03:09:26.585906Z",
     "shell.execute_reply.started": "2024-09-07T03:09:26.455847Z"
    }
   },
   "outputs": [],
   "source": [
    "driver.find_element(By.XPATH, '//input[@name=\"name\"]').send_keys('Ini nama saya')"
   ]
  },
  {
   "cell_type": "markdown",
   "metadata": {},
   "source": [
    "<strong>Kata kunci:</strong> SELENIUM SEND KEYS"
   ]
  },
  {
   "cell_type": "code",
   "execution_count": 34,
   "metadata": {
    "execution": {
     "iopub.execute_input": "2024-09-07T03:09:05.805885Z",
     "iopub.status.busy": "2024-09-07T03:09:05.804891Z",
     "iopub.status.idle": "2024-09-07T03:09:05.968871Z",
     "shell.execute_reply": "2024-09-07T03:09:05.967861Z",
     "shell.execute_reply.started": "2024-09-07T03:09:05.805885Z"
    }
   },
   "outputs": [],
   "source": [
    "driver.find_element(By.XPATH, '//input[@type=\"password\"]').send_keys('ini_password')"
   ]
  },
  {
   "cell_type": "code",
   "execution_count": 35,
   "metadata": {
    "execution": {
     "iopub.execute_input": "2024-09-07T03:09:12.964017Z",
     "iopub.status.busy": "2024-09-07T03:09:12.962932Z",
     "iopub.status.idle": "2024-09-07T03:09:13.120653Z",
     "shell.execute_reply": "2024-09-07T03:09:13.119641Z",
     "shell.execute_reply.started": "2024-09-07T03:09:12.964017Z"
    }
   },
   "outputs": [],
   "source": [
    "driver.find_element(By.XPATH, '//input[@id=\"tanggal_lahir\"]').send_keys('07/08/2024')"
   ]
  },
  {
   "cell_type": "markdown",
   "metadata": {},
   "source": [
    "## Clear (hapus teks)"
   ]
  },
  {
   "cell_type": "code",
   "execution_count": 41,
   "metadata": {
    "execution": {
     "iopub.execute_input": "2024-09-07T03:10:03.737028Z",
     "iopub.status.busy": "2024-09-07T03:10:03.736027Z",
     "iopub.status.idle": "2024-09-07T03:10:03.834986Z",
     "shell.execute_reply": "2024-09-07T03:10:03.833972Z",
     "shell.execute_reply.started": "2024-09-07T03:10:03.737028Z"
    }
   },
   "outputs": [],
   "source": [
    "driver.find_element(By.XPATH, '//input[@id=\"tanggal_lahir\"]').clear()"
   ]
  },
  {
   "cell_type": "markdown",
   "metadata": {},
   "source": [
    "<strong>Kata kunci:</strong> SELENIUM CLEAR"
   ]
  },
  {
   "cell_type": "code",
   "execution_count": 42,
   "metadata": {
    "execution": {
     "iopub.execute_input": "2024-09-07T03:10:14.818939Z",
     "iopub.status.busy": "2024-09-07T03:10:14.817943Z",
     "iopub.status.idle": "2024-09-07T03:10:14.976173Z",
     "shell.execute_reply": "2024-09-07T03:10:14.973167Z",
     "shell.execute_reply.started": "2024-09-07T03:10:14.818939Z"
    }
   },
   "outputs": [],
   "source": [
    "driver.find_element(By.XPATH, '//input[@id=\"tanggal_lahir\"]').send_keys('08/08/2024')"
   ]
  },
  {
   "cell_type": "markdown",
   "metadata": {},
   "source": [
    "## Execute Javascript"
   ]
  },
  {
   "cell_type": "code",
   "execution_count": 43,
   "metadata": {
    "execution": {
     "iopub.execute_input": "2024-09-07T03:11:14.724412Z",
     "iopub.status.busy": "2024-09-07T03:11:14.723416Z",
     "iopub.status.idle": "2024-09-07T03:11:14.784971Z",
     "shell.execute_reply": "2024-09-07T03:11:14.782143Z",
     "shell.execute_reply.started": "2024-09-07T03:11:14.724412Z"
    }
   },
   "outputs": [],
   "source": [
    "driver.execute_script('alert(\"Hello World\")')"
   ]
  },
  {
   "cell_type": "markdown",
   "metadata": {},
   "source": [
    "<strong>Kata kunci:</strong> SELENIUM RUNNING JAVASCRIPT"
   ]
  },
  {
   "cell_type": "code",
   "execution_count": 44,
   "metadata": {
    "execution": {
     "iopub.execute_input": "2024-09-07T03:11:29.728586Z",
     "iopub.status.busy": "2024-09-07T03:11:29.727589Z",
     "iopub.status.idle": "2024-09-07T03:11:29.750683Z",
     "shell.execute_reply": "2024-09-07T03:11:29.749132Z",
     "shell.execute_reply.started": "2024-09-07T03:11:29.728586Z"
    }
   },
   "outputs": [],
   "source": [
    "driver.execute_script('document.getElementsByName(\"comment\")[0].value = \"Ini komentar\";')"
   ]
  },
  {
   "cell_type": "markdown",
   "metadata": {},
   "source": [
    "<strong>Kata kunci:</strong> JAVASCRIPT ELEMENT BY NAME, JAVASCRIPT SET ELEMENT VALUE"
   ]
  },
  {
   "cell_type": "markdown",
   "metadata": {},
   "source": [
    "## Select"
   ]
  },
  {
   "cell_type": "code",
   "execution_count": 45,
   "metadata": {
    "execution": {
     "iopub.execute_input": "2024-09-07T03:14:41.449584Z",
     "iopub.status.busy": "2024-09-07T03:14:41.449584Z",
     "iopub.status.idle": "2024-09-07T03:14:41.508404Z",
     "shell.execute_reply": "2024-09-07T03:14:41.507384Z",
     "shell.execute_reply.started": "2024-09-07T03:14:41.449584Z"
    }
   },
   "outputs": [],
   "source": [
    "select = Select(driver.find_element(By.XPATH, '//select[@name=\"job\"]'))"
   ]
  },
  {
   "cell_type": "markdown",
   "metadata": {},
   "source": [
    "<strong>Kata kunci:</strong> PYTHON SELENIUM SELECT OPTION"
   ]
  },
  {
   "cell_type": "code",
   "execution_count": 48,
   "metadata": {
    "execution": {
     "iopub.execute_input": "2024-09-07T03:15:32.003178Z",
     "iopub.status.busy": "2024-09-07T03:15:32.003178Z",
     "iopub.status.idle": "2024-09-07T03:15:32.218760Z",
     "shell.execute_reply": "2024-09-07T03:15:32.217743Z",
     "shell.execute_reply.started": "2024-09-07T03:15:32.003178Z"
    }
   },
   "outputs": [
    {
     "name": "stdout",
     "output_type": "stream",
     "text": [
      "Pelajar\n",
      "Mahasiswa\n",
      "PNS\n",
      "Swasta\n",
      "Wiraswasta\n",
      "Lainnya\n"
     ]
    }
   ],
   "source": [
    "for s in select.options:\n",
    "    print(s.text)"
   ]
  },
  {
   "cell_type": "markdown",
   "metadata": {},
   "source": [
    "<strong>Kata kunci:</strong> PYTHON SELENIUM SELECT LIST OPTIONS"
   ]
  },
  {
   "cell_type": "code",
   "execution_count": 50,
   "metadata": {
    "execution": {
     "iopub.execute_input": "2024-09-07T03:15:51.644076Z",
     "iopub.status.busy": "2024-09-07T03:15:51.643074Z",
     "iopub.status.idle": "2024-09-07T03:15:51.766075Z",
     "shell.execute_reply": "2024-09-07T03:15:51.765063Z",
     "shell.execute_reply.started": "2024-09-07T03:15:51.644076Z"
    }
   },
   "outputs": [],
   "source": [
    "select.select_by_visible_text('Pelajar')"
   ]
  },
  {
   "cell_type": "code",
   "execution_count": 51,
   "metadata": {
    "execution": {
     "iopub.execute_input": "2024-09-07T03:16:06.844868Z",
     "iopub.status.busy": "2024-09-07T03:16:06.844868Z",
     "iopub.status.idle": "2024-09-07T03:16:07.002877Z",
     "shell.execute_reply": "2024-09-07T03:16:07.001747Z",
     "shell.execute_reply.started": "2024-09-07T03:16:06.844868Z"
    }
   },
   "outputs": [],
   "source": [
    "select.select_by_index(2)"
   ]
  },
  {
   "cell_type": "code",
   "execution_count": 53,
   "metadata": {
    "execution": {
     "iopub.execute_input": "2024-09-07T03:16:25.541176Z",
     "iopub.status.busy": "2024-09-07T03:16:25.538671Z",
     "iopub.status.idle": "2024-09-07T03:16:25.711157Z",
     "shell.execute_reply": "2024-09-07T03:16:25.708628Z",
     "shell.execute_reply.started": "2024-09-07T03:16:25.541176Z"
    }
   },
   "outputs": [],
   "source": [
    "select.select_by_value('wiraswasta')"
   ]
  },
  {
   "cell_type": "markdown",
   "metadata": {},
   "source": [
    "## File (Pilih file untuk diunggah)"
   ]
  },
  {
   "cell_type": "code",
   "execution_count": 54,
   "metadata": {
    "execution": {
     "iopub.execute_input": "2024-09-07T03:16:57.676642Z",
     "iopub.status.busy": "2024-09-07T03:16:57.675646Z",
     "iopub.status.idle": "2024-09-07T03:16:57.762492Z",
     "shell.execute_reply": "2024-09-07T03:16:57.761481Z",
     "shell.execute_reply.started": "2024-09-07T03:16:57.676642Z"
    }
   },
   "outputs": [],
   "source": [
    "driver.find_element(By.XPATH, '//input[@type=\"file\"]').send_keys('D:\\\\OneDriveAanSubarkahOutlook\\\\OneDrive\\\\SekolahSabtuAuditor\\\\ssa\\\\WebScraping\\\\ini_json.json')"
   ]
  },
  {
   "cell_type": "code",
   "execution_count": 56,
   "metadata": {
    "execution": {
     "iopub.execute_input": "2024-09-07T03:17:50.511836Z",
     "iopub.status.busy": "2024-09-07T03:17:50.510797Z",
     "iopub.status.idle": "2024-09-07T03:17:50.612466Z",
     "shell.execute_reply": "2024-09-07T03:17:50.611455Z",
     "shell.execute_reply.started": "2024-09-07T03:17:50.511836Z"
    }
   },
   "outputs": [],
   "source": [
    "driver.find_element(By.XPATH, '//input[@type=\"file\"]').send_keys(os.getcwd()+'\\\\Webscraping.pptx')"
   ]
  },
  {
   "cell_type": "markdown",
   "metadata": {},
   "source": [
    "<strong>Kata kunci:</strong> PYTHON SELENIUM FILE UPLOAD"
   ]
  },
  {
   "cell_type": "markdown",
   "metadata": {},
   "source": [
    "## Submit (Mengirim isian formulir)"
   ]
  },
  {
   "cell_type": "code",
   "execution_count": 57,
   "metadata": {
    "execution": {
     "iopub.execute_input": "2024-09-07T03:18:32.848066Z",
     "iopub.status.busy": "2024-09-07T03:18:32.847068Z",
     "iopub.status.idle": "2024-09-07T03:18:34.577167Z",
     "shell.execute_reply": "2024-09-07T03:18:34.572159Z",
     "shell.execute_reply.started": "2024-09-07T03:18:32.848066Z"
    }
   },
   "outputs": [],
   "source": [
    "driver.find_element(By.XPATH, '//form').submit()"
   ]
  },
  {
   "cell_type": "markdown",
   "metadata": {},
   "source": [
    "<strong>Kata kunci:</strong> PYTHON SELENIUM FORM SUBMIT"
   ]
  },
  {
   "cell_type": "markdown",
   "metadata": {},
   "source": [
    "# Input Form Berkali-kali"
   ]
  },
  {
   "cell_type": "code",
   "execution_count": 59,
   "metadata": {
    "execution": {
     "iopub.execute_input": "2024-09-07T03:20:14.538789Z",
     "iopub.status.busy": "2024-09-07T03:20:14.537790Z",
     "iopub.status.idle": "2024-09-07T03:20:14.546858Z",
     "shell.execute_reply": "2024-09-07T03:20:14.545847Z",
     "shell.execute_reply.started": "2024-09-07T03:20:14.538789Z"
    }
   },
   "outputs": [],
   "source": [
    "data = [\n",
    "    {'nama': 'Nama 1', 'password': 'password1', 'tanggal_lahir': '01/01/2001', 'komentar': 'Komentar 1', 'gender': 'male', 'hobi': ['membaca', 'nonton'], 'job': 'Pelajar', 'foto': 'ini_dari_json.xlsx'},\n",
    "    {'nama': 'Nama 2', 'password': 'password2B', 'tanggal_lahir': '09/09/2000', 'komentar': 'Komentar B', 'gender': 'female', 'hobi': ['membaca'], 'job': 'Mahasiswa', 'foto': 'ini_dari_scrape_me.xlsx'},\n",
    "    {'nama': 'Nama 3', 'password': 'password3_C', 'tanggal_lahir': '01/10/2011', 'komentar': 'Komentar 3C', 'gender': 'other', 'hobi': ['membaca', 'tidur'], 'job': 'PNS', 'foto': 'ini_json.json'},\n",
    "    {'nama': 'Nama D', 'password': 'password4__D', 'tanggal_lahir': '08/08/2015', 'komentar': 'Komentar 4 Empat', 'gender': 'male', 'hobi': ['nonton'], 'job': 'Swasta', 'foto': 'ojk_form.html'},\n",
    "    {'nama': 'Nama E', 'password': 'password5LIMA', 'tanggal_lahir': '01/01/2021', 'komentar': 'Komentar Lima', 'gender': 'female', 'hobi': ['tidur'], 'job': 'Wiraswasta', 'foto': 'ojk.ipynb'},\n",
    "]"
   ]
  },
  {
   "cell_type": "code",
   "execution_count": 60,
   "metadata": {
    "execution": {
     "iopub.execute_input": "2024-09-07T03:20:30.263669Z",
     "iopub.status.busy": "2024-09-07T03:20:30.262666Z",
     "iopub.status.idle": "2024-09-07T03:20:58.407895Z",
     "shell.execute_reply": "2024-09-07T03:20:58.405879Z",
     "shell.execute_reply.started": "2024-09-07T03:20:30.263669Z"
    }
   },
   "outputs": [
    {
     "name": "stdout",
     "output_type": "stream",
     "text": [
      "Menginput: Nama 1\n",
      "Menginput: Nama 2\n",
      "Menginput: Nama 3\n",
      "Menginput: Nama D\n",
      "Menginput: Nama E\n"
     ]
    }
   ],
   "source": [
    "for d in data:\n",
    "    driver.find_element(By.XPATH, '//input[@name=\"name\"]').clear()\n",
    "    driver.find_element(By.XPATH, '//input[@name=\"name\"]').send_keys(d['nama'])\n",
    "\n",
    "    driver.find_element(By.XPATH, '//input[@type=\"password\"]').clear()\n",
    "    driver.find_element(By.XPATH, '//input[@type=\"password\"]').send_keys(d['password'])\n",
    "\n",
    "    driver.find_element(By.XPATH, '//input[@id=\"tanggal_lahir\"]').send_keys(d['tanggal_lahir'])\n",
    "\n",
    "    driver.find_element(By.XPATH, '//textarea').clear()\n",
    "    driver.find_element(By.XPATH, '//textarea').send_keys(d['komentar'])\n",
    "\n",
    "    xpath = '//input[@name=\"gender\" and @value=\\\"' + d['gender'] + '\\\"]'\n",
    "    driver.find_element(By.XPATH, xpath).click()\n",
    "    \n",
    "    for h in d['hobi']:\n",
    "        driver.find_element(By.XPATH, f'//input[@type=\"checkbox\" and @value=\"{h}\"]').click()\n",
    "\n",
    "    select = Select(driver.find_element(By.XPATH, '//select[@name=\"job\"]'))\n",
    "    select.select_by_visible_text(d['job'])\n",
    "\n",
    "    driver.find_element(By.XPATH, '//input[@type=\"file\"]').send_keys(os.getcwd()+'\\\\'+d['foto'])\n",
    "\n",
    "    driver.find_element(By.XPATH, '//input[@type=\"submit\"]').click()\n",
    "\n",
    "    print('Menginput:', d['nama'])\n",
    "    time.sleep(3)"
   ]
  },
  {
   "cell_type": "markdown",
   "metadata": {},
   "source": [
    "# Tutup Browser"
   ]
  },
  {
   "cell_type": "code",
   "execution_count": 61,
   "metadata": {
    "execution": {
     "iopub.execute_input": "2024-09-07T03:21:20.889619Z",
     "iopub.status.busy": "2024-09-07T03:21:20.888620Z",
     "iopub.status.idle": "2024-09-07T03:21:23.858170Z",
     "shell.execute_reply": "2024-09-07T03:21:23.856154Z",
     "shell.execute_reply.started": "2024-09-07T03:21:20.889619Z"
    }
   },
   "outputs": [],
   "source": [
    "driver.quit()"
   ]
  },
  {
   "cell_type": "markdown",
   "metadata": {},
   "source": [
    "<strong>Kata kunci:</strong> PYTHON SELENIUM QUIT"
   ]
  }
 ],
 "metadata": {
  "kernelspec": {
   "display_name": "Python 3 (ipykernel)",
   "language": "python",
   "name": "python3"
  },
  "language_info": {
   "codemirror_mode": {
    "name": "ipython",
    "version": 3
   },
   "file_extension": ".py",
   "mimetype": "text/x-python",
   "name": "python",
   "nbconvert_exporter": "python",
   "pygments_lexer": "ipython3",
   "version": "3.12.2"
  }
 },
 "nbformat": 4,
 "nbformat_minor": 4
}
