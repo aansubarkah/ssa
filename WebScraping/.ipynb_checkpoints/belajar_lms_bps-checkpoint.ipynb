{
 "cells": [
  {
   "cell_type": "code",
   "execution_count": 1,
   "id": "11d51fbd-b04e-40ec-8933-4817d6b3338c",
   "metadata": {
    "execution": {
     "iopub.execute_input": "2024-09-07T04:38:09.007938Z",
     "iopub.status.busy": "2024-09-07T04:38:09.006943Z",
     "iopub.status.idle": "2024-09-07T04:38:09.017359Z",
     "shell.execute_reply": "2024-09-07T04:38:09.015346Z",
     "shell.execute_reply.started": "2024-09-07T04:38:09.006943Z"
    }
   },
   "outputs": [
    {
     "name": "stdout",
     "output_type": "stream",
     "text": [
      "Hello, World!\n"
     ]
    }
   ],
   "source": [
    "# Python\n",
    "print(\"Hello, World!\")"
   ]
  },
  {
   "cell_type": "code",
   "execution_count": 2,
   "id": "25fbce35-9993-4d71-b801-51ac4cc674ff",
   "metadata": {
    "execution": {
     "iopub.execute_input": "2024-09-07T04:38:19.248005Z",
     "iopub.status.busy": "2024-09-07T04:38:19.247008Z",
     "iopub.status.idle": "2024-09-07T04:38:19.259001Z",
     "shell.execute_reply": "2024-09-07T04:38:19.255992Z",
     "shell.execute_reply.started": "2024-09-07T04:38:19.248005Z"
    }
   },
   "outputs": [
    {
     "name": "stdout",
     "output_type": "stream",
     "text": [
      "Hai, saya menulis kode\n"
     ]
    }
   ],
   "source": [
    "print(\"Hai, saya menulis kode\") #ini contoh comment"
   ]
  },
  {
   "cell_type": "code",
   "execution_count": 3,
   "id": "308dd10c-c5c3-471c-864e-e87311fef305",
   "metadata": {
    "execution": {
     "iopub.execute_input": "2024-09-07T04:38:29.944819Z",
     "iopub.status.busy": "2024-09-07T04:38:29.943822Z",
     "iopub.status.idle": "2024-09-07T04:38:29.958405Z",
     "shell.execute_reply": "2024-09-07T04:38:29.956385Z",
     "shell.execute_reply.started": "2024-09-07T04:38:29.944819Z"
    }
   },
   "outputs": [
    {
     "name": "stdout",
     "output_type": "stream",
     "text": [
      "<class 'int'>\n",
      "<class 'str'>\n",
      "<class 'float'>\n"
     ]
    }
   ],
   "source": [
    "angka = 23\n",
    "teks = \"Hello\"\n",
    "desimal = 3.14\n",
    "\n",
    "print(type(angka))   # Output: <class 'int'>\n",
    "print(type(teks))    # Output: <class 'str'>\n",
    "print(type(desimal)) # Output: <class 'float'>"
   ]
  },
  {
   "cell_type": "code",
   "execution_count": 7,
   "id": "75eed750-4b02-4ed7-8bbe-d1c87f47c2ef",
   "metadata": {
    "execution": {
     "iopub.execute_input": "2024-09-07T04:39:33.446739Z",
     "iopub.status.busy": "2024-09-07T04:39:33.445742Z",
     "iopub.status.idle": "2024-09-07T04:39:33.462365Z",
     "shell.execute_reply": "2024-09-07T04:39:33.459230Z",
     "shell.execute_reply.started": "2024-09-07T04:39:33.446739Z"
    }
   },
   "outputs": [
    {
     "name": "stdout",
     "output_type": "stream",
     "text": [
      "2\n",
      "3\n",
      "4\n",
      "5\n",
      "6\n",
      "7\n"
     ]
    }
   ],
   "source": [
    "for i in range(2, 8):\n",
    "    print(i)\n",
    "\n"
   ]
  },
  {
   "cell_type": "code",
   "execution_count": null,
   "id": "dc18d7a4-a2a6-42fa-ae8c-05ad1caa1422",
   "metadata": {},
   "outputs": [],
   "source": []
  }
 ],
 "metadata": {
  "kernelspec": {
   "display_name": "Python 3 (ipykernel)",
   "language": "python",
   "name": "python3"
  },
  "language_info": {
   "codemirror_mode": {
    "name": "ipython",
    "version": 3
   },
   "file_extension": ".py",
   "mimetype": "text/x-python",
   "name": "python",
   "nbconvert_exporter": "python",
   "pygments_lexer": "ipython3",
   "version": "3.12.2"
  }
 },
 "nbformat": 4,
 "nbformat_minor": 5
}
