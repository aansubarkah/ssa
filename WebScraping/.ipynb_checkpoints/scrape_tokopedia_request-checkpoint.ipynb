{
 "cells": [
  {
   "cell_type": "markdown",
   "metadata": {},
   "source": [
    "# Libraries"
   ]
  },
  {
   "cell_type": "code",
   "execution_count": 1,
   "metadata": {
    "execution": {
     "iopub.execute_input": "2024-09-14T03:38:14.258535Z",
     "iopub.status.busy": "2024-09-14T03:38:14.257537Z",
     "iopub.status.idle": "2024-09-14T03:38:17.329171Z",
     "shell.execute_reply": "2024-09-14T03:38:17.328157Z",
     "shell.execute_reply.started": "2024-09-14T03:38:14.258535Z"
    }
   },
   "outputs": [],
   "source": [
    "import json, requests, os, re, math, glob\n",
    "import pandas as pd\n",
    "\n",
    "from tqdm.notebook import tqdm"
   ]
  },
  {
   "cell_type": "markdown",
   "metadata": {},
   "source": [
    "# URL"
   ]
  },
  {
   "cell_type": "code",
   "execution_count": 2,
   "metadata": {
    "execution": {
     "iopub.execute_input": "2024-09-14T03:38:17.340726Z",
     "iopub.status.busy": "2024-09-14T03:38:17.339706Z",
     "iopub.status.idle": "2024-09-14T03:38:17.349258Z",
     "shell.execute_reply": "2024-09-14T03:38:17.347234Z",
     "shell.execute_reply.started": "2024-09-14T03:38:17.340726Z"
    }
   },
   "outputs": [],
   "source": [
    "base_url = 'https://www.tokopedia.com'\n",
    "first_url = 'https://www.tokopedia.com/find/kulkas-2-pintu'"
   ]
  },
  {
   "cell_type": "markdown",
   "metadata": {},
   "source": [
    "# Parameter"
   ]
  },
  {
   "cell_type": "code",
   "execution_count": 3,
   "metadata": {
    "execution": {
     "iopub.execute_input": "2024-09-14T03:38:17.364830Z",
     "iopub.status.busy": "2024-09-14T03:38:17.363834Z",
     "iopub.status.idle": "2024-09-14T03:38:17.375635Z",
     "shell.execute_reply": "2024-09-14T03:38:17.372587Z",
     "shell.execute_reply.started": "2024-09-14T03:38:17.364830Z"
    }
   },
   "outputs": [],
   "source": [
    "ROWS = 200 # jumlah maksimal data yang disediakan API Endpoint\n",
    "PAGES = 0"
   ]
  },
  {
   "cell_type": "markdown",
   "metadata": {},
   "source": [
    "# Buka Requests"
   ]
  },
  {
   "cell_type": "code",
   "execution_count": 10,
   "metadata": {
    "execution": {
     "iopub.execute_input": "2024-09-14T03:39:59.411103Z",
     "iopub.status.busy": "2024-09-14T03:39:59.409107Z",
     "iopub.status.idle": "2024-09-14T03:39:59.422338Z",
     "shell.execute_reply": "2024-09-14T03:39:59.419804Z",
     "shell.execute_reply.started": "2024-09-14T03:39:59.411103Z"
    }
   },
   "outputs": [],
   "source": [
    "S = requests.Session()\n",
    "#r = requests.get('tokopedia.com')"
   ]
  },
  {
   "cell_type": "markdown",
   "metadata": {},
   "source": [
    "# Buka 1 Halaman"
   ]
  },
  {
   "cell_type": "code",
   "execution_count": 33,
   "metadata": {
    "execution": {
     "iopub.execute_input": "2024-09-14T03:42:58.493050Z",
     "iopub.status.busy": "2024-09-14T03:42:58.492537Z",
     "iopub.status.idle": "2024-09-14T03:42:58.501733Z",
     "shell.execute_reply": "2024-09-14T03:42:58.499721Z",
     "shell.execute_reply.started": "2024-09-14T03:42:58.493050Z"
    }
   },
   "outputs": [],
   "source": [
    "base_headers = {\n",
    "    'User-Agent': 'Mozilla/5.0 (Windows NT 10.0; Win64; x64; rv:130.0) Gecko/20100101 Firefox/130.0',\n",
    "}"
   ]
  },
  {
   "cell_type": "code",
   "execution_count": 34,
   "metadata": {
    "execution": {
     "iopub.execute_input": "2024-09-14T03:42:58.674388Z",
     "iopub.status.busy": "2024-09-14T03:42:58.672362Z",
     "iopub.status.idle": "2024-09-14T03:42:58.685552Z",
     "shell.execute_reply": "2024-09-14T03:42:58.681997Z",
     "shell.execute_reply.started": "2024-09-14T03:42:58.674388Z"
    }
   },
   "outputs": [],
   "source": [
    "#S = requests.Session()\n",
    "#r1 = requests.get('https://www.tokopedia.com', headers=base_headers)"
   ]
  },
  {
   "cell_type": "code",
   "execution_count": 35,
   "metadata": {
    "execution": {
     "iopub.execute_input": "2024-09-14T03:42:58.863783Z",
     "iopub.status.busy": "2024-09-14T03:42:58.863783Z",
     "iopub.status.idle": "2024-09-14T03:42:58.872506Z",
     "shell.execute_reply": "2024-09-14T03:42:58.869495Z",
     "shell.execute_reply.started": "2024-09-14T03:42:58.863783Z"
    }
   },
   "outputs": [],
   "source": [
    "#r1.text"
   ]
  },
  {
   "cell_type": "code",
   "execution_count": 36,
   "metadata": {
    "execution": {
     "iopub.execute_input": "2024-09-14T03:42:59.004180Z",
     "iopub.status.busy": "2024-09-14T03:42:59.003159Z",
     "iopub.status.idle": "2024-09-14T03:42:59.783968Z",
     "shell.execute_reply": "2024-09-14T03:42:59.781367Z",
     "shell.execute_reply.started": "2024-09-14T03:42:59.004180Z"
    }
   },
   "outputs": [],
   "source": [
    "r = S.get(first_url, headers=base_headers)\n",
    "#r = requests.Session().get(first_url, headers=base_headers)"
   ]
  },
  {
   "cell_type": "code",
   "execution_count": 37,
   "metadata": {
    "execution": {
     "iopub.execute_input": "2024-09-14T03:42:59.792553Z",
     "iopub.status.busy": "2024-09-14T03:42:59.789990Z",
     "iopub.status.idle": "2024-09-14T03:42:59.805205Z",
     "shell.execute_reply": "2024-09-14T03:42:59.801639Z",
     "shell.execute_reply.started": "2024-09-14T03:42:59.790990Z"
    }
   },
   "outputs": [],
   "source": [
    "#r.text"
   ]
  },
  {
   "cell_type": "markdown",
   "metadata": {},
   "source": [
    "# Dapatkan Parameter Dibutuhkan oleh API Endpoint"
   ]
  },
  {
   "cell_type": "code",
   "execution_count": 38,
   "metadata": {
    "execution": {
     "iopub.execute_input": "2024-09-14T03:42:59.813782Z",
     "iopub.status.busy": "2024-09-14T03:42:59.810191Z",
     "iopub.status.idle": "2024-09-14T03:42:59.827312Z",
     "shell.execute_reply": "2024-09-14T03:42:59.823284Z",
     "shell.execute_reply.started": "2024-09-14T03:42:59.812720Z"
    }
   },
   "outputs": [],
   "source": [
    "pattern = r'window\\.__cache={(.*?)};'"
   ]
  },
  {
   "cell_type": "code",
   "execution_count": 39,
   "metadata": {
    "execution": {
     "iopub.execute_input": "2024-09-14T03:42:59.834862Z",
     "iopub.status.busy": "2024-09-14T03:42:59.832812Z",
     "iopub.status.idle": "2024-09-14T03:42:59.923266Z",
     "shell.execute_reply": "2024-09-14T03:42:59.919736Z",
     "shell.execute_reply.started": "2024-09-14T03:42:59.834862Z"
    }
   },
   "outputs": [],
   "source": [
    "matches = re.findall(pattern, r.text, re.DOTALL)"
   ]
  },
  {
   "cell_type": "code",
   "execution_count": 40,
   "metadata": {
    "execution": {
     "iopub.execute_input": "2024-09-14T03:42:59.960185Z",
     "iopub.status.busy": "2024-09-14T03:42:59.958189Z",
     "iopub.status.idle": "2024-09-14T03:42:59.974086Z",
     "shell.execute_reply": "2024-09-14T03:42:59.970509Z",
     "shell.execute_reply.started": "2024-09-14T03:42:59.959187Z"
    }
   },
   "outputs": [],
   "source": [
    "#matches"
   ]
  },
  {
   "cell_type": "code",
   "execution_count": 41,
   "metadata": {
    "execution": {
     "iopub.execute_input": "2024-09-14T03:43:00.131390Z",
     "iopub.status.busy": "2024-09-14T03:43:00.130392Z",
     "iopub.status.idle": "2024-09-14T03:43:00.141467Z",
     "shell.execute_reply": "2024-09-14T03:43:00.139452Z",
     "shell.execute_reply.started": "2024-09-14T03:43:00.131390Z"
    }
   },
   "outputs": [],
   "source": [
    "matches = '{' + matches[0] + '}'"
   ]
  },
  {
   "cell_type": "code",
   "execution_count": 42,
   "metadata": {
    "execution": {
     "iopub.execute_input": "2024-09-14T03:43:00.265588Z",
     "iopub.status.busy": "2024-09-14T03:43:00.262530Z",
     "iopub.status.idle": "2024-09-14T03:43:00.309923Z",
     "shell.execute_reply": "2024-09-14T03:43:00.304907Z",
     "shell.execute_reply.started": "2024-09-14T03:43:00.265588Z"
    }
   },
   "outputs": [],
   "source": [
    "m = json.loads(matches)"
   ]
  },
  {
   "cell_type": "code",
   "execution_count": 43,
   "metadata": {
    "execution": {
     "iopub.execute_input": "2024-09-14T03:43:00.405804Z",
     "iopub.status.busy": "2024-09-14T03:43:00.405804Z",
     "iopub.status.idle": "2024-09-14T03:43:00.420830Z",
     "shell.execute_reply": "2024-09-14T03:43:00.419813Z",
     "shell.execute_reply.started": "2024-09-14T03:43:00.405804Z"
    }
   },
   "outputs": [
    {
     "data": {
      "text/plain": [
       "{'isAuthenticatedV2': '',\n",
       " 'trending_keywords': {'type': 'id',\n",
       "  'generated': True,\n",
       "  'id': '$ROOT_QUERY.trending_keywords',\n",
       "  'typename': 'TrendingKeywords'},\n",
       " 'findInfo({\"params\":\"alias=kulkas-2-pintu\"})': {'type': 'id',\n",
       "  'generated': True,\n",
       "  'id': '$ROOT_QUERY.findInfo({\"params\":\"alias=kulkas-2-pintu\"})',\n",
       "  'typename': 'FindInfoData'},\n",
       " 'RolloutFeatureVariants({\"client_id\":4,\"id\":\"d072cf4baaa9527f7d056840a8cc633e\",\"iris_session_id\":\"\",\"rev\":0})': {'type': 'id',\n",
       "  'generated': True,\n",
       "  'id': '$ROOT_QUERY.RolloutFeatureVariants({\"client_id\":4,\"id\":\"d072cf4baaa9527f7d056840a8cc633e\",\"iris_session_id\":\"\",\"rev\":0})',\n",
       "  'typename': 'RolloutFeatureVariantsResponse'},\n",
       " 'filter_sort_product({\"params\":\"q=kulkas+2+pintu&source=search_product\"})': {'type': 'id',\n",
       "  'generated': True,\n",
       "  'id': '$ROOT_QUERY.filter_sort_product({\"params\":\"q=kulkas+2+pintu&source=search_product\"})',\n",
       "  'typename': 'DynamicAttributeType'},\n",
       " 'searchProductV5({\"params\":\"device=desktop&fcity=&l_name=sre&ob=23&page=1&q=kulkas%202%20pintu&related=true&rows=60&safe_search=false&scheme=https&source=search&st=product&start=0&unique_id=d072cf4baaa9527f7d056840a8cc633e&user_addressId=&user_cityId=176&user_districtId=2274&user_lat=&user_long=&user_postCode=\"})': {'type': 'id',\n",
       "  'generated': True,\n",
       "  'id': '$ROOT_QUERY.searchProductV5({\"params\":\"device=desktop&fcity=&l_name=sre&ob=23&page=1&q=kulkas%202%20pintu&related=true&rows=60&safe_search=false&scheme=https&source=search&st=product&start=0&unique_id=d072cf4baaa9527f7d056840a8cc633e&user_addressId=&user_cityId=176&user_districtId=2274&user_lat=&user_long=&user_postCode=\"})',\n",
       "  'typename': 'SearchProductV5Response'},\n",
       " 'displayAdsV3({\"displayParams\":\"device=desktop&ep=product&fcity=&item=20&l_name=sre&minimum_item=10&ob=23&page=1&q=kulkas%202%20pintu&src=find&st=product\"})': {'type': 'id',\n",
       "  'generated': True,\n",
       "  'id': '$ROOT_QUERY.displayAdsV3({\"displayParams\":\"device=desktop&ep=product&fcity=&item=20&l_name=sre&minimum_item=10&ob=23&page=1&q=kulkas%202%20pintu&src=find&st=product\"})',\n",
       "  'typename': 'DisplayAdsV3'}}"
      ]
     },
     "execution_count": 43,
     "metadata": {},
     "output_type": "execute_result"
    }
   ],
   "source": [
    "m['ROOT_QUERY']"
   ]
  },
  {
   "cell_type": "code",
   "execution_count": 44,
   "metadata": {
    "execution": {
     "iopub.execute_input": "2024-09-14T03:43:00.590963Z",
     "iopub.status.busy": "2024-09-14T03:43:00.589963Z",
     "iopub.status.idle": "2024-09-14T03:43:00.602986Z",
     "shell.execute_reply": "2024-09-14T03:43:00.601473Z",
     "shell.execute_reply.started": "2024-09-14T03:43:00.590963Z"
    }
   },
   "outputs": [],
   "source": [
    "rollout_ = ''\n",
    "iris_ = ''\n",
    "params_ = ''\n",
    "adparams_ = ''\n",
    "for key, value in m['ROOT_QUERY'].items():\n",
    "    if 'RolloutFeature' in key:\n",
    "        rollout_ = key\n",
    "        iris_ = rollout_.split('iris_session_id\":\"')[1].split('\",\"')[0]\n",
    "\n",
    "    if'searchProductV5' in key:\n",
    "        params_ = key.replace('searchProductV5({\"params\":\"', '').replace('\"})', '').replace('q=kulkas%202%20pintu', 'q=ac%201%20pk')\n",
    "        \n",
    "\n",
    "    if 'displayAdsV3' in key:\n",
    "        adparams_ = key.replace('displayAdsV3({\"displayParams\":\"', '').replace('\"})', '').replace('q=kulkas%202%20pintu', 'q=ac%201%20pk')"
   ]
  },
  {
   "cell_type": "code",
   "execution_count": 45,
   "metadata": {
    "execution": {
     "iopub.execute_input": "2024-09-14T03:43:00.746583Z",
     "iopub.status.busy": "2024-09-14T03:43:00.745586Z",
     "iopub.status.idle": "2024-09-14T03:43:00.763799Z",
     "shell.execute_reply": "2024-09-14T03:43:00.760222Z",
     "shell.execute_reply.started": "2024-09-14T03:43:00.746583Z"
    }
   },
   "outputs": [
    {
     "data": {
      "text/plain": [
       "''"
      ]
     },
     "execution_count": 45,
     "metadata": {},
     "output_type": "execute_result"
    }
   ],
   "source": [
    "iris_"
   ]
  },
  {
   "cell_type": "code",
   "execution_count": 46,
   "metadata": {
    "execution": {
     "iopub.execute_input": "2024-09-14T03:43:00.879870Z",
     "iopub.status.busy": "2024-09-14T03:43:00.878875Z",
     "iopub.status.idle": "2024-09-14T03:43:00.894134Z",
     "shell.execute_reply": "2024-09-14T03:43:00.890587Z",
     "shell.execute_reply.started": "2024-09-14T03:43:00.879870Z"
    }
   },
   "outputs": [
    {
     "data": {
      "text/plain": [
       "'RolloutFeatureVariants({\"client_id\":4,\"id\":\"d072cf4baaa9527f7d056840a8cc633e\",\"iris_session_id\":\"\",\"rev\":0})'"
      ]
     },
     "execution_count": 46,
     "metadata": {},
     "output_type": "execute_result"
    }
   ],
   "source": [
    "rollout_"
   ]
  },
  {
   "cell_type": "code",
   "execution_count": 47,
   "metadata": {
    "execution": {
     "iopub.execute_input": "2024-09-14T03:43:01.010845Z",
     "iopub.status.busy": "2024-09-14T03:43:01.008854Z",
     "iopub.status.idle": "2024-09-14T03:43:01.024912Z",
     "shell.execute_reply": "2024-09-14T03:43:01.022892Z",
     "shell.execute_reply.started": "2024-09-14T03:43:01.010845Z"
    }
   },
   "outputs": [
    {
     "data": {
      "text/plain": [
       "'device=desktop&fcity=&l_name=sre&ob=23&page=1&q=ac%201%20pk&related=true&rows=60&safe_search=false&scheme=https&source=search&st=product&start=0&unique_id=d072cf4baaa9527f7d056840a8cc633e&user_addressId=&user_cityId=176&user_districtId=2274&user_lat=&user_long=&user_postCode='"
      ]
     },
     "execution_count": 47,
     "metadata": {},
     "output_type": "execute_result"
    }
   ],
   "source": [
    "params_"
   ]
  },
  {
   "cell_type": "code",
   "execution_count": 48,
   "metadata": {
    "execution": {
     "iopub.execute_input": "2024-09-14T03:43:01.434818Z",
     "iopub.status.busy": "2024-09-14T03:43:01.432774Z",
     "iopub.status.idle": "2024-09-14T03:43:01.447689Z",
     "shell.execute_reply": "2024-09-14T03:43:01.444674Z",
     "shell.execute_reply.started": "2024-09-14T03:43:01.433812Z"
    }
   },
   "outputs": [
    {
     "data": {
      "text/plain": [
       "'device=desktop&ep=product&fcity=&item=20&l_name=sre&minimum_item=10&ob=23&page=1&q=ac%201%20pk&src=find&st=product'"
      ]
     },
     "execution_count": 48,
     "metadata": {},
     "output_type": "execute_result"
    }
   ],
   "source": [
    "adparams_"
   ]
  },
  {
   "cell_type": "markdown",
   "metadata": {},
   "source": [
    "# Data untuk dikirimkan ke API Endpoint"
   ]
  },
  {
   "cell_type": "code",
   "execution_count": 49,
   "metadata": {
    "execution": {
     "iopub.execute_input": "2024-09-14T03:43:01.807228Z",
     "iopub.status.busy": "2024-09-14T03:43:01.805234Z",
     "iopub.status.idle": "2024-09-14T03:43:01.823683Z",
     "shell.execute_reply": "2024-09-14T03:43:01.821122Z",
     "shell.execute_reply.started": "2024-09-14T03:43:01.807228Z"
    }
   },
   "outputs": [],
   "source": [
    "data_pre = [{\"operationName\":\"SearchProductQueryV5\",\"query\":\"query SearchProductQueryV5($params: String!, $adParams: String!) {\\n  organic: searchProductV5(params: $params) {\\n    header {\\n      totalData\\n      responseCode\\n      keywordProcess\\n      keywordIntention\\n      componentID\\n      isQuerySafe\\n      additionalParams\\n      backendFilters\\n      __typename\\n    }\\n    data {\\n      totalDataText\\n      related {\\n        relatedKeyword\\n        position\\n        trackingOption\\n        otherRelated {\\n          keyword\\n          url\\n          componentID\\n          products {\\n            id\\n            name\\n            url\\n            applink\\n            mediaURL {\\n              image\\n              __typename\\n            }\\n            shop {\\n              id\\n              name\\n              city\\n              tier\\n              __typename\\n            }\\n            badge {\\n              id\\n              title\\n              url\\n              __typename\\n            }\\n            price {\\n              text\\n              number\\n              __typename\\n            }\\n            freeShipping {\\n              url\\n              __typename\\n            }\\n            labelGroups {\\n              position\\n              title\\n              type\\n              url\\n              styles {\\n                key\\n                value\\n                __typename\\n              }\\n              __typename\\n            }\\n            rating\\n            wishlist\\n            ads {\\n              id\\n              productClickURL\\n              productViewURL\\n              productWishlistURL\\n              tag\\n              __typename\\n            }\\n            meta {\\n              warehouseID\\n              componentID\\n              __typename\\n            }\\n            __typename\\n          }\\n          __typename\\n        }\\n        __typename\\n      }\\n      suggestion {\\n        currentKeyword\\n        suggestion\\n        query\\n        text\\n        componentID\\n        trackingOption\\n        __typename\\n      }\\n      products {\\n        id\\n        name\\n        url\\n        applink\\n        mediaURL {\\n          image\\n          image300\\n          videoCustom\\n          __typename\\n        }\\n        shop {\\n          id\\n          name\\n          url\\n          city\\n          tier\\n          __typename\\n        }\\n        badge {\\n          id\\n          title\\n          url\\n          __typename\\n        }\\n        price {\\n          text\\n          number\\n          range\\n          original\\n          discountPercentage\\n          __typename\\n        }\\n        freeShipping {\\n          url\\n          __typename\\n        }\\n        labelGroups {\\n          position\\n          title\\n          type\\n          url\\n          styles {\\n            key\\n            value\\n            __typename\\n          }\\n          __typename\\n        }\\n        category {\\n          id\\n          name\\n          breadcrumb\\n          gaKey\\n          __typename\\n        }\\n        rating\\n        wishlist\\n        ads {\\n          id\\n          productClickURL\\n          productViewURL\\n          productWishlistURL\\n          tag\\n          __typename\\n        }\\n        meta {\\n          countReview\\n          parentID\\n          warehouseID\\n          isImageBlurred\\n          isPortrait\\n          __typename\\n        }\\n        __typename\\n      }\\n      __typename\\n    }\\n    __typename\\n  }\\n  topads: displayAdsV3(displayParams: $adParams) {\\n    data {\\n      id\\n      productClickURL: product_click_url\\n      product {\\n        id\\n        name\\n        wishlist\\n        image {\\n          imageURL: s_ecs\\n          viewTrackURL: s_url\\n          __typename\\n        }\\n        url: uri\\n        price: price_format\\n        rating: product_rating\\n        ratingAverage: product_rating_format\\n        countReview: count_review_format\\n        labelGroups: label_group {\\n          position\\n          title\\n          type\\n          url\\n          style {\\n            key\\n            value\\n            __typename\\n          }\\n          __typename\\n        }\\n        campaign {\\n          discountPercentage: discount_percentage\\n          originalPrice: original_price\\n          __typename\\n        }\\n        category_breadcrumb\\n        __typename\\n      }\\n      shop {\\n        id\\n        name\\n        uri\\n        location\\n        goldmerchant: gold_shop\\n        official: shop_is_official\\n        badges {\\n          title\\n          imageURL: image_url\\n          show\\n          __typename\\n        }\\n        __typename\\n      }\\n      __typename\\n    }\\n    __typename\\n  }\\n}\\n\"}]"
   ]
  },
  {
   "cell_type": "code",
   "execution_count": 50,
   "metadata": {
    "execution": {
     "iopub.execute_input": "2024-09-14T03:43:02.006487Z",
     "iopub.status.busy": "2024-09-14T03:43:02.005491Z",
     "iopub.status.idle": "2024-09-14T03:43:02.027058Z",
     "shell.execute_reply": "2024-09-14T03:43:02.024014Z",
     "shell.execute_reply.started": "2024-09-14T03:43:02.006487Z"
    }
   },
   "outputs": [
    {
     "data": {
      "text/plain": [
       "[{'operationName': 'SearchProductQueryV5',\n",
       "  'query': 'query SearchProductQueryV5($params: String!, $adParams: String!) {\\n  organic: searchProductV5(params: $params) {\\n    header {\\n      totalData\\n      responseCode\\n      keywordProcess\\n      keywordIntention\\n      componentID\\n      isQuerySafe\\n      additionalParams\\n      backendFilters\\n      __typename\\n    }\\n    data {\\n      totalDataText\\n      related {\\n        relatedKeyword\\n        position\\n        trackingOption\\n        otherRelated {\\n          keyword\\n          url\\n          componentID\\n          products {\\n            id\\n            name\\n            url\\n            applink\\n            mediaURL {\\n              image\\n              __typename\\n            }\\n            shop {\\n              id\\n              name\\n              city\\n              tier\\n              __typename\\n            }\\n            badge {\\n              id\\n              title\\n              url\\n              __typename\\n            }\\n            price {\\n              text\\n              number\\n              __typename\\n            }\\n            freeShipping {\\n              url\\n              __typename\\n            }\\n            labelGroups {\\n              position\\n              title\\n              type\\n              url\\n              styles {\\n                key\\n                value\\n                __typename\\n              }\\n              __typename\\n            }\\n            rating\\n            wishlist\\n            ads {\\n              id\\n              productClickURL\\n              productViewURL\\n              productWishlistURL\\n              tag\\n              __typename\\n            }\\n            meta {\\n              warehouseID\\n              componentID\\n              __typename\\n            }\\n            __typename\\n          }\\n          __typename\\n        }\\n        __typename\\n      }\\n      suggestion {\\n        currentKeyword\\n        suggestion\\n        query\\n        text\\n        componentID\\n        trackingOption\\n        __typename\\n      }\\n      products {\\n        id\\n        name\\n        url\\n        applink\\n        mediaURL {\\n          image\\n          image300\\n          videoCustom\\n          __typename\\n        }\\n        shop {\\n          id\\n          name\\n          url\\n          city\\n          tier\\n          __typename\\n        }\\n        badge {\\n          id\\n          title\\n          url\\n          __typename\\n        }\\n        price {\\n          text\\n          number\\n          range\\n          original\\n          discountPercentage\\n          __typename\\n        }\\n        freeShipping {\\n          url\\n          __typename\\n        }\\n        labelGroups {\\n          position\\n          title\\n          type\\n          url\\n          styles {\\n            key\\n            value\\n            __typename\\n          }\\n          __typename\\n        }\\n        category {\\n          id\\n          name\\n          breadcrumb\\n          gaKey\\n          __typename\\n        }\\n        rating\\n        wishlist\\n        ads {\\n          id\\n          productClickURL\\n          productViewURL\\n          productWishlistURL\\n          tag\\n          __typename\\n        }\\n        meta {\\n          countReview\\n          parentID\\n          warehouseID\\n          isImageBlurred\\n          isPortrait\\n          __typename\\n        }\\n        __typename\\n      }\\n      __typename\\n    }\\n    __typename\\n  }\\n  topads: displayAdsV3(displayParams: $adParams) {\\n    data {\\n      id\\n      productClickURL: product_click_url\\n      product {\\n        id\\n        name\\n        wishlist\\n        image {\\n          imageURL: s_ecs\\n          viewTrackURL: s_url\\n          __typename\\n        }\\n        url: uri\\n        price: price_format\\n        rating: product_rating\\n        ratingAverage: product_rating_format\\n        countReview: count_review_format\\n        labelGroups: label_group {\\n          position\\n          title\\n          type\\n          url\\n          style {\\n            key\\n            value\\n            __typename\\n          }\\n          __typename\\n        }\\n        campaign {\\n          discountPercentage: discount_percentage\\n          originalPrice: original_price\\n          __typename\\n        }\\n        category_breadcrumb\\n        __typename\\n      }\\n      shop {\\n        id\\n        name\\n        uri\\n        location\\n        goldmerchant: gold_shop\\n        official: shop_is_official\\n        badges {\\n          title\\n          imageURL: image_url\\n          show\\n          __typename\\n        }\\n        __typename\\n      }\\n      __typename\\n    }\\n    __typename\\n  }\\n}\\n'}]"
      ]
     },
     "execution_count": 50,
     "metadata": {},
     "output_type": "execute_result"
    }
   ],
   "source": [
    "data_pre"
   ]
  },
  {
   "cell_type": "code",
   "execution_count": 51,
   "metadata": {
    "execution": {
     "iopub.execute_input": "2024-09-14T03:43:02.183649Z",
     "iopub.status.busy": "2024-09-14T03:43:02.180965Z",
     "iopub.status.idle": "2024-09-14T03:43:02.197823Z",
     "shell.execute_reply": "2024-09-14T03:43:02.192778Z",
     "shell.execute_reply.started": "2024-09-14T03:43:02.183649Z"
    }
   },
   "outputs": [],
   "source": [
    "data = data_pre.copy()\n",
    "data[0]['variables'] = {\"params\":params_,\"adParams\":adparams_}"
   ]
  },
  {
   "cell_type": "code",
   "execution_count": 52,
   "metadata": {
    "execution": {
     "iopub.execute_input": "2024-09-14T03:43:02.384105Z",
     "iopub.status.busy": "2024-09-14T03:43:02.383099Z",
     "iopub.status.idle": "2024-09-14T03:43:02.403521Z",
     "shell.execute_reply": "2024-09-14T03:43:02.400967Z",
     "shell.execute_reply.started": "2024-09-14T03:43:02.384105Z"
    }
   },
   "outputs": [
    {
     "data": {
      "text/plain": [
       "[{'operationName': 'SearchProductQueryV5',\n",
       "  'query': 'query SearchProductQueryV5($params: String!, $adParams: String!) {\\n  organic: searchProductV5(params: $params) {\\n    header {\\n      totalData\\n      responseCode\\n      keywordProcess\\n      keywordIntention\\n      componentID\\n      isQuerySafe\\n      additionalParams\\n      backendFilters\\n      __typename\\n    }\\n    data {\\n      totalDataText\\n      related {\\n        relatedKeyword\\n        position\\n        trackingOption\\n        otherRelated {\\n          keyword\\n          url\\n          componentID\\n          products {\\n            id\\n            name\\n            url\\n            applink\\n            mediaURL {\\n              image\\n              __typename\\n            }\\n            shop {\\n              id\\n              name\\n              city\\n              tier\\n              __typename\\n            }\\n            badge {\\n              id\\n              title\\n              url\\n              __typename\\n            }\\n            price {\\n              text\\n              number\\n              __typename\\n            }\\n            freeShipping {\\n              url\\n              __typename\\n            }\\n            labelGroups {\\n              position\\n              title\\n              type\\n              url\\n              styles {\\n                key\\n                value\\n                __typename\\n              }\\n              __typename\\n            }\\n            rating\\n            wishlist\\n            ads {\\n              id\\n              productClickURL\\n              productViewURL\\n              productWishlistURL\\n              tag\\n              __typename\\n            }\\n            meta {\\n              warehouseID\\n              componentID\\n              __typename\\n            }\\n            __typename\\n          }\\n          __typename\\n        }\\n        __typename\\n      }\\n      suggestion {\\n        currentKeyword\\n        suggestion\\n        query\\n        text\\n        componentID\\n        trackingOption\\n        __typename\\n      }\\n      products {\\n        id\\n        name\\n        url\\n        applink\\n        mediaURL {\\n          image\\n          image300\\n          videoCustom\\n          __typename\\n        }\\n        shop {\\n          id\\n          name\\n          url\\n          city\\n          tier\\n          __typename\\n        }\\n        badge {\\n          id\\n          title\\n          url\\n          __typename\\n        }\\n        price {\\n          text\\n          number\\n          range\\n          original\\n          discountPercentage\\n          __typename\\n        }\\n        freeShipping {\\n          url\\n          __typename\\n        }\\n        labelGroups {\\n          position\\n          title\\n          type\\n          url\\n          styles {\\n            key\\n            value\\n            __typename\\n          }\\n          __typename\\n        }\\n        category {\\n          id\\n          name\\n          breadcrumb\\n          gaKey\\n          __typename\\n        }\\n        rating\\n        wishlist\\n        ads {\\n          id\\n          productClickURL\\n          productViewURL\\n          productWishlistURL\\n          tag\\n          __typename\\n        }\\n        meta {\\n          countReview\\n          parentID\\n          warehouseID\\n          isImageBlurred\\n          isPortrait\\n          __typename\\n        }\\n        __typename\\n      }\\n      __typename\\n    }\\n    __typename\\n  }\\n  topads: displayAdsV3(displayParams: $adParams) {\\n    data {\\n      id\\n      productClickURL: product_click_url\\n      product {\\n        id\\n        name\\n        wishlist\\n        image {\\n          imageURL: s_ecs\\n          viewTrackURL: s_url\\n          __typename\\n        }\\n        url: uri\\n        price: price_format\\n        rating: product_rating\\n        ratingAverage: product_rating_format\\n        countReview: count_review_format\\n        labelGroups: label_group {\\n          position\\n          title\\n          type\\n          url\\n          style {\\n            key\\n            value\\n            __typename\\n          }\\n          __typename\\n        }\\n        campaign {\\n          discountPercentage: discount_percentage\\n          originalPrice: original_price\\n          __typename\\n        }\\n        category_breadcrumb\\n        __typename\\n      }\\n      shop {\\n        id\\n        name\\n        uri\\n        location\\n        goldmerchant: gold_shop\\n        official: shop_is_official\\n        badges {\\n          title\\n          imageURL: image_url\\n          show\\n          __typename\\n        }\\n        __typename\\n      }\\n      __typename\\n    }\\n    __typename\\n  }\\n}\\n',\n",
       "  'variables': {'params': 'device=desktop&fcity=&l_name=sre&ob=23&page=1&q=ac%201%20pk&related=true&rows=60&safe_search=false&scheme=https&source=search&st=product&start=0&unique_id=d072cf4baaa9527f7d056840a8cc633e&user_addressId=&user_cityId=176&user_districtId=2274&user_lat=&user_long=&user_postCode=',\n",
       "   'adParams': 'device=desktop&ep=product&fcity=&item=20&l_name=sre&minimum_item=10&ob=23&page=1&q=ac%201%20pk&src=find&st=product'}}]"
      ]
     },
     "execution_count": 52,
     "metadata": {},
     "output_type": "execute_result"
    }
   ],
   "source": [
    "data"
   ]
  },
  {
   "cell_type": "markdown",
   "metadata": {},
   "source": [
    "# Panggil API Endpoint sekali, untuk mendapatkan total data"
   ]
  },
  {
   "cell_type": "code",
   "execution_count": 53,
   "metadata": {
    "execution": {
     "iopub.execute_input": "2024-09-14T03:43:03.740743Z",
     "iopub.status.busy": "2024-09-14T03:43:03.738748Z",
     "iopub.status.idle": "2024-09-14T03:43:03.749660Z",
     "shell.execute_reply": "2024-09-14T03:43:03.747651Z",
     "shell.execute_reply.started": "2024-09-14T03:43:03.739744Z"
    }
   },
   "outputs": [],
   "source": [
    "headers = {\n",
    "    'Accept': '*/*',\n",
    "    'Accept-Language': 'en-US,en;q=0.5',\n",
    "    'User-Agent': 'Mozilla/5.0 (Windows NT 10.0; Win64; x64; rv:130.0) Gecko/20100101 Firefox/130.0',\n",
    "    'content-type': 'application/json',\n",
    "    'Tkpd-UserId': '0',\n",
    "    'x-device': 'desktop-0.0',\n",
    "    'x-dark-mode': 'false',\n",
    "    'X-Source': 'tokopedia-lite',\n",
    "    'X-Version': 'ed69c5d',\n",
    "    'X-Tkpd-Lite-Service': 'zeus',\n",
    "    #'iris-session_id': iris_,\n",
    "    'Priority': 'u=4',\n",
    "    'Pragma': 'no-cache',\n",
    "    'Cache-Control': 'no-cache',\n",
    "}"
   ]
  },
  {
   "cell_type": "code",
   "execution_count": 54,
   "metadata": {
    "execution": {
     "iopub.execute_input": "2024-09-14T03:43:04.504539Z",
     "iopub.status.busy": "2024-09-14T03:43:04.502488Z",
     "iopub.status.idle": "2024-09-14T03:43:06.458948Z",
     "shell.execute_reply": "2024-09-14T03:43:06.457931Z",
     "shell.execute_reply.started": "2024-09-14T03:43:04.504539Z"
    }
   },
   "outputs": [],
   "source": [
    "r = S.post('https://gql.tokopedia.com/graphql/SearchProductQueryV5', headers=headers, json=data)"
   ]
  },
  {
   "cell_type": "code",
   "execution_count": 69,
   "metadata": {
    "execution": {
     "iopub.execute_input": "2024-09-14T03:46:45.911237Z",
     "iopub.status.busy": "2024-09-14T03:46:45.911237Z",
     "iopub.status.idle": "2024-09-14T03:46:45.918344Z",
     "shell.execute_reply": "2024-09-14T03:46:45.917333Z",
     "shell.execute_reply.started": "2024-09-14T03:46:45.911237Z"
    }
   },
   "outputs": [],
   "source": [
    "total_data = r.json()[0]['data']['organic']['header']['totalData']"
   ]
  },
  {
   "cell_type": "code",
   "execution_count": 70,
   "metadata": {
    "execution": {
     "iopub.execute_input": "2024-09-14T03:46:46.359702Z",
     "iopub.status.busy": "2024-09-14T03:46:46.357698Z",
     "iopub.status.idle": "2024-09-14T03:46:46.371133Z",
     "shell.execute_reply": "2024-09-14T03:46:46.368110Z",
     "shell.execute_reply.started": "2024-09-14T03:46:46.358702Z"
    }
   },
   "outputs": [],
   "source": [
    "products = r.json()[0]['data']['organic']['data']['products']"
   ]
  },
  {
   "cell_type": "code",
   "execution_count": 71,
   "metadata": {
    "execution": {
     "iopub.execute_input": "2024-09-14T03:46:46.914005Z",
     "iopub.status.busy": "2024-09-14T03:46:46.911444Z",
     "iopub.status.idle": "2024-09-14T03:46:46.938894Z",
     "shell.execute_reply": "2024-09-14T03:46:46.934885Z",
     "shell.execute_reply.started": "2024-09-14T03:46:46.912965Z"
    }
   },
   "outputs": [
    {
     "data": {
      "text/plain": [
       "[{'id': 5845827470,\n",
       "  'name': 'AC HISENSE 1/2 PK AN 05 CEG AC HISENSE 0.5 PK AN05CEG',\n",
       "  'url': 'https://www.tokopedia.com/dprince/ac-hisense-1-2-pk-an-05-ceg-ac-hisense-0-5-pk-an05ceg?extParam=ivf%3Dtrue%26keyword%3Dac+1+pk%26src%3Dsearch',\n",
       "  'applink': 'tokopedia://product/5845827470?extParam=ivf%3Dtrue%26keyword%3Dac+1+pk%26src%3Dsearch',\n",
       "  'mediaURL': {'image': 'https://images.tokopedia.net/img/cache/200-square/VqbcmM/2024/8/10/3fad4e2b-4502-4355-9166-c050403b3f8e.jpg',\n",
       "   'image300': 'https://images.tokopedia.net/img/cache/300-square/VqbcmM/2024/8/10/3fad4e2b-4502-4355-9166-c050403b3f8e.jpg',\n",
       "   'videoCustom': 'https://vod-stream.tokopedia.net/view/adaptive.m3u8?id=9b54d031-aceb-4baa-94b9-693f192cde1a',\n",
       "   '__typename': 'SearchProductV5MediaURL'},\n",
       "  'shop': {'id': 1776467,\n",
       "   'name': 'DPRINCE',\n",
       "   'url': 'https://www.tokopedia.com/dprince',\n",
       "   'city': 'Jakarta Barat',\n",
       "   'tier': 2,\n",
       "   '__typename': 'SearchProductV5Shop'},\n",
       "  'badge': {'id': 4,\n",
       "   'title': 'Jakarta Barat',\n",
       "   'url': 'https://images.tokopedia.net/img/official_store_badge.png',\n",
       "   '__typename': 'SearchProductV5Badge'},\n",
       "  'price': {'text': 'Rp2.459.000',\n",
       "   'number': 2459000,\n",
       "   'range': '',\n",
       "   'original': '',\n",
       "   'discountPercentage': 0,\n",
       "   '__typename': 'SearchProductV5Price'},\n",
       "  'freeShipping': {'url': '', '__typename': 'SearchProductV5FreeShipping'},\n",
       "  'labelGroups': [{'position': 'ri_product_credibility',\n",
       "    'title': '100+ terjual',\n",
       "    'type': '',\n",
       "    'url': '',\n",
       "    'styles': [],\n",
       "    '__typename': 'SearchProductV5LabelGroups'}],\n",
       "  'category': {'id': 60,\n",
       "   'name': 'Elektronik',\n",
       "   'breadcrumb': 'elektronik/alat-pendingin-ruangan/air-conditioner',\n",
       "   'gaKey': '/searchproduct/elektronik/alat-pendingin-ruangan/air-conditioner/ac+1+pk/dprince/ac-hisense-1-2-pk-an-05-ceg-ac-hisense-0-5-pk-an05ceg',\n",
       "   '__typename': 'SearchProductV5Category'},\n",
       "  'rating': '5.0',\n",
       "  'wishlist': False,\n",
       "  'ads': {'id': '',\n",
       "   'productClickURL': '',\n",
       "   'productViewURL': '',\n",
       "   'productWishlistURL': '',\n",
       "   'tag': 0,\n",
       "   '__typename': 'SearchProductV5Ads'},\n",
       "  'meta': {'countReview': 30,\n",
       "   'parentID': 0,\n",
       "   'warehouseID': 21743,\n",
       "   'isImageBlurred': False,\n",
       "   'isPortrait': False,\n",
       "   '__typename': 'SearchProductV5ProductMeta'},\n",
       "  '__typename': 'searchProductV5Product'}]"
      ]
     },
     "execution_count": 71,
     "metadata": {},
     "output_type": "execute_result"
    }
   ],
   "source": [
    "products"
   ]
  },
  {
   "cell_type": "code",
   "execution_count": 76,
   "metadata": {
    "execution": {
     "iopub.execute_input": "2024-09-14T03:52:04.836496Z",
     "iopub.status.busy": "2024-09-14T03:52:04.835498Z",
     "iopub.status.idle": "2024-09-14T03:52:04.845650Z",
     "shell.execute_reply": "2024-09-14T03:52:04.844639Z",
     "shell.execute_reply.started": "2024-09-14T03:52:04.836496Z"
    }
   },
   "outputs": [
    {
     "data": {
      "text/plain": [
       "1"
      ]
     },
     "execution_count": 76,
     "metadata": {},
     "output_type": "execute_result"
    }
   ],
   "source": [
    "len(products)"
   ]
  },
  {
   "cell_type": "code",
   "execution_count": 77,
   "metadata": {
    "execution": {
     "iopub.execute_input": "2024-09-14T03:52:05.271218Z",
     "iopub.status.busy": "2024-09-14T03:52:05.269218Z",
     "iopub.status.idle": "2024-09-14T03:52:05.288588Z",
     "shell.execute_reply": "2024-09-14T03:52:05.285591Z",
     "shell.execute_reply.started": "2024-09-14T03:52:05.271218Z"
    }
   },
   "outputs": [
    {
     "data": {
      "text/plain": [
       "601908"
      ]
     },
     "execution_count": 77,
     "metadata": {},
     "output_type": "execute_result"
    }
   ],
   "source": [
    "total_data"
   ]
  },
  {
   "cell_type": "code",
   "execution_count": 78,
   "metadata": {
    "execution": {
     "iopub.execute_input": "2024-09-14T03:52:07.061265Z",
     "iopub.status.busy": "2024-09-14T03:52:07.060301Z",
     "iopub.status.idle": "2024-09-14T03:52:07.066728Z",
     "shell.execute_reply": "2024-09-14T03:52:07.065690Z",
     "shell.execute_reply.started": "2024-09-14T03:52:07.061265Z"
    }
   },
   "outputs": [],
   "source": [
    "PAGES = math.ceil(total_data // ROWS)"
   ]
  },
  {
   "cell_type": "code",
   "execution_count": 79,
   "metadata": {
    "execution": {
     "iopub.execute_input": "2024-09-14T03:52:07.554919Z",
     "iopub.status.busy": "2024-09-14T03:52:07.552873Z",
     "iopub.status.idle": "2024-09-14T03:52:07.569510Z",
     "shell.execute_reply": "2024-09-14T03:52:07.567497Z",
     "shell.execute_reply.started": "2024-09-14T03:52:07.554919Z"
    }
   },
   "outputs": [
    {
     "data": {
      "text/plain": [
       "3009"
      ]
     },
     "execution_count": 79,
     "metadata": {},
     "output_type": "execute_result"
    }
   ],
   "source": [
    "PAGES"
   ]
  },
  {
   "cell_type": "code",
   "execution_count": 62,
   "metadata": {
    "execution": {
     "iopub.execute_input": "2024-09-14T03:43:07.172346Z",
     "iopub.status.busy": "2024-09-14T03:43:07.167845Z",
     "iopub.status.idle": "2024-09-14T03:43:07.183126Z",
     "shell.execute_reply": "2024-09-14T03:43:07.179596Z",
     "shell.execute_reply.started": "2024-09-14T03:43:07.172346Z"
    }
   },
   "outputs": [],
   "source": [
    "#r.json()[0]['data']['organic']"
   ]
  },
  {
   "cell_type": "markdown",
   "metadata": {},
   "source": [
    "# Try to get page 31"
   ]
  },
  {
   "cell_type": "markdown",
   "metadata": {},
   "source": [
    "maximum data provided = 30 * 200 = 6000"
   ]
  },
  {
   "cell_type": "code",
   "execution_count": 80,
   "metadata": {
    "execution": {
     "iopub.execute_input": "2024-09-14T03:52:15.809087Z",
     "iopub.status.busy": "2024-09-14T03:52:15.808087Z",
     "iopub.status.idle": "2024-09-14T03:52:15.815794Z",
     "shell.execute_reply": "2024-09-14T03:52:15.814781Z",
     "shell.execute_reply.started": "2024-09-14T03:52:15.809087Z"
    }
   },
   "outputs": [],
   "source": [
    "page = 30\n",
    "rows = ROWS\n",
    "start = (page-1) * rows\n",
    "data = data_pre.copy()\n",
    "data[0]['variables'] = {\n",
    "    \"params\":params_.\\\n",
    "        replace('page=1', 'page=' + str(page)).\\\n",
    "        replace('start=0', 'start=' + str(start)).\\\n",
    "        replace('rows=60', 'rows=' + str(rows)),    \n",
    "    \"adParams\":adparams_.replace('page=1', 'page=' + str(page))\n",
    "}"
   ]
  },
  {
   "cell_type": "code",
   "execution_count": 64,
   "metadata": {
    "execution": {
     "iopub.execute_input": "2024-09-14T03:43:10.352651Z",
     "iopub.status.busy": "2024-09-14T03:43:10.351064Z",
     "iopub.status.idle": "2024-09-14T03:43:10.362363Z",
     "shell.execute_reply": "2024-09-14T03:43:10.360838Z",
     "shell.execute_reply.started": "2024-09-14T03:43:10.352651Z"
    }
   },
   "outputs": [
    {
     "data": {
      "text/plain": [
       "[{'operationName': 'SearchProductQueryV5',\n",
       "  'query': 'query SearchProductQueryV5($params: String!, $adParams: String!) {\\n  organic: searchProductV5(params: $params) {\\n    header {\\n      totalData\\n      responseCode\\n      keywordProcess\\n      keywordIntention\\n      componentID\\n      isQuerySafe\\n      additionalParams\\n      backendFilters\\n      __typename\\n    }\\n    data {\\n      totalDataText\\n      related {\\n        relatedKeyword\\n        position\\n        trackingOption\\n        otherRelated {\\n          keyword\\n          url\\n          componentID\\n          products {\\n            id\\n            name\\n            url\\n            applink\\n            mediaURL {\\n              image\\n              __typename\\n            }\\n            shop {\\n              id\\n              name\\n              city\\n              tier\\n              __typename\\n            }\\n            badge {\\n              id\\n              title\\n              url\\n              __typename\\n            }\\n            price {\\n              text\\n              number\\n              __typename\\n            }\\n            freeShipping {\\n              url\\n              __typename\\n            }\\n            labelGroups {\\n              position\\n              title\\n              type\\n              url\\n              styles {\\n                key\\n                value\\n                __typename\\n              }\\n              __typename\\n            }\\n            rating\\n            wishlist\\n            ads {\\n              id\\n              productClickURL\\n              productViewURL\\n              productWishlistURL\\n              tag\\n              __typename\\n            }\\n            meta {\\n              warehouseID\\n              componentID\\n              __typename\\n            }\\n            __typename\\n          }\\n          __typename\\n        }\\n        __typename\\n      }\\n      suggestion {\\n        currentKeyword\\n        suggestion\\n        query\\n        text\\n        componentID\\n        trackingOption\\n        __typename\\n      }\\n      products {\\n        id\\n        name\\n        url\\n        applink\\n        mediaURL {\\n          image\\n          image300\\n          videoCustom\\n          __typename\\n        }\\n        shop {\\n          id\\n          name\\n          url\\n          city\\n          tier\\n          __typename\\n        }\\n        badge {\\n          id\\n          title\\n          url\\n          __typename\\n        }\\n        price {\\n          text\\n          number\\n          range\\n          original\\n          discountPercentage\\n          __typename\\n        }\\n        freeShipping {\\n          url\\n          __typename\\n        }\\n        labelGroups {\\n          position\\n          title\\n          type\\n          url\\n          styles {\\n            key\\n            value\\n            __typename\\n          }\\n          __typename\\n        }\\n        category {\\n          id\\n          name\\n          breadcrumb\\n          gaKey\\n          __typename\\n        }\\n        rating\\n        wishlist\\n        ads {\\n          id\\n          productClickURL\\n          productViewURL\\n          productWishlistURL\\n          tag\\n          __typename\\n        }\\n        meta {\\n          countReview\\n          parentID\\n          warehouseID\\n          isImageBlurred\\n          isPortrait\\n          __typename\\n        }\\n        __typename\\n      }\\n      __typename\\n    }\\n    __typename\\n  }\\n  topads: displayAdsV3(displayParams: $adParams) {\\n    data {\\n      id\\n      productClickURL: product_click_url\\n      product {\\n        id\\n        name\\n        wishlist\\n        image {\\n          imageURL: s_ecs\\n          viewTrackURL: s_url\\n          __typename\\n        }\\n        url: uri\\n        price: price_format\\n        rating: product_rating\\n        ratingAverage: product_rating_format\\n        countReview: count_review_format\\n        labelGroups: label_group {\\n          position\\n          title\\n          type\\n          url\\n          style {\\n            key\\n            value\\n            __typename\\n          }\\n          __typename\\n        }\\n        campaign {\\n          discountPercentage: discount_percentage\\n          originalPrice: original_price\\n          __typename\\n        }\\n        category_breadcrumb\\n        __typename\\n      }\\n      shop {\\n        id\\n        name\\n        uri\\n        location\\n        goldmerchant: gold_shop\\n        official: shop_is_official\\n        badges {\\n          title\\n          imageURL: image_url\\n          show\\n          __typename\\n        }\\n        __typename\\n      }\\n      __typename\\n    }\\n    __typename\\n  }\\n}\\n',\n",
       "  'variables': {'params': 'device=desktop&fcity=&l_name=sre&ob=23&page=30&q=ac%201%20pk&related=true&rows=1&safe_search=false&scheme=https&source=search&st=product&start=29&unique_id=d072cf4baaa9527f7d056840a8cc633e&user_addressId=&user_cityId=176&user_districtId=2274&user_lat=&user_long=&user_postCode=',\n",
       "   'adParams': 'device=desktop&ep=product&fcity=&item=20&l_name=sre&minimum_item=10&ob=23&page=30&q=ac%201%20pk&src=find&st=product'}}]"
      ]
     },
     "execution_count": 64,
     "metadata": {},
     "output_type": "execute_result"
    }
   ],
   "source": [
    "data"
   ]
  },
  {
   "cell_type": "code",
   "execution_count": 65,
   "metadata": {
    "execution": {
     "iopub.execute_input": "2024-09-14T03:43:10.975135Z",
     "iopub.status.busy": "2024-09-14T03:43:10.974132Z",
     "iopub.status.idle": "2024-09-14T03:43:11.564592Z",
     "shell.execute_reply": "2024-09-14T03:43:11.563578Z",
     "shell.execute_reply.started": "2024-09-14T03:43:10.975135Z"
    }
   },
   "outputs": [],
   "source": [
    "r = S.post('https://gql.tokopedia.com/graphql/SearchProductQueryV5', headers=headers, json=data)"
   ]
  },
  {
   "cell_type": "code",
   "execution_count": 66,
   "metadata": {
    "execution": {
     "iopub.execute_input": "2024-09-14T03:43:11.883416Z",
     "iopub.status.busy": "2024-09-14T03:43:11.880867Z",
     "iopub.status.idle": "2024-09-14T03:43:11.900457Z",
     "shell.execute_reply": "2024-09-14T03:43:11.898438Z",
     "shell.execute_reply.started": "2024-09-14T03:43:11.883416Z"
    }
   },
   "outputs": [],
   "source": [
    "data_scraped = r.json()[0]['data']['organic']['data']['products']"
   ]
  },
  {
   "cell_type": "code",
   "execution_count": 67,
   "metadata": {
    "execution": {
     "iopub.execute_input": "2024-09-14T03:43:13.032498Z",
     "iopub.status.busy": "2024-09-14T03:43:13.030504Z",
     "iopub.status.idle": "2024-09-14T03:43:13.048905Z",
     "shell.execute_reply": "2024-09-14T03:43:13.045889Z",
     "shell.execute_reply.started": "2024-09-14T03:43:13.032498Z"
    }
   },
   "outputs": [
    {
     "data": {
      "text/plain": [
       "1"
      ]
     },
     "execution_count": 67,
     "metadata": {},
     "output_type": "execute_result"
    }
   ],
   "source": [
    "len(data_scraped)"
   ]
  },
  {
   "cell_type": "code",
   "execution_count": 68,
   "metadata": {
    "execution": {
     "iopub.execute_input": "2024-09-14T03:43:18.337109Z",
     "iopub.status.busy": "2024-09-14T03:43:18.336112Z",
     "iopub.status.idle": "2024-09-14T03:43:18.349151Z",
     "shell.execute_reply": "2024-09-14T03:43:18.348141Z",
     "shell.execute_reply.started": "2024-09-14T03:43:18.337109Z"
    }
   },
   "outputs": [
    {
     "data": {
      "text/plain": [
       "[{'id': 5845827470,\n",
       "  'name': 'AC HISENSE 1/2 PK AN 05 CEG AC HISENSE 0.5 PK AN05CEG',\n",
       "  'url': 'https://www.tokopedia.com/dprince/ac-hisense-1-2-pk-an-05-ceg-ac-hisense-0-5-pk-an05ceg?extParam=ivf%3Dtrue%26keyword%3Dac+1+pk%26src%3Dsearch',\n",
       "  'applink': 'tokopedia://product/5845827470?extParam=ivf%3Dtrue%26keyword%3Dac+1+pk%26src%3Dsearch',\n",
       "  'mediaURL': {'image': 'https://images.tokopedia.net/img/cache/200-square/VqbcmM/2024/8/10/3fad4e2b-4502-4355-9166-c050403b3f8e.jpg',\n",
       "   'image300': 'https://images.tokopedia.net/img/cache/300-square/VqbcmM/2024/8/10/3fad4e2b-4502-4355-9166-c050403b3f8e.jpg',\n",
       "   'videoCustom': 'https://vod-stream.tokopedia.net/view/adaptive.m3u8?id=9b54d031-aceb-4baa-94b9-693f192cde1a',\n",
       "   '__typename': 'SearchProductV5MediaURL'},\n",
       "  'shop': {'id': 1776467,\n",
       "   'name': 'DPRINCE',\n",
       "   'url': 'https://www.tokopedia.com/dprince',\n",
       "   'city': 'Jakarta Barat',\n",
       "   'tier': 2,\n",
       "   '__typename': 'SearchProductV5Shop'},\n",
       "  'badge': {'id': 4,\n",
       "   'title': 'Jakarta Barat',\n",
       "   'url': 'https://images.tokopedia.net/img/official_store_badge.png',\n",
       "   '__typename': 'SearchProductV5Badge'},\n",
       "  'price': {'text': 'Rp2.459.000',\n",
       "   'number': 2459000,\n",
       "   'range': '',\n",
       "   'original': '',\n",
       "   'discountPercentage': 0,\n",
       "   '__typename': 'SearchProductV5Price'},\n",
       "  'freeShipping': {'url': '', '__typename': 'SearchProductV5FreeShipping'},\n",
       "  'labelGroups': [{'position': 'ri_product_credibility',\n",
       "    'title': '100+ terjual',\n",
       "    'type': '',\n",
       "    'url': '',\n",
       "    'styles': [],\n",
       "    '__typename': 'SearchProductV5LabelGroups'}],\n",
       "  'category': {'id': 60,\n",
       "   'name': 'Elektronik',\n",
       "   'breadcrumb': 'elektronik/alat-pendingin-ruangan/air-conditioner',\n",
       "   'gaKey': '/searchproduct/elektronik/alat-pendingin-ruangan/air-conditioner/ac+1+pk/dprince/ac-hisense-1-2-pk-an-05-ceg-ac-hisense-0-5-pk-an05ceg',\n",
       "   '__typename': 'SearchProductV5Category'},\n",
       "  'rating': '5.0',\n",
       "  'wishlist': False,\n",
       "  'ads': {'id': '',\n",
       "   'productClickURL': '',\n",
       "   'productViewURL': '',\n",
       "   'productWishlistURL': '',\n",
       "   'tag': 0,\n",
       "   '__typename': 'SearchProductV5Ads'},\n",
       "  'meta': {'countReview': 30,\n",
       "   'parentID': 0,\n",
       "   'warehouseID': 21743,\n",
       "   'isImageBlurred': False,\n",
       "   'isPortrait': False,\n",
       "   '__typename': 'SearchProductV5ProductMeta'},\n",
       "  '__typename': 'searchProductV5Product'}]"
      ]
     },
     "execution_count": 68,
     "metadata": {},
     "output_type": "execute_result"
    }
   ],
   "source": [
    "data_scraped"
   ]
  },
  {
   "cell_type": "markdown",
   "metadata": {},
   "source": [
    "# Convert to Pandas"
   ]
  },
  {
   "cell_type": "code",
   "execution_count": 81,
   "metadata": {
    "execution": {
     "iopub.execute_input": "2024-09-14T03:52:27.636412Z",
     "iopub.status.busy": "2024-09-14T03:52:27.634409Z",
     "iopub.status.idle": "2024-09-14T03:52:27.738616Z",
     "shell.execute_reply": "2024-09-14T03:52:27.735597Z",
     "shell.execute_reply.started": "2024-09-14T03:52:27.636412Z"
    }
   },
   "outputs": [],
   "source": [
    "li = []\n",
    "\n",
    "for datum in data_scraped:\n",
    "    li.append({\n",
    "        'id': datum['id'],\n",
    "        'name': datum['name'],\n",
    "        'price': datum['price']['number'],\n",
    "        'url': datum['url'],\n",
    "        'shop_id': datum['shop']['id'],\n",
    "        'shop_name': datum['shop']['name'],\n",
    "        'shop_city': datum['shop']['city'],\n",
    "        'shop_url': datum['shop']['url'],\n",
    "        'category_id': datum['category']['id'],\n",
    "        'category_name': datum['category']['name'],\n",
    "        'category_url': base_url + '/p/' + datum['category']['breadcrumb'],\n",
    "    })\n",
    "df = pd.DataFrame(li)"
   ]
  },
  {
   "cell_type": "code",
   "execution_count": 82,
   "metadata": {
    "execution": {
     "iopub.execute_input": "2024-09-14T03:52:28.389462Z",
     "iopub.status.busy": "2024-09-14T03:52:28.388466Z",
     "iopub.status.idle": "2024-09-14T03:52:28.510867Z",
     "shell.execute_reply": "2024-09-14T03:52:28.505853Z",
     "shell.execute_reply.started": "2024-09-14T03:52:28.389462Z"
    }
   },
   "outputs": [
    {
     "data": {
      "text/html": [
       "<div>\n",
       "<style scoped>\n",
       "    .dataframe tbody tr th:only-of-type {\n",
       "        vertical-align: middle;\n",
       "    }\n",
       "\n",
       "    .dataframe tbody tr th {\n",
       "        vertical-align: top;\n",
       "    }\n",
       "\n",
       "    .dataframe thead th {\n",
       "        text-align: right;\n",
       "    }\n",
       "</style>\n",
       "<table border=\"1\" class=\"dataframe\">\n",
       "  <thead>\n",
       "    <tr style=\"text-align: right;\">\n",
       "      <th></th>\n",
       "      <th>id</th>\n",
       "      <th>name</th>\n",
       "      <th>price</th>\n",
       "      <th>url</th>\n",
       "      <th>shop_id</th>\n",
       "      <th>shop_name</th>\n",
       "      <th>shop_city</th>\n",
       "      <th>shop_url</th>\n",
       "      <th>category_id</th>\n",
       "      <th>category_name</th>\n",
       "      <th>category_url</th>\n",
       "    </tr>\n",
       "  </thead>\n",
       "  <tbody>\n",
       "    <tr>\n",
       "      <th>0</th>\n",
       "      <td>5845827470</td>\n",
       "      <td>AC HISENSE 1/2 PK AN 05 CEG AC HISENSE 0.5 PK ...</td>\n",
       "      <td>2459000</td>\n",
       "      <td>https://www.tokopedia.com/dprince/ac-hisense-1...</td>\n",
       "      <td>1776467</td>\n",
       "      <td>DPRINCE</td>\n",
       "      <td>Jakarta Barat</td>\n",
       "      <td>https://www.tokopedia.com/dprince</td>\n",
       "      <td>60</td>\n",
       "      <td>Elektronik</td>\n",
       "      <td>https://www.tokopedia.com/p/elektronik/alat-pe...</td>\n",
       "    </tr>\n",
       "  </tbody>\n",
       "</table>\n",
       "</div>"
      ],
      "text/plain": [
       "           id                                               name    price  \\\n",
       "0  5845827470  AC HISENSE 1/2 PK AN 05 CEG AC HISENSE 0.5 PK ...  2459000   \n",
       "\n",
       "                                                 url  shop_id shop_name  \\\n",
       "0  https://www.tokopedia.com/dprince/ac-hisense-1...  1776467   DPRINCE   \n",
       "\n",
       "       shop_city                           shop_url  category_id  \\\n",
       "0  Jakarta Barat  https://www.tokopedia.com/dprince           60   \n",
       "\n",
       "  category_name                                       category_url  \n",
       "0    Elektronik  https://www.tokopedia.com/p/elektronik/alat-pe...  "
      ]
     },
     "execution_count": 82,
     "metadata": {},
     "output_type": "execute_result"
    }
   ],
   "source": [
    "df"
   ]
  },
  {
   "cell_type": "markdown",
   "metadata": {},
   "source": [
    "# Create a Directory"
   ]
  },
  {
   "cell_type": "code",
   "execution_count": 85,
   "metadata": {
    "execution": {
     "iopub.execute_input": "2024-09-14T03:53:27.685692Z",
     "iopub.status.busy": "2024-09-14T03:53:27.684697Z",
     "iopub.status.idle": "2024-09-14T03:53:27.694788Z",
     "shell.execute_reply": "2024-09-14T03:53:27.692752Z",
     "shell.execute_reply.started": "2024-09-14T03:53:27.685692Z"
    }
   },
   "outputs": [],
   "source": [
    "dir_path = 'scrape_tokopedia_requests'\n",
    "\n",
    "if not os.path.exists(dir_path):\n",
    "    os.makedirs(dir_path)"
   ]
  },
  {
   "cell_type": "code",
   "execution_count": 86,
   "metadata": {
    "execution": {
     "iopub.execute_input": "2024-09-14T03:53:27.945129Z",
     "iopub.status.busy": "2024-09-14T03:53:27.944123Z",
     "iopub.status.idle": "2024-09-14T03:53:27.957249Z",
     "shell.execute_reply": "2024-09-14T03:53:27.955235Z",
     "shell.execute_reply.started": "2024-09-14T03:53:27.945129Z"
    }
   },
   "outputs": [],
   "source": [
    "files = glob.glob(os.path.join(dir_path, '*'))\n",
    "for file in files:\n",
    "    try:\n",
    "        os.remove(file)\n",
    "    except: pass"
   ]
  },
  {
   "cell_type": "markdown",
   "metadata": {},
   "source": [
    "# Scrape Page 1 to 5, 200 data from each page"
   ]
  },
  {
   "cell_type": "code",
   "execution_count": 92,
   "metadata": {
    "execution": {
     "iopub.execute_input": "2024-09-14T03:56:53.794221Z",
     "iopub.status.busy": "2024-09-14T03:56:53.794221Z",
     "iopub.status.idle": "2024-09-14T03:56:59.078926Z",
     "shell.execute_reply": "2024-09-14T03:56:59.075896Z",
     "shell.execute_reply.started": "2024-09-14T03:56:53.794221Z"
    }
   },
   "outputs": [],
   "source": [
    "rows = ROWS\n",
    "start_page = 15\n",
    "last_page = 20\n",
    "\n",
    "pbar = tqdm(total=last_page-start_page+1)\n",
    "\n",
    "for page in range(start_page, last_page+1):\n",
    "    start = (page-1) * rows\n",
    "    data = data_pre.copy()\n",
    "    data[0]['variables'] = {\n",
    "        \"params\":params_.\\\n",
    "            replace('page=1', 'page=' + str(page)).\\\n",
    "            replace('start=0', 'start=' + str(start)).\\\n",
    "            replace('rows=60', 'rows=' + str(rows)),\n",
    "        \"adParams\":adparams_.replace('page=1', 'page=' + str(page))\n",
    "    }\n",
    "    #print(data[0])\n",
    "    \n",
    "    r = S.post('https://gql.tokopedia.com/graphql/SearchProductQueryV5', headers=headers, json=data)\n",
    "\n",
    "    filename = f'{dir_path}/page_{page}.json'\n",
    "    with open(filename, 'w') as f:\n",
    "        json.dump(r.json(), f, indent=4)\n",
    "\n",
    "    pbar.update(1)\n",
    "\n",
    "pbar.close()"
   ]
  },
  {
   "cell_type": "markdown",
   "metadata": {},
   "source": [
    "# Combine ALL JSONs"
   ]
  },
  {
   "cell_type": "code",
   "execution_count": 93,
   "metadata": {
    "execution": {
     "iopub.execute_input": "2024-09-14T03:57:47.446304Z",
     "iopub.status.busy": "2024-09-14T03:57:47.445303Z",
     "iopub.status.idle": "2024-09-14T03:57:47.454603Z",
     "shell.execute_reply": "2024-09-14T03:57:47.453331Z",
     "shell.execute_reply.started": "2024-09-14T03:57:47.446304Z"
    }
   },
   "outputs": [],
   "source": [
    "all_files = os.listdir(dir_path)\n",
    "\n",
    "json_files = [file for file in all_files if file.endswith('.json')]"
   ]
  },
  {
   "cell_type": "code",
   "execution_count": 94,
   "metadata": {
    "execution": {
     "iopub.execute_input": "2024-09-14T03:57:47.842935Z",
     "iopub.status.busy": "2024-09-14T03:57:47.840426Z",
     "iopub.status.idle": "2024-09-14T03:57:54.818751Z",
     "shell.execute_reply": "2024-09-14T03:57:54.816739Z",
     "shell.execute_reply.started": "2024-09-14T03:57:47.841424Z"
    }
   },
   "outputs": [
    {
     "data": {
      "application/vnd.jupyter.widget-view+json": {
       "model_id": "93a6c8e5e3e643888592cef6ed65ab2f",
       "version_major": 2,
       "version_minor": 0
      },
      "text/plain": [
       "  0%|          | 0/20 [00:00<?, ?it/s]"
      ]
     },
     "metadata": {},
     "output_type": "display_data"
    }
   ],
   "source": [
    "li = []\n",
    "pbar = tqdm(total=len(json_files))\n",
    "\n",
    "for json_file in json_files:\n",
    "    file_path = os.path.join(dir_path, json_file)\n",
    "    with open(file_path) as f:\n",
    "        data = json.load(f)[0]['data']['organic']['data']['products']\n",
    "\n",
    "        for datum in data:\n",
    "            li.append({\n",
    "            'id': datum['id'],\n",
    "            'name': datum['name'],\n",
    "            'price': datum['price']['number'],\n",
    "            'url': datum['url'],\n",
    "            'shop_id': datum['shop']['id'],\n",
    "            'shop_name': datum['shop']['name'],\n",
    "            'shop_city': datum['shop']['city'],\n",
    "            'shop_url': datum['shop']['url'],\n",
    "            'category_id': datum['category']['id'],\n",
    "            'category_name': datum['category']['name'],\n",
    "            'category_url': base_url + '/p/' + datum['category']['breadcrumb'],\n",
    "            })\n",
    "\n",
    "    pbar.update(1)\n",
    "\n",
    "df = pd.DataFrame(li)\n",
    "\n",
    "pbar.close()\n",
    "\n",
    "df.to_excel(os.path.join(dir_path, 'hasil_scrape.xlsx'), index=False)"
   ]
  },
  {
   "cell_type": "code",
   "execution_count": 95,
   "metadata": {
    "execution": {
     "iopub.execute_input": "2024-09-14T03:57:54.824297Z",
     "iopub.status.busy": "2024-09-14T03:57:54.821741Z",
     "iopub.status.idle": "2024-09-14T03:57:54.930013Z",
     "shell.execute_reply": "2024-09-14T03:57:54.928002Z",
     "shell.execute_reply.started": "2024-09-14T03:57:54.824297Z"
    }
   },
   "outputs": [
    {
     "data": {
      "text/html": [
       "<div>\n",
       "<style scoped>\n",
       "    .dataframe tbody tr th:only-of-type {\n",
       "        vertical-align: middle;\n",
       "    }\n",
       "\n",
       "    .dataframe tbody tr th {\n",
       "        vertical-align: top;\n",
       "    }\n",
       "\n",
       "    .dataframe thead th {\n",
       "        text-align: right;\n",
       "    }\n",
       "</style>\n",
       "<table border=\"1\" class=\"dataframe\">\n",
       "  <thead>\n",
       "    <tr style=\"text-align: right;\">\n",
       "      <th></th>\n",
       "      <th>id</th>\n",
       "      <th>name</th>\n",
       "      <th>price</th>\n",
       "      <th>url</th>\n",
       "      <th>shop_id</th>\n",
       "      <th>shop_name</th>\n",
       "      <th>shop_city</th>\n",
       "      <th>shop_url</th>\n",
       "      <th>category_id</th>\n",
       "      <th>category_name</th>\n",
       "      <th>category_url</th>\n",
       "    </tr>\n",
       "  </thead>\n",
       "  <tbody>\n",
       "    <tr>\n",
       "      <th>0</th>\n",
       "      <td>537229431</td>\n",
       "      <td>REIWA AC Window 1/2 PK CW-0501RA 0,5 PK</td>\n",
       "      <td>1999000</td>\n",
       "      <td>https://www.tokopedia.com/dprince/reiwa-ac-win...</td>\n",
       "      <td>1776467</td>\n",
       "      <td>DPRINCE</td>\n",
       "      <td>Jakarta Barat</td>\n",
       "      <td>https://www.tokopedia.com/dprince</td>\n",
       "      <td>60</td>\n",
       "      <td>Elektronik</td>\n",
       "      <td>https://www.tokopedia.com/p/elektronik/alat-pe...</td>\n",
       "    </tr>\n",
       "    <tr>\n",
       "      <th>1</th>\n",
       "      <td>11999501602</td>\n",
       "      <td>CHANGHONG CSC 09NVB/09 NVB AC 1PK AC SPLIT 1 P...</td>\n",
       "      <td>2749000</td>\n",
       "      <td>https://www.tokopedia.com/starlyn/changhong-cs...</td>\n",
       "      <td>5498661</td>\n",
       "      <td>Starlyn Elektronik</td>\n",
       "      <td>Jakarta Barat</td>\n",
       "      <td>https://www.tokopedia.com/starlyn</td>\n",
       "      <td>60</td>\n",
       "      <td>Elektronik</td>\n",
       "      <td>https://www.tokopedia.com/p/elektronik/alat-pe...</td>\n",
       "    </tr>\n",
       "    <tr>\n",
       "      <th>2</th>\n",
       "      <td>1983798687</td>\n",
       "      <td>AC Midea 1/2 PK (0.5 PK) Standard - R32 Series...</td>\n",
       "      <td>2650000</td>\n",
       "      <td>https://www.tokopedia.com/mideaofficial/ac-mid...</td>\n",
       "      <td>9829387</td>\n",
       "      <td>Midea Official Store</td>\n",
       "      <td>Jakarta Utara</td>\n",
       "      <td>https://www.tokopedia.com/mideaofficial</td>\n",
       "      <td>60</td>\n",
       "      <td>Elektronik</td>\n",
       "      <td>https://www.tokopedia.com/p/elektronik/alat-pe...</td>\n",
       "    </tr>\n",
       "    <tr>\n",
       "      <th>3</th>\n",
       "      <td>3541192021</td>\n",
       "      <td>PIPA AC DENPOO PREMIUM 1/2-1PK (PER METER)</td>\n",
       "      <td>52000</td>\n",
       "      <td>https://www.tokopedia.com/denpooelectronic/pip...</td>\n",
       "      <td>5144458</td>\n",
       "      <td>DENPOO OFFICIAL STORE</td>\n",
       "      <td>Jakarta Utara</td>\n",
       "      <td>https://www.tokopedia.com/denpooelectronic</td>\n",
       "      <td>60</td>\n",
       "      <td>Elektronik</td>\n",
       "      <td>https://www.tokopedia.com/p/elektronik/alat-pe...</td>\n",
       "    </tr>\n",
       "    <tr>\n",
       "      <th>4</th>\n",
       "      <td>282816734</td>\n",
       "      <td>AC DAIKIN FLASH INVERTER 1PK FTKQ25</td>\n",
       "      <td>5559000</td>\n",
       "      <td>https://www.tokopedia.com/indocool88/ac-daikin...</td>\n",
       "      <td>2324351</td>\n",
       "      <td>INDO COOL</td>\n",
       "      <td>Jakarta Barat</td>\n",
       "      <td>https://www.tokopedia.com/indocool88</td>\n",
       "      <td>60</td>\n",
       "      <td>Elektronik</td>\n",
       "      <td>https://www.tokopedia.com/p/elektronik/alat-pe...</td>\n",
       "    </tr>\n",
       "    <tr>\n",
       "      <th>...</th>\n",
       "      <td>...</td>\n",
       "      <td>...</td>\n",
       "      <td>...</td>\n",
       "      <td>...</td>\n",
       "      <td>...</td>\n",
       "      <td>...</td>\n",
       "      <td>...</td>\n",
       "      <td>...</td>\n",
       "      <td>...</td>\n",
       "      <td>...</td>\n",
       "      <td>...</td>\n",
       "    </tr>\n",
       "    <tr>\n",
       "      <th>3995</th>\n",
       "      <td>1414933993</td>\n",
       "      <td>PROMO!!! AC HISENSE 1/2pk HISENSE 0.5 PK AN 05...</td>\n",
       "      <td>2657300</td>\n",
       "      <td>https://www.tokopedia.com/mdselektronik/promo-...</td>\n",
       "      <td>3836532</td>\n",
       "      <td>MDS Elektronik</td>\n",
       "      <td>Depok</td>\n",
       "      <td>https://www.tokopedia.com/mdselektronik</td>\n",
       "      <td>60</td>\n",
       "      <td>Elektronik</td>\n",
       "      <td>https://www.tokopedia.com/p/elektronik/alat-pe...</td>\n",
       "    </tr>\n",
       "    <tr>\n",
       "      <th>3996</th>\n",
       "      <td>1921262151</td>\n",
       "      <td>Daikin AC 1PK FTC 25 NV14 / 1 PK FTC25NV14 Tha...</td>\n",
       "      <td>4679000</td>\n",
       "      <td>https://www.tokopedia.com/bonbon-elektronik/da...</td>\n",
       "      <td>10569663</td>\n",
       "      <td>Bonbon_Elektronik</td>\n",
       "      <td>Jakarta Utara</td>\n",
       "      <td>https://www.tokopedia.com/bonbon-elektronik</td>\n",
       "      <td>60</td>\n",
       "      <td>Elektronik</td>\n",
       "      <td>https://www.tokopedia.com/p/elektronik/alat-pe...</td>\n",
       "    </tr>\n",
       "    <tr>\n",
       "      <th>3997</th>\n",
       "      <td>9422409877</td>\n",
       "      <td>AC AQUA 1/2PK/AQUA AC 1/2 PK BARU BERGARANSI R...</td>\n",
       "      <td>2659000</td>\n",
       "      <td>https://www.tokopedia.com/lucky-billy/ac-aqua-...</td>\n",
       "      <td>2288300</td>\n",
       "      <td>top jaya electronik</td>\n",
       "      <td>Kab. Karawang</td>\n",
       "      <td>https://www.tokopedia.com/lucky-billy</td>\n",
       "      <td>60</td>\n",
       "      <td>Elektronik</td>\n",
       "      <td>https://www.tokopedia.com/p/elektronik/alat-pe...</td>\n",
       "    </tr>\n",
       "    <tr>\n",
       "      <th>3998</th>\n",
       "      <td>13967466367</td>\n",
       "      <td>AC DAIKIN FTP15AV14 / FTP 15 AC SPLIT 1/2 PK B...</td>\n",
       "      <td>3359000</td>\n",
       "      <td>https://www.tokopedia.com/sejuk-elektronik/ac-...</td>\n",
       "      <td>5308742</td>\n",
       "      <td>Sejuk Elektronik</td>\n",
       "      <td>Tangerang</td>\n",
       "      <td>https://www.tokopedia.com/sejuk-elektronik</td>\n",
       "      <td>60</td>\n",
       "      <td>Elektronik</td>\n",
       "      <td>https://www.tokopedia.com/p/elektronik/alat-pe...</td>\n",
       "    </tr>\n",
       "    <tr>\n",
       "      <th>3999</th>\n",
       "      <td>1064155567</td>\n",
       "      <td>AC PANASONIC 1 PK STANDARD CSYN9WKJ / CS YN9WK...</td>\n",
       "      <td>3755000</td>\n",
       "      <td>https://www.tokopedia.com/miami/ac-panasonic-1...</td>\n",
       "      <td>348147</td>\n",
       "      <td>Miami</td>\n",
       "      <td>Surabaya</td>\n",
       "      <td>https://www.tokopedia.com/miami</td>\n",
       "      <td>60</td>\n",
       "      <td>Elektronik</td>\n",
       "      <td>https://www.tokopedia.com/p/elektronik/alat-pe...</td>\n",
       "    </tr>\n",
       "  </tbody>\n",
       "</table>\n",
       "<p>4000 rows × 11 columns</p>\n",
       "</div>"
      ],
      "text/plain": [
       "               id                                               name    price  \\\n",
       "0       537229431            REIWA AC Window 1/2 PK CW-0501RA 0,5 PK  1999000   \n",
       "1     11999501602  CHANGHONG CSC 09NVB/09 NVB AC 1PK AC SPLIT 1 P...  2749000   \n",
       "2      1983798687  AC Midea 1/2 PK (0.5 PK) Standard - R32 Series...  2650000   \n",
       "3      3541192021         PIPA AC DENPOO PREMIUM 1/2-1PK (PER METER)    52000   \n",
       "4       282816734                AC DAIKIN FLASH INVERTER 1PK FTKQ25  5559000   \n",
       "...           ...                                                ...      ...   \n",
       "3995   1414933993  PROMO!!! AC HISENSE 1/2pk HISENSE 0.5 PK AN 05...  2657300   \n",
       "3996   1921262151  Daikin AC 1PK FTC 25 NV14 / 1 PK FTC25NV14 Tha...  4679000   \n",
       "3997   9422409877  AC AQUA 1/2PK/AQUA AC 1/2 PK BARU BERGARANSI R...  2659000   \n",
       "3998  13967466367  AC DAIKIN FTP15AV14 / FTP 15 AC SPLIT 1/2 PK B...  3359000   \n",
       "3999   1064155567  AC PANASONIC 1 PK STANDARD CSYN9WKJ / CS YN9WK...  3755000   \n",
       "\n",
       "                                                    url   shop_id  \\\n",
       "0     https://www.tokopedia.com/dprince/reiwa-ac-win...   1776467   \n",
       "1     https://www.tokopedia.com/starlyn/changhong-cs...   5498661   \n",
       "2     https://www.tokopedia.com/mideaofficial/ac-mid...   9829387   \n",
       "3     https://www.tokopedia.com/denpooelectronic/pip...   5144458   \n",
       "4     https://www.tokopedia.com/indocool88/ac-daikin...   2324351   \n",
       "...                                                 ...       ...   \n",
       "3995  https://www.tokopedia.com/mdselektronik/promo-...   3836532   \n",
       "3996  https://www.tokopedia.com/bonbon-elektronik/da...  10569663   \n",
       "3997  https://www.tokopedia.com/lucky-billy/ac-aqua-...   2288300   \n",
       "3998  https://www.tokopedia.com/sejuk-elektronik/ac-...   5308742   \n",
       "3999  https://www.tokopedia.com/miami/ac-panasonic-1...    348147   \n",
       "\n",
       "                  shop_name      shop_city  \\\n",
       "0                   DPRINCE  Jakarta Barat   \n",
       "1        Starlyn Elektronik  Jakarta Barat   \n",
       "2      Midea Official Store  Jakarta Utara   \n",
       "3     DENPOO OFFICIAL STORE  Jakarta Utara   \n",
       "4                 INDO COOL  Jakarta Barat   \n",
       "...                     ...            ...   \n",
       "3995         MDS Elektronik          Depok   \n",
       "3996      Bonbon_Elektronik  Jakarta Utara   \n",
       "3997    top jaya electronik  Kab. Karawang   \n",
       "3998       Sejuk Elektronik      Tangerang   \n",
       "3999                  Miami       Surabaya   \n",
       "\n",
       "                                         shop_url  category_id category_name  \\\n",
       "0               https://www.tokopedia.com/dprince           60    Elektronik   \n",
       "1               https://www.tokopedia.com/starlyn           60    Elektronik   \n",
       "2         https://www.tokopedia.com/mideaofficial           60    Elektronik   \n",
       "3      https://www.tokopedia.com/denpooelectronic           60    Elektronik   \n",
       "4            https://www.tokopedia.com/indocool88           60    Elektronik   \n",
       "...                                           ...          ...           ...   \n",
       "3995      https://www.tokopedia.com/mdselektronik           60    Elektronik   \n",
       "3996  https://www.tokopedia.com/bonbon-elektronik           60    Elektronik   \n",
       "3997        https://www.tokopedia.com/lucky-billy           60    Elektronik   \n",
       "3998   https://www.tokopedia.com/sejuk-elektronik           60    Elektronik   \n",
       "3999              https://www.tokopedia.com/miami           60    Elektronik   \n",
       "\n",
       "                                           category_url  \n",
       "0     https://www.tokopedia.com/p/elektronik/alat-pe...  \n",
       "1     https://www.tokopedia.com/p/elektronik/alat-pe...  \n",
       "2     https://www.tokopedia.com/p/elektronik/alat-pe...  \n",
       "3     https://www.tokopedia.com/p/elektronik/alat-pe...  \n",
       "4     https://www.tokopedia.com/p/elektronik/alat-pe...  \n",
       "...                                                 ...  \n",
       "3995  https://www.tokopedia.com/p/elektronik/alat-pe...  \n",
       "3996  https://www.tokopedia.com/p/elektronik/alat-pe...  \n",
       "3997  https://www.tokopedia.com/p/elektronik/alat-pe...  \n",
       "3998  https://www.tokopedia.com/p/elektronik/alat-pe...  \n",
       "3999  https://www.tokopedia.com/p/elektronik/alat-pe...  \n",
       "\n",
       "[4000 rows x 11 columns]"
      ]
     },
     "execution_count": 95,
     "metadata": {},
     "output_type": "execute_result"
    }
   ],
   "source": [
    "df"
   ]
  },
  {
   "cell_type": "markdown",
   "metadata": {},
   "source": [
    "# End"
   ]
  },
  {
   "cell_type": "markdown",
   "metadata": {},
   "source": []
  }
 ],
 "metadata": {
  "kernelspec": {
   "display_name": "Python 3 (ipykernel)",
   "language": "python",
   "name": "python3"
  },
  "language_info": {
   "codemirror_mode": {
    "name": "ipython",
    "version": 3
   },
   "file_extension": ".py",
   "mimetype": "text/x-python",
   "name": "python",
   "nbconvert_exporter": "python",
   "pygments_lexer": "ipython3",
   "version": "3.12.2"
  }
 },
 "nbformat": 4,
 "nbformat_minor": 4
}
