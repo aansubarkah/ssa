{
 "cells": [
  {
   "cell_type": "code",
   "execution_count": 11,
   "id": "510f37d9-d89d-44c4-b31c-332d7af4c33e",
   "metadata": {
    "execution": {
     "iopub.execute_input": "2024-08-31T03:41:39.823807Z",
     "iopub.status.busy": "2024-08-31T03:41:39.822809Z",
     "iopub.status.idle": "2024-08-31T03:41:39.833660Z",
     "shell.execute_reply": "2024-08-31T03:41:39.831650Z",
     "shell.execute_reply.started": "2024-08-31T03:41:39.823807Z"
    }
   },
   "outputs": [],
   "source": [
    "import requests\n",
    "\n",
    "from bs4 import BeautifulSoup\n",
    "\n",
    "import pandas as pd"
   ]
  },
  {
   "cell_type": "code",
   "execution_count": null,
   "id": "45b79412-1c65-4400-8bd6-7286472635c5",
   "metadata": {},
   "outputs": [],
   "source": []
  },
  {
   "cell_type": "code",
   "execution_count": null,
   "id": "3ccf1098-0279-4ccb-8e99-0bc522cf80b9",
   "metadata": {},
   "outputs": [],
   "source": []
  },
  {
   "cell_type": "code",
   "execution_count": 7,
   "id": "95182b51-e680-4956-ab2e-c21f8385eb1a",
   "metadata": {
    "execution": {
     "iopub.execute_input": "2024-08-31T03:37:22.850568Z",
     "iopub.status.busy": "2024-08-31T03:37:22.849060Z",
     "iopub.status.idle": "2024-08-31T03:37:26.846263Z",
     "shell.execute_reply": "2024-08-31T03:37:26.845248Z",
     "shell.execute_reply.started": "2024-08-31T03:37:22.850568Z"
    }
   },
   "outputs": [],
   "source": [
    "r = requests.get('https://scrapeme.live/shop/page/3')"
   ]
  },
  {
   "cell_type": "code",
   "execution_count": 9,
   "id": "f24a7e93-efaa-44d8-8c18-b0b6dc06859d",
   "metadata": {
    "execution": {
     "iopub.execute_input": "2024-08-31T03:39:29.724245Z",
     "iopub.status.busy": "2024-08-31T03:39:29.722251Z",
     "iopub.status.idle": "2024-08-31T03:39:29.733752Z",
     "shell.execute_reply": "2024-08-31T03:39:29.730737Z",
     "shell.execute_reply.started": "2024-08-31T03:39:29.724245Z"
    }
   },
   "outputs": [],
   "source": [
    "#r.text"
   ]
  },
  {
   "cell_type": "code",
   "execution_count": 12,
   "id": "bbf7ad42-57b2-485b-9a70-5a0291d508fa",
   "metadata": {
    "execution": {
     "iopub.execute_input": "2024-08-31T03:41:52.189836Z",
     "iopub.status.busy": "2024-08-31T03:41:52.188324Z",
     "iopub.status.idle": "2024-08-31T03:41:52.243903Z",
     "shell.execute_reply": "2024-08-31T03:41:52.240907Z",
     "shell.execute_reply.started": "2024-08-31T03:41:52.189836Z"
    }
   },
   "outputs": [],
   "source": [
    "soup = BeautifulSoup(r.content, 'html.parser')"
   ]
  },
  {
   "cell_type": "code",
   "execution_count": 14,
   "id": "21e2e6e5-8ac9-4c6d-856f-6e20932a0b0e",
   "metadata": {
    "execution": {
     "iopub.execute_input": "2024-08-31T03:42:26.288950Z",
     "iopub.status.busy": "2024-08-31T03:42:26.287953Z",
     "iopub.status.idle": "2024-08-31T03:42:26.294356Z",
     "shell.execute_reply": "2024-08-31T03:42:26.293355Z",
     "shell.execute_reply.started": "2024-08-31T03:42:26.288950Z"
    }
   },
   "outputs": [],
   "source": [
    "h2s = soup.findAll('h2')"
   ]
  },
  {
   "cell_type": "code",
   "execution_count": 15,
   "id": "89edcff3-ed8a-47ea-922a-815c08b6ff2c",
   "metadata": {
    "execution": {
     "iopub.execute_input": "2024-08-31T03:42:28.688087Z",
     "iopub.status.busy": "2024-08-31T03:42:28.687092Z",
     "iopub.status.idle": "2024-08-31T03:42:28.702269Z",
     "shell.execute_reply": "2024-08-31T03:42:28.699900Z",
     "shell.execute_reply.started": "2024-08-31T03:42:28.688087Z"
    }
   },
   "outputs": [
    {
     "data": {
      "text/plain": [
       "[<h2 class=\"woocommerce-loop-product__title\">Clefairy</h2>,\n",
       " <h2 class=\"woocommerce-loop-product__title\">Clefable</h2>,\n",
       " <h2 class=\"woocommerce-loop-product__title\">Vulpix</h2>,\n",
       " <h2 class=\"woocommerce-loop-product__title\">Ninetales</h2>,\n",
       " <h2 class=\"woocommerce-loop-product__title\">Jigglypuff</h2>,\n",
       " <h2 class=\"woocommerce-loop-product__title\">Wigglytuff</h2>,\n",
       " <h2 class=\"woocommerce-loop-product__title\">Zubat</h2>,\n",
       " <h2 class=\"woocommerce-loop-product__title\">Golbat</h2>,\n",
       " <h2 class=\"woocommerce-loop-product__title\">Oddish</h2>,\n",
       " <h2 class=\"woocommerce-loop-product__title\">Gloom</h2>,\n",
       " <h2 class=\"woocommerce-loop-product__title\">Vileplume</h2>,\n",
       " <h2 class=\"woocommerce-loop-product__title\">Paras</h2>,\n",
       " <h2 class=\"woocommerce-loop-product__title\">Parasect</h2>,\n",
       " <h2 class=\"woocommerce-loop-product__title\">Venonat</h2>,\n",
       " <h2 class=\"woocommerce-loop-product__title\">Venomoth</h2>,\n",
       " <h2 class=\"woocommerce-loop-product__title\">Diglett</h2>]"
      ]
     },
     "execution_count": 15,
     "metadata": {},
     "output_type": "execute_result"
    }
   ],
   "source": [
    "h2s"
   ]
  },
  {
   "cell_type": "code",
   "execution_count": 16,
   "id": "2f058ab7-153a-4791-9c74-4841d74343f6",
   "metadata": {
    "execution": {
     "iopub.execute_input": "2024-08-31T03:42:38.345877Z",
     "iopub.status.busy": "2024-08-31T03:42:38.344882Z",
     "iopub.status.idle": "2024-08-31T03:42:38.356638Z",
     "shell.execute_reply": "2024-08-31T03:42:38.354625Z",
     "shell.execute_reply.started": "2024-08-31T03:42:38.345877Z"
    }
   },
   "outputs": [
    {
     "data": {
      "text/plain": [
       "16"
      ]
     },
     "execution_count": 16,
     "metadata": {},
     "output_type": "execute_result"
    }
   ],
   "source": [
    "len(h2s)"
   ]
  },
  {
   "cell_type": "code",
   "execution_count": 17,
   "id": "6d4996aa-0c25-4ae0-ba50-ee6616289343",
   "metadata": {
    "execution": {
     "iopub.execute_input": "2024-08-31T03:45:02.705709Z",
     "iopub.status.busy": "2024-08-31T03:45:02.704712Z",
     "iopub.status.idle": "2024-08-31T03:45:02.714084Z",
     "shell.execute_reply": "2024-08-31T03:45:02.713035Z",
     "shell.execute_reply.started": "2024-08-31T03:45:02.704712Z"
    }
   },
   "outputs": [],
   "source": [
    "harga = soup.find_all('span', {'class': 'price'})"
   ]
  },
  {
   "cell_type": "code",
   "execution_count": 18,
   "id": "9a973117-6479-4bef-bbaa-89a4c70f3945",
   "metadata": {
    "execution": {
     "iopub.execute_input": "2024-08-31T03:45:04.899335Z",
     "iopub.status.busy": "2024-08-31T03:45:04.898338Z",
     "iopub.status.idle": "2024-08-31T03:45:04.907747Z",
     "shell.execute_reply": "2024-08-31T03:45:04.906699Z",
     "shell.execute_reply.started": "2024-08-31T03:45:04.899335Z"
    }
   },
   "outputs": [
    {
     "data": {
      "text/plain": [
       "[<span class=\"price\"><span class=\"woocommerce-Price-amount amount\"><span class=\"woocommerce-Price-currencySymbol\">£</span>160.00</span></span>,\n",
       " <span class=\"price\"><span class=\"woocommerce-Price-amount amount\"><span class=\"woocommerce-Price-currencySymbol\">£</span>188.00</span></span>,\n",
       " <span class=\"price\"><span class=\"woocommerce-Price-amount amount\"><span class=\"woocommerce-Price-currencySymbol\">£</span>85.00</span></span>,\n",
       " <span class=\"price\"><span class=\"woocommerce-Price-amount amount\"><span class=\"woocommerce-Price-currencySymbol\">£</span>52.00</span></span>,\n",
       " <span class=\"price\"><span class=\"woocommerce-Price-amount amount\"><span class=\"woocommerce-Price-currencySymbol\">£</span>61.00</span></span>,\n",
       " <span class=\"price\"><span class=\"woocommerce-Price-amount amount\"><span class=\"woocommerce-Price-currencySymbol\">£</span>130.00</span></span>,\n",
       " <span class=\"price\"><span class=\"woocommerce-Price-amount amount\"><span class=\"woocommerce-Price-currencySymbol\">£</span>125.00</span></span>,\n",
       " <span class=\"price\"><span class=\"woocommerce-Price-amount amount\"><span class=\"woocommerce-Price-currencySymbol\">£</span>136.00</span></span>,\n",
       " <span class=\"price\"><span class=\"woocommerce-Price-amount amount\"><span class=\"woocommerce-Price-currencySymbol\">£</span>45.00</span></span>,\n",
       " <span class=\"price\"><span class=\"woocommerce-Price-amount amount\"><span class=\"woocommerce-Price-currencySymbol\">£</span>178.00</span></span>,\n",
       " <span class=\"price\"><span class=\"woocommerce-Price-amount amount\"><span class=\"woocommerce-Price-currencySymbol\">£</span>170.00</span></span>,\n",
       " <span class=\"price\"><span class=\"woocommerce-Price-amount amount\"><span class=\"woocommerce-Price-currencySymbol\">£</span>168.00</span></span>,\n",
       " <span class=\"price\"><span class=\"woocommerce-Price-amount amount\"><span class=\"woocommerce-Price-currencySymbol\">£</span>27.00</span></span>,\n",
       " <span class=\"price\"><span class=\"woocommerce-Price-amount amount\"><span class=\"woocommerce-Price-currencySymbol\">£</span>158.00</span></span>,\n",
       " <span class=\"price\"><span class=\"woocommerce-Price-amount amount\"><span class=\"woocommerce-Price-currencySymbol\">£</span>53.00</span></span>,\n",
       " <span class=\"price\"><span class=\"woocommerce-Price-amount amount\"><span class=\"woocommerce-Price-currencySymbol\">£</span>122.00</span></span>]"
      ]
     },
     "execution_count": 18,
     "metadata": {},
     "output_type": "execute_result"
    }
   ],
   "source": [
    "harga"
   ]
  },
  {
   "cell_type": "code",
   "execution_count": 22,
   "id": "93eaf370-9d8b-447b-88f2-d4f36a799c02",
   "metadata": {
    "execution": {
     "iopub.execute_input": "2024-08-31T03:46:10.822892Z",
     "iopub.status.busy": "2024-08-31T03:46:10.821894Z",
     "iopub.status.idle": "2024-08-31T03:46:10.834710Z",
     "shell.execute_reply": "2024-08-31T03:46:10.832697Z",
     "shell.execute_reply.started": "2024-08-31T03:46:10.822892Z"
    }
   },
   "outputs": [
    {
     "name": "stdout",
     "output_type": "stream",
     "text": [
      "160.00\n",
      "188.00\n",
      "85.00\n",
      "52.00\n",
      "61.00\n",
      "130.00\n",
      "125.00\n",
      "136.00\n",
      "45.00\n",
      "178.00\n",
      "170.00\n",
      "168.00\n",
      "27.00\n",
      "158.00\n",
      "53.00\n",
      "122.00\n"
     ]
    }
   ],
   "source": [
    "for h in harga:\n",
    "    print(h.text.replace('£', ''))"
   ]
  },
  {
   "cell_type": "code",
   "execution_count": null,
   "id": "fa5cb3d3-9ee4-4a0d-bf10-dffbfc6bfb3a",
   "metadata": {},
   "outputs": [],
   "source": []
  },
  {
   "cell_type": "code",
   "execution_count": 24,
   "id": "a6b568be-975b-4d6d-b589-11724989a05a",
   "metadata": {
    "execution": {
     "iopub.execute_input": "2024-08-31T03:47:05.197584Z",
     "iopub.status.busy": "2024-08-31T03:47:05.197584Z",
     "iopub.status.idle": "2024-08-31T03:47:05.204656Z",
     "shell.execute_reply": "2024-08-31T03:47:05.203651Z",
     "shell.execute_reply.started": "2024-08-31T03:47:05.197584Z"
    }
   },
   "outputs": [
    {
     "name": "stdout",
     "output_type": "stream",
     "text": [
      "Clefairy\n",
      "Clefable\n",
      "Vulpix\n",
      "Ninetales\n",
      "Jigglypuff\n",
      "Wigglytuff\n",
      "Zubat\n",
      "Golbat\n",
      "Oddish\n",
      "Gloom\n",
      "Vileplume\n",
      "Paras\n",
      "Parasect\n",
      "Venonat\n",
      "Venomoth\n",
      "Diglett\n"
     ]
    }
   ],
   "source": [
    "name_ls = []\n",
    "\n",
    "for h in h2s:\n",
    "    print(h.text)\n",
    "    name_ls.append(h.text)"
   ]
  },
  {
   "cell_type": "code",
   "execution_count": 25,
   "id": "90e1d07f-da59-40e6-ad7e-f13e173a31fc",
   "metadata": {
    "execution": {
     "iopub.execute_input": "2024-08-31T03:47:12.133543Z",
     "iopub.status.busy": "2024-08-31T03:47:12.132546Z",
     "iopub.status.idle": "2024-08-31T03:47:12.144463Z",
     "shell.execute_reply": "2024-08-31T03:47:12.143449Z",
     "shell.execute_reply.started": "2024-08-31T03:47:12.133543Z"
    }
   },
   "outputs": [
    {
     "data": {
      "text/plain": [
       "['Clefairy',\n",
       " 'Clefable',\n",
       " 'Vulpix',\n",
       " 'Ninetales',\n",
       " 'Jigglypuff',\n",
       " 'Wigglytuff',\n",
       " 'Zubat',\n",
       " 'Golbat',\n",
       " 'Oddish',\n",
       " 'Gloom',\n",
       " 'Vileplume',\n",
       " 'Paras',\n",
       " 'Parasect',\n",
       " 'Venonat',\n",
       " 'Venomoth',\n",
       " 'Diglett']"
      ]
     },
     "execution_count": 25,
     "metadata": {},
     "output_type": "execute_result"
    }
   ],
   "source": [
    "name_ls"
   ]
  },
  {
   "cell_type": "code",
   "execution_count": null,
   "id": "134ed517-e7d0-4ffc-b7a0-e49a59f5f41b",
   "metadata": {},
   "outputs": [],
   "source": []
  },
  {
   "cell_type": "code",
   "execution_count": 26,
   "id": "707aa73d-c13a-445e-ad57-86c6cf46e449",
   "metadata": {
    "execution": {
     "iopub.execute_input": "2024-08-31T03:47:45.826274Z",
     "iopub.status.busy": "2024-08-31T03:47:45.824281Z",
     "iopub.status.idle": "2024-08-31T03:47:45.842827Z",
     "shell.execute_reply": "2024-08-31T03:47:45.839309Z",
     "shell.execute_reply.started": "2024-08-31T03:47:45.826274Z"
    }
   },
   "outputs": [
    {
     "name": "stdout",
     "output_type": "stream",
     "text": [
      "160.00\n",
      "188.00\n",
      "85.00\n",
      "52.00\n",
      "61.00\n",
      "130.00\n",
      "125.00\n",
      "136.00\n",
      "45.00\n",
      "178.00\n",
      "170.00\n",
      "168.00\n",
      "27.00\n",
      "158.00\n",
      "53.00\n",
      "122.00\n"
     ]
    }
   ],
   "source": [
    "price_ls = []\n",
    "\n",
    "for h in harga:\n",
    "    print(h.text.replace('£', ''))\n",
    "    price_ls.append(h.text.replace('£', ''))"
   ]
  },
  {
   "cell_type": "code",
   "execution_count": 32,
   "id": "1356baba-e337-45a0-859b-7f07fa040c71",
   "metadata": {
    "execution": {
     "iopub.execute_input": "2024-08-31T03:49:58.950733Z",
     "iopub.status.busy": "2024-08-31T03:49:58.949732Z",
     "iopub.status.idle": "2024-08-31T03:49:58.958908Z",
     "shell.execute_reply": "2024-08-31T03:49:58.958336Z",
     "shell.execute_reply.started": "2024-08-31T03:49:58.950733Z"
    }
   },
   "outputs": [
    {
     "name": "stdout",
     "output_type": "stream",
     "text": [
      "Clefairy\n",
      "Clefable\n",
      "Vulpix\n",
      "Ninetales\n",
      "Jigglypuff\n",
      "Wigglytuff\n",
      "Zubat\n",
      "Golbat\n",
      "Oddish\n",
      "Gloom\n",
      "Vileplume\n",
      "Paras\n",
      "Parasect\n",
      "Venonat\n",
      "Venomoth\n",
      "Diglett\n"
     ]
    }
   ],
   "source": [
    "ls = []\n",
    "\n",
    "for i in range(0, 16):\n",
    "    print(name_ls[i])\n",
    "    ls.append({\n",
    "        'nama': name_ls[i],\n",
    "        'harga': price_ls[i],\n",
    "    })"
   ]
  },
  {
   "cell_type": "code",
   "execution_count": 33,
   "id": "7d03c385-73dd-4446-97af-1f19ee591f05",
   "metadata": {
    "execution": {
     "iopub.execute_input": "2024-08-31T03:50:01.508637Z",
     "iopub.status.busy": "2024-08-31T03:50:01.507643Z",
     "iopub.status.idle": "2024-08-31T03:50:01.526379Z",
     "shell.execute_reply": "2024-08-31T03:50:01.524368Z",
     "shell.execute_reply.started": "2024-08-31T03:50:01.508637Z"
    }
   },
   "outputs": [
    {
     "data": {
      "text/plain": [
       "[{'nama': 'Clefairy', 'harga': '160.00'},\n",
       " {'nama': 'Clefable', 'harga': '188.00'},\n",
       " {'nama': 'Vulpix', 'harga': '85.00'},\n",
       " {'nama': 'Ninetales', 'harga': '52.00'},\n",
       " {'nama': 'Jigglypuff', 'harga': '61.00'},\n",
       " {'nama': 'Wigglytuff', 'harga': '130.00'},\n",
       " {'nama': 'Zubat', 'harga': '125.00'},\n",
       " {'nama': 'Golbat', 'harga': '136.00'},\n",
       " {'nama': 'Oddish', 'harga': '45.00'},\n",
       " {'nama': 'Gloom', 'harga': '178.00'},\n",
       " {'nama': 'Vileplume', 'harga': '170.00'},\n",
       " {'nama': 'Paras', 'harga': '168.00'},\n",
       " {'nama': 'Parasect', 'harga': '27.00'},\n",
       " {'nama': 'Venonat', 'harga': '158.00'},\n",
       " {'nama': 'Venomoth', 'harga': '53.00'},\n",
       " {'nama': 'Diglett', 'harga': '122.00'}]"
      ]
     },
     "execution_count": 33,
     "metadata": {},
     "output_type": "execute_result"
    }
   ],
   "source": [
    "ls"
   ]
  },
  {
   "cell_type": "code",
   "execution_count": 34,
   "id": "da18ba41-0bfe-49e3-9fb9-6435b47f43c1",
   "metadata": {
    "execution": {
     "iopub.execute_input": "2024-08-31T03:50:11.555013Z",
     "iopub.status.busy": "2024-08-31T03:50:11.554019Z",
     "iopub.status.idle": "2024-08-31T03:50:11.563333Z",
     "shell.execute_reply": "2024-08-31T03:50:11.561321Z",
     "shell.execute_reply.started": "2024-08-31T03:50:11.555013Z"
    }
   },
   "outputs": [],
   "source": [
    "df = pd.DataFrame(ls)"
   ]
  },
  {
   "cell_type": "code",
   "execution_count": 35,
   "id": "425a4ed5-9580-42dc-95ee-6b8a07573081",
   "metadata": {
    "execution": {
     "iopub.execute_input": "2024-08-31T03:50:12.599169Z",
     "iopub.status.busy": "2024-08-31T03:50:12.597653Z",
     "iopub.status.idle": "2024-08-31T03:50:12.630435Z",
     "shell.execute_reply": "2024-08-31T03:50:12.627972Z",
     "shell.execute_reply.started": "2024-08-31T03:50:12.599169Z"
    }
   },
   "outputs": [
    {
     "data": {
      "text/html": [
       "<div>\n",
       "<style scoped>\n",
       "    .dataframe tbody tr th:only-of-type {\n",
       "        vertical-align: middle;\n",
       "    }\n",
       "\n",
       "    .dataframe tbody tr th {\n",
       "        vertical-align: top;\n",
       "    }\n",
       "\n",
       "    .dataframe thead th {\n",
       "        text-align: right;\n",
       "    }\n",
       "</style>\n",
       "<table border=\"1\" class=\"dataframe\">\n",
       "  <thead>\n",
       "    <tr style=\"text-align: right;\">\n",
       "      <th></th>\n",
       "      <th>nama</th>\n",
       "      <th>harga</th>\n",
       "    </tr>\n",
       "  </thead>\n",
       "  <tbody>\n",
       "    <tr>\n",
       "      <th>0</th>\n",
       "      <td>Clefairy</td>\n",
       "      <td>160.00</td>\n",
       "    </tr>\n",
       "    <tr>\n",
       "      <th>1</th>\n",
       "      <td>Clefable</td>\n",
       "      <td>188.00</td>\n",
       "    </tr>\n",
       "    <tr>\n",
       "      <th>2</th>\n",
       "      <td>Vulpix</td>\n",
       "      <td>85.00</td>\n",
       "    </tr>\n",
       "    <tr>\n",
       "      <th>3</th>\n",
       "      <td>Ninetales</td>\n",
       "      <td>52.00</td>\n",
       "    </tr>\n",
       "    <tr>\n",
       "      <th>4</th>\n",
       "      <td>Jigglypuff</td>\n",
       "      <td>61.00</td>\n",
       "    </tr>\n",
       "    <tr>\n",
       "      <th>5</th>\n",
       "      <td>Wigglytuff</td>\n",
       "      <td>130.00</td>\n",
       "    </tr>\n",
       "    <tr>\n",
       "      <th>6</th>\n",
       "      <td>Zubat</td>\n",
       "      <td>125.00</td>\n",
       "    </tr>\n",
       "    <tr>\n",
       "      <th>7</th>\n",
       "      <td>Golbat</td>\n",
       "      <td>136.00</td>\n",
       "    </tr>\n",
       "    <tr>\n",
       "      <th>8</th>\n",
       "      <td>Oddish</td>\n",
       "      <td>45.00</td>\n",
       "    </tr>\n",
       "    <tr>\n",
       "      <th>9</th>\n",
       "      <td>Gloom</td>\n",
       "      <td>178.00</td>\n",
       "    </tr>\n",
       "    <tr>\n",
       "      <th>10</th>\n",
       "      <td>Vileplume</td>\n",
       "      <td>170.00</td>\n",
       "    </tr>\n",
       "    <tr>\n",
       "      <th>11</th>\n",
       "      <td>Paras</td>\n",
       "      <td>168.00</td>\n",
       "    </tr>\n",
       "    <tr>\n",
       "      <th>12</th>\n",
       "      <td>Parasect</td>\n",
       "      <td>27.00</td>\n",
       "    </tr>\n",
       "    <tr>\n",
       "      <th>13</th>\n",
       "      <td>Venonat</td>\n",
       "      <td>158.00</td>\n",
       "    </tr>\n",
       "    <tr>\n",
       "      <th>14</th>\n",
       "      <td>Venomoth</td>\n",
       "      <td>53.00</td>\n",
       "    </tr>\n",
       "    <tr>\n",
       "      <th>15</th>\n",
       "      <td>Diglett</td>\n",
       "      <td>122.00</td>\n",
       "    </tr>\n",
       "  </tbody>\n",
       "</table>\n",
       "</div>"
      ],
      "text/plain": [
       "          nama   harga\n",
       "0     Clefairy  160.00\n",
       "1     Clefable  188.00\n",
       "2       Vulpix   85.00\n",
       "3    Ninetales   52.00\n",
       "4   Jigglypuff   61.00\n",
       "5   Wigglytuff  130.00\n",
       "6        Zubat  125.00\n",
       "7       Golbat  136.00\n",
       "8       Oddish   45.00\n",
       "9        Gloom  178.00\n",
       "10   Vileplume  170.00\n",
       "11       Paras  168.00\n",
       "12    Parasect   27.00\n",
       "13     Venonat  158.00\n",
       "14    Venomoth   53.00\n",
       "15     Diglett  122.00"
      ]
     },
     "execution_count": 35,
     "metadata": {},
     "output_type": "execute_result"
    }
   ],
   "source": [
    "df"
   ]
  },
  {
   "cell_type": "code",
   "execution_count": 36,
   "id": "025bdf91-f63e-4da9-b9ac-36d9eaec6e5e",
   "metadata": {
    "execution": {
     "iopub.execute_input": "2024-08-31T03:50:25.611749Z",
     "iopub.status.busy": "2024-08-31T03:50:25.610748Z",
     "iopub.status.idle": "2024-08-31T03:50:25.830982Z",
     "shell.execute_reply": "2024-08-31T03:50:25.829971Z",
     "shell.execute_reply.started": "2024-08-31T03:50:25.611749Z"
    }
   },
   "outputs": [],
   "source": [
    "df.to_excel('ini_dari_scrape_me.xlsx', index=False)"
   ]
  },
  {
   "cell_type": "code",
   "execution_count": null,
   "id": "e7ecf52f-ed86-43c0-a1a4-b7bf5438f149",
   "metadata": {},
   "outputs": [],
   "source": []
  }
 ],
 "metadata": {
  "kernelspec": {
   "display_name": "Python 3 (ipykernel)",
   "language": "python",
   "name": "python3"
  },
  "language_info": {
   "codemirror_mode": {
    "name": "ipython",
    "version": 3
   },
   "file_extension": ".py",
   "mimetype": "text/x-python",
   "name": "python",
   "nbconvert_exporter": "python",
   "pygments_lexer": "ipython3",
   "version": "3.12.2"
  }
 },
 "nbformat": 4,
 "nbformat_minor": 5
}
