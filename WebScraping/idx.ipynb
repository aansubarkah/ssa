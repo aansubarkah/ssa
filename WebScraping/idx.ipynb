{
 "cells": [
  {
   "cell_type": "code",
   "execution_count": 75,
   "id": "ebb82a6e-95a3-434c-888a-9e16d7a9b8da",
   "metadata": {
    "execution": {
     "iopub.execute_input": "2024-08-24T04:32:50.673461Z",
     "iopub.status.busy": "2024-08-24T04:32:50.668474Z",
     "iopub.status.idle": "2024-08-24T04:32:50.709943Z",
     "shell.execute_reply": "2024-08-24T04:32:50.708943Z",
     "shell.execute_reply.started": "2024-08-24T04:32:50.673461Z"
    }
   },
   "outputs": [],
   "source": [
    "import json\n",
    "import pandas as pd\n",
    "\n",
    "from selenium import webdriver\n",
    "from selenium.webdriver.chrome.service import Service as ChromeService\n",
    "from webdriver_manager.chrome import ChromeDriverManager\n",
    "from selenium.webdriver.common.by import By\n",
    "from datetime import datetime, timedelta"
   ]
  },
  {
   "cell_type": "code",
   "execution_count": 76,
   "id": "5a266e9a-b933-4d8f-80fb-3ee6ecb9ed29",
   "metadata": {
    "execution": {
     "iopub.execute_input": "2024-08-24T04:32:50.963201Z",
     "iopub.status.busy": "2024-08-24T04:32:50.962204Z",
     "iopub.status.idle": "2024-08-24T04:32:50.971469Z",
     "shell.execute_reply": "2024-08-24T04:32:50.969468Z",
     "shell.execute_reply.started": "2024-08-24T04:32:50.963201Z"
    }
   },
   "outputs": [],
   "source": [
    "#!pip install requests selenium webdriver-manager undetected-chromedriver nodriver\n",
    "#!pip install webdriver-manager --upgrade"
   ]
  },
  {
   "cell_type": "markdown",
   "id": "0d25e9fa-512f-48b7-ad72-2dc6edd5a0f0",
   "metadata": {},
   "source": [
    "# Buka Browser"
   ]
  },
  {
   "cell_type": "code",
   "execution_count": 77,
   "id": "976ea7be-1ba7-4f84-be7d-abae7d785aad",
   "metadata": {
    "execution": {
     "iopub.execute_input": "2024-08-24T04:32:51.506240Z",
     "iopub.status.busy": "2024-08-24T04:32:51.505215Z",
     "iopub.status.idle": "2024-08-24T04:33:04.555544Z",
     "shell.execute_reply": "2024-08-24T04:33:04.552546Z",
     "shell.execute_reply.started": "2024-08-24T04:32:51.506240Z"
    }
   },
   "outputs": [],
   "source": [
    "driver = webdriver.Chrome(service=ChromeService(ChromeDriverManager().install()))\n",
    "#driver = webdriver.Chrome()"
   ]
  },
  {
   "cell_type": "code",
   "execution_count": 78,
   "id": "9a6216ce-23d2-4e33-817a-aa298717899e",
   "metadata": {
    "execution": {
     "iopub.execute_input": "2024-08-24T04:33:04.561528Z",
     "iopub.status.busy": "2024-08-24T04:33:04.560533Z",
     "iopub.status.idle": "2024-08-24T04:33:07.000290Z",
     "shell.execute_reply": "2024-08-24T04:33:06.999287Z",
     "shell.execute_reply.started": "2024-08-24T04:33:04.561528Z"
    }
   },
   "outputs": [],
   "source": [
    "driver.get('https://www.idx.co.id/id/data-pasar/ringkasan-perdagangan/ringkasan-indeks')"
   ]
  },
  {
   "cell_type": "code",
   "execution_count": 79,
   "id": "4f7ed12e-2ac9-4230-b1e6-f928adc92e65",
   "metadata": {
    "execution": {
     "iopub.execute_input": "2024-08-24T04:33:07.003279Z",
     "iopub.status.busy": "2024-08-24T04:33:07.002282Z",
     "iopub.status.idle": "2024-08-24T04:33:07.008963Z",
     "shell.execute_reply": "2024-08-24T04:33:07.007961Z",
     "shell.execute_reply.started": "2024-08-24T04:33:07.003279Z"
    }
   },
   "outputs": [],
   "source": [
    "#driver.quit()"
   ]
  },
  {
   "cell_type": "code",
   "execution_count": 80,
   "id": "d2ceccea-874b-4cda-b062-3aae6d7fcd98",
   "metadata": {
    "execution": {
     "iopub.execute_input": "2024-08-24T04:33:07.015949Z",
     "iopub.status.busy": "2024-08-24T04:33:07.014952Z",
     "iopub.status.idle": "2024-08-24T04:33:07.196975Z",
     "shell.execute_reply": "2024-08-24T04:33:07.195973Z",
     "shell.execute_reply.started": "2024-08-24T04:33:07.015949Z"
    }
   },
   "outputs": [],
   "source": [
    "driver.get('https://www.idx.co.id/primary/TradingSummary/GetIndexSummary?date=20240820&length=9999&start=0')"
   ]
  },
  {
   "cell_type": "code",
   "execution_count": 81,
   "id": "e992bba4-170b-4ff4-bbce-fac0a97b9e60",
   "metadata": {
    "execution": {
     "iopub.execute_input": "2024-08-24T04:33:07.200965Z",
     "iopub.status.busy": "2024-08-24T04:33:07.199967Z",
     "iopub.status.idle": "2024-08-24T04:33:07.233386Z",
     "shell.execute_reply": "2024-08-24T04:33:07.232379Z",
     "shell.execute_reply.started": "2024-08-24T04:33:07.200965Z"
    }
   },
   "outputs": [],
   "source": [
    "teks = driver.find_element(By.TAG_NAME, 'pre')"
   ]
  },
  {
   "cell_type": "code",
   "execution_count": 82,
   "id": "25e08cd9-69bb-4b1a-a756-bad9d033271e",
   "metadata": {
    "execution": {
     "iopub.execute_input": "2024-08-24T04:33:07.236379Z",
     "iopub.status.busy": "2024-08-24T04:33:07.235378Z",
     "iopub.status.idle": "2024-08-24T04:33:07.265874Z",
     "shell.execute_reply": "2024-08-24T04:33:07.264874Z",
     "shell.execute_reply.started": "2024-08-24T04:33:07.236379Z"
    }
   },
   "outputs": [],
   "source": [
    "#teks.text\n",
    "data = json.loads(teks.text)"
   ]
  },
  {
   "cell_type": "code",
   "execution_count": 83,
   "id": "c347b8af-9783-4ad7-a6e8-e96fe4269d98",
   "metadata": {
    "execution": {
     "iopub.execute_input": "2024-08-24T04:33:07.268871Z",
     "iopub.status.busy": "2024-08-24T04:33:07.267870Z",
     "iopub.status.idle": "2024-08-24T04:33:07.274413Z",
     "shell.execute_reply": "2024-08-24T04:33:07.273412Z",
     "shell.execute_reply.started": "2024-08-24T04:33:07.268871Z"
    }
   },
   "outputs": [],
   "source": [
    "#data['data']"
   ]
  },
  {
   "cell_type": "code",
   "execution_count": 84,
   "id": "ebc76877-2aec-400f-ad76-04101cb88af0",
   "metadata": {
    "execution": {
     "iopub.execute_input": "2024-08-24T04:33:07.276408Z",
     "iopub.status.busy": "2024-08-24T04:33:07.275410Z",
     "iopub.status.idle": "2024-08-24T04:33:07.292903Z",
     "shell.execute_reply": "2024-08-24T04:33:07.291902Z",
     "shell.execute_reply.started": "2024-08-24T04:33:07.276408Z"
    }
   },
   "outputs": [],
   "source": [
    "with open('test.json', 'w', encoding='utf-8') as f:\n",
    "    json.dump(data['data'], f, indent=4)"
   ]
  },
  {
   "cell_type": "code",
   "execution_count": null,
   "id": "1331add6-3320-445d-a57d-2445877f6737",
   "metadata": {},
   "outputs": [],
   "source": []
  },
  {
   "cell_type": "code",
   "execution_count": 85,
   "id": "9920fd6d-ad11-4bf6-9714-f6b9825ddac7",
   "metadata": {
    "execution": {
     "iopub.execute_input": "2024-08-24T04:33:07.294897Z",
     "iopub.status.busy": "2024-08-24T04:33:07.294897Z",
     "iopub.status.idle": "2024-08-24T04:33:07.302678Z",
     "shell.execute_reply": "2024-08-24T04:33:07.300679Z",
     "shell.execute_reply.started": "2024-08-24T04:33:07.294897Z"
    }
   },
   "outputs": [],
   "source": [
    "url_depan = 'https://www.idx.co.id/primary/TradingSummary/GetIndexSummary?date=202408'\n",
    "url_belakang = '&length=9999&start=0'"
   ]
  },
  {
   "cell_type": "code",
   "execution_count": 96,
   "id": "d18731b0-da77-4128-b07f-14bbcb2d8c8d",
   "metadata": {
    "execution": {
     "iopub.execute_input": "2024-08-24T04:43:54.065017Z",
     "iopub.status.busy": "2024-08-24T04:43:54.064020Z",
     "iopub.status.idle": "2024-08-24T04:44:53.017510Z",
     "shell.execute_reply": "2024-08-24T04:44:53.015511Z",
     "shell.execute_reply.started": "2024-08-24T04:43:54.065017Z"
    }
   },
   "outputs": [
    {
     "name": "stdout",
     "output_type": "stream",
     "text": [
      "20220518\n",
      "20220519\n",
      "20220520\n",
      "20220521\n",
      "20220522\n",
      "20220523\n",
      "20220524\n",
      "20220525\n",
      "20220526\n",
      "20220527\n",
      "20220528\n",
      "20220529\n",
      "20220530\n",
      "20220531\n",
      "20220601\n",
      "20220602\n",
      "20220603\n",
      "20220604\n",
      "20220605\n",
      "20220606\n",
      "20220607\n",
      "20220608\n",
      "20220609\n",
      "20220610\n",
      "20220611\n",
      "20220612\n",
      "20220613\n",
      "20220614\n",
      "20220615\n",
      "20220616\n",
      "20220617\n",
      "20220618\n",
      "20220619\n",
      "20220620\n",
      "20220621\n",
      "20220622\n",
      "20220623\n",
      "20220624\n",
      "20220625\n",
      "20220626\n",
      "20220627\n",
      "20220628\n",
      "20220629\n",
      "20220630\n",
      "20220701\n",
      "20220702\n",
      "20220703\n",
      "20220704\n",
      "20220705\n",
      "20220706\n",
      "20220707\n",
      "20220708\n",
      "20220709\n",
      "20220710\n",
      "20220711\n",
      "20220712\n",
      "20220713\n",
      "20220714\n",
      "20220715\n",
      "20220716\n",
      "20220717\n",
      "20220718\n",
      "20220719\n",
      "20220720\n",
      "20220721\n",
      "20220722\n",
      "20220723\n",
      "20220724\n",
      "20220725\n",
      "20220726\n",
      "20220727\n",
      "20220728\n",
      "20220729\n",
      "20220730\n",
      "20220731\n",
      "20220801\n",
      "20220802\n",
      "20220803\n",
      "20220804\n",
      "20220805\n",
      "20220806\n",
      "20220807\n",
      "20220808\n",
      "20220809\n",
      "20220810\n",
      "20220811\n",
      "20220812\n",
      "20220813\n",
      "20220814\n",
      "20220815\n",
      "20220816\n",
      "20220817\n",
      "20220818\n",
      "20220819\n"
     ]
    },
    {
     "ename": "NoSuchElementException",
     "evalue": "Message: no such element: Unable to locate element: {\"method\":\"tag name\",\"selector\":\"pre\"}\n  (Session info: chrome=127.0.6533.120); For documentation on this error, please visit: https://www.selenium.dev/documentation/webdriver/troubleshooting/errors#no-such-element-exception\nStacktrace:\n\tGetHandleVerifier [0x008B8923+23283]\n\t(No symbol) [0x0087E934]\n\t(No symbol) [0x007B0733]\n\t(No symbol) [0x007F326F]\n\t(No symbol) [0x007F34AB]\n\t(No symbol) [0x0082EE42]\n\t(No symbol) [0x00814464]\n\t(No symbol) [0x0082CB8D]\n\t(No symbol) [0x008141B6]\n\t(No symbol) [0x007E8017]\n\t(No symbol) [0x007E890D]\n\tGetHandleVerifier [0x009AA5F3+1013699]\n\tGetHandleVerifier [0x009B3E4C+1052700]\n\tGetHandleVerifier [0x009AD4B4+1025668]\n\tGetHandleVerifier [0x008DEA2B+179195]\n\t(No symbol) [0x00886833]\n\t(No symbol) [0x00883198]\n\t(No symbol) [0x00883337]\n\t(No symbol) [0x0087B4BE]\n\tBaseThreadInitThunk [0x762F7BA9+25]\n\tRtlInitializeExceptionChain [0x7707C10B+107]\n\tRtlClearBits [0x7707C08F+191]\n",
     "output_type": "error",
     "traceback": [
      "\u001b[1;31m---------------------------------------------------------------------------\u001b[0m",
      "\u001b[1;31mNoSuchElementException\u001b[0m                    Traceback (most recent call last)",
      "Cell \u001b[1;32mIn[96], line 19\u001b[0m\n\u001b[0;32m     15\u001b[0m url \u001b[38;5;241m=\u001b[39m url_depan \u001b[38;5;241m+\u001b[39m cur_date\u001b[38;5;241m.\u001b[39mstrftime(\u001b[38;5;124m'\u001b[39m\u001b[38;5;124m%\u001b[39m\u001b[38;5;124mY\u001b[39m\u001b[38;5;124m%\u001b[39m\u001b[38;5;124mm\u001b[39m\u001b[38;5;132;01m%d\u001b[39;00m\u001b[38;5;124m'\u001b[39m) \u001b[38;5;241m+\u001b[39m url_belakang\n\u001b[0;32m     17\u001b[0m driver\u001b[38;5;241m.\u001b[39mget(url)\n\u001b[1;32m---> 19\u001b[0m teks \u001b[38;5;241m=\u001b[39m \u001b[43mdriver\u001b[49m\u001b[38;5;241;43m.\u001b[39;49m\u001b[43mfind_element\u001b[49m\u001b[43m(\u001b[49m\u001b[43mBy\u001b[49m\u001b[38;5;241;43m.\u001b[39;49m\u001b[43mTAG_NAME\u001b[49m\u001b[43m,\u001b[49m\u001b[43m \u001b[49m\u001b[38;5;124;43m'\u001b[39;49m\u001b[38;5;124;43mpre\u001b[39;49m\u001b[38;5;124;43m'\u001b[39;49m\u001b[43m)\u001b[49m\n\u001b[0;32m     20\u001b[0m data \u001b[38;5;241m=\u001b[39m json\u001b[38;5;241m.\u001b[39mloads(teks\u001b[38;5;241m.\u001b[39mtext)\n\u001b[0;32m     22\u001b[0m \u001b[38;5;28;01mwith\u001b[39;00m \u001b[38;5;28mopen\u001b[39m(cur_date\u001b[38;5;241m.\u001b[39mstrftime(\u001b[38;5;124m'\u001b[39m\u001b[38;5;124m%\u001b[39m\u001b[38;5;124mY\u001b[39m\u001b[38;5;124m%\u001b[39m\u001b[38;5;124mm\u001b[39m\u001b[38;5;132;01m%d\u001b[39;00m\u001b[38;5;124m'\u001b[39m) \u001b[38;5;241m+\u001b[39m \u001b[38;5;124m'\u001b[39m\u001b[38;5;124m.json\u001b[39m\u001b[38;5;124m'\u001b[39m, \u001b[38;5;124m'\u001b[39m\u001b[38;5;124mw\u001b[39m\u001b[38;5;124m'\u001b[39m, encoding\u001b[38;5;241m=\u001b[39m\u001b[38;5;124m'\u001b[39m\u001b[38;5;124mutf-8\u001b[39m\u001b[38;5;124m'\u001b[39m) \u001b[38;5;28;01mas\u001b[39;00m f:\n",
      "File \u001b[1;32m~\\anaconda3\\envs\\basangdata12\\Lib\\site-packages\\selenium\\webdriver\\remote\\webdriver.py:741\u001b[0m, in \u001b[0;36mWebDriver.find_element\u001b[1;34m(self, by, value)\u001b[0m\n\u001b[0;32m    738\u001b[0m     by \u001b[38;5;241m=\u001b[39m By\u001b[38;5;241m.\u001b[39mCSS_SELECTOR\n\u001b[0;32m    739\u001b[0m     value \u001b[38;5;241m=\u001b[39m \u001b[38;5;124mf\u001b[39m\u001b[38;5;124m'\u001b[39m\u001b[38;5;124m[name=\u001b[39m\u001b[38;5;124m\"\u001b[39m\u001b[38;5;132;01m{\u001b[39;00mvalue\u001b[38;5;132;01m}\u001b[39;00m\u001b[38;5;124m\"\u001b[39m\u001b[38;5;124m]\u001b[39m\u001b[38;5;124m'\u001b[39m\n\u001b[1;32m--> 741\u001b[0m \u001b[38;5;28;01mreturn\u001b[39;00m \u001b[38;5;28;43mself\u001b[39;49m\u001b[38;5;241;43m.\u001b[39;49m\u001b[43mexecute\u001b[49m\u001b[43m(\u001b[49m\u001b[43mCommand\u001b[49m\u001b[38;5;241;43m.\u001b[39;49m\u001b[43mFIND_ELEMENT\u001b[49m\u001b[43m,\u001b[49m\u001b[43m \u001b[49m\u001b[43m{\u001b[49m\u001b[38;5;124;43m\"\u001b[39;49m\u001b[38;5;124;43musing\u001b[39;49m\u001b[38;5;124;43m\"\u001b[39;49m\u001b[43m:\u001b[49m\u001b[43m \u001b[49m\u001b[43mby\u001b[49m\u001b[43m,\u001b[49m\u001b[43m \u001b[49m\u001b[38;5;124;43m\"\u001b[39;49m\u001b[38;5;124;43mvalue\u001b[39;49m\u001b[38;5;124;43m\"\u001b[39;49m\u001b[43m:\u001b[49m\u001b[43m \u001b[49m\u001b[43mvalue\u001b[49m\u001b[43m}\u001b[49m\u001b[43m)\u001b[49m[\u001b[38;5;124m\"\u001b[39m\u001b[38;5;124mvalue\u001b[39m\u001b[38;5;124m\"\u001b[39m]\n",
      "File \u001b[1;32m~\\anaconda3\\envs\\basangdata12\\Lib\\site-packages\\selenium\\webdriver\\remote\\webdriver.py:347\u001b[0m, in \u001b[0;36mWebDriver.execute\u001b[1;34m(self, driver_command, params)\u001b[0m\n\u001b[0;32m    345\u001b[0m response \u001b[38;5;241m=\u001b[39m \u001b[38;5;28mself\u001b[39m\u001b[38;5;241m.\u001b[39mcommand_executor\u001b[38;5;241m.\u001b[39mexecute(driver_command, params)\n\u001b[0;32m    346\u001b[0m \u001b[38;5;28;01mif\u001b[39;00m response:\n\u001b[1;32m--> 347\u001b[0m     \u001b[38;5;28;43mself\u001b[39;49m\u001b[38;5;241;43m.\u001b[39;49m\u001b[43merror_handler\u001b[49m\u001b[38;5;241;43m.\u001b[39;49m\u001b[43mcheck_response\u001b[49m\u001b[43m(\u001b[49m\u001b[43mresponse\u001b[49m\u001b[43m)\u001b[49m\n\u001b[0;32m    348\u001b[0m     response[\u001b[38;5;124m\"\u001b[39m\u001b[38;5;124mvalue\u001b[39m\u001b[38;5;124m\"\u001b[39m] \u001b[38;5;241m=\u001b[39m \u001b[38;5;28mself\u001b[39m\u001b[38;5;241m.\u001b[39m_unwrap_value(response\u001b[38;5;241m.\u001b[39mget(\u001b[38;5;124m\"\u001b[39m\u001b[38;5;124mvalue\u001b[39m\u001b[38;5;124m\"\u001b[39m, \u001b[38;5;28;01mNone\u001b[39;00m))\n\u001b[0;32m    349\u001b[0m     \u001b[38;5;28;01mreturn\u001b[39;00m response\n",
      "File \u001b[1;32m~\\anaconda3\\envs\\basangdata12\\Lib\\site-packages\\selenium\\webdriver\\remote\\errorhandler.py:229\u001b[0m, in \u001b[0;36mErrorHandler.check_response\u001b[1;34m(self, response)\u001b[0m\n\u001b[0;32m    227\u001b[0m         alert_text \u001b[38;5;241m=\u001b[39m value[\u001b[38;5;124m\"\u001b[39m\u001b[38;5;124malert\u001b[39m\u001b[38;5;124m\"\u001b[39m]\u001b[38;5;241m.\u001b[39mget(\u001b[38;5;124m\"\u001b[39m\u001b[38;5;124mtext\u001b[39m\u001b[38;5;124m\"\u001b[39m)\n\u001b[0;32m    228\u001b[0m     \u001b[38;5;28;01mraise\u001b[39;00m exception_class(message, screen, stacktrace, alert_text)  \u001b[38;5;66;03m# type: ignore[call-arg]  # mypy is not smart enough here\u001b[39;00m\n\u001b[1;32m--> 229\u001b[0m \u001b[38;5;28;01mraise\u001b[39;00m exception_class(message, screen, stacktrace)\n",
      "\u001b[1;31mNoSuchElementException\u001b[0m: Message: no such element: Unable to locate element: {\"method\":\"tag name\",\"selector\":\"pre\"}\n  (Session info: chrome=127.0.6533.120); For documentation on this error, please visit: https://www.selenium.dev/documentation/webdriver/troubleshooting/errors#no-such-element-exception\nStacktrace:\n\tGetHandleVerifier [0x008B8923+23283]\n\t(No symbol) [0x0087E934]\n\t(No symbol) [0x007B0733]\n\t(No symbol) [0x007F326F]\n\t(No symbol) [0x007F34AB]\n\t(No symbol) [0x0082EE42]\n\t(No symbol) [0x00814464]\n\t(No symbol) [0x0082CB8D]\n\t(No symbol) [0x008141B6]\n\t(No symbol) [0x007E8017]\n\t(No symbol) [0x007E890D]\n\tGetHandleVerifier [0x009AA5F3+1013699]\n\tGetHandleVerifier [0x009B3E4C+1052700]\n\tGetHandleVerifier [0x009AD4B4+1025668]\n\tGetHandleVerifier [0x008DEA2B+179195]\n\t(No symbol) [0x00886833]\n\t(No symbol) [0x00883198]\n\t(No symbol) [0x00883337]\n\t(No symbol) [0x0087B4BE]\n\tBaseThreadInitThunk [0x762F7BA9+25]\n\tRtlInitializeExceptionChain [0x7707C10B+107]\n\tRtlClearBits [0x7707C08F+191]\n"
     ]
    }
   ],
   "source": [
    "driver = webdriver.Chrome(service=ChromeService(ChromeDriverManager().install()))\n",
    "\n",
    "driver.get('https://www.idx.co.id/id/data-pasar/ringkasan-perdagangan/ringkasan-indeks')\n",
    "\n",
    "start_date = datetime(2022, 5, 18)\n",
    "end_date = datetime(2022, 12, 31)\n",
    "\n",
    "cur_date = start_date\n",
    "\n",
    "url_depan = 'https://www.idx.co.id/primary/TradingSummary/GetIndexSummary?date='\n",
    "url_belakang = '&length=9999&start=0'\n",
    "\n",
    "while cur_date <= end_date:\n",
    "    print(cur_date.strftime('%Y%m%d'))\n",
    "    url = url_depan + cur_date.strftime('%Y%m%d') + url_belakang\n",
    "      \n",
    "    driver.get(url)\n",
    "\n",
    "    teks = driver.find_element(By.TAG_NAME, 'pre')\n",
    "    data = json.loads(teks.text)\n",
    "\n",
    "    with open(cur_date.strftime('%Y%m%d') + '.json', 'w', encoding='utf-8') as f:\n",
    "        json.dump(data['data'], f, indent=4)\n",
    "\n",
    "    cur_date = cur_date + timedelta(days=1)\n",
    "\n",
    "    #time.sleep(10)"
   ]
  },
  {
   "cell_type": "code",
   "execution_count": 60,
   "id": "7ef4ad1c-3531-47b2-b28e-25cdaf9aaddf",
   "metadata": {
    "execution": {
     "iopub.execute_input": "2024-08-24T03:28:10.662051Z",
     "iopub.status.busy": "2024-08-24T03:28:10.662051Z",
     "iopub.status.idle": "2024-08-24T03:28:13.646458Z",
     "shell.execute_reply": "2024-08-24T03:28:13.644443Z",
     "shell.execute_reply.started": "2024-08-24T03:28:10.662051Z"
    }
   },
   "outputs": [],
   "source": [
    "driver.quit()"
   ]
  },
  {
   "cell_type": "markdown",
   "id": "a8a3da5a-6c9e-4b14-9f36-7b8a05c1e62f",
   "metadata": {},
   "source": []
  },
  {
   "cell_type": "code",
   "execution_count": 59,
   "id": "3821e552-75ee-40f3-9a02-cb64fce8a53a",
   "metadata": {
    "execution": {
     "iopub.execute_input": "2024-08-24T03:27:42.368649Z",
     "iopub.status.busy": "2024-08-24T03:27:42.367653Z",
     "iopub.status.idle": "2024-08-24T03:28:10.657540Z",
     "shell.execute_reply": "2024-08-24T03:28:10.655531Z",
     "shell.execute_reply.started": "2024-08-24T03:27:42.368649Z"
    }
   },
   "outputs": [
    {
     "name": "stdout",
     "output_type": "stream",
     "text": [
      "https://www.idx.co.id/primary/TradingSummary/GetIndexSummary?date=20240801&length=9999&start=0\n",
      "https://www.idx.co.id/primary/TradingSummary/GetIndexSummary?date=20240802&length=9999&start=0\n",
      "https://www.idx.co.id/primary/TradingSummary/GetIndexSummary?date=20240803&length=9999&start=0\n",
      "https://www.idx.co.id/primary/TradingSummary/GetIndexSummary?date=20240804&length=9999&start=0\n",
      "https://www.idx.co.id/primary/TradingSummary/GetIndexSummary?date=20240805&length=9999&start=0\n",
      "https://www.idx.co.id/primary/TradingSummary/GetIndexSummary?date=20240806&length=9999&start=0\n",
      "https://www.idx.co.id/primary/TradingSummary/GetIndexSummary?date=20240807&length=9999&start=0\n",
      "https://www.idx.co.id/primary/TradingSummary/GetIndexSummary?date=20240808&length=9999&start=0\n",
      "https://www.idx.co.id/primary/TradingSummary/GetIndexSummary?date=20240809&length=9999&start=0\n",
      "https://www.idx.co.id/primary/TradingSummary/GetIndexSummary?date=20240810&length=9999&start=0\n",
      "https://www.idx.co.id/primary/TradingSummary/GetIndexSummary?date=20240811&length=9999&start=0\n",
      "https://www.idx.co.id/primary/TradingSummary/GetIndexSummary?date=20240812&length=9999&start=0\n",
      "https://www.idx.co.id/primary/TradingSummary/GetIndexSummary?date=20240813&length=9999&start=0\n",
      "https://www.idx.co.id/primary/TradingSummary/GetIndexSummary?date=20240814&length=9999&start=0\n",
      "https://www.idx.co.id/primary/TradingSummary/GetIndexSummary?date=20240815&length=9999&start=0\n",
      "https://www.idx.co.id/primary/TradingSummary/GetIndexSummary?date=20240816&length=9999&start=0\n",
      "https://www.idx.co.id/primary/TradingSummary/GetIndexSummary?date=20240817&length=9999&start=0\n",
      "https://www.idx.co.id/primary/TradingSummary/GetIndexSummary?date=20240818&length=9999&start=0\n",
      "https://www.idx.co.id/primary/TradingSummary/GetIndexSummary?date=20240819&length=9999&start=0\n",
      "https://www.idx.co.id/primary/TradingSummary/GetIndexSummary?date=20240820&length=9999&start=0\n",
      "https://www.idx.co.id/primary/TradingSummary/GetIndexSummary?date=20240821&length=9999&start=0\n",
      "https://www.idx.co.id/primary/TradingSummary/GetIndexSummary?date=20240822&length=9999&start=0\n",
      "https://www.idx.co.id/primary/TradingSummary/GetIndexSummary?date=20240823&length=9999&start=0\n",
      "https://www.idx.co.id/primary/TradingSummary/GetIndexSummary?date=20240824&length=9999&start=0\n",
      "https://www.idx.co.id/primary/TradingSummary/GetIndexSummary?date=20240825&length=9999&start=0\n",
      "https://www.idx.co.id/primary/TradingSummary/GetIndexSummary?date=20240826&length=9999&start=0\n",
      "https://www.idx.co.id/primary/TradingSummary/GetIndexSummary?date=20240827&length=9999&start=0\n",
      "https://www.idx.co.id/primary/TradingSummary/GetIndexSummary?date=20240828&length=9999&start=0\n",
      "https://www.idx.co.id/primary/TradingSummary/GetIndexSummary?date=20240829&length=9999&start=0\n",
      "https://www.idx.co.id/primary/TradingSummary/GetIndexSummary?date=20240830&length=9999&start=0\n",
      "https://www.idx.co.id/primary/TradingSummary/GetIndexSummary?date=20240831&length=9999&start=0\n"
     ]
    }
   ],
   "source": [
    "for i in range(1, 32):\n",
    "    if i < 10:\n",
    "        url = url_depan + '0'+ str(i) + url_belakang\n",
    "    else:\n",
    "        url = url_depan + str(i) + url_belakang\n",
    "    \n",
    "    print(url)\n",
    "    \n",
    "    driver.get(url)\n",
    "\n",
    "    teks = driver.find_element(By.TAG_NAME, 'pre')\n",
    "    data = json.loads(teks.text)\n",
    "\n",
    "    with open(str(i) + '.json', 'w', encoding='utf-8') as f:\n",
    "        json.dump(data['data'], f, indent=4)"
   ]
  }
 ],
 "metadata": {
  "kernelspec": {
   "display_name": "Python 3 (ipykernel)",
   "language": "python",
   "name": "python3"
  },
  "language_info": {
   "codemirror_mode": {
    "name": "ipython",
    "version": 3
   },
   "file_extension": ".py",
   "mimetype": "text/x-python",
   "name": "python",
   "nbconvert_exporter": "python",
   "pygments_lexer": "ipython3",
   "version": "3.12.2"
  }
 },
 "nbformat": 4,
 "nbformat_minor": 5
}
