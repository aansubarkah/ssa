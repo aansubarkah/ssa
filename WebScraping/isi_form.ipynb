{
 "cells": [
  {
   "cell_type": "markdown",
   "metadata": {},
   "source": [
    "# Import Libraries"
   ]
  },
  {
   "cell_type": "code",
   "execution_count": 92,
   "metadata": {},
   "outputs": [],
   "source": [
    "import os, time\n",
    "\n",
    "from selenium import webdriver\n",
    "from selenium.webdriver.chrome.service import Service as ChromeService\n",
    "from webdriver_manager.chrome import ChromeDriverManager\n",
    "from selenium.webdriver.common.by import By\n",
    "from selenium.webdriver.support.ui import Select"
   ]
  },
  {
   "cell_type": "markdown",
   "metadata": {},
   "source": [
    "# Buka Browser"
   ]
  },
  {
   "cell_type": "code",
   "execution_count": 3,
   "metadata": {},
   "outputs": [],
   "source": [
    "#driver = uc.Chrome()\n",
    "driver = webdriver.Chrome(service=ChromeService(ChromeDriverManager().install()))\n",
    "#driver = webdriver.Chrome()"
   ]
  },
  {
   "cell_type": "markdown",
   "metadata": {},
   "source": [
    "# Buka Halaman Target"
   ]
  },
  {
   "cell_type": "code",
   "execution_count": 99,
   "metadata": {},
   "outputs": [],
   "source": [
    "url = 'https://form.tanpa.download'"
   ]
  },
  {
   "cell_type": "code",
   "execution_count": 100,
   "metadata": {},
   "outputs": [],
   "source": [
    "driver.get(url)"
   ]
  },
  {
   "cell_type": "markdown",
   "metadata": {},
   "source": [
    "<strong>Kata kunci:</strong> SELENIUM GET"
   ]
  },
  {
   "cell_type": "markdown",
   "metadata": {},
   "source": [
    "# Pilih Elemen"
   ]
  },
  {
   "cell_type": "markdown",
   "metadata": {},
   "source": [
    "## Satu Elemen"
   ]
  },
  {
   "cell_type": "code",
   "execution_count": 6,
   "metadata": {},
   "outputs": [],
   "source": [
    "satu_input = driver.find_element(By.XPATH, '//input')"
   ]
  },
  {
   "cell_type": "markdown",
   "metadata": {},
   "source": [
    "<strong>Kata kunci:</strong> SELENIUM FIND_ELEMENT, SELENIUM LOCATING ELEMENTS"
   ]
  },
  {
   "cell_type": "code",
   "execution_count": 7,
   "metadata": {},
   "outputs": [
    {
     "data": {
      "text/plain": [
       "<selenium.webdriver.remote.webelement.WebElement (session=\"d55b8f526c17fb3defb8501ac731c2a1\", element=\"f.260DE37AEE82F45543675FB744525B59.d.809519B8EB4D38C7A1D925F515CA6A60.e.2\")>"
      ]
     },
     "execution_count": 7,
     "metadata": {},
     "output_type": "execute_result"
    }
   ],
   "source": [
    "satu_input"
   ]
  },
  {
   "cell_type": "code",
   "execution_count": 8,
   "metadata": {},
   "outputs": [
    {
     "data": {
      "text/plain": [
       "'name'"
      ]
     },
     "execution_count": 8,
     "metadata": {},
     "output_type": "execute_result"
    }
   ],
   "source": [
    "satu_input.get_attribute('name')"
   ]
  },
  {
   "cell_type": "markdown",
   "metadata": {},
   "source": [
    "<strong>Kata kunci:</strong> SELENIUM GET_ATTRIBUTE"
   ]
  },
  {
   "cell_type": "markdown",
   "metadata": {},
   "source": [
    "## Banyak Elemen"
   ]
  },
  {
   "cell_type": "code",
   "execution_count": 10,
   "metadata": {},
   "outputs": [],
   "source": [
    "banyak_input = driver.find_elements(By.XPATH, '//input')"
   ]
  },
  {
   "cell_type": "markdown",
   "metadata": {},
   "source": [
    "<strong>Kata kunci:</strong> SELENIUM FIND_ELEMENTS, SELENIUM LOCATING ELEMENTS"
   ]
  },
  {
   "cell_type": "code",
   "execution_count": 11,
   "metadata": {},
   "outputs": [
    {
     "data": {
      "text/plain": [
       "[<selenium.webdriver.remote.webelement.WebElement (session=\"d55b8f526c17fb3defb8501ac731c2a1\", element=\"f.260DE37AEE82F45543675FB744525B59.d.809519B8EB4D38C7A1D925F515CA6A60.e.2\")>,\n",
       " <selenium.webdriver.remote.webelement.WebElement (session=\"d55b8f526c17fb3defb8501ac731c2a1\", element=\"f.260DE37AEE82F45543675FB744525B59.d.809519B8EB4D38C7A1D925F515CA6A60.e.4\")>,\n",
       " <selenium.webdriver.remote.webelement.WebElement (session=\"d55b8f526c17fb3defb8501ac731c2a1\", element=\"f.260DE37AEE82F45543675FB744525B59.d.809519B8EB4D38C7A1D925F515CA6A60.e.13\")>,\n",
       " <selenium.webdriver.remote.webelement.WebElement (session=\"d55b8f526c17fb3defb8501ac731c2a1\", element=\"f.260DE37AEE82F45543675FB744525B59.d.809519B8EB4D38C7A1D925F515CA6A60.e.6\")>,\n",
       " <selenium.webdriver.remote.webelement.WebElement (session=\"d55b8f526c17fb3defb8501ac731c2a1\", element=\"f.260DE37AEE82F45543675FB744525B59.d.809519B8EB4D38C7A1D925F515CA6A60.e.7\")>,\n",
       " <selenium.webdriver.remote.webelement.WebElement (session=\"d55b8f526c17fb3defb8501ac731c2a1\", element=\"f.260DE37AEE82F45543675FB744525B59.d.809519B8EB4D38C7A1D925F515CA6A60.e.8\")>,\n",
       " <selenium.webdriver.remote.webelement.WebElement (session=\"d55b8f526c17fb3defb8501ac731c2a1\", element=\"f.260DE37AEE82F45543675FB744525B59.d.809519B8EB4D38C7A1D925F515CA6A60.e.9\")>,\n",
       " <selenium.webdriver.remote.webelement.WebElement (session=\"d55b8f526c17fb3defb8501ac731c2a1\", element=\"f.260DE37AEE82F45543675FB744525B59.d.809519B8EB4D38C7A1D925F515CA6A60.e.10\")>,\n",
       " <selenium.webdriver.remote.webelement.WebElement (session=\"d55b8f526c17fb3defb8501ac731c2a1\", element=\"f.260DE37AEE82F45543675FB744525B59.d.809519B8EB4D38C7A1D925F515CA6A60.e.11\")>,\n",
       " <selenium.webdriver.remote.webelement.WebElement (session=\"d55b8f526c17fb3defb8501ac731c2a1\", element=\"f.260DE37AEE82F45543675FB744525B59.d.809519B8EB4D38C7A1D925F515CA6A60.e.14\")>,\n",
       " <selenium.webdriver.remote.webelement.WebElement (session=\"d55b8f526c17fb3defb8501ac731c2a1\", element=\"f.260DE37AEE82F45543675FB744525B59.d.809519B8EB4D38C7A1D925F515CA6A60.e.15\")>,\n",
       " <selenium.webdriver.remote.webelement.WebElement (session=\"d55b8f526c17fb3defb8501ac731c2a1\", element=\"f.260DE37AEE82F45543675FB744525B59.d.809519B8EB4D38C7A1D925F515CA6A60.e.16\")>]"
      ]
     },
     "execution_count": 11,
     "metadata": {},
     "output_type": "execute_result"
    }
   ],
   "source": [
    "banyak_input"
   ]
  },
  {
   "cell_type": "code",
   "execution_count": 12,
   "metadata": {},
   "outputs": [
    {
     "name": "stdout",
     "output_type": "stream",
     "text": [
      "name\n",
      "password\n",
      "tanggal_lahir\n",
      "gender\n",
      "gender\n",
      "gender\n",
      "hobi[]\n",
      "hobi[]\n",
      "hobi[]\n",
      "foto\n",
      "reset\n",
      "submit\n"
     ]
    }
   ],
   "source": [
    "for inp in banyak_input:\n",
    "    print(inp.get_attribute('name'))"
   ]
  },
  {
   "cell_type": "markdown",
   "metadata": {},
   "source": [
    "## Pilih elemen berdasar"
   ]
  },
  {
   "cell_type": "markdown",
   "metadata": {},
   "source": [
    "### id"
   ]
  },
  {
   "cell_type": "code",
   "execution_count": 16,
   "metadata": {},
   "outputs": [],
   "source": [
    "element_id = driver.find_element(By.ID, 'tanggal_lahir')"
   ]
  },
  {
   "cell_type": "markdown",
   "metadata": {},
   "source": [
    "<strong>Kata kunci:</strong> SELENIUM LOCATING BY ID"
   ]
  },
  {
   "cell_type": "code",
   "execution_count": 17,
   "metadata": {},
   "outputs": [
    {
     "data": {
      "text/plain": [
       "'tanggal_lahir'"
      ]
     },
     "execution_count": 17,
     "metadata": {},
     "output_type": "execute_result"
    }
   ],
   "source": [
    "element_id.get_attribute('name')"
   ]
  },
  {
   "cell_type": "markdown",
   "metadata": {},
   "source": [
    "### name"
   ]
  },
  {
   "cell_type": "code",
   "execution_count": 18,
   "metadata": {},
   "outputs": [],
   "source": [
    "element_name = driver.find_element(By.NAME, 'password')"
   ]
  },
  {
   "cell_type": "markdown",
   "metadata": {},
   "source": [
    "<strong>Kata kunci:</strong> SELENIUM LOCATING BY NAME"
   ]
  },
  {
   "cell_type": "code",
   "execution_count": 19,
   "metadata": {},
   "outputs": [
    {
     "data": {
      "text/plain": [
       "'password'"
      ]
     },
     "execution_count": 19,
     "metadata": {},
     "output_type": "execute_result"
    }
   ],
   "source": [
    "element_name.get_attribute('type')"
   ]
  },
  {
   "cell_type": "markdown",
   "metadata": {},
   "source": [
    "### Tag Name"
   ]
  },
  {
   "cell_type": "code",
   "execution_count": 21,
   "metadata": {},
   "outputs": [],
   "source": [
    "element_tag = driver.find_element(By.TAG_NAME, 'h1')"
   ]
  },
  {
   "cell_type": "markdown",
   "metadata": {},
   "source": [
    "<strong>Kata kunci:</strong> SELENIUM LOCATING BY NAME"
   ]
  },
  {
   "cell_type": "code",
   "execution_count": 23,
   "metadata": {},
   "outputs": [
    {
     "data": {
      "text/plain": [
       "'Contoh Formulir'"
      ]
     },
     "execution_count": 23,
     "metadata": {},
     "output_type": "execute_result"
    }
   ],
   "source": [
    "element_tag.text"
   ]
  },
  {
   "cell_type": "markdown",
   "metadata": {},
   "source": [
    "<strong>Kata kunci:</strong> SELENIUM GET ELEMENTS' TEXT"
   ]
  },
  {
   "cell_type": "markdown",
   "metadata": {},
   "source": [
    "### class"
   ]
  },
  {
   "cell_type": "code",
   "execution_count": 25,
   "metadata": {},
   "outputs": [],
   "source": [
    "element_class = driver.find_element(By.CLASS_NAME, 'sandi')"
   ]
  },
  {
   "cell_type": "markdown",
   "metadata": {},
   "source": [
    "<strong>Kata kunci:</strong> SELENIUM LOCATING BY CLASS NAME"
   ]
  },
  {
   "cell_type": "code",
   "execution_count": 27,
   "metadata": {},
   "outputs": [
    {
     "data": {
      "text/plain": [
       "'password'"
      ]
     },
     "execution_count": 27,
     "metadata": {},
     "output_type": "execute_result"
    }
   ],
   "source": [
    "element_class.get_attribute('type')"
   ]
  },
  {
   "cell_type": "markdown",
   "metadata": {},
   "source": [
    "### XPATH"
   ]
  },
  {
   "cell_type": "code",
   "execution_count": 28,
   "metadata": {},
   "outputs": [],
   "source": [
    "element_xpath = driver.find_element(By.XPATH, '//input[@class=\"sandi\"]')"
   ]
  },
  {
   "cell_type": "markdown",
   "metadata": {},
   "source": [
    "<strong>Kata kunci:</strong> SELENIUM LOCATING BY XPATH, XPATH"
   ]
  },
  {
   "cell_type": "code",
   "execution_count": 29,
   "metadata": {},
   "outputs": [
    {
     "data": {
      "text/plain": [
       "'password'"
      ]
     },
     "execution_count": 29,
     "metadata": {},
     "output_type": "execute_result"
    }
   ],
   "source": [
    "element_xpath.get_attribute('type')"
   ]
  },
  {
   "cell_type": "markdown",
   "metadata": {},
   "source": [
    "# Interaksi dengan Element"
   ]
  },
  {
   "cell_type": "markdown",
   "metadata": {},
   "source": [
    "<strong>Kata kunci:</strong> SELENIUM INTERACT WITH ELEMENT"
   ]
  },
  {
   "cell_type": "markdown",
   "metadata": {},
   "source": [
    "## Click"
   ]
  },
  {
   "cell_type": "code",
   "execution_count": 57,
   "metadata": {},
   "outputs": [],
   "source": [
    "driver.find_element(By.XPATH, '//input[@type=\"reset\"]').click()"
   ]
  },
  {
   "cell_type": "markdown",
   "metadata": {},
   "source": [
    "<strong>Kata kunci:</strong> SELENIUM CLICK"
   ]
  },
  {
   "cell_type": "code",
   "execution_count": 58,
   "metadata": {},
   "outputs": [],
   "source": [
    "driver.find_element(By.XPATH, '//input[@value=\"male\"]').click()"
   ]
  },
  {
   "cell_type": "markdown",
   "metadata": {},
   "source": [
    "<strong>Kata kunci:</strong> SELENIUM SELECT RADIO BUTTON"
   ]
  },
  {
   "cell_type": "code",
   "execution_count": 59,
   "metadata": {},
   "outputs": [],
   "source": [
    "driver.find_element(By.XPATH, '//input[@type=\"checkbox\" and @value=\"membaca\"]').click()"
   ]
  },
  {
   "cell_type": "code",
   "execution_count": 60,
   "metadata": {},
   "outputs": [],
   "source": [
    "driver.find_element(By.XPATH, '//input[@type=\"checkbox\" and @value=\"nonton\"]').click()"
   ]
  },
  {
   "cell_type": "markdown",
   "metadata": {},
   "source": [
    "<strong>Kata kunci:</strong> XPATH MULTIPLE CONDITIONS"
   ]
  },
  {
   "cell_type": "markdown",
   "metadata": {},
   "source": [
    "## Send Keys (isi teks)"
   ]
  },
  {
   "cell_type": "code",
   "execution_count": 32,
   "metadata": {},
   "outputs": [],
   "source": [
    "driver.find_element(By.XPATH, '//input[@name=\"name\"]').send_keys('Ini nama saya')"
   ]
  },
  {
   "cell_type": "markdown",
   "metadata": {},
   "source": [
    "<strong>Kata kunci:</strong> SELENIUM SEND KEYS"
   ]
  },
  {
   "cell_type": "code",
   "execution_count": 33,
   "metadata": {},
   "outputs": [],
   "source": [
    "driver.find_element(By.XPATH, '//input[@type=\"password\"]').send_keys('ini_password')"
   ]
  },
  {
   "cell_type": "code",
   "execution_count": 37,
   "metadata": {},
   "outputs": [],
   "source": [
    "driver.find_element(By.XPATH, '//input[@id=\"tanggal_lahir\"]').send_keys('07/08/2024')"
   ]
  },
  {
   "cell_type": "markdown",
   "metadata": {},
   "source": [
    "## Clear (hapus teks)"
   ]
  },
  {
   "cell_type": "code",
   "execution_count": 40,
   "metadata": {},
   "outputs": [],
   "source": [
    "driver.find_element(By.XPATH, '//input[@id=\"tanggal_lahir\"]').clear()"
   ]
  },
  {
   "cell_type": "markdown",
   "metadata": {},
   "source": [
    "<strong>Kata kunci:</strong> SELENIUM CLEAR"
   ]
  },
  {
   "cell_type": "code",
   "execution_count": 41,
   "metadata": {},
   "outputs": [],
   "source": [
    "driver.find_element(By.XPATH, '//input[@id=\"tanggal_lahir\"]').send_keys('08/08/2024')"
   ]
  },
  {
   "cell_type": "markdown",
   "metadata": {},
   "source": [
    "## Execute Javascript"
   ]
  },
  {
   "cell_type": "code",
   "execution_count": 47,
   "metadata": {},
   "outputs": [],
   "source": [
    "driver.execute_script('alert(\"Hello World\")')"
   ]
  },
  {
   "cell_type": "markdown",
   "metadata": {},
   "source": [
    "<strong>Kata kunci:</strong> SELENIUM RUNNING JAVASCRIPT"
   ]
  },
  {
   "cell_type": "code",
   "execution_count": 52,
   "metadata": {},
   "outputs": [],
   "source": [
    "driver.execute_script('document.getElementsByName(\"comment\")[0].value = \"Ini komentar\";')"
   ]
  },
  {
   "cell_type": "markdown",
   "metadata": {},
   "source": [
    "<strong>Kata kunci:</strong> JAVASCRIPT ELEMENT BY NAME, JAVASCRIPT SET ELEMENT VALUE"
   ]
  },
  {
   "cell_type": "markdown",
   "metadata": {},
   "source": [
    "## Select"
   ]
  },
  {
   "cell_type": "code",
   "execution_count": 63,
   "metadata": {},
   "outputs": [],
   "source": [
    "select = Select(driver.find_element(By.XPATH, '//select[@name=\"job\"]'))"
   ]
  },
  {
   "cell_type": "markdown",
   "metadata": {},
   "source": [
    "<strong>Kata kunci:</strong> PYTHON SELENIUM SELECT OPTION"
   ]
  },
  {
   "cell_type": "code",
   "execution_count": 65,
   "metadata": {},
   "outputs": [
    {
     "name": "stdout",
     "output_type": "stream",
     "text": [
      "Pelajar\n",
      "Mahasiswa\n",
      "PNS\n",
      "Swasta\n",
      "Wiraswasta\n",
      "Lainnya\n"
     ]
    }
   ],
   "source": [
    "for s in select.options:\n",
    "    print(s.text)"
   ]
  },
  {
   "cell_type": "markdown",
   "metadata": {},
   "source": [
    "<strong>Kata kunci:</strong> PYTHON SELENIUM SELECT LIST OPTIONS"
   ]
  },
  {
   "cell_type": "code",
   "execution_count": 67,
   "metadata": {},
   "outputs": [],
   "source": [
    "select.select_by_visible_text('Pelajar')"
   ]
  },
  {
   "cell_type": "code",
   "execution_count": 68,
   "metadata": {},
   "outputs": [],
   "source": [
    "select.select_by_index(2)"
   ]
  },
  {
   "cell_type": "code",
   "execution_count": 69,
   "metadata": {},
   "outputs": [],
   "source": [
    "select.select_by_value('swasta')"
   ]
  },
  {
   "cell_type": "markdown",
   "metadata": {},
   "source": [
    "## File (Pilih file untuk diunggah)"
   ]
  },
  {
   "cell_type": "code",
   "execution_count": 75,
   "metadata": {},
   "outputs": [],
   "source": [
    "driver.find_element(By.XPATH, '//input[@type=\"file\"]').send_keys('D:\\\\OneDriveAanSubarkahOutlook\\\\OneDrive\\\\SekolahSabtuAuditor\\\\ssa\\\\WebScraping\\\\ini_json.json')"
   ]
  },
  {
   "cell_type": "code",
   "execution_count": 76,
   "metadata": {},
   "outputs": [],
   "source": [
    "driver.find_element(By.XPATH, '//input[@type=\"file\"]').send_keys(os.getcwd()+'\\\\Webscraping.pptx')"
   ]
  },
  {
   "cell_type": "markdown",
   "metadata": {},
   "source": [
    "<strong>Kata kunci:</strong> PYTHON SELENIUM FILE UPLOAD"
   ]
  },
  {
   "cell_type": "markdown",
   "metadata": {},
   "source": [
    "## Submit (Mengirim isian formulir)"
   ]
  },
  {
   "cell_type": "code",
   "execution_count": 77,
   "metadata": {},
   "outputs": [],
   "source": [
    "driver.find_element(By.XPATH, '//form').submit()"
   ]
  },
  {
   "cell_type": "markdown",
   "metadata": {},
   "source": [
    "<strong>Kata kunci:</strong> PYTHON SELENIUM FORM SUBMIT"
   ]
  },
  {
   "cell_type": "markdown",
   "metadata": {},
   "source": [
    "# Input Form Berkali-kali"
   ]
  },
  {
   "cell_type": "code",
   "execution_count": 101,
   "metadata": {},
   "outputs": [],
   "source": [
    "data = [\n",
    "    {'nama': 'Nama 1', 'password': 'password1', 'tanggal_lahir': '01/01/2001', 'komentar': 'Komentar 1', 'gender': 'male', 'hobi': ['membaca', 'nonton'], 'job': 'Pelajar', 'foto': 'ini_dari_json.xlsx'},\n",
    "    {'nama': 'Nama 2', 'password': 'password2B', 'tanggal_lahir': '09/09/2000', 'komentar': 'Komentar B', 'gender': 'female', 'hobi': ['membaca'], 'job': 'Mahasiswa', 'foto': 'ini_dari_scrape_me.xlsx'},\n",
    "    {'nama': 'Nama 3', 'password': 'password3_C', 'tanggal_lahir': '01/10/2011', 'komentar': 'Komentar 3C', 'gender': 'other', 'hobi': ['membaca', 'tidur'], 'job': 'PNS', 'foto': 'ini_json.json'},\n",
    "    {'nama': 'Nama D', 'password': 'password4__D', 'tanggal_lahir': '08/08/2015', 'komentar': 'Komentar 4 Empat', 'gender': 'male', 'hobi': ['nonton'], 'job': 'Swasta', 'foto': 'ojk_form.html'},\n",
    "    {'nama': 'Nama E', 'password': 'password5LIMA', 'tanggal_lahir': '01/01/2021', 'komentar': 'Komentar Lima', 'gender': 'female', 'hobi': ['tidur'], 'job': 'Wiraswasta', 'foto': 'ojk.ipynb'},\n",
    "]"
   ]
  },
  {
   "cell_type": "code",
   "execution_count": 102,
   "metadata": {},
   "outputs": [
    {
     "name": "stdout",
     "output_type": "stream",
     "text": [
      "Menginput: Nama 1\n",
      "Menginput: Nama 2\n",
      "Menginput: Nama 3\n",
      "Menginput: Nama D\n",
      "Menginput: Nama E\n"
     ]
    }
   ],
   "source": [
    "for d in data:\n",
    "    driver.find_element(By.XPATH, '//input[@name=\"name\"]').clear()\n",
    "    driver.find_element(By.XPATH, '//input[@name=\"name\"]').send_keys(d['nama'])\n",
    "\n",
    "    driver.find_element(By.XPATH, '//input[@type=\"password\"]').clear()\n",
    "    driver.find_element(By.XPATH, '//input[@type=\"password\"]').send_keys(d['password'])\n",
    "\n",
    "    driver.find_element(By.XPATH, '//input[@id=\"tanggal_lahir\"]').send_keys(d['tanggal_lahir'])\n",
    "\n",
    "    driver.find_element(By.XPATH, '//textarea').clear()\n",
    "    driver.find_element(By.XPATH, '//textarea').send_keys(d['komentar'])\n",
    "\n",
    "    xpath = '//input[@name=\"gender\" and @value=\\\"' + d['gender'] + '\\\"]'\n",
    "    driver.find_element(By.XPATH, xpath).click()\n",
    "    \n",
    "    for h in d['hobi']:\n",
    "        driver.find_element(By.XPATH, f'//input[@type=\"checkbox\" and @value=\"{h}\"]').click()\n",
    "\n",
    "    select = Select(driver.find_element(By.XPATH, '//select[@name=\"job\"]'))\n",
    "    select.select_by_visible_text(d['job'])\n",
    "\n",
    "    driver.find_element(By.XPATH, '//input[@type=\"file\"]').send_keys(os.getcwd()+'\\\\'+d['foto'])\n",
    "\n",
    "    driver.find_element(By.XPATH, '//input[@type=\"submit\"]').click()\n",
    "\n",
    "    print('Menginput:', d['nama'])\n",
    "    time.sleep(3)"
   ]
  },
  {
   "cell_type": "markdown",
   "metadata": {},
   "source": [
    "# Tutup Browser"
   ]
  },
  {
   "cell_type": "code",
   "execution_count": 103,
   "metadata": {},
   "outputs": [
    {
     "ename": "",
     "evalue": "",
     "output_type": "error",
     "traceback": [
      "\u001b[1;31mThe Kernel crashed while executing code in the current cell or a previous cell. \n",
      "\u001b[1;31mPlease review the code in the cell(s) to identify a possible cause of the failure. \n",
      "\u001b[1;31mClick <a href='https://aka.ms/vscodeJupyterKernelCrash'>here</a> for more info. \n",
      "\u001b[1;31mView Jupyter <a href='command:jupyter.viewOutput'>log</a> for further details."
     ]
    }
   ],
   "source": [
    "driver.quit()"
   ]
  },
  {
   "cell_type": "markdown",
   "metadata": {},
   "source": [
    "<strong>Kata kunci:</strong> PYTHON SELENIUM QUIT"
   ]
  }
 ],
 "metadata": {
  "kernelspec": {
   "display_name": "basangdata12",
   "language": "python",
   "name": "python3"
  },
  "language_info": {
   "codemirror_mode": {
    "name": "ipython",
    "version": 3
   },
   "file_extension": ".py",
   "mimetype": "text/x-python",
   "name": "python",
   "nbconvert_exporter": "python",
   "pygments_lexer": "ipython3",
   "version": "3.12.2"
  }
 },
 "nbformat": 4,
 "nbformat_minor": 2
}
