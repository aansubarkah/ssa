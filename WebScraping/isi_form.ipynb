{
 "cells": [
  {
   "cell_type": "markdown",
   "metadata": {
    "cellUniqueIdByVincent": "52648"
   },
   "source": [
    "# Import Libraries"
   ]
  },
  {
   "cell_type": "code",
   "execution_count": 1,
   "metadata": {
    "cellUniqueIdByVincent": "56a76"
   },
   "outputs": [],
   "source": [
    "import os, time\n",
    "\n",
    "from selenium import webdriver\n",
    "from selenium.webdriver.chrome.service import Service as ChromeService\n",
    "from webdriver_manager.chrome import ChromeDriverManager\n",
    "from selenium.webdriver.common.by import By\n",
    "from selenium.webdriver.support.ui import Select"
   ]
  },
  {
   "cell_type": "markdown",
   "metadata": {
    "cellUniqueIdByVincent": "3bf9a"
   },
   "source": [
    "# Buka Browser"
   ]
  },
  {
   "cell_type": "code",
   "execution_count": 2,
   "metadata": {
    "cellUniqueIdByVincent": "89123"
   },
   "outputs": [],
   "source": [
    "#driver = uc.Chrome()\n",
    "driver = webdriver.Chrome(service=ChromeService(ChromeDriverManager().install()))\n",
    "#driver = webdriver.Chrome()"
   ]
  },
  {
   "cell_type": "markdown",
   "metadata": {
    "cellUniqueIdByVincent": "386e8"
   },
   "source": [
    "# Buka Halaman Target"
   ]
  },
  {
   "cell_type": "code",
   "execution_count": 3,
   "metadata": {
    "cellUniqueIdByVincent": "3e88d"
   },
   "outputs": [],
   "source": [
    "url = 'https://form.tanpa.download'"
   ]
  },
  {
   "cell_type": "code",
   "execution_count": 4,
   "metadata": {
    "cellUniqueIdByVincent": "f843f"
   },
   "outputs": [],
   "source": [
    "driver.get(url)"
   ]
  },
  {
   "cell_type": "markdown",
   "metadata": {
    "cellUniqueIdByVincent": "68ad6"
   },
   "source": [
    "<strong>Kata kunci:</strong> SELENIUM GET"
   ]
  },
  {
   "cell_type": "markdown",
   "metadata": {
    "cellUniqueIdByVincent": "b946f"
   },
   "source": [
    "# Pilih Elemen"
   ]
  },
  {
   "cell_type": "markdown",
   "metadata": {
    "cellUniqueIdByVincent": "4326f"
   },
   "source": [
    "## Satu Elemen"
   ]
  },
  {
   "cell_type": "code",
   "execution_count": 5,
   "metadata": {
    "cellUniqueIdByVincent": "9dc60"
   },
   "outputs": [],
   "source": [
    "satu_input = driver.find_element(By.XPATH, '//input')"
   ]
  },
  {
   "cell_type": "markdown",
   "metadata": {
    "cellUniqueIdByVincent": "ab553"
   },
   "source": [
    "<strong>Kata kunci:</strong> SELENIUM FIND_ELEMENT, SELENIUM LOCATING ELEMENTS"
   ]
  },
  {
   "cell_type": "code",
   "execution_count": 6,
   "metadata": {
    "cellUniqueIdByVincent": "86632"
   },
   "outputs": [
    {
     "data": {
      "text/plain": [
       "<selenium.webdriver.remote.webelement.WebElement (session=\"1814d597b4a10760f2e74c91b5cea6b7\", element=\"f.A45D9844FB26F5526363EA5235BE20E1.d.FD9D27670D12990D8B1FEDF4137E9EDA.e.2\")>"
      ]
     },
     "execution_count": 6,
     "metadata": {},
     "output_type": "execute_result"
    }
   ],
   "source": [
    "satu_input"
   ]
  },
  {
   "cell_type": "code",
   "execution_count": 7,
   "metadata": {
    "cellUniqueIdByVincent": "4e1c1"
   },
   "outputs": [
    {
     "data": {
      "text/plain": [
       "'name'"
      ]
     },
     "execution_count": 7,
     "metadata": {},
     "output_type": "execute_result"
    }
   ],
   "source": [
    "satu_input.get_attribute('name')"
   ]
  },
  {
   "cell_type": "markdown",
   "metadata": {
    "cellUniqueIdByVincent": "4779b"
   },
   "source": [
    "<strong>Kata kunci:</strong> SELENIUM GET_ATTRIBUTE"
   ]
  },
  {
   "cell_type": "markdown",
   "metadata": {
    "cellUniqueIdByVincent": "e7590"
   },
   "source": [
    "## Banyak Elemen"
   ]
  },
  {
   "cell_type": "code",
   "execution_count": 8,
   "metadata": {
    "cellUniqueIdByVincent": "f85b9"
   },
   "outputs": [],
   "source": [
    "banyak_input = driver.find_elements(By.XPATH, '//input')"
   ]
  },
  {
   "cell_type": "markdown",
   "metadata": {
    "cellUniqueIdByVincent": "a328d"
   },
   "source": [
    "<strong>Kata kunci:</strong> SELENIUM FIND_ELEMENTS, SELENIUM LOCATING ELEMENTS"
   ]
  },
  {
   "cell_type": "code",
   "execution_count": 9,
   "metadata": {
    "cellUniqueIdByVincent": "f5b13"
   },
   "outputs": [
    {
     "data": {
      "text/plain": [
       "[<selenium.webdriver.remote.webelement.WebElement (session=\"1814d597b4a10760f2e74c91b5cea6b7\", element=\"f.A45D9844FB26F5526363EA5235BE20E1.d.FD9D27670D12990D8B1FEDF4137E9EDA.e.2\")>,\n",
       " <selenium.webdriver.remote.webelement.WebElement (session=\"1814d597b4a10760f2e74c91b5cea6b7\", element=\"f.A45D9844FB26F5526363EA5235BE20E1.d.FD9D27670D12990D8B1FEDF4137E9EDA.e.4\")>,\n",
       " <selenium.webdriver.remote.webelement.WebElement (session=\"1814d597b4a10760f2e74c91b5cea6b7\", element=\"f.A45D9844FB26F5526363EA5235BE20E1.d.FD9D27670D12990D8B1FEDF4137E9EDA.e.13\")>,\n",
       " <selenium.webdriver.remote.webelement.WebElement (session=\"1814d597b4a10760f2e74c91b5cea6b7\", element=\"f.A45D9844FB26F5526363EA5235BE20E1.d.FD9D27670D12990D8B1FEDF4137E9EDA.e.6\")>,\n",
       " <selenium.webdriver.remote.webelement.WebElement (session=\"1814d597b4a10760f2e74c91b5cea6b7\", element=\"f.A45D9844FB26F5526363EA5235BE20E1.d.FD9D27670D12990D8B1FEDF4137E9EDA.e.7\")>,\n",
       " <selenium.webdriver.remote.webelement.WebElement (session=\"1814d597b4a10760f2e74c91b5cea6b7\", element=\"f.A45D9844FB26F5526363EA5235BE20E1.d.FD9D27670D12990D8B1FEDF4137E9EDA.e.8\")>,\n",
       " <selenium.webdriver.remote.webelement.WebElement (session=\"1814d597b4a10760f2e74c91b5cea6b7\", element=\"f.A45D9844FB26F5526363EA5235BE20E1.d.FD9D27670D12990D8B1FEDF4137E9EDA.e.9\")>,\n",
       " <selenium.webdriver.remote.webelement.WebElement (session=\"1814d597b4a10760f2e74c91b5cea6b7\", element=\"f.A45D9844FB26F5526363EA5235BE20E1.d.FD9D27670D12990D8B1FEDF4137E9EDA.e.10\")>,\n",
       " <selenium.webdriver.remote.webelement.WebElement (session=\"1814d597b4a10760f2e74c91b5cea6b7\", element=\"f.A45D9844FB26F5526363EA5235BE20E1.d.FD9D27670D12990D8B1FEDF4137E9EDA.e.11\")>,\n",
       " <selenium.webdriver.remote.webelement.WebElement (session=\"1814d597b4a10760f2e74c91b5cea6b7\", element=\"f.A45D9844FB26F5526363EA5235BE20E1.d.FD9D27670D12990D8B1FEDF4137E9EDA.e.14\")>,\n",
       " <selenium.webdriver.remote.webelement.WebElement (session=\"1814d597b4a10760f2e74c91b5cea6b7\", element=\"f.A45D9844FB26F5526363EA5235BE20E1.d.FD9D27670D12990D8B1FEDF4137E9EDA.e.15\")>,\n",
       " <selenium.webdriver.remote.webelement.WebElement (session=\"1814d597b4a10760f2e74c91b5cea6b7\", element=\"f.A45D9844FB26F5526363EA5235BE20E1.d.FD9D27670D12990D8B1FEDF4137E9EDA.e.16\")>]"
      ]
     },
     "execution_count": 9,
     "metadata": {},
     "output_type": "execute_result"
    }
   ],
   "source": [
    "banyak_input"
   ]
  },
  {
   "cell_type": "code",
   "execution_count": 10,
   "metadata": {
    "cellUniqueIdByVincent": "5e712"
   },
   "outputs": [
    {
     "name": "stdout",
     "output_type": "stream",
     "text": [
      "name\n",
      "password\n",
      "tanggal_lahir\n",
      "gender\n",
      "gender\n",
      "gender\n",
      "hobi[]\n",
      "hobi[]\n",
      "hobi[]\n",
      "foto\n",
      "reset\n",
      "submit\n"
     ]
    }
   ],
   "source": [
    "for inp in banyak_input:\n",
    "    print(inp.get_attribute('name'))"
   ]
  },
  {
   "cell_type": "markdown",
   "metadata": {
    "cellUniqueIdByVincent": "3d913"
   },
   "source": [
    "## Pilih elemen berdasar"
   ]
  },
  {
   "cell_type": "markdown",
   "metadata": {
    "cellUniqueIdByVincent": "73f98"
   },
   "source": [
    "### id"
   ]
  },
  {
   "cell_type": "code",
   "execution_count": 11,
   "metadata": {
    "cellUniqueIdByVincent": "d8070"
   },
   "outputs": [],
   "source": [
    "element_id = driver.find_element(By.ID, 'tanggal_lahir')"
   ]
  },
  {
   "cell_type": "markdown",
   "metadata": {
    "cellUniqueIdByVincent": "12692"
   },
   "source": [
    "<strong>Kata kunci:</strong> SELENIUM LOCATING BY ID"
   ]
  },
  {
   "cell_type": "code",
   "execution_count": 12,
   "metadata": {
    "cellUniqueIdByVincent": "93cbd"
   },
   "outputs": [
    {
     "data": {
      "text/plain": [
       "'tanggal_lahir'"
      ]
     },
     "execution_count": 12,
     "metadata": {},
     "output_type": "execute_result"
    }
   ],
   "source": [
    "element_id.get_attribute('name')"
   ]
  },
  {
   "cell_type": "markdown",
   "metadata": {
    "cellUniqueIdByVincent": "ee227"
   },
   "source": [
    "### name"
   ]
  },
  {
   "cell_type": "code",
   "execution_count": 13,
   "metadata": {
    "cellUniqueIdByVincent": "7b1bf"
   },
   "outputs": [],
   "source": [
    "element_name = driver.find_element(By.NAME, 'password')"
   ]
  },
  {
   "cell_type": "markdown",
   "metadata": {
    "cellUniqueIdByVincent": "8a7e8"
   },
   "source": [
    "<strong>Kata kunci:</strong> SELENIUM LOCATING BY NAME"
   ]
  },
  {
   "cell_type": "code",
   "execution_count": 14,
   "metadata": {
    "cellUniqueIdByVincent": "53cc3"
   },
   "outputs": [
    {
     "data": {
      "text/plain": [
       "'password'"
      ]
     },
     "execution_count": 14,
     "metadata": {},
     "output_type": "execute_result"
    }
   ],
   "source": [
    "element_name.get_attribute('type')"
   ]
  },
  {
   "cell_type": "markdown",
   "metadata": {
    "cellUniqueIdByVincent": "5fafe"
   },
   "source": [
    "### Tag Name"
   ]
  },
  {
   "cell_type": "code",
   "execution_count": 15,
   "metadata": {
    "cellUniqueIdByVincent": "8087e"
   },
   "outputs": [],
   "source": [
    "element_tag = driver.find_element(By.TAG_NAME, 'h1')"
   ]
  },
  {
   "cell_type": "markdown",
   "metadata": {
    "cellUniqueIdByVincent": "fc37b"
   },
   "source": [
    "<strong>Kata kunci:</strong> SELENIUM LOCATING BY NAME"
   ]
  },
  {
   "cell_type": "code",
   "execution_count": 16,
   "metadata": {
    "cellUniqueIdByVincent": "111f6"
   },
   "outputs": [
    {
     "data": {
      "text/plain": [
       "'Contoh Formulir'"
      ]
     },
     "execution_count": 16,
     "metadata": {},
     "output_type": "execute_result"
    }
   ],
   "source": [
    "element_tag.text"
   ]
  },
  {
   "cell_type": "markdown",
   "metadata": {
    "cellUniqueIdByVincent": "66722"
   },
   "source": [
    "<strong>Kata kunci:</strong> SELENIUM GET ELEMENTS' TEXT"
   ]
  },
  {
   "cell_type": "markdown",
   "metadata": {
    "cellUniqueIdByVincent": "bc7ec"
   },
   "source": [
    "### class"
   ]
  },
  {
   "cell_type": "code",
   "execution_count": 17,
   "metadata": {
    "cellUniqueIdByVincent": "879d7"
   },
   "outputs": [],
   "source": [
    "element_class = driver.find_element(By.CLASS_NAME, 'sandi')"
   ]
  },
  {
   "cell_type": "markdown",
   "metadata": {
    "cellUniqueIdByVincent": "1b68b"
   },
   "source": [
    "<strong>Kata kunci:</strong> SELENIUM LOCATING BY CLASS NAME"
   ]
  },
  {
   "cell_type": "code",
   "execution_count": 18,
   "metadata": {
    "cellUniqueIdByVincent": "89c8a"
   },
   "outputs": [
    {
     "data": {
      "text/plain": [
       "'password'"
      ]
     },
     "execution_count": 18,
     "metadata": {},
     "output_type": "execute_result"
    }
   ],
   "source": [
    "element_class.get_attribute('type')"
   ]
  },
  {
   "cell_type": "markdown",
   "metadata": {
    "cellUniqueIdByVincent": "8a8a7"
   },
   "source": [
    "### XPATH"
   ]
  },
  {
   "cell_type": "code",
   "execution_count": 19,
   "metadata": {
    "cellUniqueIdByVincent": "e98b6"
   },
   "outputs": [],
   "source": [
    "element_xpath = driver.find_element(By.XPATH, '//input[@class=\"sandi\"]')"
   ]
  },
  {
   "cell_type": "markdown",
   "metadata": {
    "cellUniqueIdByVincent": "3a008"
   },
   "source": [
    "<strong>Kata kunci:</strong> SELENIUM LOCATING BY XPATH, XPATH"
   ]
  },
  {
   "cell_type": "code",
   "execution_count": 20,
   "metadata": {
    "cellUniqueIdByVincent": "9709f"
   },
   "outputs": [
    {
     "data": {
      "text/plain": [
       "'password'"
      ]
     },
     "execution_count": 20,
     "metadata": {},
     "output_type": "execute_result"
    }
   ],
   "source": [
    "element_xpath.get_attribute('type')"
   ]
  },
  {
   "cell_type": "markdown",
   "metadata": {
    "cellUniqueIdByVincent": "f653a"
   },
   "source": [
    "# Interaksi dengan Element"
   ]
  },
  {
   "cell_type": "markdown",
   "metadata": {
    "cellUniqueIdByVincent": "b2174"
   },
   "source": [
    "<strong>Kata kunci:</strong> SELENIUM INTERACT WITH ELEMENT"
   ]
  },
  {
   "cell_type": "markdown",
   "metadata": {
    "cellUniqueIdByVincent": "c6800"
   },
   "source": [
    "## Click"
   ]
  },
  {
   "cell_type": "code",
   "execution_count": 21,
   "metadata": {
    "cellUniqueIdByVincent": "5c946"
   },
   "outputs": [],
   "source": [
    "driver.find_element(By.XPATH, '//input[@type=\"reset\"]').click()"
   ]
  },
  {
   "cell_type": "markdown",
   "metadata": {
    "cellUniqueIdByVincent": "c32f8"
   },
   "source": [
    "<strong>Kata kunci:</strong> SELENIUM CLICK"
   ]
  },
  {
   "cell_type": "code",
   "execution_count": 22,
   "metadata": {
    "cellUniqueIdByVincent": "50021"
   },
   "outputs": [],
   "source": [
    "driver.find_element(By.XPATH, '//input[@value=\"male\"]').click()"
   ]
  },
  {
   "cell_type": "markdown",
   "metadata": {
    "cellUniqueIdByVincent": "6fc4f"
   },
   "source": [
    "<strong>Kata kunci:</strong> SELENIUM SELECT RADIO BUTTON"
   ]
  },
  {
   "cell_type": "code",
   "execution_count": 23,
   "metadata": {
    "cellUniqueIdByVincent": "7c16c"
   },
   "outputs": [],
   "source": [
    "driver.find_element(By.XPATH, '//input[@type=\"checkbox\" and @value=\"membaca\"]').click()"
   ]
  },
  {
   "cell_type": "code",
   "execution_count": 24,
   "metadata": {
    "cellUniqueIdByVincent": "7efc4"
   },
   "outputs": [],
   "source": [
    "driver.find_element(By.XPATH, '//input[@type=\"checkbox\" and @value=\"nonton\"]').click()"
   ]
  },
  {
   "cell_type": "markdown",
   "metadata": {
    "cellUniqueIdByVincent": "89c39"
   },
   "source": [
    "<strong>Kata kunci:</strong> XPATH MULTIPLE CONDITIONS"
   ]
  },
  {
   "cell_type": "markdown",
   "metadata": {
    "cellUniqueIdByVincent": "e1b80"
   },
   "source": [
    "## Send Keys (isi teks)"
   ]
  },
  {
   "cell_type": "code",
   "execution_count": 25,
   "metadata": {
    "cellUniqueIdByVincent": "aa7ba"
   },
   "outputs": [],
   "source": [
    "driver.find_element(By.XPATH, '//input[@name=\"name\"]').send_keys('Ini nama saya')"
   ]
  },
  {
   "cell_type": "markdown",
   "metadata": {
    "cellUniqueIdByVincent": "0842f"
   },
   "source": [
    "<strong>Kata kunci:</strong> SELENIUM SEND KEYS"
   ]
  },
  {
   "cell_type": "code",
   "execution_count": 26,
   "metadata": {
    "cellUniqueIdByVincent": "852b4"
   },
   "outputs": [],
   "source": [
    "driver.find_element(By.XPATH, '//input[@type=\"password\"]').send_keys('ini_password')"
   ]
  },
  {
   "cell_type": "code",
   "execution_count": 27,
   "metadata": {
    "cellUniqueIdByVincent": "69672"
   },
   "outputs": [],
   "source": [
    "driver.find_element(By.XPATH, '//input[@id=\"tanggal_lahir\"]').send_keys('07/08/2024')"
   ]
  },
  {
   "cell_type": "markdown",
   "metadata": {
    "cellUniqueIdByVincent": "2a802"
   },
   "source": [
    "## Clear (hapus teks)"
   ]
  },
  {
   "cell_type": "code",
   "execution_count": 28,
   "metadata": {
    "cellUniqueIdByVincent": "c6661"
   },
   "outputs": [],
   "source": [
    "driver.find_element(By.XPATH, '//input[@id=\"tanggal_lahir\"]').clear()"
   ]
  },
  {
   "cell_type": "markdown",
   "metadata": {
    "cellUniqueIdByVincent": "39ea4"
   },
   "source": [
    "<strong>Kata kunci:</strong> SELENIUM CLEAR"
   ]
  },
  {
   "cell_type": "code",
   "execution_count": 29,
   "metadata": {
    "cellUniqueIdByVincent": "b983c"
   },
   "outputs": [],
   "source": [
    "driver.find_element(By.XPATH, '//input[@id=\"tanggal_lahir\"]').send_keys('08/08/2024')"
   ]
  },
  {
   "cell_type": "markdown",
   "metadata": {
    "cellUniqueIdByVincent": "bbbc7"
   },
   "source": [
    "## Execute Javascript"
   ]
  },
  {
   "cell_type": "code",
   "execution_count": 30,
   "metadata": {
    "cellUniqueIdByVincent": "bb33f"
   },
   "outputs": [],
   "source": [
    "driver.execute_script('alert(\"Hello World\")')"
   ]
  },
  {
   "cell_type": "markdown",
   "metadata": {
    "cellUniqueIdByVincent": "4255e"
   },
   "source": [
    "<strong>Kata kunci:</strong> SELENIUM RUNNING JAVASCRIPT"
   ]
  },
  {
   "cell_type": "code",
   "execution_count": 32,
   "metadata": {
    "cellUniqueIdByVincent": "05ad3"
   },
   "outputs": [],
   "source": [
    "driver.execute_script('document.getElementsByName(\"comment\")[0].value = \"Ini komentar\";')"
   ]
  },
  {
   "cell_type": "markdown",
   "metadata": {
    "cellUniqueIdByVincent": "8bcb6"
   },
   "source": [
    "<strong>Kata kunci:</strong> JAVASCRIPT ELEMENT BY NAME, JAVASCRIPT SET ELEMENT VALUE"
   ]
  },
  {
   "cell_type": "markdown",
   "metadata": {
    "cellUniqueIdByVincent": "173d1"
   },
   "source": [
    "## Select"
   ]
  },
  {
   "cell_type": "code",
   "execution_count": 33,
   "metadata": {
    "cellUniqueIdByVincent": "db868"
   },
   "outputs": [],
   "source": [
    "select = Select(driver.find_element(By.XPATH, '//select[@name=\"job\"]'))"
   ]
  },
  {
   "cell_type": "markdown",
   "metadata": {
    "cellUniqueIdByVincent": "cd1b5"
   },
   "source": [
    "<strong>Kata kunci:</strong> PYTHON SELENIUM SELECT OPTION"
   ]
  },
  {
   "cell_type": "code",
   "execution_count": 34,
   "metadata": {
    "cellUniqueIdByVincent": "8b428"
   },
   "outputs": [
    {
     "name": "stdout",
     "output_type": "stream",
     "text": [
      "Pelajar\n",
      "Mahasiswa\n",
      "PNS\n",
      "Swasta\n",
      "Wiraswasta\n",
      "Lainnya\n"
     ]
    }
   ],
   "source": [
    "for s in select.options:\n",
    "    print(s.text)"
   ]
  },
  {
   "cell_type": "markdown",
   "metadata": {
    "cellUniqueIdByVincent": "d781f"
   },
   "source": [
    "<strong>Kata kunci:</strong> PYTHON SELENIUM SELECT LIST OPTIONS"
   ]
  },
  {
   "cell_type": "code",
   "execution_count": 35,
   "metadata": {
    "cellUniqueIdByVincent": "f3117"
   },
   "outputs": [],
   "source": [
    "select.select_by_visible_text('Pelajar')"
   ]
  },
  {
   "cell_type": "code",
   "execution_count": 36,
   "metadata": {
    "cellUniqueIdByVincent": "28205"
   },
   "outputs": [],
   "source": [
    "select.select_by_index(2)"
   ]
  },
  {
   "cell_type": "code",
   "execution_count": 37,
   "metadata": {
    "cellUniqueIdByVincent": "3373d"
   },
   "outputs": [],
   "source": [
    "select.select_by_value('swasta')"
   ]
  },
  {
   "cell_type": "markdown",
   "metadata": {
    "cellUniqueIdByVincent": "0f130"
   },
   "source": [
    "## File (Pilih file untuk diunggah)"
   ]
  },
  {
   "cell_type": "code",
   "execution_count": 38,
   "metadata": {
    "cellUniqueIdByVincent": "a43a4"
   },
   "outputs": [],
   "source": [
    "driver.find_element(By.XPATH, '//input[@type=\"file\"]').send_keys('D:\\\\OneDriveAanSubarkahOutlook\\\\OneDrive\\\\SekolahSabtuAuditor\\\\ssa\\\\WebScraping\\\\ini_json.json')"
   ]
  },
  {
   "cell_type": "code",
   "execution_count": 39,
   "metadata": {
    "cellUniqueIdByVincent": "f6f40"
   },
   "outputs": [],
   "source": [
    "driver.find_element(By.XPATH, '//input[@type=\"file\"]').send_keys(os.getcwd()+'\\\\Webscraping.pptx')"
   ]
  },
  {
   "cell_type": "markdown",
   "metadata": {
    "cellUniqueIdByVincent": "0a35c"
   },
   "source": [
    "<strong>Kata kunci:</strong> PYTHON SELENIUM FILE UPLOAD"
   ]
  },
  {
   "cell_type": "markdown",
   "metadata": {
    "cellUniqueIdByVincent": "a64e1"
   },
   "source": [
    "## Submit (Mengirim isian formulir)"
   ]
  },
  {
   "cell_type": "code",
   "execution_count": 40,
   "metadata": {
    "cellUniqueIdByVincent": "966ef"
   },
   "outputs": [],
   "source": [
    "driver.find_element(By.XPATH, '//form').submit()"
   ]
  },
  {
   "cell_type": "markdown",
   "metadata": {
    "cellUniqueIdByVincent": "6f74e"
   },
   "source": [
    "<strong>Kata kunci:</strong> PYTHON SELENIUM FORM SUBMIT"
   ]
  },
  {
   "cell_type": "markdown",
   "metadata": {
    "cellUniqueIdByVincent": "cce26"
   },
   "source": [
    "# Input Form Berkali-kali"
   ]
  },
  {
   "cell_type": "code",
   "execution_count": 41,
   "metadata": {
    "cellUniqueIdByVincent": "05c74"
   },
   "outputs": [],
   "source": [
    "data = [\n",
    "    {'nama': 'Nama 1', 'password': 'password1', 'tanggal_lahir': '01/01/2001', 'komentar': 'Komentar 1', 'gender': 'male', 'hobi': ['membaca', 'nonton'], 'job': 'Pelajar', 'foto': 'ini_dari_json.xlsx'},\n",
    "    {'nama': 'Nama 2', 'password': 'password2B', 'tanggal_lahir': '09/09/2000', 'komentar': 'Komentar B', 'gender': 'female', 'hobi': ['membaca'], 'job': 'Mahasiswa', 'foto': 'ini_dari_scrape_me.xlsx'},\n",
    "    {'nama': 'Nama 3', 'password': 'password3_C', 'tanggal_lahir': '01/10/2011', 'komentar': 'Komentar 3C', 'gender': 'other', 'hobi': ['membaca', 'tidur'], 'job': 'PNS', 'foto': 'ini_json.json'},\n",
    "    {'nama': 'Nama D', 'password': 'password4__D', 'tanggal_lahir': '08/08/2015', 'komentar': 'Komentar 4 Empat', 'gender': 'male', 'hobi': ['nonton'], 'job': 'Swasta', 'foto': 'ojk_form.html'},\n",
    "    {'nama': 'Nama E', 'password': 'password5LIMA', 'tanggal_lahir': '01/01/2021', 'komentar': 'Komentar Lima', 'gender': 'female', 'hobi': ['tidur'], 'job': 'Wiraswasta', 'foto': 'ojk.ipynb'},\n",
    "]"
   ]
  },
  {
   "cell_type": "code",
   "execution_count": 42,
   "metadata": {
    "cellUniqueIdByVincent": "c24dc"
   },
   "outputs": [
    {
     "name": "stdout",
     "output_type": "stream",
     "text": [
      "Menginput: Nama 1\n",
      "Menginput: Nama 2\n",
      "Menginput: Nama 3\n",
      "Menginput: Nama D\n",
      "Menginput: Nama E\n"
     ]
    }
   ],
   "source": [
    "for d in data:\n",
    "    driver.find_element(By.XPATH, '//input[@name=\"name\"]').clear()\n",
    "    driver.find_element(By.XPATH, '//input[@name=\"name\"]').send_keys(d['nama'])\n",
    "\n",
    "    driver.find_element(By.XPATH, '//input[@type=\"password\"]').clear()\n",
    "    driver.find_element(By.XPATH, '//input[@type=\"password\"]').send_keys(d['password'])\n",
    "\n",
    "    driver.find_element(By.XPATH, '//input[@id=\"tanggal_lahir\"]').send_keys(d['tanggal_lahir'])\n",
    "\n",
    "    driver.find_element(By.XPATH, '//textarea').clear()\n",
    "    driver.find_element(By.XPATH, '//textarea').send_keys(d['komentar'])\n",
    "\n",
    "    xpath = '//input[@name=\"gender\" and @value=\\\"' + d['gender'] + '\\\"]'\n",
    "    driver.find_element(By.XPATH, xpath).click()\n",
    "    \n",
    "    for h in d['hobi']:\n",
    "        driver.find_element(By.XPATH, f'//input[@type=\"checkbox\" and @value=\"{h}\"]').click()\n",
    "\n",
    "    select = Select(driver.find_element(By.XPATH, '//select[@name=\"job\"]'))\n",
    "    select.select_by_visible_text(d['job'])\n",
    "\n",
    "    driver.find_element(By.XPATH, '//input[@type=\"file\"]').send_keys(os.getcwd()+'\\\\'+d['foto'])\n",
    "\n",
    "    driver.find_element(By.XPATH, '//input[@type=\"submit\"]').click()\n",
    "\n",
    "    print('Menginput:', d['nama'])\n",
    "    time.sleep(3)"
   ]
  },
  {
   "cell_type": "markdown",
   "metadata": {
    "cellUniqueIdByVincent": "8ca38"
   },
   "source": [
    "# Tutup Browser"
   ]
  },
  {
   "cell_type": "code",
   "execution_count": 43,
   "metadata": {
    "cellUniqueIdByVincent": "53308"
   },
   "outputs": [],
   "source": [
    "driver.quit()"
   ]
  },
  {
   "cell_type": "markdown",
   "metadata": {
    "cellUniqueIdByVincent": "85b5d"
   },
   "source": [
    "<strong>Kata kunci:</strong> PYTHON SELENIUM QUIT"
   ]
  }
 ],
 "metadata": {
  "vincent": {
   "sessionId": "d9d9fc0f00f4f160555c6add_2025-07-17T11-43-03-395Z"
  }
 },
 "nbformat": 4,
 "nbformat_minor": 4
}
