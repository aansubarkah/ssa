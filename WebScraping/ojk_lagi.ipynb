{
 "cells": [
  {
   "cell_type": "code",
   "execution_count": 1,
   "id": "306fa338-98bb-4a80-b12f-4d4dfedf1886",
   "metadata": {
    "execution": {
     "iopub.execute_input": "2024-08-31T04:06:34.853398Z",
     "iopub.status.busy": "2024-08-31T04:06:34.851405Z",
     "iopub.status.idle": "2024-08-31T04:06:41.110985Z",
     "shell.execute_reply": "2024-08-31T04:06:41.107956Z",
     "shell.execute_reply.started": "2024-08-31T04:06:34.853398Z"
    }
   },
   "outputs": [],
   "source": [
    "import json\n",
    "import pandas as pd\n",
    "\n",
    "from selenium import webdriver\n",
    "from selenium.webdriver.chrome.service import Service as ChromeService\n",
    "from webdriver_manager.chrome import ChromeDriverManager\n",
    "from selenium.webdriver.common.by import By\n",
    "from datetime import datetime, timedelta"
   ]
  },
  {
   "cell_type": "code",
   "execution_count": null,
   "id": "4c1835d4-e507-4c8d-bf0a-fe8d52c22c85",
   "metadata": {},
   "outputs": [],
   "source": []
  },
  {
   "cell_type": "code",
   "execution_count": 2,
   "id": "c4131dfe-fa0e-424f-9e8e-49edf6f564f4",
   "metadata": {
    "execution": {
     "iopub.execute_input": "2024-08-31T04:07:00.915894Z",
     "iopub.status.busy": "2024-08-31T04:07:00.914892Z",
     "iopub.status.idle": "2024-08-31T04:07:08.173871Z",
     "shell.execute_reply": "2024-08-31T04:07:08.168849Z",
     "shell.execute_reply.started": "2024-08-31T04:07:00.915894Z"
    }
   },
   "outputs": [],
   "source": [
    "driver = webdriver.Chrome()"
   ]
  },
  {
   "cell_type": "code",
   "execution_count": null,
   "id": "d5f15de4-3f45-4315-8009-166c669ec08c",
   "metadata": {},
   "outputs": [],
   "source": []
  },
  {
   "cell_type": "code",
   "execution_count": 23,
   "id": "32ede19c-0031-46f5-a06f-7b8bfbee90d2",
   "metadata": {
    "execution": {
     "iopub.execute_input": "2024-08-31T04:23:14.893413Z",
     "iopub.status.busy": "2024-08-31T04:23:14.892416Z",
     "iopub.status.idle": "2024-08-31T04:23:17.039015Z",
     "shell.execute_reply": "2024-08-31T04:23:17.037002Z",
     "shell.execute_reply.started": "2024-08-31T04:23:14.893413Z"
    }
   },
   "outputs": [],
   "source": [
    "driver.get('https://ojk.go.id/id/kanal/perbankan/data-dan-statistik/laporan-keuangan-perbankan/Default.aspx')"
   ]
  },
  {
   "cell_type": "code",
   "execution_count": null,
   "id": "df6a210b-73e2-46d4-8e64-9f616297ebca",
   "metadata": {},
   "outputs": [],
   "source": []
  },
  {
   "cell_type": "code",
   "execution_count": 24,
   "id": "0960d8a9-1c89-4e23-9782-6b06dd43c08b",
   "metadata": {
    "execution": {
     "iopub.execute_input": "2024-08-31T04:23:17.044998Z",
     "iopub.status.busy": "2024-08-31T04:23:17.043004Z",
     "iopub.status.idle": "2024-08-31T04:23:19.362128Z",
     "shell.execute_reply": "2024-08-31T04:23:19.359129Z",
     "shell.execute_reply.started": "2024-08-31T04:23:17.044998Z"
    }
   },
   "outputs": [],
   "source": [
    "driver.switch_to.frame(driver.find_element(By.ID, 'devframe'))"
   ]
  },
  {
   "cell_type": "code",
   "execution_count": null,
   "id": "258a77c9-58f6-4513-881f-57f9bf8d9ac8",
   "metadata": {},
   "outputs": [],
   "source": []
  },
  {
   "cell_type": "code",
   "execution_count": 25,
   "id": "833d8e6b-64f1-44f4-910e-6e2d0b3b36ed",
   "metadata": {
    "execution": {
     "iopub.execute_input": "2024-08-31T04:23:19.365664Z",
     "iopub.status.busy": "2024-08-31T04:23:19.364634Z",
     "iopub.status.idle": "2024-08-31T04:23:19.460737Z",
     "shell.execute_reply": "2024-08-31T04:23:19.457727Z",
     "shell.execute_reply.started": "2024-08-31T04:23:19.365664Z"
    }
   },
   "outputs": [],
   "source": [
    "unit_usaha_syariah = driver.find_element(By.XPATH, '//span[contains(text(), \"Unit Usaha Syariah\")]')"
   ]
  },
  {
   "cell_type": "code",
   "execution_count": 26,
   "id": "b6b68f6d-0ba7-4894-ba95-2d3b35c9664c",
   "metadata": {
    "execution": {
     "iopub.execute_input": "2024-08-31T04:23:19.468237Z",
     "iopub.status.busy": "2024-08-31T04:23:19.466235Z",
     "iopub.status.idle": "2024-08-31T04:23:20.609121Z",
     "shell.execute_reply": "2024-08-31T04:23:20.603466Z",
     "shell.execute_reply.started": "2024-08-31T04:23:19.467240Z"
    }
   },
   "outputs": [],
   "source": [
    "unit_usaha_syariah.click()"
   ]
  },
  {
   "cell_type": "code",
   "execution_count": null,
   "id": "d39fd190-53c1-41a6-9bf5-83074d7e49d7",
   "metadata": {},
   "outputs": [],
   "source": []
  },
  {
   "cell_type": "code",
   "execution_count": 27,
   "id": "c58c4bd7-e6d7-4fc4-9dd1-fba42afa5875",
   "metadata": {
    "execution": {
     "iopub.execute_input": "2024-08-31T04:23:20.613111Z",
     "iopub.status.busy": "2024-08-31T04:23:20.612115Z",
     "iopub.status.idle": "2024-08-31T04:23:21.498683Z",
     "shell.execute_reply": "2024-08-31T04:23:21.495659Z",
     "shell.execute_reply.started": "2024-08-31T04:23:20.613111Z"
    }
   },
   "outputs": [],
   "source": [
    "driver.switch_to.frame(driver.find_element(By.ID, 'MainReportFrame'))"
   ]
  },
  {
   "cell_type": "code",
   "execution_count": 28,
   "id": "8851fb38-39e9-42de-8a3f-cf17c1357cb2",
   "metadata": {
    "execution": {
     "iopub.execute_input": "2024-08-31T04:23:21.503237Z",
     "iopub.status.busy": "2024-08-31T04:23:21.502231Z",
     "iopub.status.idle": "2024-08-31T04:23:21.797981Z",
     "shell.execute_reply": "2024-08-31T04:23:21.795962Z",
     "shell.execute_reply.started": "2024-08-31T04:23:21.503237Z"
    }
   },
   "outputs": [],
   "source": [
    "semesteran = driver.find_element(By.XPATH, '//label[contains(text(), \"Semesteran\")]')"
   ]
  },
  {
   "cell_type": "code",
   "execution_count": 29,
   "id": "852b446d-815f-4aa3-941b-038f807471ba",
   "metadata": {
    "execution": {
     "iopub.execute_input": "2024-08-31T04:23:24.203665Z",
     "iopub.status.busy": "2024-08-31T04:23:24.202661Z",
     "iopub.status.idle": "2024-08-31T04:23:24.799775Z",
     "shell.execute_reply": "2024-08-31T04:23:24.796763Z",
     "shell.execute_reply.started": "2024-08-31T04:23:24.203665Z"
    }
   },
   "outputs": [],
   "source": [
    "semesteran.click()"
   ]
  },
  {
   "cell_type": "code",
   "execution_count": null,
   "id": "0b78794b-a09b-4ba0-8e40-8c0a6ce6420b",
   "metadata": {},
   "outputs": [],
   "source": []
  }
 ],
 "metadata": {
  "kernelspec": {
   "display_name": "Python 3 (ipykernel)",
   "language": "python",
   "name": "python3"
  },
  "language_info": {
   "codemirror_mode": {
    "name": "ipython",
    "version": 3
   },
   "file_extension": ".py",
   "mimetype": "text/x-python",
   "name": "python",
   "nbconvert_exporter": "python",
   "pygments_lexer": "ipython3",
   "version": "3.12.2"
  }
 },
 "nbformat": 4,
 "nbformat_minor": 5
}
