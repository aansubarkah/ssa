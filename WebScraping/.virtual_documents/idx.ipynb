import pandas as pd

from selenium import webdriver
from selenium.webdriver.chrome.service import Service as ChromeService
from webdriver_manager.chrome import ChromeDriverManager
from selenium.webdriver.common.by import By
from datetime import datetime, timedelta








driver = webdriver.Chrome(service=ChromeService(ChromeDriverManager().install()))






