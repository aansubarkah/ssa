import pandas as pd


dfs = pd.read_html('https://en.wikipedia.org/wiki/List_of_S%26P_500_companies')


len(dfs)


dfs[0]


dfs[1]


dfs[0].to_excel('ini_dari_wiki.xlsx', index=False)



