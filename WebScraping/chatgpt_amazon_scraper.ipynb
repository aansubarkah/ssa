{
 "cells": [
  {
   "cell_type": "markdown",
   "metadata": {},
   "source": [
    "# Generic URL"
   ]
  },
  {
   "cell_type": "code",
   "execution_count": null,
   "metadata": {},
   "outputs": [
    {
     "name": "stdout",
     "output_type": "stream",
     "text": [
      "Title of the page: Example Domain\n",
      "https://www.iana.org/domains/example\n"
     ]
    }
   ],
   "source": [
    "import requests\n",
    "from bs4 import BeautifulSoup\n",
    "\n",
    "# URL of the website you want to scrape\n",
    "url = 'https://example.com/'\n",
    "\n",
    "# Send a request to the website\n",
    "headers = {\n",
    "    'User-Agent': 'Mozilla/5.0 (Windows NT 10.0; Win64; x64) AppleWebKit/537.36 (KHTML, like Gecko) Chrome/58.0.3029.110 Safari/537.3'}\n",
    "response = requests.get(url, headers=headers)\n",
    "\n",
    "# Check if the request was successful\n",
    "if response.status_code == 200:\n",
    "    # Parse the HTML content of the page\n",
    "    soup = BeautifulSoup(response.content, 'html.parser')\n",
    "\n",
    "    # Find the desired information on the page (e.g., title)\n",
    "    title = soup.title.text\n",
    "    print(\"Title of the page:\", title)\n",
    "\n",
    "    # Example: Finding all links on the page\n",
    "    links = soup.find_all('a')\n",
    "    for link in links:\n",
    "        print(link.get('href'))\n",
    "else:\n",
    "    print(f\"Failed to retrieve the webpage. Status code: {response.status_code}\")\n"
   ]
  },
  {
   "cell_type": "markdown",
   "metadata": {},
   "source": [
    "# Grok's Code"
   ]
  },
  {
   "cell_type": "code",
   "execution_count": 2,
   "metadata": {},
   "outputs": [
    {
     "name": "stdout",
     "output_type": "stream",
     "text": [
      "{'title': 'Apple 2023 MacBook Pro Laptop with Apple M2 Pro chip with 12‑core CPU and 19‑core GPU: 16.2-inch Liquid Retina XDR Display, 16GB Unified Memory, 1TB SSD Storage. Works with iPhone/iPad; Space Gray', 'price': '$2,149.95', 'rating': '4.7', 'review_count': '391', 'availability': 'In Stock'}\n"
     ]
    }
   ],
   "source": [
    "import requests\n",
    "from bs4 import BeautifulSoup\n",
    "\n",
    "def scrape_amazon_product(url):\n",
    "    # Headers to mimic a browser visit\n",
    "    headers = {\n",
    "        'User-Agent': 'Mozilla/5.0 (Windows NT 10.0; Win64; x64) AppleWebKit/537.36 (KHTML, like Gecko) Chrome/100.0.4896.127 Safari/537.36',\n",
    "        'Accept-Language': 'en-US,en;q=0.5'\n",
    "    }\n",
    "\n",
    "    # Send a GET request to the URL\n",
    "    response = requests.get(url, headers=headers)\n",
    "    \n",
    "    # Check if the request was successful\n",
    "    if response.status_code != 200:\n",
    "        return \"Failed to retrieve the webpage.\"\n",
    "\n",
    "    # Parse the HTML content\n",
    "    soup = BeautifulSoup(response.text, 'html.parser')\n",
    "\n",
    "    # Extract product information\n",
    "    product_data = {}\n",
    "\n",
    "    # Product Title\n",
    "    title = soup.find('span', id='productTitle')\n",
    "    if title:\n",
    "        product_data['title'] = title.string.strip()\n",
    "\n",
    "    # Product Price\n",
    "    price = soup.find('span', class_='a-offscreen')\n",
    "    if price:\n",
    "        product_data['price'] = price.string\n",
    "\n",
    "    # Product Rating\n",
    "    rating = soup.find('span', class_='a-icon-alt')\n",
    "    if rating:\n",
    "        product_data['rating'] = rating.string.split()[0]  # Splits to get only the rating number\n",
    "\n",
    "    # Number of Reviews\n",
    "    review_count = soup.find('span', id='acrCustomerReviewText')\n",
    "    if review_count:\n",
    "        product_data['review_count'] = review_count.string.split()[0]\n",
    "\n",
    "    # Availability\n",
    "    availability = soup.find('div', id='availability')\n",
    "    if availability:\n",
    "        product_data['availability'] = availability.find('span').string.strip()\n",
    "\n",
    "    return product_data\n",
    "\n",
    "# Example usage\n",
    "url = \"https://www.amazon.com/dp/B0BSHF7WHW\"  # Replace with the actual Amazon product URL\n",
    "print(scrape_amazon_product(url))"
   ]
  },
  {
   "cell_type": "code",
   "execution_count": null,
   "metadata": {},
   "outputs": [],
   "source": []
  },
  {
   "cell_type": "code",
   "execution_count": null,
   "metadata": {},
   "outputs": [],
   "source": []
  },
  {
   "cell_type": "code",
   "execution_count": null,
   "metadata": {},
   "outputs": [],
   "source": []
  }
 ],
 "metadata": {
  "kernelspec": {
   "display_name": "basangdata12",
   "language": "python",
   "name": "python3"
  },
  "language_info": {
   "codemirror_mode": {
    "name": "ipython",
    "version": 3
   },
   "file_extension": ".py",
   "mimetype": "text/x-python",
   "name": "python",
   "nbconvert_exporter": "python",
   "pygments_lexer": "ipython3",
   "version": "3.12.2"
  }
 },
 "nbformat": 4,
 "nbformat_minor": 2
}
