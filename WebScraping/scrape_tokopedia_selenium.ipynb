{
 "cells": [
  {
   "cell_type": "markdown",
   "metadata": {},
   "source": [
    "# Libraries"
   ]
  },
  {
   "cell_type": "code",
   "execution_count": 199,
   "metadata": {},
   "outputs": [],
   "source": [
    "import json, os, time, glob\n",
    "\n",
    "from selenium import webdriver\n",
    "from selenium.webdriver.chrome.service import Service as ChromeService\n",
    "from webdriver_manager.chrome import ChromeDriverManager\n",
    "from selenium.webdriver.chrome.options import Options as ChromeOptions\n",
    "from selenium.webdriver.common.by import By\n",
    "from selenium.webdriver.common.action_chains import ActionChains\n",
    "from tqdm.notebook import tqdm"
   ]
  },
  {
   "cell_type": "markdown",
   "metadata": {},
   "source": [
    "# Parameters"
   ]
  },
  {
   "cell_type": "code",
   "execution_count": 203,
   "metadata": {},
   "outputs": [],
   "source": [
    "base_url = 'https://www.tokopedia.com'\n",
    "initial_url = 'https://www.tokopedia.com/find/kulkas-2-pintu'"
   ]
  },
  {
   "cell_type": "markdown",
   "metadata": {},
   "source": [
    "# Buka Browser"
   ]
  },
  {
   "cell_type": "code",
   "execution_count": 140,
   "metadata": {},
   "outputs": [],
   "source": [
    "#driver = webdriver.Chrome(service=ChromeService(ChromeDriverManager().install()), options=options)\n",
    "\n",
    "driver = webdriver.Chrome(service=ChromeService(ChromeDriverManager().install()))\n",
    "#driver = webdriver.Chrome()"
   ]
  },
  {
   "cell_type": "code",
   "execution_count": 141,
   "metadata": {},
   "outputs": [],
   "source": [
    "driver.get(initial_url)"
   ]
  },
  {
   "cell_type": "code",
   "execution_count": 149,
   "metadata": {},
   "outputs": [],
   "source": [
    "driver.get('https://tokopedia.com/find/kulkas-2-pintu?page=2')"
   ]
  },
  {
   "cell_type": "markdown",
   "metadata": {},
   "source": [
    "# Get Products' Element"
   ]
  },
  {
   "cell_type": "code",
   "execution_count": 150,
   "metadata": {},
   "outputs": [],
   "source": [
    "elements = driver.find_elements(By.XPATH, '//div[contains(@data-testid, \"divFindProduct\")]')"
   ]
  },
  {
   "cell_type": "code",
   "execution_count": 151,
   "metadata": {},
   "outputs": [
    {
     "data": {
      "text/plain": [
       "15"
      ]
     },
     "execution_count": 151,
     "metadata": {},
     "output_type": "execute_result"
    }
   ],
   "source": [
    "len(elements)"
   ]
  },
  {
   "cell_type": "code",
   "execution_count": 152,
   "metadata": {},
   "outputs": [
    {
     "data": {
      "text/plain": [
       "'Ad\\nDisplay Cooler RSA Topaz 600 / Topaz600 Kulkas Showcase 2 Pintu 568 L\\nRp8.199.000\\n4.9\\n28 terjual\\nRefcon Polar Nusaindo'"
      ]
     },
     "execution_count": 152,
     "metadata": {},
     "output_type": "execute_result"
    }
   ],
   "source": [
    "elements[0].text"
   ]
  },
  {
   "cell_type": "markdown",
   "metadata": {},
   "source": [
    "# Scroll the page"
   ]
  },
  {
   "cell_type": "code",
   "execution_count": 153,
   "metadata": {},
   "outputs": [],
   "source": [
    "last_height = driver.execute_script(\"return document.body.scrollHeight\")"
   ]
  },
  {
   "cell_type": "code",
   "execution_count": 154,
   "metadata": {},
   "outputs": [],
   "source": [
    "while True:\n",
    "    for i in range(30):\n",
    "        driver.execute_script(f\"window.scrollBy(0, 200);\")\n",
    "        #driver.execute_script(f\"window.scrollBy(0, {i*last_height/20});\")\n",
    "\n",
    "        time.sleep(0.5)\n",
    "\n",
    "    #time.sleep(3)\n",
    "\n",
    "    new_height = driver.execute_script(\"return document.body.scrollHeight\")\n",
    "    if new_height >= last_height:\n",
    "        break\n",
    "    last_height = new_height"
   ]
  },
  {
   "cell_type": "code",
   "execution_count": 161,
   "metadata": {},
   "outputs": [],
   "source": [
    "elements = driver.find_elements(By.XPATH, '//div[contains(@data-ssr, \"findProductSSR\")]')\n",
    "#elements = driver.find_elements(By.XPATH, '//div[contains(@data-testid, \"divFindProduct\")]')"
   ]
  },
  {
   "cell_type": "code",
   "execution_count": 162,
   "metadata": {},
   "outputs": [
    {
     "data": {
      "text/plain": [
       "80"
      ]
     },
     "execution_count": 162,
     "metadata": {},
     "output_type": "execute_result"
    }
   ],
   "source": [
    "len(elements)"
   ]
  },
  {
   "cell_type": "code",
   "execution_count": 197,
   "metadata": {},
   "outputs": [
    {
     "data": {
      "application/vnd.jupyter.widget-view+json": {
       "model_id": "27662f2e4a974064930b5f4131b41976",
       "version_major": 2,
       "version_minor": 0
      },
      "text/plain": [
       "  0%|          | 0/80 [00:00<?, ?it/s]"
      ]
     },
     "metadata": {},
     "output_type": "display_data"
    }
   ],
   "source": [
    "li = []\n",
    "pbar = tqdm(total=len(elements))\n",
    "for element in elements:\n",
    "    divs = element.find_elements(By.XPATH, './a/div/div[2]/div')\n",
    "    name = element.find_element(By.XPATH, './a/div/div[2]/div[1]/span').text.strip()\n",
    "    price = element.find_element(By.XPATH, './a/div/div[2]/div[2]/div').text.strip()\n",
    "\n",
    "    shop_name = element.find_element(By.XPATH, f'./a/div/div[2]/div[{str(len(divs)-1)}]/div[2]/span[1]').text.strip()\n",
    "\n",
    "    shop = element.find_element(By.XPATH, f'./a/div/div[2]/div[{str(len(divs)-1)}]/div[2]')\n",
    "    actions = ActionChains(driver)\n",
    "    actions.move_to_element(shop).perform()\n",
    "\n",
    "    shop_city = element.find_element(By.XPATH, f'./a/div/div[2]/div[{str(len(divs)-1)}]/div[2]/span[2]').text.strip()\n",
    "    url = element.find_element(By.XPATH, './/a').get_attribute('href')\n",
    "\n",
    "    li.append({\n",
    "        'name': name,\n",
    "        'price': price,\n",
    "        'url': url,\n",
    "        'shop_name': shop_name,\n",
    "        'shop_city': shop_city\n",
    "    })\n",
    "    pbar.update(1)\n",
    "\n",
    "df = pd.DataFrame(li)\n",
    "\n",
    "pbar.close()"
   ]
  },
  {
   "cell_type": "code",
   "execution_count": 198,
   "metadata": {},
   "outputs": [
    {
     "data": {
      "text/html": [
       "<div>\n",
       "<style scoped>\n",
       "    .dataframe tbody tr th:only-of-type {\n",
       "        vertical-align: middle;\n",
       "    }\n",
       "\n",
       "    .dataframe tbody tr th {\n",
       "        vertical-align: top;\n",
       "    }\n",
       "\n",
       "    .dataframe thead th {\n",
       "        text-align: right;\n",
       "    }\n",
       "</style>\n",
       "<table border=\"1\" class=\"dataframe\">\n",
       "  <thead>\n",
       "    <tr style=\"text-align: right;\">\n",
       "      <th></th>\n",
       "      <th>name</th>\n",
       "      <th>price</th>\n",
       "      <th>url</th>\n",
       "      <th>shop_name</th>\n",
       "      <th>shop_city</th>\n",
       "    </tr>\n",
       "  </thead>\n",
       "  <tbody>\n",
       "    <tr>\n",
       "      <th>0</th>\n",
       "      <td>Display Cooler RSA Topaz 600 / Topaz600 Kulkas...</td>\n",
       "      <td>Rp8.199.000</td>\n",
       "      <td>https://ta.tokopedia.com/promo/v1/clicks/8a-xg...</td>\n",
       "      <td>Refcon Polar Nusaindo</td>\n",
       "      <td>Tangerang</td>\n",
       "    </tr>\n",
       "    <tr>\n",
       "      <th>1</th>\n",
       "      <td>SAMSUNG RT20 Kulkas 2 Pintu dengan Coolpack 12...</td>\n",
       "      <td>Rp2.850.000</td>\n",
       "      <td>https://ta.tokopedia.com/promo/v1/clicks/8a-xg...</td>\n",
       "      <td>Samsung Grade</td>\n",
       "      <td>Semarang</td>\n",
       "    </tr>\n",
       "    <tr>\n",
       "      <th>2</th>\n",
       "      <td>Aqua Kulkas 2 Pintu  AQR-415IM(BK) 357 Litter</td>\n",
       "      <td>Rp4.990.000</td>\n",
       "      <td>https://ta.tokopedia.com/promo/v1/clicks/8a-xg...</td>\n",
       "      <td>JURAGAN-ELEKTRONIK</td>\n",
       "      <td>Jakarta Barat</td>\n",
       "    </tr>\n",
       "    <tr>\n",
       "      <th>3</th>\n",
       "      <td>LG GNB 215 SQMT Kulkas (2 Pintu)</td>\n",
       "      <td>Rp3.695.000</td>\n",
       "      <td>https://ta.tokopedia.com/promo/v1/clicks/8a-xg...</td>\n",
       "      <td>BM Grosir Electronic</td>\n",
       "      <td>Bekasi</td>\n",
       "    </tr>\n",
       "    <tr>\n",
       "      <th>4</th>\n",
       "      <td>POLYTRON PRM490X Kulkas 2 Pintu Belleza 350 Li...</td>\n",
       "      <td>Rp4.692.000</td>\n",
       "      <td>https://ta.tokopedia.com/promo/v1/clicks/8a-xg...</td>\n",
       "      <td>Darrie Store</td>\n",
       "      <td>Depok</td>\n",
       "    </tr>\n",
       "    <tr>\n",
       "      <th>5</th>\n",
       "      <td>cetakan es twist kulkas Sharp 2 pintu original</td>\n",
       "      <td>Rp94.900</td>\n",
       "      <td>https://www.tokopedia.com/nepitom/cetakan-es-t...</td>\n",
       "      <td>Nepitom</td>\n",
       "      <td>Jakarta Timur</td>\n",
       "    </tr>\n",
       "    <tr>\n",
       "      <th>6</th>\n",
       "      <td>LG Kulkas 2 Pintu GN-B215SQMT Smart Inverter L...</td>\n",
       "      <td>Rp3.599.000</td>\n",
       "      <td>https://www.tokopedia.com/britplaza/lg-kulkas-...</td>\n",
       "      <td>Britplaza</td>\n",
       "      <td>Depok</td>\n",
       "    </tr>\n",
       "    <tr>\n",
       "      <th>7</th>\n",
       "      <td>Panasonic NR-BB201Q-PK Kulkas 2 Pintu + Invert...</td>\n",
       "      <td>Rp4.247.000</td>\n",
       "      <td>https://www.tokopedia.com/panasonic-official/p...</td>\n",
       "      <td>Panasonic</td>\n",
       "      <td>Bekasi</td>\n",
       "    </tr>\n",
       "    <tr>\n",
       "      <th>8</th>\n",
       "      <td>Sharp Kulkas 2 Pintu 152L SJ-195MN-HS / SJ 195...</td>\n",
       "      <td>Rp2.599.000</td>\n",
       "      <td>https://www.tokopedia.com/bonbon-elektronik/sh...</td>\n",
       "      <td>Bonbon_Elektronik</td>\n",
       "      <td>Jakarta Utara</td>\n",
       "    </tr>\n",
       "    <tr>\n",
       "      <th>9</th>\n",
       "      <td>Changhong CRF 208 Kulkas 2 Pintu 165L Black - ...</td>\n",
       "      <td>Rp2.099.000</td>\n",
       "      <td>https://www.tokopedia.com/stationelectro/chang...</td>\n",
       "      <td>station electronic</td>\n",
       "      <td>Jakarta Utara</td>\n",
       "    </tr>\n",
       "    <tr>\n",
       "      <th>10</th>\n",
       "      <td>Sanken Kulkas 2 Pintu SK-V235A-BB Refrigerator...</td>\n",
       "      <td>Rp2.827.000</td>\n",
       "      <td>https://www.tokopedia.com/sankenofficial/sanke...</td>\n",
       "      <td>Sanken Official Store</td>\n",
       "      <td>Jakarta Barat</td>\n",
       "    </tr>\n",
       "    <tr>\n",
       "      <th>11</th>\n",
       "      <td>AQUA JAPAN Kulkas 2 Pintu Freezer Bawah AQR-32...</td>\n",
       "      <td>Rp6.299.000</td>\n",
       "      <td>https://www.tokopedia.com/aquaelektronik/aqua-...</td>\n",
       "      <td>AQUA Elektronik Indonesia</td>\n",
       "      <td>Jakarta Utara</td>\n",
       "    </tr>\n",
       "    <tr>\n",
       "      <th>12</th>\n",
       "      <td>Sharp Kulkas Besar 2 Pintu Big 2 Door Refriger...</td>\n",
       "      <td>Rp10.699.000</td>\n",
       "      <td>https://www.tokopedia.com/myhartono/sharp-kulk...</td>\n",
       "      <td>MyHartono</td>\n",
       "      <td>Tangerang Selatan</td>\n",
       "    </tr>\n",
       "    <tr>\n",
       "      <th>13</th>\n",
       "      <td>LG GN-B215SQMT Kulkas 2 Pintu - Smart Inverter...</td>\n",
       "      <td>Rp3.750.000</td>\n",
       "      <td>https://www.tokopedia.com/getonlines/lg-gn-b21...</td>\n",
       "      <td>GET Online Shop</td>\n",
       "      <td>Jakarta Pusat</td>\n",
       "    </tr>\n",
       "    <tr>\n",
       "      <th>14</th>\n",
       "      <td>Fan Motor Kulkas Panasonic 2 Pintu DC 2 Kabel</td>\n",
       "      <td>Rp118.000</td>\n",
       "      <td>https://www.tokopedia.com/sinarabadiaircon/fan...</td>\n",
       "      <td>Sinar Abadi Aircon</td>\n",
       "      <td>Jakarta Barat</td>\n",
       "    </tr>\n",
       "    <tr>\n",
       "      <th>15</th>\n",
       "      <td>Kulkas Panasonic 2 Pintu NR-BB211Q-PK Prime Fr...</td>\n",
       "      <td>Rp4.350.000</td>\n",
       "      <td>https://ta.tokopedia.com/promo/v1/clicks/8a-xg...</td>\n",
       "      <td>Fai Electronic</td>\n",
       "      <td>Jakarta Timur</td>\n",
       "    </tr>\n",
       "    <tr>\n",
       "      <th>16</th>\n",
       "      <td>HISENSE RT318N4IGN KULKAS 2 PINTU 267 LITER IN...</td>\n",
       "      <td>Rp3.990.000</td>\n",
       "      <td>https://ta.tokopedia.com/promo/v1/clicks/8a-xg...</td>\n",
       "      <td>CAHAYA PERMATA89</td>\n",
       "      <td>Jakarta Barat</td>\n",
       "    </tr>\n",
       "    <tr>\n",
       "      <th>17</th>\n",
       "      <td>SHARP SJ197ND LEMARI ES 2 PINTU KULKAS SJ197ND...</td>\n",
       "      <td>Rp2.799.000</td>\n",
       "      <td>https://ta.tokopedia.com/promo/v1/clicks/8a-xg...</td>\n",
       "      <td>Tiga_jaya</td>\n",
       "      <td>Tangerang Selatan</td>\n",
       "    </tr>\n",
       "    <tr>\n",
       "      <th>18</th>\n",
       "      <td>TOSHIBA KULKAS 2 PINTU GR-RB410WE-PMF / GRRB41...</td>\n",
       "      <td>Rp6.379.000</td>\n",
       "      <td>https://ta.tokopedia.com/promo/v1/clicks/8a-xg...</td>\n",
       "      <td>Spyro Garage</td>\n",
       "      <td>Kab. Bekasi</td>\n",
       "    </tr>\n",
       "    <tr>\n",
       "      <th>19</th>\n",
       "      <td>Kulkas 2 pintu Sharp SJ-456GI MK J-TECH INVERT...</td>\n",
       "      <td>Rp5.675.000</td>\n",
       "      <td>https://ta.tokopedia.com/promo/v1/clicks/8a-xg...</td>\n",
       "      <td>starbuddy</td>\n",
       "      <td>Tangerang</td>\n",
       "    </tr>\n",
       "  </tbody>\n",
       "</table>\n",
       "</div>"
      ],
      "text/plain": [
       "                                                 name         price  \\\n",
       "0   Display Cooler RSA Topaz 600 / Topaz600 Kulkas...   Rp8.199.000   \n",
       "1   SAMSUNG RT20 Kulkas 2 Pintu dengan Coolpack 12...   Rp2.850.000   \n",
       "2       Aqua Kulkas 2 Pintu  AQR-415IM(BK) 357 Litter   Rp4.990.000   \n",
       "3                    LG GNB 215 SQMT Kulkas (2 Pintu)   Rp3.695.000   \n",
       "4   POLYTRON PRM490X Kulkas 2 Pintu Belleza 350 Li...   Rp4.692.000   \n",
       "5      cetakan es twist kulkas Sharp 2 pintu original      Rp94.900   \n",
       "6   LG Kulkas 2 Pintu GN-B215SQMT Smart Inverter L...   Rp3.599.000   \n",
       "7   Panasonic NR-BB201Q-PK Kulkas 2 Pintu + Invert...   Rp4.247.000   \n",
       "8   Sharp Kulkas 2 Pintu 152L SJ-195MN-HS / SJ 195...   Rp2.599.000   \n",
       "9   Changhong CRF 208 Kulkas 2 Pintu 165L Black - ...   Rp2.099.000   \n",
       "10  Sanken Kulkas 2 Pintu SK-V235A-BB Refrigerator...   Rp2.827.000   \n",
       "11  AQUA JAPAN Kulkas 2 Pintu Freezer Bawah AQR-32...   Rp6.299.000   \n",
       "12  Sharp Kulkas Besar 2 Pintu Big 2 Door Refriger...  Rp10.699.000   \n",
       "13  LG GN-B215SQMT Kulkas 2 Pintu - Smart Inverter...   Rp3.750.000   \n",
       "14      Fan Motor Kulkas Panasonic 2 Pintu DC 2 Kabel     Rp118.000   \n",
       "15  Kulkas Panasonic 2 Pintu NR-BB211Q-PK Prime Fr...   Rp4.350.000   \n",
       "16  HISENSE RT318N4IGN KULKAS 2 PINTU 267 LITER IN...   Rp3.990.000   \n",
       "17  SHARP SJ197ND LEMARI ES 2 PINTU KULKAS SJ197ND...   Rp2.799.000   \n",
       "18  TOSHIBA KULKAS 2 PINTU GR-RB410WE-PMF / GRRB41...   Rp6.379.000   \n",
       "19  Kulkas 2 pintu Sharp SJ-456GI MK J-TECH INVERT...   Rp5.675.000   \n",
       "\n",
       "                                                  url  \\\n",
       "0   https://ta.tokopedia.com/promo/v1/clicks/8a-xg...   \n",
       "1   https://ta.tokopedia.com/promo/v1/clicks/8a-xg...   \n",
       "2   https://ta.tokopedia.com/promo/v1/clicks/8a-xg...   \n",
       "3   https://ta.tokopedia.com/promo/v1/clicks/8a-xg...   \n",
       "4   https://ta.tokopedia.com/promo/v1/clicks/8a-xg...   \n",
       "5   https://www.tokopedia.com/nepitom/cetakan-es-t...   \n",
       "6   https://www.tokopedia.com/britplaza/lg-kulkas-...   \n",
       "7   https://www.tokopedia.com/panasonic-official/p...   \n",
       "8   https://www.tokopedia.com/bonbon-elektronik/sh...   \n",
       "9   https://www.tokopedia.com/stationelectro/chang...   \n",
       "10  https://www.tokopedia.com/sankenofficial/sanke...   \n",
       "11  https://www.tokopedia.com/aquaelektronik/aqua-...   \n",
       "12  https://www.tokopedia.com/myhartono/sharp-kulk...   \n",
       "13  https://www.tokopedia.com/getonlines/lg-gn-b21...   \n",
       "14  https://www.tokopedia.com/sinarabadiaircon/fan...   \n",
       "15  https://ta.tokopedia.com/promo/v1/clicks/8a-xg...   \n",
       "16  https://ta.tokopedia.com/promo/v1/clicks/8a-xg...   \n",
       "17  https://ta.tokopedia.com/promo/v1/clicks/8a-xg...   \n",
       "18  https://ta.tokopedia.com/promo/v1/clicks/8a-xg...   \n",
       "19  https://ta.tokopedia.com/promo/v1/clicks/8a-xg...   \n",
       "\n",
       "                    shop_name          shop_city  \n",
       "0       Refcon Polar Nusaindo          Tangerang  \n",
       "1               Samsung Grade           Semarang  \n",
       "2          JURAGAN-ELEKTRONIK      Jakarta Barat  \n",
       "3        BM Grosir Electronic             Bekasi  \n",
       "4                Darrie Store              Depok  \n",
       "5                     Nepitom      Jakarta Timur  \n",
       "6                   Britplaza              Depok  \n",
       "7                   Panasonic             Bekasi  \n",
       "8           Bonbon_Elektronik      Jakarta Utara  \n",
       "9          station electronic      Jakarta Utara  \n",
       "10      Sanken Official Store      Jakarta Barat  \n",
       "11  AQUA Elektronik Indonesia      Jakarta Utara  \n",
       "12                  MyHartono  Tangerang Selatan  \n",
       "13            GET Online Shop      Jakarta Pusat  \n",
       "14         Sinar Abadi Aircon      Jakarta Barat  \n",
       "15             Fai Electronic      Jakarta Timur  \n",
       "16           CAHAYA PERMATA89      Jakarta Barat  \n",
       "17                  Tiga_jaya  Tangerang Selatan  \n",
       "18               Spyro Garage        Kab. Bekasi  \n",
       "19                  starbuddy          Tangerang  "
      ]
     },
     "execution_count": 198,
     "metadata": {},
     "output_type": "execute_result"
    }
   ],
   "source": [
    "df.head(20)"
   ]
  },
  {
   "cell_type": "markdown",
   "metadata": {},
   "source": [
    "# Create Dir"
   ]
  },
  {
   "cell_type": "code",
   "execution_count": 200,
   "metadata": {},
   "outputs": [],
   "source": [
    "dir_path = 'scrape_tokopedia_selenium'\n",
    "\n",
    "if not os.path.exists(dir_path):\n",
    "    os.makedirs(dir_path)"
   ]
  },
  {
   "cell_type": "code",
   "execution_count": 226,
   "metadata": {},
   "outputs": [],
   "source": [
    "files = glob.glob(os.path.join(dir_path, '*'))\n",
    "for file in files:\n",
    "    try:\n",
    "        os.remove(file)\n",
    "    except: pass"
   ]
  },
  {
   "cell_type": "markdown",
   "metadata": {},
   "source": [
    "# Scrape Multiple Pages"
   ]
  },
  {
   "cell_type": "code",
   "execution_count": 227,
   "metadata": {},
   "outputs": [
    {
     "data": {
      "application/vnd.jupyter.widget-view+json": {
       "model_id": "7c3be30b589b495082c280a9ed068920",
       "version_major": 2,
       "version_minor": 0
      },
      "text/plain": [
       "  0%|          | 0/1 [00:00<?, ?it/s]"
      ]
     },
     "metadata": {},
     "output_type": "display_data"
    }
   ],
   "source": [
    "start_page = 1\n",
    "end_page = 1\n",
    "pbar = tqdm(total=end_page-start_page+1)\n",
    "\n",
    "for page in range(start_page, end_page+1):\n",
    "    url_to = initial_url + f'?page={page}'\n",
    "    driver.get(url_to)\n",
    "\n",
    "    last_height = driver.execute_script(\"return document.body.scrollHeight\")\n",
    "    \n",
    "    while True:\n",
    "        for i in range(30):\n",
    "            driver.execute_script(f\"window.scrollBy(0, 200);\")\n",
    "\n",
    "            time.sleep(0.1)\n",
    "\n",
    "        #time.sleep(3)\n",
    "\n",
    "        new_height = driver.execute_script(\"return document.body.scrollHeight\")\n",
    "        if new_height >= last_height:\n",
    "            break\n",
    "        last_height = new_height\n",
    "\n",
    "    elements = driver.find_elements(By.XPATH, '//div[contains(@data-ssr, \"findProductSSR\")]')\n",
    "    #elements = driver.find_elements(By.XPATH, '//div[contains(@data-testid, \"divFindProduct\")]')\n",
    "\n",
    "    li = []\n",
    "    for element in elements:\n",
    "        divs = element.find_elements(By.XPATH, './a/div/div[2]/div')\n",
    "        name = element.find_element(By.XPATH, './a/div/div[2]/div[1]/span').text.strip()\n",
    "        price = element.find_element(By.XPATH, './a/div/div[2]/div[2]/div').text.strip()\n",
    "\n",
    "        shop_name = element.find_element(By.XPATH, f'./a/div/div[2]/div[{str(len(divs)-1)}]/div[2]/span[1]').text.strip()\n",
    "\n",
    "        shop = element.find_element(By.XPATH, f'./a/div/div[2]/div[{str(len(divs)-1)}]/div[2]')\n",
    "        actions = ActionChains(driver)\n",
    "        actions.move_to_element(shop).perform()\n",
    "\n",
    "        shop_city = element.find_element(By.XPATH, f'./a/div/div[2]/div[{str(len(divs)-1)}]/div[2]/span[2]').text.strip()\n",
    "        url = element.find_element(By.XPATH, './/a').get_attribute('href')\n",
    "\n",
    "        li.append({\n",
    "            'name': name,\n",
    "            'price': price,\n",
    "            'url': url,\n",
    "            'shop_name': shop_name,\n",
    "            'shop_city': shop_city\n",
    "        })\n",
    "\n",
    "    df = pd.DataFrame(li)\n",
    "    df.to_csv(os.path.join(dir_path, f'{page}.csv'), index=False, sep='\\t')\n",
    "\n",
    "    pbar.update(1)\n",
    "\n",
    "pbar.close()"
   ]
  },
  {
   "cell_type": "markdown",
   "metadata": {},
   "source": [
    "# Combine All CSVs"
   ]
  },
  {
   "cell_type": "code",
   "execution_count": 228,
   "metadata": {},
   "outputs": [],
   "source": [
    "all_files = os.listdir(dir_path)\n",
    "\n",
    "csv_files = [file for file in all_files if file.endswith('.csv')]"
   ]
  },
  {
   "cell_type": "code",
   "execution_count": 229,
   "metadata": {},
   "outputs": [],
   "source": [
    "li = []\n",
    "\n",
    "for file in csv_files:\n",
    "    df = pd.read_csv(os.path.join(dir_path, file), sep='\\t')\n",
    "    li.append(df)\n",
    "\n",
    "df = pd.concat(li, axis=0, ignore_index=True)\n",
    "df.to_excel(os.path.join(dir_path, 'hasil_scrape.xlsx'), index=False)"
   ]
  },
  {
   "cell_type": "code",
   "execution_count": 223,
   "metadata": {},
   "outputs": [
    {
     "data": {
      "text/html": [
       "<div>\n",
       "<style scoped>\n",
       "    .dataframe tbody tr th:only-of-type {\n",
       "        vertical-align: middle;\n",
       "    }\n",
       "\n",
       "    .dataframe tbody tr th {\n",
       "        vertical-align: top;\n",
       "    }\n",
       "\n",
       "    .dataframe thead th {\n",
       "        text-align: right;\n",
       "    }\n",
       "</style>\n",
       "<table border=\"1\" class=\"dataframe\">\n",
       "  <thead>\n",
       "    <tr style=\"text-align: right;\">\n",
       "      <th></th>\n",
       "      <th>name</th>\n",
       "      <th>price</th>\n",
       "      <th>url</th>\n",
       "      <th>shop_name</th>\n",
       "      <th>shop_city</th>\n",
       "    </tr>\n",
       "  </thead>\n",
       "  <tbody>\n",
       "    <tr>\n",
       "      <th>0</th>\n",
       "      <td>Kulkas 2 Pintu SHARP SJ 195 MD SG SR 200L Low ...</td>\n",
       "      <td>Rp2.629.000</td>\n",
       "      <td>https://ta.tokopedia.com/promo/v1/clicks/8a-xg...</td>\n",
       "      <td>Dunia Electronik 12</td>\n",
       "      <td>NaN</td>\n",
       "    </tr>\n",
       "    <tr>\n",
       "      <th>1</th>\n",
       "      <td>LG GNF392 Kulkas Besar 2 Pintu Big 2 Door Refr...</td>\n",
       "      <td>Rp8.499.900</td>\n",
       "      <td>https://ta.tokopedia.com/promo/v1/clicks/8a-xg...</td>\n",
       "      <td>Azzaelle olshop</td>\n",
       "      <td>Jakarta Timur</td>\n",
       "    </tr>\n",
       "    <tr>\n",
       "      <th>2</th>\n",
       "      <td>Kulkas 2 Pintu Aqua Sanyo D251 Tanpa Bunga Es ...</td>\n",
       "      <td>Rp2.580.000</td>\n",
       "      <td>https://ta.tokopedia.com/promo/v1/clicks/8a-xg...</td>\n",
       "      <td>Maju Jaya Electronik</td>\n",
       "      <td>Jakarta Barat</td>\n",
       "    </tr>\n",
       "    <tr>\n",
       "      <th>3</th>\n",
       "      <td>KULKAS 2 PINTU SHARP SJ-195MN-HS NO FROST</td>\n",
       "      <td>Rp2.625.000</td>\n",
       "      <td>https://ta.tokopedia.com/promo/v1/clicks/8a-xg...</td>\n",
       "      <td>Toko PROGRESS</td>\n",
       "      <td>Kab. Bogor</td>\n",
       "    </tr>\n",
       "    <tr>\n",
       "      <th>4</th>\n",
       "      <td>Samsung Kulkas 2 Pintu 203 L RT19M dengan All-...</td>\n",
       "      <td>Rp3.899.000</td>\n",
       "      <td>https://ta.tokopedia.com/promo/v1/clicks/8a-xg...</td>\n",
       "      <td>Samsung Electronics Authorized Store</td>\n",
       "      <td>Jakarta Barat</td>\n",
       "    </tr>\n",
       "    <tr>\n",
       "      <th>...</th>\n",
       "      <td>...</td>\n",
       "      <td>...</td>\n",
       "      <td>...</td>\n",
       "      <td>...</td>\n",
       "      <td>...</td>\n",
       "    </tr>\n",
       "    <tr>\n",
       "      <th>155</th>\n",
       "      <td>LG GN-F372PXAK Kulkas 2 Pintu 410L Gross / 363...</td>\n",
       "      <td>Rp7.450.000</td>\n",
       "      <td>https://ta.tokopedia.com/promo/v1/clicks/8a-xg...</td>\n",
       "      <td>Berlian Abadi Elektronik</td>\n",
       "      <td>Jakarta Barat</td>\n",
       "    </tr>\n",
       "    <tr>\n",
       "      <th>156</th>\n",
       "      <td>KULKAS 2 PINTU INVERTER POLYTRON BELLEZA JUMBO...</td>\n",
       "      <td>Rp3.140.000</td>\n",
       "      <td>https://ta.tokopedia.com/promo/v1/clicks/8a-xg...</td>\n",
       "      <td>Indo Plaza Medan</td>\n",
       "      <td>Medan</td>\n",
       "    </tr>\n",
       "    <tr>\n",
       "      <th>157</th>\n",
       "      <td>POLYTRON PRM491X KULKAS 2 PINTU BELLEZA BIG 35...</td>\n",
       "      <td>Rp4.990.000</td>\n",
       "      <td>https://ta.tokopedia.com/promo/v1/clicks/8a-xg...</td>\n",
       "      <td>Saturnus elektronik</td>\n",
       "      <td>Jakarta Barat</td>\n",
       "    </tr>\n",
       "    <tr>\n",
       "      <th>158</th>\n",
       "      <td>SHARP| SJ-456GI-MS Kulkas 2 pintu New J-Tech i...</td>\n",
       "      <td>Rp6.500.000</td>\n",
       "      <td>https://ta.tokopedia.com/promo/v1/clicks/8a-xg...</td>\n",
       "      <td>SHARP OFFICIAL STORE KUDUS</td>\n",
       "      <td>Kab. Kudus</td>\n",
       "    </tr>\n",
       "    <tr>\n",
       "      <th>159</th>\n",
       "      <td>Kulkas GEA G2HD-267 / G2HD267 INOX Kulkas 2 Pi...</td>\n",
       "      <td>Rp3.469.000</td>\n",
       "      <td>https://ta.tokopedia.com/promo/v1/clicks/8a-xg...</td>\n",
       "      <td>Refcon Polar Nusaindo</td>\n",
       "      <td>Tangerang</td>\n",
       "    </tr>\n",
       "  </tbody>\n",
       "</table>\n",
       "<p>160 rows × 5 columns</p>\n",
       "</div>"
      ],
      "text/plain": [
       "                                                  name        price  \\\n",
       "0    Kulkas 2 Pintu SHARP SJ 195 MD SG SR 200L Low ...  Rp2.629.000   \n",
       "1    LG GNF392 Kulkas Besar 2 Pintu Big 2 Door Refr...  Rp8.499.900   \n",
       "2    Kulkas 2 Pintu Aqua Sanyo D251 Tanpa Bunga Es ...  Rp2.580.000   \n",
       "3            KULKAS 2 PINTU SHARP SJ-195MN-HS NO FROST  Rp2.625.000   \n",
       "4    Samsung Kulkas 2 Pintu 203 L RT19M dengan All-...  Rp3.899.000   \n",
       "..                                                 ...          ...   \n",
       "155  LG GN-F372PXAK Kulkas 2 Pintu 410L Gross / 363...  Rp7.450.000   \n",
       "156  KULKAS 2 PINTU INVERTER POLYTRON BELLEZA JUMBO...  Rp3.140.000   \n",
       "157  POLYTRON PRM491X KULKAS 2 PINTU BELLEZA BIG 35...  Rp4.990.000   \n",
       "158  SHARP| SJ-456GI-MS Kulkas 2 pintu New J-Tech i...  Rp6.500.000   \n",
       "159  Kulkas GEA G2HD-267 / G2HD267 INOX Kulkas 2 Pi...  Rp3.469.000   \n",
       "\n",
       "                                                   url  \\\n",
       "0    https://ta.tokopedia.com/promo/v1/clicks/8a-xg...   \n",
       "1    https://ta.tokopedia.com/promo/v1/clicks/8a-xg...   \n",
       "2    https://ta.tokopedia.com/promo/v1/clicks/8a-xg...   \n",
       "3    https://ta.tokopedia.com/promo/v1/clicks/8a-xg...   \n",
       "4    https://ta.tokopedia.com/promo/v1/clicks/8a-xg...   \n",
       "..                                                 ...   \n",
       "155  https://ta.tokopedia.com/promo/v1/clicks/8a-xg...   \n",
       "156  https://ta.tokopedia.com/promo/v1/clicks/8a-xg...   \n",
       "157  https://ta.tokopedia.com/promo/v1/clicks/8a-xg...   \n",
       "158  https://ta.tokopedia.com/promo/v1/clicks/8a-xg...   \n",
       "159  https://ta.tokopedia.com/promo/v1/clicks/8a-xg...   \n",
       "\n",
       "                                shop_name      shop_city  \n",
       "0                     Dunia Electronik 12            NaN  \n",
       "1                         Azzaelle olshop  Jakarta Timur  \n",
       "2                    Maju Jaya Electronik  Jakarta Barat  \n",
       "3                           Toko PROGRESS     Kab. Bogor  \n",
       "4    Samsung Electronics Authorized Store  Jakarta Barat  \n",
       "..                                    ...            ...  \n",
       "155              Berlian Abadi Elektronik  Jakarta Barat  \n",
       "156                      Indo Plaza Medan          Medan  \n",
       "157                   Saturnus elektronik  Jakarta Barat  \n",
       "158            SHARP OFFICIAL STORE KUDUS     Kab. Kudus  \n",
       "159                 Refcon Polar Nusaindo      Tangerang  \n",
       "\n",
       "[160 rows x 5 columns]"
      ]
     },
     "execution_count": 223,
     "metadata": {},
     "output_type": "execute_result"
    }
   ],
   "source": [
    "df"
   ]
  },
  {
   "cell_type": "markdown",
   "metadata": {},
   "source": [
    "# Close the browser"
   ]
  },
  {
   "cell_type": "code",
   "execution_count": 224,
   "metadata": {},
   "outputs": [],
   "source": [
    "#driver.quit()"
   ]
  }
 ],
 "metadata": {
  "kernelspec": {
   "display_name": "basangdata12",
   "language": "python",
   "name": "python3"
  },
  "language_info": {
   "codemirror_mode": {
    "name": "ipython",
    "version": 3
   },
   "file_extension": ".py",
   "mimetype": "text/x-python",
   "name": "python",
   "nbconvert_exporter": "python",
   "pygments_lexer": "ipython3",
   "version": "3.12.2"
  }
 },
 "nbformat": 4,
 "nbformat_minor": 2
}
