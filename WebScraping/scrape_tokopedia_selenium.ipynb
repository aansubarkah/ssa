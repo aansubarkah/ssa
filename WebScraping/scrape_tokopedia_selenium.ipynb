{
 "cells": [
  {
   "cell_type": "markdown",
   "metadata": {},
   "source": [
    "# Libraries"
   ]
  },
  {
   "cell_type": "code",
   "execution_count": 19,
   "metadata": {
    "execution": {
     "iopub.execute_input": "2024-09-14T04:07:12.883773Z",
     "iopub.status.busy": "2024-09-14T04:07:12.883265Z",
     "iopub.status.idle": "2024-09-14T04:07:15.731626Z",
     "shell.execute_reply": "2024-09-14T04:07:15.730579Z",
     "shell.execute_reply.started": "2024-09-14T04:07:12.883773Z"
    }
   },
   "outputs": [],
   "source": [
    "import json, os, time, glob\n",
    "\n",
    "from selenium import webdriver\n",
    "from selenium.webdriver.chrome.service import Service as ChromeService\n",
    "from webdriver_manager.chrome import ChromeDriverManager\n",
    "from selenium.webdriver.chrome.options import Options as ChromeOptions\n",
    "from selenium.webdriver.common.by import By\n",
    "from selenium.webdriver.common.action_chains import ActionChains\n",
    "from tqdm.notebook import tqdm\n",
    "\n",
    "import pandas as pd"
   ]
  },
  {
   "cell_type": "markdown",
   "metadata": {},
   "source": [
    "# Parameters"
   ]
  },
  {
   "cell_type": "code",
   "execution_count": 2,
   "metadata": {
    "execution": {
     "iopub.execute_input": "2024-09-14T04:01:46.231446Z",
     "iopub.status.busy": "2024-09-14T04:01:46.230447Z",
     "iopub.status.idle": "2024-09-14T04:01:46.236575Z",
     "shell.execute_reply": "2024-09-14T04:01:46.235567Z",
     "shell.execute_reply.started": "2024-09-14T04:01:46.231446Z"
    }
   },
   "outputs": [],
   "source": [
    "base_url = 'https://www.tokopedia.com'\n",
    "initial_url = 'https://www.tokopedia.com/find/kulkas-2-pintu'"
   ]
  },
  {
   "cell_type": "markdown",
   "metadata": {},
   "source": [
    "# Buka Browser"
   ]
  },
  {
   "cell_type": "code",
   "execution_count": 3,
   "metadata": {
    "execution": {
     "iopub.execute_input": "2024-09-14T04:01:47.792110Z",
     "iopub.status.busy": "2024-09-14T04:01:47.792110Z",
     "iopub.status.idle": "2024-09-14T04:02:06.593333Z",
     "shell.execute_reply": "2024-09-14T04:02:06.589801Z",
     "shell.execute_reply.started": "2024-09-14T04:01:47.792110Z"
    }
   },
   "outputs": [],
   "source": [
    "#driver = webdriver.Chrome(service=ChromeService(ChromeDriverManager().install()), options=options)\n",
    "\n",
    "driver = webdriver.Chrome(service=ChromeService(ChromeDriverManager().install()))\n",
    "#driver = webdriver.Chrome()"
   ]
  },
  {
   "cell_type": "code",
   "execution_count": 4,
   "metadata": {
    "execution": {
     "iopub.execute_input": "2024-09-14T04:02:17.534895Z",
     "iopub.status.busy": "2024-09-14T04:02:17.533898Z",
     "iopub.status.idle": "2024-09-14T04:02:31.328596Z",
     "shell.execute_reply": "2024-09-14T04:02:31.324585Z",
     "shell.execute_reply.started": "2024-09-14T04:02:17.534895Z"
    }
   },
   "outputs": [],
   "source": [
    "driver.get(initial_url)"
   ]
  },
  {
   "cell_type": "code",
   "execution_count": 11,
   "metadata": {
    "execution": {
     "iopub.execute_input": "2024-09-14T04:04:53.501396Z",
     "iopub.status.busy": "2024-09-14T04:04:53.500399Z",
     "iopub.status.idle": "2024-09-14T04:05:02.710060Z",
     "shell.execute_reply": "2024-09-14T04:05:02.707044Z",
     "shell.execute_reply.started": "2024-09-14T04:04:53.501396Z"
    }
   },
   "outputs": [],
   "source": [
    "driver.get('https://tokopedia.com/find/kulkas-2-pintu?page=2')"
   ]
  },
  {
   "cell_type": "code",
   "execution_count": 29,
   "metadata": {
    "execution": {
     "iopub.execute_input": "2024-09-14T04:32:11.044510Z",
     "iopub.status.busy": "2024-09-14T04:32:11.043002Z",
     "iopub.status.idle": "2024-09-14T04:32:18.260915Z",
     "shell.execute_reply": "2024-09-14T04:32:18.256911Z",
     "shell.execute_reply.started": "2024-09-14T04:32:11.044510Z"
    }
   },
   "outputs": [],
   "source": [
    "driver.get('https://shopee.co.id')"
   ]
  },
  {
   "cell_type": "markdown",
   "metadata": {},
   "source": [
    "# Get Products' Element"
   ]
  },
  {
   "cell_type": "code",
   "execution_count": 12,
   "metadata": {
    "execution": {
     "iopub.execute_input": "2024-09-14T04:05:02.721604Z",
     "iopub.status.busy": "2024-09-14T04:05:02.720617Z",
     "iopub.status.idle": "2024-09-14T04:05:02.833772Z",
     "shell.execute_reply": "2024-09-14T04:05:02.829234Z",
     "shell.execute_reply.started": "2024-09-14T04:05:02.721604Z"
    }
   },
   "outputs": [],
   "source": [
    "elements = driver.find_elements(By.XPATH, '//div[contains(@data-testid, \"divFindProduct\")]')"
   ]
  },
  {
   "cell_type": "code",
   "execution_count": 13,
   "metadata": {
    "execution": {
     "iopub.execute_input": "2024-09-14T04:05:02.839768Z",
     "iopub.status.busy": "2024-09-14T04:05:02.836777Z",
     "iopub.status.idle": "2024-09-14T04:05:02.859462Z",
     "shell.execute_reply": "2024-09-14T04:05:02.854444Z",
     "shell.execute_reply.started": "2024-09-14T04:05:02.839768Z"
    }
   },
   "outputs": [
    {
     "data": {
      "text/plain": [
       "10"
      ]
     },
     "execution_count": 13,
     "metadata": {},
     "output_type": "execute_result"
    }
   ],
   "source": [
    "len(elements)"
   ]
  },
  {
   "cell_type": "code",
   "execution_count": 152,
   "metadata": {},
   "outputs": [
    {
     "data": {
      "text/plain": [
       "'Ad\\nDisplay Cooler RSA Topaz 600 / Topaz600 Kulkas Showcase 2 Pintu 568 L\\nRp8.199.000\\n4.9\\n28 terjual\\nRefcon Polar Nusaindo'"
      ]
     },
     "execution_count": 152,
     "metadata": {},
     "output_type": "execute_result"
    }
   ],
   "source": [
    "elements[0].text"
   ]
  },
  {
   "cell_type": "markdown",
   "metadata": {},
   "source": [
    "# Scroll the page"
   ]
  },
  {
   "cell_type": "code",
   "execution_count": 14,
   "metadata": {
    "execution": {
     "iopub.execute_input": "2024-09-14T04:05:06.548274Z",
     "iopub.status.busy": "2024-09-14T04:05:06.547277Z",
     "iopub.status.idle": "2024-09-14T04:05:06.571592Z",
     "shell.execute_reply": "2024-09-14T04:05:06.569563Z",
     "shell.execute_reply.started": "2024-09-14T04:05:06.548274Z"
    }
   },
   "outputs": [],
   "source": [
    "last_height = driver.execute_script(\"return document.body.scrollHeight\")"
   ]
  },
  {
   "cell_type": "code",
   "execution_count": 15,
   "metadata": {
    "execution": {
     "iopub.execute_input": "2024-09-14T04:05:07.215359Z",
     "iopub.status.busy": "2024-09-14T04:05:07.213347Z",
     "iopub.status.idle": "2024-09-14T04:05:26.065300Z",
     "shell.execute_reply": "2024-09-14T04:05:26.062750Z",
     "shell.execute_reply.started": "2024-09-14T04:05:07.215359Z"
    }
   },
   "outputs": [],
   "source": [
    "while True:\n",
    "    for i in range(30):\n",
    "        driver.execute_script(f\"window.scrollBy(0, 200);\")\n",
    "        #driver.execute_script(f\"window.scrollBy(0, {i*last_height/20});\")\n",
    "\n",
    "        time.sleep(0.5)\n",
    "\n",
    "    #time.sleep(3)\n",
    "\n",
    "    new_height = driver.execute_script(\"return document.body.scrollHeight\")\n",
    "    if new_height >= last_height:\n",
    "        break\n",
    "    last_height = new_height"
   ]
  },
  {
   "cell_type": "code",
   "execution_count": 16,
   "metadata": {
    "execution": {
     "iopub.execute_input": "2024-09-14T04:05:30.330233Z",
     "iopub.status.busy": "2024-09-14T04:05:30.329236Z",
     "iopub.status.idle": "2024-09-14T04:05:30.367343Z",
     "shell.execute_reply": "2024-09-14T04:05:30.366333Z",
     "shell.execute_reply.started": "2024-09-14T04:05:30.330233Z"
    }
   },
   "outputs": [],
   "source": [
    "elements = driver.find_elements(By.XPATH, '//div[contains(@data-ssr, \"findProductSSR\")]')\n",
    "#elements = driver.find_elements(By.XPATH, '//div[contains(@data-testid, \"divFindProduct\")]')"
   ]
  },
  {
   "cell_type": "code",
   "execution_count": 17,
   "metadata": {
    "execution": {
     "iopub.execute_input": "2024-09-14T04:05:30.906188Z",
     "iopub.status.busy": "2024-09-14T04:05:30.905189Z",
     "iopub.status.idle": "2024-09-14T04:05:30.918612Z",
     "shell.execute_reply": "2024-09-14T04:05:30.917603Z",
     "shell.execute_reply.started": "2024-09-14T04:05:30.906188Z"
    }
   },
   "outputs": [
    {
     "data": {
      "text/plain": [
       "80"
      ]
     },
     "execution_count": 17,
     "metadata": {},
     "output_type": "execute_result"
    }
   ],
   "source": [
    "len(elements)"
   ]
  },
  {
   "cell_type": "code",
   "execution_count": 20,
   "metadata": {
    "execution": {
     "iopub.execute_input": "2024-09-14T04:07:25.846490Z",
     "iopub.status.busy": "2024-09-14T04:07:25.845493Z",
     "iopub.status.idle": "2024-09-14T04:08:15.746393Z",
     "shell.execute_reply": "2024-09-14T04:08:15.744140Z",
     "shell.execute_reply.started": "2024-09-14T04:07:25.846490Z"
    }
   },
   "outputs": [
    {
     "data": {
      "application/vnd.jupyter.widget-view+json": {
       "model_id": "93e6e37541dc46689a1d276656917e45",
       "version_major": 2,
       "version_minor": 0
      },
      "text/plain": [
       "  0%|          | 0/80 [00:00<?, ?it/s]"
      ]
     },
     "metadata": {},
     "output_type": "display_data"
    }
   ],
   "source": [
    "li = []\n",
    "pbar = tqdm(total=len(elements))\n",
    "for element in elements:\n",
    "    divs = element.find_elements(By.XPATH, './a/div/div[2]/div')\n",
    "    name = element.find_element(By.XPATH, './a/div/div[2]/div[1]/span').text.strip()\n",
    "    price = element.find_element(By.XPATH, './a/div/div[2]/div[2]/div').text.strip()\n",
    "\n",
    "    shop_name = element.find_element(By.XPATH, f'./a/div/div[2]/div[{str(len(divs)-1)}]/div[2]/span[1]').text.strip()\n",
    "\n",
    "    shop = element.find_element(By.XPATH, f'./a/div/div[2]/div[{str(len(divs)-1)}]/div[2]')\n",
    "    actions = ActionChains(driver)\n",
    "    actions.move_to_element(shop).perform()\n",
    "\n",
    "    shop_city = element.find_element(By.XPATH, f'./a/div/div[2]/div[{str(len(divs)-1)}]/div[2]/span[2]').text.strip()\n",
    "    url = element.find_element(By.XPATH, './/a').get_attribute('href')\n",
    "\n",
    "    li.append({\n",
    "        'name': name,\n",
    "        'price': price,\n",
    "        'url': url,\n",
    "        'shop_name': shop_name,\n",
    "        'shop_city': shop_city\n",
    "    })\n",
    "    pbar.update(1)\n",
    "\n",
    "df = pd.DataFrame(li)\n",
    "\n",
    "pbar.close()"
   ]
  },
  {
   "cell_type": "code",
   "execution_count": 21,
   "metadata": {
    "execution": {
     "iopub.execute_input": "2024-09-14T04:08:22.953648Z",
     "iopub.status.busy": "2024-09-14T04:08:22.952144Z",
     "iopub.status.idle": "2024-09-14T04:08:22.980741Z",
     "shell.execute_reply": "2024-09-14T04:08:22.979730Z",
     "shell.execute_reply.started": "2024-09-14T04:08:22.953648Z"
    }
   },
   "outputs": [
    {
     "data": {
      "text/html": [
       "<div>\n",
       "<style scoped>\n",
       "    .dataframe tbody tr th:only-of-type {\n",
       "        vertical-align: middle;\n",
       "    }\n",
       "\n",
       "    .dataframe tbody tr th {\n",
       "        vertical-align: top;\n",
       "    }\n",
       "\n",
       "    .dataframe thead th {\n",
       "        text-align: right;\n",
       "    }\n",
       "</style>\n",
       "<table border=\"1\" class=\"dataframe\">\n",
       "  <thead>\n",
       "    <tr style=\"text-align: right;\">\n",
       "      <th></th>\n",
       "      <th>name</th>\n",
       "      <th>price</th>\n",
       "      <th>url</th>\n",
       "      <th>shop_name</th>\n",
       "      <th>shop_city</th>\n",
       "    </tr>\n",
       "  </thead>\n",
       "  <tbody>\n",
       "    <tr>\n",
       "      <th>0</th>\n",
       "      <td>KULKAS 2 PINTU SHARP SJ-195MN-HS NO FROST</td>\n",
       "      <td>Rp2.625.000</td>\n",
       "      <td>https://ta.tokopedia.com/promo/v1/clicks/8a-xg...</td>\n",
       "      <td>Toko PROGRESS</td>\n",
       "      <td>Kab. Bogor</td>\n",
       "    </tr>\n",
       "    <tr>\n",
       "      <th>1</th>\n",
       "      <td>Kulkas 2 Pintu Aqua Sanyo D251 Tanpa Bunga Es ...</td>\n",
       "      <td>Rp2.580.000</td>\n",
       "      <td>https://ta.tokopedia.com/promo/v1/clicks/8a-xg...</td>\n",
       "      <td>Maju Jaya Electronik</td>\n",
       "      <td>Jakarta Barat</td>\n",
       "    </tr>\n",
       "    <tr>\n",
       "      <th>2</th>\n",
       "      <td>LG GN-B312PQCP KULKAS 2 PINTU INVERTER 315 Lit...</td>\n",
       "      <td>Rp6.599.000</td>\n",
       "      <td>https://ta.tokopedia.com/promo/v1/clicks/8a-xg...</td>\n",
       "      <td>CT Electronics</td>\n",
       "      <td>Tangerang</td>\n",
       "    </tr>\n",
       "    <tr>\n",
       "      <th>3</th>\n",
       "      <td>Changhong Kulkas 2 Pintu Refrigerator Kapasita...</td>\n",
       "      <td>Rp2.369.000</td>\n",
       "      <td>https://ta.tokopedia.com/promo/v1/clicks/8a-xg...</td>\n",
       "      <td>changhong surabaya</td>\n",
       "      <td>Surabaya</td>\n",
       "    </tr>\n",
       "    <tr>\n",
       "      <th>4</th>\n",
       "      <td>Samsung Kulkas 2 Pintu w/ Ungkep compartment 3...</td>\n",
       "      <td>Rp7.969.000</td>\n",
       "      <td>https://ta.tokopedia.com/promo/v1/clicks/8a-xg...</td>\n",
       "      <td>Samsung Exclusive Official Store</td>\n",
       "      <td>Kab. Tangerang</td>\n",
       "    </tr>\n",
       "    <tr>\n",
       "      <th>5</th>\n",
       "      <td>Timer Defrost Bimetal fuse kulkas AQUA 2 pintu...</td>\n",
       "      <td>Rp63.100</td>\n",
       "      <td>https://www.tokopedia.com/gsparepart-4/timer-d...</td>\n",
       "      <td>Gudang sparepart jkt</td>\n",
       "      <td>Jakarta Barat</td>\n",
       "    </tr>\n",
       "    <tr>\n",
       "      <th>6</th>\n",
       "      <td>Panasonic NR-BB201Q-PK Kulkas 2 Pintu + Invert...</td>\n",
       "      <td>Rp4.201.000</td>\n",
       "      <td>https://www.tokopedia.com/panasonic-official/p...</td>\n",
       "      <td>Panasonic</td>\n",
       "      <td>Bekasi</td>\n",
       "    </tr>\n",
       "    <tr>\n",
       "      <th>7</th>\n",
       "      <td>KULKAS AQUA JAPAN AQR-D275 INVERTER LEMARI ES ...</td>\n",
       "      <td>Rp3.119.000</td>\n",
       "      <td>https://www.tokopedia.com/topaircon/kulkas-aqu...</td>\n",
       "      <td>TOP AIRCON</td>\n",
       "      <td>Tangerang Selatan</td>\n",
       "    </tr>\n",
       "    <tr>\n",
       "      <th>8</th>\n",
       "      <td>LG GN-B215SQMT Kulkas 2 Pintu - Smart Inverter...</td>\n",
       "      <td>Rp3.750.000</td>\n",
       "      <td>https://www.tokopedia.com/getonlines/lg-gn-b21...</td>\n",
       "      <td>GET Online Shop</td>\n",
       "      <td>Jakarta Pusat</td>\n",
       "    </tr>\n",
       "    <tr>\n",
       "      <th>9</th>\n",
       "      <td>Panasonic NRBB200VH Kulkas 2 Pintu NRBB200VH 1...</td>\n",
       "      <td>Rp3.900.000</td>\n",
       "      <td>https://www.tokopedia.com/setia-makmuroff/pana...</td>\n",
       "      <td>Setia Makmur Elektronik</td>\n",
       "      <td>Jakarta Barat</td>\n",
       "    </tr>\n",
       "    <tr>\n",
       "      <th>10</th>\n",
       "      <td>Hitachi R-BG41PGD6X XGR RBG41PGD6 Stylish Kulk...</td>\n",
       "      <td>Rp9.065.000</td>\n",
       "      <td>https://www.tokopedia.com/toko-permata/hitachi...</td>\n",
       "      <td>Permata Elektronik</td>\n",
       "      <td>Jakarta Pusat</td>\n",
       "    </tr>\n",
       "    <tr>\n",
       "      <th>11</th>\n",
       "      <td>Sharp Sj 317 Mg Kulkas 2 Pintu 256L Shine - Sj...</td>\n",
       "      <td>Rp3.399.000</td>\n",
       "      <td>https://www.tokopedia.com/e3shop/sharp-sj-317-...</td>\n",
       "      <td>E Three Shop</td>\n",
       "      <td>Jakarta Utara</td>\n",
       "    </tr>\n",
       "    <tr>\n",
       "      <th>12</th>\n",
       "      <td>HITACHI R-VX48PGD9 / RVX48PGD9 BSL/BBK Kulkas ...</td>\n",
       "      <td>Rp6.599.000</td>\n",
       "      <td>https://www.tokopedia.com/one-stop-electro/hit...</td>\n",
       "      <td>OneStop Electronics</td>\n",
       "      <td>Jakarta Utara</td>\n",
       "    </tr>\n",
       "    <tr>\n",
       "      <th>13</th>\n",
       "      <td>cetakan es twist kulkas Sharp 2 pintu original</td>\n",
       "      <td>Rp94.900</td>\n",
       "      <td>https://www.tokopedia.com/nepitom/cetakan-es-t...</td>\n",
       "      <td>Nepitom</td>\n",
       "      <td>Jakarta Timur</td>\n",
       "    </tr>\n",
       "    <tr>\n",
       "      <th>14</th>\n",
       "      <td>Sharp Kulkas 2 Pintu 152L SJ-195MN-HS / SJ 195...</td>\n",
       "      <td>Rp2.523.510</td>\n",
       "      <td>https://www.tokopedia.com/bonbon-elektronik/sh...</td>\n",
       "      <td>Bonbon_Elektronik</td>\n",
       "      <td>Jakarta Utara</td>\n",
       "    </tr>\n",
       "    <tr>\n",
       "      <th>15</th>\n",
       "      <td>Sharp Kulkas 2 Pintu SJ-195MD-SG2 Shine Magnet...</td>\n",
       "      <td>Rp2.649.000</td>\n",
       "      <td>https://ta.tokopedia.com/promo/v1/clicks/8a-xg...</td>\n",
       "      <td>SHARP OFFICIAL STORE JAKARTA</td>\n",
       "      <td>Jakarta Utara</td>\n",
       "    </tr>\n",
       "    <tr>\n",
       "      <th>16</th>\n",
       "      <td>KULKAS 2 PINTU CHANGHONG 208 ( BUNGA ES ) GARA...</td>\n",
       "      <td>Rp2.149.000</td>\n",
       "      <td>https://ta.tokopedia.com/promo/v1/clicks/8a-xg...</td>\n",
       "      <td>Angkasa Jaya Elektronic</td>\n",
       "      <td>Medan</td>\n",
       "    </tr>\n",
       "    <tr>\n",
       "      <th>17</th>\n",
       "      <td>SHARP | SJ-237MG-DP/DB Kulkas 2 pintu Shine Ma...</td>\n",
       "      <td>Rp3.050.000</td>\n",
       "      <td>https://ta.tokopedia.com/promo/v1/clicks/8a-xg...</td>\n",
       "      <td>SHARP OFFICIAL STORE KUDUS</td>\n",
       "      <td>Kab. Kudus</td>\n",
       "    </tr>\n",
       "    <tr>\n",
       "      <th>18</th>\n",
       "      <td>Lemari Es / Kulkas LG Inverter GNB222SQIB (2 P...</td>\n",
       "      <td>Rp3.950.000</td>\n",
       "      <td>https://ta.tokopedia.com/promo/v1/clicks/8a-xg...</td>\n",
       "      <td>Gala Electronics</td>\n",
       "      <td>Denpasar</td>\n",
       "    </tr>\n",
       "    <tr>\n",
       "      <th>19</th>\n",
       "      <td>KULKAS SHARP 2 PINTU SJ 316 MG-GB/GR 256 LITER...</td>\n",
       "      <td>Rp3.499.000</td>\n",
       "      <td>https://ta.tokopedia.com/promo/v1/clicks/8a-xg...</td>\n",
       "      <td>Sevendays Electronic</td>\n",
       "      <td>Jakarta Timur</td>\n",
       "    </tr>\n",
       "  </tbody>\n",
       "</table>\n",
       "</div>"
      ],
      "text/plain": [
       "                                                 name        price  \\\n",
       "0           KULKAS 2 PINTU SHARP SJ-195MN-HS NO FROST  Rp2.625.000   \n",
       "1   Kulkas 2 Pintu Aqua Sanyo D251 Tanpa Bunga Es ...  Rp2.580.000   \n",
       "2   LG GN-B312PQCP KULKAS 2 PINTU INVERTER 315 Lit...  Rp6.599.000   \n",
       "3   Changhong Kulkas 2 Pintu Refrigerator Kapasita...  Rp2.369.000   \n",
       "4   Samsung Kulkas 2 Pintu w/ Ungkep compartment 3...  Rp7.969.000   \n",
       "5   Timer Defrost Bimetal fuse kulkas AQUA 2 pintu...     Rp63.100   \n",
       "6   Panasonic NR-BB201Q-PK Kulkas 2 Pintu + Invert...  Rp4.201.000   \n",
       "7   KULKAS AQUA JAPAN AQR-D275 INVERTER LEMARI ES ...  Rp3.119.000   \n",
       "8   LG GN-B215SQMT Kulkas 2 Pintu - Smart Inverter...  Rp3.750.000   \n",
       "9   Panasonic NRBB200VH Kulkas 2 Pintu NRBB200VH 1...  Rp3.900.000   \n",
       "10  Hitachi R-BG41PGD6X XGR RBG41PGD6 Stylish Kulk...  Rp9.065.000   \n",
       "11  Sharp Sj 317 Mg Kulkas 2 Pintu 256L Shine - Sj...  Rp3.399.000   \n",
       "12  HITACHI R-VX48PGD9 / RVX48PGD9 BSL/BBK Kulkas ...  Rp6.599.000   \n",
       "13     cetakan es twist kulkas Sharp 2 pintu original     Rp94.900   \n",
       "14  Sharp Kulkas 2 Pintu 152L SJ-195MN-HS / SJ 195...  Rp2.523.510   \n",
       "15  Sharp Kulkas 2 Pintu SJ-195MD-SG2 Shine Magnet...  Rp2.649.000   \n",
       "16  KULKAS 2 PINTU CHANGHONG 208 ( BUNGA ES ) GARA...  Rp2.149.000   \n",
       "17  SHARP | SJ-237MG-DP/DB Kulkas 2 pintu Shine Ma...  Rp3.050.000   \n",
       "18  Lemari Es / Kulkas LG Inverter GNB222SQIB (2 P...  Rp3.950.000   \n",
       "19  KULKAS SHARP 2 PINTU SJ 316 MG-GB/GR 256 LITER...  Rp3.499.000   \n",
       "\n",
       "                                                  url  \\\n",
       "0   https://ta.tokopedia.com/promo/v1/clicks/8a-xg...   \n",
       "1   https://ta.tokopedia.com/promo/v1/clicks/8a-xg...   \n",
       "2   https://ta.tokopedia.com/promo/v1/clicks/8a-xg...   \n",
       "3   https://ta.tokopedia.com/promo/v1/clicks/8a-xg...   \n",
       "4   https://ta.tokopedia.com/promo/v1/clicks/8a-xg...   \n",
       "5   https://www.tokopedia.com/gsparepart-4/timer-d...   \n",
       "6   https://www.tokopedia.com/panasonic-official/p...   \n",
       "7   https://www.tokopedia.com/topaircon/kulkas-aqu...   \n",
       "8   https://www.tokopedia.com/getonlines/lg-gn-b21...   \n",
       "9   https://www.tokopedia.com/setia-makmuroff/pana...   \n",
       "10  https://www.tokopedia.com/toko-permata/hitachi...   \n",
       "11  https://www.tokopedia.com/e3shop/sharp-sj-317-...   \n",
       "12  https://www.tokopedia.com/one-stop-electro/hit...   \n",
       "13  https://www.tokopedia.com/nepitom/cetakan-es-t...   \n",
       "14  https://www.tokopedia.com/bonbon-elektronik/sh...   \n",
       "15  https://ta.tokopedia.com/promo/v1/clicks/8a-xg...   \n",
       "16  https://ta.tokopedia.com/promo/v1/clicks/8a-xg...   \n",
       "17  https://ta.tokopedia.com/promo/v1/clicks/8a-xg...   \n",
       "18  https://ta.tokopedia.com/promo/v1/clicks/8a-xg...   \n",
       "19  https://ta.tokopedia.com/promo/v1/clicks/8a-xg...   \n",
       "\n",
       "                           shop_name          shop_city  \n",
       "0                      Toko PROGRESS         Kab. Bogor  \n",
       "1               Maju Jaya Electronik      Jakarta Barat  \n",
       "2                     CT Electronics          Tangerang  \n",
       "3                 changhong surabaya           Surabaya  \n",
       "4   Samsung Exclusive Official Store     Kab. Tangerang  \n",
       "5               Gudang sparepart jkt      Jakarta Barat  \n",
       "6                          Panasonic             Bekasi  \n",
       "7                         TOP AIRCON  Tangerang Selatan  \n",
       "8                    GET Online Shop      Jakarta Pusat  \n",
       "9            Setia Makmur Elektronik      Jakarta Barat  \n",
       "10                Permata Elektronik      Jakarta Pusat  \n",
       "11                      E Three Shop      Jakarta Utara  \n",
       "12               OneStop Electronics      Jakarta Utara  \n",
       "13                           Nepitom      Jakarta Timur  \n",
       "14                 Bonbon_Elektronik      Jakarta Utara  \n",
       "15      SHARP OFFICIAL STORE JAKARTA      Jakarta Utara  \n",
       "16           Angkasa Jaya Elektronic              Medan  \n",
       "17        SHARP OFFICIAL STORE KUDUS         Kab. Kudus  \n",
       "18                  Gala Electronics           Denpasar  \n",
       "19              Sevendays Electronic      Jakarta Timur  "
      ]
     },
     "execution_count": 21,
     "metadata": {},
     "output_type": "execute_result"
    }
   ],
   "source": [
    "df.head(20)"
   ]
  },
  {
   "cell_type": "markdown",
   "metadata": {},
   "source": [
    "# Create Dir"
   ]
  },
  {
   "cell_type": "code",
   "execution_count": 22,
   "metadata": {
    "execution": {
     "iopub.execute_input": "2024-09-14T04:08:32.034623Z",
     "iopub.status.busy": "2024-09-14T04:08:32.034623Z",
     "iopub.status.idle": "2024-09-14T04:08:32.039698Z",
     "shell.execute_reply": "2024-09-14T04:08:32.038651Z",
     "shell.execute_reply.started": "2024-09-14T04:08:32.034623Z"
    }
   },
   "outputs": [],
   "source": [
    "dir_path = 'scrape_tokopedia_selenium'\n",
    "\n",
    "if not os.path.exists(dir_path):\n",
    "    os.makedirs(dir_path)"
   ]
  },
  {
   "cell_type": "code",
   "execution_count": 24,
   "metadata": {
    "execution": {
     "iopub.execute_input": "2024-09-14T04:08:43.241932Z",
     "iopub.status.busy": "2024-09-14T04:08:43.241932Z",
     "iopub.status.idle": "2024-09-14T04:08:43.250276Z",
     "shell.execute_reply": "2024-09-14T04:08:43.249264Z",
     "shell.execute_reply.started": "2024-09-14T04:08:43.241932Z"
    }
   },
   "outputs": [],
   "source": [
    "files = glob.glob(os.path.join(dir_path, '*'))\n",
    "for file in files:\n",
    "    try:\n",
    "        os.remove(file)\n",
    "    except: pass"
   ]
  },
  {
   "cell_type": "markdown",
   "metadata": {},
   "source": [
    "# Scrape Multiple Pages"
   ]
  },
  {
   "cell_type": "code",
   "execution_count": 25,
   "metadata": {
    "execution": {
     "iopub.execute_input": "2024-09-14T04:08:44.404002Z",
     "iopub.status.busy": "2024-09-14T04:08:44.400473Z",
     "iopub.status.idle": "2024-09-14T04:10:45.299249Z",
     "shell.execute_reply": "2024-09-14T04:10:45.296251Z",
     "shell.execute_reply.started": "2024-09-14T04:08:44.404002Z"
    }
   },
   "outputs": [
    {
     "data": {
      "application/vnd.jupyter.widget-view+json": {
       "model_id": "570e289081284ca4b7cfd3474503e990",
       "version_major": 2,
       "version_minor": 0
      },
      "text/plain": [
       "  0%|          | 0/2 [00:00<?, ?it/s]"
      ]
     },
     "metadata": {},
     "output_type": "display_data"
    }
   ],
   "source": [
    "start_page = 1\n",
    "end_page = 2\n",
    "pbar = tqdm(total=end_page-start_page+1)\n",
    "\n",
    "for page in range(start_page, end_page+1):\n",
    "    url_to = initial_url + f'?page={page}'\n",
    "    driver.get(url_to)\n",
    "\n",
    "    last_height = driver.execute_script(\"return document.body.scrollHeight\")\n",
    "    \n",
    "    while True:\n",
    "        for i in range(30):\n",
    "            driver.execute_script(f\"window.scrollBy(0, 200);\")\n",
    "\n",
    "            time.sleep(0.1)\n",
    "\n",
    "        #time.sleep(3)\n",
    "\n",
    "        new_height = driver.execute_script(\"return document.body.scrollHeight\")\n",
    "        if new_height >= last_height:\n",
    "            break\n",
    "        last_height = new_height\n",
    "\n",
    "    elements = driver.find_elements(By.XPATH, '//div[contains(@data-ssr, \"findProductSSR\")]')\n",
    "    #elements = driver.find_elements(By.XPATH, '//div[contains(@data-testid, \"divFindProduct\")]')\n",
    "\n",
    "    li = []\n",
    "    for element in elements:\n",
    "        divs = element.find_elements(By.XPATH, './a/div/div[2]/div')\n",
    "        name = element.find_element(By.XPATH, './a/div/div[2]/div[1]/span').text.strip()\n",
    "        price = element.find_element(By.XPATH, './a/div/div[2]/div[2]/div').text.strip()\n",
    "\n",
    "        shop_name = element.find_element(By.XPATH, f'./a/div/div[2]/div[{str(len(divs)-1)}]/div[2]/span[1]').text.strip()\n",
    "\n",
    "        shop = element.find_element(By.XPATH, f'./a/div/div[2]/div[{str(len(divs)-1)}]/div[2]')\n",
    "        actions = ActionChains(driver)\n",
    "        actions.move_to_element(shop).perform()\n",
    "\n",
    "        shop_city = element.find_element(By.XPATH, f'./a/div/div[2]/div[{str(len(divs)-1)}]/div[2]/span[2]').text.strip()\n",
    "        url = element.find_element(By.XPATH, './/a').get_attribute('href')\n",
    "\n",
    "        li.append({\n",
    "            'name': name,\n",
    "            'price': price,\n",
    "            'url': url,\n",
    "            'shop_name': shop_name,\n",
    "            'shop_city': shop_city\n",
    "        })\n",
    "\n",
    "    df = pd.DataFrame(li)\n",
    "    df.to_csv(os.path.join(dir_path, f'{page}.csv'), index=False, sep='\\t')\n",
    "\n",
    "    pbar.update(1)\n",
    "\n",
    "pbar.close()"
   ]
  },
  {
   "cell_type": "markdown",
   "metadata": {},
   "source": [
    "# Combine All CSVs"
   ]
  },
  {
   "cell_type": "code",
   "execution_count": 26,
   "metadata": {
    "execution": {
     "iopub.execute_input": "2024-09-14T04:10:56.430802Z",
     "iopub.status.busy": "2024-09-14T04:10:56.429834Z",
     "iopub.status.idle": "2024-09-14T04:10:56.438888Z",
     "shell.execute_reply": "2024-09-14T04:10:56.437868Z",
     "shell.execute_reply.started": "2024-09-14T04:10:56.430802Z"
    }
   },
   "outputs": [],
   "source": [
    "all_files = os.listdir(dir_path)\n",
    "\n",
    "csv_files = [file for file in all_files if file.endswith('.csv')]"
   ]
  },
  {
   "cell_type": "code",
   "execution_count": 27,
   "metadata": {
    "execution": {
     "iopub.execute_input": "2024-09-14T04:10:57.053698Z",
     "iopub.status.busy": "2024-09-14T04:10:57.052198Z",
     "iopub.status.idle": "2024-09-14T04:10:57.513221Z",
     "shell.execute_reply": "2024-09-14T04:10:57.509685Z",
     "shell.execute_reply.started": "2024-09-14T04:10:57.053698Z"
    }
   },
   "outputs": [],
   "source": [
    "li = []\n",
    "\n",
    "for file in csv_files:\n",
    "    df = pd.read_csv(os.path.join(dir_path, file), sep='\\t')\n",
    "    li.append(df)\n",
    "\n",
    "df = pd.concat(li, axis=0, ignore_index=True)\n",
    "df.to_excel(os.path.join(dir_path, 'hasil_scrape.xlsx'), index=False)"
   ]
  },
  {
   "cell_type": "code",
   "execution_count": 28,
   "metadata": {
    "execution": {
     "iopub.execute_input": "2024-09-14T04:11:01.003418Z",
     "iopub.status.busy": "2024-09-14T04:11:01.003418Z",
     "iopub.status.idle": "2024-09-14T04:11:01.019074Z",
     "shell.execute_reply": "2024-09-14T04:11:01.018062Z",
     "shell.execute_reply.started": "2024-09-14T04:11:01.003418Z"
    }
   },
   "outputs": [
    {
     "data": {
      "text/html": [
       "<div>\n",
       "<style scoped>\n",
       "    .dataframe tbody tr th:only-of-type {\n",
       "        vertical-align: middle;\n",
       "    }\n",
       "\n",
       "    .dataframe tbody tr th {\n",
       "        vertical-align: top;\n",
       "    }\n",
       "\n",
       "    .dataframe thead th {\n",
       "        text-align: right;\n",
       "    }\n",
       "</style>\n",
       "<table border=\"1\" class=\"dataframe\">\n",
       "  <thead>\n",
       "    <tr style=\"text-align: right;\">\n",
       "      <th></th>\n",
       "      <th>name</th>\n",
       "      <th>price</th>\n",
       "      <th>url</th>\n",
       "      <th>shop_name</th>\n",
       "      <th>shop_city</th>\n",
       "    </tr>\n",
       "  </thead>\n",
       "  <tbody>\n",
       "    <tr>\n",
       "      <th>0</th>\n",
       "      <td>GEA G2HD-267WD Home Refrigerator / Kulkas 2 Pi...</td>\n",
       "      <td>Rp3.720.000</td>\n",
       "      <td>https://ta.tokopedia.com/promo/v1/clicks/8a-xg...</td>\n",
       "      <td>Dwi Karya Mesin</td>\n",
       "      <td>Surabaya</td>\n",
       "    </tr>\n",
       "    <tr>\n",
       "      <th>1</th>\n",
       "      <td>Sharp Kulkas 2 Pintu SJ-237MG-DB Magneglass Da...</td>\n",
       "      <td>Rp3.049.000</td>\n",
       "      <td>https://ta.tokopedia.com/promo/v1/clicks/8a-xg...</td>\n",
       "      <td>SHARP OFFICIAL STORE JAKARTA</td>\n",
       "      <td>Jakarta Utara</td>\n",
       "    </tr>\n",
       "    <tr>\n",
       "      <th>2</th>\n",
       "      <td>Changhong  Kulkas 2 Pintu Refrigerator Kapasit...</td>\n",
       "      <td>Rp2.049.000</td>\n",
       "      <td>https://ta.tokopedia.com/promo/v1/clicks/8a-xg...</td>\n",
       "      <td>changhong surabaya</td>\n",
       "      <td>Surabaya</td>\n",
       "    </tr>\n",
       "    <tr>\n",
       "      <th>3</th>\n",
       "      <td>Kulkas 2 Pintu SHARP SJ 195 MD SG SR 200L Low ...</td>\n",
       "      <td>Rp2.629.000</td>\n",
       "      <td>https://ta.tokopedia.com/promo/v1/clicks/8a-xg...</td>\n",
       "      <td>Dunia Electronik 12</td>\n",
       "      <td>Jakarta Barat</td>\n",
       "    </tr>\n",
       "    <tr>\n",
       "      <th>4</th>\n",
       "      <td>SAMSUNG Kulkas 2 Pintu - RT19M300BGS / 19M300B...</td>\n",
       "      <td>Rp3.700.000</td>\n",
       "      <td>https://ta.tokopedia.com/promo/v1/clicks/8a-xg...</td>\n",
       "      <td>LM Electronic</td>\n",
       "      <td>Bogor</td>\n",
       "    </tr>\n",
       "    <tr>\n",
       "      <th>...</th>\n",
       "      <td>...</td>\n",
       "      <td>...</td>\n",
       "      <td>...</td>\n",
       "      <td>...</td>\n",
       "      <td>...</td>\n",
       "    </tr>\n",
       "    <tr>\n",
       "      <th>155</th>\n",
       "      <td>SMEG FAB30 Free Standing Refrigerator Double D...</td>\n",
       "      <td>Rp47.500.000</td>\n",
       "      <td>https://ta.tokopedia.com/promo/v1/clicks/8a-xg...</td>\n",
       "      <td>Toffin Indonesia Official Store</td>\n",
       "      <td>Jakarta Barat</td>\n",
       "    </tr>\n",
       "    <tr>\n",
       "      <th>156</th>\n",
       "      <td>kulkas Aqua 2 pintu inverter Glass Door  220 L...</td>\n",
       "      <td>Rp2.900.000</td>\n",
       "      <td>https://ta.tokopedia.com/promo/v1/clicks/8a-xg...</td>\n",
       "      <td>ANITA ELECTRONIK</td>\n",
       "      <td>Jakarta Barat</td>\n",
       "    </tr>\n",
       "    <tr>\n",
       "      <th>157</th>\n",
       "      <td>KULKAS 2 PINTU AQUA AQR-D261 AQRD 261 LOW WATT...</td>\n",
       "      <td>Rp2.879.000</td>\n",
       "      <td>https://ta.tokopedia.com/promo/v1/clicks/8a-xg...</td>\n",
       "      <td>Bestprice Official Store</td>\n",
       "      <td>Jakarta Timur</td>\n",
       "    </tr>\n",
       "    <tr>\n",
       "      <th>158</th>\n",
       "      <td>Changhong Kulkas 2 Pintu Refrigerator Kapasita...</td>\n",
       "      <td>Rp2.369.000</td>\n",
       "      <td>https://ta.tokopedia.com/promo/v1/clicks/8a-xg...</td>\n",
       "      <td>changhong surabaya</td>\n",
       "      <td>Surabaya</td>\n",
       "    </tr>\n",
       "    <tr>\n",
       "      <th>159</th>\n",
       "      <td>Samsung Kulkas BESPOKE 2 Pintu w/ Ungkep Compa...</td>\n",
       "      <td>Rp9.399.000</td>\n",
       "      <td>https://ta.tokopedia.com/promo/v1/clicks/8a-xg...</td>\n",
       "      <td>Samsung Exclusive Official Store</td>\n",
       "      <td>Kab. Tangerang</td>\n",
       "    </tr>\n",
       "  </tbody>\n",
       "</table>\n",
       "<p>160 rows × 5 columns</p>\n",
       "</div>"
      ],
      "text/plain": [
       "                                                  name         price  \\\n",
       "0    GEA G2HD-267WD Home Refrigerator / Kulkas 2 Pi...   Rp3.720.000   \n",
       "1    Sharp Kulkas 2 Pintu SJ-237MG-DB Magneglass Da...   Rp3.049.000   \n",
       "2    Changhong  Kulkas 2 Pintu Refrigerator Kapasit...   Rp2.049.000   \n",
       "3    Kulkas 2 Pintu SHARP SJ 195 MD SG SR 200L Low ...   Rp2.629.000   \n",
       "4    SAMSUNG Kulkas 2 Pintu - RT19M300BGS / 19M300B...   Rp3.700.000   \n",
       "..                                                 ...           ...   \n",
       "155  SMEG FAB30 Free Standing Refrigerator Double D...  Rp47.500.000   \n",
       "156  kulkas Aqua 2 pintu inverter Glass Door  220 L...   Rp2.900.000   \n",
       "157  KULKAS 2 PINTU AQUA AQR-D261 AQRD 261 LOW WATT...   Rp2.879.000   \n",
       "158  Changhong Kulkas 2 Pintu Refrigerator Kapasita...   Rp2.369.000   \n",
       "159  Samsung Kulkas BESPOKE 2 Pintu w/ Ungkep Compa...   Rp9.399.000   \n",
       "\n",
       "                                                   url  \\\n",
       "0    https://ta.tokopedia.com/promo/v1/clicks/8a-xg...   \n",
       "1    https://ta.tokopedia.com/promo/v1/clicks/8a-xg...   \n",
       "2    https://ta.tokopedia.com/promo/v1/clicks/8a-xg...   \n",
       "3    https://ta.tokopedia.com/promo/v1/clicks/8a-xg...   \n",
       "4    https://ta.tokopedia.com/promo/v1/clicks/8a-xg...   \n",
       "..                                                 ...   \n",
       "155  https://ta.tokopedia.com/promo/v1/clicks/8a-xg...   \n",
       "156  https://ta.tokopedia.com/promo/v1/clicks/8a-xg...   \n",
       "157  https://ta.tokopedia.com/promo/v1/clicks/8a-xg...   \n",
       "158  https://ta.tokopedia.com/promo/v1/clicks/8a-xg...   \n",
       "159  https://ta.tokopedia.com/promo/v1/clicks/8a-xg...   \n",
       "\n",
       "                            shop_name       shop_city  \n",
       "0                     Dwi Karya Mesin        Surabaya  \n",
       "1        SHARP OFFICIAL STORE JAKARTA   Jakarta Utara  \n",
       "2                  changhong surabaya        Surabaya  \n",
       "3                 Dunia Electronik 12   Jakarta Barat  \n",
       "4                       LM Electronic           Bogor  \n",
       "..                                ...             ...  \n",
       "155   Toffin Indonesia Official Store   Jakarta Barat  \n",
       "156                  ANITA ELECTRONIK   Jakarta Barat  \n",
       "157          Bestprice Official Store   Jakarta Timur  \n",
       "158                changhong surabaya        Surabaya  \n",
       "159  Samsung Exclusive Official Store  Kab. Tangerang  \n",
       "\n",
       "[160 rows x 5 columns]"
      ]
     },
     "execution_count": 28,
     "metadata": {},
     "output_type": "execute_result"
    }
   ],
   "source": [
    "df"
   ]
  },
  {
   "cell_type": "markdown",
   "metadata": {},
   "source": [
    "# Close the browser"
   ]
  },
  {
   "cell_type": "code",
   "execution_count": 224,
   "metadata": {},
   "outputs": [],
   "source": [
    "#driver.quit()"
   ]
  }
 ],
 "metadata": {
  "kernelspec": {
   "display_name": "Python 3 (ipykernel)",
   "language": "python",
   "name": "python3"
  },
  "language_info": {
   "codemirror_mode": {
    "name": "ipython",
    "version": 3
   },
   "file_extension": ".py",
   "mimetype": "text/x-python",
   "name": "python",
   "nbconvert_exporter": "python",
   "pygments_lexer": "ipython3",
   "version": "3.12.2"
  }
 },
 "nbformat": 4,
 "nbformat_minor": 4
}
