{
 "cells": [
  {
   "cell_type": "markdown",
   "metadata": {},
   "source": [
    "# Install Libraries"
   ]
  },
  {
   "cell_type": "code",
   "execution_count": null,
   "metadata": {},
   "outputs": [],
   "source": [
    "#!pip install pocketsphinx\n",
    "#!pip install ffmpeg-python\n",
    "#!pip install pypasser"
   ]
  },
  {
   "cell_type": "markdown",
   "metadata": {},
   "source": [
    "# Libraries"
   ]
  },
  {
   "cell_type": "code",
   "execution_count": 1,
   "metadata": {
    "execution": {
     "iopub.execute_input": "2024-09-07T04:14:26.108953Z",
     "iopub.status.busy": "2024-09-07T04:14:26.107956Z",
     "iopub.status.idle": "2024-09-07T04:14:27.505428Z",
     "shell.execute_reply": "2024-09-07T04:14:27.501921Z",
     "shell.execute_reply.started": "2024-09-07T04:14:26.108953Z"
    }
   },
   "outputs": [],
   "source": [
    "from pypasser import reCaptchaV2\n",
    "\n",
    "from selenium.webdriver.chrome.service import Service as ChromeService\n",
    "from webdriver_manager.chrome import ChromeDriverManager\n",
    "from selenium import webdriver\n",
    "from selenium.webdriver.common.by import By"
   ]
  },
  {
   "cell_type": "markdown",
   "metadata": {},
   "source": [
    "# Buka Browser"
   ]
  },
  {
   "cell_type": "code",
   "execution_count": 2,
   "metadata": {
    "execution": {
     "iopub.execute_input": "2024-09-07T04:19:48.143497Z",
     "iopub.status.busy": "2024-09-07T04:19:48.143497Z",
     "iopub.status.idle": "2024-09-07T04:19:57.559267Z",
     "shell.execute_reply": "2024-09-07T04:19:57.555243Z",
     "shell.execute_reply.started": "2024-09-07T04:19:48.143497Z"
    }
   },
   "outputs": [],
   "source": [
    "driver = webdriver.Chrome(service=ChromeService(ChromeDriverManager().install()))"
   ]
  },
  {
   "cell_type": "markdown",
   "metadata": {},
   "source": [
    "# Buka Halaman ReCaptcha V2"
   ]
  },
  {
   "cell_type": "code",
   "execution_count": 11,
   "metadata": {
    "execution": {
     "iopub.execute_input": "2024-09-07T04:19:57.565350Z",
     "iopub.status.busy": "2024-09-07T04:19:57.564351Z",
     "iopub.status.idle": "2024-09-07T04:20:01.147765Z",
     "shell.execute_reply": "2024-09-07T04:20:01.141239Z",
     "shell.execute_reply.started": "2024-09-07T04:19:57.565350Z"
    }
   },
   "outputs": [],
   "source": [
    "driver.get('https://www.google.com/recaptcha/api2/demo')"
   ]
  },
  {
   "cell_type": "code",
   "execution_count": 3,
   "metadata": {},
   "outputs": [],
   "source": [
    "driver.get('https://elhkpn.kpk.go.id/portal/user/login#announ')"
   ]
  },
  {
   "cell_type": "markdown",
   "metadata": {},
   "source": [
    "# Selesaikan ReCaptcha"
   ]
  },
  {
   "cell_type": "code",
   "execution_count": 4,
   "metadata": {
    "execution": {
     "iopub.execute_input": "2024-09-07T04:18:07.470545Z",
     "iopub.status.busy": "2024-09-07T04:18:07.468551Z",
     "iopub.status.idle": "2024-09-07T04:18:25.979885Z",
     "shell.execute_reply": "2024-09-07T04:18:25.978878Z",
     "shell.execute_reply.started": "2024-09-07T04:18:07.470545Z"
    }
   },
   "outputs": [
    {
     "ename": "ElementClickInterceptedException",
     "evalue": "Message: element click intercepted: Element <iframe title=\"reCAPTCHA\" width=\"304\" height=\"78\" role=\"presentation\" name=\"a-ksiq8ymfx4ig\" frameborder=\"0\" scrolling=\"no\" sandbox=\"allow-forms allow-popups allow-same-origin allow-scripts allow-top-navigation allow-modals allow-popups-to-escape-sandbox allow-storage-access-by-user-activation\" src=\"https://www.google.com/recaptcha/api2/anchor?ar=1&amp;k=6Ler104UAAAAAIy94JTYV-yLDuoklciSupbbD4-C&amp;co=aHR0cHM6Ly9lbGhrcG4ua3BrLmdvLmlkOjQ0Mw..&amp;hl=id&amp;v=WV-mUKO4xoWKy9M4ZzRyNrP_&amp;theme=light&amp;size=normal&amp;cb=687pm8e6z707\" cd_frame_id_=\"b772ccfee44d2a5d9c1b40d08bfc42bb\"></iframe> is not clickable at point (92, 14). Other element would receive the click: <div class=\"row\">...</div>\n  (Session info: chrome=128.0.6613.120)\nStacktrace:\n\tGetHandleVerifier [0x00BB8213+26163]\n\t(No symbol) [0x00B49CC4]\n\t(No symbol) [0x00A424C3]\n\t(No symbol) [0x00A8D357]\n\t(No symbol) [0x00A8B759]\n\t(No symbol) [0x00A89D71]\n\t(No symbol) [0x00A88C2F]\n\t(No symbol) [0x00A7D9AF]\n\t(No symbol) [0x00AAACBC]\n\t(No symbol) [0x00A7D445]\n\t(No symbol) [0x00AAAF54]\n\t(No symbol) [0x00AC4661]\n\t(No symbol) [0x00AAAA56]\n\t(No symbol) [0x00A7BE89]\n\t(No symbol) [0x00A7C8CD]\n\tGetHandleVerifier [0x00E8D313+2996019]\n\tGetHandleVerifier [0x00EE1B89+3342249]\n\tGetHandleVerifier [0x00C47AEF+614159]\n\tGetHandleVerifier [0x00C4F17C+644508]\n\t(No symbol) [0x00B527FD]\n\t(No symbol) [0x00B4F6F8]\n\t(No symbol) [0x00B4F895]\n\t(No symbol) [0x00B41C16]\n\tBaseThreadInitThunk [0x760A7BA9+25]\n\tRtlInitializeExceptionChain [0x774EC10B+107]\n\tRtlClearBits [0x774EC08F+191]\n",
     "output_type": "error",
     "traceback": [
      "\u001b[1;31m---------------------------------------------------------------------------\u001b[0m",
      "\u001b[1;31mElementClickInterceptedException\u001b[0m          Traceback (most recent call last)",
      "Cell \u001b[1;32mIn[4], line 2\u001b[0m\n\u001b[0;32m      1\u001b[0m \u001b[38;5;66;03m# Solve reCaptcha v2 via PyPasser\u001b[39;00m\n\u001b[1;32m----> 2\u001b[0m is_checked \u001b[38;5;241m=\u001b[39m \u001b[43mreCaptchaV2\u001b[49m\u001b[43m(\u001b[49m\u001b[43mdriver\u001b[49m\u001b[38;5;241;43m=\u001b[39;49m\u001b[43mdriver\u001b[49m\u001b[43m,\u001b[49m\u001b[43m \u001b[49m\u001b[43mplay\u001b[49m\u001b[38;5;241;43m=\u001b[39;49m\u001b[38;5;28;43;01mFalse\u001b[39;49;00m\u001b[43m)\u001b[49m\n\u001b[0;32m      4\u001b[0m \u001b[38;5;28;01mif\u001b[39;00m is_checked:\n\u001b[0;32m      5\u001b[0m     \u001b[38;5;66;03m# Click submit button\u001b[39;00m\n\u001b[0;32m      6\u001b[0m     driver\u001b[38;5;241m.\u001b[39mfind_element(By\u001b[38;5;241m.\u001b[39mCSS_SELECTOR, \u001b[38;5;124m'\u001b[39m\u001b[38;5;124m#recaptcha-demo-submit\u001b[39m\u001b[38;5;124m'\u001b[39m)\u001b[38;5;241m.\u001b[39mclick()\n",
      "File \u001b[1;32mc:\\Users\\aansubarkah\\anaconda3\\envs\\basangdata12\\Lib\\site-packages\\pypasser\\reCaptchaV2\\__init__.py:70\u001b[0m, in \u001b[0;36mreCaptchaV2.__new__\u001b[1;34m(cls, *args, **kwargs)\u001b[0m\n\u001b[0;32m     68\u001b[0m     \u001b[38;5;28;01mraise\u001b[39;00m IpBlock()\n\u001b[0;32m     69\u001b[0m \u001b[38;5;28;01melse\u001b[39;00m:\n\u001b[1;32m---> 70\u001b[0m     \u001b[38;5;28;01mraise\u001b[39;00m e\n",
      "File \u001b[1;32mc:\\Users\\aansubarkah\\anaconda3\\envs\\basangdata12\\Lib\\site-packages\\pypasser\\reCaptchaV2\\__init__.py:44\u001b[0m, in \u001b[0;36mreCaptchaV2.__new__\u001b[1;34m(cls, *args, **kwargs)\u001b[0m\n\u001b[0;32m     41\u001b[0m file_path \u001b[38;5;241m=\u001b[39m \u001b[38;5;28;01mNone\u001b[39;00m\n\u001b[0;32m     43\u001b[0m \u001b[38;5;28;01mtry\u001b[39;00m:\n\u001b[1;32m---> 44\u001b[0m     \u001b[38;5;28;43mcls\u001b[39;49m\u001b[38;5;241;43m.\u001b[39;49m\u001b[43m__click_check_box__\u001b[49m\u001b[43m(\u001b[49m\u001b[43minstance\u001b[49m\u001b[38;5;241;43m.\u001b[39;49m\u001b[43mdriver\u001b[49m\u001b[43m)\u001b[49m\n\u001b[0;32m     46\u001b[0m     \u001b[38;5;28;01mif\u001b[39;00m \u001b[38;5;28mcls\u001b[39m\u001b[38;5;241m.\u001b[39m__is_checked__(instance\u001b[38;5;241m.\u001b[39mdriver):\n\u001b[0;32m     47\u001b[0m         \u001b[38;5;28;01mreturn\u001b[39;00m \u001b[38;5;28;01mTrue\u001b[39;00m\n",
      "File \u001b[1;32mc:\\Users\\aansubarkah\\anaconda3\\envs\\basangdata12\\Lib\\site-packages\\pypasser\\reCaptchaV2\\__init__.py:80\u001b[0m, in \u001b[0;36mreCaptchaV2.__click_check_box__\u001b[1;34m(driver)\u001b[0m\n\u001b[0;32m     78\u001b[0m driver\u001b[38;5;241m.\u001b[39mswitch_to\u001b[38;5;241m.\u001b[39mframe(driver\u001b[38;5;241m.\u001b[39mfind_element(By\u001b[38;5;241m.\u001b[39mTAG_NAME, \u001b[38;5;124m\"\u001b[39m\u001b[38;5;124miframe\u001b[39m\u001b[38;5;124m\"\u001b[39m))\n\u001b[0;32m     79\u001b[0m check_box \u001b[38;5;241m=\u001b[39m WebDriverWait(driver, \u001b[38;5;241m10\u001b[39m)\u001b[38;5;241m.\u001b[39muntil(EC\u001b[38;5;241m.\u001b[39mpresence_of_element_located((By\u001b[38;5;241m.\u001b[39mCSS_SELECTOR ,\u001b[38;5;124m\"\u001b[39m\u001b[38;5;124m#recaptcha-anchor\u001b[39m\u001b[38;5;124m\"\u001b[39m)))\n\u001b[1;32m---> 80\u001b[0m \u001b[43mcheck_box\u001b[49m\u001b[38;5;241;43m.\u001b[39;49m\u001b[43mclick\u001b[49m\u001b[43m(\u001b[49m\u001b[43m)\u001b[49m\n\u001b[0;32m     81\u001b[0m driver\u001b[38;5;241m.\u001b[39mswitch_to\u001b[38;5;241m.\u001b[39mdefault_content()\n",
      "File \u001b[1;32mc:\\Users\\aansubarkah\\anaconda3\\envs\\basangdata12\\Lib\\site-packages\\selenium\\webdriver\\remote\\webelement.py:94\u001b[0m, in \u001b[0;36mWebElement.click\u001b[1;34m(self)\u001b[0m\n\u001b[0;32m     92\u001b[0m \u001b[38;5;28;01mdef\u001b[39;00m \u001b[38;5;21mclick\u001b[39m(\u001b[38;5;28mself\u001b[39m) \u001b[38;5;241m-\u001b[39m\u001b[38;5;241m>\u001b[39m \u001b[38;5;28;01mNone\u001b[39;00m:\n\u001b[0;32m     93\u001b[0m \u001b[38;5;250m    \u001b[39m\u001b[38;5;124;03m\"\"\"Clicks the element.\"\"\"\u001b[39;00m\n\u001b[1;32m---> 94\u001b[0m     \u001b[38;5;28;43mself\u001b[39;49m\u001b[38;5;241;43m.\u001b[39;49m\u001b[43m_execute\u001b[49m\u001b[43m(\u001b[49m\u001b[43mCommand\u001b[49m\u001b[38;5;241;43m.\u001b[39;49m\u001b[43mCLICK_ELEMENT\u001b[49m\u001b[43m)\u001b[49m\n",
      "File \u001b[1;32mc:\\Users\\aansubarkah\\anaconda3\\envs\\basangdata12\\Lib\\site-packages\\selenium\\webdriver\\remote\\webelement.py:395\u001b[0m, in \u001b[0;36mWebElement._execute\u001b[1;34m(self, command, params)\u001b[0m\n\u001b[0;32m    393\u001b[0m     params \u001b[38;5;241m=\u001b[39m {}\n\u001b[0;32m    394\u001b[0m params[\u001b[38;5;124m\"\u001b[39m\u001b[38;5;124mid\u001b[39m\u001b[38;5;124m\"\u001b[39m] \u001b[38;5;241m=\u001b[39m \u001b[38;5;28mself\u001b[39m\u001b[38;5;241m.\u001b[39m_id\n\u001b[1;32m--> 395\u001b[0m \u001b[38;5;28;01mreturn\u001b[39;00m \u001b[38;5;28;43mself\u001b[39;49m\u001b[38;5;241;43m.\u001b[39;49m\u001b[43m_parent\u001b[49m\u001b[38;5;241;43m.\u001b[39;49m\u001b[43mexecute\u001b[49m\u001b[43m(\u001b[49m\u001b[43mcommand\u001b[49m\u001b[43m,\u001b[49m\u001b[43m \u001b[49m\u001b[43mparams\u001b[49m\u001b[43m)\u001b[49m\n",
      "File \u001b[1;32mc:\\Users\\aansubarkah\\anaconda3\\envs\\basangdata12\\Lib\\site-packages\\selenium\\webdriver\\remote\\webdriver.py:347\u001b[0m, in \u001b[0;36mWebDriver.execute\u001b[1;34m(self, driver_command, params)\u001b[0m\n\u001b[0;32m    345\u001b[0m response \u001b[38;5;241m=\u001b[39m \u001b[38;5;28mself\u001b[39m\u001b[38;5;241m.\u001b[39mcommand_executor\u001b[38;5;241m.\u001b[39mexecute(driver_command, params)\n\u001b[0;32m    346\u001b[0m \u001b[38;5;28;01mif\u001b[39;00m response:\n\u001b[1;32m--> 347\u001b[0m     \u001b[38;5;28;43mself\u001b[39;49m\u001b[38;5;241;43m.\u001b[39;49m\u001b[43merror_handler\u001b[49m\u001b[38;5;241;43m.\u001b[39;49m\u001b[43mcheck_response\u001b[49m\u001b[43m(\u001b[49m\u001b[43mresponse\u001b[49m\u001b[43m)\u001b[49m\n\u001b[0;32m    348\u001b[0m     response[\u001b[38;5;124m\"\u001b[39m\u001b[38;5;124mvalue\u001b[39m\u001b[38;5;124m\"\u001b[39m] \u001b[38;5;241m=\u001b[39m \u001b[38;5;28mself\u001b[39m\u001b[38;5;241m.\u001b[39m_unwrap_value(response\u001b[38;5;241m.\u001b[39mget(\u001b[38;5;124m\"\u001b[39m\u001b[38;5;124mvalue\u001b[39m\u001b[38;5;124m\"\u001b[39m, \u001b[38;5;28;01mNone\u001b[39;00m))\n\u001b[0;32m    349\u001b[0m     \u001b[38;5;28;01mreturn\u001b[39;00m response\n",
      "File \u001b[1;32mc:\\Users\\aansubarkah\\anaconda3\\envs\\basangdata12\\Lib\\site-packages\\selenium\\webdriver\\remote\\errorhandler.py:229\u001b[0m, in \u001b[0;36mErrorHandler.check_response\u001b[1;34m(self, response)\u001b[0m\n\u001b[0;32m    227\u001b[0m         alert_text \u001b[38;5;241m=\u001b[39m value[\u001b[38;5;124m\"\u001b[39m\u001b[38;5;124malert\u001b[39m\u001b[38;5;124m\"\u001b[39m]\u001b[38;5;241m.\u001b[39mget(\u001b[38;5;124m\"\u001b[39m\u001b[38;5;124mtext\u001b[39m\u001b[38;5;124m\"\u001b[39m)\n\u001b[0;32m    228\u001b[0m     \u001b[38;5;28;01mraise\u001b[39;00m exception_class(message, screen, stacktrace, alert_text)  \u001b[38;5;66;03m# type: ignore[call-arg]  # mypy is not smart enough here\u001b[39;00m\n\u001b[1;32m--> 229\u001b[0m \u001b[38;5;28;01mraise\u001b[39;00m exception_class(message, screen, stacktrace)\n",
      "\u001b[1;31mElementClickInterceptedException\u001b[0m: Message: element click intercepted: Element <iframe title=\"reCAPTCHA\" width=\"304\" height=\"78\" role=\"presentation\" name=\"a-ksiq8ymfx4ig\" frameborder=\"0\" scrolling=\"no\" sandbox=\"allow-forms allow-popups allow-same-origin allow-scripts allow-top-navigation allow-modals allow-popups-to-escape-sandbox allow-storage-access-by-user-activation\" src=\"https://www.google.com/recaptcha/api2/anchor?ar=1&amp;k=6Ler104UAAAAAIy94JTYV-yLDuoklciSupbbD4-C&amp;co=aHR0cHM6Ly9lbGhrcG4ua3BrLmdvLmlkOjQ0Mw..&amp;hl=id&amp;v=WV-mUKO4xoWKy9M4ZzRyNrP_&amp;theme=light&amp;size=normal&amp;cb=687pm8e6z707\" cd_frame_id_=\"b772ccfee44d2a5d9c1b40d08bfc42bb\"></iframe> is not clickable at point (92, 14). Other element would receive the click: <div class=\"row\">...</div>\n  (Session info: chrome=128.0.6613.120)\nStacktrace:\n\tGetHandleVerifier [0x00BB8213+26163]\n\t(No symbol) [0x00B49CC4]\n\t(No symbol) [0x00A424C3]\n\t(No symbol) [0x00A8D357]\n\t(No symbol) [0x00A8B759]\n\t(No symbol) [0x00A89D71]\n\t(No symbol) [0x00A88C2F]\n\t(No symbol) [0x00A7D9AF]\n\t(No symbol) [0x00AAACBC]\n\t(No symbol) [0x00A7D445]\n\t(No symbol) [0x00AAAF54]\n\t(No symbol) [0x00AC4661]\n\t(No symbol) [0x00AAAA56]\n\t(No symbol) [0x00A7BE89]\n\t(No symbol) [0x00A7C8CD]\n\tGetHandleVerifier [0x00E8D313+2996019]\n\tGetHandleVerifier [0x00EE1B89+3342249]\n\tGetHandleVerifier [0x00C47AEF+614159]\n\tGetHandleVerifier [0x00C4F17C+644508]\n\t(No symbol) [0x00B527FD]\n\t(No symbol) [0x00B4F6F8]\n\t(No symbol) [0x00B4F895]\n\t(No symbol) [0x00B41C16]\n\tBaseThreadInitThunk [0x760A7BA9+25]\n\tRtlInitializeExceptionChain [0x774EC10B+107]\n\tRtlClearBits [0x774EC08F+191]\n"
     ]
    }
   ],
   "source": [
    "# Solve reCaptcha v2 via PyPasser\n",
    "is_checked = reCaptchaV2(driver=driver, play=False)\n",
    "\n",
    "if is_checked:\n",
    "    # Click submit button\n",
    "    driver.find_element(By.CSS_SELECTOR, '#recaptcha-demo-submit').click()\n",
    "    if 'Verification Success' in driver.page_source:\n",
    "        print('SUCCESS')\n",
    "        \n",
    "else:\n",
    "    print('FAIL')"
   ]
  },
  {
   "cell_type": "markdown",
   "metadata": {},
   "source": [
    "# Tutup Browser"
   ]
  },
  {
   "cell_type": "code",
   "execution_count": 5,
   "metadata": {
    "execution": {
     "iopub.execute_input": "2024-09-07T04:18:29.510368Z",
     "iopub.status.busy": "2024-09-07T04:18:29.509371Z",
     "iopub.status.idle": "2024-09-07T04:18:32.416137Z",
     "shell.execute_reply": "2024-09-07T04:18:32.414114Z",
     "shell.execute_reply.started": "2024-09-07T04:18:29.510368Z"
    }
   },
   "outputs": [
    {
     "ename": "",
     "evalue": "",
     "output_type": "error",
     "traceback": [
      "\u001b[1;31mThe Kernel crashed while executing code in the current cell or a previous cell. \n",
      "\u001b[1;31mPlease review the code in the cell(s) to identify a possible cause of the failure. \n",
      "\u001b[1;31mClick <a href='https://aka.ms/vscodeJupyterKernelCrash'>here</a> for more info. \n",
      "\u001b[1;31mView Jupyter <a href='command:jupyter.viewOutput'>log</a> for further details."
     ]
    }
   ],
   "source": [
    "driver.quit()"
   ]
  },
  {
   "cell_type": "code",
   "execution_count": null,
   "metadata": {},
   "outputs": [],
   "source": []
  }
 ],
 "metadata": {
  "kernelspec": {
   "display_name": "Python 3 (ipykernel)",
   "language": "python",
   "name": "python3"
  },
  "language_info": {
   "codemirror_mode": {
    "name": "ipython",
    "version": 3
   },
   "file_extension": ".py",
   "mimetype": "text/x-python",
   "name": "python",
   "nbconvert_exporter": "python",
   "pygments_lexer": "ipython3",
   "version": "3.12.2"
  }
 },
 "nbformat": 4,
 "nbformat_minor": 4
}
