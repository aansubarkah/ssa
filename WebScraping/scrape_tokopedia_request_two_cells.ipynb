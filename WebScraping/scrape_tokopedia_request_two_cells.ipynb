{
 "cells": [
  {
   "cell_type": "code",
   "execution_count": 2,
   "metadata": {},
   "outputs": [
    {
     "data": {
      "application/vnd.jupyter.widget-view+json": {
       "model_id": "e9c4f9c3302241c2a08215a170e481c7",
       "version_major": 2,
       "version_minor": 0
      },
      "text/plain": [
       "  0%|          | 0/30 [00:00<?, ?it/s]"
      ]
     },
     "metadata": {},
     "output_type": "display_data"
    }
   ],
   "source": [
    "import json, requests, os, re, math, glob\n",
    "import pandas as pd\n",
    "\n",
    "from tqdm.notebook import tqdm\n",
    "\n",
    "base_url = 'https://www.tokopedia.com'\n",
    "first_url = 'https://www.tokopedia.com/find/kulkas-2-pintu'\n",
    "\n",
    "ROWS = 200 # jumlah maksimal data yang disediakan API Endpoint\n",
    "PAGES = 0\n",
    "\n",
    "S = requests.Session()\n",
    "\n",
    "base_headers = {\n",
    "    'User-Agent': 'Mozilla/5.0 (Windows NT 10.0; Win64; x64; rv:130.0) Gecko/20100101 Firefox/130.0',\n",
    "}\n",
    "\n",
    "r = S.get(first_url, headers=base_headers)\n",
    "\n",
    "pattern = r'window\\.__cache={(.*?)};'\n",
    "\n",
    "matches = re.findall(pattern, r.text, re.DOTALL)\n",
    "matches = '{' + matches[0] + '}'\n",
    "m = json.loads(matches)\n",
    "\n",
    "rollout_ = ''\n",
    "iris_ = ''\n",
    "params_ = ''\n",
    "adparams_ = ''\n",
    "for key, value in m['ROOT_QUERY'].items():\n",
    "    if 'RolloutFeature' in key:\n",
    "        rollout_ = key\n",
    "        iris_ = rollout_.split('iris_session_id\":\"')[1].split('\",\"')[0]\n",
    "\n",
    "    if'searchProductV5' in key:\n",
    "        params_ = key.replace('searchProductV5({\"params\":\"', '').replace('\"})', '')\n",
    "\n",
    "    if 'displayAdsV3' in key:\n",
    "        adparams_ = key.replace('displayAdsV3({\"displayParams\":\"', '').replace('\"})', '')\n",
    "\n",
    "data_pre = [{\"operationName\":\"SearchProductQueryV5\",\"query\":\"query SearchProductQueryV5($params: String!, $adParams: String!) {\\n  organic: searchProductV5(params: $params) {\\n    header {\\n      totalData\\n      responseCode\\n      keywordProcess\\n      keywordIntention\\n      componentID\\n      isQuerySafe\\n      additionalParams\\n      backendFilters\\n      __typename\\n    }\\n    data {\\n      totalDataText\\n      related {\\n        relatedKeyword\\n        position\\n        trackingOption\\n        otherRelated {\\n          keyword\\n          url\\n          componentID\\n          products {\\n            id\\n            name\\n            url\\n            applink\\n            mediaURL {\\n              image\\n              __typename\\n            }\\n            shop {\\n              id\\n              name\\n              city\\n              tier\\n              __typename\\n            }\\n            badge {\\n              id\\n              title\\n              url\\n              __typename\\n            }\\n            price {\\n              text\\n              number\\n              __typename\\n            }\\n            freeShipping {\\n              url\\n              __typename\\n            }\\n            labelGroups {\\n              position\\n              title\\n              type\\n              url\\n              styles {\\n                key\\n                value\\n                __typename\\n              }\\n              __typename\\n            }\\n            rating\\n            wishlist\\n            ads {\\n              id\\n              productClickURL\\n              productViewURL\\n              productWishlistURL\\n              tag\\n              __typename\\n            }\\n            meta {\\n              warehouseID\\n              componentID\\n              __typename\\n            }\\n            __typename\\n          }\\n          __typename\\n        }\\n        __typename\\n      }\\n      suggestion {\\n        currentKeyword\\n        suggestion\\n        query\\n        text\\n        componentID\\n        trackingOption\\n        __typename\\n      }\\n      products {\\n        id\\n        name\\n        url\\n        applink\\n        mediaURL {\\n          image\\n          image300\\n          videoCustom\\n          __typename\\n        }\\n        shop {\\n          id\\n          name\\n          url\\n          city\\n          tier\\n          __typename\\n        }\\n        badge {\\n          id\\n          title\\n          url\\n          __typename\\n        }\\n        price {\\n          text\\n          number\\n          range\\n          original\\n          discountPercentage\\n          __typename\\n        }\\n        freeShipping {\\n          url\\n          __typename\\n        }\\n        labelGroups {\\n          position\\n          title\\n          type\\n          url\\n          styles {\\n            key\\n            value\\n            __typename\\n          }\\n          __typename\\n        }\\n        category {\\n          id\\n          name\\n          breadcrumb\\n          gaKey\\n          __typename\\n        }\\n        rating\\n        wishlist\\n        ads {\\n          id\\n          productClickURL\\n          productViewURL\\n          productWishlistURL\\n          tag\\n          __typename\\n        }\\n        meta {\\n          countReview\\n          parentID\\n          warehouseID\\n          isImageBlurred\\n          isPortrait\\n          __typename\\n        }\\n        __typename\\n      }\\n      __typename\\n    }\\n    __typename\\n  }\\n  topads: displayAdsV3(displayParams: $adParams) {\\n    data {\\n      id\\n      productClickURL: product_click_url\\n      product {\\n        id\\n        name\\n        wishlist\\n        image {\\n          imageURL: s_ecs\\n          viewTrackURL: s_url\\n          __typename\\n        }\\n        url: uri\\n        price: price_format\\n        rating: product_rating\\n        ratingAverage: product_rating_format\\n        countReview: count_review_format\\n        labelGroups: label_group {\\n          position\\n          title\\n          type\\n          url\\n          style {\\n            key\\n            value\\n            __typename\\n          }\\n          __typename\\n        }\\n        campaign {\\n          discountPercentage: discount_percentage\\n          originalPrice: original_price\\n          __typename\\n        }\\n        category_breadcrumb\\n        __typename\\n      }\\n      shop {\\n        id\\n        name\\n        uri\\n        location\\n        goldmerchant: gold_shop\\n        official: shop_is_official\\n        badges {\\n          title\\n          imageURL: image_url\\n          show\\n          __typename\\n        }\\n        __typename\\n      }\\n      __typename\\n    }\\n    __typename\\n  }\\n}\\n\"}]\n",
    "\n",
    "data = data_pre.copy()\n",
    "data[0]['variables'] = {\"params\":params_,\"adParams\":adparams_}\n",
    "\n",
    "headers = {\n",
    "    'Accept': '*/*',\n",
    "    'Accept-Language': 'en-US,en;q=0.5',\n",
    "    'User-Agent': 'Mozilla/5.0 (Windows NT 10.0; Win64; x64; rv:130.0) Gecko/20100101 Firefox/130.0',\n",
    "    'content-type': 'application/json',\n",
    "    'Tkpd-UserId': '0',\n",
    "    'x-device': 'desktop-0.0',\n",
    "    'x-dark-mode': 'false',\n",
    "    'X-Source': 'tokopedia-lite',\n",
    "    'X-Version': 'ed69c5d',\n",
    "    'X-Tkpd-Lite-Service': 'zeus',\n",
    "    'iris-session_id': iris_,\n",
    "    'Priority': 'u=4',\n",
    "    'Pragma': 'no-cache',\n",
    "    'Cache-Control': 'no-cache',\n",
    "}\n",
    "\n",
    "r = S.post('https://gql.tokopedia.com/graphql/SearchProductQueryV5', headers=headers, json=data)\n",
    "\n",
    "total_data = r.json()[0]['data']['organic']['header']['totalData']\n",
    "\n",
    "products = r.json()[0]['data']['organic']['data']['products']\n",
    "\n",
    "PAGES = math.ceil(total_data // ROWS)\n",
    "\n",
    "dir_path = 'scrape_tokopedia_requests'\n",
    "\n",
    "if not os.path.exists(dir_path): os.makedirs(dir_path)\n",
    "\n",
    "files = glob.glob(os.path.join(dir_path, '*'))\n",
    "for file in files:\n",
    "    try:\n",
    "        os.remove(file)\n",
    "    except: pass\n",
    "\n",
    "rows = ROWS\n",
    "start_page = 1\n",
    "last_page = 30\n",
    "\n",
    "pbar = tqdm(total=last_page-start_page+1)\n",
    "\n",
    "for page in range(start_page, last_page+1):\n",
    "    start = (page-1) * rows\n",
    "    data = data_pre.copy()\n",
    "    data[0]['variables'] = {\n",
    "        \"params\":params_.\\\n",
    "            replace('page=1', 'page=' + str(page)).\\\n",
    "            replace('start=0', 'start=' + str(start)).\\\n",
    "            replace('rows=60', 'rows=' + str(rows)),\n",
    "        \"adParams\":adparams_.replace('page=1', 'page=' + str(page))\n",
    "    }\n",
    "    \n",
    "    r = S.post('https://gql.tokopedia.com/graphql/SearchProductQueryV5', headers=headers, json=data)\n",
    "\n",
    "    filename = f'{dir_path}/page_{page}.json'\n",
    "    with open(filename, 'w') as f:\n",
    "        json.dump(r.json(), f, indent=4)\n",
    "\n",
    "    pbar.update(1)\n",
    "\n",
    "pbar.close()"
   ]
  },
  {
   "cell_type": "code",
   "execution_count": 3,
   "metadata": {},
   "outputs": [],
   "source": [
    "all_files = os.listdir(dir_path)\n",
    "\n",
    "json_files = [file for file in all_files if file.endswith('.json')]"
   ]
  },
  {
   "cell_type": "code",
   "execution_count": 4,
   "metadata": {},
   "outputs": [
    {
     "data": {
      "application/vnd.jupyter.widget-view+json": {
       "model_id": "e0146fd6215542e9b6ca446ff8ba3cd9",
       "version_major": 2,
       "version_minor": 0
      },
      "text/plain": [
       "  0%|          | 0/30 [00:00<?, ?it/s]"
      ]
     },
     "metadata": {},
     "output_type": "display_data"
    }
   ],
   "source": [
    "li = []\n",
    "pbar = tqdm(total=len(json_files))\n",
    "\n",
    "for json_file in json_files:\n",
    "    file_path = os.path.join(dir_path, json_file)\n",
    "    with open(file_path) as f:\n",
    "        data = json.load(f)[0]['data']['organic']['data']['products']\n",
    "\n",
    "        for datum in data:\n",
    "            li.append({\n",
    "            'id': datum['id'],\n",
    "            'name': datum['name'],\n",
    "            'price': datum['price']['number'],\n",
    "            'url': datum['url'],\n",
    "            'shop_id': datum['shop']['id'],\n",
    "            'shop_name': datum['shop']['name'],\n",
    "            'shop_city': datum['shop']['city'],\n",
    "            'shop_url': datum['shop']['url'],\n",
    "            'category_id': datum['category']['id'],\n",
    "            'category_name': datum['category']['name'],\n",
    "            'category_url': base_url + '/p/' + datum['category']['breadcrumb'],\n",
    "            })\n",
    "\n",
    "    pbar.update(1)\n",
    "\n",
    "df = pd.DataFrame(li)\n",
    "\n",
    "pbar.close()\n",
    "\n",
    "df.to_excel(os.path.join(dir_path, 'hasil_scrape.xlsx'), index=False)"
   ]
  },
  {
   "cell_type": "markdown",
   "metadata": {},
   "source": [
    "# End"
   ]
  }
 ],
 "metadata": {
  "kernelspec": {
   "display_name": "basangdata12",
   "language": "python",
   "name": "python3"
  },
  "language_info": {
   "codemirror_mode": {
    "name": "ipython",
    "version": 3
   },
   "file_extension": ".py",
   "mimetype": "text/x-python",
   "name": "python",
   "nbconvert_exporter": "python",
   "pygments_lexer": "ipython3",
   "version": "3.12.2"
  }
 },
 "nbformat": 4,
 "nbformat_minor": 2
}
