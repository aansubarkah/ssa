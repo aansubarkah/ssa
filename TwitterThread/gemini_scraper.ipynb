{
 "cells": [
  {
   "cell_type": "code",
   "execution_count": 1,
   "metadata": {},
   "outputs": [
    {
     "name": "stdout",
     "output_type": "stream",
     "text": [
      "{'title': 'Python (bahasa pemrograman)', 'text': '\\n\\n\\n\\nPython adalah bahasa pemrograman tujuan umum yang ditafsirkan, tingkat tinggi. Dibuat oleh Guido van Rossum dan pertama kali dirilis pada tahun 1991, filosofi desain Python menekankan keterbacaan kode dengan penggunaan spasi putih yang signifikan. Konstruksi bahasanya dan pendekatan berorientasi objek bertujuan untuk membantu pemrogram menulis kode yang jelas dan logis untuk proyek skala kecil dan besar.\\nPython diketik secara dinamis dan pengumpulan sampah. Ini mendukung beberapa paradigma pemrograman, termasuk pemrograman terstruktur (terutama, prosedural), berorientasi objek, dan fungsional. Python sering dideskripsikan sebagai bahasa \"termasuk baterai\" karena perpustakaan standarnya yang komprehensif.\\nPython dibuat pada akhir 1980-an sebagai penerus bahasa ABC. Python 2.0, dirilis pada tahun 2000, memperkenalkan fitur-fitur seperti pemahaman daftar dan sistem pengumpulan sampah dengan penghitungan referensi.\\nPython 3.0, dirilis pada tahun 2008, adalah revisi utama dari bahasa yang tidak sepenuhnya kompatibel dengan versi sebelumnya, dan banyak kode Python 2 yang tidak berjalan tanpa modifikasi pada Python 3.\\nPenerjemah Python tersedia untuk banyak sistem operasi. Komunitas pemrogram global mengembangkan dan memelihara CPython, implementasi referensi yang bebas dan sumber terbuka. Sebuah organisasi nirlaba, Python Software Foundation, mengelola dan mengarahkan sumber daya untuk pengembangan Python dan CPython.\\nPython secara konsisten menempati peringkat sebagai salah satu bahasa pemrograman paling populer.\\n\\n\\nSejarah[sunting | sunting sumber]\\nPerancang Python, Guido van Rossum di OSCON 2006\\nPython dibuat pada akhir 1980-an oleh Guido van Rossum di Centrum Wiskunde & Informatica (CWI) di Belanda sebagai penerus bahasa ABC (sendiri terinspirasi oleh SETL), mampu menangani pengecualian dan berinteraksi dengan sistem operasi Amoeba. Implementasinya dimulai pada bulan Desember 1989. Van Rossum memikul tanggung jawab penuh atas proyek tersebut, sebagai pengembang utama, hingga 12 Juli 2018, ketika ia mengumumkan \"liburan permanen\" dari tanggung jawabnya sebagai Benevolent Dictator For Life Python, sebuah gelar yang diberikan komunitas Python kepadanya untuk mencerminkan komitmen jangka panjangnya sebagai pengambil keputusan utama proyek.\\nPython 2.0 dirilis pada 16 Oktober 2000 dengan banyak fitur utama baru, termasuk pengumpul sampah pendeteksian siklus dan dukungan untuk Unicode.\\nTanggal akhir masa pakai Python 2.7 yang awalnya ditetapkan pada tahun 2015 kemudian ditunda hingga tahun 2020 karena sejumlah besar kode yang tidak dapat dengan mudah dilanjutkan ke Python 3.\\nPython 3.6 (dan setiap perilisan lama), tidak lagi didukung per 2021.\\nPada 2022, Python\\xa03.10.4 dan 3.9.12 dipercepat dan begitu juga perilisan yang lebih lama termasuk 3.8.13, dan 3.7.13 dikarenakan banyak masalah keamanan pada 2022. Python 3.9.13 adalah versi 3.9 terbaru, dan mulai sekarang 3.9 (dan yang terlama; 3.8 dan 3.7) hanya akan mendapatkan pembaruan keamanan.\\n\\nDesain fitur dan filosofi[sunting | sunting sumber]\\nPython adalah bahasa pemrograman multi-paradigma. Pemrograman berorientasi objek dan pemrograman terstruktur juga didukung penuh, dan banyak fiturnya mendukung pemrograman fungsional dan pemrograman berorientasi aspek (termasuk dengan metaprogramming dan metaobjects (metode ajaib)). Banyak paradigma lain yang didukung melalui ekstensi, termasuk desain berdasarkan kontrak dan pemrograman logika.\\nDesain Python menawarkan beberapa dukungan untuk pemrograman fungsional dalam tradisi Lisp. Memiliki fungsi filter, map, dan reduce;daftar pemahaman, kamus, set, dan ekspresi generator. Pustaka standar memiliki dua modul (itertools dan functools) yang mengimplementasikan alat fungsional yang dipinjam dari Haskell dan Standard ML.\\nFilosofi inti bahasa diringkas dalam dokumen The Zen of Python (PEP 20), yang mencakup kata-kata mutiara seperti:\\n\\n\\nDaripada memiliki semua fungsionalitas yang dibangun ke dalam intinya, Python dirancang untuk menjadi sangat dapat dikembangkan. Modularitas yang ringkas ini membuatnya sangat populer sebagai sarana untuk menambahkan antarmuka yang dapat diprogram ke aplikasi yang ada. Visi Van Rossum tentang bahasa inti kecil dengan perpustakaan standar yang besar dan penerjemah yang mudah diperluas berasal dari rasa frustrasinya dengan ABC, yang mendukung pendekatan yang berlawanan.\\nPengembang Python menargetkan ini dapat menyenangkan untuk digunakan. Ini tercermin dalam namanya—sebuah penghargaan untuk grup komedi Inggris Monty Python—dan terkadang dengan pendekatan yang menyenangkan untuk tutorial dan materi referensi, seperti contoh yang merujuk pada spam dan telur (sebuah referensi ke sketsa Monty Python) alih-alih foo dan bar standar.\\nPengguna dan peminat Python, terutama mereka yang dianggap berpengetahuan atau berpengalaman, sering disebut sebagai Pythonistas.\\n\\nSintaks dan semantik[sunting | sunting sumber]\\nPython dimaksudkan sebagai bahasa yang mudah dibaca. Pemformatannya tidak berantakan secara visual, dan sering kali menggunakan kata kunci bahasa Inggris di mana bahasa lain menggunakan tanda baca. Tidak seperti banyak bahasa lain, ia tidak menggunakan tanda kurung awal untuk membatasi blok, dan pernyataan titik koma setelahnya bersifat opsional. Ini memiliki lebih sedikit pengecualian sintaksis dan kasus khusus daripada C atau Pascal.\\n\\nIndentasi[sunting | sunting sumber]\\nPython menggunakan indentasi spasi, daripada tanda kurung kurawal atau kata kunci, untuk membatasi blok. Peningkatan indentasi muncul setelah pernyataan tertentu; penurunan indentasi menandakan akhir dari blok saat ini. Dengan demikian, struktur visual program secara akurat mewakili struktur semantik program. Fitur ini terkadang disebut aturan off-side, yang dimiliki beberapa bahasa lain, tetapi di sebagian besar bahasa indentasi tidak memiliki arti semantik.\\n\\nPernyataan dan aliran kontrol[sunting | sunting sumber]\\nPenetapan nilai yang sama secara berurutan ke beberapa nama, misalnya, x=2; y=2; z=2 menghasilkan pengalokasian penyimpanan ke (paling banyak) tiga nama dan satu objek numerik, yang ketiganya terikat. Karena nama adalah pemegang referensi umum, tidak masuk akal untuk mengasosiasikan tipe data tetap dengannya. Namun pada waktu tertentu sebuah nama akan terikat ke suatu objek, yang akan memiliki tipe; jadi ada pengetikan dinamis.\\n\\n\\nMetode[sunting | sunting sumber]\\nMetode pada objek adalah fungsi yang dilampirkan ke kelas objek; sintaks instance.method(argument) adalah, untuk metode dan fungsi normal, gula sintaksis untuk Class.method(instance, argument). Metode Python memiliki explisit self parameter untuk mengakses data instance, berbeda dengan yang tersirat self (atau this) dalam beberapa bahasa pemrograman berorientasi objek lainnya (mis., C++, Java, Objective-C, atau Ruby). Python juga menyediakan metode, sering dipanggil dunder methods (karena nama mereka dimulai dan diakhiri dengan garis bawah ganda), untuk mengizinkan kelas yang ditentukan pengguna untuk mengubah cara mereka ditangani oleh operasi asli termasuk panjang, perbandingan, dalam operasi aritmatika dan konversi penulisan.\\n\\nPenulisan[sunting | sunting sumber]\\nHierarki tipe standar di Python 3\\nPython menggunakan duck typing dan memiliki objek yang diketik tetapi nama variabel yang tidak diketik. Batasan jenis tidak diperiksa pada waktu kompilasi; sebaliknya, operasi pada suatu objek mungkin gagal, menandakan bahwa objek yang diberikan bukan tipe yang sesuai. Meskipun diketik secara dinamis, Python diketik dengan kuat, melarang operasi yang tidak terdefinisi dengan baik (misalnya, menambahkan angka ke string) daripada secara diam-diam mencoba memahaminya.\\nPython memungkinkan pemrogram untuk menentukan tipe mereka sendiri menggunakan kelas, yang paling sering digunakan untuk pemrograman berorientasi objek. Contoh instance baru dibangun dengan memanggil kelas (misalnya, SpamClass() atauEggsClass()), dan kelas-kelasnya adalah instance dari metaclass type (itu sendiri merupakan contoh dari dirinya sendiri), memungkinkan metaprogramming dan refleksi.\\n\\nOperasi arimatika[sunting | sunting sumber]\\nPython memiliki simbol biasa untuk operator aritmatika (+, -, *, /), operator divisi lantai // dan operasi modulus % (dimana sisanya bisa negatif,  misalnya, 4\\xa0% -3 == -2). Ini juga memiliki ** untuk eksponensial, misalnya, 5**3 == 125 dan 9**0.5 == 3.0, dan sebuah matriks operator perkalian @ . Operator ini bekerja seperti dalam matematika tradisional; dengan aturan operasi yang sama, infiks operator (+ dan - juga bisa unary untuk masing-masing mewakili bilangan positif dan negatif).\\n\\nContoh pemrograman Python[sunting | sunting sumber]\\nProgram Halo Dunia:\\n\\nprint(\\'Hello, world!\\')\\n\\nProgram untuk menghitung faktorial dari bilangan bulat positif:\\n\\nn = int(input(\\'Ketik sebuah angka, dan faktorialnya akan diprinted: \\'))\\n\\nif n < 0:\\n    raise ValueError(\\'Anda harus memasukkan bilangan bulat bukan negatif\\')\\n\\nfaktorial  = 1\\n\\nfor i in range(2, n + 1):\\n    faktorial *= i\\n\\nprint(faktorial)\\n\\nContoh kelas dalam bahasa pemrograman Python:\\n\\nclass Orang:\\n    def __init__(self, nama):\\n        self.nama = nama\\n    \\n    def tampilkan_nama(self):\\n        return self.nama\\n\\norang = Orang(\"Wikipedia\") # Initialisasi object\\n\\nprint(orang.tampilkan_nama()) # Output: Wikipedia\\n\\nPustaka[sunting | sunting sumber]\\nPustaka standar Python yang besar, biasanya disebut sebagai salah satu kekuatan terbesarnya, menyediakan alat yang cocok untuk banyak tugas. Untuk aplikasi yang terhubung ke Internet, banyak format dan protokol standar seperti MIME dan HTTP didukung. Ini mencakup modul untuk membuat antarmuka pengguna grafis, menghubungkan ke database relasional, menghasilkan nomor pseudorandom, aritmatika dengan desimal presisi sewenang-wenang, memanipulasi ekspresi reguler, dan pengujian unit.\\nBeberapa bagian dari pustaka standar dicakup oleh spesifikasi (misalnya, implementasi Web Server Gateway Interface (WSGI) wsgiref mengikuti PEP 333), tetapi kebanyakan modul tidak. Mereka ditentukan oleh kode, dokumentasi internal, dan test suites mereka. Namun, karena sebagian besar pustaka standar adalah kode Python lintas platform, hanya beberapa modul yang perlu diubah atau ditulis ulang untuk implementasi varian.\\nMulai Juni 2022, Python Package Index (PyPI), repositori resmi untuk perangkat lunak Python pihak ketiga, berisi lebih dari 380,000 paket dengan berbagai fungsi, termasuk:\\n\\n\\n\\nLingkungan pengembangan[sunting | sunting sumber]\\nSebagian besar implementasi Python (termasuk CPython) menyertakan read–eval–print loop (REPL), yang memungkinkan mereka berfungsi sebagai penerjemah baris perintah di mana pengguna memasukkan pernyataan secara berurutan dan menerima hasil dengan segera.\\nShell lain, termasuk IDLE dan IPython, menambahkan kemampuan lebih lanjut seperti penyelesaian otomatis yang ditingkatkan, retensi status sesi, dan Syntax highlighting.\\nSelain integrated development environments desktop standar, ada IDE berbasis peramban Web; SageMath (dimaksudkan untuk mengembangkan program Python yang berhubungan dengan sains dan matematika); PythonAnywhere, IDE berbasis browser dan lingkungan hosting; dan Canopy IDE, IDE Python komersial yang menekankan komputasi ilmiah.\\n\\nKonferensi Pengembang[sunting | sunting sumber]\\nKonferensi pengembang Python di Indonesia (PyCon Indonesia) dilaksanakan sejak tahun 2017, berlangsung setiap tahun.\\nBerikut tema dan lokasi konferensi pengembang Python Indonesia:\\n\\n\\nIni adalah kegiatan yang dilaksanakan oleh komunitas Python Indonesia.\\n\\nGenerator dokumentasi API[sunting | sunting sumber]\\nAlat yang dapat digunakan untuk membuat dokumentasi API Python termasuk pydoc (tersedia sebagai bagian dari pustaka standar), Sphinx, Pdoc dan forknya, Doxygen dan Graphviz, diantara yang lain.\\n\\nBahasa yang dipengaruhi oleh Python[sunting | sunting sumber]\\nDesain dan filosofi Python telah memengaruhi banyak bahasa pemrograman lainnya:\\n\\n\\nSertifikasi Python[sunting | sunting sumber]\\nPython Institute adalah lembaga yang kredibel yang menawarkan sertifikasi Python. Python Institute didirikan pada tahun 2003 oleh Guido van Rossum, pencipta bahasa pemrograman Python. Python Institute memiliki misi untuk mempromosikan penggunaan Python dan meningkatkan keterampilan pengembang Python. Python Institute telah menetapkan jalur sertifikasi global independen untuk bahasa pemrograman Python. Jalur tersebut terdiri dari enam track sertifikasi:\\n\\n\\nLihat pula[sunting | sunting sumber]\\n\\nReferensi[sunting | sunting sumber]\\n\\n\\nBacaan lanjutan[sunting | sunting sumber]\\n\\nPranala luar[sunting | sunting sumber]\\n\\n\\n\\n\\n\\n\\n'}\n"
     ]
    }
   ],
   "source": [
    "import requests\n",
    "from bs4 import BeautifulSoup\n",
    "\n",
    "def scrape_wikipedia(url):\n",
    "    \"\"\"\n",
    "    Scrapes a Wikipedia article.\n",
    "\n",
    "    Args:\n",
    "        url (str): The URL of the Wikipedia article.\n",
    "\n",
    "    Returns:\n",
    "        dict: A dictionary containing the scraped data.\n",
    "    \"\"\"\n",
    "\n",
    "    # Kirim permintaan GET ke URL\n",
    "    response = requests.get(url)\n",
    "\n",
    "    # Parse konten HTML menggunakan BeautifulSoup\n",
    "    soup = BeautifulSoup(response.content, 'html.parser')\n",
    "\n",
    "    # Ekstrak judul artikel\n",
    "    title = soup.find('h1', id='firstHeading').text\n",
    "\n",
    "    # Ekstrak konten utama artikel\n",
    "    content = soup.find('div', class_='mw-parser-output')\n",
    "\n",
    "    # Hapus elemen yang tidak diinginkan (misalnya, referensi, catatan kaki)\n",
    "    for element in content.find_all(['sup', 'ol', 'ul', 'table']):\n",
    "        element.extract()\n",
    "\n",
    "    # Ekstrak teks dari konten yang tersisa\n",
    "    text = content.get_text()\n",
    "\n",
    "    # Buat kamus untuk menyimpan data yang di-scrape\n",
    "    data = {\n",
    "        'title': title,\n",
    "        'text': text\n",
    "    }\n",
    "\n",
    "    return data\n",
    "\n",
    "# Contoh penggunaan\n",
    "url = 'https://id.wikipedia.org/wiki/Python_(bahasa_pemrograman)'\n",
    "data = scrape_wikipedia(url)\n",
    "print(data)"
   ]
  },
  {
   "cell_type": "code",
   "execution_count": null,
   "metadata": {},
   "outputs": [],
   "source": []
  },
  {
   "cell_type": "code",
   "execution_count": null,
   "metadata": {},
   "outputs": [],
   "source": []
  },
  {
   "cell_type": "code",
   "execution_count": null,
   "metadata": {},
   "outputs": [],
   "source": []
  },
  {
   "cell_type": "code",
   "execution_count": null,
   "metadata": {},
   "outputs": [],
   "source": []
  }
 ],
 "metadata": {
  "kernelspec": {
   "display_name": "basangdata12",
   "language": "python",
   "name": "python3"
  },
  "language_info": {
   "codemirror_mode": {
    "name": "ipython",
    "version": 3
   },
   "file_extension": ".py",
   "mimetype": "text/x-python",
   "name": "python",
   "nbconvert_exporter": "python",
   "pygments_lexer": "ipython3",
   "version": "3.12.2"
  }
 },
 "nbformat": 4,
 "nbformat_minor": 2
}
