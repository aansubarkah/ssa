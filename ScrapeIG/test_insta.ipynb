{
 "cells": [
  {
   "cell_type": "code",
   "execution_count": 1,
   "metadata": {},
   "outputs": [],
   "source": [
    "import instaloader"
   ]
  },
  {
   "cell_type": "code",
   "execution_count": 2,
   "metadata": {},
   "outputs": [
    {
     "name": "stdout",
     "output_type": "stream",
     "text": [
      "Loaded session from C:\\Users\\aansubarkah\\AppData\\Local\\Instaloader\\session-gentiromos.\n"
     ]
    }
   ],
   "source": [
    "L = instaloader.Instaloader()\n",
    "L.load_session_from_file('gentiromos')"
   ]
  },
  {
   "cell_type": "code",
   "execution_count": 7,
   "metadata": {},
   "outputs": [
    {
     "data": {
      "text/plain": [
       "<instaloader.instaloadercontext.InstaloaderContext at 0x2881bb6cf20>"
      ]
     },
     "execution_count": 7,
     "metadata": {},
     "output_type": "execute_result"
    }
   ],
   "source": [
    "L.context"
   ]
  },
  {
   "cell_type": "code",
   "execution_count": 13,
   "metadata": {},
   "outputs": [],
   "source": [
    "profile = instaloader.Profile.from_username(L.context, \"basangdataid\")"
   ]
  },
  {
   "cell_type": "code",
   "execution_count": 14,
   "metadata": {},
   "outputs": [
    {
     "data": {
      "text/plain": [
       "64"
      ]
     },
     "execution_count": 14,
     "metadata": {},
     "output_type": "execute_result"
    }
   ],
   "source": [
    "profile.mediacount"
   ]
  },
  {
   "cell_type": "code",
   "execution_count": 15,
   "metadata": {},
   "outputs": [
    {
     "name": "stdout",
     "output_type": "stream",
     "text": [
      "basangdataid\\2024-10-30_22-54-40_UTC.jpg [Auditor, Anda perlu download …] json \n",
      "Downloaded post 1\n",
      "basangdataid\\2024-10-31_00-30-00_UTC.jpg [iteration in Python using For…] basangdataid\\2024-10-31_00-30-00_UTC.mp4 json \n",
      "Downloaded post 2\n",
      "basangdataid\\2024-10-30_00-30-00_UTC.jpg [DRY, don't repeat yourself] basangdataid\\2024-10-30_00-30-00_UTC.mp4 json \n",
      "Downloaded post 3\n",
      "basangdataid\\2024-10-29_00-30-00_UTC.jpg [How to survive in the AI’s age] basangdataid\\2024-10-29_00-30-00_UTC.mp4 json \n",
      "Downloaded post 4\n",
      "basangdataid\\2024-10-28_00-30-00_UTC.jpg [Please, audit your data] basangdataid\\2024-10-28_00-30-00_UTC.mp4 json \n",
      "Downloaded post 5\n",
      "basangdataid\\2024-10-27_12-50-29_UTC.jpg [Auditor, Anda perlu download …] json \n",
      "Downloaded post 6\n",
      "basangdataid\\2024-10-27_01-38-51_UTC.jpg [Why is it better to avoid usi…] basangdataid\\2024-10-27_01-38-51_UTC.mp4 json \n",
      "Downloaded post 7\n",
      "basangdataid\\2024-10-26_13-00-32_UTC.jpg [How to load data from the int…] basangdataid\\2024-10-26_13-00-32_UTC.mp4 json \n",
      "Downloaded post 8\n",
      "basangdataid\\2024-10-25_00-30-00_UTC.jpg [Creating Python Virtual Envir…] basangdataid\\2024-10-25_00-30-00_UTC.mp4 json \n",
      "Downloaded post 9\n",
      "basangdataid\\2024-10-24_00-30-00_UTC.jpg [2 ways of installing Python l…] basangdataid\\2024-10-24_00-30-00_UTC.mp4 json \n",
      "Downloaded post 10\n"
     ]
    }
   ],
   "source": [
    "count = 0\n",
    "limit = 10\n",
    "for post in profile.get_posts():\n",
    "    try:\n",
    "        # Download the post\n",
    "        L.download_post(post, target=profile.username)\n",
    "        count += 1\n",
    "        print(f\"Downloaded post {count}\")\n",
    "        \n",
    "        # Break if limit reached\n",
    "        if limit and count >= limit:\n",
    "            break\n",
    "            \n",
    "    except Exception as e:\n",
    "        print(f\"Error downloading post {count}: {str(e)}\")\n",
    "        continue"
   ]
  },
  {
   "cell_type": "code",
   "execution_count": 16,
   "metadata": {},
   "outputs": [
    {
     "ename": "",
     "evalue": "",
     "output_type": "error",
     "traceback": [
      "\u001b[1;31mThe Kernel crashed while executing code in the current cell or a previous cell. \n",
      "\u001b[1;31mPlease review the code in the cell(s) to identify a possible cause of the failure. \n",
      "\u001b[1;31mClick <a href='https://aka.ms/vscodeJupyterKernelCrash'>here</a> for more info. \n",
      "\u001b[1;31mView Jupyter <a href='command:jupyter.viewOutput'>log</a> for further details."
     ]
    }
   ],
   "source": [
    "#for post in instaloader.Hashtag.from_name(L.context, 'pythonprogramming').get_posts_resumable():\n",
    "    #print(post.caption)\n",
    "#    L.download_post(post, target='#pythonprogramming')"
   ]
  },
  {
   "cell_type": "code",
   "execution_count": null,
   "metadata": {},
   "outputs": [],
   "source": []
  }
 ],
 "metadata": {
  "kernelspec": {
   "display_name": "basangdata12",
   "language": "python",
   "name": "python3"
  },
  "language_info": {
   "codemirror_mode": {
    "name": "ipython",
    "version": 3
   },
   "file_extension": ".py",
   "mimetype": "text/x-python",
   "name": "python",
   "nbconvert_exporter": "python",
   "pygments_lexer": "ipython3",
   "version": "3.12.2"
  }
 },
 "nbformat": 4,
 "nbformat_minor": 2
}
