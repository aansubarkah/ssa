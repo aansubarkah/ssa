{
 "cells": [
  {
   "cell_type": "code",
   "execution_count": 2,
   "id": "63b90b4d-4007-418d-9a78-092d865cb5cb",
   "metadata": {
    "execution": {
     "iopub.execute_input": "2024-11-16T02:57:02.114041Z",
     "iopub.status.busy": "2024-11-16T02:57:02.113044Z",
     "iopub.status.idle": "2024-11-16T02:57:02.120068Z",
     "shell.execute_reply": "2024-11-16T02:57:02.118064Z",
     "shell.execute_reply.started": "2024-11-16T02:57:02.113044Z"
    }
   },
   "outputs": [],
   "source": [
    "#!pip install instagrapi"
   ]
  },
  {
   "cell_type": "code",
   "execution_count": 3,
   "id": "74e9525e-d9cb-4f05-bcea-fd65a4cd73c1",
   "metadata": {
    "execution": {
     "iopub.execute_input": "2024-11-16T02:57:41.153072Z",
     "iopub.status.busy": "2024-11-16T02:57:41.152052Z",
     "iopub.status.idle": "2024-11-16T02:57:43.228106Z",
     "shell.execute_reply": "2024-11-16T02:57:43.226091Z",
     "shell.execute_reply.started": "2024-11-16T02:57:41.153072Z"
    }
   },
   "outputs": [],
   "source": [
    "from instagrapi import Client"
   ]
  },
  {
   "cell_type": "code",
   "execution_count": 4,
   "id": "a6560944-a7ac-456a-9ed9-998d999b4a57",
   "metadata": {
    "execution": {
     "iopub.execute_input": "2024-11-16T02:58:09.174838Z",
     "iopub.status.busy": "2024-11-16T02:58:09.174050Z",
     "iopub.status.idle": "2024-11-16T02:58:09.190681Z",
     "shell.execute_reply": "2024-11-16T02:58:09.189678Z",
     "shell.execute_reply.started": "2024-11-16T02:58:09.174838Z"
    }
   },
   "outputs": [],
   "source": [
    "cl = Client()"
   ]
  },
  {
   "cell_type": "code",
   "execution_count": 5,
   "id": "16429d9a-c25c-40f1-8115-8560863a64a7",
   "metadata": {
    "execution": {
     "iopub.execute_input": "2024-11-16T03:00:28.408021Z",
     "iopub.status.busy": "2024-11-16T03:00:28.407021Z",
     "iopub.status.idle": "2024-11-16T03:00:41.278138Z",
     "shell.execute_reply": "2024-11-16T03:00:41.276585Z",
     "shell.execute_reply.started": "2024-11-16T03:00:28.408021Z"
    }
   },
   "outputs": [
    {
     "data": {
      "text/plain": [
       "True"
      ]
     },
     "execution_count": 5,
     "metadata": {},
     "output_type": "execute_result"
    }
   ],
   "source": [
    "# cl.login(username, password, 2FA)\n",
    "cl.login('leqara.aginum1', 'tselcug1', verification_code='634996')"
   ]
  },
  {
   "cell_type": "markdown",
   "id": "6818f463-ef3a-4abb-a57f-860bce8da657",
   "metadata": {},
   "source": [
    "# Hashtag"
   ]
  },
  {
   "cell_type": "code",
   "execution_count": 58,
   "id": "5a3bea66-7293-47d2-9646-2840dfda152a",
   "metadata": {
    "execution": {
     "iopub.execute_input": "2024-11-16T04:14:22.339104Z",
     "iopub.status.busy": "2024-11-16T04:14:22.337108Z",
     "iopub.status.idle": "2024-11-16T04:14:27.819466Z",
     "shell.execute_reply": "2024-11-16T04:14:27.816910Z",
     "shell.execute_reply.started": "2024-11-16T04:14:22.339104Z"
    }
   },
   "outputs": [],
   "source": [
    "hh = cl.hashtag_medias_top('pythonprogramming')"
   ]
  },
  {
   "cell_type": "code",
   "execution_count": 61,
   "id": "3be32ec4-5002-4d0e-bc6a-ff6cf02eb4fb",
   "metadata": {
    "execution": {
     "iopub.execute_input": "2024-11-16T04:20:48.681903Z",
     "iopub.status.busy": "2024-11-16T04:20:48.680906Z",
     "iopub.status.idle": "2024-11-16T04:20:48.687762Z",
     "shell.execute_reply": "2024-11-16T04:20:48.686752Z",
     "shell.execute_reply.started": "2024-11-16T04:20:48.681903Z"
    }
   },
   "outputs": [],
   "source": [
    "#hh"
   ]
  },
  {
   "cell_type": "code",
   "execution_count": 59,
   "id": "969e700e-4a1a-4afd-b0d3-fc0dece78c42",
   "metadata": {
    "execution": {
     "iopub.execute_input": "2024-11-16T04:14:27.826484Z",
     "iopub.status.busy": "2024-11-16T04:14:27.824491Z",
     "iopub.status.idle": "2024-11-16T04:14:27.849308Z",
     "shell.execute_reply": "2024-11-16T04:14:27.846777Z",
     "shell.execute_reply.started": "2024-11-16T04:14:27.826484Z"
    }
   },
   "outputs": [
    {
     "name": "stdout",
     "output_type": "stream",
     "text": [
      "pk=3465651776788990625 id='3465651776788990625_24898283344' code='DAYd-3etYqh' taken_at=datetime.datetime(2024, 9, 26, 13, 38, 27, tzinfo=TzInfo(UTC)) media_type=8 image_versions2={'candidates': [{'width': 1080, 'height': 1350, 'url': 'https://instagram.fupg6-1.fna.fbcdn.net/v/t39.30808-6/461338400_18056703889827345_1819914268318205074_n.webp?stp=dst-jpg_e35_p1080x1080_sh0.08&_nc_ht=instagram.fupg6-1.fna.fbcdn.net&_nc_cat=109&_nc_ohc=Z7UetIKZXtcQ7kNvgGFHsWq&_nc_gid=33b86d815f2e4ab6a0c54340447020e1&edm=AMKDjl4AAAAA&ccb=7-5&ig_cache_key=MzQ2NTY1MTc2NTY4MjUwNTE3Nw%3D%3D.3-ccb7-5&oh=00_AYCZ2LYuf_dkY8UudelCr7u3ORptnoA3nzYTZfs5jnR8TA&oe=673DF04C&_nc_sid=472314', 'scans_profile': ''}, {'width': 320, 'height': 400, 'url': 'https://instagram.fupg6-1.fna.fbcdn.net/v/t39.30808-6/461338400_18056703889827345_1819914268318205074_n.webp?stp=dst-jpg_e15_p320x320&_nc_ht=instagram.fupg6-1.fna.fbcdn.net&_nc_cat=109&_nc_ohc=Z7UetIKZXtcQ7kNvgGFHsWq&_nc_gid=33b86d815f2e4ab6a0c54340447020e1&edm=AMKDjl4AAAAA&ccb=7-5&ig_cache_key=MzQ2NTY1MTc2NTY4MjUwNTE3Nw%3D%3D.3-ccb7-5&oh=00_AYAZnm0T6Gltjl1xsbLlRhpS4wPMapPDCSInTY6m3OsiFA&oe=673DF04C&_nc_sid=472314', 'scans_profile': ''}]} product_type='carousel_container' thumbnail_url=None location=None user=UserShort(pk='24898283344', username='pythoncommunity_', full_name='Learn Python | Programmer 👨\\u200d💻', profile_pic_url=Url('https://instagram.fupg6-1.fna.fbcdn.net/v/t51.2885-19/149054091_839575986591251_7594902273466223575_n.jpg?stp=dst-jpg_e0_s150x150&_nc_ht=instagram.fupg6-1.fna.fbcdn.net&_nc_cat=111&_nc_ohc=g41m9UlhW30Q7kNvgEQLVFY&_nc_gid=33b86d815f2e4ab6a0c54340447020e1&edm=AMKDjl4BAAAA&ccb=7-5&oh=00_AYD05GsoX5wNygwyiIHDJOqWMZGV1ZjliA7MzdpOyMxWjQ&oe=673DE49B&_nc_sid=472314'), profile_pic_url_hd=None, is_private=False) comment_count=74 comments_disabled=False commenting_disabled_for_viewer=False like_count=3 play_count=0 has_liked=False caption_text='......Save it & Share it 🚀 .... \\n\\nFollow @pythoncommunity_ for more!\\n.\\n#Computer #pythonprogramming #coders #datascience #codingbootcamp #web #engineering #developers #programmerlife #coderlife #daysofcode #artificialintelligence #android #codingmemes #robotics #design #developerlife #ai #stem #webdev #learntocode #website #dev #codingforkids #frontend #reactjs' accessibility_caption=None usertags=[] sponsor_tags=[] video_url=None view_count=0 video_duration=0.0 title='' resources=[Resource(pk='3465651765682505177', video_url=None, thumbnail_url=Url('https://instagram.fupg6-1.fna.fbcdn.net/v/t39.30808-6/461338400_18056703889827345_1819914268318205074_n.webp?stp=dst-webp_p1080x1080&efg=eyJ2ZW5jb2RlX3RhZyI6ImltYWdlX3VybGdlbi4xNDQweDE4MDAuc2RyLmYzMDgwOC5kZWZhdWx0X2ltYWdlIn0&_nc_ht=instagram.fupg6-1.fna.fbcdn.net&_nc_cat=109&_nc_ohc=Z7UetIKZXtcQ7kNvgGFHsWq&_nc_gid=33b86d815f2e4ab6a0c54340447020e1&edm=AMKDjl4AAAAA&ccb=7-5&ig_cache_key=MzQ2NTY1MTc2NTY4MjUwNTE3Nw%3D%3D.3-ccb7-5&oh=00_AYDeX0BiYSGGcFo1PyUBZdHpkL1OfbLK-wWN4grS0ZyWMA&oe=673DF04C&_nc_sid=472314'), media_type=1), Resource(pk='3465651765699386081', video_url=None, thumbnail_url=Url('https://instagram.fupg6-1.fna.fbcdn.net/v/t39.30808-6/461437540_18056703898827345_7492227521998800137_n.webp?stp=dst-webp_p1080x1080&efg=eyJ2ZW5jb2RlX3RhZyI6ImltYWdlX3VybGdlbi4xNDQweDE4MDAuc2RyLmYzMDgwOC5kZWZhdWx0X2ltYWdlIn0&_nc_ht=instagram.fupg6-1.fna.fbcdn.net&_nc_cat=109&_nc_ohc=39naqzFwbpIQ7kNvgEeRENH&_nc_gid=33b86d815f2e4ab6a0c54340447020e1&edm=AMKDjl4AAAAA&ccb=7-5&ig_cache_key=MzQ2NTY1MTc2NTY5OTM4NjA4MQ%3D%3D.3-ccb7-5&oh=00_AYB6KNI4l7AaDmfDzwBsfgLNSche2LeYUOrGZYCTBkNAIw&oe=673DD2DD&_nc_sid=472314'), media_type=1), Resource(pk='3465651765690777966', video_url=None, thumbnail_url=Url('https://instagram.fupg6-1.fna.fbcdn.net/v/t39.30808-6/461318851_18056703907827345_714229328096009134_n.webp?stp=dst-webp_p1080x1080&efg=eyJ2ZW5jb2RlX3RhZyI6ImltYWdlX3VybGdlbi4xNDQweDE4MDAuc2RyLmYzMDgwOC5kZWZhdWx0X2ltYWdlIn0&_nc_ht=instagram.fupg6-1.fna.fbcdn.net&_nc_cat=109&_nc_ohc=_X57qLM75EcQ7kNvgEOiByT&_nc_gid=33b86d815f2e4ab6a0c54340447020e1&edm=AMKDjl4AAAAA&ccb=7-5&ig_cache_key=MzQ2NTY1MTc2NTY5MDc3Nzk2Ng%3D%3D.3-ccb7-5&oh=00_AYAxITlm8bewhO7H1zKntHFV5_gGMwqjtzIC00KTYYTadA&oe=673E0AE1&_nc_sid=472314'), media_type=1), Resource(pk='3465651765833572878', video_url=None, thumbnail_url=Url('https://instagram.fupg6-1.fna.fbcdn.net/v/t39.30808-6/461444392_18056703916827345_6451969566607538663_n.webp?stp=dst-webp_p1080x1080&efg=eyJ2ZW5jb2RlX3RhZyI6ImltYWdlX3VybGdlbi4xNDQweDE4MDAuc2RyLmYzMDgwOC5kZWZhdWx0X2ltYWdlIn0&_nc_ht=instagram.fupg6-1.fna.fbcdn.net&_nc_cat=109&_nc_ohc=ZRduwloRIGkQ7kNvgHj-O9y&_nc_gid=33b86d815f2e4ab6a0c54340447020e1&edm=AMKDjl4AAAAA&ccb=7-5&ig_cache_key=MzQ2NTY1MTc2NTgzMzU3Mjg3OA%3D%3D.3-ccb7-5&oh=00_AYBECK7JZwUooY8sEwv2srgdXg9NIh9NCy87PV65tUoH3g&oe=673DE7A3&_nc_sid=472314'), media_type=1), Resource(pk='3465651765523172257', video_url=None, thumbnail_url=Url('https://instagram.fupg6-1.fna.fbcdn.net/v/t39.30808-6/461514718_18056703925827345_1696015617951229262_n.webp?stp=dst-webp_p1080x1080&efg=eyJ2ZW5jb2RlX3RhZyI6ImltYWdlX3VybGdlbi4xNDQweDE4MDAuc2RyLmYzMDgwOC5kZWZhdWx0X2ltYWdlIn0&_nc_ht=instagram.fupg6-1.fna.fbcdn.net&_nc_cat=109&_nc_ohc=zBFH5k9weEQQ7kNvgHONKrX&_nc_gid=33b86d815f2e4ab6a0c54340447020e1&edm=AMKDjl4AAAAA&ccb=7-5&ig_cache_key=MzQ2NTY1MTc2NTUyMzE3MjI1Nw%3D%3D.3-ccb7-5&oh=00_AYCXzI0J61KuqqiMnvv7LGE0heAFzCKReJdN3WJpqi92KQ&oe=673DF040&_nc_sid=472314'), media_type=1), Resource(pk='3465651765531609283', video_url=None, thumbnail_url=Url('https://instagram.fupg6-1.fna.fbcdn.net/v/t39.30808-6/461316875_18056703934827345_6666459341441935174_n.webp?stp=dst-webp_p1080x1080&efg=eyJ2ZW5jb2RlX3RhZyI6ImltYWdlX3VybGdlbi4xNDQweDE4MDAuc2RyLmYzMDgwOC5kZWZhdWx0X2ltYWdlIn0&_nc_ht=instagram.fupg6-1.fna.fbcdn.net&_nc_cat=109&_nc_ohc=gLuAU4yLEtAQ7kNvgE8X8k_&_nc_gid=33b86d815f2e4ab6a0c54340447020e1&edm=AMKDjl4AAAAA&ccb=7-5&ig_cache_key=MzQ2NTY1MTc2NTUzMTYwOTI4Mw%3D%3D.3-ccb7-5&oh=00_AYAn-u6gA6VRP4pT5HrrEDkcMgDrTP7D9jPsLhaDsOn5Sw&oe=673DFEF7&_nc_sid=472314'), media_type=1), Resource(pk='3465651765531512245', video_url=None, thumbnail_url=Url('https://instagram.fupg6-1.fna.fbcdn.net/v/t39.30808-6/461405284_18056703943827345_8677392368594393743_n.webp?stp=dst-webp_p1080x1080&efg=eyJ2ZW5jb2RlX3RhZyI6ImltYWdlX3VybGdlbi4xNDQweDE4MDAuc2RyLmYzMDgwOC5kZWZhdWx0X2ltYWdlIn0&_nc_ht=instagram.fupg6-1.fna.fbcdn.net&_nc_cat=109&_nc_ohc=_GuiFJpnM38Q7kNvgFzSlMC&_nc_gid=33b86d815f2e4ab6a0c54340447020e1&edm=AMKDjl4AAAAA&ccb=7-5&ig_cache_key=MzQ2NTY1MTc2NTUzMTUxMjI0NQ%3D%3D.3-ccb7-5&oh=00_AYDBfbhsOvRJ4piFwe0cDqcRAWmFappWq4viHEUWI8m8aQ&oe=673DF151&_nc_sid=472314'), media_type=1), Resource(pk='3465651765523032516', video_url=None, thumbnail_url=Url('https://instagram.fupg6-1.fna.fbcdn.net/v/t39.30808-6/461266487_18056703952827345_4088915384150288826_n.webp?stp=dst-webp_p1080x1080&efg=eyJ2ZW5jb2RlX3RhZyI6ImltYWdlX3VybGdlbi4xNDQweDE4MDAuc2RyLmYzMDgwOC5kZWZhdWx0X2ltYWdlIn0&_nc_ht=instagram.fupg6-1.fna.fbcdn.net&_nc_cat=109&_nc_ohc=yeijoyOr4wkQ7kNvgFdzQYD&_nc_gid=33b86d815f2e4ab6a0c54340447020e1&edm=AMKDjl4AAAAA&ccb=7-5&ig_cache_key=MzQ2NTY1MTc2NTUyMzAzMjUxNg%3D%3D.3-ccb7-5&oh=00_AYCJHAf0eejaWpo4g2hpB5bKxNPMUNaDYX3rFyDccTagYQ&oe=673DF3A8&_nc_sid=472314'), media_type=1), Resource(pk='3465651765531421030', video_url=None, thumbnail_url=Url('https://instagram.fupg6-1.fna.fbcdn.net/v/t39.30808-6/461261715_18056703961827345_2805899503817571738_n.webp?stp=dst-webp_p1080x1080&efg=eyJ2ZW5jb2RlX3RhZyI6ImltYWdlX3VybGdlbi4xNDQweDE4MDAuc2RyLmYzMDgwOC5kZWZhdWx0X2ltYWdlIn0&_nc_ht=instagram.fupg6-1.fna.fbcdn.net&_nc_cat=109&_nc_ohc=PSH_ASYGgaQQ7kNvgFSA1Bg&_nc_gid=33b86d815f2e4ab6a0c54340447020e1&edm=AMKDjl4AAAAA&ccb=7-5&ig_cache_key=MzQ2NTY1MTc2NTUzMTQyMTAzMA%3D%3D.3-ccb7-5&oh=00_AYB6fSyqKfDn8V7ra0Q9yEB9KA5kC7pizTqwBHFMzFzWcg&oe=673DF9B0&_nc_sid=472314'), media_type=1), Resource(pk='3465651765690902535', video_url=None, thumbnail_url=Url('https://instagram.fupg6-1.fna.fbcdn.net/v/t39.30808-6/461327536_18056703970827345_1625686490508125773_n.webp?efg=eyJ2ZW5jb2RlX3RhZyI6ImltYWdlX3VybGdlbi4xMDgweDEzNTAuc2RyLmYzMDgwOC5kZWZhdWx0X2ltYWdlIn0&_nc_ht=instagram.fupg6-1.fna.fbcdn.net&_nc_cat=109&_nc_ohc=OBZoF1Dm4xYQ7kNvgGKSeaD&_nc_gid=33b86d815f2e4ab6a0c54340447020e1&edm=AMKDjl4AAAAA&ccb=7-5&ig_cache_key=MzQ2NTY1MTc2NTY5MDkwMjUzNQ%3D%3D.3-ccb7-5&oh=00_AYB7Y9-v71NMQYEnUaz9RjBqLMpQ68PQ0McL0-1fVVA1RQ&oe=673DEC5C&_nc_sid=472314'), media_type=1)] clips_metadata={}\n",
      "pk=3501586098385161616 id='3501586098385161616_30368187085' code='DCYIgEYsY2Q' taken_at=datetime.datetime(2024, 11, 15, 3, 36, 4, tzinfo=TzInfo(UTC)) media_type=2 image_versions2={'candidates': [{'width': 360, 'height': 640, 'url': 'https://instagram.fupg6-1.fna.fbcdn.net/v/t51.2885-15/466424536_18047537972011086_4737376803017515131_n.jpg?stp=dst-jpg_e15_p360x360&efg=eyJ2ZW5jb2RlX3RhZyI6ImltYWdlX3VybGdlbi4xMDgweDE5MjAuc2RyLmY3NTc2MS5kZWZhdWx0X2NvdmVyX2ZyYW1lIn0&_nc_ht=instagram.fupg6-1.fna.fbcdn.net&_nc_cat=106&_nc_ohc=TUJtYBmiBN8Q7kNvgGPB4Ix&_nc_gid=33b86d815f2e4ab6a0c54340447020e1&edm=AMKDjl4BAAAA&ccb=7-5&ig_cache_key=MzUwMTU4NjA5ODM4NTE2MTYxNg%3D%3D.3-ccb7-5&oh=00_AYAXq11UMyZaqpr6Mnmza-klyjXAj0jAeWIRiCUCGbdmVg&oe=673DFB1A&_nc_sid=472314', 'scans_profile': 'e15', 'estimated_scans_sizes': [3509, 7019, 10528, 14038, 17547, 21126, 609672, 31586, 31586]}], 'additional_candidates': {'igtv_first_frame': {'width': 360, 'height': 639, 'url': 'https://instagram.fupg6-1.fna.fbcdn.net/v/t51.2885-15/465895467_1970023783515030_796553091845473872_n.jpg?stp=dst-jpg_e15_p360x360&efg=eyJ2ZW5jb2RlX3RhZyI6ImltYWdlX3VybGdlbi42NDB4MTEzNi5zZHIuZjcxODc4LmFkZGl0aW9uYWxfY292ZXJfZnJhbWUifQ&_nc_ht=instagram.fupg6-1.fna.fbcdn.net&_nc_cat=106&_nc_ohc=5gmfDY2DVMoQ7kNvgGqS5QQ&_nc_gid=33b86d815f2e4ab6a0c54340447020e1&edm=AMKDjl4BAAAA&ccb=7-5&oh=00_AYCQkM5zt847d6-Zvp3-Anwl7X0L5Z1GnOnIwT9kzwuiIg&oe=673DFE7B&_nc_sid=472314', 'scans_profile': 'e15', 'estimated_scans_sizes': [2744, 5489, 8234, 10979, 13724, 16523, 476846, 24704, 24704]}, 'first_frame': {'width': 360, 'height': 639, 'url': 'https://instagram.fupg6-1.fna.fbcdn.net/v/t51.2885-15/465895467_1970023783515030_796553091845473872_n.jpg?stp=dst-jpg_e15_p360x360&efg=eyJ2ZW5jb2RlX3RhZyI6ImltYWdlX3VybGdlbi42NDB4MTEzNi5zZHIuZjcxODc4LmFkZGl0aW9uYWxfY292ZXJfZnJhbWUifQ&_nc_ht=instagram.fupg6-1.fna.fbcdn.net&_nc_cat=106&_nc_ohc=5gmfDY2DVMoQ7kNvgGqS5QQ&_nc_gid=33b86d815f2e4ab6a0c54340447020e1&edm=AMKDjl4BAAAA&ccb=7-5&oh=00_AYCQkM5zt847d6-Zvp3-Anwl7X0L5Z1GnOnIwT9kzwuiIg&oe=673DFE7B&_nc_sid=472314', 'scans_profile': 'e15', 'estimated_scans_sizes': [2744, 5489, 8234, 10979, 13724, 16523, 476846, 24704, 24704]}, 'smart_frame': None}, 'scrubber_spritesheet_info_candidates': {'default': {'video_length': 10.233, 'thumbnail_width': 100, 'thumbnail_height': 178, 'thumbnail_duration': 0.09745714285714287, 'sprite_urls': ['https://instagram.fupg6-1.fna.fbcdn.net/v/t51.2885-15/467018740_1815698172503830_3227970883820517567_n.jpg?_nc_ht=instagram.fupg6-1.fna.fbcdn.net&_nc_cat=110&_nc_ohc=Rj4z4nx_elEQ7kNvgHSBqsf&_nc_gid=33b86d815f2e4ab6a0c54340447020e1&edm=AMKDjl4BAAAA&ccb=7-5&oh=00_AYCemFTJRfc8YVWWof-ptl73YUVIMS5qkH0CDSsStYpb5A&oe=673DFAFA&_nc_sid=472314'], 'thumbnails_per_row': 15, 'total_thumbnail_num_per_sprite': 105, 'max_thumbnails_per_sprite': 105, 'sprite_width': 1500, 'sprite_height': 1246, 'rendered_width': 96, 'file_size_kb': 315}}} product_type='clips' thumbnail_url=Url('https://instagram.fupg6-1.fna.fbcdn.net/v/t51.2885-15/466424536_18047537972011086_4737376803017515131_n.jpg?stp=dst-jpg_e15_p360x360&efg=eyJ2ZW5jb2RlX3RhZyI6ImltYWdlX3VybGdlbi4xMDgweDE5MjAuc2RyLmY3NTc2MS5kZWZhdWx0X2NvdmVyX2ZyYW1lIn0&_nc_ht=instagram.fupg6-1.fna.fbcdn.net&_nc_cat=106&_nc_ohc=TUJtYBmiBN8Q7kNvgGPB4Ix&_nc_gid=33b86d815f2e4ab6a0c54340447020e1&edm=AMKDjl4BAAAA&ccb=7-5&ig_cache_key=MzUwMTU4NjA5ODM4NTE2MTYxNg%3D%3D.3-ccb7-5&oh=00_AYAXq11UMyZaqpr6Mnmza-klyjXAj0jAeWIRiCUCGbdmVg&oe=673DFB1A&_nc_sid=472314') location=None user=UserShort(pk='30368187085', username='codes.learning', full_name='Sanskaar Singh • AI & Tech Wizard!', profile_pic_url=Url('https://instagram.fupg6-1.fna.fbcdn.net/v/t51.2885-19/446351509_1174437730654547_4991401498119499409_n.jpg?stp=dst-jpg_e0_s150x150&_nc_ht=instagram.fupg6-1.fna.fbcdn.net&_nc_cat=1&_nc_ohc=E5R1nQLy-g4Q7kNvgGMLWHC&_nc_gid=33b86d815f2e4ab6a0c54340447020e1&edm=AMKDjl4BAAAA&ccb=7-5&oh=00_AYAqu1JqF4VsYjNLswM-kxeOPU-b1Pp9LaZX2XGaPPFxtQ&oe=673DF376&_nc_sid=472314'), profile_pic_url_hd=None, is_private=False) comment_count=19 comments_disabled=False commenting_disabled_for_viewer=False like_count=721 play_count=99443 has_liked=False caption_text='Ye Gen DU generation hai (in Modi Ji voice)😊\\n\\nFollow @codes.learning to learn coding!\\n\\n#Computer #pythonprogramming #coders #datascience #codingbootcamp #web #engineering #developers #programmerlife #coderlife #daysofcode #artificialintelligence #android #codingmemes #robotics #design #developerlife #ai #stem #webdev #learntocode #website #dev #codingforkids #frontend #reactjs' accessibility_caption=None usertags=[] sponsor_tags=[] video_url=Url('https://instagram.fupg6-1.fna.fbcdn.net/o1/v/t16/f1/m86/05478204390D9BBDF76A454FCF97BB80_video_dashinit.mp4?efg=eyJ4cHZfYXNzZXRfaWQiOjE3ODczOTAwODg3MjcwNTksInZlbmNvZGVfdGFnIjoieHB2X3Byb2dyZXNzaXZlLklOU1RBR1JBTS5DTElQUy5DMy43MjAuZGFzaF9iYXNlbGluZV8xX3YxIn0&_nc_ht=instagram.fupg6-1.fna.fbcdn.net&_nc_cat=100&vs=4b42661972aabc95&_nc_vs=HBksFQIYUmlnX3hwdl9yZWVsc19wZXJtYW5lbnRfc3JfcHJvZC8wNTQ3ODIwNDM5MEQ5QkJERjc2QTQ1NEZDRjk3QkI4MF92aWRlb19kYXNoaW5pdC5tcDQVAALIAQAVAhg6cGFzc3Rocm91Z2hfZXZlcnN0b3JlL0dEbnQxUnNJVjNDWHZ1d0VBSXJlR1lrWFFaQkNicV9FQUFBRhUCAsgBACgAGAAbAogHdXNlX29pbAExEnByb2dyZXNzaXZlX3JlY2lwZQExFQAAJqaogvXl56wGFQIoAkMzLBdAJHdLxqfvnhgSZGFzaF9iYXNlbGluZV8xX3YxEQB1_gcA&ccb=9-4&oh=00_AYAGzDSasADt1HADzP68SMcFVEtURDL556IlmDuhvyXqYA&oe=6739FC2E&_nc_sid=1d576d') view_count=0 video_duration=10.233 title='' resources=[] clips_metadata={'breaking_content_info': None, 'breaking_creator_info': None, 'clips_creation_entry_point': 'clips', 'featured_label': None, 'is_public_chat_welcome_video': False, 'is_shared_to_fb': True, 'professional_clips_upsell_type': 0, 'reels_on_the_rise_info': None, 'show_tips': None, 'achievements_info': {'num_earned_achievements': None, 'show_achievements': False}, 'additional_audio_info': {'additional_audio_username': None, 'audio_reattribution_info': {'should_allow_restore': False}}, 'asset_recommendation_info': None, 'audio_ranking_info': {'best_audio_cluster_id': '469784622220604'}, 'audio_type': 'original_sounds', 'branded_content_tag_info': {'can_add_tag': False}, 'challenge_info': None, 'content_appreciation_info': {'enabled': False, 'entry_point_container': None}, 'contextual_highlight_info': None, 'cutout_sticker_info': [], 'disable_use_in_clips_client_cache': False, 'external_media_info': None, 'is_fan_club_promo_video': False, 'mashup_info': {'can_toggle_mashups_allowed': False, 'formatted_mashups_count': None, 'has_been_mashed_up': False, 'has_nonmimicable_additional_audio': False, 'is_creator_requesting_mashup': False, 'is_light_weight_check': True, 'is_light_weight_reuse_allowed_check': False, 'is_pivot_page_available': False, 'is_reuse_allowed': True, 'mashup_type': None, 'mashups_allowed': True, 'non_privacy_filtered_mashups_media_count': 0, 'privacy_filtered_mashups_media_count': None, 'original_media': None}, 'merchandising_pill_info': None, 'music_canonical_id': '18473208826024541', 'music_info': None, 'nux_info': None, 'original_sound_info': {'allow_creator_to_rename': True, 'audio_asset_id': 596913169514786, 'attributed_custom_audio_asset_id': None, 'can_remix_be_shared_to_fb': True, 'can_remix_be_shared_to_fb_expansion': False, 'dash_manifest': '<?xml version=\"1.0\" encoding=\"UTF-8\"?>\\n<MPD xmlns=\"urn:mpeg:dash:schema:mpd:2011\" xmlns:xsi=\"http://www.w3.org/2001/XMLSchema-instance\" xsi:schemaLocation=\"urn:mpeg:dash:schema:mpd:2011 DASH-MPD.xsd\" profiles=\"urn:mpeg:dash:profile:isoff-on-demand:2011\" minBufferTime=\"PT2S\" type=\"static\" mediaPresentationDuration=\"PT10.238548S\"><Period id=\"0\" duration=\"PT10.238548S\"><AdaptationSet id=\"0\" contentType=\"audio\" subsegmentStartsWithSAP=\"1\" subsegmentAlignment=\"true\"><Representation id=\"920864242834309a\" bandwidth=\"65171\" codecs=\"mp4a.40.5\" mimeType=\"audio/mp4\" FBAvgBitrate=\"65171\" audioSamplingRate=\"44100\" FBDefaultQuality=\"1\"><AudioChannelConfiguration schemeIdUri=\"urn:mpeg:dash:23003:3:audio_channel_configuration:2011\" value=\"2\"/><BaseURL>https://instagram.fupg6-1.fna.fbcdn.net/o1/v/t16/f2/m69/AQNvln0CiyrqqlLO0GDs6wE9jcGKURlLVgDz30CLR98DcGOuHDle8FJ5_DJQablt0TCIPDUBjRZUtbY-GsTOGafw.mp4?strext=1&amp;_nc_cat=107&amp;_nc_sid=9ca052&amp;_nc_ht=instagram.fupg6-1.fna.fbcdn.net&amp;_nc_ohc=1pBdw-WedZsQ7kNvgGueNye&amp;efg=eyJ2ZW5jb2RlX3RhZyI6ImRhc2hfbG5faGVhYWNfdmJyM19hdWRpbyIsInZpZGVvX2lkIjpudWxsLCJjbGllbnRfbmFtZSI6InVua25vd24iLCJvaWxfdXJsZ2VuX2FwcF9pZCI6MjU2MjgxMDQwNTU4LCJ1cmxnZW5fc291cmNlIjoid3d3In0%3D&amp;ccb=9-4&amp;oh=00_AYDgUjOgX6XspuoIyZnyoqPda5VluzszqUEb7GRMcMPFeQ&amp;oe=673DF900</BaseURL><SegmentBase indexRange=\"824-927\" timescale=\"44100\"><Initialization range=\"0-823\"/></SegmentBase></Representation></AdaptationSet></Period></MPD>\\n', 'duration_in_ms': 10239, 'formatted_clips_media_count': None, 'hide_remixing': False, 'ig_artist': {'pk': 30368187085, 'pk_id': '30368187085', 'id': '30368187085', 'username': 'codes.learning', 'full_name': 'Sanskaar Singh • AI & Tech Wizard!', 'is_private': False, 'strong_id__': '30368187085', 'is_verified': True, 'profile_pic_id': '3379551793176048849_30368187085', 'profile_pic_url': 'https://instagram.fupg6-1.fna.fbcdn.net/v/t51.2885-19/446351509_1174437730654547_4991401498119499409_n.jpg?stp=dst-jpg_e0_s150x150&_nc_ht=instagram.fupg6-1.fna.fbcdn.net&_nc_cat=1&_nc_ohc=E5R1nQLy-g4Q7kNvgGMLWHC&_nc_gid=33b86d815f2e4ab6a0c54340447020e1&edm=AMKDjl4BAAAA&ccb=7-5&oh=00_AYAqu1JqF4VsYjNLswM-kxeOPU-b1Pp9LaZX2XGaPPFxtQ&oe=673DF376&_nc_sid=472314'}, 'is_audio_automatically_attributed': False, 'is_eligible_for_audio_effects': True, 'is_eligible_for_vinyl_sticker': True, 'is_explicit': False, 'is_original_audio_download_eligible': True, 'is_reuse_disabled': False, 'is_xpost_from_fb': False, 'music_canonical_id': None, 'oa_owner_is_music_artist': False, 'original_audio_subtype': 'default', 'original_audio_title': 'Original audio', 'original_media_id': 3501586098385161616, 'progressive_download_url': 'https://scontent.fupg6-1.fna.fbcdn.net/o1/v/t2/f2/m69/AQMi4--z67zjVUTca5BfmcH9ic55kyjtvIAMvMenWkwTwTvssbUg8O7IpERz5t5Mp5UP5H9sww2zAHRlldFF38BU.mp4?strext=1&_nc_cat=100&_nc_sid=8bf8fe&_nc_ht=scontent.fupg6-1.fna.fbcdn.net&_nc_ohc=X03f7YOiwnkQ7kNvgE4BNPo&efg=eyJ2ZW5jb2RlX3RhZyI6Inhwdl9wcm9ncmVzc2l2ZS5BVURJT19PTkxZLi5DMy4wLnByb2dyZXNzaXZlX2F1ZGlvIiwieHB2X2Fzc2V0X2lkIjoxNzg3MzkwMDg4NzI3MDU5LCJ1cmxnZW5fc291cmNlIjoid3d3In0%3D&ccb=9-4&_nc_zt=28&oh=00_AYD4os1ep6mXT7VjzyaE7Q1aNwpelqXKPYDiYX8BRn21wg&oe=673DF7F3', 'should_mute_audio': False, 'time_created': 1731641768, 'trend_rank': None, 'previous_trend_rank': None, 'overlap_duration_in_ms': None, 'audio_asset_start_time_in_ms': None, 'audio_filter_infos': [], 'audio_parts': [], 'audio_parts_by_filter': [], 'consumption_info': {'display_media_id': None, 'is_bookmarked': False, 'is_trending_in_clips': False, 'should_mute_audio_reason': '', 'should_mute_audio_reason_type': None}, 'xpost_fb_creator_info': None}, 'originality_info': None, 'reusable_text_attribute_string': None, 'reusable_text_info': None, 'shopping_info': None, 'show_achievements': False, 'template_info': None, 'viewer_interaction_settings': None}\n",
      "pk=3484111155805971703 id='3484111155805971703_65435032113' code='DBaDKL3ymT3' taken_at=datetime.datetime(2024, 10, 22, 0, 53, 57, tzinfo=TzInfo(UTC)) media_type=8 image_versions2={'candidates': [{'width': 1080, 'height': 1350, 'url': 'https://instagram.fupg6-1.fna.fbcdn.net/v/t51.29350-15/464201897_858384589612518_7955419690099353269_n.jpg?stp=dst-jpg_e15_fr_p1080x1080&_nc_ht=instagram.fupg6-1.fna.fbcdn.net&_nc_cat=106&_nc_ohc=5hVmWoEWcFoQ7kNvgGB2wyQ&_nc_gid=33b86d815f2e4ab6a0c54340447020e1&edm=AMKDjl4BAAAA&ccb=7-5&ig_cache_key=MzQ4NDExMTE0NTQ3MTIwNTc3Mg%3D%3D.3-ccb7-5&oh=00_AYBRiv-MeA3ZU0N7Dq1nofJx4cXvxik6B5jX-8DGGVFRRA&oe=673E082D&_nc_sid=472314', 'scans_profile': ''}, {'width': 320, 'height': 400, 'url': 'https://instagram.fupg6-1.fna.fbcdn.net/v/t51.29350-15/464201897_858384589612518_7955419690099353269_n.jpg?stp=dst-jpg_e15_p320x320&_nc_ht=instagram.fupg6-1.fna.fbcdn.net&_nc_cat=106&_nc_ohc=5hVmWoEWcFoQ7kNvgGB2wyQ&_nc_gid=33b86d815f2e4ab6a0c54340447020e1&edm=AMKDjl4BAAAA&ccb=7-5&ig_cache_key=MzQ4NDExMTE0NTQ3MTIwNTc3Mg%3D%3D.3-ccb7-5&oh=00_AYCd86aPrQGZAqN40fL33tDBnnVR7TgLjfF2Z07bjEatNw&oe=673E082D&_nc_sid=472314', 'scans_profile': ''}]} product_type='carousel_container' thumbnail_url=None location=None user=UserShort(pk='65435032113', username='pycode.hubb', full_name='Akash • Python & Tech Enthusiast 🚀', profile_pic_url=Url('https://instagram.fupg6-1.fna.fbcdn.net/v/t51.2885-19/448896738_1468630174026654_658187956985891634_n.jpg?stp=dst-jpg_e0_s150x150&_nc_ht=instagram.fupg6-1.fna.fbcdn.net&_nc_cat=106&_nc_ohc=BlH40r3UdPcQ7kNvgFxakFB&_nc_gid=33b86d815f2e4ab6a0c54340447020e1&edm=AMKDjl4BAAAA&ccb=7-5&oh=00_AYAOxh0OlH1toh88LGWsYR8TJzq2DehLXx3FF5YLjqa9Ew&oe=673DF665&_nc_sid=472314'), profile_pic_url_hd=None, is_private=False) comment_count=180 comments_disabled=False commenting_disabled_for_viewer=False like_count=696 play_count=0 has_liked=False caption_text='Top Python Interview Q/A\\n..\\n📒 | Complete Python guide + 99 Projects\\n🔗 | Link in the Bio\\n..\\n..\\nFollow @pycode.hubb for more\\nFollow @pycode.hubb for more\\n..\\n..\\nTurn on post notifications for more such posts like this\\n..\\n..\\n#pythonhub #pythonquiz #pythonlearning #pythonprogramming #pythondeveloper #python3 #programming #pythonprojects #pythonbeginner #coding #pythonbegginers #pythonchallenge #pythonlearn\\xa0#pycode' accessibility_caption=None usertags=[] sponsor_tags=[] video_url=None view_count=0 video_duration=0.0 title='' resources=[Resource(pk='3484111145471205772', video_url=None, thumbnail_url=Url('https://instagram.fupg6-1.fna.fbcdn.net/v/t51.29350-15/464201897_858384589612518_7955419690099353269_n.jpg?stp=dst-jpg_e15&efg=eyJ2ZW5jb2RlX3RhZyI6ImltYWdlX3VybGdlbi4xMDgweDEzNTAuc2RyLmYyOTM1MC5kZWZhdWx0X2ltYWdlIn0&_nc_ht=instagram.fupg6-1.fna.fbcdn.net&_nc_cat=106&_nc_ohc=5hVmWoEWcFoQ7kNvgGB2wyQ&_nc_gid=33b86d815f2e4ab6a0c54340447020e1&edm=AMKDjl4BAAAA&ccb=7-5&ig_cache_key=MzQ4NDExMTE0NTQ3MTIwNTc3Mg%3D%3D.3-ccb7-5&oh=00_AYAPTgVw3jvr0SWdE4ewdoKewp5qWGfXBYpblQMAbRftPw&oe=673E082D&_nc_sid=472314'), media_type=1), Resource(pk='3484111145471139266', video_url=None, thumbnail_url=Url('https://instagram.fupg6-1.fna.fbcdn.net/v/t51.29350-15/464251853_901866298175519_3389867581322100018_n.jpg?stp=dst-jpg_e15&efg=eyJ2ZW5jb2RlX3RhZyI6ImltYWdlX3VybGdlbi4xMDgweDEzNTAuc2RyLmYyOTM1MC5kZWZhdWx0X2ltYWdlIn0&_nc_ht=instagram.fupg6-1.fna.fbcdn.net&_nc_cat=111&_nc_ohc=FUnUzJux8fsQ7kNvgHqlbER&_nc_gid=33b86d815f2e4ab6a0c54340447020e1&edm=AMKDjl4BAAAA&ccb=7-5&ig_cache_key=MzQ4NDExMTE0NTQ3MTEzOTI2Ng%3D%3D.3-ccb7-5&oh=00_AYCBZKkFyOOh8IFOXuJli0gB1Kf3ihjuzF4VB7biCnFm-Q&oe=673DFFB3&_nc_sid=472314'), media_type=1), Resource(pk='3484111145471282675', video_url=None, thumbnail_url=Url('https://instagram.fupg6-1.fna.fbcdn.net/v/t51.29350-15/464205779_1985099912003516_1597807235313260568_n.jpg?stp=dst-jpg_e15&efg=eyJ2ZW5jb2RlX3RhZyI6ImltYWdlX3VybGdlbi4xMDgweDEzNTAuc2RyLmYyOTM1MC5kZWZhdWx0X2ltYWdlIn0&_nc_ht=instagram.fupg6-1.fna.fbcdn.net&_nc_cat=108&_nc_ohc=VOfpi7F8BRAQ7kNvgE9-vjn&_nc_gid=33b86d815f2e4ab6a0c54340447020e1&edm=AMKDjl4BAAAA&ccb=7-5&ig_cache_key=MzQ4NDExMTE0NTQ3MTI4MjY3NQ%3D%3D.3-ccb7-5&oh=00_AYB_r7LMj34iNGM1tKH_ejJxmZino8Mi1wxmDMURMrKeHw&oe=673DD7A8&_nc_sid=472314'), media_type=1), Resource(pk='3484111145471187182', video_url=None, thumbnail_url=Url('https://instagram.fupg6-1.fna.fbcdn.net/v/t51.29350-15/463963280_433119553147531_411418495284733655_n.jpg?stp=dst-jpg_e15&efg=eyJ2ZW5jb2RlX3RhZyI6ImltYWdlX3VybGdlbi4xMDgweDEzNTAuc2RyLmYyOTM1MC5kZWZhdWx0X2ltYWdlIn0&_nc_ht=instagram.fupg6-1.fna.fbcdn.net&_nc_cat=107&_nc_ohc=CtGJLh2BM5oQ7kNvgHV6G8e&_nc_gid=33b86d815f2e4ab6a0c54340447020e1&edm=AMKDjl4BAAAA&ccb=7-5&ig_cache_key=MzQ4NDExMTE0NTQ3MTE4NzE4Mg%3D%3D.3-ccb7-5&oh=00_AYCg_VcueyaiNcRc7Dq1qtGfkbQ-og2kkD9uIOFNPJIqlw&oe=673DFAB6&_nc_sid=472314'), media_type=1), Resource(pk='3484111145764908847', video_url=None, thumbnail_url=Url('https://instagram.fupg6-1.fna.fbcdn.net/v/t51.29350-15/464288441_534790125851811_424875804887389757_n.jpg?stp=dst-jpg_e15&efg=eyJ2ZW5jb2RlX3RhZyI6ImltYWdlX3VybGdlbi4xMDgweDEzNTAuc2RyLmYyOTM1MC5kZWZhdWx0X2ltYWdlIn0&_nc_ht=instagram.fupg6-1.fna.fbcdn.net&_nc_cat=103&_nc_ohc=Jl_EbT_AVpUQ7kNvgHSEbnc&_nc_gid=33b86d815f2e4ab6a0c54340447020e1&edm=AMKDjl4BAAAA&ccb=7-5&ig_cache_key=MzQ4NDExMTE0NTc2NDkwODg0Nw%3D%3D.3-ccb7-5&oh=00_AYC9Kvw8SXFtu0st2WxKJm5NDhSiJpqB8C2VsqiVJiiqZQ&oe=673DEC13&_nc_sid=472314'), media_type=1), Resource(pk='3484111145471311443', video_url=None, thumbnail_url=Url('https://instagram.fupg6-1.fna.fbcdn.net/v/t51.29350-15/464181013_1247899432950288_4029776404690170429_n.jpg?stp=dst-jpg_e15&efg=eyJ2ZW5jb2RlX3RhZyI6ImltYWdlX3VybGdlbi4xMDgweDEzNTAuc2RyLmYyOTM1MC5kZWZhdWx0X2ltYWdlIn0&_nc_ht=instagram.fupg6-1.fna.fbcdn.net&_nc_cat=100&_nc_ohc=P1_tzGIWvGwQ7kNvgGwrbzA&_nc_gid=33b86d815f2e4ab6a0c54340447020e1&edm=AMKDjl4BAAAA&ccb=7-5&ig_cache_key=MzQ4NDExMTE0NTQ3MTMxMTQ0Mw%3D%3D.3-ccb7-5&oh=00_AYBhlQQ9lw6rqVZ8lO_ZJYPIDTTaKgJAIA07CturmZ91NQ&oe=673DE873&_nc_sid=472314'), media_type=1), Resource(pk='3484111145689185813', video_url=None, thumbnail_url=Url('https://instagram.fupg6-1.fna.fbcdn.net/v/t51.29350-15/463731118_8317028338395698_7312856546182569083_n.jpg?stp=dst-jpg_e15&efg=eyJ2ZW5jb2RlX3RhZyI6ImltYWdlX3VybGdlbi4xMDgweDEzNTAuc2RyLmYyOTM1MC5kZWZhdWx0X2ltYWdlIn0&_nc_ht=instagram.fupg6-1.fna.fbcdn.net&_nc_cat=102&_nc_ohc=9bSlD48IXxEQ7kNvgF6FhHB&_nc_gid=33b86d815f2e4ab6a0c54340447020e1&edm=AMKDjl4BAAAA&ccb=7-5&ig_cache_key=MzQ4NDExMTE0NTY4OTE4NTgxMw%3D%3D.3-ccb7-5&oh=00_AYCOpMg2K_ptZ58kgIXOcanisTpr73Y-yfwccZKpP4VYVQ&oe=673DD910&_nc_sid=472314'), media_type=1), Resource(pk='3484111145471228401', video_url=None, thumbnail_url=Url('https://instagram.fupg6-1.fna.fbcdn.net/v/t51.29350-15/464169522_1244441786604598_7142153040250712709_n.jpg?stp=dst-jpg_e15&efg=eyJ2ZW5jb2RlX3RhZyI6ImltYWdlX3VybGdlbi4xMDgweDEzNTAuc2RyLmYyOTM1MC5kZWZhdWx0X2ltYWdlIn0&_nc_ht=instagram.fupg6-1.fna.fbcdn.net&_nc_cat=110&_nc_ohc=wlOhfkLP_YUQ7kNvgFBVyBh&_nc_gid=33b86d815f2e4ab6a0c54340447020e1&edm=AMKDjl4BAAAA&ccb=7-5&ig_cache_key=MzQ4NDExMTE0NTQ3MTIyODQwMQ%3D%3D.3-ccb7-5&oh=00_AYAgaNE5DBcpXNSAA72c_AErJ9_tTdVJqF0dKAlG0k9dBQ&oe=673DF47D&_nc_sid=472314'), media_type=1)] clips_metadata={}\n",
      "pk=3502106535065737832 id='3502106535065737832_218155319' code='DCZ-1a0Ktpo' taken_at=datetime.datetime(2024, 11, 15, 20, 47, 33, tzinfo=TzInfo(UTC)) media_type=8 image_versions2={'candidates': [{'width': 1080, 'height': 1350, 'url': 'https://instagram.fupg6-1.fna.fbcdn.net/v/t51.2885-15/466395384_18467973856043320_7236280297121857287_n.jpg?stp=dst-jpg_e15_fr_p1080x1080&_nc_ht=instagram.fupg6-1.fna.fbcdn.net&_nc_cat=104&_nc_ohc=o-bXP81MZh8Q7kNvgEKDlUH&_nc_gid=33b86d815f2e4ab6a0c54340447020e1&edm=AMKDjl4BAAAA&ccb=7-5&ig_cache_key=MzUwMjEwNjUyMDAwODEwNzc5Nw%3D%3D.3-ccb7-5&oh=00_AYC_Iejf19vUw7nIvX8Zx2b0BZCClej7ekBYY5HjaWOHuQ&oe=673DD940&_nc_sid=472314', 'scans_profile': ''}, {'width': 320, 'height': 400, 'url': 'https://instagram.fupg6-1.fna.fbcdn.net/v/t51.2885-15/466395384_18467973856043320_7236280297121857287_n.jpg?stp=dst-jpg_e15_p320x320&_nc_ht=instagram.fupg6-1.fna.fbcdn.net&_nc_cat=104&_nc_ohc=o-bXP81MZh8Q7kNvgEKDlUH&_nc_gid=33b86d815f2e4ab6a0c54340447020e1&edm=AMKDjl4BAAAA&ccb=7-5&ig_cache_key=MzUwMjEwNjUyMDAwODEwNzc5Nw%3D%3D.3-ccb7-5&oh=00_AYA_GDAOPTNCHjFm3P8cnFQxznZF1P_kcuh5bld9r7VTRQ&oe=673DD940&_nc_sid=472314', 'scans_profile': ''}]} product_type='carousel_container' thumbnail_url=None location=None user=UserShort(pk='218155319', username='grindingfrom5am', full_name='5AM Club Fitness Business Lifestyle And Weekly Results', profile_pic_url=Url('https://instagram.fupg6-1.fna.fbcdn.net/v/t51.2885-19/271396961_1124799944991594_8794046811899966183_n.jpg?stp=dst-jpg_e0_s150x150&_nc_ht=instagram.fupg6-1.fna.fbcdn.net&_nc_cat=106&_nc_ohc=4SvK98PJsgIQ7kNvgH5jhOI&_nc_gid=33b86d815f2e4ab6a0c54340447020e1&edm=AMKDjl4BAAAA&ccb=7-5&oh=00_AYD88hTdeCeAI2PypTXKgGmvsVERJem4xfNUODeYbonLtg&oe=673DDD47&_nc_sid=472314'), profile_pic_url_hd=None, is_private=False) comment_count=0 comments_disabled=False commenting_disabled_for_viewer=False like_count=6 play_count=0 has_liked=False caption_text='ATS-Friendly Resume Template for Tech Placements📝🧑🏻\\u200d💻\\n\\nThis Resume has an ATS score of more than 98\\nKey Formatting Guidelines⬇️⬇️\\n\\nAn ATS-friendly resume for tech placements should follow these critical principles:\\nLayout Essentials\\n\\t•\\tUse a single-column format\\n\\t•\\tAvoid graphics, unique fonts, or colors\\n\\t•\\tCreate a clean, simple design\\n\\t•\\tUse standard, readable fonts\\n\\t•\\tEnsure 1-1.5 point spacing\\n\\nResume Structure\\nHeader\\n\\t•\\tFull Name\\n\\t•\\tLocation\\n\\t•\\tPhone Number\\n\\t•\\tProfessional Email\\n\\t•\\tLinkedIn/GitHub Profile\\n\\nProfessional Summary\\n\\t•\\t3-4 concise sentences\\n\\t•\\tHighlight key technical skills\\n\\t•\\tAlign with job description keywords\\n\\nSkills Section\\n\\t•\\tList 15-25 technical skills\\n\\t•\\tInclude programming languages\\n\\t•\\tMatch skills from job posting\\n\\t•\\tUse industry-standard terminology\\n\\nExperience Section\\n\\t•\\tReverse chronological order\\n\\t•\\tCompany Name\\n\\t•\\tJob Title\\n\\t•\\tDates of Employment\\n\\t•\\tAchievements over responsibilities\\n\\t•\\tQuantify accomplishments\\n\\t•\\tMention specific tools/technologies used\\n\\nEducation\\n\\t•\\tDegree\\n\\t•\\tUniversity\\n\\t•\\tGraduation Date\\n\\t•\\tRelevant Coursework\\n\\nPro Tips\\n\\t•\\tConvert to PDF\\n\\t•\\tUse standard section headers\\n\\t•\\tIncorporate keywords from job description\\n\\t•\\tAim for a clear, hierarchical layout\\n\\nKeyword Optimization\\u2028Carefully match keywords from the specific job posting to increase your ATS score.\\n\\n.\\n.\\n.\\n.\\n.\\n.\\n.\\n.\\nvia. @codingwith_ms\\n#programming #coding #programmer #python #developer #javascript #technology #code #java #coder #html #computerscience #software #tech #css #webdeveloper #webdevelopment #codinglife #softwaredeveloper #linux #programmingmemes #webdesign #programmers #programminglife #hacking #pythonprogramming #resume #5amclub' accessibility_caption=None usertags=[] sponsor_tags=[] video_url=None view_count=0 video_duration=0.0 title='' resources=[Resource(pk='3502106520008107797', video_url=None, thumbnail_url=Url('https://instagram.fupg6-1.fna.fbcdn.net/v/t51.2885-15/466395384_18467973856043320_7236280297121857287_n.jpg?se=7&stp=dst-jpg_e35&efg=eyJ2ZW5jb2RlX3RhZyI6ImltYWdlX3VybGdlbi4xMDgweDEzNTAuc2RyLmY3NTc2MS5kZWZhdWx0X2ltYWdlIn0&_nc_ht=instagram.fupg6-1.fna.fbcdn.net&_nc_cat=104&_nc_ohc=o-bXP81MZh8Q7kNvgEKDlUH&_nc_gid=33b86d815f2e4ab6a0c54340447020e1&edm=AMKDjl4BAAAA&ccb=7-5&ig_cache_key=MzUwMjEwNjUyMDAwODEwNzc5Nw%3D%3D.3-ccb7-5&oh=00_AYB2IcjQRJaVSTEqsBEVzrZ97aTKIWovADHK46WUmwsc9g&oe=673DD940&_nc_sid=472314'), media_type=1), Resource(pk='3502106520217734108', video_url=None, thumbnail_url=Url('https://instagram.fupg6-1.fna.fbcdn.net/v/t51.2885-15/467200499_18467973853043320_5390444853078118991_n.jpg?se=7&stp=dst-jpg_e35&efg=eyJ2ZW5jb2RlX3RhZyI6ImltYWdlX3VybGdlbi4xMDgweDEzNDkuc2RyLmY3NTc2MS5kZWZhdWx0X2ltYWdlIn0&_nc_ht=instagram.fupg6-1.fna.fbcdn.net&_nc_cat=104&_nc_ohc=JYYcB_TuPW8Q7kNvgG3JhBU&_nc_gid=33b86d815f2e4ab6a0c54340447020e1&edm=AMKDjl4BAAAA&ccb=7-5&ig_cache_key=MzUwMjEwNjUyMDIxNzczNDEwOA%3D%3D.3-ccb7-5&oh=00_AYBwRpesXU8s1dfG55X42agBcoHSUFf5x5CKphKqJvMhBw&oe=673DEC9C&_nc_sid=472314'), media_type=1), Resource(pk='3502106520209333796', video_url=None, thumbnail_url=Url('https://instagram.fupg6-1.fna.fbcdn.net/v/t51.2885-15/466161119_18467973865043320_8777857278984293296_n.jpg?se=7&stp=dst-jpg_e35&efg=eyJ2ZW5jb2RlX3RhZyI6ImltYWdlX3VybGdlbi4xMDgweDEzNDkuc2RyLmY3NTc2MS5kZWZhdWx0X2ltYWdlIn0&_nc_ht=instagram.fupg6-1.fna.fbcdn.net&_nc_cat=104&_nc_ohc=WC4eLiyjSlkQ7kNvgHWYjzx&_nc_gid=33b86d815f2e4ab6a0c54340447020e1&edm=AMKDjl4BAAAA&ccb=7-5&ig_cache_key=MzUwMjEwNjUyMDIwOTMzMzc5Ng%3D%3D.3-ccb7-5&oh=00_AYDzLQtVTF-aAc4eIFA98JeIFNRhC7Yvq_C1RJ2aRLT1Zw&oe=673E00D2&_nc_sid=472314'), media_type=1), Resource(pk='3502106520209344502', video_url=None, thumbnail_url=Url('https://instagram.fupg6-1.fna.fbcdn.net/v/t51.2885-15/466415824_18467973880043320_8969574027228300307_n.jpg?se=7&stp=dst-jpg_e35&efg=eyJ2ZW5jb2RlX3RhZyI6ImltYWdlX3VybGdlbi4xMDgweDEzNDkuc2RyLmY3NTc2MS5kZWZhdWx0X2ltYWdlIn0&_nc_ht=instagram.fupg6-1.fna.fbcdn.net&_nc_cat=104&_nc_ohc=Lv63xBLx56cQ7kNvgHBfyqA&_nc_gid=33b86d815f2e4ab6a0c54340447020e1&edm=AMKDjl4BAAAA&ccb=7-5&ig_cache_key=MzUwMjEwNjUyMDIwOTM0NDUwMg%3D%3D.3-ccb7-5&oh=00_AYAgc8kUC589tsLW3DNHCZYdvJ06CVSmGelDb1cLeV9smg&oe=673DE0E7&_nc_sid=472314'), media_type=1), Resource(pk='3502106520217973531', video_url=None, thumbnail_url=Url('https://instagram.fupg6-1.fna.fbcdn.net/v/t51.2885-15/466567524_18467973889043320_5889746435351203211_n.jpg?se=7&stp=dst-jpg_e35&efg=eyJ2ZW5jb2RlX3RhZyI6ImltYWdlX3VybGdlbi4xMDgweDEzNDkuc2RyLmY3NTc2MS5kZWZhdWx0X2ltYWdlIn0&_nc_ht=instagram.fupg6-1.fna.fbcdn.net&_nc_cat=104&_nc_ohc=ZMFBEElnnNYQ7kNvgHiCI0q&_nc_gid=33b86d815f2e4ab6a0c54340447020e1&edm=AMKDjl4BAAAA&ccb=7-5&ig_cache_key=MzUwMjEwNjUyMDIxNzk3MzUzMQ%3D%3D.3-ccb7-5&oh=00_AYDTBcPubVIKXQLipffP6FVw-pzoLOoZgOOj-EENA-Mdlg&oe=673DDC37&_nc_sid=472314'), media_type=1), Resource(pk='3502106520217776347', video_url=None, thumbnail_url=Url('https://instagram.fupg6-1.fna.fbcdn.net/v/t51.2885-15/466125491_18467973892043320_1776462673237219441_n.jpg?se=7&stp=dst-jpg_e35&efg=eyJ2ZW5jb2RlX3RhZyI6ImltYWdlX3VybGdlbi4xMDgweDEzNDMuc2RyLmY3NTc2MS5kZWZhdWx0X2ltYWdlIn0&_nc_ht=instagram.fupg6-1.fna.fbcdn.net&_nc_cat=104&_nc_ohc=sErFbziCS5MQ7kNvgF0-SLr&_nc_gid=33b86d815f2e4ab6a0c54340447020e1&edm=AMKDjl4BAAAA&ccb=7-5&ig_cache_key=MzUwMjEwNjUyMDIxNzc3NjM0Nw%3D%3D.3-ccb7-5&oh=00_AYBV_pmHDOsfBoC6hjobuz0ZVF3jgv4SM5wJi7gkoBiFzA&oe=673DF6B3&_nc_sid=472314'), media_type=1)] clips_metadata={}\n",
      "pk=3498265561270394201 id='3498265561270394201_52266248537' code='DCMVf5NgR1Z' taken_at=datetime.datetime(2024, 11, 10, 13, 36, 13, tzinfo=TzInfo(UTC)) media_type=1 image_versions2={'candidates': [{'width': 1080, 'height': 1080, 'url': 'https://instagram.fupg6-1.fna.fbcdn.net/v/t51.29350-15/466108618_1217907422656625_2634606618272045351_n.jpg?se=7&stp=dst-jpg_e35&efg=eyJ2ZW5jb2RlX3RhZyI6ImltYWdlX3VybGdlbi4xMDgweDEwODAuc2RyLmYyOTM1MC5kZWZhdWx0X2ltYWdlIn0&_nc_ht=instagram.fupg6-1.fna.fbcdn.net&_nc_cat=105&_nc_ohc=HgOOn_P9BlMQ7kNvgFUUVj7&_nc_gid=33b86d815f2e4ab6a0c54340447020e1&edm=AMKDjl4BAAAA&ccb=7-5&ig_cache_key=MzQ5ODI2NTU2MTI3MDM5NDIwMQ%3D%3D.3-ccb7-5&oh=00_AYAqlUMG63VxDjktCJ5QMTablyl0y4QDAF_mZ4IlOR9ZSA&oe=673DD933&_nc_sid=472314', 'scans_profile': 'e35', 'estimated_scans_sizes': [22430, 44860, 67290, 89720, 112150, 125495, 159698, 181504, 201870]}, {'width': 360, 'height': 360, 'url': 'https://instagram.fupg6-1.fna.fbcdn.net/v/t51.29350-15/466108618_1217907422656625_2634606618272045351_n.jpg?stp=dst-jpg_e35_s360x360&efg=eyJ2ZW5jb2RlX3RhZyI6ImltYWdlX3VybGdlbi4xMDgweDEwODAuc2RyLmYyOTM1MC5kZWZhdWx0X2ltYWdlIn0&_nc_ht=instagram.fupg6-1.fna.fbcdn.net&_nc_cat=105&_nc_ohc=HgOOn_P9BlMQ7kNvgFUUVj7&_nc_gid=33b86d815f2e4ab6a0c54340447020e1&edm=AMKDjl4BAAAA&ccb=7-5&ig_cache_key=MzQ5ODI2NTU2MTI3MDM5NDIwMQ%3D%3D.3-ccb7-5&oh=00_AYDXOzkYvEElf2MZWm3aBz7Qu2c3ITYts2JZphU67ecVlQ&oe=673DD933&_nc_sid=472314', 'scans_profile': 'e35', 'estimated_scans_sizes': [3326, 6653, 9980, 13307, 16634, 20027, 577952, 29942, 29942]}]} product_type='feed' thumbnail_url=Url('https://instagram.fupg6-1.fna.fbcdn.net/v/t51.29350-15/466108618_1217907422656625_2634606618272045351_n.jpg?se=7&stp=dst-jpg_e35&efg=eyJ2ZW5jb2RlX3RhZyI6ImltYWdlX3VybGdlbi4xMDgweDEwODAuc2RyLmYyOTM1MC5kZWZhdWx0X2ltYWdlIn0&_nc_ht=instagram.fupg6-1.fna.fbcdn.net&_nc_cat=105&_nc_ohc=HgOOn_P9BlMQ7kNvgFUUVj7&_nc_gid=33b86d815f2e4ab6a0c54340447020e1&edm=AMKDjl4BAAAA&ccb=7-5&ig_cache_key=MzQ5ODI2NTU2MTI3MDM5NDIwMQ%3D%3D.3-ccb7-5&oh=00_AYAqlUMG63VxDjktCJ5QMTablyl0y4QDAF_mZ4IlOR9ZSA&oe=673DD933&_nc_sid=472314') location=None user=UserShort(pk='52266248537', username='ahmettcakirrofficial', full_name='Ahmet ÇAKIR', profile_pic_url=Url('https://instagram.fupg6-1.fna.fbcdn.net/v/t51.2885-19/461934173_1278143296658153_4965381369554354722_n.jpg?stp=dst-jpg_e0_s150x150&_nc_ht=instagram.fupg6-1.fna.fbcdn.net&_nc_cat=105&_nc_ohc=qWopYkmbRloQ7kNvgHKTrfS&_nc_gid=33b86d815f2e4ab6a0c54340447020e1&edm=AMKDjl4BAAAA&ccb=7-5&oh=00_AYAaH-P5Jd7YIogIQXtuHQo3rcZbz_mmiPxEDBEkfX78hA&oe=673DFC5F&_nc_sid=472314'), profile_pic_url_hd=None, is_private=False) comment_count=84 comments_disabled=False commenting_disabled_for_viewer=False like_count=3 play_count=0 has_liked=False caption_text='Senin Tarafın Hangisi 🤨🤨\\n\\nDaha fazlası için —> @ahmettcakirrofficial \\n\\n#java #c #javascript #developer #development #python #pythonprogramming #pythons #javaprogramming #pythoncode #javascriptdeveloper #javadeveloper #php #software #developer #kodlama #yazilim #webdevelopment #coding #yazılımmühendisliği #eğlence #bilgisayarmühendisliği #bilgisayarprogramcılığı #programmer #mobil #kesfet #post #instagood #insta #instagram #ahmettcakirrofficial' accessibility_caption=None usertags=[] sponsor_tags=[] video_url=None view_count=0 video_duration=0.0 title='' resources=[] clips_metadata={}\n",
      "pk=3487905784108317590 id='3487905784108317590_65590350315' code='DBnh9S3znuW' taken_at=datetime.datetime(2024, 10, 27, 6, 33, 12, tzinfo=TzInfo(UTC)) media_type=1 image_versions2={'candidates': [{'width': 864, 'height': 1080, 'url': 'https://instagram.fupg6-1.fna.fbcdn.net/v/t51.29350-15/464665348_8520118818069283_7689402740734425574_n.webp?se=8&stp=dst-jpg_e35&efg=eyJ2ZW5jb2RlX3RhZyI6ImltYWdlX3VybGdlbi44NjR4MTA4MC5zZHIuZjI5MzUwLmRlZmF1bHRfaW1hZ2UifQ&_nc_ht=instagram.fupg6-1.fna.fbcdn.net&_nc_cat=107&_nc_ohc=xftg_-hMnBkQ7kNvgGUHFM0&_nc_gid=33b86d815f2e4ab6a0c54340447020e1&edm=AMKDjl4BAAAA&ccb=7-5&ig_cache_key=MzQ4NzkwNTc4NDEwODMxNzU5MA%3D%3D.3-ccb7-5&oh=00_AYCu_HxXw022VKFUhYUibYFsuydesiiZPT-vKKXRH7ixUw&oe=673DFAAB&_nc_sid=472314', 'scans_profile': 'e35', 'estimated_scans_sizes': [7982, 15965, 23948, 31931, 39914, 44664, 56836, 64597, 71846]}, {'width': 360, 'height': 450, 'url': 'https://instagram.fupg6-1.fna.fbcdn.net/v/t51.29350-15/464665348_8520118818069283_7689402740734425574_n.webp?stp=dst-jpg_e35_p360x360&efg=eyJ2ZW5jb2RlX3RhZyI6ImltYWdlX3VybGdlbi44NjR4MTA4MC5zZHIuZjI5MzUwLmRlZmF1bHRfaW1hZ2UifQ&_nc_ht=instagram.fupg6-1.fna.fbcdn.net&_nc_cat=107&_nc_ohc=xftg_-hMnBkQ7kNvgGUHFM0&_nc_gid=33b86d815f2e4ab6a0c54340447020e1&edm=AMKDjl4BAAAA&ccb=7-5&ig_cache_key=MzQ4NzkwNTc4NDEwODMxNzU5MA%3D%3D.3-ccb7-5&oh=00_AYCMmZTFeqGWsj-UFqk128WBadSPZM_m5tjcDuFQmvXlCQ&oe=673DFAAB&_nc_sid=472314', 'scans_profile': 'e35', 'estimated_scans_sizes': [2697, 5394, 8091, 10788, 13485, 16235, 468518, 24273, 24273]}]} product_type='feed' thumbnail_url=Url('https://instagram.fupg6-1.fna.fbcdn.net/v/t51.29350-15/464665348_8520118818069283_7689402740734425574_n.webp?se=8&stp=dst-jpg_e35&efg=eyJ2ZW5jb2RlX3RhZyI6ImltYWdlX3VybGdlbi44NjR4MTA4MC5zZHIuZjI5MzUwLmRlZmF1bHRfaW1hZ2UifQ&_nc_ht=instagram.fupg6-1.fna.fbcdn.net&_nc_cat=107&_nc_ohc=xftg_-hMnBkQ7kNvgGUHFM0&_nc_gid=33b86d815f2e4ab6a0c54340447020e1&edm=AMKDjl4BAAAA&ccb=7-5&ig_cache_key=MzQ4NzkwNTc4NDEwODMxNzU5MA%3D%3D.3-ccb7-5&oh=00_AYCu_HxXw022VKFUhYUibYFsuydesiiZPT-vKKXRH7ixUw&oe=673DFAAB&_nc_sid=472314') location=None user=UserShort(pk='65590350315', username='codingpythonic', full_name='codingpythonic', profile_pic_url=Url('https://instagram.fupg6-1.fna.fbcdn.net/v/t51.2885-19/434112982_328290123577700_1913245986023999477_n.jpg?stp=dst-jpg_e0_s150x150&_nc_ht=instagram.fupg6-1.fna.fbcdn.net&_nc_cat=1&_nc_ohc=OQWZowzv3Q8Q7kNvgG0nSvh&_nc_gid=33b86d815f2e4ab6a0c54340447020e1&edm=AMKDjl4BAAAA&ccb=7-5&oh=00_AYBShzGPl2xuORA7nEw5AjjpGcDXy90GJ8aTdIdQaQrITw&oe=673DDECC&_nc_sid=472314'), profile_pic_url_hd=None, is_private=False) comment_count=22 comments_disabled=False commenting_disabled_for_viewer=False like_count=3 play_count=0 has_liked=False caption_text='Learning data science in 50 days is ambitious but doable with a well-structured plan. Here’s a breakdown to help you get started\\n\\nDays 1–10: Core Python\\n\\nLearn Basic Syntax: Variables, data types, loops, conditionals.\\n\\nLibraries: Focus on data science essentials like Pandas and NumPy.\\n\\nProjects: Practice loading, cleaning, and manipulating data.\\n\\nDays 11–20: Statistics & Probability\\n\\nKey Concepts: Mean, median, mode, variance, distributions, and probability theory.\\n\\nFocus on Hypothesis Testing: Understand t-tests, chi-square tests, and p-values.\\n\\nVisualization: Learn Matplotlib and Seaborn for plotting data.\\n\\nDays 21–30: Exploratory Data Analysis (EDA)\\n\\nData Wrangling: Learn to clean messy datasets.\\n\\nVisualization for EDA: Practice analyzing datasets visually.\\n\\nCase Studies: Choose a dataset and explore it from different perspectives.\\n\\nDays 31–40: Machine Learning Basics\\n\\nSupervised Learning: Focus on regression and classification models like Linear Regression, Decision Trees, and K-Nearest Neighbors.\\n\\nUnsupervised Learning: Look into clustering methods like K-Means.\\n\\nEvaluation Metrics: Learn about accuracy, precision, recall, and F1 scores.\\n\\nDays 41–50: Advanced Topics & Projects\\n\\nDeep Learning Basics: Understand neural networks and try using TensorFlow or Keras.\\n\\nProjects: Build a portfolio project, like a predictive model or a recommendation system.\\n\\nDeploy a Model: Explore options for model deployment using libraries like Flask or Streamlit.\\n\\nTips for Success:\\n\\n1. Practice Daily: Aim for at least 1-2 hours per day.\\n\\n2. Use Real-World Datasets: Kaggle has a wealth of data for hands-on practice.\\n\\n3. Stay Consistent: Progress in small steps each day.\\n\\n4. Track Your Progress: Keep a journal or blog your journey to stay motivated.\\n\\nBy the end of 50 days, you’ll have a solid foundation in data science and a portfolio to showcase your skills!\\n\\n#Coding #PythonDeveloper #100DaysOfCode\\n#Python #PythonProgramming #LearnPython' accessibility_caption=None usertags=[] sponsor_tags=[] video_url=None view_count=0 video_duration=0.0 title='' resources=[] clips_metadata={}\n",
      "pk=3473409131112174906 id='3473409131112174906_39400910422' code='DA0BzOrihU6' taken_at=datetime.datetime(2024, 10, 7, 6, 30, tzinfo=TzInfo(UTC)) media_type=8 image_versions2={'candidates': [{'width': 1080, 'height': 1080, 'url': 'https://instagram.fupg6-1.fna.fbcdn.net/v/t51.29350-15/462318283_895278968779669_543815267022898254_n.jpg?stp=dst-jpg_e35_s1080x1080&_nc_ht=instagram.fupg6-1.fna.fbcdn.net&_nc_cat=101&_nc_ohc=FoiofJQSCiIQ7kNvgFGKxUT&_nc_gid=33b86d815f2e4ab6a0c54340447020e1&edm=AMKDjl4BAAAA&ccb=7-5&ig_cache_key=MzQ3MzM2NjMzNDg1ODQ1NTExMg%3D%3D.3-ccb7-5&oh=00_AYBBsvJsnfpOHLQRPKfZmpDIOyS8jlPhb4nuh3sJUwvCyQ&oe=673DDB93&_nc_sid=472314', 'scans_profile': ''}, {'width': 320, 'height': 320, 'url': 'https://instagram.fupg6-1.fna.fbcdn.net/v/t51.29350-15/462318283_895278968779669_543815267022898254_n.jpg?stp=dst-jpg_e35_s320x320&_nc_ht=instagram.fupg6-1.fna.fbcdn.net&_nc_cat=101&_nc_ohc=FoiofJQSCiIQ7kNvgFGKxUT&_nc_gid=33b86d815f2e4ab6a0c54340447020e1&edm=AMKDjl4BAAAA&ccb=7-5&ig_cache_key=MzQ3MzM2NjMzNDg1ODQ1NTExMg%3D%3D.3-ccb7-5&oh=00_AYAjRaroetLMOdKJBI5duBLGCswxYADQgTOop9X13oofqQ&oe=673DDB93&_nc_sid=472314', 'scans_profile': ''}]} product_type='carousel_container' thumbnail_url=None location=Location(pk=567585844, name='Iran', phone='', website='', category='', hours={}, address='', city='', zip=None, lng=53.0, lat=32.0, external_id=103115216394994, external_id_source='facebook_places') user=UserShort(pk='39400910422', username='drhosseinpoor.ir', full_name='آموزش پایتون||دکترحسین\\u200cپور', profile_pic_url=Url('https://instagram.fupg6-1.fna.fbcdn.net/v/t51.2885-19/447207124_1183824769721909_4326508931196648997_n.jpg?stp=dst-jpg_e0_s150x150_tt6&_nc_ht=instagram.fupg6-1.fna.fbcdn.net&_nc_cat=105&_nc_ohc=pzzFQUQZjIgQ7kNvgGF-gC1&_nc_gid=33b86d815f2e4ab6a0c54340447020e1&edm=AMKDjl4BAAAA&ccb=7-5&oh=00_AYAK3v7_qAX1EXC6HTxdEheUViHhXkKynuH3-f0XNFHJsw&oe=673DDE3C&_nc_sid=472314'), profile_pic_url_hd=None, is_private=False) comment_count=34 comments_disabled=False commenting_disabled_for_viewer=False like_count=1582 play_count=0 has_liked=False caption_text='در این پست ۱۱ تابع مهم و کاربردی مورد استفاده در پایتون رو براتون آوردم، هر کدوم با مثال در این پست توضیح داده شده\\n.\\n.\\nپست رو سیو داشته باش\\n.\\n.\\nلایک ❤️ یادت نره و پست رو برا دوستانت هم بفرس\\nراستی پیج رو هم برا آموزش\\u200cهای بیشتر فالو داشته باش\\n@drhosseinpoor.ir \\n@drhosseinpoor.ir \\n.\\n.\\nاگر دوره آموزشی جامع پایتون هم میخوای ی سر به لینک موجود در بایو پیج بزن\\n.\\n.\\n#پایتون\\n#پایتون_نویسی \\n#کدنویسی \\n#برنامه_نویسی \\n#کامپیوتری \\n#لپتاپ \\n#python \\n#pythonprogramming \\n#artificialintelligence \\n#coding' accessibility_caption=None usertags=[Usertag(user=UserShort(pk='39400910422', username='drhosseinpoor.ir', full_name='آموزش پایتون||دکترحسین\\u200cپور', profile_pic_url=Url('https://instagram.fupg6-1.fna.fbcdn.net/v/t51.2885-19/447207124_1183824769721909_4326508931196648997_n.jpg?stp=dst-jpg_e0_s150x150_tt6&_nc_ht=instagram.fupg6-1.fna.fbcdn.net&_nc_cat=105&_nc_ohc=pzzFQUQZjIgQ7kNvgGF-gC1&_nc_gid=33b86d815f2e4ab6a0c54340447020e1&edm=AMKDjl4BAAAA&ccb=7-5&oh=00_AYAK3v7_qAX1EXC6HTxdEheUViHhXkKynuH3-f0XNFHJsw&oe=673DDE3C&_nc_sid=472314'), profile_pic_url_hd=None, is_private=False), x=0.5813204263, y=0.8558776045)] sponsor_tags=[] video_url=None view_count=0 video_duration=0.0 title='' resources=[Resource(pk='3473366334858455112', video_url=None, thumbnail_url=Url('https://instagram.fupg6-1.fna.fbcdn.net/v/t51.29350-15/462318283_895278968779669_543815267022898254_n.jpg?stp=dst-jpg_e35_s1080x1080&efg=eyJ2ZW5jb2RlX3RhZyI6ImltYWdlX3VybGdlbi4xNDQweDE0NDAuc2RyLmYyOTM1MC5kZWZhdWx0X2ltYWdlIn0&_nc_ht=instagram.fupg6-1.fna.fbcdn.net&_nc_cat=101&_nc_ohc=FoiofJQSCiIQ7kNvgFGKxUT&_nc_gid=33b86d815f2e4ab6a0c54340447020e1&edm=AMKDjl4BAAAA&ccb=7-5&ig_cache_key=MzQ3MzM2NjMzNDg1ODQ1NTExMg%3D%3D.3-ccb7-5&oh=00_AYBBsvJsnfpOHLQRPKfZmpDIOyS8jlPhb4nuh3sJUwvCyQ&oe=673DDB93&_nc_sid=472314'), media_type=1), Resource(pk='3473366334850073478', video_url=None, thumbnail_url=Url('https://instagram.fupg6-1.fna.fbcdn.net/v/t51.29350-15/462358092_503021135893396_8345488293327041077_n.jpg?stp=dst-jpg_e35_s1080x1080&efg=eyJ2ZW5jb2RlX3RhZyI6ImltYWdlX3VybGdlbi4xNDQweDE0NDAuc2RyLmYyOTM1MC5kZWZhdWx0X2ltYWdlIn0&_nc_ht=instagram.fupg6-1.fna.fbcdn.net&_nc_cat=104&_nc_ohc=RdyNcHDHXpwQ7kNvgH3tC8V&_nc_gid=33b86d815f2e4ab6a0c54340447020e1&edm=AMKDjl4BAAAA&ccb=7-5&ig_cache_key=MzQ3MzM2NjMzNDg1MDA3MzQ3OA%3D%3D.3-ccb7-5&oh=00_AYAgPqCxoBVGQt1OZKE2ez1tZp59a_lXukeUA7y_46lxEg&oe=673DD373&_nc_sid=472314'), media_type=1), Resource(pk='3473366334850119160', video_url=None, thumbnail_url=Url('https://instagram.fupg6-1.fna.fbcdn.net/v/t51.29350-15/462168659_8428400697214440_7436836425732109189_n.jpg?stp=dst-jpg_e35_s1080x1080_tt6&efg=eyJ2ZW5jb2RlX3RhZyI6ImltYWdlX3VybGdlbi4xNDQweDE0NDAuc2RyLmYyOTM1MC5kZWZhdWx0X2ltYWdlIn0&_nc_ht=instagram.fupg6-1.fna.fbcdn.net&_nc_cat=100&_nc_ohc=wynclnCBVs0Q7kNvgHIruu1&_nc_gid=33b86d815f2e4ab6a0c54340447020e1&edm=AMKDjl4BAAAA&ccb=7-5&ig_cache_key=MzQ3MzM2NjMzNDg1MDExOTE2MA%3D%3D.3-ccb7-5&oh=00_AYDSCjliWl15H98osPwNZ-I5mxl2_es9i21ypSdXz-HEpQ&oe=673DFDA0&_nc_sid=472314'), media_type=1), Resource(pk='3473366335168786186', video_url=None, thumbnail_url=Url('https://instagram.fupg6-1.fna.fbcdn.net/v/t51.29350-15/462255718_1075992067294693_1387252148334847261_n.jpg?stp=dst-jpg_e35_s1080x1080&efg=eyJ2ZW5jb2RlX3RhZyI6ImltYWdlX3VybGdlbi4xNDQweDE0NDAuc2RyLmYyOTM1MC5kZWZhdWx0X2ltYWdlIn0&_nc_ht=instagram.fupg6-1.fna.fbcdn.net&_nc_cat=101&_nc_ohc=jdW99bh_knIQ7kNvgGrtn_U&_nc_gid=33b86d815f2e4ab6a0c54340447020e1&edm=AMKDjl4BAAAA&ccb=7-5&ig_cache_key=MzQ3MzM2NjMzNTE2ODc4NjE4Ng%3D%3D.3-ccb7-5&oh=00_AYDQ2b6NTTx534nhnWrxnWvZl4HWPvgUs5TrTMq9Pj63rg&oe=673DE86F&_nc_sid=472314'), media_type=1), Resource(pk='3473366334850165802', video_url=None, thumbnail_url=Url('https://instagram.fupg6-1.fna.fbcdn.net/v/t51.29350-15/462147582_420423640750714_2549189558622158555_n.jpg?stp=dst-jpg_e35_s1080x1080&efg=eyJ2ZW5jb2RlX3RhZyI6ImltYWdlX3VybGdlbi4xNDQweDE0NDAuc2RyLmYyOTM1MC5kZWZhdWx0X2ltYWdlIn0&_nc_ht=instagram.fupg6-1.fna.fbcdn.net&_nc_cat=110&_nc_ohc=fc6fLKXnyXQQ7kNvgEguT2_&_nc_gid=33b86d815f2e4ab6a0c54340447020e1&edm=AMKDjl4BAAAA&ccb=7-5&ig_cache_key=MzQ3MzM2NjMzNDg1MDE2NTgwMg%3D%3D.3-ccb7-5&oh=00_AYBQIh9jeuNuaB5psYEbOFtRbKSOMz1K5hhZmMBeel73Lg&oe=673DE465&_nc_sid=472314'), media_type=1), Resource(pk='3473366334841813201', video_url=None, thumbnail_url=Url('https://instagram.fupg6-1.fna.fbcdn.net/v/t51.29350-15/462085426_1248613222932755_7351940211104397357_n.jpg?stp=dst-jpg_e35_s1080x1080&efg=eyJ2ZW5jb2RlX3RhZyI6ImltYWdlX3VybGdlbi4xNDQweDE0NDAuc2RyLmYyOTM1MC5kZWZhdWx0X2ltYWdlIn0&_nc_ht=instagram.fupg6-1.fna.fbcdn.net&_nc_cat=111&_nc_ohc=lMWqil_PcLkQ7kNvgFLbh_Z&_nc_gid=33b86d815f2e4ab6a0c54340447020e1&edm=AMKDjl4BAAAA&ccb=7-5&ig_cache_key=MzQ3MzM2NjMzNDg0MTgxMzIwMQ%3D%3D.3-ccb7-5&oh=00_AYCUHdMqZFUJO0o79-zpUZptvSfpStaovwWta2Y6LZFMKg&oe=673DD851&_nc_sid=472314'), media_type=1), Resource(pk='3473366334850072540', video_url=None, thumbnail_url=Url('https://instagram.fupg6-1.fna.fbcdn.net/v/t51.29350-15/462205454_1232388681295880_1944333608102477146_n.jpg?stp=dst-jpg_e35_s1080x1080&efg=eyJ2ZW5jb2RlX3RhZyI6ImltYWdlX3VybGdlbi4xNDQweDE0NDAuc2RyLmYyOTM1MC5kZWZhdWx0X2ltYWdlIn0&_nc_ht=instagram.fupg6-1.fna.fbcdn.net&_nc_cat=108&_nc_ohc=1X_7vc7RrkUQ7kNvgFl0l5R&_nc_gid=33b86d815f2e4ab6a0c54340447020e1&edm=AMKDjl4BAAAA&ccb=7-5&ig_cache_key=MzQ3MzM2NjMzNDg1MDA3MjU0MA%3D%3D.3-ccb7-5&oh=00_AYBUWEu_ZmpCQ8CI-MHuZZzvo94c5K2vZnxsH4HVLgENFw&oe=673E09FB&_nc_sid=472314'), media_type=1)] clips_metadata={}\n",
      "pk=3483842845801906729 id='3483842845801906729_54960605175' code='DBZGJwtTwIp' taken_at=datetime.datetime(2024, 10, 21, 16, 0, 52, tzinfo=TzInfo(UTC)) media_type=8 image_versions2={'candidates': [{'width': 1080, 'height': 1350, 'url': 'https://instagram.fupg6-1.fna.fbcdn.net/v/t51.29350-15/463903693_1209781127230108_6643970750303252210_n.webp?se=7&stp=dst-jpg_e35&_nc_ht=instagram.fupg6-1.fna.fbcdn.net&_nc_cat=104&_nc_ohc=zDz3MYt3E3kQ7kNvgF338V-&_nc_gid=33b86d815f2e4ab6a0c54340447020e1&edm=AMKDjl4BAAAA&ccb=7-5&ig_cache_key=MzQ4Mzg0MjgzMDYxODQ5MjkyNg%3D%3D.3-ccb7-5&oh=00_AYDNmcC9ohuZDT_EwJGbhT3kVGuGHDhVeIwDIakY6BELnQ&oe=673DD96E&_nc_sid=472314', 'scans_profile': ''}, {'width': 320, 'height': 400, 'url': 'https://instagram.fupg6-1.fna.fbcdn.net/v/t51.29350-15/463903693_1209781127230108_6643970750303252210_n.webp?stp=dst-jpg_e35_p320x320&_nc_ht=instagram.fupg6-1.fna.fbcdn.net&_nc_cat=104&_nc_ohc=zDz3MYt3E3kQ7kNvgF338V-&_nc_gid=33b86d815f2e4ab6a0c54340447020e1&edm=AMKDjl4BAAAA&ccb=7-5&ig_cache_key=MzQ4Mzg0MjgzMDYxODQ5MjkyNg%3D%3D.3-ccb7-5&oh=00_AYCZRjWp1gm5l4QOESGj-2QXZnFxQTs6COmjDM3WR_I4jA&oe=673DD96E&_nc_sid=472314', 'scans_profile': ''}]} product_type='carousel_container' thumbnail_url=None location=None user=UserShort(pk='54960605175', username='coding_knowladge', full_name='Harry', profile_pic_url=Url('https://instagram.fupg6-1.fna.fbcdn.net/v/t51.2885-19/342062898_952185569250465_2206065006076216294_n.jpg?stp=dst-jpg_e0_s150x150&_nc_ht=instagram.fupg6-1.fna.fbcdn.net&_nc_cat=109&_nc_ohc=3yOs6ATI6a4Q7kNvgFqfeBa&_nc_gid=33b86d815f2e4ab6a0c54340447020e1&edm=AMKDjl4BAAAA&ccb=7-5&oh=00_AYD44xCU3ifLGiHQAkBcLy8n-hSBtODyYhAX0OgZ2Li8fQ&oe=673DF571&_nc_sid=472314'), profile_pic_url_hd=None, is_private=False) comment_count=51 comments_disabled=False commenting_disabled_for_viewer=False like_count=3 play_count=0 has_liked=False caption_text=\"Data analysis (EDA) with Python 🚀\\n.\\n.\\nDon't forget to save the post for your later reference 📌❤️\\n.\\n.\\nIt's pdf form(complete CheatSheet) in my telegram channel link is in bio 🧡 🌍📌 \\n.\\n.\\nFollow - @coding_knowladge 🌍\\n@coding_knowladge 💞\\n@coding_knowladge 😊\\n.\\n.\\n#python #pythonpandas #datascience #pythonprogramming #machinelearning #pythoncode #pythonlearning #o #numpy #dataanalytics #dataanalysis #pythonbeginner #dsdotpy #dataanalyst #coding #pythondatascience #dataviz #matplotlib #datavisualization #java #pythontips #pandaspython #dataframe #html #conda #datascientist #pandasdataframe #pythonlanguage #pythoncodesnippets #coding_knowladge\" accessibility_caption=None usertags=[Usertag(user=UserShort(pk='54960605175', username='coding_knowladge', full_name='Harry', profile_pic_url=Url('https://instagram.fupg6-1.fna.fbcdn.net/v/t51.2885-19/342062898_952185569250465_2206065006076216294_n.jpg?stp=dst-jpg_e0_s150x150&_nc_ht=instagram.fupg6-1.fna.fbcdn.net&_nc_cat=109&_nc_ohc=3yOs6ATI6a4Q7kNvgFqfeBa&_nc_gid=33b86d815f2e4ab6a0c54340447020e1&edm=AMKDjl4BAAAA&ccb=7-5&oh=00_AYD44xCU3ifLGiHQAkBcLy8n-hSBtODyYhAX0OgZ2Li8fQ&oe=673DF571&_nc_sid=472314'), profile_pic_url_hd=None, is_private=False), x=0.4466146, y=0.36909723)] sponsor_tags=[] video_url=None view_count=0 video_duration=0.0 title='' resources=[Resource(pk='3483842830618492926', video_url=None, thumbnail_url=Url('https://instagram.fupg6-1.fna.fbcdn.net/v/t51.29350-15/463903693_1209781127230108_6643970750303252210_n.webp?se=7&stp=dst-jpg_e35&efg=eyJ2ZW5jb2RlX3RhZyI6ImltYWdlX3VybGdlbi4xMDgweDEzNTAuc2RyLmYyOTM1MC5kZWZhdWx0X2ltYWdlIn0&_nc_ht=instagram.fupg6-1.fna.fbcdn.net&_nc_cat=104&_nc_ohc=zDz3MYt3E3kQ7kNvgF338V-&_nc_gid=33b86d815f2e4ab6a0c54340447020e1&edm=AMKDjl4BAAAA&ccb=7-5&ig_cache_key=MzQ4Mzg0MjgzMDYxODQ5MjkyNg%3D%3D.3-ccb7-5&oh=00_AYDNmcC9ohuZDT_EwJGbhT3kVGuGHDhVeIwDIakY6BELnQ&oe=673DD96E&_nc_sid=472314'), media_type=1), Resource(pk='3483842830501084562', video_url=None, thumbnail_url=Url('https://instagram.fupg6-1.fna.fbcdn.net/v/t51.29350-15/463985475_1694623128057032_7086973068966209460_n.webp?se=7&stp=dst-jpg_e35&efg=eyJ2ZW5jb2RlX3RhZyI6ImltYWdlX3VybGdlbi4xMDgweDEzNTAuc2RyLmYyOTM1MC5kZWZhdWx0X2ltYWdlIn0&_nc_ht=instagram.fupg6-1.fna.fbcdn.net&_nc_cat=108&_nc_ohc=ICHV1lnH6oEQ7kNvgEN0Zed&_nc_gid=33b86d815f2e4ab6a0c54340447020e1&edm=AMKDjl4BAAAA&ccb=7-5&ig_cache_key=MzQ4Mzg0MjgzMDUwMTA4NDU2Mg%3D%3D.3-ccb7-5&oh=00_AYBryHRfBHRU0dLpnUlN5r5EjunU85k2ta10nhy_h17Q6w&oe=673DD737&_nc_sid=472314'), media_type=1), Resource(pk='3483842830635189223', video_url=None, thumbnail_url=Url('https://instagram.fupg6-1.fna.fbcdn.net/v/t51.29350-15/463949574_4708034916087293_3449682153230060444_n.webp?se=7&stp=dst-jpg_e35&efg=eyJ2ZW5jb2RlX3RhZyI6ImltYWdlX3VybGdlbi4xMDgweDEzNTAuc2RyLmYyOTM1MC5kZWZhdWx0X2ltYWdlIn0&_nc_ht=instagram.fupg6-1.fna.fbcdn.net&_nc_cat=105&_nc_ohc=-o2AjGUMD5QQ7kNvgEnj5Ko&_nc_gid=33b86d815f2e4ab6a0c54340447020e1&edm=AMKDjl4BAAAA&ccb=7-5&ig_cache_key=MzQ4Mzg0MjgzMDYzNTE4OTIyMw%3D%3D.3-ccb7-5&oh=00_AYDAkzFnIXiYQh-mRe9sSC0qcizlEiDi3sePHva3f66MYw&oe=673DDBB8&_nc_sid=472314'), media_type=1), Resource(pk='3483842830777866442', video_url=None, thumbnail_url=Url('https://instagram.fupg6-1.fna.fbcdn.net/v/t51.29350-15/463965949_1605763807028761_2738764007811837621_n.webp?se=7&stp=dst-jpg_e35&efg=eyJ2ZW5jb2RlX3RhZyI6ImltYWdlX3VybGdlbi4xMDgweDEzNTAuc2RyLmYyOTM1MC5kZWZhdWx0X2ltYWdlIn0&_nc_ht=instagram.fupg6-1.fna.fbcdn.net&_nc_cat=101&_nc_ohc=3OqT382xzmkQ7kNvgEOUTUT&_nc_gid=33b86d815f2e4ab6a0c54340447020e1&edm=AMKDjl4BAAAA&ccb=7-5&ig_cache_key=MzQ4Mzg0MjgzMDc3Nzg2NjQ0Mg%3D%3D.3-ccb7-5&oh=00_AYBHRug1JTqia0GcOOrIo5URGijANR4Et_DzK8XN7OKDXw&oe=673DDA29&_nc_sid=472314'), media_type=1), Resource(pk='3483842830492559752', video_url=None, thumbnail_url=Url('https://instagram.fupg6-1.fna.fbcdn.net/v/t51.29350-15/464249125_416099191532969_4111850012971168265_n.webp?se=7&stp=dst-jpg_e35&efg=eyJ2ZW5jb2RlX3RhZyI6ImltYWdlX3VybGdlbi4xMDgweDEzNTAuc2RyLmYyOTM1MC5kZWZhdWx0X2ltYWdlIn0&_nc_ht=instagram.fupg6-1.fna.fbcdn.net&_nc_cat=105&_nc_ohc=Y5JQ5fVPs_QQ7kNvgGZ6P07&_nc_gid=33b86d815f2e4ab6a0c54340447020e1&edm=AMKDjl4BAAAA&ccb=7-5&ig_cache_key=MzQ4Mzg0MjgzMDQ5MjU1OTc1Mg%3D%3D.3-ccb7-5&oh=00_AYD5QUIk4pyo6bi_UhPnCvDAwvj-9gB4Q8Ro8ESqTlBL9w&oe=673E0120&_nc_sid=472314'), media_type=1), Resource(pk='3483842830509475860', video_url=None, thumbnail_url=Url('https://instagram.fupg6-1.fna.fbcdn.net/v/t51.29350-15/463479497_1072556911182496_220901849432057011_n.webp?se=7&stp=dst-jpg_e35&efg=eyJ2ZW5jb2RlX3RhZyI6ImltYWdlX3VybGdlbi4xMDgweDEzNTAuc2RyLmYyOTM1MC5kZWZhdWx0X2ltYWdlIn0&_nc_ht=instagram.fupg6-1.fna.fbcdn.net&_nc_cat=104&_nc_ohc=RiHZCGtfjOwQ7kNvgF03Psa&_nc_gid=33b86d815f2e4ab6a0c54340447020e1&edm=AMKDjl4BAAAA&ccb=7-5&ig_cache_key=MzQ4Mzg0MjgzMDUwOTQ3NTg2MA%3D%3D.3-ccb7-5&oh=00_AYDH7dGGkottMGQZduS79iwpOY7Yqi2o-NeBMpxn6aWyCA&oe=673DEF93&_nc_sid=472314'), media_type=1), Resource(pk='3483842830492516854', video_url=None, thumbnail_url=Url('https://instagram.fupg6-1.fna.fbcdn.net/v/t51.29350-15/463958623_1267119391110224_4986226625378070636_n.webp?se=7&stp=dst-jpg_e35&efg=eyJ2ZW5jb2RlX3RhZyI6ImltYWdlX3VybGdlbi4xMDgweDEzNTAuc2RyLmYyOTM1MC5kZWZhdWx0X2ltYWdlIn0&_nc_ht=instagram.fupg6-1.fna.fbcdn.net&_nc_cat=108&_nc_ohc=YZUd_5Gdps0Q7kNvgHLhLoG&_nc_gid=33b86d815f2e4ab6a0c54340447020e1&edm=AMKDjl4BAAAA&ccb=7-5&ig_cache_key=MzQ4Mzg0MjgzMDQ5MjUxNjg1NA%3D%3D.3-ccb7-5&oh=00_AYC0GhntGqHtDT_s4kZqITF_YCKtjzvon6TfTFUe7igcJg&oe=673E018D&_nc_sid=472314'), media_type=1)] clips_metadata={}\n",
      "pk=3496745803269854504 id='3496745803269854504_56934835873' code='DCG78gRvNUo' taken_at=datetime.datetime(2024, 11, 8, 11, 16, 44, tzinfo=TzInfo(UTC)) media_type=8 image_versions2={'candidates': [{'width': 1080, 'height': 1350, 'url': 'https://instagram.fupg6-1.fna.fbcdn.net/v/t51.29350-15/466145771_3819525921620060_9163332971284063792_n.webp?stp=dst-jpg_e35_p1080x1080&_nc_ht=instagram.fupg6-1.fna.fbcdn.net&_nc_cat=108&_nc_ohc=Y9baZQdriz0Q7kNvgFFsoQv&_nc_gid=33b86d815f2e4ab6a0c54340447020e1&edm=AMKDjl4BAAAA&ccb=7-5&ig_cache_key=MzQ5Njc0NTc5MjA1NDI5MDgwOQ%3D%3D.3-ccb7-5&oh=00_AYAma5CjQ2yiSaH-JetwHAfrtz82ZXwG3rWLUy0t63KKoQ&oe=673E01A3&_nc_sid=472314', 'scans_profile': ''}, {'width': 320, 'height': 400, 'url': 'https://instagram.fupg6-1.fna.fbcdn.net/v/t51.29350-15/466145771_3819525921620060_9163332971284063792_n.webp?stp=dst-jpg_e35_p320x320&_nc_ht=instagram.fupg6-1.fna.fbcdn.net&_nc_cat=108&_nc_ohc=Y9baZQdriz0Q7kNvgFFsoQv&_nc_gid=33b86d815f2e4ab6a0c54340447020e1&edm=AMKDjl4BAAAA&ccb=7-5&ig_cache_key=MzQ5Njc0NTc5MjA1NDI5MDgwOQ%3D%3D.3-ccb7-5&oh=00_AYD5I6b3pzsmJ8ssvv4cDMLfpCRV_do9Hi0IWTNqRlkqrA&oe=673E01A3&_nc_sid=472314', 'scans_profile': ''}]} product_type='carousel_container' thumbnail_url=None location=None user=UserShort(pk='56934835873', username='codewithnikhill', full_name='Nikhil | Full Stack Developer', profile_pic_url=Url('https://instagram.fupg6-1.fna.fbcdn.net/v/t51.2885-19/463875681_934740341806287_3639974752065823888_n.jpg?stp=dst-jpg_e0_s150x150&_nc_ht=instagram.fupg6-1.fna.fbcdn.net&_nc_cat=103&_nc_ohc=Fnbw-XGunTEQ7kNvgFQGs5J&_nc_gid=33b86d815f2e4ab6a0c54340447020e1&edm=AMKDjl4BAAAA&ccb=7-5&oh=00_AYApl3nPlLXljqMG68s_L1h-n8nHDewXX9xX0o_mZoNnNg&oe=673E07E2&_nc_sid=472314'), profile_pic_url_hd=None, is_private=False) comment_count=95 comments_disabled=False commenting_disabled_for_viewer=False like_count=3 play_count=0 has_liked=False caption_text='JavaScript Cheatsheet 🎯\\n\\nComment \"PDF\" to get this Cheatsheet PDF \\n\\n👉 Follow @codewithnikhill for more educational content ❤️\\n\\n🤝Join the Telegram for free notes and coding resources \\n\\nLink🔗 in the bio!!\\n\\nDon’t Forget To Like ♥️ | Share 📲 | Save 📥\\n\\n🔛Turn On Your Post Notifications🔔\\n\\n#coding #code_helping #coder #code #developer #webdeveloper #webdevelopment #python #pythonprogramming #frontend #backend #fullstackdeveloper #cse #bca #computerscience #computersciencestudent' accessibility_caption=None usertags=[] sponsor_tags=[] video_url=None view_count=0 video_duration=0.0 title='' resources=[Resource(pk='3496745792054290809', video_url=None, thumbnail_url=Url('https://instagram.fupg6-1.fna.fbcdn.net/v/t51.29350-15/466145771_3819525921620060_9163332971284063792_n.webp?stp=dst-jpg_e35_p1080x1080&efg=eyJ2ZW5jb2RlX3RhZyI6ImltYWdlX3VybGdlbi4xNDQweDE4MDAuc2RyLmYyOTM1MC5kZWZhdWx0X2ltYWdlIn0&_nc_ht=instagram.fupg6-1.fna.fbcdn.net&_nc_cat=108&_nc_ohc=Y9baZQdriz0Q7kNvgFFsoQv&_nc_gid=33b86d815f2e4ab6a0c54340447020e1&edm=AMKDjl4BAAAA&ccb=7-5&ig_cache_key=MzQ5Njc0NTc5MjA1NDI5MDgwOQ%3D%3D.3-ccb7-5&oh=00_AYAma5CjQ2yiSaH-JetwHAfrtz82ZXwG3rWLUy0t63KKoQ&oe=673E01A3&_nc_sid=472314'), media_type=1), Resource(pk='3496745792012443962', video_url=None, thumbnail_url=Url('https://instagram.fupg6-1.fna.fbcdn.net/v/t51.29350-15/466000031_1277511997329449_2582413222680528387_n.webp?stp=dst-jpg_e35_p1080x1080&efg=eyJ2ZW5jb2RlX3RhZyI6ImltYWdlX3VybGdlbi4xNDQweDE4MDAuc2RyLmYyOTM1MC5kZWZhdWx0X2ltYWdlIn0&_nc_ht=instagram.fupg6-1.fna.fbcdn.net&_nc_cat=105&_nc_ohc=_d61I3PRfVoQ7kNvgEAEszh&_nc_gid=33b86d815f2e4ab6a0c54340447020e1&edm=AMKDjl4BAAAA&ccb=7-5&ig_cache_key=MzQ5Njc0NTc5MjAxMjQ0Mzk2Mg%3D%3D.3-ccb7-5&oh=00_AYC3kmP4nrWNcY9mBK192Lagc06ukOliAgEa8jBgC-HPWA&oe=673DFA63&_nc_sid=472314'), media_type=1), Resource(pk='3496745791844770617', video_url=None, thumbnail_url=Url('https://instagram.fupg6-1.fna.fbcdn.net/v/t51.29350-15/465986385_3885521011666373_5273512897249813502_n.webp?stp=dst-jpg_e35_p1080x1080&efg=eyJ2ZW5jb2RlX3RhZyI6ImltYWdlX3VybGdlbi4xNDQweDE4MDAuc2RyLmYyOTM1MC5kZWZhdWx0X2ltYWdlIn0&_nc_ht=instagram.fupg6-1.fna.fbcdn.net&_nc_cat=105&_nc_ohc=4_Ci8furjyYQ7kNvgFdvQVF&_nc_gid=33b86d815f2e4ab6a0c54340447020e1&edm=AMKDjl4BAAAA&ccb=7-5&ig_cache_key=MzQ5Njc0NTc5MTg0NDc3MDYxNw%3D%3D.3-ccb7-5&oh=00_AYCt57eZ-wbA7xWcGIAZWAuSKNPFwMNV84pOeHyYPsbC2g&oe=673DEF68&_nc_sid=472314'), media_type=1), Resource(pk='3496745791802693910', video_url=None, thumbnail_url=Url('https://instagram.fupg6-1.fna.fbcdn.net/v/t51.29350-15/466365323_1516188745729598_455100706727715600_n.webp?stp=dst-jpg_e35_p1080x1080&efg=eyJ2ZW5jb2RlX3RhZyI6ImltYWdlX3VybGdlbi4xNDQweDE4MDAuc2RyLmYyOTM1MC5kZWZhdWx0X2ltYWdlIn0&_nc_ht=instagram.fupg6-1.fna.fbcdn.net&_nc_cat=102&_nc_ohc=88Aiwcf5WCAQ7kNvgGA3Lmk&_nc_gid=33b86d815f2e4ab6a0c54340447020e1&edm=AMKDjl4BAAAA&ccb=7-5&ig_cache_key=MzQ5Njc0NTc5MTgwMjY5MzkxMA%3D%3D.3-ccb7-5&oh=00_AYAX2PjW7LDMumdP2n2DzBbmYys1LUv6KzO3gdsFq55N2w&oe=673DD49D&_nc_sid=472314'), media_type=1), Resource(pk='3496745791936914519', video_url=None, thumbnail_url=Url('https://instagram.fupg6-1.fna.fbcdn.net/v/t51.29350-15/465973750_522222214061324_6699732194098178076_n.webp?stp=dst-jpg_e35_p1080x1080&efg=eyJ2ZW5jb2RlX3RhZyI6ImltYWdlX3VybGdlbi4xNDQweDE4MDAuc2RyLmYyOTM1MC5kZWZhdWx0X2ltYWdlIn0&_nc_ht=instagram.fupg6-1.fna.fbcdn.net&_nc_cat=108&_nc_ohc=KGd9BIIa2m0Q7kNvgEyx55m&_nc_gid=33b86d815f2e4ab6a0c54340447020e1&edm=AMKDjl4BAAAA&ccb=7-5&ig_cache_key=MzQ5Njc0NTc5MTkzNjkxNDUxOQ%3D%3D.3-ccb7-5&oh=00_AYB1VKpi99TL75m8c_SD3_Cvr96NJHgSDsJYSdTPAO_mxQ&oe=673DF502&_nc_sid=472314'), media_type=1), Resource(pk='3496745791819518600', video_url=None, thumbnail_url=Url('https://instagram.fupg6-1.fna.fbcdn.net/v/t51.29350-15/466077685_1335883181097085_9045387257953926313_n.webp?stp=dst-jpg_e35_p1080x1080&efg=eyJ2ZW5jb2RlX3RhZyI6ImltYWdlX3VybGdlbi4xNDQweDE4MDAuc2RyLmYyOTM1MC5kZWZhdWx0X2ltYWdlIn0&_nc_ht=instagram.fupg6-1.fna.fbcdn.net&_nc_cat=101&_nc_ohc=qfphalpqwUIQ7kNvgH7AEkD&_nc_gid=33b86d815f2e4ab6a0c54340447020e1&edm=AMKDjl4BAAAA&ccb=7-5&ig_cache_key=MzQ5Njc0NTc5MTgxOTUxODYwMA%3D%3D.3-ccb7-5&oh=00_AYATUgvzplqvCWv6mgAIefxav_1yY62amVmSIf_zaZbIXg&oe=673DE17F&_nc_sid=472314'), media_type=1), Resource(pk='3496745791811108041', video_url=None, thumbnail_url=Url('https://instagram.fupg6-1.fna.fbcdn.net/v/t51.29350-15/465810107_3890304467907049_7701387368023201151_n.webp?stp=dst-jpg_e35_p1080x1080&efg=eyJ2ZW5jb2RlX3RhZyI6ImltYWdlX3VybGdlbi4xNDQweDE4MDAuc2RyLmYyOTM1MC5kZWZhdWx0X2ltYWdlIn0&_nc_ht=instagram.fupg6-1.fna.fbcdn.net&_nc_cat=101&_nc_ohc=aEdYKVCUmvoQ7kNvgH-JtjW&_nc_gid=33b86d815f2e4ab6a0c54340447020e1&edm=AMKDjl4BAAAA&ccb=7-5&ig_cache_key=MzQ5Njc0NTc5MTgxMTEwODA0MQ%3D%3D.3-ccb7-5&oh=00_AYBlTlKvl0XIZqUsug9Yv6xpQALIfzxWSI4G3fvb3JIhOw&oe=673DFA58&_nc_sid=472314'), media_type=1)] clips_metadata={}\n"
     ]
    }
   ],
   "source": [
    "for h in hh: print(h)"
   ]
  },
  {
   "cell_type": "code",
   "execution_count": 64,
   "id": "7e8350a5-b407-47c3-9c85-16a73a1468f8",
   "metadata": {
    "execution": {
     "iopub.execute_input": "2024-11-16T04:29:53.578085Z",
     "iopub.status.busy": "2024-11-16T04:29:53.576046Z",
     "iopub.status.idle": "2024-11-16T04:29:53.594523Z",
     "shell.execute_reply": "2024-11-16T04:29:53.593512Z",
     "shell.execute_reply.started": "2024-11-16T04:29:53.578085Z"
    }
   },
   "outputs": [
    {
     "data": {
      "text/plain": [
       "{'pk': 3465651776788990625,\n",
       " 'id': '3465651776788990625_24898283344',\n",
       " 'code': 'DAYd-3etYqh',\n",
       " 'taken_at': datetime.datetime(2024, 9, 26, 13, 38, 27, tzinfo=TzInfo(UTC)),\n",
       " 'media_type': 8,\n",
       " 'image_versions2': {'candidates': [{'width': 1080,\n",
       "    'height': 1350,\n",
       "    'url': 'https://instagram.fupg6-1.fna.fbcdn.net/v/t39.30808-6/461338400_18056703889827345_1819914268318205074_n.webp?stp=dst-jpg_e35_p1080x1080_sh0.08&_nc_ht=instagram.fupg6-1.fna.fbcdn.net&_nc_cat=109&_nc_ohc=Z7UetIKZXtcQ7kNvgGFHsWq&_nc_gid=33b86d815f2e4ab6a0c54340447020e1&edm=AMKDjl4AAAAA&ccb=7-5&ig_cache_key=MzQ2NTY1MTc2NTY4MjUwNTE3Nw%3D%3D.3-ccb7-5&oh=00_AYCZ2LYuf_dkY8UudelCr7u3ORptnoA3nzYTZfs5jnR8TA&oe=673DF04C&_nc_sid=472314',\n",
       "    'scans_profile': ''},\n",
       "   {'width': 320,\n",
       "    'height': 400,\n",
       "    'url': 'https://instagram.fupg6-1.fna.fbcdn.net/v/t39.30808-6/461338400_18056703889827345_1819914268318205074_n.webp?stp=dst-jpg_e15_p320x320&_nc_ht=instagram.fupg6-1.fna.fbcdn.net&_nc_cat=109&_nc_ohc=Z7UetIKZXtcQ7kNvgGFHsWq&_nc_gid=33b86d815f2e4ab6a0c54340447020e1&edm=AMKDjl4AAAAA&ccb=7-5&ig_cache_key=MzQ2NTY1MTc2NTY4MjUwNTE3Nw%3D%3D.3-ccb7-5&oh=00_AYAZnm0T6Gltjl1xsbLlRhpS4wPMapPDCSInTY6m3OsiFA&oe=673DF04C&_nc_sid=472314',\n",
       "    'scans_profile': ''}]},\n",
       " 'product_type': 'carousel_container',\n",
       " 'thumbnail_url': None,\n",
       " 'location': None,\n",
       " 'user': {'pk': '24898283344',\n",
       "  'username': 'pythoncommunity_',\n",
       "  'full_name': 'Learn Python | Programmer 👨\\u200d💻',\n",
       "  'profile_pic_url': Url('https://instagram.fupg6-1.fna.fbcdn.net/v/t51.2885-19/149054091_839575986591251_7594902273466223575_n.jpg?stp=dst-jpg_e0_s150x150&_nc_ht=instagram.fupg6-1.fna.fbcdn.net&_nc_cat=111&_nc_ohc=g41m9UlhW30Q7kNvgEQLVFY&_nc_gid=33b86d815f2e4ab6a0c54340447020e1&edm=AMKDjl4BAAAA&ccb=7-5&oh=00_AYD05GsoX5wNygwyiIHDJOqWMZGV1ZjliA7MzdpOyMxWjQ&oe=673DE49B&_nc_sid=472314'),\n",
       "  'profile_pic_url_hd': None,\n",
       "  'is_private': False},\n",
       " 'comment_count': 74,\n",
       " 'comments_disabled': False,\n",
       " 'commenting_disabled_for_viewer': False,\n",
       " 'like_count': 3,\n",
       " 'play_count': 0,\n",
       " 'has_liked': False,\n",
       " 'caption_text': '......Save it & Share it 🚀 .... \\n\\nFollow @pythoncommunity_ for more!\\n.\\n#Computer #pythonprogramming #coders #datascience #codingbootcamp #web #engineering #developers #programmerlife #coderlife #daysofcode #artificialintelligence #android #codingmemes #robotics #design #developerlife #ai #stem #webdev #learntocode #website #dev #codingforkids #frontend #reactjs',\n",
       " 'accessibility_caption': None,\n",
       " 'usertags': [],\n",
       " 'sponsor_tags': [],\n",
       " 'video_url': None,\n",
       " 'view_count': 0,\n",
       " 'video_duration': 0.0,\n",
       " 'title': '',\n",
       " 'resources': [{'pk': '3465651765682505177',\n",
       "   'video_url': None,\n",
       "   'thumbnail_url': Url('https://instagram.fupg6-1.fna.fbcdn.net/v/t39.30808-6/461338400_18056703889827345_1819914268318205074_n.webp?stp=dst-webp_p1080x1080&efg=eyJ2ZW5jb2RlX3RhZyI6ImltYWdlX3VybGdlbi4xNDQweDE4MDAuc2RyLmYzMDgwOC5kZWZhdWx0X2ltYWdlIn0&_nc_ht=instagram.fupg6-1.fna.fbcdn.net&_nc_cat=109&_nc_ohc=Z7UetIKZXtcQ7kNvgGFHsWq&_nc_gid=33b86d815f2e4ab6a0c54340447020e1&edm=AMKDjl4AAAAA&ccb=7-5&ig_cache_key=MzQ2NTY1MTc2NTY4MjUwNTE3Nw%3D%3D.3-ccb7-5&oh=00_AYDeX0BiYSGGcFo1PyUBZdHpkL1OfbLK-wWN4grS0ZyWMA&oe=673DF04C&_nc_sid=472314'),\n",
       "   'media_type': 1},\n",
       "  {'pk': '3465651765699386081',\n",
       "   'video_url': None,\n",
       "   'thumbnail_url': Url('https://instagram.fupg6-1.fna.fbcdn.net/v/t39.30808-6/461437540_18056703898827345_7492227521998800137_n.webp?stp=dst-webp_p1080x1080&efg=eyJ2ZW5jb2RlX3RhZyI6ImltYWdlX3VybGdlbi4xNDQweDE4MDAuc2RyLmYzMDgwOC5kZWZhdWx0X2ltYWdlIn0&_nc_ht=instagram.fupg6-1.fna.fbcdn.net&_nc_cat=109&_nc_ohc=39naqzFwbpIQ7kNvgEeRENH&_nc_gid=33b86d815f2e4ab6a0c54340447020e1&edm=AMKDjl4AAAAA&ccb=7-5&ig_cache_key=MzQ2NTY1MTc2NTY5OTM4NjA4MQ%3D%3D.3-ccb7-5&oh=00_AYB6KNI4l7AaDmfDzwBsfgLNSche2LeYUOrGZYCTBkNAIw&oe=673DD2DD&_nc_sid=472314'),\n",
       "   'media_type': 1},\n",
       "  {'pk': '3465651765690777966',\n",
       "   'video_url': None,\n",
       "   'thumbnail_url': Url('https://instagram.fupg6-1.fna.fbcdn.net/v/t39.30808-6/461318851_18056703907827345_714229328096009134_n.webp?stp=dst-webp_p1080x1080&efg=eyJ2ZW5jb2RlX3RhZyI6ImltYWdlX3VybGdlbi4xNDQweDE4MDAuc2RyLmYzMDgwOC5kZWZhdWx0X2ltYWdlIn0&_nc_ht=instagram.fupg6-1.fna.fbcdn.net&_nc_cat=109&_nc_ohc=_X57qLM75EcQ7kNvgEOiByT&_nc_gid=33b86d815f2e4ab6a0c54340447020e1&edm=AMKDjl4AAAAA&ccb=7-5&ig_cache_key=MzQ2NTY1MTc2NTY5MDc3Nzk2Ng%3D%3D.3-ccb7-5&oh=00_AYAxITlm8bewhO7H1zKntHFV5_gGMwqjtzIC00KTYYTadA&oe=673E0AE1&_nc_sid=472314'),\n",
       "   'media_type': 1},\n",
       "  {'pk': '3465651765833572878',\n",
       "   'video_url': None,\n",
       "   'thumbnail_url': Url('https://instagram.fupg6-1.fna.fbcdn.net/v/t39.30808-6/461444392_18056703916827345_6451969566607538663_n.webp?stp=dst-webp_p1080x1080&efg=eyJ2ZW5jb2RlX3RhZyI6ImltYWdlX3VybGdlbi4xNDQweDE4MDAuc2RyLmYzMDgwOC5kZWZhdWx0X2ltYWdlIn0&_nc_ht=instagram.fupg6-1.fna.fbcdn.net&_nc_cat=109&_nc_ohc=ZRduwloRIGkQ7kNvgHj-O9y&_nc_gid=33b86d815f2e4ab6a0c54340447020e1&edm=AMKDjl4AAAAA&ccb=7-5&ig_cache_key=MzQ2NTY1MTc2NTgzMzU3Mjg3OA%3D%3D.3-ccb7-5&oh=00_AYBECK7JZwUooY8sEwv2srgdXg9NIh9NCy87PV65tUoH3g&oe=673DE7A3&_nc_sid=472314'),\n",
       "   'media_type': 1},\n",
       "  {'pk': '3465651765523172257',\n",
       "   'video_url': None,\n",
       "   'thumbnail_url': Url('https://instagram.fupg6-1.fna.fbcdn.net/v/t39.30808-6/461514718_18056703925827345_1696015617951229262_n.webp?stp=dst-webp_p1080x1080&efg=eyJ2ZW5jb2RlX3RhZyI6ImltYWdlX3VybGdlbi4xNDQweDE4MDAuc2RyLmYzMDgwOC5kZWZhdWx0X2ltYWdlIn0&_nc_ht=instagram.fupg6-1.fna.fbcdn.net&_nc_cat=109&_nc_ohc=zBFH5k9weEQQ7kNvgHONKrX&_nc_gid=33b86d815f2e4ab6a0c54340447020e1&edm=AMKDjl4AAAAA&ccb=7-5&ig_cache_key=MzQ2NTY1MTc2NTUyMzE3MjI1Nw%3D%3D.3-ccb7-5&oh=00_AYCXzI0J61KuqqiMnvv7LGE0heAFzCKReJdN3WJpqi92KQ&oe=673DF040&_nc_sid=472314'),\n",
       "   'media_type': 1},\n",
       "  {'pk': '3465651765531609283',\n",
       "   'video_url': None,\n",
       "   'thumbnail_url': Url('https://instagram.fupg6-1.fna.fbcdn.net/v/t39.30808-6/461316875_18056703934827345_6666459341441935174_n.webp?stp=dst-webp_p1080x1080&efg=eyJ2ZW5jb2RlX3RhZyI6ImltYWdlX3VybGdlbi4xNDQweDE4MDAuc2RyLmYzMDgwOC5kZWZhdWx0X2ltYWdlIn0&_nc_ht=instagram.fupg6-1.fna.fbcdn.net&_nc_cat=109&_nc_ohc=gLuAU4yLEtAQ7kNvgE8X8k_&_nc_gid=33b86d815f2e4ab6a0c54340447020e1&edm=AMKDjl4AAAAA&ccb=7-5&ig_cache_key=MzQ2NTY1MTc2NTUzMTYwOTI4Mw%3D%3D.3-ccb7-5&oh=00_AYAn-u6gA6VRP4pT5HrrEDkcMgDrTP7D9jPsLhaDsOn5Sw&oe=673DFEF7&_nc_sid=472314'),\n",
       "   'media_type': 1},\n",
       "  {'pk': '3465651765531512245',\n",
       "   'video_url': None,\n",
       "   'thumbnail_url': Url('https://instagram.fupg6-1.fna.fbcdn.net/v/t39.30808-6/461405284_18056703943827345_8677392368594393743_n.webp?stp=dst-webp_p1080x1080&efg=eyJ2ZW5jb2RlX3RhZyI6ImltYWdlX3VybGdlbi4xNDQweDE4MDAuc2RyLmYzMDgwOC5kZWZhdWx0X2ltYWdlIn0&_nc_ht=instagram.fupg6-1.fna.fbcdn.net&_nc_cat=109&_nc_ohc=_GuiFJpnM38Q7kNvgFzSlMC&_nc_gid=33b86d815f2e4ab6a0c54340447020e1&edm=AMKDjl4AAAAA&ccb=7-5&ig_cache_key=MzQ2NTY1MTc2NTUzMTUxMjI0NQ%3D%3D.3-ccb7-5&oh=00_AYDBfbhsOvRJ4piFwe0cDqcRAWmFappWq4viHEUWI8m8aQ&oe=673DF151&_nc_sid=472314'),\n",
       "   'media_type': 1},\n",
       "  {'pk': '3465651765523032516',\n",
       "   'video_url': None,\n",
       "   'thumbnail_url': Url('https://instagram.fupg6-1.fna.fbcdn.net/v/t39.30808-6/461266487_18056703952827345_4088915384150288826_n.webp?stp=dst-webp_p1080x1080&efg=eyJ2ZW5jb2RlX3RhZyI6ImltYWdlX3VybGdlbi4xNDQweDE4MDAuc2RyLmYzMDgwOC5kZWZhdWx0X2ltYWdlIn0&_nc_ht=instagram.fupg6-1.fna.fbcdn.net&_nc_cat=109&_nc_ohc=yeijoyOr4wkQ7kNvgFdzQYD&_nc_gid=33b86d815f2e4ab6a0c54340447020e1&edm=AMKDjl4AAAAA&ccb=7-5&ig_cache_key=MzQ2NTY1MTc2NTUyMzAzMjUxNg%3D%3D.3-ccb7-5&oh=00_AYCJHAf0eejaWpo4g2hpB5bKxNPMUNaDYX3rFyDccTagYQ&oe=673DF3A8&_nc_sid=472314'),\n",
       "   'media_type': 1},\n",
       "  {'pk': '3465651765531421030',\n",
       "   'video_url': None,\n",
       "   'thumbnail_url': Url('https://instagram.fupg6-1.fna.fbcdn.net/v/t39.30808-6/461261715_18056703961827345_2805899503817571738_n.webp?stp=dst-webp_p1080x1080&efg=eyJ2ZW5jb2RlX3RhZyI6ImltYWdlX3VybGdlbi4xNDQweDE4MDAuc2RyLmYzMDgwOC5kZWZhdWx0X2ltYWdlIn0&_nc_ht=instagram.fupg6-1.fna.fbcdn.net&_nc_cat=109&_nc_ohc=PSH_ASYGgaQQ7kNvgFSA1Bg&_nc_gid=33b86d815f2e4ab6a0c54340447020e1&edm=AMKDjl4AAAAA&ccb=7-5&ig_cache_key=MzQ2NTY1MTc2NTUzMTQyMTAzMA%3D%3D.3-ccb7-5&oh=00_AYB6fSyqKfDn8V7ra0Q9yEB9KA5kC7pizTqwBHFMzFzWcg&oe=673DF9B0&_nc_sid=472314'),\n",
       "   'media_type': 1},\n",
       "  {'pk': '3465651765690902535',\n",
       "   'video_url': None,\n",
       "   'thumbnail_url': Url('https://instagram.fupg6-1.fna.fbcdn.net/v/t39.30808-6/461327536_18056703970827345_1625686490508125773_n.webp?efg=eyJ2ZW5jb2RlX3RhZyI6ImltYWdlX3VybGdlbi4xMDgweDEzNTAuc2RyLmYzMDgwOC5kZWZhdWx0X2ltYWdlIn0&_nc_ht=instagram.fupg6-1.fna.fbcdn.net&_nc_cat=109&_nc_ohc=OBZoF1Dm4xYQ7kNvgGKSeaD&_nc_gid=33b86d815f2e4ab6a0c54340447020e1&edm=AMKDjl4AAAAA&ccb=7-5&ig_cache_key=MzQ2NTY1MTc2NTY5MDkwMjUzNQ%3D%3D.3-ccb7-5&oh=00_AYB7Y9-v71NMQYEnUaz9RjBqLMpQ68PQ0McL0-1fVVA1RQ&oe=673DEC5C&_nc_sid=472314'),\n",
       "   'media_type': 1}],\n",
       " 'clips_metadata': {}}"
      ]
     },
     "execution_count": 64,
     "metadata": {},
     "output_type": "execute_result"
    }
   ],
   "source": [
    "hh[0].model_dump()"
   ]
  },
  {
   "cell_type": "code",
   "execution_count": 62,
   "id": "ccc6c479-85fb-44cf-8fce-21d84738c267",
   "metadata": {
    "execution": {
     "iopub.execute_input": "2024-11-16T04:27:17.539978Z",
     "iopub.status.busy": "2024-11-16T04:27:17.539978Z",
     "iopub.status.idle": "2024-11-16T04:27:17.551515Z",
     "shell.execute_reply": "2024-11-16T04:27:17.550500Z",
     "shell.execute_reply.started": "2024-11-16T04:27:17.539978Z"
    }
   },
   "outputs": [
    {
     "data": {
      "text/plain": [
       "'3496745803269854504_56934835873'"
      ]
     },
     "execution_count": 62,
     "metadata": {},
     "output_type": "execute_result"
    }
   ],
   "source": [
    "hh[8].id"
   ]
  },
  {
   "cell_type": "code",
   "execution_count": 63,
   "id": "f95fe075-cce5-4c53-84ce-307e5a38ba00",
   "metadata": {
    "execution": {
     "iopub.execute_input": "2024-11-16T04:27:25.844416Z",
     "iopub.status.busy": "2024-11-16T04:27:25.843413Z",
     "iopub.status.idle": "2024-11-16T04:27:25.853386Z",
     "shell.execute_reply": "2024-11-16T04:27:25.852370Z",
     "shell.execute_reply.started": "2024-11-16T04:27:25.844416Z"
    }
   },
   "outputs": [
    {
     "data": {
      "text/plain": [
       "3496745803269854504"
      ]
     },
     "execution_count": 63,
     "metadata": {},
     "output_type": "execute_result"
    }
   ],
   "source": [
    "hh[8].pk"
   ]
  },
  {
   "cell_type": "code",
   "execution_count": 20,
   "id": "34a084bc-4d6b-47d5-af6c-d4626bb7da2d",
   "metadata": {
    "execution": {
     "iopub.execute_input": "2024-11-16T03:25:11.368969Z",
     "iopub.status.busy": "2024-11-16T03:25:11.367950Z",
     "iopub.status.idle": "2024-11-16T03:25:11.378846Z",
     "shell.execute_reply": "2024-11-16T03:25:11.377265Z",
     "shell.execute_reply.started": "2024-11-16T03:25:11.368969Z"
    }
   },
   "outputs": [
    {
     "data": {
      "text/plain": [
       "'ahmettcakirrofficial'"
      ]
     },
     "execution_count": 20,
     "metadata": {},
     "output_type": "execute_result"
    }
   ],
   "source": [
    "hh[8].user.username"
   ]
  },
  {
   "cell_type": "code",
   "execution_count": 21,
   "id": "b092a528-73f1-4cf9-a8c2-f1dbd3e9668a",
   "metadata": {
    "execution": {
     "iopub.execute_input": "2024-11-16T03:37:18.854696Z",
     "iopub.status.busy": "2024-11-16T03:37:18.853696Z",
     "iopub.status.idle": "2024-11-16T03:37:18.864136Z",
     "shell.execute_reply": "2024-11-16T03:37:18.862128Z",
     "shell.execute_reply.started": "2024-11-16T03:37:18.854696Z"
    }
   },
   "outputs": [
    {
     "data": {
      "text/plain": [
       "'3498265561270394201_52266248537'"
      ]
     },
     "execution_count": 21,
     "metadata": {},
     "output_type": "execute_result"
    }
   ],
   "source": [
    "hasthag[8].id"
   ]
  },
  {
   "cell_type": "code",
   "execution_count": 22,
   "id": "5cd37bdb-e919-485c-bcb2-db354e75632b",
   "metadata": {
    "execution": {
     "iopub.execute_input": "2024-11-16T03:37:26.865336Z",
     "iopub.status.busy": "2024-11-16T03:37:26.863825Z",
     "iopub.status.idle": "2024-11-16T03:37:26.878966Z",
     "shell.execute_reply": "2024-11-16T03:37:26.876953Z",
     "shell.execute_reply.started": "2024-11-16T03:37:26.865336Z"
    }
   },
   "outputs": [
    {
     "data": {
      "text/plain": [
       "3498265561270394201"
      ]
     },
     "execution_count": 22,
     "metadata": {},
     "output_type": "execute_result"
    }
   ],
   "source": [
    "hasthag[8].pk"
   ]
  },
  {
   "cell_type": "code",
   "execution_count": 23,
   "id": "703547a2-72be-4c02-957f-d31dafdefc17",
   "metadata": {
    "execution": {
     "iopub.execute_input": "2024-11-16T03:37:35.152409Z",
     "iopub.status.busy": "2024-11-16T03:37:35.151406Z",
     "iopub.status.idle": "2024-11-16T03:37:35.162956Z",
     "shell.execute_reply": "2024-11-16T03:37:35.161944Z",
     "shell.execute_reply.started": "2024-11-16T03:37:35.152409Z"
    }
   },
   "outputs": [
    {
     "data": {
      "text/plain": [
       "'DCMVf5NgR1Z'"
      ]
     },
     "execution_count": 23,
     "metadata": {},
     "output_type": "execute_result"
    }
   ],
   "source": [
    "hasthag[8].code"
   ]
  },
  {
   "cell_type": "code",
   "execution_count": 31,
   "id": "775b2fa0-8956-4811-baf0-0f322b21695f",
   "metadata": {
    "execution": {
     "iopub.execute_input": "2024-11-16T03:44:47.177544Z",
     "iopub.status.busy": "2024-11-16T03:44:47.175942Z",
     "iopub.status.idle": "2024-11-16T03:44:47.185606Z",
     "shell.execute_reply": "2024-11-16T03:44:47.184590Z",
     "shell.execute_reply.started": "2024-11-16T03:44:47.177544Z"
    }
   },
   "outputs": [],
   "source": [
    "pk_ = cl.media_pk_from_url('https://www.instagram.com/p/DCZClRNhC3p/')"
   ]
  },
  {
   "cell_type": "code",
   "execution_count": 32,
   "id": "6109180c-d197-493d-a6a1-6f495739eb73",
   "metadata": {
    "execution": {
     "iopub.execute_input": "2024-11-16T03:44:50.400043Z",
     "iopub.status.busy": "2024-11-16T03:44:50.399047Z",
     "iopub.status.idle": "2024-11-16T03:44:50.408389Z",
     "shell.execute_reply": "2024-11-16T03:44:50.407373Z",
     "shell.execute_reply.started": "2024-11-16T03:44:50.400043Z"
    }
   },
   "outputs": [
    {
     "data": {
      "text/plain": [
       "3501841542451310057"
      ]
     },
     "execution_count": 32,
     "metadata": {},
     "output_type": "execute_result"
    }
   ],
   "source": [
    "pk_"
   ]
  },
  {
   "cell_type": "code",
   "execution_count": 33,
   "id": "43e2e3c4-50ec-41cf-b2ab-7bd596d308f5",
   "metadata": {
    "execution": {
     "iopub.execute_input": "2024-11-16T03:44:50.995809Z",
     "iopub.status.busy": "2024-11-16T03:44:50.994813Z",
     "iopub.status.idle": "2024-11-16T03:45:00.637198Z",
     "shell.execute_reply": "2024-11-16T03:45:00.635169Z",
     "shell.execute_reply.started": "2024-11-16T03:44:50.995809Z"
    }
   },
   "outputs": [],
   "source": [
    "info_posting = cl.media_info(pk_)"
   ]
  },
  {
   "cell_type": "code",
   "execution_count": 34,
   "id": "d4310b95-82ea-4a19-948a-9247ba59e86b",
   "metadata": {
    "execution": {
     "iopub.execute_input": "2024-11-16T03:45:00.640222Z",
     "iopub.status.busy": "2024-11-16T03:45:00.639193Z",
     "iopub.status.idle": "2024-11-16T03:45:00.656733Z",
     "shell.execute_reply": "2024-11-16T03:45:00.655721Z",
     "shell.execute_reply.started": "2024-11-16T03:45:00.640222Z"
    }
   },
   "outputs": [
    {
     "data": {
      "text/plain": [
       "{'pk': 3501841542451310057,\n",
       " 'id': '3501841542451310057_1994292927',\n",
       " 'code': 'DCZClRNhC3p',\n",
       " 'taken_at': datetime.datetime(2024, 11, 15, 12, 1, 4, tzinfo=TzInfo(UTC)),\n",
       " 'media_type': 1,\n",
       " 'image_versions2': {'candidates': [{'width': 1080,\n",
       "    'height': 1350,\n",
       "    'url': 'https://instagram.fupg6-1.fna.fbcdn.net/v/t39.30808-6/466854835_877992521110522_6022432412753393395_n.jpg?se=7&stp=dst-jpg_e35&efg=eyJ2ZW5jb2RlX3RhZyI6ImltYWdlX3VybGdlbi4xMDgweDEzNTAuc2RyLmYzMDgwOC5kZWZhdWx0X2ltYWdlIn0&_nc_ht=instagram.fupg6-1.fna.fbcdn.net&_nc_cat=1&_nc_ohc=hr1Q-WGdJBEQ7kNvgGKYEpy&_nc_gid=6c16e42c951b4730a6bd9a11d10fd4f5&edm=ALQROFkAAAAA&ccb=7-5&ig_cache_key=MzUwMTg0MTU0MjQ1MTMxMDA1Nw%3D%3D.3-ccb7-5&oh=00_AYCetF4dpy1LYyRRXLQVUTqvNiNpxXCScPHzeMBIeOkzeA&oe=673DCF57&_nc_sid=fc8dfb',\n",
       "    'scans_profile': 'e35',\n",
       "    'estimated_scans_sizes': [31064,\n",
       "     62129,\n",
       "     93194,\n",
       "     124259,\n",
       "     155324,\n",
       "     173807,\n",
       "     221176,\n",
       "     251378,\n",
       "     279584]},\n",
       "   {'width': 360,\n",
       "    'height': 450,\n",
       "    'url': 'https://instagram.fupg6-1.fna.fbcdn.net/v/t39.30808-6/466854835_877992521110522_6022432412753393395_n.jpg?stp=dst-jpg_e35_p360x360&efg=eyJ2ZW5jb2RlX3RhZyI6ImltYWdlX3VybGdlbi4xMDgweDEzNTAuc2RyLmYzMDgwOC5kZWZhdWx0X2ltYWdlIn0&_nc_ht=instagram.fupg6-1.fna.fbcdn.net&_nc_cat=1&_nc_ohc=hr1Q-WGdJBEQ7kNvgGKYEpy&_nc_gid=6c16e42c951b4730a6bd9a11d10fd4f5&edm=ALQROFkAAAAA&ccb=7-5&ig_cache_key=MzUwMTg0MTU0MjQ1MTMxMDA1Nw%3D%3D.3-ccb7-5&oh=00_AYCIvcCSCxnBLbs6dYj34BoyEvzWgnFChAzXbiqPxs2KbA&oe=673DCF57&_nc_sid=fc8dfb',\n",
       "    'scans_profile': 'e35',\n",
       "    'estimated_scans_sizes': [4239,\n",
       "     8479,\n",
       "     12718,\n",
       "     16958,\n",
       "     21197,\n",
       "     25521,\n",
       "     736498,\n",
       "     38156,\n",
       "     38156]}]},\n",
       " 'product_type': 'feed',\n",
       " 'thumbnail_url': Url('https://instagram.fupg6-1.fna.fbcdn.net/v/t39.30808-6/466854835_877992521110522_6022432412753393395_n.jpg?se=7&stp=dst-jpg_e35&efg=eyJ2ZW5jb2RlX3RhZyI6ImltYWdlX3VybGdlbi4xMDgweDEzNTAuc2RyLmYzMDgwOC5kZWZhdWx0X2ltYWdlIn0&_nc_ht=instagram.fupg6-1.fna.fbcdn.net&_nc_cat=1&_nc_ohc=hr1Q-WGdJBEQ7kNvgGKYEpy&_nc_gid=6c16e42c951b4730a6bd9a11d10fd4f5&edm=ALQROFkAAAAA&ccb=7-5&ig_cache_key=MzUwMTg0MTU0MjQ1MTMxMDA1Nw%3D%3D.3-ccb7-5&oh=00_AYCetF4dpy1LYyRRXLQVUTqvNiNpxXCScPHzeMBIeOkzeA&oe=673DCF57&_nc_sid=fc8dfb'),\n",
       " 'location': None,\n",
       " 'user': {'pk': '1994292927',\n",
       "  'username': 'indozone.id',\n",
       "  'full_name': 'INDOZONE - #KAMUHARUSTAU',\n",
       "  'profile_pic_url': Url('https://instagram.fupg6-1.fna.fbcdn.net/v/t51.2885-19/326005972_139552698946478_467721743645263209_n.jpg?stp=dst-jpg_e0_s150x150&_nc_ht=instagram.fupg6-1.fna.fbcdn.net&_nc_cat=1&_nc_ohc=bF6HILEplhgQ7kNvgGaDcPP&_nc_gid=6c16e42c951b4730a6bd9a11d10fd4f5&edm=ALQROFkBAAAA&ccb=7-5&oh=00_AYBpA8gE82rv_2Wk6M39Zsp-0stF-j6Ug8nXOP6aLFTMBA&oe=673DF1C0&_nc_sid=fc8dfb'),\n",
       "  'profile_pic_url_hd': None,\n",
       "  'is_private': False},\n",
       " 'comment_count': 308,\n",
       " 'comments_disabled': False,\n",
       " 'commenting_disabled_for_viewer': False,\n",
       " 'like_count': 13462,\n",
       " 'play_count': 0,\n",
       " 'has_liked': False,\n",
       " 'caption_text': 'Masyarakat Transportasi Indonesia (MTI) Pusat mengusulkan agar pemerintah bersama Kepolisian berkoordinasi untuk membuka sekolah mengemudi bagi calon pengemudi angkutan umum, khususnya bus dan truk.\\n\\nUsulan ini dinilai dapat menjadi strategi agar calon pengemudi mendapatkan pendidikan dan pelatihan (diklat) sebelum mengendarai kendaraan umum sehingga tak abai pada aturan teknis keselamatan angkutan jalan.\\n\\n\"Sopir angkutan darat (mobil, bus dan truk) tidak ada sekolahnya dan tidak melewati pendidikan dan latihan (Diklat),\" kata Wakil Ketua Pemberdayaan dan Penguatan Wilayah MTI Pusat Djoko Setijowarno menyadur ANTARA.\\n\\nMenurutnya, selama ini, untuk dapat mengendarai bus dan truk, calon pengemudi cukup melalui magang menjadi kernet, dimulai dari memarkir kendaraan dan cuci kendaraan.\\n\\nSetelah bisa memarkir kendaraan, dia kemudian diminta mencoba menjalankan truk/bus dalam jarak terbatas dan seterusnya.\\n\\nDjoko mengatakan, cara ini harus segera diakhiri. Karena itu, pemerintah dapat memulai membuat sekolah mengemudi untuk calon pengemudi angkutan umum.\\n\\nHal ini, kata dia, sesuai dengan amanah dalam Pasal 77 ayat 4 Undang-Undang Nomor 22 Tahun 2009 tentang Lalu Lintas dan Angkutan Jalan yang menyebutkan bahwa untuk mendapatkan Surat Izin Mengemudi Kendaraan Bermotor Umum, calon pengemudi wajib mengikuti pendidikan dan pelatihan pengemudi angkutan umum.\\n\\nSetelah ada sekolah mengemudi untuk calon pengemudi truk dan bus, maka semua calon pengemudi wajib mengikuti sekolah mengemudi dulu sebelum memperoleh SIM (Surat Ijin Mengemudi).\\n\\nSIM hanya dapat diberikan kepada mereka yang sudah lulus mengikuti sekolah mengemudi. Sedangkan bagi mereka yang sudah punya SIM dan selama ini sudah menjalankan truk, wajib mengikuti diklat minimal satu minggu untuk memahami aspek keselamatan dan perilaku berlalu lintas yang beradab.\\n\\nPeraturan Daerah DKI Jakarta Nomor 5 Tahun 2014 tentang Transportasi sebenarnya telah menetapkan calon pengemudi angkutan umum minimal berusia 22 tahun dan berpendidikan minimal sekolah menengah tingkat atas (SMTA).\\n\\nPhoto: Ilustrasi/ANTARA FOTO/Didik Suhartono\\n\\n[Baca berita dan informasi menarik lainnya hanya di www.indozone.id]',\n",
       " 'accessibility_caption': None,\n",
       " 'usertags': [],\n",
       " 'sponsor_tags': [],\n",
       " 'video_url': None,\n",
       " 'view_count': 0,\n",
       " 'video_duration': 0.0,\n",
       " 'title': '',\n",
       " 'resources': [],\n",
       " 'clips_metadata': {}}"
      ]
     },
     "execution_count": 34,
     "metadata": {},
     "output_type": "execute_result"
    }
   ],
   "source": [
    "info_posting.model_dump()"
   ]
  },
  {
   "cell_type": "code",
   "execution_count": 35,
   "id": "721b8f91-c946-4489-ac1e-53528bf845da",
   "metadata": {
    "execution": {
     "iopub.execute_input": "2024-11-16T03:46:57.675095Z",
     "iopub.status.busy": "2024-11-16T03:46:57.674097Z",
     "iopub.status.idle": "2024-11-16T03:46:59.173229Z",
     "shell.execute_reply": "2024-11-16T03:46:59.170219Z",
     "shell.execute_reply.started": "2024-11-16T03:46:57.675095Z"
    }
   },
   "outputs": [],
   "source": [
    "sender = cl.media_user(pk_)"
   ]
  },
  {
   "cell_type": "code",
   "execution_count": 36,
   "id": "9c060ae5-b461-47f9-9cb5-56ff519c0e37",
   "metadata": {
    "execution": {
     "iopub.execute_input": "2024-11-16T03:47:02.396285Z",
     "iopub.status.busy": "2024-11-16T03:47:02.396285Z",
     "iopub.status.idle": "2024-11-16T03:47:02.408277Z",
     "shell.execute_reply": "2024-11-16T03:47:02.407263Z",
     "shell.execute_reply.started": "2024-11-16T03:47:02.396285Z"
    }
   },
   "outputs": [
    {
     "data": {
      "text/plain": [
       "{'pk': '1994292927',\n",
       " 'username': 'indozone.id',\n",
       " 'full_name': 'INDOZONE - #KAMUHARUSTAU',\n",
       " 'profile_pic_url': Url('https://instagram.fupg6-1.fna.fbcdn.net/v/t51.2885-19/326005972_139552698946478_467721743645263209_n.jpg?stp=dst-jpg_e0_s150x150&_nc_ht=instagram.fupg6-1.fna.fbcdn.net&_nc_cat=1&_nc_ohc=bF6HILEplhgQ7kNvgGaDcPP&_nc_gid=c9f8ff9fec674ab7a7ac8ffd90a97ad8&edm=ALQROFkBAAAA&ccb=7-5&oh=00_AYAYf-RQkLvSqddhaNzO0nnBMmguK-TY9bPn9ixKLoz-qg&oe=673DF1C0&_nc_sid=fc8dfb'),\n",
       " 'profile_pic_url_hd': None,\n",
       " 'is_private': False}"
      ]
     },
     "execution_count": 36,
     "metadata": {},
     "output_type": "execute_result"
    }
   ],
   "source": [
    "sender.model_dump()"
   ]
  },
  {
   "cell_type": "code",
   "execution_count": 37,
   "id": "6526062e-35f2-4c07-b1dc-010fa52e0969",
   "metadata": {
    "execution": {
     "iopub.execute_input": "2024-11-16T03:55:55.534712Z",
     "iopub.status.busy": "2024-11-16T03:55:55.533203Z",
     "iopub.status.idle": "2024-11-16T03:55:55.542244Z",
     "shell.execute_reply": "2024-11-16T03:55:55.540229Z",
     "shell.execute_reply.started": "2024-11-16T03:55:55.534712Z"
    }
   },
   "outputs": [],
   "source": [
    "id_ = info_posting.id"
   ]
  },
  {
   "cell_type": "code",
   "execution_count": 57,
   "id": "3448db28-bdf2-45e0-9dca-86afae1cf11a",
   "metadata": {
    "execution": {
     "iopub.execute_input": "2024-11-16T04:09:05.345434Z",
     "iopub.status.busy": "2024-11-16T04:09:05.344439Z",
     "iopub.status.idle": "2024-11-16T04:09:05.353086Z",
     "shell.execute_reply": "2024-11-16T04:09:05.351072Z",
     "shell.execute_reply.started": "2024-11-16T04:09:05.345434Z"
    },
    "jupyter": {
     "source_hidden": true
    }
   },
   "outputs": [],
   "source": [
    "#id_"
   ]
  },
  {
   "cell_type": "code",
   "execution_count": 56,
   "id": "dc47cb97-014e-4048-8c03-c6dc573e7af9",
   "metadata": {
    "execution": {
     "iopub.execute_input": "2024-11-16T04:09:02.944298Z",
     "iopub.status.busy": "2024-11-16T04:09:02.943303Z",
     "iopub.status.idle": "2024-11-16T04:09:02.952903Z",
     "shell.execute_reply": "2024-11-16T04:09:02.949886Z",
     "shell.execute_reply.started": "2024-11-16T04:09:02.944298Z"
    },
    "jupyter": {
     "source_hidden": true
    }
   },
   "outputs": [],
   "source": [
    "#cl.media_like(id_)"
   ]
  },
  {
   "cell_type": "code",
   "execution_count": 43,
   "id": "73657e33-8002-4de3-a360-640a8ef90b05",
   "metadata": {
    "execution": {
     "iopub.execute_input": "2024-11-16T04:01:55.007064Z",
     "iopub.status.busy": "2024-11-16T04:01:55.005555Z",
     "iopub.status.idle": "2024-11-16T04:01:59.383146Z",
     "shell.execute_reply": "2024-11-16T04:01:59.380128Z",
     "shell.execute_reply.started": "2024-11-16T04:01:55.007064Z"
    },
    "jupyter": {
     "source_hidden": true
    }
   },
   "outputs": [],
   "source": [
    "#daftar_komentar = cl.media_comments(id_)"
   ]
  },
  {
   "cell_type": "code",
   "execution_count": 54,
   "id": "5cb8027f-1e98-4dc5-8a64-2ffaaabf32d3",
   "metadata": {
    "execution": {
     "iopub.execute_input": "2024-11-16T04:08:49.956482Z",
     "iopub.status.busy": "2024-11-16T04:08:49.954488Z",
     "iopub.status.idle": "2024-11-16T04:08:49.964053Z",
     "shell.execute_reply": "2024-11-16T04:08:49.962525Z",
     "shell.execute_reply.started": "2024-11-16T04:08:49.956482Z"
    },
    "jupyter": {
     "source_hidden": true
    }
   },
   "outputs": [],
   "source": [
    "#daftar_komentar[0].model_dump()"
   ]
  },
  {
   "cell_type": "code",
   "execution_count": 55,
   "id": "38780b90-cac5-411a-b7c1-75e398476a9a",
   "metadata": {
    "execution": {
     "iopub.execute_input": "2024-11-16T04:08:55.933644Z",
     "iopub.status.busy": "2024-11-16T04:08:55.932649Z",
     "iopub.status.idle": "2024-11-16T04:08:55.940657Z",
     "shell.execute_reply": "2024-11-16T04:08:55.939143Z",
     "shell.execute_reply.started": "2024-11-16T04:08:55.933644Z"
    },
    "jupyter": {
     "source_hidden": true
    }
   },
   "outputs": [],
   "source": [
    "#len(daftar_komentar)"
   ]
  },
  {
   "cell_type": "code",
   "execution_count": 48,
   "id": "5eda5938-cb14-472c-8ad3-22d85b6da56e",
   "metadata": {
    "execution": {
     "iopub.execute_input": "2024-11-16T04:03:37.235913Z",
     "iopub.status.busy": "2024-11-16T04:03:37.234903Z",
     "iopub.status.idle": "2024-11-16T04:04:18.641248Z",
     "shell.execute_reply": "2024-11-16T04:04:18.639233Z",
     "shell.execute_reply.started": "2024-11-16T04:03:37.235913Z"
    }
   },
   "outputs": [],
   "source": [
    "lihat_komentar_semua = cl.media_comments(id_, amount=0)"
   ]
  },
  {
   "cell_type": "code",
   "execution_count": 50,
   "id": "086fcb66-8091-42b5-95a1-dd42b664cffc",
   "metadata": {
    "execution": {
     "iopub.execute_input": "2024-11-16T04:04:32.363808Z",
     "iopub.status.busy": "2024-11-16T04:04:32.361698Z",
     "iopub.status.idle": "2024-11-16T04:04:32.375379Z",
     "shell.execute_reply": "2024-11-16T04:04:32.373368Z",
     "shell.execute_reply.started": "2024-11-16T04:04:32.363808Z"
    },
    "jupyter": {
     "source_hidden": true
    }
   },
   "outputs": [
    {
     "data": {
      "text/plain": [
       "309"
      ]
     },
     "execution_count": 50,
     "metadata": {},
     "output_type": "execute_result"
    }
   ],
   "source": [
    "len(lihat_komentar_semua)"
   ]
  },
  {
   "cell_type": "code",
   "execution_count": 53,
   "id": "11dd30cd-a436-4857-9f8e-b3f048846645",
   "metadata": {
    "execution": {
     "iopub.execute_input": "2024-11-16T04:06:56.097041Z",
     "iopub.status.busy": "2024-11-16T04:06:56.096043Z",
     "iopub.status.idle": "2024-11-16T04:06:56.115675Z",
     "shell.execute_reply": "2024-11-16T04:06:56.113674Z",
     "shell.execute_reply.started": "2024-11-16T04:06:56.097041Z"
    }
   },
   "outputs": [
    {
     "name": "stdout",
     "output_type": "stream",
     "text": [
      "portobellohijab ||| Sekalian aja bu SMK jurusan menyetir kendaraan😂\n",
      "mansur.effendy ||| Gak kursus mengemudi aja jalan nya di lajur kanan, kalo kursus seperti di legalkan jalur kanan, coba liat yang belajar mengemudi posisi mobil semuanya di jalur kanan, karena gak mau repot bentar bentar berhenti, jadi anteng di jalur kanan. Lihat hasilnya kebanyakan di jalan tol mobil anteng di jalur kanan . Mohon petugas patroli wajib mengarahkan mereka ke jalur yang benar\n",
      "asepsaepulkomara ||| Lah sekarang kan untuk bisa jadi driver di perusahaan tertentu biasa nya suka di masukan dulu sekolah di hino selama beberapa hari ,kecuali perusahaan yg medit dan asal2'an nerima driver !!\n",
      "pudyastutiendang ||| Setuju bgt ..👍🏻\n",
      "ronny_on ||| Setuju POOOLLLLL , biar bisa baca TRUK DAN BUS GUNAKAN LAJUR KIRI!!!!!!\n",
      "wahyu_lumik ||| Gurunya nyonya Puff\n",
      "ranihayati81 ||| 😢\n",
      "ranihayati81 ||| 😢\n",
      "arif.munandar ||| Setuju karna menuntut ilmu ga ada batas nya dan ilmu ga berat di bawa bawa semangat om om biar hidup tenang keluarga senang . Ageng milik sadaya 🔥🙌\n",
      "safa_s32 ||| @rizkiiting 👏\n",
      "gallery_kang_zul ||| Harusnya sih yang diklat itu dishub dan satlantas yang didalamnya masih banyak okum yang seenaknya sendiri\n",
      "maulana_abrar ||| \"Oknum\" dulu dimusnahkan. Selagi ada kata, mau dibantu tidak ? Jepret bayar sekian ratus ribu 😂\n",
      "andisuf ||| @ramadanputras dah gitu kalo diluar bbrp pelanggaran lalu lintas SIM bisa di cabut, 😂😂, disini mo lo melanggar ampe tabrakan, SIM lo aman😂😂😂 besok dah bisa nyetir lagi😂😂😂\n",
      "de_basur140288 ||| Experience is the best teacher , itu aja sih kl mau nyupir apapun\n",
      "dimaswidjianto ||| Salah satu kurikulumnya warung remang-remang di larang mampir sebab kasian istri menanti jg tabrak lgsung jika ada preman malak dijln😂\n",
      "chevalier_delonix ||| setuju, biar pada punya otak\n",
      "rikisaputra1432 ||| Sebenarnya kalo dah gini instansi kepolisian juga yg harus, di benahi tuh masih banyak SIM nembak\n",
      "ramadanputras ||| @andisuf sdm sama pemerintah nya sama aja, di negara maju terkhususnya membuat sim itu membutuhkan waktu setengah tahun untuk mendapatkan sim dan biaya yang mahal dengan tes yang sangat banyak, kalo di indonesia diterapin begitu, masyarakat banyak yang protes wkwkwk\n",
      "p.pradiptaa ||| @lina.sftry pake semut api ka biar bengkak, kn jd gede tuh 😂\n",
      "iambintangmuhammad ||| Percuma kalau para sopir masih di tekan perusahaan terutama terkait \"uang jalan kendaraan = muatan yg di bawa\"\n",
      "hendrosukirtyo7 ||| Setuju banget... Biar tau adab dan aturan berlalu lintas, klo ditol kata miliknya di jalur cepat terus....\n",
      "cekachamberlain ||| Terapkan sistem test drive yg bener. Jngan ada lagi sistem bikin SIM nembak, layani org bikin SIM dengan baik dan di test\n",
      "zakifathurochman ||| Setuju banget 🔥🔥\n",
      "ramadonjay ||| Kendaraannya dulu si mesti sehat. Supir pinter kendaraan ga sehat ya sama aja\n",
      "medy_rianto ||| @redflag.xyz94 wkwkw... iya yah, padahal bikin sim kan pasti di tes kemampuan mengendarai & pengetahuan tentang rambu2 lalu lintas\n",
      "exand___ ||| SETUJU\n",
      "nanostix_cimahi ||| Setuju\n",
      "ilhamsyahman ||| Gas\n",
      "yuandana_putra ||| Klo diaplikasikan bagus\" aja tpi klo ada oknumnya ya sama aja cuma memperkaya oknumnya .\n",
      "syahrulsysh.alung ||| jangan lupa perketat kelayakan kendaraan\n",
      "mr_cenk704 ||| Pengecekan kendaraan secara berkala sangat perlu, jgn dikasih duit seratus langsung kendaraan layak jalan tanpa di cek...\n",
      "yansencosera14 ||| 👏 mantap tu\n",
      "tukang.gebot ||| Harus, biar ga bego bawa mobilnya\n",
      "rahmadhi8 ||| Sebenarnya kalau uji kir itu bener aja pasti ga aneh2\n",
      "vianadyfirmansyah ||| Setuju sih ... Sekalian ketatin tuh mana armada yang layak jalan & tidak.\n",
      "iinpangesty97 ||| Berarti Lulus uji SIM gak menjamin ahli mengendarai ya???\n",
      "dr.luthfi ||| @dr.luthfi sama usul evaluasi kondisi mental dan kelelahan. Krn stressor tinggi, membawa nyawa banyak orang. Perlu diperhatikan. Siapa tau burnout kelelahan, setoran kurang, jadilah bencana\n",
      "dr.luthfi ||| Harusnya masuk dalam pelatihan sebelum dapet sim truk dan bus\n",
      "dicko_agustian ||| 🔥🔥🔥👏👏👏 gaji Utama Di Perhatikan\n",
      "fauzi.rizkiarif ||| Seperti sekolah mengemudi nyonya PUFFF🐡🐡🐡 😂\n",
      "abdulherlambang ||| @redflag.xyz94 💯\n",
      "muhamadaziiz ||| Jaman smp pun bisa nyetir truck, banyak banget cuk. Cuma gaya gayaan truck di goyang goyang ngebut nyalib sembarangan\n",
      "_17asrun ||| Setuju sih tp Jagan ada main main di belakang...kita tau sendirilah cuan cuan cuan\n",
      "sansan.ikh ||| Mau semahir apapun sopir, kalau prosedur K3 tidak dijalankan maka akan terulang lagi dan lagi...\n",
      "rachmat_soekma ||| ngga, pasti ujung2 nya anggaran\n",
      "rc_nanda ||| lebih ke audit standart kelayakan kendaraan untuk beroperasi.\n",
      "akbarpn ||| Beneran sekolah atau cuma jadi “ladang cuan” baru?\n",
      "yandatuk_ ||| Kebanyakan sopir truk kan asal bisa bawa mobil mental dan tau jalan SIM mah no urut terakhir, kaya supir supir trailer di Priok yang gak ngerti lebih aturan berkendara. Ya maaf Mungkin gak semuanya dan rata rata anak anak usia nanggung\n",
      "markus.harijanto ||| Buat nambah korupsi baru?\n",
      "yandatuk_ ||| @aksakun_98 baru td dini hari di toll Tomang 4:30 sopir truk trailer melukai mobil ku karna doi ugal ugalan motong jalan ngalangin dan nantangin ... Meresah kan Kejar kejaran sampai akhirnya gua nyerah karna buru buru dan nanggung semua nya 😢\n",
      "alet001 ||| Anggaran lageeee ...... 😂\n",
      "sanggra_a_wigananda ||| SIMnya nembak sih haha\n",
      "daviid_ap03 ||| Diadain sekolah biar ada sistem tembak lagi dan cuan lagi 💸\n",
      "rully.dinda0303 ||| Setuju biar tidak sedikit2 nyalain lampu hazard 😂😂belok kanan/kiri hazard msh nyala terus 🤦‍♂️\n",
      "tembung_koi ||| Lapangan krja suruh buka mraka bayak3 .. jgn uang rakyat aja di telan mreka\n",
      "alighnalhm_ ||| SETUJUU🔥\n",
      "drew.storage ||| ini bukan soal skill dan mental, tapi kalo armada nya jarang ada maintenance dan DISHUB gak bekerja sebagaimana mestinya, yaa percuma aja.\n",
      "andyshartanto ||| Yg penting kendaraannya yg di uji kelayakan\n",
      "adilentho ||| Siapa yg SETUJU ——->\n",
      "mr__ezi ||| kan ada STTD (Sekolah Tinggi Transportasi Darat)?\n",
      "abednegoradja ||| atur ajalah abang kan panitia\n",
      "_cinnamon18 ||| Setuju\n",
      "aortashafira_ ||| Setujuu🙌🙌\n",
      "paramasansekerta ||| 👏👏👏👏👏👏\n",
      "zeus_laptop ||| Kalo yg pegang pak Praroro aman 🔥\n",
      "farhanrizkiwidiyanto ||| Euro Truck Simulator @aprilianto665 @cindar__bumi\n",
      "jarry_a.r ||| Gass👏\n",
      "rahmalilin1 ||| Setuju sih, karena kayak angkutan umum dan truk biasanya asal bisa aja, sering kali kurang disiplin berkendara, dan angkutan tidak sesuai batas maksimal baik orang maupun barang\n",
      "djmadebrana ||| Mantapppp🔥\n",
      "alfian_rosady ||| Terus apa gunanya SIM, masa polisi ragu sama produknya sendiri 😂\n",
      "rosyid20182018 ||| 👏👏👏👏👏👏👏\n",
      "ahaiinurwan ||| Setujuuu🙌\n",
      "shofyansugara ||| Setuju banget, biar kaya driver luar negri yg intelekk\n",
      "mwahyudiii_ ||| Setuju, dan untung saya sudah pernah DIKLAT mengemudi dan ada sertifikat .\n",
      "iyo_sektalah ||| sebentar... sebentar...\n",
      "pin_27mndr.studio ||| SETUJU! Kalau bisa pengetahuan seperti ini masuk di kurikulum dasar pendidikan 😊\n",
      "poncohandriyo ||| Bisa nembak.... Itu yg terlintas di pikran saya mengingat kondisi negri ini seperti apa.\n",
      "andrianadha ||| Intinya semua pengemudi ga mesti supir truk atau angkutan umum, kalian semua yang menggunakan mobil juga butuh keterampilan mengemudikan kendaraan yang baik dan benar, jangan semata² supir truck atau angkutan umum semua nya dianggap tidak memiliki keterampilan membawa kendaraan dan abai terhadap keselamatan berkendara. Saling instripeksi diri saja\n",
      "arif_wjy19 ||| Kalau boleh saran yaa mending setiap supir truk wajib mengikuti pelatihan mengemudi atau hal yang berkaitan dengan berkendara di fasilitasi oleh pabrikan truk yg ada di indonesia, mitsubishi, hino, isuzu  dll nanti supir tsb diberikan sertifikat atau lisensi, pelaksanaan di lapangan silahkan libatkan kepolisian, dishub, dinas terkait  dll mending kek gini jadi gak ngerepotin pemerintah, jadi pabrikan truk juga bisa edukasi si supir terkait unit mobilnya, hanya saran si\n",
      "rizkyfajary ||| @rifato mungkin mau bikin divisi baru di @drivingschool nya\n",
      "aka_mahes ||| @redflag.xyz94  mungkin lebih ke struktural nya  biar terbiasa yang di luar dari mengemudi truk mungkin\n",
      "pristianbayu_ ||| Orang dalam lebih kuat :)\n",
      "bobybobo88 ||| Nahh bener, buka sekolah sekolah formal maupun informal yg sesuai dengan dunia kerja, bukan sekedar teori saj, biar fresh graduate segera terserap dunia kerja dengan skill dan kemampuan terukur, proud @prabowo @gibran_rakabuming\n",
      "preman.campuz ||| ide cuan selalu ada dr pemerintah...😂😂😂\n",
      "fadjarnitinegoro ||| @redflag.xyz94 bjirrr. Ga kepikiran. Bener bener kritis.. betul betul\n",
      "fadjarnitinegoro ||| Setuju😍😍😍😍😍\n",
      "merr_merlic ||| @redflag.xyz94 SIM aja kadang pd ga punya bang, apalagi disuruh sekolah 😭\n",
      "aditanasetia ||| @hinoid.academy\n",
      "ragil_alfaruq ||| Selama masih ada calo SIM dan lulus ujian SIM masih bisa dibayar, tidak ngaruh ada skolah ini\n",
      "siical_ucul_ervianto ||| Setau saya,pas ngurus sim ada yg namanya tes simulator mengemudi,dan di dishub ada kir,knp ga itu saja yg ditingkatkan?\n",
      "fadiriansyah ||| 🔥🔥🔥🔥🔥\n",
      "fadhilmuzakki ||| Lulus ujian SIM itu ibarat lulus UN dpt ijazah. Pendidikan/diklat y beda lg. Setelah pendidikan, ujia, baru dpt ijazah. Gitu tahapnya. Diluar udah gitu kok\n",
      "primaarista_ ||| Uji kir aja yg di perketat.\n",
      "chandra_edwt ||| @andisuf kalau menurut saya SIM dikeluarkan sebagai syarat mengakui seseorang sudah layak untuk mengemudikan kendaraan sesuai tingkat SIM yang didapat sementara sekolah transportasi meningkatkan kapasitas seseorang ke tingkat berikutnya..Masalah formalitas karena uang tergantung manusianya..Ada yang ingin simpel tanpa ribet yaa silahkan ada yang ingin murni ya silahkan..\n",
      "si_to_wae ||| Ga penting ! Yg ditakutkan banyak kejuruan banyak pungli🤪 banyakin lapangan kerja aja duluu, ga usah sekolah dimarunda banyak bocil bawa container tiap hari wara wiri & bayaran mereka borongan,tapi hebatnya sebagian udah punya SIM😂\n",
      "remukart ||| Cukup simnya aja tempelin di jidat!!!\n",
      "askhackers ||| benahi dishub!!!\n",
      "danitrimars ||| Setuju sangat\n",
      "haii_dannn ||| Makin susah kerja nanti\n",
      "ryadi3020 ||| Percumah sekolah juga klo attitude gak di sekolahin juga ......banyak yang bersekolah bagus  arogan bukan sopir umum truk aja\n",
      "denienggara ||| Servis rutin di cek kondisi truknya sih menurutku,kan sering kendalanya di rem blong\n",
      "mwilmars ||| Tetep aja pas prakteknya yg nyupirin kenek nya... Udah main tegas aja dijalan... Bisa gak... Klo sekarang aturan jalan cuma dianggap lelucon belaka...\n",
      "cricket_bay99 ||| Pengawasan dan tindakan hkum di lapangan lemahhh … 😢 whssjkszbvzhzsvshajzvgxxsjskswgwhsh\n",
      "lavahim ||| @andisuf ya emg bukan rahasia umum kan? Itu kan yg usulin organisasi bukan pemerintah. Dan kyknya emg kalo kasusnya kyk skrg perlu ada unsur pendidikannya sblm uji SIM. Tapi faktor pendukung lain kyk kelayakan jalan kendaraan juga perlu dipertegas\n",
      "lavahim ||| @redflag.xyz94 mereka mengendarai truk karena cari uang mas bukan lolos uji SIM 😂\n",
      "dim_asadam ||| Sekalian pasangin chip di batok kepala mereka, biar gaada yg berani macem2 🔥🔥🔥\n",
      "tsalala_ ||| Edukasi berkendara penting, ~ 😂 suruh emak2 sekolah jg\n",
      "arief_juara ||| Harusnya dari Dulu, dan Harusnya Pemerintah menyediakan kursus2 Lainnya Buat Upgrade Skill Rakyatnya, Supaya Ngga Perlu Tuh \"Katanya\" Profesional dari Tiongkok\n",
      "dadan_mdhun ||| @andisuf cakep\n",
      "renaldyrtg ||| Se7\n",
      "mif3398 ||| jika peserta kebanyakan anak SMK sih tidak masalah tahu sendiri SMK ada jurusan teknik kendaraan ringan pasti lulus suruh bawa truk\n",
      "yosivano_widi ||| PO Sumber Alam aja ada kursus buat mengemudi bus\n",
      "paaaan47 ||| SIM & BNSP Itu juga udh cukup asal tepat😂 bnsp driver aja mahal buat ikutin sekolah nya\n",
      "m.aris.wahyu ||| TIM KOCAK 👉👉👉\n",
      "geregetz ||| Nah gini bagus tapi saran si kalo bisa harganya terjangkau sama jangan minimal SMA si, soalnya kan yg kurang beruntung kek yg cuma SMP atau SD kn masi ada\n",
      "syamsulhakim73 ||| Setuju sekali, dilapangan org bisa bawa unit besar kalo ikut kerja dan gak ada pelatihan atau pembelajaran yg profesional 😁\n",
      "bijiklepir ||| menurut gua sih gak perlu yg seperti ini, krn sudah ad penerbitan sim setiap jenis kendaraan,. yg terpenting itu perawatan + usia pemakaian kendaraan,. krn rata rata kecelakaan kendaraan angkutan d sebabkan oleh kurangnya perawatan serta usia pemakaian unit tsb,.\n",
      "silvdia_ ||| TPi kira kira orang miskin bisa gak sekolahnya nnti ujung2 nya duweeeet\n",
      "utte_doank ||| apalagi ini😢\n",
      "boysandi.boysandi.7927408 ||| urus jam operasional nya aja\n",
      "anyebojol ||| Saya lebih setuju klo mereka diberikan aturan jalur khusus seperti busway..\n",
      "m.dianza ||| Lebih pilih gausah ada sopir truk sih,komoditas lewat udara atau kereta aja,kasian soalnya jd supir bayaran gak seberapa di pungli in terus sama preman berkedok aparat\n",
      "seamanbheaven ||| Setuju..sopir kapal laut dan pesawat udara melalui pendidikan juga...masa sopir angkutan jalan yg dengan tingkat bahaya lebih tinggi gak ada pendidikan..dan harus punya medical checkup yg valid...catatan jngn memberatkan.\n",
      "syafei1626 ||| Sangat amat setuju 🔥\n",
      "irfan_mausyah ||| Gajih nya di benerin aja dulu\n",
      "ayuraku8782 ||| SETUJU 1000%\n",
      "f.al_rhymzart ||| MOTOR JUGA HARUSNYA SAMA, banyak yg ngawur dijalan, bocah sampe emak2 / bapak2 banyak yg asal asalan bahayain orang lain, semisal asal pindah jalur kemudian senggolan dgn motor lain apalagi sampe kelindas kendaraan besar kan merugikan orang lain\n",
      "winnerelclownzv ||| Setuju apalagi klo ada aturan. Hrd perusahaan wajib memberi tau apabila pelamar tidak lolos\n",
      "ypfsimanjuntak ||| @redflag.xyz94 diluar negeri walaupun ada sim harus sekolah lgi utk mengendarai truck\n",
      "ryogaswara12 ||| Setujuu, jangan asal nembak sim B1 apalagi B2. Kasih edukasi yang layak, gaji yg layak, pengetesan kir no pungli. Sejahtera iyaa, meminimalisir laka yang merugikan  orang lain juga iya. Supir juga harus udah punya pengakuan dong skrng jangan asal. Tanpa supir ekspedisi logistik gaakan jalan.\n",
      "galang_firmansyah21 ||| @andisuf mungkin sistemnya kayak di Spongebob/amerika kalo pengendara dengan SIM melanggar aturan nanti dimasukan sekolah kapal/kendaraan sebagai hukuman\n",
      "surya.r.r ||| Tukang palak full senyum ini mah\n",
      "ukhti_angg ||| Hah?\n",
      "alfbryntm5 ||| Ya minimal punya Sertifikat BNSP aja dulu\n",
      "zenalismail ||| Setuju sih mungkin ada jurusan smk setir\n",
      "sang_prabu_13 ||| Ya setuju, skg umur 22thn ko sudah punya sim B2 umum\n",
      "mohamadsuryaa ||| Seharusnya memang semua pekerjaan disiapkan kelas sertifikasinya, agar semuanya terjamin\n",
      "cuma.murid ||| @andisuf emang nyatanya gitu bang kwkw, kan bisa beli😂\n",
      "tendo_iqbal19 ||| Tetep aja ada duit bisa nembak😂😂😂\n",
      "rizalj29 ||| @tunggulariyanto sama satu lagi lebih terbuka lha soal layanannya\n",
      "Jangan kek malah tanya warga lokal buat menjelasin soalnya polisinya sibuk sendiri\n",
      "rizalj29 ||| Sama satu lagi, kalau dah ada rencana gini duitnya jangan dikorup + jangan ada calo lha\n",
      "Takutnya ada calo tau2 muncul tu surat dah lulus sekolah\n",
      "tegaarid ||| Harus nya ada pelatihannya\n",
      "irpansyah_ifankk ||| Ujung2 nya paling sogok menyogok jadi lulus😂😂\n",
      "fakotwee ||| Sekolah akum (angkutan umum) itu berlaku ga buat cewe?\n",
      "mas2korporat ||| mendingan perbaikin sistem uji KIR dan SIM yang bebas nembak sih kata gw mah\n",
      "coachrizki ||| SANGAT SETUJU\n",
      "fikihhfzm ||| Bagus nih bagus, soalnya loker juga butuh yang punya SIM A B C gitu, semoga terealisasikan dan tidak memandang umur soalnya cuman kendarai aja kan\n",
      "alviavizah_ ||| SETUJUUUUU!!!!\n",
      "mbuu_uulll ||| @rifato sangat setuju, maaf om cuma mau curhat, aku tinggal di Batam pengemudi truk disini ngasal bgt bawa truk berasa bawa motor trus selalu di sisi paling kanan trus lambat klo kenceng bawanya kyk berasa bawa motor nyalip sana nyalip sini\n",
      "chnd_ferry95 ||| Setuju\n",
      "muhammadsaipulramadhan ||| Setuju\n",
      "wito8868 ||| Yaa setuju\n",
      "ingurahalit ||| Harusnya saat bikin SIM itu ada semacam kayak sekolah sebentar jadi yg bener2 paham dan mengerti bisa langsung dapat SIM...\n",
      "ymonkee001 ||| Masyarakat setuju tpi supir belum tentu\n",
      "indra_march ||| Kalo bisa truk besar sama kontainer itu beroperasi nya malam hari aja, biar ga kejadian terus hal yg tidak di inginkan\n",
      "marsupilami_1010 ||| @andisuf hmmm padahal negara2 maju juga sudah menerapkan loh, contoh di US itu ada pendidikan untuk sopir2 truk.. beda hal dengan SIM itu ada surat izin nya, sementara pendidikan adalah bekal nya...\n",
      "wahjoe_97 ||| @id.adibjm gaji emang ga gede, tapi uang jalan nya yang gede\n",
      "id.adibjm ||| Yg berpendidikan SMA mikir jga kek nya bawa truk gitu kecuali gaji nya gede kek truk tambang 😂\n",
      "nikokohar2705 ||| Bukan masalah sekolahnya min. Tetapi bagi yg mempunyai Mobil truck seperti itu wajib di check record servicenya. Percuma sekolah jago mengemudi tapi tidak safety kendaraan yg di bawanya\n",
      "prasetiyoi ||| Cuma jadi lahan pemerintah untuk cari cuan UUD ujung ujungnya duit\n",
      "omzuuu_ ||| ramasok kang wes kakean soper\n",
      "v3rry_85 ||| 😂😂😂...\n",
      "jaya.id ||| Benerin ongkosna udah itu aja kelar masalah.\n",
      "chepy_48 ||| Ladang suap lagi aja\n",
      "ians_madridista ||| @andisuf baru mau komen gini... scroll ke bawah,mana tau ada yang sepemikiran....Jadi ketauan deh,kalau SIM nya nggak ada guna nya...Karena tuk dapatkan SIM itu harus tau minimal peraturan² yang ada di perjalanan dan rambu² LaLin nya....\n",
      "isyellow_11 ||| Lah kan waktu bikin sim udah d uji ngapain sekolah lagi\n",
      "shintya.situmorang ||| Iya biar pada bener🙌\n",
      "iyan_andriansyah_ ||| Setuju drpd supir ya PD ga jelas\n",
      "rifato ||| SANGAT🔥🔥\n",
      "anugrah_ari_santoso ||| Setuju terutama angkot\n",
      "staryiel_ ||| SETUJU 🔥\n",
      "msn_ina ||| We agreed\n",
      "eckoboedis ||| Nnti nambah calo caloan 😂\n",
      "whomeonetwo ||| emang ngaruh apa ? kan sudah rahasia umum bnyk supir tembak gantiin sopir asli . macem anak kecil bawa angkot atau truk . suka lolos ga kena razia ..\n",
      "mulfi_emul ||| Setuju'\n",
      "rasdamthagus ||| Percuma, coba perbaiki uji lulus sim untuk kendaraan b2, takutnya sim b2 nembak trus yg bawa kendaraan asal2an\n",
      "a.andira91 ||| Ok\n",
      "iqblalfthbgrb__ ||| Setuju\n",
      "redi_sugara05 ||| Setuju\n",
      "leo_silbc ||| Percuma buka sekolah khusus supir truk / bis tapi oknum Dishub di lapangan saat KIR bisa tetap terima bakwan di balik udang...\n",
      "stephanieariani ||| Setuju, utk motor juga harus sie\n",
      "nining.ahmad.965 ||| Setuju\n",
      "bintanghan ||| PLEASE Jangan hanya angkutan umum, yang Pribadi pun, semua jenis roda, calon pengemudi harus sekolah dulu, jangan pakai model SIM Tembak, sudah terkenal lho sim jenis ini,\n",
      "aizen200695 ||| Ngga perlu, malah jadi nambah lubang buat pungli. Model begini ya paling bayar doang mirip seperti SIM juga masih juga ya sudah jadi rahasia umum kalau masih bisa istilahnya nembak jadi.\n",
      "frdrmdhn_ ||| Tim setuju🙌🙌🙌🙌\n",
      "muhammad_aliziddangans23 ||| Saya sih se7\n",
      "alparisi_561 ||| Sistem di Jepang mungkin bisa dicontoh. Soalnya di Jepang tata tertib berkendara dan berlalu lintas bagus bgt\n",
      "jaesyi_m_hasan ||| Kalau perlu kursus mengemudi motor khusus perempuan, biar paham aturan lalu lintas\n",
      "bendricusjs ||| Gassss\n",
      "willymoron ||| Seharusnya ada sekolah kursus untuk mengendarai kendaraan besar dan muatan\n",
      "adityaaa_tama ||| Sebenernya sih bukan hanya pengemudi truk dan angkutan umum, tapi semua pengendara itu ya harus ada, masa iya nggak ada sekolah mengemudi tau-tau pas mau buat sim langsung di tes? Contohlah film spongebob, kalo mau legal mengemudi di jalan ya harus sekolah dulu\n",
      "t_r_ymaniak ||| Setuju bgt🔥\n",
      "insitemyhead ||| Ngaco.. yg bener bikin standarisasi sekolah mengemudi langsung dibawah dishub.. hubungannya ama proper and test pembuatan sim.. semua WAJIB kursus 3 bulan, pendampingan oleh instruktur/ orang yg udah pegang sim.. Setelah itu baru dapet sim. Biasanya sih dikasih keterangan layak mengemudi dulu. Setelah review, baru dia dapet sim. Problem nya : ordal, pungli.. 😂\n",
      "_arysry ||| Ngapain begitu, tindak aja oknum calo SIM dan suruh pernyataan perusahaan buat pertegas lagi aturan driver\n",
      "ambuweda ||| 🔥\n",
      "rizkyjokeja ||| Mending sekolah kepolisian aja😁\n",
      "dedekkumbul_dk23 ||| setuju sekali\n",
      "adtyarian_19 ||| lbh utama harusnya perusahaan lbh memperhatikan kondisi kendaraannya sih,jgn taunya kejar omset truk bgitu supir ajukan perbaikan selalu di tunda2 bgitu insiden malah menyalahkan cara mengemudi supirnya\n",
      "_haniprohmat ||| Gaskeun🔥\n",
      "znlmuttaqin ||| sepakat sih dan dibikin sk buat mereka wkwk, mengingat banyak supir transportasi besar yg belakangan ini sering jadi penyebab kecelakaan dan supir yg ugal ugalan\n",
      "cindyhadid ||| BENER BGTT\n",
      "anjarpradhikaa ||| @andisuf betul dan pembuatan SIM itu ladang cuan, adanya tes segala rupa cuma formalitas ya kan @polisi_indonesia\n",
      "x.o_purnomo ||| Usah bicara jauh\" lah,itu semua soal manusianya.tu udh ada contoh pegawai pemerintahan.yg melalui kualifikasi dan ngadain diklat\" itu nyatanya jg melanggar aturan dan suka korup.lu bikin peraruran tp lu sendiri melanggar aturan yg lu buat.\n",
      "rio_adinata_ ||| Berarti bentar lg tembak ijazah 😂cuan baru\n",
      "putri_themis ||| Sepakat👍\n",
      "eddy.6262 ||| Ngak guna.....ngabisin anggaran aja....ujung2 nya calo yg kyg.\n",
      "hapril.triadi ||| Haha secara tidak lgsg tidak percaya dgn instansi yg  buat SIM 😂\n",
      "adinmahfud ||| Setujuuuuuuuuuuuuuu🔥🔥🔥🔥🔥🔥🔥\n",
      "mochkhadafimoo ||| Setuju\n",
      "denzhafidzz ||| Formalitas nanti ujung² duit wk\n",
      "beneran.indonesia ||| Setuju sih 🔥. Apalagi benefit yang didapatkan bisa bikin calon sopir lebih taat aturan dan lebih profesional lagi...\n",
      "alexanderlieagung78 ||| Supir truk atau tronton kebanyakkan gak ada manner dijalan udah mobil gede pakai jalur tengah atau kanan udah gitu jalan pelan gimana gak macet jalan ada pula yang ugal2an 😢\n",
      "jiwojawi01 ||| Edukasi blind spot lebih murah\n",
      "tamasyajogja_id ||| Setuju....👏\n",
      "ginanjar_kusworo ||| setuju asal naikkan juga pendapatan driver sesuai tanggung jawabnya yang besar juga\n",
      "opiex27_ ||| Setuju bgt\n",
      "adipratama0505 ||| 😂😂😂😂perbaiki dulu aja itu yg suka bikin kir dan sim selama masih budaya nembak menembak susah\n",
      "peng.ikutaswaja ||| Dr dulu harusnya ada pelatihan dlu supir supir bersertifikat\n",
      "lyn_feysswy ||| setujuuu\n",
      "tunggulariyanto ||| Gunanya SIM apa?Bagaimana dengan supir tembak?🥱🥱...lebih baik Dishubnya yang disekolahin lagi,,perketat aturan jam operasional truk,perketat pos timbangan truk,perpanjangan KIR juga diperketat,jangan ada pungli....\n",
      "pandu_indrajaya10 ||| Cuan lagi, lahan basah lagi ini wkwkwk. Ya dari kernet tapi lama2 skill dan pengalaman mereka bertambah. Tidak ada sopir itu yang ingin kecelakaan terjadi, tapi faktor perawatan kendaraan nya yang kurang. Sopir mabuk atau narkoba itu juga tidak semua dan itu sebenarnya tugas polisi untuk mengawasi. Jam operasional dibatasi, kalau untuk truk tanah oke lah. Tapi bagian logistik kayak truk kontainer, tronton atau truk box ya susah. Ujung2 nya harga barang akan naik, gak percaya silahkan di jalankan aturan tersebut. Semua itu saling terkait tidak meluluh soal supir saja\n",
      "amet_nhova_ ||| TES BUAT SIM APA GUNANYA😂 ..\n",
      "nana_habibi88 ||| Setujuuu buangettt\n",
      "edoe24 ||| Yg abai bukan supirnya saja. Tp petugas tol atau petugas timbang mobil atau petugas kolisi yang membiarkan muatan melebihi kapasitas masi dibiarkan masuk ke tol. \"Kan uda bayar\". JADI MOHON MAAF USULAN INI GA SETUJU. Buang2 duid rasanya. MOHON MAAF kita ga ke kurangan supir handal. Yp kita ke kurangan org jujur. Fak\n",
      "galihkurnia1999 ||| Harus lah, wajib!\n",
      "triandrianto212 ||| Birokrasi nya diperbaiki jangan kebanyakan pungli\n",
      "irsan_mu24 ||| Punglinya berantas dulu cok\n",
      "antok_nur ||| SETUJU.\n",
      "ukiebagoes ||| Percuma, kalau ujung-ujungnya bisa dengan \"jalur cepat\" 🤑\n",
      "khaliqazayn ||| Masuk Sekolah Supir nya pakai jalur zonasi, prestasi akademik atau prestasi olahraga ?\n",
      "pandu_indrajaya10 ||| @khafidz_athar kalau skill dan pengalaman bagus, why not. Faktor kecelakaan itu karena faktor kurangnya perawatan kendaraan sih\n",
      "dxz_star ||| Kalau saya sih setuju\n",
      "haikalfikr__ ||| Kenapa jadi sekolah jirr. Pelatihan kali\n",
      "banon_mamang ||| Kirnya khusus mbl gede harus lbh ketat\n",
      "wendy_matsumoto ||| klo sekolah mental buat yg jaga di atas jembatan supaya gk kucing\"an ada gk tuh????\n",
      "jiko_lg8 ||| Ini juga salah satunya, cuman yang lebih penting bagaimana truck yang di bawa itu sehat walafiat, truk yang udah di katakan usang mending tidak usah di operasikan dan kalo keluar ada jam operasional\n",
      "kurnatarawangsa ||| setuju gajinya gede\n",
      "aryaarmd ||| Armadanya benerin dulu. Angkutan th 80an masih banyak di pakai, overload lagi, dikit2 rem blong 😂😂\n",
      "fahmiaddam ||| Proyek proyek 😂😂😂\n",
      "heaven4kid ||| Percuma program sebagus apapun jika solusinya masih bisa NEMBAK 😂😂\n",
      "aisyah_w.khofifah ||| Dari ujii kir,,, kriteria yang layak bagaimana,,, dikatakan tidak layak yang meloloskan siapa????,,, penggunaan jam operasional yang membuat aturan siapa,,, yang bisa dikoordinasikan siapa...\n",
      "ilhamconner ||| Setuju, pengalaman gua bawa Scania, Renault, MAN angkutan gerbong & lokomotif, tepat waktu tanpa ada lecet dan pelanggaran lalu lintas. Riwayat udah ada di PC ataupun Android.\n",
      "startupbalitransport ||| Biaya sekolahnya brapa?? Kalau bisa jangan mahal2... Saya setuju sih ini ide bagus...\n",
      "rudi.8i6 ||| Selama pengurusan SIM bisa sistem tembak, percuma buka sekolah, hanya buang anggaran doang\n",
      "adydunphy56 ||| Lah saat buat SIM bukannya udh dilatih?\n",
      "reycardo_rondonuwu ||| 1. Menghabiskan Anggaran\n",
      "sansinsun07 ||| Boleh juga, kan rata rata loker driver berat harus punya pengalaman minimal 2thun, iya kalo bapak nya punya unit, kalo nggak dimana bisa dpt pengalaman 2 tahun, jadi usulan sekolah driver alat berat sih saya setuju sebagai nilai tambahan cv\n",
      "lina.sftry ||| Cowo kalo jonii nyaa kecil malu ga sih😂 soalnya punya suami kecil bingitt jadi ga kerasa kalo lagi main di tambah durasinya juga ga lama😭\n",
      "faunxk ||| Percuma Nambah2in biaya Saja !!!!! .... Sklhnya saat Ambil SIM + Pemilik kendaraan juga hrs di tindak tegas jika melanggar .... Yg TerAkhir ini spti susah .... butuh keberanian + niat + konsistensi .... !!!!!\n",
      "birmingham.boy_ ||| Setuju\n",
      "dera_ishaq ||| Setuju baanget... harus ada mata pelajaran atittude di jalan, ga sekedar bisa nyetir\n",
      "uknown_marr ||| 🔥\n",
      "dolia_jungling ||| Sampe sekarang gue heran. Orang belajar nyetir truk itu darimana?? Emang ada kursusnya?\n",
      "boncilputeh ||| @khafidz_athar termasuk mau cari kerjaan jg main tembak lho Broo....? sekelas pabrik aja. harus nembal  lohh. ??? 😂😂😂\n",
      "odiechel ||| Emang gak ada?\n",
      "teguh9785 ||| Jgn cuma drivernya aja, terkadang driver penuh intervensi dari pemilik kendaraan\n",
      "iqba_7172 ||| Lahan baru buat polisi nih😍\n",
      "up_pian ||| @andisuf bener bang, ada sekolah lagi nanti ujung2nya diwajibkan, cuan lagi.. 😁\n",
      "adhasbhana ||| @redflag.xyz94 mungkin persiapan untuk orang orang baru sebelum bikin SIM khusus truk, jadi di bina di kasih pembelajaran yang lengkap\n",
      "ulva3379 ||| Buat sim pake bayar ,tukang parkir hanya kedok\n",
      "rsetiadis ||| Dan standar spesifikasi untuk truk juga di perbaharui, misal ada adas atau airbag\n",
      "iis_3mbem ||| Sebernarnya banyak bidang pekerjaan tapi ya itu g ada sekolah.. Kaya sopir crain, forklift rata2 itu kursus\n",
      "davis9e0aash ||| @ar.nitaaaaa94 setujuu ka btw sehat selalu semua🙏(𝗇𝖾𝗍𝗉𝗅𝗂𝗄𝗌s SETAHUN 100RIBUAN) @smediaproo 👈\n",
      "michajo_situmorang_ ||| Lebih ke persyaratan penerimaan kerja aja sih, bagi yang berminat harus punya sertifikat Khusus sebagai driver angkutan umum & Truck + Wajib menyerahkan hasil tes narkoba\n",
      "zeldai21 ||| Setuju biar ga matiin orang melulu terus ubah jam operasional truk2 hanya bisa operasi di atas jam 5 sore sampai jm 6 pagi 😂\n",
      "khafidz_athar ||| Selama budaya \"tembak\" masih ada, ya tau sendiri endingnya.\n",
      "arifhimawant ||| Klo bener jadi ya masukin aja sekalian syarat buat bikin sim 😂\n",
      "aksakun_98 ||| Sebenernya harusnya dari dulu sih 🗿🗿🗿 Supaya para Sopir itu ngerti aturan jam operasional, ngerti apa resikonya kalo gak berhati-hati\n",
      "nouffal_warsya ||| Tetep aje bakal ada pungli 😂\n",
      "b.harimurti_ ||| Dan juga perbaiki sistem di lembaga yang mengatur terkait izin jalan atau kelayakan kendaraan, karena banyak kasus bukan dari kurangnya keahlian supir tapi di kelayakan kemdaraanmya\n",
      "bangbudiiii ||| Jangan mau njirrrr nanti kalian tidak bisa jadi supir kalau tidak punya ijazah supir.\n",
      "akechimitsuhide2023 ||| Percuma\n",
      "abbarmaulana ||| Lahan bisnis baru buat birokrat\n",
      "agnesivoiline ||| Sangat setuju supaya sopir bus dan truk tidak ugal-ugalan Bapak @prabowo Bapak@gibran_rakabuming\n",
      "hangalan26 ||| @redflag.xyz94 Logic 👏\n",
      "_1ricomeizia1_ ||| Indonesia tuh susah jalur untuk truk karena di kita tuh jalurnya banyak nanjak dan menurun\n",
      "reborn_trans ||| Kan udh dites waktu bikin sim..klo ndk paham berarti nembak sim nya😂\n",
      "babaendra ||| @andisuf cerdas\n",
      "babaendra ||| Gak\n",
      "jayenphoto ||| Percuma, kalo aturan bisa di goyang\n",
      "andisuf ||| Bentar bentar ..... Apa gunanya SIM itu ?? Jadi secara tidak langsung mengakui kalo instansi yg meloloskan pengemudi punya SIM hanyalah formalitas karena uang semata ?? Gitu ?? kocaaaaaaak😂😂😂😂😂\n",
      "helfikardit ||| Setuju karena mobil gue pernah di hajar truk sopir masih bocah ga punya sim😢\n",
      "redflag.xyz94 ||| Bukannya mereka mengendarai truck karena lulus uji SIM? atau wacana ini secara tidak langsung mengakui kalau lulus uji SIM belum tentu benar benar ahli mengendarai? kebongkar sendiri kan bobroknya? 😮\n",
      "anggaajii ||| Adain uji kelayakan pak buat truk,tronton dll, biar ga ada lg kejadian rem blong\n",
      "haki_apparel_digital ||| selama ga di korup dan ga ada sogok sogokan ya bagus.\n",
      "leonardus_edi_s ||| Setuju banget tapi kalo DLLAJ khusus nya polisi lihat dilapangan kebanyakan masih anak-anak.\n",
      "say.ful.l ||| Duit lagi aja 😂 orang kecil diperes teruss ampe kering😂\n",
      "___pacpac ||| Ladang bisnis baru yang kalo mau daftar kerja jadi sopir harus bayar\n",
      "eritebo ||| Aturan jam operasional....jgn jalan pas jam brngkt kerja dan jam sekolah...\n",
      "rezanvnsyhh ||| Bikin simnya ganembak lagi dong\n",
      "mikaevelinp ||| Setujuuuuuuuuuuuu, dulu cita cita ku pas kecil jadi supir trontron🤣🤣\n",
      "nambo1234 ||| Loh selama ini memang tidak ada?\n",
      "keleb_zay ||| Nyonya puff\n",
      "siliwangi.93 ||| kalo angkutan umum gak setuju, kebanyakan berhenti di tengah jln,  buat macet\n",
      "rodesnapitupulu ||| The Real drifting school versi lokalan\n",
      "cucusudirman44 ||| @ar.nitaaaaa94 Ditolak keras ini membahayakan dunia usaha dan perputaran uang 😂. Cihh\n",
      "_iqbal_fauzan_ ||| Mending benerin pungli dulu, peminat sopir pasti bakal populer kek di luar negeri kalo kaga ada pungli\n",
      "afielmu_ ||| Setuju, biar ndak pada ngawur\n",
      "agushernanda_ ||| Tombol 100% setuju ---->>>\n",
      "annisarizky_amalia ||| Setuju banget. Pemerintah memfasilitasi. Yang punya sertifikat yang layak jalan. Walaupun ya namanya maut g ada yang tau seenggaknya sudah saya upaya 🔥\n",
      "nothinkzhsjr ||| selagi ga mahal bayarnya mah gapapa demi keamanan bersama\n",
      "cucusudirman44 ||| Gak setuju, ribet. Bikin lambat investasi dan dunia usaha serta perputaran uang. Belum lagi biayain kursus oleh negara. Cihh\n",
      "masadi4592 ||| percuma.  palingan juga bisa dibeli (tidak perlu ikut, tp dapet sertifikat). SIM pun kalo sesuai aturan, sudah ada pelatihannya\n",
      "sewamobil.sub ||| tebak bayar berapaa\n",
      "farikhah_zahrotus ||| Setuju\n",
      "anirinjani137 ||| setuju tapi jangan ada max umur lah ..\n",
      "rizky.siregar23 ||| Yaa\n",
      "mrayhanazhariakbar ||| Setuju sih\n",
      "ar.nitaaaaa94 ||| Tim setuju 👉👉👉👉\n"
     ]
    }
   ],
   "source": [
    "for c in lihat_komentar_semua:\n",
    "    print(c.user.username, '|||', c.text)"
   ]
  },
  {
   "cell_type": "code",
   "execution_count": null,
   "id": "c5e7bc12-0978-4bbe-9b76-32e3f9ea9709",
   "metadata": {},
   "outputs": [],
   "source": []
  }
 ],
 "metadata": {
  "kernelspec": {
   "display_name": "Python 3 (ipykernel)",
   "language": "python",
   "name": "python3"
  },
  "language_info": {
   "codemirror_mode": {
    "name": "ipython",
    "version": 3
   },
   "file_extension": ".py",
   "mimetype": "text/x-python",
   "name": "python",
   "nbconvert_exporter": "python",
   "pygments_lexer": "ipython3",
   "version": "3.12.2"
  }
 },
 "nbformat": 4,
 "nbformat_minor": 5
}
