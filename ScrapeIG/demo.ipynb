{
 "cells": [
  {
   "cell_type": "code",
   "execution_count": 30,
   "metadata": {},
   "outputs": [],
   "source": [
    "from instagrapi import Client\n",
    "from credentials import USERNAME, PASSWORD\n",
    "import pandas as pd"
   ]
  },
  {
   "cell_type": "code",
   "execution_count": 31,
   "metadata": {},
   "outputs": [
    {
     "data": {
      "text/plain": [
       "True"
      ]
     },
     "execution_count": 31,
     "metadata": {},
     "output_type": "execute_result"
    }
   ],
   "source": [
    "cl = Client()\n",
    "cl.login(USERNAME, PASSWORD, verification_code='150088')"
   ]
  },
  {
   "cell_type": "code",
   "execution_count": 32,
   "metadata": {},
   "outputs": [],
   "source": [
    "medias = cl.hashtag_medias_top('audit', amount=10)"
   ]
  },
  {
   "cell_type": "code",
   "execution_count": 33,
   "metadata": {},
   "outputs": [
    {
     "name": "stdout",
     "output_type": "stream",
     "text": [
      "{'pk': 3471560718369697118, 'id': '3471560718369697118_21488796599', 'code': 'DAtdhSKoC1e', 'taken_at': datetime.datetime(2024, 10, 4, 17, 18, 28, tzinfo=TzInfo(UTC)), 'media_type': 8, 'image_versions2': {'candidates': [{'width': 1080, 'height': 781, 'url': 'https://instagram.fupg6-1.fna.fbcdn.net/v/t39.30808-6/461957500_18068651935716600_5299056791208808054_n.jpg?stp=dst-jpg_e35_s1080x1080_sh0.08&_nc_ht=instagram.fupg6-1.fna.fbcdn.net&_nc_cat=100&_nc_ohc=pwB9giRWJ2kQ7kNvgF2PWy5&_nc_gid=31477b211734483695686381a4800ead&edm=AMKDjl4AAAAA&ccb=7-5&ig_cache_key=MzQ3MTU2MDY5NzAyMDg3MDgxMQ%3D%3D.3-ccb7-5&oh=00_AYC86TSIAtH0WhLYFKLjMGqLYxKC6tEmsYkVllAOpj6taw&oe=673DC0BD&_nc_sid=472314', 'scans_profile': ''}, {'width': 320, 'height': 231, 'url': 'https://instagram.fupg6-1.fna.fbcdn.net/v/t39.30808-6/461957500_18068651935716600_5299056791208808054_n.jpg?stp=dst-jpg_e15_s320x320&_nc_ht=instagram.fupg6-1.fna.fbcdn.net&_nc_cat=100&_nc_ohc=pwB9giRWJ2kQ7kNvgF2PWy5&_nc_gid=31477b211734483695686381a4800ead&edm=AMKDjl4AAAAA&ccb=7-5&ig_cache_key=MzQ3MTU2MDY5NzAyMDg3MDgxMQ%3D%3D.3-ccb7-5&oh=00_AYAS06d5UAKGBjTjzs80kZYNyfjcqGSm4npZBZ75e1qedA&oe=673DC0BD&_nc_sid=472314', 'scans_profile': ''}]}, 'product_type': 'carousel_container', 'thumbnail_url': None, 'location': None, 'user': {'pk': '21488796599', 'username': 'oakmoore_car_company', 'full_name': 'Oakmoore Car Company', 'profile_pic_url': Url('https://instagram.fupg6-1.fna.fbcdn.net/v/t51.2885-19/416456389_1408055106799158_2332518005741040067_n.jpg?stp=dst-jpg_e0_s150x150&_nc_ht=instagram.fupg6-1.fna.fbcdn.net&_nc_cat=106&_nc_ohc=xdRYwWkS9y4Q7kNvgFUxywA&_nc_gid=31477b211734483695686381a4800ead&edm=AMKDjl4BAAAA&ccb=7-5&oh=00_AYDmbB3GEYYZHl8RL4E33l9eNEKgIXCefvV8KIDucMKaUw&oe=673DE21F&_nc_sid=472314'), 'profile_pic_url_hd': None, 'is_private': False}, 'comment_count': 5, 'comments_disabled': False, 'commenting_disabled_for_viewer': False, 'like_count': 5066, 'play_count': 0, 'has_liked': False, 'caption_text': 'Audi R8 5.2 FSI V10 Performance Carbon Black S Tronic quattro 2019/19 Black 22,000 miles £104,999\\n_____________________________________________ \\n\\nLED Headlights\\nAudi Magnetic Ride\\nCarbon Engine Cover\\nCarbon High Gloss Exterior Style Package - Front Spoiler - Rocker and Rear Diffuser\\nCeramic Brakes with Red Calipers\\nDoor Mirrors - Carbon High Gloss\\nDoor Sill Trims with Aluminium Inlays and R8 Logo on the Door Sills\\nExhaust Tailpipe - Gloss Black Oval\\nExtended Exterior Style Package Including Audi Emblem and Badges in Black High Gloss\\nExtended Inlays in Gloss Carbon\\nLED Rear Lights with Dynamic Rear Indicators\\nLarge Fixed Rear Spoiler in Gloss Carbon\\nReversing Camera\\n\\nFull PPF\\nEibach Springs \\n_____________________________________________\\n\\nAll of our cars are HPI clear and come with 6 Months premium warranty - HP and PCP finance available from 8.9% - Nation wide delivery available \\n\\n📍 Oakmoore Car Company, 15 & 21 Castle road, Kings Norton Business Centre, Birmingham, B30 3HZ \\n📞 0121 459 0822 - 07547812742 🖥 www.oakmoorecarcompany.co.uk\\n#oakmoorecarcompany #audi #audir8 #audisport #audiquattro #audigramm #audirs #audirs #audit#r8v10plus #r8v10 #r8performance #audir8performance @aj_carcare @_havisuals', 'accessibility_caption': None, 'usertags': [], 'sponsor_tags': [], 'video_url': None, 'view_count': 0, 'video_duration': 0.0, 'title': '', 'resources': [{'pk': '3471560697020870811', 'video_url': None, 'thumbnail_url': Url('https://instagram.fupg6-1.fna.fbcdn.net/v/t39.30808-6/461957500_18068651935716600_5299056791208808054_n.jpg?stp=dst-jpg_e35_s1080x1080&efg=eyJ2ZW5jb2RlX3RhZyI6ImltYWdlX3VybGdlbi4xNDQweDEwNDIuc2RyLmYzMDgwOC5kZWZhdWx0X2ltYWdlIn0&_nc_ht=instagram.fupg6-1.fna.fbcdn.net&_nc_cat=100&_nc_ohc=pwB9giRWJ2kQ7kNvgF2PWy5&_nc_gid=31477b211734483695686381a4800ead&edm=AMKDjl4AAAAA&ccb=7-5&ig_cache_key=MzQ3MTU2MDY5NzAyMDg3MDgxMQ%3D%3D.3-ccb7-5&oh=00_AYDFGGfXbBPsJag9OQ3KDgjT3HdxR2ZYSrGP4ZKRL0mnUw&oe=673DC0BD&_nc_sid=472314'), 'media_type': 1}, {'pk': '3471560697012333657', 'video_url': None, 'thumbnail_url': Url('https://instagram.fupg6-1.fna.fbcdn.net/v/t39.30808-6/461957922_18068651962716600_519888456369283316_n.jpg?stp=dst-jpg_e35_s1080x1080&efg=eyJ2ZW5jb2RlX3RhZyI6ImltYWdlX3VybGdlbi4xNDQweDEwNDIuc2RyLmYzMDgwOC5kZWZhdWx0X2ltYWdlIn0&_nc_ht=instagram.fupg6-1.fna.fbcdn.net&_nc_cat=100&_nc_ohc=tUbaQrlD2AkQ7kNvgHoWPm6&_nc_gid=31477b211734483695686381a4800ead&edm=AMKDjl4AAAAA&ccb=7-5&ig_cache_key=MzQ3MTU2MDY5NzAxMjMzMzY1Nw%3D%3D.3-ccb7-5&oh=00_AYAwoKO7ilLYWAdGrUoU4ZGWl24ZL-qQ-Va7OcpVG9P5IA&oe=673DCFF8&_nc_sid=472314'), 'media_type': 1}, {'pk': '3471560697071151327', 'video_url': None, 'thumbnail_url': Url('https://instagram.fupg6-1.fna.fbcdn.net/v/t39.30808-6/461992651_18068651971716600_349905726663172779_n.jpg?stp=dst-jpg_e35_s1080x1080&efg=eyJ2ZW5jb2RlX3RhZyI6ImltYWdlX3VybGdlbi4xNDQweDEwNDIuc2RyLmYzMDgwOC5kZWZhdWx0X2ltYWdlIn0&_nc_ht=instagram.fupg6-1.fna.fbcdn.net&_nc_cat=100&_nc_ohc=IlRnCu8X0FoQ7kNvgHtR4o0&_nc_gid=31477b211734483695686381a4800ead&edm=AMKDjl4AAAAA&ccb=7-5&ig_cache_key=MzQ3MTU2MDY5NzA3MTE1MTMyNw%3D%3D.3-ccb7-5&oh=00_AYDgZmwsdELf0_ZXu7S8fgwTHNKP32IwqFdA10tFmeGe5w&oe=673DBA93&_nc_sid=472314'), 'media_type': 1}, {'pk': '3471560696987195931', 'video_url': None, 'thumbnail_url': Url('https://instagram.fupg6-1.fna.fbcdn.net/v/t39.30808-6/461992051_18068651983716600_6168145755886227137_n.jpg?stp=dst-jpg_e35_s1080x1080&efg=eyJ2ZW5jb2RlX3RhZyI6ImltYWdlX3VybGdlbi4xNDQweDEwNDIuc2RyLmYzMDgwOC5kZWZhdWx0X2ltYWdlIn0&_nc_ht=instagram.fupg6-1.fna.fbcdn.net&_nc_cat=100&_nc_ohc=kHeQFN7yxWAQ7kNvgHa6XGa&_nc_gid=31477b211734483695686381a4800ead&edm=AMKDjl4AAAAA&ccb=7-5&ig_cache_key=MzQ3MTU2MDY5Njk4NzE5NTkzMQ%3D%3D.3-ccb7-5&oh=00_AYCrhBUSf-Id7LrU_sDbH_j5LiZMGps8xrBbIgUC4cSgjQ&oe=673DD353&_nc_sid=472314'), 'media_type': 1}, {'pk': '3471560697012301500', 'video_url': None, 'thumbnail_url': Url('https://instagram.fupg6-1.fna.fbcdn.net/v/t39.30808-6/461947135_18068651992716600_8226951908199251281_n.jpg?stp=dst-jpg_e35_s1080x1080&efg=eyJ2ZW5jb2RlX3RhZyI6ImltYWdlX3VybGdlbi4xNDQweDEwNDIuc2RyLmYzMDgwOC5kZWZhdWx0X2ltYWdlIn0&_nc_ht=instagram.fupg6-1.fna.fbcdn.net&_nc_cat=100&_nc_ohc=B1h04XId7wgQ7kNvgFl6RFj&_nc_gid=31477b211734483695686381a4800ead&edm=AMKDjl4AAAAA&ccb=7-5&ig_cache_key=MzQ3MTU2MDY5NzAxMjMwMTUwMA%3D%3D.3-ccb7-5&oh=00_AYADlv12Bfbd0SUCjK3Bk9AGo9U4sZiO_LoxjbDNkUkgBg&oe=673DCEA2&_nc_sid=472314'), 'media_type': 1}, {'pk': '3471560697012349013', 'video_url': None, 'thumbnail_url': Url('https://instagram.fupg6-1.fna.fbcdn.net/v/t39.30808-6/461992773_18068652001716600_1107570667252104517_n.jpg?stp=dst-jpg_e35_s1080x1080&efg=eyJ2ZW5jb2RlX3RhZyI6ImltYWdlX3VybGdlbi4xNDQweDEwNDIuc2RyLmYzMDgwOC5kZWZhdWx0X2ltYWdlIn0&_nc_ht=instagram.fupg6-1.fna.fbcdn.net&_nc_cat=100&_nc_ohc=uLSaZoRjGjkQ7kNvgERnRX7&_nc_gid=31477b211734483695686381a4800ead&edm=AMKDjl4AAAAA&ccb=7-5&ig_cache_key=MzQ3MTU2MDY5NzAxMjM0OTAxMw%3D%3D.3-ccb7-5&oh=00_AYDG-i6y-MeohqLnLnhF_n1u_rol-OQpI6TM478p9tQILA&oe=673DC2F5&_nc_sid=472314'), 'media_type': 1}, {'pk': '3471560696987286684', 'video_url': None, 'thumbnail_url': Url('https://instagram.fupg6-1.fna.fbcdn.net/v/t39.30808-6/461939430_18068652010716600_2234878961169802631_n.jpg?stp=dst-jpg_e35_s1080x1080_tt6&efg=eyJ2ZW5jb2RlX3RhZyI6ImltYWdlX3VybGdlbi4xNDQweDEwNDIuc2RyLmYzMDgwOC5kZWZhdWx0X2ltYWdlIn0&_nc_ht=instagram.fupg6-1.fna.fbcdn.net&_nc_cat=100&_nc_ohc=Hg7qgDEXUL4Q7kNvgGcZgqS&_nc_gid=31477b211734483695686381a4800ead&edm=AMKDjl4AAAAA&ccb=7-5&ig_cache_key=MzQ3MTU2MDY5Njk4NzI4NjY4NA%3D%3D.3-ccb7-5&oh=00_AYDxcLFVHfEJDXuLF5UmDdRM2Or0qTtB5KR78YDnheO9nw&oe=673DED74&_nc_sid=472314'), 'media_type': 1}, {'pk': '3471560696987199716', 'video_url': None, 'thumbnail_url': Url('https://instagram.fupg6-1.fna.fbcdn.net/v/t39.30808-6/462146117_18068652019716600_8013020716629465187_n.jpg?stp=dst-jpg_e35_s1080x1080&efg=eyJ2ZW5jb2RlX3RhZyI6ImltYWdlX3VybGdlbi4xNDQweDEwNDIuc2RyLmYzMDgwOC5kZWZhdWx0X2ltYWdlIn0&_nc_ht=instagram.fupg6-1.fna.fbcdn.net&_nc_cat=100&_nc_ohc=JPJu4upfzYcQ7kNvgFnIdRK&_nc_gid=31477b211734483695686381a4800ead&edm=AMKDjl4AAAAA&ccb=7-5&ig_cache_key=MzQ3MTU2MDY5Njk4NzE5OTcxNg%3D%3D.3-ccb7-5&oh=00_AYAkjQQvgboFnqYCtSaydc_X4BZso8bgaKbWNxkWcFgxgA&oe=673DD4D6&_nc_sid=472314'), 'media_type': 1}, {'pk': '3471560697004162476', 'video_url': None, 'thumbnail_url': Url('https://instagram.fupg6-1.fna.fbcdn.net/v/t39.30808-6/462181641_18068652028716600_5263189891623681550_n.jpg?stp=dst-jpg_e35_s1080x1080&efg=eyJ2ZW5jb2RlX3RhZyI6ImltYWdlX3VybGdlbi4xNDQweDEwNDMuc2RyLmYzMDgwOC5kZWZhdWx0X2ltYWdlIn0&_nc_ht=instagram.fupg6-1.fna.fbcdn.net&_nc_cat=100&_nc_ohc=gJY1Zge5g2AQ7kNvgFsLdtv&_nc_gid=31477b211734483695686381a4800ead&edm=AMKDjl4AAAAA&ccb=7-5&ig_cache_key=MzQ3MTU2MDY5NzAwNDE2MjQ3Ng%3D%3D.3-ccb7-5&oh=00_AYCKP40OqJuIQmCLLjB769jgyrJNA-LzdDi6ZqYNGkRSEw&oe=673DE3FD&_nc_sid=472314'), 'media_type': 1}, {'pk': '3471560697012326503', 'video_url': None, 'thumbnail_url': Url('https://instagram.fupg6-1.fna.fbcdn.net/v/t39.30808-6/462162910_18068652037716600_4082215482596810323_n.jpg?stp=dst-jpg_e35_s1080x1080&efg=eyJ2ZW5jb2RlX3RhZyI6ImltYWdlX3VybGdlbi4xNDQweDEwNDIuc2RyLmYzMDgwOC5kZWZhdWx0X2ltYWdlIn0&_nc_ht=instagram.fupg6-1.fna.fbcdn.net&_nc_cat=100&_nc_ohc=EAjTtpPLIXcQ7kNvgHB2FC1&_nc_gid=31477b211734483695686381a4800ead&edm=AMKDjl4AAAAA&ccb=7-5&ig_cache_key=MzQ3MTU2MDY5NzAxMjMyNjUwMw%3D%3D.3-ccb7-5&oh=00_AYBjCy5Eptc2q5BHBPQzfU6ZHfRVxaf8Z3Et0vkI7Rz_0A&oe=673DE8A1&_nc_sid=472314'), 'media_type': 1}, {'pk': '3471560697012462518', 'video_url': None, 'thumbnail_url': Url('https://instagram.fupg6-1.fna.fbcdn.net/v/t39.30808-6/462001259_18068652049716600_6156819520585406523_n.jpg?stp=dst-jpg_e35_s1080x1080&efg=eyJ2ZW5jb2RlX3RhZyI6ImltYWdlX3VybGdlbi4xNDQweDEwNDIuc2RyLmYzMDgwOC5kZWZhdWx0X2ltYWdlIn0&_nc_ht=instagram.fupg6-1.fna.fbcdn.net&_nc_cat=100&_nc_ohc=2GM4Z5xclXQQ7kNvgEY2aVo&_nc_gid=31477b211734483695686381a4800ead&edm=AMKDjl4AAAAA&ccb=7-5&ig_cache_key=MzQ3MTU2MDY5NzAxMjQ2MjUxOA%3D%3D.3-ccb7-5&oh=00_AYDUGsQozRqMzWCO9C6w4X8aNCl0iWvVVXjxI4aV_3BoIg&oe=673DD218&_nc_sid=472314'), 'media_type': 1}, {'pk': '3471560697004101610', 'video_url': None, 'thumbnail_url': Url('https://instagram.fupg6-1.fna.fbcdn.net/v/t39.30808-6/461870161_18068652058716600_9135233177083547631_n.jpg?stp=dst-jpg_e35_s1080x1080&efg=eyJ2ZW5jb2RlX3RhZyI6ImltYWdlX3VybGdlbi4xNDQweDEwNDIuc2RyLmYzMDgwOC5kZWZhdWx0X2ltYWdlIn0&_nc_ht=instagram.fupg6-1.fna.fbcdn.net&_nc_cat=100&_nc_ohc=UAem4xqSFp4Q7kNvgGQcVuk&_nc_gid=31477b211734483695686381a4800ead&edm=AMKDjl4AAAAA&ccb=7-5&ig_cache_key=MzQ3MTU2MDY5NzAwNDEwMTYxMA%3D%3D.3-ccb7-5&oh=00_AYBHaW8sWymIBafd7ItEmEFK97UVDgbin82oYxSEg0lt-A&oe=673DC06D&_nc_sid=472314'), 'media_type': 1}], 'clips_metadata': {}}\n",
      "{'pk': 3501962520551849089, 'id': '3501962520551849089_53805333717', 'code': 'DCZeFu2OXyB', 'taken_at': datetime.datetime(2024, 11, 15, 16, 2, 41, tzinfo=TzInfo(UTC)), 'media_type': 2, 'image_versions2': {'candidates': [{'width': 360, 'height': 639, 'url': 'https://instagram.fupg6-1.fna.fbcdn.net/v/t51.2885-15/466801096_531664009683920_1753693923835055006_n.jpg?stp=dst-jpg_e15_p360x360&efg=eyJ2ZW5jb2RlX3RhZyI6ImltYWdlX3VybGdlbi42NDB4MTEzNi5zZHIuZjcxODc4LmRlZmF1bHRfY292ZXJfZnJhbWUifQ&_nc_ht=instagram.fupg6-1.fna.fbcdn.net&_nc_cat=108&_nc_ohc=p5o0lXdwVV8Q7kNvgHEchuK&_nc_gid=31477b211734483695686381a4800ead&edm=AMKDjl4BAAAA&ccb=7-5&ig_cache_key=MzUwMTk2MjUyMDU1MTg0OTA4OQ%3D%3D.3-ccb7-5&oh=00_AYDW0GTCMm7xtX1M0SDjwagWsTi92iGF2kwQ69D_3kGLKA&oe=673DE09A&_nc_sid=472314', 'scans_profile': 'e15', 'estimated_scans_sizes': [4652, 9304, 13956, 18608, 23260, 28004, 808160, 41869, 41869]}], 'additional_candidates': {'igtv_first_frame': {'width': 360, 'height': 639, 'url': 'https://instagram.fupg6-1.fna.fbcdn.net/v/t51.2885-15/467198301_551535374263376_3993969418104300427_n.jpg?stp=dst-jpg_e15_p360x360&efg=eyJ2ZW5jb2RlX3RhZyI6ImltYWdlX3VybGdlbi42NDB4MTEzNi5zZHIuZjcxODc4LmFkZGl0aW9uYWxfY292ZXJfZnJhbWUifQ&_nc_ht=instagram.fupg6-1.fna.fbcdn.net&_nc_cat=108&_nc_ohc=sIoxVTdloR4Q7kNvgFSDAqK&_nc_gid=31477b211734483695686381a4800ead&edm=AMKDjl4BAAAA&ccb=7-5&oh=00_AYB3tSmZFEJlwqhGyIMhUUzkYmrfn5gN4Ymud9HGR-B41w&oe=673DEFE6&_nc_sid=472314', 'scans_profile': 'e15', 'estimated_scans_sizes': [4652, 9304, 13956, 18608, 23260, 28004, 808160, 41869, 41869]}, 'first_frame': {'width': 360, 'height': 639, 'url': 'https://instagram.fupg6-1.fna.fbcdn.net/v/t51.2885-15/467198301_551535374263376_3993969418104300427_n.jpg?stp=dst-jpg_e15_p360x360&efg=eyJ2ZW5jb2RlX3RhZyI6ImltYWdlX3VybGdlbi42NDB4MTEzNi5zZHIuZjcxODc4LmFkZGl0aW9uYWxfY292ZXJfZnJhbWUifQ&_nc_ht=instagram.fupg6-1.fna.fbcdn.net&_nc_cat=108&_nc_ohc=sIoxVTdloR4Q7kNvgFSDAqK&_nc_gid=31477b211734483695686381a4800ead&edm=AMKDjl4BAAAA&ccb=7-5&oh=00_AYB3tSmZFEJlwqhGyIMhUUzkYmrfn5gN4Ymud9HGR-B41w&oe=673DEFE6&_nc_sid=472314', 'scans_profile': 'e15', 'estimated_scans_sizes': [4652, 9304, 13956, 18608, 23260, 28004, 808160, 41869, 41869]}, 'smart_frame': None}}, 'product_type': 'clips', 'thumbnail_url': Url('https://instagram.fupg6-1.fna.fbcdn.net/v/t51.2885-15/466801096_531664009683920_1753693923835055006_n.jpg?stp=dst-jpg_e15_p360x360&efg=eyJ2ZW5jb2RlX3RhZyI6ImltYWdlX3VybGdlbi42NDB4MTEzNi5zZHIuZjcxODc4LmRlZmF1bHRfY292ZXJfZnJhbWUifQ&_nc_ht=instagram.fupg6-1.fna.fbcdn.net&_nc_cat=108&_nc_ohc=p5o0lXdwVV8Q7kNvgHEchuK&_nc_gid=31477b211734483695686381a4800ead&edm=AMKDjl4BAAAA&ccb=7-5&ig_cache_key=MzUwMTk2MjUyMDU1MTg0OTA4OQ%3D%3D.3-ccb7-5&oh=00_AYDW0GTCMm7xtX1M0SDjwagWsTi92iGF2kwQ69D_3kGLKA&oe=673DE09A&_nc_sid=472314'), 'location': None, 'user': {'pk': '53805333717', 'username': 'financelazy', 'full_name': 'Finance Memes', 'profile_pic_url': Url('https://instagram.fupg6-1.fna.fbcdn.net/v/t51.2885-19/467097380_527125643555045_1759809667439152423_n.jpg?stp=dst-jpg_e0_s150x150&_nc_ht=instagram.fupg6-1.fna.fbcdn.net&_nc_cat=105&_nc_ohc=AHCx3EdRYJAQ7kNvgGGFrEF&_nc_gid=31477b211734483695686381a4800ead&edm=AMKDjl4BAAAA&ccb=7-5&oh=00_AYAYtTZ7uTXCymaDKlum9bIcg3a4joO6mXuHzlMhg-v6vA&oe=673DE7A0&_nc_sid=472314'), 'profile_pic_url_hd': None, 'is_private': False}, 'comment_count': 0, 'comments_disabled': False, 'commenting_disabled_for_viewer': False, 'like_count': 38, 'play_count': 5221, 'has_liked': False, 'caption_text': \"Can't believe bro said such things\\n\\nCredit 💳 dudewithcoolusername\\nCan't believe bro said such things\\n\\n#accounting #accountant #bookkeeping #accountingservices #tax #payroll #taxes #accountants #cpa #bookkeeper #incometax #taxseason #accountinglife #taxreturn #taxpreparer #quickbooks #accountingsoftware #audit #taxconsultant #taxplanning #accountingstudent #taxprofessional #taxrefund #bookkeepingservices #taxpreparation #taxation #gst #finance #accountingandfinance #accountingproblems\", 'accessibility_caption': None, 'usertags': [], 'sponsor_tags': [], 'video_url': Url('https://instagram.fupg6-1.fna.fbcdn.net/o1/v/t16/f1/m86/AD46F2B065F463C8CB53A7FC92C8BF95_video_dashinit.mp4?efg=eyJ4cHZfYXNzZXRfaWQiOjkzNDkzNjQ3ODAwOTQyNSwidmVuY29kZV90YWciOiJ4cHZfcHJvZ3Jlc3NpdmUuSU5TVEFHUkFNLkNMSVBTLkMzLjcyMC5kYXNoX2Jhc2VsaW5lXzFfdjEifQ&_nc_ht=instagram.fupg6-1.fna.fbcdn.net&_nc_cat=102&vs=46bcee784bf8e871&_nc_vs=HBksFQIYUmlnX3hwdl9yZWVsc19wZXJtYW5lbnRfc3JfcHJvZC9BRDQ2RjJCMDY1RjQ2M0M4Q0I1M0E3RkM5MkM4QkY5NV92aWRlb19kYXNoaW5pdC5tcDQVAALIAQAVAhg6cGFzc3Rocm91Z2hfZXZlcnN0b3JlL0dFai0xUnRHVHIxUTZ3NENBTHhhTlRvNE5UZEdicV9FQUFBRhUCAsgBACgAGAAbAogHdXNlX29pbAExEnByb2dyZXNzaXZlX3JlY2lwZQExFQAAJqKhxsq7lKkDFQIoAkMzLBdAGRBiTdLxqhgSZGFzaF9iYXNlbGluZV8xX3YxEQB1_gcA&ccb=9-4&oh=00_AYBal2HS0dqfx7druqgrwZmdBPyHTU_6xQGk0l3QdgZm4A&oe=6739E9F0&_nc_sid=1d576d'), 'view_count': 0, 'video_duration': 6.385, 'title': '', 'resources': [], 'clips_metadata': {'breaking_content_info': None, 'breaking_creator_info': None, 'clips_creation_entry_point': 'clips', 'featured_label': None, 'is_public_chat_welcome_video': False, 'is_shared_to_fb': True, 'professional_clips_upsell_type': 0, 'reels_on_the_rise_info': None, 'show_tips': None, 'achievements_info': {'num_earned_achievements': None, 'show_achievements': False}, 'additional_audio_info': {'additional_audio_username': None, 'audio_reattribution_info': {'should_allow_restore': False}}, 'asset_recommendation_info': None, 'audio_ranking_info': {'best_audio_cluster_id': '947344569568208'}, 'audio_type': 'original_sounds', 'branded_content_tag_info': {'can_add_tag': False}, 'challenge_info': None, 'content_appreciation_info': {'enabled': False, 'entry_point_container': None}, 'contextual_highlight_info': None, 'cutout_sticker_info': [], 'disable_use_in_clips_client_cache': False, 'external_media_info': None, 'is_fan_club_promo_video': False, 'mashup_info': {'can_toggle_mashups_allowed': False, 'formatted_mashups_count': None, 'has_been_mashed_up': False, 'has_nonmimicable_additional_audio': False, 'is_creator_requesting_mashup': False, 'is_light_weight_check': True, 'is_light_weight_reuse_allowed_check': False, 'is_pivot_page_available': False, 'is_reuse_allowed': True, 'mashup_type': None, 'mashups_allowed': True, 'non_privacy_filtered_mashups_media_count': 0, 'privacy_filtered_mashups_media_count': None, 'original_media': None}, 'merchandising_pill_info': None, 'music_canonical_id': '18464938207040749', 'music_info': None, 'nux_info': None, 'original_sound_info': {'allow_creator_to_rename': True, 'audio_asset_id': 425209570630293, 'attributed_custom_audio_asset_id': None, 'can_remix_be_shared_to_fb': True, 'can_remix_be_shared_to_fb_expansion': False, 'dash_manifest': '<?xml version=\"1.0\" encoding=\"UTF-8\"?>\\n<MPD xmlns=\"urn:mpeg:dash:schema:mpd:2011\" xmlns:xsi=\"http://www.w3.org/2001/XMLSchema-instance\" xsi:schemaLocation=\"urn:mpeg:dash:schema:mpd:2011 DASH-MPD.xsd\" profiles=\"urn:mpeg:dash:profile:isoff-on-demand:2011\" minBufferTime=\"PT2S\" type=\"static\" mediaPresentationDuration=\"PT6.385488S\"><Period id=\"0\" duration=\"PT6.385488S\"><AdaptationSet id=\"0\" contentType=\"audio\" subsegmentStartsWithSAP=\"1\" subsegmentAlignment=\"true\"><Representation id=\"358217997340491a\" bandwidth=\"63930\" codecs=\"mp4a.40.5\" mimeType=\"audio/mp4\" FBAvgBitrate=\"63930\" audioSamplingRate=\"44100\" FBDefaultQuality=\"1\"><AudioChannelConfiguration schemeIdUri=\"urn:mpeg:dash:23003:3:audio_channel_configuration:2011\" value=\"2\"/><BaseURL>https://instagram.fupg6-1.fna.fbcdn.net/o1/v/t16/f2/m69/AQMWiW7e0FEu1y_n9aT9KBpKdQ2KL_nktY6-Fi7shu5QhD8TC2AgOmEozyUk4x2oriIqM1nVZM-PHEbiQcoGN3Sb.mp4?strext=1&amp;_nc_cat=101&amp;_nc_sid=9ca052&amp;_nc_ht=instagram.fupg6-1.fna.fbcdn.net&amp;_nc_ohc=AXl7ZRS-WToQ7kNvgHmCaJn&amp;efg=eyJ2ZW5jb2RlX3RhZyI6ImRhc2hfbG5faGVhYWNfdmJyM19hdWRpbyIsInZpZGVvX2lkIjpudWxsLCJjbGllbnRfbmFtZSI6InVua25vd24iLCJvaWxfdXJsZ2VuX2FwcF9pZCI6MjU2MjgxMDQwNTU4LCJ1cmxnZW5fc291cmNlIjoid3d3In0%3D&amp;ccb=9-4&amp;oh=00_AYCXCjPVciotca5O2zDKXhYSPC9_o3MN34pxp-_S5N95mw&amp;oe=673DCA6E</BaseURL><SegmentBase indexRange=\"824-903\" timescale=\"44100\"><Initialization range=\"0-823\"/></SegmentBase></Representation></AdaptationSet></Period></MPD>\\n', 'duration_in_ms': 6386, 'formatted_clips_media_count': None, 'hide_remixing': False, 'ig_artist': {'pk': 53805333717, 'pk_id': '53805333717', 'id': '53805333717', 'username': 'financelazy', 'full_name': 'Finance Memes', 'is_private': False, 'strong_id__': '53805333717', 'is_verified': False, 'profile_pic_id': '3501966560555705966_53805333717', 'profile_pic_url': 'https://instagram.fupg6-1.fna.fbcdn.net/v/t51.2885-19/467097380_527125643555045_1759809667439152423_n.jpg?stp=dst-jpg_e0_s150x150&_nc_ht=instagram.fupg6-1.fna.fbcdn.net&_nc_cat=105&_nc_ohc=AHCx3EdRYJAQ7kNvgGGFrEF&_nc_gid=31477b211734483695686381a4800ead&edm=AMKDjl4BAAAA&ccb=7-5&oh=00_AYAYtTZ7uTXCymaDKlum9bIcg3a4joO6mXuHzlMhg-v6vA&oe=673DE7A0&_nc_sid=472314'}, 'is_audio_automatically_attributed': False, 'is_eligible_for_audio_effects': True, 'is_eligible_for_vinyl_sticker': True, 'is_explicit': False, 'is_original_audio_download_eligible': True, 'is_reuse_disabled': False, 'is_xpost_from_fb': False, 'music_canonical_id': None, 'oa_owner_is_music_artist': False, 'original_audio_subtype': 'default', 'original_audio_title': 'Original audio', 'original_media_id': 3501962520551849089, 'progressive_download_url': 'https://scontent.fupg6-1.fna.fbcdn.net/o1/v/t2/f2/m69/AQMtdpAVcFrOBAhdxAy7w7EItSJEJMM52SEbqRRXp9Rdy4hY5T06LClxcs9E0BGlGtVrxXI6p1YCexR5JFIevOzK.mp4?strext=1&_nc_cat=109&_nc_sid=8bf8fe&_nc_ht=scontent.fupg6-1.fna.fbcdn.net&_nc_ohc=nPF43vX1dTYQ7kNvgErI_fR&efg=eyJ2ZW5jb2RlX3RhZyI6Inhwdl9wcm9ncmVzc2l2ZS5BVURJT19PTkxZLi5DMy4wLnByb2dyZXNzaXZlX2F1ZGlvIiwieHB2X2Fzc2V0X2lkIjo5MzQ5MzY0NzgwMDk0MjUsInVybGdlbl9zb3VyY2UiOiJ3d3cifQ%3D%3D&ccb=9-4&_nc_zt=28&oh=00_AYBV79s-bTdZhbVbBxrpfD1l_Vci0IKnrgf4U357c25KQA&oe=673DD4FC', 'should_mute_audio': False, 'time_created': 1731686563, 'trend_rank': None, 'previous_trend_rank': None, 'overlap_duration_in_ms': None, 'audio_asset_start_time_in_ms': None, 'audio_filter_infos': [], 'audio_parts': [], 'audio_parts_by_filter': [], 'consumption_info': {'display_media_id': None, 'is_bookmarked': False, 'is_trending_in_clips': False, 'should_mute_audio_reason': '', 'should_mute_audio_reason_type': None}, 'xpost_fb_creator_info': None}, 'originality_info': None, 'reusable_text_attribute_string': None, 'reusable_text_info': None, 'shopping_info': None, 'show_achievements': False, 'template_info': None, 'viewer_interaction_settings': None}}\n",
      "{'pk': 3275970397566693703, 'id': '3275970397566693703_45673210303', 'code': 'C12lbhBqHFH', 'taken_at': datetime.datetime(2024, 1, 8, 12, 11, 53, tzinfo=TzInfo(UTC)), 'media_type': 8, 'image_versions2': {'candidates': [{'width': 1080, 'height': 1080, 'url': 'https://instagram.fupg6-1.fna.fbcdn.net/v/t39.30808-6/417419592_17995739705522304_8788808276179662134_n.jpg?stp=dst-jpg_e15_fr_s1080x1080&_nc_ht=instagram.fupg6-1.fna.fbcdn.net&_nc_cat=100&_nc_ohc=xnI3TXCSezoQ7kNvgEgpKEb&_nc_gid=31477b211734483695686381a4800ead&edm=AMKDjl4AAAAA&ccb=7-5&ig_cache_key=MzI3NTIzMzAyNzgwMDIwNTEwOA%3D%3D.3-ccb7-5&oh=00_AYCenSk5Tou4NEcD6YG3dCoJaXUK3d_rRnLIE8q-Hg5RIg&oe=673DE56C&_nc_sid=472314', 'scans_profile': ''}, {'width': 320, 'height': 320, 'url': 'https://instagram.fupg6-1.fna.fbcdn.net/v/t39.30808-6/417419592_17995739705522304_8788808276179662134_n.jpg?stp=dst-jpg_e15_s320x320&_nc_ht=instagram.fupg6-1.fna.fbcdn.net&_nc_cat=100&_nc_ohc=xnI3TXCSezoQ7kNvgEgpKEb&_nc_gid=31477b211734483695686381a4800ead&edm=AMKDjl4AAAAA&ccb=7-5&ig_cache_key=MzI3NTIzMzAyNzgwMDIwNTEwOA%3D%3D.3-ccb7-5&oh=00_AYB2slzN_1LzErnDLTZDack7CYhi1lgowVzgzGtJDMM25w&oe=673DE56C&_nc_sid=472314', 'scans_profile': ''}]}, 'product_type': 'carousel_container', 'thumbnail_url': None, 'location': None, 'user': {'pk': '45673210303', 'username': 'audiporium', 'full_name': 'Audi Porium', 'profile_pic_url': Url('https://instagram.fupg6-1.fna.fbcdn.net/v/t51.2885-19/461554680_1047781696728064_6596635792796946136_n.jpg?stp=dst-jpg_e0_s150x150&_nc_ht=instagram.fupg6-1.fna.fbcdn.net&_nc_cat=104&_nc_ohc=eeuLdFv__uMQ7kNvgEzWaNW&_nc_gid=31477b211734483695686381a4800ead&edm=AMKDjl4BAAAA&ccb=7-5&oh=00_AYBZmQ7cAz3zFHSqIQ5euQQ7KvHPgmrl3TjBxM0xNmBCzQ&oe=673DC092&_nc_sid=472314'), 'profile_pic_url_hd': None, 'is_private': False}, 'comment_count': 5, 'comments_disabled': False, 'commenting_disabled_for_viewer': False, 'like_count': 5918, 'play_count': 0, 'has_liked': False, 'caption_text': 'Audi RS7 😱🇩🇪\\nFollow me @audiporium for daily Audi content 😍\\u2063\\u2063\\n\\n\\u2063-\\u2063\\n\\n\\u2063\\n📸 DM for Credits or Removal\\u2063\\n\\u2063\\u2063\\n-\\u2063\\u2063\\n\\u2063\\u2063\\n👇 Credits & Hashtags ✅\\n\\nCredits @auditography \\n\\n #audi #audirs6 #audirs3 #ttrs #rs4 #rs7 #audits #audia3 #audia1 #audia7 #audirs4 #rs5 #rsaudilove #audilifestyle #audia6 #audiq7 #audis4 #audir8 #rs8 #q8 #audisq5 #rs8 #rsaudilove #audit #rs7 #ttrs #rs8 #auditât #audia7 #audirs4 #audia1 #audiotel #rs5 #audirs3 #audilifestyle #audit #audia6 #audisq5 #audir8 #rs4 #audiq7 #audia3 #q8 #audirs6', 'accessibility_caption': None, 'usertags': [], 'sponsor_tags': [], 'video_url': None, 'view_count': 0, 'video_duration': 0.0, 'title': '', 'resources': [{'pk': '3275233027800205108', 'video_url': None, 'thumbnail_url': Url('https://instagram.fupg6-1.fna.fbcdn.net/v/t39.30808-6/417419592_17995739705522304_8788808276179662134_n.jpg?se=7&stp=dst-jpg_e35&efg=eyJ2ZW5jb2RlX3RhZyI6ImltYWdlX3VybGdlbi4xMDgweDEwODAuc2RyLmYzMDgwOC5kZWZhdWx0X2ltYWdlIn0&_nc_ht=instagram.fupg6-1.fna.fbcdn.net&_nc_cat=100&_nc_ohc=xnI3TXCSezoQ7kNvgEgpKEb&_nc_gid=31477b211734483695686381a4800ead&edm=AMKDjl4AAAAA&ccb=7-5&ig_cache_key=MzI3NTIzMzAyNzgwMDIwNTEwOA%3D%3D.3-ccb7-5&oh=00_AYARdWoCRe7DQwVLLMwLUgNYzzm-tHzZZuvrO1_EfO212A&oe=673DE56C&_nc_sid=472314'), 'media_type': 1}, {'pk': '3275233027816991344', 'video_url': None, 'thumbnail_url': Url('https://instagram.fupg6-1.fna.fbcdn.net/v/t39.30808-6/417373246_17995739729522304_5867725415219877146_n.jpg?se=7&stp=dst-jpg_e35_tt6&efg=eyJ2ZW5jb2RlX3RhZyI6ImltYWdlX3VybGdlbi4xMDgweDEwODAuc2RyLmYzMDgwOC5kZWZhdWx0X2ltYWdlIn0&_nc_ht=instagram.fupg6-1.fna.fbcdn.net&_nc_cat=100&_nc_ohc=QKc1X7q7jyEQ7kNvgHIId1a&_nc_gid=31477b211734483695686381a4800ead&edm=AMKDjl4AAAAA&ccb=7-5&ig_cache_key=MzI3NTIzMzAyNzgxNjk5MTM0NA%3D%3D.3-ccb7-5&oh=00_AYCF4cdUnjBLrjj6qpW4ofl3eV1c4KWUhqtJTw5QB53y_A&oe=673DDEAC&_nc_sid=472314'), 'media_type': 1}, {'pk': '3275233027615760121', 'video_url': None, 'thumbnail_url': Url('https://instagram.fupg6-1.fna.fbcdn.net/v/t39.30808-6/417485952_17995739741522304_1042850531768228904_n.jpg?se=7&stp=dst-jpg_e35&efg=eyJ2ZW5jb2RlX3RhZyI6ImltYWdlX3VybGdlbi4xMDgweDEwODAuc2RyLmYzMDgwOC5kZWZhdWx0X2ltYWdlIn0&_nc_ht=instagram.fupg6-1.fna.fbcdn.net&_nc_cat=100&_nc_ohc=4QAEJl-BHDkQ7kNvgF-Z-0j&_nc_gid=31477b211734483695686381a4800ead&edm=AMKDjl4AAAAA&ccb=7-5&ig_cache_key=MzI3NTIzMzAyNzYxNTc2MDEyMQ%3D%3D.3-ccb7-5&oh=00_AYBOYdrdDOJlocAEJEGhxrOF0EdctZQLqddDCiwvUMEfrg&oe=673DE5BB&_nc_sid=472314'), 'media_type': 1}, {'pk': '3275233027641040328', 'video_url': None, 'thumbnail_url': Url('https://instagram.fupg6-1.fna.fbcdn.net/v/t39.30808-6/417385438_17995739738522304_8748667318125431769_n.jpg?se=7&stp=dst-jpg_e35&efg=eyJ2ZW5jb2RlX3RhZyI6ImltYWdlX3VybGdlbi4xMDgweDEwODAuc2RyLmYzMDgwOC5kZWZhdWx0X2ltYWdlIn0&_nc_ht=instagram.fupg6-1.fna.fbcdn.net&_nc_cat=100&_nc_ohc=JZJih8egBogQ7kNvgHtzi8G&_nc_gid=31477b211734483695686381a4800ead&edm=AMKDjl4AAAAA&ccb=7-5&ig_cache_key=MzI3NTIzMzAyNzY0MTA0MDMyOA%3D%3D.3-ccb7-5&oh=00_AYD6wmwVS9ZSEVHfbWdZtw-VDmXWthBYdcix7N2DbSd3eg&oe=673DEAC4&_nc_sid=472314'), 'media_type': 1}, {'pk': '3275233027833826336', 'video_url': None, 'thumbnail_url': Url('https://instagram.fupg6-1.fna.fbcdn.net/v/t39.30808-6/417474883_17995739714522304_5926141165762718306_n.jpg?se=7&stp=dst-jpg_e35&efg=eyJ2ZW5jb2RlX3RhZyI6ImltYWdlX3VybGdlbi4xMDgweDEwODAuc2RyLmYzMDgwOC5kZWZhdWx0X2ltYWdlIn0&_nc_ht=instagram.fupg6-1.fna.fbcdn.net&_nc_cat=100&_nc_ohc=XQxIpV9FfSwQ7kNvgF-BbJ2&_nc_gid=31477b211734483695686381a4800ead&edm=AMKDjl4AAAAA&ccb=7-5&ig_cache_key=MzI3NTIzMzAyNzgzMzgyNjMzNg%3D%3D.3-ccb7-5&oh=00_AYCvBJLNe7ERb4B5WzEqM-y3zFTXodOEKzP1MMvojIp4XA&oe=673DC15D&_nc_sid=472314'), 'media_type': 1}], 'clips_metadata': {}}\n",
      "{'pk': 3448939384948627635, 'id': '3448939384948627635_37046978', 'code': 'C_dGBjrt5iz', 'taken_at': datetime.datetime(2024, 9, 3, 12, 13, 55, tzinfo=TzInfo(UTC)), 'media_type': 1, 'image_versions2': {'candidates': [{'width': 800, 'height': 952, 'url': 'https://instagram.fupg6-1.fna.fbcdn.net/v/t39.30808-6/458170102_1126179999389786_6744017706303728954_n.jpg?se=8&stp=dst-jpg_e35&efg=eyJ2ZW5jb2RlX3RhZyI6ImltYWdlX3VybGdlbi44MDB4OTUyLnNkci5mMzA4MDguZGVmYXVsdF9pbWFnZSJ9&_nc_ht=instagram.fupg6-1.fna.fbcdn.net&_nc_cat=102&_nc_ohc=g7LEEn4FkKoQ7kNvgHbX-_p&_nc_gid=31477b211734483695686381a4800ead&edm=AMKDjl4AAAAA&ccb=7-5&ig_cache_key=MzQ0ODkzOTM4NDk0ODYyNzYzNQ%3D%3D.3-ccb7-5&oh=00_AYBGjat0KjCxrSvnZw0qM4K5bYqE1RUdtIzCVCBw4_iGIA&oe=673DBD88&_nc_sid=472314', 'scans_profile': 'e35', 'estimated_scans_sizes': [14661, 29322, 43983, 58644, 73305, 82028, 104383, 118637, 131949]}, {'width': 360, 'height': 428, 'url': 'https://instagram.fupg6-1.fna.fbcdn.net/v/t39.30808-6/458170102_1126179999389786_6744017706303728954_n.jpg?stp=dst-jpg_e35_p360x360&efg=eyJ2ZW5jb2RlX3RhZyI6ImltYWdlX3VybGdlbi44MDB4OTUyLnNkci5mMzA4MDguZGVmYXVsdF9pbWFnZSJ9&_nc_ht=instagram.fupg6-1.fna.fbcdn.net&_nc_cat=102&_nc_ohc=g7LEEn4FkKoQ7kNvgHbX-_p&_nc_gid=31477b211734483695686381a4800ead&edm=AMKDjl4AAAAA&ccb=7-5&ig_cache_key=MzQ0ODkzOTM4NDk0ODYyNzYzNQ%3D%3D.3-ccb7-5&oh=00_AYACB-7SuqgoosUW-lyEucz5q6eqAEh40n0whahqDGEzzg&oe=673DBD88&_nc_sid=472314', 'scans_profile': 'e35', 'estimated_scans_sizes': [3528, 7057, 10586, 14114, 17643, 21241, 612989, 31758, 31758]}]}, 'product_type': 'feed', 'thumbnail_url': Url('https://instagram.fupg6-1.fna.fbcdn.net/v/t39.30808-6/458170102_1126179999389786_6744017706303728954_n.jpg?se=8&stp=dst-jpg_e35&efg=eyJ2ZW5jb2RlX3RhZyI6ImltYWdlX3VybGdlbi44MDB4OTUyLnNkci5mMzA4MDguZGVmYXVsdF9pbWFnZSJ9&_nc_ht=instagram.fupg6-1.fna.fbcdn.net&_nc_cat=102&_nc_ohc=g7LEEn4FkKoQ7kNvgHbX-_p&_nc_gid=31477b211734483695686381a4800ead&edm=AMKDjl4AAAAA&ccb=7-5&ig_cache_key=MzQ0ODkzOTM4NDk0ODYyNzYzNQ%3D%3D.3-ccb7-5&oh=00_AYBGjat0KjCxrSvnZw0qM4K5bYqE1RUdtIzCVCBw4_iGIA&oe=673DBD88&_nc_sid=472314'), 'location': {'pk': 682364545430144, 'name': 'Bizarro Studios North', 'phone': '', 'website': '', 'category': '', 'hours': {}, 'address': '666 Washington Road', 'city': '', 'zip': None, 'lng': -80.052981702326, 'lat': 40.379012561799, 'external_id': 682364545430144, 'external_id_source': 'facebook_places'}, 'user': {'pk': '37046978', 'username': 'waynocartoons', 'full_name': 'Wayno®', 'profile_pic_url': Url('https://instagram.fupg6-1.fna.fbcdn.net/v/t51.2885-19/436566143_731207279209754_3524583004267478953_n.jpg?stp=dst-jpg_e0_s150x150&_nc_ht=instagram.fupg6-1.fna.fbcdn.net&_nc_cat=102&_nc_ohc=2PD-yLDPmAEQ7kNvgErLzFJ&_nc_gid=31477b211734483695686381a4800ead&edm=AMKDjl4BAAAA&ccb=7-5&oh=00_AYAi1PvClvSicIX9Jwb442yPywnLKZpZfK1QK3b1ZQQC5w&oe=673DB931&_nc_sid=472314'), 'profile_pic_url_hd': None, 'is_private': False}, 'comment_count': 11, 'comments_disabled': False, 'commenting_disabled_for_viewer': False, 'like_count': 897, 'play_count': 0, 'has_liked': False, 'caption_text': 'Truth in Signage\\n#comics #cartoons #alien #internal #audit #internalaudit #probe #waynoandpiraro', 'accessibility_caption': None, 'usertags': [], 'sponsor_tags': [], 'video_url': None, 'view_count': 0, 'video_duration': 0.0, 'title': '', 'resources': [], 'clips_metadata': {}}\n",
      "{'pk': 3303658020781030208, 'id': '3303658020781030208_1315172422', 'code': 'C3Y83dkBftA', 'taken_at': datetime.datetime(2024, 2, 16, 1, 25, 47, tzinfo=TzInfo(UTC)), 'media_type': 1, 'image_versions2': {'candidates': [{'width': 1080, 'height': 1080, 'url': 'https://instagram.fupg6-1.fna.fbcdn.net/v/t39.30808-6/428316004_18404313235036423_7386453512610595747_n.jpg?se=7&stp=dst-jpg_e35&efg=eyJ2ZW5jb2RlX3RhZyI6ImltYWdlX3VybGdlbi4xMDgweDEwODAuc2RyLmYzMDgwOC5kZWZhdWx0X2ltYWdlIn0&_nc_ht=instagram.fupg6-1.fna.fbcdn.net&_nc_cat=107&_nc_ohc=LtmglkFMnUsQ7kNvgGKLOLd&_nc_gid=31477b211734483695686381a4800ead&edm=AMKDjl4AAAAA&ccb=7-5&ig_cache_key=MzMwMzY1ODAyMDc4MTAzMDIwOA%3D%3D.3-ccb7-5&oh=00_AYAeSg-ahn77ZpRTd_biDDmyqq90hW-yLvWKZSXFewgd_Q&oe=673DE14D&_nc_sid=472314', 'scans_profile': 'e35', 'estimated_scans_sizes': [18723, 37446, 56169, 74892, 93615, 104755, 133305, 151508, 168508]}, {'width': 360, 'height': 360, 'url': 'https://instagram.fupg6-1.fna.fbcdn.net/v/t39.30808-6/428316004_18404313235036423_7386453512610595747_n.jpg?stp=dst-jpg_e35_s360x360&efg=eyJ2ZW5jb2RlX3RhZyI6ImltYWdlX3VybGdlbi4xMDgweDEwODAuc2RyLmYzMDgwOC5kZWZhdWx0X2ltYWdlIn0&_nc_ht=instagram.fupg6-1.fna.fbcdn.net&_nc_cat=107&_nc_ohc=LtmglkFMnUsQ7kNvgGKLOLd&_nc_gid=31477b211734483695686381a4800ead&edm=AMKDjl4AAAAA&ccb=7-5&ig_cache_key=MzMwMzY1ODAyMDc4MTAzMDIwOA%3D%3D.3-ccb7-5&oh=00_AYATKFui6u4ZZIPw7y1OZvOnaGAgUXlOVsJCLUo8CswgCg&oe=673DE14D&_nc_sid=472314', 'scans_profile': 'e35', 'estimated_scans_sizes': [3085, 6170, 9256, 12341, 15427, 18573, 536011, 27769, 27769]}]}, 'product_type': 'feed', 'thumbnail_url': Url('https://instagram.fupg6-1.fna.fbcdn.net/v/t39.30808-6/428316004_18404313235036423_7386453512610595747_n.jpg?se=7&stp=dst-jpg_e35&efg=eyJ2ZW5jb2RlX3RhZyI6ImltYWdlX3VybGdlbi4xMDgweDEwODAuc2RyLmYzMDgwOC5kZWZhdWx0X2ltYWdlIn0&_nc_ht=instagram.fupg6-1.fna.fbcdn.net&_nc_cat=107&_nc_ohc=LtmglkFMnUsQ7kNvgGKLOLd&_nc_gid=31477b211734483695686381a4800ead&edm=AMKDjl4AAAAA&ccb=7-5&ig_cache_key=MzMwMzY1ODAyMDc4MTAzMDIwOA%3D%3D.3-ccb7-5&oh=00_AYAeSg-ahn77ZpRTd_biDDmyqq90hW-yLvWKZSXFewgd_Q&oe=673DE14D&_nc_sid=472314'), 'location': None, 'user': {'pk': '1315172422', 'username': 'sindonews', 'full_name': 'SINDOnews', 'profile_pic_url': Url('https://instagram.fupg6-1.fna.fbcdn.net/v/t51.2885-19/346777869_790973525567932_797631625669866786_n.jpg?stp=dst-jpg_e0_s150x150&_nc_ht=instagram.fupg6-1.fna.fbcdn.net&_nc_cat=104&_nc_ohc=AaSkk1odpksQ7kNvgGY9Iz7&_nc_gid=31477b211734483695686381a4800ead&edm=AMKDjl4BAAAA&ccb=7-5&oh=00_AYAvacWc33VsNuAa7pSft6qzwG0OKckPo4CGyDiKhPNzag&oe=673DC8B7&_nc_sid=472314'), 'profile_pic_url_hd': None, 'is_private': False}, 'comment_count': 334, 'comments_disabled': False, 'commenting_disabled_for_viewer': False, 'like_count': 3576, 'play_count': 0, 'has_liked': False, 'caption_text': 'Pakar Digital Forensik dari Institut Teknologi Bandung (ITB) Agung Harsoyo menilai perlu adanya assessment mendalam, seperti audit forensik terhadap Sistem Informasi Rekapitulasi Suara ( Sirekap ) Komisi Pemilihan Umum (KPU). Pasalnya, telah terjadi perbedaan perolehan suara di Sirekap dengan bukti foto Form C1.\\n\\nMenurutnya, tujuan pembentukan aplikasi Sirekap ini berkaitan dengan proses di KPU dalam mengumpulkan suara yang telah dihitung di TPS. Sirekap berbeda dengan software biasa seperti MS-Word yang tak langsung terkait proses tertentu.\\n\\n“Jadi, Sirekap ketika dibuat mesti mempertimbangkan dan mengimplementasikan requirements yang dibuat KPU. Contoh kecil, jika maksimum pemilih pada satu TPS adalah 300, maka pada aplikasi Sirekap jika ada perolehan suara melebihi 300 sudah tersaring, harus ada indikasi error,” kata Agung saat dihubungi, Kamis (15/2/2024) malam.\\n\\nKendati demikian, Agung merasa perlu assessment mendalam terhadap Sirekap KPU bila ada kejadian perbedaan data yang direkam dalam sistem itu dengan data Formulir C1 di TPS. Menurutnya, assessment mendalam itu bisa dilakukan pihak berwenang dan ahli independen.\\n\\nAgus berkata, assessment mendalam itu bisa dimulai dengan mengumpulkan bukti pelanggaran hingga mengaudit forensik IT sistem KPU. \\n\\nFoto: Dok. Sindonews \\n\\nhttps://nasional.sindonews.com/read/1322563/12/data-sirekap-tak-sinkron-dengan-perolehan-suara-form-c1-pakar-nilai-perlu-audit-forensik-it-kpu-1708041720?utm_medium=sosmed&utm_source=whatsapp\\n\\n#sindonews #kpu #bawaslu #sirekap #c1 #suararakyat #audit #KecuranganPemilu2024', 'accessibility_caption': None, 'usertags': [], 'sponsor_tags': [], 'video_url': None, 'view_count': 0, 'video_duration': 0.0, 'title': '', 'resources': [], 'clips_metadata': {}}\n",
      "{'pk': 3471925083918458867, 'id': '3471925083918458867_52125718916', 'code': 'DAuwXgBul_z', 'taken_at': datetime.datetime(2024, 10, 5, 5, 24, 45, tzinfo=TzInfo(UTC)), 'media_type': 2, 'image_versions2': {'candidates': [{'width': 360, 'height': 640, 'url': 'https://instagram.fupg6-1.fna.fbcdn.net/v/t51.29350-15/461976370_526463226905242_3494576971906969676_n.jpg?stp=dst-jpg_e15_p360x360&efg=eyJ2ZW5jb2RlX3RhZyI6ImltYWdlX3VybGdlbi4xMDgweDE5MjAuc2RyLmYyOTM1MC5kZWZhdWx0X2NvdmVyX2ZyYW1lIn0&_nc_ht=instagram.fupg6-1.fna.fbcdn.net&_nc_cat=110&_nc_ohc=IPAwPd9w44QQ7kNvgEb9HZj&_nc_gid=31477b211734483695686381a4800ead&edm=AMKDjl4BAAAA&ccb=7-5&ig_cache_key=MzQ3MTkyNTA4MzkxODQ1ODg2Nw%3D%3D.3-ccb7-5&oh=00_AYA_CoNHlmoLtOB03WU_IPQasg2aUIV5Qdl9uX03Ke6_ug&oe=673DE3BC&_nc_sid=472314', 'scans_profile': 'e15'}], 'additional_candidates': {'igtv_first_frame': {'width': 360, 'height': 639, 'url': 'https://instagram.fupg6-1.fna.fbcdn.net/v/t51.2885-15/462183945_1699620054133634_6219204344249098446_n.jpg?stp=dst-jpg_e15_p360x360&efg=eyJ2ZW5jb2RlX3RhZyI6ImltYWdlX3VybGdlbi42NDB4MTEzNi5zZHIuZjcxODc4LmFkZGl0aW9uYWxfY292ZXJfZnJhbWUifQ&_nc_ht=instagram.fupg6-1.fna.fbcdn.net&_nc_cat=102&_nc_ohc=Hb_POgSxw6cQ7kNvgFtMAVV&_nc_gid=31477b211734483695686381a4800ead&edm=AMKDjl4BAAAA&ccb=7-5&oh=00_AYC5QH0AK6bojGZysP8JwcTGlVNMYejABbEN5ZzPcUMBxg&oe=673DEEC3&_nc_sid=472314', 'scans_profile': 'e15'}, 'first_frame': {'width': 360, 'height': 639, 'url': 'https://instagram.fupg6-1.fna.fbcdn.net/v/t51.2885-15/462183945_1699620054133634_6219204344249098446_n.jpg?stp=dst-jpg_e15_p360x360&efg=eyJ2ZW5jb2RlX3RhZyI6ImltYWdlX3VybGdlbi42NDB4MTEzNi5zZHIuZjcxODc4LmFkZGl0aW9uYWxfY292ZXJfZnJhbWUifQ&_nc_ht=instagram.fupg6-1.fna.fbcdn.net&_nc_cat=102&_nc_ohc=Hb_POgSxw6cQ7kNvgFtMAVV&_nc_gid=31477b211734483695686381a4800ead&edm=AMKDjl4BAAAA&ccb=7-5&oh=00_AYC5QH0AK6bojGZysP8JwcTGlVNMYejABbEN5ZzPcUMBxg&oe=673DEEC3&_nc_sid=472314', 'scans_profile': 'e15'}, 'smart_frame': None}, 'scrubber_spritesheet_info_candidates': {'default': {'video_length': 28.266, 'thumbnail_width': 100, 'thumbnail_height': 178, 'thumbnail_duration': 0.2692, 'sprite_urls': ['https://instagram.fupg6-1.fna.fbcdn.net/v/t51.2885-15/462147115_535258955751172_3781138439943168156_n.jpg?_nc_ht=instagram.fupg6-1.fna.fbcdn.net&_nc_cat=104&_nc_ohc=AVBx4tkaHZ8Q7kNvgHNmlIM&_nc_gid=31477b211734483695686381a4800ead&edm=AMKDjl4BAAAA&ccb=7-5&oh=00_AYDLQpCnE38b8AWlcdaVUG16_zFCDA1CyAFElocGPNTg2w&oe=673DF0D5&_nc_sid=472314'], 'thumbnails_per_row': 15, 'total_thumbnail_num_per_sprite': 105, 'max_thumbnails_per_sprite': 105, 'sprite_width': 1500, 'sprite_height': 1246, 'rendered_width': 96, 'file_size_kb': 370}}}, 'product_type': 'clips', 'thumbnail_url': Url('https://instagram.fupg6-1.fna.fbcdn.net/v/t51.29350-15/461976370_526463226905242_3494576971906969676_n.jpg?stp=dst-jpg_e15_p360x360&efg=eyJ2ZW5jb2RlX3RhZyI6ImltYWdlX3VybGdlbi4xMDgweDE5MjAuc2RyLmYyOTM1MC5kZWZhdWx0X2NvdmVyX2ZyYW1lIn0&_nc_ht=instagram.fupg6-1.fna.fbcdn.net&_nc_cat=110&_nc_ohc=IPAwPd9w44QQ7kNvgEb9HZj&_nc_gid=31477b211734483695686381a4800ead&edm=AMKDjl4BAAAA&ccb=7-5&ig_cache_key=MzQ3MTkyNTA4MzkxODQ1ODg2Nw%3D%3D.3-ccb7-5&oh=00_AYA_CoNHlmoLtOB03WU_IPQasg2aUIV5Qdl9uX03Ke6_ug&oe=673DE3BC&_nc_sid=472314'), 'location': None, 'user': {'pk': '52125718916', 'username': 'goldengirlsmoments', 'full_name': 'Golden Girls Moments', 'profile_pic_url': Url('https://instagram.fupg6-1.fna.fbcdn.net/v/t51.2885-19/344778974_1414058252730672_9148688591406939652_n.jpg?stp=dst-jpg_e0_s150x150&_nc_ht=instagram.fupg6-1.fna.fbcdn.net&_nc_cat=1&_nc_ohc=gq23rCgw2UwQ7kNvgG8POJJ&_nc_gid=31477b211734483695686381a4800ead&edm=AMKDjl4BAAAA&ccb=7-5&oh=00_AYA8zub3T8bKXsUBWpgbqRjmzH_IwJO-O08MEqUryJeGUg&oe=673DC56D&_nc_sid=472314'), 'profile_pic_url_hd': None, 'is_private': False}, 'comment_count': 87, 'comments_disabled': False, 'commenting_disabled_for_viewer': False, 'like_count': 13631, 'play_count': 341107, 'has_liked': False, 'caption_text': 'It’s Better with Blanche ™️\\n\\n#GoldenGirls #TheGoldenGirls #RoseNylund #BettyWhite #DorothyZbornak #BeaArthur #BeatriceArthur #BlancheDevereaux #RueMcClanahan #SophiaPetrillo #EstelleGetty #Money #Audit #Taxes #TaxReturn #Auditor #NaturesCreditCard #ClassicTV #ClassicSitcom #ClassicComedy #Miami #Cheesecake #ThankYouForBeingAFriend #GoldenGirlsMoments', 'accessibility_caption': None, 'usertags': [], 'sponsor_tags': [], 'video_url': Url('https://instagram.fupg6-1.fna.fbcdn.net/o1/v/t16/f1/m86/3D48C4FD3F18F0F240A25FF8100453B0_video_dashinit.mp4?efg=eyJ4cHZfYXNzZXRfaWQiOjI4ODE3NzAwMTIxMjI1ODIsInZlbmNvZGVfdGFnIjoieHB2X3Byb2dyZXNzaXZlLklOU1RBR1JBTS5DTElQUy5DMy43MjAuZGFzaF9iYXNlbGluZV8xX3YxIn0&_nc_ht=instagram.fupg6-1.fna.fbcdn.net&_nc_cat=111&vs=5d36a8e08e8b48d0&_nc_vs=HBksFQIYUmlnX3hwdl9yZWVsc19wZXJtYW5lbnRfc3JfcHJvZC8zRDQ4QzRGRDNGMThGMEYyNDBBMjVGRjgxMDA0NTNCMF92aWRlb19kYXNoaW5pdC5tcDQVAALIAQAVAhg6cGFzc3Rocm91Z2hfZXZlcnN0b3JlL0dGbDNqQnRDR1NBcmgtNENBSGRxYmFsVkViNEticV9FQUFBRhUCAsgBACgAGAAbAogHdXNlX29pbAExEnByb2dyZXNzaXZlX3JlY2lwZQExFQAAJqz3rN6LvZ4KFQIoAkMzLBdAPEQYk3S8ahgSZGFzaF9iYXNlbGluZV8xX3YxEQB1_gcA&ccb=9-4&oh=00_AYB65nRW_ZSZOqef2_SazL0ucw5CkWMswVwspz6tUBStRw&oe=6739CCEF&_nc_sid=1d576d'), 'view_count': 0, 'video_duration': 28.266, 'title': '', 'resources': [], 'clips_metadata': {'breaking_content_info': None, 'breaking_creator_info': None, 'clips_creation_entry_point': 'clips', 'featured_label': None, 'is_public_chat_welcome_video': False, 'is_shared_to_fb': True, 'professional_clips_upsell_type': 0, 'reels_on_the_rise_info': None, 'show_tips': None, 'achievements_info': {'num_earned_achievements': None, 'show_achievements': False}, 'additional_audio_info': {'additional_audio_username': None, 'audio_reattribution_info': {'should_allow_restore': False}}, 'asset_recommendation_info': None, 'audio_ranking_info': {'best_audio_cluster_id': '762820762617496'}, 'audio_type': 'original_sounds', 'branded_content_tag_info': {'can_add_tag': False}, 'challenge_info': None, 'content_appreciation_info': {'enabled': False, 'entry_point_container': None}, 'contextual_highlight_info': None, 'cutout_sticker_info': [], 'disable_use_in_clips_client_cache': False, 'external_media_info': None, 'is_fan_club_promo_video': False, 'mashup_info': {'can_toggle_mashups_allowed': False, 'formatted_mashups_count': None, 'has_been_mashed_up': False, 'has_nonmimicable_additional_audio': False, 'is_creator_requesting_mashup': False, 'is_light_weight_check': True, 'is_light_weight_reuse_allowed_check': False, 'is_pivot_page_available': False, 'is_reuse_allowed': True, 'mashup_type': None, 'mashups_allowed': True, 'non_privacy_filtered_mashups_media_count': 0, 'privacy_filtered_mashups_media_count': None, 'original_media': None}, 'merchandising_pill_info': None, 'music_canonical_id': '18457301443059248', 'music_info': None, 'nux_info': None, 'original_sound_info': {'allow_creator_to_rename': True, 'audio_asset_id': 434540315883297, 'attributed_custom_audio_asset_id': None, 'can_remix_be_shared_to_fb': True, 'can_remix_be_shared_to_fb_expansion': False, 'dash_manifest': '<?xml version=\"1.0\" encoding=\"UTF-8\"?>\\n<MPD xmlns=\"urn:mpeg:dash:schema:mpd:2011\" xmlns:xsi=\"http://www.w3.org/2001/XMLSchema-instance\" xsi:schemaLocation=\"urn:mpeg:dash:schema:mpd:2011 DASH-MPD.xsd\" profiles=\"urn:mpeg:dash:profile:isoff-on-demand:2011\" minBufferTime=\"PT2S\" type=\"static\" mediaPresentationDuration=\"PT28.280453S\"><Period id=\"0\" duration=\"PT28.280453S\"><AdaptationSet id=\"0\" contentType=\"audio\" subsegmentStartsWithSAP=\"1\" subsegmentAlignment=\"true\"><Representation id=\"1196481884942825a\" bandwidth=\"63488\" codecs=\"mp4a.40.5\" mimeType=\"audio/mp4\" FBAvgBitrate=\"63488\" audioSamplingRate=\"44100\" FBDefaultQuality=\"1\"><AudioChannelConfiguration schemeIdUri=\"urn:mpeg:dash:23003:3:audio_channel_configuration:2011\" value=\"2\"/><BaseURL>https://instagram.fupg6-1.fna.fbcdn.net/o1/v/t16/f2/m69/AQNNm6z2Sd7eejMZKBfpxI7Bl1JNr_83f6LQV4uW177ywu_tkRTux4cd_JOO1ztV9yyskO2XxhwOTLID5Z8a-yjx.mp4?strext=1&amp;_nc_cat=105&amp;_nc_sid=9ca052&amp;_nc_ht=instagram.fupg6-1.fna.fbcdn.net&amp;_nc_ohc=ECofd0Heaw8Q7kNvgGzip4S&amp;efg=eyJ2ZW5jb2RlX3RhZyI6ImRhc2hfbG5faGVhYWNfdmJyM19hdWRpbyIsInZpZGVvX2lkIjpudWxsLCJjbGllbnRfbmFtZSI6InVua25vd24iLCJvaWxfdXJsZ2VuX2FwcF9pZCI6MjU2MjgxMDQwNTU4LCJ1cmxnZW5fc291cmNlIjoid3d3In0%3D&amp;ccb=9-4&amp;oh=00_AYCDdqq00ofTjdRQi8vXVXoUSZdNoOz0t98hiDsxeF2Zfw&amp;oe=673DDB1E</BaseURL><SegmentBase indexRange=\"824-1035\" timescale=\"44100\"><Initialization range=\"0-823\"/></SegmentBase></Representation></AdaptationSet></Period></MPD>\\n', 'duration_in_ms': 28280, 'formatted_clips_media_count': None, 'hide_remixing': False, 'ig_artist': {'pk': 52125718916, 'pk_id': '52125718916', 'id': '52125718916', 'username': 'goldengirlsmoments', 'full_name': 'Golden Girls Moments', 'is_private': False, 'strong_id__': '52125718916', 'is_verified': False, 'profile_pic_id': '3096086401959683074_52125718916', 'profile_pic_url': 'https://instagram.fupg6-1.fna.fbcdn.net/v/t51.2885-19/344778974_1414058252730672_9148688591406939652_n.jpg?stp=dst-jpg_e0_s150x150&_nc_ht=instagram.fupg6-1.fna.fbcdn.net&_nc_cat=1&_nc_ohc=gq23rCgw2UwQ7kNvgG8POJJ&_nc_gid=31477b211734483695686381a4800ead&edm=AMKDjl4BAAAA&ccb=7-5&oh=00_AYA8zub3T8bKXsUBWpgbqRjmzH_IwJO-O08MEqUryJeGUg&oe=673DC56D&_nc_sid=472314'}, 'is_audio_automatically_attributed': False, 'is_eligible_for_audio_effects': True, 'is_eligible_for_vinyl_sticker': True, 'is_explicit': False, 'is_original_audio_download_eligible': False, 'is_reuse_disabled': False, 'is_xpost_from_fb': False, 'music_canonical_id': None, 'oa_owner_is_music_artist': False, 'original_audio_subtype': 'default', 'original_audio_title': 'Original audio', 'original_media_id': 3471925083918458867, 'progressive_download_url': 'https://scontent.fupg6-1.fna.fbcdn.net/o1/v/t2/f2/m69/AQP3uk61Qm6DkPbl4P4AgleWo24-xQpqi6qFIXwJnvIepkX_S_otK_C_dkG2Izs3mOXBlWlBuaAP_YM7Bl93mpbI.mp4?strext=1&_nc_cat=109&_nc_sid=8bf8fe&_nc_ht=scontent.fupg6-1.fna.fbcdn.net&_nc_ohc=MjyQ4kdHyHYQ7kNvgEwBHGI&efg=eyJ2ZW5jb2RlX3RhZyI6Inhwdl9wcm9ncmVzc2l2ZS5BVURJT19PTkxZLi5DMy4wLnByb2dyZXNzaXZlX2F1ZGlvIiwieHB2X2Fzc2V0X2lkIjoyODgxNzcwMDEyMTIyNTgyLCJ1cmxnZW5fc291cmNlIjoid3d3In0%3D&ccb=9-4&_nc_zt=28&oh=00_AYC-OOY9ewMBvgtTeabN_62PzR-NBRkbKU1aX0_hx2nHgw&oe=673DCEE4', 'should_mute_audio': False, 'time_created': 1728105895, 'trend_rank': None, 'previous_trend_rank': None, 'overlap_duration_in_ms': None, 'audio_asset_start_time_in_ms': None, 'audio_filter_infos': [], 'audio_parts': [], 'audio_parts_by_filter': [], 'consumption_info': {'display_media_id': None, 'is_bookmarked': False, 'is_trending_in_clips': False, 'should_mute_audio_reason': '', 'should_mute_audio_reason_type': None}, 'xpost_fb_creator_info': None}, 'originality_info': None, 'reusable_text_attribute_string': None, 'reusable_text_info': None, 'shopping_info': None, 'show_achievements': False, 'template_info': None, 'viewer_interaction_settings': None}}\n",
      "{'pk': 3475160492991405991, 'id': '3475160492991405991_30140578768', 'code': 'DA6QA5iOV-n', 'taken_at': datetime.datetime(2024, 10, 9, 16, 31, 17, tzinfo=TzInfo(UTC)), 'media_type': 2, 'image_versions2': {'candidates': [{'width': 360, 'height': 640, 'url': 'https://instagram.fupg6-1.fna.fbcdn.net/v/t51.29350-15/462675471_1013519637215622_3498893518666372011_n.jpg?stp=dst-jpg_e15_p360x360&efg=eyJ2ZW5jb2RlX3RhZyI6ImltYWdlX3VybGdlbi43MjB4MTI4MC5zZHIuZjI5MzUwLmRlZmF1bHRfY292ZXJfZnJhbWUifQ&_nc_ht=instagram.fupg6-1.fna.fbcdn.net&_nc_cat=106&_nc_ohc=-OsKSHsaFiYQ7kNvgF3_yzE&_nc_gid=31477b211734483695686381a4800ead&edm=AMKDjl4BAAAA&ccb=7-5&ig_cache_key=MzQ3NTE2MDQ5Mjk5MTQwNTk5MQ%3D%3D.3-ccb7-5&oh=00_AYC42OsTY1Y2-JIafiSlawfIM_g_aoDT6d9dhwi9R1n8Zg&oe=673DE108&_nc_sid=472314', 'scans_profile': 'e15'}], 'additional_candidates': {'igtv_first_frame': {'width': 360, 'height': 639, 'url': 'https://instagram.fupg6-1.fna.fbcdn.net/v/t51.2885-15/462411675_818332443711055_3583953437314797144_n.jpg?stp=dst-jpg_e15_p360x360&efg=eyJ2ZW5jb2RlX3RhZyI6ImltYWdlX3VybGdlbi42NDB4MTEzNi5zZHIuZjcxODc4LmFkZGl0aW9uYWxfY292ZXJfZnJhbWUifQ&_nc_ht=instagram.fupg6-1.fna.fbcdn.net&_nc_cat=107&_nc_ohc=b9juNeNHkXIQ7kNvgEdyC-_&_nc_gid=31477b211734483695686381a4800ead&edm=AMKDjl4BAAAA&ccb=7-5&oh=00_AYDQfjBfwGCa9o2lhYmvdF2RxfhQO7gfKUQfXEB9-9f2zg&oe=673DCC77&_nc_sid=472314', 'scans_profile': 'e15'}, 'first_frame': {'width': 360, 'height': 639, 'url': 'https://instagram.fupg6-1.fna.fbcdn.net/v/t51.2885-15/462411675_818332443711055_3583953437314797144_n.jpg?stp=dst-jpg_e15_p360x360&efg=eyJ2ZW5jb2RlX3RhZyI6ImltYWdlX3VybGdlbi42NDB4MTEzNi5zZHIuZjcxODc4LmFkZGl0aW9uYWxfY292ZXJfZnJhbWUifQ&_nc_ht=instagram.fupg6-1.fna.fbcdn.net&_nc_cat=107&_nc_ohc=b9juNeNHkXIQ7kNvgEdyC-_&_nc_gid=31477b211734483695686381a4800ead&edm=AMKDjl4BAAAA&ccb=7-5&oh=00_AYDQfjBfwGCa9o2lhYmvdF2RxfhQO7gfKUQfXEB9-9f2zg&oe=673DCC77&_nc_sid=472314', 'scans_profile': 'e15'}, 'smart_frame': None}, 'scrubber_spritesheet_info_candidates': {'default': {'video_length': 110.766, 'thumbnail_width': 100, 'thumbnail_height': 178, 'thumbnail_duration': 1.0549142857142857, 'sprite_urls': ['https://instagram.fupg6-1.fna.fbcdn.net/v/t51.2885-15/462565012_27438283142452643_4722876628185465495_n.jpg?_nc_ht=instagram.fupg6-1.fna.fbcdn.net&_nc_cat=111&_nc_ohc=sYChzdd1X-MQ7kNvgFg-dBC&_nc_gid=31477b211734483695686381a4800ead&edm=AMKDjl4BAAAA&ccb=7-5&oh=00_AYD-0qvSnmlKyspxJDdc2givKaryPDwtSxeI2UKO02uKmQ&oe=673DBB43&_nc_sid=472314'], 'thumbnails_per_row': 15, 'total_thumbnail_num_per_sprite': 105, 'max_thumbnails_per_sprite': 105, 'sprite_width': 1500, 'sprite_height': 1246, 'rendered_width': 96, 'file_size_kb': 315}}}, 'product_type': 'clips', 'thumbnail_url': Url('https://instagram.fupg6-1.fna.fbcdn.net/v/t51.29350-15/462675471_1013519637215622_3498893518666372011_n.jpg?stp=dst-jpg_e15_p360x360&efg=eyJ2ZW5jb2RlX3RhZyI6ImltYWdlX3VybGdlbi43MjB4MTI4MC5zZHIuZjI5MzUwLmRlZmF1bHRfY292ZXJfZnJhbWUifQ&_nc_ht=instagram.fupg6-1.fna.fbcdn.net&_nc_cat=106&_nc_ohc=-OsKSHsaFiYQ7kNvgF3_yzE&_nc_gid=31477b211734483695686381a4800ead&edm=AMKDjl4BAAAA&ccb=7-5&ig_cache_key=MzQ3NTE2MDQ5Mjk5MTQwNTk5MQ%3D%3D.3-ccb7-5&oh=00_AYC42OsTY1Y2-JIafiSlawfIM_g_aoDT6d9dhwi9R1n8Zg&oe=673DE108&_nc_sid=472314'), 'location': None, 'user': {'pk': '30140578768', 'username': 'afsh4ck', 'full_name': 'AFS H4CK', 'profile_pic_url': Url('https://instagram.fupg6-1.fna.fbcdn.net/v/t51.2885-19/346037870_1072918684118432_3890310963913646836_n.jpg?stp=dst-jpg_e0_s150x150&_nc_ht=instagram.fupg6-1.fna.fbcdn.net&_nc_cat=108&_nc_ohc=A8S45ptW1i4Q7kNvgEpZY8D&_nc_gid=31477b211734483695686381a4800ead&edm=AMKDjl4BAAAA&ccb=7-5&oh=00_AYDtieTxpB35Lywu9qJC-UfWlNY95ABmlIYxkTF3ZRxO4Q&oe=673DDF79&_nc_sid=472314'), 'profile_pic_url_hd': None, 'is_private': False}, 'comment_count': 10, 'comments_disabled': False, 'commenting_disabled_for_viewer': False, 'like_count': 1430, 'play_count': 26524, 'has_liked': False, 'caption_text': 'Final Recon 🔎 // #ciberseguridad #ethicalhacker #hacking #hackingtools #hacker #linux #kalilinux #kalilinuxtools #hackerman #hackerspace #audit #pentesting #web #viral #viralvideos #viralreels', 'accessibility_caption': None, 'usertags': [], 'sponsor_tags': [], 'video_url': Url('https://instagram.fupg6-1.fna.fbcdn.net/o1/v/t16/f1/m86/064A1BFEFA1ADDF55AFCE9A1A3B42A9F_video_dashinit.mp4?efg=eyJ4cHZfYXNzZXRfaWQiOjEwNTk2MjczNTU0MzQ1OTQsInZlbmNvZGVfdGFnIjoieHB2X3Byb2dyZXNzaXZlLklOU1RBR1JBTS5DTElQUy5DMy43MjAuZGFzaF9iYXNlbGluZV8xX3YxIn0&_nc_ht=instagram.fupg6-1.fna.fbcdn.net&_nc_cat=105&vs=1d45cd69999862e0&_nc_vs=HBksFQIYUmlnX3hwdl9yZWVsc19wZXJtYW5lbnRfc3JfcHJvZC8wNjRBMUJGRUZBMUFEREY1NUFGQ0U5QTFBM0I0MkE5Rl92aWRlb19kYXNoaW5pdC5tcDQVAALIAQAVAhg6cGFzc3Rocm91Z2hfZXZlcnN0b3JlL0dMMkZrUnN1QU5LMGZYRWVBQ21OdHpIaTkySThicV9FQUFBRhUCAsgBACgAGAAbAogHdXNlX29pbAExEnByb2dyZXNzaXZlX3JlY2lwZQExFQAAJsS564G37uEDFQIoAkMzLBdAW7EGJN0vGxgSZGFzaF9iYXNlbGluZV8xX3YxEQB1_gcA&ccb=9-4&oh=00_AYCUcMzfdY_rJhcxSzcInQfV-2zG6PsAJyJ3ekvmE5X73g&oe=6739F975&_nc_sid=1d576d'), 'view_count': 0, 'video_duration': 110.766, 'title': '', 'resources': [], 'clips_metadata': {'breaking_content_info': None, 'breaking_creator_info': None, 'clips_creation_entry_point': 'clips', 'featured_label': None, 'is_public_chat_welcome_video': False, 'is_shared_to_fb': True, 'professional_clips_upsell_type': 0, 'reels_on_the_rise_info': None, 'show_tips': None, 'achievements_info': {'num_earned_achievements': None, 'show_achievements': False}, 'additional_audio_info': {'additional_audio_username': None, 'audio_reattribution_info': {'should_allow_restore': False}}, 'asset_recommendation_info': None, 'audio_ranking_info': {'best_audio_cluster_id': '909611637691841'}, 'audio_type': 'original_sounds', 'branded_content_tag_info': {'can_add_tag': False}, 'challenge_info': None, 'content_appreciation_info': {'enabled': False, 'entry_point_container': None}, 'contextual_highlight_info': None, 'cutout_sticker_info': [], 'disable_use_in_clips_client_cache': False, 'external_media_info': None, 'is_fan_club_promo_video': False, 'mashup_info': {'can_toggle_mashups_allowed': False, 'formatted_mashups_count': None, 'has_been_mashed_up': False, 'has_nonmimicable_additional_audio': False, 'is_creator_requesting_mashup': False, 'is_light_weight_check': True, 'is_light_weight_reuse_allowed_check': False, 'is_pivot_page_available': False, 'is_reuse_allowed': False, 'mashup_type': None, 'mashups_allowed': False, 'non_privacy_filtered_mashups_media_count': 0, 'privacy_filtered_mashups_media_count': None, 'original_media': None}, 'merchandising_pill_info': None, 'music_canonical_id': '18465056116041042', 'music_info': None, 'nux_info': None, 'original_sound_info': {'allow_creator_to_rename': True, 'audio_asset_id': 1050708230102314, 'attributed_custom_audio_asset_id': None, 'can_remix_be_shared_to_fb': True, 'can_remix_be_shared_to_fb_expansion': False, 'dash_manifest': '<?xml version=\"1.0\" encoding=\"UTF-8\"?>\\n<MPD xmlns=\"urn:mpeg:dash:schema:mpd:2011\" xmlns:xsi=\"http://www.w3.org/2001/XMLSchema-instance\" xsi:schemaLocation=\"urn:mpeg:dash:schema:mpd:2011 DASH-MPD.xsd\" profiles=\"urn:mpeg:dash:profile:isoff-on-demand:2011\" minBufferTime=\"PT2S\" type=\"static\" mediaPresentationDuration=\"PT110.780952S\"><Period id=\"0\" duration=\"PT110.780952S\"><AdaptationSet id=\"0\" contentType=\"audio\" subsegmentStartsWithSAP=\"1\" subsegmentAlignment=\"true\"><Representation id=\"1246567209708170a\" bandwidth=\"67120\" codecs=\"mp4a.40.5\" mimeType=\"audio/mp4\" FBAvgBitrate=\"67120\" audioSamplingRate=\"44100\" FBDefaultQuality=\"1\"><AudioChannelConfiguration schemeIdUri=\"urn:mpeg:dash:23003:3:audio_channel_configuration:2011\" value=\"2\"/><BaseURL>https://instagram.fupg6-1.fna.fbcdn.net/o1/v/t16/f2/m69/AQM4Yom7X5oGW-ILLaB4KiSmzJdl2oX680gmEEU4DTrpbTViznuhoPLZlzzm7JkB8y_-yDLcccv7ZcEvyMbsw1fn.mp4?strext=1&amp;_nc_cat=104&amp;_nc_sid=9ca052&amp;_nc_ht=instagram.fupg6-1.fna.fbcdn.net&amp;_nc_ohc=iP3BZPh6VrQQ7kNvgEUMzro&amp;efg=eyJ2ZW5jb2RlX3RhZyI6ImRhc2hfbG5faGVhYWNfdmJyM19hdWRpbyIsInZpZGVvX2lkIjpudWxsLCJjbGllbnRfbmFtZSI6InVua25vd24iLCJvaWxfdXJsZ2VuX2FwcF9pZCI6MjU2MjgxMDQwNTU4LCJ1cmxnZW5fc291cmNlIjoid3d3In0%3D&amp;ccb=9-4&amp;oh=00_AYA4aMt8XmittIGMlTVjZFj0q9B9Ac1Ic5gAaR8-9YLjGw&amp;oe=673DE105</BaseURL><SegmentBase indexRange=\"824-1527\" timescale=\"44100\"><Initialization range=\"0-823\"/></SegmentBase></Representation></AdaptationSet></Period></MPD>\\n', 'duration_in_ms': 110780, 'formatted_clips_media_count': None, 'hide_remixing': False, 'ig_artist': {'pk': 30140578768, 'pk_id': '30140578768', 'id': '30140578768', 'username': 'afsh4ck', 'full_name': 'AFS H4CK', 'is_private': False, 'strong_id__': '30140578768', 'is_verified': False, 'profile_pic_id': '3101219798805561643_30140578768', 'profile_pic_url': 'https://instagram.fupg6-1.fna.fbcdn.net/v/t51.2885-19/346037870_1072918684118432_3890310963913646836_n.jpg?stp=dst-jpg_e0_s150x150&_nc_ht=instagram.fupg6-1.fna.fbcdn.net&_nc_cat=108&_nc_ohc=A8S45ptW1i4Q7kNvgEpZY8D&_nc_gid=31477b211734483695686381a4800ead&edm=AMKDjl4BAAAA&ccb=7-5&oh=00_AYDtieTxpB35Lywu9qJC-UfWlNY95ABmlIYxkTF3ZRxO4Q&oe=673DDF79&_nc_sid=472314'}, 'is_audio_automatically_attributed': False, 'is_eligible_for_audio_effects': True, 'is_eligible_for_vinyl_sticker': True, 'is_explicit': False, 'is_original_audio_download_eligible': False, 'is_reuse_disabled': False, 'is_xpost_from_fb': False, 'music_canonical_id': None, 'oa_owner_is_music_artist': False, 'original_audio_subtype': 'default', 'original_audio_title': 'Original audio', 'original_media_id': 3475160492991405991, 'progressive_download_url': 'https://scontent.fupg6-1.fna.fbcdn.net/o1/v/t2/f2/m69/AQNyTbcCmjteVE_6oyPZgbCu3tbf7mPC3pSDHYbyZ15lN9-m-J9mFu2avLVrCpAcQa-VMyaaBhNZ_2uF0zm0l_5J.mp4?strext=1&_nc_cat=107&_nc_sid=8bf8fe&_nc_ht=scontent.fupg6-1.fna.fbcdn.net&_nc_ohc=dWAqBICNCTUQ7kNvgE_7173&efg=eyJ2ZW5jb2RlX3RhZyI6Inhwdl9wcm9ncmVzc2l2ZS5BVURJT19PTkxZLi5DMy4wLnByb2dyZXNzaXZlX2F1ZGlvIiwieHB2X2Fzc2V0X2lkIjoxMDU5NjI3MzU1NDM0NTk0LCJ1cmxnZW5fc291cmNlIjoid3d3In0%3D&ccb=9-4&_nc_zt=28&oh=00_AYCw-7sjqVV0v54UIl2d4KEX92-eZvO2peNeXGj_pAI8ew&oe=673DD1B2', 'should_mute_audio': False, 'time_created': 1728491483, 'trend_rank': None, 'previous_trend_rank': None, 'overlap_duration_in_ms': None, 'audio_asset_start_time_in_ms': None, 'audio_filter_infos': [], 'audio_parts': [], 'audio_parts_by_filter': [], 'consumption_info': {'display_media_id': None, 'is_bookmarked': False, 'is_trending_in_clips': False, 'should_mute_audio_reason': '', 'should_mute_audio_reason_type': None}, 'xpost_fb_creator_info': None}, 'originality_info': None, 'reusable_text_attribute_string': None, 'reusable_text_info': None, 'shopping_info': None, 'show_achievements': False, 'template_info': None, 'viewer_interaction_settings': None}}\n",
      "{'pk': 3444196626518496977, 'id': '3444196626518496977_53857704659', 'code': 'C_MPpVsO9bR', 'taken_at': datetime.datetime(2024, 8, 27, 23, 12, 11, tzinfo=TzInfo(UTC)), 'media_type': 2, 'image_versions2': {'candidates': [{'width': 360, 'height': 640, 'url': 'https://instagram.fupg6-1.fna.fbcdn.net/v/t51.29350-15/457195974_1015942336874995_1577787768137998927_n.jpg?stp=dst-jpg_e15_p360x360&efg=eyJ2ZW5jb2RlX3RhZyI6ImltYWdlX3VybGdlbi43MjB4MTI4MC5zZHIuZjI5MzUwLmRlZmF1bHRfY292ZXJfZnJhbWUifQ&_nc_ht=instagram.fupg6-1.fna.fbcdn.net&_nc_cat=107&_nc_ohc=8whclGNC4DMQ7kNvgGc0V4D&_nc_gid=31477b211734483695686381a4800ead&edm=AMKDjl4BAAAA&ccb=7-5&ig_cache_key=MzQ0NDE5NjYyNjUxODQ5Njk3Nw%3D%3D.3-ccb7-5&oh=00_AYBVveYqXApUhXd23O0rOeAr5fu1f7vfgZHEZudMUg4-SQ&oe=673DBD3A&_nc_sid=472314', 'scans_profile': 'e15'}], 'additional_candidates': {'igtv_first_frame': {'width': 360, 'height': 639, 'url': 'https://instagram.fupg6-1.fna.fbcdn.net/v/t51.2885-15/456610518_3665378107011145_4416290112948121181_n.jpg?stp=dst-jpg_e15_p360x360&efg=eyJ2ZW5jb2RlX3RhZyI6ImltYWdlX3VybGdlbi42NDB4MTEzNi5zZHIuZjcxODc4LmFkZGl0aW9uYWxfY292ZXJfZnJhbWUifQ&_nc_ht=instagram.fupg6-1.fna.fbcdn.net&_nc_cat=101&_nc_ohc=VJ79zVdEfxAQ7kNvgGJcRQb&_nc_gid=31477b211734483695686381a4800ead&edm=AMKDjl4BAAAA&ccb=7-5&oh=00_AYBhaxcbdjQghR4ICpAFzwdv-wuQ9pNQ-i1Rf03qHKXMRA&oe=673DDB18&_nc_sid=472314', 'scans_profile': 'e15'}, 'first_frame': {'width': 360, 'height': 639, 'url': 'https://instagram.fupg6-1.fna.fbcdn.net/v/t51.2885-15/456610518_3665378107011145_4416290112948121181_n.jpg?stp=dst-jpg_e15_p360x360&efg=eyJ2ZW5jb2RlX3RhZyI6ImltYWdlX3VybGdlbi42NDB4MTEzNi5zZHIuZjcxODc4LmFkZGl0aW9uYWxfY292ZXJfZnJhbWUifQ&_nc_ht=instagram.fupg6-1.fna.fbcdn.net&_nc_cat=101&_nc_ohc=VJ79zVdEfxAQ7kNvgGJcRQb&_nc_gid=31477b211734483695686381a4800ead&edm=AMKDjl4BAAAA&ccb=7-5&oh=00_AYBhaxcbdjQghR4ICpAFzwdv-wuQ9pNQ-i1Rf03qHKXMRA&oe=673DDB18&_nc_sid=472314', 'scans_profile': 'e15'}, 'smart_frame': None}}, 'product_type': 'clips', 'thumbnail_url': Url('https://instagram.fupg6-1.fna.fbcdn.net/v/t51.29350-15/457195974_1015942336874995_1577787768137998927_n.jpg?stp=dst-jpg_e15_p360x360&efg=eyJ2ZW5jb2RlX3RhZyI6ImltYWdlX3VybGdlbi43MjB4MTI4MC5zZHIuZjI5MzUwLmRlZmF1bHRfY292ZXJfZnJhbWUifQ&_nc_ht=instagram.fupg6-1.fna.fbcdn.net&_nc_cat=107&_nc_ohc=8whclGNC4DMQ7kNvgGc0V4D&_nc_gid=31477b211734483695686381a4800ead&edm=AMKDjl4BAAAA&ccb=7-5&ig_cache_key=MzQ0NDE5NjYyNjUxODQ5Njk3Nw%3D%3D.3-ccb7-5&oh=00_AYBVveYqXApUhXd23O0rOeAr5fu1f7vfgZHEZudMUg4-SQ&oe=673DBD3A&_nc_sid=472314'), 'location': None, 'user': {'pk': '53857704659', 'username': 'thequalityquirks', 'full_name': 'Quality Quirks - It’s a joke RELAX', 'profile_pic_url': Url('https://instagram.fupg6-1.fna.fbcdn.net/v/t51.2885-19/449324202_892539772901400_38059504425966271_n.jpg?stp=dst-jpg_e0_s150x150&_nc_ht=instagram.fupg6-1.fna.fbcdn.net&_nc_cat=100&_nc_ohc=3WwMuiInRToQ7kNvgGy0iob&_nc_gid=31477b211734483695686381a4800ead&edm=AMKDjl4BAAAA&ccb=7-5&oh=00_AYA6L1zrnZUx_yuG3qphhMLq0LElYQQGU9nJPdyGoyvWLw&oe=673DCD95&_nc_sid=472314'), 'profile_pic_url_hd': None, 'is_private': False}, 'comment_count': 3, 'comments_disabled': False, 'commenting_disabled_for_viewer': False, 'like_count': 672, 'play_count': 52444, 'has_liked': False, 'caption_text': 'Fixed for ~12 seconds 🙄\\n\\n#QualityAssurance #QualityControl #ISO9001 #ISO13485 #GMP #ContinuousImprovement #QualityManagement #Compliance #LeanManufacturing #SixSigma #CAPA #RegulatoryCompliance #Audit #ProcessImprovement #RiskManagement #RootCauseAnalysis #QualityStandards #QMS #QualityMatters #QualityFirst #Inspection #QualityEngineering #ManufacturingExcellence #QualityLeadership #OperationalExcellence #CustomerSatisfaction #TotalQualityManagement #TQM #QualityImprovement #SOP', 'accessibility_caption': None, 'usertags': [], 'sponsor_tags': [], 'video_url': Url('https://instagram.fupg6-1.fna.fbcdn.net/o1/v/t16/f2/m69/AQO3gN8ZYgc-iZBp7yjL3PT6LZGv9T2lt8Qu-pRRsL0b_8vz0_PUPFHZaLNCkpA9yZ9q_9YQWl7qy0ZBmCIMuynK.mp4?efg=eyJ4cHZfYXNzZXRfaWQiOjIwNjIwMzczMTc1ODYyOTksInZlbmNvZGVfdGFnIjoieHB2X3Byb2dyZXNzaXZlLklOU1RBR1JBTS5DTElQUy5DMy4xMDgwLmRhc2hfYmFzZWxpbmVfMTA4MHBfdjEifQ&_nc_ht=instagram.fupg6-1.fna.fbcdn.net&_nc_cat=105&strext=1&vs=4057c54eadf709c5&_nc_vs=HBksFQIYOnBhc3N0aHJvdWdoX2V2ZXJzdG9yZS9HQzZFOUJMSF9yRm9razBPQUdTeEFjYmRUMnNHYnBSMUFBQUYVAALIAQAVAhg6cGFzc3Rocm91Z2hfZXZlcnN0b3JlL0dNQVBReHZrd3VqR0ZCMERBSy0yTmxqWWR6c3RicV9FQUFBRhUCAsgBACgAGAAbAogHdXNlX29pbAExEnByb2dyZXNzaXZlX3JlY2lwZQExFQAAJva1oJ2v2qkHFQIoAkMzLBdAICHKwIMSbxgWZGFzaF9iYXNlbGluZV8xMDgwcF92MREAdf4HAA&ccb=9-4&oh=00_AYDTO17LWp_Sv8pmLpsgvV35kmNqLRGskU8Gxx3fwUJLVg&oe=6739CD6E&_nc_sid=1d576d'), 'view_count': 0, 'video_duration': 8.066, 'title': '', 'resources': [], 'clips_metadata': {'breaking_content_info': None, 'breaking_creator_info': None, 'clips_creation_entry_point': 'clips', 'featured_label': None, 'is_public_chat_welcome_video': False, 'is_shared_to_fb': False, 'professional_clips_upsell_type': 0, 'reels_on_the_rise_info': None, 'show_tips': None, 'achievements_info': {'num_earned_achievements': None, 'show_achievements': False}, 'additional_audio_info': {'additional_audio_username': None, 'audio_reattribution_info': {'should_allow_restore': False}}, 'asset_recommendation_info': None, 'audio_ranking_info': {'best_audio_cluster_id': '1183597609509842'}, 'audio_type': 'original_sounds', 'branded_content_tag_info': {'can_add_tag': False}, 'challenge_info': None, 'content_appreciation_info': {'enabled': False, 'entry_point_container': None}, 'contextual_highlight_info': None, 'cutout_sticker_info': [], 'disable_use_in_clips_client_cache': False, 'external_media_info': None, 'is_fan_club_promo_video': False, 'mashup_info': {'can_toggle_mashups_allowed': False, 'formatted_mashups_count': None, 'has_been_mashed_up': False, 'has_nonmimicable_additional_audio': False, 'is_creator_requesting_mashup': False, 'is_light_weight_check': True, 'is_light_weight_reuse_allowed_check': False, 'is_pivot_page_available': False, 'is_reuse_allowed': True, 'mashup_type': 'remix_composition', 'mashups_allowed': False, 'non_privacy_filtered_mashups_media_count': 0, 'privacy_filtered_mashups_media_count': None, 'original_media': {'is_light_weight_check': True, 'media_type': 'VIDEO', 'pk': 3420983487681625680, 'product_type': 'clips', 'is_pivot_page_available': False, 'mashups_allowed': True, 'non_privacy_filtered_mashups_media_count': 5, 'user': {'fbid_v2': 17841406038983030, 'third_party_downloads_enabled': 1, 'pk': 6104241299, 'pk_id': '6104241299', 'id': '6104241299', 'username': 'trainual', 'full_name': 'Trainual', 'is_private': False, 'strong_id__': '6104241299', 'has_anonymous_profile_picture': False, 'media_count': 1760, 'following_count': 1033, 'account_badges': [], 'is_verified': True, 'profile_pic_id': '2872809818940201205_6104241299', 'profile_pic_url': 'https://instagram.fupg6-1.fna.fbcdn.net/v/t51.2885-19/291233890_754445459034374_3394992483429449328_n.jpg?stp=dst-jpg_e0_s150x150&_nc_ht=instagram.fupg6-1.fna.fbcdn.net&_nc_cat=1&_nc_ohc=OCZdBzyVrEwQ7kNvgGlsmjI&_nc_gid=31477b211734483695686381a4800ead&edm=AMKDjl4BAAAA&ccb=7-5&oh=00_AYDmh9V2Z8xlnnon0wQIr765XA2Dq-UImAV-2uffcBDW-g&oe=673DBD7C&_nc_sid=472314'}}}, 'merchandising_pill_info': None, 'music_canonical_id': '18450973303001511', 'music_info': None, 'nux_info': None, 'original_sound_info': {'allow_creator_to_rename': True, 'audio_asset_id': 860337116144718, 'attributed_custom_audio_asset_id': None, 'can_remix_be_shared_to_fb': True, 'can_remix_be_shared_to_fb_expansion': False, 'dash_manifest': '<?xml version=\"1.0\" encoding=\"UTF-8\"?>\\n<MPD xmlns=\"urn:mpeg:dash:schema:mpd:2011\" xmlns:xsi=\"http://www.w3.org/2001/XMLSchema-instance\" xsi:schemaLocation=\"urn:mpeg:dash:schema:mpd:2011 DASH-MPD.xsd\" profiles=\"urn:mpeg:dash:profile:isoff-on-demand:2011\" minBufferTime=\"PT2S\" type=\"static\" mediaPresentationDuration=\"PT8.055873S\"><Period id=\"0\" duration=\"PT8.055873S\"><AdaptationSet id=\"0\" contentType=\"audio\" subsegmentStartsWithSAP=\"1\" subsegmentAlignment=\"true\"><Representation id=\"1232427544859800a\" bandwidth=\"55848\" codecs=\"mp4a.40.5\" mimeType=\"audio/mp4\" FBAvgBitrate=\"55848\" audioSamplingRate=\"44100\" FBDefaultQuality=\"1\"><AudioChannelConfiguration schemeIdUri=\"urn:mpeg:dash:23003:3:audio_channel_configuration:2011\" value=\"2\"/><BaseURL>https://instagram.fupg6-1.fna.fbcdn.net/o1/v/t16/f2/m69/AQP2kNF51y--GDi1tQ9NI-_lvhgwQKLah12swQ8vLpeyHEVh-Jh6SdqfHQKYgoPf2MYeCKrml8BGXFOuFpa-JDFP.mp4?strext=1&amp;_nc_cat=106&amp;_nc_sid=9ca052&amp;_nc_ht=instagram.fupg6-1.fna.fbcdn.net&amp;_nc_ohc=t6V7lNyShGoQ7kNvgEtpy0I&amp;efg=eyJ2ZW5jb2RlX3RhZyI6ImRhc2hfbG5faGVhYWNfdmJyM19hdWRpbyIsInZpZGVvX2lkIjpudWxsLCJjbGllbnRfbmFtZSI6InVua25vd24iLCJvaWxfdXJsZ2VuX2FwcF9pZCI6MjU2MjgxMDQwNTU4LCJ1cmxnZW5fc291cmNlIjoid3d3In0%3D&amp;ccb=9-4&amp;oh=00_AYCO7X3TYxmpLVxb8vfDJ4wdGM3WLG9n9hCKjhO96u5BpQ&amp;oe=673DF063</BaseURL><SegmentBase indexRange=\"824-915\" timescale=\"44100\"><Initialization range=\"0-823\"/></SegmentBase></Representation></AdaptationSet></Period></MPD>\\n', 'duration_in_ms': 8056, 'formatted_clips_media_count': None, 'hide_remixing': False, 'ig_artist': {'pk': 6104241299, 'pk_id': '6104241299', 'id': '6104241299', 'username': 'trainual', 'full_name': 'Trainual', 'is_private': False, 'strong_id__': '6104241299', 'is_verified': True, 'profile_pic_id': '2872809818940201205_6104241299', 'profile_pic_url': 'https://instagram.fupg6-1.fna.fbcdn.net/v/t51.2885-19/291233890_754445459034374_3394992483429449328_n.jpg?stp=dst-jpg_e0_s150x150&_nc_ht=instagram.fupg6-1.fna.fbcdn.net&_nc_cat=1&_nc_ohc=OCZdBzyVrEwQ7kNvgGlsmjI&_nc_gid=31477b211734483695686381a4800ead&edm=AMKDjl4BAAAA&ccb=7-5&oh=00_AYDmh9V2Z8xlnnon0wQIr765XA2Dq-UImAV-2uffcBDW-g&oe=673DBD7C&_nc_sid=472314'}, 'is_audio_automatically_attributed': False, 'is_eligible_for_audio_effects': True, 'is_eligible_for_vinyl_sticker': True, 'is_explicit': False, 'is_original_audio_download_eligible': True, 'is_reuse_disabled': False, 'is_xpost_from_fb': False, 'music_canonical_id': None, 'oa_owner_is_music_artist': True, 'original_audio_subtype': 'default', 'original_audio_title': 'Original audio', 'original_media_id': 3420983487681625680, 'progressive_download_url': 'https://scontent.fupg6-1.fna.fbcdn.net/o1/v/t2/f2/m69/AQMrOCJFrOD7eVEOMx4BbpvIfpUCgXFoJzXLCX2UV0sq7Rj3pA3WVQIPnA3q0ujk1haxxc9kKDKg6Op6WSLyqDxi.mp4?strext=1&_nc_cat=110&_nc_sid=8bf8fe&_nc_ht=scontent.fupg6-1.fna.fbcdn.net&_nc_ohc=Ijs8wyS3mpkQ7kNvgFhmHDK&efg=eyJ2ZW5jb2RlX3RhZyI6Inhwdl9wcm9ncmVzc2l2ZS5BVURJT19PTkxZLi5DMy4wLnByb2dyZXNzaXZlX2F1ZGlvIiwieHB2X2Fzc2V0X2lkIjo0NTIxNzA0NjQyOTY5MTksInVybGdlbl9zb3VyY2UiOiJ3d3cifQ%3D%3D&ccb=9-4&_nc_zt=28&oh=00_AYBUmdcU7UFjStran8aAdxweWEQKSBqQtAgtuPgEfZW7gA&oe=673DDB45', 'should_mute_audio': False, 'time_created': 1722033055, 'trend_rank': None, 'previous_trend_rank': None, 'overlap_duration_in_ms': None, 'audio_asset_start_time_in_ms': None, 'audio_filter_infos': [], 'audio_parts': [], 'audio_parts_by_filter': [], 'consumption_info': {'display_media_id': None, 'is_bookmarked': False, 'is_trending_in_clips': False, 'should_mute_audio_reason': '', 'should_mute_audio_reason_type': None}, 'xpost_fb_creator_info': None}, 'originality_info': None, 'reusable_text_attribute_string': 'When someone doesn’t\\n get root cause \\nanalysis and suggests\\n a fast correction to\\n“fix it quickly” .     ', 'reusable_text_info': [{'id': 18150847354325285, 'text': 'When someone doesn’t\\n get root cause \\nanalysis and suggests\\n a fast correction to\\n“fix it quickly”', 'start_time_ms': 0.0, 'end_time_ms': 8066.000000000001, 'width': 0.8461538461538461, 'height': 0.2682692307692308, 'offset_x': 0.5003697087185438, 'offset_y': 0.21747780253090787, 'z_index': 1, 'rotation_degree': 0.0, 'scale': 0.865118401392625, 'alignment': 'center', 'colors': [{'count': 98, 'hex_rgba_color': '#ffffffff'}], 'text_format_type': 'classic_v2', 'font_size': 24.220454121015937, 'text_emphasis_mode': 'inverted', 'is_animated': 0}, {'id': 18150847354325285, 'text': '.     ', 'start_time_ms': 0.0, 'end_time_ms': 8066.000000000001, 'width': 0.24444444444444444, 'height': 0.09278846153846154, 'offset_x': 0.33333986492897505, 'offset_y': 0.19862542660585425, 'z_index': 0, 'rotation_degree': 0.0, 'scale': 4.333843815046001, 'alignment': 'center', 'colors': [{'count': 6, 'hex_rgba_color': '#ffffffff'}], 'text_format_type': 'classic_v2', 'font_size': 30.0, 'text_emphasis_mode': 'inverted', 'is_animated': 0}], 'shopping_info': None, 'show_achievements': False, 'template_info': None, 'viewer_interaction_settings': None}}\n",
      "{'pk': 3470975175405144490, 'id': '3470975175405144490_52125718916', 'code': 'DArYYgyOQmq', 'taken_at': datetime.datetime(2024, 10, 3, 21, 59, 58, tzinfo=TzInfo(UTC)), 'media_type': 2, 'image_versions2': {'candidates': [{'width': 360, 'height': 640, 'url': 'https://instagram.fupg6-1.fna.fbcdn.net/v/t51.29350-15/461993629_1066107278559603_7023527286147711287_n.jpg?stp=dst-jpg_e15_p360x360&efg=eyJ2ZW5jb2RlX3RhZyI6ImltYWdlX3VybGdlbi4xMDgweDE5MjAuc2RyLmYyOTM1MC5kZWZhdWx0X2NvdmVyX2ZyYW1lIn0&_nc_ht=instagram.fupg6-1.fna.fbcdn.net&_nc_cat=103&_nc_ohc=yRjWUw1ZWSkQ7kNvgGguQO3&_nc_gid=31477b211734483695686381a4800ead&edm=AMKDjl4BAAAA&ccb=7-5&ig_cache_key=MzQ3MDk3NTE3NTQwNTE0NDQ5MA%3D%3D.3-ccb7-5&oh=00_AYB5M2ZOxtF_2fwzBvHjyR7hMbDLiTM2RZDvwGniRecBaA&oe=673DBBDD&_nc_sid=472314', 'scans_profile': 'e15'}], 'additional_candidates': {'igtv_first_frame': {'width': 360, 'height': 639, 'url': 'https://instagram.fupg6-1.fna.fbcdn.net/v/t51.2885-15/461313225_1942954646214649_1989564589086143620_n.jpg?stp=dst-jpg_e15_p360x360&efg=eyJ2ZW5jb2RlX3RhZyI6ImltYWdlX3VybGdlbi42NDB4MTEzNi5zZHIuZjcxODc4LmFkZGl0aW9uYWxfY292ZXJfZnJhbWUifQ&_nc_ht=instagram.fupg6-1.fna.fbcdn.net&_nc_cat=101&_nc_ohc=ozgUXNnsIHgQ7kNvgEUUsr8&_nc_gid=31477b211734483695686381a4800ead&edm=AMKDjl4BAAAA&ccb=7-5&oh=00_AYCcD20hHj8TYevEiHkiFsZKW3r8GUOeFazE5KX9A0xI7g&oe=673DCD39&_nc_sid=472314', 'scans_profile': 'e15'}, 'first_frame': {'width': 360, 'height': 639, 'url': 'https://instagram.fupg6-1.fna.fbcdn.net/v/t51.2885-15/461313225_1942954646214649_1989564589086143620_n.jpg?stp=dst-jpg_e15_p360x360&efg=eyJ2ZW5jb2RlX3RhZyI6ImltYWdlX3VybGdlbi42NDB4MTEzNi5zZHIuZjcxODc4LmFkZGl0aW9uYWxfY292ZXJfZnJhbWUifQ&_nc_ht=instagram.fupg6-1.fna.fbcdn.net&_nc_cat=101&_nc_ohc=ozgUXNnsIHgQ7kNvgEUUsr8&_nc_gid=31477b211734483695686381a4800ead&edm=AMKDjl4BAAAA&ccb=7-5&oh=00_AYCcD20hHj8TYevEiHkiFsZKW3r8GUOeFazE5KX9A0xI7g&oe=673DCD39&_nc_sid=472314', 'scans_profile': 'e15'}, 'smart_frame': None}, 'scrubber_spritesheet_info_candidates': {'default': {'video_length': 24.8, 'thumbnail_width': 100, 'thumbnail_height': 178, 'thumbnail_duration': 0.2361904761904762, 'sprite_urls': ['https://instagram.fupg6-1.fna.fbcdn.net/v/t51.2885-15/462131177_912805897567659_3368395691648713355_n.jpg?_nc_ht=instagram.fupg6-1.fna.fbcdn.net&_nc_cat=103&_nc_ohc=PhBPiTQ4yKsQ7kNvgEAeVdP&_nc_gid=31477b211734483695686381a4800ead&edm=AMKDjl4BAAAA&ccb=7-5&oh=00_AYDMGcBrTPPJ1bSUHoBUl1RpZGLlv6cDgo-TpNvEH9PhMw&oe=673DCFC0&_nc_sid=472314'], 'thumbnails_per_row': 15, 'total_thumbnail_num_per_sprite': 105, 'max_thumbnails_per_sprite': 105, 'sprite_width': 1500, 'sprite_height': 1246, 'rendered_width': 96, 'file_size_kb': 371}}}, 'product_type': 'clips', 'thumbnail_url': Url('https://instagram.fupg6-1.fna.fbcdn.net/v/t51.29350-15/461993629_1066107278559603_7023527286147711287_n.jpg?stp=dst-jpg_e15_p360x360&efg=eyJ2ZW5jb2RlX3RhZyI6ImltYWdlX3VybGdlbi4xMDgweDE5MjAuc2RyLmYyOTM1MC5kZWZhdWx0X2NvdmVyX2ZyYW1lIn0&_nc_ht=instagram.fupg6-1.fna.fbcdn.net&_nc_cat=103&_nc_ohc=yRjWUw1ZWSkQ7kNvgGguQO3&_nc_gid=31477b211734483695686381a4800ead&edm=AMKDjl4BAAAA&ccb=7-5&ig_cache_key=MzQ3MDk3NTE3NTQwNTE0NDQ5MA%3D%3D.3-ccb7-5&oh=00_AYB5M2ZOxtF_2fwzBvHjyR7hMbDLiTM2RZDvwGniRecBaA&oe=673DBBDD&_nc_sid=472314'), 'location': None, 'user': {'pk': '52125718916', 'username': 'goldengirlsmoments', 'full_name': 'Golden Girls Moments', 'profile_pic_url': Url('https://instagram.fupg6-1.fna.fbcdn.net/v/t51.2885-19/344778974_1414058252730672_9148688591406939652_n.jpg?stp=dst-jpg_e0_s150x150&_nc_ht=instagram.fupg6-1.fna.fbcdn.net&_nc_cat=1&_nc_ohc=gq23rCgw2UwQ7kNvgG8POJJ&_nc_gid=31477b211734483695686381a4800ead&edm=AMKDjl4BAAAA&ccb=7-5&oh=00_AYA8zub3T8bKXsUBWpgbqRjmzH_IwJO-O08MEqUryJeGUg&oe=673DC56D&_nc_sid=472314'), 'profile_pic_url_hd': None, 'is_private': False}, 'comment_count': 47, 'comments_disabled': False, 'commenting_disabled_for_viewer': False, 'like_count': 7309, 'play_count': 168509, 'has_liked': False, 'caption_text': 'Ye olde Vikings\\n\\n#GoldenGirls #TheGoldenGirls #RoseNylund #BettyWhite #DorothyZbornak #BeaArthur #BeatriceArthur #BlancheDevereaux #RueMcClanahan #SophiaPetrillo #EstelleGetty #Vikings #Audit #Taxes #Stealing #KnockedUp #ClassicTV #ClassicSitcom #ClassicComedy #Miami #Cheesecake #ThankYouForBeingAFriend #GoldenGirlsMoments', 'accessibility_caption': None, 'usertags': [], 'sponsor_tags': [], 'video_url': Url('https://instagram.fupg6-1.fna.fbcdn.net/o1/v/t16/f1/m86/56423DD85C754AA98AFCD414220BE9B8_video_dashinit.mp4?efg=eyJ4cHZfYXNzZXRfaWQiOjE5NTM1NjM1MzUwNjY4NzgsInZlbmNvZGVfdGFnIjoieHB2X3Byb2dyZXNzaXZlLklOU1RBR1JBTS5DTElQUy5DMy43MjAuZGFzaF9iYXNlbGluZV8xX3YxIn0&_nc_ht=instagram.fupg6-1.fna.fbcdn.net&_nc_cat=101&vs=8136ab1f9f04bf53&_nc_vs=HBksFQIYUmlnX3hwdl9yZWVsc19wZXJtYW5lbnRfc3JfcHJvZC81NjQyM0REODVDNzU0QUE5OEFGQ0Q0MTQyMjBCRTlCOF92aWRlb19kYXNoaW5pdC5tcDQVAALIAQAVAhg6cGFzc3Rocm91Z2hfZXZlcnN0b3JlL0dCR0doaHZzVW1lLWMxUUVBTHc1X3VPYkl2NXBicV9FQUFBRhUCAsgBACgAGAAbAogHdXNlX29pbAExEnByb2dyZXNzaXZlX3JlY2lwZQExFQAAJvyb7siusPgGFQIoAkMzLBdAOMzMzMzMzRgSZGFzaF9iYXNlbGluZV8xX3YxEQB1_gcA&ccb=9-4&oh=00_AYA0vqOWZfi7nUiuXMpimOS1VzSTngi0EHM7hxSUn3A5Tg&oe=6739EB19&_nc_sid=1d576d'), 'view_count': 0, 'video_duration': 24.8, 'title': '', 'resources': [], 'clips_metadata': {'breaking_content_info': None, 'breaking_creator_info': None, 'clips_creation_entry_point': 'clips', 'featured_label': None, 'is_public_chat_welcome_video': False, 'is_shared_to_fb': True, 'professional_clips_upsell_type': 0, 'reels_on_the_rise_info': None, 'show_tips': None, 'achievements_info': {'num_earned_achievements': None, 'show_achievements': False}, 'additional_audio_info': {'additional_audio_username': None, 'audio_reattribution_info': {'should_allow_restore': False}}, 'asset_recommendation_info': None, 'audio_ranking_info': {'best_audio_cluster_id': '1063628528752546'}, 'audio_type': 'original_sounds', 'branded_content_tag_info': {'can_add_tag': False}, 'challenge_info': None, 'content_appreciation_info': {'enabled': False, 'entry_point_container': None}, 'contextual_highlight_info': None, 'cutout_sticker_info': [], 'disable_use_in_clips_client_cache': False, 'external_media_info': None, 'is_fan_club_promo_video': False, 'mashup_info': {'can_toggle_mashups_allowed': False, 'formatted_mashups_count': None, 'has_been_mashed_up': False, 'has_nonmimicable_additional_audio': False, 'is_creator_requesting_mashup': False, 'is_light_weight_check': True, 'is_light_weight_reuse_allowed_check': False, 'is_pivot_page_available': False, 'is_reuse_allowed': True, 'mashup_type': None, 'mashups_allowed': True, 'non_privacy_filtered_mashups_media_count': 0, 'privacy_filtered_mashups_media_count': None, 'original_media': None}, 'merchandising_pill_info': None, 'music_canonical_id': '18469048348017967', 'music_info': None, 'nux_info': None, 'original_sound_info': {'allow_creator_to_rename': True, 'audio_asset_id': 2893941104088938, 'attributed_custom_audio_asset_id': None, 'can_remix_be_shared_to_fb': True, 'can_remix_be_shared_to_fb_expansion': False, 'dash_manifest': '<?xml version=\"1.0\" encoding=\"UTF-8\"?>\\n<MPD xmlns=\"urn:mpeg:dash:schema:mpd:2011\" xmlns:xsi=\"http://www.w3.org/2001/XMLSchema-instance\" xsi:schemaLocation=\"urn:mpeg:dash:schema:mpd:2011 DASH-MPD.xsd\" profiles=\"urn:mpeg:dash:profile:isoff-on-demand:2011\" minBufferTime=\"PT2S\" type=\"static\" mediaPresentationDuration=\"PT24.797461S\"><Period id=\"0\" duration=\"PT24.797461S\"><AdaptationSet id=\"0\" contentType=\"audio\" subsegmentStartsWithSAP=\"1\" subsegmentAlignment=\"true\"><Representation id=\"1578944589497195a\" bandwidth=\"71385\" codecs=\"mp4a.40.5\" mimeType=\"audio/mp4\" FBAvgBitrate=\"71385\" audioSamplingRate=\"44100\" FBDefaultQuality=\"1\"><AudioChannelConfiguration schemeIdUri=\"urn:mpeg:dash:23003:3:audio_channel_configuration:2011\" value=\"2\"/><BaseURL>https://instagram.fupg6-1.fna.fbcdn.net/o1/v/t16/f2/m69/AQN28pSleSzAzn1c4XBnlYYrZiicpoJxpNn1nhx-PC9SsNGYz5NKTcXTsI7T6QwjPxDrcuCFrkXIpfiSlcv3B-Fe.mp4?strext=1&amp;_nc_cat=110&amp;_nc_sid=9ca052&amp;_nc_ht=instagram.fupg6-1.fna.fbcdn.net&amp;_nc_ohc=6fwNToyrCRUQ7kNvgEl63SC&amp;efg=eyJ2ZW5jb2RlX3RhZyI6ImRhc2hfbG5faGVhYWNfdmJyM19hdWRpbyIsInZpZGVvX2lkIjpudWxsLCJjbGllbnRfbmFtZSI6InVua25vd24iLCJvaWxfdXJsZ2VuX2FwcF9pZCI6MjU2MjgxMDQwNTU4LCJ1cmxnZW5fc291cmNlIjoid3d3In0%3D&amp;ccb=9-4&amp;oh=00_AYC9epcrefh3605sXQ6izxPZcytKBazqiDvRxjum9YMkYw&amp;oe=673DCB1F</BaseURL><SegmentBase indexRange=\"824-1011\" timescale=\"44100\"><Initialization range=\"0-823\"/></SegmentBase></Representation></AdaptationSet></Period></MPD>\\n', 'duration_in_ms': 24798, 'formatted_clips_media_count': None, 'hide_remixing': False, 'ig_artist': {'pk': 52125718916, 'pk_id': '52125718916', 'id': '52125718916', 'username': 'goldengirlsmoments', 'full_name': 'Golden Girls Moments', 'is_private': False, 'strong_id__': '52125718916', 'is_verified': False, 'profile_pic_id': '3096086401959683074_52125718916', 'profile_pic_url': 'https://instagram.fupg6-1.fna.fbcdn.net/v/t51.2885-19/344778974_1414058252730672_9148688591406939652_n.jpg?stp=dst-jpg_e0_s150x150&_nc_ht=instagram.fupg6-1.fna.fbcdn.net&_nc_cat=1&_nc_ohc=gq23rCgw2UwQ7kNvgG8POJJ&_nc_gid=31477b211734483695686381a4800ead&edm=AMKDjl4BAAAA&ccb=7-5&oh=00_AYA8zub3T8bKXsUBWpgbqRjmzH_IwJO-O08MEqUryJeGUg&oe=673DC56D&_nc_sid=472314'}, 'is_audio_automatically_attributed': False, 'is_eligible_for_audio_effects': True, 'is_eligible_for_vinyl_sticker': True, 'is_explicit': False, 'is_original_audio_download_eligible': False, 'is_reuse_disabled': False, 'is_xpost_from_fb': False, 'music_canonical_id': None, 'oa_owner_is_music_artist': False, 'original_audio_subtype': 'default', 'original_audio_title': 'Original audio', 'original_media_id': 3470975175405144490, 'progressive_download_url': 'https://scontent.fupg6-1.fna.fbcdn.net/o1/v/t2/f2/m69/AQMkW9HaCBFPFHP04PJe7p8Q7zdbkgVqSDq3msdESARZ8lSF9LbyJaAAPgT3OSjEii5tECN5ePPedzF0dyrEF0Om.mp4?strext=1&_nc_cat=103&_nc_sid=8bf8fe&_nc_ht=scontent.fupg6-1.fna.fbcdn.net&_nc_ohc=eConTZFFd5kQ7kNvgG1HlHn&efg=eyJ2ZW5jb2RlX3RhZyI6Inhwdl9wcm9ncmVzc2l2ZS5BVURJT19PTkxZLi5DMy4wLnByb2dyZXNzaXZlX2F1ZGlvIiwieHB2X2Fzc2V0X2lkIjoxOTUzNTYzNTM1MDY2ODc4LCJ1cmxnZW5fc291cmNlIjoid3d3In0%3D&ccb=9-4&_nc_zt=28&oh=00_AYDJCgTCB5nY9vQ9xq7ICIH3dFWbjkxC5T2Px_7Y3kvnpw&oe=673DCCC6', 'should_mute_audio': False, 'time_created': 1727992809, 'trend_rank': None, 'previous_trend_rank': None, 'overlap_duration_in_ms': None, 'audio_asset_start_time_in_ms': None, 'audio_filter_infos': [], 'audio_parts': [], 'audio_parts_by_filter': [], 'consumption_info': {'display_media_id': None, 'is_bookmarked': False, 'is_trending_in_clips': False, 'should_mute_audio_reason': '', 'should_mute_audio_reason_type': None}, 'xpost_fb_creator_info': None}, 'originality_info': None, 'reusable_text_attribute_string': None, 'reusable_text_info': None, 'shopping_info': None, 'show_achievements': False, 'template_info': None, 'viewer_interaction_settings': None}}\n",
      "{'pk': 3363137880506414089, 'id': '3363137880506414089_310386046', 'code': 'C6sRBVqPrQJ', 'taken_at': datetime.datetime(2024, 5, 8, 3, 1, 39, tzinfo=TzInfo(UTC)), 'media_type': 1, 'image_versions2': {'candidates': [{'width': 1080, 'height': 1080, 'url': 'https://instagram.fupg6-1.fna.fbcdn.net/v/t51.29350-15/441763000_916102743647784_6499418027764915809_n.webp?se=7&stp=dst-jpg_e35&efg=eyJ2ZW5jb2RlX3RhZyI6ImltYWdlX3VybGdlbi4xMDgweDEwODAuc2RyLmYyOTM1MC5kZWZhdWx0X2ltYWdlIn0&_nc_ht=instagram.fupg6-1.fna.fbcdn.net&_nc_cat=100&_nc_ohc=C3vVtajNM9AQ7kNvgHbpMcD&_nc_gid=31477b211734483695686381a4800ead&edm=AMKDjl4BAAAA&ccb=7-5&ig_cache_key=MzM2MzEzNzg4MDUwNjQxNDA4OQ%3D%3D.3-ccb7-5&oh=00_AYDLhStP-kBbqiPBGNp5y7OqXx55chC9XFGR2AHL45COCQ&oe=673DE1C9&_nc_sid=472314', 'scans_profile': 'e35', 'estimated_scans_sizes': [4539, 9078, 13618, 18157, 22697, 25398, 32320, 36733, 40855]}, {'width': 360, 'height': 360, 'url': 'https://instagram.fupg6-1.fna.fbcdn.net/v/t51.29350-15/441763000_916102743647784_6499418027764915809_n.webp?stp=dst-jpg_e35_s360x360&efg=eyJ2ZW5jb2RlX3RhZyI6ImltYWdlX3VybGdlbi4xMDgweDEwODAuc2RyLmYyOTM1MC5kZWZhdWx0X2ltYWdlIn0&_nc_ht=instagram.fupg6-1.fna.fbcdn.net&_nc_cat=100&_nc_ohc=C3vVtajNM9AQ7kNvgHbpMcD&_nc_gid=31477b211734483695686381a4800ead&edm=AMKDjl4BAAAA&ccb=7-5&ig_cache_key=MzM2MzEzNzg4MDUwNjQxNDA4OQ%3D%3D.3-ccb7-5&oh=00_AYDfPJp4uKkHIaYEo60TAJsay9-ncdlpA1DWK03-I30j0g&oe=673DE1C9&_nc_sid=472314', 'scans_profile': 'e35', 'estimated_scans_sizes': [1708, 3417, 5126, 6835, 8543, 10286, 296848, 15379, 15379]}]}, 'product_type': 'feed', 'thumbnail_url': Url('https://instagram.fupg6-1.fna.fbcdn.net/v/t51.29350-15/441763000_916102743647784_6499418027764915809_n.webp?se=7&stp=dst-jpg_e35&efg=eyJ2ZW5jb2RlX3RhZyI6ImltYWdlX3VybGdlbi4xMDgweDEwODAuc2RyLmYyOTM1MC5kZWZhdWx0X2ltYWdlIn0&_nc_ht=instagram.fupg6-1.fna.fbcdn.net&_nc_cat=100&_nc_ohc=C3vVtajNM9AQ7kNvgHbpMcD&_nc_gid=31477b211734483695686381a4800ead&edm=AMKDjl4BAAAA&ccb=7-5&ig_cache_key=MzM2MzEzNzg4MDUwNjQxNDA4OQ%3D%3D.3-ccb7-5&oh=00_AYDLhStP-kBbqiPBGNp5y7OqXx55chC9XFGR2AHL45COCQ&oe=673DE1C9&_nc_sid=472314'), 'location': None, 'user': {'pk': '310386046', 'username': 'tempodotco', 'full_name': 'tempo.co by Tempo Media Group', 'profile_pic_url': Url('https://instagram.fupg6-1.fna.fbcdn.net/v/t51.2885-19/465828019_574520098277053_2912047069987487970_n.jpg?stp=dst-jpg_e0_s150x150&_nc_ht=instagram.fupg6-1.fna.fbcdn.net&_nc_cat=1&_nc_ohc=4OQQa26mtlsQ7kNvgGj61Iq&_nc_gid=31477b211734483695686381a4800ead&edm=AMKDjl4BAAAA&ccb=7-5&oh=00_AYBuV3-Dz5OeRR5JnX9NVPqfl1AaCmtr50MjVxkIvrvExw&oe=673DBD1B&_nc_sid=472314'), 'profile_pic_url_hd': None, 'is_private': False}, 'comment_count': 108, 'comments_disabled': False, 'commenting_disabled_for_viewer': False, 'like_count': 4127, 'play_count': 0, 'has_liked': False, 'caption_text': 'Jaringan Pemantau Pendidikan Indonesia (JPPI) mendesak Kementerian Pendidikan, Kebudayaan, Riset, dan Teknologi mengaudit secara menyeluruh terhadap program Kartu Indonesia Pintar Kuliah (KIP Kuliah).\\n\\nDiduga ada masalah dalam proses seleksi penerima beasiswa tersebut sehingga ditengarai tidak tepat sasaran dan disalahgunakan di sejumlah kampus.\\n\\nInspektorat Jenderal Kementerian Pendidikan mengklaim sudah mengaudit program KIP Kuliah tersebut. Apa hasilnya?\\n\\nSimak berita selengkapnya soal desakan audit KIP kuliah di link IG Story.\\n\\nDukung jurnalisme independen Tempo dengan klik tempo.co/dukungkami\\n\\n#KoranTempo #tempo #audit #program #beasiswa #KIP #kuliah', 'accessibility_caption': None, 'usertags': [{'user': {'pk': '46408184593', 'username': 'korantempodigital', 'full_name': 'Koran Tempo', 'profile_pic_url': Url('https://instagram.fupg6-1.fna.fbcdn.net/v/t51.2885-19/158208022_265291198557640_1937344831739300892_n.jpg?stp=dst-jpg_e0_s150x150&_nc_ht=instagram.fupg6-1.fna.fbcdn.net&_nc_cat=104&_nc_ohc=hjWbyGBAe4AQ7kNvgGkO0zt&_nc_gid=31477b211734483695686381a4800ead&edm=AMKDjl4BAAAA&ccb=7-5&oh=00_AYAqP72H66LCsLhpW12FJpPOY9tV3_WXSmUKkk1DRwBSpw&oe=673DD11E&_nc_sid=472314'), 'profile_pic_url_hd': None, 'is_private': False}, 'x': 0.5, 'y': 0.5}], 'sponsor_tags': [], 'video_url': None, 'view_count': 0, 'video_duration': 0.0, 'title': '', 'resources': [], 'clips_metadata': {}}\n"
     ]
    }
   ],
   "source": [
    "for media in medias:\n",
    "    print(media.model_dump())"
   ]
  },
  {
   "cell_type": "code",
   "execution_count": 34,
   "metadata": {},
   "outputs": [
    {
     "data": {
      "text/plain": [
       "{'pk': 3471560718369697118,\n",
       " 'id': '3471560718369697118_21488796599',\n",
       " 'code': 'DAtdhSKoC1e',\n",
       " 'taken_at': datetime.datetime(2024, 10, 4, 17, 18, 28, tzinfo=TzInfo(UTC)),\n",
       " 'media_type': 8,\n",
       " 'image_versions2': {'candidates': [{'width': 1080,\n",
       "    'height': 781,\n",
       "    'url': 'https://instagram.fupg6-1.fna.fbcdn.net/v/t39.30808-6/461957500_18068651935716600_5299056791208808054_n.jpg?stp=dst-jpg_e35_s1080x1080_sh0.08&_nc_ht=instagram.fupg6-1.fna.fbcdn.net&_nc_cat=100&_nc_ohc=pwB9giRWJ2kQ7kNvgF2PWy5&_nc_gid=31477b211734483695686381a4800ead&edm=AMKDjl4AAAAA&ccb=7-5&ig_cache_key=MzQ3MTU2MDY5NzAyMDg3MDgxMQ%3D%3D.3-ccb7-5&oh=00_AYC86TSIAtH0WhLYFKLjMGqLYxKC6tEmsYkVllAOpj6taw&oe=673DC0BD&_nc_sid=472314',\n",
       "    'scans_profile': ''},\n",
       "   {'width': 320,\n",
       "    'height': 231,\n",
       "    'url': 'https://instagram.fupg6-1.fna.fbcdn.net/v/t39.30808-6/461957500_18068651935716600_5299056791208808054_n.jpg?stp=dst-jpg_e15_s320x320&_nc_ht=instagram.fupg6-1.fna.fbcdn.net&_nc_cat=100&_nc_ohc=pwB9giRWJ2kQ7kNvgF2PWy5&_nc_gid=31477b211734483695686381a4800ead&edm=AMKDjl4AAAAA&ccb=7-5&ig_cache_key=MzQ3MTU2MDY5NzAyMDg3MDgxMQ%3D%3D.3-ccb7-5&oh=00_AYAS06d5UAKGBjTjzs80kZYNyfjcqGSm4npZBZ75e1qedA&oe=673DC0BD&_nc_sid=472314',\n",
       "    'scans_profile': ''}]},\n",
       " 'product_type': 'carousel_container',\n",
       " 'thumbnail_url': None,\n",
       " 'location': None,\n",
       " 'user': {'pk': '21488796599',\n",
       "  'username': 'oakmoore_car_company',\n",
       "  'full_name': 'Oakmoore Car Company',\n",
       "  'profile_pic_url': Url('https://instagram.fupg6-1.fna.fbcdn.net/v/t51.2885-19/416456389_1408055106799158_2332518005741040067_n.jpg?stp=dst-jpg_e0_s150x150&_nc_ht=instagram.fupg6-1.fna.fbcdn.net&_nc_cat=106&_nc_ohc=xdRYwWkS9y4Q7kNvgFUxywA&_nc_gid=31477b211734483695686381a4800ead&edm=AMKDjl4BAAAA&ccb=7-5&oh=00_AYDmbB3GEYYZHl8RL4E33l9eNEKgIXCefvV8KIDucMKaUw&oe=673DE21F&_nc_sid=472314'),\n",
       "  'profile_pic_url_hd': None,\n",
       "  'is_private': False},\n",
       " 'comment_count': 5,\n",
       " 'comments_disabled': False,\n",
       " 'commenting_disabled_for_viewer': False,\n",
       " 'like_count': 5066,\n",
       " 'play_count': 0,\n",
       " 'has_liked': False,\n",
       " 'caption_text': 'Audi R8 5.2 FSI V10 Performance Carbon Black S Tronic quattro 2019/19 Black 22,000 miles £104,999\\n_____________________________________________ \\n\\nLED Headlights\\nAudi Magnetic Ride\\nCarbon Engine Cover\\nCarbon High Gloss Exterior Style Package - Front Spoiler - Rocker and Rear Diffuser\\nCeramic Brakes with Red Calipers\\nDoor Mirrors - Carbon High Gloss\\nDoor Sill Trims with Aluminium Inlays and R8 Logo on the Door Sills\\nExhaust Tailpipe - Gloss Black Oval\\nExtended Exterior Style Package Including Audi Emblem and Badges in Black High Gloss\\nExtended Inlays in Gloss Carbon\\nLED Rear Lights with Dynamic Rear Indicators\\nLarge Fixed Rear Spoiler in Gloss Carbon\\nReversing Camera\\n\\nFull PPF\\nEibach Springs \\n_____________________________________________\\n\\nAll of our cars are HPI clear and come with 6 Months premium warranty - HP and PCP finance available from 8.9% - Nation wide delivery available \\n\\n📍 Oakmoore Car Company, 15 & 21 Castle road, Kings Norton Business Centre, Birmingham, B30 3HZ \\n📞 0121 459 0822 - 07547812742 🖥 www.oakmoorecarcompany.co.uk\\n#oakmoorecarcompany #audi #audir8 #audisport #audiquattro #audigramm #audirs #audirs #audit#r8v10plus #r8v10 #r8performance #audir8performance @aj_carcare @_havisuals',\n",
       " 'accessibility_caption': None,\n",
       " 'usertags': [],\n",
       " 'sponsor_tags': [],\n",
       " 'video_url': None,\n",
       " 'view_count': 0,\n",
       " 'video_duration': 0.0,\n",
       " 'title': '',\n",
       " 'resources': [{'pk': '3471560697020870811',\n",
       "   'video_url': None,\n",
       "   'thumbnail_url': Url('https://instagram.fupg6-1.fna.fbcdn.net/v/t39.30808-6/461957500_18068651935716600_5299056791208808054_n.jpg?stp=dst-jpg_e35_s1080x1080&efg=eyJ2ZW5jb2RlX3RhZyI6ImltYWdlX3VybGdlbi4xNDQweDEwNDIuc2RyLmYzMDgwOC5kZWZhdWx0X2ltYWdlIn0&_nc_ht=instagram.fupg6-1.fna.fbcdn.net&_nc_cat=100&_nc_ohc=pwB9giRWJ2kQ7kNvgF2PWy5&_nc_gid=31477b211734483695686381a4800ead&edm=AMKDjl4AAAAA&ccb=7-5&ig_cache_key=MzQ3MTU2MDY5NzAyMDg3MDgxMQ%3D%3D.3-ccb7-5&oh=00_AYDFGGfXbBPsJag9OQ3KDgjT3HdxR2ZYSrGP4ZKRL0mnUw&oe=673DC0BD&_nc_sid=472314'),\n",
       "   'media_type': 1},\n",
       "  {'pk': '3471560697012333657',\n",
       "   'video_url': None,\n",
       "   'thumbnail_url': Url('https://instagram.fupg6-1.fna.fbcdn.net/v/t39.30808-6/461957922_18068651962716600_519888456369283316_n.jpg?stp=dst-jpg_e35_s1080x1080&efg=eyJ2ZW5jb2RlX3RhZyI6ImltYWdlX3VybGdlbi4xNDQweDEwNDIuc2RyLmYzMDgwOC5kZWZhdWx0X2ltYWdlIn0&_nc_ht=instagram.fupg6-1.fna.fbcdn.net&_nc_cat=100&_nc_ohc=tUbaQrlD2AkQ7kNvgHoWPm6&_nc_gid=31477b211734483695686381a4800ead&edm=AMKDjl4AAAAA&ccb=7-5&ig_cache_key=MzQ3MTU2MDY5NzAxMjMzMzY1Nw%3D%3D.3-ccb7-5&oh=00_AYAwoKO7ilLYWAdGrUoU4ZGWl24ZL-qQ-Va7OcpVG9P5IA&oe=673DCFF8&_nc_sid=472314'),\n",
       "   'media_type': 1},\n",
       "  {'pk': '3471560697071151327',\n",
       "   'video_url': None,\n",
       "   'thumbnail_url': Url('https://instagram.fupg6-1.fna.fbcdn.net/v/t39.30808-6/461992651_18068651971716600_349905726663172779_n.jpg?stp=dst-jpg_e35_s1080x1080&efg=eyJ2ZW5jb2RlX3RhZyI6ImltYWdlX3VybGdlbi4xNDQweDEwNDIuc2RyLmYzMDgwOC5kZWZhdWx0X2ltYWdlIn0&_nc_ht=instagram.fupg6-1.fna.fbcdn.net&_nc_cat=100&_nc_ohc=IlRnCu8X0FoQ7kNvgHtR4o0&_nc_gid=31477b211734483695686381a4800ead&edm=AMKDjl4AAAAA&ccb=7-5&ig_cache_key=MzQ3MTU2MDY5NzA3MTE1MTMyNw%3D%3D.3-ccb7-5&oh=00_AYDgZmwsdELf0_ZXu7S8fgwTHNKP32IwqFdA10tFmeGe5w&oe=673DBA93&_nc_sid=472314'),\n",
       "   'media_type': 1},\n",
       "  {'pk': '3471560696987195931',\n",
       "   'video_url': None,\n",
       "   'thumbnail_url': Url('https://instagram.fupg6-1.fna.fbcdn.net/v/t39.30808-6/461992051_18068651983716600_6168145755886227137_n.jpg?stp=dst-jpg_e35_s1080x1080&efg=eyJ2ZW5jb2RlX3RhZyI6ImltYWdlX3VybGdlbi4xNDQweDEwNDIuc2RyLmYzMDgwOC5kZWZhdWx0X2ltYWdlIn0&_nc_ht=instagram.fupg6-1.fna.fbcdn.net&_nc_cat=100&_nc_ohc=kHeQFN7yxWAQ7kNvgHa6XGa&_nc_gid=31477b211734483695686381a4800ead&edm=AMKDjl4AAAAA&ccb=7-5&ig_cache_key=MzQ3MTU2MDY5Njk4NzE5NTkzMQ%3D%3D.3-ccb7-5&oh=00_AYCrhBUSf-Id7LrU_sDbH_j5LiZMGps8xrBbIgUC4cSgjQ&oe=673DD353&_nc_sid=472314'),\n",
       "   'media_type': 1},\n",
       "  {'pk': '3471560697012301500',\n",
       "   'video_url': None,\n",
       "   'thumbnail_url': Url('https://instagram.fupg6-1.fna.fbcdn.net/v/t39.30808-6/461947135_18068651992716600_8226951908199251281_n.jpg?stp=dst-jpg_e35_s1080x1080&efg=eyJ2ZW5jb2RlX3RhZyI6ImltYWdlX3VybGdlbi4xNDQweDEwNDIuc2RyLmYzMDgwOC5kZWZhdWx0X2ltYWdlIn0&_nc_ht=instagram.fupg6-1.fna.fbcdn.net&_nc_cat=100&_nc_ohc=B1h04XId7wgQ7kNvgFl6RFj&_nc_gid=31477b211734483695686381a4800ead&edm=AMKDjl4AAAAA&ccb=7-5&ig_cache_key=MzQ3MTU2MDY5NzAxMjMwMTUwMA%3D%3D.3-ccb7-5&oh=00_AYADlv12Bfbd0SUCjK3Bk9AGo9U4sZiO_LoxjbDNkUkgBg&oe=673DCEA2&_nc_sid=472314'),\n",
       "   'media_type': 1},\n",
       "  {'pk': '3471560697012349013',\n",
       "   'video_url': None,\n",
       "   'thumbnail_url': Url('https://instagram.fupg6-1.fna.fbcdn.net/v/t39.30808-6/461992773_18068652001716600_1107570667252104517_n.jpg?stp=dst-jpg_e35_s1080x1080&efg=eyJ2ZW5jb2RlX3RhZyI6ImltYWdlX3VybGdlbi4xNDQweDEwNDIuc2RyLmYzMDgwOC5kZWZhdWx0X2ltYWdlIn0&_nc_ht=instagram.fupg6-1.fna.fbcdn.net&_nc_cat=100&_nc_ohc=uLSaZoRjGjkQ7kNvgERnRX7&_nc_gid=31477b211734483695686381a4800ead&edm=AMKDjl4AAAAA&ccb=7-5&ig_cache_key=MzQ3MTU2MDY5NzAxMjM0OTAxMw%3D%3D.3-ccb7-5&oh=00_AYDG-i6y-MeohqLnLnhF_n1u_rol-OQpI6TM478p9tQILA&oe=673DC2F5&_nc_sid=472314'),\n",
       "   'media_type': 1},\n",
       "  {'pk': '3471560696987286684',\n",
       "   'video_url': None,\n",
       "   'thumbnail_url': Url('https://instagram.fupg6-1.fna.fbcdn.net/v/t39.30808-6/461939430_18068652010716600_2234878961169802631_n.jpg?stp=dst-jpg_e35_s1080x1080_tt6&efg=eyJ2ZW5jb2RlX3RhZyI6ImltYWdlX3VybGdlbi4xNDQweDEwNDIuc2RyLmYzMDgwOC5kZWZhdWx0X2ltYWdlIn0&_nc_ht=instagram.fupg6-1.fna.fbcdn.net&_nc_cat=100&_nc_ohc=Hg7qgDEXUL4Q7kNvgGcZgqS&_nc_gid=31477b211734483695686381a4800ead&edm=AMKDjl4AAAAA&ccb=7-5&ig_cache_key=MzQ3MTU2MDY5Njk4NzI4NjY4NA%3D%3D.3-ccb7-5&oh=00_AYDxcLFVHfEJDXuLF5UmDdRM2Or0qTtB5KR78YDnheO9nw&oe=673DED74&_nc_sid=472314'),\n",
       "   'media_type': 1},\n",
       "  {'pk': '3471560696987199716',\n",
       "   'video_url': None,\n",
       "   'thumbnail_url': Url('https://instagram.fupg6-1.fna.fbcdn.net/v/t39.30808-6/462146117_18068652019716600_8013020716629465187_n.jpg?stp=dst-jpg_e35_s1080x1080&efg=eyJ2ZW5jb2RlX3RhZyI6ImltYWdlX3VybGdlbi4xNDQweDEwNDIuc2RyLmYzMDgwOC5kZWZhdWx0X2ltYWdlIn0&_nc_ht=instagram.fupg6-1.fna.fbcdn.net&_nc_cat=100&_nc_ohc=JPJu4upfzYcQ7kNvgFnIdRK&_nc_gid=31477b211734483695686381a4800ead&edm=AMKDjl4AAAAA&ccb=7-5&ig_cache_key=MzQ3MTU2MDY5Njk4NzE5OTcxNg%3D%3D.3-ccb7-5&oh=00_AYAkjQQvgboFnqYCtSaydc_X4BZso8bgaKbWNxkWcFgxgA&oe=673DD4D6&_nc_sid=472314'),\n",
       "   'media_type': 1},\n",
       "  {'pk': '3471560697004162476',\n",
       "   'video_url': None,\n",
       "   'thumbnail_url': Url('https://instagram.fupg6-1.fna.fbcdn.net/v/t39.30808-6/462181641_18068652028716600_5263189891623681550_n.jpg?stp=dst-jpg_e35_s1080x1080&efg=eyJ2ZW5jb2RlX3RhZyI6ImltYWdlX3VybGdlbi4xNDQweDEwNDMuc2RyLmYzMDgwOC5kZWZhdWx0X2ltYWdlIn0&_nc_ht=instagram.fupg6-1.fna.fbcdn.net&_nc_cat=100&_nc_ohc=gJY1Zge5g2AQ7kNvgFsLdtv&_nc_gid=31477b211734483695686381a4800ead&edm=AMKDjl4AAAAA&ccb=7-5&ig_cache_key=MzQ3MTU2MDY5NzAwNDE2MjQ3Ng%3D%3D.3-ccb7-5&oh=00_AYCKP40OqJuIQmCLLjB769jgyrJNA-LzdDi6ZqYNGkRSEw&oe=673DE3FD&_nc_sid=472314'),\n",
       "   'media_type': 1},\n",
       "  {'pk': '3471560697012326503',\n",
       "   'video_url': None,\n",
       "   'thumbnail_url': Url('https://instagram.fupg6-1.fna.fbcdn.net/v/t39.30808-6/462162910_18068652037716600_4082215482596810323_n.jpg?stp=dst-jpg_e35_s1080x1080&efg=eyJ2ZW5jb2RlX3RhZyI6ImltYWdlX3VybGdlbi4xNDQweDEwNDIuc2RyLmYzMDgwOC5kZWZhdWx0X2ltYWdlIn0&_nc_ht=instagram.fupg6-1.fna.fbcdn.net&_nc_cat=100&_nc_ohc=EAjTtpPLIXcQ7kNvgHB2FC1&_nc_gid=31477b211734483695686381a4800ead&edm=AMKDjl4AAAAA&ccb=7-5&ig_cache_key=MzQ3MTU2MDY5NzAxMjMyNjUwMw%3D%3D.3-ccb7-5&oh=00_AYBjCy5Eptc2q5BHBPQzfU6ZHfRVxaf8Z3Et0vkI7Rz_0A&oe=673DE8A1&_nc_sid=472314'),\n",
       "   'media_type': 1},\n",
       "  {'pk': '3471560697012462518',\n",
       "   'video_url': None,\n",
       "   'thumbnail_url': Url('https://instagram.fupg6-1.fna.fbcdn.net/v/t39.30808-6/462001259_18068652049716600_6156819520585406523_n.jpg?stp=dst-jpg_e35_s1080x1080&efg=eyJ2ZW5jb2RlX3RhZyI6ImltYWdlX3VybGdlbi4xNDQweDEwNDIuc2RyLmYzMDgwOC5kZWZhdWx0X2ltYWdlIn0&_nc_ht=instagram.fupg6-1.fna.fbcdn.net&_nc_cat=100&_nc_ohc=2GM4Z5xclXQQ7kNvgEY2aVo&_nc_gid=31477b211734483695686381a4800ead&edm=AMKDjl4AAAAA&ccb=7-5&ig_cache_key=MzQ3MTU2MDY5NzAxMjQ2MjUxOA%3D%3D.3-ccb7-5&oh=00_AYDUGsQozRqMzWCO9C6w4X8aNCl0iWvVVXjxI4aV_3BoIg&oe=673DD218&_nc_sid=472314'),\n",
       "   'media_type': 1},\n",
       "  {'pk': '3471560697004101610',\n",
       "   'video_url': None,\n",
       "   'thumbnail_url': Url('https://instagram.fupg6-1.fna.fbcdn.net/v/t39.30808-6/461870161_18068652058716600_9135233177083547631_n.jpg?stp=dst-jpg_e35_s1080x1080&efg=eyJ2ZW5jb2RlX3RhZyI6ImltYWdlX3VybGdlbi4xNDQweDEwNDIuc2RyLmYzMDgwOC5kZWZhdWx0X2ltYWdlIn0&_nc_ht=instagram.fupg6-1.fna.fbcdn.net&_nc_cat=100&_nc_ohc=UAem4xqSFp4Q7kNvgGQcVuk&_nc_gid=31477b211734483695686381a4800ead&edm=AMKDjl4AAAAA&ccb=7-5&ig_cache_key=MzQ3MTU2MDY5NzAwNDEwMTYxMA%3D%3D.3-ccb7-5&oh=00_AYBHaW8sWymIBafd7ItEmEFK97UVDgbin82oYxSEg0lt-A&oe=673DC06D&_nc_sid=472314'),\n",
       "   'media_type': 1}],\n",
       " 'clips_metadata': {}}"
      ]
     },
     "execution_count": 34,
     "metadata": {},
     "output_type": "execute_result"
    }
   ],
   "source": [
    "medias[0].model_dump()"
   ]
  },
  {
   "cell_type": "code",
   "execution_count": 35,
   "metadata": {},
   "outputs": [],
   "source": [
    "ls = []\n",
    "for media in medias:\n",
    "    temp = {}\n",
    "    temp['url'] = 'https://www.instagram.com/p/' + media.code\n",
    "    temp['caption'] = media.caption_text\n",
    "    temp['like_count'] = media.like_count\n",
    "    temp['thumbnail_url'] = media.thumbnail_url\n",
    "    temp['user_username'] = media.user.username\n",
    "    temp['user_full_name'] = media.user.full_name\n",
    "    temp['user_url'] = 'https://www.instagram.com/' + media.user.username\n",
    "    temp['id'] = media.id\n",
    "    temp['pk'] = media.pk\n",
    "    temp['code'] = media.code\n",
    "    temp['user_pk'] = media.user.pk\n",
    "\n",
    "    ls.append(temp)\n",
    "\n",
    "df = pd.DataFrame(ls)\n",
    "df['pk'] = df['pk'].astype(str)\n",
    "df['user_pk'] = df['user_pk'].astype(str)\n"
   ]
  },
  {
   "cell_type": "code",
   "execution_count": 36,
   "metadata": {},
   "outputs": [
    {
     "data": {
      "text/html": [
       "<div>\n",
       "<style scoped>\n",
       "    .dataframe tbody tr th:only-of-type {\n",
       "        vertical-align: middle;\n",
       "    }\n",
       "\n",
       "    .dataframe tbody tr th {\n",
       "        vertical-align: top;\n",
       "    }\n",
       "\n",
       "    .dataframe thead th {\n",
       "        text-align: right;\n",
       "    }\n",
       "</style>\n",
       "<table border=\"1\" class=\"dataframe\">\n",
       "  <thead>\n",
       "    <tr style=\"text-align: right;\">\n",
       "      <th></th>\n",
       "      <th>url</th>\n",
       "      <th>caption</th>\n",
       "      <th>like_count</th>\n",
       "      <th>thumbnail_url</th>\n",
       "      <th>user_username</th>\n",
       "      <th>user_full_name</th>\n",
       "      <th>user_url</th>\n",
       "      <th>id</th>\n",
       "      <th>pk</th>\n",
       "      <th>code</th>\n",
       "      <th>user_pk</th>\n",
       "    </tr>\n",
       "  </thead>\n",
       "  <tbody>\n",
       "    <tr>\n",
       "      <th>0</th>\n",
       "      <td>https://www.instagram.com/p/DAtdhSKoC1e</td>\n",
       "      <td>Audi R8 5.2 FSI V10 Performance Carbon Black S...</td>\n",
       "      <td>5066</td>\n",
       "      <td>None</td>\n",
       "      <td>oakmoore_car_company</td>\n",
       "      <td>Oakmoore Car Company</td>\n",
       "      <td>https://www.instagram.com/oakmoore_car_company</td>\n",
       "      <td>3471560718369697118_21488796599</td>\n",
       "      <td>3471560718369697118</td>\n",
       "      <td>DAtdhSKoC1e</td>\n",
       "      <td>21488796599</td>\n",
       "    </tr>\n",
       "    <tr>\n",
       "      <th>1</th>\n",
       "      <td>https://www.instagram.com/p/DCZeFu2OXyB</td>\n",
       "      <td>Can't believe bro said such things\\n\\nCredit 💳...</td>\n",
       "      <td>38</td>\n",
       "      <td>https://instagram.fupg6-1.fna.fbcdn.net/v/t51....</td>\n",
       "      <td>financelazy</td>\n",
       "      <td>Finance Memes</td>\n",
       "      <td>https://www.instagram.com/financelazy</td>\n",
       "      <td>3501962520551849089_53805333717</td>\n",
       "      <td>3501962520551849089</td>\n",
       "      <td>DCZeFu2OXyB</td>\n",
       "      <td>53805333717</td>\n",
       "    </tr>\n",
       "    <tr>\n",
       "      <th>2</th>\n",
       "      <td>https://www.instagram.com/p/C12lbhBqHFH</td>\n",
       "      <td>Audi RS7 😱🇩🇪\\nFollow me @audiporium for daily ...</td>\n",
       "      <td>5918</td>\n",
       "      <td>None</td>\n",
       "      <td>audiporium</td>\n",
       "      <td>Audi Porium</td>\n",
       "      <td>https://www.instagram.com/audiporium</td>\n",
       "      <td>3275970397566693703_45673210303</td>\n",
       "      <td>3275970397566693703</td>\n",
       "      <td>C12lbhBqHFH</td>\n",
       "      <td>45673210303</td>\n",
       "    </tr>\n",
       "    <tr>\n",
       "      <th>3</th>\n",
       "      <td>https://www.instagram.com/p/C_dGBjrt5iz</td>\n",
       "      <td>Truth in Signage\\n#comics #cartoons #alien #in...</td>\n",
       "      <td>897</td>\n",
       "      <td>https://instagram.fupg6-1.fna.fbcdn.net/v/t39....</td>\n",
       "      <td>waynocartoons</td>\n",
       "      <td>Wayno®</td>\n",
       "      <td>https://www.instagram.com/waynocartoons</td>\n",
       "      <td>3448939384948627635_37046978</td>\n",
       "      <td>3448939384948627635</td>\n",
       "      <td>C_dGBjrt5iz</td>\n",
       "      <td>37046978</td>\n",
       "    </tr>\n",
       "    <tr>\n",
       "      <th>4</th>\n",
       "      <td>https://www.instagram.com/p/C3Y83dkBftA</td>\n",
       "      <td>Pakar Digital Forensik dari Institut Teknologi...</td>\n",
       "      <td>3576</td>\n",
       "      <td>https://instagram.fupg6-1.fna.fbcdn.net/v/t39....</td>\n",
       "      <td>sindonews</td>\n",
       "      <td>SINDOnews</td>\n",
       "      <td>https://www.instagram.com/sindonews</td>\n",
       "      <td>3303658020781030208_1315172422</td>\n",
       "      <td>3303658020781030208</td>\n",
       "      <td>C3Y83dkBftA</td>\n",
       "      <td>1315172422</td>\n",
       "    </tr>\n",
       "    <tr>\n",
       "      <th>5</th>\n",
       "      <td>https://www.instagram.com/p/DAuwXgBul_z</td>\n",
       "      <td>It’s Better with Blanche ™️\\n\\n#GoldenGirls #T...</td>\n",
       "      <td>13631</td>\n",
       "      <td>https://instagram.fupg6-1.fna.fbcdn.net/v/t51....</td>\n",
       "      <td>goldengirlsmoments</td>\n",
       "      <td>Golden Girls Moments</td>\n",
       "      <td>https://www.instagram.com/goldengirlsmoments</td>\n",
       "      <td>3471925083918458867_52125718916</td>\n",
       "      <td>3471925083918458867</td>\n",
       "      <td>DAuwXgBul_z</td>\n",
       "      <td>52125718916</td>\n",
       "    </tr>\n",
       "    <tr>\n",
       "      <th>6</th>\n",
       "      <td>https://www.instagram.com/p/DA6QA5iOV-n</td>\n",
       "      <td>Final Recon 🔎 // #ciberseguridad #ethicalhacke...</td>\n",
       "      <td>1430</td>\n",
       "      <td>https://instagram.fupg6-1.fna.fbcdn.net/v/t51....</td>\n",
       "      <td>afsh4ck</td>\n",
       "      <td>AFS H4CK</td>\n",
       "      <td>https://www.instagram.com/afsh4ck</td>\n",
       "      <td>3475160492991405991_30140578768</td>\n",
       "      <td>3475160492991405991</td>\n",
       "      <td>DA6QA5iOV-n</td>\n",
       "      <td>30140578768</td>\n",
       "    </tr>\n",
       "    <tr>\n",
       "      <th>7</th>\n",
       "      <td>https://www.instagram.com/p/C_MPpVsO9bR</td>\n",
       "      <td>Fixed for ~12 seconds 🙄\\n\\n#QualityAssurance #...</td>\n",
       "      <td>672</td>\n",
       "      <td>https://instagram.fupg6-1.fna.fbcdn.net/v/t51....</td>\n",
       "      <td>thequalityquirks</td>\n",
       "      <td>Quality Quirks - It’s a joke RELAX</td>\n",
       "      <td>https://www.instagram.com/thequalityquirks</td>\n",
       "      <td>3444196626518496977_53857704659</td>\n",
       "      <td>3444196626518496977</td>\n",
       "      <td>C_MPpVsO9bR</td>\n",
       "      <td>53857704659</td>\n",
       "    </tr>\n",
       "    <tr>\n",
       "      <th>8</th>\n",
       "      <td>https://www.instagram.com/p/DArYYgyOQmq</td>\n",
       "      <td>Ye olde Vikings\\n\\n#GoldenGirls #TheGoldenGirl...</td>\n",
       "      <td>7309</td>\n",
       "      <td>https://instagram.fupg6-1.fna.fbcdn.net/v/t51....</td>\n",
       "      <td>goldengirlsmoments</td>\n",
       "      <td>Golden Girls Moments</td>\n",
       "      <td>https://www.instagram.com/goldengirlsmoments</td>\n",
       "      <td>3470975175405144490_52125718916</td>\n",
       "      <td>3470975175405144490</td>\n",
       "      <td>DArYYgyOQmq</td>\n",
       "      <td>52125718916</td>\n",
       "    </tr>\n",
       "    <tr>\n",
       "      <th>9</th>\n",
       "      <td>https://www.instagram.com/p/C6sRBVqPrQJ</td>\n",
       "      <td>Jaringan Pemantau Pendidikan Indonesia (JPPI) ...</td>\n",
       "      <td>4127</td>\n",
       "      <td>https://instagram.fupg6-1.fna.fbcdn.net/v/t51....</td>\n",
       "      <td>tempodotco</td>\n",
       "      <td>tempo.co by Tempo Media Group</td>\n",
       "      <td>https://www.instagram.com/tempodotco</td>\n",
       "      <td>3363137880506414089_310386046</td>\n",
       "      <td>3363137880506414089</td>\n",
       "      <td>C6sRBVqPrQJ</td>\n",
       "      <td>310386046</td>\n",
       "    </tr>\n",
       "  </tbody>\n",
       "</table>\n",
       "</div>"
      ],
      "text/plain": [
       "                                       url  \\\n",
       "0  https://www.instagram.com/p/DAtdhSKoC1e   \n",
       "1  https://www.instagram.com/p/DCZeFu2OXyB   \n",
       "2  https://www.instagram.com/p/C12lbhBqHFH   \n",
       "3  https://www.instagram.com/p/C_dGBjrt5iz   \n",
       "4  https://www.instagram.com/p/C3Y83dkBftA   \n",
       "5  https://www.instagram.com/p/DAuwXgBul_z   \n",
       "6  https://www.instagram.com/p/DA6QA5iOV-n   \n",
       "7  https://www.instagram.com/p/C_MPpVsO9bR   \n",
       "8  https://www.instagram.com/p/DArYYgyOQmq   \n",
       "9  https://www.instagram.com/p/C6sRBVqPrQJ   \n",
       "\n",
       "                                             caption  like_count  \\\n",
       "0  Audi R8 5.2 FSI V10 Performance Carbon Black S...        5066   \n",
       "1  Can't believe bro said such things\\n\\nCredit 💳...          38   \n",
       "2  Audi RS7 😱🇩🇪\\nFollow me @audiporium for daily ...        5918   \n",
       "3  Truth in Signage\\n#comics #cartoons #alien #in...         897   \n",
       "4  Pakar Digital Forensik dari Institut Teknologi...        3576   \n",
       "5  It’s Better with Blanche ™️\\n\\n#GoldenGirls #T...       13631   \n",
       "6  Final Recon 🔎 // #ciberseguridad #ethicalhacke...        1430   \n",
       "7  Fixed for ~12 seconds 🙄\\n\\n#QualityAssurance #...         672   \n",
       "8  Ye olde Vikings\\n\\n#GoldenGirls #TheGoldenGirl...        7309   \n",
       "9  Jaringan Pemantau Pendidikan Indonesia (JPPI) ...        4127   \n",
       "\n",
       "                                       thumbnail_url         user_username  \\\n",
       "0                                               None  oakmoore_car_company   \n",
       "1  https://instagram.fupg6-1.fna.fbcdn.net/v/t51....           financelazy   \n",
       "2                                               None            audiporium   \n",
       "3  https://instagram.fupg6-1.fna.fbcdn.net/v/t39....         waynocartoons   \n",
       "4  https://instagram.fupg6-1.fna.fbcdn.net/v/t39....             sindonews   \n",
       "5  https://instagram.fupg6-1.fna.fbcdn.net/v/t51....    goldengirlsmoments   \n",
       "6  https://instagram.fupg6-1.fna.fbcdn.net/v/t51....               afsh4ck   \n",
       "7  https://instagram.fupg6-1.fna.fbcdn.net/v/t51....      thequalityquirks   \n",
       "8  https://instagram.fupg6-1.fna.fbcdn.net/v/t51....    goldengirlsmoments   \n",
       "9  https://instagram.fupg6-1.fna.fbcdn.net/v/t51....            tempodotco   \n",
       "\n",
       "                       user_full_name  \\\n",
       "0                Oakmoore Car Company   \n",
       "1                       Finance Memes   \n",
       "2                         Audi Porium   \n",
       "3                              Wayno®   \n",
       "4                           SINDOnews   \n",
       "5                Golden Girls Moments   \n",
       "6                            AFS H4CK   \n",
       "7  Quality Quirks - It’s a joke RELAX   \n",
       "8                Golden Girls Moments   \n",
       "9       tempo.co by Tempo Media Group   \n",
       "\n",
       "                                         user_url  \\\n",
       "0  https://www.instagram.com/oakmoore_car_company   \n",
       "1           https://www.instagram.com/financelazy   \n",
       "2            https://www.instagram.com/audiporium   \n",
       "3         https://www.instagram.com/waynocartoons   \n",
       "4             https://www.instagram.com/sindonews   \n",
       "5    https://www.instagram.com/goldengirlsmoments   \n",
       "6               https://www.instagram.com/afsh4ck   \n",
       "7      https://www.instagram.com/thequalityquirks   \n",
       "8    https://www.instagram.com/goldengirlsmoments   \n",
       "9            https://www.instagram.com/tempodotco   \n",
       "\n",
       "                                id                   pk         code  \\\n",
       "0  3471560718369697118_21488796599  3471560718369697118  DAtdhSKoC1e   \n",
       "1  3501962520551849089_53805333717  3501962520551849089  DCZeFu2OXyB   \n",
       "2  3275970397566693703_45673210303  3275970397566693703  C12lbhBqHFH   \n",
       "3     3448939384948627635_37046978  3448939384948627635  C_dGBjrt5iz   \n",
       "4   3303658020781030208_1315172422  3303658020781030208  C3Y83dkBftA   \n",
       "5  3471925083918458867_52125718916  3471925083918458867  DAuwXgBul_z   \n",
       "6  3475160492991405991_30140578768  3475160492991405991  DA6QA5iOV-n   \n",
       "7  3444196626518496977_53857704659  3444196626518496977  C_MPpVsO9bR   \n",
       "8  3470975175405144490_52125718916  3470975175405144490  DArYYgyOQmq   \n",
       "9    3363137880506414089_310386046  3363137880506414089  C6sRBVqPrQJ   \n",
       "\n",
       "       user_pk  \n",
       "0  21488796599  \n",
       "1  53805333717  \n",
       "2  45673210303  \n",
       "3     37046978  \n",
       "4   1315172422  \n",
       "5  52125718916  \n",
       "6  30140578768  \n",
       "7  53857704659  \n",
       "8  52125718916  \n",
       "9    310386046  "
      ]
     },
     "execution_count": 36,
     "metadata": {},
     "output_type": "execute_result"
    }
   ],
   "source": [
    "df"
   ]
  },
  {
   "cell_type": "code",
   "execution_count": 37,
   "metadata": {},
   "outputs": [],
   "source": [
    "df.to_excel('hasil_ig_audit.xlsx', index=False)"
   ]
  },
  {
   "cell_type": "code",
   "execution_count": null,
   "metadata": {},
   "outputs": [],
   "source": []
  },
  {
   "cell_type": "code",
   "execution_count": 38,
   "metadata": {},
   "outputs": [
    {
     "data": {
      "text/plain": [
       "{'pk': 3471560718369697118,\n",
       " 'id': '3471560718369697118_21488796599',\n",
       " 'code': 'DAtdhSKoC1e',\n",
       " 'taken_at': datetime.datetime(2024, 10, 4, 17, 18, 28, tzinfo=TzInfo(UTC)),\n",
       " 'media_type': 8,\n",
       " 'image_versions2': {'candidates': [{'width': 1080,\n",
       "    'height': 781,\n",
       "    'url': 'https://instagram.fupg6-1.fna.fbcdn.net/v/t39.30808-6/461957500_18068651935716600_5299056791208808054_n.jpg?stp=dst-jpg_e35_s1080x1080_sh0.08&_nc_ht=instagram.fupg6-1.fna.fbcdn.net&_nc_cat=100&_nc_ohc=pwB9giRWJ2kQ7kNvgF2PWy5&_nc_gid=31477b211734483695686381a4800ead&edm=AMKDjl4AAAAA&ccb=7-5&ig_cache_key=MzQ3MTU2MDY5NzAyMDg3MDgxMQ%3D%3D.3-ccb7-5&oh=00_AYC86TSIAtH0WhLYFKLjMGqLYxKC6tEmsYkVllAOpj6taw&oe=673DC0BD&_nc_sid=472314',\n",
       "    'scans_profile': ''},\n",
       "   {'width': 320,\n",
       "    'height': 231,\n",
       "    'url': 'https://instagram.fupg6-1.fna.fbcdn.net/v/t39.30808-6/461957500_18068651935716600_5299056791208808054_n.jpg?stp=dst-jpg_e15_s320x320&_nc_ht=instagram.fupg6-1.fna.fbcdn.net&_nc_cat=100&_nc_ohc=pwB9giRWJ2kQ7kNvgF2PWy5&_nc_gid=31477b211734483695686381a4800ead&edm=AMKDjl4AAAAA&ccb=7-5&ig_cache_key=MzQ3MTU2MDY5NzAyMDg3MDgxMQ%3D%3D.3-ccb7-5&oh=00_AYAS06d5UAKGBjTjzs80kZYNyfjcqGSm4npZBZ75e1qedA&oe=673DC0BD&_nc_sid=472314',\n",
       "    'scans_profile': ''}]},\n",
       " 'product_type': 'carousel_container',\n",
       " 'thumbnail_url': None,\n",
       " 'location': None,\n",
       " 'user': {'pk': '21488796599',\n",
       "  'username': 'oakmoore_car_company',\n",
       "  'full_name': 'Oakmoore Car Company',\n",
       "  'profile_pic_url': Url('https://instagram.fupg6-1.fna.fbcdn.net/v/t51.2885-19/416456389_1408055106799158_2332518005741040067_n.jpg?stp=dst-jpg_e0_s150x150&_nc_ht=instagram.fupg6-1.fna.fbcdn.net&_nc_cat=106&_nc_ohc=xdRYwWkS9y4Q7kNvgFUxywA&_nc_gid=31477b211734483695686381a4800ead&edm=AMKDjl4BAAAA&ccb=7-5&oh=00_AYDmbB3GEYYZHl8RL4E33l9eNEKgIXCefvV8KIDucMKaUw&oe=673DE21F&_nc_sid=472314'),\n",
       "  'profile_pic_url_hd': None,\n",
       "  'is_private': False},\n",
       " 'comment_count': 5,\n",
       " 'comments_disabled': False,\n",
       " 'commenting_disabled_for_viewer': False,\n",
       " 'like_count': 5066,\n",
       " 'play_count': 0,\n",
       " 'has_liked': False,\n",
       " 'caption_text': 'Audi R8 5.2 FSI V10 Performance Carbon Black S Tronic quattro 2019/19 Black 22,000 miles £104,999\\n_____________________________________________ \\n\\nLED Headlights\\nAudi Magnetic Ride\\nCarbon Engine Cover\\nCarbon High Gloss Exterior Style Package - Front Spoiler - Rocker and Rear Diffuser\\nCeramic Brakes with Red Calipers\\nDoor Mirrors - Carbon High Gloss\\nDoor Sill Trims with Aluminium Inlays and R8 Logo on the Door Sills\\nExhaust Tailpipe - Gloss Black Oval\\nExtended Exterior Style Package Including Audi Emblem and Badges in Black High Gloss\\nExtended Inlays in Gloss Carbon\\nLED Rear Lights with Dynamic Rear Indicators\\nLarge Fixed Rear Spoiler in Gloss Carbon\\nReversing Camera\\n\\nFull PPF\\nEibach Springs \\n_____________________________________________\\n\\nAll of our cars are HPI clear and come with 6 Months premium warranty - HP and PCP finance available from 8.9% - Nation wide delivery available \\n\\n📍 Oakmoore Car Company, 15 & 21 Castle road, Kings Norton Business Centre, Birmingham, B30 3HZ \\n📞 0121 459 0822 - 07547812742 🖥 www.oakmoorecarcompany.co.uk\\n#oakmoorecarcompany #audi #audir8 #audisport #audiquattro #audigramm #audirs #audirs #audit#r8v10plus #r8v10 #r8performance #audir8performance @aj_carcare @_havisuals',\n",
       " 'accessibility_caption': None,\n",
       " 'usertags': [],\n",
       " 'sponsor_tags': [],\n",
       " 'video_url': None,\n",
       " 'view_count': 0,\n",
       " 'video_duration': 0.0,\n",
       " 'title': '',\n",
       " 'resources': [{'pk': '3471560697020870811',\n",
       "   'video_url': None,\n",
       "   'thumbnail_url': Url('https://instagram.fupg6-1.fna.fbcdn.net/v/t39.30808-6/461957500_18068651935716600_5299056791208808054_n.jpg?stp=dst-jpg_e35_s1080x1080&efg=eyJ2ZW5jb2RlX3RhZyI6ImltYWdlX3VybGdlbi4xNDQweDEwNDIuc2RyLmYzMDgwOC5kZWZhdWx0X2ltYWdlIn0&_nc_ht=instagram.fupg6-1.fna.fbcdn.net&_nc_cat=100&_nc_ohc=pwB9giRWJ2kQ7kNvgF2PWy5&_nc_gid=31477b211734483695686381a4800ead&edm=AMKDjl4AAAAA&ccb=7-5&ig_cache_key=MzQ3MTU2MDY5NzAyMDg3MDgxMQ%3D%3D.3-ccb7-5&oh=00_AYDFGGfXbBPsJag9OQ3KDgjT3HdxR2ZYSrGP4ZKRL0mnUw&oe=673DC0BD&_nc_sid=472314'),\n",
       "   'media_type': 1},\n",
       "  {'pk': '3471560697012333657',\n",
       "   'video_url': None,\n",
       "   'thumbnail_url': Url('https://instagram.fupg6-1.fna.fbcdn.net/v/t39.30808-6/461957922_18068651962716600_519888456369283316_n.jpg?stp=dst-jpg_e35_s1080x1080&efg=eyJ2ZW5jb2RlX3RhZyI6ImltYWdlX3VybGdlbi4xNDQweDEwNDIuc2RyLmYzMDgwOC5kZWZhdWx0X2ltYWdlIn0&_nc_ht=instagram.fupg6-1.fna.fbcdn.net&_nc_cat=100&_nc_ohc=tUbaQrlD2AkQ7kNvgHoWPm6&_nc_gid=31477b211734483695686381a4800ead&edm=AMKDjl4AAAAA&ccb=7-5&ig_cache_key=MzQ3MTU2MDY5NzAxMjMzMzY1Nw%3D%3D.3-ccb7-5&oh=00_AYAwoKO7ilLYWAdGrUoU4ZGWl24ZL-qQ-Va7OcpVG9P5IA&oe=673DCFF8&_nc_sid=472314'),\n",
       "   'media_type': 1},\n",
       "  {'pk': '3471560697071151327',\n",
       "   'video_url': None,\n",
       "   'thumbnail_url': Url('https://instagram.fupg6-1.fna.fbcdn.net/v/t39.30808-6/461992651_18068651971716600_349905726663172779_n.jpg?stp=dst-jpg_e35_s1080x1080&efg=eyJ2ZW5jb2RlX3RhZyI6ImltYWdlX3VybGdlbi4xNDQweDEwNDIuc2RyLmYzMDgwOC5kZWZhdWx0X2ltYWdlIn0&_nc_ht=instagram.fupg6-1.fna.fbcdn.net&_nc_cat=100&_nc_ohc=IlRnCu8X0FoQ7kNvgHtR4o0&_nc_gid=31477b211734483695686381a4800ead&edm=AMKDjl4AAAAA&ccb=7-5&ig_cache_key=MzQ3MTU2MDY5NzA3MTE1MTMyNw%3D%3D.3-ccb7-5&oh=00_AYDgZmwsdELf0_ZXu7S8fgwTHNKP32IwqFdA10tFmeGe5w&oe=673DBA93&_nc_sid=472314'),\n",
       "   'media_type': 1},\n",
       "  {'pk': '3471560696987195931',\n",
       "   'video_url': None,\n",
       "   'thumbnail_url': Url('https://instagram.fupg6-1.fna.fbcdn.net/v/t39.30808-6/461992051_18068651983716600_6168145755886227137_n.jpg?stp=dst-jpg_e35_s1080x1080&efg=eyJ2ZW5jb2RlX3RhZyI6ImltYWdlX3VybGdlbi4xNDQweDEwNDIuc2RyLmYzMDgwOC5kZWZhdWx0X2ltYWdlIn0&_nc_ht=instagram.fupg6-1.fna.fbcdn.net&_nc_cat=100&_nc_ohc=kHeQFN7yxWAQ7kNvgHa6XGa&_nc_gid=31477b211734483695686381a4800ead&edm=AMKDjl4AAAAA&ccb=7-5&ig_cache_key=MzQ3MTU2MDY5Njk4NzE5NTkzMQ%3D%3D.3-ccb7-5&oh=00_AYCrhBUSf-Id7LrU_sDbH_j5LiZMGps8xrBbIgUC4cSgjQ&oe=673DD353&_nc_sid=472314'),\n",
       "   'media_type': 1},\n",
       "  {'pk': '3471560697012301500',\n",
       "   'video_url': None,\n",
       "   'thumbnail_url': Url('https://instagram.fupg6-1.fna.fbcdn.net/v/t39.30808-6/461947135_18068651992716600_8226951908199251281_n.jpg?stp=dst-jpg_e35_s1080x1080&efg=eyJ2ZW5jb2RlX3RhZyI6ImltYWdlX3VybGdlbi4xNDQweDEwNDIuc2RyLmYzMDgwOC5kZWZhdWx0X2ltYWdlIn0&_nc_ht=instagram.fupg6-1.fna.fbcdn.net&_nc_cat=100&_nc_ohc=B1h04XId7wgQ7kNvgFl6RFj&_nc_gid=31477b211734483695686381a4800ead&edm=AMKDjl4AAAAA&ccb=7-5&ig_cache_key=MzQ3MTU2MDY5NzAxMjMwMTUwMA%3D%3D.3-ccb7-5&oh=00_AYADlv12Bfbd0SUCjK3Bk9AGo9U4sZiO_LoxjbDNkUkgBg&oe=673DCEA2&_nc_sid=472314'),\n",
       "   'media_type': 1},\n",
       "  {'pk': '3471560697012349013',\n",
       "   'video_url': None,\n",
       "   'thumbnail_url': Url('https://instagram.fupg6-1.fna.fbcdn.net/v/t39.30808-6/461992773_18068652001716600_1107570667252104517_n.jpg?stp=dst-jpg_e35_s1080x1080&efg=eyJ2ZW5jb2RlX3RhZyI6ImltYWdlX3VybGdlbi4xNDQweDEwNDIuc2RyLmYzMDgwOC5kZWZhdWx0X2ltYWdlIn0&_nc_ht=instagram.fupg6-1.fna.fbcdn.net&_nc_cat=100&_nc_ohc=uLSaZoRjGjkQ7kNvgERnRX7&_nc_gid=31477b211734483695686381a4800ead&edm=AMKDjl4AAAAA&ccb=7-5&ig_cache_key=MzQ3MTU2MDY5NzAxMjM0OTAxMw%3D%3D.3-ccb7-5&oh=00_AYDG-i6y-MeohqLnLnhF_n1u_rol-OQpI6TM478p9tQILA&oe=673DC2F5&_nc_sid=472314'),\n",
       "   'media_type': 1},\n",
       "  {'pk': '3471560696987286684',\n",
       "   'video_url': None,\n",
       "   'thumbnail_url': Url('https://instagram.fupg6-1.fna.fbcdn.net/v/t39.30808-6/461939430_18068652010716600_2234878961169802631_n.jpg?stp=dst-jpg_e35_s1080x1080_tt6&efg=eyJ2ZW5jb2RlX3RhZyI6ImltYWdlX3VybGdlbi4xNDQweDEwNDIuc2RyLmYzMDgwOC5kZWZhdWx0X2ltYWdlIn0&_nc_ht=instagram.fupg6-1.fna.fbcdn.net&_nc_cat=100&_nc_ohc=Hg7qgDEXUL4Q7kNvgGcZgqS&_nc_gid=31477b211734483695686381a4800ead&edm=AMKDjl4AAAAA&ccb=7-5&ig_cache_key=MzQ3MTU2MDY5Njk4NzI4NjY4NA%3D%3D.3-ccb7-5&oh=00_AYDxcLFVHfEJDXuLF5UmDdRM2Or0qTtB5KR78YDnheO9nw&oe=673DED74&_nc_sid=472314'),\n",
       "   'media_type': 1},\n",
       "  {'pk': '3471560696987199716',\n",
       "   'video_url': None,\n",
       "   'thumbnail_url': Url('https://instagram.fupg6-1.fna.fbcdn.net/v/t39.30808-6/462146117_18068652019716600_8013020716629465187_n.jpg?stp=dst-jpg_e35_s1080x1080&efg=eyJ2ZW5jb2RlX3RhZyI6ImltYWdlX3VybGdlbi4xNDQweDEwNDIuc2RyLmYzMDgwOC5kZWZhdWx0X2ltYWdlIn0&_nc_ht=instagram.fupg6-1.fna.fbcdn.net&_nc_cat=100&_nc_ohc=JPJu4upfzYcQ7kNvgFnIdRK&_nc_gid=31477b211734483695686381a4800ead&edm=AMKDjl4AAAAA&ccb=7-5&ig_cache_key=MzQ3MTU2MDY5Njk4NzE5OTcxNg%3D%3D.3-ccb7-5&oh=00_AYAkjQQvgboFnqYCtSaydc_X4BZso8bgaKbWNxkWcFgxgA&oe=673DD4D6&_nc_sid=472314'),\n",
       "   'media_type': 1},\n",
       "  {'pk': '3471560697004162476',\n",
       "   'video_url': None,\n",
       "   'thumbnail_url': Url('https://instagram.fupg6-1.fna.fbcdn.net/v/t39.30808-6/462181641_18068652028716600_5263189891623681550_n.jpg?stp=dst-jpg_e35_s1080x1080&efg=eyJ2ZW5jb2RlX3RhZyI6ImltYWdlX3VybGdlbi4xNDQweDEwNDMuc2RyLmYzMDgwOC5kZWZhdWx0X2ltYWdlIn0&_nc_ht=instagram.fupg6-1.fna.fbcdn.net&_nc_cat=100&_nc_ohc=gJY1Zge5g2AQ7kNvgFsLdtv&_nc_gid=31477b211734483695686381a4800ead&edm=AMKDjl4AAAAA&ccb=7-5&ig_cache_key=MzQ3MTU2MDY5NzAwNDE2MjQ3Ng%3D%3D.3-ccb7-5&oh=00_AYCKP40OqJuIQmCLLjB769jgyrJNA-LzdDi6ZqYNGkRSEw&oe=673DE3FD&_nc_sid=472314'),\n",
       "   'media_type': 1},\n",
       "  {'pk': '3471560697012326503',\n",
       "   'video_url': None,\n",
       "   'thumbnail_url': Url('https://instagram.fupg6-1.fna.fbcdn.net/v/t39.30808-6/462162910_18068652037716600_4082215482596810323_n.jpg?stp=dst-jpg_e35_s1080x1080&efg=eyJ2ZW5jb2RlX3RhZyI6ImltYWdlX3VybGdlbi4xNDQweDEwNDIuc2RyLmYzMDgwOC5kZWZhdWx0X2ltYWdlIn0&_nc_ht=instagram.fupg6-1.fna.fbcdn.net&_nc_cat=100&_nc_ohc=EAjTtpPLIXcQ7kNvgHB2FC1&_nc_gid=31477b211734483695686381a4800ead&edm=AMKDjl4AAAAA&ccb=7-5&ig_cache_key=MzQ3MTU2MDY5NzAxMjMyNjUwMw%3D%3D.3-ccb7-5&oh=00_AYBjCy5Eptc2q5BHBPQzfU6ZHfRVxaf8Z3Et0vkI7Rz_0A&oe=673DE8A1&_nc_sid=472314'),\n",
       "   'media_type': 1},\n",
       "  {'pk': '3471560697012462518',\n",
       "   'video_url': None,\n",
       "   'thumbnail_url': Url('https://instagram.fupg6-1.fna.fbcdn.net/v/t39.30808-6/462001259_18068652049716600_6156819520585406523_n.jpg?stp=dst-jpg_e35_s1080x1080&efg=eyJ2ZW5jb2RlX3RhZyI6ImltYWdlX3VybGdlbi4xNDQweDEwNDIuc2RyLmYzMDgwOC5kZWZhdWx0X2ltYWdlIn0&_nc_ht=instagram.fupg6-1.fna.fbcdn.net&_nc_cat=100&_nc_ohc=2GM4Z5xclXQQ7kNvgEY2aVo&_nc_gid=31477b211734483695686381a4800ead&edm=AMKDjl4AAAAA&ccb=7-5&ig_cache_key=MzQ3MTU2MDY5NzAxMjQ2MjUxOA%3D%3D.3-ccb7-5&oh=00_AYDUGsQozRqMzWCO9C6w4X8aNCl0iWvVVXjxI4aV_3BoIg&oe=673DD218&_nc_sid=472314'),\n",
       "   'media_type': 1},\n",
       "  {'pk': '3471560697004101610',\n",
       "   'video_url': None,\n",
       "   'thumbnail_url': Url('https://instagram.fupg6-1.fna.fbcdn.net/v/t39.30808-6/461870161_18068652058716600_9135233177083547631_n.jpg?stp=dst-jpg_e35_s1080x1080&efg=eyJ2ZW5jb2RlX3RhZyI6ImltYWdlX3VybGdlbi4xNDQweDEwNDIuc2RyLmYzMDgwOC5kZWZhdWx0X2ltYWdlIn0&_nc_ht=instagram.fupg6-1.fna.fbcdn.net&_nc_cat=100&_nc_ohc=UAem4xqSFp4Q7kNvgGQcVuk&_nc_gid=31477b211734483695686381a4800ead&edm=AMKDjl4AAAAA&ccb=7-5&ig_cache_key=MzQ3MTU2MDY5NzAwNDEwMTYxMA%3D%3D.3-ccb7-5&oh=00_AYBHaW8sWymIBafd7ItEmEFK97UVDgbin82oYxSEg0lt-A&oe=673DC06D&_nc_sid=472314'),\n",
       "   'media_type': 1}],\n",
       " 'clips_metadata': {}}"
      ]
     },
     "execution_count": 38,
     "metadata": {},
     "output_type": "execute_result"
    }
   ],
   "source": [
    "medias[0].model_dump()"
   ]
  },
  {
   "cell_type": "code",
   "execution_count": 12,
   "metadata": {},
   "outputs": [
    {
     "ename": "TypeError",
     "evalue": "'Media' object is not subscriptable",
     "output_type": "error",
     "traceback": [
      "\u001b[1;31m---------------------------------------------------------------------------\u001b[0m",
      "\u001b[1;31mTypeError\u001b[0m                                 Traceback (most recent call last)",
      "Cell \u001b[1;32mIn[12], line 1\u001b[0m\n\u001b[1;32m----> 1\u001b[0m \u001b[43mmedias\u001b[49m\u001b[43m[\u001b[49m\u001b[38;5;241;43m0\u001b[39;49m\u001b[43m]\u001b[49m\u001b[43m[\u001b[49m\u001b[38;5;124;43m'\u001b[39;49m\u001b[38;5;124;43muser\u001b[39;49m\u001b[38;5;124;43m'\u001b[39;49m\u001b[43m]\u001b[49m[\u001b[38;5;124m'\u001b[39m\u001b[38;5;124musername\u001b[39m\u001b[38;5;124m'\u001b[39m]\n",
      "\u001b[1;31mTypeError\u001b[0m: 'Media' object is not subscriptable"
     ]
    }
   ],
   "source": [
    "medias[0]['user']['username']"
   ]
  },
  {
   "cell_type": "code",
   "execution_count": 13,
   "metadata": {},
   "outputs": [
    {
     "data": {
      "text/plain": [
       "'audiporium'"
      ]
     },
     "execution_count": 13,
     "metadata": {},
     "output_type": "execute_result"
    }
   ],
   "source": [
    "medias[0].user.username"
   ]
  },
  {
   "cell_type": "code",
   "execution_count": 14,
   "metadata": {},
   "outputs": [],
   "source": [
    "dict_temp = {\n",
    "    'user': {\n",
    "        'username': 'test'\n",
    "    }\n",
    "}"
   ]
  },
  {
   "cell_type": "code",
   "execution_count": 15,
   "metadata": {},
   "outputs": [
    {
     "ename": "AttributeError",
     "evalue": "'dict' object has no attribute 'user'",
     "output_type": "error",
     "traceback": [
      "\u001b[1;31m---------------------------------------------------------------------------\u001b[0m",
      "\u001b[1;31mAttributeError\u001b[0m                            Traceback (most recent call last)",
      "Cell \u001b[1;32mIn[15], line 1\u001b[0m\n\u001b[1;32m----> 1\u001b[0m \u001b[43mdict_temp\u001b[49m\u001b[38;5;241;43m.\u001b[39;49m\u001b[43muser\u001b[49m\u001b[38;5;241m.\u001b[39musername\n",
      "\u001b[1;31mAttributeError\u001b[0m: 'dict' object has no attribute 'user'"
     ]
    }
   ],
   "source": [
    "dict_temp.user.username"
   ]
  },
  {
   "cell_type": "code",
   "execution_count": 16,
   "metadata": {},
   "outputs": [],
   "source": [
    "post_pk = cl.media_pk_from_url('https://www.instagram.com/p/DCZJXn9t_gv/')"
   ]
  },
  {
   "cell_type": "code",
   "execution_count": 17,
   "metadata": {},
   "outputs": [
    {
     "data": {
      "text/plain": [
       "3501871391135234095"
      ]
     },
     "execution_count": 17,
     "metadata": {},
     "output_type": "execute_result"
    }
   ],
   "source": [
    "post_pk"
   ]
  },
  {
   "cell_type": "code",
   "execution_count": 18,
   "metadata": {},
   "outputs": [],
   "source": [
    "sender = cl.media_user(post_pk)"
   ]
  },
  {
   "cell_type": "code",
   "execution_count": 20,
   "metadata": {},
   "outputs": [
    {
     "data": {
      "text/plain": [
       "{'pk': '1994292927',\n",
       " 'username': 'indozone.id',\n",
       " 'full_name': 'INDOZONE - #KAMUHARUSTAU',\n",
       " 'profile_pic_url': Url('https://instagram.fupg6-1.fna.fbcdn.net/v/t51.2885-19/326005972_139552698946478_467721743645263209_n.jpg?stp=dst-jpg_e0_s150x150&_nc_ht=instagram.fupg6-1.fna.fbcdn.net&_nc_cat=1&_nc_ohc=bF6HILEplhgQ7kNvgGaDcPP&_nc_gid=916ebfae312a4176a9c2c015fc9e7cf2&edm=ALQROFkBAAAA&ccb=7-5&oh=00_AYAOOZt8NhWZMA-xYMUY7UVm_W0GscHxGM-RrK6zvqOHFg&oe=673DB980&_nc_sid=fc8dfb'),\n",
       " 'profile_pic_url_hd': None,\n",
       " 'is_private': False}"
      ]
     },
     "execution_count": 20,
     "metadata": {},
     "output_type": "execute_result"
    }
   ],
   "source": [
    "sender.model_dump()"
   ]
  },
  {
   "cell_type": "code",
   "execution_count": 23,
   "metadata": {},
   "outputs": [],
   "source": [
    "post_info = cl.media_info(post_pk)"
   ]
  },
  {
   "cell_type": "code",
   "execution_count": 24,
   "metadata": {},
   "outputs": [
    {
     "data": {
      "text/plain": [
       "{'pk': 3501871391135234095,\n",
       " 'id': '3501871391135234095_1994292927',\n",
       " 'code': 'DCZJXn9t_gv',\n",
       " 'taken_at': datetime.datetime(2024, 11, 15, 13, 0, 40, tzinfo=TzInfo(UTC)),\n",
       " 'media_type': 1,\n",
       " 'image_versions2': {'candidates': [{'width': 1080,\n",
       "    'height': 1080,\n",
       "    'url': 'https://instagram.fupg6-1.fna.fbcdn.net/v/t51.2885-15/466935113_427139436922767_7923487355241134111_n.jpg?stp=dst-jpg_e35_s1080x1080&efg=eyJ2ZW5jb2RlX3RhZyI6ImltYWdlX3VybGdlbi4xNDQweDE0NDAuc2RyLmYyODg1LmRlZmF1bHRfaW1hZ2UifQ&_nc_ht=instagram.fupg6-1.fna.fbcdn.net&_nc_cat=1&_nc_ohc=nv1_TZCvChgQ7kNvgFx72kK&_nc_gid=96c24d99fcab4ba8a849f189eb9b0e07&edm=ALQROFkBAAAA&ccb=7-5&ig_cache_key=MzUwMTg3MTM5MTEzNTIzNDA5NQ%3D%3D.3-ccb7-5&oh=00_AYB1Sg_KmOnJVQGGn4JRkXehwHI3WJQ9YeBANyuIzOz62g&oe=673DBA52&_nc_sid=fc8dfb',\n",
       "    'scans_profile': 'e35',\n",
       "    'estimated_scans_sizes': [27869,\n",
       "     55739,\n",
       "     83608,\n",
       "     111478,\n",
       "     139347,\n",
       "     155929,\n",
       "     198426,\n",
       "     225521,\n",
       "     250826]},\n",
       "   {'width': 360,\n",
       "    'height': 360,\n",
       "    'url': 'https://instagram.fupg6-1.fna.fbcdn.net/v/t51.2885-15/466935113_427139436922767_7923487355241134111_n.jpg?stp=dst-jpg_e35_s360x360&efg=eyJ2ZW5jb2RlX3RhZyI6ImltYWdlX3VybGdlbi4xNDQweDE0NDAuc2RyLmYyODg1LmRlZmF1bHRfaW1hZ2UifQ&_nc_ht=instagram.fupg6-1.fna.fbcdn.net&_nc_cat=1&_nc_ohc=nv1_TZCvChgQ7kNvgFx72kK&_nc_gid=96c24d99fcab4ba8a849f189eb9b0e07&edm=ALQROFkBAAAA&ccb=7-5&ig_cache_key=MzUwMTg3MTM5MTEzNTIzNDA5NQ%3D%3D.3-ccb7-5&oh=00_AYBck-Xktek2P2JlU2fJyrK-3fSy2Mq6Z1UANWK0Y_258Q&oe=673DBA52&_nc_sid=fc8dfb',\n",
       "    'scans_profile': 'e35',\n",
       "    'estimated_scans_sizes': [3580,\n",
       "     7161,\n",
       "     10741,\n",
       "     14322,\n",
       "     17902,\n",
       "     21554,\n",
       "     622015,\n",
       "     32225,\n",
       "     32225]}]},\n",
       " 'product_type': 'feed',\n",
       " 'thumbnail_url': Url('https://instagram.fupg6-1.fna.fbcdn.net/v/t51.2885-15/466935113_427139436922767_7923487355241134111_n.jpg?stp=dst-jpg_e35_s1080x1080&efg=eyJ2ZW5jb2RlX3RhZyI6ImltYWdlX3VybGdlbi4xNDQweDE0NDAuc2RyLmYyODg1LmRlZmF1bHRfaW1hZ2UifQ&_nc_ht=instagram.fupg6-1.fna.fbcdn.net&_nc_cat=1&_nc_ohc=nv1_TZCvChgQ7kNvgFx72kK&_nc_gid=96c24d99fcab4ba8a849f189eb9b0e07&edm=ALQROFkBAAAA&ccb=7-5&ig_cache_key=MzUwMTg3MTM5MTEzNTIzNDA5NQ%3D%3D.3-ccb7-5&oh=00_AYB1Sg_KmOnJVQGGn4JRkXehwHI3WJQ9YeBANyuIzOz62g&oe=673DBA52&_nc_sid=fc8dfb'),\n",
       " 'location': None,\n",
       " 'user': {'pk': '1994292927',\n",
       "  'username': 'indozone.id',\n",
       "  'full_name': 'INDOZONE - #KAMUHARUSTAU',\n",
       "  'profile_pic_url': Url('https://instagram.fupg6-1.fna.fbcdn.net/v/t51.2885-19/326005972_139552698946478_467721743645263209_n.jpg?stp=dst-jpg_e0_s150x150&_nc_ht=instagram.fupg6-1.fna.fbcdn.net&_nc_cat=1&_nc_ohc=bF6HILEplhgQ7kNvgGaDcPP&_nc_gid=96c24d99fcab4ba8a849f189eb9b0e07&edm=ALQROFkBAAAA&ccb=7-5&oh=00_AYCm6WswEJ6eWYShKsXVdV2dz7lxNaxPWkpT8FJRZdwyNQ&oe=673DB980&_nc_sid=fc8dfb'),\n",
       "  'profile_pic_url_hd': None,\n",
       "  'is_private': False},\n",
       " 'comment_count': 105,\n",
       " 'comments_disabled': False,\n",
       " 'commenting_disabled_for_viewer': False,\n",
       " 'like_count': 16651,\n",
       " 'play_count': 0,\n",
       " 'has_liked': True,\n",
       " 'caption_text': 'Aktor Hollywood sekaligus mantan pegulat profesional, Dwayne Johnson (52), akhirnya menanggapi isu \"perilaku tidak profesional\" yang sempat menimpa dirinya.\\u2060\\n\\u2060\\nMeski mengakui beberapa kejadian yang dilaporkan, Johnson memastikan bahwa cerita yang beredar telah dilebih-lebihkan.\\u2060\\n\\u2060\\nSebelumnya, Media The Wrap melaporkan bahwa Johnson melakukan sejumlah tindakan yang dianggap mengganggu saat syuting film Red One, menyebabkan kerugian produksi hingga USD 50 juta (sekitar Rp794 miliar).\\u2060\\n\\u2060\\nKabar tersebut menyebutkan bahwa Johnson kerap datang terlambat ke lokasi syuting dan ketika kamar mandi terlalu jauh, ia dikatakan menggunakan botol air sebagai pengganti dan meninggalkannya begitu saja.\\u2060\\n\\u2060\\nMenanggapi laporan ini, Johnson menyatakan bahwa sebagian besar tuduhan tersebut tidak benar. “Secara keseluruhan, itu tidak akurat,” ujarnya.\\u2060\\n\\u2060\\nPhoto: \\u2060IMDb\\u2060\\n\\u2060\\n[Baca berita selengkapnya dengan KLIK tautan di BIO]\\u2060',\n",
       " 'accessibility_caption': None,\n",
       " 'usertags': [],\n",
       " 'sponsor_tags': [],\n",
       " 'video_url': None,\n",
       " 'view_count': 0,\n",
       " 'video_duration': 0.0,\n",
       " 'title': '',\n",
       " 'resources': [],\n",
       " 'clips_metadata': {}}"
      ]
     },
     "execution_count": 24,
     "metadata": {},
     "output_type": "execute_result"
    }
   ],
   "source": [
    "post_info.model_dump()"
   ]
  },
  {
   "cell_type": "code",
   "execution_count": 21,
   "metadata": {},
   "outputs": [],
   "source": [
    "post_id = cl.media_id(post_pk)"
   ]
  },
  {
   "cell_type": "code",
   "execution_count": 22,
   "metadata": {},
   "outputs": [
    {
     "data": {
      "text/plain": [
       "True"
      ]
     },
     "execution_count": 22,
     "metadata": {},
     "output_type": "execute_result"
    }
   ],
   "source": [
    "cl.media_like(post_id)"
   ]
  },
  {
   "cell_type": "code",
   "execution_count": 25,
   "metadata": {},
   "outputs": [],
   "source": [
    "post_comments = cl.media_comments(post_id)"
   ]
  },
  {
   "cell_type": "code",
   "execution_count": 26,
   "metadata": {},
   "outputs": [
    {
     "name": "stdout",
     "output_type": "stream",
     "text": [
      "Emang problematik org ini,dateng telat sampe berjam2,kerja maunya cuman 4 jam kelar,bayaran pengen paling banyak,dll dll..akting gabisa gayanya selangit\n",
      "Emang the rock acting?\n",
      "@pn.protocetus PES banget 😂\n",
      "@razaq18___ stylenya 11 12 dgn dedy corbuzier ya 😂😂\n",
      "Baru semalam gue nonton, berasa ntn Harry Potter 😂 Dunia hayalan negri dongeng 😃\n",
      "Kayak pernah denger keluhan the rock datng telat deh. Pas syuting di film FF bukan ya? 🤔\n",
      "@aldy_maksum_ bener banget sih ini\n",
      "Botak,,,, botak.\n",
      "@ilhamcahyosyahputro emng gmna kata vin diesel bang?\n",
      "Dasar aktor pendukung zionis memang\n",
      "@fuadsegara more and more and more, they are running riots 🤣🤣🤣\n",
      "@rsyah_family kalo itu kaga, yg bikin rugi itu telatnya, kalo lu gk tau bikin film atau hal\" kek gini ada penjadwalannya, karena biaya untuk sewa properti, sewa tempat, sewa kru & karyawan itu sangat mahal, bahkan kalo semisal telat sehari bakal melenceng ke jadwal dan biaya bisa keluar beberapa kali lipat, pokoknya yg berhubungan dengan sewa menyewa kek gini emg pasti sangat mahal biayanya karena tentu aja properti,tempat, alat dll itu bukan milik sutradara atau kru filmnya, tapi mereka sewa dengan biaya yg sangat mahal\n",
      "@adityamustaqim yaaaa kalo selain mengenai u know  yaaaa i think percaya2 ajaaa hehehehehe\n",
      "Pernah baca suatu artikel, kru disana dibayar perjam, bahkan ada yg menyebutkan 1 kru aja perminggu penghasilan hampir 1 M jika di rupiahin. Kebayang kalau setiap syuting molor berjam jam, brpa M yg harus di keluarin untuk banyaknya kru film yg harus di bayar dgn cuma nunggu sang aktor\n",
      "salfok sana captain americanya\n",
      "Dr dulu kan gitu EMG Dwayne ini, pas di fast furious kan beritanya pun juga gitu\n",
      "masih percaya media barat ? Si paling propaganda\n",
      "@kemanajan masih percaya media barat ? Si paling propaganda 😂\n",
      "😂😂😂 gk heran si botak ini,terus merugikan filim ² nya😂\n",
      "Kok the rock ini bermasalah terus di movie ya\n"
     ]
    }
   ],
   "source": [
    "for comment in post_comments:\n",
    "    print(comment.text)"
   ]
  },
  {
   "cell_type": "code",
   "execution_count": 27,
   "metadata": {},
   "outputs": [
    {
     "data": {
      "text/plain": [
       "{'pk': '17887776687132402',\n",
       " 'text': 'Emang problematik org ini,dateng telat sampe berjam2,kerja maunya cuman 4 jam kelar,bayaran pengen paling banyak,dll dll..akting gabisa gayanya selangit',\n",
       " 'user': {'pk': '1499781010',\n",
       "  'username': 'ferusha_',\n",
       "  'full_name': 'Lina Putri Yanrini',\n",
       "  'profile_pic_url': Url('https://instagram.fupg6-1.fna.fbcdn.net/v/t51.2885-19/13687386_665571603593106_6726448_a.jpg?stp=dst-jpg_e0_s150x150&_nc_ht=instagram.fupg6-1.fna.fbcdn.net&_nc_cat=106&_nc_ohc=8lllOzVrVjMQ7kNvgGw7zzX&_nc_gid=9e27c3db5f7145a0bb4245d71263f1df&edm=AId3EpQBAAAA&ccb=7-5&oh=00_AYAEZsWh1Rw8Z2MqoqonXMzsI-oTtwx3G5o05sCluLEsEA&oe=673DAB34&_nc_sid=f5838a'),\n",
       "  'profile_pic_url_hd': None,\n",
       "  'is_private': True},\n",
       " 'created_at_utc': datetime.datetime(2024, 11, 16, 0, 43, tzinfo=TzInfo(UTC)),\n",
       " 'content_type': 'comment',\n",
       " 'status': 'Active',\n",
       " 'replied_to_comment_id': None,\n",
       " 'has_liked': False,\n",
       " 'like_count': 0}"
      ]
     },
     "execution_count": 27,
     "metadata": {},
     "output_type": "execute_result"
    }
   ],
   "source": [
    "post_comments[0].model_dump()"
   ]
  },
  {
   "cell_type": "code",
   "execution_count": 28,
   "metadata": {},
   "outputs": [],
   "source": [
    "post_comment_all = cl.media_comments(post_pk, amount=0)"
   ]
  },
  {
   "cell_type": "code",
   "execution_count": 29,
   "metadata": {},
   "outputs": [
    {
     "data": {
      "text/plain": [
       "102"
      ]
     },
     "execution_count": 29,
     "metadata": {},
     "output_type": "execute_result"
    }
   ],
   "source": [
    "len(post_comment_all)"
   ]
  }
 ],
 "metadata": {
  "kernelspec": {
   "display_name": "basangdata12",
   "language": "python",
   "name": "python3"
  },
  "language_info": {
   "codemirror_mode": {
    "name": "ipython",
    "version": 3
   },
   "file_extension": ".py",
   "mimetype": "text/x-python",
   "name": "python",
   "nbconvert_exporter": "python",
   "pygments_lexer": "ipython3",
   "version": "3.12.2"
  }
 },
 "nbformat": 4,
 "nbformat_minor": 4
}
