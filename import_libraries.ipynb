{
 "cells": [
  {
   "cell_type": "code",
   "execution_count": 1,
   "id": "559a3a56-0fb8-4cf4-aa26-d445f7164196",
   "metadata": {
    "execution": {
     "iopub.execute_input": "2024-10-14T21:58:38.607775Z",
     "iopub.status.busy": "2024-10-14T21:58:38.605776Z",
     "iopub.status.idle": "2024-10-14T21:58:38.643326Z",
     "shell.execute_reply": "2024-10-14T21:58:38.638676Z",
     "shell.execute_reply.started": "2024-10-14T21:58:38.607775Z"
    }
   },
   "outputs": [
    {
     "data": {
      "text/plain": [
       "3.3333333333333335"
      ]
     },
     "execution_count": 1,
     "metadata": {},
     "output_type": "execute_result"
    }
   ],
   "source": [
    "10/3"
   ]
  },
  {
   "cell_type": "code",
   "execution_count": 2,
   "id": "f8136373-3b22-4d90-b3a6-1f0858bcfe56",
   "metadata": {
    "execution": {
     "iopub.execute_input": "2024-10-14T21:59:32.954165Z",
     "iopub.status.busy": "2024-10-14T21:59:32.953157Z",
     "iopub.status.idle": "2024-10-14T21:59:34.781440Z",
     "shell.execute_reply": "2024-10-14T21:59:34.773769Z",
     "shell.execute_reply.started": "2024-10-14T21:59:32.954165Z"
    }
   },
   "outputs": [
    {
     "ename": "NameError",
     "evalue": "name 'math' is not defined",
     "output_type": "error",
     "traceback": [
      "\u001b[1;31m---------------------------------------------------------------------------\u001b[0m",
      "\u001b[1;31mNameError\u001b[0m                                 Traceback (most recent call last)",
      "Cell \u001b[1;32mIn[2], line 1\u001b[0m\n\u001b[1;32m----> 1\u001b[0m \u001b[43mmath\u001b[49m\u001b[38;5;241m.\u001b[39mceil(\u001b[38;5;241m10\u001b[39m\u001b[38;5;241m/\u001b[39m\u001b[38;5;241m3\u001b[39m)\n",
      "\u001b[1;31mNameError\u001b[0m: name 'math' is not defined"
     ]
    }
   ],
   "source": [
    "math.ceil(10/3)"
   ]
  },
  {
   "cell_type": "code",
   "execution_count": 3,
   "id": "2b6daf4f-37c2-4142-85f6-9dbfaa140d29",
   "metadata": {
    "execution": {
     "iopub.execute_input": "2024-10-14T21:59:55.473635Z",
     "iopub.status.busy": "2024-10-14T21:59:55.471659Z",
     "iopub.status.idle": "2024-10-14T21:59:55.486465Z",
     "shell.execute_reply": "2024-10-14T21:59:55.484448Z",
     "shell.execute_reply.started": "2024-10-14T21:59:55.473635Z"
    }
   },
   "outputs": [],
   "source": [
    "import math"
   ]
  },
  {
   "cell_type": "code",
   "execution_count": 4,
   "id": "23717a7c-eed5-4ff4-b788-1bb4885e893e",
   "metadata": {
    "execution": {
     "iopub.execute_input": "2024-10-14T22:00:04.446332Z",
     "iopub.status.busy": "2024-10-14T22:00:04.444822Z",
     "iopub.status.idle": "2024-10-14T22:00:04.469367Z",
     "shell.execute_reply": "2024-10-14T22:00:04.463197Z",
     "shell.execute_reply.started": "2024-10-14T22:00:04.446332Z"
    }
   },
   "outputs": [
    {
     "data": {
      "text/plain": [
       "4"
      ]
     },
     "execution_count": 4,
     "metadata": {},
     "output_type": "execute_result"
    }
   ],
   "source": [
    "math.ceil(10/3)"
   ]
  },
  {
   "cell_type": "code",
   "execution_count": 5,
   "id": "207bf141-0f90-4053-934e-111254926055",
   "metadata": {
    "execution": {
     "iopub.execute_input": "2024-10-14T22:01:35.097292Z",
     "iopub.status.busy": "2024-10-14T22:01:35.095305Z",
     "iopub.status.idle": "2024-10-14T22:01:39.378588Z",
     "shell.execute_reply": "2024-10-14T22:01:39.375590Z",
     "shell.execute_reply.started": "2024-10-14T22:01:35.097292Z"
    }
   },
   "outputs": [],
   "source": [
    "import pandas as pd"
   ]
  },
  {
   "cell_type": "code",
   "execution_count": 6,
   "id": "1524d4aa-bcaa-4f2b-8f4b-f69d28e82437",
   "metadata": {
    "execution": {
     "iopub.execute_input": "2024-10-14T22:01:52.481946Z",
     "iopub.status.busy": "2024-10-14T22:01:52.476955Z",
     "iopub.status.idle": "2024-10-14T22:01:52.519246Z",
     "shell.execute_reply": "2024-10-14T22:01:52.514385Z",
     "shell.execute_reply.started": "2024-10-14T22:01:52.481946Z"
    }
   },
   "outputs": [],
   "source": [
    "data_for_df = [\n",
    "    {'id': 1, 'name': 'Jhon Doe'},\n",
    "    {'id': 2, 'name': 'Jane Doe'},\n",
    "    {'id': 3, 'name': 'Kobe Bryant'},\n",
    "    {'id': 4, 'name': 'Mel Gibson'},\n",
    "    {'id': 5, 'name': 'Toby McGuire'},\n",
    "]\n",
    "\n",
    "df = pd.DataFrame(data_for_df)"
   ]
  },
  {
   "cell_type": "code",
   "execution_count": 7,
   "id": "e20c16de-0242-42fa-b998-175c33e7524f",
   "metadata": {
    "execution": {
     "iopub.execute_input": "2024-10-14T22:01:56.311463Z",
     "iopub.status.busy": "2024-10-14T22:01:56.308468Z",
     "iopub.status.idle": "2024-10-14T22:01:56.390753Z",
     "shell.execute_reply": "2024-10-14T22:01:56.386748Z",
     "shell.execute_reply.started": "2024-10-14T22:01:56.310464Z"
    }
   },
   "outputs": [
    {
     "data": {
      "text/html": [
       "<div>\n",
       "<style scoped>\n",
       "    .dataframe tbody tr th:only-of-type {\n",
       "        vertical-align: middle;\n",
       "    }\n",
       "\n",
       "    .dataframe tbody tr th {\n",
       "        vertical-align: top;\n",
       "    }\n",
       "\n",
       "    .dataframe thead th {\n",
       "        text-align: right;\n",
       "    }\n",
       "</style>\n",
       "<table border=\"1\" class=\"dataframe\">\n",
       "  <thead>\n",
       "    <tr style=\"text-align: right;\">\n",
       "      <th></th>\n",
       "      <th>id</th>\n",
       "      <th>name</th>\n",
       "    </tr>\n",
       "  </thead>\n",
       "  <tbody>\n",
       "    <tr>\n",
       "      <th>0</th>\n",
       "      <td>1</td>\n",
       "      <td>Jhon Doe</td>\n",
       "    </tr>\n",
       "    <tr>\n",
       "      <th>1</th>\n",
       "      <td>2</td>\n",
       "      <td>Jane Doe</td>\n",
       "    </tr>\n",
       "    <tr>\n",
       "      <th>2</th>\n",
       "      <td>3</td>\n",
       "      <td>Kobe Bryant</td>\n",
       "    </tr>\n",
       "    <tr>\n",
       "      <th>3</th>\n",
       "      <td>4</td>\n",
       "      <td>Mel Gibson</td>\n",
       "    </tr>\n",
       "    <tr>\n",
       "      <th>4</th>\n",
       "      <td>5</td>\n",
       "      <td>Toby McGuire</td>\n",
       "    </tr>\n",
       "  </tbody>\n",
       "</table>\n",
       "</div>"
      ],
      "text/plain": [
       "   id          name\n",
       "0   1      Jhon Doe\n",
       "1   2      Jane Doe\n",
       "2   3   Kobe Bryant\n",
       "3   4    Mel Gibson\n",
       "4   5  Toby McGuire"
      ]
     },
     "execution_count": 7,
     "metadata": {},
     "output_type": "execute_result"
    }
   ],
   "source": [
    "df"
   ]
  },
  {
   "cell_type": "code",
   "execution_count": null,
   "id": "7eeb83c8-30fb-4a39-955d-d4c5671d119d",
   "metadata": {},
   "outputs": [],
   "source": []
  },
  {
   "cell_type": "code",
   "execution_count": null,
   "id": "ae42e657-b6a7-4d76-ac8d-08ae886b3a77",
   "metadata": {},
   "outputs": [],
   "source": []
  },
  {
   "cell_type": "code",
   "execution_count": null,
   "id": "2e962b04-b1b2-40b3-ac7a-d1b8eaee031d",
   "metadata": {},
   "outputs": [],
   "source": []
  }
 ],
 "metadata": {
  "kernelspec": {
   "display_name": "Python 3 (ipykernel)",
   "language": "python",
   "name": "python3"
  },
  "language_info": {
   "codemirror_mode": {
    "name": "ipython",
    "version": 3
   },
   "file_extension": ".py",
   "mimetype": "text/x-python",
   "name": "python",
   "nbconvert_exporter": "python",
   "pygments_lexer": "ipython3",
   "version": "3.12.2"
  }
 },
 "nbformat": 4,
 "nbformat_minor": 5
}
