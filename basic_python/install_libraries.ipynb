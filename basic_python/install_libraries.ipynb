{
 "cells": [
  {
   "cell_type": "code",
   "execution_count": 1,
   "id": "f37e3a0b-1f81-4a99-95c9-89f00a230b29",
   "metadata": {
    "execution": {
     "iopub.execute_input": "2024-10-15T01:55:40.562114Z",
     "iopub.status.busy": "2024-10-15T01:55:40.559130Z",
     "iopub.status.idle": "2024-10-15T01:55:42.248316Z",
     "shell.execute_reply": "2024-10-15T01:55:42.245302Z",
     "shell.execute_reply.started": "2024-10-15T01:55:40.562114Z"
    }
   },
   "outputs": [
    {
     "ename": "ModuleNotFoundError",
     "evalue": "No module named 'pandas'",
     "output_type": "error",
     "traceback": [
      "\u001b[1;31m---------------------------------------------------------------------------\u001b[0m",
      "\u001b[1;31mModuleNotFoundError\u001b[0m                       Traceback (most recent call last)",
      "Cell \u001b[1;32mIn[1], line 1\u001b[0m\n\u001b[1;32m----> 1\u001b[0m \u001b[38;5;28;01mimport\u001b[39;00m \u001b[38;5;21;01mpandas\u001b[39;00m \u001b[38;5;28;01mas\u001b[39;00m \u001b[38;5;21;01mpd\u001b[39;00m\n",
      "\u001b[1;31mModuleNotFoundError\u001b[0m: No module named 'pandas'"
     ]
    }
   ],
   "source": [
    "import pandas as pd"
   ]
  },
  {
   "cell_type": "code",
   "execution_count": 2,
   "id": "d2e389e5-eb1c-4e10-9597-c7c8397f901d",
   "metadata": {
    "execution": {
     "iopub.execute_input": "2024-10-15T01:56:18.959745Z",
     "iopub.status.busy": "2024-10-15T01:56:18.956720Z",
     "iopub.status.idle": "2024-10-15T01:58:30.374609Z",
     "shell.execute_reply": "2024-10-15T01:58:30.372609Z",
     "shell.execute_reply.started": "2024-10-15T01:56:18.958706Z"
    }
   },
   "outputs": [
    {
     "name": "stdout",
     "output_type": "stream",
     "text": [
      "Collecting pandas\n",
      "  Downloading pandas-2.2.3-cp311-cp311-win_amd64.whl.metadata (19 kB)\n",
      "Collecting numpy>=1.23.2 (from pandas)\n",
      "  Downloading numpy-2.1.2-cp311-cp311-win_amd64.whl.metadata (59 kB)\n",
      "Requirement already satisfied: python-dateutil>=2.8.2 in d:\\onedriveaansubarkahoutlook\\onedrive\\sekolahsabtuauditor\\ssa\\basicpython\\env\\lib\\site-packages (from pandas) (2.9.0.post0)\n",
      "Collecting pytz>=2020.1 (from pandas)\n",
      "  Downloading pytz-2024.2-py2.py3-none-any.whl.metadata (22 kB)\n",
      "Collecting tzdata>=2022.7 (from pandas)\n",
      "  Downloading tzdata-2024.2-py2.py3-none-any.whl.metadata (1.4 kB)\n",
      "Requirement already satisfied: six>=1.5 in d:\\onedriveaansubarkahoutlook\\onedrive\\sekolahsabtuauditor\\ssa\\basicpython\\env\\lib\\site-packages (from python-dateutil>=2.8.2->pandas) (1.16.0)\n",
      "Downloading pandas-2.2.3-cp311-cp311-win_amd64.whl (11.6 MB)\n",
      "   ---------------------------------------- 0.0/11.6 MB ? eta -:--:--\n",
      "    --------------------------------------- 0.3/11.6 MB ? eta -:--:--\n",
      "   -- ------------------------------------- 0.8/11.6 MB 3.1 MB/s eta 0:00:04\n",
      "   ---- ----------------------------------- 1.3/11.6 MB 2.3 MB/s eta 0:00:05\n",
      "   ------ --------------------------------- 1.8/11.6 MB 2.7 MB/s eta 0:00:04\n",
      "   --------- ------------------------------ 2.9/11.6 MB 2.9 MB/s eta 0:00:04\n",
      "   ------------ --------------------------- 3.7/11.6 MB 3.0 MB/s eta 0:00:03\n",
      "   -------------- ------------------------- 4.2/11.6 MB 3.0 MB/s eta 0:00:03\n",
      "   ----------------- ---------------------- 5.0/11.6 MB 3.1 MB/s eta 0:00:03\n",
      "   ------------------- -------------------- 5.8/11.6 MB 3.1 MB/s eta 0:00:02\n",
      "   ---------------------- ----------------- 6.6/11.6 MB 3.1 MB/s eta 0:00:02\n",
      "   ------------------------- -------------- 7.3/11.6 MB 3.2 MB/s eta 0:00:02\n",
      "   ---------------------------- ----------- 8.4/11.6 MB 3.3 MB/s eta 0:00:01\n",
      "   ------------------------------ --------- 8.9/11.6 MB 3.3 MB/s eta 0:00:01\n",
      "   --------------------------------- ------ 9.7/11.6 MB 3.3 MB/s eta 0:00:01\n",
      "   ------------------------------------ --- 10.5/11.6 MB 3.4 MB/s eta 0:00:01\n",
      "   -------------------------------------- - 11.3/11.6 MB 3.4 MB/s eta 0:00:01\n",
      "   ---------------------------------------- 11.6/11.6 MB 3.3 MB/s eta 0:00:00\n",
      "Downloading numpy-2.1.2-cp311-cp311-win_amd64.whl (12.9 MB)\n",
      "   ---------------------------------------- 0.0/12.9 MB ? eta -:--:--\n",
      "   - -------------------------------------- 0.5/12.9 MB 4.2 MB/s eta 0:00:03\n",
      "   ---- ----------------------------------- 1.3/12.9 MB 3.4 MB/s eta 0:00:04\n",
      "   ------ --------------------------------- 2.1/12.9 MB 3.2 MB/s eta 0:00:04\n",
      "   -------- ------------------------------- 2.6/12.9 MB 3.1 MB/s eta 0:00:04\n",
      "   ---------- ----------------------------- 3.4/12.9 MB 3.3 MB/s eta 0:00:03\n",
      "   ------------- -------------------------- 4.2/12.9 MB 3.4 MB/s eta 0:00:03\n",
      "   --------------- ------------------------ 5.0/12.9 MB 3.4 MB/s eta 0:00:03\n",
      "   ----------------- ---------------------- 5.8/12.9 MB 3.3 MB/s eta 0:00:03\n",
      "   -------------------- ------------------- 6.6/12.9 MB 3.4 MB/s eta 0:00:02\n",
      "   --------------------- ------------------ 7.1/12.9 MB 3.4 MB/s eta 0:00:02\n",
      "   ----------------------- ---------------- 7.6/12.9 MB 3.3 MB/s eta 0:00:02\n",
      "   ----------------------- ---------------- 7.6/12.9 MB 3.3 MB/s eta 0:00:02\n",
      "   ------------------------ --------------- 7.9/12.9 MB 3.0 MB/s eta 0:00:02\n",
      "   -------------------------- ------------- 8.7/12.9 MB 2.9 MB/s eta 0:00:02\n",
      "   ----------------------------- ---------- 9.4/12.9 MB 2.9 MB/s eta 0:00:02\n",
      "   ------------------------------- -------- 10.2/12.9 MB 3.0 MB/s eta 0:00:01\n",
      "   ---------------------------------- ----- 11.0/12.9 MB 3.0 MB/s eta 0:00:01\n",
      "   ------------------------------------ --- 11.8/12.9 MB 3.0 MB/s eta 0:00:01\n",
      "   ---------------------------------------  12.6/12.9 MB 3.1 MB/s eta 0:00:01\n",
      "   ---------------------------------------- 12.9/12.9 MB 3.0 MB/s eta 0:00:00\n",
      "Downloading pytz-2024.2-py2.py3-none-any.whl (508 kB)\n",
      "Downloading tzdata-2024.2-py2.py3-none-any.whl (346 kB)\n",
      "Installing collected packages: pytz, tzdata, numpy, pandas\n",
      "Successfully installed numpy-2.1.2 pandas-2.2.3 pytz-2024.2 tzdata-2024.2\n"
     ]
    }
   ],
   "source": [
    "!pip install pandas"
   ]
  },
  {
   "cell_type": "code",
   "execution_count": 3,
   "id": "18b48e47-505c-4b19-bd8b-9f80313824f4",
   "metadata": {
    "execution": {
     "iopub.execute_input": "2024-10-15T01:58:46.363689Z",
     "iopub.status.busy": "2024-10-15T01:58:46.359688Z",
     "iopub.status.idle": "2024-10-15T01:58:54.686767Z",
     "shell.execute_reply": "2024-10-15T01:58:54.681755Z",
     "shell.execute_reply.started": "2024-10-15T01:58:46.363689Z"
    }
   },
   "outputs": [],
   "source": [
    "import pandas as pd"
   ]
  },
  {
   "cell_type": "code",
   "execution_count": 5,
   "id": "73128476-f80d-42f5-b12b-88c12b8fa4c3",
   "metadata": {
    "execution": {
     "iopub.execute_input": "2024-10-15T02:00:26.818697Z",
     "iopub.status.busy": "2024-10-15T02:00:26.815077Z",
     "iopub.status.idle": "2024-10-15T02:00:26.849462Z",
     "shell.execute_reply": "2024-10-15T02:00:26.843712Z",
     "shell.execute_reply.started": "2024-10-15T02:00:26.818697Z"
    }
   },
   "outputs": [],
   "source": [
    "import selenium"
   ]
  },
  {
   "cell_type": "code",
   "execution_count": null,
   "id": "551886f4-3e86-494a-8082-eeeb1f09e825",
   "metadata": {},
   "outputs": [],
   "source": []
  },
  {
   "cell_type": "code",
   "execution_count": null,
   "id": "aa608201-359c-4231-9ad0-7efe0887b41b",
   "metadata": {},
   "outputs": [],
   "source": []
  },
  {
   "cell_type": "code",
   "execution_count": null,
   "id": "17307a50-cd63-498c-8ac9-57212a4274e0",
   "metadata": {},
   "outputs": [],
   "source": []
  },
  {
   "cell_type": "code",
   "execution_count": null,
   "id": "2892d844-6fce-48c2-a883-3fb558f80f8e",
   "metadata": {},
   "outputs": [],
   "source": []
  }
 ],
 "metadata": {
  "kernelspec": {
   "display_name": "Python 3 (ipykernel)",
   "language": "python",
   "name": "python3"
  },
  "language_info": {
   "codemirror_mode": {
    "name": "ipython",
    "version": 3
   },
   "file_extension": ".py",
   "mimetype": "text/x-python",
   "name": "python",
   "nbconvert_exporter": "python",
   "pygments_lexer": "ipython3",
   "version": "3.11.0"
  }
 },
 "nbformat": 4,
 "nbformat_minor": 5
}
