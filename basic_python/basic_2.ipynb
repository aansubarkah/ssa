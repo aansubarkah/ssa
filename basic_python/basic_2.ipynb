{
 "cells": [
  {
   "cell_type": "markdown",
   "metadata": {},
   "source": [
    "# Basic Python II"
   ]
  },
  {
   "cell_type": "markdown",
   "metadata": {},
   "source": [
    "<img src=\"flyer_basic2.jpg\" width=\"1024\" style=\"display:block;margin:auto;\">"
   ]
  },
  {
   "cell_type": "markdown",
   "metadata": {},
   "source": [
    "## Demo Program"
   ]
  },
  {
   "cell_type": "code",
   "execution_count": 1,
   "metadata": {
    "execution": {
     "iopub.execute_input": "2025-01-11T03:10:05.924466Z",
     "iopub.status.busy": "2025-01-11T03:10:05.921927Z",
     "iopub.status.idle": "2025-01-11T03:10:09.274938Z",
     "shell.execute_reply": "2025-01-11T03:10:09.272386Z",
     "shell.execute_reply.started": "2025-01-11T03:10:05.924466Z"
    }
   },
   "outputs": [],
   "source": [
    "#import tabula\n",
    "#import pandas as pd"
   ]
  },
  {
   "cell_type": "code",
   "execution_count": 2,
   "metadata": {
    "execution": {
     "iopub.execute_input": "2025-01-11T03:10:46.344704Z",
     "iopub.status.busy": "2025-01-11T03:10:46.343176Z",
     "iopub.status.idle": "2025-01-11T03:11:17.389122Z",
     "shell.execute_reply": "2025-01-11T03:11:17.386079Z",
     "shell.execute_reply.started": "2025-01-11T03:10:46.344704Z"
    }
   },
   "outputs": [
    {
     "name": "stderr",
     "output_type": "stream",
     "text": [
      "C:\\Users\\aansubarkah\\anaconda3\\envs\\basangdata12\\Lib\\site-packages\\tabula\\io.py:1045: FutureWarning: errors='ignore' is deprecated and will raise in a future version. Use to_numeric without passing `errors` and catch exceptions explicitly instead\n",
      "  df[c] = pd.to_numeric(df[c], errors=\"ignore\")\n"
     ]
    }
   ],
   "source": [
    "#pdf_tabel = tabula.read_pdf(\"Store.pdf\", pages=\"all\")"
   ]
  },
  {
   "cell_type": "code",
   "execution_count": 7,
   "metadata": {
    "execution": {
     "iopub.execute_input": "2025-01-11T03:17:19.074212Z",
     "iopub.status.busy": "2025-01-11T03:17:19.071688Z",
     "iopub.status.idle": "2025-01-11T03:17:19.106914Z",
     "shell.execute_reply": "2025-01-11T03:17:19.104298Z",
     "shell.execute_reply.started": "2025-01-11T03:17:19.074212Z"
    },
    "scrolled": true
   },
   "outputs": [
    {
     "data": {
      "text/html": [
       "<div>\n",
       "<style scoped>\n",
       "    .dataframe tbody tr th:only-of-type {\n",
       "        vertical-align: middle;\n",
       "    }\n",
       "\n",
       "    .dataframe tbody tr th {\n",
       "        vertical-align: top;\n",
       "    }\n",
       "\n",
       "    .dataframe thead th {\n",
       "        text-align: right;\n",
       "    }\n",
       "</style>\n",
       "<table border=\"1\" class=\"dataframe\">\n",
       "  <thead>\n",
       "    <tr style=\"text-align: right;\">\n",
       "      <th></th>\n",
       "      <th>BusinessEntityID</th>\n",
       "      <th>Name</th>\n",
       "      <th>SalesPersonID</th>\n",
       "      <th>Demographics</th>\n",
       "      <th>rowguid</th>\n",
       "      <th>ModifiedDate</th>\n",
       "    </tr>\n",
       "  </thead>\n",
       "  <tbody>\n",
       "    <tr>\n",
       "      <th>0</th>\n",
       "      <td>292</td>\n",
       "      <td>Next-Door Bike Store</td>\n",
       "      <td>279</td>\n",
       "      <td>&lt;StoreSurvey xmlns=\"http://schemas.microsoft.c...</td>\n",
       "      <td>A\"&gt;2&lt;2A5n17nEu3a-lS8a4l8eDs&gt;-48E0B0E0-0B09&lt;D/A...</td>\n",
       "      <td>ve1n2u/0e9&gt;/820001040 &lt;1/1A:1n5n</td>\n",
       "    </tr>\n",
       "    <tr>\n",
       "      <th>1</th>\n",
       "      <td>294</td>\n",
       "      <td>Professional Sales and Service</td>\n",
       "      <td>276</td>\n",
       "      <td>&lt;StoreSurvey xmlns=\"http://schemas.microsoft.c...</td>\n",
       "      <td>B\"&gt;5&lt;0ACAnn5u0Bal-SCa6le0s1&gt;-48A001030-B00&lt;7/A...</td>\n",
       "      <td>ve1n2u/0e9&gt;/820001040 &lt;1/1A:1n5n</td>\n",
       "    </tr>\n",
       "    <tr>\n",
       "      <th>2</th>\n",
       "      <td>296</td>\n",
       "      <td>Riders Company</td>\n",
       "      <td>277</td>\n",
       "      <td>&lt;StoreSurvey xmlns=\"http://schemas.microsoft.c...</td>\n",
       "      <td>3\"3&gt;7&lt;CA3n6n8u8a-lS1a3l3e9s-&gt;48E010A0-0A00&lt;8/A...</td>\n",
       "      <td>ve1n2u/0e9&gt;/820001040 &lt;1/1A:1n5n</td>\n",
       "    </tr>\n",
       "    <tr>\n",
       "      <th>3</th>\n",
       "      <td>298</td>\n",
       "      <td>The Bike Mechanics</td>\n",
       "      <td>275</td>\n",
       "      <td>&lt;StoreSurvey xmlns=\"http://schemas.microsoft.c...</td>\n",
       "      <td>7\"8&gt;9&lt;4AFn2n7u8a-lFS0aCle8s-&gt;48D01060-0B0D&lt;7/5...</td>\n",
       "      <td>ve1n2u/0e9&gt;/820001040 &lt;1/1A:1n5n</td>\n",
       "    </tr>\n",
       "    <tr>\n",
       "      <th>4</th>\n",
       "      <td>300</td>\n",
       "      <td>Nationwide Supply</td>\n",
       "      <td>286</td>\n",
       "      <td>&lt;StoreSurvey xmlns=\"http://schemas.microsoft.c...</td>\n",
       "      <td>C\"3&gt;F&lt;CA9n7n0u5a-lASa8lCe4s&gt;-48F030A0-0905&lt;5/0...</td>\n",
       "      <td>ve1n2u/0e9&gt;/820001040 &lt;1/1A:1n5n</td>\n",
       "    </tr>\n",
       "    <tr>\n",
       "      <th>5</th>\n",
       "      <td>302</td>\n",
       "      <td>Area Bike Accessories</td>\n",
       "      <td>281</td>\n",
       "      <td>&lt;StoreSurvey xmlns=\"http://schemas.microsoft.c...</td>\n",
       "      <td>3\"6&gt;8&lt;BAEn6nDuDal-S3a0leEs5&gt;-34090B0B0-90A&lt;8/A...</td>\n",
       "      <td>ve1n2u/0e9&gt;/320001040 &lt;1/1A:1n5n</td>\n",
       "    </tr>\n",
       "    <tr>\n",
       "      <th>6</th>\n",
       "      <td>304</td>\n",
       "      <td>Bicycle Accessories and Kits</td>\n",
       "      <td>283</td>\n",
       "      <td>&lt;StoreSurvey xmlns=\"http://schemas.microsoft.c...</td>\n",
       "      <td>3\"5&gt;F&lt;4A0n6n3u6a-l5S1al0e5s-&gt;4390D050-0806&lt;9/E...</td>\n",
       "      <td>ve1n2u/0e9&gt;/320001040 &lt;1/1A:1n5n</td>\n",
       "    </tr>\n",
       "    <tr>\n",
       "      <th>7</th>\n",
       "      <td>306</td>\n",
       "      <td>Clamps &amp; Brackets Co.</td>\n",
       "      <td>275</td>\n",
       "      <td>&lt;StoreSurvey xmlns=\"http://schemas.microsoft.c...</td>\n",
       "      <td>6\"4&gt;D&lt;A0n6nBuFCal-SDa0le6s0&gt;-480050C0-80C&lt;6/0A...</td>\n",
       "      <td>ve1n2u/0e9&gt;/820001040 &lt;1/1A:1n5n</td>\n",
       "    </tr>\n",
       "    <tr>\n",
       "      <th>8</th>\n",
       "      <td>308</td>\n",
       "      <td>Valley Bicycle Specialists</td>\n",
       "      <td>277</td>\n",
       "      <td>&lt;StoreSurvey xmlns=\"http://schemas.microsoft.c...</td>\n",
       "      <td>5\"9&gt;3&lt;8A6nBn0uCa-lS6a5l2eEs&gt;-43606080-0B0404&lt;B...</td>\n",
       "      <td>e1ve2n/0u9e/&gt;23001040 0101&lt;:1/5A</td>\n",
       "    </tr>\n",
       "    <tr>\n",
       "      <th>9</th>\n",
       "      <td>310</td>\n",
       "      <td>New Bikes Company</td>\n",
       "      <td>279</td>\n",
       "      <td>&lt;StoreSurvey xmlns=\"http://schemas.microsoft.c...</td>\n",
       "      <td>4\"7&gt;E&lt;4ABn6nBuDal-S5aCleDs1&gt;-1450A030-A002&lt;3/1...</td>\n",
       "      <td>e1ve2n/0u9e/&gt;21051040 0101&lt;:1/5A</td>\n",
       "    </tr>\n",
       "    <tr>\n",
       "      <th>10</th>\n",
       "      <td>312</td>\n",
       "      <td>Vinyl and Plastic Goods Corporation</td>\n",
       "      <td>282</td>\n",
       "      <td>&lt;StoreSurvey xmlns=\"http://schemas.microsoft.c...</td>\n",
       "      <td>D\"&gt;C&lt;6A1n0n5u25al-SEa3l7e3s&gt;-4195B010-0B0708&lt;6...</td>\n",
       "      <td>e1ve2n/0u9e/&gt;21051040 0101&lt;:1/5A</td>\n",
       "    </tr>\n",
       "    <tr>\n",
       "      <th>11</th>\n",
       "      <td>314</td>\n",
       "      <td>Top of the Line Bikes</td>\n",
       "      <td>288</td>\n",
       "      <td>&lt;StoreSurvey xmlns=\"http://schemas.microsoft.c...</td>\n",
       "      <td>E\"2&gt;9&lt;0AEn9n3uFa-lASa9l8e0s-&gt;41B5A030-08060C&lt;3...</td>\n",
       "      <td>e1ve2n/0u9e/&gt;21051040 0101&lt;:1/5A</td>\n",
       "    </tr>\n",
       "    <tr>\n",
       "      <th>12</th>\n",
       "      <td>316</td>\n",
       "      <td>Fun Toys and Bikes</td>\n",
       "      <td>281</td>\n",
       "      <td>&lt;StoreSurvey xmlns=\"http://schemas.microsoft.c...</td>\n",
       "      <td>6\"C&gt;&lt;DACnFn94u1al-S4a1l9e2s&gt;-4390C070-0909&lt;4/A...</td>\n",
       "      <td>ve1n2u/0e9&gt;/320001040 &lt;1/1A:1n5n</td>\n",
       "    </tr>\n",
       "    <tr>\n",
       "      <th>13</th>\n",
       "      <td>318</td>\n",
       "      <td>Great Bikes</td>\n",
       "      <td>283</td>\n",
       "      <td>&lt;StoreSurvey xmlns=\"http://schemas.microsoft.c...</td>\n",
       "      <td>9\"5&gt;6&lt;FABnCn3u5a-l5SaEl0eDs&gt;-43107050-0800&lt;4/5...</td>\n",
       "      <td>ve1n2u/0e9&gt;/320001040 &lt;1/1A:1n5n</td>\n",
       "    </tr>\n",
       "    <tr>\n",
       "      <th>14</th>\n",
       "      <td>320</td>\n",
       "      <td>Metropolitan Sales and Rental</td>\n",
       "      <td>275</td>\n",
       "      <td>&lt;StoreSurvey xmlns=\"http://schemas.microsoft.c...</td>\n",
       "      <td>0\"C&gt;&lt;BA4FnEnFu2a-l5S0al4e7s-&gt;4300F070-80804&lt;8/...</td>\n",
       "      <td>ve1n2u/0e9&gt;/320001040 &lt;1/1A:1n5n</td>\n",
       "    </tr>\n",
       "    <tr>\n",
       "      <th>15</th>\n",
       "      <td>322</td>\n",
       "      <td>Irregulars Outlet</td>\n",
       "      <td>288</td>\n",
       "      <td>&lt;StoreSurvey xmlns=\"http://schemas.microsoft.c...</td>\n",
       "      <td>C\"D&gt;&lt;EA6n6n27u9al-S8a3lDes8&gt;-4303040-0A08&lt;3/AC...</td>\n",
       "      <td>ve1n2u/0e9&gt;/320001040 &lt;1/1A:1n5n</td>\n",
       "    </tr>\n",
       "    <tr>\n",
       "      <th>16</th>\n",
       "      <td>324</td>\n",
       "      <td>Valley Toy Store</td>\n",
       "      <td>282</td>\n",
       "      <td>&lt;StoreSurvey xmlns=\"http://schemas.microsoft.c...</td>\n",
       "      <td>6\"A&gt;&lt;1ABnEAnu5a6l-SDaCleBs7&gt;-34050C0F0-80C&lt;9/A...</td>\n",
       "      <td>ve1n2u/0e9&gt;/320001040 &lt;1/1A:1n5n</td>\n",
       "    </tr>\n",
       "    <tr>\n",
       "      <th>17</th>\n",
       "      <td>326</td>\n",
       "      <td>Worthwhile Activity Store</td>\n",
       "      <td>279</td>\n",
       "      <td>&lt;StoreSurvey xmlns=\"http://schemas.microsoft.c...</td>\n",
       "      <td>B\"&gt;A&lt;DA6n3n7u1a7l-S9a9leBsD&gt;-340508010-801&lt;6/A...</td>\n",
       "      <td>ve1n2u/0e9&gt;/320001040 &lt;1/1A:1n5n</td>\n",
       "    </tr>\n",
       "    <tr>\n",
       "      <th>18</th>\n",
       "      <td>328</td>\n",
       "      <td>Purchase Mart</td>\n",
       "      <td>275</td>\n",
       "      <td>&lt;StoreSurvey xmlns=\"http://schemas.microsoft.c...</td>\n",
       "      <td>A\"&gt;3&lt;1A4n03n4u9a-lS5a7lAe3s&gt;-4165A00A0-B0F03&lt;2...</td>\n",
       "      <td>e1ve2n/0u9e/&gt;21051040 0101&lt;:1/5A</td>\n",
       "    </tr>\n",
       "    <tr>\n",
       "      <th>19</th>\n",
       "      <td>330</td>\n",
       "      <td>Major Sport Suppliers</td>\n",
       "      <td>283</td>\n",
       "      <td>&lt;StoreSurvey xmlns=\"http://schemas.microsoft.c...</td>\n",
       "      <td>3\"B&gt;&lt;5AF8n5n7u2a-l4Sa3lBe0s-&gt;4320F050-08060F&lt;F...</td>\n",
       "      <td>e1ve2n/0u9e/&gt;23001040 0101&lt;:1/5A</td>\n",
       "    </tr>\n",
       "    <tr>\n",
       "      <th>20</th>\n",
       "      <td>332</td>\n",
       "      <td>Family's Favorite Bike Shop</td>\n",
       "      <td>278</td>\n",
       "      <td>&lt;StoreSurvey xmlns=\"http://schemas.microsoft.c...</td>\n",
       "      <td>7\"1&gt;2&lt;DAnF7nBu6a-lSAa6leEs4&gt;-4805090-0A01&lt;B/8A...</td>\n",
       "      <td>ve1n2u/0e9&gt;/820001040 &lt;1/1A:1n5n</td>\n",
       "    </tr>\n",
       "    <tr>\n",
       "      <th>21</th>\n",
       "      <td>334</td>\n",
       "      <td>Global Plaza</td>\n",
       "      <td>279</td>\n",
       "      <td>&lt;StoreSurvey xmlns=\"http://schemas.microsoft.c...</td>\n",
       "      <td>9\"A&gt;&lt;1AE9n1nDua8l-S5a0l9esB&gt;-48D009060-B0D&lt;/7A...</td>\n",
       "      <td>ve1n2u/0e9&gt;/820001040 &lt;1/1A:1n5n</td>\n",
       "    </tr>\n",
       "    <tr>\n",
       "      <th>22</th>\n",
       "      <td>336</td>\n",
       "      <td>Imported and Domestic Cycles</td>\n",
       "      <td>276</td>\n",
       "      <td>&lt;StoreSurvey xmlns=\"http://schemas.microsoft.c...</td>\n",
       "      <td>2\"5&gt;C&lt;A22n9nCu0a-lS4aEl7eAs&gt;-4120D002-0A0C0B&lt;1...</td>\n",
       "      <td>e1ve2n/0u9e/&gt;21001040 0101&lt;:1/5A</td>\n",
       "    </tr>\n",
       "    <tr>\n",
       "      <th>23</th>\n",
       "      <td>338</td>\n",
       "      <td>Systematic Sales</td>\n",
       "      <td>281</td>\n",
       "      <td>&lt;StoreSurvey xmlns=\"http://schemas.microsoft.c...</td>\n",
       "      <td>D\"&gt;F&lt;9A12n6nAua5l-S9aCl9es5&gt;-4340A0020-A0301&lt;F...</td>\n",
       "      <td>e1ve2n/0u9e/&gt;23001040 0101&lt;:1/5A</td>\n",
       "    </tr>\n",
       "    <tr>\n",
       "      <th>24</th>\n",
       "      <td>340</td>\n",
       "      <td>eCommerce Bikes</td>\n",
       "      <td>279</td>\n",
       "      <td>&lt;StoreSurvey xmlns=\"http://schemas.microsoft.c...</td>\n",
       "      <td>1\"E&gt;C&lt;A47n8n2u3a-l4SaBl3e9s-&gt;43600090-0A0A0E&lt;C...</td>\n",
       "      <td>e1ve2n/0u9e/&gt;23001040 0101&lt;:1/5A</td>\n",
       "    </tr>\n",
       "    <tr>\n",
       "      <th>25</th>\n",
       "      <td>342</td>\n",
       "      <td>Mountain Toy Store</td>\n",
       "      <td>277</td>\n",
       "      <td>&lt;StoreSurvey xmlns=\"http://schemas.microsoft.c...</td>\n",
       "      <td>5\"2&gt;E&lt;FACn8n4u1a-l9S7alCe5s-&gt;48A0C010-0B07&lt;0/7...</td>\n",
       "      <td>ve1n2u/0e9&gt;/820001040 &lt;1/1A:1n5n</td>\n",
       "    </tr>\n",
       "    <tr>\n",
       "      <th>26</th>\n",
       "      <td>344</td>\n",
       "      <td>Retail Sales and Service</td>\n",
       "      <td>275</td>\n",
       "      <td>&lt;StoreSurvey xmlns=\"http://schemas.microsoft.c...</td>\n",
       "      <td>3\"8&gt;F&lt;9ABnEn1uBa-l9Sa1l3e7s-&gt;48E040E0-0908&lt;5/D...</td>\n",
       "      <td>ve1n2u/0e9&gt;/820001040 &lt;1/1A:1n5n</td>\n",
       "    </tr>\n",
       "    <tr>\n",
       "      <th>27</th>\n",
       "      <td>346</td>\n",
       "      <td>Designated Distributors</td>\n",
       "      <td>282</td>\n",
       "      <td>&lt;StoreSurvey xmlns=\"http://schemas.microsoft.c...</td>\n",
       "      <td>5\"D&gt;&lt;CA1n7nAu1aCl-SFa6l1es8&gt;-43B060E0-0B0E0A&lt;2...</td>\n",
       "      <td>e1ve2n/0u9e/&gt;23001040 0101&lt;:1/5A</td>\n",
       "    </tr>\n",
       "    <tr>\n",
       "      <th>28</th>\n",
       "      <td>348</td>\n",
       "      <td>Bold Bike Accessories</td>\n",
       "      <td>276</td>\n",
       "      <td>&lt;StoreSurvey xmlns=\"http://schemas.microsoft.c...</td>\n",
       "      <td>A\"&gt;C&lt;7An8n3uF1al-S1a9l6eBs&gt;-43B0B00F-0A060E&lt;0/...</td>\n",
       "      <td>e1ve2n/0u9e/&gt;23001040 0101&lt;:1/5A</td>\n",
       "    </tr>\n",
       "    <tr>\n",
       "      <th>29</th>\n",
       "      <td>350</td>\n",
       "      <td>Twin Cycles</td>\n",
       "      <td>286</td>\n",
       "      <td>&lt;StoreSurvey xmlns=\"http://schemas.microsoft.c...</td>\n",
       "      <td>4\"E&gt;9&lt;1A7n5n7u8a-l1Sa9l4e2s-&gt;48B0A0B0-080E&lt;6/3...</td>\n",
       "      <td>ve1n2u/0e9&gt;/820001040 &lt;1/1A:1n5n</td>\n",
       "    </tr>\n",
       "    <tr>\n",
       "      <th>30</th>\n",
       "      <td>352</td>\n",
       "      <td>Tiny Bike Boutique</td>\n",
       "      <td>279</td>\n",
       "      <td>&lt;StoreSurvey xmlns=\"http://schemas.microsoft.c...</td>\n",
       "      <td>1\"D&gt;&lt;6A5nDnDu5aAlS-Aal7eCs8&gt;-340A0C010-0A&lt;2/BA...</td>\n",
       "      <td>ve1n2u/0e9&gt;/320001040 &lt;1/1A:1n5n</td>\n",
       "    </tr>\n",
       "    <tr>\n",
       "      <th>31</th>\n",
       "      <td>354</td>\n",
       "      <td>Acclaimed Bicycle Company</td>\n",
       "      <td>279</td>\n",
       "      <td>&lt;StoreSurvey xmlns=\"http://schemas.microsoft.c...</td>\n",
       "      <td>E\"7&gt;1&lt;ACn5n9uCa-lSBa2l2e8s&gt;-4390F020-0A0C0C&lt;2/...</td>\n",
       "      <td>e1ve2n/0u9e/&gt;23001040 0101&lt;:1/5A</td>\n",
       "    </tr>\n",
       "    <tr>\n",
       "      <th>32</th>\n",
       "      <td>356</td>\n",
       "      <td>Serious Cycles</td>\n",
       "      <td>278</td>\n",
       "      <td>&lt;StoreSurvey xmlns=\"http://schemas.microsoft.c...</td>\n",
       "      <td>8\"0&gt;3&lt;6ADnn3Bua1l-S1aCle8sD&gt;-34030B0F0-B0901&lt;3...</td>\n",
       "      <td>e1ve2n/0u9e/&gt;23001040 0101&lt;:1/5A</td>\n",
       "    </tr>\n",
       "    <tr>\n",
       "      <th>33</th>\n",
       "      <td>358</td>\n",
       "      <td>Quality Bike Sales</td>\n",
       "      <td>286</td>\n",
       "      <td>&lt;StoreSurvey xmlns=\"http://schemas.microsoft.c...</td>\n",
       "      <td>5\"5&gt;E&lt;CA3n5n4u5a-lASa7l5e1s&gt;-43A03070-090404&lt;E...</td>\n",
       "      <td>e1ve2n/0u9e/&gt;23001040 0101&lt;:1/5A</td>\n",
       "    </tr>\n",
       "    <tr>\n",
       "      <th>34</th>\n",
       "      <td>360</td>\n",
       "      <td>Novelty Bikes</td>\n",
       "      <td>275</td>\n",
       "      <td>&lt;StoreSurvey xmlns=\"http://schemas.microsoft.c...</td>\n",
       "      <td>C\"D&gt;&lt;2A3n9n4u74al-S9a6l6eCs&gt;-43407040-09070A&lt;9...</td>\n",
       "      <td>e1ve2n/0u9e/&gt;23001040 0101&lt;:1/5A</td>\n",
       "    </tr>\n",
       "    <tr>\n",
       "      <th>35</th>\n",
       "      <td>362</td>\n",
       "      <td>Distinctive Cycles Sales &amp; Service</td>\n",
       "      <td>279</td>\n",
       "      <td>&lt;StoreSurvey xmlns=\"http://schemas.microsoft.c...</td>\n",
       "      <td>7\"E&gt;5&lt;DAnAn4uCa4l-S2a3leBs4&gt;-430B0D020-8003&lt;7/...</td>\n",
       "      <td>e1ve2n/0u9e/&gt;23001040 1001&lt;:1/5A</td>\n",
       "    </tr>\n",
       "    <tr>\n",
       "      <th>36</th>\n",
       "      <td>364</td>\n",
       "      <td>Leading Bike Distributors</td>\n",
       "      <td>279</td>\n",
       "      <td>&lt;StoreSurvey xmlns=\"http://schemas.microsoft.c...</td>\n",
       "      <td>0\"C&gt;&lt;0AB9n5nFuDal-S1a9l3e4s&gt;-48D00D090-B0C&lt;1/A...</td>\n",
       "      <td>ve1n2u/0e9&gt;/820001040 &lt;1/1A:1n5n</td>\n",
       "    </tr>\n",
       "    <tr>\n",
       "      <th>37</th>\n",
       "      <td>366</td>\n",
       "      <td>Activity Center</td>\n",
       "      <td>279</td>\n",
       "      <td>&lt;StoreSurvey xmlns=\"http://schemas.microsoft.c...</td>\n",
       "      <td>F\"5&gt;7&lt;9AEn6n0u4a-lBS6al0e2s-&gt;41D56070-0A0B08&lt;8...</td>\n",
       "      <td>e1ve2n/0u9e/&gt;21051040 0101&lt;:1/5A</td>\n",
       "    </tr>\n",
       "    <tr>\n",
       "      <th>38</th>\n",
       "      <td>368</td>\n",
       "      <td>Brightwork Company</td>\n",
       "      <td>281</td>\n",
       "      <td>&lt;StoreSurvey xmlns=\"http://schemas.microsoft.c...</td>\n",
       "      <td>6\"F&gt;4&lt;2A7n3nAuEa-l5Sa8l3eCs-&gt;41251090-090E0&lt;B/...</td>\n",
       "      <td>e1ve2n/0u9e/&gt;21051040 0101&lt;:1/5A</td>\n",
       "    </tr>\n",
       "    <tr>\n",
       "      <th>39</th>\n",
       "      <td>370</td>\n",
       "      <td>Resale Services</td>\n",
       "      <td>276</td>\n",
       "      <td>&lt;StoreSurvey xmlns=\"http://schemas.microsoft.c...</td>\n",
       "      <td>7\"C&gt;&lt;7A07n6nCu8a-lS2aAlBes9&gt;-4880100-0B0B&lt;C/A-...</td>\n",
       "      <td>ve1n2u/0e9&gt;/820001040 &lt;1/1A:1n5n</td>\n",
       "    </tr>\n",
       "    <tr>\n",
       "      <th>40</th>\n",
       "      <td>372</td>\n",
       "      <td>The Gear Store</td>\n",
       "      <td>277</td>\n",
       "      <td>&lt;StoreSurvey xmlns=\"http://schemas.microsoft.c...</td>\n",
       "      <td>0\"3&gt;E&lt;7A7nDn8uAal-S6a2leBs6&gt;-4810E0E0-0B00&lt;8/1...</td>\n",
       "      <td>ve1n2u/0e9&gt;/820001040 &lt;1/1A:1n5n</td>\n",
       "    </tr>\n",
       "    <tr>\n",
       "      <th>41</th>\n",
       "      <td>374</td>\n",
       "      <td>Immense Manufacturing Company</td>\n",
       "      <td>277</td>\n",
       "      <td>&lt;StoreSurvey xmlns=\"http://schemas.microsoft.c...</td>\n",
       "      <td>F\"9&gt;4&lt;8AFn1n2u1a-l0S9aCle9s-&gt;4360D040-0A0708&lt;3...</td>\n",
       "      <td>e1ve2n/0u9e/&gt;23001040 0101&lt;:1/5A</td>\n",
       "    </tr>\n",
       "    <tr>\n",
       "      <th>42</th>\n",
       "      <td>376</td>\n",
       "      <td>Extended Bike Sales</td>\n",
       "      <td>276</td>\n",
       "      <td>&lt;StoreSurvey xmlns=\"http://schemas.microsoft.c...</td>\n",
       "      <td>9\"E&gt;5&lt;5A0n2n4u1a-lBSa6lCeBs&gt;-43E09050-09060A&lt;2...</td>\n",
       "      <td>e1ve2n/0u9e/&gt;23001040 0101&lt;:1/5A</td>\n",
       "    </tr>\n",
       "    <tr>\n",
       "      <th>43</th>\n",
       "      <td>378</td>\n",
       "      <td>Pedaling Components</td>\n",
       "      <td>288</td>\n",
       "      <td>&lt;StoreSurvey xmlns=\"http://schemas.microsoft.c...</td>\n",
       "      <td>2\"4&gt;D&lt;ADn7nAuFa1l-SDa3le4s7&gt;-14540C0B0-9060F&lt;A...</td>\n",
       "      <td>e1ve2n/0u9e/&gt;21051040 0101&lt;:1/5A</td>\n",
       "    </tr>\n",
       "    <tr>\n",
       "      <th>44</th>\n",
       "      <td>380</td>\n",
       "      <td>Workout Emporium</td>\n",
       "      <td>282</td>\n",
       "      <td>&lt;StoreSurvey xmlns=\"http://schemas.microsoft.c...</td>\n",
       "      <td>6\"4&gt;9&lt;DAnBn0u9aEl-S3aAleAs4&gt;-145207050-80800&lt;C...</td>\n",
       "      <td>e1ve2n/0u9e/&gt;21051040 0101&lt;:1/5A</td>\n",
       "    </tr>\n",
       "    <tr>\n",
       "      <th>45</th>\n",
       "      <td>382</td>\n",
       "      <td>Work and Play Association</td>\n",
       "      <td>275</td>\n",
       "      <td>&lt;StoreSurvey xmlns=\"http://schemas.microsoft.c...</td>\n",
       "      <td>E\"5&gt;3&lt;5A3nDnAua7l-SCaBle0s2&gt;-840C02060-A0C&lt;D/A...</td>\n",
       "      <td>ve1n2u/0e9&gt;/820001040 &lt;1/1A:1n5n</td>\n",
       "    </tr>\n",
       "    <tr>\n",
       "      <th>46</th>\n",
       "      <td>384</td>\n",
       "      <td>Seaside Bike Works</td>\n",
       "      <td>286</td>\n",
       "      <td>&lt;StoreSurvey xmlns=\"http://schemas.microsoft.c...</td>\n",
       "      <td>4\"C&gt;&lt;8A5Cn3n4u7a-lSCa9lCe0s&gt;-48E060D0-0B02&lt;9/0...</td>\n",
       "      <td>ve1n2u/0e9&gt;/820001040 &lt;1/1A:1n5n</td>\n",
       "    </tr>\n",
       "    <tr>\n",
       "      <th>47</th>\n",
       "      <td>386</td>\n",
       "      <td>Nice Bikes</td>\n",
       "      <td>278</td>\n",
       "      <td>&lt;StoreSurvey xmlns=\"http://schemas.microsoft.c...</td>\n",
       "      <td>9\"F&gt;A&lt;A16n0n9uCa-lS9aAl3e6s&gt;-43208020-0B0C&lt;8/0...</td>\n",
       "      <td>ve1n2u/0e9&gt;/320001040 &lt;1/1A:1n5n</td>\n",
       "    </tr>\n",
       "    <tr>\n",
       "      <th>48</th>\n",
       "      <td>388</td>\n",
       "      <td>Remarkable Bike Store</td>\n",
       "      <td>276</td>\n",
       "      <td>&lt;StoreSurvey xmlns=\"http://schemas.microsoft.c...</td>\n",
       "      <td>F\"2&gt;D&lt;ACnDn3u1a4l-S5a0le6sD&gt;-84070F010-80C&lt;D/A...</td>\n",
       "      <td>ve1n2u/0e9&gt;/820001040 &lt;1/1A:1n5n</td>\n",
       "    </tr>\n",
       "  </tbody>\n",
       "</table>\n",
       "</div>"
      ],
      "text/plain": [
       "    BusinessEntityID                                 Name  SalesPersonID  \\\n",
       "0                292                 Next-Door Bike Store            279   \n",
       "1                294       Professional Sales and Service            276   \n",
       "2                296                       Riders Company            277   \n",
       "3                298                   The Bike Mechanics            275   \n",
       "4                300                    Nationwide Supply            286   \n",
       "5                302                Area Bike Accessories            281   \n",
       "6                304         Bicycle Accessories and Kits            283   \n",
       "7                306                Clamps & Brackets Co.            275   \n",
       "8                308           Valley Bicycle Specialists            277   \n",
       "9                310                    New Bikes Company            279   \n",
       "10               312  Vinyl and Plastic Goods Corporation            282   \n",
       "11               314                Top of the Line Bikes            288   \n",
       "12               316                   Fun Toys and Bikes            281   \n",
       "13               318                          Great Bikes            283   \n",
       "14               320        Metropolitan Sales and Rental            275   \n",
       "15               322                    Irregulars Outlet            288   \n",
       "16               324                     Valley Toy Store            282   \n",
       "17               326            Worthwhile Activity Store            279   \n",
       "18               328                        Purchase Mart            275   \n",
       "19               330                Major Sport Suppliers            283   \n",
       "20               332          Family's Favorite Bike Shop            278   \n",
       "21               334                         Global Plaza            279   \n",
       "22               336         Imported and Domestic Cycles            276   \n",
       "23               338                     Systematic Sales            281   \n",
       "24               340                      eCommerce Bikes            279   \n",
       "25               342                   Mountain Toy Store            277   \n",
       "26               344             Retail Sales and Service            275   \n",
       "27               346              Designated Distributors            282   \n",
       "28               348                Bold Bike Accessories            276   \n",
       "29               350                          Twin Cycles            286   \n",
       "30               352                   Tiny Bike Boutique            279   \n",
       "31               354            Acclaimed Bicycle Company            279   \n",
       "32               356                       Serious Cycles            278   \n",
       "33               358                   Quality Bike Sales            286   \n",
       "34               360                        Novelty Bikes            275   \n",
       "35               362   Distinctive Cycles Sales & Service            279   \n",
       "36               364            Leading Bike Distributors            279   \n",
       "37               366                      Activity Center            279   \n",
       "38               368                   Brightwork Company            281   \n",
       "39               370                      Resale Services            276   \n",
       "40               372                       The Gear Store            277   \n",
       "41               374        Immense Manufacturing Company            277   \n",
       "42               376                  Extended Bike Sales            276   \n",
       "43               378                  Pedaling Components            288   \n",
       "44               380                     Workout Emporium            282   \n",
       "45               382            Work and Play Association            275   \n",
       "46               384                   Seaside Bike Works            286   \n",
       "47               386                           Nice Bikes            278   \n",
       "48               388                Remarkable Bike Store            276   \n",
       "\n",
       "                                         Demographics  \\\n",
       "0   <StoreSurvey xmlns=\"http://schemas.microsoft.c...   \n",
       "1   <StoreSurvey xmlns=\"http://schemas.microsoft.c...   \n",
       "2   <StoreSurvey xmlns=\"http://schemas.microsoft.c...   \n",
       "3   <StoreSurvey xmlns=\"http://schemas.microsoft.c...   \n",
       "4   <StoreSurvey xmlns=\"http://schemas.microsoft.c...   \n",
       "5   <StoreSurvey xmlns=\"http://schemas.microsoft.c...   \n",
       "6   <StoreSurvey xmlns=\"http://schemas.microsoft.c...   \n",
       "7   <StoreSurvey xmlns=\"http://schemas.microsoft.c...   \n",
       "8   <StoreSurvey xmlns=\"http://schemas.microsoft.c...   \n",
       "9   <StoreSurvey xmlns=\"http://schemas.microsoft.c...   \n",
       "10  <StoreSurvey xmlns=\"http://schemas.microsoft.c...   \n",
       "11  <StoreSurvey xmlns=\"http://schemas.microsoft.c...   \n",
       "12  <StoreSurvey xmlns=\"http://schemas.microsoft.c...   \n",
       "13  <StoreSurvey xmlns=\"http://schemas.microsoft.c...   \n",
       "14  <StoreSurvey xmlns=\"http://schemas.microsoft.c...   \n",
       "15  <StoreSurvey xmlns=\"http://schemas.microsoft.c...   \n",
       "16  <StoreSurvey xmlns=\"http://schemas.microsoft.c...   \n",
       "17  <StoreSurvey xmlns=\"http://schemas.microsoft.c...   \n",
       "18  <StoreSurvey xmlns=\"http://schemas.microsoft.c...   \n",
       "19  <StoreSurvey xmlns=\"http://schemas.microsoft.c...   \n",
       "20  <StoreSurvey xmlns=\"http://schemas.microsoft.c...   \n",
       "21  <StoreSurvey xmlns=\"http://schemas.microsoft.c...   \n",
       "22  <StoreSurvey xmlns=\"http://schemas.microsoft.c...   \n",
       "23  <StoreSurvey xmlns=\"http://schemas.microsoft.c...   \n",
       "24  <StoreSurvey xmlns=\"http://schemas.microsoft.c...   \n",
       "25  <StoreSurvey xmlns=\"http://schemas.microsoft.c...   \n",
       "26  <StoreSurvey xmlns=\"http://schemas.microsoft.c...   \n",
       "27  <StoreSurvey xmlns=\"http://schemas.microsoft.c...   \n",
       "28  <StoreSurvey xmlns=\"http://schemas.microsoft.c...   \n",
       "29  <StoreSurvey xmlns=\"http://schemas.microsoft.c...   \n",
       "30  <StoreSurvey xmlns=\"http://schemas.microsoft.c...   \n",
       "31  <StoreSurvey xmlns=\"http://schemas.microsoft.c...   \n",
       "32  <StoreSurvey xmlns=\"http://schemas.microsoft.c...   \n",
       "33  <StoreSurvey xmlns=\"http://schemas.microsoft.c...   \n",
       "34  <StoreSurvey xmlns=\"http://schemas.microsoft.c...   \n",
       "35  <StoreSurvey xmlns=\"http://schemas.microsoft.c...   \n",
       "36  <StoreSurvey xmlns=\"http://schemas.microsoft.c...   \n",
       "37  <StoreSurvey xmlns=\"http://schemas.microsoft.c...   \n",
       "38  <StoreSurvey xmlns=\"http://schemas.microsoft.c...   \n",
       "39  <StoreSurvey xmlns=\"http://schemas.microsoft.c...   \n",
       "40  <StoreSurvey xmlns=\"http://schemas.microsoft.c...   \n",
       "41  <StoreSurvey xmlns=\"http://schemas.microsoft.c...   \n",
       "42  <StoreSurvey xmlns=\"http://schemas.microsoft.c...   \n",
       "43  <StoreSurvey xmlns=\"http://schemas.microsoft.c...   \n",
       "44  <StoreSurvey xmlns=\"http://schemas.microsoft.c...   \n",
       "45  <StoreSurvey xmlns=\"http://schemas.microsoft.c...   \n",
       "46  <StoreSurvey xmlns=\"http://schemas.microsoft.c...   \n",
       "47  <StoreSurvey xmlns=\"http://schemas.microsoft.c...   \n",
       "48  <StoreSurvey xmlns=\"http://schemas.microsoft.c...   \n",
       "\n",
       "                                              rowguid  \\\n",
       "0   A\">2<2A5n17nEu3a-lS8a4l8eDs>-48E0B0E0-0B09<D/A...   \n",
       "1   B\">5<0ACAnn5u0Bal-SCa6le0s1>-48A001030-B00<7/A...   \n",
       "2   3\"3>7<CA3n6n8u8a-lS1a3l3e9s->48E010A0-0A00<8/A...   \n",
       "3   7\"8>9<4AFn2n7u8a-lFS0aCle8s->48D01060-0B0D<7/5...   \n",
       "4   C\"3>F<CA9n7n0u5a-lASa8lCe4s>-48F030A0-0905<5/0...   \n",
       "5   3\"6>8<BAEn6nDuDal-S3a0leEs5>-34090B0B0-90A<8/A...   \n",
       "6   3\"5>F<4A0n6n3u6a-l5S1al0e5s->4390D050-0806<9/E...   \n",
       "7   6\"4>D<A0n6nBuFCal-SDa0le6s0>-480050C0-80C<6/0A...   \n",
       "8   5\"9>3<8A6nBn0uCa-lS6a5l2eEs>-43606080-0B0404<B...   \n",
       "9   4\"7>E<4ABn6nBuDal-S5aCleDs1>-1450A030-A002<3/1...   \n",
       "10  D\">C<6A1n0n5u25al-SEa3l7e3s>-4195B010-0B0708<6...   \n",
       "11  E\"2>9<0AEn9n3uFa-lASa9l8e0s->41B5A030-08060C<3...   \n",
       "12  6\"C><DACnFn94u1al-S4a1l9e2s>-4390C070-0909<4/A...   \n",
       "13  9\"5>6<FABnCn3u5a-l5SaEl0eDs>-43107050-0800<4/5...   \n",
       "14  0\"C><BA4FnEnFu2a-l5S0al4e7s->4300F070-80804<8/...   \n",
       "15  C\"D><EA6n6n27u9al-S8a3lDes8>-4303040-0A08<3/AC...   \n",
       "16  6\"A><1ABnEAnu5a6l-SDaCleBs7>-34050C0F0-80C<9/A...   \n",
       "17  B\">A<DA6n3n7u1a7l-S9a9leBsD>-340508010-801<6/A...   \n",
       "18  A\">3<1A4n03n4u9a-lS5a7lAe3s>-4165A00A0-B0F03<2...   \n",
       "19  3\"B><5AF8n5n7u2a-l4Sa3lBe0s->4320F050-08060F<F...   \n",
       "20  7\"1>2<DAnF7nBu6a-lSAa6leEs4>-4805090-0A01<B/8A...   \n",
       "21  9\"A><1AE9n1nDua8l-S5a0l9esB>-48D009060-B0D</7A...   \n",
       "22  2\"5>C<A22n9nCu0a-lS4aEl7eAs>-4120D002-0A0C0B<1...   \n",
       "23  D\">F<9A12n6nAua5l-S9aCl9es5>-4340A0020-A0301<F...   \n",
       "24  1\"E>C<A47n8n2u3a-l4SaBl3e9s->43600090-0A0A0E<C...   \n",
       "25  5\"2>E<FACn8n4u1a-l9S7alCe5s->48A0C010-0B07<0/7...   \n",
       "26  3\"8>F<9ABnEn1uBa-l9Sa1l3e7s->48E040E0-0908<5/D...   \n",
       "27  5\"D><CA1n7nAu1aCl-SFa6l1es8>-43B060E0-0B0E0A<2...   \n",
       "28  A\">C<7An8n3uF1al-S1a9l6eBs>-43B0B00F-0A060E<0/...   \n",
       "29  4\"E>9<1A7n5n7u8a-l1Sa9l4e2s->48B0A0B0-080E<6/3...   \n",
       "30  1\"D><6A5nDnDu5aAlS-Aal7eCs8>-340A0C010-0A<2/BA...   \n",
       "31  E\"7>1<ACn5n9uCa-lSBa2l2e8s>-4390F020-0A0C0C<2/...   \n",
       "32  8\"0>3<6ADnn3Bua1l-S1aCle8sD>-34030B0F0-B0901<3...   \n",
       "33  5\"5>E<CA3n5n4u5a-lASa7l5e1s>-43A03070-090404<E...   \n",
       "34  C\"D><2A3n9n4u74al-S9a6l6eCs>-43407040-09070A<9...   \n",
       "35  7\"E>5<DAnAn4uCa4l-S2a3leBs4>-430B0D020-8003<7/...   \n",
       "36  0\"C><0AB9n5nFuDal-S1a9l3e4s>-48D00D090-B0C<1/A...   \n",
       "37  F\"5>7<9AEn6n0u4a-lBS6al0e2s->41D56070-0A0B08<8...   \n",
       "38  6\"F>4<2A7n3nAuEa-l5Sa8l3eCs->41251090-090E0<B/...   \n",
       "39  7\"C><7A07n6nCu8a-lS2aAlBes9>-4880100-0B0B<C/A-...   \n",
       "40  0\"3>E<7A7nDn8uAal-S6a2leBs6>-4810E0E0-0B00<8/1...   \n",
       "41  F\"9>4<8AFn1n2u1a-l0S9aCle9s->4360D040-0A0708<3...   \n",
       "42  9\"E>5<5A0n2n4u1a-lBSa6lCeBs>-43E09050-09060A<2...   \n",
       "43  2\"4>D<ADn7nAuFa1l-SDa3le4s7>-14540C0B0-9060F<A...   \n",
       "44  6\"4>9<DAnBn0u9aEl-S3aAleAs4>-145207050-80800<C...   \n",
       "45  E\"5>3<5A3nDnAua7l-SCaBle0s2>-840C02060-A0C<D/A...   \n",
       "46  4\"C><8A5Cn3n4u7a-lSCa9lCe0s>-48E060D0-0B02<9/0...   \n",
       "47  9\"F>A<A16n0n9uCa-lS9aAl3e6s>-43208020-0B0C<8/0...   \n",
       "48  F\"2>D<ACnDn3u1a4l-S5a0le6sD>-84070F010-80C<D/A...   \n",
       "\n",
       "                        ModifiedDate  \n",
       "0   ve1n2u/0e9>/820001040 <1/1A:1n5n  \n",
       "1   ve1n2u/0e9>/820001040 <1/1A:1n5n  \n",
       "2   ve1n2u/0e9>/820001040 <1/1A:1n5n  \n",
       "3   ve1n2u/0e9>/820001040 <1/1A:1n5n  \n",
       "4   ve1n2u/0e9>/820001040 <1/1A:1n5n  \n",
       "5   ve1n2u/0e9>/320001040 <1/1A:1n5n  \n",
       "6   ve1n2u/0e9>/320001040 <1/1A:1n5n  \n",
       "7   ve1n2u/0e9>/820001040 <1/1A:1n5n  \n",
       "8   e1ve2n/0u9e/>23001040 0101<:1/5A  \n",
       "9   e1ve2n/0u9e/>21051040 0101<:1/5A  \n",
       "10  e1ve2n/0u9e/>21051040 0101<:1/5A  \n",
       "11  e1ve2n/0u9e/>21051040 0101<:1/5A  \n",
       "12  ve1n2u/0e9>/320001040 <1/1A:1n5n  \n",
       "13  ve1n2u/0e9>/320001040 <1/1A:1n5n  \n",
       "14  ve1n2u/0e9>/320001040 <1/1A:1n5n  \n",
       "15  ve1n2u/0e9>/320001040 <1/1A:1n5n  \n",
       "16  ve1n2u/0e9>/320001040 <1/1A:1n5n  \n",
       "17  ve1n2u/0e9>/320001040 <1/1A:1n5n  \n",
       "18  e1ve2n/0u9e/>21051040 0101<:1/5A  \n",
       "19  e1ve2n/0u9e/>23001040 0101<:1/5A  \n",
       "20  ve1n2u/0e9>/820001040 <1/1A:1n5n  \n",
       "21  ve1n2u/0e9>/820001040 <1/1A:1n5n  \n",
       "22  e1ve2n/0u9e/>21001040 0101<:1/5A  \n",
       "23  e1ve2n/0u9e/>23001040 0101<:1/5A  \n",
       "24  e1ve2n/0u9e/>23001040 0101<:1/5A  \n",
       "25  ve1n2u/0e9>/820001040 <1/1A:1n5n  \n",
       "26  ve1n2u/0e9>/820001040 <1/1A:1n5n  \n",
       "27  e1ve2n/0u9e/>23001040 0101<:1/5A  \n",
       "28  e1ve2n/0u9e/>23001040 0101<:1/5A  \n",
       "29  ve1n2u/0e9>/820001040 <1/1A:1n5n  \n",
       "30  ve1n2u/0e9>/320001040 <1/1A:1n5n  \n",
       "31  e1ve2n/0u9e/>23001040 0101<:1/5A  \n",
       "32  e1ve2n/0u9e/>23001040 0101<:1/5A  \n",
       "33  e1ve2n/0u9e/>23001040 0101<:1/5A  \n",
       "34  e1ve2n/0u9e/>23001040 0101<:1/5A  \n",
       "35  e1ve2n/0u9e/>23001040 1001<:1/5A  \n",
       "36  ve1n2u/0e9>/820001040 <1/1A:1n5n  \n",
       "37  e1ve2n/0u9e/>21051040 0101<:1/5A  \n",
       "38  e1ve2n/0u9e/>21051040 0101<:1/5A  \n",
       "39  ve1n2u/0e9>/820001040 <1/1A:1n5n  \n",
       "40  ve1n2u/0e9>/820001040 <1/1A:1n5n  \n",
       "41  e1ve2n/0u9e/>23001040 0101<:1/5A  \n",
       "42  e1ve2n/0u9e/>23001040 0101<:1/5A  \n",
       "43  e1ve2n/0u9e/>21051040 0101<:1/5A  \n",
       "44  e1ve2n/0u9e/>21051040 0101<:1/5A  \n",
       "45  ve1n2u/0e9>/820001040 <1/1A:1n5n  \n",
       "46  ve1n2u/0e9>/820001040 <1/1A:1n5n  \n",
       "47  ve1n2u/0e9>/320001040 <1/1A:1n5n  \n",
       "48  ve1n2u/0e9>/820001040 <1/1A:1n5n  "
      ]
     },
     "execution_count": 7,
     "metadata": {},
     "output_type": "execute_result"
    }
   ],
   "source": [
    "#pdf_tabel[0]"
   ]
  },
  {
   "cell_type": "code",
   "execution_count": 3,
   "metadata": {
    "execution": {
     "iopub.execute_input": "2025-01-11T03:11:26.537093Z",
     "iopub.status.busy": "2025-01-11T03:11:26.535091Z",
     "iopub.status.idle": "2025-01-11T03:11:27.083341Z",
     "shell.execute_reply": "2025-01-11T03:11:27.079752Z",
     "shell.execute_reply.started": "2025-01-11T03:11:26.537093Z"
    }
   },
   "outputs": [],
   "source": [
    "#pdf_tabel[0].to_excel(\"Store1.xlsx\", index=False)"
   ]
  },
  {
   "cell_type": "markdown",
   "metadata": {},
   "source": [
    "### Filter Data"
   ]
  },
  {
   "cell_type": "markdown",
   "metadata": {},
   "source": [
    "#### Boolean Expression"
   ]
  },
  {
   "cell_type": "code",
   "execution_count": 8,
   "metadata": {
    "execution": {
     "iopub.execute_input": "2025-01-11T03:17:58.801159Z",
     "iopub.status.busy": "2025-01-11T03:17:58.799133Z",
     "iopub.status.idle": "2025-01-11T03:17:58.841672Z",
     "shell.execute_reply": "2025-01-11T03:17:58.840651Z",
     "shell.execute_reply.started": "2025-01-11T03:17:58.801159Z"
    }
   },
   "outputs": [
    {
     "data": {
      "text/html": [
       "<div>\n",
       "<style scoped>\n",
       "    .dataframe tbody tr th:only-of-type {\n",
       "        vertical-align: middle;\n",
       "    }\n",
       "\n",
       "    .dataframe tbody tr th {\n",
       "        vertical-align: top;\n",
       "    }\n",
       "\n",
       "    .dataframe thead th {\n",
       "        text-align: right;\n",
       "    }\n",
       "</style>\n",
       "<table border=\"1\" class=\"dataframe\">\n",
       "  <thead>\n",
       "    <tr style=\"text-align: right;\">\n",
       "      <th></th>\n",
       "      <th>BusinessEntityID</th>\n",
       "      <th>Name</th>\n",
       "      <th>SalesPersonID</th>\n",
       "      <th>Demographics</th>\n",
       "      <th>rowguid</th>\n",
       "      <th>ModifiedDate</th>\n",
       "    </tr>\n",
       "  </thead>\n",
       "  <tbody>\n",
       "    <tr>\n",
       "      <th>0</th>\n",
       "      <td>292</td>\n",
       "      <td>Next-Door Bike Store</td>\n",
       "      <td>279</td>\n",
       "      <td>&lt;StoreSurvey xmlns=\"http://schemas.microsoft.c...</td>\n",
       "      <td>A\"&gt;2&lt;2A5n17nEu3a-lS8a4l8eDs&gt;-48E0B0E0-0B09&lt;D/A...</td>\n",
       "      <td>ve1n2u/0e9&gt;/820001040 &lt;1/1A:1n5n</td>\n",
       "    </tr>\n",
       "    <tr>\n",
       "      <th>9</th>\n",
       "      <td>310</td>\n",
       "      <td>New Bikes Company</td>\n",
       "      <td>279</td>\n",
       "      <td>&lt;StoreSurvey xmlns=\"http://schemas.microsoft.c...</td>\n",
       "      <td>4\"7&gt;E&lt;4ABn6nBuDal-S5aCleDs1&gt;-1450A030-A002&lt;3/1...</td>\n",
       "      <td>e1ve2n/0u9e/&gt;21051040 0101&lt;:1/5A</td>\n",
       "    </tr>\n",
       "    <tr>\n",
       "      <th>17</th>\n",
       "      <td>326</td>\n",
       "      <td>Worthwhile Activity Store</td>\n",
       "      <td>279</td>\n",
       "      <td>&lt;StoreSurvey xmlns=\"http://schemas.microsoft.c...</td>\n",
       "      <td>B\"&gt;A&lt;DA6n3n7u1a7l-S9a9leBsD&gt;-340508010-801&lt;6/A...</td>\n",
       "      <td>ve1n2u/0e9&gt;/320001040 &lt;1/1A:1n5n</td>\n",
       "    </tr>\n",
       "    <tr>\n",
       "      <th>21</th>\n",
       "      <td>334</td>\n",
       "      <td>Global Plaza</td>\n",
       "      <td>279</td>\n",
       "      <td>&lt;StoreSurvey xmlns=\"http://schemas.microsoft.c...</td>\n",
       "      <td>9\"A&gt;&lt;1AE9n1nDua8l-S5a0l9esB&gt;-48D009060-B0D&lt;/7A...</td>\n",
       "      <td>ve1n2u/0e9&gt;/820001040 &lt;1/1A:1n5n</td>\n",
       "    </tr>\n",
       "    <tr>\n",
       "      <th>24</th>\n",
       "      <td>340</td>\n",
       "      <td>eCommerce Bikes</td>\n",
       "      <td>279</td>\n",
       "      <td>&lt;StoreSurvey xmlns=\"http://schemas.microsoft.c...</td>\n",
       "      <td>1\"E&gt;C&lt;A47n8n2u3a-l4SaBl3e9s-&gt;43600090-0A0A0E&lt;C...</td>\n",
       "      <td>e1ve2n/0u9e/&gt;23001040 0101&lt;:1/5A</td>\n",
       "    </tr>\n",
       "    <tr>\n",
       "      <th>30</th>\n",
       "      <td>352</td>\n",
       "      <td>Tiny Bike Boutique</td>\n",
       "      <td>279</td>\n",
       "      <td>&lt;StoreSurvey xmlns=\"http://schemas.microsoft.c...</td>\n",
       "      <td>1\"D&gt;&lt;6A5nDnDu5aAlS-Aal7eCs8&gt;-340A0C010-0A&lt;2/BA...</td>\n",
       "      <td>ve1n2u/0e9&gt;/320001040 &lt;1/1A:1n5n</td>\n",
       "    </tr>\n",
       "    <tr>\n",
       "      <th>31</th>\n",
       "      <td>354</td>\n",
       "      <td>Acclaimed Bicycle Company</td>\n",
       "      <td>279</td>\n",
       "      <td>&lt;StoreSurvey xmlns=\"http://schemas.microsoft.c...</td>\n",
       "      <td>E\"7&gt;1&lt;ACn5n9uCa-lSBa2l2e8s&gt;-4390F020-0A0C0C&lt;2/...</td>\n",
       "      <td>e1ve2n/0u9e/&gt;23001040 0101&lt;:1/5A</td>\n",
       "    </tr>\n",
       "    <tr>\n",
       "      <th>35</th>\n",
       "      <td>362</td>\n",
       "      <td>Distinctive Cycles Sales &amp; Service</td>\n",
       "      <td>279</td>\n",
       "      <td>&lt;StoreSurvey xmlns=\"http://schemas.microsoft.c...</td>\n",
       "      <td>7\"E&gt;5&lt;DAnAn4uCa4l-S2a3leBs4&gt;-430B0D020-8003&lt;7/...</td>\n",
       "      <td>e1ve2n/0u9e/&gt;23001040 1001&lt;:1/5A</td>\n",
       "    </tr>\n",
       "    <tr>\n",
       "      <th>36</th>\n",
       "      <td>364</td>\n",
       "      <td>Leading Bike Distributors</td>\n",
       "      <td>279</td>\n",
       "      <td>&lt;StoreSurvey xmlns=\"http://schemas.microsoft.c...</td>\n",
       "      <td>0\"C&gt;&lt;0AB9n5nFuDal-S1a9l3e4s&gt;-48D00D090-B0C&lt;1/A...</td>\n",
       "      <td>ve1n2u/0e9&gt;/820001040 &lt;1/1A:1n5n</td>\n",
       "    </tr>\n",
       "    <tr>\n",
       "      <th>37</th>\n",
       "      <td>366</td>\n",
       "      <td>Activity Center</td>\n",
       "      <td>279</td>\n",
       "      <td>&lt;StoreSurvey xmlns=\"http://schemas.microsoft.c...</td>\n",
       "      <td>F\"5&gt;7&lt;9AEn6n0u4a-lBS6al0e2s-&gt;41D56070-0A0B08&lt;8...</td>\n",
       "      <td>e1ve2n/0u9e/&gt;21051040 0101&lt;:1/5A</td>\n",
       "    </tr>\n",
       "  </tbody>\n",
       "</table>\n",
       "</div>"
      ],
      "text/plain": [
       "    BusinessEntityID                                Name  SalesPersonID  \\\n",
       "0                292                Next-Door Bike Store            279   \n",
       "9                310                   New Bikes Company            279   \n",
       "17               326           Worthwhile Activity Store            279   \n",
       "21               334                        Global Plaza            279   \n",
       "24               340                     eCommerce Bikes            279   \n",
       "30               352                  Tiny Bike Boutique            279   \n",
       "31               354           Acclaimed Bicycle Company            279   \n",
       "35               362  Distinctive Cycles Sales & Service            279   \n",
       "36               364           Leading Bike Distributors            279   \n",
       "37               366                     Activity Center            279   \n",
       "\n",
       "                                         Demographics  \\\n",
       "0   <StoreSurvey xmlns=\"http://schemas.microsoft.c...   \n",
       "9   <StoreSurvey xmlns=\"http://schemas.microsoft.c...   \n",
       "17  <StoreSurvey xmlns=\"http://schemas.microsoft.c...   \n",
       "21  <StoreSurvey xmlns=\"http://schemas.microsoft.c...   \n",
       "24  <StoreSurvey xmlns=\"http://schemas.microsoft.c...   \n",
       "30  <StoreSurvey xmlns=\"http://schemas.microsoft.c...   \n",
       "31  <StoreSurvey xmlns=\"http://schemas.microsoft.c...   \n",
       "35  <StoreSurvey xmlns=\"http://schemas.microsoft.c...   \n",
       "36  <StoreSurvey xmlns=\"http://schemas.microsoft.c...   \n",
       "37  <StoreSurvey xmlns=\"http://schemas.microsoft.c...   \n",
       "\n",
       "                                              rowguid  \\\n",
       "0   A\">2<2A5n17nEu3a-lS8a4l8eDs>-48E0B0E0-0B09<D/A...   \n",
       "9   4\"7>E<4ABn6nBuDal-S5aCleDs1>-1450A030-A002<3/1...   \n",
       "17  B\">A<DA6n3n7u1a7l-S9a9leBsD>-340508010-801<6/A...   \n",
       "21  9\"A><1AE9n1nDua8l-S5a0l9esB>-48D009060-B0D</7A...   \n",
       "24  1\"E>C<A47n8n2u3a-l4SaBl3e9s->43600090-0A0A0E<C...   \n",
       "30  1\"D><6A5nDnDu5aAlS-Aal7eCs8>-340A0C010-0A<2/BA...   \n",
       "31  E\"7>1<ACn5n9uCa-lSBa2l2e8s>-4390F020-0A0C0C<2/...   \n",
       "35  7\"E>5<DAnAn4uCa4l-S2a3leBs4>-430B0D020-8003<7/...   \n",
       "36  0\"C><0AB9n5nFuDal-S1a9l3e4s>-48D00D090-B0C<1/A...   \n",
       "37  F\"5>7<9AEn6n0u4a-lBS6al0e2s->41D56070-0A0B08<8...   \n",
       "\n",
       "                        ModifiedDate  \n",
       "0   ve1n2u/0e9>/820001040 <1/1A:1n5n  \n",
       "9   e1ve2n/0u9e/>21051040 0101<:1/5A  \n",
       "17  ve1n2u/0e9>/320001040 <1/1A:1n5n  \n",
       "21  ve1n2u/0e9>/820001040 <1/1A:1n5n  \n",
       "24  e1ve2n/0u9e/>23001040 0101<:1/5A  \n",
       "30  ve1n2u/0e9>/320001040 <1/1A:1n5n  \n",
       "31  e1ve2n/0u9e/>23001040 0101<:1/5A  \n",
       "35  e1ve2n/0u9e/>23001040 1001<:1/5A  \n",
       "36  ve1n2u/0e9>/820001040 <1/1A:1n5n  \n",
       "37  e1ve2n/0u9e/>21051040 0101<:1/5A  "
      ]
     },
     "execution_count": 8,
     "metadata": {},
     "output_type": "execute_result"
    }
   ],
   "source": [
    "#pdf_tabel[0][pdf_tabel[0].SalesPersonID == 279]"
   ]
  },
  {
   "cell_type": "markdown",
   "metadata": {},
   "source": [
    "#### Logical Expression"
   ]
  },
  {
   "cell_type": "code",
   "execution_count": 19,
   "metadata": {},
   "outputs": [
    {
     "data": {
      "text/html": [
       "<div>\n",
       "<style scoped>\n",
       "    .dataframe tbody tr th:only-of-type {\n",
       "        vertical-align: middle;\n",
       "    }\n",
       "\n",
       "    .dataframe tbody tr th {\n",
       "        vertical-align: top;\n",
       "    }\n",
       "\n",
       "    .dataframe thead th {\n",
       "        text-align: right;\n",
       "    }\n",
       "</style>\n",
       "<table border=\"1\" class=\"dataframe\">\n",
       "  <thead>\n",
       "    <tr style=\"text-align: right;\">\n",
       "      <th></th>\n",
       "      <th>BusinessEntityID</th>\n",
       "      <th>Name</th>\n",
       "      <th>SalesPersonID</th>\n",
       "      <th>Demographics</th>\n",
       "      <th>rowguid</th>\n",
       "      <th>ModifiedDate</th>\n",
       "    </tr>\n",
       "  </thead>\n",
       "  <tbody>\n",
       "    <tr>\n",
       "      <th>0</th>\n",
       "      <td>292</td>\n",
       "      <td>Next-Door Bike Store</td>\n",
       "      <td>279</td>\n",
       "      <td>&lt;StoreSurvey xmlns=\"http://schemas.microsoft.c...</td>\n",
       "      <td>A\"&gt;2&lt;2A5n17nEu3a-lS8a4l8eDs&gt;-48E0B0E0-0B09&lt;D/A...</td>\n",
       "      <td>ve1n2u/0e9&gt;/820001040 &lt;1/1A:1n5n</td>\n",
       "    </tr>\n",
       "    <tr>\n",
       "      <th>17</th>\n",
       "      <td>326</td>\n",
       "      <td>Worthwhile Activity Store</td>\n",
       "      <td>279</td>\n",
       "      <td>&lt;StoreSurvey xmlns=\"http://schemas.microsoft.c...</td>\n",
       "      <td>B\"&gt;A&lt;DA6n3n7u1a7l-S9a9leBsD&gt;-340508010-801&lt;6/A...</td>\n",
       "      <td>ve1n2u/0e9&gt;/320001040 &lt;1/1A:1n5n</td>\n",
       "    </tr>\n",
       "  </tbody>\n",
       "</table>\n",
       "</div>"
      ],
      "text/plain": [
       "    BusinessEntityID                       Name  SalesPersonID  \\\n",
       "0                292       Next-Door Bike Store            279   \n",
       "17               326  Worthwhile Activity Store            279   \n",
       "\n",
       "                                         Demographics  \\\n",
       "0   <StoreSurvey xmlns=\"http://schemas.microsoft.c...   \n",
       "17  <StoreSurvey xmlns=\"http://schemas.microsoft.c...   \n",
       "\n",
       "                                              rowguid  \\\n",
       "0   A\">2<2A5n17nEu3a-lS8a4l8eDs>-48E0B0E0-0B09<D/A...   \n",
       "17  B\">A<DA6n3n7u1a7l-S9a9leBsD>-340508010-801<6/A...   \n",
       "\n",
       "                        ModifiedDate  \n",
       "0   ve1n2u/0e9>/820001040 <1/1A:1n5n  \n",
       "17  ve1n2u/0e9>/320001040 <1/1A:1n5n  "
      ]
     },
     "execution_count": 19,
     "metadata": {},
     "output_type": "execute_result"
    }
   ],
   "source": [
    "#pdf_tabel[0][(pdf_tabel[0].SalesPersonID == 279) & (pdf_tabel[0].Name.str.contains('Store'))]"
   ]
  },
  {
   "cell_type": "code",
   "execution_count": null,
   "metadata": {},
   "outputs": [],
   "source": []
  },
  {
   "cell_type": "markdown",
   "metadata": {},
   "source": [
    "## Kenapa?"
   ]
  },
  {
   "cell_type": "markdown",
   "metadata": {},
   "source": [
    "<img src=\"saklar_lampu.jpg\" width=\"500\" style=\"display:block;margin:auto;\">"
   ]
  },
  {
   "cell_type": "markdown",
   "metadata": {},
   "source": [
    "- Pada dasarnya komputer cuma kumpulan saklar saja. Hanya tahu on/off.\n",
    "- Dunia nyata juga banyak bergantung pada konsep <strong>benar/salah</strong>. (Contoh: bajet diterima/tidak, jadi beli/tidak, ikut kursus/tidak).\n",
    "- Untuk tahu benar/salah, kita butuh pembanding. Pembanding antara satu hal (yang belum diketahui benar/salah) ke hal lain (yang sudah diketahui). Komputer menggunakan <strong>Boolean Expressions</strong> untuk membandingkan dua hal itu.\n",
    "- Dalam dunia nyata, boleh jadi bukan hanya satu kondisi saja yang terjadi, tapi dua, tiga, atau banyak kondisi. Misalnya:\n",
    "- - kondisi 1: datang terlambat\n",
    "- - kondisi 2: seragam tidak lengkap\n",
    "- Kalau dua kondisi itu terjadi, barulah si pegawai dapat predikat tidak disiplin.\n",
    "- Untuk lebih dari satu kondisi, kita membutuhkan <strong>Logical Operators</strong>\n",
    "- Setelah tahu benar/salah, kita akan melakukan/tidak melakukan sesuatu. Contohnya: marah terhadap ketidakadilan &#x1F600;. Di komputer, keputusan melakukan/tidak melakukan sesuatu dilakukan oleh <strong>Conditional Statements</strong>."
   ]
  },
  {
   "cell_type": "markdown",
   "metadata": {},
   "source": [
    "## PR Pekan Lalu"
   ]
  },
  {
   "cell_type": "markdown",
   "metadata": {},
   "source": [
    "### Pertama"
   ]
  },
  {
   "cell_type": "code",
   "execution_count": 9,
   "metadata": {
    "execution": {
     "iopub.execute_input": "2025-01-11T03:29:02.885778Z",
     "iopub.status.busy": "2025-01-11T03:29:02.884780Z",
     "iopub.status.idle": "2025-01-11T03:29:02.898627Z",
     "shell.execute_reply": "2025-01-11T03:29:02.896617Z",
     "shell.execute_reply.started": "2025-01-11T03:29:02.885778Z"
    }
   },
   "outputs": [
    {
     "ename": "SyntaxError",
     "evalue": "illegal target for annotation (3635493314.py, line 1)",
     "output_type": "error",
     "traceback": [
      "\u001b[1;36m  Cell \u001b[1;32mIn[9], line 1\u001b[1;36m\u001b[0m\n\u001b[1;33m    6:2(1+2)\u001b[0m\n\u001b[1;37m    ^\u001b[0m\n\u001b[1;31mSyntaxError\u001b[0m\u001b[1;31m:\u001b[0m illegal target for annotation\n"
     ]
    }
   ],
   "source": [
    "6:2(1+2)"
   ]
  },
  {
   "cell_type": "code",
   "execution_count": 10,
   "metadata": {
    "execution": {
     "iopub.execute_input": "2025-01-11T03:29:53.760688Z",
     "iopub.status.busy": "2025-01-11T03:29:53.759677Z",
     "iopub.status.idle": "2025-01-11T03:29:53.776335Z",
     "shell.execute_reply": "2025-01-11T03:29:53.774318Z",
     "shell.execute_reply.started": "2025-01-11T03:29:53.760688Z"
    }
   },
   "outputs": [
    {
     "data": {
      "text/plain": [
       "9.0"
      ]
     },
     "execution_count": 10,
     "metadata": {},
     "output_type": "execute_result"
    }
   ],
   "source": [
    "6/2*(1+2)"
   ]
  },
  {
   "cell_type": "markdown",
   "metadata": {},
   "source": [
    "### Kedua"
   ]
  },
  {
   "cell_type": "code",
   "execution_count": 11,
   "metadata": {
    "execution": {
     "iopub.execute_input": "2025-01-11T03:30:21.555897Z",
     "iopub.status.busy": "2025-01-11T03:30:21.554898Z",
     "iopub.status.idle": "2025-01-11T03:30:21.564804Z",
     "shell.execute_reply": "2025-01-11T03:30:21.563791Z",
     "shell.execute_reply.started": "2025-01-11T03:30:21.555897Z"
    }
   },
   "outputs": [
    {
     "data": {
      "text/plain": [
       "str"
      ]
     },
     "execution_count": 11,
     "metadata": {},
     "output_type": "execute_result"
    }
   ],
   "source": [
    "type('2 pi')"
   ]
  },
  {
   "cell_type": "markdown",
   "metadata": {},
   "source": [
    "Kalau ingin phi beneran, bisa menggunakan <strong>math.pi</strong>."
   ]
  },
  {
   "cell_type": "code",
   "execution_count": 12,
   "metadata": {
    "execution": {
     "iopub.execute_input": "2025-01-11T03:31:24.086631Z",
     "iopub.status.busy": "2025-01-11T03:31:24.085634Z",
     "iopub.status.idle": "2025-01-11T03:31:24.091687Z",
     "shell.execute_reply": "2025-01-11T03:31:24.090675Z",
     "shell.execute_reply.started": "2025-01-11T03:31:24.086631Z"
    }
   },
   "outputs": [],
   "source": [
    "import math"
   ]
  },
  {
   "cell_type": "code",
   "execution_count": 13,
   "metadata": {
    "execution": {
     "iopub.execute_input": "2025-01-11T03:31:49.268660Z",
     "iopub.status.busy": "2025-01-11T03:31:49.267149Z",
     "iopub.status.idle": "2025-01-11T03:31:49.277999Z",
     "shell.execute_reply": "2025-01-11T03:31:49.275541Z",
     "shell.execute_reply.started": "2025-01-11T03:31:49.268660Z"
    }
   },
   "outputs": [
    {
     "name": "stdout",
     "output_type": "stream",
     "text": [
      "3.141592653589793\n"
     ]
    }
   ],
   "source": [
    "print(math.pi)"
   ]
  },
  {
   "cell_type": "code",
   "execution_count": 14,
   "metadata": {
    "execution": {
     "iopub.execute_input": "2025-01-11T03:32:16.231847Z",
     "iopub.status.busy": "2025-01-11T03:32:16.230849Z",
     "iopub.status.idle": "2025-01-11T03:32:16.239339Z",
     "shell.execute_reply": "2025-01-11T03:32:16.237818Z",
     "shell.execute_reply.started": "2025-01-11T03:32:16.231847Z"
    }
   },
   "outputs": [
    {
     "name": "stdout",
     "output_type": "stream",
     "text": [
      "6.283185307179586\n"
     ]
    }
   ],
   "source": [
    "print(2*math.pi)"
   ]
  },
  {
   "cell_type": "markdown",
   "metadata": {},
   "source": [
    "## Boolean Expression"
   ]
  },
  {
   "cell_type": "markdown",
   "metadata": {},
   "source": [
    "- True\n",
    "- False\n",
    "- == (dua sama dengan)\n",
    "- != (tidak sama dengan)\n",
    "- &gt;\n",
    "- &gt;= (lebih besar dari atau sama dengan)\n",
    "- <\n",
    "- <= (lebih kecil dari atau sama dengan)"
   ]
  },
  {
   "cell_type": "markdown",
   "metadata": {},
   "source": [
    "<strong>True/False</strong>\n",
    "Adalah output dari perbandingan di atas."
   ]
  },
  {
   "cell_type": "code",
   "execution_count": 15,
   "metadata": {
    "execution": {
     "iopub.execute_input": "2025-01-11T03:33:54.805229Z",
     "iopub.status.busy": "2025-01-11T03:33:54.803923Z",
     "iopub.status.idle": "2025-01-11T03:33:54.814917Z",
     "shell.execute_reply": "2025-01-11T03:33:54.813789Z",
     "shell.execute_reply.started": "2025-01-11T03:33:54.805229Z"
    }
   },
   "outputs": [
    {
     "data": {
      "text/plain": [
       "True"
      ]
     },
     "execution_count": 15,
     "metadata": {},
     "output_type": "execute_result"
    }
   ],
   "source": [
    " True == True"
   ]
  },
  {
   "cell_type": "code",
   "execution_count": 18,
   "metadata": {
    "execution": {
     "iopub.execute_input": "2025-01-11T03:36:19.841625Z",
     "iopub.status.busy": "2025-01-11T03:36:19.839627Z",
     "iopub.status.idle": "2025-01-11T03:36:19.850927Z",
     "shell.execute_reply": "2025-01-11T03:36:19.849915Z",
     "shell.execute_reply.started": "2025-01-11T03:36:19.841625Z"
    }
   },
   "outputs": [
    {
     "data": {
      "text/plain": [
       "True"
      ]
     },
     "execution_count": 18,
     "metadata": {},
     "output_type": "execute_result"
    }
   ],
   "source": [
    "True == 1"
   ]
  },
  {
   "cell_type": "code",
   "execution_count": 19,
   "metadata": {
    "execution": {
     "iopub.execute_input": "2025-01-11T03:36:34.358775Z",
     "iopub.status.busy": "2025-01-11T03:36:34.358717Z",
     "iopub.status.idle": "2025-01-11T03:36:34.369606Z",
     "shell.execute_reply": "2025-01-11T03:36:34.367551Z",
     "shell.execute_reply.started": "2025-01-11T03:36:34.358775Z"
    }
   },
   "outputs": [
    {
     "data": {
      "text/plain": [
       "True"
      ]
     },
     "execution_count": 19,
     "metadata": {},
     "output_type": "execute_result"
    }
   ],
   "source": [
    "False == 0"
   ]
  },
  {
   "cell_type": "code",
   "execution_count": 20,
   "metadata": {
    "execution": {
     "iopub.execute_input": "2025-01-11T03:36:56.568641Z",
     "iopub.status.busy": "2025-01-11T03:36:56.566635Z",
     "iopub.status.idle": "2025-01-11T03:36:56.581522Z",
     "shell.execute_reply": "2025-01-11T03:36:56.579502Z",
     "shell.execute_reply.started": "2025-01-11T03:36:56.568641Z"
    }
   },
   "outputs": [
    {
     "data": {
      "text/plain": [
       "True"
      ]
     },
     "execution_count": 20,
     "metadata": {},
     "output_type": "execute_result"
    }
   ],
   "source": [
    "10 == 10"
   ]
  },
  {
   "cell_type": "code",
   "execution_count": 21,
   "metadata": {
    "execution": {
     "iopub.execute_input": "2025-01-11T03:37:47.650044Z",
     "iopub.status.busy": "2025-01-11T03:37:47.649030Z",
     "iopub.status.idle": "2025-01-11T03:37:47.659089Z",
     "shell.execute_reply": "2025-01-11T03:37:47.657568Z",
     "shell.execute_reply.started": "2025-01-11T03:37:47.650044Z"
    }
   },
   "outputs": [
    {
     "data": {
      "text/plain": [
       "True"
      ]
     },
     "execution_count": 21,
     "metadata": {},
     "output_type": "execute_result"
    }
   ],
   "source": [
    "10 != 9 # <>"
   ]
  },
  {
   "cell_type": "code",
   "execution_count": 22,
   "metadata": {
    "execution": {
     "iopub.execute_input": "2025-01-11T03:38:07.064371Z",
     "iopub.status.busy": "2025-01-11T03:38:07.062864Z",
     "iopub.status.idle": "2025-01-11T03:38:07.075049Z",
     "shell.execute_reply": "2025-01-11T03:38:07.072833Z",
     "shell.execute_reply.started": "2025-01-11T03:38:07.064371Z"
    }
   },
   "outputs": [
    {
     "data": {
      "text/plain": [
       "False"
      ]
     },
     "execution_count": 22,
     "metadata": {},
     "output_type": "execute_result"
    }
   ],
   "source": [
    "10 == 9"
   ]
  },
  {
   "cell_type": "code",
   "execution_count": 23,
   "metadata": {
    "execution": {
     "iopub.execute_input": "2025-01-11T03:38:24.224195Z",
     "iopub.status.busy": "2025-01-11T03:38:24.222682Z",
     "iopub.status.idle": "2025-01-11T03:38:24.235266Z",
     "shell.execute_reply": "2025-01-11T03:38:24.234251Z",
     "shell.execute_reply.started": "2025-01-11T03:38:24.224195Z"
    }
   },
   "outputs": [
    {
     "data": {
      "text/plain": [
       "False"
      ]
     },
     "execution_count": 23,
     "metadata": {},
     "output_type": "execute_result"
    }
   ],
   "source": [
    "'10' == 'sepuluh'"
   ]
  },
  {
   "cell_type": "code",
   "execution_count": 24,
   "metadata": {
    "execution": {
     "iopub.execute_input": "2025-01-11T03:38:35.112285Z",
     "iopub.status.busy": "2025-01-11T03:38:35.111282Z",
     "iopub.status.idle": "2025-01-11T03:38:35.122859Z",
     "shell.execute_reply": "2025-01-11T03:38:35.121843Z",
     "shell.execute_reply.started": "2025-01-11T03:38:35.112285Z"
    }
   },
   "outputs": [
    {
     "data": {
      "text/plain": [
       "True"
      ]
     },
     "execution_count": 24,
     "metadata": {},
     "output_type": "execute_result"
    }
   ],
   "source": [
    "'10' == '10'"
   ]
  },
  {
   "cell_type": "code",
   "execution_count": 26,
   "metadata": {
    "execution": {
     "iopub.execute_input": "2025-01-11T03:40:10.668993Z",
     "iopub.status.busy": "2025-01-11T03:40:10.667485Z",
     "iopub.status.idle": "2025-01-11T03:40:10.681064Z",
     "shell.execute_reply": "2025-01-11T03:40:10.679152Z",
     "shell.execute_reply.started": "2025-01-11T03:40:10.668993Z"
    }
   },
   "outputs": [
    {
     "data": {
      "text/plain": [
       "False"
      ]
     },
     "execution_count": 26,
     "metadata": {},
     "output_type": "execute_result"
    }
   ],
   "source": [
    "'10' == '10 ' # Excel TRIM"
   ]
  },
  {
   "cell_type": "code",
   "execution_count": 27,
   "metadata": {
    "execution": {
     "iopub.execute_input": "2025-01-11T03:40:33.695998Z",
     "iopub.status.busy": "2025-01-11T03:40:33.693896Z",
     "iopub.status.idle": "2025-01-11T03:40:33.707254Z",
     "shell.execute_reply": "2025-01-11T03:40:33.705346Z",
     "shell.execute_reply.started": "2025-01-11T03:40:33.695998Z"
    }
   },
   "outputs": [
    {
     "data": {
      "text/plain": [
       "False"
      ]
     },
     "execution_count": 27,
     "metadata": {},
     "output_type": "execute_result"
    }
   ],
   "source": [
    "10 > 10"
   ]
  },
  {
   "cell_type": "code",
   "execution_count": 30,
   "metadata": {
    "execution": {
     "iopub.execute_input": "2025-01-11T03:42:28.105545Z",
     "iopub.status.busy": "2025-01-11T03:42:28.105545Z",
     "iopub.status.idle": "2025-01-11T03:42:28.113882Z",
     "shell.execute_reply": "2025-01-11T03:42:28.112356Z",
     "shell.execute_reply.started": "2025-01-11T03:42:28.105545Z"
    }
   },
   "outputs": [
    {
     "data": {
      "text/plain": [
       "True"
      ]
     },
     "execution_count": 30,
     "metadata": {},
     "output_type": "execute_result"
    }
   ],
   "source": [
    "10 >= 10\n",
    "# 10 > 10: False\n",
    "# 10 == 10: True\n",
    "# karena salah 1 benar, maka True\n",
    "# OR, AND, NOT"
   ]
  },
  {
   "cell_type": "code",
   "execution_count": 31,
   "metadata": {
    "execution": {
     "iopub.execute_input": "2025-01-11T03:42:43.613794Z",
     "iopub.status.busy": "2025-01-11T03:42:43.612797Z",
     "iopub.status.idle": "2025-01-11T03:42:43.625189Z",
     "shell.execute_reply": "2025-01-11T03:42:43.623019Z",
     "shell.execute_reply.started": "2025-01-11T03:42:43.613794Z"
    }
   },
   "outputs": [
    {
     "data": {
      "text/plain": [
       "True"
      ]
     },
     "execution_count": 31,
     "metadata": {},
     "output_type": "execute_result"
    }
   ],
   "source": [
    "10 <= 11"
   ]
  },
  {
   "cell_type": "code",
   "execution_count": 17,
   "metadata": {
    "execution": {
     "iopub.execute_input": "2025-01-11T03:35:02.832904Z",
     "iopub.status.busy": "2025-01-11T03:35:02.831905Z",
     "iopub.status.idle": "2025-01-11T03:35:02.840957Z",
     "shell.execute_reply": "2025-01-11T03:35:02.838941Z",
     "shell.execute_reply.started": "2025-01-11T03:35:02.832904Z"
    }
   },
   "outputs": [],
   "source": [
    "#variabel <- 'halo dunia'\n",
    "#variabel = 'halo dunia'"
   ]
  },
  {
   "cell_type": "code",
   "execution_count": null,
   "metadata": {},
   "outputs": [],
   "source": [
    "variabel1 = 10\n",
    "variabel2 = 'halo dunia'"
   ]
  },
  {
   "cell_type": "markdown",
   "metadata": {},
   "source": [
    "### Coba Sendiri"
   ]
  },
  {
   "cell_type": "code",
   "execution_count": 32,
   "metadata": {
    "execution": {
     "iopub.execute_input": "2025-01-11T03:47:01.529028Z",
     "iopub.status.busy": "2025-01-11T03:47:01.527465Z",
     "iopub.status.idle": "2025-01-11T03:47:01.540629Z",
     "shell.execute_reply": "2025-01-11T03:47:01.539572Z",
     "shell.execute_reply.started": "2025-01-11T03:47:01.529028Z"
    }
   },
   "outputs": [
    {
     "data": {
      "text/plain": [
       "True"
      ]
     },
     "execution_count": 32,
     "metadata": {},
     "output_type": "execute_result"
    }
   ],
   "source": [
    "'halo dunia' == \"halo dunia\""
   ]
  },
  {
   "cell_type": "code",
   "execution_count": 33,
   "metadata": {
    "execution": {
     "iopub.execute_input": "2025-01-11T03:47:16.283832Z",
     "iopub.status.busy": "2025-01-11T03:47:16.282832Z",
     "iopub.status.idle": "2025-01-11T03:47:16.294905Z",
     "shell.execute_reply": "2025-01-11T03:47:16.292876Z",
     "shell.execute_reply.started": "2025-01-11T03:47:16.283832Z"
    }
   },
   "outputs": [
    {
     "data": {
      "text/plain": [
       "False"
      ]
     },
     "execution_count": 33,
     "metadata": {},
     "output_type": "execute_result"
    }
   ],
   "source": [
    "9.11 > 9.90"
   ]
  },
  {
   "cell_type": "code",
   "execution_count": 34,
   "metadata": {
    "execution": {
     "iopub.execute_input": "2025-01-11T03:49:55.977336Z",
     "iopub.status.busy": "2025-01-11T03:49:55.975569Z",
     "iopub.status.idle": "2025-01-11T03:49:55.991820Z",
     "shell.execute_reply": "2025-01-11T03:49:55.989617Z",
     "shell.execute_reply.started": "2025-01-11T03:49:55.977336Z"
    }
   },
   "outputs": [
    {
     "data": {
      "text/plain": [
       "True"
      ]
     },
     "execution_count": 34,
     "metadata": {},
     "output_type": "execute_result"
    }
   ],
   "source": [
    "11 > 9"
   ]
  },
  {
   "cell_type": "markdown",
   "metadata": {},
   "source": [
    "## Logical Expression"
   ]
  },
  {
   "cell_type": "markdown",
   "metadata": {},
   "source": [
    "- and\n",
    "- or\n",
    "- not"
   ]
  },
  {
   "cell_type": "markdown",
   "metadata": {},
   "source": [
    "### and\n",
    "- True and True = True\n",
    "- False and False = False\n",
    "- True and False = False\n",
    "<br><br> <strong>Sisi kiri dan kanan kata and harus True, kalau mau hasilnya True</strong>"
   ]
  },
  {
   "cell_type": "code",
   "execution_count": 35,
   "metadata": {
    "execution": {
     "iopub.execute_input": "2025-01-11T03:51:47.487048Z",
     "iopub.status.busy": "2025-01-11T03:51:47.485045Z",
     "iopub.status.idle": "2025-01-11T03:51:47.498165Z",
     "shell.execute_reply": "2025-01-11T03:51:47.496140Z",
     "shell.execute_reply.started": "2025-01-11T03:51:47.487048Z"
    }
   },
   "outputs": [
    {
     "data": {
      "text/plain": [
       "True"
      ]
     },
     "execution_count": 35,
     "metadata": {},
     "output_type": "execute_result"
    }
   ],
   "source": [
    "True and True"
   ]
  },
  {
   "cell_type": "code",
   "execution_count": 36,
   "metadata": {
    "execution": {
     "iopub.execute_input": "2025-01-11T03:51:59.456963Z",
     "iopub.status.busy": "2025-01-11T03:51:59.455951Z",
     "iopub.status.idle": "2025-01-11T03:51:59.467546Z",
     "shell.execute_reply": "2025-01-11T03:51:59.465788Z",
     "shell.execute_reply.started": "2025-01-11T03:51:59.456963Z"
    }
   },
   "outputs": [
    {
     "data": {
      "text/plain": [
       "True"
      ]
     },
     "execution_count": 36,
     "metadata": {},
     "output_type": "execute_result"
    }
   ],
   "source": [
    "True & True"
   ]
  },
  {
   "cell_type": "code",
   "execution_count": 37,
   "metadata": {
    "execution": {
     "iopub.execute_input": "2025-01-11T03:52:08.587661Z",
     "iopub.status.busy": "2025-01-11T03:52:08.585662Z",
     "iopub.status.idle": "2025-01-11T03:52:08.604450Z",
     "shell.execute_reply": "2025-01-11T03:52:08.601870Z",
     "shell.execute_reply.started": "2025-01-11T03:52:08.587661Z"
    }
   },
   "outputs": [
    {
     "data": {
      "text/plain": [
       "False"
      ]
     },
     "execution_count": 37,
     "metadata": {},
     "output_type": "execute_result"
    }
   ],
   "source": [
    "True and False"
   ]
  },
  {
   "cell_type": "code",
   "execution_count": 38,
   "metadata": {
    "execution": {
     "iopub.execute_input": "2025-01-11T03:52:18.519167Z",
     "iopub.status.busy": "2025-01-11T03:52:18.517166Z",
     "iopub.status.idle": "2025-01-11T03:52:18.534992Z",
     "shell.execute_reply": "2025-01-11T03:52:18.531445Z",
     "shell.execute_reply.started": "2025-01-11T03:52:18.518168Z"
    }
   },
   "outputs": [
    {
     "data": {
      "text/plain": [
       "False"
      ]
     },
     "execution_count": 38,
     "metadata": {},
     "output_type": "execute_result"
    }
   ],
   "source": [
    "True & False"
   ]
  },
  {
   "cell_type": "code",
   "execution_count": 39,
   "metadata": {
    "execution": {
     "iopub.execute_input": "2025-01-11T03:52:30.055135Z",
     "iopub.status.busy": "2025-01-11T03:52:30.052604Z",
     "iopub.status.idle": "2025-01-11T03:52:30.074171Z",
     "shell.execute_reply": "2025-01-11T03:52:30.070722Z",
     "shell.execute_reply.started": "2025-01-11T03:52:30.055135Z"
    }
   },
   "outputs": [
    {
     "data": {
      "text/plain": [
       "False"
      ]
     },
     "execution_count": 39,
     "metadata": {},
     "output_type": "execute_result"
    }
   ],
   "source": [
    "(True) and (False)"
   ]
  },
  {
   "cell_type": "code",
   "execution_count": 40,
   "metadata": {
    "execution": {
     "iopub.execute_input": "2025-01-11T03:52:53.740540Z",
     "iopub.status.busy": "2025-01-11T03:52:53.739525Z",
     "iopub.status.idle": "2025-01-11T03:52:53.754016Z",
     "shell.execute_reply": "2025-01-11T03:52:53.752484Z",
     "shell.execute_reply.started": "2025-01-11T03:52:53.740540Z"
    }
   },
   "outputs": [
    {
     "data": {
      "text/plain": [
       "True"
      ]
     },
     "execution_count": 40,
     "metadata": {},
     "output_type": "execute_result"
    }
   ],
   "source": [
    "(1 < 10) and (1 > 0)"
   ]
  },
  {
   "cell_type": "code",
   "execution_count": 41,
   "metadata": {
    "execution": {
     "iopub.execute_input": "2025-01-11T03:53:08.770946Z",
     "iopub.status.busy": "2025-01-11T03:53:08.769926Z",
     "iopub.status.idle": "2025-01-11T03:53:08.783982Z",
     "shell.execute_reply": "2025-01-11T03:53:08.781459Z",
     "shell.execute_reply.started": "2025-01-11T03:53:08.770946Z"
    }
   },
   "outputs": [
    {
     "data": {
      "text/plain": [
       "True"
      ]
     },
     "execution_count": 41,
     "metadata": {},
     "output_type": "execute_result"
    }
   ],
   "source": [
    "(1 < 10)"
   ]
  },
  {
   "cell_type": "code",
   "execution_count": 42,
   "metadata": {
    "execution": {
     "iopub.execute_input": "2025-01-11T03:53:23.314929Z",
     "iopub.status.busy": "2025-01-11T03:53:23.313408Z",
     "iopub.status.idle": "2025-01-11T03:53:23.325847Z",
     "shell.execute_reply": "2025-01-11T03:53:23.324316Z",
     "shell.execute_reply.started": "2025-01-11T03:53:23.314929Z"
    }
   },
   "outputs": [
    {
     "data": {
      "text/plain": [
       "True"
      ]
     },
     "execution_count": 42,
     "metadata": {},
     "output_type": "execute_result"
    }
   ],
   "source": [
    "(1 > 0)"
   ]
  },
  {
   "cell_type": "code",
   "execution_count": 46,
   "metadata": {
    "execution": {
     "iopub.execute_input": "2025-01-11T03:55:52.830734Z",
     "iopub.status.busy": "2025-01-11T03:55:52.829208Z",
     "iopub.status.idle": "2025-01-11T03:55:52.844623Z",
     "shell.execute_reply": "2025-01-11T03:55:52.840032Z",
     "shell.execute_reply.started": "2025-01-11T03:55:52.830734Z"
    }
   },
   "outputs": [],
   "source": [
    "cuaca = 'hujan'\n",
    "hari = 'libur'"
   ]
  },
  {
   "cell_type": "code",
   "execution_count": 48,
   "metadata": {
    "execution": {
     "iopub.execute_input": "2025-01-11T03:56:10.618282Z",
     "iopub.status.busy": "2025-01-11T03:56:10.617282Z",
     "iopub.status.idle": "2025-01-11T03:56:10.629495Z",
     "shell.execute_reply": "2025-01-11T03:56:10.627470Z",
     "shell.execute_reply.started": "2025-01-11T03:56:10.618282Z"
    }
   },
   "outputs": [
    {
     "data": {
      "text/plain": [
       "True"
      ]
     },
     "execution_count": 48,
     "metadata": {},
     "output_type": "execute_result"
    }
   ],
   "source": [
    "(cuaca == 'hujan') and (hari == 'libur') # True and True: True"
   ]
  },
  {
   "cell_type": "markdown",
   "metadata": {},
   "source": [
    "#### Coba Sendiri"
   ]
  },
  {
   "cell_type": "code",
   "execution_count": 49,
   "metadata": {
    "execution": {
     "iopub.execute_input": "2025-01-11T03:59:46.424284Z",
     "iopub.status.busy": "2025-01-11T03:59:46.423274Z",
     "iopub.status.idle": "2025-01-11T03:59:46.438502Z",
     "shell.execute_reply": "2025-01-11T03:59:46.435561Z",
     "shell.execute_reply.started": "2025-01-11T03:59:46.424284Z"
    }
   },
   "outputs": [
    {
     "data": {
      "text/plain": [
       "False"
      ]
     },
     "execution_count": 49,
     "metadata": {},
     "output_type": "execute_result"
    }
   ],
   "source": [
    "(9.11 > 9.9) and ('libur '.strip() == 'libur'.strip())"
   ]
  },
  {
   "cell_type": "code",
   "execution_count": 50,
   "metadata": {
    "execution": {
     "iopub.execute_input": "2025-01-11T04:00:03.059275Z",
     "iopub.status.busy": "2025-01-11T04:00:03.057748Z",
     "iopub.status.idle": "2025-01-11T04:00:03.081097Z",
     "shell.execute_reply": "2025-01-11T04:00:03.077550Z",
     "shell.execute_reply.started": "2025-01-11T04:00:03.059275Z"
    }
   },
   "outputs": [
    {
     "data": {
      "text/plain": [
       "False"
      ]
     },
     "execution_count": 50,
     "metadata": {},
     "output_type": "execute_result"
    }
   ],
   "source": [
    "(9.11 > 9.9)"
   ]
  },
  {
   "cell_type": "code",
   "execution_count": 56,
   "metadata": {
    "execution": {
     "iopub.execute_input": "2025-01-11T04:04:47.411918Z",
     "iopub.status.busy": "2025-01-11T04:04:47.410904Z",
     "iopub.status.idle": "2025-01-11T04:04:47.427463Z",
     "shell.execute_reply": "2025-01-11T04:04:47.425416Z",
     "shell.execute_reply.started": "2025-01-11T04:04:47.411918Z"
    }
   },
   "outputs": [
    {
     "data": {
      "text/plain": [
       "False"
      ]
     },
     "execution_count": 56,
     "metadata": {},
     "output_type": "execute_result"
    }
   ],
   "source": [
    "(' libur ' == 'libur')"
   ]
  },
  {
   "cell_type": "markdown",
   "metadata": {},
   "source": [
    "### or\n",
    "- True or True = True\n",
    "- True or False = True\n",
    "- False or True = True\n",
    "- False or False = False\n",
    "<br><br><strong>Salah satu sisi True di samping kata OR, maka hasilnya True</strong>"
   ]
  },
  {
   "cell_type": "code",
   "execution_count": 59,
   "metadata": {
    "execution": {
     "iopub.execute_input": "2025-01-11T04:07:01.762283Z",
     "iopub.status.busy": "2025-01-11T04:07:01.760251Z",
     "iopub.status.idle": "2025-01-11T04:07:01.777591Z",
     "shell.execute_reply": "2025-01-11T04:07:01.774810Z",
     "shell.execute_reply.started": "2025-01-11T04:07:01.762283Z"
    }
   },
   "outputs": [
    {
     "data": {
      "text/plain": [
       "True"
      ]
     },
     "execution_count": 59,
     "metadata": {},
     "output_type": "execute_result"
    }
   ],
   "source": [
    "True or True"
   ]
  },
  {
   "cell_type": "code",
   "execution_count": 60,
   "metadata": {
    "execution": {
     "iopub.execute_input": "2025-01-11T04:07:18.779887Z",
     "iopub.status.busy": "2025-01-11T04:07:18.776374Z",
     "iopub.status.idle": "2025-01-11T04:07:18.796025Z",
     "shell.execute_reply": "2025-01-11T04:07:18.792479Z",
     "shell.execute_reply.started": "2025-01-11T04:07:18.779887Z"
    }
   },
   "outputs": [
    {
     "data": {
      "text/plain": [
       "True"
      ]
     },
     "execution_count": 60,
     "metadata": {},
     "output_type": "execute_result"
    }
   ],
   "source": [
    "False or True"
   ]
  },
  {
   "cell_type": "code",
   "execution_count": 61,
   "metadata": {
    "execution": {
     "iopub.execute_input": "2025-01-11T04:07:33.723384Z",
     "iopub.status.busy": "2025-01-11T04:07:33.720386Z",
     "iopub.status.idle": "2025-01-11T04:07:33.740761Z",
     "shell.execute_reply": "2025-01-11T04:07:33.737706Z",
     "shell.execute_reply.started": "2025-01-11T04:07:33.723384Z"
    }
   },
   "outputs": [
    {
     "data": {
      "text/plain": [
       "False"
      ]
     },
     "execution_count": 61,
     "metadata": {},
     "output_type": "execute_result"
    }
   ],
   "source": [
    "False or False"
   ]
  },
  {
   "cell_type": "code",
   "execution_count": 65,
   "metadata": {
    "execution": {
     "iopub.execute_input": "2025-01-11T04:08:39.547468Z",
     "iopub.status.busy": "2025-01-11T04:08:39.547468Z",
     "iopub.status.idle": "2025-01-11T04:08:39.557370Z",
     "shell.execute_reply": "2025-01-11T04:08:39.555341Z",
     "shell.execute_reply.started": "2025-01-11T04:08:39.547468Z"
    }
   },
   "outputs": [
    {
     "data": {
      "text/plain": [
       "False"
      ]
     },
     "execution_count": 65,
     "metadata": {},
     "output_type": "execute_result"
    }
   ],
   "source": [
    "(9.11 > 9.9) or ('libur ' == 'libur') # False or False: False"
   ]
  },
  {
   "cell_type": "code",
   "execution_count": 66,
   "metadata": {
    "execution": {
     "iopub.execute_input": "2025-01-11T04:09:23.914837Z",
     "iopub.status.busy": "2025-01-11T04:09:23.913843Z",
     "iopub.status.idle": "2025-01-11T04:09:23.926860Z",
     "shell.execute_reply": "2025-01-11T04:09:23.925843Z",
     "shell.execute_reply.started": "2025-01-11T04:09:23.914837Z"
    }
   },
   "outputs": [
    {
     "data": {
      "text/plain": [
       "True"
      ]
     },
     "execution_count": 66,
     "metadata": {},
     "output_type": "execute_result"
    }
   ],
   "source": [
    "baterai = 'penuh'\n",
    "waktu = 'senggang'\n",
    "\n",
    "(baterai == 'penuh') and (waktu == 'senggang')"
   ]
  },
  {
   "cell_type": "code",
   "execution_count": 67,
   "metadata": {
    "execution": {
     "iopub.execute_input": "2025-01-11T04:09:44.006197Z",
     "iopub.status.busy": "2025-01-11T04:09:44.003662Z",
     "iopub.status.idle": "2025-01-11T04:09:44.027932Z",
     "shell.execute_reply": "2025-01-11T04:09:44.024915Z",
     "shell.execute_reply.started": "2025-01-11T04:09:44.006197Z"
    }
   },
   "outputs": [
    {
     "data": {
      "text/plain": [
       "True"
      ]
     },
     "execution_count": 67,
     "metadata": {},
     "output_type": "execute_result"
    }
   ],
   "source": [
    "baterai = 'penuh'\n",
    "waktu = 'senggang'\n",
    "\n",
    "(baterai == 'penuh') or (waktu == 'senggang')"
   ]
  },
  {
   "cell_type": "code",
   "execution_count": 70,
   "metadata": {
    "execution": {
     "iopub.execute_input": "2025-01-11T04:11:51.148686Z",
     "iopub.status.busy": "2025-01-11T04:11:51.146684Z",
     "iopub.status.idle": "2025-01-11T04:11:51.167380Z",
     "shell.execute_reply": "2025-01-11T04:11:51.163837Z",
     "shell.execute_reply.started": "2025-01-11T04:11:51.148686Z"
    }
   },
   "outputs": [
    {
     "data": {
      "text/plain": [
       "False"
      ]
     },
     "execution_count": 70,
     "metadata": {},
     "output_type": "execute_result"
    }
   ],
   "source": [
    "warna = 'merah'\n",
    "# contoh: traffic light\n",
    "(warna == 'hijau') or (warna == 'kuning')"
   ]
  },
  {
   "cell_type": "markdown",
   "metadata": {},
   "source": [
    "#### Coba Sendiri"
   ]
  },
  {
   "cell_type": "markdown",
   "metadata": {
    "execution": {
     "iopub.execute_input": "2025-01-11T04:23:48.963936Z",
     "iopub.status.busy": "2025-01-11T04:23:48.961909Z",
     "iopub.status.idle": "2025-01-11T04:23:48.984138Z",
     "shell.execute_reply": "2025-01-11T04:23:48.980158Z",
     "shell.execute_reply.started": "2025-01-11T04:23:48.963936Z"
    }
   },
   "source": [
    "normal: 90\n",
    "<br>\n",
    "toleransi: +/-10\n",
    "<br>80\n",
    "<br>100"
   ]
  },
  {
   "cell_type": "code",
   "execution_count": 94,
   "metadata": {
    "execution": {
     "iopub.execute_input": "2025-01-11T04:26:32.323100Z",
     "iopub.status.busy": "2025-01-11T04:26:32.321083Z",
     "iopub.status.idle": "2025-01-11T04:26:32.341847Z",
     "shell.execute_reply": "2025-01-11T04:26:32.339278Z",
     "shell.execute_reply.started": "2025-01-11T04:26:32.323100Z"
    }
   },
   "outputs": [
    {
     "data": {
      "text/plain": [
       "False"
      ]
     },
     "execution_count": 94,
     "metadata": {},
     "output_type": "execute_result"
    }
   ],
   "source": [
    "hasil = 90\n",
    "# hasil hanya bisa angka bulat 10: 10, 20, \n",
    "(hasil == '90') or (hasil == '80')"
   ]
  },
  {
   "cell_type": "code",
   "execution_count": 97,
   "metadata": {
    "execution": {
     "iopub.execute_input": "2025-01-11T04:27:06.745210Z",
     "iopub.status.busy": "2025-01-11T04:27:06.743210Z",
     "iopub.status.idle": "2025-01-11T04:27:06.761604Z",
     "shell.execute_reply": "2025-01-11T04:27:06.759085Z",
     "shell.execute_reply.started": "2025-01-11T04:27:06.745210Z"
    }
   },
   "outputs": [
    {
     "data": {
      "text/plain": [
       "True"
      ]
     },
     "execution_count": 97,
     "metadata": {},
     "output_type": "execute_result"
    }
   ],
   "source": [
    "hasil = 90\n",
    "# hasil hanya bisa angka bulat 10: 10, 20, \n",
    "(hasil == 90) or (hasil == 80)"
   ]
  },
  {
   "cell_type": "code",
   "execution_count": 78,
   "metadata": {
    "execution": {
     "iopub.execute_input": "2025-01-11T04:19:37.140728Z",
     "iopub.status.busy": "2025-01-11T04:19:37.140728Z",
     "iopub.status.idle": "2025-01-11T04:19:37.151302Z",
     "shell.execute_reply": "2025-01-11T04:19:37.149772Z",
     "shell.execute_reply.started": "2025-01-11T04:19:37.140728Z"
    }
   },
   "outputs": [
    {
     "data": {
      "text/plain": [
       "True"
      ]
     },
     "execution_count": 78,
     "metadata": {},
     "output_type": "execute_result"
    }
   ],
   "source": [
    "(hasil == int('90'))"
   ]
  },
  {
   "cell_type": "code",
   "execution_count": 74,
   "metadata": {
    "execution": {
     "iopub.execute_input": "2025-01-11T04:17:47.366698Z",
     "iopub.status.busy": "2025-01-11T04:17:47.364982Z",
     "iopub.status.idle": "2025-01-11T04:17:47.379641Z",
     "shell.execute_reply": "2025-01-11T04:17:47.378108Z",
     "shell.execute_reply.started": "2025-01-11T04:17:47.366698Z"
    }
   },
   "outputs": [
    {
     "data": {
      "text/plain": [
       "(int, str)"
      ]
     },
     "execution_count": 74,
     "metadata": {},
     "output_type": "execute_result"
    }
   ],
   "source": [
    "type(hasil), type('90')"
   ]
  },
  {
   "cell_type": "code",
   "execution_count": 83,
   "metadata": {
    "execution": {
     "iopub.execute_input": "2025-01-11T04:21:54.656751Z",
     "iopub.status.busy": "2025-01-11T04:21:54.654888Z",
     "iopub.status.idle": "2025-01-11T04:21:54.672399Z",
     "shell.execute_reply": "2025-01-11T04:21:54.669840Z",
     "shell.execute_reply.started": "2025-01-11T04:21:54.656751Z"
    }
   },
   "outputs": [
    {
     "data": {
      "text/plain": [
       "160"
      ]
     },
     "execution_count": 83,
     "metadata": {},
     "output_type": "execute_result"
    }
   ],
   "source": [
    "hasil = '80'\n",
    "# kode lain\n",
    "# kode lain\n",
    "#hasil*2\n",
    "int(hasil)*2"
   ]
  },
  {
   "cell_type": "markdown",
   "metadata": {},
   "source": [
    "### not\n",
    "- negasi\n",
    "- bukan\n",
    "- penggunaan di awal 'kalimat'"
   ]
  },
  {
   "cell_type": "code",
   "execution_count": 100,
   "metadata": {
    "execution": {
     "iopub.execute_input": "2025-01-11T04:28:49.429897Z",
     "iopub.status.busy": "2025-01-11T04:28:49.428855Z",
     "iopub.status.idle": "2025-01-11T04:28:49.442478Z",
     "shell.execute_reply": "2025-01-11T04:28:49.440465Z",
     "shell.execute_reply.started": "2025-01-11T04:28:49.429897Z"
    }
   },
   "outputs": [
    {
     "data": {
      "text/plain": [
       "True"
      ]
     },
     "execution_count": 100,
     "metadata": {},
     "output_type": "execute_result"
    }
   ],
   "source": [
    "not False"
   ]
  },
  {
   "cell_type": "code",
   "execution_count": 105,
   "metadata": {
    "execution": {
     "iopub.execute_input": "2025-01-11T04:31:10.260267Z",
     "iopub.status.busy": "2025-01-11T04:31:10.257090Z",
     "iopub.status.idle": "2025-01-11T04:31:10.278645Z",
     "shell.execute_reply": "2025-01-11T04:31:10.274085Z",
     "shell.execute_reply.started": "2025-01-11T04:31:10.260267Z"
    }
   },
   "outputs": [
    {
     "data": {
      "text/plain": [
       "True"
      ]
     },
     "execution_count": 105,
     "metadata": {},
     "output_type": "execute_result"
    }
   ],
   "source": [
    "hasil = 90\n",
    "\n",
    "not (hasil == '90') or (hasil == '80')"
   ]
  },
  {
   "cell_type": "markdown",
   "metadata": {
    "execution": {
     "iopub.execute_input": "2025-01-11T04:29:58.700297Z",
     "iopub.status.busy": "2025-01-11T04:29:58.700297Z",
     "iopub.status.idle": "2025-01-11T04:29:58.716642Z",
     "shell.execute_reply": "2025-01-11T04:29:58.710163Z",
     "shell.execute_reply.started": "2025-01-11T04:29:58.700297Z"
    }
   },
   "source": [
    "negatif * negatif = positif"
   ]
  },
  {
   "cell_type": "markdown",
   "metadata": {},
   "source": [
    "### Coba Sendiri"
   ]
  },
  {
   "cell_type": "code",
   "execution_count": null,
   "metadata": {},
   "outputs": [],
   "source": []
  },
  {
   "cell_type": "markdown",
   "metadata": {},
   "source": [
    "## Conditional Statements"
   ]
  },
  {
   "cell_type": "markdown",
   "metadata": {},
   "source": [
    "Jika suatu kondisi bernilai:\n",
    "- <strong>True</strong>, maka blok statement (blok kode) di dalamnya akan <strong>dijalankan</strong>.\n",
    "- <strong>False</strong>, maka blok statement di dalamnya <strong>tidak dijalankan</strong>."
   ]
  },
  {
   "cell_type": "code",
   "execution_count": null,
   "metadata": {},
   "outputs": [],
   "source": []
  },
  {
   "cell_type": "markdown",
   "metadata": {},
   "source": [
    "### if"
   ]
  },
  {
   "cell_type": "code",
   "execution_count": 108,
   "metadata": {
    "execution": {
     "iopub.execute_input": "2025-01-11T04:32:28.020983Z",
     "iopub.status.busy": "2025-01-11T04:32:28.020029Z",
     "iopub.status.idle": "2025-01-11T04:32:28.034056Z",
     "shell.execute_reply": "2025-01-11T04:32:28.031025Z",
     "shell.execute_reply.started": "2025-01-11T04:32:28.020983Z"
    }
   },
   "outputs": [
    {
     "name": "stdout",
     "output_type": "stream",
     "text": [
      "halo dunia\n"
     ]
    }
   ],
   "source": [
    "if True: # True == True\n",
    "    print('halo dunia')"
   ]
  },
  {
   "cell_type": "code",
   "execution_count": 107,
   "metadata": {
    "execution": {
     "iopub.execute_input": "2025-01-11T04:32:17.465801Z",
     "iopub.status.busy": "2025-01-11T04:32:17.464291Z",
     "iopub.status.idle": "2025-01-11T04:32:17.473842Z",
     "shell.execute_reply": "2025-01-11T04:32:17.472831Z",
     "shell.execute_reply.started": "2025-01-11T04:32:17.465801Z"
    }
   },
   "outputs": [
    {
     "name": "stdout",
     "output_type": "stream",
     "text": [
      "halo dunia\n"
     ]
    }
   ],
   "source": [
    "if True == True:\n",
    "    print('halo dunia')"
   ]
  },
  {
   "cell_type": "code",
   "execution_count": 111,
   "metadata": {
    "execution": {
     "iopub.execute_input": "2025-01-11T04:32:58.579426Z",
     "iopub.status.busy": "2025-01-11T04:32:58.577428Z",
     "iopub.status.idle": "2025-01-11T04:32:58.588830Z",
     "shell.execute_reply": "2025-01-11T04:32:58.586808Z",
     "shell.execute_reply.started": "2025-01-11T04:32:58.579426Z"
    }
   },
   "outputs": [],
   "source": [
    "if False: # False == True: True\n",
    "    print('halo dunia lagi')"
   ]
  },
  {
   "cell_type": "code",
   "execution_count": 113,
   "metadata": {
    "execution": {
     "iopub.execute_input": "2025-01-11T04:33:53.755542Z",
     "iopub.status.busy": "2025-01-11T04:33:53.754534Z",
     "iopub.status.idle": "2025-01-11T04:33:53.763500Z",
     "shell.execute_reply": "2025-01-11T04:33:53.762488Z",
     "shell.execute_reply.started": "2025-01-11T04:33:53.755542Z"
    }
   },
   "outputs": [
    {
     "name": "stdout",
     "output_type": "stream",
     "text": [
      "halo dunia\n"
     ]
    }
   ],
   "source": [
    "if False == False: # True\n",
    "    print('halo dunia')"
   ]
  },
  {
   "cell_type": "code",
   "execution_count": 118,
   "metadata": {
    "execution": {
     "iopub.execute_input": "2025-01-11T04:35:33.634169Z",
     "iopub.status.busy": "2025-01-11T04:35:33.632166Z",
     "iopub.status.idle": "2025-01-11T04:35:33.649197Z",
     "shell.execute_reply": "2025-01-11T04:35:33.647182Z",
     "shell.execute_reply.started": "2025-01-11T04:35:33.633167Z"
    }
   },
   "outputs": [
    {
     "name": "stdout",
     "output_type": "stream",
     "text": [
      "boleh jalan\n"
     ]
    }
   ],
   "source": [
    "warna = 'hijau'\n",
    "# contoh: traffic light\n",
    "#(warna == 'hijau') or (warna == 'kuning')\n",
    "if (warna == 'hijau') or (warna == 'kuning'):\n",
    "    print('boleh jalan')"
   ]
  },
  {
   "cell_type": "code",
   "execution_count": 121,
   "metadata": {
    "execution": {
     "iopub.execute_input": "2025-01-11T04:37:12.536662Z",
     "iopub.status.busy": "2025-01-11T04:37:12.535645Z",
     "iopub.status.idle": "2025-01-11T04:37:12.549265Z",
     "shell.execute_reply": "2025-01-11T04:37:12.546249Z",
     "shell.execute_reply.started": "2025-01-11T04:37:12.536662Z"
    }
   },
   "outputs": [],
   "source": [
    "nilai = 100\n",
    "#   True       and  False: False\n",
    "if (nilai > 0) and (nilai < 100):\n",
    "    print('diterima')"
   ]
  },
  {
   "cell_type": "code",
   "execution_count": 124,
   "metadata": {
    "execution": {
     "iopub.execute_input": "2025-01-11T04:38:26.361710Z",
     "iopub.status.busy": "2025-01-11T04:38:26.361710Z",
     "iopub.status.idle": "2025-01-11T04:38:26.375566Z",
     "shell.execute_reply": "2025-01-11T04:38:26.372550Z",
     "shell.execute_reply.started": "2025-01-11T04:38:26.361710Z"
    }
   },
   "outputs": [
    {
     "name": "stdout",
     "output_type": "stream",
     "text": [
      "diterima 900\n"
     ]
    }
   ],
   "source": [
    "nilai = 90\n",
    "#   True       and  False: False\n",
    "if (nilai > 0) and (nilai < 100):\n",
    "    nilai_baru = nilai * 10\n",
    "    print('diterima', nilai_baru)"
   ]
  },
  {
   "cell_type": "markdown",
   "metadata": {},
   "source": [
    "#### Coba Sendiri"
   ]
  },
  {
   "cell_type": "code",
   "execution_count": 126,
   "metadata": {
    "execution": {
     "iopub.execute_input": "2025-01-11T04:41:24.254461Z",
     "iopub.status.busy": "2025-01-11T04:41:24.253459Z",
     "iopub.status.idle": "2025-01-11T04:41:24.266478Z",
     "shell.execute_reply": "2025-01-11T04:41:24.263918Z",
     "shell.execute_reply.started": "2025-01-11T04:41:24.254461Z"
    }
   },
   "outputs": [
    {
     "name": "stdout",
     "output_type": "stream",
     "text": [
      "main hp\n"
     ]
    }
   ],
   "source": [
    "waktu = 'senggang'\n",
    "baterai = 'tidak penuh'\n",
    "\n",
    "if (waktu == 'senggang') or (baterai == 'penuh'):\n",
    "    print('main hp')"
   ]
  },
  {
   "cell_type": "markdown",
   "metadata": {},
   "source": [
    "### else"
   ]
  },
  {
   "cell_type": "code",
   "execution_count": 131,
   "metadata": {
    "execution": {
     "iopub.execute_input": "2025-01-11T04:43:38.525925Z",
     "iopub.status.busy": "2025-01-11T04:43:38.524414Z",
     "iopub.status.idle": "2025-01-11T04:43:38.538843Z",
     "shell.execute_reply": "2025-01-11T04:43:38.536829Z",
     "shell.execute_reply.started": "2025-01-11T04:43:38.525925Z"
    }
   },
   "outputs": [
    {
     "name": "stdout",
     "output_type": "stream",
     "text": [
      "tidak diterima\n"
     ]
    }
   ],
   "source": [
    "if False:\n",
    "    print('diterima')\n",
    "else:\n",
    "    print('tidak diterima')"
   ]
  },
  {
   "cell_type": "markdown",
   "metadata": {},
   "source": [
    "#### anggap seperti kantong\n",
    "- kantong 1: diisi jika angka 0-99\n",
    "- kantong 2 (else): diisi jika angka berapapun\n"
   ]
  },
  {
   "cell_type": "code",
   "execution_count": 139,
   "metadata": {
    "execution": {
     "iopub.execute_input": "2025-01-11T04:46:38.645625Z",
     "iopub.status.busy": "2025-01-11T04:46:38.644624Z",
     "iopub.status.idle": "2025-01-11T04:46:38.657152Z",
     "shell.execute_reply": "2025-01-11T04:46:38.655625Z",
     "shell.execute_reply.started": "2025-01-11T04:46:38.645625Z"
    }
   },
   "outputs": [
    {
     "name": "stdout",
     "output_type": "stream",
     "text": [
      "tidak diterima!!!!\n"
     ]
    }
   ],
   "source": [
    "nilai = 800 # if: 1-99\n",
    "#   True       and  False: False\n",
    "if (nilai > 0) and (nilai < 100):\n",
    "    nilai_baru = nilai * 10\n",
    "    print('diterima', nilai_baru)\n",
    "else:\n",
    "    print('tidak diterima!!!!')"
   ]
  },
  {
   "cell_type": "markdown",
   "metadata": {},
   "source": [
    "#### Coba Sendiri"
   ]
  },
  {
   "cell_type": "code",
   "execution_count": 144,
   "metadata": {
    "execution": {
     "iopub.execute_input": "2025-01-11T04:49:52.147194Z",
     "iopub.status.busy": "2025-01-11T04:49:52.146177Z",
     "iopub.status.idle": "2025-01-11T04:49:52.163334Z",
     "shell.execute_reply": "2025-01-11T04:49:52.158761Z",
     "shell.execute_reply.started": "2025-01-11T04:49:52.147194Z"
    }
   },
   "outputs": [
    {
     "name": "stdout",
     "output_type": "stream",
     "text": [
      "boleh jalan\n"
     ]
    }
   ],
   "source": [
    "warna = 'hijau'\n",
    "# contoh: traffic light\n",
    "# (warna == 'hijau') or (warna == 'kuning')\n",
    "if (warna == 'hijau') or (warna == 'kuning'):\n",
    "    print('boleh jalan')\n",
    "else:\n",
    "    print('tidak boleh jalan')"
   ]
  },
  {
   "cell_type": "markdown",
   "metadata": {},
   "source": [
    "### elif"
   ]
  },
  {
   "cell_type": "code",
   "execution_count": 146,
   "metadata": {
    "execution": {
     "iopub.execute_input": "2025-01-11T04:50:34.055829Z",
     "iopub.status.busy": "2025-01-11T04:50:34.053256Z",
     "iopub.status.idle": "2025-01-11T04:50:34.070621Z",
     "shell.execute_reply": "2025-01-11T04:50:34.066601Z",
     "shell.execute_reply.started": "2025-01-11T04:50:34.055829Z"
    }
   },
   "outputs": [
    {
     "name": "stdout",
     "output_type": "stream",
     "text": [
      "halo\n"
     ]
    }
   ],
   "source": [
    "if True:\n",
    "    print('halo')\n",
    "elif True:\n",
    "    print('halo lagi')\n",
    "    "
   ]
  },
  {
   "cell_type": "code",
   "execution_count": 153,
   "metadata": {
    "execution": {
     "iopub.execute_input": "2025-01-11T04:54:18.299569Z",
     "iopub.status.busy": "2025-01-11T04:54:18.297571Z",
     "iopub.status.idle": "2025-01-11T04:54:18.316030Z",
     "shell.execute_reply": "2025-01-11T04:54:18.312498Z",
     "shell.execute_reply.started": "2025-01-11T04:54:18.299569Z"
    }
   },
   "outputs": [
    {
     "name": "stdout",
     "output_type": "stream",
     "text": [
      "tidak boleh\n"
     ]
    }
   ],
   "source": [
    "warna = 'oranye'\n",
    "\n",
    "if warna == 'hijau':\n",
    "    print('boleh jalan')\n",
    "elif warna == 'kuning':\n",
    "    print('ini boleh juga')\n",
    "else:\n",
    "    print('tidak boleh')"
   ]
  },
  {
   "cell_type": "markdown",
   "metadata": {},
   "source": [
    "#### Coba Sendiri"
   ]
  },
  {
   "cell_type": "code",
   "execution_count": 161,
   "metadata": {
    "execution": {
     "iopub.execute_input": "2025-01-11T05:01:40.429007Z",
     "iopub.status.busy": "2025-01-11T05:01:40.427012Z",
     "iopub.status.idle": "2025-01-11T05:01:40.445854Z",
     "shell.execute_reply": "2025-01-11T05:01:40.444263Z",
     "shell.execute_reply.started": "2025-01-11T05:01:40.429007Z"
    }
   },
   "outputs": [
    {
     "name": "stdout",
     "output_type": "stream",
     "text": [
      "tidak diterima\n"
     ]
    }
   ],
   "source": [
    "nilai = -5.59\n",
    "\n",
    "if nilai == 90:\n",
    "    print('diterima')\n",
    "elif (nilai >= 80) and (nilai < 90):\n",
    "    print('di bawah normal, tapi diterima')\n",
    "elif (nilai > 90):\n",
    "    print('di atas normal, diterima, tapi perlu diuji, kenapa bisa lebih dari 90')\n",
    "else:\n",
    "    print('tidak diterima')"
   ]
  },
  {
   "cell_type": "code",
   "execution_count": 158,
   "metadata": {
    "execution": {
     "iopub.execute_input": "2025-01-11T05:00:44.255686Z",
     "iopub.status.busy": "2025-01-11T05:00:44.253686Z",
     "iopub.status.idle": "2025-01-11T05:00:44.264238Z",
     "shell.execute_reply": "2025-01-11T05:00:44.263216Z",
     "shell.execute_reply.started": "2025-01-11T05:00:44.254685Z"
    }
   },
   "outputs": [
    {
     "name": "stdout",
     "output_type": "stream",
     "text": [
      "diterima\n"
     ]
    }
   ],
   "source": [
    "nilai = 80\n",
    "if (nilai >= 80) and (nilai <= 100):\n",
    "    print('diterima')"
   ]
  },
  {
   "cell_type": "markdown",
   "metadata": {},
   "source": [
    "### if bercabang (nested if)"
   ]
  },
  {
   "cell_type": "code",
   "execution_count": 164,
   "metadata": {
    "execution": {
     "iopub.execute_input": "2025-01-11T05:02:31.282820Z",
     "iopub.status.busy": "2025-01-11T05:02:31.281820Z",
     "iopub.status.idle": "2025-01-11T05:02:31.292883Z",
     "shell.execute_reply": "2025-01-11T05:02:31.290870Z",
     "shell.execute_reply.started": "2025-01-11T05:02:31.282820Z"
    }
   },
   "outputs": [
    {
     "name": "stdout",
     "output_type": "stream",
     "text": [
      "halo\n"
     ]
    }
   ],
   "source": [
    "if True:\n",
    "    if True:\n",
    "        if True:\n",
    "            print('halo')"
   ]
  },
  {
   "cell_type": "code",
   "execution_count": 174,
   "metadata": {
    "execution": {
     "iopub.execute_input": "2025-01-11T05:08:40.746231Z",
     "iopub.status.busy": "2025-01-11T05:08:40.745228Z",
     "iopub.status.idle": "2025-01-11T05:08:40.758550Z",
     "shell.execute_reply": "2025-01-11T05:08:40.756532Z",
     "shell.execute_reply.started": "2025-01-11T05:08:40.745228Z"
    }
   },
   "outputs": [
    {
     "name": "stdout",
     "output_type": "stream",
     "text": [
      "1. di atas normal, diterima, tapi perlu diuji, kenapa bisa lebih dari 90\n",
      "3. cek, apakah alat ukur belum dikalibrasi 550\n"
     ]
    }
   ],
   "source": [
    "nilai = 110\n",
    "\n",
    "if nilai == 90:\n",
    "    print('diterima')\n",
    "elif (nilai >= 80) and (nilai < 90):\n",
    "    print('di bawah normal, tapi diterima')\n",
    "elif (nilai > 90):\n",
    "    print('1. di atas normal, diterima, tapi perlu diuji, kenapa bisa lebih dari 90')\n",
    "    nilai_baru = nilai * 5\n",
    "    if (nilai < 95):\n",
    "    #if (nilai > 90) and (nilai < 95):\n",
    "        print('2. langsung diterima')\n",
    "    else:\n",
    "        print('3. cek, apakah alat ukur belum dikalibrasi', nilai_baru)\n",
    "else:\n",
    "    print('tidak diterima')"
   ]
  },
  {
   "cell_type": "code",
   "execution_count": 175,
   "metadata": {
    "execution": {
     "iopub.execute_input": "2025-01-11T05:09:34.676859Z",
     "iopub.status.busy": "2025-01-11T05:09:34.675330Z",
     "iopub.status.idle": "2025-01-11T05:09:34.694478Z",
     "shell.execute_reply": "2025-01-11T05:09:34.691447Z",
     "shell.execute_reply.started": "2025-01-11T05:09:34.676859Z"
    }
   },
   "outputs": [
    {
     "name": "stdout",
     "output_type": "stream",
     "text": [
      "cek alat uji\n"
     ]
    }
   ],
   "source": [
    "nilai = 110\n",
    "\n",
    "if nilai == 90:\n",
    "    print('diterima')\n",
    "elif (nilai >= 80) and (nilai < 90):\n",
    "    print('di bawah normal, tapi diterima')\n",
    "elif (nilai > 90) and (nilai < 95):\n",
    "    print('langsung diterima')\n",
    "elif nilai > 95:\n",
    "    print('cek alat uji')    \n",
    "else:\n",
    "    print('tidak diterima')"
   ]
  },
  {
   "cell_type": "markdown",
   "metadata": {},
   "source": [
    "#### Coba Sendiri"
   ]
  },
  {
   "cell_type": "code",
   "execution_count": null,
   "metadata": {},
   "outputs": [],
   "source": []
  },
  {
   "cell_type": "markdown",
   "metadata": {},
   "source": [
    "## Simpulan"
   ]
  },
  {
   "cell_type": "markdown",
   "metadata": {},
   "source": [
    "- Boolean Expressions, Logical Expressions, dan Conditional Statements sudah selalu terjadi dalam kehidupan sehari-hari. Kita gunakan untuk mengajari komputer apa yang perlu dilakukan dalam suatu kondisi."
   ]
  },
  {
   "cell_type": "markdown",
   "metadata": {},
   "source": [
    "## PR\n",
    "Pack guru membutuhkan kode Python untuk memberi predikat nilai dengan aturan <strong>Nilai:Predikat</strong> di bawah ini.\n",
    "- 0 - 60: \"F\"\n",
    "- 61 - 70: \"D\"\n",
    "- 71 - 80: \"C\"\n",
    "- 81 - 90: \"B\"\n",
    "- 91 - 100: \"A\"\n",
    "<br>\n",
    "\n",
    "Nilai ditampung dalam variabel bernama <strong>nilai</strong>. Predikat ditampilkan menggunakan fungsi <strong>print()</strong>."
   ]
  },
  {
   "cell_type": "markdown",
   "metadata": {},
   "source": [
    "## Jadwal Pekan Depan"
   ]
  },
  {
   "cell_type": "markdown",
   "metadata": {},
   "source": [
    "<strong>Sabtu 10 pagi WIB</strong>"
   ]
  },
  {
   "cell_type": "markdown",
   "metadata": {},
   "source": [
    "## Referensi (Gratis)\n",
    "- [Think Python](https://allendowney.github.io/ThinkPython/index.html)\n",
    "- [Automate the Boring Stuff with Python](https://automatetheboringstuff.com/#toc)\n",
    "- [Python for Data Analysis | Pandas](https://wesmckinney.com/book/pandas-basics)"
   ]
  },
  {
   "cell_type": "code",
   "execution_count": null,
   "metadata": {},
   "outputs": [],
   "source": []
  }
 ],
 "metadata": {
  "kernelspec": {
   "display_name": "Python 3 (ipykernel)",
   "language": "python",
   "name": "python3"
  },
  "language_info": {
   "codemirror_mode": {
    "name": "ipython",
    "version": 3
   },
   "file_extension": ".py",
   "mimetype": "text/x-python",
   "name": "python",
   "nbconvert_exporter": "python",
   "pygments_lexer": "ipython3",
   "version": "3.12.2"
  }
 },
 "nbformat": 4,
 "nbformat_minor": 4
}
