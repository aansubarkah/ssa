{
 "cells": [
  {
   "cell_type": "code",
   "execution_count": null,
   "id": "616cdf9a-a926-4242-966f-d2bb04c63ece",
   "metadata": {},
   "outputs": [],
   "source": []
  },
  {
   "cell_type": "code",
   "execution_count": 33,
   "id": "843009e1-3c94-43d9-9027-1c9b77f2db7d",
   "metadata": {
    "execution": {
     "iopub.execute_input": "2024-09-21T04:34:06.384682Z",
     "iopub.status.busy": "2024-09-21T04:34:06.384682Z",
     "iopub.status.idle": "2024-09-21T04:34:06.399189Z",
     "shell.execute_reply": "2024-09-21T04:34:06.398191Z",
     "shell.execute_reply.started": "2024-09-21T04:34:06.384682Z"
    }
   },
   "outputs": [],
   "source": [
    "import pandas as pd\n",
    "import pickle"
   ]
  },
  {
   "cell_type": "code",
   "execution_count": 34,
   "id": "86fbb6ab-ac52-422e-bf65-449e675f661c",
   "metadata": {
    "execution": {
     "iopub.execute_input": "2024-09-21T04:34:06.403683Z",
     "iopub.status.busy": "2024-09-21T04:34:06.402180Z",
     "iopub.status.idle": "2024-09-21T04:34:06.414273Z",
     "shell.execute_reply": "2024-09-21T04:34:06.413270Z",
     "shell.execute_reply.started": "2024-09-21T04:34:06.403683Z"
    }
   },
   "outputs": [],
   "source": [
    "#pandas.read_excel()\n",
    "#pd.read_excel()"
   ]
  },
  {
   "cell_type": "code",
   "execution_count": 35,
   "id": "9a06080f-c347-459d-8a57-dc2b8ceeaf21",
   "metadata": {
    "execution": {
     "iopub.execute_input": "2024-09-21T04:34:06.416274Z",
     "iopub.status.busy": "2024-09-21T04:34:06.416274Z",
     "iopub.status.idle": "2024-09-21T04:34:06.429814Z",
     "shell.execute_reply": "2024-09-21T04:34:06.428816Z",
     "shell.execute_reply.started": "2024-09-21T04:34:06.416274Z"
    }
   },
   "outputs": [
    {
     "data": {
      "text/plain": [
       "10"
      ]
     },
     "execution_count": 35,
     "metadata": {},
     "output_type": "execute_result"
    }
   ],
   "source": [
    "5+5"
   ]
  },
  {
   "cell_type": "code",
   "execution_count": 36,
   "id": "84ec363c-9584-429e-81bc-85778770404a",
   "metadata": {
    "execution": {
     "iopub.execute_input": "2024-09-21T04:34:06.433871Z",
     "iopub.status.busy": "2024-09-21T04:34:06.433871Z",
     "iopub.status.idle": "2024-09-21T04:34:06.444845Z",
     "shell.execute_reply": "2024-09-21T04:34:06.443847Z",
     "shell.execute_reply.started": "2024-09-21T04:34:06.433871Z"
    }
   },
   "outputs": [
    {
     "name": "stdout",
     "output_type": "stream",
     "text": [
      "halo\n"
     ]
    }
   ],
   "source": [
    "5-9\n",
    "\n",
    "print('halo')"
   ]
  },
  {
   "cell_type": "code",
   "execution_count": 37,
   "id": "41e5afde-3aaa-4247-bfb1-54c1c061892a",
   "metadata": {
    "execution": {
     "iopub.execute_input": "2024-09-21T04:34:06.447842Z",
     "iopub.status.busy": "2024-09-21T04:34:06.446845Z",
     "iopub.status.idle": "2024-09-21T04:34:06.460260Z",
     "shell.execute_reply": "2024-09-21T04:34:06.459263Z",
     "shell.execute_reply.started": "2024-09-21T04:34:06.446845Z"
    }
   },
   "outputs": [
    {
     "data": {
      "text/plain": [
       "14"
      ]
     },
     "execution_count": 37,
     "metadata": {},
     "output_type": "execute_result"
    }
   ],
   "source": [
    "5+9"
   ]
  },
  {
   "cell_type": "markdown",
   "id": "f4505878-2875-4abe-ab56-7decb29886e3",
   "metadata": {},
   "source": [
    "# ini adalah hasil 5 + 9"
   ]
  },
  {
   "cell_type": "markdown",
   "id": "c8c8a158-f610-49b3-b15a-e0883d56d048",
   "metadata": {},
   "source": [
    "# Gunakan hanya tahun 2024"
   ]
  },
  {
   "cell_type": "markdown",
   "id": "e542726e-a30d-46b1-bff5-d2b7acbd2756",
   "metadata": {},
   "source": [
    "# Ini judul"
   ]
  },
  {
   "cell_type": "markdown",
   "id": "d865cd28-c048-46de-90ff-0a0f80a9e717",
   "metadata": {},
   "source": [
    "## _Ini sub judul_"
   ]
  },
  {
   "cell_type": "markdown",
   "id": "d3dbadf7-fd97-4cf1-b808-7c95fdf386ce",
   "metadata": {},
   "source": [
    "# Variable"
   ]
  },
  {
   "cell_type": "code",
   "execution_count": 38,
   "id": "3169158e-2115-4096-935a-2895a743a9d5",
   "metadata": {
    "execution": {
     "iopub.execute_input": "2024-09-21T04:34:06.463762Z",
     "iopub.status.busy": "2024-09-21T04:34:06.463252Z",
     "iopub.status.idle": "2024-09-21T04:34:06.476842Z",
     "shell.execute_reply": "2024-09-21T04:34:06.474843Z",
     "shell.execute_reply.started": "2024-09-21T04:34:06.463762Z"
    }
   },
   "outputs": [],
   "source": [
    "ini_adalah_variable = 5"
   ]
  },
  {
   "cell_type": "code",
   "execution_count": 39,
   "id": "46444b72-be47-4ea5-89a5-e95fd74dc63d",
   "metadata": {
    "execution": {
     "iopub.execute_input": "2024-09-21T04:34:06.478837Z",
     "iopub.status.busy": "2024-09-21T04:34:06.477841Z",
     "iopub.status.idle": "2024-09-21T04:34:06.491321Z",
     "shell.execute_reply": "2024-09-21T04:34:06.490324Z",
     "shell.execute_reply.started": "2024-09-21T04:34:06.478837Z"
    }
   },
   "outputs": [
    {
     "data": {
      "text/plain": [
       "5"
      ]
     },
     "execution_count": 39,
     "metadata": {},
     "output_type": "execute_result"
    }
   ],
   "source": [
    "ini_adalah_variable"
   ]
  },
  {
   "cell_type": "code",
   "execution_count": 40,
   "id": "1bae9734-be72-4757-b711-9346c3a3df64",
   "metadata": {
    "execution": {
     "iopub.execute_input": "2024-09-21T04:34:06.494856Z",
     "iopub.status.busy": "2024-09-21T04:34:06.493858Z",
     "iopub.status.idle": "2024-09-21T04:34:06.507125Z",
     "shell.execute_reply": "2024-09-21T04:34:06.505129Z",
     "shell.execute_reply.started": "2024-09-21T04:34:06.494856Z"
    }
   },
   "outputs": [],
   "source": [
    "ini_var2 = 10"
   ]
  },
  {
   "cell_type": "code",
   "execution_count": 41,
   "id": "21cb7523-641c-4a73-841b-aebf92da34f1",
   "metadata": {
    "execution": {
     "iopub.execute_input": "2024-09-21T04:34:06.509120Z",
     "iopub.status.busy": "2024-09-21T04:34:06.508123Z",
     "iopub.status.idle": "2024-09-21T04:34:06.521624Z",
     "shell.execute_reply": "2024-09-21T04:34:06.520625Z",
     "shell.execute_reply.started": "2024-09-21T04:34:06.509120Z"
    }
   },
   "outputs": [
    {
     "data": {
      "text/plain": [
       "15"
      ]
     },
     "execution_count": 41,
     "metadata": {},
     "output_type": "execute_result"
    }
   ],
   "source": [
    "ini_adalah_variable + ini_var2"
   ]
  },
  {
   "cell_type": "code",
   "execution_count": 42,
   "id": "a1ba6120-fea8-4ddd-8dc6-74385bd4da9d",
   "metadata": {
    "execution": {
     "iopub.execute_input": "2024-09-21T04:34:06.530150Z",
     "iopub.status.busy": "2024-09-21T04:34:06.530150Z",
     "iopub.status.idle": "2024-09-21T04:34:06.551774Z",
     "shell.execute_reply": "2024-09-21T04:34:06.551774Z",
     "shell.execute_reply.started": "2024-09-21T04:34:06.530150Z"
    }
   },
   "outputs": [],
   "source": [
    "ini_var1 = 5\n",
    "ini_var1 = 10"
   ]
  },
  {
   "cell_type": "code",
   "execution_count": 43,
   "id": "bb4f6442-eab3-4485-a846-066ac04468d2",
   "metadata": {
    "execution": {
     "iopub.execute_input": "2024-09-21T04:34:06.555299Z",
     "iopub.status.busy": "2024-09-21T04:34:06.554302Z",
     "iopub.status.idle": "2024-09-21T04:34:06.569385Z",
     "shell.execute_reply": "2024-09-21T04:34:06.567392Z",
     "shell.execute_reply.started": "2024-09-21T04:34:06.555299Z"
    }
   },
   "outputs": [
    {
     "data": {
      "text/plain": [
       "10"
      ]
     },
     "execution_count": 43,
     "metadata": {},
     "output_type": "execute_result"
    }
   ],
   "source": [
    "ini_var1"
   ]
  },
  {
   "cell_type": "code",
   "execution_count": 44,
   "id": "7122b83f-8b57-4777-9a97-541832c7d8ee",
   "metadata": {
    "execution": {
     "iopub.execute_input": "2024-09-21T04:34:06.571718Z",
     "iopub.status.busy": "2024-09-21T04:34:06.571718Z",
     "iopub.status.idle": "2024-09-21T04:34:06.584736Z",
     "shell.execute_reply": "2024-09-21T04:34:06.583228Z",
     "shell.execute_reply.started": "2024-09-21T04:34:06.571718Z"
    }
   },
   "outputs": [
    {
     "data": {
      "text/plain": [
       "True"
      ]
     },
     "execution_count": 44,
     "metadata": {},
     "output_type": "execute_result"
    }
   ],
   "source": [
    "5 == 5"
   ]
  },
  {
   "cell_type": "code",
   "execution_count": 45,
   "id": "cc87729c-4a23-4f36-a808-61a0c5ca8876",
   "metadata": {
    "execution": {
     "iopub.execute_input": "2024-09-21T04:34:06.587734Z",
     "iopub.status.busy": "2024-09-21T04:34:06.586736Z",
     "iopub.status.idle": "2024-09-21T04:34:06.607189Z",
     "shell.execute_reply": "2024-09-21T04:34:06.598665Z",
     "shell.execute_reply.started": "2024-09-21T04:34:06.587734Z"
    }
   },
   "outputs": [
    {
     "ename": "SyntaxError",
     "evalue": "invalid syntax (403379890.py, line 1)",
     "output_type": "error",
     "traceback": [
      "\u001b[1;36m  Cell \u001b[1;32mIn[45], line 1\u001b[1;36m\u001b[0m\n\u001b[1;33m    var 1 = 5\u001b[0m\n\u001b[1;37m        ^\u001b[0m\n\u001b[1;31mSyntaxError\u001b[0m\u001b[1;31m:\u001b[0m invalid syntax\n"
     ]
    }
   ],
   "source": [
    "var 1 = 5"
   ]
  },
  {
   "cell_type": "code",
   "execution_count": null,
   "id": "459977e6-9ef6-4aee-b60b-b0efa113e19e",
   "metadata": {
    "execution": {
     "iopub.status.busy": "2024-09-21T04:34:06.608187Z",
     "iopub.status.idle": "2024-09-21T04:34:06.608187Z",
     "shell.execute_reply": "2024-09-21T04:34:06.608187Z",
     "shell.execute_reply.started": "2024-09-21T04:34:06.608187Z"
    }
   },
   "outputs": [],
   "source": [
    "var1 = 5"
   ]
  },
  {
   "cell_type": "code",
   "execution_count": null,
   "id": "8d6a2d79-26a7-46d8-8918-1506c7cf352b",
   "metadata": {
    "execution": {
     "iopub.status.busy": "2024-09-21T04:34:06.611180Z",
     "iopub.status.idle": "2024-09-21T04:34:06.612176Z",
     "shell.execute_reply": "2024-09-21T04:34:06.611180Z",
     "shell.execute_reply.started": "2024-09-21T04:34:06.611180Z"
    }
   },
   "outputs": [],
   "source": [
    "var1"
   ]
  },
  {
   "cell_type": "code",
   "execution_count": null,
   "id": "db14e86c-28af-48fe-9491-0c9b04da8d70",
   "metadata": {
    "execution": {
     "iopub.status.busy": "2024-09-21T04:34:06.614439Z",
     "iopub.status.idle": "2024-09-21T04:34:06.615441Z",
     "shell.execute_reply": "2024-09-21T04:34:06.614439Z",
     "shell.execute_reply.started": "2024-09-21T04:34:06.614439Z"
    }
   },
   "outputs": [],
   "source": [
    "1var = 5"
   ]
  },
  {
   "cell_type": "markdown",
   "id": "9498da85-76da-45b4-a258-509035bc2c91",
   "metadata": {},
   "source": [
    "## String"
   ]
  },
  {
   "cell_type": "code",
   "execution_count": null,
   "id": "c3af4998-5012-40ea-936e-541eb88a8542",
   "metadata": {
    "execution": {
     "iopub.status.busy": "2024-09-21T04:34:06.617436Z",
     "iopub.status.idle": "2024-09-21T04:34:06.618433Z",
     "shell.execute_reply": "2024-09-21T04:34:06.618433Z",
     "shell.execute_reply.started": "2024-09-21T04:34:06.618433Z"
    }
   },
   "outputs": [],
   "source": [
    "var1 = 'ini adalah variabel 1'"
   ]
  },
  {
   "cell_type": "code",
   "execution_count": null,
   "id": "e52ae475-2b80-4780-99ba-b9d1ec2d852a",
   "metadata": {
    "execution": {
     "iopub.status.busy": "2024-09-21T04:34:06.620428Z",
     "iopub.status.idle": "2024-09-21T04:34:06.621425Z",
     "shell.execute_reply": "2024-09-21T04:34:06.621425Z",
     "shell.execute_reply.started": "2024-09-21T04:34:06.621425Z"
    }
   },
   "outputs": [],
   "source": [
    "var1"
   ]
  },
  {
   "cell_type": "code",
   "execution_count": null,
   "id": "272a7ed7-08be-47a9-971e-4bda24ebc660",
   "metadata": {
    "execution": {
     "iopub.status.busy": "2024-09-21T04:34:06.623958Z",
     "iopub.status.idle": "2024-09-21T04:34:06.625330Z",
     "shell.execute_reply": "2024-09-21T04:34:06.623958Z",
     "shell.execute_reply.started": "2024-09-21T04:34:06.623958Z"
    }
   },
   "outputs": [],
   "source": [
    "var1.upper()"
   ]
  },
  {
   "cell_type": "code",
   "execution_count": null,
   "id": "875bdbe6-309a-4bbb-b66b-095049260eba",
   "metadata": {
    "execution": {
     "iopub.status.busy": "2024-09-21T04:34:06.627325Z",
     "iopub.status.idle": "2024-09-21T04:34:06.628322Z",
     "shell.execute_reply": "2024-09-21T04:34:06.628322Z",
     "shell.execute_reply.started": "2024-09-21T04:34:06.628322Z"
    }
   },
   "outputs": [],
   "source": [
    "var1.UPPER()"
   ]
  },
  {
   "cell_type": "code",
   "execution_count": null,
   "id": "389035b6-69eb-4a68-a57c-cee23a8316d3",
   "metadata": {
    "execution": {
     "iopub.status.busy": "2024-09-21T04:34:06.631317Z",
     "iopub.status.idle": "2024-09-21T04:34:06.631317Z",
     "shell.execute_reply": "2024-09-21T04:34:06.631317Z",
     "shell.execute_reply.started": "2024-09-21T04:34:06.631317Z"
    }
   },
   "outputs": [],
   "source": [
    "var2 = 'INI ADALAH VAR 2'"
   ]
  },
  {
   "cell_type": "code",
   "execution_count": null,
   "id": "f9ee566d-990e-4037-8a11-847ea22344d8",
   "metadata": {
    "execution": {
     "iopub.status.busy": "2024-09-21T04:34:06.633852Z",
     "iopub.status.idle": "2024-09-21T04:34:06.635183Z",
     "shell.execute_reply": "2024-09-21T04:34:06.635183Z",
     "shell.execute_reply.started": "2024-09-21T04:34:06.635183Z"
    }
   },
   "outputs": [],
   "source": [
    "var2.lower()"
   ]
  },
  {
   "cell_type": "code",
   "execution_count": null,
   "id": "fd445185-b10d-4e96-9228-78727ef213ca",
   "metadata": {
    "execution": {
     "iopub.status.busy": "2024-09-21T04:34:06.637179Z",
     "iopub.status.idle": "2024-09-21T04:34:06.638175Z",
     "shell.execute_reply": "2024-09-21T04:34:06.638175Z",
     "shell.execute_reply.started": "2024-09-21T04:34:06.637179Z"
    }
   },
   "outputs": [],
   "source": [
    "var1 + ' ' + var2"
   ]
  },
  {
   "cell_type": "code",
   "execution_count": null,
   "id": "bc63214b-94ae-4eb6-965e-e892a9d24c22",
   "metadata": {
    "execution": {
     "iopub.status.busy": "2024-09-21T04:34:06.640170Z",
     "iopub.status.idle": "2024-09-21T04:34:06.640170Z",
     "shell.execute_reply": "2024-09-21T04:34:06.640170Z",
     "shell.execute_reply.started": "2024-09-21T04:34:06.640170Z"
    }
   },
   "outputs": [],
   "source": [
    "var3 = var1 + ' ' + var2"
   ]
  },
  {
   "cell_type": "code",
   "execution_count": null,
   "id": "0d0fd734-7fc6-4c84-bca9-363d3f766c31",
   "metadata": {
    "execution": {
     "iopub.status.busy": "2024-09-21T04:34:06.643162Z",
     "iopub.status.idle": "2024-09-21T04:34:06.643162Z",
     "shell.execute_reply": "2024-09-21T04:34:06.643162Z",
     "shell.execute_reply.started": "2024-09-21T04:34:06.643162Z"
    }
   },
   "outputs": [],
   "source": [
    "var3"
   ]
  },
  {
   "cell_type": "markdown",
   "id": "336251b7-a7d3-4dbb-9f6d-69d846dc4a1e",
   "metadata": {},
   "source": [
    "## in"
   ]
  },
  {
   "cell_type": "code",
   "execution_count": null,
   "id": "fdb54db1-8153-4bbc-b11f-d57d9b176bca",
   "metadata": {
    "execution": {
     "iopub.status.busy": "2024-09-21T04:34:06.646484Z",
     "iopub.status.idle": "2024-09-21T04:34:06.646484Z",
     "shell.execute_reply": "2024-09-21T04:34:06.646484Z",
     "shell.execute_reply.started": "2024-09-21T04:34:06.646484Z"
    }
   },
   "outputs": [],
   "source": [
    "'adalah' in var3"
   ]
  },
  {
   "cell_type": "code",
   "execution_count": null,
   "id": "8c97c54e-2640-43e0-944a-b7311e9cafe9",
   "metadata": {
    "execution": {
     "iopub.status.busy": "2024-09-21T04:34:06.648479Z",
     "iopub.status.idle": "2024-09-21T04:34:06.650475Z",
     "shell.execute_reply": "2024-09-21T04:34:06.649478Z",
     "shell.execute_reply.started": "2024-09-21T04:34:06.649478Z"
    }
   },
   "outputs": [],
   "source": [
    "var3.split()"
   ]
  },
  {
   "cell_type": "code",
   "execution_count": null,
   "id": "265a859e-6e68-40ca-b784-d19b0ea32ff6",
   "metadata": {
    "execution": {
     "iopub.status.busy": "2024-09-21T04:34:06.651472Z",
     "iopub.status.idle": "2024-09-21T04:34:06.652981Z",
     "shell.execute_reply": "2024-09-21T04:34:06.652981Z",
     "shell.execute_reply.started": "2024-09-21T04:34:06.652981Z"
    }
   },
   "outputs": [],
   "source": [
    "var4 = 'ini     adalah variabel 4    '"
   ]
  },
  {
   "cell_type": "code",
   "execution_count": null,
   "id": "da2527b9-ca07-4ba9-8e50-e175c9acaa2a",
   "metadata": {
    "execution": {
     "iopub.status.busy": "2024-09-21T04:34:06.655005Z",
     "iopub.status.idle": "2024-09-21T04:34:06.656007Z",
     "shell.execute_reply": "2024-09-21T04:34:06.656007Z",
     "shell.execute_reply.started": "2024-09-21T04:34:06.656007Z"
    }
   },
   "outputs": [],
   "source": [
    "var4"
   ]
  },
  {
   "cell_type": "code",
   "execution_count": null,
   "id": "45544c65-7835-4715-ac95-860d7a44dc0d",
   "metadata": {
    "execution": {
     "iopub.status.busy": "2024-09-21T04:34:06.658002Z",
     "iopub.status.idle": "2024-09-21T04:34:06.658002Z",
     "shell.execute_reply": "2024-09-21T04:34:06.658002Z",
     "shell.execute_reply.started": "2024-09-21T04:34:06.658002Z"
    }
   },
   "outputs": [],
   "source": [
    "var5 = var4.split()"
   ]
  },
  {
   "cell_type": "code",
   "execution_count": null,
   "id": "2f789257-ebf5-4512-a0d2-7ef2c1c048ae",
   "metadata": {
    "execution": {
     "iopub.status.busy": "2024-09-21T04:34:06.660993Z",
     "iopub.status.idle": "2024-09-21T04:34:06.661992Z",
     "shell.execute_reply": "2024-09-21T04:34:06.660993Z",
     "shell.execute_reply.started": "2024-09-21T04:34:06.660993Z"
    }
   },
   "outputs": [],
   "source": [
    "var5"
   ]
  },
  {
   "cell_type": "code",
   "execution_count": null,
   "id": "daa04d99-b21e-4b93-b0b6-15c74a3e8e94",
   "metadata": {
    "execution": {
     "iopub.status.busy": "2024-09-21T04:34:06.664500Z",
     "iopub.status.idle": "2024-09-21T04:34:06.664500Z",
     "shell.execute_reply": "2024-09-21T04:34:06.664500Z",
     "shell.execute_reply.started": "2024-09-21T04:34:06.664500Z"
    }
   },
   "outputs": [],
   "source": [
    "'-'.join(var5)"
   ]
  },
  {
   "cell_type": "code",
   "execution_count": null,
   "id": "2ca7b1ee-a067-4384-a2ad-5ed1a9b92b80",
   "metadata": {
    "execution": {
     "iopub.status.busy": "2024-09-21T04:34:06.667489Z",
     "iopub.status.idle": "2024-09-21T04:34:06.668486Z",
     "shell.execute_reply": "2024-09-21T04:34:06.667489Z",
     "shell.execute_reply.started": "2024-09-21T04:34:06.667489Z"
    }
   },
   "outputs": [],
   "source": [
    "var4"
   ]
  },
  {
   "cell_type": "code",
   "execution_count": null,
   "id": "7d2b7e52-133a-42f1-8922-3bbeb7796e43",
   "metadata": {
    "execution": {
     "iopub.status.busy": "2024-09-21T04:34:06.673151Z",
     "iopub.status.idle": "2024-09-21T04:34:06.674176Z",
     "shell.execute_reply": "2024-09-21T04:34:06.673151Z",
     "shell.execute_reply.started": "2024-09-21T04:34:06.673151Z"
    }
   },
   "outputs": [],
   "source": [
    "var4[1]"
   ]
  },
  {
   "cell_type": "markdown",
   "id": "3d4479a5-8519-41fa-bd44-d446fbd88841",
   "metadata": {},
   "source": [
    "# Conditional"
   ]
  },
  {
   "cell_type": "code",
   "execution_count": null,
   "id": "4b21ab6b-425a-4e75-ba32-25bac476a928",
   "metadata": {
    "execution": {
     "iopub.status.busy": "2024-09-21T04:34:06.677173Z",
     "iopub.status.idle": "2024-09-21T04:34:06.678173Z",
     "shell.execute_reply": "2024-09-21T04:34:06.678173Z",
     "shell.execute_reply.started": "2024-09-21T04:34:06.678173Z"
    }
   },
   "outputs": [],
   "source": [
    "var1 = 5\n",
    "var2 = 6\n",
    "\n",
    "if var1 == var2:\n",
    "    print('ini teks')\n",
    "    \n",
    "    "
   ]
  },
  {
   "cell_type": "code",
   "execution_count": null,
   "id": "283d5742-ca73-4b25-b8c0-051a0b9174f9",
   "metadata": {
    "execution": {
     "iopub.status.busy": "2024-09-21T04:34:06.680166Z",
     "iopub.status.idle": "2024-09-21T04:34:06.681162Z",
     "shell.execute_reply": "2024-09-21T04:34:06.681162Z",
     "shell.execute_reply.started": "2024-09-21T04:34:06.681162Z"
    }
   },
   "outputs": [],
   "source": [
    "var1 = 5\n",
    "var2 = 6\n",
    "\n",
    "if var1 == var2:\n",
    "    print('ini teks')\n",
    "else:\n",
    "    print('ini hal lain')\n",
    "    print('halo')"
   ]
  },
  {
   "cell_type": "code",
   "execution_count": null,
   "id": "873a4bf9-6d06-4b56-88c5-701e82497273",
   "metadata": {
    "execution": {
     "iopub.status.busy": "2024-09-21T04:34:06.683158Z",
     "iopub.status.idle": "2024-09-21T04:34:06.684669Z",
     "shell.execute_reply": "2024-09-21T04:34:06.683668Z",
     "shell.execute_reply.started": "2024-09-21T04:34:06.683668Z"
    }
   },
   "outputs": [],
   "source": [
    "var1 = 5\n",
    "var2 = 6\n",
    "\n",
    "if var1 == var2:\n",
    "    print('ini teks')\n",
    "else:\n",
    "    if var2 < 6:\n",
    "        print('var2 = 6')\n",
    "    else:\n",
    "        print('ini hal lain lagi')"
   ]
  },
  {
   "cell_type": "code",
   "execution_count": null,
   "id": "b2258907-bef7-449b-ac59-c4ba57640e05",
   "metadata": {
    "execution": {
     "iopub.status.busy": "2024-09-21T04:34:06.686670Z",
     "iopub.status.idle": "2024-09-21T04:34:06.687666Z",
     "shell.execute_reply": "2024-09-21T04:34:06.686670Z",
     "shell.execute_reply.started": "2024-09-21T04:34:06.686670Z"
    }
   },
   "outputs": [],
   "source": [
    "if var1 == var2:\n",
    "    print('ini teks')\n",
    "elif var1 < var2:\n",
    "    print('var1 < var2')\n",
    "else:\n",
    "    print('ini hal lain')"
   ]
  },
  {
   "cell_type": "code",
   "execution_count": null,
   "id": "0e05b2a7-74a1-4eae-8016-1450caf238e9",
   "metadata": {
    "execution": {
     "iopub.status.busy": "2024-09-21T04:34:06.689660Z",
     "iopub.status.idle": "2024-09-21T04:34:06.689660Z",
     "shell.execute_reply": "2024-09-21T04:34:06.689660Z",
     "shell.execute_reply.started": "2024-09-21T04:34:06.689660Z"
    }
   },
   "outputs": [],
   "source": [
    "var1 < var2"
   ]
  },
  {
   "cell_type": "code",
   "execution_count": null,
   "id": "a330418a-e93d-418f-af8e-a493fe0993ac",
   "metadata": {
    "execution": {
     "iopub.status.busy": "2024-09-21T04:34:06.691657Z",
     "iopub.status.idle": "2024-09-21T04:34:06.693167Z",
     "shell.execute_reply": "2024-09-21T04:34:06.691657Z",
     "shell.execute_reply.started": "2024-09-21T04:34:06.691657Z"
    }
   },
   "outputs": [],
   "source": [
    "type(var1)"
   ]
  },
  {
   "cell_type": "code",
   "execution_count": null,
   "id": "ab423d9f-54a4-425c-a6dc-f2a7431cda42",
   "metadata": {
    "execution": {
     "iopub.status.busy": "2024-09-21T04:34:06.695186Z",
     "iopub.status.idle": "2024-09-21T04:34:06.696186Z",
     "shell.execute_reply": "2024-09-21T04:34:06.696186Z",
     "shell.execute_reply.started": "2024-09-21T04:34:06.696186Z"
    }
   },
   "outputs": [],
   "source": [
    "var1"
   ]
  },
  {
   "cell_type": "code",
   "execution_count": null,
   "id": "d29ff49e-ab85-4dbf-a767-73367450d11c",
   "metadata": {
    "execution": {
     "iopub.status.busy": "2024-09-21T04:34:06.698181Z",
     "iopub.status.idle": "2024-09-21T04:34:06.699177Z",
     "shell.execute_reply": "2024-09-21T04:34:06.699177Z",
     "shell.execute_reply.started": "2024-09-21T04:34:06.699177Z"
    }
   },
   "outputs": [],
   "source": [
    "type('ini teks')"
   ]
  },
  {
   "cell_type": "code",
   "execution_count": null,
   "id": "11a58afe-fc35-4907-bd56-ad6faeb1ded4",
   "metadata": {
    "execution": {
     "iopub.status.busy": "2024-09-21T04:34:06.701170Z",
     "iopub.status.idle": "2024-09-21T04:34:06.702169Z",
     "shell.execute_reply": "2024-09-21T04:34:06.702169Z",
     "shell.execute_reply.started": "2024-09-21T04:34:06.702169Z"
    }
   },
   "outputs": [],
   "source": [
    "type(1.5)"
   ]
  },
  {
   "cell_type": "code",
   "execution_count": null,
   "id": "5a41d3d0-1a39-49f1-b029-e039e26e2044",
   "metadata": {
    "execution": {
     "iopub.status.busy": "2024-09-21T04:34:06.705248Z",
     "iopub.status.idle": "2024-09-21T04:34:06.706244Z",
     "shell.execute_reply": "2024-09-21T04:34:06.706244Z",
     "shell.execute_reply.started": "2024-09-21T04:34:06.706244Z"
    }
   },
   "outputs": [],
   "source": [
    "var_teks = 'ini adalah teks'"
   ]
  },
  {
   "cell_type": "code",
   "execution_count": null,
   "id": "60afeb21-5466-4fe9-9a17-601fb371c3e0",
   "metadata": {
    "execution": {
     "iopub.status.busy": "2024-09-21T04:34:06.709237Z",
     "iopub.status.idle": "2024-09-21T04:34:06.710234Z",
     "shell.execute_reply": "2024-09-21T04:34:06.709237Z",
     "shell.execute_reply.started": "2024-09-21T04:34:06.709237Z"
    }
   },
   "outputs": [],
   "source": [
    "var1"
   ]
  },
  {
   "cell_type": "code",
   "execution_count": null,
   "id": "23ac3a12-6e28-4e00-93f1-353f7382caf2",
   "metadata": {
    "execution": {
     "iopub.status.busy": "2024-09-21T04:34:06.712231Z",
     "iopub.status.idle": "2024-09-21T04:34:06.713738Z",
     "shell.execute_reply": "2024-09-21T04:34:06.713738Z",
     "shell.execute_reply.started": "2024-09-21T04:34:06.713738Z"
    }
   },
   "outputs": [],
   "source": [
    "var1 + var_teks"
   ]
  },
  {
   "cell_type": "code",
   "execution_count": null,
   "id": "34d29e50-5f34-43b8-b383-fc14fbc8f9d3",
   "metadata": {
    "execution": {
     "iopub.status.busy": "2024-09-21T04:34:06.716735Z",
     "iopub.status.idle": "2024-09-21T04:34:06.717734Z",
     "shell.execute_reply": "2024-09-21T04:34:06.717734Z",
     "shell.execute_reply.started": "2024-09-21T04:34:06.717734Z"
    }
   },
   "outputs": [],
   "source": [
    "str(var1)"
   ]
  },
  {
   "cell_type": "code",
   "execution_count": null,
   "id": "f8303d71-061f-467d-b50c-848b3c645d18",
   "metadata": {
    "execution": {
     "iopub.status.busy": "2024-09-21T04:34:06.719726Z",
     "iopub.status.idle": "2024-09-21T04:34:06.720726Z",
     "shell.execute_reply": "2024-09-21T04:34:06.720726Z",
     "shell.execute_reply.started": "2024-09-21T04:34:06.720726Z"
    }
   },
   "outputs": [],
   "source": [
    "str(var1) + var_teks"
   ]
  },
  {
   "cell_type": "code",
   "execution_count": null,
   "id": "26d5f867-8b48-4172-b285-44e8a0ff624d",
   "metadata": {
    "execution": {
     "iopub.status.busy": "2024-09-21T04:34:06.723232Z",
     "iopub.status.idle": "2024-09-21T04:34:06.724511Z",
     "shell.execute_reply": "2024-09-21T04:34:06.724511Z",
     "shell.execute_reply.started": "2024-09-21T04:34:06.724511Z"
    }
   },
   "outputs": [],
   "source": [
    "url = 'https://google.com'\n",
    "var1 = 5"
   ]
  },
  {
   "cell_type": "code",
   "execution_count": null,
   "id": "2f460429-62e1-4f61-810f-95e06d2023d5",
   "metadata": {
    "execution": {
     "iopub.status.busy": "2024-09-21T04:34:06.726510Z",
     "iopub.status.idle": "2024-09-21T04:34:06.727508Z",
     "shell.execute_reply": "2024-09-21T04:34:06.727508Z",
     "shell.execute_reply.started": "2024-09-21T04:34:06.727508Z"
    }
   },
   "outputs": [],
   "source": [
    "url+var1"
   ]
  },
  {
   "cell_type": "code",
   "execution_count": null,
   "id": "8871b07b-e00e-469e-969e-71b21d7a6f4b",
   "metadata": {
    "execution": {
     "iopub.status.busy": "2024-09-21T04:34:06.730498Z",
     "iopub.status.idle": "2024-09-21T04:34:06.731497Z",
     "shell.execute_reply": "2024-09-21T04:34:06.731497Z",
     "shell.execute_reply.started": "2024-09-21T04:34:06.731497Z"
    }
   },
   "outputs": [],
   "source": [
    "url+str(var1)"
   ]
  },
  {
   "cell_type": "code",
   "execution_count": null,
   "id": "fc6960d5-c8ed-4ca9-a38b-b48d55ad25a2",
   "metadata": {
    "execution": {
     "iopub.status.busy": "2024-09-21T04:34:06.735033Z",
     "iopub.status.idle": "2024-09-21T04:34:06.736031Z",
     "shell.execute_reply": "2024-09-21T04:34:06.735033Z",
     "shell.execute_reply.started": "2024-09-21T04:34:06.735033Z"
    }
   },
   "outputs": [],
   "source": [
    "url='https://google.com/5'"
   ]
  },
  {
   "cell_type": "code",
   "execution_count": null,
   "id": "d6479b94-e97a-4094-b2a4-10c6f1993bfc",
   "metadata": {
    "execution": {
     "iopub.status.busy": "2024-09-21T04:34:06.739023Z",
     "iopub.status.idle": "2024-09-21T04:34:06.740021Z",
     "shell.execute_reply": "2024-09-21T04:34:06.740021Z",
     "shell.execute_reply.started": "2024-09-21T04:34:06.739023Z"
    }
   },
   "outputs": [],
   "source": [
    "url"
   ]
  },
  {
   "cell_type": "code",
   "execution_count": null,
   "id": "0489056b-bc2f-48d1-807a-490d27727a8e",
   "metadata": {
    "execution": {
     "iopub.status.busy": "2024-09-21T04:34:06.743015Z",
     "iopub.status.idle": "2024-09-21T04:34:06.743524Z",
     "shell.execute_reply": "2024-09-21T04:34:06.743524Z",
     "shell.execute_reply.started": "2024-09-21T04:34:06.743524Z"
    }
   },
   "outputs": [],
   "source": [
    "url[-1]"
   ]
  },
  {
   "cell_type": "code",
   "execution_count": null,
   "id": "f8e9fa6b-0b3c-48da-938e-ce48b3176d8b",
   "metadata": {
    "execution": {
     "iopub.status.busy": "2024-09-21T04:34:06.747006Z",
     "iopub.status.idle": "2024-09-21T04:34:06.748004Z",
     "shell.execute_reply": "2024-09-21T04:34:06.748004Z",
     "shell.execute_reply.started": "2024-09-21T04:34:06.748004Z"
    }
   },
   "outputs": [],
   "source": [
    "type(url[-1])"
   ]
  },
  {
   "cell_type": "code",
   "execution_count": null,
   "id": "2aabb450-b2e5-4eeb-a20c-8c4ec0b533d8",
   "metadata": {
    "execution": {
     "iopub.status.busy": "2024-09-21T04:34:06.750996Z",
     "iopub.status.idle": "2024-09-21T04:34:06.751992Z",
     "shell.execute_reply": "2024-09-21T04:34:06.751992Z",
     "shell.execute_reply.started": "2024-09-21T04:34:06.751992Z"
    }
   },
   "outputs": [],
   "source": [
    "var_konversi = int(url[-1])"
   ]
  },
  {
   "cell_type": "code",
   "execution_count": null,
   "id": "b8679f5b-fe00-4965-b9f6-2ab628f4547c",
   "metadata": {
    "execution": {
     "iopub.status.busy": "2024-09-21T04:34:06.754498Z",
     "iopub.status.idle": "2024-09-21T04:34:06.755499Z",
     "shell.execute_reply": "2024-09-21T04:34:06.755499Z",
     "shell.execute_reply.started": "2024-09-21T04:34:06.755499Z"
    }
   },
   "outputs": [],
   "source": [
    "var_konversi"
   ]
  },
  {
   "cell_type": "code",
   "execution_count": null,
   "id": "c2a29140-27ad-4e06-816f-f81bdeea314d",
   "metadata": {
    "execution": {
     "iopub.status.busy": "2024-09-21T04:34:06.757495Z",
     "iopub.status.idle": "2024-09-21T04:34:06.758493Z",
     "shell.execute_reply": "2024-09-21T04:34:06.758493Z",
     "shell.execute_reply.started": "2024-09-21T04:34:06.758493Z"
    }
   },
   "outputs": [],
   "source": [
    "var_konversi + var1"
   ]
  },
  {
   "cell_type": "code",
   "execution_count": null,
   "id": "2146bdf8-8373-461b-b47c-3d98e21c0614",
   "metadata": {
    "execution": {
     "iopub.status.busy": "2024-09-21T04:34:06.761485Z",
     "iopub.status.idle": "2024-09-21T04:34:06.761485Z",
     "shell.execute_reply": "2024-09-21T04:34:06.761485Z",
     "shell.execute_reply.started": "2024-09-21T04:34:06.761485Z"
    }
   },
   "outputs": [],
   "source": [
    "var_konversi, var1"
   ]
  },
  {
   "cell_type": "markdown",
   "id": "98ddc378-1543-4882-9187-b6075e04c37c",
   "metadata": {},
   "source": [
    "# Iteration"
   ]
  },
  {
   "cell_type": "markdown",
   "id": "e97b1d94-5931-4387-8643-ef2ed07fa26e",
   "metadata": {},
   "source": [
    "## FOR"
   ]
  },
  {
   "cell_type": "code",
   "execution_count": null,
   "id": "ff014132-6192-4120-b773-00b35cdb7bb3",
   "metadata": {
    "execution": {
     "iopub.status.busy": "2024-09-21T04:34:06.765053Z",
     "iopub.status.idle": "2024-09-21T04:34:06.766052Z",
     "shell.execute_reply": "2024-09-21T04:34:06.765053Z",
     "shell.execute_reply.started": "2024-09-21T04:34:06.765053Z"
    }
   },
   "outputs": [],
   "source": [
    "url = 'https://google.com/'\n",
    "for ini_var in range(1, 6):\n",
    "    url_baru = url + str(ini_var)\n",
    "    print(url_baru)\n",
    "\n",
    "    if ini_var > 2:\n",
    "        print('ini langkah ke-' + str(ini_var))"
   ]
  },
  {
   "cell_type": "markdown",
   "id": "7ec51e0a-9583-42a7-9fb9-28cdcc30920d",
   "metadata": {},
   "source": [
    "## Modulus"
   ]
  },
  {
   "cell_type": "code",
   "execution_count": null,
   "id": "5a483ea1-38fc-4b1f-9951-32e297fff78e",
   "metadata": {
    "execution": {
     "iopub.status.busy": "2024-09-21T04:34:06.769662Z",
     "iopub.status.idle": "2024-09-21T04:34:06.774296Z",
     "shell.execute_reply": "2024-09-21T04:34:06.773277Z",
     "shell.execute_reply.started": "2024-09-21T04:34:06.773277Z"
    }
   },
   "outputs": [],
   "source": [
    "10%2"
   ]
  },
  {
   "cell_type": "code",
   "execution_count": null,
   "id": "f2f927f0-72f1-4e04-8d64-bfd661cd258b",
   "metadata": {
    "execution": {
     "iopub.status.busy": "2024-09-21T04:34:06.780298Z",
     "iopub.status.idle": "2024-09-21T04:34:06.782292Z",
     "shell.execute_reply": "2024-09-21T04:34:06.781296Z",
     "shell.execute_reply.started": "2024-09-21T04:34:06.781296Z"
    }
   },
   "outputs": [],
   "source": [
    "url = 'https://google.com/'\n",
    "for ini_var in range(1, 16):\n",
    "    url_baru = url + str(ini_var)\n",
    "    print(url_baru)\n",
    "\n",
    "    if ini_var%5 == 0:\n",
    "        print('ini langkah kelipatan lima')"
   ]
  },
  {
   "cell_type": "code",
   "execution_count": null,
   "id": "af2206fc-9296-41c6-8b82-b6aab649179d",
   "metadata": {
    "execution": {
     "iopub.status.busy": "2024-09-21T04:34:06.784800Z",
     "iopub.status.idle": "2024-09-21T04:34:06.786800Z",
     "shell.execute_reply": "2024-09-21T04:34:06.785809Z",
     "shell.execute_reply.started": "2024-09-21T04:34:06.785809Z"
    }
   },
   "outputs": [],
   "source": [
    "print(range(1,6))"
   ]
  },
  {
   "cell_type": "markdown",
   "id": "2dfcbe2d-d1c2-4b5a-a55f-552d6904b1bf",
   "metadata": {},
   "source": [
    "## WHILE"
   ]
  },
  {
   "cell_type": "code",
   "execution_count": null,
   "id": "dafc7deb-37b7-4080-a527-fc90977bf89e",
   "metadata": {
    "execution": {
     "iopub.status.busy": "2024-09-21T04:34:06.788794Z",
     "iopub.status.idle": "2024-09-21T04:34:06.789791Z",
     "shell.execute_reply": "2024-09-21T04:34:06.789791Z",
     "shell.execute_reply.started": "2024-09-21T04:34:06.789791Z"
    }
   },
   "outputs": [],
   "source": [
    "var1 = 1\n",
    "var2 = 5\n",
    "\n",
    "while var1 < var2:\n",
    "    print(var1)\n",
    "    var1 = var1 + 1"
   ]
  },
  {
   "cell_type": "code",
   "execution_count": null,
   "id": "c5db7d0b-ebd4-46c8-a993-9c2b144ae27c",
   "metadata": {
    "execution": {
     "iopub.status.busy": "2024-09-21T04:34:06.791785Z",
     "iopub.status.idle": "2024-09-21T04:34:06.793294Z",
     "shell.execute_reply": "2024-09-21T04:34:06.793294Z",
     "shell.execute_reply.started": "2024-09-21T04:34:06.793294Z"
    }
   },
   "outputs": [],
   "source": [
    "var1 = True"
   ]
  },
  {
   "cell_type": "code",
   "execution_count": null,
   "id": "0ed726a4-c485-4ab1-a67c-7095f2bfb021",
   "metadata": {
    "execution": {
     "iopub.status.busy": "2024-09-21T04:34:06.795789Z",
     "iopub.status.idle": "2024-09-21T04:34:06.796785Z",
     "shell.execute_reply": "2024-09-21T04:34:06.795789Z",
     "shell.execute_reply.started": "2024-09-21T04:34:06.795789Z"
    }
   },
   "outputs": [],
   "source": [
    "print() = 1"
   ]
  },
  {
   "cell_type": "code",
   "execution_count": null,
   "id": "2b6f8359-15e8-4d7b-b672-48bf67b2424d",
   "metadata": {
    "execution": {
     "iopub.status.busy": "2024-09-21T04:34:06.799778Z",
     "iopub.status.idle": "2024-09-21T04:34:06.800776Z",
     "shell.execute_reply": "2024-09-21T04:34:06.799778Z",
     "shell.execute_reply.started": "2024-09-21T04:34:06.799778Z"
    }
   },
   "outputs": [],
   "source": [
    "print('halo')"
   ]
  },
  {
   "cell_type": "code",
   "execution_count": null,
   "id": "9841c8e7-33cd-4a9b-aa97-025cbd2c145f",
   "metadata": {
    "execution": {
     "iopub.status.busy": "2024-09-21T04:34:06.803286Z",
     "iopub.status.idle": "2024-09-21T04:34:06.803286Z",
     "shell.execute_reply": "2024-09-21T04:34:06.803286Z",
     "shell.execute_reply.started": "2024-09-21T04:34:06.803286Z"
    }
   },
   "outputs": [],
   "source": [
    "while = 1"
   ]
  },
  {
   "cell_type": "code",
   "execution_count": null,
   "id": "1e8f8983-ec96-480b-a025-710fd79cd6fe",
   "metadata": {
    "execution": {
     "iopub.status.busy": "2024-09-21T04:34:06.806763Z",
     "iopub.status.idle": "2024-09-21T04:34:06.807761Z",
     "shell.execute_reply": "2024-09-21T04:34:06.807761Z",
     "shell.execute_reply.started": "2024-09-21T04:34:06.807761Z"
    }
   },
   "outputs": [],
   "source": [
    "var1 = True\n",
    "var2 = 5\n",
    "while var1 == True:\n",
    "    var2 = var2 + 1\n",
    "    print(var2)\n",
    "    if var2 > 10:\n",
    "        var1 = False"
   ]
  },
  {
   "cell_type": "code",
   "execution_count": null,
   "id": "ab0ff2a3-029a-4d2b-ae81-ddf736ab40dd",
   "metadata": {
    "execution": {
     "iopub.status.busy": "2024-09-21T04:34:06.810755Z",
     "iopub.status.idle": "2024-09-21T04:34:06.811750Z",
     "shell.execute_reply": "2024-09-21T04:34:06.810755Z",
     "shell.execute_reply.started": "2024-09-21T04:34:06.810755Z"
    }
   },
   "outputs": [],
   "source": [
    "var1 = True\n",
    "var2 = 5\n",
    "while var1: # ini sama dengan while var1 == True\n",
    "    var2 += 1 #ini sama dengan var2 = var2 + 1\n",
    "    print(var2)\n",
    "    if var2 > 10:\n",
    "        var1 = False"
   ]
  },
  {
   "cell_type": "code",
   "execution_count": null,
   "id": "e777216a-3368-4451-975f-549abee610d5",
   "metadata": {},
   "outputs": [],
   "source": []
  },
  {
   "cell_type": "code",
   "execution_count": null,
   "id": "ae7280f3-a3bc-425c-9727-75f3bea1e3a3",
   "metadata": {
    "execution": {
     "iopub.status.busy": "2024-09-21T04:34:06.814293Z",
     "iopub.status.idle": "2024-09-21T04:34:06.816289Z",
     "shell.execute_reply": "2024-09-21T04:34:06.815289Z",
     "shell.execute_reply.started": "2024-09-21T04:34:06.815289Z"
    }
   },
   "outputs": [],
   "source": [
    "var1 = 1\n",
    "\n",
    "var2 = [1, '2', 3, 4, '6', 7]"
   ]
  },
  {
   "cell_type": "code",
   "execution_count": null,
   "id": "30b2c689-3a20-4d4b-a854-3044bcef165c",
   "metadata": {
    "execution": {
     "iopub.status.busy": "2024-09-21T04:34:06.818281Z",
     "iopub.status.idle": "2024-09-21T04:34:06.821273Z",
     "shell.execute_reply": "2024-09-21T04:34:06.820281Z",
     "shell.execute_reply.started": "2024-09-21T04:34:06.820281Z"
    }
   },
   "outputs": [],
   "source": [
    "var2"
   ]
  },
  {
   "cell_type": "code",
   "execution_count": null,
   "id": "0a62f8c5-d4a8-4af7-bdd9-6fb8ba7eeb58",
   "metadata": {
    "execution": {
     "iopub.status.busy": "2024-09-21T04:34:06.823774Z",
     "iopub.status.idle": "2024-09-21T04:34:06.824778Z",
     "shell.execute_reply": "2024-09-21T04:34:06.824778Z",
     "shell.execute_reply.started": "2024-09-21T04:34:06.824778Z"
    }
   },
   "outputs": [],
   "source": [
    "for i in var2:\n",
    "    print(i + var1)"
   ]
  },
  {
   "cell_type": "code",
   "execution_count": null,
   "id": "43efd5fb-f55d-4a57-8634-101381a040eb",
   "metadata": {
    "execution": {
     "iopub.status.busy": "2024-09-21T04:34:06.827775Z",
     "iopub.status.idle": "2024-09-21T04:34:06.828773Z",
     "shell.execute_reply": "2024-09-21T04:34:06.827775Z",
     "shell.execute_reply.started": "2024-09-21T04:34:06.827775Z"
    }
   },
   "outputs": [],
   "source": [
    "for i in var2:\n",
    "    try:\n",
    "        print(i + var1)\n",
    "    except:\n",
    "        print('gagal halaman', i)"
   ]
  },
  {
   "cell_type": "code",
   "execution_count": null,
   "id": "af537fbc-ebe0-46f4-8cbf-9e1fd0a600ac",
   "metadata": {
    "execution": {
     "iopub.status.busy": "2024-09-21T04:34:06.831764Z",
     "iopub.status.idle": "2024-09-21T04:34:06.833273Z",
     "shell.execute_reply": "2024-09-21T04:34:06.831764Z",
     "shell.execute_reply.started": "2024-09-21T04:34:06.831764Z"
    }
   },
   "outputs": [],
   "source": [
    "for i in var2:\n",
    "    try:\n",
    "        print(int(i) + var1)\n",
    "    except:\n",
    "        print('gagal halaman', i)"
   ]
  },
  {
   "cell_type": "markdown",
   "id": "fb9cfca9-35b2-4f17-8914-5577e48a74c1",
   "metadata": {},
   "source": [
    "# List"
   ]
  },
  {
   "cell_type": "code",
   "execution_count": null,
   "id": "7b929f60-2af1-483f-81f2-85cf035d6ee3",
   "metadata": {
    "execution": {
     "iopub.status.busy": "2024-09-21T04:34:06.835366Z",
     "iopub.status.idle": "2024-09-21T04:34:06.836363Z",
     "shell.execute_reply": "2024-09-21T04:34:06.835366Z",
     "shell.execute_reply.started": "2024-09-21T04:34:06.835366Z"
    }
   },
   "outputs": [],
   "source": [
    "ini_list = [1, 2, 3, 5, 0, 0.5, 'teks']"
   ]
  },
  {
   "cell_type": "code",
   "execution_count": null,
   "id": "93a6eefd-8ba7-4475-8858-9e83c2dd7d02",
   "metadata": {
    "execution": {
     "iopub.status.busy": "2024-09-21T04:34:06.838358Z",
     "iopub.status.idle": "2024-09-21T04:34:06.839357Z",
     "shell.execute_reply": "2024-09-21T04:34:06.839357Z",
     "shell.execute_reply.started": "2024-09-21T04:34:06.839357Z"
    }
   },
   "outputs": [],
   "source": [
    "ini_list[0]"
   ]
  },
  {
   "cell_type": "code",
   "execution_count": null,
   "id": "1f72af32-21a9-4bb0-9ad2-25aee314041a",
   "metadata": {
    "execution": {
     "iopub.status.busy": "2024-09-21T04:34:06.841351Z",
     "iopub.status.idle": "2024-09-21T04:34:06.842861Z",
     "shell.execute_reply": "2024-09-21T04:34:06.841351Z",
     "shell.execute_reply.started": "2024-09-21T04:34:06.841351Z"
    }
   },
   "outputs": [],
   "source": [
    "ini_list[1]"
   ]
  },
  {
   "cell_type": "code",
   "execution_count": 46,
   "id": "5f49f678-7a3f-429c-8669-93262ff740b9",
   "metadata": {
    "execution": {
     "iopub.execute_input": "2024-09-21T04:34:06.863334Z",
     "iopub.status.busy": "2024-09-21T04:34:06.862823Z",
     "iopub.status.idle": "2024-09-21T04:34:06.925090Z",
     "shell.execute_reply": "2024-09-21T04:34:06.923004Z",
     "shell.execute_reply.started": "2024-09-21T04:34:06.863334Z"
    }
   },
   "outputs": [
    {
     "ename": "NameError",
     "evalue": "name 'ini_list' is not defined",
     "output_type": "error",
     "traceback": [
      "\u001b[1;31m---------------------------------------------------------------------------\u001b[0m",
      "\u001b[1;31mNameError\u001b[0m                                 Traceback (most recent call last)",
      "Cell \u001b[1;32mIn[46], line 1\u001b[0m\n\u001b[1;32m----> 1\u001b[0m \u001b[43mini_list\u001b[49m[\u001b[38;5;241m0\u001b[39m:\u001b[38;5;241m2\u001b[39m]\n",
      "\u001b[1;31mNameError\u001b[0m: name 'ini_list' is not defined"
     ]
    }
   ],
   "source": [
    "ini_list[0:2]"
   ]
  },
  {
   "cell_type": "code",
   "execution_count": null,
   "id": "0a116f95-02d1-4346-a9c8-02aa672405ef",
   "metadata": {
    "execution": {
     "iopub.status.busy": "2024-09-21T04:34:06.927090Z",
     "iopub.status.idle": "2024-09-21T04:34:06.928087Z",
     "shell.execute_reply": "2024-09-21T04:34:06.927090Z",
     "shell.execute_reply.started": "2024-09-21T04:34:06.927090Z"
    }
   },
   "outputs": [],
   "source": [
    "ini_list[:4] # ini mirip LEFT di Excel"
   ]
  },
  {
   "cell_type": "code",
   "execution_count": null,
   "id": "08d070c8-0c6f-4edc-a926-44372d457e79",
   "metadata": {
    "execution": {
     "iopub.status.busy": "2024-09-21T04:34:06.930081Z",
     "iopub.status.idle": "2024-09-21T04:34:06.932075Z",
     "shell.execute_reply": "2024-09-21T04:34:06.932075Z",
     "shell.execute_reply.started": "2024-09-21T04:34:06.932075Z"
    }
   },
   "outputs": [],
   "source": [
    "ini_list = [1, 2, 3, 5, 0, 0.5, 'teks']"
   ]
  },
  {
   "cell_type": "code",
   "execution_count": null,
   "id": "11710519-b245-4be4-812c-9033973c4298",
   "metadata": {
    "execution": {
     "iopub.status.busy": "2024-09-21T04:34:06.935584Z",
     "iopub.status.idle": "2024-09-21T04:34:06.936583Z",
     "shell.execute_reply": "2024-09-21T04:34:06.936583Z",
     "shell.execute_reply.started": "2024-09-21T04:34:06.936583Z"
    }
   },
   "outputs": [],
   "source": [
    "ini_list[2:4] # ini mirip MID"
   ]
  },
  {
   "cell_type": "markdown",
   "id": "8108d161-c209-4e71-b4b5-b94d1801be8c",
   "metadata": {},
   "source": [
    "## Panjang List"
   ]
  },
  {
   "cell_type": "code",
   "execution_count": null,
   "id": "96be0ad4-b578-4d8d-bff0-5cea96ef42a7",
   "metadata": {
    "execution": {
     "iopub.status.busy": "2024-09-21T04:34:06.939574Z",
     "iopub.status.idle": "2024-09-21T04:34:06.940571Z",
     "shell.execute_reply": "2024-09-21T04:34:06.940571Z",
     "shell.execute_reply.started": "2024-09-21T04:34:06.940571Z"
    }
   },
   "outputs": [],
   "source": [
    "len(ini_list)"
   ]
  },
  {
   "cell_type": "code",
   "execution_count": null,
   "id": "a7873faa-c025-42b4-8462-dc0b6dc3fadd",
   "metadata": {
    "execution": {
     "iopub.status.busy": "2024-09-21T04:34:06.944115Z",
     "iopub.status.idle": "2024-09-21T04:34:06.944115Z",
     "shell.execute_reply": "2024-09-21T04:34:06.944115Z",
     "shell.execute_reply.started": "2024-09-21T04:34:06.944115Z"
    }
   },
   "outputs": [],
   "source": [
    "len_list = len(ini_list)"
   ]
  },
  {
   "cell_type": "code",
   "execution_count": null,
   "id": "c3c7aafb-3149-4b81-83e5-4dab8bd1befd",
   "metadata": {
    "execution": {
     "iopub.status.busy": "2024-09-21T04:34:06.947454Z",
     "iopub.status.idle": "2024-09-21T04:34:06.948450Z",
     "shell.execute_reply": "2024-09-21T04:34:06.948450Z",
     "shell.execute_reply.started": "2024-09-21T04:34:06.948450Z"
    }
   },
   "outputs": [],
   "source": [
    "len_list"
   ]
  },
  {
   "cell_type": "code",
   "execution_count": null,
   "id": "2bf6a0c7-a991-406c-8f86-5b7e2b9f0ed1",
   "metadata": {
    "execution": {
     "iopub.status.busy": "2024-09-21T04:34:06.951444Z",
     "iopub.status.idle": "2024-09-21T04:34:06.951444Z",
     "shell.execute_reply": "2024-09-21T04:34:06.951444Z",
     "shell.execute_reply.started": "2024-09-21T04:34:06.951444Z"
    }
   },
   "outputs": [],
   "source": [
    "ini_list[len_list-1]"
   ]
  },
  {
   "cell_type": "code",
   "execution_count": null,
   "id": "17b51679-8045-4027-8ab8-5242fa3eea05",
   "metadata": {
    "execution": {
     "iopub.status.busy": "2024-09-21T04:34:06.955982Z",
     "iopub.status.idle": "2024-09-21T04:34:06.956981Z",
     "shell.execute_reply": "2024-09-21T04:34:06.956981Z",
     "shell.execute_reply.started": "2024-09-21T04:34:06.956981Z"
    }
   },
   "outputs": [],
   "source": [
    "ini_list[-1] # ini seperti RIGHT di Excel"
   ]
  },
  {
   "cell_type": "markdown",
   "id": "6cf73887-a254-4440-a603-52a36dce5e2e",
   "metadata": {},
   "source": [
    "## Teks = List"
   ]
  },
  {
   "cell_type": "code",
   "execution_count": null,
   "id": "942787c9-9bf0-4127-9229-9b6039e42d4f",
   "metadata": {
    "execution": {
     "iopub.status.busy": "2024-09-21T04:34:06.958974Z",
     "iopub.status.idle": "2024-09-21T04:34:06.959972Z",
     "shell.execute_reply": "2024-09-21T04:34:06.959972Z",
     "shell.execute_reply.started": "2024-09-21T04:34:06.959972Z"
    }
   },
   "outputs": [],
   "source": [
    "var_teks = 'ini adalah teks python'"
   ]
  },
  {
   "cell_type": "code",
   "execution_count": null,
   "id": "b66a9f7d-da89-471e-9b46-8ded17804378",
   "metadata": {
    "execution": {
     "iopub.status.busy": "2024-09-21T04:34:06.962963Z",
     "iopub.status.idle": "2024-09-21T04:34:06.964085Z",
     "shell.execute_reply": "2024-09-21T04:34:06.962963Z",
     "shell.execute_reply.started": "2024-09-21T04:34:06.962963Z"
    }
   },
   "outputs": [],
   "source": [
    "var_teks"
   ]
  },
  {
   "cell_type": "code",
   "execution_count": null,
   "id": "42cbd1cf-c1a5-4e6b-9a77-2e523994efb2",
   "metadata": {
    "execution": {
     "iopub.status.busy": "2024-09-21T04:34:06.966084Z",
     "iopub.status.idle": "2024-09-21T04:34:06.967085Z",
     "shell.execute_reply": "2024-09-21T04:34:06.967085Z",
     "shell.execute_reply.started": "2024-09-21T04:34:06.967085Z"
    }
   },
   "outputs": [],
   "source": [
    "var_teks[0]"
   ]
  },
  {
   "cell_type": "code",
   "execution_count": null,
   "id": "56438310-c139-4d8d-b50b-befc07bc2909",
   "metadata": {
    "execution": {
     "iopub.status.busy": "2024-09-21T04:34:06.970581Z",
     "iopub.status.idle": "2024-09-21T04:34:06.971583Z",
     "shell.execute_reply": "2024-09-21T04:34:06.971583Z",
     "shell.execute_reply.started": "2024-09-21T04:34:06.971583Z"
    }
   },
   "outputs": [],
   "source": [
    "var_teks[-1]"
   ]
  },
  {
   "cell_type": "code",
   "execution_count": null,
   "id": "fb180385-0767-410c-88d3-6674a5583ac1",
   "metadata": {
    "execution": {
     "iopub.status.busy": "2024-09-21T04:34:06.974322Z",
     "iopub.status.idle": "2024-09-21T04:34:06.975324Z",
     "shell.execute_reply": "2024-09-21T04:34:06.975324Z",
     "shell.execute_reply.started": "2024-09-21T04:34:06.975324Z"
    }
   },
   "outputs": [],
   "source": [
    "var_teks[0:4] # LEFT"
   ]
  },
  {
   "cell_type": "code",
   "execution_count": null,
   "id": "cd79e0d6-fffb-4d67-ada3-749901020fde",
   "metadata": {
    "execution": {
     "iopub.status.busy": "2024-09-21T04:34:06.977319Z",
     "iopub.status.idle": "2024-09-21T04:34:06.978316Z",
     "shell.execute_reply": "2024-09-21T04:34:06.978316Z",
     "shell.execute_reply.started": "2024-09-21T04:34:06.978316Z"
    }
   },
   "outputs": [],
   "source": [
    "var_teks[5: 7] # MID"
   ]
  },
  {
   "cell_type": "code",
   "execution_count": null,
   "id": "4757d88f-43b7-4032-856f-c41831ec3343",
   "metadata": {
    "execution": {
     "iopub.status.busy": "2024-09-21T04:34:06.981308Z",
     "iopub.status.idle": "2024-09-21T04:34:06.982819Z",
     "shell.execute_reply": "2024-09-21T04:34:06.981308Z",
     "shell.execute_reply.started": "2024-09-21T04:34:06.981308Z"
    }
   },
   "outputs": [],
   "source": [
    "var_teks[:-10]"
   ]
  },
  {
   "cell_type": "code",
   "execution_count": null,
   "id": "75e4cc96-5667-45c4-a19b-e3db83aa4763",
   "metadata": {
    "execution": {
     "iopub.status.busy": "2024-09-21T04:34:06.984858Z",
     "iopub.status.idle": "2024-09-21T04:34:06.986853Z",
     "shell.execute_reply": "2024-09-21T04:34:06.986853Z",
     "shell.execute_reply.started": "2024-09-21T04:34:06.986853Z"
    }
   },
   "outputs": [],
   "source": [
    "var_teks[-10:]"
   ]
  },
  {
   "cell_type": "code",
   "execution_count": null,
   "id": "3ea3c81e-f207-4aab-92be-1b7882539ec5",
   "metadata": {},
   "outputs": [],
   "source": []
  },
  {
   "cell_type": "code",
   "execution_count": null,
   "id": "2ba2cdec-1135-4f90-a4b8-256d70d155eb",
   "metadata": {
    "execution": {
     "iopub.status.busy": "2024-09-21T04:34:06.989845Z",
     "iopub.status.idle": "2024-09-21T04:34:06.990841Z",
     "shell.execute_reply": "2024-09-21T04:34:06.990841Z",
     "shell.execute_reply.started": "2024-09-21T04:34:06.990841Z"
    }
   },
   "outputs": [],
   "source": [
    "ini_list"
   ]
  },
  {
   "cell_type": "code",
   "execution_count": null,
   "id": "b7be21df-faff-49e5-82dc-1037ced2ee08",
   "metadata": {
    "execution": {
     "iopub.status.busy": "2024-09-21T04:34:06.992836Z",
     "iopub.status.idle": "2024-09-21T04:34:06.995280Z",
     "shell.execute_reply": "2024-09-21T04:34:06.994286Z",
     "shell.execute_reply.started": "2024-09-21T04:34:06.994286Z"
    }
   },
   "outputs": [],
   "source": [
    "list_baru = [-5, -1]\n",
    "\n",
    "for li in ini_list:\n",
    "    print(li)\n",
    "    try:\n",
    "        if li < 5:\n",
    "            list_baru.append(li)\n",
    "    except: pass"
   ]
  },
  {
   "cell_type": "code",
   "execution_count": null,
   "id": "c0331aa8-4d61-4872-bd8f-837d67eb1b2d",
   "metadata": {
    "execution": {
     "iopub.status.busy": "2024-09-21T04:34:06.997277Z",
     "iopub.status.idle": "2024-09-21T04:34:06.998273Z",
     "shell.execute_reply": "2024-09-21T04:34:06.997277Z",
     "shell.execute_reply.started": "2024-09-21T04:34:06.997277Z"
    }
   },
   "outputs": [],
   "source": [
    "list_baru"
   ]
  },
  {
   "cell_type": "markdown",
   "id": "bdb086c1-e03b-457b-976d-ef797cedb58a",
   "metadata": {},
   "source": [
    "# Dictionary"
   ]
  },
  {
   "cell_type": "markdown",
   "id": "be68cf63-b1e9-4ee5-b92f-2c66a5d9ad92",
   "metadata": {
    "execution": {
     "iopub.execute_input": "2024-09-21T03:39:33.863671Z",
     "iopub.status.busy": "2024-09-21T03:39:33.862701Z",
     "iopub.status.idle": "2024-09-21T03:39:33.873716Z",
     "shell.execute_reply": "2024-09-21T03:39:33.872718Z",
     "shell.execute_reply.started": "2024-09-21T03:39:33.863671Z"
    }
   },
   "source": [
    "key: value\n",
    "key -> judul\n",
    "value -> data/baris data"
   ]
  },
  {
   "cell_type": "code",
   "execution_count": null,
   "id": "237d5116-2c1e-4032-91f9-a267e4ede8c6",
   "metadata": {
    "execution": {
     "iopub.status.busy": "2024-09-21T04:34:07.002262Z",
     "iopub.status.idle": "2024-09-21T04:34:07.003767Z",
     "shell.execute_reply": "2024-09-21T04:34:07.003767Z",
     "shell.execute_reply.started": "2024-09-21T04:34:07.003767Z"
    }
   },
   "outputs": [],
   "source": [
    "var_dict = {\n",
    "    'col1': 10,\n",
    "    'col2': 'teks'\n",
    "}"
   ]
  },
  {
   "cell_type": "code",
   "execution_count": null,
   "id": "54958088-6552-455a-9e36-6bdf5be7f97e",
   "metadata": {
    "execution": {
     "iopub.status.busy": "2024-09-21T04:34:07.006765Z",
     "iopub.status.idle": "2024-09-21T04:34:07.007766Z",
     "shell.execute_reply": "2024-09-21T04:34:07.007766Z",
     "shell.execute_reply.started": "2024-09-21T04:34:07.007766Z"
    }
   },
   "outputs": [],
   "source": [
    "var_dict"
   ]
  },
  {
   "cell_type": "code",
   "execution_count": null,
   "id": "ae8b2100-d89d-4f65-88b3-583f3257c405",
   "metadata": {
    "execution": {
     "iopub.status.busy": "2024-09-21T04:34:07.010755Z",
     "iopub.status.idle": "2024-09-21T04:34:07.011753Z",
     "shell.execute_reply": "2024-09-21T04:34:07.011753Z",
     "shell.execute_reply.started": "2024-09-21T04:34:07.011753Z"
    }
   },
   "outputs": [],
   "source": [
    "var_dict['col1']"
   ]
  },
  {
   "cell_type": "code",
   "execution_count": null,
   "id": "0ad56046-2334-470f-9f76-bd173f6dccd3",
   "metadata": {
    "execution": {
     "iopub.status.busy": "2024-09-21T04:34:07.015364Z",
     "iopub.status.idle": "2024-09-21T04:34:07.016363Z",
     "shell.execute_reply": "2024-09-21T04:34:07.015364Z",
     "shell.execute_reply.started": "2024-09-21T04:34:07.015364Z"
    }
   },
   "outputs": [],
   "source": [
    "var_dict['col2']"
   ]
  },
  {
   "cell_type": "code",
   "execution_count": null,
   "id": "2c599c1f-343a-4ee4-9ae0-fdceeedc3702",
   "metadata": {
    "execution": {
     "iopub.status.busy": "2024-09-21T04:34:07.019353Z",
     "iopub.status.idle": "2024-09-21T04:34:07.021348Z",
     "shell.execute_reply": "2024-09-21T04:34:07.020350Z",
     "shell.execute_reply.started": "2024-09-21T04:34:07.020350Z"
    }
   },
   "outputs": [],
   "source": [
    "li_baru = []\n",
    "\n",
    "for i in range(1, 11):\n",
    "    print('ini halaman ke', i)\n",
    "    var_dict = {\n",
    "        'col1': i,\n",
    "        'col2': 'ini halaman ke-' + str(i)\n",
    "    }\n",
    "    #print(var_dict)\n",
    "    li_baru.append(var_dict)"
   ]
  },
  {
   "cell_type": "code",
   "execution_count": null,
   "id": "f53b9a2c-26ed-4eba-b1a0-88b7a2e89175",
   "metadata": {
    "execution": {
     "iopub.status.busy": "2024-09-21T04:34:07.023893Z",
     "iopub.status.idle": "2024-09-21T04:34:07.025895Z",
     "shell.execute_reply": "2024-09-21T04:34:07.025895Z",
     "shell.execute_reply.started": "2024-09-21T04:34:07.025895Z"
    }
   },
   "outputs": [],
   "source": [
    "li_baru"
   ]
  },
  {
   "cell_type": "code",
   "execution_count": null,
   "id": "eb8e2cf6-1d2c-41fd-838c-fe09c0efcd62",
   "metadata": {
    "execution": {
     "iopub.status.busy": "2024-09-21T04:34:07.029890Z",
     "iopub.status.idle": "2024-09-21T04:34:07.033413Z",
     "shell.execute_reply": "2024-09-21T04:34:07.033413Z",
     "shell.execute_reply.started": "2024-09-21T04:34:07.033413Z"
    }
   },
   "outputs": [],
   "source": [
    "import pandas as pd"
   ]
  },
  {
   "cell_type": "code",
   "execution_count": null,
   "id": "775ae41b-3135-432d-9c16-b93bea201852",
   "metadata": {
    "execution": {
     "iopub.status.busy": "2024-09-21T04:34:07.037426Z",
     "iopub.status.idle": "2024-09-21T04:34:07.038421Z",
     "shell.execute_reply": "2024-09-21T04:34:07.038421Z",
     "shell.execute_reply.started": "2024-09-21T04:34:07.038421Z"
    }
   },
   "outputs": [],
   "source": [
    "df = pd.DataFrame(li_baru)"
   ]
  },
  {
   "cell_type": "code",
   "execution_count": null,
   "id": "82dc29da-3ecc-4a42-a51b-fb33ec5d3357",
   "metadata": {
    "execution": {
     "iopub.status.busy": "2024-09-21T04:34:07.041413Z",
     "iopub.status.idle": "2024-09-21T04:34:07.042927Z",
     "shell.execute_reply": "2024-09-21T04:34:07.042927Z",
     "shell.execute_reply.started": "2024-09-21T04:34:07.042927Z"
    }
   },
   "outputs": [],
   "source": [
    "df"
   ]
  },
  {
   "cell_type": "code",
   "execution_count": null,
   "id": "7dabc49d-480a-42fd-bd08-5f359d1f5817",
   "metadata": {
    "execution": {
     "iopub.status.busy": "2024-09-21T04:34:07.046950Z",
     "iopub.status.idle": "2024-09-21T04:34:07.047946Z",
     "shell.execute_reply": "2024-09-21T04:34:07.046950Z",
     "shell.execute_reply.started": "2024-09-21T04:34:07.046950Z"
    }
   },
   "outputs": [],
   "source": [
    "df.to_excel('ini_col.xlsx')"
   ]
  },
  {
   "cell_type": "markdown",
   "id": "65f8ba5d-de05-48da-b184-e1105d63a2a4",
   "metadata": {},
   "source": [
    "# Baca Tulis File"
   ]
  },
  {
   "cell_type": "code",
   "execution_count": null,
   "id": "ae3d534e-7b98-45ca-93dc-e91118de4c32",
   "metadata": {
    "execution": {
     "iopub.status.busy": "2024-09-21T04:34:07.049942Z",
     "iopub.status.idle": "2024-09-21T04:34:07.050940Z",
     "shell.execute_reply": "2024-09-21T04:34:07.050940Z",
     "shell.execute_reply.started": "2024-09-21T04:34:07.050940Z"
    }
   },
   "outputs": [],
   "source": [
    "df_baru = pd.read_excel('D:\\OneDriveAanSubarkahOutlook\\OneDrive\\SekolahSabtuAuditor\\ssa\\BasicPython\\ini_col.xlsx')"
   ]
  },
  {
   "cell_type": "code",
   "execution_count": null,
   "id": "5c9a1b52-b9bf-4ce5-9dff-c668b3013d05",
   "metadata": {
    "execution": {
     "iopub.status.busy": "2024-09-21T04:34:07.052936Z",
     "iopub.status.idle": "2024-09-21T04:34:07.054090Z",
     "shell.execute_reply": "2024-09-21T04:34:07.054090Z",
     "shell.execute_reply.started": "2024-09-21T04:34:07.054090Z"
    }
   },
   "outputs": [],
   "source": [
    "df_baru"
   ]
  },
  {
   "cell_type": "markdown",
   "id": "7950fc71-b25d-48d4-88fe-7e7cf619ebe3",
   "metadata": {},
   "source": [
    "## Alamat Statis"
   ]
  },
  {
   "cell_type": "code",
   "execution_count": null,
   "id": "b9bb7a8b-074a-4716-aace-f57c34753226",
   "metadata": {
    "execution": {
     "iopub.status.busy": "2024-09-21T04:34:07.057079Z",
     "iopub.status.idle": "2024-09-21T04:34:07.058076Z",
     "shell.execute_reply": "2024-09-21T04:34:07.058076Z",
     "shell.execute_reply.started": "2024-09-21T04:34:07.058076Z"
    }
   },
   "outputs": [],
   "source": [
    "df_baru1 = pd.read_excel('D:\\\\OneDriveAanSubarkahOutlook\\\\OneDrive\\\\SekolahSabtuAuditor\\\\ssa\\\\BasicPython\\\\excel\\\\ini_col.xlsx')"
   ]
  },
  {
   "cell_type": "code",
   "execution_count": null,
   "id": "4292e01d-5869-4e19-8aa9-5b53a40d61b6",
   "metadata": {
    "execution": {
     "iopub.status.busy": "2024-09-21T04:34:07.060070Z",
     "iopub.status.idle": "2024-09-21T04:34:07.062067Z",
     "shell.execute_reply": "2024-09-21T04:34:07.061068Z",
     "shell.execute_reply.started": "2024-09-21T04:34:07.061068Z"
    }
   },
   "outputs": [],
   "source": [
    "df_baru1"
   ]
  },
  {
   "cell_type": "markdown",
   "id": "d2a6e5d4-35fc-4b6a-832d-2e00c3471811",
   "metadata": {},
   "source": [
    "## Alamat Dinamis"
   ]
  },
  {
   "cell_type": "code",
   "execution_count": null,
   "id": "778678c1-fa74-493f-a55e-f8e067f43a87",
   "metadata": {
    "execution": {
     "iopub.status.busy": "2024-09-21T04:34:07.066588Z",
     "iopub.status.idle": "2024-09-21T04:34:07.067584Z",
     "shell.execute_reply": "2024-09-21T04:34:07.066588Z",
     "shell.execute_reply.started": "2024-09-21T04:34:07.066588Z"
    }
   },
   "outputs": [],
   "source": [
    "df_baru2 = pd.read_excel('excel\\\\ini_col.xlsx')"
   ]
  },
  {
   "cell_type": "code",
   "execution_count": null,
   "id": "6eac8908-4d74-40a9-9ae9-2c5774a9a24b",
   "metadata": {
    "execution": {
     "iopub.status.busy": "2024-09-21T04:34:07.071196Z",
     "iopub.status.idle": "2024-09-21T04:34:07.072194Z",
     "shell.execute_reply": "2024-09-21T04:34:07.071196Z",
     "shell.execute_reply.started": "2024-09-21T04:34:07.071196Z"
    }
   },
   "outputs": [],
   "source": [
    "df_baru2"
   ]
  },
  {
   "cell_type": "code",
   "execution_count": null,
   "id": "5325c0a2-0324-4dad-b645-840549436b1c",
   "metadata": {
    "execution": {
     "iopub.status.busy": "2024-09-21T04:34:07.078987Z",
     "iopub.status.idle": "2024-09-21T04:34:07.080983Z",
     "shell.execute_reply": "2024-09-21T04:34:07.080983Z",
     "shell.execute_reply.started": "2024-09-21T04:34:07.080983Z"
    }
   },
   "outputs": [],
   "source": [
    "import os"
   ]
  },
  {
   "cell_type": "code",
   "execution_count": null,
   "id": "e58f8043-022c-48cb-8afb-163cf9deb283",
   "metadata": {
    "execution": {
     "iopub.status.busy": "2024-09-21T04:34:07.084504Z",
     "iopub.status.idle": "2024-09-21T04:34:07.086506Z",
     "shell.execute_reply": "2024-09-21T04:34:07.085509Z",
     "shell.execute_reply.started": "2024-09-21T04:34:07.085509Z"
    }
   },
   "outputs": [],
   "source": [
    "df_baru3 = pd.read_excel(os.path.join('excel', 'ini_col.xlsx'))"
   ]
  },
  {
   "cell_type": "code",
   "execution_count": null,
   "id": "f2ff9b51-9c31-40b6-a3bc-1232fac4ebbb",
   "metadata": {
    "execution": {
     "iopub.status.busy": "2024-09-21T04:34:07.091492Z",
     "iopub.status.idle": "2024-09-21T04:34:07.091492Z",
     "shell.execute_reply": "2024-09-21T04:34:07.091492Z",
     "shell.execute_reply.started": "2024-09-21T04:34:07.091492Z"
    }
   },
   "outputs": [],
   "source": [
    "os.path.join('excel', 'ini_col.xlsx')"
   ]
  },
  {
   "cell_type": "code",
   "execution_count": null,
   "id": "ff9f9022-468e-4d82-8d8d-4e5b2beab420",
   "metadata": {
    "execution": {
     "iopub.status.busy": "2024-09-21T04:34:07.095033Z",
     "iopub.status.idle": "2024-09-21T04:34:07.096036Z",
     "shell.execute_reply": "2024-09-21T04:34:07.096036Z",
     "shell.execute_reply.started": "2024-09-21T04:34:07.096036Z"
    }
   },
   "outputs": [],
   "source": [
    "df_baru3"
   ]
  },
  {
   "cell_type": "code",
   "execution_count": null,
   "id": "407f0b42-170a-4a4b-9ed6-b7653a902e14",
   "metadata": {},
   "outputs": [],
   "source": []
  },
  {
   "cell_type": "code",
   "execution_count": null,
   "id": "26258276-068f-4dcc-bce1-033ee45fe0e8",
   "metadata": {},
   "outputs": [],
   "source": []
  },
  {
   "cell_type": "markdown",
   "id": "429533e9-0203-425b-a26d-dfd32d3aac99",
   "metadata": {},
   "source": [
    "## buat banyak file"
   ]
  },
  {
   "cell_type": "code",
   "execution_count": null,
   "id": "571cd311-614c-48ed-93c3-6f319a8a490f",
   "metadata": {
    "execution": {
     "iopub.status.busy": "2024-09-21T04:34:07.098029Z",
     "iopub.status.idle": "2024-09-21T04:34:07.099027Z",
     "shell.execute_reply": "2024-09-21T04:34:07.099027Z",
     "shell.execute_reply.started": "2024-09-21T04:34:07.098029Z"
    }
   },
   "outputs": [],
   "source": [
    "for i in range(1, 11):\n",
    "    teks = 'ini adalah' + str(i)\n",
    "\n",
    "    nama_file = 'teks' + str(i) + '.txt'\n",
    "    #print(teks)\n",
    "    #print(nama_file)\n",
    "    f = open(nama_file, 'w')\n",
    "    f.write(teks)\n",
    "    f.close()"
   ]
  },
  {
   "cell_type": "markdown",
   "id": "260cd3fb-3267-48e4-86fd-351d7db62300",
   "metadata": {},
   "source": [
    "# Fungsi"
   ]
  },
  {
   "cell_type": "code",
   "execution_count": null,
   "id": "8dae935f-5265-4ede-8032-a25b9d7c2805",
   "metadata": {
    "execution": {
     "iopub.status.busy": "2024-09-21T04:34:07.102021Z",
     "iopub.status.idle": "2024-09-21T04:34:07.103017Z",
     "shell.execute_reply": "2024-09-21T04:34:07.102021Z",
     "shell.execute_reply.started": "2024-09-21T04:34:07.102021Z"
    }
   },
   "outputs": [],
   "source": [
    "def nama_fungsi1():\n",
    "    print('halo')"
   ]
  },
  {
   "cell_type": "code",
   "execution_count": null,
   "id": "a7a85ab5-789f-4673-9583-9b2ca18fc6ef",
   "metadata": {
    "execution": {
     "iopub.status.busy": "2024-09-21T04:34:07.105525Z",
     "iopub.status.idle": "2024-09-21T04:34:07.106528Z",
     "shell.execute_reply": "2024-09-21T04:34:07.106528Z",
     "shell.execute_reply.started": "2024-09-21T04:34:07.105525Z"
    }
   },
   "outputs": [],
   "source": [
    "nama_fungsi1()"
   ]
  },
  {
   "cell_type": "code",
   "execution_count": null,
   "id": "6ac89d2f-fae2-45e0-ada9-f3f8c3c379b2",
   "metadata": {},
   "outputs": [],
   "source": []
  },
  {
   "cell_type": "code",
   "execution_count": null,
   "id": "be841612-9d9c-4701-a43a-b99ff82ef650",
   "metadata": {
    "execution": {
     "iopub.status.busy": "2024-09-21T04:34:07.110518Z",
     "iopub.status.idle": "2024-09-21T04:34:07.111515Z",
     "shell.execute_reply": "2024-09-21T04:34:07.111515Z",
     "shell.execute_reply.started": "2024-09-21T04:34:07.111515Z"
    }
   },
   "outputs": [],
   "source": [
    "def nama_fungsi1():\n",
    "    print('halo')\n",
    "    for i in range(1, 6):\n",
    "        print(i)"
   ]
  },
  {
   "cell_type": "code",
   "execution_count": null,
   "id": "bfd91e74-4bd3-4782-a527-8d7be044e6f7",
   "metadata": {
    "execution": {
     "iopub.status.busy": "2024-09-21T04:34:07.115155Z",
     "iopub.status.idle": "2024-09-21T04:34:07.116158Z",
     "shell.execute_reply": "2024-09-21T04:34:07.115155Z",
     "shell.execute_reply.started": "2024-09-21T04:34:07.115155Z"
    }
   },
   "outputs": [],
   "source": [
    "def nama_fungsi2(param1, param2):\n",
    "    print('halo' + param1 + param2)\n",
    "    for i in range(1, 6):\n",
    "        print(i)"
   ]
  },
  {
   "cell_type": "code",
   "execution_count": null,
   "id": "52460153-6c66-4142-9550-edee3e1df323",
   "metadata": {
    "execution": {
     "iopub.status.busy": "2024-09-21T04:34:07.118151Z",
     "iopub.status.idle": "2024-09-21T04:34:07.119149Z",
     "shell.execute_reply": "2024-09-21T04:34:07.119149Z",
     "shell.execute_reply.started": "2024-09-21T04:34:07.119149Z"
    }
   },
   "outputs": [],
   "source": [
    "nama_fungsi2('dunia', 'maya')"
   ]
  },
  {
   "cell_type": "code",
   "execution_count": null,
   "id": "cffadee3-810a-4ef0-9527-6abb53b9b507",
   "metadata": {
    "execution": {
     "iopub.status.busy": "2024-09-21T04:34:07.122144Z",
     "iopub.status.idle": "2024-09-21T04:34:07.123138Z",
     "shell.execute_reply": "2024-09-21T04:34:07.123138Z",
     "shell.execute_reply.started": "2024-09-21T04:34:07.123138Z"
    }
   },
   "outputs": [],
   "source": [
    "nama_fungsi2('indonesia', 'malaysia')"
   ]
  },
  {
   "cell_type": "code",
   "execution_count": null,
   "id": "a78988bb-b2c5-40ed-b872-6ee6730a4df7",
   "metadata": {
    "execution": {
     "iopub.status.busy": "2024-09-21T04:34:07.126325Z",
     "iopub.status.idle": "2024-09-21T04:34:07.127323Z",
     "shell.execute_reply": "2024-09-21T04:34:07.126325Z",
     "shell.execute_reply.started": "2024-09-21T04:34:07.126325Z"
    }
   },
   "outputs": [],
   "source": [
    "def nama_fungsi3(param1='indo', param2='malay'):\n",
    "    print('halo' + param1 + param2)\n",
    "    for i in range(1, 6):\n",
    "        print(i)"
   ]
  },
  {
   "cell_type": "code",
   "execution_count": null,
   "id": "62ffd043-63a5-421e-9777-672cbb277f3c",
   "metadata": {
    "execution": {
     "iopub.status.busy": "2024-09-21T04:34:07.129318Z",
     "iopub.status.idle": "2024-09-21T04:34:07.130317Z",
     "shell.execute_reply": "2024-09-21T04:34:07.130317Z",
     "shell.execute_reply.started": "2024-09-21T04:34:07.130317Z"
    }
   },
   "outputs": [],
   "source": [
    "nama_fungsi3()"
   ]
  },
  {
   "cell_type": "code",
   "execution_count": null,
   "id": "af465fb0-c4aa-4c64-a3c5-32eb155a7850",
   "metadata": {
    "execution": {
     "iopub.status.busy": "2024-09-21T04:34:07.133871Z",
     "iopub.status.idle": "2024-09-21T04:34:07.134863Z",
     "shell.execute_reply": "2024-09-21T04:34:07.133871Z",
     "shell.execute_reply.started": "2024-09-21T04:34:07.133871Z"
    }
   },
   "outputs": [],
   "source": [
    "nama_fungsi3('aus', 'nz')"
   ]
  },
  {
   "cell_type": "code",
   "execution_count": null,
   "id": "8827afa2-f754-4b15-8880-719a6dc1c605",
   "metadata": {
    "execution": {
     "iopub.status.busy": "2024-09-21T04:34:07.136859Z",
     "iopub.status.idle": "2024-09-21T04:34:07.137854Z",
     "shell.execute_reply": "2024-09-21T04:34:07.137854Z",
     "shell.execute_reply.started": "2024-09-21T04:34:07.137854Z"
    }
   },
   "outputs": [],
   "source": [
    "def nama_fungsi4(param1=True, param2=1):\n",
    "    print('halo' + str(param2))\n",
    "    i = 1\n",
    "    while param1: # sama dengan while param1 == True\n",
    "        i += 1\n",
    "        print(i)\n",
    "\n",
    "        if i > 10: param1 = False\n",
    "    "
   ]
  },
  {
   "cell_type": "code",
   "execution_count": null,
   "id": "6a7ebd4a-1305-45c6-bc3c-343807b2954f",
   "metadata": {
    "execution": {
     "iopub.status.busy": "2024-09-21T04:34:07.141843Z",
     "iopub.status.idle": "2024-09-21T04:34:07.143350Z",
     "shell.execute_reply": "2024-09-21T04:34:07.142842Z",
     "shell.execute_reply.started": "2024-09-21T04:34:07.142842Z"
    }
   },
   "outputs": [],
   "source": [
    "nama_fungsi4()"
   ]
  },
  {
   "cell_type": "code",
   "execution_count": null,
   "id": "c7631509-d1e6-4ac7-aa3c-6bf8d2aa56ff",
   "metadata": {
    "execution": {
     "iopub.status.busy": "2024-09-21T04:34:07.145357Z",
     "iopub.status.idle": "2024-09-21T04:34:07.147351Z",
     "shell.execute_reply": "2024-09-21T04:34:07.146357Z",
     "shell.execute_reply.started": "2024-09-21T04:34:07.146357Z"
    }
   },
   "outputs": [],
   "source": [
    "nama_fungsi4(False)"
   ]
  },
  {
   "cell_type": "markdown",
   "id": "31de4d78-5ab7-4e18-a04c-61cc58fbc69d",
   "metadata": {},
   "source": [
    "## Return in function"
   ]
  },
  {
   "cell_type": "code",
   "execution_count": null,
   "id": "0c9fd3c4-7ca0-4d37-8e82-99272035fc56",
   "metadata": {
    "execution": {
     "iopub.status.busy": "2024-09-21T04:34:07.150342Z",
     "iopub.status.idle": "2024-09-21T04:34:07.151340Z",
     "shell.execute_reply": "2024-09-21T04:34:07.151340Z",
     "shell.execute_reply.started": "2024-09-21T04:34:07.151340Z"
    }
   },
   "outputs": [],
   "source": [
    "def fungsi5():\n",
    "    var1 = 10\n",
    "    var2 = 5\n",
    "    return var1+var2"
   ]
  },
  {
   "cell_type": "code",
   "execution_count": null,
   "id": "8684d260-ae1a-4acf-b7fa-fc75430c3be6",
   "metadata": {
    "execution": {
     "iopub.status.busy": "2024-09-21T04:34:07.155883Z",
     "iopub.status.idle": "2024-09-21T04:34:07.156880Z",
     "shell.execute_reply": "2024-09-21T04:34:07.155883Z",
     "shell.execute_reply.started": "2024-09-21T04:34:07.155883Z"
    }
   },
   "outputs": [],
   "source": [
    "dari_fungsi = fungsi5()"
   ]
  },
  {
   "cell_type": "code",
   "execution_count": null,
   "id": "d6510298-bb91-4e77-b74a-507bed610338",
   "metadata": {
    "execution": {
     "iopub.status.busy": "2024-09-21T04:34:07.159872Z",
     "iopub.status.idle": "2024-09-21T04:34:07.160870Z",
     "shell.execute_reply": "2024-09-21T04:34:07.159872Z",
     "shell.execute_reply.started": "2024-09-21T04:34:07.159872Z"
    }
   },
   "outputs": [],
   "source": [
    "dari_fungsi"
   ]
  },
  {
   "cell_type": "code",
   "execution_count": null,
   "id": "b9533fab-96f9-49b5-9a3a-e48af4654554",
   "metadata": {
    "execution": {
     "iopub.status.busy": "2024-09-21T04:34:07.162864Z",
     "iopub.status.idle": "2024-09-21T04:34:07.164375Z",
     "shell.execute_reply": "2024-09-21T04:34:07.164375Z",
     "shell.execute_reply.started": "2024-09-21T04:34:07.163372Z"
    }
   },
   "outputs": [],
   "source": [
    "def fungsi6(par1= 10, par2=5):\n",
    "    var1 = par1\n",
    "    var2 = par2\n",
    "    return var1+var2*10"
   ]
  },
  {
   "cell_type": "code",
   "execution_count": null,
   "id": "09e71d2c-1101-4236-9592-f607ca94434c",
   "metadata": {
    "execution": {
     "iopub.status.busy": "2024-09-21T04:34:07.167374Z",
     "iopub.status.idle": "2024-09-21T04:34:07.168372Z",
     "shell.execute_reply": "2024-09-21T04:34:07.168372Z",
     "shell.execute_reply.started": "2024-09-21T04:34:07.168372Z"
    }
   },
   "outputs": [],
   "source": [
    "dari_fungsi2 = fungsi6(par1=50, par2=100)"
   ]
  },
  {
   "cell_type": "code",
   "execution_count": null,
   "id": "a7550f9f-26d6-43e5-aa1e-f81fa878817b",
   "metadata": {
    "execution": {
     "iopub.status.busy": "2024-09-21T04:34:07.170870Z",
     "iopub.status.idle": "2024-09-21T04:34:07.173377Z",
     "shell.execute_reply": "2024-09-21T04:34:07.171873Z",
     "shell.execute_reply.started": "2024-09-21T04:34:07.171873Z"
    }
   },
   "outputs": [],
   "source": [
    "dari_fungsi2"
   ]
  },
  {
   "cell_type": "code",
   "execution_count": null,
   "id": "9545324e-42e6-4892-96c7-a2f026f8d7cc",
   "metadata": {},
   "outputs": [],
   "source": []
  },
  {
   "cell_type": "code",
   "execution_count": null,
   "id": "b2de6ae2-d3d4-45f7-babe-2ecfd9cc999b",
   "metadata": {},
   "outputs": [],
   "source": []
  },
  {
   "cell_type": "markdown",
   "id": "7ca9726d-5e24-4382-b088-dd08a93f7efd",
   "metadata": {},
   "source": [
    "\n",
    "# Class"
   ]
  },
  {
   "cell_type": "code",
   "execution_count": null,
   "id": "f12ee785-62b4-4d64-b4fe-8b35197310ca",
   "metadata": {
    "execution": {
     "iopub.status.busy": "2024-09-21T04:34:07.176385Z",
     "iopub.status.idle": "2024-09-21T04:34:07.178379Z",
     "shell.execute_reply": "2024-09-21T04:34:07.177382Z",
     "shell.execute_reply.started": "2024-09-21T04:34:07.177382Z"
    }
   },
   "outputs": [],
   "source": [
    "def fungsi_var():\n",
    "    var1 = 10\n",
    "\n",
    "class Halo:\n",
    "    def dunia(param1 = True):\n",
    "        var1 = 20\n",
    "        if param1:\n",
    "            print('halo dunia')\n",
    "            print(var1)\n",
    "        else:\n",
    "            print('param1 false')"
   ]
  },
  {
   "cell_type": "code",
   "execution_count": null,
   "id": "805838fe-d840-43dc-8207-940d7d5a6a09",
   "metadata": {
    "execution": {
     "iopub.status.busy": "2024-09-21T04:34:07.180372Z",
     "iopub.status.idle": "2024-09-21T04:34:07.181371Z",
     "shell.execute_reply": "2024-09-21T04:34:07.180372Z",
     "shell.execute_reply.started": "2024-09-21T04:34:07.180372Z"
    }
   },
   "outputs": [],
   "source": [
    "dunia()"
   ]
  },
  {
   "cell_type": "code",
   "execution_count": null,
   "id": "9f8c0635-6a10-4039-9c36-b13d5cccb3da",
   "metadata": {
    "execution": {
     "iopub.status.busy": "2024-09-21T04:34:07.184362Z",
     "iopub.status.idle": "2024-09-21T04:34:07.185365Z",
     "shell.execute_reply": "2024-09-21T04:34:07.184362Z",
     "shell.execute_reply.started": "2024-09-21T04:34:07.184362Z"
    }
   },
   "outputs": [],
   "source": [
    "Halo.dunia(False)"
   ]
  },
  {
   "cell_type": "markdown",
   "id": "7975e7a3-88c7-40b8-b809-8b910a6c922b",
   "metadata": {},
   "source": [
    "# Pickle"
   ]
  },
  {
   "cell_type": "code",
   "execution_count": null,
   "id": "fe76cecd-7a85-4528-86b6-11706a1ed238",
   "metadata": {
    "execution": {
     "iopub.status.busy": "2024-09-21T04:34:07.188359Z",
     "iopub.status.idle": "2024-09-21T04:34:07.190355Z",
     "shell.execute_reply": "2024-09-21T04:34:07.189355Z",
     "shell.execute_reply.started": "2024-09-21T04:34:07.189355Z"
    }
   },
   "outputs": [],
   "source": [
    "var1 = [1,2,3,4,5,6]"
   ]
  },
  {
   "cell_type": "code",
   "execution_count": null,
   "id": "9d0ef023-4569-48e0-a5fa-282f84b03428",
   "metadata": {
    "execution": {
     "iopub.status.busy": "2024-09-21T04:34:07.195889Z",
     "iopub.status.idle": "2024-09-21T04:34:07.196887Z",
     "shell.execute_reply": "2024-09-21T04:34:07.196887Z",
     "shell.execute_reply.started": "2024-09-21T04:34:07.196887Z"
    }
   },
   "outputs": [],
   "source": [
    "var1"
   ]
  },
  {
   "cell_type": "code",
   "execution_count": null,
   "id": "849a7c02-ca4d-4ac8-9d66-38633e69a31c",
   "metadata": {
    "execution": {
     "iopub.status.busy": "2024-09-21T04:34:07.200878Z",
     "iopub.status.idle": "2024-09-21T04:34:07.201877Z",
     "shell.execute_reply": "2024-09-21T04:34:07.201877Z",
     "shell.execute_reply.started": "2024-09-21T04:34:07.201877Z"
    }
   },
   "outputs": [],
   "source": [
    "import pickle"
   ]
  },
  {
   "cell_type": "code",
   "execution_count": null,
   "id": "859845d8-d0d0-4d47-9484-5eaf7450309e",
   "metadata": {
    "execution": {
     "iopub.status.busy": "2024-09-21T04:34:07.205915Z",
     "iopub.status.idle": "2024-09-21T04:34:07.206912Z",
     "shell.execute_reply": "2024-09-21T04:34:07.206912Z",
     "shell.execute_reply.started": "2024-09-21T04:34:07.206912Z"
    }
   },
   "outputs": [],
   "source": [
    "with open('file_picke.pkl', 'wb') as f:\n",
    "    pickle.dump(var1, f)"
   ]
  },
  {
   "cell_type": "code",
   "execution_count": null,
   "id": "419ff437-8b89-4b6e-b8ef-6a2317d8294d",
   "metadata": {},
   "outputs": [],
   "source": []
  },
  {
   "cell_type": "code",
   "execution_count": null,
   "id": "1c952e7f-e5c5-40ca-a398-af7310b02fbc",
   "metadata": {},
   "outputs": [],
   "source": []
  },
  {
   "cell_type": "code",
   "execution_count": null,
   "id": "753a4e71-8f06-4a86-aab1-7dc96671b5e6",
   "metadata": {
    "execution": {
     "iopub.status.busy": "2024-09-21T04:34:07.209904Z",
     "iopub.status.idle": "2024-09-21T04:34:07.210902Z",
     "shell.execute_reply": "2024-09-21T04:34:07.209904Z",
     "shell.execute_reply.started": "2024-09-21T04:34:07.209904Z"
    }
   },
   "outputs": [],
   "source": [
    "with open('file_picke.pkl', 'rb') as f:\n",
    "    var2 = pickle.load(f)"
   ]
  },
  {
   "cell_type": "code",
   "execution_count": null,
   "id": "7466c349-28a2-4067-8605-2c35faf2d6a1",
   "metadata": {
    "execution": {
     "iopub.status.busy": "2024-09-21T04:34:07.213926Z",
     "iopub.status.idle": "2024-09-21T04:34:07.215269Z",
     "shell.execute_reply": "2024-09-21T04:34:07.213926Z",
     "shell.execute_reply.started": "2024-09-21T04:34:07.213926Z"
    }
   },
   "outputs": [],
   "source": [
    "var2"
   ]
  },
  {
   "cell_type": "code",
   "execution_count": null,
   "id": "9ce53305-bb0d-40b1-acbd-7c06b1133906",
   "metadata": {},
   "outputs": [],
   "source": []
  }
 ],
 "metadata": {
  "kernelspec": {
   "display_name": "Python 3 (ipykernel)",
   "language": "python",
   "name": "python3"
  },
  "language_info": {
   "codemirror_mode": {
    "name": "ipython",
    "version": 3
   },
   "file_extension": ".py",
   "mimetype": "text/x-python",
   "name": "python",
   "nbconvert_exporter": "python",
   "pygments_lexer": "ipython3",
   "version": "3.9.19"
  }
 },
 "nbformat": 4,
 "nbformat_minor": 5
}
