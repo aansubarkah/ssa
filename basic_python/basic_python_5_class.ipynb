{
 "cells": [
  {
   "cell_type": "markdown",
   "metadata": {},
   "source": [
    "# Basic Python for Auditor - Class\n",
    "\n",
    "<strong>Sekolah Sabtu Auditor by BasangData.com</strong>"
   ]
  },
  {
   "cell_type": "markdown",
   "metadata": {},
   "source": [
    "# Akan didiskusikan\n",
    "\n",
    "- Kenapa perlu Basic Python - Class?\n",
    "- Menggunakan Class yang sudah ada\n",
    "- Membuat sendiri Class"
   ]
  },
  {
   "cell_type": "markdown",
   "metadata": {},
   "source": [
    "# Kenapa perlu Class (kelas) di Python?"
   ]
  },
  {
   "cell_type": "markdown",
   "metadata": {},
   "source": [
    "## Apa itu kelas?"
   ]
  },
  {
   "cell_type": "markdown",
   "metadata": {},
   "source": [
    "<div>\n",
    "<img src=\"https://raw.githubusercontent.com/aansubarkah/ssa/refs/heads/main/basic_python/excel_super_template.jpg\" width=\"500\" style=\"display:block;margin:0 auto\" />\n",
    "</div>"
   ]
  },
  {
   "cell_type": "markdown",
   "metadata": {},
   "source": [
    "Kelas adalah semacam super template Excel. Satu template dengan banyak template di dalamnya.\n",
    "- Sebuah alat/sistem\n",
    "- Kita pakai untuk melakukan sesuatu (membuat kopi)\n",
    "- Ada input (biji kopi, air, susu)\n",
    "- Ada output (air kopi)\n",
    "- Output bisa beragam (Americano, Espresso, Latte) tergantung tombol yg kita pencet (parameter)"
   ]
  },
  {
   "cell_type": "markdown",
   "metadata": {},
   "source": [
    "<div>\n",
    "<img src=\"https://raw.githubusercontent.com/aansubarkah/ssa/refs/heads/main/basic_python/excel_template.jpg\" width=\"500\" style=\"display:block;margin:0 auto\" />\n",
    "</div>"
   ]
  },
  {
   "cell_type": "markdown",
   "metadata": {},
   "source": [
    "### Tiga hal yang ada dalam kelas\n",
    "- Fungsi\n",
    "- Attribute (data)\n",
    "- Inisialisasi (initialize), tidak wajib, tapi umumnya ada"
   ]
  },
  {
   "cell_type": "markdown",
   "metadata": {},
   "source": [
    "## Apa manfaat kelas"
   ]
  },
  {
   "cell_type": "markdown",
   "metadata": {},
   "source": [
    "- Tidak perlu membuat sendiri template (tidak perlu membuat kode fungsi sendiri untuk output yg sama)\n",
    "- Mengurangi kompleksitas kode, mengurangi ukuran file, mengurangi kemungkinan error\n",
    "- Lebih mudah memperbaiki/mengubah kode, karena tidak perlu mengubah semua fungsi/kode\n",
    "- Struktur kode yang jelas"
   ]
  },
  {
   "cell_type": "markdown",
   "metadata": {},
   "source": [
    "## Dua jenis kelas, dari perspektif pembuatan\n",
    "- Kelas yang sudah ada\n",
    "- Kelas yang dibuat sendiri"
   ]
  },
  {
   "cell_type": "markdown",
   "metadata": {},
   "source": [
    "# Menggunakan Kelas yang sudah ada"
   ]
  },
  {
   "cell_type": "markdown",
   "metadata": {},
   "source": [
    "## Sumber/pembuat kelas\n",
    "- Standard library\n",
    "- Pihak ketiga "
   ]
  },
  {
   "cell_type": "markdown",
   "metadata": {},
   "source": [
    "### Contoh standard library\n",
    "- [os](https://docs.python.org/3/library/os.html)\n",
    "- [math](https://docs.python.org/3/library/math.html)\n",
    "- [re](https://docs.python.org/3/library/re.html)\n",
    "<br>\n",
    "<strong>Catatan:</strong> Perlu import, tapi tidak perlu install library\n",
    "<br>\n",
    "Daftar lengkap: https://docs.python.org/3/library/index.html"
   ]
  },
  {
   "cell_type": "code",
   "execution_count": 1,
   "metadata": {
    "execution": {
     "iopub.execute_input": "2025-01-03T13:13:42.657840Z",
     "iopub.status.busy": "2025-01-03T13:13:42.656842Z",
     "iopub.status.idle": "2025-01-03T13:13:43.930308Z",
     "shell.execute_reply": "2025-01-03T13:13:43.923737Z",
     "shell.execute_reply.started": "2025-01-03T13:13:42.657840Z"
    }
   },
   "outputs": [
    {
     "ename": "NameError",
     "evalue": "name 'os' is not defined",
     "output_type": "error",
     "traceback": [
      "\u001b[1;31m---------------------------------------------------------------------------\u001b[0m",
      "\u001b[1;31mNameError\u001b[0m                                 Traceback (most recent call last)",
      "Cell \u001b[1;32mIn[1], line 1\u001b[0m\n\u001b[1;32m----> 1\u001b[0m \u001b[43mos\u001b[49m\u001b[38;5;241m.\u001b[39mname\n",
      "\u001b[1;31mNameError\u001b[0m: name 'os' is not defined"
     ]
    }
   ],
   "source": [
    "os.name"
   ]
  },
  {
   "cell_type": "code",
   "execution_count": 2,
   "metadata": {
    "execution": {
     "iopub.execute_input": "2025-01-03T13:14:02.905422Z",
     "iopub.status.busy": "2025-01-03T13:14:02.904409Z",
     "iopub.status.idle": "2025-01-03T13:14:02.912769Z",
     "shell.execute_reply": "2025-01-03T13:14:02.910747Z",
     "shell.execute_reply.started": "2025-01-03T13:14:02.905422Z"
    }
   },
   "outputs": [],
   "source": [
    "import os"
   ]
  },
  {
   "cell_type": "code",
   "execution_count": 3,
   "metadata": {
    "execution": {
     "iopub.execute_input": "2025-01-03T13:14:05.907669Z",
     "iopub.status.busy": "2025-01-03T13:14:05.906684Z",
     "iopub.status.idle": "2025-01-03T13:14:05.926742Z",
     "shell.execute_reply": "2025-01-03T13:14:05.924799Z",
     "shell.execute_reply.started": "2025-01-03T13:14:05.907669Z"
    }
   },
   "outputs": [
    {
     "data": {
      "text/plain": [
       "'nt'"
      ]
     },
     "execution_count": 3,
     "metadata": {},
     "output_type": "execute_result"
    }
   ],
   "source": [
    "os.name"
   ]
  },
  {
   "cell_type": "markdown",
   "metadata": {},
   "source": [
    "#### Coba Sendiri"
   ]
  },
  {
   "cell_type": "code",
   "execution_count": 18,
   "metadata": {},
   "outputs": [
    {
     "ename": "NameError",
     "evalue": "name 'math' is not defined",
     "output_type": "error",
     "traceback": [
      "\u001b[1;31m---------------------------------------------------------------------------\u001b[0m",
      "\u001b[1;31mNameError\u001b[0m                                 Traceback (most recent call last)",
      "Cell \u001b[1;32mIn[18], line 1\u001b[0m\n\u001b[1;32m----> 1\u001b[0m \u001b[43mmath\u001b[49m\u001b[38;5;241m.\u001b[39mceil(\u001b[38;5;241m3.2\u001b[39m)\n",
      "\u001b[1;31mNameError\u001b[0m: name 'math' is not defined"
     ]
    }
   ],
   "source": [
    "math.ceil(3.2)"
   ]
  },
  {
   "cell_type": "code",
   "execution_count": null,
   "metadata": {},
   "outputs": [],
   "source": [
    "import math\n",
    "\n",
    "math.ceil(3.2)"
   ]
  },
  {
   "cell_type": "markdown",
   "metadata": {},
   "source": [
    "### Kelas dari pihak ketiga\n",
    "- Perlu install (cukup sekali)\n",
    "- Perlu import\n",
    "Daftar lengkap: [https://pypi.org/](https://pypi.org/)"
   ]
  },
  {
   "cell_type": "code",
   "execution_count": null,
   "metadata": {},
   "outputs": [],
   "source": [
    "!pip install pandas"
   ]
  },
  {
   "cell_type": "code",
   "execution_count": 4,
   "metadata": {},
   "outputs": [
    {
     "ename": "NameError",
     "evalue": "name 'pandas' is not defined",
     "output_type": "error",
     "traceback": [
      "\u001b[1;31m---------------------------------------------------------------------------\u001b[0m",
      "\u001b[1;31mNameError\u001b[0m                                 Traceback (most recent call last)",
      "Cell \u001b[1;32mIn[4], line 1\u001b[0m\n\u001b[1;32m----> 1\u001b[0m \u001b[43mpandas\u001b[49m\u001b[38;5;241m.\u001b[39mread_csv(\u001b[38;5;124m'\u001b[39m\u001b[38;5;124mhttps://github.com/aansubarkah/ssa/raw/refs/heads/main/MembukaPDF/SalesOrderHeaderMinimized.csv\u001b[39m\u001b[38;5;124m'\u001b[39m, sep\u001b[38;5;241m=\u001b[39m\u001b[38;5;124m'\u001b[39m\u001b[38;5;130;01m\\t\u001b[39;00m\u001b[38;5;124m'\u001b[39m)\n",
      "\u001b[1;31mNameError\u001b[0m: name 'pandas' is not defined"
     ]
    }
   ],
   "source": [
    "pandas.read_csv('https://github.com/aansubarkah/ssa/raw/refs/heads/main/MembukaPDF/SalesOrderHeaderMinimized.csv', sep='\\t')"
   ]
  },
  {
   "cell_type": "code",
   "execution_count": 11,
   "metadata": {
    "execution": {
     "iopub.execute_input": "2025-01-03T13:25:22.353379Z",
     "iopub.status.busy": "2025-01-03T13:25:22.352380Z",
     "iopub.status.idle": "2025-01-03T13:25:26.205164Z",
     "shell.execute_reply": "2025-01-03T13:25:26.201637Z",
     "shell.execute_reply.started": "2025-01-03T13:25:22.353379Z"
    }
   },
   "outputs": [],
   "source": [
    "import pandas as pd"
   ]
  },
  {
   "cell_type": "code",
   "execution_count": 12,
   "metadata": {
    "execution": {
     "iopub.execute_input": "2025-01-03T13:57:00.370770Z",
     "iopub.status.busy": "2025-01-03T13:57:00.369767Z",
     "iopub.status.idle": "2025-01-03T13:57:01.593295Z",
     "shell.execute_reply": "2025-01-03T13:57:01.590437Z",
     "shell.execute_reply.started": "2025-01-03T13:57:00.370770Z"
    }
   },
   "outputs": [
    {
     "data": {
      "text/html": [
       "<div>\n",
       "<style scoped>\n",
       "    .dataframe tbody tr th:only-of-type {\n",
       "        vertical-align: middle;\n",
       "    }\n",
       "\n",
       "    .dataframe tbody tr th {\n",
       "        vertical-align: top;\n",
       "    }\n",
       "\n",
       "    .dataframe thead th {\n",
       "        text-align: right;\n",
       "    }\n",
       "</style>\n",
       "<table border=\"1\" class=\"dataframe\">\n",
       "  <thead>\n",
       "    <tr style=\"text-align: right;\">\n",
       "      <th></th>\n",
       "      <th>SalesOrderID</th>\n",
       "      <th>RevisionNumber</th>\n",
       "      <th>OrderDate</th>\n",
       "      <th>DueDate</th>\n",
       "      <th>ShipDate</th>\n",
       "      <th>Status</th>\n",
       "      <th>OnlineOrderFlag</th>\n",
       "      <th>SalesOrderNumber</th>\n",
       "      <th>PurchaseOrderNumber</th>\n",
       "      <th>AccountNumber</th>\n",
       "      <th>...</th>\n",
       "      <th>CreditCardID</th>\n",
       "      <th>CreditCardApprovalCode</th>\n",
       "      <th>CurrencyRateID</th>\n",
       "      <th>SubTotal</th>\n",
       "      <th>TaxAmt</th>\n",
       "      <th>Freight</th>\n",
       "      <th>TotalDue</th>\n",
       "      <th>Comment</th>\n",
       "      <th>rowguid</th>\n",
       "      <th>ModifiedDate</th>\n",
       "    </tr>\n",
       "  </thead>\n",
       "  <tbody>\n",
       "    <tr>\n",
       "      <th>0</th>\n",
       "      <td>43659</td>\n",
       "      <td>8</td>\n",
       "      <td>2011-05-31 00:00:00.000</td>\n",
       "      <td>2011-06-12 00:00:00.000</td>\n",
       "      <td>2011-06-07 00:00:00.000</td>\n",
       "      <td>5</td>\n",
       "      <td>0</td>\n",
       "      <td>SO43659</td>\n",
       "      <td>PO522145787</td>\n",
       "      <td>10-4020-000676</td>\n",
       "      <td>...</td>\n",
       "      <td>16281.0</td>\n",
       "      <td>105041Vi84182</td>\n",
       "      <td>NaN</td>\n",
       "      <td>20565.6206</td>\n",
       "      <td>1971.5149</td>\n",
       "      <td>616.0984</td>\n",
       "      <td>23153.2339</td>\n",
       "      <td>NaN</td>\n",
       "      <td>79B65321-39CA-4115-9CBA-8FE0903E12E6</td>\n",
       "      <td>2011-06-07 00:00:00.000</td>\n",
       "    </tr>\n",
       "    <tr>\n",
       "      <th>1</th>\n",
       "      <td>43660</td>\n",
       "      <td>8</td>\n",
       "      <td>2011-05-31 00:00:00.000</td>\n",
       "      <td>2011-06-12 00:00:00.000</td>\n",
       "      <td>2011-06-07 00:00:00.000</td>\n",
       "      <td>5</td>\n",
       "      <td>0</td>\n",
       "      <td>SO43660</td>\n",
       "      <td>PO18850127500</td>\n",
       "      <td>10-4020-000117</td>\n",
       "      <td>...</td>\n",
       "      <td>5618.0</td>\n",
       "      <td>115213Vi29411</td>\n",
       "      <td>NaN</td>\n",
       "      <td>1294.2529</td>\n",
       "      <td>124.2483</td>\n",
       "      <td>38.8276</td>\n",
       "      <td>1457.3288</td>\n",
       "      <td>NaN</td>\n",
       "      <td>738DC42D-D03B-48A1-9822-F95A67EA7389</td>\n",
       "      <td>2011-06-07 00:00:00.000</td>\n",
       "    </tr>\n",
       "    <tr>\n",
       "      <th>2</th>\n",
       "      <td>43661</td>\n",
       "      <td>8</td>\n",
       "      <td>2011-05-31 00:00:00.000</td>\n",
       "      <td>2011-06-12 00:00:00.000</td>\n",
       "      <td>2011-06-07 00:00:00.000</td>\n",
       "      <td>5</td>\n",
       "      <td>0</td>\n",
       "      <td>SO43661</td>\n",
       "      <td>PO18473189620</td>\n",
       "      <td>10-4020-000442</td>\n",
       "      <td>...</td>\n",
       "      <td>1346.0</td>\n",
       "      <td>85274Vi6854</td>\n",
       "      <td>4.0</td>\n",
       "      <td>32726.4786</td>\n",
       "      <td>3153.7696</td>\n",
       "      <td>985.5530</td>\n",
       "      <td>36865.8012</td>\n",
       "      <td>NaN</td>\n",
       "      <td>D91B9131-18A4-4A11-BC3A-90B6F53E9D74</td>\n",
       "      <td>2011-06-07 00:00:00.000</td>\n",
       "    </tr>\n",
       "    <tr>\n",
       "      <th>3</th>\n",
       "      <td>43662</td>\n",
       "      <td>8</td>\n",
       "      <td>2011-05-31 00:00:00.000</td>\n",
       "      <td>2011-06-12 00:00:00.000</td>\n",
       "      <td>2011-06-07 00:00:00.000</td>\n",
       "      <td>5</td>\n",
       "      <td>0</td>\n",
       "      <td>SO43662</td>\n",
       "      <td>PO18444174044</td>\n",
       "      <td>10-4020-000227</td>\n",
       "      <td>...</td>\n",
       "      <td>10456.0</td>\n",
       "      <td>125295Vi53935</td>\n",
       "      <td>4.0</td>\n",
       "      <td>28832.5289</td>\n",
       "      <td>2775.1646</td>\n",
       "      <td>867.2389</td>\n",
       "      <td>32474.9324</td>\n",
       "      <td>NaN</td>\n",
       "      <td>4A1ECFC0-CC3A-4740-B028-1C50BB48711C</td>\n",
       "      <td>2011-06-07 00:00:00.000</td>\n",
       "    </tr>\n",
       "    <tr>\n",
       "      <th>4</th>\n",
       "      <td>43663</td>\n",
       "      <td>8</td>\n",
       "      <td>2011-05-31 00:00:00.000</td>\n",
       "      <td>2011-06-12 00:00:00.000</td>\n",
       "      <td>2011-06-07 00:00:00.000</td>\n",
       "      <td>5</td>\n",
       "      <td>0</td>\n",
       "      <td>SO43663</td>\n",
       "      <td>PO18009186470</td>\n",
       "      <td>10-4020-000510</td>\n",
       "      <td>...</td>\n",
       "      <td>4322.0</td>\n",
       "      <td>45303Vi22691</td>\n",
       "      <td>NaN</td>\n",
       "      <td>419.4589</td>\n",
       "      <td>40.2681</td>\n",
       "      <td>12.5838</td>\n",
       "      <td>472.3108</td>\n",
       "      <td>NaN</td>\n",
       "      <td>9B1E7A40-6AE0-4AD3-811C-A64951857C4B</td>\n",
       "      <td>2011-06-07 00:00:00.000</td>\n",
       "    </tr>\n",
       "    <tr>\n",
       "      <th>...</th>\n",
       "      <td>...</td>\n",
       "      <td>...</td>\n",
       "      <td>...</td>\n",
       "      <td>...</td>\n",
       "      <td>...</td>\n",
       "      <td>...</td>\n",
       "      <td>...</td>\n",
       "      <td>...</td>\n",
       "      <td>...</td>\n",
       "      <td>...</td>\n",
       "      <td>...</td>\n",
       "      <td>...</td>\n",
       "      <td>...</td>\n",
       "      <td>...</td>\n",
       "      <td>...</td>\n",
       "      <td>...</td>\n",
       "      <td>...</td>\n",
       "      <td>...</td>\n",
       "      <td>...</td>\n",
       "      <td>...</td>\n",
       "      <td>...</td>\n",
       "    </tr>\n",
       "    <tr>\n",
       "      <th>995</th>\n",
       "      <td>44654</td>\n",
       "      <td>8</td>\n",
       "      <td>2011-10-14 00:00:00.000</td>\n",
       "      <td>2011-10-26 00:00:00.000</td>\n",
       "      <td>2011-10-21 00:00:00.000</td>\n",
       "      <td>5</td>\n",
       "      <td>1</td>\n",
       "      <td>SO44654</td>\n",
       "      <td>NaN</td>\n",
       "      <td>10-4030-028619</td>\n",
       "      <td>...</td>\n",
       "      <td>12353.0</td>\n",
       "      <td>1032841Vi63906</td>\n",
       "      <td>NaN</td>\n",
       "      <td>3578.2700</td>\n",
       "      <td>286.2616</td>\n",
       "      <td>89.4568</td>\n",
       "      <td>3953.9884</td>\n",
       "      <td>NaN</td>\n",
       "      <td>999EC164-6BC0-4D4D-B0D7-BF8A3377CC7C</td>\n",
       "      <td>2011-10-21 00:00:00.000</td>\n",
       "    </tr>\n",
       "    <tr>\n",
       "      <th>996</th>\n",
       "      <td>44655</td>\n",
       "      <td>8</td>\n",
       "      <td>2011-10-14 00:00:00.000</td>\n",
       "      <td>2011-10-26 00:00:00.000</td>\n",
       "      <td>2011-10-21 00:00:00.000</td>\n",
       "      <td>5</td>\n",
       "      <td>1</td>\n",
       "      <td>SO44655</td>\n",
       "      <td>NaN</td>\n",
       "      <td>10-4030-011105</td>\n",
       "      <td>...</td>\n",
       "      <td>18919.0</td>\n",
       "      <td>834150Vi98284</td>\n",
       "      <td>1770.0</td>\n",
       "      <td>3399.9900</td>\n",
       "      <td>271.9992</td>\n",
       "      <td>84.9998</td>\n",
       "      <td>3756.9890</td>\n",
       "      <td>NaN</td>\n",
       "      <td>FAC4363F-6932-47FF-8801-5619ED2BBA56</td>\n",
       "      <td>2011-10-21 00:00:00.000</td>\n",
       "    </tr>\n",
       "    <tr>\n",
       "      <th>997</th>\n",
       "      <td>44656</td>\n",
       "      <td>8</td>\n",
       "      <td>2011-10-14 00:00:00.000</td>\n",
       "      <td>2011-10-26 00:00:00.000</td>\n",
       "      <td>2011-10-21 00:00:00.000</td>\n",
       "      <td>5</td>\n",
       "      <td>1</td>\n",
       "      <td>SO44656</td>\n",
       "      <td>NaN</td>\n",
       "      <td>10-4030-018275</td>\n",
       "      <td>...</td>\n",
       "      <td>12162.0</td>\n",
       "      <td>1234424Vi62869</td>\n",
       "      <td>1770.0</td>\n",
       "      <td>3578.2700</td>\n",
       "      <td>286.2616</td>\n",
       "      <td>89.4568</td>\n",
       "      <td>3953.9884</td>\n",
       "      <td>NaN</td>\n",
       "      <td>51FBF6A5-4AF7-49F1-B9EF-F4100496F000</td>\n",
       "      <td>2011-10-21 00:00:00.000</td>\n",
       "    </tr>\n",
       "    <tr>\n",
       "      <th>998</th>\n",
       "      <td>44657</td>\n",
       "      <td>8</td>\n",
       "      <td>2011-10-14 00:00:00.000</td>\n",
       "      <td>2011-10-26 00:00:00.000</td>\n",
       "      <td>2011-10-21 00:00:00.000</td>\n",
       "      <td>5</td>\n",
       "      <td>1</td>\n",
       "      <td>SO44657</td>\n",
       "      <td>NaN</td>\n",
       "      <td>10-4030-011120</td>\n",
       "      <td>...</td>\n",
       "      <td>5503.0</td>\n",
       "      <td>934967Vi28849</td>\n",
       "      <td>1770.0</td>\n",
       "      <td>3374.9900</td>\n",
       "      <td>269.9992</td>\n",
       "      <td>84.3748</td>\n",
       "      <td>3729.3640</td>\n",
       "      <td>NaN</td>\n",
       "      <td>CF059E0D-3392-49F0-8DA9-0865798C4FB3</td>\n",
       "      <td>2011-10-21 00:00:00.000</td>\n",
       "    </tr>\n",
       "    <tr>\n",
       "      <th>999</th>\n",
       "      <td>44658</td>\n",
       "      <td>8</td>\n",
       "      <td>2011-10-14 00:00:00.000</td>\n",
       "      <td>2011-10-26 00:00:00.000</td>\n",
       "      <td>2011-10-21 00:00:00.000</td>\n",
       "      <td>5</td>\n",
       "      <td>1</td>\n",
       "      <td>SO44658</td>\n",
       "      <td>NaN</td>\n",
       "      <td>10-4030-018201</td>\n",
       "      <td>...</td>\n",
       "      <td>1429.0</td>\n",
       "      <td>135323Vi7318</td>\n",
       "      <td>1770.0</td>\n",
       "      <td>3578.2700</td>\n",
       "      <td>286.2616</td>\n",
       "      <td>89.4568</td>\n",
       "      <td>3953.9884</td>\n",
       "      <td>NaN</td>\n",
       "      <td>D55CC1B2-4443-4DA7-BB75-F5DEFD62B2B8</td>\n",
       "      <td>2011-10-21 00:00:00.000</td>\n",
       "    </tr>\n",
       "  </tbody>\n",
       "</table>\n",
       "<p>1000 rows × 26 columns</p>\n",
       "</div>"
      ],
      "text/plain": [
       "     SalesOrderID  RevisionNumber                OrderDate  \\\n",
       "0           43659               8  2011-05-31 00:00:00.000   \n",
       "1           43660               8  2011-05-31 00:00:00.000   \n",
       "2           43661               8  2011-05-31 00:00:00.000   \n",
       "3           43662               8  2011-05-31 00:00:00.000   \n",
       "4           43663               8  2011-05-31 00:00:00.000   \n",
       "..            ...             ...                      ...   \n",
       "995         44654               8  2011-10-14 00:00:00.000   \n",
       "996         44655               8  2011-10-14 00:00:00.000   \n",
       "997         44656               8  2011-10-14 00:00:00.000   \n",
       "998         44657               8  2011-10-14 00:00:00.000   \n",
       "999         44658               8  2011-10-14 00:00:00.000   \n",
       "\n",
       "                     DueDate                 ShipDate  Status  \\\n",
       "0    2011-06-12 00:00:00.000  2011-06-07 00:00:00.000       5   \n",
       "1    2011-06-12 00:00:00.000  2011-06-07 00:00:00.000       5   \n",
       "2    2011-06-12 00:00:00.000  2011-06-07 00:00:00.000       5   \n",
       "3    2011-06-12 00:00:00.000  2011-06-07 00:00:00.000       5   \n",
       "4    2011-06-12 00:00:00.000  2011-06-07 00:00:00.000       5   \n",
       "..                       ...                      ...     ...   \n",
       "995  2011-10-26 00:00:00.000  2011-10-21 00:00:00.000       5   \n",
       "996  2011-10-26 00:00:00.000  2011-10-21 00:00:00.000       5   \n",
       "997  2011-10-26 00:00:00.000  2011-10-21 00:00:00.000       5   \n",
       "998  2011-10-26 00:00:00.000  2011-10-21 00:00:00.000       5   \n",
       "999  2011-10-26 00:00:00.000  2011-10-21 00:00:00.000       5   \n",
       "\n",
       "     OnlineOrderFlag SalesOrderNumber PurchaseOrderNumber   AccountNumber  \\\n",
       "0                  0          SO43659         PO522145787  10-4020-000676   \n",
       "1                  0          SO43660       PO18850127500  10-4020-000117   \n",
       "2                  0          SO43661       PO18473189620  10-4020-000442   \n",
       "3                  0          SO43662       PO18444174044  10-4020-000227   \n",
       "4                  0          SO43663       PO18009186470  10-4020-000510   \n",
       "..               ...              ...                 ...             ...   \n",
       "995                1          SO44654                 NaN  10-4030-028619   \n",
       "996                1          SO44655                 NaN  10-4030-011105   \n",
       "997                1          SO44656                 NaN  10-4030-018275   \n",
       "998                1          SO44657                 NaN  10-4030-011120   \n",
       "999                1          SO44658                 NaN  10-4030-018201   \n",
       "\n",
       "     ...  CreditCardID  CreditCardApprovalCode  CurrencyRateID    SubTotal  \\\n",
       "0    ...       16281.0           105041Vi84182             NaN  20565.6206   \n",
       "1    ...        5618.0           115213Vi29411             NaN   1294.2529   \n",
       "2    ...        1346.0             85274Vi6854             4.0  32726.4786   \n",
       "3    ...       10456.0           125295Vi53935             4.0  28832.5289   \n",
       "4    ...        4322.0            45303Vi22691             NaN    419.4589   \n",
       "..   ...           ...                     ...             ...         ...   \n",
       "995  ...       12353.0          1032841Vi63906             NaN   3578.2700   \n",
       "996  ...       18919.0           834150Vi98284          1770.0   3399.9900   \n",
       "997  ...       12162.0          1234424Vi62869          1770.0   3578.2700   \n",
       "998  ...        5503.0           934967Vi28849          1770.0   3374.9900   \n",
       "999  ...        1429.0            135323Vi7318          1770.0   3578.2700   \n",
       "\n",
       "        TaxAmt   Freight    TotalDue Comment  \\\n",
       "0    1971.5149  616.0984  23153.2339     NaN   \n",
       "1     124.2483   38.8276   1457.3288     NaN   \n",
       "2    3153.7696  985.5530  36865.8012     NaN   \n",
       "3    2775.1646  867.2389  32474.9324     NaN   \n",
       "4      40.2681   12.5838    472.3108     NaN   \n",
       "..         ...       ...         ...     ...   \n",
       "995   286.2616   89.4568   3953.9884     NaN   \n",
       "996   271.9992   84.9998   3756.9890     NaN   \n",
       "997   286.2616   89.4568   3953.9884     NaN   \n",
       "998   269.9992   84.3748   3729.3640     NaN   \n",
       "999   286.2616   89.4568   3953.9884     NaN   \n",
       "\n",
       "                                  rowguid             ModifiedDate  \n",
       "0    79B65321-39CA-4115-9CBA-8FE0903E12E6  2011-06-07 00:00:00.000  \n",
       "1    738DC42D-D03B-48A1-9822-F95A67EA7389  2011-06-07 00:00:00.000  \n",
       "2    D91B9131-18A4-4A11-BC3A-90B6F53E9D74  2011-06-07 00:00:00.000  \n",
       "3    4A1ECFC0-CC3A-4740-B028-1C50BB48711C  2011-06-07 00:00:00.000  \n",
       "4    9B1E7A40-6AE0-4AD3-811C-A64951857C4B  2011-06-07 00:00:00.000  \n",
       "..                                    ...                      ...  \n",
       "995  999EC164-6BC0-4D4D-B0D7-BF8A3377CC7C  2011-10-21 00:00:00.000  \n",
       "996  FAC4363F-6932-47FF-8801-5619ED2BBA56  2011-10-21 00:00:00.000  \n",
       "997  51FBF6A5-4AF7-49F1-B9EF-F4100496F000  2011-10-21 00:00:00.000  \n",
       "998  CF059E0D-3392-49F0-8DA9-0865798C4FB3  2011-10-21 00:00:00.000  \n",
       "999  D55CC1B2-4443-4DA7-BB75-F5DEFD62B2B8  2011-10-21 00:00:00.000  \n",
       "\n",
       "[1000 rows x 26 columns]"
      ]
     },
     "execution_count": 12,
     "metadata": {},
     "output_type": "execute_result"
    }
   ],
   "source": [
    "pd.read_csv('https://github.com/aansubarkah/ssa/raw/refs/heads/main/MembukaPDF/SalesOrderHeaderMinimized.csv', sep='\\t')"
   ]
  },
  {
   "cell_type": "code",
   "execution_count": 13,
   "metadata": {
    "execution": {
     "iopub.execute_input": "2025-01-03T13:38:27.384230Z",
     "iopub.status.busy": "2025-01-03T13:38:27.382232Z",
     "iopub.status.idle": "2025-01-03T13:38:29.607102Z",
     "shell.execute_reply": "2025-01-03T13:38:29.606091Z",
     "shell.execute_reply.started": "2025-01-03T13:38:27.384230Z"
    }
   },
   "outputs": [],
   "source": [
    "df = pd.read_csv('https://github.com/aansubarkah/ssa/raw/refs/heads/main/MembukaPDF/SalesOrderHeaderMinimized.csv', sep='\\t')"
   ]
  },
  {
   "cell_type": "code",
   "execution_count": 14,
   "metadata": {
    "execution": {
     "iopub.execute_input": "2025-01-03T13:38:29.610108Z",
     "iopub.status.busy": "2025-01-03T13:38:29.610108Z",
     "iopub.status.idle": "2025-01-03T13:38:29.681971Z",
     "shell.execute_reply": "2025-01-03T13:38:29.677958Z",
     "shell.execute_reply.started": "2025-01-03T13:38:29.610108Z"
    }
   },
   "outputs": [
    {
     "data": {
      "text/html": [
       "<div>\n",
       "<style scoped>\n",
       "    .dataframe tbody tr th:only-of-type {\n",
       "        vertical-align: middle;\n",
       "    }\n",
       "\n",
       "    .dataframe tbody tr th {\n",
       "        vertical-align: top;\n",
       "    }\n",
       "\n",
       "    .dataframe thead th {\n",
       "        text-align: right;\n",
       "    }\n",
       "</style>\n",
       "<table border=\"1\" class=\"dataframe\">\n",
       "  <thead>\n",
       "    <tr style=\"text-align: right;\">\n",
       "      <th></th>\n",
       "      <th>SalesOrderID</th>\n",
       "      <th>RevisionNumber</th>\n",
       "      <th>OrderDate</th>\n",
       "      <th>DueDate</th>\n",
       "      <th>ShipDate</th>\n",
       "      <th>Status</th>\n",
       "      <th>OnlineOrderFlag</th>\n",
       "      <th>SalesOrderNumber</th>\n",
       "      <th>PurchaseOrderNumber</th>\n",
       "      <th>AccountNumber</th>\n",
       "      <th>...</th>\n",
       "      <th>CreditCardID</th>\n",
       "      <th>CreditCardApprovalCode</th>\n",
       "      <th>CurrencyRateID</th>\n",
       "      <th>SubTotal</th>\n",
       "      <th>TaxAmt</th>\n",
       "      <th>Freight</th>\n",
       "      <th>TotalDue</th>\n",
       "      <th>Comment</th>\n",
       "      <th>rowguid</th>\n",
       "      <th>ModifiedDate</th>\n",
       "    </tr>\n",
       "  </thead>\n",
       "  <tbody>\n",
       "    <tr>\n",
       "      <th>0</th>\n",
       "      <td>43659</td>\n",
       "      <td>8</td>\n",
       "      <td>2011-05-31 00:00:00.000</td>\n",
       "      <td>2011-06-12 00:00:00.000</td>\n",
       "      <td>2011-06-07 00:00:00.000</td>\n",
       "      <td>5</td>\n",
       "      <td>0</td>\n",
       "      <td>SO43659</td>\n",
       "      <td>PO522145787</td>\n",
       "      <td>10-4020-000676</td>\n",
       "      <td>...</td>\n",
       "      <td>16281.0</td>\n",
       "      <td>105041Vi84182</td>\n",
       "      <td>NaN</td>\n",
       "      <td>20565.6206</td>\n",
       "      <td>1971.5149</td>\n",
       "      <td>616.0984</td>\n",
       "      <td>23153.2339</td>\n",
       "      <td>NaN</td>\n",
       "      <td>79B65321-39CA-4115-9CBA-8FE0903E12E6</td>\n",
       "      <td>2011-06-07 00:00:00.000</td>\n",
       "    </tr>\n",
       "    <tr>\n",
       "      <th>1</th>\n",
       "      <td>43660</td>\n",
       "      <td>8</td>\n",
       "      <td>2011-05-31 00:00:00.000</td>\n",
       "      <td>2011-06-12 00:00:00.000</td>\n",
       "      <td>2011-06-07 00:00:00.000</td>\n",
       "      <td>5</td>\n",
       "      <td>0</td>\n",
       "      <td>SO43660</td>\n",
       "      <td>PO18850127500</td>\n",
       "      <td>10-4020-000117</td>\n",
       "      <td>...</td>\n",
       "      <td>5618.0</td>\n",
       "      <td>115213Vi29411</td>\n",
       "      <td>NaN</td>\n",
       "      <td>1294.2529</td>\n",
       "      <td>124.2483</td>\n",
       "      <td>38.8276</td>\n",
       "      <td>1457.3288</td>\n",
       "      <td>NaN</td>\n",
       "      <td>738DC42D-D03B-48A1-9822-F95A67EA7389</td>\n",
       "      <td>2011-06-07 00:00:00.000</td>\n",
       "    </tr>\n",
       "    <tr>\n",
       "      <th>2</th>\n",
       "      <td>43661</td>\n",
       "      <td>8</td>\n",
       "      <td>2011-05-31 00:00:00.000</td>\n",
       "      <td>2011-06-12 00:00:00.000</td>\n",
       "      <td>2011-06-07 00:00:00.000</td>\n",
       "      <td>5</td>\n",
       "      <td>0</td>\n",
       "      <td>SO43661</td>\n",
       "      <td>PO18473189620</td>\n",
       "      <td>10-4020-000442</td>\n",
       "      <td>...</td>\n",
       "      <td>1346.0</td>\n",
       "      <td>85274Vi6854</td>\n",
       "      <td>4.0</td>\n",
       "      <td>32726.4786</td>\n",
       "      <td>3153.7696</td>\n",
       "      <td>985.5530</td>\n",
       "      <td>36865.8012</td>\n",
       "      <td>NaN</td>\n",
       "      <td>D91B9131-18A4-4A11-BC3A-90B6F53E9D74</td>\n",
       "      <td>2011-06-07 00:00:00.000</td>\n",
       "    </tr>\n",
       "    <tr>\n",
       "      <th>3</th>\n",
       "      <td>43662</td>\n",
       "      <td>8</td>\n",
       "      <td>2011-05-31 00:00:00.000</td>\n",
       "      <td>2011-06-12 00:00:00.000</td>\n",
       "      <td>2011-06-07 00:00:00.000</td>\n",
       "      <td>5</td>\n",
       "      <td>0</td>\n",
       "      <td>SO43662</td>\n",
       "      <td>PO18444174044</td>\n",
       "      <td>10-4020-000227</td>\n",
       "      <td>...</td>\n",
       "      <td>10456.0</td>\n",
       "      <td>125295Vi53935</td>\n",
       "      <td>4.0</td>\n",
       "      <td>28832.5289</td>\n",
       "      <td>2775.1646</td>\n",
       "      <td>867.2389</td>\n",
       "      <td>32474.9324</td>\n",
       "      <td>NaN</td>\n",
       "      <td>4A1ECFC0-CC3A-4740-B028-1C50BB48711C</td>\n",
       "      <td>2011-06-07 00:00:00.000</td>\n",
       "    </tr>\n",
       "    <tr>\n",
       "      <th>4</th>\n",
       "      <td>43663</td>\n",
       "      <td>8</td>\n",
       "      <td>2011-05-31 00:00:00.000</td>\n",
       "      <td>2011-06-12 00:00:00.000</td>\n",
       "      <td>2011-06-07 00:00:00.000</td>\n",
       "      <td>5</td>\n",
       "      <td>0</td>\n",
       "      <td>SO43663</td>\n",
       "      <td>PO18009186470</td>\n",
       "      <td>10-4020-000510</td>\n",
       "      <td>...</td>\n",
       "      <td>4322.0</td>\n",
       "      <td>45303Vi22691</td>\n",
       "      <td>NaN</td>\n",
       "      <td>419.4589</td>\n",
       "      <td>40.2681</td>\n",
       "      <td>12.5838</td>\n",
       "      <td>472.3108</td>\n",
       "      <td>NaN</td>\n",
       "      <td>9B1E7A40-6AE0-4AD3-811C-A64951857C4B</td>\n",
       "      <td>2011-06-07 00:00:00.000</td>\n",
       "    </tr>\n",
       "    <tr>\n",
       "      <th>...</th>\n",
       "      <td>...</td>\n",
       "      <td>...</td>\n",
       "      <td>...</td>\n",
       "      <td>...</td>\n",
       "      <td>...</td>\n",
       "      <td>...</td>\n",
       "      <td>...</td>\n",
       "      <td>...</td>\n",
       "      <td>...</td>\n",
       "      <td>...</td>\n",
       "      <td>...</td>\n",
       "      <td>...</td>\n",
       "      <td>...</td>\n",
       "      <td>...</td>\n",
       "      <td>...</td>\n",
       "      <td>...</td>\n",
       "      <td>...</td>\n",
       "      <td>...</td>\n",
       "      <td>...</td>\n",
       "      <td>...</td>\n",
       "      <td>...</td>\n",
       "    </tr>\n",
       "    <tr>\n",
       "      <th>995</th>\n",
       "      <td>44654</td>\n",
       "      <td>8</td>\n",
       "      <td>2011-10-14 00:00:00.000</td>\n",
       "      <td>2011-10-26 00:00:00.000</td>\n",
       "      <td>2011-10-21 00:00:00.000</td>\n",
       "      <td>5</td>\n",
       "      <td>1</td>\n",
       "      <td>SO44654</td>\n",
       "      <td>NaN</td>\n",
       "      <td>10-4030-028619</td>\n",
       "      <td>...</td>\n",
       "      <td>12353.0</td>\n",
       "      <td>1032841Vi63906</td>\n",
       "      <td>NaN</td>\n",
       "      <td>3578.2700</td>\n",
       "      <td>286.2616</td>\n",
       "      <td>89.4568</td>\n",
       "      <td>3953.9884</td>\n",
       "      <td>NaN</td>\n",
       "      <td>999EC164-6BC0-4D4D-B0D7-BF8A3377CC7C</td>\n",
       "      <td>2011-10-21 00:00:00.000</td>\n",
       "    </tr>\n",
       "    <tr>\n",
       "      <th>996</th>\n",
       "      <td>44655</td>\n",
       "      <td>8</td>\n",
       "      <td>2011-10-14 00:00:00.000</td>\n",
       "      <td>2011-10-26 00:00:00.000</td>\n",
       "      <td>2011-10-21 00:00:00.000</td>\n",
       "      <td>5</td>\n",
       "      <td>1</td>\n",
       "      <td>SO44655</td>\n",
       "      <td>NaN</td>\n",
       "      <td>10-4030-011105</td>\n",
       "      <td>...</td>\n",
       "      <td>18919.0</td>\n",
       "      <td>834150Vi98284</td>\n",
       "      <td>1770.0</td>\n",
       "      <td>3399.9900</td>\n",
       "      <td>271.9992</td>\n",
       "      <td>84.9998</td>\n",
       "      <td>3756.9890</td>\n",
       "      <td>NaN</td>\n",
       "      <td>FAC4363F-6932-47FF-8801-5619ED2BBA56</td>\n",
       "      <td>2011-10-21 00:00:00.000</td>\n",
       "    </tr>\n",
       "    <tr>\n",
       "      <th>997</th>\n",
       "      <td>44656</td>\n",
       "      <td>8</td>\n",
       "      <td>2011-10-14 00:00:00.000</td>\n",
       "      <td>2011-10-26 00:00:00.000</td>\n",
       "      <td>2011-10-21 00:00:00.000</td>\n",
       "      <td>5</td>\n",
       "      <td>1</td>\n",
       "      <td>SO44656</td>\n",
       "      <td>NaN</td>\n",
       "      <td>10-4030-018275</td>\n",
       "      <td>...</td>\n",
       "      <td>12162.0</td>\n",
       "      <td>1234424Vi62869</td>\n",
       "      <td>1770.0</td>\n",
       "      <td>3578.2700</td>\n",
       "      <td>286.2616</td>\n",
       "      <td>89.4568</td>\n",
       "      <td>3953.9884</td>\n",
       "      <td>NaN</td>\n",
       "      <td>51FBF6A5-4AF7-49F1-B9EF-F4100496F000</td>\n",
       "      <td>2011-10-21 00:00:00.000</td>\n",
       "    </tr>\n",
       "    <tr>\n",
       "      <th>998</th>\n",
       "      <td>44657</td>\n",
       "      <td>8</td>\n",
       "      <td>2011-10-14 00:00:00.000</td>\n",
       "      <td>2011-10-26 00:00:00.000</td>\n",
       "      <td>2011-10-21 00:00:00.000</td>\n",
       "      <td>5</td>\n",
       "      <td>1</td>\n",
       "      <td>SO44657</td>\n",
       "      <td>NaN</td>\n",
       "      <td>10-4030-011120</td>\n",
       "      <td>...</td>\n",
       "      <td>5503.0</td>\n",
       "      <td>934967Vi28849</td>\n",
       "      <td>1770.0</td>\n",
       "      <td>3374.9900</td>\n",
       "      <td>269.9992</td>\n",
       "      <td>84.3748</td>\n",
       "      <td>3729.3640</td>\n",
       "      <td>NaN</td>\n",
       "      <td>CF059E0D-3392-49F0-8DA9-0865798C4FB3</td>\n",
       "      <td>2011-10-21 00:00:00.000</td>\n",
       "    </tr>\n",
       "    <tr>\n",
       "      <th>999</th>\n",
       "      <td>44658</td>\n",
       "      <td>8</td>\n",
       "      <td>2011-10-14 00:00:00.000</td>\n",
       "      <td>2011-10-26 00:00:00.000</td>\n",
       "      <td>2011-10-21 00:00:00.000</td>\n",
       "      <td>5</td>\n",
       "      <td>1</td>\n",
       "      <td>SO44658</td>\n",
       "      <td>NaN</td>\n",
       "      <td>10-4030-018201</td>\n",
       "      <td>...</td>\n",
       "      <td>1429.0</td>\n",
       "      <td>135323Vi7318</td>\n",
       "      <td>1770.0</td>\n",
       "      <td>3578.2700</td>\n",
       "      <td>286.2616</td>\n",
       "      <td>89.4568</td>\n",
       "      <td>3953.9884</td>\n",
       "      <td>NaN</td>\n",
       "      <td>D55CC1B2-4443-4DA7-BB75-F5DEFD62B2B8</td>\n",
       "      <td>2011-10-21 00:00:00.000</td>\n",
       "    </tr>\n",
       "  </tbody>\n",
       "</table>\n",
       "<p>1000 rows × 26 columns</p>\n",
       "</div>"
      ],
      "text/plain": [
       "     SalesOrderID  RevisionNumber                OrderDate  \\\n",
       "0           43659               8  2011-05-31 00:00:00.000   \n",
       "1           43660               8  2011-05-31 00:00:00.000   \n",
       "2           43661               8  2011-05-31 00:00:00.000   \n",
       "3           43662               8  2011-05-31 00:00:00.000   \n",
       "4           43663               8  2011-05-31 00:00:00.000   \n",
       "..            ...             ...                      ...   \n",
       "995         44654               8  2011-10-14 00:00:00.000   \n",
       "996         44655               8  2011-10-14 00:00:00.000   \n",
       "997         44656               8  2011-10-14 00:00:00.000   \n",
       "998         44657               8  2011-10-14 00:00:00.000   \n",
       "999         44658               8  2011-10-14 00:00:00.000   \n",
       "\n",
       "                     DueDate                 ShipDate  Status  \\\n",
       "0    2011-06-12 00:00:00.000  2011-06-07 00:00:00.000       5   \n",
       "1    2011-06-12 00:00:00.000  2011-06-07 00:00:00.000       5   \n",
       "2    2011-06-12 00:00:00.000  2011-06-07 00:00:00.000       5   \n",
       "3    2011-06-12 00:00:00.000  2011-06-07 00:00:00.000       5   \n",
       "4    2011-06-12 00:00:00.000  2011-06-07 00:00:00.000       5   \n",
       "..                       ...                      ...     ...   \n",
       "995  2011-10-26 00:00:00.000  2011-10-21 00:00:00.000       5   \n",
       "996  2011-10-26 00:00:00.000  2011-10-21 00:00:00.000       5   \n",
       "997  2011-10-26 00:00:00.000  2011-10-21 00:00:00.000       5   \n",
       "998  2011-10-26 00:00:00.000  2011-10-21 00:00:00.000       5   \n",
       "999  2011-10-26 00:00:00.000  2011-10-21 00:00:00.000       5   \n",
       "\n",
       "     OnlineOrderFlag SalesOrderNumber PurchaseOrderNumber   AccountNumber  \\\n",
       "0                  0          SO43659         PO522145787  10-4020-000676   \n",
       "1                  0          SO43660       PO18850127500  10-4020-000117   \n",
       "2                  0          SO43661       PO18473189620  10-4020-000442   \n",
       "3                  0          SO43662       PO18444174044  10-4020-000227   \n",
       "4                  0          SO43663       PO18009186470  10-4020-000510   \n",
       "..               ...              ...                 ...             ...   \n",
       "995                1          SO44654                 NaN  10-4030-028619   \n",
       "996                1          SO44655                 NaN  10-4030-011105   \n",
       "997                1          SO44656                 NaN  10-4030-018275   \n",
       "998                1          SO44657                 NaN  10-4030-011120   \n",
       "999                1          SO44658                 NaN  10-4030-018201   \n",
       "\n",
       "     ...  CreditCardID  CreditCardApprovalCode  CurrencyRateID    SubTotal  \\\n",
       "0    ...       16281.0           105041Vi84182             NaN  20565.6206   \n",
       "1    ...        5618.0           115213Vi29411             NaN   1294.2529   \n",
       "2    ...        1346.0             85274Vi6854             4.0  32726.4786   \n",
       "3    ...       10456.0           125295Vi53935             4.0  28832.5289   \n",
       "4    ...        4322.0            45303Vi22691             NaN    419.4589   \n",
       "..   ...           ...                     ...             ...         ...   \n",
       "995  ...       12353.0          1032841Vi63906             NaN   3578.2700   \n",
       "996  ...       18919.0           834150Vi98284          1770.0   3399.9900   \n",
       "997  ...       12162.0          1234424Vi62869          1770.0   3578.2700   \n",
       "998  ...        5503.0           934967Vi28849          1770.0   3374.9900   \n",
       "999  ...        1429.0            135323Vi7318          1770.0   3578.2700   \n",
       "\n",
       "        TaxAmt   Freight    TotalDue Comment  \\\n",
       "0    1971.5149  616.0984  23153.2339     NaN   \n",
       "1     124.2483   38.8276   1457.3288     NaN   \n",
       "2    3153.7696  985.5530  36865.8012     NaN   \n",
       "3    2775.1646  867.2389  32474.9324     NaN   \n",
       "4      40.2681   12.5838    472.3108     NaN   \n",
       "..         ...       ...         ...     ...   \n",
       "995   286.2616   89.4568   3953.9884     NaN   \n",
       "996   271.9992   84.9998   3756.9890     NaN   \n",
       "997   286.2616   89.4568   3953.9884     NaN   \n",
       "998   269.9992   84.3748   3729.3640     NaN   \n",
       "999   286.2616   89.4568   3953.9884     NaN   \n",
       "\n",
       "                                  rowguid             ModifiedDate  \n",
       "0    79B65321-39CA-4115-9CBA-8FE0903E12E6  2011-06-07 00:00:00.000  \n",
       "1    738DC42D-D03B-48A1-9822-F95A67EA7389  2011-06-07 00:00:00.000  \n",
       "2    D91B9131-18A4-4A11-BC3A-90B6F53E9D74  2011-06-07 00:00:00.000  \n",
       "3    4A1ECFC0-CC3A-4740-B028-1C50BB48711C  2011-06-07 00:00:00.000  \n",
       "4    9B1E7A40-6AE0-4AD3-811C-A64951857C4B  2011-06-07 00:00:00.000  \n",
       "..                                    ...                      ...  \n",
       "995  999EC164-6BC0-4D4D-B0D7-BF8A3377CC7C  2011-10-21 00:00:00.000  \n",
       "996  FAC4363F-6932-47FF-8801-5619ED2BBA56  2011-10-21 00:00:00.000  \n",
       "997  51FBF6A5-4AF7-49F1-B9EF-F4100496F000  2011-10-21 00:00:00.000  \n",
       "998  CF059E0D-3392-49F0-8DA9-0865798C4FB3  2011-10-21 00:00:00.000  \n",
       "999  D55CC1B2-4443-4DA7-BB75-F5DEFD62B2B8  2011-10-21 00:00:00.000  \n",
       "\n",
       "[1000 rows x 26 columns]"
      ]
     },
     "execution_count": 14,
     "metadata": {},
     "output_type": "execute_result"
    }
   ],
   "source": [
    "df"
   ]
  },
  {
   "cell_type": "markdown",
   "metadata": {},
   "source": [
    "### Coba Sendiri"
   ]
  },
  {
   "cell_type": "code",
   "execution_count": 16,
   "metadata": {},
   "outputs": [],
   "source": [
    "fd = pd.read_excel('https://github.com/aansubarkah/ssa/raw/refs/heads/main/basic_python/SalesOrderHeaderMinimized.xlsx')"
   ]
  },
  {
   "cell_type": "code",
   "execution_count": 17,
   "metadata": {},
   "outputs": [
    {
     "data": {
      "text/html": [
       "<div>\n",
       "<style scoped>\n",
       "    .dataframe tbody tr th:only-of-type {\n",
       "        vertical-align: middle;\n",
       "    }\n",
       "\n",
       "    .dataframe tbody tr th {\n",
       "        vertical-align: top;\n",
       "    }\n",
       "\n",
       "    .dataframe thead th {\n",
       "        text-align: right;\n",
       "    }\n",
       "</style>\n",
       "<table border=\"1\" class=\"dataframe\">\n",
       "  <thead>\n",
       "    <tr style=\"text-align: right;\">\n",
       "      <th></th>\n",
       "      <th>SalesOrderID</th>\n",
       "      <th>RevisionNumber</th>\n",
       "      <th>OrderDate</th>\n",
       "      <th>DueDate</th>\n",
       "      <th>ShipDate</th>\n",
       "      <th>Status</th>\n",
       "      <th>OnlineOrderFlag</th>\n",
       "      <th>SalesOrderNumber</th>\n",
       "      <th>PurchaseOrderNumber</th>\n",
       "      <th>AccountNumber</th>\n",
       "      <th>...</th>\n",
       "      <th>CreditCardID</th>\n",
       "      <th>CreditCardApprovalCode</th>\n",
       "      <th>CurrencyRateID</th>\n",
       "      <th>SubTotal</th>\n",
       "      <th>TaxAmt</th>\n",
       "      <th>Freight</th>\n",
       "      <th>TotalDue</th>\n",
       "      <th>Comment</th>\n",
       "      <th>rowguid</th>\n",
       "      <th>ModifiedDate</th>\n",
       "    </tr>\n",
       "  </thead>\n",
       "  <tbody>\n",
       "    <tr>\n",
       "      <th>0</th>\n",
       "      <td>43659</td>\n",
       "      <td>8</td>\n",
       "      <td>2011-05-31 00:00:00.000</td>\n",
       "      <td>2011-06-12 00:00:00.000</td>\n",
       "      <td>2011-06-07 00:00:00.000</td>\n",
       "      <td>5</td>\n",
       "      <td>0</td>\n",
       "      <td>SO43659</td>\n",
       "      <td>PO522145787</td>\n",
       "      <td>10-4020-000676</td>\n",
       "      <td>...</td>\n",
       "      <td>16281.0</td>\n",
       "      <td>105041Vi84182</td>\n",
       "      <td>NaN</td>\n",
       "      <td>20565.6206</td>\n",
       "      <td>1971.5149</td>\n",
       "      <td>616.0984</td>\n",
       "      <td>23153.2339</td>\n",
       "      <td>NaN</td>\n",
       "      <td>79B65321-39CA-4115-9CBA-8FE0903E12E6</td>\n",
       "      <td>2011-06-07 00:00:00.000</td>\n",
       "    </tr>\n",
       "    <tr>\n",
       "      <th>1</th>\n",
       "      <td>43660</td>\n",
       "      <td>8</td>\n",
       "      <td>2011-05-31 00:00:00.000</td>\n",
       "      <td>2011-06-12 00:00:00.000</td>\n",
       "      <td>2011-06-07 00:00:00.000</td>\n",
       "      <td>5</td>\n",
       "      <td>0</td>\n",
       "      <td>SO43660</td>\n",
       "      <td>PO18850127500</td>\n",
       "      <td>10-4020-000117</td>\n",
       "      <td>...</td>\n",
       "      <td>5618.0</td>\n",
       "      <td>115213Vi29411</td>\n",
       "      <td>NaN</td>\n",
       "      <td>1294.2529</td>\n",
       "      <td>124.2483</td>\n",
       "      <td>38.8276</td>\n",
       "      <td>1457.3288</td>\n",
       "      <td>NaN</td>\n",
       "      <td>738DC42D-D03B-48A1-9822-F95A67EA7389</td>\n",
       "      <td>2011-06-07 00:00:00.000</td>\n",
       "    </tr>\n",
       "    <tr>\n",
       "      <th>2</th>\n",
       "      <td>43661</td>\n",
       "      <td>8</td>\n",
       "      <td>2011-05-31 00:00:00.000</td>\n",
       "      <td>2011-06-12 00:00:00.000</td>\n",
       "      <td>2011-06-07 00:00:00.000</td>\n",
       "      <td>5</td>\n",
       "      <td>0</td>\n",
       "      <td>SO43661</td>\n",
       "      <td>PO18473189620</td>\n",
       "      <td>10-4020-000442</td>\n",
       "      <td>...</td>\n",
       "      <td>1346.0</td>\n",
       "      <td>85274Vi6854</td>\n",
       "      <td>4.0</td>\n",
       "      <td>32726.4786</td>\n",
       "      <td>3153.7696</td>\n",
       "      <td>985.5530</td>\n",
       "      <td>36865.8012</td>\n",
       "      <td>NaN</td>\n",
       "      <td>D91B9131-18A4-4A11-BC3A-90B6F53E9D74</td>\n",
       "      <td>2011-06-07 00:00:00.000</td>\n",
       "    </tr>\n",
       "    <tr>\n",
       "      <th>3</th>\n",
       "      <td>43662</td>\n",
       "      <td>8</td>\n",
       "      <td>2011-05-31 00:00:00.000</td>\n",
       "      <td>2011-06-12 00:00:00.000</td>\n",
       "      <td>2011-06-07 00:00:00.000</td>\n",
       "      <td>5</td>\n",
       "      <td>0</td>\n",
       "      <td>SO43662</td>\n",
       "      <td>PO18444174044</td>\n",
       "      <td>10-4020-000227</td>\n",
       "      <td>...</td>\n",
       "      <td>10456.0</td>\n",
       "      <td>125295Vi53935</td>\n",
       "      <td>4.0</td>\n",
       "      <td>28832.5289</td>\n",
       "      <td>2775.1646</td>\n",
       "      <td>867.2389</td>\n",
       "      <td>32474.9324</td>\n",
       "      <td>NaN</td>\n",
       "      <td>4A1ECFC0-CC3A-4740-B028-1C50BB48711C</td>\n",
       "      <td>2011-06-07 00:00:00.000</td>\n",
       "    </tr>\n",
       "    <tr>\n",
       "      <th>4</th>\n",
       "      <td>43663</td>\n",
       "      <td>8</td>\n",
       "      <td>2011-05-31 00:00:00.000</td>\n",
       "      <td>2011-06-12 00:00:00.000</td>\n",
       "      <td>2011-06-07 00:00:00.000</td>\n",
       "      <td>5</td>\n",
       "      <td>0</td>\n",
       "      <td>SO43663</td>\n",
       "      <td>PO18009186470</td>\n",
       "      <td>10-4020-000510</td>\n",
       "      <td>...</td>\n",
       "      <td>4322.0</td>\n",
       "      <td>45303Vi22691</td>\n",
       "      <td>NaN</td>\n",
       "      <td>419.4589</td>\n",
       "      <td>40.2681</td>\n",
       "      <td>12.5838</td>\n",
       "      <td>472.3108</td>\n",
       "      <td>NaN</td>\n",
       "      <td>9B1E7A40-6AE0-4AD3-811C-A64951857C4B</td>\n",
       "      <td>2011-06-07 00:00:00.000</td>\n",
       "    </tr>\n",
       "    <tr>\n",
       "      <th>...</th>\n",
       "      <td>...</td>\n",
       "      <td>...</td>\n",
       "      <td>...</td>\n",
       "      <td>...</td>\n",
       "      <td>...</td>\n",
       "      <td>...</td>\n",
       "      <td>...</td>\n",
       "      <td>...</td>\n",
       "      <td>...</td>\n",
       "      <td>...</td>\n",
       "      <td>...</td>\n",
       "      <td>...</td>\n",
       "      <td>...</td>\n",
       "      <td>...</td>\n",
       "      <td>...</td>\n",
       "      <td>...</td>\n",
       "      <td>...</td>\n",
       "      <td>...</td>\n",
       "      <td>...</td>\n",
       "      <td>...</td>\n",
       "      <td>...</td>\n",
       "    </tr>\n",
       "    <tr>\n",
       "      <th>995</th>\n",
       "      <td>44654</td>\n",
       "      <td>8</td>\n",
       "      <td>2011-10-14 00:00:00.000</td>\n",
       "      <td>2011-10-26 00:00:00.000</td>\n",
       "      <td>2011-10-21 00:00:00.000</td>\n",
       "      <td>5</td>\n",
       "      <td>1</td>\n",
       "      <td>SO44654</td>\n",
       "      <td>NaN</td>\n",
       "      <td>10-4030-028619</td>\n",
       "      <td>...</td>\n",
       "      <td>12353.0</td>\n",
       "      <td>1032841Vi63906</td>\n",
       "      <td>NaN</td>\n",
       "      <td>3578.2700</td>\n",
       "      <td>286.2616</td>\n",
       "      <td>89.4568</td>\n",
       "      <td>3953.9884</td>\n",
       "      <td>NaN</td>\n",
       "      <td>999EC164-6BC0-4D4D-B0D7-BF8A3377CC7C</td>\n",
       "      <td>2011-10-21 00:00:00.000</td>\n",
       "    </tr>\n",
       "    <tr>\n",
       "      <th>996</th>\n",
       "      <td>44655</td>\n",
       "      <td>8</td>\n",
       "      <td>2011-10-14 00:00:00.000</td>\n",
       "      <td>2011-10-26 00:00:00.000</td>\n",
       "      <td>2011-10-21 00:00:00.000</td>\n",
       "      <td>5</td>\n",
       "      <td>1</td>\n",
       "      <td>SO44655</td>\n",
       "      <td>NaN</td>\n",
       "      <td>10-4030-011105</td>\n",
       "      <td>...</td>\n",
       "      <td>18919.0</td>\n",
       "      <td>834150Vi98284</td>\n",
       "      <td>1770.0</td>\n",
       "      <td>3399.9900</td>\n",
       "      <td>271.9992</td>\n",
       "      <td>84.9998</td>\n",
       "      <td>3756.9890</td>\n",
       "      <td>NaN</td>\n",
       "      <td>FAC4363F-6932-47FF-8801-5619ED2BBA56</td>\n",
       "      <td>2011-10-21 00:00:00.000</td>\n",
       "    </tr>\n",
       "    <tr>\n",
       "      <th>997</th>\n",
       "      <td>44656</td>\n",
       "      <td>8</td>\n",
       "      <td>2011-10-14 00:00:00.000</td>\n",
       "      <td>2011-10-26 00:00:00.000</td>\n",
       "      <td>2011-10-21 00:00:00.000</td>\n",
       "      <td>5</td>\n",
       "      <td>1</td>\n",
       "      <td>SO44656</td>\n",
       "      <td>NaN</td>\n",
       "      <td>10-4030-018275</td>\n",
       "      <td>...</td>\n",
       "      <td>12162.0</td>\n",
       "      <td>1234424Vi62869</td>\n",
       "      <td>1770.0</td>\n",
       "      <td>3578.2700</td>\n",
       "      <td>286.2616</td>\n",
       "      <td>89.4568</td>\n",
       "      <td>3953.9884</td>\n",
       "      <td>NaN</td>\n",
       "      <td>51FBF6A5-4AF7-49F1-B9EF-F4100496F000</td>\n",
       "      <td>2011-10-21 00:00:00.000</td>\n",
       "    </tr>\n",
       "    <tr>\n",
       "      <th>998</th>\n",
       "      <td>44657</td>\n",
       "      <td>8</td>\n",
       "      <td>2011-10-14 00:00:00.000</td>\n",
       "      <td>2011-10-26 00:00:00.000</td>\n",
       "      <td>2011-10-21 00:00:00.000</td>\n",
       "      <td>5</td>\n",
       "      <td>1</td>\n",
       "      <td>SO44657</td>\n",
       "      <td>NaN</td>\n",
       "      <td>10-4030-011120</td>\n",
       "      <td>...</td>\n",
       "      <td>5503.0</td>\n",
       "      <td>934967Vi28849</td>\n",
       "      <td>1770.0</td>\n",
       "      <td>3374.9900</td>\n",
       "      <td>269.9992</td>\n",
       "      <td>84.3748</td>\n",
       "      <td>3729.3640</td>\n",
       "      <td>NaN</td>\n",
       "      <td>CF059E0D-3392-49F0-8DA9-0865798C4FB3</td>\n",
       "      <td>2011-10-21 00:00:00.000</td>\n",
       "    </tr>\n",
       "    <tr>\n",
       "      <th>999</th>\n",
       "      <td>44658</td>\n",
       "      <td>8</td>\n",
       "      <td>2011-10-14 00:00:00.000</td>\n",
       "      <td>2011-10-26 00:00:00.000</td>\n",
       "      <td>2011-10-21 00:00:00.000</td>\n",
       "      <td>5</td>\n",
       "      <td>1</td>\n",
       "      <td>SO44658</td>\n",
       "      <td>NaN</td>\n",
       "      <td>10-4030-018201</td>\n",
       "      <td>...</td>\n",
       "      <td>1429.0</td>\n",
       "      <td>135323Vi7318</td>\n",
       "      <td>1770.0</td>\n",
       "      <td>3578.2700</td>\n",
       "      <td>286.2616</td>\n",
       "      <td>89.4568</td>\n",
       "      <td>3953.9884</td>\n",
       "      <td>NaN</td>\n",
       "      <td>D55CC1B2-4443-4DA7-BB75-F5DEFD62B2B8</td>\n",
       "      <td>2011-10-21 00:00:00.000</td>\n",
       "    </tr>\n",
       "  </tbody>\n",
       "</table>\n",
       "<p>1000 rows × 26 columns</p>\n",
       "</div>"
      ],
      "text/plain": [
       "     SalesOrderID  RevisionNumber                OrderDate  \\\n",
       "0           43659               8  2011-05-31 00:00:00.000   \n",
       "1           43660               8  2011-05-31 00:00:00.000   \n",
       "2           43661               8  2011-05-31 00:00:00.000   \n",
       "3           43662               8  2011-05-31 00:00:00.000   \n",
       "4           43663               8  2011-05-31 00:00:00.000   \n",
       "..            ...             ...                      ...   \n",
       "995         44654               8  2011-10-14 00:00:00.000   \n",
       "996         44655               8  2011-10-14 00:00:00.000   \n",
       "997         44656               8  2011-10-14 00:00:00.000   \n",
       "998         44657               8  2011-10-14 00:00:00.000   \n",
       "999         44658               8  2011-10-14 00:00:00.000   \n",
       "\n",
       "                     DueDate                 ShipDate  Status  \\\n",
       "0    2011-06-12 00:00:00.000  2011-06-07 00:00:00.000       5   \n",
       "1    2011-06-12 00:00:00.000  2011-06-07 00:00:00.000       5   \n",
       "2    2011-06-12 00:00:00.000  2011-06-07 00:00:00.000       5   \n",
       "3    2011-06-12 00:00:00.000  2011-06-07 00:00:00.000       5   \n",
       "4    2011-06-12 00:00:00.000  2011-06-07 00:00:00.000       5   \n",
       "..                       ...                      ...     ...   \n",
       "995  2011-10-26 00:00:00.000  2011-10-21 00:00:00.000       5   \n",
       "996  2011-10-26 00:00:00.000  2011-10-21 00:00:00.000       5   \n",
       "997  2011-10-26 00:00:00.000  2011-10-21 00:00:00.000       5   \n",
       "998  2011-10-26 00:00:00.000  2011-10-21 00:00:00.000       5   \n",
       "999  2011-10-26 00:00:00.000  2011-10-21 00:00:00.000       5   \n",
       "\n",
       "     OnlineOrderFlag SalesOrderNumber PurchaseOrderNumber   AccountNumber  \\\n",
       "0                  0          SO43659         PO522145787  10-4020-000676   \n",
       "1                  0          SO43660       PO18850127500  10-4020-000117   \n",
       "2                  0          SO43661       PO18473189620  10-4020-000442   \n",
       "3                  0          SO43662       PO18444174044  10-4020-000227   \n",
       "4                  0          SO43663       PO18009186470  10-4020-000510   \n",
       "..               ...              ...                 ...             ...   \n",
       "995                1          SO44654                 NaN  10-4030-028619   \n",
       "996                1          SO44655                 NaN  10-4030-011105   \n",
       "997                1          SO44656                 NaN  10-4030-018275   \n",
       "998                1          SO44657                 NaN  10-4030-011120   \n",
       "999                1          SO44658                 NaN  10-4030-018201   \n",
       "\n",
       "     ...  CreditCardID  CreditCardApprovalCode  CurrencyRateID    SubTotal  \\\n",
       "0    ...       16281.0           105041Vi84182             NaN  20565.6206   \n",
       "1    ...        5618.0           115213Vi29411             NaN   1294.2529   \n",
       "2    ...        1346.0             85274Vi6854             4.0  32726.4786   \n",
       "3    ...       10456.0           125295Vi53935             4.0  28832.5289   \n",
       "4    ...        4322.0            45303Vi22691             NaN    419.4589   \n",
       "..   ...           ...                     ...             ...         ...   \n",
       "995  ...       12353.0          1032841Vi63906             NaN   3578.2700   \n",
       "996  ...       18919.0           834150Vi98284          1770.0   3399.9900   \n",
       "997  ...       12162.0          1234424Vi62869          1770.0   3578.2700   \n",
       "998  ...        5503.0           934967Vi28849          1770.0   3374.9900   \n",
       "999  ...        1429.0            135323Vi7318          1770.0   3578.2700   \n",
       "\n",
       "        TaxAmt   Freight    TotalDue Comment  \\\n",
       "0    1971.5149  616.0984  23153.2339     NaN   \n",
       "1     124.2483   38.8276   1457.3288     NaN   \n",
       "2    3153.7696  985.5530  36865.8012     NaN   \n",
       "3    2775.1646  867.2389  32474.9324     NaN   \n",
       "4      40.2681   12.5838    472.3108     NaN   \n",
       "..         ...       ...         ...     ...   \n",
       "995   286.2616   89.4568   3953.9884     NaN   \n",
       "996   271.9992   84.9998   3756.9890     NaN   \n",
       "997   286.2616   89.4568   3953.9884     NaN   \n",
       "998   269.9992   84.3748   3729.3640     NaN   \n",
       "999   286.2616   89.4568   3953.9884     NaN   \n",
       "\n",
       "                                  rowguid             ModifiedDate  \n",
       "0    79B65321-39CA-4115-9CBA-8FE0903E12E6  2011-06-07 00:00:00.000  \n",
       "1    738DC42D-D03B-48A1-9822-F95A67EA7389  2011-06-07 00:00:00.000  \n",
       "2    D91B9131-18A4-4A11-BC3A-90B6F53E9D74  2011-06-07 00:00:00.000  \n",
       "3    4A1ECFC0-CC3A-4740-B028-1C50BB48711C  2011-06-07 00:00:00.000  \n",
       "4    9B1E7A40-6AE0-4AD3-811C-A64951857C4B  2011-06-07 00:00:00.000  \n",
       "..                                    ...                      ...  \n",
       "995  999EC164-6BC0-4D4D-B0D7-BF8A3377CC7C  2011-10-21 00:00:00.000  \n",
       "996  FAC4363F-6932-47FF-8801-5619ED2BBA56  2011-10-21 00:00:00.000  \n",
       "997  51FBF6A5-4AF7-49F1-B9EF-F4100496F000  2011-10-21 00:00:00.000  \n",
       "998  CF059E0D-3392-49F0-8DA9-0865798C4FB3  2011-10-21 00:00:00.000  \n",
       "999  D55CC1B2-4443-4DA7-BB75-F5DEFD62B2B8  2011-10-21 00:00:00.000  \n",
       "\n",
       "[1000 rows x 26 columns]"
      ]
     },
     "execution_count": 17,
     "metadata": {},
     "output_type": "execute_result"
    }
   ],
   "source": [
    "fd"
   ]
  },
  {
   "cell_type": "markdown",
   "metadata": {},
   "source": [
    "# Membuat Kelas sendiri"
   ]
  },
  {
   "cell_type": "markdown",
   "metadata": {},
   "source": [
    "## Bentuk primitif kelas"
   ]
  },
  {
   "cell_type": "markdown",
   "metadata": {},
   "source": [
    "### Ada satu method (fungsi)"
   ]
  },
  {
   "cell_type": "markdown",
   "metadata": {},
   "source": [
    "Beda fungsi dan method:\n",
    "- fungsi = berdiri sendiri\n",
    "- method = bagian dari kelas"
   ]
  },
  {
   "cell_type": "code",
   "execution_count": 5,
   "metadata": {
    "execution": {
     "iopub.execute_input": "2025-01-03T13:40:39.969418Z",
     "iopub.status.busy": "2025-01-03T13:40:39.968419Z",
     "iopub.status.idle": "2025-01-03T13:40:39.975533Z",
     "shell.execute_reply": "2025-01-03T13:40:39.974008Z",
     "shell.execute_reply.started": "2025-01-03T13:40:39.969418Z"
    }
   },
   "outputs": [],
   "source": [
    "class Pegawai: # Biasanya nama class diawali huruf kapital\n",
    "    def tampilkan(self):\n",
    "        print('halo dunia')"
   ]
  },
  {
   "cell_type": "code",
   "execution_count": 7,
   "metadata": {},
   "outputs": [
    {
     "name": "stdout",
     "output_type": "stream",
     "text": [
      "halo dunia\n"
     ]
    }
   ],
   "source": [
    "Pegawai().tampilkan()"
   ]
  },
  {
   "cell_type": "markdown",
   "metadata": {},
   "source": [
    "- Kelas punya satu fungsi\n",
    "- `self` merujuk pada diri sendiri (kelas itu sendiri)\n",
    "- Kelas adalah sebuah objek. Jika satu kelas dibuat menjadi beberapa objek, `self` berguna bagi Python untuk membedakan data di masing-masing obyek"
   ]
  },
  {
   "cell_type": "markdown",
   "metadata": {},
   "source": [
    "Bingung?\n",
    "\n",
    "<br>\n",
    "\n",
    "Kita ke contoh kedua"
   ]
  },
  {
   "cell_type": "markdown",
   "metadata": {},
   "source": [
    "#### Coba Sendiri"
   ]
  },
  {
   "cell_type": "code",
   "execution_count": null,
   "metadata": {},
   "outputs": [],
   "source": [
    "class Hewan:\n",
    "    def suara(self):\n",
    "        print('suara hewan')"
   ]
  },
  {
   "cell_type": "markdown",
   "metadata": {},
   "source": [
    "### Ada init\n",
    "Yaitu fungsi yang menginisialisasi (membuat) data atau melakukan sesuatu"
   ]
  },
  {
   "cell_type": "code",
   "execution_count": 19,
   "metadata": {
    "execution": {
     "iopub.execute_input": "2025-01-03T13:40:59.266011Z",
     "iopub.status.busy": "2025-01-03T13:40:59.264506Z",
     "iopub.status.idle": "2025-01-03T13:40:59.273340Z",
     "shell.execute_reply": "2025-01-03T13:40:59.272328Z",
     "shell.execute_reply.started": "2025-01-03T13:40:59.266011Z"
    }
   },
   "outputs": [],
   "source": [
    "class Mobil:\n",
    "    def __init__(self):\n",
    "        self.roda = 4\n",
    "        self.pintu = 4\n",
    "        self.jendela = 4\n",
    "        self.steering = 1\n",
    "        self.merk = 'Toyota'\n",
    "        print('mobil dibuat')"
   ]
  },
  {
   "cell_type": "code",
   "execution_count": 20,
   "metadata": {},
   "outputs": [
    {
     "name": "stdout",
     "output_type": "stream",
     "text": [
      "mobil dibuat\n"
     ]
    },
    {
     "data": {
      "text/plain": [
       "<__main__.Mobil at 0x1ec12075cd0>"
      ]
     },
     "execution_count": 20,
     "metadata": {},
     "output_type": "execute_result"
    }
   ],
   "source": [
    "Mobil()"
   ]
  },
  {
   "cell_type": "code",
   "execution_count": 21,
   "metadata": {},
   "outputs": [
    {
     "name": "stdout",
     "output_type": "stream",
     "text": [
      "mobil dibuat\n"
     ]
    },
    {
     "data": {
      "text/plain": [
       "4"
      ]
     },
     "execution_count": 21,
     "metadata": {},
     "output_type": "execute_result"
    }
   ],
   "source": [
    "Mobil().roda"
   ]
  },
  {
   "cell_type": "markdown",
   "metadata": {},
   "source": [
    "#### Coba Sendiri"
   ]
  },
  {
   "cell_type": "code",
   "execution_count": null,
   "metadata": {},
   "outputs": [],
   "source": [
    "class Motor:\n",
    "    def __init__(self, merk):\n",
    "        self.roda = 2\n",
    "        self.merk = 'Honda'\n",
    "        print('motor dibuat')"
   ]
  },
  {
   "cell_type": "code",
   "execution_count": null,
   "metadata": {},
   "outputs": [],
   "source": [
    "Motor().roda"
   ]
  },
  {
   "cell_type": "markdown",
   "metadata": {},
   "source": [
    "## Fungsi dan Attribut"
   ]
  },
  {
   "cell_type": "code",
   "execution_count": 22,
   "metadata": {},
   "outputs": [],
   "source": [
    "class Hitung:\n",
    "    def __init__(self):\n",
    "        self.a = 0\n",
    "        self.b = 10\n",
    "\n",
    "    def tambah(self):\n",
    "        return self.a + self.b"
   ]
  },
  {
   "cell_type": "code",
   "execution_count": 24,
   "metadata": {},
   "outputs": [
    {
     "data": {
      "text/plain": [
       "10"
      ]
     },
     "execution_count": 24,
     "metadata": {},
     "output_type": "execute_result"
    }
   ],
   "source": [
    "Hitung().tambah()"
   ]
  },
  {
   "cell_type": "markdown",
   "metadata": {},
   "source": [
    "### Coba Sendiri"
   ]
  },
  {
   "cell_type": "code",
   "execution_count": 25,
   "metadata": {},
   "outputs": [],
   "source": [
    "class Hitung:\n",
    "    def __init__(self, a, b):\n",
    "        self.a = a\n",
    "        self.b = b\n",
    "\n",
    "    def kurang(self):\n",
    "        return self.a + self.b"
   ]
  },
  {
   "cell_type": "code",
   "execution_count": null,
   "metadata": {},
   "outputs": [],
   "source": [
    "Hitung()"
   ]
  },
  {
   "cell_type": "markdown",
   "metadata": {},
   "source": [
    "## Obyek"
   ]
  },
  {
   "cell_type": "code",
   "execution_count": 28,
   "metadata": {},
   "outputs": [],
   "source": [
    "class Tumbuhan:\n",
    "    def __init__(self, nama, jenis):\n",
    "        self.nama = nama\n",
    "        self.jenis = jenis\n",
    "\n",
    "    def tampilkan(self):\n",
    "        print(f'Nama: {self.nama}, Jenis: {self.jenis}')"
   ]
  },
  {
   "cell_type": "code",
   "execution_count": 29,
   "metadata": {},
   "outputs": [],
   "source": [
    "aster = Tumbuhan('Aster', 'Bunga')"
   ]
  },
  {
   "cell_type": "code",
   "execution_count": 30,
   "metadata": {},
   "outputs": [],
   "source": [
    "mangga = Tumbuhan('Mangga', 'Buah')"
   ]
  },
  {
   "cell_type": "markdown",
   "metadata": {},
   "source": [
    "### Memanggil Fungsi"
   ]
  },
  {
   "cell_type": "code",
   "execution_count": 31,
   "metadata": {},
   "outputs": [
    {
     "name": "stdout",
     "output_type": "stream",
     "text": [
      "Nama: Aster, Jenis: Bunga\n"
     ]
    }
   ],
   "source": [
    "aster.tampilkan()"
   ]
  },
  {
   "cell_type": "markdown",
   "metadata": {},
   "source": [
    "#### Coba Sendiri"
   ]
  },
  {
   "cell_type": "code",
   "execution_count": null,
   "metadata": {},
   "outputs": [],
   "source": [
    "mangga.tampilkan()"
   ]
  },
  {
   "cell_type": "markdown",
   "metadata": {},
   "source": [
    "`self` membuat Tumbuhan pada `aster` dan `mangga` memiliki nama (attribute) berbeda.\n",
    "\n",
    "<br>\n",
    "aster dan mangga menjadi dua obyek terpisah, meski awalnya adalah satu obyek."
   ]
  },
  {
   "cell_type": "markdown",
   "metadata": {},
   "source": [
    "# Simpulan"
   ]
  },
  {
   "cell_type": "markdown",
   "metadata": {},
   "source": [
    "- Satu kelas, banyak fungsi\n",
    "- Kelas = Obyek/benda\n",
    "- Kelas menggabungkan data dan fungsi (contoh: nama manusia + kebisaan)"
   ]
  },
  {
   "cell_type": "markdown",
   "metadata": {},
   "source": [
    "# Referensi Gratis"
   ]
  },
  {
   "attachments": {},
   "cell_type": "markdown",
   "metadata": {},
   "source": [
    "- [Think Python](https://allendowney.github.io/ThinkPython/chap01.html)"
   ]
  },
  {
   "cell_type": "markdown",
   "metadata": {},
   "source": [
    "## Intermezzo\n",
    "[Kenapa digunakan kata 'class' dalam programming?](https://softwareengineering.stackexchange.com/questions/385813/why-are-classes-named-class)"
   ]
  }
 ],
 "metadata": {
  "kernelspec": {
   "display_name": "basangdata12",
   "language": "python",
   "name": "python3"
  },
  "language_info": {
   "codemirror_mode": {
    "name": "ipython",
    "version": 3
   },
   "file_extension": ".py",
   "mimetype": "text/x-python",
   "name": "python",
   "nbconvert_exporter": "python",
   "pygments_lexer": "ipython3",
   "version": "3.12.2"
  }
 },
 "nbformat": 4,
 "nbformat_minor": 4
}
