{
 "cells": [
  {
   "cell_type": "markdown",
   "metadata": {},
   "source": [
    "# Basic Python for Auditor - Class\n",
    "\n",
    "<strong>Sekolah Sabtu Auditor by BasangData.com</strong>"
   ]
  },
  {
   "cell_type": "markdown",
   "metadata": {},
   "source": [
    "# Akan didiskusikan\n",
    "\n",
    "- Kenapa perlu Basic Python - Class?\n",
    "- Menggunakan Class yang sudah ada\n",
    "- Membuat sendiri Class"
   ]
  },
  {
   "cell_type": "markdown",
   "metadata": {},
   "source": [
    "# Kenapa perlu Function (fungsi) di Python?"
   ]
  },
  {
   "cell_type": "markdown",
   "metadata": {},
   "source": [
    "## Apa itu fungsi?"
   ]
  },
  {
   "cell_type": "markdown",
   "metadata": {},
   "source": [
    "<div>\n",
    "<img src=\"coffee_maker.jpg\" width=\"500\" />\n",
    "</div>"
   ]
  },
  {
   "cell_type": "markdown",
   "metadata": {},
   "source": [
    "Fungsi adalah semacam Coffee Maker.\n",
    "- Sebuah alat/sistem\n",
    "- Kita pakai untuk melakukan sesuatu (membuat kopi)\n",
    "- Ada input (biji kopi, air, susu)\n",
    "- Ada output (air kopi)\n",
    "- Output bisa beragam (Americano, Espresso, Latte) tergantung tombol yg kita pencet (parameter)"
   ]
  },
  {
   "cell_type": "markdown",
   "metadata": {},
   "source": [
    "<div>\n",
    "<img src=\"function_input_output.png\" width=\"500\" />\n",
    "</div>"
   ]
  },
  {
   "cell_type": "markdown",
   "metadata": {},
   "source": [
    "### Tiga hal yang ada dalam fungsi\n",
    "- Input\n",
    "- Proses\n",
    "- Output (tidak wajib, contohnya fungsi hanya menampilkan nilai seperti kalkulator)"
   ]
  },
  {
   "cell_type": "markdown",
   "metadata": {},
   "source": [
    "## Apa manfaat fungsi?"
   ]
  },
  {
   "cell_type": "markdown",
   "metadata": {},
   "source": [
    "- Tidak perlu membuat sendiri cofee maker (tidak perlu membuat fungsi sendiri untuk output yg sama)\n",
    "- Mengurangi kompleksitas kode, mengurangi ukuran file, mengurangi kemungkinan error\n",
    "- Lebih mudah memperbaiki/mengubah kode, karena tidak perlu mengubah semua fungsi/kode"
   ]
  },
  {
   "cell_type": "markdown",
   "metadata": {},
   "source": [
    "## Dua jenis fungsi, dari perspektif pembuatan\n",
    "- Fungsi yang sudah ada\n",
    "- Fungsi yang dibuat sendiri"
   ]
  },
  {
   "cell_type": "markdown",
   "metadata": {},
   "source": [
    "# Menggunakan Function yang sudah ada"
   ]
  },
  {
   "cell_type": "markdown",
   "metadata": {},
   "source": [
    "## Sumber/pembuat fungsi\n",
    "- Python (built-in function in python)\n",
    "- Standard library\n",
    "- Pihak ketiga "
   ]
  },
  {
   "cell_type": "markdown",
   "metadata": {
    "jp-MarkdownHeadingCollapsed": true
   },
   "source": [
    "### Contoh built-in function\n",
    "- [abs()](https://docs.python.org/3/library/functions.html#abs)\n",
    "- [ascii()](https://docs.python.org/3/library/functions.html#ascii)\n",
    "- [len()](https://docs.python.org/3/library/functions.html#len)\n",
    "<br>\n",
    "<strong>Catatan:</strong> Tidak perlu import apapun.\n",
    "<br>\n",
    "Daftar lengkap: https://docs.python.org/3/library/functions.html"
   ]
  },
  {
   "cell_type": "code",
   "execution_count": 6,
   "metadata": {
    "execution": {
     "iopub.execute_input": "2025-01-03T13:07:21.961378Z",
     "iopub.status.busy": "2025-01-03T13:07:21.960380Z",
     "iopub.status.idle": "2025-01-03T13:07:21.969224Z",
     "shell.execute_reply": "2025-01-03T13:07:21.968206Z",
     "shell.execute_reply.started": "2025-01-03T13:07:21.960380Z"
    }
   },
   "outputs": [
    {
     "data": {
      "text/plain": [
       "100"
      ]
     },
     "execution_count": 6,
     "metadata": {},
     "output_type": "execute_result"
    }
   ],
   "source": [
    "abs(-100)"
   ]
  },
  {
   "cell_type": "code",
   "execution_count": 7,
   "metadata": {
    "execution": {
     "iopub.execute_input": "2025-01-03T13:08:00.882704Z",
     "iopub.status.busy": "2025-01-03T13:08:00.881704Z",
     "iopub.status.idle": "2025-01-03T13:08:00.891903Z",
     "shell.execute_reply": "2025-01-03T13:08:00.890891Z",
     "shell.execute_reply.started": "2025-01-03T13:08:00.882704Z"
    }
   },
   "outputs": [
    {
     "data": {
      "text/plain": [
       "11"
      ]
     },
     "execution_count": 7,
     "metadata": {},
     "output_type": "execute_result"
    }
   ],
   "source": [
    "len('hello world')"
   ]
  },
  {
   "cell_type": "code",
   "execution_count": 9,
   "metadata": {
    "execution": {
     "iopub.execute_input": "2025-01-03T13:08:35.192761Z",
     "iopub.status.busy": "2025-01-03T13:08:35.192761Z",
     "iopub.status.idle": "2025-01-03T13:08:35.205162Z",
     "shell.execute_reply": "2025-01-03T13:08:35.203643Z",
     "shell.execute_reply.started": "2025-01-03T13:08:35.192761Z"
    }
   },
   "outputs": [
    {
     "data": {
      "text/plain": [
       "6"
      ]
     },
     "execution_count": 9,
     "metadata": {},
     "output_type": "execute_result"
    }
   ],
   "source": [
    "ls = [1, 2, 3, 4, 5, 8]\n",
    "len(ls)"
   ]
  },
  {
   "cell_type": "markdown",
   "metadata": {},
   "source": [
    "### Contoh standard library\n",
    "- datetime\n",
    "- math\n",
    "- random\n",
    "<br>\n",
    "<strong>Catatan:</strong> Perlu import, tapi tidak perlu install library\n",
    "<br>\n",
    "Daftar lengkap: https://docs.python.org/3/library/index.html"
   ]
  },
  {
   "cell_type": "code",
   "execution_count": 1,
   "metadata": {
    "execution": {
     "iopub.execute_input": "2025-01-03T13:13:42.657840Z",
     "iopub.status.busy": "2025-01-03T13:13:42.656842Z",
     "iopub.status.idle": "2025-01-03T13:13:43.930308Z",
     "shell.execute_reply": "2025-01-03T13:13:43.923737Z",
     "shell.execute_reply.started": "2025-01-03T13:13:42.657840Z"
    }
   },
   "outputs": [
    {
     "ename": "NameError",
     "evalue": "name 'ceil' is not defined",
     "output_type": "error",
     "traceback": [
      "\u001b[1;31m---------------------------------------------------------------------------\u001b[0m",
      "\u001b[1;31mNameError\u001b[0m                                 Traceback (most recent call last)",
      "Cell \u001b[1;32mIn[1], line 1\u001b[0m\n\u001b[1;32m----> 1\u001b[0m \u001b[43mceil\u001b[49m(\u001b[38;5;241m10.1\u001b[39m)\n",
      "\u001b[1;31mNameError\u001b[0m: name 'ceil' is not defined"
     ]
    }
   ],
   "source": [
    "ceil(10.1)"
   ]
  },
  {
   "cell_type": "code",
   "execution_count": 2,
   "metadata": {
    "execution": {
     "iopub.execute_input": "2025-01-03T13:13:49.114725Z",
     "iopub.status.busy": "2025-01-03T13:13:49.113214Z",
     "iopub.status.idle": "2025-01-03T13:13:49.154537Z",
     "shell.execute_reply": "2025-01-03T13:13:49.152016Z",
     "shell.execute_reply.started": "2025-01-03T13:13:49.114725Z"
    }
   },
   "outputs": [
    {
     "ename": "NameError",
     "evalue": "name 'math' is not defined",
     "output_type": "error",
     "traceback": [
      "\u001b[1;31m---------------------------------------------------------------------------\u001b[0m",
      "\u001b[1;31mNameError\u001b[0m                                 Traceback (most recent call last)",
      "Cell \u001b[1;32mIn[2], line 1\u001b[0m\n\u001b[1;32m----> 1\u001b[0m \u001b[43mmath\u001b[49m\u001b[38;5;241m.\u001b[39mceil(\u001b[38;5;241m10.1\u001b[39m)\n",
      "\u001b[1;31mNameError\u001b[0m: name 'math' is not defined"
     ]
    }
   ],
   "source": [
    "math.ceil(10.1)"
   ]
  },
  {
   "cell_type": "code",
   "execution_count": 3,
   "metadata": {
    "execution": {
     "iopub.execute_input": "2025-01-03T13:14:02.905422Z",
     "iopub.status.busy": "2025-01-03T13:14:02.904409Z",
     "iopub.status.idle": "2025-01-03T13:14:02.912769Z",
     "shell.execute_reply": "2025-01-03T13:14:02.910747Z",
     "shell.execute_reply.started": "2025-01-03T13:14:02.905422Z"
    }
   },
   "outputs": [],
   "source": [
    "import math"
   ]
  },
  {
   "cell_type": "code",
   "execution_count": 4,
   "metadata": {
    "execution": {
     "iopub.execute_input": "2025-01-03T13:14:05.907669Z",
     "iopub.status.busy": "2025-01-03T13:14:05.906684Z",
     "iopub.status.idle": "2025-01-03T13:14:05.926742Z",
     "shell.execute_reply": "2025-01-03T13:14:05.924799Z",
     "shell.execute_reply.started": "2025-01-03T13:14:05.907669Z"
    }
   },
   "outputs": [
    {
     "data": {
      "text/plain": [
       "11"
      ]
     },
     "execution_count": 4,
     "metadata": {},
     "output_type": "execute_result"
    }
   ],
   "source": [
    "math.ceil(10.1)"
   ]
  },
  {
   "cell_type": "code",
   "execution_count": 13,
   "metadata": {
    "execution": {
     "iopub.execute_input": "2025-01-03T13:23:26.669654Z",
     "iopub.status.busy": "2025-01-03T13:23:26.667653Z",
     "iopub.status.idle": "2025-01-03T13:23:26.682002Z",
     "shell.execute_reply": "2025-01-03T13:23:26.679987Z",
     "shell.execute_reply.started": "2025-01-03T13:23:26.668654Z"
    }
   },
   "outputs": [],
   "source": [
    "from datetime import datetime\n",
    "\n",
    "text = \"AA-2025-01-31-BB\"\n",
    "date_string = text[3:13]\n",
    "date_object = datetime.strptime(date_string, '%Y-%m-%d')  \n",
    "formatted_date = date_object.strftime('%Y:%d:%m')"
   ]
  },
  {
   "cell_type": "code",
   "execution_count": 14,
   "metadata": {
    "execution": {
     "iopub.execute_input": "2025-01-03T13:23:27.536608Z",
     "iopub.status.busy": "2025-01-03T13:23:27.534055Z",
     "iopub.status.idle": "2025-01-03T13:23:27.553470Z",
     "shell.execute_reply": "2025-01-03T13:23:27.550453Z",
     "shell.execute_reply.started": "2025-01-03T13:23:27.535591Z"
    }
   },
   "outputs": [
    {
     "data": {
      "text/plain": [
       "'2025-01-31'"
      ]
     },
     "execution_count": 14,
     "metadata": {},
     "output_type": "execute_result"
    }
   ],
   "source": [
    "date_string"
   ]
  },
  {
   "cell_type": "code",
   "execution_count": 15,
   "metadata": {
    "execution": {
     "iopub.execute_input": "2025-01-03T13:23:27.883496Z",
     "iopub.status.busy": "2025-01-03T13:23:27.882496Z",
     "iopub.status.idle": "2025-01-03T13:23:27.896142Z",
     "shell.execute_reply": "2025-01-03T13:23:27.893581Z",
     "shell.execute_reply.started": "2025-01-03T13:23:27.883496Z"
    }
   },
   "outputs": [
    {
     "data": {
      "text/plain": [
       "datetime.datetime(2025, 1, 31, 0, 0)"
      ]
     },
     "execution_count": 15,
     "metadata": {},
     "output_type": "execute_result"
    }
   ],
   "source": [
    "date_object"
   ]
  },
  {
   "cell_type": "code",
   "execution_count": 16,
   "metadata": {
    "execution": {
     "iopub.execute_input": "2025-01-03T13:23:29.050979Z",
     "iopub.status.busy": "2025-01-03T13:23:29.049981Z",
     "iopub.status.idle": "2025-01-03T13:23:29.062440Z",
     "shell.execute_reply": "2025-01-03T13:23:29.059422Z",
     "shell.execute_reply.started": "2025-01-03T13:23:29.050979Z"
    }
   },
   "outputs": [
    {
     "data": {
      "text/plain": [
       "'2025:31:01'"
      ]
     },
     "execution_count": 16,
     "metadata": {},
     "output_type": "execute_result"
    }
   ],
   "source": [
    "formatted_date"
   ]
  },
  {
   "cell_type": "markdown",
   "metadata": {},
   "source": [
    "### Fungsi dari pihak ketiga"
   ]
  },
  {
   "cell_type": "code",
   "execution_count": null,
   "metadata": {},
   "outputs": [],
   "source": [
    "!pip install pandas"
   ]
  },
  {
   "cell_type": "code",
   "execution_count": 17,
   "metadata": {
    "execution": {
     "iopub.execute_input": "2025-01-03T13:25:22.353379Z",
     "iopub.status.busy": "2025-01-03T13:25:22.352380Z",
     "iopub.status.idle": "2025-01-03T13:25:26.205164Z",
     "shell.execute_reply": "2025-01-03T13:25:26.201637Z",
     "shell.execute_reply.started": "2025-01-03T13:25:22.353379Z"
    }
   },
   "outputs": [],
   "source": [
    "import pandas as pd"
   ]
  },
  {
   "cell_type": "code",
   "execution_count": 57,
   "metadata": {
    "execution": {
     "iopub.execute_input": "2025-01-03T13:57:00.370770Z",
     "iopub.status.busy": "2025-01-03T13:57:00.369767Z",
     "iopub.status.idle": "2025-01-03T13:57:01.593295Z",
     "shell.execute_reply": "2025-01-03T13:57:01.590437Z",
     "shell.execute_reply.started": "2025-01-03T13:57:00.370770Z"
    }
   },
   "outputs": [
    {
     "data": {
      "text/html": [
       "<div>\n",
       "<style scoped>\n",
       "    .dataframe tbody tr th:only-of-type {\n",
       "        vertical-align: middle;\n",
       "    }\n",
       "\n",
       "    .dataframe tbody tr th {\n",
       "        vertical-align: top;\n",
       "    }\n",
       "\n",
       "    .dataframe thead th {\n",
       "        text-align: right;\n",
       "    }\n",
       "</style>\n",
       "<table border=\"1\" class=\"dataframe\">\n",
       "  <thead>\n",
       "    <tr style=\"text-align: right;\">\n",
       "      <th></th>\n",
       "      <th>SalesOrderID</th>\n",
       "      <th>RevisionNumber</th>\n",
       "      <th>OrderDate</th>\n",
       "      <th>DueDate</th>\n",
       "      <th>ShipDate</th>\n",
       "      <th>Status</th>\n",
       "      <th>OnlineOrderFlag</th>\n",
       "      <th>SalesOrderNumber</th>\n",
       "      <th>PurchaseOrderNumber</th>\n",
       "      <th>AccountNumber</th>\n",
       "      <th>...</th>\n",
       "      <th>CreditCardID</th>\n",
       "      <th>CreditCardApprovalCode</th>\n",
       "      <th>CurrencyRateID</th>\n",
       "      <th>SubTotal</th>\n",
       "      <th>TaxAmt</th>\n",
       "      <th>Freight</th>\n",
       "      <th>TotalDue</th>\n",
       "      <th>Comment</th>\n",
       "      <th>rowguid</th>\n",
       "      <th>ModifiedDate</th>\n",
       "    </tr>\n",
       "  </thead>\n",
       "  <tbody>\n",
       "    <tr>\n",
       "      <th>0</th>\n",
       "      <td>43659</td>\n",
       "      <td>8</td>\n",
       "      <td>2011-05-31 00:00:00.000</td>\n",
       "      <td>2011-06-12 00:00:00.000</td>\n",
       "      <td>2011-06-07 00:00:00.000</td>\n",
       "      <td>5</td>\n",
       "      <td>0</td>\n",
       "      <td>SO43659</td>\n",
       "      <td>PO522145787</td>\n",
       "      <td>10-4020-000676</td>\n",
       "      <td>...</td>\n",
       "      <td>16281.0</td>\n",
       "      <td>105041Vi84182</td>\n",
       "      <td>NaN</td>\n",
       "      <td>20565.6206</td>\n",
       "      <td>1971.5149</td>\n",
       "      <td>616.0984</td>\n",
       "      <td>23153.2339</td>\n",
       "      <td>NaN</td>\n",
       "      <td>79B65321-39CA-4115-9CBA-8FE0903E12E6</td>\n",
       "      <td>2011-06-07 00:00:00.000</td>\n",
       "    </tr>\n",
       "    <tr>\n",
       "      <th>1</th>\n",
       "      <td>43660</td>\n",
       "      <td>8</td>\n",
       "      <td>2011-05-31 00:00:00.000</td>\n",
       "      <td>2011-06-12 00:00:00.000</td>\n",
       "      <td>2011-06-07 00:00:00.000</td>\n",
       "      <td>5</td>\n",
       "      <td>0</td>\n",
       "      <td>SO43660</td>\n",
       "      <td>PO18850127500</td>\n",
       "      <td>10-4020-000117</td>\n",
       "      <td>...</td>\n",
       "      <td>5618.0</td>\n",
       "      <td>115213Vi29411</td>\n",
       "      <td>NaN</td>\n",
       "      <td>1294.2529</td>\n",
       "      <td>124.2483</td>\n",
       "      <td>38.8276</td>\n",
       "      <td>1457.3288</td>\n",
       "      <td>NaN</td>\n",
       "      <td>738DC42D-D03B-48A1-9822-F95A67EA7389</td>\n",
       "      <td>2011-06-07 00:00:00.000</td>\n",
       "    </tr>\n",
       "    <tr>\n",
       "      <th>2</th>\n",
       "      <td>43661</td>\n",
       "      <td>8</td>\n",
       "      <td>2011-05-31 00:00:00.000</td>\n",
       "      <td>2011-06-12 00:00:00.000</td>\n",
       "      <td>2011-06-07 00:00:00.000</td>\n",
       "      <td>5</td>\n",
       "      <td>0</td>\n",
       "      <td>SO43661</td>\n",
       "      <td>PO18473189620</td>\n",
       "      <td>10-4020-000442</td>\n",
       "      <td>...</td>\n",
       "      <td>1346.0</td>\n",
       "      <td>85274Vi6854</td>\n",
       "      <td>4.0</td>\n",
       "      <td>32726.4786</td>\n",
       "      <td>3153.7696</td>\n",
       "      <td>985.5530</td>\n",
       "      <td>36865.8012</td>\n",
       "      <td>NaN</td>\n",
       "      <td>D91B9131-18A4-4A11-BC3A-90B6F53E9D74</td>\n",
       "      <td>2011-06-07 00:00:00.000</td>\n",
       "    </tr>\n",
       "    <tr>\n",
       "      <th>3</th>\n",
       "      <td>43662</td>\n",
       "      <td>8</td>\n",
       "      <td>2011-05-31 00:00:00.000</td>\n",
       "      <td>2011-06-12 00:00:00.000</td>\n",
       "      <td>2011-06-07 00:00:00.000</td>\n",
       "      <td>5</td>\n",
       "      <td>0</td>\n",
       "      <td>SO43662</td>\n",
       "      <td>PO18444174044</td>\n",
       "      <td>10-4020-000227</td>\n",
       "      <td>...</td>\n",
       "      <td>10456.0</td>\n",
       "      <td>125295Vi53935</td>\n",
       "      <td>4.0</td>\n",
       "      <td>28832.5289</td>\n",
       "      <td>2775.1646</td>\n",
       "      <td>867.2389</td>\n",
       "      <td>32474.9324</td>\n",
       "      <td>NaN</td>\n",
       "      <td>4A1ECFC0-CC3A-4740-B028-1C50BB48711C</td>\n",
       "      <td>2011-06-07 00:00:00.000</td>\n",
       "    </tr>\n",
       "    <tr>\n",
       "      <th>4</th>\n",
       "      <td>43663</td>\n",
       "      <td>8</td>\n",
       "      <td>2011-05-31 00:00:00.000</td>\n",
       "      <td>2011-06-12 00:00:00.000</td>\n",
       "      <td>2011-06-07 00:00:00.000</td>\n",
       "      <td>5</td>\n",
       "      <td>0</td>\n",
       "      <td>SO43663</td>\n",
       "      <td>PO18009186470</td>\n",
       "      <td>10-4020-000510</td>\n",
       "      <td>...</td>\n",
       "      <td>4322.0</td>\n",
       "      <td>45303Vi22691</td>\n",
       "      <td>NaN</td>\n",
       "      <td>419.4589</td>\n",
       "      <td>40.2681</td>\n",
       "      <td>12.5838</td>\n",
       "      <td>472.3108</td>\n",
       "      <td>NaN</td>\n",
       "      <td>9B1E7A40-6AE0-4AD3-811C-A64951857C4B</td>\n",
       "      <td>2011-06-07 00:00:00.000</td>\n",
       "    </tr>\n",
       "    <tr>\n",
       "      <th>...</th>\n",
       "      <td>...</td>\n",
       "      <td>...</td>\n",
       "      <td>...</td>\n",
       "      <td>...</td>\n",
       "      <td>...</td>\n",
       "      <td>...</td>\n",
       "      <td>...</td>\n",
       "      <td>...</td>\n",
       "      <td>...</td>\n",
       "      <td>...</td>\n",
       "      <td>...</td>\n",
       "      <td>...</td>\n",
       "      <td>...</td>\n",
       "      <td>...</td>\n",
       "      <td>...</td>\n",
       "      <td>...</td>\n",
       "      <td>...</td>\n",
       "      <td>...</td>\n",
       "      <td>...</td>\n",
       "      <td>...</td>\n",
       "      <td>...</td>\n",
       "    </tr>\n",
       "    <tr>\n",
       "      <th>995</th>\n",
       "      <td>44654</td>\n",
       "      <td>8</td>\n",
       "      <td>2011-10-14 00:00:00.000</td>\n",
       "      <td>2011-10-26 00:00:00.000</td>\n",
       "      <td>2011-10-21 00:00:00.000</td>\n",
       "      <td>5</td>\n",
       "      <td>1</td>\n",
       "      <td>SO44654</td>\n",
       "      <td>NaN</td>\n",
       "      <td>10-4030-028619</td>\n",
       "      <td>...</td>\n",
       "      <td>12353.0</td>\n",
       "      <td>1032841Vi63906</td>\n",
       "      <td>NaN</td>\n",
       "      <td>3578.2700</td>\n",
       "      <td>286.2616</td>\n",
       "      <td>89.4568</td>\n",
       "      <td>3953.9884</td>\n",
       "      <td>NaN</td>\n",
       "      <td>999EC164-6BC0-4D4D-B0D7-BF8A3377CC7C</td>\n",
       "      <td>2011-10-21 00:00:00.000</td>\n",
       "    </tr>\n",
       "    <tr>\n",
       "      <th>996</th>\n",
       "      <td>44655</td>\n",
       "      <td>8</td>\n",
       "      <td>2011-10-14 00:00:00.000</td>\n",
       "      <td>2011-10-26 00:00:00.000</td>\n",
       "      <td>2011-10-21 00:00:00.000</td>\n",
       "      <td>5</td>\n",
       "      <td>1</td>\n",
       "      <td>SO44655</td>\n",
       "      <td>NaN</td>\n",
       "      <td>10-4030-011105</td>\n",
       "      <td>...</td>\n",
       "      <td>18919.0</td>\n",
       "      <td>834150Vi98284</td>\n",
       "      <td>1770.0</td>\n",
       "      <td>3399.9900</td>\n",
       "      <td>271.9992</td>\n",
       "      <td>84.9998</td>\n",
       "      <td>3756.9890</td>\n",
       "      <td>NaN</td>\n",
       "      <td>FAC4363F-6932-47FF-8801-5619ED2BBA56</td>\n",
       "      <td>2011-10-21 00:00:00.000</td>\n",
       "    </tr>\n",
       "    <tr>\n",
       "      <th>997</th>\n",
       "      <td>44656</td>\n",
       "      <td>8</td>\n",
       "      <td>2011-10-14 00:00:00.000</td>\n",
       "      <td>2011-10-26 00:00:00.000</td>\n",
       "      <td>2011-10-21 00:00:00.000</td>\n",
       "      <td>5</td>\n",
       "      <td>1</td>\n",
       "      <td>SO44656</td>\n",
       "      <td>NaN</td>\n",
       "      <td>10-4030-018275</td>\n",
       "      <td>...</td>\n",
       "      <td>12162.0</td>\n",
       "      <td>1234424Vi62869</td>\n",
       "      <td>1770.0</td>\n",
       "      <td>3578.2700</td>\n",
       "      <td>286.2616</td>\n",
       "      <td>89.4568</td>\n",
       "      <td>3953.9884</td>\n",
       "      <td>NaN</td>\n",
       "      <td>51FBF6A5-4AF7-49F1-B9EF-F4100496F000</td>\n",
       "      <td>2011-10-21 00:00:00.000</td>\n",
       "    </tr>\n",
       "    <tr>\n",
       "      <th>998</th>\n",
       "      <td>44657</td>\n",
       "      <td>8</td>\n",
       "      <td>2011-10-14 00:00:00.000</td>\n",
       "      <td>2011-10-26 00:00:00.000</td>\n",
       "      <td>2011-10-21 00:00:00.000</td>\n",
       "      <td>5</td>\n",
       "      <td>1</td>\n",
       "      <td>SO44657</td>\n",
       "      <td>NaN</td>\n",
       "      <td>10-4030-011120</td>\n",
       "      <td>...</td>\n",
       "      <td>5503.0</td>\n",
       "      <td>934967Vi28849</td>\n",
       "      <td>1770.0</td>\n",
       "      <td>3374.9900</td>\n",
       "      <td>269.9992</td>\n",
       "      <td>84.3748</td>\n",
       "      <td>3729.3640</td>\n",
       "      <td>NaN</td>\n",
       "      <td>CF059E0D-3392-49F0-8DA9-0865798C4FB3</td>\n",
       "      <td>2011-10-21 00:00:00.000</td>\n",
       "    </tr>\n",
       "    <tr>\n",
       "      <th>999</th>\n",
       "      <td>44658</td>\n",
       "      <td>8</td>\n",
       "      <td>2011-10-14 00:00:00.000</td>\n",
       "      <td>2011-10-26 00:00:00.000</td>\n",
       "      <td>2011-10-21 00:00:00.000</td>\n",
       "      <td>5</td>\n",
       "      <td>1</td>\n",
       "      <td>SO44658</td>\n",
       "      <td>NaN</td>\n",
       "      <td>10-4030-018201</td>\n",
       "      <td>...</td>\n",
       "      <td>1429.0</td>\n",
       "      <td>135323Vi7318</td>\n",
       "      <td>1770.0</td>\n",
       "      <td>3578.2700</td>\n",
       "      <td>286.2616</td>\n",
       "      <td>89.4568</td>\n",
       "      <td>3953.9884</td>\n",
       "      <td>NaN</td>\n",
       "      <td>D55CC1B2-4443-4DA7-BB75-F5DEFD62B2B8</td>\n",
       "      <td>2011-10-21 00:00:00.000</td>\n",
       "    </tr>\n",
       "  </tbody>\n",
       "</table>\n",
       "<p>1000 rows × 26 columns</p>\n",
       "</div>"
      ],
      "text/plain": [
       "     SalesOrderID  RevisionNumber                OrderDate  \\\n",
       "0           43659               8  2011-05-31 00:00:00.000   \n",
       "1           43660               8  2011-05-31 00:00:00.000   \n",
       "2           43661               8  2011-05-31 00:00:00.000   \n",
       "3           43662               8  2011-05-31 00:00:00.000   \n",
       "4           43663               8  2011-05-31 00:00:00.000   \n",
       "..            ...             ...                      ...   \n",
       "995         44654               8  2011-10-14 00:00:00.000   \n",
       "996         44655               8  2011-10-14 00:00:00.000   \n",
       "997         44656               8  2011-10-14 00:00:00.000   \n",
       "998         44657               8  2011-10-14 00:00:00.000   \n",
       "999         44658               8  2011-10-14 00:00:00.000   \n",
       "\n",
       "                     DueDate                 ShipDate  Status  \\\n",
       "0    2011-06-12 00:00:00.000  2011-06-07 00:00:00.000       5   \n",
       "1    2011-06-12 00:00:00.000  2011-06-07 00:00:00.000       5   \n",
       "2    2011-06-12 00:00:00.000  2011-06-07 00:00:00.000       5   \n",
       "3    2011-06-12 00:00:00.000  2011-06-07 00:00:00.000       5   \n",
       "4    2011-06-12 00:00:00.000  2011-06-07 00:00:00.000       5   \n",
       "..                       ...                      ...     ...   \n",
       "995  2011-10-26 00:00:00.000  2011-10-21 00:00:00.000       5   \n",
       "996  2011-10-26 00:00:00.000  2011-10-21 00:00:00.000       5   \n",
       "997  2011-10-26 00:00:00.000  2011-10-21 00:00:00.000       5   \n",
       "998  2011-10-26 00:00:00.000  2011-10-21 00:00:00.000       5   \n",
       "999  2011-10-26 00:00:00.000  2011-10-21 00:00:00.000       5   \n",
       "\n",
       "     OnlineOrderFlag SalesOrderNumber PurchaseOrderNumber   AccountNumber  \\\n",
       "0                  0          SO43659         PO522145787  10-4020-000676   \n",
       "1                  0          SO43660       PO18850127500  10-4020-000117   \n",
       "2                  0          SO43661       PO18473189620  10-4020-000442   \n",
       "3                  0          SO43662       PO18444174044  10-4020-000227   \n",
       "4                  0          SO43663       PO18009186470  10-4020-000510   \n",
       "..               ...              ...                 ...             ...   \n",
       "995                1          SO44654                 NaN  10-4030-028619   \n",
       "996                1          SO44655                 NaN  10-4030-011105   \n",
       "997                1          SO44656                 NaN  10-4030-018275   \n",
       "998                1          SO44657                 NaN  10-4030-011120   \n",
       "999                1          SO44658                 NaN  10-4030-018201   \n",
       "\n",
       "     ...  CreditCardID  CreditCardApprovalCode  CurrencyRateID    SubTotal  \\\n",
       "0    ...       16281.0           105041Vi84182             NaN  20565.6206   \n",
       "1    ...        5618.0           115213Vi29411             NaN   1294.2529   \n",
       "2    ...        1346.0             85274Vi6854             4.0  32726.4786   \n",
       "3    ...       10456.0           125295Vi53935             4.0  28832.5289   \n",
       "4    ...        4322.0            45303Vi22691             NaN    419.4589   \n",
       "..   ...           ...                     ...             ...         ...   \n",
       "995  ...       12353.0          1032841Vi63906             NaN   3578.2700   \n",
       "996  ...       18919.0           834150Vi98284          1770.0   3399.9900   \n",
       "997  ...       12162.0          1234424Vi62869          1770.0   3578.2700   \n",
       "998  ...        5503.0           934967Vi28849          1770.0   3374.9900   \n",
       "999  ...        1429.0            135323Vi7318          1770.0   3578.2700   \n",
       "\n",
       "        TaxAmt   Freight    TotalDue Comment  \\\n",
       "0    1971.5149  616.0984  23153.2339     NaN   \n",
       "1     124.2483   38.8276   1457.3288     NaN   \n",
       "2    3153.7696  985.5530  36865.8012     NaN   \n",
       "3    2775.1646  867.2389  32474.9324     NaN   \n",
       "4      40.2681   12.5838    472.3108     NaN   \n",
       "..         ...       ...         ...     ...   \n",
       "995   286.2616   89.4568   3953.9884     NaN   \n",
       "996   271.9992   84.9998   3756.9890     NaN   \n",
       "997   286.2616   89.4568   3953.9884     NaN   \n",
       "998   269.9992   84.3748   3729.3640     NaN   \n",
       "999   286.2616   89.4568   3953.9884     NaN   \n",
       "\n",
       "                                  rowguid             ModifiedDate  \n",
       "0    79B65321-39CA-4115-9CBA-8FE0903E12E6  2011-06-07 00:00:00.000  \n",
       "1    738DC42D-D03B-48A1-9822-F95A67EA7389  2011-06-07 00:00:00.000  \n",
       "2    D91B9131-18A4-4A11-BC3A-90B6F53E9D74  2011-06-07 00:00:00.000  \n",
       "3    4A1ECFC0-CC3A-4740-B028-1C50BB48711C  2011-06-07 00:00:00.000  \n",
       "4    9B1E7A40-6AE0-4AD3-811C-A64951857C4B  2011-06-07 00:00:00.000  \n",
       "..                                    ...                      ...  \n",
       "995  999EC164-6BC0-4D4D-B0D7-BF8A3377CC7C  2011-10-21 00:00:00.000  \n",
       "996  FAC4363F-6932-47FF-8801-5619ED2BBA56  2011-10-21 00:00:00.000  \n",
       "997  51FBF6A5-4AF7-49F1-B9EF-F4100496F000  2011-10-21 00:00:00.000  \n",
       "998  CF059E0D-3392-49F0-8DA9-0865798C4FB3  2011-10-21 00:00:00.000  \n",
       "999  D55CC1B2-4443-4DA7-BB75-F5DEFD62B2B8  2011-10-21 00:00:00.000  \n",
       "\n",
       "[1000 rows x 26 columns]"
      ]
     },
     "execution_count": 57,
     "metadata": {},
     "output_type": "execute_result"
    }
   ],
   "source": [
    "pd.read_csv('https://github.com/aansubarkah/ssa/raw/refs/heads/main/MembukaPDF/SalesOrderHeaderMinimized.csv', sep='\\t')"
   ]
  },
  {
   "cell_type": "code",
   "execution_count": 34,
   "metadata": {
    "execution": {
     "iopub.execute_input": "2025-01-03T13:38:27.384230Z",
     "iopub.status.busy": "2025-01-03T13:38:27.382232Z",
     "iopub.status.idle": "2025-01-03T13:38:29.607102Z",
     "shell.execute_reply": "2025-01-03T13:38:29.606091Z",
     "shell.execute_reply.started": "2025-01-03T13:38:27.384230Z"
    }
   },
   "outputs": [],
   "source": [
    "df = pd.read_csv('https://github.com/aansubarkah/ssa/raw/refs/heads/main/MembukaPDF/SalesOrderHeaderMinimized.csv', sep='\\t')"
   ]
  },
  {
   "cell_type": "code",
   "execution_count": 35,
   "metadata": {
    "execution": {
     "iopub.execute_input": "2025-01-03T13:38:29.610108Z",
     "iopub.status.busy": "2025-01-03T13:38:29.610108Z",
     "iopub.status.idle": "2025-01-03T13:38:29.681971Z",
     "shell.execute_reply": "2025-01-03T13:38:29.677958Z",
     "shell.execute_reply.started": "2025-01-03T13:38:29.610108Z"
    }
   },
   "outputs": [
    {
     "data": {
      "text/html": [
       "<div>\n",
       "<style scoped>\n",
       "    .dataframe tbody tr th:only-of-type {\n",
       "        vertical-align: middle;\n",
       "    }\n",
       "\n",
       "    .dataframe tbody tr th {\n",
       "        vertical-align: top;\n",
       "    }\n",
       "\n",
       "    .dataframe thead th {\n",
       "        text-align: right;\n",
       "    }\n",
       "</style>\n",
       "<table border=\"1\" class=\"dataframe\">\n",
       "  <thead>\n",
       "    <tr style=\"text-align: right;\">\n",
       "      <th></th>\n",
       "      <th>SalesOrderID</th>\n",
       "      <th>RevisionNumber</th>\n",
       "      <th>OrderDate</th>\n",
       "      <th>DueDate</th>\n",
       "      <th>ShipDate</th>\n",
       "      <th>Status</th>\n",
       "      <th>OnlineOrderFlag</th>\n",
       "      <th>SalesOrderNumber</th>\n",
       "      <th>PurchaseOrderNumber</th>\n",
       "      <th>AccountNumber</th>\n",
       "      <th>...</th>\n",
       "      <th>CreditCardID</th>\n",
       "      <th>CreditCardApprovalCode</th>\n",
       "      <th>CurrencyRateID</th>\n",
       "      <th>SubTotal</th>\n",
       "      <th>TaxAmt</th>\n",
       "      <th>Freight</th>\n",
       "      <th>TotalDue</th>\n",
       "      <th>Comment</th>\n",
       "      <th>rowguid</th>\n",
       "      <th>ModifiedDate</th>\n",
       "    </tr>\n",
       "  </thead>\n",
       "  <tbody>\n",
       "    <tr>\n",
       "      <th>0</th>\n",
       "      <td>43659</td>\n",
       "      <td>8</td>\n",
       "      <td>2011-05-31 00:00:00.000</td>\n",
       "      <td>2011-06-12 00:00:00.000</td>\n",
       "      <td>2011-06-07 00:00:00.000</td>\n",
       "      <td>5</td>\n",
       "      <td>0</td>\n",
       "      <td>SO43659</td>\n",
       "      <td>PO522145787</td>\n",
       "      <td>10-4020-000676</td>\n",
       "      <td>...</td>\n",
       "      <td>16281.0</td>\n",
       "      <td>105041Vi84182</td>\n",
       "      <td>NaN</td>\n",
       "      <td>20565.6206</td>\n",
       "      <td>1971.5149</td>\n",
       "      <td>616.0984</td>\n",
       "      <td>23153.2339</td>\n",
       "      <td>NaN</td>\n",
       "      <td>79B65321-39CA-4115-9CBA-8FE0903E12E6</td>\n",
       "      <td>2011-06-07 00:00:00.000</td>\n",
       "    </tr>\n",
       "    <tr>\n",
       "      <th>1</th>\n",
       "      <td>43660</td>\n",
       "      <td>8</td>\n",
       "      <td>2011-05-31 00:00:00.000</td>\n",
       "      <td>2011-06-12 00:00:00.000</td>\n",
       "      <td>2011-06-07 00:00:00.000</td>\n",
       "      <td>5</td>\n",
       "      <td>0</td>\n",
       "      <td>SO43660</td>\n",
       "      <td>PO18850127500</td>\n",
       "      <td>10-4020-000117</td>\n",
       "      <td>...</td>\n",
       "      <td>5618.0</td>\n",
       "      <td>115213Vi29411</td>\n",
       "      <td>NaN</td>\n",
       "      <td>1294.2529</td>\n",
       "      <td>124.2483</td>\n",
       "      <td>38.8276</td>\n",
       "      <td>1457.3288</td>\n",
       "      <td>NaN</td>\n",
       "      <td>738DC42D-D03B-48A1-9822-F95A67EA7389</td>\n",
       "      <td>2011-06-07 00:00:00.000</td>\n",
       "    </tr>\n",
       "    <tr>\n",
       "      <th>2</th>\n",
       "      <td>43661</td>\n",
       "      <td>8</td>\n",
       "      <td>2011-05-31 00:00:00.000</td>\n",
       "      <td>2011-06-12 00:00:00.000</td>\n",
       "      <td>2011-06-07 00:00:00.000</td>\n",
       "      <td>5</td>\n",
       "      <td>0</td>\n",
       "      <td>SO43661</td>\n",
       "      <td>PO18473189620</td>\n",
       "      <td>10-4020-000442</td>\n",
       "      <td>...</td>\n",
       "      <td>1346.0</td>\n",
       "      <td>85274Vi6854</td>\n",
       "      <td>4.0</td>\n",
       "      <td>32726.4786</td>\n",
       "      <td>3153.7696</td>\n",
       "      <td>985.5530</td>\n",
       "      <td>36865.8012</td>\n",
       "      <td>NaN</td>\n",
       "      <td>D91B9131-18A4-4A11-BC3A-90B6F53E9D74</td>\n",
       "      <td>2011-06-07 00:00:00.000</td>\n",
       "    </tr>\n",
       "    <tr>\n",
       "      <th>3</th>\n",
       "      <td>43662</td>\n",
       "      <td>8</td>\n",
       "      <td>2011-05-31 00:00:00.000</td>\n",
       "      <td>2011-06-12 00:00:00.000</td>\n",
       "      <td>2011-06-07 00:00:00.000</td>\n",
       "      <td>5</td>\n",
       "      <td>0</td>\n",
       "      <td>SO43662</td>\n",
       "      <td>PO18444174044</td>\n",
       "      <td>10-4020-000227</td>\n",
       "      <td>...</td>\n",
       "      <td>10456.0</td>\n",
       "      <td>125295Vi53935</td>\n",
       "      <td>4.0</td>\n",
       "      <td>28832.5289</td>\n",
       "      <td>2775.1646</td>\n",
       "      <td>867.2389</td>\n",
       "      <td>32474.9324</td>\n",
       "      <td>NaN</td>\n",
       "      <td>4A1ECFC0-CC3A-4740-B028-1C50BB48711C</td>\n",
       "      <td>2011-06-07 00:00:00.000</td>\n",
       "    </tr>\n",
       "    <tr>\n",
       "      <th>4</th>\n",
       "      <td>43663</td>\n",
       "      <td>8</td>\n",
       "      <td>2011-05-31 00:00:00.000</td>\n",
       "      <td>2011-06-12 00:00:00.000</td>\n",
       "      <td>2011-06-07 00:00:00.000</td>\n",
       "      <td>5</td>\n",
       "      <td>0</td>\n",
       "      <td>SO43663</td>\n",
       "      <td>PO18009186470</td>\n",
       "      <td>10-4020-000510</td>\n",
       "      <td>...</td>\n",
       "      <td>4322.0</td>\n",
       "      <td>45303Vi22691</td>\n",
       "      <td>NaN</td>\n",
       "      <td>419.4589</td>\n",
       "      <td>40.2681</td>\n",
       "      <td>12.5838</td>\n",
       "      <td>472.3108</td>\n",
       "      <td>NaN</td>\n",
       "      <td>9B1E7A40-6AE0-4AD3-811C-A64951857C4B</td>\n",
       "      <td>2011-06-07 00:00:00.000</td>\n",
       "    </tr>\n",
       "    <tr>\n",
       "      <th>...</th>\n",
       "      <td>...</td>\n",
       "      <td>...</td>\n",
       "      <td>...</td>\n",
       "      <td>...</td>\n",
       "      <td>...</td>\n",
       "      <td>...</td>\n",
       "      <td>...</td>\n",
       "      <td>...</td>\n",
       "      <td>...</td>\n",
       "      <td>...</td>\n",
       "      <td>...</td>\n",
       "      <td>...</td>\n",
       "      <td>...</td>\n",
       "      <td>...</td>\n",
       "      <td>...</td>\n",
       "      <td>...</td>\n",
       "      <td>...</td>\n",
       "      <td>...</td>\n",
       "      <td>...</td>\n",
       "      <td>...</td>\n",
       "      <td>...</td>\n",
       "    </tr>\n",
       "    <tr>\n",
       "      <th>995</th>\n",
       "      <td>44654</td>\n",
       "      <td>8</td>\n",
       "      <td>2011-10-14 00:00:00.000</td>\n",
       "      <td>2011-10-26 00:00:00.000</td>\n",
       "      <td>2011-10-21 00:00:00.000</td>\n",
       "      <td>5</td>\n",
       "      <td>1</td>\n",
       "      <td>SO44654</td>\n",
       "      <td>NaN</td>\n",
       "      <td>10-4030-028619</td>\n",
       "      <td>...</td>\n",
       "      <td>12353.0</td>\n",
       "      <td>1032841Vi63906</td>\n",
       "      <td>NaN</td>\n",
       "      <td>3578.2700</td>\n",
       "      <td>286.2616</td>\n",
       "      <td>89.4568</td>\n",
       "      <td>3953.9884</td>\n",
       "      <td>NaN</td>\n",
       "      <td>999EC164-6BC0-4D4D-B0D7-BF8A3377CC7C</td>\n",
       "      <td>2011-10-21 00:00:00.000</td>\n",
       "    </tr>\n",
       "    <tr>\n",
       "      <th>996</th>\n",
       "      <td>44655</td>\n",
       "      <td>8</td>\n",
       "      <td>2011-10-14 00:00:00.000</td>\n",
       "      <td>2011-10-26 00:00:00.000</td>\n",
       "      <td>2011-10-21 00:00:00.000</td>\n",
       "      <td>5</td>\n",
       "      <td>1</td>\n",
       "      <td>SO44655</td>\n",
       "      <td>NaN</td>\n",
       "      <td>10-4030-011105</td>\n",
       "      <td>...</td>\n",
       "      <td>18919.0</td>\n",
       "      <td>834150Vi98284</td>\n",
       "      <td>1770.0</td>\n",
       "      <td>3399.9900</td>\n",
       "      <td>271.9992</td>\n",
       "      <td>84.9998</td>\n",
       "      <td>3756.9890</td>\n",
       "      <td>NaN</td>\n",
       "      <td>FAC4363F-6932-47FF-8801-5619ED2BBA56</td>\n",
       "      <td>2011-10-21 00:00:00.000</td>\n",
       "    </tr>\n",
       "    <tr>\n",
       "      <th>997</th>\n",
       "      <td>44656</td>\n",
       "      <td>8</td>\n",
       "      <td>2011-10-14 00:00:00.000</td>\n",
       "      <td>2011-10-26 00:00:00.000</td>\n",
       "      <td>2011-10-21 00:00:00.000</td>\n",
       "      <td>5</td>\n",
       "      <td>1</td>\n",
       "      <td>SO44656</td>\n",
       "      <td>NaN</td>\n",
       "      <td>10-4030-018275</td>\n",
       "      <td>...</td>\n",
       "      <td>12162.0</td>\n",
       "      <td>1234424Vi62869</td>\n",
       "      <td>1770.0</td>\n",
       "      <td>3578.2700</td>\n",
       "      <td>286.2616</td>\n",
       "      <td>89.4568</td>\n",
       "      <td>3953.9884</td>\n",
       "      <td>NaN</td>\n",
       "      <td>51FBF6A5-4AF7-49F1-B9EF-F4100496F000</td>\n",
       "      <td>2011-10-21 00:00:00.000</td>\n",
       "    </tr>\n",
       "    <tr>\n",
       "      <th>998</th>\n",
       "      <td>44657</td>\n",
       "      <td>8</td>\n",
       "      <td>2011-10-14 00:00:00.000</td>\n",
       "      <td>2011-10-26 00:00:00.000</td>\n",
       "      <td>2011-10-21 00:00:00.000</td>\n",
       "      <td>5</td>\n",
       "      <td>1</td>\n",
       "      <td>SO44657</td>\n",
       "      <td>NaN</td>\n",
       "      <td>10-4030-011120</td>\n",
       "      <td>...</td>\n",
       "      <td>5503.0</td>\n",
       "      <td>934967Vi28849</td>\n",
       "      <td>1770.0</td>\n",
       "      <td>3374.9900</td>\n",
       "      <td>269.9992</td>\n",
       "      <td>84.3748</td>\n",
       "      <td>3729.3640</td>\n",
       "      <td>NaN</td>\n",
       "      <td>CF059E0D-3392-49F0-8DA9-0865798C4FB3</td>\n",
       "      <td>2011-10-21 00:00:00.000</td>\n",
       "    </tr>\n",
       "    <tr>\n",
       "      <th>999</th>\n",
       "      <td>44658</td>\n",
       "      <td>8</td>\n",
       "      <td>2011-10-14 00:00:00.000</td>\n",
       "      <td>2011-10-26 00:00:00.000</td>\n",
       "      <td>2011-10-21 00:00:00.000</td>\n",
       "      <td>5</td>\n",
       "      <td>1</td>\n",
       "      <td>SO44658</td>\n",
       "      <td>NaN</td>\n",
       "      <td>10-4030-018201</td>\n",
       "      <td>...</td>\n",
       "      <td>1429.0</td>\n",
       "      <td>135323Vi7318</td>\n",
       "      <td>1770.0</td>\n",
       "      <td>3578.2700</td>\n",
       "      <td>286.2616</td>\n",
       "      <td>89.4568</td>\n",
       "      <td>3953.9884</td>\n",
       "      <td>NaN</td>\n",
       "      <td>D55CC1B2-4443-4DA7-BB75-F5DEFD62B2B8</td>\n",
       "      <td>2011-10-21 00:00:00.000</td>\n",
       "    </tr>\n",
       "  </tbody>\n",
       "</table>\n",
       "<p>1000 rows × 26 columns</p>\n",
       "</div>"
      ],
      "text/plain": [
       "     SalesOrderID  RevisionNumber                OrderDate  \\\n",
       "0           43659               8  2011-05-31 00:00:00.000   \n",
       "1           43660               8  2011-05-31 00:00:00.000   \n",
       "2           43661               8  2011-05-31 00:00:00.000   \n",
       "3           43662               8  2011-05-31 00:00:00.000   \n",
       "4           43663               8  2011-05-31 00:00:00.000   \n",
       "..            ...             ...                      ...   \n",
       "995         44654               8  2011-10-14 00:00:00.000   \n",
       "996         44655               8  2011-10-14 00:00:00.000   \n",
       "997         44656               8  2011-10-14 00:00:00.000   \n",
       "998         44657               8  2011-10-14 00:00:00.000   \n",
       "999         44658               8  2011-10-14 00:00:00.000   \n",
       "\n",
       "                     DueDate                 ShipDate  Status  \\\n",
       "0    2011-06-12 00:00:00.000  2011-06-07 00:00:00.000       5   \n",
       "1    2011-06-12 00:00:00.000  2011-06-07 00:00:00.000       5   \n",
       "2    2011-06-12 00:00:00.000  2011-06-07 00:00:00.000       5   \n",
       "3    2011-06-12 00:00:00.000  2011-06-07 00:00:00.000       5   \n",
       "4    2011-06-12 00:00:00.000  2011-06-07 00:00:00.000       5   \n",
       "..                       ...                      ...     ...   \n",
       "995  2011-10-26 00:00:00.000  2011-10-21 00:00:00.000       5   \n",
       "996  2011-10-26 00:00:00.000  2011-10-21 00:00:00.000       5   \n",
       "997  2011-10-26 00:00:00.000  2011-10-21 00:00:00.000       5   \n",
       "998  2011-10-26 00:00:00.000  2011-10-21 00:00:00.000       5   \n",
       "999  2011-10-26 00:00:00.000  2011-10-21 00:00:00.000       5   \n",
       "\n",
       "     OnlineOrderFlag SalesOrderNumber PurchaseOrderNumber   AccountNumber  \\\n",
       "0                  0          SO43659         PO522145787  10-4020-000676   \n",
       "1                  0          SO43660       PO18850127500  10-4020-000117   \n",
       "2                  0          SO43661       PO18473189620  10-4020-000442   \n",
       "3                  0          SO43662       PO18444174044  10-4020-000227   \n",
       "4                  0          SO43663       PO18009186470  10-4020-000510   \n",
       "..               ...              ...                 ...             ...   \n",
       "995                1          SO44654                 NaN  10-4030-028619   \n",
       "996                1          SO44655                 NaN  10-4030-011105   \n",
       "997                1          SO44656                 NaN  10-4030-018275   \n",
       "998                1          SO44657                 NaN  10-4030-011120   \n",
       "999                1          SO44658                 NaN  10-4030-018201   \n",
       "\n",
       "     ...  CreditCardID  CreditCardApprovalCode  CurrencyRateID    SubTotal  \\\n",
       "0    ...       16281.0           105041Vi84182             NaN  20565.6206   \n",
       "1    ...        5618.0           115213Vi29411             NaN   1294.2529   \n",
       "2    ...        1346.0             85274Vi6854             4.0  32726.4786   \n",
       "3    ...       10456.0           125295Vi53935             4.0  28832.5289   \n",
       "4    ...        4322.0            45303Vi22691             NaN    419.4589   \n",
       "..   ...           ...                     ...             ...         ...   \n",
       "995  ...       12353.0          1032841Vi63906             NaN   3578.2700   \n",
       "996  ...       18919.0           834150Vi98284          1770.0   3399.9900   \n",
       "997  ...       12162.0          1234424Vi62869          1770.0   3578.2700   \n",
       "998  ...        5503.0           934967Vi28849          1770.0   3374.9900   \n",
       "999  ...        1429.0            135323Vi7318          1770.0   3578.2700   \n",
       "\n",
       "        TaxAmt   Freight    TotalDue Comment  \\\n",
       "0    1971.5149  616.0984  23153.2339     NaN   \n",
       "1     124.2483   38.8276   1457.3288     NaN   \n",
       "2    3153.7696  985.5530  36865.8012     NaN   \n",
       "3    2775.1646  867.2389  32474.9324     NaN   \n",
       "4      40.2681   12.5838    472.3108     NaN   \n",
       "..         ...       ...         ...     ...   \n",
       "995   286.2616   89.4568   3953.9884     NaN   \n",
       "996   271.9992   84.9998   3756.9890     NaN   \n",
       "997   286.2616   89.4568   3953.9884     NaN   \n",
       "998   269.9992   84.3748   3729.3640     NaN   \n",
       "999   286.2616   89.4568   3953.9884     NaN   \n",
       "\n",
       "                                  rowguid             ModifiedDate  \n",
       "0    79B65321-39CA-4115-9CBA-8FE0903E12E6  2011-06-07 00:00:00.000  \n",
       "1    738DC42D-D03B-48A1-9822-F95A67EA7389  2011-06-07 00:00:00.000  \n",
       "2    D91B9131-18A4-4A11-BC3A-90B6F53E9D74  2011-06-07 00:00:00.000  \n",
       "3    4A1ECFC0-CC3A-4740-B028-1C50BB48711C  2011-06-07 00:00:00.000  \n",
       "4    9B1E7A40-6AE0-4AD3-811C-A64951857C4B  2011-06-07 00:00:00.000  \n",
       "..                                    ...                      ...  \n",
       "995  999EC164-6BC0-4D4D-B0D7-BF8A3377CC7C  2011-10-21 00:00:00.000  \n",
       "996  FAC4363F-6932-47FF-8801-5619ED2BBA56  2011-10-21 00:00:00.000  \n",
       "997  51FBF6A5-4AF7-49F1-B9EF-F4100496F000  2011-10-21 00:00:00.000  \n",
       "998  CF059E0D-3392-49F0-8DA9-0865798C4FB3  2011-10-21 00:00:00.000  \n",
       "999  D55CC1B2-4443-4DA7-BB75-F5DEFD62B2B8  2011-10-21 00:00:00.000  \n",
       "\n",
       "[1000 rows x 26 columns]"
      ]
     },
     "execution_count": 35,
     "metadata": {},
     "output_type": "execute_result"
    }
   ],
   "source": [
    "df"
   ]
  },
  {
   "cell_type": "code",
   "execution_count": 49,
   "metadata": {
    "execution": {
     "iopub.execute_input": "2025-01-03T13:48:03.443340Z",
     "iopub.status.busy": "2025-01-03T13:48:03.441332Z",
     "iopub.status.idle": "2025-01-03T13:48:04.618150Z",
     "shell.execute_reply": "2025-01-03T13:48:04.615621Z",
     "shell.execute_reply.started": "2025-01-03T13:48:03.443340Z"
    }
   },
   "outputs": [],
   "source": [
    "df2 = pd.read_csv('https://github.com/aansubarkah/ssa/raw/refs/heads/main/MembukaPDF/SalesOrderHeaderMinimized.csv')"
   ]
  },
  {
   "cell_type": "code",
   "execution_count": 50,
   "metadata": {
    "execution": {
     "iopub.execute_input": "2025-01-03T13:48:08.736116Z",
     "iopub.status.busy": "2025-01-03T13:48:08.735607Z",
     "iopub.status.idle": "2025-01-03T13:48:08.752705Z",
     "shell.execute_reply": "2025-01-03T13:48:08.750692Z",
     "shell.execute_reply.started": "2025-01-03T13:48:08.736116Z"
    }
   },
   "outputs": [
    {
     "data": {
      "text/html": [
       "<div>\n",
       "<style scoped>\n",
       "    .dataframe tbody tr th:only-of-type {\n",
       "        vertical-align: middle;\n",
       "    }\n",
       "\n",
       "    .dataframe tbody tr th {\n",
       "        vertical-align: top;\n",
       "    }\n",
       "\n",
       "    .dataframe thead th {\n",
       "        text-align: right;\n",
       "    }\n",
       "</style>\n",
       "<table border=\"1\" class=\"dataframe\">\n",
       "  <thead>\n",
       "    <tr style=\"text-align: right;\">\n",
       "      <th></th>\n",
       "      <th>SalesOrderID\\t\"RevisionNumber\"\\t\"OrderDate\"\\t\"DueDate\"\\t\"ShipDate\"\\t\"Status\"\\t\"OnlineOrderFlag\"\\t\"SalesOrderNumber\"\\t\"PurchaseOrderNumber\"\\t\"AccountNumber\"\\t\"CustomerID\"\\t\"SalesPersonID\"\\t\"TerritoryID\"\\t\"BillToAddressID\"\\t\"ShipToAddressID\"\\t\"ShipMethodID\"\\t\"CreditCardID\"\\t\"CreditCardApprovalCode\"\\t\"CurrencyRateID\"\\t\"SubTotal\"\\t\"TaxAmt\"\\t\"Freight\"\\t\"TotalDue\"\\t\"Comment\"\\t\"rowguid\"\\t\"ModifiedDate\"</th>\n",
       "    </tr>\n",
       "  </thead>\n",
       "  <tbody>\n",
       "    <tr>\n",
       "      <th>0</th>\n",
       "      <td>43659\\t8\\t2011-05-31 00:00:00.000\\t2011-06-12 ...</td>\n",
       "    </tr>\n",
       "    <tr>\n",
       "      <th>1</th>\n",
       "      <td>43660\\t8\\t2011-05-31 00:00:00.000\\t2011-06-12 ...</td>\n",
       "    </tr>\n",
       "    <tr>\n",
       "      <th>2</th>\n",
       "      <td>43661\\t8\\t2011-05-31 00:00:00.000\\t2011-06-12 ...</td>\n",
       "    </tr>\n",
       "    <tr>\n",
       "      <th>3</th>\n",
       "      <td>43662\\t8\\t2011-05-31 00:00:00.000\\t2011-06-12 ...</td>\n",
       "    </tr>\n",
       "    <tr>\n",
       "      <th>4</th>\n",
       "      <td>43663\\t8\\t2011-05-31 00:00:00.000\\t2011-06-12 ...</td>\n",
       "    </tr>\n",
       "    <tr>\n",
       "      <th>...</th>\n",
       "      <td>...</td>\n",
       "    </tr>\n",
       "    <tr>\n",
       "      <th>995</th>\n",
       "      <td>44654\\t8\\t2011-10-14 00:00:00.000\\t2011-10-26 ...</td>\n",
       "    </tr>\n",
       "    <tr>\n",
       "      <th>996</th>\n",
       "      <td>44655\\t8\\t2011-10-14 00:00:00.000\\t2011-10-26 ...</td>\n",
       "    </tr>\n",
       "    <tr>\n",
       "      <th>997</th>\n",
       "      <td>44656\\t8\\t2011-10-14 00:00:00.000\\t2011-10-26 ...</td>\n",
       "    </tr>\n",
       "    <tr>\n",
       "      <th>998</th>\n",
       "      <td>44657\\t8\\t2011-10-14 00:00:00.000\\t2011-10-26 ...</td>\n",
       "    </tr>\n",
       "    <tr>\n",
       "      <th>999</th>\n",
       "      <td>44658\\t8\\t2011-10-14 00:00:00.000\\t2011-10-26 ...</td>\n",
       "    </tr>\n",
       "  </tbody>\n",
       "</table>\n",
       "<p>1000 rows × 1 columns</p>\n",
       "</div>"
      ],
      "text/plain": [
       "    SalesOrderID\\t\"RevisionNumber\"\\t\"OrderDate\"\\t\"DueDate\"\\t\"ShipDate\"\\t\"Status\"\\t\"OnlineOrderFlag\"\\t\"SalesOrderNumber\"\\t\"PurchaseOrderNumber\"\\t\"AccountNumber\"\\t\"CustomerID\"\\t\"SalesPersonID\"\\t\"TerritoryID\"\\t\"BillToAddressID\"\\t\"ShipToAddressID\"\\t\"ShipMethodID\"\\t\"CreditCardID\"\\t\"CreditCardApprovalCode\"\\t\"CurrencyRateID\"\\t\"SubTotal\"\\t\"TaxAmt\"\\t\"Freight\"\\t\"TotalDue\"\\t\"Comment\"\\t\"rowguid\"\\t\"ModifiedDate\"\n",
       "0    43659\\t8\\t2011-05-31 00:00:00.000\\t2011-06-12 ...                                                                                                                                                                                                                                                                                                                                                            \n",
       "1    43660\\t8\\t2011-05-31 00:00:00.000\\t2011-06-12 ...                                                                                                                                                                                                                                                                                                                                                            \n",
       "2    43661\\t8\\t2011-05-31 00:00:00.000\\t2011-06-12 ...                                                                                                                                                                                                                                                                                                                                                            \n",
       "3    43662\\t8\\t2011-05-31 00:00:00.000\\t2011-06-12 ...                                                                                                                                                                                                                                                                                                                                                            \n",
       "4    43663\\t8\\t2011-05-31 00:00:00.000\\t2011-06-12 ...                                                                                                                                                                                                                                                                                                                                                            \n",
       "..                                                 ...                                                                                                                                                                                                                                                                                                                                                            \n",
       "995  44654\\t8\\t2011-10-14 00:00:00.000\\t2011-10-26 ...                                                                                                                                                                                                                                                                                                                                                            \n",
       "996  44655\\t8\\t2011-10-14 00:00:00.000\\t2011-10-26 ...                                                                                                                                                                                                                                                                                                                                                            \n",
       "997  44656\\t8\\t2011-10-14 00:00:00.000\\t2011-10-26 ...                                                                                                                                                                                                                                                                                                                                                            \n",
       "998  44657\\t8\\t2011-10-14 00:00:00.000\\t2011-10-26 ...                                                                                                                                                                                                                                                                                                                                                            \n",
       "999  44658\\t8\\t2011-10-14 00:00:00.000\\t2011-10-26 ...                                                                                                                                                                                                                                                                                                                                                            \n",
       "\n",
       "[1000 rows x 1 columns]"
      ]
     },
     "execution_count": 50,
     "metadata": {},
     "output_type": "execute_result"
    }
   ],
   "source": [
    "df2"
   ]
  },
  {
   "cell_type": "markdown",
   "metadata": {},
   "source": [
    "# Membuat Function sendiri"
   ]
  },
  {
   "cell_type": "markdown",
   "metadata": {},
   "source": [
    "## Bentuk primitif fungsi"
   ]
  },
  {
   "cell_type": "code",
   "execution_count": 36,
   "metadata": {
    "execution": {
     "iopub.execute_input": "2025-01-03T13:40:39.969418Z",
     "iopub.status.busy": "2025-01-03T13:40:39.968419Z",
     "iopub.status.idle": "2025-01-03T13:40:39.975533Z",
     "shell.execute_reply": "2025-01-03T13:40:39.974008Z",
     "shell.execute_reply.started": "2025-01-03T13:40:39.969418Z"
    }
   },
   "outputs": [],
   "source": [
    "def nama_fungsi():\n",
    "    print('halo dunia')"
   ]
  },
  {
   "cell_type": "code",
   "execution_count": 37,
   "metadata": {
    "execution": {
     "iopub.execute_input": "2025-01-03T13:40:59.266011Z",
     "iopub.status.busy": "2025-01-03T13:40:59.264506Z",
     "iopub.status.idle": "2025-01-03T13:40:59.273340Z",
     "shell.execute_reply": "2025-01-03T13:40:59.272328Z",
     "shell.execute_reply.started": "2025-01-03T13:40:59.266011Z"
    }
   },
   "outputs": [
    {
     "name": "stdout",
     "output_type": "stream",
     "text": [
      "halo dunia\n"
     ]
    }
   ],
   "source": [
    "nama_fungsi()"
   ]
  },
  {
   "cell_type": "markdown",
   "metadata": {},
   "source": [
    "## Modif input"
   ]
  },
  {
   "cell_type": "code",
   "execution_count": 41,
   "metadata": {
    "execution": {
     "iopub.execute_input": "2025-01-03T13:44:27.974219Z",
     "iopub.status.busy": "2025-01-03T13:44:27.973213Z",
     "iopub.status.idle": "2025-01-03T13:44:27.980131Z",
     "shell.execute_reply": "2025-01-03T13:44:27.979120Z",
     "shell.execute_reply.started": "2025-01-03T13:44:27.973213Z"
    }
   },
   "outputs": [],
   "source": [
    "def nama_fungsi1(input1):\n",
    "    print(input1)"
   ]
  },
  {
   "cell_type": "code",
   "execution_count": 44,
   "metadata": {
    "execution": {
     "iopub.execute_input": "2025-01-03T13:44:45.793283Z",
     "iopub.status.busy": "2025-01-03T13:44:45.791558Z",
     "iopub.status.idle": "2025-01-03T13:44:45.801332Z",
     "shell.execute_reply": "2025-01-03T13:44:45.799622Z",
     "shell.execute_reply.started": "2025-01-03T13:44:45.792748Z"
    }
   },
   "outputs": [
    {
     "name": "stdout",
     "output_type": "stream",
     "text": [
      "auditor lagi111\n"
     ]
    }
   ],
   "source": [
    "nama_fungsi1('auditor lagi111')"
   ]
  },
  {
   "cell_type": "markdown",
   "metadata": {},
   "source": [
    "## Modif input dengan default value"
   ]
  },
  {
   "cell_type": "code",
   "execution_count": 45,
   "metadata": {
    "execution": {
     "iopub.execute_input": "2025-01-03T13:45:49.394510Z",
     "iopub.status.busy": "2025-01-03T13:45:49.393512Z",
     "iopub.status.idle": "2025-01-03T13:45:49.400085Z",
     "shell.execute_reply": "2025-01-03T13:45:49.399069Z",
     "shell.execute_reply.started": "2025-01-03T13:45:49.394510Z"
    }
   },
   "outputs": [],
   "source": [
    "def nama_fungsi2(input1='auditor'):\n",
    "    print(input1)"
   ]
  },
  {
   "cell_type": "code",
   "execution_count": 46,
   "metadata": {
    "execution": {
     "iopub.execute_input": "2025-01-03T13:45:53.671625Z",
     "iopub.status.busy": "2025-01-03T13:45:53.671625Z",
     "iopub.status.idle": "2025-01-03T13:45:53.678813Z",
     "shell.execute_reply": "2025-01-03T13:45:53.677803Z",
     "shell.execute_reply.started": "2025-01-03T13:45:53.671625Z"
    }
   },
   "outputs": [
    {
     "name": "stdout",
     "output_type": "stream",
     "text": [
      "auditor\n"
     ]
    }
   ],
   "source": [
    "nama_fungsi2()"
   ]
  },
  {
   "cell_type": "code",
   "execution_count": 47,
   "metadata": {
    "execution": {
     "iopub.execute_input": "2025-01-03T13:46:33.582234Z",
     "iopub.status.busy": "2025-01-03T13:46:33.581235Z",
     "iopub.status.idle": "2025-01-03T13:46:33.587979Z",
     "shell.execute_reply": "2025-01-03T13:46:33.586966Z",
     "shell.execute_reply.started": "2025-01-03T13:46:33.582234Z"
    }
   },
   "outputs": [
    {
     "name": "stdout",
     "output_type": "stream",
     "text": [
      "auditeeeeee\n"
     ]
    }
   ],
   "source": [
    "nama_fungsi2('auditeeeeee')"
   ]
  },
  {
   "cell_type": "code",
   "execution_count": 48,
   "metadata": {
    "execution": {
     "iopub.execute_input": "2025-01-03T13:46:58.815448Z",
     "iopub.status.busy": "2025-01-03T13:46:58.813939Z",
     "iopub.status.idle": "2025-01-03T13:46:58.822095Z",
     "shell.execute_reply": "2025-01-03T13:46:58.821085Z",
     "shell.execute_reply.started": "2025-01-03T13:46:58.815448Z"
    }
   },
   "outputs": [
    {
     "name": "stdout",
     "output_type": "stream",
     "text": [
      "partner\n"
     ]
    }
   ],
   "source": [
    "nama_fungsi2(input1='partner')"
   ]
  },
  {
   "cell_type": "markdown",
   "metadata": {},
   "source": [
    "## Fungsi yang mengembalikan nilai"
   ]
  },
  {
   "cell_type": "code",
   "execution_count": 51,
   "metadata": {
    "execution": {
     "iopub.execute_input": "2025-01-03T13:54:56.994117Z",
     "iopub.status.busy": "2025-01-03T13:54:56.993008Z",
     "iopub.status.idle": "2025-01-03T13:54:57.001516Z",
     "shell.execute_reply": "2025-01-03T13:54:56.999695Z",
     "shell.execute_reply.started": "2025-01-03T13:54:56.994117Z"
    }
   },
   "outputs": [],
   "source": [
    "def nama_fungsi3(angka=0):\n",
    "    angka_temporer = angka * 10\n",
    "    return angka_temporer"
   ]
  },
  {
   "cell_type": "code",
   "execution_count": 52,
   "metadata": {
    "execution": {
     "iopub.execute_input": "2025-01-03T13:55:09.413810Z",
     "iopub.status.busy": "2025-01-03T13:55:09.412810Z",
     "iopub.status.idle": "2025-01-03T13:55:09.421464Z",
     "shell.execute_reply": "2025-01-03T13:55:09.420455Z",
     "shell.execute_reply.started": "2025-01-03T13:55:09.413810Z"
    }
   },
   "outputs": [
    {
     "data": {
      "text/plain": [
       "0"
      ]
     },
     "execution_count": 52,
     "metadata": {},
     "output_type": "execute_result"
    }
   ],
   "source": [
    "nama_fungsi3()"
   ]
  },
  {
   "cell_type": "code",
   "execution_count": 53,
   "metadata": {
    "execution": {
     "iopub.execute_input": "2025-01-03T13:55:25.192567Z",
     "iopub.status.busy": "2025-01-03T13:55:25.191568Z",
     "iopub.status.idle": "2025-01-03T13:55:25.201869Z",
     "shell.execute_reply": "2025-01-03T13:55:25.199857Z",
     "shell.execute_reply.started": "2025-01-03T13:55:25.192567Z"
    }
   },
   "outputs": [
    {
     "data": {
      "text/plain": [
       "70"
      ]
     },
     "execution_count": 53,
     "metadata": {},
     "output_type": "execute_result"
    }
   ],
   "source": [
    "nama_fungsi3(7)"
   ]
  },
  {
   "cell_type": "code",
   "execution_count": 54,
   "metadata": {
    "execution": {
     "iopub.execute_input": "2025-01-03T13:55:51.474272Z",
     "iopub.status.busy": "2025-01-03T13:55:51.474272Z",
     "iopub.status.idle": "2025-01-03T13:55:51.479975Z",
     "shell.execute_reply": "2025-01-03T13:55:51.478966Z",
     "shell.execute_reply.started": "2025-01-03T13:55:51.474272Z"
    }
   },
   "outputs": [],
   "source": [
    "var_sementara = nama_fungsi3(8)"
   ]
  },
  {
   "cell_type": "code",
   "execution_count": 56,
   "metadata": {
    "execution": {
     "iopub.execute_input": "2025-01-03T13:56:21.023634Z",
     "iopub.status.busy": "2025-01-03T13:56:21.021636Z",
     "iopub.status.idle": "2025-01-03T13:56:21.033898Z",
     "shell.execute_reply": "2025-01-03T13:56:21.032878Z",
     "shell.execute_reply.started": "2025-01-03T13:56:21.023634Z"
    }
   },
   "outputs": [
    {
     "data": {
      "text/plain": [
       "80"
      ]
     },
     "execution_count": 56,
     "metadata": {},
     "output_type": "execute_result"
    }
   ],
   "source": [
    "var_sementara"
   ]
  },
  {
   "cell_type": "code",
   "execution_count": 61,
   "metadata": {
    "execution": {
     "iopub.execute_input": "2025-01-03T13:59:08.857714Z",
     "iopub.status.busy": "2025-01-03T13:59:08.856713Z",
     "iopub.status.idle": "2025-01-03T13:59:08.870285Z",
     "shell.execute_reply": "2025-01-03T13:59:08.868270Z",
     "shell.execute_reply.started": "2025-01-03T13:59:08.857714Z"
    }
   },
   "outputs": [],
   "source": [
    "def nama_fungsi4(angka=0):\n",
    "    temp_var = 'halo dunia, ini angka: ' + str(angka)\n",
    "    return temp_var"
   ]
  },
  {
   "cell_type": "code",
   "execution_count": 62,
   "metadata": {
    "execution": {
     "iopub.execute_input": "2025-01-03T13:59:09.361035Z",
     "iopub.status.busy": "2025-01-03T13:59:09.360036Z",
     "iopub.status.idle": "2025-01-03T13:59:09.374737Z",
     "shell.execute_reply": "2025-01-03T13:59:09.370179Z",
     "shell.execute_reply.started": "2025-01-03T13:59:09.361035Z"
    }
   },
   "outputs": [],
   "source": [
    "var1 = nama_fungsi4(100)"
   ]
  },
  {
   "cell_type": "code",
   "execution_count": 63,
   "metadata": {
    "execution": {
     "iopub.execute_input": "2025-01-03T13:59:09.906964Z",
     "iopub.status.busy": "2025-01-03T13:59:09.905824Z",
     "iopub.status.idle": "2025-01-03T13:59:09.922340Z",
     "shell.execute_reply": "2025-01-03T13:59:09.920322Z",
     "shell.execute_reply.started": "2025-01-03T13:59:09.906964Z"
    }
   },
   "outputs": [
    {
     "data": {
      "text/plain": [
       "'halo dunia, ini angka: 100'"
      ]
     },
     "execution_count": 63,
     "metadata": {},
     "output_type": "execute_result"
    }
   ],
   "source": [
    "var1"
   ]
  },
  {
   "cell_type": "markdown",
   "metadata": {},
   "source": [
    "# Simpulan"
   ]
  },
  {
   "cell_type": "markdown",
   "metadata": {},
   "source": [
    "- Fungsi untuk mengelompokkan kode\n",
    "- Tidak perlu membuat fungsi sendiri"
   ]
  },
  {
   "cell_type": "markdown",
   "metadata": {},
   "source": [
    "# Referensi Gratis"
   ]
  },
  {
   "attachments": {},
   "cell_type": "markdown",
   "metadata": {},
   "source": [
    "- [Think Python](https://allendowney.github.io/ThinkPython/chap01.html)"
   ]
  },
  {
   "cell_type": "code",
   "execution_count": null,
   "metadata": {},
   "outputs": [],
   "source": []
  }
 ],
 "metadata": {
  "kernelspec": {
   "display_name": "basangdata12",
   "language": "python",
   "name": "python3"
  },
  "language_info": {
   "codemirror_mode": {
    "name": "ipython",
    "version": 3
   },
   "file_extension": ".py",
   "mimetype": "text/x-python",
   "name": "python",
   "nbconvert_exporter": "python",
   "pygments_lexer": "ipython3",
   "version": "3.12.2"
  }
 },
 "nbformat": 4,
 "nbformat_minor": 4
}
