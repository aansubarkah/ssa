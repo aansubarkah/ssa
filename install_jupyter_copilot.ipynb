{
 "cells": [
  {
   "cell_type": "code",
   "execution_count": 2,
   "id": "f84a6e30-c46d-486c-aa7c-bd919fe77538",
   "metadata": {
    "execution": {
     "iopub.execute_input": "2024-10-13T08:01:55.932858Z",
     "iopub.status.busy": "2024-10-13T08:01:55.931859Z",
     "iopub.status.idle": "2024-10-13T08:01:55.940836Z",
     "shell.execute_reply": "2024-10-13T08:01:55.939880Z",
     "shell.execute_reply.started": "2024-10-13T08:01:55.932858Z"
    }
   },
   "outputs": [],
   "source": [
    "#!pip install jupyter_copilot"
   ]
  },
  {
   "cell_type": "code",
   "execution_count": null,
   "id": "7e8c81d8-6b49-4fbd-aa8a-605a93224b47",
   "metadata": {},
   "outputs": [],
   "source": []
  }
 ],
 "metadata": {
  "kernelspec": {
   "display_name": "Python 3 (ipykernel)",
   "language": "python",
   "name": "python3"
  },
  "language_info": {
   "codemirror_mode": {
    "name": "ipython",
    "version": 3
   },
   "file_extension": ".py",
   "mimetype": "text/x-python",
   "name": "python",
   "nbconvert_exporter": "python",
   "pygments_lexer": "ipython3",
   "version": "3.9.19"
  }
 },
 "nbformat": 4,
 "nbformat_minor": 5
}
