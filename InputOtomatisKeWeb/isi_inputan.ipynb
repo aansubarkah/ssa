{
 "cells": [
  {
   "cell_type": "markdown",
   "metadata": {
    "cellUniqueIdByVincent": "242ab"
   },
   "source": [
    "# Import Libraries"
   ]
  },
  {
   "cell_type": "code",
   "execution_count": 36,
   "metadata": {
    "cellUniqueIdByVincent": "113c5"
   },
   "outputs": [],
   "source": [
    "import json, requests, os\n",
    "import pandas as pd\n",
    "\n",
    "from io import StringIO\n",
    "from selenium import webdriver\n",
    "from selenium.webdriver.chrome.service import Service as ChromeService\n",
    "from webdriver_manager.chrome import ChromeDriverManager\n",
    "#from selenium.webdriver.common.desired_capabilities import DesiredCapabilities\n",
    "from selenium.webdriver.chrome.options import Options as ChromeOptions\n",
    "from selenium.webdriver.common.by import By\n",
    "from selenium.webdriver.support.ui import Select\n",
    "\n",
    "import undetected_chromedriver as uc\n",
    "#from datetime import datetime, timedelta\n",
    "from tqdm.notebook import tqdm"
   ]
  },
  {
   "cell_type": "markdown",
   "metadata": {
    "cellUniqueIdByVincent": "9774d"
   },
   "source": [
    "# Buka Browser"
   ]
  },
  {
   "cell_type": "code",
   "execution_count": 45,
   "metadata": {
    "cellUniqueIdByVincent": "a4794"
   },
   "outputs": [],
   "source": [
    "driver = uc.Chrome()\n",
    "#driver = webdriver.Chrome(service=ChromeService(ChromeDriverManager().install()))\n",
    "\n",
    "#driver = webdriver.Chrome(service=ChromeService(ChromeDriverManager().install()))\n",
    "#driver = webdriver.Chrome()"
   ]
  },
  {
   "cell_type": "markdown",
   "metadata": {
    "cellUniqueIdByVincent": "fa01b"
   },
   "source": [
    "# Buka Halaman Target"
   ]
  },
  {
   "cell_type": "code",
   "execution_count": 47,
   "metadata": {
    "cellUniqueIdByVincent": "77399"
   },
   "outputs": [],
   "source": [
    "url = 'https://docs.google.com/forms/d/e/1FAIpQLSdfDA8UhDWFa_7VfZID0YXluzNhxxgSPTnSiV3gGgv2jfHL8Q/viewform?usp=sf_link'"
   ]
  },
  {
   "cell_type": "code",
   "execution_count": 38,
   "metadata": {
    "cellUniqueIdByVincent": "dc243"
   },
   "outputs": [],
   "source": [
    "#url = 'https://docs.google.com/forms/d/e/1FAIpQLScARpV4sFSyEqN0tpsqliIVdM-HokWdSZhA5nGIzEw_RmYKOA/viewform?usp=sf_link'"
   ]
  },
  {
   "cell_type": "code",
   "execution_count": 48,
   "metadata": {
    "cellUniqueIdByVincent": "74f23"
   },
   "outputs": [],
   "source": [
    "driver.get(url)"
   ]
  },
  {
   "cell_type": "markdown",
   "metadata": {
    "cellUniqueIdByVincent": "e10a0"
   },
   "source": [
    "<strong>Kata kunci:</strong> SELENIUM GET"
   ]
  },
  {
   "cell_type": "markdown",
   "metadata": {
    "cellUniqueIdByVincent": "d9b4f"
   },
   "source": [
    "# Radio Button (Pertanyaan Opsional)"
   ]
  },
  {
   "cell_type": "markdown",
   "metadata": {
    "cellUniqueIdByVincent": "9b3b4"
   },
   "source": [
    "## Langsung pilih opsi dimau"
   ]
  },
  {
   "cell_type": "markdown",
   "metadata": {
    "cellUniqueIdByVincent": "5cd2f"
   },
   "source": [
    "### Opsi C"
   ]
  },
  {
   "cell_type": "code",
   "execution_count": 49,
   "metadata": {
    "cellUniqueIdByVincent": "8f7ee"
   },
   "outputs": [],
   "source": [
    "driver.find_element(By.XPATH, '//span[contains(text(), \"Opsi C\")]').click()"
   ]
  },
  {
   "cell_type": "markdown",
   "metadata": {
    "cellUniqueIdByVincent": "16945"
   },
   "source": [
    "<strong>Kata kunci:</strong> XPATH, SELENIUM FIND_ELEMENT, SELENIUM CLICK"
   ]
  },
  {
   "cell_type": "markdown",
   "metadata": {
    "cellUniqueIdByVincent": "2ea52"
   },
   "source": [
    "### Other"
   ]
  },
  {
   "cell_type": "code",
   "execution_count": 51,
   "metadata": {
    "cellUniqueIdByVincent": "75ae4"
   },
   "outputs": [],
   "source": [
    "driver.find_element(By.XPATH, '//span[contains(text(), \"Other:\")]').click()"
   ]
  },
  {
   "cell_type": "markdown",
   "metadata": {
    "cellUniqueIdByVincent": "0d40a"
   },
   "source": [
    "Cara di atas bisa kurang akurat karena ada 2 element dg ciri yg sama.<br/>\n",
    "Lebih akurat, pilih 'tetangga terdekat' yg unik, lalu gunakan `parent` atau `sibling` untuk memilih elemen dimau."
   ]
  },
  {
   "cell_type": "markdown",
   "metadata": {
    "cellUniqueIdByVincent": "8eb9e"
   },
   "source": [
    "## Pilih elemen terdekat"
   ]
  },
  {
   "cell_type": "code",
   "execution_count": 13,
   "metadata": {
    "cellUniqueIdByVincent": "b683a"
   },
   "outputs": [],
   "source": [
    "driver.find_element(By.XPATH, '//span[contains(text(), \"Opsi C\")]/parent::div/parent::div/parent::div/parent::label/parent::div/following-sibling::div/label/div/div/div/div/div').click()"
   ]
  },
  {
   "cell_type": "markdown",
   "metadata": {
    "cellUniqueIdByVincent": "5f8b0"
   },
   "source": [
    "<strong>Kata kunci:</strong> XPATH PARENT, XPATH SIBLING (preceding-sibling, following-sibling)"
   ]
  },
  {
   "cell_type": "code",
   "execution_count": 14,
   "metadata": {
    "cellUniqueIdByVincent": "24666"
   },
   "outputs": [],
   "source": [
    "driver.find_element(By.XPATH, '//span[contains(text(), \"Opsi C\")]/parent::div/parent::div/parent::div/parent::label/parent::div/following-sibling::div/div/span/div/div/div/input').send_keys('Ini jawaban pertanyaan opsional')"
   ]
  },
  {
   "cell_type": "markdown",
   "metadata": {
    "cellUniqueIdByVincent": "0327a"
   },
   "source": [
    "<strong>Kata kunci:</strong> SELENIUM SEND_KEYS"
   ]
  },
  {
   "cell_type": "markdown",
   "metadata": {
    "cellUniqueIdByVincent": "13415"
   },
   "source": [
    "# Checkbox (Pertanyaan Pilih Banyak)"
   ]
  },
  {
   "cell_type": "markdown",
   "metadata": {
    "cellUniqueIdByVincent": "8c283"
   },
   "source": [
    "## Pilih beberapa opsi"
   ]
  },
  {
   "cell_type": "code",
   "execution_count": 52,
   "metadata": {
    "cellUniqueIdByVincent": "30c68"
   },
   "outputs": [],
   "source": [
    "driver.find_element(By.XPATH, '//span[contains(text(), \"Opsi 1\")]').click()"
   ]
  },
  {
   "cell_type": "code",
   "execution_count": 53,
   "metadata": {
    "cellUniqueIdByVincent": "7a76f"
   },
   "outputs": [],
   "source": [
    "driver.find_element(By.XPATH, '//span[contains(text(), \"Opsi 3\")]/parent::div/parent::div/parent::div/parent::label/parent::div/following-sibling::div/div/label').click()"
   ]
  },
  {
   "cell_type": "code",
   "execution_count": 54,
   "metadata": {
    "cellUniqueIdByVincent": "5cf4a"
   },
   "outputs": [],
   "source": [
    "driver.find_element(By.XPATH, '//span[contains(text(), \"Opsi 3\")]/parent::div/parent::div/parent::div/parent::label/parent::div/following-sibling::div/div/div/div/div/div/input').send_keys('Ini jawaban pertanyaan pilih banyak')"
   ]
  },
  {
   "cell_type": "markdown",
   "metadata": {
    "cellUniqueIdByVincent": "81bbc"
   },
   "source": [
    "## Hapus inputan sebelumnya"
   ]
  },
  {
   "cell_type": "code",
   "execution_count": 55,
   "metadata": {
    "cellUniqueIdByVincent": "a7985"
   },
   "outputs": [],
   "source": [
    "driver.find_element(By.XPATH, '//span[contains(text(), \"Opsi 3\")]/parent::div/parent::div/parent::div/parent::label/parent::div/following-sibling::div/div/div/div/div/div/input').clear()"
   ]
  },
  {
   "cell_type": "markdown",
   "metadata": {
    "cellUniqueIdByVincent": "7e997"
   },
   "source": [
    "<strong>Kata kunci:</strong> SELENIUM INPUT CLEAR"
   ]
  },
  {
   "cell_type": "code",
   "execution_count": 56,
   "metadata": {
    "cellUniqueIdByVincent": "83e18"
   },
   "outputs": [],
   "source": [
    "driver.find_element(By.XPATH, '//span[contains(text(), \"Opsi 3\")]/parent::div/parent::div/parent::div/parent::label/parent::div/following-sibling::div/div/div/div/div/div/input').send_keys('Ini koreksi jawaban')"
   ]
  },
  {
   "cell_type": "markdown",
   "metadata": {
    "cellUniqueIdByVincent": "ec3b0"
   },
   "source": [
    "# Select Option (Pilihan dalam Dropdown)"
   ]
  },
  {
   "cell_type": "markdown",
   "metadata": {
    "cellUniqueIdByVincent": "6619c"
   },
   "source": [
    "## Pseudo-option"
   ]
  },
  {
   "cell_type": "markdown",
   "metadata": {
    "cellUniqueIdByVincent": "e571c"
   },
   "source": [
    "### Buka opsi tersedia"
   ]
  },
  {
   "cell_type": "code",
   "execution_count": 57,
   "metadata": {
    "cellUniqueIdByVincent": "a5af2"
   },
   "outputs": [],
   "source": [
    "driver.find_element(By.XPATH, '//span[contains(text(), \"Pilihan 2\")]/parent::div/parent::div').click()"
   ]
  },
  {
   "cell_type": "markdown",
   "metadata": {
    "cellUniqueIdByVincent": "b3fde"
   },
   "source": [
    "### Pilih opsi"
   ]
  },
  {
   "cell_type": "code",
   "execution_count": 58,
   "metadata": {
    "cellUniqueIdByVincent": "8c90a"
   },
   "outputs": [],
   "source": [
    "driver.find_element(By.XPATH, '//span[contains(text(), \"Pilihan 1\")]/parent::div[@role=\"option\"]').click()"
   ]
  },
  {
   "cell_type": "markdown",
   "metadata": {
    "cellUniqueIdByVincent": "61399"
   },
   "source": [
    "## The real-option"
   ]
  },
  {
   "cell_type": "code",
   "execution_count": 59,
   "metadata": {
    "cellUniqueIdByVincent": "97322"
   },
   "outputs": [],
   "source": [
    "driver.get('https://interactive-examples.mdn.mozilla.net/pages/tabbed/select.html')"
   ]
  },
  {
   "cell_type": "code",
   "execution_count": 60,
   "metadata": {
    "cellUniqueIdByVincent": "fbbb7"
   },
   "outputs": [
    {
     "ename": "NoSuchElementException",
     "evalue": "Message: no such element: Unable to locate element: {\"method\":\"xpath\",\"selector\":\"//select[@id=\"pet-select\"]\"}\n  (Session info: chrome=128.0.6613.119); For documentation on this error, please visit: https://www.selenium.dev/documentation/webdriver/troubleshooting/errors#no-such-element-exception\nStacktrace:\n\tGetHandleVerifier [0x00DE8213+26163]\n\t(No symbol) [0x00D79CC4]\n\t(No symbol) [0x00C724C3]\n\t(No symbol) [0x00CB7453]\n\t(No symbol) [0x00CB762B]\n\t(No symbol) [0x00CF6B62]\n\t(No symbol) [0x00CDAD04]\n\t(No symbol) [0x00CF4661]\n\t(No symbol) [0x00CDAA56]\n\t(No symbol) [0x00CABE89]\n\t(No symbol) [0x00CAC8CD]\n\tGetHandleVerifier [0x010BD313+2996019]\n\tGetHandleVerifier [0x01111B89+3342249]\n\tGetHandleVerifier [0x00E77AEF+614159]\n\tGetHandleVerifier [0x00E7F17C+644508]\n\t(No symbol) [0x00D827FD]\n\t(No symbol) [0x00D7F6F8]\n\t(No symbol) [0x00D7F895]\n\t(No symbol) [0x00D71C16]\n\tBaseThreadInitThunk [0x760A7BA9+25]\n\tRtlInitializeExceptionChain [0x774EC10B+107]\n\tRtlClearBits [0x774EC08F+191]\n",
     "output_type": "error",
     "traceback": [
      "\u001b[1;31m---------------------------------------------------------------------------\u001b[0m",
      "\u001b[1;31mNoSuchElementException\u001b[0m                    Traceback (most recent call last)",
      "Cell \u001b[1;32mIn[60], line 1\u001b[0m\n\u001b[1;32m----> 1\u001b[0m select_element \u001b[38;5;241m=\u001b[39m \u001b[43mdriver\u001b[49m\u001b[38;5;241;43m.\u001b[39;49m\u001b[43mfind_element\u001b[49m\u001b[43m(\u001b[49m\u001b[43mBy\u001b[49m\u001b[38;5;241;43m.\u001b[39;49m\u001b[43mXPATH\u001b[49m\u001b[43m,\u001b[49m\u001b[43m \u001b[49m\u001b[38;5;124;43m'\u001b[39;49m\u001b[38;5;124;43m//select[@id=\u001b[39;49m\u001b[38;5;124;43m\"\u001b[39;49m\u001b[38;5;124;43mpet-select\u001b[39;49m\u001b[38;5;124;43m\"\u001b[39;49m\u001b[38;5;124;43m]\u001b[39;49m\u001b[38;5;124;43m'\u001b[39;49m\u001b[43m)\u001b[49m\n\u001b[0;32m      2\u001b[0m select \u001b[38;5;241m=\u001b[39m Select(select_element)\n",
      "File \u001b[1;32mc:\\Users\\aansubarkah\\anaconda3\\envs\\basangdata12\\Lib\\site-packages\\selenium\\webdriver\\remote\\webdriver.py:741\u001b[0m, in \u001b[0;36mWebDriver.find_element\u001b[1;34m(self, by, value)\u001b[0m\n\u001b[0;32m    738\u001b[0m     by \u001b[38;5;241m=\u001b[39m By\u001b[38;5;241m.\u001b[39mCSS_SELECTOR\n\u001b[0;32m    739\u001b[0m     value \u001b[38;5;241m=\u001b[39m \u001b[38;5;124mf\u001b[39m\u001b[38;5;124m'\u001b[39m\u001b[38;5;124m[name=\u001b[39m\u001b[38;5;124m\"\u001b[39m\u001b[38;5;132;01m{\u001b[39;00mvalue\u001b[38;5;132;01m}\u001b[39;00m\u001b[38;5;124m\"\u001b[39m\u001b[38;5;124m]\u001b[39m\u001b[38;5;124m'\u001b[39m\n\u001b[1;32m--> 741\u001b[0m \u001b[38;5;28;01mreturn\u001b[39;00m \u001b[38;5;28;43mself\u001b[39;49m\u001b[38;5;241;43m.\u001b[39;49m\u001b[43mexecute\u001b[49m\u001b[43m(\u001b[49m\u001b[43mCommand\u001b[49m\u001b[38;5;241;43m.\u001b[39;49m\u001b[43mFIND_ELEMENT\u001b[49m\u001b[43m,\u001b[49m\u001b[43m \u001b[49m\u001b[43m{\u001b[49m\u001b[38;5;124;43m\"\u001b[39;49m\u001b[38;5;124;43musing\u001b[39;49m\u001b[38;5;124;43m\"\u001b[39;49m\u001b[43m:\u001b[49m\u001b[43m \u001b[49m\u001b[43mby\u001b[49m\u001b[43m,\u001b[49m\u001b[43m \u001b[49m\u001b[38;5;124;43m\"\u001b[39;49m\u001b[38;5;124;43mvalue\u001b[39;49m\u001b[38;5;124;43m\"\u001b[39;49m\u001b[43m:\u001b[49m\u001b[43m \u001b[49m\u001b[43mvalue\u001b[49m\u001b[43m}\u001b[49m\u001b[43m)\u001b[49m[\u001b[38;5;124m\"\u001b[39m\u001b[38;5;124mvalue\u001b[39m\u001b[38;5;124m\"\u001b[39m]\n",
      "File \u001b[1;32mc:\\Users\\aansubarkah\\anaconda3\\envs\\basangdata12\\Lib\\site-packages\\selenium\\webdriver\\remote\\webdriver.py:347\u001b[0m, in \u001b[0;36mWebDriver.execute\u001b[1;34m(self, driver_command, params)\u001b[0m\n\u001b[0;32m    345\u001b[0m response \u001b[38;5;241m=\u001b[39m \u001b[38;5;28mself\u001b[39m\u001b[38;5;241m.\u001b[39mcommand_executor\u001b[38;5;241m.\u001b[39mexecute(driver_command, params)\n\u001b[0;32m    346\u001b[0m \u001b[38;5;28;01mif\u001b[39;00m response:\n\u001b[1;32m--> 347\u001b[0m     \u001b[38;5;28;43mself\u001b[39;49m\u001b[38;5;241;43m.\u001b[39;49m\u001b[43merror_handler\u001b[49m\u001b[38;5;241;43m.\u001b[39;49m\u001b[43mcheck_response\u001b[49m\u001b[43m(\u001b[49m\u001b[43mresponse\u001b[49m\u001b[43m)\u001b[49m\n\u001b[0;32m    348\u001b[0m     response[\u001b[38;5;124m\"\u001b[39m\u001b[38;5;124mvalue\u001b[39m\u001b[38;5;124m\"\u001b[39m] \u001b[38;5;241m=\u001b[39m \u001b[38;5;28mself\u001b[39m\u001b[38;5;241m.\u001b[39m_unwrap_value(response\u001b[38;5;241m.\u001b[39mget(\u001b[38;5;124m\"\u001b[39m\u001b[38;5;124mvalue\u001b[39m\u001b[38;5;124m\"\u001b[39m, \u001b[38;5;28;01mNone\u001b[39;00m))\n\u001b[0;32m    349\u001b[0m     \u001b[38;5;28;01mreturn\u001b[39;00m response\n",
      "File \u001b[1;32mc:\\Users\\aansubarkah\\anaconda3\\envs\\basangdata12\\Lib\\site-packages\\selenium\\webdriver\\remote\\errorhandler.py:229\u001b[0m, in \u001b[0;36mErrorHandler.check_response\u001b[1;34m(self, response)\u001b[0m\n\u001b[0;32m    227\u001b[0m         alert_text \u001b[38;5;241m=\u001b[39m value[\u001b[38;5;124m\"\u001b[39m\u001b[38;5;124malert\u001b[39m\u001b[38;5;124m\"\u001b[39m]\u001b[38;5;241m.\u001b[39mget(\u001b[38;5;124m\"\u001b[39m\u001b[38;5;124mtext\u001b[39m\u001b[38;5;124m\"\u001b[39m)\n\u001b[0;32m    228\u001b[0m     \u001b[38;5;28;01mraise\u001b[39;00m exception_class(message, screen, stacktrace, alert_text)  \u001b[38;5;66;03m# type: ignore[call-arg]  # mypy is not smart enough here\u001b[39;00m\n\u001b[1;32m--> 229\u001b[0m \u001b[38;5;28;01mraise\u001b[39;00m exception_class(message, screen, stacktrace)\n",
      "\u001b[1;31mNoSuchElementException\u001b[0m: Message: no such element: Unable to locate element: {\"method\":\"xpath\",\"selector\":\"//select[@id=\"pet-select\"]\"}\n  (Session info: chrome=128.0.6613.119); For documentation on this error, please visit: https://www.selenium.dev/documentation/webdriver/troubleshooting/errors#no-such-element-exception\nStacktrace:\n\tGetHandleVerifier [0x00DE8213+26163]\n\t(No symbol) [0x00D79CC4]\n\t(No symbol) [0x00C724C3]\n\t(No symbol) [0x00CB7453]\n\t(No symbol) [0x00CB762B]\n\t(No symbol) [0x00CF6B62]\n\t(No symbol) [0x00CDAD04]\n\t(No symbol) [0x00CF4661]\n\t(No symbol) [0x00CDAA56]\n\t(No symbol) [0x00CABE89]\n\t(No symbol) [0x00CAC8CD]\n\tGetHandleVerifier [0x010BD313+2996019]\n\tGetHandleVerifier [0x01111B89+3342249]\n\tGetHandleVerifier [0x00E77AEF+614159]\n\tGetHandleVerifier [0x00E7F17C+644508]\n\t(No symbol) [0x00D827FD]\n\t(No symbol) [0x00D7F6F8]\n\t(No symbol) [0x00D7F895]\n\t(No symbol) [0x00D71C16]\n\tBaseThreadInitThunk [0x760A7BA9+25]\n\tRtlInitializeExceptionChain [0x774EC10B+107]\n\tRtlClearBits [0x774EC08F+191]\n"
     ]
    }
   ],
   "source": [
    "select_element = driver.find_element(By.XPATH, '//select[@id=\"pet-select\"]')\n",
    "select = Select(select_element)"
   ]
  },
  {
   "cell_type": "markdown",
   "metadata": {
    "cellUniqueIdByVincent": "03113"
   },
   "source": [
    "### Pindah ke iframe"
   ]
  },
  {
   "cell_type": "markdown",
   "metadata": {
    "cellUniqueIdByVincent": "ae1a9"
   },
   "source": [
    "Error karena elemen ada dalam iframe. 'Fokus' Selenium perlu dipindah ke iframe yg memuat elemen itu.<br />\n",
    "<strong>Kata kunci:</strong> SELENIUM IFRAME"
   ]
  },
  {
   "cell_type": "code",
   "execution_count": 61,
   "metadata": {
    "cellUniqueIdByVincent": "fba8b"
   },
   "outputs": [],
   "source": [
    "driver.switch_to.frame(driver.find_element(By.XPATH, '//iframe[@id=\"output-iframe\"]'))"
   ]
  },
  {
   "cell_type": "markdown",
   "metadata": {
    "cellUniqueIdByVincent": "df8a5"
   },
   "source": [
    "### Pilih Select Option"
   ]
  },
  {
   "cell_type": "code",
   "execution_count": 62,
   "metadata": {
    "cellUniqueIdByVincent": "71720"
   },
   "outputs": [],
   "source": [
    "select_element = driver.find_element(By.XPATH, '//select[@id=\"pet-select\"]')\n",
    "select = Select(select_element)\n",
    "option_list = select.options"
   ]
  },
  {
   "cell_type": "markdown",
   "metadata": {
    "cellUniqueIdByVincent": "558ed"
   },
   "source": [
    "<strong>Kata kunci:</strong> SELENIUM SELECT OPTION"
   ]
  },
  {
   "cell_type": "markdown",
   "metadata": {
    "cellUniqueIdByVincent": "4290f"
   },
   "source": [
    "### Daftar opsi"
   ]
  },
  {
   "cell_type": "code",
   "execution_count": 63,
   "metadata": {
    "cellUniqueIdByVincent": "a0d4d"
   },
   "outputs": [
    {
     "name": "stdout",
     "output_type": "stream",
     "text": [
      "--Please choose an option--\n",
      "Dog\n",
      "Cat\n",
      "Hamster\n",
      "Parrot\n",
      "Spider\n",
      "Goldfish\n"
     ]
    }
   ],
   "source": [
    "for option in option_list:\n",
    "    print(option.text)"
   ]
  },
  {
   "cell_type": "markdown",
   "metadata": {
    "cellUniqueIdByVincent": "998b6"
   },
   "source": [
    "### Pilih opsi"
   ]
  },
  {
   "cell_type": "markdown",
   "metadata": {
    "cellUniqueIdByVincent": "5c08d"
   },
   "source": [
    "#### Pilih berdasar teks"
   ]
  },
  {
   "cell_type": "code",
   "execution_count": 64,
   "metadata": {
    "cellUniqueIdByVincent": "9f36f"
   },
   "outputs": [],
   "source": [
    "select.select_by_visible_text('Hamster')"
   ]
  },
  {
   "cell_type": "markdown",
   "metadata": {
    "cellUniqueIdByVincent": "a7343"
   },
   "source": [
    "#### Pilih berdasar index"
   ]
  },
  {
   "cell_type": "code",
   "execution_count": 65,
   "metadata": {
    "cellUniqueIdByVincent": "66679"
   },
   "outputs": [],
   "source": [
    "select.select_by_index(2) # Cat"
   ]
  },
  {
   "cell_type": "markdown",
   "metadata": {
    "cellUniqueIdByVincent": "47ac2"
   },
   "source": [
    "#### Pilih berdasarkan value"
   ]
  },
  {
   "cell_type": "code",
   "execution_count": 66,
   "metadata": {
    "cellUniqueIdByVincent": "ead13"
   },
   "outputs": [],
   "source": [
    "select.select_by_value('goldfish') # Goldfish"
   ]
  },
  {
   "cell_type": "markdown",
   "metadata": {
    "cellUniqueIdByVincent": "69325"
   },
   "source": [
    "# Upload File"
   ]
  },
  {
   "cell_type": "code",
   "execution_count": 68,
   "metadata": {
    "cellUniqueIdByVincent": "69694"
   },
   "outputs": [],
   "source": [
    "driver.get(url)"
   ]
  },
  {
   "cell_type": "markdown",
   "metadata": {
    "cellUniqueIdByVincent": "3f0f3"
   },
   "source": [
    "<strong>Kata kunci:</strong> SELENIUM FILE INPUT"
   ]
  },
  {
   "cell_type": "code",
   "execution_count": null,
   "metadata": {
    "cellUniqueIdByVincent": "495d3"
   },
   "outputs": [],
   "source": []
  },
  {
   "cell_type": "code",
   "execution_count": null,
   "metadata": {
    "cellUniqueIdByVincent": "0cdf3"
   },
   "outputs": [],
   "source": []
  }
 ],
 "metadata": {
  "vincent": {
   "sessionId": "e1edf90e25de51b956466de0_2025-07-19T00-41-44-207Z"
  }
 },
 "nbformat": 4,
 "nbformat_minor": 2
}
