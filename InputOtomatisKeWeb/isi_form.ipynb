{
 "cells": [
  {
   "cell_type": "code",
   "execution_count": null,
   "metadata": {
    "cellUniqueIdByVincent": "cafe6"
   },
   "outputs": [],
   "source": [
    "!pip install openpyxl pandas webdriver-manageselenium webdriver-manager"
   ]
  },
  {
   "cell_type": "markdown",
   "metadata": {
    "cellUniqueIdByVincent": "52648"
   },
   "source": [
    "# Import Libraries"
   ]
  },
  {
   "cell_type": "code",
   "execution_count": 15,
   "metadata": {
    "cellUniqueIdByVincent": "56a76"
   },
   "outputs": [],
   "source": [
    "import os, time\n",
    "\n",
    "import pandas as pd\n",
    "\n",
    "from selenium import webdriver\n",
    "from selenium.webdriver.chrome.service import Service as ChromeService\n",
    "from webdriver_manager.chrome import ChromeDriverManager\n",
    "from selenium.webdriver.common.by import By\n",
    "from selenium.webdriver.support.ui import Select"
   ]
  },
  {
   "cell_type": "markdown",
   "metadata": {
    "cellUniqueIdByVincent": "3bf9a"
   },
   "source": [
    "# Buka Browser"
   ]
  },
  {
   "cell_type": "code",
   "execution_count": 2,
   "metadata": {
    "cellUniqueIdByVincent": "89123"
   },
   "outputs": [],
   "source": [
    "driver = webdriver.Chrome(service=ChromeService(ChromeDriverManager().install()))"
   ]
  },
  {
   "cell_type": "markdown",
   "metadata": {
    "cellUniqueIdByVincent": "386e8"
   },
   "source": [
    "# Buka Halaman Target"
   ]
  },
  {
   "cell_type": "code",
   "execution_count": 3,
   "metadata": {
    "cellUniqueIdByVincent": "3e88d"
   },
   "outputs": [],
   "source": [
    "url = 'https://form.tanpa.download'"
   ]
  },
  {
   "cell_type": "code",
   "execution_count": 4,
   "metadata": {
    "cellUniqueIdByVincent": "f843f"
   },
   "outputs": [],
   "source": [
    "driver.get(url)"
   ]
  },
  {
   "cell_type": "markdown",
   "metadata": {
    "cellUniqueIdByVincent": "68ad6"
   },
   "source": [
    "<strong>Kata kunci:</strong> SELENIUM GET"
   ]
  },
  {
   "cell_type": "markdown",
   "metadata": {
    "cellUniqueIdByVincent": "b946f"
   },
   "source": [
    "# Pilih Elemen"
   ]
  },
  {
   "cell_type": "markdown",
   "metadata": {
    "cellUniqueIdByVincent": "4326f"
   },
   "source": [
    "## Satu Elemen"
   ]
  },
  {
   "cell_type": "code",
   "execution_count": 5,
   "metadata": {
    "cellUniqueIdByVincent": "9dc60"
   },
   "outputs": [],
   "source": [
    "satu_input = driver.find_element(By.XPATH, '//input')"
   ]
  },
  {
   "cell_type": "markdown",
   "metadata": {
    "cellUniqueIdByVincent": "ab553"
   },
   "source": [
    "<strong>Kata kunci:</strong> SELENIUM FIND_ELEMENT, SELENIUM LOCATING ELEMENTS"
   ]
  },
  {
   "cell_type": "code",
   "execution_count": 6,
   "metadata": {
    "cellUniqueIdByVincent": "86632"
   },
   "outputs": [
    {
     "data": {
      "text/plain": [
       "<selenium.webdriver.remote.webelement.WebElement (session=\"1814d597b4a10760f2e74c91b5cea6b7\", element=\"f.A45D9844FB26F5526363EA5235BE20E1.d.FD9D27670D12990D8B1FEDF4137E9EDA.e.2\")>"
      ]
     },
     "execution_count": 6,
     "metadata": {},
     "output_type": "execute_result"
    }
   ],
   "source": [
    "satu_input"
   ]
  },
  {
   "cell_type": "code",
   "execution_count": 7,
   "metadata": {
    "cellUniqueIdByVincent": "4e1c1"
   },
   "outputs": [
    {
     "data": {
      "text/plain": [
       "'name'"
      ]
     },
     "execution_count": 7,
     "metadata": {},
     "output_type": "execute_result"
    }
   ],
   "source": [
    "satu_input.get_attribute('name')"
   ]
  },
  {
   "cell_type": "markdown",
   "metadata": {
    "cellUniqueIdByVincent": "4779b"
   },
   "source": [
    "<strong>Kata kunci:</strong> SELENIUM GET_ATTRIBUTE"
   ]
  },
  {
   "cell_type": "markdown",
   "metadata": {
    "cellUniqueIdByVincent": "e7590"
   },
   "source": [
    "## Banyak Elemen"
   ]
  },
  {
   "cell_type": "code",
   "execution_count": 8,
   "metadata": {
    "cellUniqueIdByVincent": "f85b9"
   },
   "outputs": [],
   "source": [
    "banyak_input = driver.find_elements(By.XPATH, '//input')"
   ]
  },
  {
   "cell_type": "markdown",
   "metadata": {
    "cellUniqueIdByVincent": "a328d"
   },
   "source": [
    "<strong>Kata kunci:</strong> SELENIUM FIND_ELEMENTS, SELENIUM LOCATING ELEMENTS"
   ]
  },
  {
   "cell_type": "code",
   "execution_count": 9,
   "metadata": {
    "cellUniqueIdByVincent": "f5b13"
   },
   "outputs": [
    {
     "data": {
      "text/plain": [
       "[<selenium.webdriver.remote.webelement.WebElement (session=\"1814d597b4a10760f2e74c91b5cea6b7\", element=\"f.A45D9844FB26F5526363EA5235BE20E1.d.FD9D27670D12990D8B1FEDF4137E9EDA.e.2\")>,\n",
       " <selenium.webdriver.remote.webelement.WebElement (session=\"1814d597b4a10760f2e74c91b5cea6b7\", element=\"f.A45D9844FB26F5526363EA5235BE20E1.d.FD9D27670D12990D8B1FEDF4137E9EDA.e.4\")>,\n",
       " <selenium.webdriver.remote.webelement.WebElement (session=\"1814d597b4a10760f2e74c91b5cea6b7\", element=\"f.A45D9844FB26F5526363EA5235BE20E1.d.FD9D27670D12990D8B1FEDF4137E9EDA.e.13\")>,\n",
       " <selenium.webdriver.remote.webelement.WebElement (session=\"1814d597b4a10760f2e74c91b5cea6b7\", element=\"f.A45D9844FB26F5526363EA5235BE20E1.d.FD9D27670D12990D8B1FEDF4137E9EDA.e.6\")>,\n",
       " <selenium.webdriver.remote.webelement.WebElement (session=\"1814d597b4a10760f2e74c91b5cea6b7\", element=\"f.A45D9844FB26F5526363EA5235BE20E1.d.FD9D27670D12990D8B1FEDF4137E9EDA.e.7\")>,\n",
       " <selenium.webdriver.remote.webelement.WebElement (session=\"1814d597b4a10760f2e74c91b5cea6b7\", element=\"f.A45D9844FB26F5526363EA5235BE20E1.d.FD9D27670D12990D8B1FEDF4137E9EDA.e.8\")>,\n",
       " <selenium.webdriver.remote.webelement.WebElement (session=\"1814d597b4a10760f2e74c91b5cea6b7\", element=\"f.A45D9844FB26F5526363EA5235BE20E1.d.FD9D27670D12990D8B1FEDF4137E9EDA.e.9\")>,\n",
       " <selenium.webdriver.remote.webelement.WebElement (session=\"1814d597b4a10760f2e74c91b5cea6b7\", element=\"f.A45D9844FB26F5526363EA5235BE20E1.d.FD9D27670D12990D8B1FEDF4137E9EDA.e.10\")>,\n",
       " <selenium.webdriver.remote.webelement.WebElement (session=\"1814d597b4a10760f2e74c91b5cea6b7\", element=\"f.A45D9844FB26F5526363EA5235BE20E1.d.FD9D27670D12990D8B1FEDF4137E9EDA.e.11\")>,\n",
       " <selenium.webdriver.remote.webelement.WebElement (session=\"1814d597b4a10760f2e74c91b5cea6b7\", element=\"f.A45D9844FB26F5526363EA5235BE20E1.d.FD9D27670D12990D8B1FEDF4137E9EDA.e.14\")>,\n",
       " <selenium.webdriver.remote.webelement.WebElement (session=\"1814d597b4a10760f2e74c91b5cea6b7\", element=\"f.A45D9844FB26F5526363EA5235BE20E1.d.FD9D27670D12990D8B1FEDF4137E9EDA.e.15\")>,\n",
       " <selenium.webdriver.remote.webelement.WebElement (session=\"1814d597b4a10760f2e74c91b5cea6b7\", element=\"f.A45D9844FB26F5526363EA5235BE20E1.d.FD9D27670D12990D8B1FEDF4137E9EDA.e.16\")>]"
      ]
     },
     "execution_count": 9,
     "metadata": {},
     "output_type": "execute_result"
    }
   ],
   "source": [
    "banyak_input"
   ]
  },
  {
   "cell_type": "code",
   "execution_count": 10,
   "metadata": {
    "cellUniqueIdByVincent": "5e712"
   },
   "outputs": [
    {
     "name": "stdout",
     "output_type": "stream",
     "text": [
      "name\n",
      "password\n",
      "tanggal_lahir\n",
      "gender\n",
      "gender\n",
      "gender\n",
      "hobi[]\n",
      "hobi[]\n",
      "hobi[]\n",
      "foto\n",
      "reset\n",
      "submit\n"
     ]
    }
   ],
   "source": [
    "for inp in banyak_input:\n",
    "    print(inp.get_attribute('name'))"
   ]
  },
  {
   "cell_type": "markdown",
   "metadata": {
    "cellUniqueIdByVincent": "3d913"
   },
   "source": [
    "## Pilih elemen berdasar"
   ]
  },
  {
   "cell_type": "markdown",
   "metadata": {
    "cellUniqueIdByVincent": "73f98"
   },
   "source": [
    "### id"
   ]
  },
  {
   "cell_type": "code",
   "execution_count": 11,
   "metadata": {
    "cellUniqueIdByVincent": "d8070"
   },
   "outputs": [],
   "source": [
    "element_id = driver.find_element(By.ID, 'tanggal_lahir')"
   ]
  },
  {
   "cell_type": "markdown",
   "metadata": {
    "cellUniqueIdByVincent": "12692"
   },
   "source": [
    "<strong>Kata kunci:</strong> SELENIUM LOCATING BY ID"
   ]
  },
  {
   "cell_type": "code",
   "execution_count": 12,
   "metadata": {
    "cellUniqueIdByVincent": "93cbd"
   },
   "outputs": [
    {
     "data": {
      "text/plain": [
       "'tanggal_lahir'"
      ]
     },
     "execution_count": 12,
     "metadata": {},
     "output_type": "execute_result"
    }
   ],
   "source": [
    "element_id.get_attribute('name')"
   ]
  },
  {
   "cell_type": "markdown",
   "metadata": {
    "cellUniqueIdByVincent": "ee227"
   },
   "source": [
    "### name"
   ]
  },
  {
   "cell_type": "code",
   "execution_count": 13,
   "metadata": {
    "cellUniqueIdByVincent": "7b1bf"
   },
   "outputs": [],
   "source": [
    "element_name = driver.find_element(By.NAME, 'password')"
   ]
  },
  {
   "cell_type": "markdown",
   "metadata": {
    "cellUniqueIdByVincent": "8a7e8"
   },
   "source": [
    "<strong>Kata kunci:</strong> SELENIUM LOCATING BY NAME"
   ]
  },
  {
   "cell_type": "code",
   "execution_count": 14,
   "metadata": {
    "cellUniqueIdByVincent": "53cc3"
   },
   "outputs": [
    {
     "data": {
      "text/plain": [
       "'password'"
      ]
     },
     "execution_count": 14,
     "metadata": {},
     "output_type": "execute_result"
    }
   ],
   "source": [
    "element_name.get_attribute('type')"
   ]
  },
  {
   "cell_type": "markdown",
   "metadata": {
    "cellUniqueIdByVincent": "5fafe"
   },
   "source": [
    "### Tag Name"
   ]
  },
  {
   "cell_type": "code",
   "execution_count": 15,
   "metadata": {
    "cellUniqueIdByVincent": "8087e"
   },
   "outputs": [],
   "source": [
    "element_tag = driver.find_element(By.TAG_NAME, 'h1')"
   ]
  },
  {
   "cell_type": "markdown",
   "metadata": {
    "cellUniqueIdByVincent": "fc37b"
   },
   "source": [
    "<strong>Kata kunci:</strong> SELENIUM LOCATING BY NAME"
   ]
  },
  {
   "cell_type": "code",
   "execution_count": 16,
   "metadata": {
    "cellUniqueIdByVincent": "111f6"
   },
   "outputs": [
    {
     "data": {
      "text/plain": [
       "'Contoh Formulir'"
      ]
     },
     "execution_count": 16,
     "metadata": {},
     "output_type": "execute_result"
    }
   ],
   "source": [
    "element_tag.text"
   ]
  },
  {
   "cell_type": "markdown",
   "metadata": {
    "cellUniqueIdByVincent": "66722"
   },
   "source": [
    "<strong>Kata kunci:</strong> SELENIUM GET ELEMENTS' TEXT"
   ]
  },
  {
   "cell_type": "markdown",
   "metadata": {
    "cellUniqueIdByVincent": "bc7ec"
   },
   "source": [
    "### class"
   ]
  },
  {
   "cell_type": "code",
   "execution_count": 17,
   "metadata": {
    "cellUniqueIdByVincent": "879d7"
   },
   "outputs": [],
   "source": [
    "element_class = driver.find_element(By.CLASS_NAME, 'sandi')"
   ]
  },
  {
   "cell_type": "markdown",
   "metadata": {
    "cellUniqueIdByVincent": "1b68b"
   },
   "source": [
    "<strong>Kata kunci:</strong> SELENIUM LOCATING BY CLASS NAME"
   ]
  },
  {
   "cell_type": "code",
   "execution_count": 18,
   "metadata": {
    "cellUniqueIdByVincent": "89c8a"
   },
   "outputs": [
    {
     "data": {
      "text/plain": [
       "'password'"
      ]
     },
     "execution_count": 18,
     "metadata": {},
     "output_type": "execute_result"
    }
   ],
   "source": [
    "element_class.get_attribute('type')"
   ]
  },
  {
   "cell_type": "markdown",
   "metadata": {
    "cellUniqueIdByVincent": "8a8a7"
   },
   "source": [
    "### XPATH"
   ]
  },
  {
   "cell_type": "code",
   "execution_count": 19,
   "metadata": {
    "cellUniqueIdByVincent": "e98b6"
   },
   "outputs": [],
   "source": [
    "element_xpath = driver.find_element(By.XPATH, '//input[@class=\"sandi\"]')"
   ]
  },
  {
   "cell_type": "markdown",
   "metadata": {
    "cellUniqueIdByVincent": "3a008"
   },
   "source": [
    "<strong>Kata kunci:</strong> SELENIUM LOCATING BY XPATH, XPATH"
   ]
  },
  {
   "cell_type": "code",
   "execution_count": 20,
   "metadata": {
    "cellUniqueIdByVincent": "9709f"
   },
   "outputs": [
    {
     "data": {
      "text/plain": [
       "'password'"
      ]
     },
     "execution_count": 20,
     "metadata": {},
     "output_type": "execute_result"
    }
   ],
   "source": [
    "element_xpath.get_attribute('type')"
   ]
  },
  {
   "cell_type": "markdown",
   "metadata": {
    "cellUniqueIdByVincent": "f653a"
   },
   "source": [
    "# Interaksi dengan Element"
   ]
  },
  {
   "cell_type": "markdown",
   "metadata": {
    "cellUniqueIdByVincent": "b2174"
   },
   "source": [
    "<strong>Kata kunci:</strong> SELENIUM INTERACT WITH ELEMENT"
   ]
  },
  {
   "cell_type": "markdown",
   "metadata": {
    "cellUniqueIdByVincent": "c6800"
   },
   "source": [
    "## Click"
   ]
  },
  {
   "cell_type": "code",
   "execution_count": 21,
   "metadata": {
    "cellUniqueIdByVincent": "5c946"
   },
   "outputs": [],
   "source": [
    "driver.find_element(By.XPATH, '//input[@type=\"reset\"]').click()"
   ]
  },
  {
   "cell_type": "markdown",
   "metadata": {
    "cellUniqueIdByVincent": "c32f8"
   },
   "source": [
    "<strong>Kata kunci:</strong> SELENIUM CLICK"
   ]
  },
  {
   "cell_type": "code",
   "execution_count": 22,
   "metadata": {
    "cellUniqueIdByVincent": "50021"
   },
   "outputs": [],
   "source": [
    "driver.find_element(By.XPATH, '//input[@value=\"male\"]').click()"
   ]
  },
  {
   "cell_type": "markdown",
   "metadata": {
    "cellUniqueIdByVincent": "6fc4f"
   },
   "source": [
    "<strong>Kata kunci:</strong> SELENIUM SELECT RADIO BUTTON"
   ]
  },
  {
   "cell_type": "code",
   "execution_count": 23,
   "metadata": {
    "cellUniqueIdByVincent": "7c16c"
   },
   "outputs": [],
   "source": [
    "driver.find_element(By.XPATH, '//input[@type=\"checkbox\" and @value=\"membaca\"]').click()"
   ]
  },
  {
   "cell_type": "code",
   "execution_count": 24,
   "metadata": {
    "cellUniqueIdByVincent": "7efc4"
   },
   "outputs": [],
   "source": [
    "driver.find_element(By.XPATH, '//input[@type=\"checkbox\" and @value=\"nonton\"]').click()"
   ]
  },
  {
   "cell_type": "markdown",
   "metadata": {
    "cellUniqueIdByVincent": "89c39"
   },
   "source": [
    "<strong>Kata kunci:</strong> XPATH MULTIPLE CONDITIONS"
   ]
  },
  {
   "cell_type": "markdown",
   "metadata": {
    "cellUniqueIdByVincent": "e1b80"
   },
   "source": [
    "## Send Keys (isi teks)"
   ]
  },
  {
   "cell_type": "code",
   "execution_count": 25,
   "metadata": {
    "cellUniqueIdByVincent": "aa7ba"
   },
   "outputs": [],
   "source": [
    "driver.find_element(By.XPATH, '//input[@name=\"name\"]').send_keys('Ini nama saya')"
   ]
  },
  {
   "cell_type": "markdown",
   "metadata": {
    "cellUniqueIdByVincent": "0842f"
   },
   "source": [
    "<strong>Kata kunci:</strong> SELENIUM SEND KEYS"
   ]
  },
  {
   "cell_type": "code",
   "execution_count": 26,
   "metadata": {
    "cellUniqueIdByVincent": "852b4"
   },
   "outputs": [],
   "source": [
    "driver.find_element(By.XPATH, '//input[@type=\"password\"]').send_keys('ini_password')"
   ]
  },
  {
   "cell_type": "code",
   "execution_count": 27,
   "metadata": {
    "cellUniqueIdByVincent": "69672"
   },
   "outputs": [],
   "source": [
    "driver.find_element(By.XPATH, '//input[@id=\"tanggal_lahir\"]').send_keys('07/08/2024')"
   ]
  },
  {
   "cell_type": "markdown",
   "metadata": {
    "cellUniqueIdByVincent": "2a802"
   },
   "source": [
    "## Clear (hapus teks)"
   ]
  },
  {
   "cell_type": "code",
   "execution_count": 28,
   "metadata": {
    "cellUniqueIdByVincent": "c6661"
   },
   "outputs": [],
   "source": [
    "driver.find_element(By.XPATH, '//input[@id=\"tanggal_lahir\"]').clear()"
   ]
  },
  {
   "cell_type": "markdown",
   "metadata": {
    "cellUniqueIdByVincent": "39ea4"
   },
   "source": [
    "<strong>Kata kunci:</strong> SELENIUM CLEAR"
   ]
  },
  {
   "cell_type": "code",
   "execution_count": 29,
   "metadata": {
    "cellUniqueIdByVincent": "b983c"
   },
   "outputs": [],
   "source": [
    "driver.find_element(By.XPATH, '//input[@id=\"tanggal_lahir\"]').send_keys('08/08/2024')"
   ]
  },
  {
   "cell_type": "markdown",
   "metadata": {
    "cellUniqueIdByVincent": "bbbc7"
   },
   "source": [
    "## Execute Javascript"
   ]
  },
  {
   "cell_type": "code",
   "execution_count": 30,
   "metadata": {
    "cellUniqueIdByVincent": "bb33f"
   },
   "outputs": [],
   "source": [
    "driver.execute_script('alert(\"Hello World\")')"
   ]
  },
  {
   "cell_type": "markdown",
   "metadata": {
    "cellUniqueIdByVincent": "4255e"
   },
   "source": [
    "<strong>Kata kunci:</strong> SELENIUM RUNNING JAVASCRIPT"
   ]
  },
  {
   "cell_type": "code",
   "execution_count": 32,
   "metadata": {
    "cellUniqueIdByVincent": "05ad3"
   },
   "outputs": [],
   "source": [
    "driver.execute_script('document.getElementsByName(\"comment\")[0].value = \"Ini komentar\";')"
   ]
  },
  {
   "cell_type": "markdown",
   "metadata": {
    "cellUniqueIdByVincent": "8bcb6"
   },
   "source": [
    "<strong>Kata kunci:</strong> JAVASCRIPT ELEMENT BY NAME, JAVASCRIPT SET ELEMENT VALUE"
   ]
  },
  {
   "cell_type": "markdown",
   "metadata": {
    "cellUniqueIdByVincent": "173d1"
   },
   "source": [
    "## Select"
   ]
  },
  {
   "cell_type": "code",
   "execution_count": 33,
   "metadata": {
    "cellUniqueIdByVincent": "db868"
   },
   "outputs": [],
   "source": [
    "select = Select(driver.find_element(By.XPATH, '//select[@name=\"job\"]'))"
   ]
  },
  {
   "cell_type": "markdown",
   "metadata": {
    "cellUniqueIdByVincent": "cd1b5"
   },
   "source": [
    "<strong>Kata kunci:</strong> PYTHON SELENIUM SELECT OPTION"
   ]
  },
  {
   "cell_type": "code",
   "execution_count": 34,
   "metadata": {
    "cellUniqueIdByVincent": "8b428"
   },
   "outputs": [
    {
     "name": "stdout",
     "output_type": "stream",
     "text": [
      "Pelajar\n",
      "Mahasiswa\n",
      "PNS\n",
      "Swasta\n",
      "Wiraswasta\n",
      "Lainnya\n"
     ]
    }
   ],
   "source": [
    "for s in select.options:\n",
    "    print(s.text)"
   ]
  },
  {
   "cell_type": "markdown",
   "metadata": {
    "cellUniqueIdByVincent": "d781f"
   },
   "source": [
    "<strong>Kata kunci:</strong> PYTHON SELENIUM SELECT LIST OPTIONS"
   ]
  },
  {
   "cell_type": "code",
   "execution_count": 35,
   "metadata": {
    "cellUniqueIdByVincent": "f3117"
   },
   "outputs": [],
   "source": [
    "select.select_by_visible_text('Pelajar')"
   ]
  },
  {
   "cell_type": "code",
   "execution_count": 36,
   "metadata": {
    "cellUniqueIdByVincent": "28205"
   },
   "outputs": [],
   "source": [
    "select.select_by_index(2)"
   ]
  },
  {
   "cell_type": "code",
   "execution_count": 37,
   "metadata": {
    "cellUniqueIdByVincent": "3373d"
   },
   "outputs": [],
   "source": [
    "select.select_by_value('swasta')"
   ]
  },
  {
   "cell_type": "markdown",
   "metadata": {
    "cellUniqueIdByVincent": "0f130"
   },
   "source": [
    "## File (Pilih file untuk diunggah)"
   ]
  },
  {
   "cell_type": "code",
   "execution_count": 38,
   "metadata": {
    "cellUniqueIdByVincent": "a43a4"
   },
   "outputs": [],
   "source": [
    "driver.find_element(By.XPATH, '//input[@type=\"file\"]').send_keys('D:\\\\OneDriveAanSubarkahOutlook\\\\OneDrive\\\\SekolahSabtuAuditor\\\\ssa\\\\WebScraping\\\\ini_json.json')"
   ]
  },
  {
   "cell_type": "code",
   "execution_count": 39,
   "metadata": {
    "cellUniqueIdByVincent": "f6f40"
   },
   "outputs": [],
   "source": [
    "driver.find_element(By.XPATH, '//input[@type=\"file\"]').send_keys(os.getcwd()+'\\\\Webscraping.pptx')"
   ]
  },
  {
   "cell_type": "markdown",
   "metadata": {
    "cellUniqueIdByVincent": "0a35c"
   },
   "source": [
    "<strong>Kata kunci:</strong> PYTHON SELENIUM FILE UPLOAD"
   ]
  },
  {
   "cell_type": "markdown",
   "metadata": {
    "cellUniqueIdByVincent": "a64e1"
   },
   "source": [
    "## Submit (Mengirim isian formulir)"
   ]
  },
  {
   "cell_type": "code",
   "execution_count": 40,
   "metadata": {
    "cellUniqueIdByVincent": "966ef"
   },
   "outputs": [],
   "source": [
    "driver.find_element(By.XPATH, '//form').submit()"
   ]
  },
  {
   "cell_type": "markdown",
   "metadata": {
    "cellUniqueIdByVincent": "6f74e"
   },
   "source": [
    "<strong>Kata kunci:</strong> PYTHON SELENIUM FORM SUBMIT"
   ]
  },
  {
   "cell_type": "code",
   "execution_count": 9,
   "metadata": {
    "cellUniqueIdByVincent": "3a782"
   },
   "outputs": [],
   "source": [
    "url = 'https://form.tanpa.download/form_modern.php'"
   ]
  },
  {
   "cell_type": "code",
   "execution_count": 10,
   "metadata": {
    "cellUniqueIdByVincent": "a6f68"
   },
   "outputs": [],
   "source": [
    "driver.get(url)"
   ]
  },
  {
   "cell_type": "markdown",
   "metadata": {
    "cellUniqueIdByVincent": "cce26"
   },
   "source": [
    "# Input Form Berkali-kali"
   ]
  },
  {
   "cell_type": "code",
   "execution_count": 11,
   "metadata": {
    "cellUniqueIdByVincent": "05c74"
   },
   "outputs": [],
   "source": [
    "data = [\n",
    "    {'nama': 'Nama 1', 'password': 'password1', 'tanggal_lahir': '01/01/2001', 'komentar': 'Komentar 1', 'gender': 'male', 'hobi': ['membaca', 'nonton'], 'job': 'Pelajar'},\n",
    "    {'nama': 'Nama 2', 'password': 'password2B', 'tanggal_lahir': '09/09/2000', 'komentar': 'Komentar B', 'gender': 'female', 'hobi': ['membaca'], 'job': 'Mahasiswa'},\n",
    "    {'nama': 'Nama 3', 'password': 'password3_C', 'tanggal_lahir': '01/10/2011', 'komentar': 'Komentar 3C', 'gender': 'other', 'hobi': ['membaca', 'tidur'], 'job': 'PNS'},\n",
    "    {'nama': 'Nama D', 'password': 'password4__D', 'tanggal_lahir': '08/08/2015', 'komentar': 'Komentar 4 Empat', 'gender': 'male', 'hobi': ['nonton'], 'job': 'Swasta'},\n",
    "    {'nama': 'Nama E', 'password': 'password5LIMA', 'tanggal_lahir': '01/01/2021', 'komentar': 'Komentar Lima', 'gender': 'female', 'hobi': ['tidur'], 'job': 'Wiraswasta'},\n",
    "]"
   ]
  },
  {
   "cell_type": "code",
   "execution_count": 13,
   "metadata": {
    "cellUniqueIdByVincent": "c24dc"
   },
   "outputs": [
    {
     "name": "stdout",
     "output_type": "stream",
     "text": [
      "Menginput: Nama 1\n",
      "Menginput: Nama 2\n",
      "Menginput: Nama 3\n",
      "Menginput: Nama D\n",
      "Menginput: Nama E\n"
     ]
    }
   ],
   "source": [
    "for d in data:\n",
    "    driver.find_element(By.XPATH, '//input[@name=\"name\"]').clear()\n",
    "    driver.find_element(By.XPATH, '//input[@name=\"name\"]').send_keys(d['nama'])\n",
    "\n",
    "    driver.find_element(By.XPATH, '//input[@type=\"password\"]').clear()\n",
    "    driver.find_element(By.XPATH, '//input[@type=\"password\"]').send_keys(d['password'])\n",
    "\n",
    "    driver.find_element(By.XPATH, '//input[@id=\"tanggal_lahir\"]').send_keys(d['tanggal_lahir'])\n",
    "\n",
    "    driver.find_element(By.XPATH, '//textarea').clear()\n",
    "    driver.find_element(By.XPATH, '//textarea').send_keys(d['komentar'])\n",
    "\n",
    "    xpath = '//input[@name=\"gender\" and @value=\\\"' + d['gender'] + '\\\"]'\n",
    "    driver.find_element(By.XPATH, xpath).click()\n",
    "    \n",
    "    for h in d['hobi']:\n",
    "        driver.find_element(By.XPATH, f'//input[@type=\"checkbox\" and @value=\"{h}\"]').click()\n",
    "\n",
    "    select = Select(driver.find_element(By.XPATH, '//select[@name=\"job\"]'))\n",
    "    select.select_by_visible_text(d['job'])\n",
    "\n",
    "    driver.find_element(By.XPATH, '//input[@type=\"submit\"]').click()\n",
    "\n",
    "    print('Menginput:', d['nama'])\n",
    "    time.sleep(3)"
   ]
  },
  {
   "cell_type": "code",
   "execution_count": 30,
   "metadata": {
    "cellUniqueIdByVincent": "3b6c1"
   },
   "outputs": [],
   "source": [
    "data = pd.read_excel('data.xlsx')"
   ]
  },
  {
   "cell_type": "code",
   "execution_count": 31,
   "metadata": {
    "cellUniqueIdByVincent": "94400"
   },
   "outputs": [
    {
     "data": {
      "text/html": [
       "<div>\n",
       "<style scoped>\n",
       "    .dataframe tbody tr th:only-of-type {\n",
       "        vertical-align: middle;\n",
       "    }\n",
       "\n",
       "    .dataframe tbody tr th {\n",
       "        vertical-align: top;\n",
       "    }\n",
       "\n",
       "    .dataframe thead th {\n",
       "        text-align: right;\n",
       "    }\n",
       "</style>\n",
       "<table border=\"1\" class=\"dataframe\">\n",
       "  <thead>\n",
       "    <tr style=\"text-align: right;\">\n",
       "      <th></th>\n",
       "      <th>nama</th>\n",
       "      <th>password</th>\n",
       "      <th>tanggal_lahir</th>\n",
       "      <th>komentar</th>\n",
       "      <th>gender</th>\n",
       "      <th>hobi</th>\n",
       "      <th>job</th>\n",
       "    </tr>\n",
       "  </thead>\n",
       "  <tbody>\n",
       "    <tr>\n",
       "      <th>0</th>\n",
       "      <td>Budi Santoso</td>\n",
       "      <td>pass123</td>\n",
       "      <td>1990-05-15</td>\n",
       "      <td>Ini adalah komentar percobaan.</td>\n",
       "      <td>male</td>\n",
       "      <td>membaca</td>\n",
       "      <td>Mahasiswa</td>\n",
       "    </tr>\n",
       "    <tr>\n",
       "      <th>1</th>\n",
       "      <td>Siti Aminah</td>\n",
       "      <td>securepass</td>\n",
       "      <td>1992-11-23</td>\n",
       "      <td>Komentar lain di sini.</td>\n",
       "      <td>female</td>\n",
       "      <td>nonton</td>\n",
       "      <td>Pelajar</td>\n",
       "    </tr>\n",
       "    <tr>\n",
       "      <th>2</th>\n",
       "      <td>Agus Setiawan</td>\n",
       "      <td>mysecret</td>\n",
       "      <td>1985-01-01</td>\n",
       "      <td>Catatan singkat saja.</td>\n",
       "      <td>male</td>\n",
       "      <td>tidur</td>\n",
       "      <td>PNS</td>\n",
       "    </tr>\n",
       "    <tr>\n",
       "      <th>3</th>\n",
       "      <td>Dewi Lestari</td>\n",
       "      <td>passwordABC</td>\n",
       "      <td>1998-07-30</td>\n",
       "      <td>Halo semuanya!</td>\n",
       "      <td>female</td>\n",
       "      <td>membaca</td>\n",
       "      <td>Swasta</td>\n",
       "    </tr>\n",
       "    <tr>\n",
       "      <th>4</th>\n",
       "      <td>Rizky Pratama</td>\n",
       "      <td>123xyz</td>\n",
       "      <td>1975-03-10</td>\n",
       "      <td>Beberapa pemikiran acak.</td>\n",
       "      <td>male</td>\n",
       "      <td>nonton</td>\n",
       "      <td>Wiraswasta</td>\n",
       "    </tr>\n",
       "    <tr>\n",
       "      <th>...</th>\n",
       "      <td>...</td>\n",
       "      <td>...</td>\n",
       "      <td>...</td>\n",
       "      <td>...</td>\n",
       "      <td>...</td>\n",
       "      <td>...</td>\n",
       "      <td>...</td>\n",
       "    </tr>\n",
       "    <tr>\n",
       "      <th>1426</th>\n",
       "      <td>Vicky Pratama</td>\n",
       "      <td>secret_cassiterite</td>\n",
       "      <td>1982-08-22</td>\n",
       "      <td>Ini adalah komentar yang sangat dasar.</td>\n",
       "      <td>male</td>\n",
       "      <td>nonton</td>\n",
       "      <td>Lainnya</td>\n",
       "    </tr>\n",
       "    <tr>\n",
       "      <th>1427</th>\n",
       "      <td>Wati Susanti</td>\n",
       "      <td>secure_cassiterite</td>\n",
       "      <td>1991-11-11</td>\n",
       "      <td>Komentar tes lain.</td>\n",
       "      <td>female</td>\n",
       "      <td>membaca</td>\n",
       "      <td>Pelajar</td>\n",
       "    </tr>\n",
       "    <tr>\n",
       "      <th>1428</th>\n",
       "      <td>Xavier Wijaya</td>\n",
       "      <td>my_cassiterite</td>\n",
       "      <td>1978-04-19</td>\n",
       "      <td>Beberapa teks acak.</td>\n",
       "      <td>male</td>\n",
       "      <td>tidur</td>\n",
       "      <td>PNS</td>\n",
       "    </tr>\n",
       "    <tr>\n",
       "      <th>1429</th>\n",
       "      <td>Yuni Sari</td>\n",
       "      <td>pass_celestite</td>\n",
       "      <td>2016-03-17</td>\n",
       "      <td>Hanya pesan singkat.</td>\n",
       "      <td>female</td>\n",
       "      <td>nonton</td>\n",
       "      <td>Mahasiswa</td>\n",
       "    </tr>\n",
       "    <tr>\n",
       "      <th>1430</th>\n",
       "      <td>Zaky Ramadhan</td>\n",
       "      <td>secret_celestite</td>\n",
       "      <td>1983-10-20</td>\n",
       "      <td>Lebih banyak teks untuk formulir.</td>\n",
       "      <td>male</td>\n",
       "      <td>membaca</td>\n",
       "      <td>Swasta</td>\n",
       "    </tr>\n",
       "  </tbody>\n",
       "</table>\n",
       "<p>1431 rows × 7 columns</p>\n",
       "</div>"
      ],
      "text/plain": [
       "               nama            password tanggal_lahir  \\\n",
       "0      Budi Santoso             pass123    1990-05-15   \n",
       "1       Siti Aminah          securepass    1992-11-23   \n",
       "2     Agus Setiawan            mysecret    1985-01-01   \n",
       "3      Dewi Lestari         passwordABC    1998-07-30   \n",
       "4     Rizky Pratama              123xyz    1975-03-10   \n",
       "...             ...                 ...           ...   \n",
       "1426  Vicky Pratama  secret_cassiterite    1982-08-22   \n",
       "1427   Wati Susanti  secure_cassiterite    1991-11-11   \n",
       "1428  Xavier Wijaya      my_cassiterite    1978-04-19   \n",
       "1429      Yuni Sari      pass_celestite    2016-03-17   \n",
       "1430  Zaky Ramadhan    secret_celestite    1983-10-20   \n",
       "\n",
       "                                    komentar  gender     hobi         job  \n",
       "0             Ini adalah komentar percobaan.    male  membaca   Mahasiswa  \n",
       "1                     Komentar lain di sini.  female   nonton     Pelajar  \n",
       "2                      Catatan singkat saja.    male    tidur         PNS  \n",
       "3                             Halo semuanya!  female  membaca      Swasta  \n",
       "4                   Beberapa pemikiran acak.    male   nonton  Wiraswasta  \n",
       "...                                      ...     ...      ...         ...  \n",
       "1426  Ini adalah komentar yang sangat dasar.    male   nonton     Lainnya  \n",
       "1427                      Komentar tes lain.  female  membaca     Pelajar  \n",
       "1428                     Beberapa teks acak.    male    tidur         PNS  \n",
       "1429                    Hanya pesan singkat.  female   nonton   Mahasiswa  \n",
       "1430       Lebih banyak teks untuk formulir.    male  membaca      Swasta  \n",
       "\n",
       "[1431 rows x 7 columns]"
      ]
     },
     "execution_count": 31,
     "metadata": {},
     "output_type": "execute_result"
    }
   ],
   "source": [
    "data"
   ]
  },
  {
   "cell_type": "code",
   "execution_count": 33,
   "metadata": {
    "cellUniqueIdByVincent": "09c00"
   },
   "outputs": [
    {
     "name": "stdout",
     "output_type": "stream",
     "text": [
      "Menginput: Budi Santoso\n",
      "Menginput: Siti Aminah\n",
      "Menginput: Agus Setiawan\n",
      "Menginput: Dewi Lestari\n",
      "Menginput: Rizky Pratama\n",
      "Menginput: Putri Indah\n",
      "Menginput: Faisal Rahman\n",
      "Menginput: Nurul Hidayah\n",
      "Menginput: Arif Wicaksono\n",
      "Menginput: Fitriani Dewi\n"
     ]
    },
    {
     "ename": "KeyboardInterrupt",
     "evalue": "",
     "output_type": "error",
     "traceback": [
      "\u001b[31m---------------------------------------------------------------------------\u001b[39m",
      "\u001b[31mKeyboardInterrupt\u001b[39m                         Traceback (most recent call last)",
      "\u001b[36mCell\u001b[39m\u001b[36m \u001b[39m\u001b[32mIn[33]\u001b[39m\u001b[32m, line 11\u001b[39m\n\u001b[32m      8\u001b[39m driver.find_element(By.XPATH, \u001b[33m'\u001b[39m\u001b[33m//input[@id=\u001b[39m\u001b[33m\"\u001b[39m\u001b[33mtanggal_lahir\u001b[39m\u001b[33m\"\u001b[39m\u001b[33m]\u001b[39m\u001b[33m'\u001b[39m).send_keys(d[\u001b[33m'\u001b[39m\u001b[33mtanggal_lahir\u001b[39m\u001b[33m'\u001b[39m].strftime(\u001b[33m'\u001b[39m\u001b[38;5;132;01m%d\u001b[39;00m\u001b[33m/\u001b[39m\u001b[33m%\u001b[39m\u001b[33mm/\u001b[39m\u001b[33m%\u001b[39m\u001b[33mY\u001b[39m\u001b[33m'\u001b[39m))\n\u001b[32m     10\u001b[39m driver.find_element(By.XPATH, \u001b[33m'\u001b[39m\u001b[33m//textarea\u001b[39m\u001b[33m'\u001b[39m).clear()\n\u001b[32m---> \u001b[39m\u001b[32m11\u001b[39m \u001b[43mdriver\u001b[49m\u001b[43m.\u001b[49m\u001b[43mfind_element\u001b[49m\u001b[43m(\u001b[49m\u001b[43mBy\u001b[49m\u001b[43m.\u001b[49m\u001b[43mXPATH\u001b[49m\u001b[43m,\u001b[49m\u001b[43m \u001b[49m\u001b[33;43m'\u001b[39;49m\u001b[33;43m//textarea\u001b[39;49m\u001b[33;43m'\u001b[39;49m\u001b[43m)\u001b[49m\u001b[43m.\u001b[49m\u001b[43msend_keys\u001b[49m\u001b[43m(\u001b[49m\u001b[43md\u001b[49m\u001b[43m[\u001b[49m\u001b[33;43m'\u001b[39;49m\u001b[33;43mkomentar\u001b[39;49m\u001b[33;43m'\u001b[39;49m\u001b[43m]\u001b[49m\u001b[43m)\u001b[49m\n\u001b[32m     13\u001b[39m xpath = \u001b[33m'\u001b[39m\u001b[33m//input[@name=\u001b[39m\u001b[33m\"\u001b[39m\u001b[33mgender\u001b[39m\u001b[33m\"\u001b[39m\u001b[33m and @value=\u001b[39m\u001b[38;5;130;01m\\\"\u001b[39;00m\u001b[33m'\u001b[39m + d[\u001b[33m'\u001b[39m\u001b[33mgender\u001b[39m\u001b[33m'\u001b[39m] + \u001b[33m'\u001b[39m\u001b[38;5;130;01m\\\"\u001b[39;00m\u001b[33m]\u001b[39m\u001b[33m'\u001b[39m\n\u001b[32m     14\u001b[39m driver.find_element(By.XPATH, xpath).click()\n",
      "\u001b[36mFile \u001b[39m\u001b[32mc:\\Users\\aansubarkah\\anaconda3\\envs\\basangdata12\\Lib\\site-packages\\selenium\\webdriver\\remote\\webelement.py:231\u001b[39m, in \u001b[36mWebElement.send_keys\u001b[39m\u001b[34m(self, *value)\u001b[39m\n\u001b[32m    228\u001b[39m             remote_files.append(\u001b[38;5;28mself\u001b[39m._upload(file))\n\u001b[32m    229\u001b[39m         value = \u001b[33m\"\u001b[39m\u001b[38;5;130;01m\\n\u001b[39;00m\u001b[33m\"\u001b[39m.join(remote_files)\n\u001b[32m--> \u001b[39m\u001b[32m231\u001b[39m \u001b[38;5;28;43mself\u001b[39;49m\u001b[43m.\u001b[49m\u001b[43m_execute\u001b[49m\u001b[43m(\u001b[49m\n\u001b[32m    232\u001b[39m \u001b[43m    \u001b[49m\u001b[43mCommand\u001b[49m\u001b[43m.\u001b[49m\u001b[43mSEND_KEYS_TO_ELEMENT\u001b[49m\u001b[43m,\u001b[49m\u001b[43m \u001b[49m\u001b[43m{\u001b[49m\u001b[33;43m\"\u001b[39;49m\u001b[33;43mtext\u001b[39;49m\u001b[33;43m\"\u001b[39;49m\u001b[43m:\u001b[49m\u001b[43m \u001b[49m\u001b[33;43m\"\u001b[39;49m\u001b[33;43m\"\u001b[39;49m\u001b[43m.\u001b[49m\u001b[43mjoin\u001b[49m\u001b[43m(\u001b[49m\u001b[43mkeys_to_typing\u001b[49m\u001b[43m(\u001b[49m\u001b[43mvalue\u001b[49m\u001b[43m)\u001b[49m\u001b[43m)\u001b[49m\u001b[43m,\u001b[49m\u001b[43m \u001b[49m\u001b[33;43m\"\u001b[39;49m\u001b[33;43mvalue\u001b[39;49m\u001b[33;43m\"\u001b[39;49m\u001b[43m:\u001b[49m\u001b[43m \u001b[49m\u001b[43mkeys_to_typing\u001b[49m\u001b[43m(\u001b[49m\u001b[43mvalue\u001b[49m\u001b[43m)\u001b[49m\u001b[43m}\u001b[49m\n\u001b[32m    233\u001b[39m \u001b[43m\u001b[49m\u001b[43m)\u001b[49m\n",
      "\u001b[36mFile \u001b[39m\u001b[32mc:\\Users\\aansubarkah\\anaconda3\\envs\\basangdata12\\Lib\\site-packages\\selenium\\webdriver\\remote\\webelement.py:395\u001b[39m, in \u001b[36mWebElement._execute\u001b[39m\u001b[34m(self, command, params)\u001b[39m\n\u001b[32m    393\u001b[39m     params = {}\n\u001b[32m    394\u001b[39m params[\u001b[33m\"\u001b[39m\u001b[33mid\u001b[39m\u001b[33m\"\u001b[39m] = \u001b[38;5;28mself\u001b[39m._id\n\u001b[32m--> \u001b[39m\u001b[32m395\u001b[39m \u001b[38;5;28;01mreturn\u001b[39;00m \u001b[38;5;28;43mself\u001b[39;49m\u001b[43m.\u001b[49m\u001b[43m_parent\u001b[49m\u001b[43m.\u001b[49m\u001b[43mexecute\u001b[49m\u001b[43m(\u001b[49m\u001b[43mcommand\u001b[49m\u001b[43m,\u001b[49m\u001b[43m \u001b[49m\u001b[43mparams\u001b[49m\u001b[43m)\u001b[49m\n",
      "\u001b[36mFile \u001b[39m\u001b[32mc:\\Users\\aansubarkah\\anaconda3\\envs\\basangdata12\\Lib\\site-packages\\selenium\\webdriver\\remote\\webdriver.py:345\u001b[39m, in \u001b[36mWebDriver.execute\u001b[39m\u001b[34m(self, driver_command, params)\u001b[39m\n\u001b[32m    342\u001b[39m     \u001b[38;5;28;01melif\u001b[39;00m \u001b[33m\"\u001b[39m\u001b[33msessionId\u001b[39m\u001b[33m\"\u001b[39m \u001b[38;5;129;01mnot\u001b[39;00m \u001b[38;5;129;01min\u001b[39;00m params:\n\u001b[32m    343\u001b[39m         params[\u001b[33m\"\u001b[39m\u001b[33msessionId\u001b[39m\u001b[33m\"\u001b[39m] = \u001b[38;5;28mself\u001b[39m.session_id\n\u001b[32m--> \u001b[39m\u001b[32m345\u001b[39m response = \u001b[38;5;28;43mself\u001b[39;49m\u001b[43m.\u001b[49m\u001b[43mcommand_executor\u001b[49m\u001b[43m.\u001b[49m\u001b[43mexecute\u001b[49m\u001b[43m(\u001b[49m\u001b[43mdriver_command\u001b[49m\u001b[43m,\u001b[49m\u001b[43m \u001b[49m\u001b[43mparams\u001b[49m\u001b[43m)\u001b[49m\n\u001b[32m    346\u001b[39m \u001b[38;5;28;01mif\u001b[39;00m response:\n\u001b[32m    347\u001b[39m     \u001b[38;5;28mself\u001b[39m.error_handler.check_response(response)\n",
      "\u001b[36mFile \u001b[39m\u001b[32mc:\\Users\\aansubarkah\\anaconda3\\envs\\basangdata12\\Lib\\site-packages\\selenium\\webdriver\\remote\\remote_connection.py:302\u001b[39m, in \u001b[36mRemoteConnection.execute\u001b[39m\u001b[34m(self, command, params)\u001b[39m\n\u001b[32m    300\u001b[39m trimmed = \u001b[38;5;28mself\u001b[39m._trim_large_entries(params)\n\u001b[32m    301\u001b[39m LOGGER.debug(\u001b[33m\"\u001b[39m\u001b[38;5;132;01m%s\u001b[39;00m\u001b[33m \u001b[39m\u001b[38;5;132;01m%s\u001b[39;00m\u001b[33m \u001b[39m\u001b[38;5;132;01m%s\u001b[39;00m\u001b[33m\"\u001b[39m, command_info[\u001b[32m0\u001b[39m], url, \u001b[38;5;28mstr\u001b[39m(trimmed))\n\u001b[32m--> \u001b[39m\u001b[32m302\u001b[39m \u001b[38;5;28;01mreturn\u001b[39;00m \u001b[38;5;28;43mself\u001b[39;49m\u001b[43m.\u001b[49m\u001b[43m_request\u001b[49m\u001b[43m(\u001b[49m\u001b[43mcommand_info\u001b[49m\u001b[43m[\u001b[49m\u001b[32;43m0\u001b[39;49m\u001b[43m]\u001b[49m\u001b[43m,\u001b[49m\u001b[43m \u001b[49m\u001b[43murl\u001b[49m\u001b[43m,\u001b[49m\u001b[43m \u001b[49m\u001b[43mbody\u001b[49m\u001b[43m=\u001b[49m\u001b[43mdata\u001b[49m\u001b[43m)\u001b[49m\n",
      "\u001b[36mFile \u001b[39m\u001b[32mc:\\Users\\aansubarkah\\anaconda3\\envs\\basangdata12\\Lib\\site-packages\\selenium\\webdriver\\remote\\remote_connection.py:322\u001b[39m, in \u001b[36mRemoteConnection._request\u001b[39m\u001b[34m(self, method, url, body)\u001b[39m\n\u001b[32m    319\u001b[39m     body = \u001b[38;5;28;01mNone\u001b[39;00m\n\u001b[32m    321\u001b[39m \u001b[38;5;28;01mif\u001b[39;00m \u001b[38;5;28mself\u001b[39m.keep_alive:\n\u001b[32m--> \u001b[39m\u001b[32m322\u001b[39m     response = \u001b[38;5;28;43mself\u001b[39;49m\u001b[43m.\u001b[49m\u001b[43m_conn\u001b[49m\u001b[43m.\u001b[49m\u001b[43mrequest\u001b[49m\u001b[43m(\u001b[49m\u001b[43mmethod\u001b[49m\u001b[43m,\u001b[49m\u001b[43m \u001b[49m\u001b[43murl\u001b[49m\u001b[43m,\u001b[49m\u001b[43m \u001b[49m\u001b[43mbody\u001b[49m\u001b[43m=\u001b[49m\u001b[43mbody\u001b[49m\u001b[43m,\u001b[49m\u001b[43m \u001b[49m\u001b[43mheaders\u001b[49m\u001b[43m=\u001b[49m\u001b[43mheaders\u001b[49m\u001b[43m)\u001b[49m\n\u001b[32m    323\u001b[39m     statuscode = response.status\n\u001b[32m    324\u001b[39m \u001b[38;5;28;01melse\u001b[39;00m:\n",
      "\u001b[36mFile \u001b[39m\u001b[32mc:\\Users\\aansubarkah\\anaconda3\\envs\\basangdata12\\Lib\\site-packages\\urllib3\\_request_methods.py:144\u001b[39m, in \u001b[36mRequestMethods.request\u001b[39m\u001b[34m(self, method, url, body, fields, headers, json, **urlopen_kw)\u001b[39m\n\u001b[32m    136\u001b[39m     \u001b[38;5;28;01mreturn\u001b[39;00m \u001b[38;5;28mself\u001b[39m.request_encode_url(\n\u001b[32m    137\u001b[39m         method,\n\u001b[32m    138\u001b[39m         url,\n\u001b[32m   (...)\u001b[39m\u001b[32m    141\u001b[39m         **urlopen_kw,\n\u001b[32m    142\u001b[39m     )\n\u001b[32m    143\u001b[39m \u001b[38;5;28;01melse\u001b[39;00m:\n\u001b[32m--> \u001b[39m\u001b[32m144\u001b[39m     \u001b[38;5;28;01mreturn\u001b[39;00m \u001b[38;5;28;43mself\u001b[39;49m\u001b[43m.\u001b[49m\u001b[43mrequest_encode_body\u001b[49m\u001b[43m(\u001b[49m\n\u001b[32m    145\u001b[39m \u001b[43m        \u001b[49m\u001b[43mmethod\u001b[49m\u001b[43m,\u001b[49m\u001b[43m \u001b[49m\u001b[43murl\u001b[49m\u001b[43m,\u001b[49m\u001b[43m \u001b[49m\u001b[43mfields\u001b[49m\u001b[43m=\u001b[49m\u001b[43mfields\u001b[49m\u001b[43m,\u001b[49m\u001b[43m \u001b[49m\u001b[43mheaders\u001b[49m\u001b[43m=\u001b[49m\u001b[43mheaders\u001b[49m\u001b[43m,\u001b[49m\u001b[43m \u001b[49m\u001b[43m*\u001b[49m\u001b[43m*\u001b[49m\u001b[43murlopen_kw\u001b[49m\n\u001b[32m    146\u001b[39m \u001b[43m    \u001b[49m\u001b[43m)\u001b[49m\n",
      "\u001b[36mFile \u001b[39m\u001b[32mc:\\Users\\aansubarkah\\anaconda3\\envs\\basangdata12\\Lib\\site-packages\\urllib3\\_request_methods.py:279\u001b[39m, in \u001b[36mRequestMethods.request_encode_body\u001b[39m\u001b[34m(self, method, url, fields, headers, encode_multipart, multipart_boundary, **urlopen_kw)\u001b[39m\n\u001b[32m    275\u001b[39m     extra_kw[\u001b[33m\"\u001b[39m\u001b[33mheaders\u001b[39m\u001b[33m\"\u001b[39m].setdefault(\u001b[33m\"\u001b[39m\u001b[33mContent-Type\u001b[39m\u001b[33m\"\u001b[39m, content_type)\n\u001b[32m    277\u001b[39m extra_kw.update(urlopen_kw)\n\u001b[32m--> \u001b[39m\u001b[32m279\u001b[39m \u001b[38;5;28;01mreturn\u001b[39;00m \u001b[38;5;28;43mself\u001b[39;49m\u001b[43m.\u001b[49m\u001b[43murlopen\u001b[49m\u001b[43m(\u001b[49m\u001b[43mmethod\u001b[49m\u001b[43m,\u001b[49m\u001b[43m \u001b[49m\u001b[43murl\u001b[49m\u001b[43m,\u001b[49m\u001b[43m \u001b[49m\u001b[43m*\u001b[49m\u001b[43m*\u001b[49m\u001b[43mextra_kw\u001b[49m\u001b[43m)\u001b[49m\n",
      "\u001b[36mFile \u001b[39m\u001b[32mc:\\Users\\aansubarkah\\anaconda3\\envs\\basangdata12\\Lib\\site-packages\\urllib3\\poolmanager.py:444\u001b[39m, in \u001b[36mPoolManager.urlopen\u001b[39m\u001b[34m(self, method, url, redirect, **kw)\u001b[39m\n\u001b[32m    442\u001b[39m     response = conn.urlopen(method, url, **kw)\n\u001b[32m    443\u001b[39m \u001b[38;5;28;01melse\u001b[39;00m:\n\u001b[32m--> \u001b[39m\u001b[32m444\u001b[39m     response = \u001b[43mconn\u001b[49m\u001b[43m.\u001b[49m\u001b[43murlopen\u001b[49m\u001b[43m(\u001b[49m\u001b[43mmethod\u001b[49m\u001b[43m,\u001b[49m\u001b[43m \u001b[49m\u001b[43mu\u001b[49m\u001b[43m.\u001b[49m\u001b[43mrequest_uri\u001b[49m\u001b[43m,\u001b[49m\u001b[43m \u001b[49m\u001b[43m*\u001b[49m\u001b[43m*\u001b[49m\u001b[43mkw\u001b[49m\u001b[43m)\u001b[49m\n\u001b[32m    446\u001b[39m redirect_location = redirect \u001b[38;5;129;01mand\u001b[39;00m response.get_redirect_location()\n\u001b[32m    447\u001b[39m \u001b[38;5;28;01mif\u001b[39;00m \u001b[38;5;129;01mnot\u001b[39;00m redirect_location:\n",
      "\u001b[36mFile \u001b[39m\u001b[32mc:\\Users\\aansubarkah\\anaconda3\\envs\\basangdata12\\Lib\\site-packages\\urllib3\\connectionpool.py:793\u001b[39m, in \u001b[36mHTTPConnectionPool.urlopen\u001b[39m\u001b[34m(self, method, url, body, headers, retries, redirect, assert_same_host, timeout, pool_timeout, release_conn, chunked, body_pos, preload_content, decode_content, **response_kw)\u001b[39m\n\u001b[32m    790\u001b[39m response_conn = conn \u001b[38;5;28;01mif\u001b[39;00m \u001b[38;5;129;01mnot\u001b[39;00m release_conn \u001b[38;5;28;01melse\u001b[39;00m \u001b[38;5;28;01mNone\u001b[39;00m\n\u001b[32m    792\u001b[39m \u001b[38;5;66;03m# Make the request on the HTTPConnection object\u001b[39;00m\n\u001b[32m--> \u001b[39m\u001b[32m793\u001b[39m response = \u001b[38;5;28;43mself\u001b[39;49m\u001b[43m.\u001b[49m\u001b[43m_make_request\u001b[49m\u001b[43m(\u001b[49m\n\u001b[32m    794\u001b[39m \u001b[43m    \u001b[49m\u001b[43mconn\u001b[49m\u001b[43m,\u001b[49m\n\u001b[32m    795\u001b[39m \u001b[43m    \u001b[49m\u001b[43mmethod\u001b[49m\u001b[43m,\u001b[49m\n\u001b[32m    796\u001b[39m \u001b[43m    \u001b[49m\u001b[43murl\u001b[49m\u001b[43m,\u001b[49m\n\u001b[32m    797\u001b[39m \u001b[43m    \u001b[49m\u001b[43mtimeout\u001b[49m\u001b[43m=\u001b[49m\u001b[43mtimeout_obj\u001b[49m\u001b[43m,\u001b[49m\n\u001b[32m    798\u001b[39m \u001b[43m    \u001b[49m\u001b[43mbody\u001b[49m\u001b[43m=\u001b[49m\u001b[43mbody\u001b[49m\u001b[43m,\u001b[49m\n\u001b[32m    799\u001b[39m \u001b[43m    \u001b[49m\u001b[43mheaders\u001b[49m\u001b[43m=\u001b[49m\u001b[43mheaders\u001b[49m\u001b[43m,\u001b[49m\n\u001b[32m    800\u001b[39m \u001b[43m    \u001b[49m\u001b[43mchunked\u001b[49m\u001b[43m=\u001b[49m\u001b[43mchunked\u001b[49m\u001b[43m,\u001b[49m\n\u001b[32m    801\u001b[39m \u001b[43m    \u001b[49m\u001b[43mretries\u001b[49m\u001b[43m=\u001b[49m\u001b[43mretries\u001b[49m\u001b[43m,\u001b[49m\n\u001b[32m    802\u001b[39m \u001b[43m    \u001b[49m\u001b[43mresponse_conn\u001b[49m\u001b[43m=\u001b[49m\u001b[43mresponse_conn\u001b[49m\u001b[43m,\u001b[49m\n\u001b[32m    803\u001b[39m \u001b[43m    \u001b[49m\u001b[43mpreload_content\u001b[49m\u001b[43m=\u001b[49m\u001b[43mpreload_content\u001b[49m\u001b[43m,\u001b[49m\n\u001b[32m    804\u001b[39m \u001b[43m    \u001b[49m\u001b[43mdecode_content\u001b[49m\u001b[43m=\u001b[49m\u001b[43mdecode_content\u001b[49m\u001b[43m,\u001b[49m\n\u001b[32m    805\u001b[39m \u001b[43m    \u001b[49m\u001b[43m*\u001b[49m\u001b[43m*\u001b[49m\u001b[43mresponse_kw\u001b[49m\u001b[43m,\u001b[49m\n\u001b[32m    806\u001b[39m \u001b[43m\u001b[49m\u001b[43m)\u001b[49m\n\u001b[32m    808\u001b[39m \u001b[38;5;66;03m# Everything went great!\u001b[39;00m\n\u001b[32m    809\u001b[39m clean_exit = \u001b[38;5;28;01mTrue\u001b[39;00m\n",
      "\u001b[36mFile \u001b[39m\u001b[32mc:\\Users\\aansubarkah\\anaconda3\\envs\\basangdata12\\Lib\\site-packages\\urllib3\\connectionpool.py:537\u001b[39m, in \u001b[36mHTTPConnectionPool._make_request\u001b[39m\u001b[34m(self, conn, method, url, body, headers, retries, timeout, chunked, response_conn, preload_content, decode_content, enforce_content_length)\u001b[39m\n\u001b[32m    535\u001b[39m \u001b[38;5;66;03m# Receive the response from the server\u001b[39;00m\n\u001b[32m    536\u001b[39m \u001b[38;5;28;01mtry\u001b[39;00m:\n\u001b[32m--> \u001b[39m\u001b[32m537\u001b[39m     response = \u001b[43mconn\u001b[49m\u001b[43m.\u001b[49m\u001b[43mgetresponse\u001b[49m\u001b[43m(\u001b[49m\u001b[43m)\u001b[49m\n\u001b[32m    538\u001b[39m \u001b[38;5;28;01mexcept\u001b[39;00m (BaseSSLError, \u001b[38;5;167;01mOSError\u001b[39;00m) \u001b[38;5;28;01mas\u001b[39;00m e:\n\u001b[32m    539\u001b[39m     \u001b[38;5;28mself\u001b[39m._raise_timeout(err=e, url=url, timeout_value=read_timeout)\n",
      "\u001b[36mFile \u001b[39m\u001b[32mc:\\Users\\aansubarkah\\anaconda3\\envs\\basangdata12\\Lib\\site-packages\\urllib3\\connection.py:466\u001b[39m, in \u001b[36mHTTPConnection.getresponse\u001b[39m\u001b[34m(self)\u001b[39m\n\u001b[32m    463\u001b[39m \u001b[38;5;28;01mfrom\u001b[39;00m\u001b[38;5;250m \u001b[39m\u001b[34;01m.\u001b[39;00m\u001b[34;01mresponse\u001b[39;00m\u001b[38;5;250m \u001b[39m\u001b[38;5;28;01mimport\u001b[39;00m HTTPResponse\n\u001b[32m    465\u001b[39m \u001b[38;5;66;03m# Get the response from http.client.HTTPConnection\u001b[39;00m\n\u001b[32m--> \u001b[39m\u001b[32m466\u001b[39m httplib_response = \u001b[38;5;28;43msuper\u001b[39;49m\u001b[43m(\u001b[49m\u001b[43m)\u001b[49m\u001b[43m.\u001b[49m\u001b[43mgetresponse\u001b[49m\u001b[43m(\u001b[49m\u001b[43m)\u001b[49m\n\u001b[32m    468\u001b[39m \u001b[38;5;28;01mtry\u001b[39;00m:\n\u001b[32m    469\u001b[39m     assert_header_parsing(httplib_response.msg)\n",
      "\u001b[36mFile \u001b[39m\u001b[32mc:\\Users\\aansubarkah\\anaconda3\\envs\\basangdata12\\Lib\\http\\client.py:1430\u001b[39m, in \u001b[36mHTTPConnection.getresponse\u001b[39m\u001b[34m(self)\u001b[39m\n\u001b[32m   1428\u001b[39m \u001b[38;5;28;01mtry\u001b[39;00m:\n\u001b[32m   1429\u001b[39m     \u001b[38;5;28;01mtry\u001b[39;00m:\n\u001b[32m-> \u001b[39m\u001b[32m1430\u001b[39m         \u001b[43mresponse\u001b[49m\u001b[43m.\u001b[49m\u001b[43mbegin\u001b[49m\u001b[43m(\u001b[49m\u001b[43m)\u001b[49m\n\u001b[32m   1431\u001b[39m     \u001b[38;5;28;01mexcept\u001b[39;00m \u001b[38;5;167;01mConnectionError\u001b[39;00m:\n\u001b[32m   1432\u001b[39m         \u001b[38;5;28mself\u001b[39m.close()\n",
      "\u001b[36mFile \u001b[39m\u001b[32mc:\\Users\\aansubarkah\\anaconda3\\envs\\basangdata12\\Lib\\http\\client.py:331\u001b[39m, in \u001b[36mHTTPResponse.begin\u001b[39m\u001b[34m(self)\u001b[39m\n\u001b[32m    329\u001b[39m \u001b[38;5;66;03m# read until we get a non-100 response\u001b[39;00m\n\u001b[32m    330\u001b[39m \u001b[38;5;28;01mwhile\u001b[39;00m \u001b[38;5;28;01mTrue\u001b[39;00m:\n\u001b[32m--> \u001b[39m\u001b[32m331\u001b[39m     version, status, reason = \u001b[38;5;28;43mself\u001b[39;49m\u001b[43m.\u001b[49m\u001b[43m_read_status\u001b[49m\u001b[43m(\u001b[49m\u001b[43m)\u001b[49m\n\u001b[32m    332\u001b[39m     \u001b[38;5;28;01mif\u001b[39;00m status != CONTINUE:\n\u001b[32m    333\u001b[39m         \u001b[38;5;28;01mbreak\u001b[39;00m\n",
      "\u001b[36mFile \u001b[39m\u001b[32mc:\\Users\\aansubarkah\\anaconda3\\envs\\basangdata12\\Lib\\http\\client.py:292\u001b[39m, in \u001b[36mHTTPResponse._read_status\u001b[39m\u001b[34m(self)\u001b[39m\n\u001b[32m    291\u001b[39m \u001b[38;5;28;01mdef\u001b[39;00m\u001b[38;5;250m \u001b[39m\u001b[34m_read_status\u001b[39m(\u001b[38;5;28mself\u001b[39m):\n\u001b[32m--> \u001b[39m\u001b[32m292\u001b[39m     line = \u001b[38;5;28mstr\u001b[39m(\u001b[38;5;28;43mself\u001b[39;49m\u001b[43m.\u001b[49m\u001b[43mfp\u001b[49m\u001b[43m.\u001b[49m\u001b[43mreadline\u001b[49m\u001b[43m(\u001b[49m\u001b[43m_MAXLINE\u001b[49m\u001b[43m \u001b[49m\u001b[43m+\u001b[49m\u001b[43m \u001b[49m\u001b[32;43m1\u001b[39;49m\u001b[43m)\u001b[49m, \u001b[33m\"\u001b[39m\u001b[33miso-8859-1\u001b[39m\u001b[33m\"\u001b[39m)\n\u001b[32m    293\u001b[39m     \u001b[38;5;28;01mif\u001b[39;00m \u001b[38;5;28mlen\u001b[39m(line) > _MAXLINE:\n\u001b[32m    294\u001b[39m         \u001b[38;5;28;01mraise\u001b[39;00m LineTooLong(\u001b[33m\"\u001b[39m\u001b[33mstatus line\u001b[39m\u001b[33m\"\u001b[39m)\n",
      "\u001b[36mFile \u001b[39m\u001b[32mc:\\Users\\aansubarkah\\anaconda3\\envs\\basangdata12\\Lib\\socket.py:720\u001b[39m, in \u001b[36mSocketIO.readinto\u001b[39m\u001b[34m(self, b)\u001b[39m\n\u001b[32m    718\u001b[39m \u001b[38;5;28;01mwhile\u001b[39;00m \u001b[38;5;28;01mTrue\u001b[39;00m:\n\u001b[32m    719\u001b[39m     \u001b[38;5;28;01mtry\u001b[39;00m:\n\u001b[32m--> \u001b[39m\u001b[32m720\u001b[39m         \u001b[38;5;28;01mreturn\u001b[39;00m \u001b[38;5;28;43mself\u001b[39;49m\u001b[43m.\u001b[49m\u001b[43m_sock\u001b[49m\u001b[43m.\u001b[49m\u001b[43mrecv_into\u001b[49m\u001b[43m(\u001b[49m\u001b[43mb\u001b[49m\u001b[43m)\u001b[49m\n\u001b[32m    721\u001b[39m     \u001b[38;5;28;01mexcept\u001b[39;00m timeout:\n\u001b[32m    722\u001b[39m         \u001b[38;5;28mself\u001b[39m._timeout_occurred = \u001b[38;5;28;01mTrue\u001b[39;00m\n",
      "\u001b[31mKeyboardInterrupt\u001b[39m: "
     ]
    }
   ],
   "source": [
    "for index, d in data.iterrows():\n",
    "    driver.find_element(By.XPATH, '//input[@name=\"name\"]').clear()\n",
    "    driver.find_element(By.XPATH, '//input[@name=\"name\"]').send_keys(d['nama'])\n",
    "\n",
    "    driver.find_element(By.XPATH, '//input[@type=\"password\"]').clear()\n",
    "    driver.find_element(By.XPATH, '//input[@type=\"password\"]').send_keys(d['password'])\n",
    "\n",
    "    driver.find_element(By.XPATH, '//input[@id=\"tanggal_lahir\"]').send_keys(d['tanggal_lahir'].strftime('%d/%m/%Y'))\n",
    "\n",
    "    driver.find_element(By.XPATH, '//textarea').clear()\n",
    "    driver.find_element(By.XPATH, '//textarea').send_keys(d['komentar'])\n",
    "\n",
    "    xpath = '//input[@name=\"gender\" and @value=\\\"' + d['gender'] + '\\\"]'\n",
    "    driver.find_element(By.XPATH, xpath).click()\n",
    "    \n",
    "    for h in d['hobi']:\n",
    "        driver.find_element(By.XPATH, f'//input[@type=\"checkbox\" and @value=\"{d['hobi']}\"]').click()\n",
    "\n",
    "    select = Select(driver.find_element(By.XPATH, '//select[@name=\"job\"]'))\n",
    "    select.select_by_visible_text(d['job'])\n",
    "\n",
    "    driver.find_element(By.XPATH, '//input[@type=\"submit\"]').click()\n",
    "\n",
    "    print('Menginput:', d['nama'])\n",
    "    #time.sleep(3)"
   ]
  },
  {
   "cell_type": "markdown",
   "metadata": {
    "cellUniqueIdByVincent": "8ca38"
   },
   "source": [
    "# Tutup Browser"
   ]
  },
  {
   "cell_type": "code",
   "execution_count": 34,
   "metadata": {
    "cellUniqueIdByVincent": "53308"
   },
   "outputs": [],
   "source": [
    "driver.quit()"
   ]
  },
  {
   "cell_type": "markdown",
   "metadata": {
    "cellUniqueIdByVincent": "85b5d"
   },
   "source": [
    "<strong>Kata kunci:</strong> PYTHON SELENIUM QUIT"
   ]
  }
 ],
 "metadata": {
  "kernelspec": {
   "display_name": "Python 3 (ipykernel)",
   "language": "python",
   "name": "python3"
  },
  "language_info": {
   "codemirror_mode": {
    "name": "ipython",
    "version": 3
   },
   "file_extension": ".py",
   "mimetype": "text/x-python",
   "name": "python",
   "nbconvert_exporter": "python",
   "pygments_lexer": "ipython3",
   "version": "3.12.9"
  },
  "vincent": {
   "sessionId": "d9d9fc0f00f4f160555c6add_2025-07-17T11-43-03-395Z"
  }
 },
 "nbformat": 4,
 "nbformat_minor": 4
}
