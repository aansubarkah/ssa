{
 "cells": [
  {
   "cell_type": "markdown",
   "id": "1a9427d2",
   "metadata": {
    "cellUniqueIdByVincent": "9c35e"
   },
   "source": [
    "# Import Libraries"
   ]
  },
  {
   "cell_type": "code",
   "execution_count": 14,
   "id": "2333b3a7",
   "metadata": {
    "cellUniqueIdByVincent": "b63d8",
    "execution": {
     "iopub.execute_input": "2025-07-19T02:12:20.360924Z",
     "iopub.status.busy": "2025-07-19T02:12:20.359921Z",
     "iopub.status.idle": "2025-07-19T02:12:20.385056Z",
     "shell.execute_reply": "2025-07-19T02:12:20.381041Z",
     "shell.execute_reply.started": "2025-07-19T02:12:20.360924Z"
    }
   },
   "outputs": [],
   "source": [
    "import os, time\n",
    "\n",
    "import pandas as pd\n",
    "\n",
    "from selenium import webdriver\n",
    "from selenium.webdriver.chrome.service import Service as ChromeService\n",
    "from webdriver_manager.chrome import ChromeDriverManager\n",
    "from selenium.webdriver.common.by import By\n",
    "from selenium.webdriver.support.ui import Select"
   ]
  },
  {
   "cell_type": "markdown",
   "id": "1a3b1427",
   "metadata": {
    "cellUniqueIdByVincent": "9e24c"
   },
   "source": [
    "# Buka Browser"
   ]
  },
  {
   "cell_type": "code",
   "execution_count": 15,
   "id": "228d6f06",
   "metadata": {
    "cellUniqueIdByVincent": "0e21b",
    "execution": {
     "iopub.execute_input": "2025-07-19T02:12:20.393091Z",
     "iopub.status.busy": "2025-07-19T02:12:20.392090Z",
     "iopub.status.idle": "2025-07-19T02:12:33.862988Z",
     "shell.execute_reply": "2025-07-19T02:12:33.820736Z",
     "shell.execute_reply.started": "2025-07-19T02:12:20.393091Z"
    }
   },
   "outputs": [],
   "source": [
    "driver = webdriver.Chrome(service=ChromeService(ChromeDriverManager().install()))"
   ]
  },
  {
   "cell_type": "markdown",
   "id": "943f5e59",
   "metadata": {
    "cellUniqueIdByVincent": "e74d3"
   },
   "source": [
    "# Buka Halaman Target"
   ]
  },
  {
   "cell_type": "code",
   "execution_count": 16,
   "id": "1cb0826c",
   "metadata": {
    "cellUniqueIdByVincent": "1ae3b",
    "execution": {
     "iopub.execute_input": "2025-07-19T02:12:33.968000Z",
     "iopub.status.busy": "2025-07-19T02:12:33.952937Z",
     "iopub.status.idle": "2025-07-19T02:12:34.147543Z",
     "shell.execute_reply": "2025-07-19T02:12:34.087151Z",
     "shell.execute_reply.started": "2025-07-19T02:12:33.968000Z"
    }
   },
   "outputs": [],
   "source": [
    "url = 'https://form.tanpa.download/form_modern.php'"
   ]
  },
  {
   "cell_type": "code",
   "execution_count": 17,
   "id": "b0493bb9",
   "metadata": {
    "cellUniqueIdByVincent": "05ed7",
    "execution": {
     "iopub.execute_input": "2025-07-19T02:12:34.173684Z",
     "iopub.status.busy": "2025-07-19T02:12:34.172685Z",
     "iopub.status.idle": "2025-07-19T02:12:35.597316Z",
     "shell.execute_reply": "2025-07-19T02:12:35.455498Z",
     "shell.execute_reply.started": "2025-07-19T02:12:34.173684Z"
    }
   },
   "outputs": [],
   "source": [
    "driver.get(url)"
   ]
  },
  {
   "cell_type": "markdown",
   "id": "788c6114",
   "metadata": {
    "cellUniqueIdByVincent": "8ebd2"
   },
   "source": [
    "# Input Data"
   ]
  },
  {
   "cell_type": "code",
   "execution_count": 18,
   "id": "8ee51f4d",
   "metadata": {
    "cellUniqueIdByVincent": "f3824",
    "execution": {
     "iopub.execute_input": "2025-07-19T02:12:35.624442Z",
     "iopub.status.busy": "2025-07-19T02:12:35.623443Z",
     "iopub.status.idle": "2025-07-19T02:12:39.239395Z",
     "shell.execute_reply": "2025-07-19T02:12:39.200197Z",
     "shell.execute_reply.started": "2025-07-19T02:12:35.624442Z"
    }
   },
   "outputs": [],
   "source": [
    "data = pd.read_excel('data.xlsx')"
   ]
  },
  {
   "cell_type": "code",
   "execution_count": 19,
   "id": "853e0d12",
   "metadata": {
    "cellUniqueIdByVincent": "6cb9a",
    "execution": {
     "iopub.execute_input": "2025-07-19T02:12:39.412031Z",
     "iopub.status.busy": "2025-07-19T02:12:39.409484Z",
     "iopub.status.idle": "2025-07-19T02:12:39.789124Z",
     "shell.execute_reply": "2025-07-19T02:12:39.768020Z",
     "shell.execute_reply.started": "2025-07-19T02:12:39.412031Z"
    }
   },
   "outputs": [
    {
     "data": {
      "text/html": [
       "<div>\n",
       "<style scoped>\n",
       "    .dataframe tbody tr th:only-of-type {\n",
       "        vertical-align: middle;\n",
       "    }\n",
       "\n",
       "    .dataframe tbody tr th {\n",
       "        vertical-align: top;\n",
       "    }\n",
       "\n",
       "    .dataframe thead th {\n",
       "        text-align: right;\n",
       "    }\n",
       "</style>\n",
       "<table border=\"1\" class=\"dataframe\">\n",
       "  <thead>\n",
       "    <tr style=\"text-align: right;\">\n",
       "      <th></th>\n",
       "      <th>nama</th>\n",
       "      <th>password</th>\n",
       "      <th>tanggal_lahir</th>\n",
       "      <th>komentar</th>\n",
       "      <th>gender</th>\n",
       "      <th>hobi</th>\n",
       "      <th>job</th>\n",
       "    </tr>\n",
       "  </thead>\n",
       "  <tbody>\n",
       "    <tr>\n",
       "      <th>0</th>\n",
       "      <td>Budi Santoso</td>\n",
       "      <td>pass123</td>\n",
       "      <td>1990-05-15</td>\n",
       "      <td>Ini adalah komentar percobaan.</td>\n",
       "      <td>male</td>\n",
       "      <td>membaca</td>\n",
       "      <td>Mahasiswa</td>\n",
       "    </tr>\n",
       "    <tr>\n",
       "      <th>1</th>\n",
       "      <td>Siti Aminah</td>\n",
       "      <td>securepass</td>\n",
       "      <td>1992-11-23</td>\n",
       "      <td>Komentar lain di sini.</td>\n",
       "      <td>female</td>\n",
       "      <td>nonton</td>\n",
       "      <td>Pelajar</td>\n",
       "    </tr>\n",
       "    <tr>\n",
       "      <th>2</th>\n",
       "      <td>Agus Setiawan</td>\n",
       "      <td>mysecret</td>\n",
       "      <td>1985-01-01</td>\n",
       "      <td>Catatan singkat saja.</td>\n",
       "      <td>male</td>\n",
       "      <td>tidur</td>\n",
       "      <td>PNS</td>\n",
       "    </tr>\n",
       "    <tr>\n",
       "      <th>3</th>\n",
       "      <td>Dewi Lestari</td>\n",
       "      <td>passwordABC</td>\n",
       "      <td>1998-07-30</td>\n",
       "      <td>Halo semuanya!</td>\n",
       "      <td>female</td>\n",
       "      <td>membaca</td>\n",
       "      <td>Swasta</td>\n",
       "    </tr>\n",
       "    <tr>\n",
       "      <th>4</th>\n",
       "      <td>Rizky Pratama</td>\n",
       "      <td>123xyz</td>\n",
       "      <td>1975-03-10</td>\n",
       "      <td>Beberapa pemikiran acak.</td>\n",
       "      <td>male</td>\n",
       "      <td>nonton</td>\n",
       "      <td>Wiraswasta</td>\n",
       "    </tr>\n",
       "    <tr>\n",
       "      <th>...</th>\n",
       "      <td>...</td>\n",
       "      <td>...</td>\n",
       "      <td>...</td>\n",
       "      <td>...</td>\n",
       "      <td>...</td>\n",
       "      <td>...</td>\n",
       "      <td>...</td>\n",
       "    </tr>\n",
       "    <tr>\n",
       "      <th>1426</th>\n",
       "      <td>Vicky Pratama</td>\n",
       "      <td>secret_cassiterite</td>\n",
       "      <td>1982-08-22</td>\n",
       "      <td>Ini adalah komentar yang sangat dasar.</td>\n",
       "      <td>male</td>\n",
       "      <td>nonton</td>\n",
       "      <td>Lainnya</td>\n",
       "    </tr>\n",
       "    <tr>\n",
       "      <th>1427</th>\n",
       "      <td>Wati Susanti</td>\n",
       "      <td>secure_cassiterite</td>\n",
       "      <td>1991-11-11</td>\n",
       "      <td>Komentar tes lain.</td>\n",
       "      <td>female</td>\n",
       "      <td>membaca</td>\n",
       "      <td>Pelajar</td>\n",
       "    </tr>\n",
       "    <tr>\n",
       "      <th>1428</th>\n",
       "      <td>Xavier Wijaya</td>\n",
       "      <td>my_cassiterite</td>\n",
       "      <td>1978-04-19</td>\n",
       "      <td>Beberapa teks acak.</td>\n",
       "      <td>male</td>\n",
       "      <td>tidur</td>\n",
       "      <td>PNS</td>\n",
       "    </tr>\n",
       "    <tr>\n",
       "      <th>1429</th>\n",
       "      <td>Yuni Sari</td>\n",
       "      <td>pass_celestite</td>\n",
       "      <td>2016-03-17</td>\n",
       "      <td>Hanya pesan singkat.</td>\n",
       "      <td>female</td>\n",
       "      <td>nonton</td>\n",
       "      <td>Mahasiswa</td>\n",
       "    </tr>\n",
       "    <tr>\n",
       "      <th>1430</th>\n",
       "      <td>Zaky Ramadhan</td>\n",
       "      <td>secret_celestite</td>\n",
       "      <td>1983-10-20</td>\n",
       "      <td>Lebih banyak teks untuk formulir.</td>\n",
       "      <td>male</td>\n",
       "      <td>membaca</td>\n",
       "      <td>Swasta</td>\n",
       "    </tr>\n",
       "  </tbody>\n",
       "</table>\n",
       "<p>1431 rows × 7 columns</p>\n",
       "</div>"
      ],
      "text/plain": [
       "               nama            password tanggal_lahir  \\\n",
       "0      Budi Santoso             pass123    1990-05-15   \n",
       "1       Siti Aminah          securepass    1992-11-23   \n",
       "2     Agus Setiawan            mysecret    1985-01-01   \n",
       "3      Dewi Lestari         passwordABC    1998-07-30   \n",
       "4     Rizky Pratama              123xyz    1975-03-10   \n",
       "...             ...                 ...           ...   \n",
       "1426  Vicky Pratama  secret_cassiterite    1982-08-22   \n",
       "1427   Wati Susanti  secure_cassiterite    1991-11-11   \n",
       "1428  Xavier Wijaya      my_cassiterite    1978-04-19   \n",
       "1429      Yuni Sari      pass_celestite    2016-03-17   \n",
       "1430  Zaky Ramadhan    secret_celestite    1983-10-20   \n",
       "\n",
       "                                    komentar  gender     hobi         job  \n",
       "0             Ini adalah komentar percobaan.    male  membaca   Mahasiswa  \n",
       "1                     Komentar lain di sini.  female   nonton     Pelajar  \n",
       "2                      Catatan singkat saja.    male    tidur         PNS  \n",
       "3                             Halo semuanya!  female  membaca      Swasta  \n",
       "4                   Beberapa pemikiran acak.    male   nonton  Wiraswasta  \n",
       "...                                      ...     ...      ...         ...  \n",
       "1426  Ini adalah komentar yang sangat dasar.    male   nonton     Lainnya  \n",
       "1427                      Komentar tes lain.  female  membaca     Pelajar  \n",
       "1428                     Beberapa teks acak.    male    tidur         PNS  \n",
       "1429                    Hanya pesan singkat.  female   nonton   Mahasiswa  \n",
       "1430       Lebih banyak teks untuk formulir.    male  membaca      Swasta  \n",
       "\n",
       "[1431 rows x 7 columns]"
      ]
     },
     "execution_count": 19,
     "metadata": {},
     "output_type": "execute_result"
    }
   ],
   "source": [
    "data"
   ]
  },
  {
   "cell_type": "code",
   "execution_count": 20,
   "id": "7ef936c0",
   "metadata": {
    "cellUniqueIdByVincent": "b7b89",
    "execution": {
     "iopub.execute_input": "2025-07-19T02:12:39.825988Z",
     "iopub.status.busy": "2025-07-19T02:12:39.817913Z",
     "iopub.status.idle": "2025-07-19T02:14:06.325177Z",
     "shell.execute_reply": "2025-07-19T02:14:06.322650Z",
     "shell.execute_reply.started": "2025-07-19T02:12:39.824989Z"
    }
   },
   "outputs": [
    {
     "name": "stdout",
     "output_type": "stream",
     "text": [
      "Menginput: Budi Santoso\n",
      "Menginput: Siti Aminah\n",
      "Menginput: Agus Setiawan\n",
      "Menginput: Dewi Lestari\n",
      "Menginput: Rizky Pratama\n",
      "Menginput: Putri Indah\n",
      "Menginput: Faisal Rahman\n",
      "Menginput: Nurul Hidayah\n",
      "Menginput: Arif Wicaksono\n",
      "Menginput: Fitriani Dewi\n"
     ]
    }
   ],
   "source": [
    "for index, d in data.head(10).iterrows():\n",
    "    driver.find_element(By.XPATH, '//input[@name=\"name\"]').clear()\n",
    "    driver.find_element(By.XPATH, '//input[@name=\"name\"]').send_keys(d['nama'])\n",
    "\n",
    "    driver.find_element(By.XPATH, '//input[@type=\"password\"]').clear()\n",
    "    driver.find_element(By.XPATH, '//input[@type=\"password\"]').send_keys(d['password'])\n",
    "\n",
    "    driver.find_element(By.XPATH, '//input[@id=\"tanggal_lahir\"]').send_keys(d['tanggal_lahir'].strftime('%d/%m/%Y'))\n",
    "\n",
    "    driver.find_element(By.XPATH, '//textarea').clear()\n",
    "    driver.find_element(By.XPATH, '//textarea').send_keys(d['komentar'])\n",
    "\n",
    "    xpath = '//input[@name=\"gender\" and @value=\\\"' + d['gender'] + '\\\"]'\n",
    "    driver.find_element(By.XPATH, xpath).click()\n",
    "    \n",
    "    for h in d['hobi']:\n",
    "        driver.find_element(By.XPATH, f'//input[@type=\"checkbox\" and @value=\"{d['hobi']}\"]').click()\n",
    "\n",
    "    select = Select(driver.find_element(By.XPATH, '//select[@name=\"job\"]'))\n",
    "    select.select_by_visible_text(d['job'])\n",
    "\n",
    "    driver.find_element(By.XPATH, '//input[@type=\"submit\"]').click()\n",
    "\n",
    "    print('Menginput:', d['nama'])\n",
    "    time.sleep(3)"
   ]
  },
  {
   "cell_type": "code",
   "execution_count": null,
   "id": "3c932ab9",
   "metadata": {
    "cellUniqueIdByVincent": "f51d7"
   },
   "outputs": [],
   "source": []
  },
  {
   "cell_type": "code",
   "execution_count": null,
   "id": "903a6c66",
   "metadata": {
    "cellUniqueIdByVincent": "7880b"
   },
   "outputs": [],
   "source": []
  }
 ],
 "metadata": {
  "kernelspec": {
   "display_name": "basangdata12",
   "language": "python",
   "name": "python3"
  },
  "language_info": {
   "codemirror_mode": {
    "name": "ipython",
    "version": 3
   },
   "file_extension": ".py",
   "mimetype": "text/x-python",
   "name": "python",
   "nbconvert_exporter": "python",
   "pygments_lexer": "ipython3",
   "version": "3.12.9"
  },
  "vincent": {
   "sessionId": "8c6418b9157e48bd52dcfc46_2025-07-19T01-53-52-803Z"
  }
 },
 "nbformat": 4,
 "nbformat_minor": 5
}
